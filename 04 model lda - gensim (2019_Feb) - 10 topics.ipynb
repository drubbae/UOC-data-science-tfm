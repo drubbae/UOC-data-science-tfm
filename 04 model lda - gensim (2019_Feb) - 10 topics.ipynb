{
 "cells": [
  {
   "cell_type": "markdown",
   "metadata": {},
   "source": [
    "# <span style=\"color:blue\">LDA model (2019_Feb) - 10 topics</span>"
   ]
  },
  {
   "cell_type": "code",
   "execution_count": 1,
   "metadata": {},
   "outputs": [],
   "source": [
    "yyyy_MMM = '2019_Feb'"
   ]
  },
  {
   "cell_type": "markdown",
   "metadata": {},
   "source": [
    "### Load packages"
   ]
  },
  {
   "cell_type": "code",
   "execution_count": 2,
   "metadata": {},
   "outputs": [
    {
     "name": "stderr",
     "output_type": "stream",
     "text": [
      "C:\\Users\\minio\\anaconda3\\envs\\tfm-py-37\\lib\\site-packages\\botocore\\vendored\\requests\\packages\\urllib3\\_collections.py:1: DeprecationWarning: Using or importing the ABCs from 'collections' instead of from 'collections.abc' is deprecated since Python 3.3,and in 3.9 it will stop working\n",
      "  from collections import Mapping, MutableMapping\n",
      "C:\\Users\\minio\\anaconda3\\envs\\tfm-py-37\\lib\\site-packages\\botocore\\vendored\\requests\\packages\\urllib3\\_collections.py:1: DeprecationWarning: Using or importing the ABCs from 'collections' instead of from 'collections.abc' is deprecated since Python 3.3,and in 3.9 it will stop working\n",
      "  from collections import Mapping, MutableMapping\n",
      "C:\\Users\\minio\\anaconda3\\envs\\tfm-py-37\\lib\\site-packages\\scipy\\sparse\\sparsetools.py:21: DeprecationWarning: `scipy.sparse.sparsetools` is deprecated!\n",
      "scipy.sparse.sparsetools is a private module for scipy.sparse, and should not be used.\n",
      "  _deprecated()\n",
      "C:\\Users\\minio\\anaconda3\\envs\\tfm-py-37\\lib\\site-packages\\gensim\\models\\doc2vec.py:73: DeprecationWarning: Using or importing the ABCs from 'collections' instead of from 'collections.abc' is deprecated since Python 3.3,and in 3.9 it will stop working\n",
      "  from collections import namedtuple, defaultdict, Iterable\n",
      "[nltk_data] Downloading package stopwords to\n",
      "[nltk_data]     C:\\Users\\minio\\AppData\\Roaming\\nltk_data...\n",
      "[nltk_data]   Package stopwords is already up-to-date!\n",
      "[nltk_data] Downloading package averaged_perceptron_tagger to\n",
      "[nltk_data]     C:\\Users\\minio\\AppData\\Roaming\\nltk_data...\n",
      "[nltk_data]   Package averaged_perceptron_tagger is already up-to-\n",
      "[nltk_data]       date!\n"
     ]
    },
    {
     "data": {
      "text/plain": [
       "True"
      ]
     },
     "execution_count": 2,
     "metadata": {},
     "output_type": "execute_result"
    }
   ],
   "source": [
    "import csv, os, re, time\n",
    "import numpy as np\n",
    "from numpy import savetxt\n",
    "import pandas as  pd\n",
    "import matplotlib.pyplot as plt  \n",
    "import pyLDAvis\n",
    "import pyLDAvis.gensim\n",
    "import gensim\n",
    "import gensim.corpora as corpora\n",
    "from gensim.corpora.dictionary import Dictionary\n",
    "from gensim.models import CoherenceModel\n",
    "from gensim.test.utils import datapath\n",
    "from gensim.utils import simple_preprocess\n",
    "from pprint import pprint\n",
    "import nltk\n",
    "nltk.download('stopwords')\n",
    "nltk.download('averaged_perceptron_tagger')"
   ]
  },
  {
   "cell_type": "markdown",
   "metadata": {},
   "source": [
    "### Constants"
   ]
  },
  {
   "cell_type": "code",
   "execution_count": 3,
   "metadata": {},
   "outputs": [
    {
     "name": "stdout",
     "output_type": "stream",
     "text": [
      "D:\\master\\data science\\semestre 4\\M2.979 - tfm\\data\\bins\\doc\\2019_Feb\\2019_Feb_28_results.csv\n",
      "D:\\master\\data science\\semestre 4\\M2.979 - tfm\\data\\bins\\model\\2019_Feb\\model\n"
     ]
    },
    {
     "name": "stderr",
     "output_type": "stream",
     "text": [
      "C:\\Users\\minio\\anaconda3\\envs\\tfm-py-37\\lib\\site-packages\\ipykernel\\ipkernel.py:287: DeprecationWarning: `should_run_async` will not call `transform_cell` automatically in the future. Please pass the result to `transformed_cell` argument and any exception that happen during thetransform in `preprocessing_exc_tuple` in IPython 7.17 and above.\n",
      "  and should_run_async(code)\n"
     ]
    }
   ],
   "source": [
    "# for reproducible results\n",
    "random_state = 33\n",
    "# if the test is True, the process runs on a smaller subset of raw data (json files)\n",
    "test = False\n",
    "# if sample > 0, then we take a sample of the entire dataset (for debugging purpose)\n",
    "sample = 0\n",
    "# parameters to build the lda model\n",
    "num_topics = 10\n",
    "\n",
    "if test:\n",
    "    # path with the documents preprocessed\n",
    "    path_doc = r'D:\\master\\data science\\semestre 4\\M2.979 - tfm\\data\\bins_test\\doc'\n",
    "    # path where store all data/results related to the model\n",
    "    path_model = r'D:\\master\\data science\\semestre 4\\M2.979 - tfm\\data\\bins_test\\model'\n",
    "    # chunksize to build LDA model\n",
    "    chunksize = 250\n",
    "else:\n",
    "    # path with the documents preprocessed\n",
    "    path_doc = r'D:\\master\\data science\\semestre 4\\M2.979 - tfm\\data\\bins\\doc'\n",
    "    # path where store all data/results related to the model\n",
    "    path_model = r'D:\\master\\data science\\semestre 4\\M2.979 - tfm\\data\\bins\\model'\n",
    "    # chunksize to build LDA model\n",
    "    chunksize = 5000\n",
    "\n",
    "# path + name of the file that contains the documents preprocessed\n",
    "file_doc = os.path.join(path_doc, yyyy_MMM, yyyy_MMM) + '_28_results.csv'\n",
    "# path + name of the file that contains the model gotten at the end\n",
    "file_model = os.path.join(path_model, yyyy_MMM, 'model')\n",
    "print(file_doc)\n",
    "print(file_model)"
   ]
  },
  {
   "cell_type": "markdown",
   "metadata": {},
   "source": [
    "### Load data preprocessed"
   ]
  },
  {
   "cell_type": "code",
   "execution_count": 4,
   "metadata": {},
   "outputs": [
    {
     "name": "stderr",
     "output_type": "stream",
     "text": [
      "C:\\Users\\minio\\anaconda3\\envs\\tfm-py-37\\lib\\site-packages\\ipykernel\\ipkernel.py:287: DeprecationWarning: `should_run_async` will not call `transform_cell` automatically in the future. Please pass the result to `transformed_cell` argument and any exception that happen during thetransform in `preprocessing_exc_tuple` in IPython 7.17 and above.\n",
      "  and should_run_async(code)\n"
     ]
    },
    {
     "data": {
      "text/plain": [
       "id_doc\n",
       "2951573    ['steppin', 'season', 'hair', 'attitude', 'eee...\n",
       "1822416    ['comfortable', 'express', 'boundary', 'uncomf...\n",
       "2615526                         ['random', 'fabric', 'fold']\n",
       "2240482    ['aiya', 'veggie', 'harder', 'expect', 'live',...\n",
       "2202972                                          ['clothes']\n",
       "2265680                     ['throwback', 'omega', 'choice']\n",
       "2760729                                ['everyday', 'cheat']\n",
       "2726391    ['island', 'hour', 'place', 'guess', 'healthy'...\n",
       "2797483    ['post', 'workout', 'video', 'record', 'year',...\n",
       "2360391               ['finally', 'visit', 'nova', 'scotia']\n",
       "Name: content_preprocessed, dtype: object"
      ]
     },
     "execution_count": 4,
     "metadata": {},
     "output_type": "execute_result"
    }
   ],
   "source": [
    "df = pd.read_csv(file_doc, index_col='id_doc')\n",
    "documents = df.content_preprocessed\n",
    "documents.head(10)"
   ]
  },
  {
   "cell_type": "markdown",
   "metadata": {},
   "source": [
    "### Shuffle"
   ]
  },
  {
   "cell_type": "code",
   "execution_count": 5,
   "metadata": {},
   "outputs": [
    {
     "name": "stderr",
     "output_type": "stream",
     "text": [
      "C:\\Users\\minio\\anaconda3\\envs\\tfm-py-37\\lib\\site-packages\\ipykernel\\ipkernel.py:287: DeprecationWarning: `should_run_async` will not call `transform_cell` automatically in the future. Please pass the result to `transformed_cell` argument and any exception that happen during thetransform in `preprocessing_exc_tuple` in IPython 7.17 and above.\n",
      "  and should_run_async(code)\n"
     ]
    },
    {
     "data": {
      "text/plain": [
       "id_doc\n",
       "2433880    ['fourth', 'strong', 'cafe', 'open', 'door', '...\n",
       "2604364    ['forward', 'summer', 'chicken', 'fulk', 'desi...\n",
       "2663360    ['initial', 'clean', 'clear', 'design', 'leath...\n",
       "3051003    ['beauty', 'cosmetic', 'green', 'dragon', 'leg...\n",
       "1915431    ['panas', 'bookshop', 'fauve', 'dream', 'virgi...\n",
       "2601517    ['find', 'anna', 'karin', 'karlsson', 'collect...\n",
       "2216972    ['hola', 'chicas', 'hola', 'ibiza', 'good', 'v...\n",
       "2033688    ['maternity', 'dress', 'peony', 'pregnant', 't...\n",
       "1960555    ['anniversary', 'vogue', 'talent', 'vogue', 't...\n",
       "2399549    ['diary', 'beauty', 'addict', 'food', 'food', ...\n",
       "Name: content_preprocessed, dtype: object"
      ]
     },
     "execution_count": 5,
     "metadata": {},
     "output_type": "execute_result"
    }
   ],
   "source": [
    "documents = documents.sample(frac=1, random_state=random_state)\n",
    "documents.head(10)"
   ]
  },
  {
   "cell_type": "markdown",
   "metadata": {},
   "source": [
    "### Sample"
   ]
  },
  {
   "cell_type": "code",
   "execution_count": 6,
   "metadata": {},
   "outputs": [
    {
     "name": "stderr",
     "output_type": "stream",
     "text": [
      "C:\\Users\\minio\\anaconda3\\envs\\tfm-py-37\\lib\\site-packages\\ipykernel\\ipkernel.py:287: DeprecationWarning: `should_run_async` will not call `transform_cell` automatically in the future. Please pass the result to `transformed_cell` argument and any exception that happen during thetransform in `preprocessing_exc_tuple` in IPython 7.17 and above.\n",
      "  and should_run_async(code)\n"
     ]
    }
   ],
   "source": [
    "if sample > 0:\n",
    "    documents = documents.sample(n=sample, random_state=random_state)\n",
    "    print(documents.head(10))"
   ]
  },
  {
   "cell_type": "markdown",
   "metadata": {},
   "source": [
    "### Plot the number of words appearing in each document  \n",
    "\n",
    "https://neptune.ai/blog/exploratory-data-analysis-natural-language-processing-tools"
   ]
  },
  {
   "cell_type": "code",
   "execution_count": 7,
   "metadata": {},
   "outputs": [
    {
     "name": "stderr",
     "output_type": "stream",
     "text": [
      "C:\\Users\\minio\\anaconda3\\envs\\tfm-py-37\\lib\\site-packages\\ipykernel\\ipkernel.py:287: DeprecationWarning: `should_run_async` will not call `transform_cell` automatically in the future. Please pass the result to `transformed_cell` argument and any exception that happen during thetransform in `preprocessing_exc_tuple` in IPython 7.17 and above.\n",
      "  and should_run_async(code)\n"
     ]
    },
    {
     "name": "stdout",
     "output_type": "stream",
     "text": [
      "(103199,)\n"
     ]
    },
    {
     "data": {
      "text/plain": [
       "<AxesSubplot:>"
      ]
     },
     "execution_count": 7,
     "metadata": {},
     "output_type": "execute_result"
    },
    {
     "data": {
      "image/png": "[encoded data removed]",
      "text/plain": [
       "<Figure size 432x288 with 1 Axes>"
      ]
     },
     "metadata": {
      "needs_background": "light"
     },
     "output_type": "display_data"
    }
   ],
   "source": [
    "print(documents.shape)\n",
    "\n",
    "documents.str.split().\\\n",
    "    map(lambda x: len(x)).\\\n",
    "    hist()"
   ]
  },
  {
   "cell_type": "markdown",
   "metadata": {},
   "source": [
    "### Remove words that appear only once"
   ]
  },
  {
   "cell_type": "code",
   "execution_count": 8,
   "metadata": {},
   "outputs": [
    {
     "name": "stderr",
     "output_type": "stream",
     "text": [
      "C:\\Users\\minio\\anaconda3\\envs\\tfm-py-37\\lib\\site-packages\\ipykernel\\ipkernel.py:287: DeprecationWarning: `should_run_async` will not call `transform_cell` automatically in the future. Please pass the result to `transformed_cell` argument and any exception that happen during thetransform in `preprocessing_exc_tuple` in IPython 7.17 and above.\n",
      "  and should_run_async(code)\n"
     ]
    }
   ],
   "source": [
    "####################### PENDING"
   ]
  },
  {
   "cell_type": "markdown",
   "metadata": {},
   "source": [
    "### Tokenize words and Clean-up text"
   ]
  },
  {
   "cell_type": "code",
   "execution_count": 9,
   "metadata": {},
   "outputs": [
    {
     "name": "stderr",
     "output_type": "stream",
     "text": [
      "C:\\Users\\minio\\anaconda3\\envs\\tfm-py-37\\lib\\site-packages\\ipykernel\\ipkernel.py:287: DeprecationWarning: `should_run_async` will not call `transform_cell` automatically in the future. Please pass the result to `transformed_cell` argument and any exception that happen during thetransform in `preprocessing_exc_tuple` in IPython 7.17 and above.\n",
      "  and should_run_async(code)\n"
     ]
    }
   ],
   "source": [
    "# https://www.machinelearningplus.com/nlp/topic-modeling-gensim-python/#3importpackages\n",
    "def sent_to_words(sentences):\n",
    "    for sentence in sentences:\n",
    "        yield(gensim.utils.simple_preprocess(str(sentence), deacc=True))  # deacc=True removes punctuations"
   ]
  },
  {
   "cell_type": "markdown",
   "metadata": {},
   "source": [
    "### Compute bigrams & trigrams  \n",
    "\n",
    "https://radimrehurek.com/gensim/auto_examples/tutorials/run_lda.html#pre-process-and-vectorize-the-documents"
   ]
  },
  {
   "cell_type": "code",
   "execution_count": 10,
   "metadata": {},
   "outputs": [
    {
     "name": "stderr",
     "output_type": "stream",
     "text": [
      "C:\\Users\\minio\\anaconda3\\envs\\tfm-py-37\\lib\\site-packages\\ipykernel\\ipkernel.py:287: DeprecationWarning: `should_run_async` will not call `transform_cell` automatically in the future. Please pass the result to `transformed_cell` argument and any exception that happen during thetransform in `preprocessing_exc_tuple` in IPython 7.17 and above.\n",
      "  and should_run_async(code)\n"
     ]
    }
   ],
   "source": [
    "from gensim.models import Phrases\n",
    "\n",
    "# Add bigrams and trigrams to docs (only ones that appear min_count times or more).\n",
    "def bi_tri_grams(documents, min_count):\n",
    "    bigram = Phrases(documents, min_count=min_count)\n",
    "    for idx in range(len(documents)):\n",
    "        for token in bigram[documents[idx]]:\n",
    "            if '_' in token:\n",
    "                # Token is a bigram, add to document.\n",
    "                documents[idx].append(token)"
   ]
  },
  {
   "cell_type": "markdown",
   "metadata": {},
   "source": [
    "### Categorizing and tagging words"
   ]
  },
  {
   "cell_type": "code",
   "execution_count": 11,
   "metadata": {},
   "outputs": [
    {
     "name": "stderr",
     "output_type": "stream",
     "text": [
      "C:\\Users\\minio\\anaconda3\\envs\\tfm-py-37\\lib\\site-packages\\ipykernel\\ipkernel.py:287: DeprecationWarning: `should_run_async` will not call `transform_cell` automatically in the future. Please pass the result to `transformed_cell` argument and any exception that happen during thetransform in `preprocessing_exc_tuple` in IPython 7.17 and above.\n",
      "  and should_run_async(code)\n"
     ]
    }
   ],
   "source": [
    "# function to remove accented characters\n",
    "def tag_words(text):\n",
    "    tags = nltk.pos_tag(text)\n",
    "    nouns = [word for word, pos in tags if (pos == 'NN' or pos == 'NNP' or pos == 'NNS' or pos == 'NNPS')]\n",
    "    return nouns"
   ]
  },
  {
   "cell_type": "markdown",
   "metadata": {},
   "source": [
    "### Dictionary with the entire dataset"
   ]
  },
  {
   "cell_type": "code",
   "execution_count": 12,
   "metadata": {},
   "outputs": [
    {
     "name": "stderr",
     "output_type": "stream",
     "text": [
      "C:\\Users\\minio\\anaconda3\\envs\\tfm-py-37\\lib\\site-packages\\ipykernel\\ipkernel.py:287: DeprecationWarning: `should_run_async` will not call `transform_cell` automatically in the future. Please pass the result to `transformed_cell` argument and any exception that happen during thetransform in `preprocessing_exc_tuple` in IPython 7.17 and above.\n",
      "  and should_run_async(code)\n"
     ]
    }
   ],
   "source": [
    "data_words = list(sent_to_words(documents))\n",
    "# Compute bigrams & trigrams\n",
    "bi_tri_grams(data_words, 250)\n",
    "# Categorizing and tagging words\n",
    "data_words = list(map(tag_words, data_words))\n",
    "# Create Dictionary\n",
    "id2word = Dictionary(data_words)\n",
    "# Create Corpus\n",
    "texts = data_words\n",
    "# Term Document Frequency\n",
    "corpus_total = [id2word.doc2bow(text) for text in texts]"
   ]
  },
  {
   "cell_type": "markdown",
   "metadata": {},
   "source": [
    "### Save document-term matrix"
   ]
  },
  {
   "cell_type": "code",
   "execution_count": 13,
   "metadata": {},
   "outputs": [
    {
     "name": "stderr",
     "output_type": "stream",
     "text": [
      "C:\\Users\\minio\\anaconda3\\envs\\tfm-py-37\\lib\\site-packages\\ipykernel\\ipkernel.py:287: DeprecationWarning: `should_run_async` will not call `transform_cell` automatically in the future. Please pass the result to `transformed_cell` argument and any exception that happen during thetransform in `preprocessing_exc_tuple` in IPython 7.17 and above.\n",
      "  and should_run_async(code)\n",
      "C:\\Users\\minio\\anaconda3\\envs\\tfm-py-37\\lib\\site-packages\\numpy\\core\\_asarray.py:83: VisibleDeprecationWarning: Creating an ndarray from ragged nested sequences (which is a list-or-tuple of lists-or-tuples-or ndarrays with different lengths or shapes) is deprecated. If you meant to do this, you must specify 'dtype=object' when creating the ndarray\n",
      "  return array(a, dtype, copy=False, order=order)\n"
     ]
    }
   ],
   "source": [
    "# save document-term matrix\n",
    "savetxt(file_model + '_document_term_matrix.csv', corpus_total, delimiter=',', fmt='% s')"
   ]
  },
  {
   "cell_type": "markdown",
   "metadata": {},
   "source": [
    "### Build LDA model"
   ]
  },
  {
   "cell_type": "code",
   "execution_count": 14,
   "metadata": {},
   "outputs": [
    {
     "name": "stderr",
     "output_type": "stream",
     "text": [
      "C:\\Users\\minio\\anaconda3\\envs\\tfm-py-37\\lib\\site-packages\\ipykernel\\ipkernel.py:287: DeprecationWarning: `should_run_async` will not call `transform_cell` automatically in the future. Please pass the result to `transformed_cell` argument and any exception that happen during thetransform in `preprocessing_exc_tuple` in IPython 7.17 and above.\n",
      "  and should_run_async(code)\n"
     ]
    },
    {
     "name": "stdout",
     "output_type": "stream",
     "text": [
      "time elapsed - 00:00:44.85\n"
     ]
    }
   ],
   "source": [
    "perplexity_score = []\n",
    "coherence_score = []\n",
    "indixes = []\n",
    "\n",
    "index = 0\n",
    "chunk_size = 250\n",
    "documents_sample = documents[index:chunk_size-1]\n",
    "\n",
    "time_start = time.time()\n",
    "\n",
    "data_words = list(sent_to_words(documents_sample))\n",
    "# Compute bigrams & trigrams\n",
    "bi_tri_grams(data_words, 250)\n",
    "# Categorizing and tagging words\n",
    "data_words = list(map(tag_words, data_words))\n",
    "# # Create Dictionary\n",
    "# id2word = Dictionary(data_words)\n",
    "# Create Corpus\n",
    "texts = data_words\n",
    "# Term Document Frequency\n",
    "corpus = [id2word.doc2bow(text) for text in texts]\n",
    "# Build LDA Model\n",
    "lda_model = gensim.models.LdaMulticore(corpus=corpus\n",
    "                                       ,id2word=id2word\n",
    "                                       ,num_topics=num_topics\n",
    "                                       ,random_state=random_state\n",
    "                                       ,chunksize=chunksize\n",
    "                                       ,passes=50\n",
    "                                       ,per_word_topics=True)\n",
    "\n",
    "indixes.append(index)\n",
    "\n",
    "# Evaluate LDA Model\n",
    "# Compute Perplexity Score\n",
    "perplexity = lda_model.log_perplexity(corpus)\n",
    "perplexity_score.append(perplexity)\n",
    "\n",
    "# Evaluate LDA Model\n",
    "# Compute Coherence Score\n",
    "coherence_lda_model = CoherenceModel(model=lda_model, texts=data_words, dictionary=id2word, coherence='c_v')\n",
    "coherence = coherence_lda_model.get_coherence()\n",
    "coherence_score.append(coherence)\n",
    "\n",
    "# Save LDA Model\n",
    "temp_file = datapath(file_model)\n",
    "lda_model.save(temp_file)\n",
    "temp_file = datapath(file_model + '_' + str(index).zfill(5))\n",
    "lda_model.save(temp_file)\n",
    "\n",
    "time_end = time.time()\n",
    "hour, rem = divmod(time_end - time_start, 3600)\n",
    "minute, second = divmod(rem, 60)\n",
    "print('time elapsed - {:0>2}:{:0>2}:{:05.2f}'.format(int(hour), int(minute), second))"
   ]
  },
  {
   "cell_type": "markdown",
   "metadata": {},
   "source": [
    "### Incremental learning"
   ]
  },
  {
   "cell_type": "code",
   "execution_count": 15,
   "metadata": {},
   "outputs": [
    {
     "name": "stdout",
     "output_type": "stream",
     "text": [
      "0  -----  250  -----  499\n"
     ]
    },
    {
     "name": "stderr",
     "output_type": "stream",
     "text": [
      "C:\\Users\\minio\\anaconda3\\envs\\tfm-py-37\\lib\\site-packages\\ipykernel\\ipkernel.py:287: DeprecationWarning: `should_run_async` will not call `transform_cell` automatically in the future. Please pass the result to `transformed_cell` argument and any exception that happen during thetransform in `preprocessing_exc_tuple` in IPython 7.17 and above.\n",
      "  and should_run_async(code)\n"
     ]
    },
    {
     "name": "stdout",
     "output_type": "stream",
     "text": [
      "time elapsed - 00:00:43.17\n",
      "1  -----  500  -----  749\n",
      "time elapsed - 00:00:42.98\n",
      "2  -----  750  -----  999\n",
      "time elapsed - 00:00:42.21\n",
      "3  -----  1000  -----  1249\n",
      "time elapsed - 00:00:44.04\n",
      "4  -----  1250  -----  1499\n",
      "time elapsed - 00:00:41.10\n",
      "5  -----  1500  -----  1749\n",
      "time elapsed - 00:00:42.14\n",
      "6  -----  1750  -----  1999\n",
      "time elapsed - 00:00:44.39\n",
      "7  -----  2000  -----  2249\n",
      "time elapsed - 00:00:43.51\n",
      "8  -----  2250  -----  2499\n",
      "time elapsed - 00:00:40.85\n",
      "9  -----  2500  -----  2749\n",
      "time elapsed - 00:00:43.10\n",
      "10  -----  2750  -----  2999\n",
      "time elapsed - 00:00:42.71\n",
      "11  -----  3000  -----  3249\n",
      "time elapsed - 00:00:42.03\n",
      "12  -----  3250  -----  3499\n"
     ]
    },
    {
     "name": "stderr",
     "output_type": "stream",
     "text": [
      "C:\\Users\\minio\\anaconda3\\envs\\tfm-py-37\\lib\\site-packages\\gensim\\topic_coherence\\direct_confirmation_measure.py:204: RuntimeWarning: divide by zero encountered in double_scalars\n",
      "  m_lr_i = np.log(numerator / denominator)\n",
      "C:\\Users\\minio\\anaconda3\\envs\\tfm-py-37\\lib\\site-packages\\gensim\\topic_coherence\\indirect_confirmation_measure.py:323: RuntimeWarning: invalid value encountered in double_scalars\n",
      "  return cv1.T.dot(cv2)[0, 0] / (_magnitude(cv1) * _magnitude(cv2))\n"
     ]
    },
    {
     "name": "stdout",
     "output_type": "stream",
     "text": [
      "time elapsed - 00:00:43.88\n",
      "13  -----  3500  -----  3749\n",
      "time elapsed - 00:00:44.58\n",
      "14  -----  3750  -----  3999\n"
     ]
    },
    {
     "name": "stderr",
     "output_type": "stream",
     "text": [
      "C:\\Users\\minio\\anaconda3\\envs\\tfm-py-37\\lib\\site-packages\\gensim\\topic_coherence\\direct_confirmation_measure.py:204: RuntimeWarning: divide by zero encountered in double_scalars\n",
      "  m_lr_i = np.log(numerator / denominator)\n",
      "C:\\Users\\minio\\anaconda3\\envs\\tfm-py-37\\lib\\site-packages\\gensim\\topic_coherence\\indirect_confirmation_measure.py:323: RuntimeWarning: invalid value encountered in double_scalars\n",
      "  return cv1.T.dot(cv2)[0, 0] / (_magnitude(cv1) * _magnitude(cv2))\n"
     ]
    },
    {
     "name": "stdout",
     "output_type": "stream",
     "text": [
      "time elapsed - 00:00:43.33\n",
      "15  -----  4000  -----  4249\n",
      "time elapsed - 00:00:45.54\n",
      "16  -----  4250  -----  4499\n",
      "time elapsed - 00:00:51.61\n",
      "17  -----  4500  -----  4749\n",
      "time elapsed - 00:00:48.98\n",
      "18  -----  4750  -----  4999\n",
      "time elapsed - 00:00:47.26\n",
      "19  -----  5000  -----  5249\n",
      "time elapsed - 00:00:46.96\n",
      "20  -----  5250  -----  5499\n",
      "time elapsed - 00:00:46.55\n",
      "21  -----  5500  -----  5749\n",
      "time elapsed - 00:00:46.57\n",
      "22  -----  5750  -----  5999\n",
      "time elapsed - 00:00:50.24\n",
      "23  -----  6000  -----  6249\n",
      "time elapsed - 00:00:48.47\n",
      "24  -----  6250  -----  6499\n",
      "time elapsed - 00:00:48.02\n",
      "25  -----  6500  -----  6749\n",
      "time elapsed - 00:00:46.55\n",
      "26  -----  6750  -----  6999\n",
      "time elapsed - 00:00:45.38\n",
      "27  -----  7000  -----  7249\n",
      "time elapsed - 00:00:45.43\n",
      "28  -----  7250  -----  7499\n",
      "time elapsed - 00:00:46.33\n",
      "29  -----  7500  -----  7749\n",
      "time elapsed - 00:00:49.82\n",
      "30  -----  7750  -----  7999\n",
      "time elapsed - 00:00:50.91\n",
      "31  -----  8000  -----  8249\n",
      "time elapsed - 00:00:50.42\n",
      "32  -----  8250  -----  8499\n",
      "time elapsed - 00:00:50.11\n",
      "33  -----  8500  -----  8749\n",
      "time elapsed - 00:00:49.90\n",
      "34  -----  8750  -----  8999\n",
      "time elapsed - 00:00:50.48\n",
      "35  -----  9000  -----  9249\n",
      "time elapsed - 00:00:48.41\n",
      "36  -----  9250  -----  9499\n",
      "time elapsed - 00:00:49.48\n",
      "37  -----  9500  -----  9749\n",
      "time elapsed - 00:00:49.03\n",
      "38  -----  9750  -----  9999\n",
      "time elapsed - 00:00:54.29\n",
      "39  -----  10000  -----  10249\n",
      "time elapsed - 00:00:51.79\n",
      "40  -----  10250  -----  10499\n",
      "time elapsed - 00:00:42.56\n",
      "41  -----  10500  -----  10749\n",
      "time elapsed - 00:00:45.35\n",
      "42  -----  10750  -----  10999\n",
      "time elapsed - 00:00:49.72\n",
      "43  -----  11000  -----  11249\n",
      "time elapsed - 00:00:50.72\n",
      "44  -----  11250  -----  11499\n",
      "time elapsed - 00:00:50.56\n",
      "45  -----  11500  -----  11749\n",
      "time elapsed - 00:00:48.65\n",
      "46  -----  11750  -----  11999\n",
      "time elapsed - 00:00:55.61\n",
      "47  -----  12000  -----  12249\n",
      "time elapsed - 00:00:50.20\n",
      "48  -----  12250  -----  12499\n",
      "time elapsed - 00:00:48.54\n",
      "49  -----  12500  -----  12749\n",
      "time elapsed - 00:00:46.57\n",
      "50  -----  12750  -----  12999\n",
      "time elapsed - 00:00:44.78\n",
      "51  -----  13000  -----  13249\n",
      "time elapsed - 00:00:43.53\n",
      "52  -----  13250  -----  13499\n",
      "time elapsed - 00:00:43.05\n",
      "53  -----  13500  -----  13749\n",
      "time elapsed - 00:00:42.83\n",
      "54  -----  13750  -----  13999\n",
      "time elapsed - 00:00:43.72\n",
      "55  -----  14000  -----  14249\n",
      "time elapsed - 00:00:41.76\n",
      "56  -----  14250  -----  14499\n",
      "time elapsed - 00:00:43.92\n",
      "57  -----  14500  -----  14749\n",
      "time elapsed - 00:00:47.62\n",
      "58  -----  14750  -----  14999\n",
      "time elapsed - 00:00:45.44\n",
      "59  -----  15000  -----  15249\n",
      "time elapsed - 00:00:45.40\n",
      "60  -----  15250  -----  15499\n",
      "time elapsed - 00:00:45.37\n",
      "61  -----  15500  -----  15749\n",
      "time elapsed - 00:00:45.25\n",
      "62  -----  15750  -----  15999\n",
      "time elapsed - 00:00:45.29\n",
      "63  -----  16000  -----  16249\n",
      "time elapsed - 00:00:45.59\n",
      "64  -----  16250  -----  16499\n",
      "time elapsed - 00:00:45.28\n",
      "65  -----  16500  -----  16749\n",
      "time elapsed - 00:00:43.46\n",
      "66  -----  16750  -----  16999\n",
      "time elapsed - 00:00:43.17\n",
      "67  -----  17000  -----  17249\n",
      "time elapsed - 00:00:44.26\n",
      "68  -----  17250  -----  17499\n",
      "time elapsed - 00:00:44.21\n",
      "69  -----  17500  -----  17749\n",
      "time elapsed - 00:00:43.39\n",
      "70  -----  17750  -----  17999\n",
      "time elapsed - 00:00:42.96\n",
      "71  -----  18000  -----  18249\n",
      "time elapsed - 00:00:45.07\n",
      "72  -----  18250  -----  18499\n",
      "time elapsed - 00:00:44.53\n",
      "73  -----  18500  -----  18749\n",
      "time elapsed - 00:00:43.80\n",
      "74  -----  18750  -----  18999\n",
      "time elapsed - 00:00:43.81\n",
      "75  -----  19000  -----  19249\n",
      "time elapsed - 00:00:47.39\n",
      "76  -----  19250  -----  19499\n",
      "time elapsed - 00:00:44.43\n",
      "77  -----  19500  -----  19749\n",
      "time elapsed - 00:00:45.30\n",
      "78  -----  19750  -----  19999\n",
      "time elapsed - 00:00:47.50\n",
      "79  -----  20000  -----  20249\n",
      "time elapsed - 00:00:46.30\n",
      "80  -----  20250  -----  20499\n",
      "time elapsed - 00:00:43.97\n",
      "81  -----  20500  -----  20749\n",
      "time elapsed - 00:00:41.15\n",
      "82  -----  20750  -----  20999\n",
      "time elapsed - 00:00:45.21\n",
      "83  -----  21000  -----  21249\n",
      "time elapsed - 00:00:46.20\n",
      "84  -----  21250  -----  21499\n",
      "time elapsed - 00:00:44.02\n",
      "85  -----  21500  -----  21749\n",
      "time elapsed - 00:00:43.66\n",
      "86  -----  21750  -----  21999\n",
      "time elapsed - 00:00:44.38\n",
      "87  -----  22000  -----  22249\n",
      "time elapsed - 00:00:43.82\n",
      "88  -----  22250  -----  22499\n",
      "time elapsed - 00:00:41.95\n",
      "89  -----  22500  -----  22749\n",
      "time elapsed - 00:00:43.75\n",
      "90  -----  22750  -----  22999\n",
      "time elapsed - 00:00:48.51\n",
      "91  -----  23000  -----  23249\n",
      "time elapsed - 00:00:45.18\n",
      "92  -----  23250  -----  23499\n",
      "time elapsed - 00:00:43.90\n",
      "93  -----  23500  -----  23749\n",
      "time elapsed - 00:00:44.75\n",
      "94  -----  23750  -----  23999\n",
      "time elapsed - 00:00:45.18\n",
      "95  -----  24000  -----  24249\n",
      "time elapsed - 00:00:45.07\n",
      "96  -----  24250  -----  24499\n",
      "time elapsed - 00:00:43.23\n",
      "97  -----  24500  -----  24749\n",
      "time elapsed - 00:00:42.42\n",
      "98  -----  24750  -----  24999\n",
      "time elapsed - 00:00:44.44\n",
      "99  -----  25000  -----  25249\n",
      "time elapsed - 00:00:44.42\n",
      "100  -----  25250  -----  25499\n",
      "time elapsed - 00:00:44.72\n",
      "101  -----  25500  -----  25749\n",
      "time elapsed - 00:00:43.41\n",
      "102  -----  25750  -----  25999\n",
      "time elapsed - 00:00:44.52\n",
      "103  -----  26000  -----  26249\n",
      "time elapsed - 00:00:41.26\n",
      "104  -----  26250  -----  26499\n",
      "time elapsed - 00:00:43.99\n",
      "105  -----  26500  -----  26749\n",
      "time elapsed - 00:00:43.73\n",
      "106  -----  26750  -----  26999\n",
      "time elapsed - 00:00:41.78\n",
      "107  -----  27000  -----  27249\n",
      "time elapsed - 00:00:47.16\n",
      "108  -----  27250  -----  27499\n",
      "time elapsed - 00:00:49.02\n",
      "109  -----  27500  -----  27749\n",
      "time elapsed - 00:00:46.20\n",
      "110  -----  27750  -----  27999\n",
      "time elapsed - 00:00:48.03\n",
      "111  -----  28000  -----  28249\n",
      "time elapsed - 00:00:48.03\n",
      "112  -----  28250  -----  28499\n",
      "time elapsed - 00:00:46.73\n",
      "113  -----  28500  -----  28749\n",
      "time elapsed - 00:00:41.83\n",
      "114  -----  28750  -----  28999\n",
      "time elapsed - 00:00:44.80\n",
      "115  -----  29000  -----  29249\n",
      "time elapsed - 00:00:46.32\n",
      "116  -----  29250  -----  29499\n",
      "time elapsed - 00:00:47.65\n",
      "117  -----  29500  -----  29749\n",
      "time elapsed - 00:00:45.55\n",
      "118  -----  29750  -----  29999\n",
      "time elapsed - 00:00:44.50\n",
      "119  -----  30000  -----  30249\n",
      "time elapsed - 00:00:46.73\n",
      "120  -----  30250  -----  30499\n",
      "time elapsed - 00:00:45.66\n",
      "121  -----  30500  -----  30749\n",
      "time elapsed - 00:00:47.04\n",
      "122  -----  30750  -----  30999\n",
      "time elapsed - 00:00:45.42\n",
      "123  -----  31000  -----  31249\n",
      "time elapsed - 00:00:42.32\n",
      "124  -----  31250  -----  31499\n",
      "time elapsed - 00:00:45.14\n",
      "125  -----  31500  -----  31749\n",
      "time elapsed - 00:00:45.48\n",
      "126  -----  31750  -----  31999\n",
      "time elapsed - 00:00:44.21\n",
      "127  -----  32000  -----  32249\n",
      "time elapsed - 00:00:45.30\n",
      "128  -----  32250  -----  32499\n",
      "time elapsed - 00:00:43.40\n",
      "129  -----  32500  -----  32749\n",
      "time elapsed - 00:00:44.15\n",
      "130  -----  32750  -----  32999\n",
      "time elapsed - 00:00:43.60\n",
      "131  -----  33000  -----  33249\n",
      "time elapsed - 00:00:44.05\n",
      "132  -----  33250  -----  33499\n",
      "time elapsed - 00:00:42.99\n",
      "133  -----  33500  -----  33749\n",
      "time elapsed - 00:00:44.19\n",
      "134  -----  33750  -----  33999\n",
      "time elapsed - 00:00:47.09\n",
      "135  -----  34000  -----  34249\n",
      "time elapsed - 00:00:45.61\n",
      "136  -----  34250  -----  34499\n",
      "time elapsed - 00:00:46.43\n",
      "137  -----  34500  -----  34749\n",
      "time elapsed - 00:00:43.97\n",
      "138  -----  34750  -----  34999\n",
      "time elapsed - 00:00:46.49\n",
      "139  -----  35000  -----  35249\n",
      "time elapsed - 00:00:44.05\n",
      "140  -----  35250  -----  35499\n",
      "time elapsed - 00:00:46.37\n",
      "141  -----  35500  -----  35749\n",
      "time elapsed - 00:00:47.34\n",
      "142  -----  35750  -----  35999\n",
      "time elapsed - 00:00:46.92\n",
      "143  -----  36000  -----  36249\n",
      "time elapsed - 00:00:45.19\n",
      "144  -----  36250  -----  36499\n",
      "time elapsed - 00:00:46.75\n",
      "145  -----  36500  -----  36749\n",
      "time elapsed - 00:00:48.47\n",
      "146  -----  36750  -----  36999\n",
      "time elapsed - 00:00:40.79\n",
      "147  -----  37000  -----  37249\n",
      "time elapsed - 00:00:38.19\n",
      "148  -----  37250  -----  37499\n",
      "time elapsed - 00:00:36.35\n",
      "149  -----  37500  -----  37749\n",
      "time elapsed - 00:00:35.80\n",
      "150  -----  37750  -----  37999\n",
      "time elapsed - 00:00:36.00\n",
      "151  -----  38000  -----  38249\n",
      "time elapsed - 00:00:38.65\n",
      "152  -----  38250  -----  38499\n",
      "time elapsed - 00:00:37.98\n",
      "153  -----  38500  -----  38749\n",
      "time elapsed - 00:00:36.98\n",
      "154  -----  38750  -----  38999\n",
      "time elapsed - 00:00:38.21\n",
      "155  -----  39000  -----  39249\n",
      "time elapsed - 00:00:36.94\n",
      "156  -----  39250  -----  39499\n"
     ]
    },
    {
     "name": "stdout",
     "output_type": "stream",
     "text": [
      "time elapsed - 00:00:37.03\n",
      "157  -----  39500  -----  39749\n",
      "time elapsed - 00:00:35.26\n",
      "158  -----  39750  -----  39999\n",
      "time elapsed - 00:00:37.60\n",
      "159  -----  40000  -----  40249\n",
      "time elapsed - 00:00:38.92\n",
      "160  -----  40250  -----  40499\n",
      "time elapsed - 00:00:37.83\n",
      "161  -----  40500  -----  40749\n",
      "time elapsed - 00:00:36.24\n",
      "162  -----  40750  -----  40999\n",
      "time elapsed - 00:00:36.22\n",
      "163  -----  41000  -----  41249\n",
      "time elapsed - 00:00:37.52\n",
      "164  -----  41250  -----  41499\n",
      "time elapsed - 00:00:37.27\n",
      "165  -----  41500  -----  41749\n",
      "time elapsed - 00:00:37.28\n",
      "166  -----  41750  -----  41999\n",
      "time elapsed - 00:00:37.37\n",
      "167  -----  42000  -----  42249\n",
      "time elapsed - 00:00:38.34\n",
      "168  -----  42250  -----  42499\n",
      "time elapsed - 00:00:38.52\n",
      "169  -----  42500  -----  42749\n",
      "time elapsed - 00:00:37.65\n",
      "170  -----  42750  -----  42999\n",
      "time elapsed - 00:00:36.60\n",
      "171  -----  43000  -----  43249\n",
      "time elapsed - 00:00:36.43\n",
      "172  -----  43250  -----  43499\n",
      "time elapsed - 00:00:36.39\n",
      "173  -----  43500  -----  43749\n",
      "time elapsed - 00:00:36.18\n",
      "174  -----  43750  -----  43999\n",
      "time elapsed - 00:00:34.62\n",
      "175  -----  44000  -----  44249\n",
      "time elapsed - 00:00:36.29\n",
      "176  -----  44250  -----  44499\n",
      "time elapsed - 00:00:38.28\n",
      "177  -----  44500  -----  44749\n",
      "time elapsed - 00:00:35.96\n",
      "178  -----  44750  -----  44999\n",
      "time elapsed - 00:00:36.02\n",
      "179  -----  45000  -----  45249\n",
      "time elapsed - 00:00:35.96\n",
      "180  -----  45250  -----  45499\n",
      "time elapsed - 00:00:36.14\n",
      "181  -----  45500  -----  45749\n",
      "time elapsed - 00:00:36.01\n",
      "182  -----  45750  -----  45999\n",
      "time elapsed - 00:00:34.82\n",
      "183  -----  46000  -----  46249\n",
      "time elapsed - 00:00:35.93\n",
      "184  -----  46250  -----  46499\n",
      "time elapsed - 00:00:37.10\n",
      "185  -----  46500  -----  46749\n",
      "time elapsed - 00:00:36.46\n",
      "186  -----  46750  -----  46999\n",
      "time elapsed - 00:00:35.87\n",
      "187  -----  47000  -----  47249\n",
      "time elapsed - 00:00:37.20\n",
      "188  -----  47250  -----  47499\n",
      "time elapsed - 00:00:39.06\n",
      "189  -----  47500  -----  47749\n",
      "time elapsed - 00:00:37.61\n",
      "190  -----  47750  -----  47999\n",
      "time elapsed - 00:00:36.14\n",
      "191  -----  48000  -----  48249\n",
      "time elapsed - 00:00:36.73\n",
      "192  -----  48250  -----  48499\n",
      "time elapsed - 00:00:37.25\n",
      "193  -----  48500  -----  48749\n",
      "time elapsed - 00:00:36.53\n",
      "194  -----  48750  -----  48999\n",
      "time elapsed - 00:00:39.02\n",
      "195  -----  49000  -----  49249\n",
      "time elapsed - 00:00:38.62\n",
      "196  -----  49250  -----  49499\n",
      "time elapsed - 00:00:39.06\n",
      "197  -----  49500  -----  49749\n",
      "time elapsed - 00:00:37.19\n",
      "198  -----  49750  -----  49999\n",
      "time elapsed - 00:00:36.77\n",
      "199  -----  50000  -----  50249\n",
      "time elapsed - 00:00:38.34\n",
      "200  -----  50250  -----  50499\n",
      "time elapsed - 00:00:38.16\n",
      "201  -----  50500  -----  50749\n",
      "time elapsed - 00:00:38.18\n",
      "202  -----  50750  -----  50999\n",
      "time elapsed - 00:00:38.37\n",
      "203  -----  51000  -----  51249\n",
      "time elapsed - 00:00:38.02\n",
      "204  -----  51250  -----  51499\n",
      "time elapsed - 00:00:38.23\n",
      "205  -----  51500  -----  51749\n",
      "time elapsed - 00:00:37.53\n",
      "206  -----  51750  -----  51999\n",
      "time elapsed - 00:00:34.83\n",
      "207  -----  52000  -----  52249\n",
      "time elapsed - 00:00:33.96\n",
      "208  -----  52250  -----  52499\n",
      "time elapsed - 00:00:33.83\n",
      "209  -----  52500  -----  52749\n",
      "time elapsed - 00:00:31.75\n",
      "210  -----  52750  -----  52999\n",
      "time elapsed - 00:00:32.57\n",
      "211  -----  53000  -----  53249\n",
      "time elapsed - 00:00:32.46\n",
      "212  -----  53250  -----  53499\n",
      "time elapsed - 00:00:32.69\n",
      "213  -----  53500  -----  53749\n",
      "time elapsed - 00:00:31.73\n",
      "214  -----  53750  -----  53999\n",
      "time elapsed - 00:00:32.09\n",
      "215  -----  54000  -----  54249\n",
      "time elapsed - 00:00:31.63\n",
      "216  -----  54250  -----  54499\n",
      "time elapsed - 00:00:32.03\n",
      "217  -----  54500  -----  54749\n",
      "time elapsed - 00:00:31.52\n",
      "218  -----  54750  -----  54999\n",
      "time elapsed - 00:00:32.66\n",
      "219  -----  55000  -----  55249\n",
      "time elapsed - 00:00:32.66\n",
      "220  -----  55250  -----  55499\n",
      "time elapsed - 00:00:32.64\n",
      "221  -----  55500  -----  55749\n",
      "time elapsed - 00:00:31.14\n",
      "222  -----  55750  -----  55999\n",
      "time elapsed - 00:00:33.32\n",
      "223  -----  56000  -----  56249\n",
      "time elapsed - 00:00:33.41\n",
      "224  -----  56250  -----  56499\n",
      "time elapsed - 00:00:33.23\n",
      "225  -----  56500  -----  56749\n",
      "time elapsed - 00:00:34.54\n",
      "226  -----  56750  -----  56999\n",
      "time elapsed - 00:00:33.58\n",
      "227  -----  57000  -----  57249\n",
      "time elapsed - 00:00:33.41\n",
      "228  -----  57250  -----  57499\n",
      "time elapsed - 00:00:33.05\n",
      "229  -----  57500  -----  57749\n",
      "time elapsed - 00:00:32.96\n",
      "230  -----  57750  -----  57999\n",
      "time elapsed - 00:00:32.90\n",
      "231  -----  58000  -----  58249\n",
      "time elapsed - 00:00:33.50\n",
      "232  -----  58250  -----  58499\n",
      "time elapsed - 00:00:33.72\n",
      "233  -----  58500  -----  58749\n",
      "time elapsed - 00:00:31.63\n",
      "234  -----  58750  -----  58999\n",
      "time elapsed - 00:00:31.37\n",
      "235  -----  59000  -----  59249\n",
      "time elapsed - 00:00:31.53\n",
      "236  -----  59250  -----  59499\n",
      "time elapsed - 00:00:29.78\n",
      "237  -----  59500  -----  59749\n",
      "time elapsed - 00:00:31.44\n",
      "238  -----  59750  -----  59999\n",
      "time elapsed - 00:00:31.04\n",
      "239  -----  60000  -----  60249\n",
      "time elapsed - 00:00:31.87\n",
      "240  -----  60250  -----  60499\n",
      "time elapsed - 00:00:32.71\n",
      "241  -----  60500  -----  60749\n",
      "time elapsed - 00:00:31.94\n",
      "242  -----  60750  -----  60999\n",
      "time elapsed - 00:00:34.77\n",
      "243  -----  61000  -----  61249\n",
      "time elapsed - 00:00:33.47\n",
      "244  -----  61250  -----  61499\n",
      "time elapsed - 00:00:32.72\n",
      "245  -----  61500  -----  61749\n",
      "time elapsed - 00:00:32.55\n",
      "246  -----  61750  -----  61999\n",
      "time elapsed - 00:00:32.03\n",
      "247  -----  62000  -----  62249\n",
      "time elapsed - 00:00:32.54\n",
      "248  -----  62250  -----  62499\n",
      "time elapsed - 00:00:31.09\n",
      "249  -----  62500  -----  62749\n",
      "time elapsed - 00:00:33.12\n",
      "250  -----  62750  -----  62999\n",
      "time elapsed - 00:00:32.01\n",
      "251  -----  63000  -----  63249\n",
      "time elapsed - 00:00:30.49\n",
      "252  -----  63250  -----  63499\n",
      "time elapsed - 00:00:32.79\n",
      "253  -----  63500  -----  63749\n",
      "time elapsed - 00:00:31.57\n",
      "254  -----  63750  -----  63999\n",
      "time elapsed - 00:00:32.21\n",
      "255  -----  64000  -----  64249\n",
      "time elapsed - 00:00:31.82\n",
      "256  -----  64250  -----  64499\n",
      "time elapsed - 00:00:32.61\n",
      "257  -----  64500  -----  64749\n",
      "time elapsed - 00:00:33.19\n",
      "258  -----  64750  -----  64999\n",
      "time elapsed - 00:00:31.57\n",
      "259  -----  65000  -----  65249\n",
      "time elapsed - 00:00:31.79\n",
      "260  -----  65250  -----  65499\n",
      "time elapsed - 00:00:32.99\n",
      "261  -----  65500  -----  65749\n",
      "time elapsed - 00:00:34.69\n",
      "262  -----  65750  -----  65999\n",
      "time elapsed - 00:00:32.23\n",
      "263  -----  66000  -----  66249\n",
      "time elapsed - 00:00:31.82\n",
      "264  -----  66250  -----  66499\n",
      "time elapsed - 00:00:32.00\n",
      "265  -----  66500  -----  66749\n",
      "time elapsed - 00:00:32.08\n",
      "266  -----  66750  -----  66999\n",
      "time elapsed - 00:00:33.09\n",
      "267  -----  67000  -----  67249\n",
      "time elapsed - 00:00:34.07\n",
      "268  -----  67250  -----  67499\n",
      "time elapsed - 00:00:32.54\n",
      "269  -----  67500  -----  67749\n",
      "time elapsed - 00:00:31.75\n",
      "270  -----  67750  -----  67999\n",
      "time elapsed - 00:00:30.79\n",
      "271  -----  68000  -----  68249\n",
      "time elapsed - 00:00:30.59\n",
      "272  -----  68250  -----  68499\n",
      "time elapsed - 00:00:30.82\n",
      "273  -----  68500  -----  68749\n",
      "time elapsed - 00:00:30.31\n",
      "274  -----  68750  -----  68999\n",
      "time elapsed - 00:00:30.63\n",
      "275  -----  69000  -----  69249\n",
      "time elapsed - 00:00:30.39\n",
      "276  -----  69250  -----  69499\n",
      "time elapsed - 00:00:30.50\n",
      "277  -----  69500  -----  69749\n",
      "time elapsed - 00:00:30.75\n",
      "278  -----  69750  -----  69999\n",
      "time elapsed - 00:00:30.90\n",
      "279  -----  70000  -----  70249\n",
      "time elapsed - 00:00:30.25\n",
      "280  -----  70250  -----  70499\n",
      "time elapsed - 00:00:31.19\n",
      "281  -----  70500  -----  70749\n",
      "time elapsed - 00:00:29.51\n",
      "282  -----  70750  -----  70999\n",
      "time elapsed - 00:00:31.14\n",
      "283  -----  71000  -----  71249\n",
      "time elapsed - 00:00:30.62\n",
      "284  -----  71250  -----  71499\n",
      "time elapsed - 00:00:30.42\n",
      "285  -----  71500  -----  71749\n",
      "time elapsed - 00:00:30.55\n",
      "286  -----  71750  -----  71999\n",
      "time elapsed - 00:00:30.54\n",
      "287  -----  72000  -----  72249\n",
      "time elapsed - 00:00:30.87\n",
      "288  -----  72250  -----  72499\n",
      "time elapsed - 00:00:31.06\n",
      "289  -----  72500  -----  72749\n",
      "time elapsed - 00:00:30.99\n",
      "290  -----  72750  -----  72999\n",
      "time elapsed - 00:00:32.86\n",
      "291  -----  73000  -----  73249\n",
      "time elapsed - 00:00:31.97\n",
      "292  -----  73250  -----  73499\n",
      "time elapsed - 00:00:31.09\n",
      "293  -----  73500  -----  73749\n",
      "time elapsed - 00:00:30.79\n",
      "294  -----  73750  -----  73999\n",
      "time elapsed - 00:00:31.55\n",
      "295  -----  74000  -----  74249\n"
     ]
    },
    {
     "name": "stdout",
     "output_type": "stream",
     "text": [
      "time elapsed - 00:00:33.48\n",
      "296  -----  74250  -----  74499\n",
      "time elapsed - 00:00:29.65\n",
      "297  -----  74500  -----  74749\n",
      "time elapsed - 00:00:31.26\n",
      "298  -----  74750  -----  74999\n",
      "time elapsed - 00:00:30.59\n",
      "299  -----  75000  -----  75249\n",
      "time elapsed - 00:00:31.14\n",
      "300  -----  75250  -----  75499\n",
      "time elapsed - 00:00:32.68\n",
      "301  -----  75500  -----  75749\n",
      "time elapsed - 00:00:32.72\n",
      "302  -----  75750  -----  75999\n",
      "time elapsed - 00:00:31.75\n",
      "303  -----  76000  -----  76249\n",
      "time elapsed - 00:00:31.91\n",
      "304  -----  76250  -----  76499\n",
      "time elapsed - 00:00:31.38\n",
      "305  -----  76500  -----  76749\n",
      "time elapsed - 00:00:31.96\n",
      "306  -----  76750  -----  76999\n",
      "time elapsed - 00:00:31.66\n",
      "307  -----  77000  -----  77249\n",
      "time elapsed - 00:00:30.81\n",
      "308  -----  77250  -----  77499\n",
      "time elapsed - 00:00:31.35\n",
      "309  -----  77500  -----  77749\n",
      "time elapsed - 00:00:31.72\n",
      "310  -----  77750  -----  77999\n",
      "time elapsed - 00:00:31.44\n",
      "311  -----  78000  -----  78249\n",
      "time elapsed - 00:00:29.68\n",
      "312  -----  78250  -----  78499\n",
      "time elapsed - 00:00:32.60\n",
      "313  -----  78500  -----  78749\n",
      "time elapsed - 00:00:30.77\n",
      "314  -----  78750  -----  78999\n",
      "time elapsed - 00:00:30.79\n",
      "315  -----  79000  -----  79249\n",
      "time elapsed - 00:00:31.94\n",
      "316  -----  79250  -----  79499\n",
      "time elapsed - 00:00:32.92\n",
      "317  -----  79500  -----  79749\n",
      "time elapsed - 00:00:32.67\n",
      "318  -----  79750  -----  79999\n",
      "time elapsed - 00:00:31.12\n",
      "319  -----  80000  -----  80249\n",
      "time elapsed - 00:00:30.46\n",
      "320  -----  80250  -----  80499\n",
      "time elapsed - 00:00:31.52\n",
      "321  -----  80500  -----  80749\n",
      "time elapsed - 00:00:31.25\n",
      "322  -----  80750  -----  80999\n",
      "time elapsed - 00:00:31.63\n",
      "323  -----  81000  -----  81249\n",
      "time elapsed - 00:00:33.21\n",
      "324  -----  81250  -----  81499\n",
      "time elapsed - 00:00:31.67\n",
      "325  -----  81500  -----  81749\n",
      "time elapsed - 00:00:30.26\n",
      "326  -----  81750  -----  81999\n",
      "time elapsed - 00:00:30.22\n",
      "327  -----  82000  -----  82249\n",
      "time elapsed - 00:00:31.29\n",
      "328  -----  82250  -----  82499\n",
      "time elapsed - 00:00:30.83\n",
      "329  -----  82500  -----  82749\n",
      "time elapsed - 00:00:30.72\n",
      "330  -----  82750  -----  82999\n",
      "time elapsed - 00:00:31.31\n",
      "331  -----  83000  -----  83249\n",
      "time elapsed - 00:00:31.10\n",
      "332  -----  83250  -----  83499\n",
      "time elapsed - 00:00:33.73\n",
      "333  -----  83500  -----  83749\n",
      "time elapsed - 00:00:30.63\n",
      "334  -----  83750  -----  83999\n",
      "time elapsed - 00:00:30.84\n",
      "335  -----  84000  -----  84249\n",
      "time elapsed - 00:00:32.66\n",
      "336  -----  84250  -----  84499\n",
      "time elapsed - 00:00:32.16\n",
      "337  -----  84500  -----  84749\n",
      "time elapsed - 00:00:31.44\n",
      "338  -----  84750  -----  84999\n",
      "time elapsed - 00:00:30.91\n",
      "339  -----  85000  -----  85249\n",
      "time elapsed - 00:00:31.23\n",
      "340  -----  85250  -----  85499\n",
      "time elapsed - 00:00:30.13\n",
      "341  -----  85500  -----  85749\n",
      "time elapsed - 00:00:30.84\n",
      "342  -----  85750  -----  85999\n",
      "time elapsed - 00:00:31.33\n",
      "343  -----  86000  -----  86249\n",
      "time elapsed - 00:00:31.24\n",
      "344  -----  86250  -----  86499\n",
      "time elapsed - 00:00:30.78\n",
      "345  -----  86500  -----  86749\n",
      "time elapsed - 00:00:31.11\n",
      "346  -----  86750  -----  86999\n",
      "time elapsed - 00:00:30.91\n",
      "347  -----  87000  -----  87249\n",
      "time elapsed - 00:00:30.55\n",
      "348  -----  87250  -----  87499\n",
      "time elapsed - 00:00:31.39\n",
      "349  -----  87500  -----  87749\n",
      "time elapsed - 00:00:31.80\n",
      "350  -----  87750  -----  87999\n",
      "time elapsed - 00:00:31.33\n",
      "351  -----  88000  -----  88249\n",
      "time elapsed - 00:00:32.43\n",
      "352  -----  88250  -----  88499\n",
      "time elapsed - 00:00:30.82\n",
      "353  -----  88500  -----  88749\n",
      "time elapsed - 00:00:33.02\n",
      "354  -----  88750  -----  88999\n",
      "time elapsed - 00:00:30.97\n",
      "355  -----  89000  -----  89249\n",
      "time elapsed - 00:00:29.30\n",
      "356  -----  89250  -----  89499\n",
      "time elapsed - 00:00:31.56\n",
      "357  -----  89500  -----  89749\n",
      "time elapsed - 00:00:30.91\n",
      "358  -----  89750  -----  89999\n",
      "time elapsed - 00:00:30.73\n",
      "359  -----  90000  -----  90249\n",
      "time elapsed - 00:00:30.56\n",
      "360  -----  90250  -----  90499\n",
      "time elapsed - 00:00:30.80\n",
      "361  -----  90500  -----  90749\n",
      "time elapsed - 00:00:30.61\n",
      "362  -----  90750  -----  90999\n",
      "time elapsed - 00:00:30.96\n",
      "363  -----  91000  -----  91249\n",
      "time elapsed - 00:00:30.75\n",
      "364  -----  91250  -----  91499\n",
      "time elapsed - 00:00:30.99\n",
      "365  -----  91500  -----  91749\n",
      "time elapsed - 00:00:30.95\n",
      "366  -----  91750  -----  91999\n",
      "time elapsed - 00:00:31.23\n",
      "367  -----  92000  -----  92249\n",
      "time elapsed - 00:00:30.78\n",
      "368  -----  92250  -----  92499\n",
      "time elapsed - 00:00:30.81\n",
      "369  -----  92500  -----  92749\n",
      "time elapsed - 00:00:31.02\n",
      "370  -----  92750  -----  92999\n",
      "time elapsed - 00:00:30.27\n",
      "371  -----  93000  -----  93249\n",
      "time elapsed - 00:00:34.40\n",
      "372  -----  93250  -----  93499\n",
      "time elapsed - 00:00:31.49\n",
      "373  -----  93500  -----  93749\n",
      "time elapsed - 00:00:31.63\n",
      "374  -----  93750  -----  93999\n",
      "time elapsed - 00:00:34.76\n",
      "375  -----  94000  -----  94249\n",
      "time elapsed - 00:00:33.17\n",
      "376  -----  94250  -----  94499\n",
      "time elapsed - 00:00:31.27\n",
      "377  -----  94500  -----  94749\n",
      "time elapsed - 00:00:30.98\n",
      "378  -----  94750  -----  94999\n",
      "time elapsed - 00:00:30.70\n",
      "379  -----  95000  -----  95249\n",
      "time elapsed - 00:00:30.67\n",
      "380  -----  95250  -----  95499\n",
      "time elapsed - 00:00:30.67\n",
      "381  -----  95500  -----  95749\n",
      "time elapsed - 00:00:31.00\n",
      "382  -----  95750  -----  95999\n",
      "time elapsed - 00:00:30.79\n",
      "383  -----  96000  -----  96249\n",
      "time elapsed - 00:00:36.30\n",
      "384  -----  96250  -----  96499\n",
      "time elapsed - 00:00:34.87\n",
      "385  -----  96500  -----  96749\n",
      "time elapsed - 00:00:31.53\n",
      "386  -----  96750  -----  96999\n",
      "time elapsed - 00:00:32.05\n",
      "387  -----  97000  -----  97249\n",
      "time elapsed - 00:00:37.38\n",
      "388  -----  97250  -----  97499\n",
      "time elapsed - 00:00:35.01\n",
      "389  -----  97500  -----  97749\n",
      "time elapsed - 00:00:33.46\n",
      "390  -----  97750  -----  97999\n",
      "time elapsed - 00:00:33.49\n",
      "391  -----  98000  -----  98249\n",
      "time elapsed - 00:00:33.14\n",
      "392  -----  98250  -----  98499\n",
      "time elapsed - 00:00:34.25\n",
      "393  -----  98500  -----  98749\n",
      "time elapsed - 00:00:33.34\n",
      "394  -----  98750  -----  98999\n",
      "time elapsed - 00:00:34.66\n",
      "395  -----  99000  -----  99249\n",
      "time elapsed - 00:00:33.05\n",
      "396  -----  99250  -----  99499\n",
      "time elapsed - 00:00:34.67\n",
      "397  -----  99500  -----  99749\n",
      "time elapsed - 00:00:34.27\n",
      "398  -----  99750  -----  99999\n",
      "time elapsed - 00:00:33.65\n",
      "399  -----  100000  -----  100249\n",
      "time elapsed - 00:00:33.23\n",
      "400  -----  100250  -----  100499\n",
      "time elapsed - 00:00:33.66\n",
      "401  -----  100500  -----  100749\n",
      "time elapsed - 00:00:34.67\n",
      "402  -----  100750  -----  100999\n",
      "time elapsed - 00:00:35.10\n",
      "403  -----  101000  -----  101249\n",
      "time elapsed - 00:00:33.61\n",
      "404  -----  101250  -----  101499\n",
      "time elapsed - 00:00:36.87\n",
      "405  -----  101500  -----  101749\n",
      "time elapsed - 00:00:36.14\n",
      "406  -----  101750  -----  101999\n",
      "time elapsed - 00:00:36.14\n",
      "407  -----  102000  -----  102249\n",
      "time elapsed - 00:00:37.47\n",
      "408  -----  102250  -----  102499\n",
      "time elapsed - 00:00:37.01\n",
      "409  -----  102500  -----  102749\n",
      "time elapsed - 00:00:35.35\n",
      "410  -----  102750  -----  102999\n",
      "time elapsed - 00:00:36.25\n"
     ]
    }
   ],
   "source": [
    "documents_len = len(documents)\n",
    "\n",
    "while index+(index+1)*chunk_size < documents_len:\n",
    "    \n",
    "    time_start = time.time()\n",
    "    \n",
    "    print(index, ' ----- ', (index+1)*chunk_size, ' ----- ', ((index+1)*chunk_size)+chunk_size-1)\n",
    "    documents_sample = documents[(index+1)*chunk_size:((index+1)*chunk_size)+chunk_size-1]\n",
    "    \n",
    "    data_words = list(sent_to_words(documents_sample))\n",
    "    # Compute bigrams & trigrams\n",
    "    bi_tri_grams(data_words, 250)\n",
    "    # Categorizing and tagging words\n",
    "    data_words = list(map(tag_words, data_words))\n",
    "    # Create Corpus\n",
    "    texts = data_words\n",
    "    # Term Document Frequency\n",
    "    corpus = [id2word.doc2bow(text) for text in texts]\n",
    "    # Load LDA Model\n",
    "    temp_file = datapath(file_model)\n",
    "    lda_model = gensim.models.ldamodel.LdaModel.load(temp_file)\n",
    "    # Update LDA Model\n",
    "    lda_model.update(corpus)\n",
    "    \n",
    "    index = index + 1\n",
    "    indixes.append(index)\n",
    "    \n",
    "    # Evaluate LDA Model\n",
    "    # Compute Perplexity Score\n",
    "    perplexity = lda_model.log_perplexity(corpus)\n",
    "    perplexity_score.append(perplexity)\n",
    "\n",
    "    # Evaluate LDA Model\n",
    "    # Compute Coherence Score\n",
    "    coherence_lda_model = CoherenceModel(model=lda_model, texts=data_words, dictionary=id2word, coherence='c_v')\n",
    "    coherence = coherence_lda_model.get_coherence()\n",
    "    coherence_score.append(coherence)\n",
    "    \n",
    "    # Save LDA Model\n",
    "    temp_file = datapath(file_model)\n",
    "    lda_model.save(temp_file)\n",
    "    temp_file = datapath(file_model + '_' + str(index).zfill(5))\n",
    "    lda_model.save(temp_file)\n",
    "    \n",
    "    time_end = time.time()\n",
    "    hour, rem = divmod(time_end - time_start, 3600)\n",
    "    minute, second = divmod(rem, 60)\n",
    "    print('time elapsed - {:0>2}:{:0>2}:{:05.2f}'.format(int(hour), int(minute), second))"
   ]
  },
  {
   "cell_type": "markdown",
   "metadata": {},
   "source": [
    "### Topics in LDA model"
   ]
  },
  {
   "cell_type": "code",
   "execution_count": 16,
   "metadata": {},
   "outputs": [
    {
     "name": "stdout",
     "output_type": "stream",
     "text": [
      "[(0,\n",
      "  '0.030*\"parent\" + 0.027*\"school\" + 0.023*\"care\" + 0.023*\"gift\" + '\n",
      "  '0.020*\"coffee\" + 0.020*\"kid\" + 0.020*\"project\" + 0.020*\"motherhood\" + '\n",
      "  '0.020*\"cloth\" + 0.017*\"cat\"'),\n",
      " (1,\n",
      "  '0.048*\"house\" + 0.048*\"store\" + 0.030*\"tomorrow\" + 0.030*\"stone\" + '\n",
      "  '0.026*\"honey\" + 0.024*\"party\" + 0.024*\"bridal\" + 0.018*\"matalan\" + '\n",
      "  '0.018*\"decor\" + 0.018*\"lamborghini\"'),\n",
      " (2,\n",
      "  '0.041*\"style\" + 0.040*\"fashion\" + 0.033*\"life\" + 0.027*\"summer\" + '\n",
      "  '0.025*\"blogger\" + 0.023*\"love\" + 0.022*\"time\" + 0.019*\"year\" + '\n",
      "  '0.018*\"today\" + 0.018*\"hair\"'),\n",
      " (3,\n",
      "  '0.062*\"beauty\" + 0.028*\"outfit\" + 0.025*\"color\" + 0.023*\"doll\" + '\n",
      "  '0.020*\"palette\" + 0.020*\"place\" + 0.017*\"face\" + 0.017*\"artist\" + '\n",
      "  '0.017*\"makeup\" + 0.017*\"brow\"'),\n",
      " (4,\n",
      "  '0.055*\"baby\" + 0.026*\"model\" + 0.023*\"sale\" + 0.022*\"deal\" + '\n",
      "  '0.019*\"collection\" + 0.019*\"shirt\" + 0.017*\"wine\" + 0.017*\"vintage\" + '\n",
      "  '0.017*\"ticket\" + 0.015*\"disney\"'),\n",
      " (5,\n",
      "  '0.053*\"woman\" + 0.027*\"birthday\" + 0.021*\"power\" + 0.018*\"necklace\" + '\n",
      "  '0.018*\"break\" + 0.015*\"writer\" + 0.015*\"support\" + 0.015*\"carter\" + '\n",
      "  '0.012*\"energy\" + 0.012*\"health\"'),\n",
      " (6,\n",
      "  '0.022*\"feature\" + 0.018*\"experience\" + 0.018*\"dinner\" + 0.018*\"greece\" + '\n",
      "  '0.018*\"hotel\" + 0.018*\"cuisine\" + 0.018*\"create\" + 0.018*\"sangria\" + '\n",
      "  '0.015*\"message\" + 0.015*\"rise\"'),\n",
      " (7,\n",
      "  '0.037*\"series\" + 0.033*\"body\" + 0.033*\"guy\" + 0.025*\"repost\" + 0.025*\"film\" '\n",
      "  '+ 0.025*\"celebrate\" + 0.025*\"shopping\" + 0.021*\"magazine\" + 0.021*\"hour\" + '\n",
      "  '0.012*\"workout\"'),\n",
      " (8,\n",
      "  '0.031*\"watch\" + 0.031*\"plant\" + 0.027*\"flower\" + 0.024*\"wardrobe\" + '\n",
      "  '0.021*\"soul\" + 0.021*\"stay\" + 0.021*\"change\" + 0.021*\"indoor\" + '\n",
      "  '0.021*\"panerai\" + 0.017*\"suit\"'),\n",
      " (9,\n",
      "  '0.037*\"eye\" + 0.030*\"movie\" + 0.023*\"sport\" + 0.020*\"wait\" + '\n",
      "  '0.017*\"diamond\" + 0.017*\"furniture\" + 0.017*\"disorder\" + 0.017*\"tarsus\" + '\n",
      "  '0.017*\"bruno\" + 0.013*\"play\"')]\n"
     ]
    },
    {
     "name": "stderr",
     "output_type": "stream",
     "text": [
      "C:\\Users\\minio\\anaconda3\\envs\\tfm-py-37\\lib\\site-packages\\ipykernel\\ipkernel.py:287: DeprecationWarning: `should_run_async` will not call `transform_cell` automatically in the future. Please pass the result to `transformed_cell` argument and any exception that happen during thetransform in `preprocessing_exc_tuple` in IPython 7.17 and above.\n",
      "  and should_run_async(code)\n"
     ]
    }
   ],
   "source": [
    "# Print the Keyword in the 10 topics\n",
    "pprint(lda_model.print_topics())\n",
    "doc_lda = lda_model[corpus]"
   ]
  },
  {
   "cell_type": "markdown",
   "metadata": {},
   "source": [
    "### Plot perplexity score progress along incremental learning iterations  \n",
    "\n",
    "Lower the perplexity score represents a better model.  "
   ]
  },
  {
   "cell_type": "code",
   "execution_count": 17,
   "metadata": {},
   "outputs": [
    {
     "name": "stderr",
     "output_type": "stream",
     "text": [
      "C:\\Users\\minio\\anaconda3\\envs\\tfm-py-37\\lib\\site-packages\\ipykernel\\ipkernel.py:287: DeprecationWarning: `should_run_async` will not call `transform_cell` automatically in the future. Please pass the result to `transformed_cell` argument and any exception that happen during thetransform in `preprocessing_exc_tuple` in IPython 7.17 and above.\n",
      "  and should_run_async(code)\n"
     ]
    },
    {
     "data": {
      "image/png": "[encoded data removed]",
      "text/plain": [
       "<Figure size 432x288 with 1 Axes>"
      ]
     },
     "metadata": {
      "needs_background": "light"
     },
     "output_type": "display_data"
    }
   ],
   "source": [
    "plt.title('Perplexity score progress')\n",
    "plt.xlabel('Index')\n",
    "plt.ylabel('Perplexity score')\n",
    "plt.plot(indixes, perplexity_score, 'go', perplexity_score, 'k')\n",
    "plt.show()"
   ]
  },
  {
   "cell_type": "markdown",
   "metadata": {},
   "source": [
    "### Plot coherence score progress along incremental learning iterations  \n",
    "\n",
    "Higher the coherence score represents a more human interpretable model.  "
   ]
  },
  {
   "cell_type": "code",
   "execution_count": 18,
   "metadata": {},
   "outputs": [
    {
     "name": "stderr",
     "output_type": "stream",
     "text": [
      "C:\\Users\\minio\\anaconda3\\envs\\tfm-py-37\\lib\\site-packages\\ipykernel\\ipkernel.py:287: DeprecationWarning: `should_run_async` will not call `transform_cell` automatically in the future. Please pass the result to `transformed_cell` argument and any exception that happen during thetransform in `preprocessing_exc_tuple` in IPython 7.17 and above.\n",
      "  and should_run_async(code)\n"
     ]
    },
    {
     "data": {
      "image/png": "[encoded data removed]",
      "text/plain": [
       "<Figure size 432x288 with 1 Axes>"
      ]
     },
     "metadata": {
      "needs_background": "light"
     },
     "output_type": "display_data"
    }
   ],
   "source": [
    "plt.title('Coherence score progress')\n",
    "plt.xlabel('Index')\n",
    "plt.ylabel('Coherence score')\n",
    "plt.plot(indixes, coherence_score, 'go', coherence_score, 'k') \n",
    "plt.show()"
   ]
  },
  {
   "cell_type": "markdown",
   "metadata": {},
   "source": [
    "### Visualize the topics-keywords"
   ]
  },
  {
   "cell_type": "code",
   "execution_count": 19,
   "metadata": {},
   "outputs": [
    {
     "name": "stderr",
     "output_type": "stream",
     "text": [
      "C:\\Users\\minio\\anaconda3\\envs\\tfm-py-37\\lib\\site-packages\\ipykernel\\ipkernel.py:287: DeprecationWarning: `should_run_async` will not call `transform_cell` automatically in the future. Please pass the result to `transformed_cell` argument and any exception that happen during thetransform in `preprocessing_exc_tuple` in IPython 7.17 and above.\n",
      "  and should_run_async(code)\n"
     ]
    },
    {
     "data": {
      "text/html": [
       "\n",
       "<link rel=\"stylesheet\" type=\"text/css\" href=\"https://cdn.rawgit.com/bmabey/pyLDAvis/files/ldavis.v1.0.0.css\">\n",
       "\n",
       "\n",
       "<div id=\"ldavis_el2030020412243187925173804635\"></div>\n",
       "<script type=\"text/javascript\">\n",
       "\n",
       "var ldavis_el2030020412243187925173804635_data = {\"mdsDat\": {\"x\": [-0.42960398006023337, -0.08461234855700252, -0.0399382251236775, 0.0717644988897016, 0.07080622591048916, 0.07800592437929367, 0.09626817608299286, 0.05948829833993726, 0.09855569602306548, 0.07926573411543288], \"y\": [-0.11896124895599058, 0.4194348608507585, -0.08276755156706539, -0.14205210789958733, 0.012503629212642612, -0.06021082733734088, -0.03972773028787282, 0.04310346496266266, -0.06083564449123281, 0.029513155513025746], \"topics\": [1, 2, 3, 4, 5, 6, 7, 8, 9, 10], \"cluster\": [1, 1, 1, 1, 1, 1, 1, 1, 1, 1], \"Freq\": [32.28158083423413, 13.618540979667968, 10.560172585750223, 7.732813257657717, 6.845001699026961, 6.802925896221619, 6.685675672998652, 6.177601376670716, 5.4690412596293685, 3.826646438142651]}, \"tinfo\": {\"Term\": [\"beauty\", \"style\", \"fashion\", \"baby\", \"life\", \"woman\", \"summer\", \"blogger\", \"love\", \"time\", \"outfit\", \"year\", \"color\", \"eye\", \"today\", \"hair\", \"doll\", \"model\", \"house\", \"store\", \"series\", \"food\", \"watch\", \"sale\", \"plant\", \"movie\", \"parent\", \"palette\", \"place\", \"deal\", \"style\", \"fashion\", \"life\", \"summer\", \"blogger\", \"love\", \"time\", \"year\", \"today\", \"hair\", \"food\", \"week\", \"shop\", \"dress\", \"book\", \"thing\", \"post\", \"share\", \"people\", \"travel\", \"work\", \"weekend\", \"night\", \"story\", \"day\", \"link\", \"family\", \"design\", \"vibe\", \"blog\", \"beauty\", \"outfit\", \"color\", \"doll\", \"palette\", \"place\", \"face\", \"makeup\", \"brow\", \"morph\", \"artist\", \"lash\", \"giveaway\", \"huda\", \"foundation\", \"brush\", \"photographer\", \"blush\", \"liner\", \"louise\", \"star\", \"talk\", \"colour\", \"glam\", \"mascara\", \"quote\", \"watermelon\", \"skincare\", \"azan\", \"group\", \"baby\", \"model\", \"sale\", \"shirt\", \"collection\", \"wine\", \"vintage\", \"monday\", \"code\", \"person\", \"paris\", \"gupta\", \"arket\", \"couture\", \"men\", \"studio\", \"club\", \"gaurav\", \"price\", \"toronto\", \"hamilton\", \"gold\", \"pearl\", \"comment\", \"ticket\", \"spot\", \"session\", \"event\", \"theme\", \"spring\", \"disney\", \"deal\", \"hood\", \"pride\", \"woman\", \"birthday\", \"power\", \"necklace\", \"break\", \"writer\", \"support\", \"carter\", \"energy\", \"health\", \"truth\", \"medium\", \"text\", \"mind\", \"history\", \"release\", \"business\", \"sound\", \"vice\", \"question\", \"contact\", \"online\", \"clip\", \"option\", \"field\", \"condition\", \"luxembourg\", \"dance\", \"president\", \"scene\", \"lead\", \"turn\", \"eye\", \"movie\", \"sport\", \"wait\", \"diamond\", \"furniture\", \"disorder\", \"anxiety\", \"play\", \"pair\", \"spread\", \"duster\", \"heim\", \"chocolate\", \"glass\", \"piaget\", \"song\", \"location\", \"car\", \"building\", \"tarsus\", \"bruno\", \"melson\", \"focus\", \"thursday\", \"lift\", \"shoe\", \"game\", \"stag\", \"leopard\", \"wall\", \"michelle\", \"agoraphobia\", \"siren\", \"college\", \"parent\", \"school\", \"care\", \"gift\", \"coffee\", \"kid\", \"motherhood\", \"project\", \"cat\", \"romance\", \"enjoy\", \"phone\", \"happiness\", \"class\", \"living\", \"cover\", \"valley\", \"grab\", \"bucket\", \"swipe\", \"minute\", \"august\", \"shape\", \"mangia\", \"hudson\", \"folk\", \"card\", \"luna\", \"tuesday\", \"christmas\", \"cloth\", \"drop\", \"hello\", \"rain\", \"chance\", \"sort\", \"lake\", \"plant\", \"watch\", \"flower\", \"wardrobe\", \"soul\", \"change\", \"stay\", \"indoor\", \"panerai\", \"suit\", \"island\", \"hope\", \"cape\", \"passport\", \"image\", \"mark\", \"escape\", \"pack\", \"berlin\", \"palm\", \"nature\", \"destination\", \"farm\", \"race\", \"cruelty\", \"pollution\", \"space\", \"version\", \"planet\", \"tree\", \"butterfly\", \"pastry\", \"shift\", \"marie\", \"summertime\", \"feature\", \"dinner\", \"experience\", \"cuisine\", \"hotel\", \"create\", \"greece\", \"sangria\", \"message\", \"rise\", \"chef\", \"road\", \"figure\", \"chez\", \"eat\", \"forget\", \"base\", \"vortex\", \"bikini\", \"feed\", \"pic\", \"level\", \"foodie\", \"autumn\", \"lunch\", \"goodness\", \"restaurant\", \"savannah\", \"manila\", \"sponsor\", \"boat\", \"coin\", \"company\", \"pour\", \"treat\", \"series\", \"body\", \"guy\", \"repost\", \"film\", \"celebrate\", \"shopping\", \"magazine\", \"hour\", \"workout\", \"taylor\", \"friday\", \"rest\", \"shoot\", \"meet\", \"frac\", \"boutique\", \"gratitude\", \"bella\", \"bracelet\", \"grow\", \"catch\", \"culture\", \"album\", \"swift\", \"korman\", \"bota\", \"mais\", \"trou\", \"installation\", \"gigantism\", \"sephora\", \"leak\", \"corner\", \"house\", \"store\", \"tomorrow\", \"stone\", \"party\", \"bridal\", \"matalan\", \"decor\", \"course\", \"wash\", \"veneno\", \"lamborghini\", \"point\", \"lady\", \"mustard\", \"fry\", \"roll\", \"congratulation\", \"sage\", \"door\", \"learn\", \"spray\", \"round\", \"sauce\", \"scent\", \"market\", \"roadster\", \"source\", \"clutch\", \"beat\", \"honey\", \"cake\", \"james\", \"return\"], \"Freq\": [36.0, 57.0, 56.0, 25.0, 45.0, 17.0, 38.0, 35.0, 32.0, 30.0, 16.0, 26.0, 14.0, 10.0, 25.0, 24.0, 13.0, 11.0, 8.0, 8.0, 8.0, 22.0, 8.0, 10.0, 8.0, 8.0, 8.0, 11.0, 11.0, 10.0, 57.14149041359801, 56.18990444067627, 45.712248655890704, 38.097583126210964, 35.238430796235065, 32.37931504280907, 30.475095440071733, 26.664540019923653, 25.712172876400256, 24.761046722963115, 22.853885320568672, 19.998734203891935, 19.99628880026933, 19.045904628273238, 18.095116807922775, 18.092297800968936, 17.141496917564933, 17.141176872753213, 17.141265701517284, 15.24010415961356, 15.240340600882625, 15.236966414153356, 14.285256342222999, 14.286002242580109, 13.33181541569865, 11.42880937063514, 11.428345632234485, 11.428393965532582, 11.4267819847258, 11.426157570766607, 36.460349101273685, 16.750237007823184, 14.77910092206947, 13.793051228790256, 11.825278980629191, 11.823623514028876, 9.853886088139209, 9.853261155008465, 9.852427910834137, 9.851594666659812, 9.853319570274653, 8.867459451066848, 8.867770815457387, 8.867003150685669, 6.898245558223218, 6.896030737894768, 6.896644098189758, 5.910990636763284, 5.912021170232854, 4.926515400234104, 4.928677867257949, 4.926058548765508, 3.9412452201060706, 3.9408090344156084, 3.9404662580423078, 3.9408922486155578, 3.9407966349487284, 3.940350254141054, 3.940446143351591, 3.9400366854008477, 25.44862259410159, 11.74789682292246, 10.76707489207937, 8.809318856764225, 8.810935009691818, 7.830596813675285, 7.8301788872968645, 5.872400630947284, 5.872667283360509, 5.873080936463077, 5.872168592068467, 5.872218589395946, 5.871690412500519, 4.89430505009839, 4.8945234144944765, 4.894237959667498, 4.8935247499276375, 4.893520049324199, 4.893176050618035, 4.893301684928112, 3.915392418906408, 3.915518480544071, 3.914831765114498, 3.915425750458061, 7.82550050489303, 2.9370162974977667, 2.937087874868304, 2.937297692712685, 2.936408851335267, 2.935138406424178, 6.844096981206351, 10.201219668801187, 3.8148495026549236, 5.785652276476778, 17.920142280489664, 8.958014657878483, 6.967590685691845, 5.97278580300063, 5.971438387743555, 4.977533763690194, 4.97742173984857, 4.976450136417725, 3.9843748178898775, 3.9821258923319127, 3.981582357659005, 3.9816906265115244, 3.98145593969248, 2.9887450892586593, 2.9869038929343144, 2.986854452244436, 2.9867759103889955, 2.9860568299754426, 2.986188254594108, 2.9861679150697906, 2.9860890602985917, 2.9859886143400405, 2.9857276425972628, 2.9853990810506006, 2.9850210788140594, 2.9860355517038495, 2.985952629027787, 1.9918830983695774, 1.991220968624113, 1.9912937215380169, 2.439652093729078, 2.0439264650715145, 10.899115553410521, 8.917949609986545, 6.935949373868277, 5.945810693484858, 4.954847692032972, 4.953904819412994, 4.95363503153642, 3.963190831617208, 3.963793007021389, 3.9626507018848467, 3.962282582698022, 3.962854289245506, 2.972801198650445, 2.9727898420765855, 2.9726862479638143, 2.9723463817168363, 2.9725585557552923, 2.9725366735763914, 2.9726757223587734, 2.971239254260299, 4.951201954834336, 4.951201954834336, 1.9822050699321565, 1.9821259893995467, 1.9818214393273768, 1.9815470811222977, 1.981747344607681, 1.9813513879654192, 1.9810713514734104, 1.981472155433783, 3.960379941092078, 3.9515165506788317, 1.9815030397748898, 3.3816788520687804, 3.234460538237156, 8.811236076816833, 7.8346423428864655, 6.854851976679834, 6.853631354262252, 5.876602116347985, 5.875149151729131, 5.874145455442594, 5.874797334983604, 4.895977630627308, 4.895087352571724, 4.89522829949951, 3.915813975291618, 3.915641095075506, 3.914915163340016, 2.938050822319779, 2.938092390651997, 2.937345812393882, 2.9370438225896223, 2.9371533868030184, 2.937267906181844, 2.936708798349163, 2.936766058038576, 2.935726299159188, 2.9366369484504284, 2.9366369484504284, 1.9583141370719714, 1.9584246647897565, 1.958189294431833, 1.95814029335147, 1.9581400180645017, 5.849148297570224, 1.9583671298133751, 1.9583635510827868, 3.739020830211592, 2.1776819258827853, 2.1437053200338942, 2.1888267811522004, 8.942283076389833, 8.942953480270637, 7.9482607953617626, 6.954908918214494, 5.962686825815507, 5.961796741566982, 5.962067824976411, 5.960648018855967, 5.960593910391012, 4.967744159798535, 3.97516900966571, 3.9745570429270587, 2.981293362577669, 2.980880244447731, 2.980817478628382, 2.9803981380249733, 2.9803283381051804, 2.979961753255104, 2.980232566122208, 2.9802444699844988, 1.9893694078205886, 1.988062012036091, 1.987684064408374, 1.9872160261865053, 1.9870477488604923, 1.986920323425521, 1.9874027003906032, 1.986772877858516, 1.988147368139559, 1.9856577023957747, 4.955794305313019, 1.9875839637482056, 1.9873445337907756, 2.290949700810547, 2.3469027233368176, 5.8649809461882665, 4.8894498183943, 4.889996780339631, 4.8880399164876875, 4.888566379859199, 4.887885927201433, 4.888892357179452, 4.887181476213342, 3.9111708817780837, 3.910571173502558, 2.9328311993882314, 2.932735956014753, 2.932633463145655, 2.9325169712505343, 2.932331734138336, 2.9321005002263467, 2.9310093261443675, 2.931575786733088, 1.956273643007642, 1.956218021877461, 1.9558095502967154, 1.9557159318101858, 1.955574691636917, 1.9558804203659574, 1.9556133139497844, 1.9554750735678061, 1.955435201341901, 1.9553628313770137, 1.955119223325951, 1.9549764832570369, 1.95528396186433, 1.9551607204388053, 1.9553305836206392, 1.955538194176214, 1.9553727056900123, 8.877416632907893, 7.893245582847639, 7.8901313079940625, 5.919353026976157, 5.918254001327859, 5.918232755564219, 5.917360794014823, 4.932012817172923, 4.931584803559591, 2.960161625091194, 2.959960011646651, 2.9590539683514168, 2.958983149139283, 2.9591077466906306, 2.9587892815460672, 2.9585575699363678, 1.9732027324832921, 1.9727421862943857, 1.9728234070783015, 1.9723980491854238, 1.9724345653416804, 1.9720689611590405, 1.9712419255473426, 1.9724750650786191, 1.9724750650786191, 1.972461786476344, 1.972461786476344, 1.972461786476344, 1.9724285899706566, 1.9724285899706566, 1.9724285899706566, 2.7056223276003997, 2.4352089037098557, 2.325403272676608, 8.062119261747249, 8.060038711324422, 5.03854341033268, 5.037733860049073, 4.030617382287171, 4.029846544239773, 3.023225273403459, 3.0227009548762416, 3.0221537187051886, 3.022027052268312, 3.0221682745060034, 3.0221682745060034, 2.01547019859305, 2.0154417063872003, 2.0148861083731258, 2.0148861083731258, 2.0146606483094436, 2.0145847723264736, 2.0141748871694904, 3.0216442656766755, 2.0152314215201117, 2.015960914899238, 2.0130962094197575, 1.0085997758044936, 1.0085619926619533, 1.0079758894057462, 1.007899781149359, 1.007875547289492, 1.007871676065871, 1.0077074587598718, 4.398892459907251, 2.1440895903618156, 2.113816002250446, 1.28728328001458], \"Total\": [36.0, 57.0, 56.0, 25.0, 45.0, 17.0, 38.0, 35.0, 32.0, 30.0, 16.0, 26.0, 14.0, 10.0, 25.0, 24.0, 13.0, 11.0, 8.0, 8.0, 8.0, 22.0, 8.0, 10.0, 8.0, 8.0, 8.0, 11.0, 11.0, 10.0, 57.143650084029865, 56.192063919023745, 45.71440839374086, 38.099742909050065, 35.240590245058954, 32.38147484211071, 30.477255557180364, 26.666699918075757, 25.714332694908446, 24.7632068331872, 22.856045344263574, 20.000894160390118, 19.998448952305978, 19.04806452053142, 18.09727630573283, 18.094457551153667, 17.143656729484423, 17.143336758685955, 17.143426269217112, 15.242263800621158, 15.242500879810645, 15.239126446108303, 14.287416131099816, 14.288162184910389, 13.333975083266138, 11.430969054841578, 11.430505403746242, 11.43055379813894, 11.428941703573487, 11.4283176291736, 36.46250045937934, 16.7523893874032, 14.781253028256748, 13.795202568442273, 11.827430230851744, 11.825776794254727, 9.85603748701497, 9.855412434699854, 9.854579151510004, 9.853746051113117, 9.85547168948838, 8.869610698157649, 8.869922226325402, 8.869154397278171, 6.900396796128197, 6.898182124168366, 6.898796871287179, 5.913141999106353, 5.914173522726525, 4.928666644982738, 4.930830273072391, 4.928210919427961, 3.9433968169306706, 3.9429605808787165, 3.9426179701636603, 3.9430442156244925, 3.942948687727693, 3.9425021001268004, 3.9425990333553464, 3.942189646410571, 25.45077565670198, 11.75005070535291, 10.7692284399661, 8.81147167773454, 8.813088345475428, 7.832749944984375, 7.832332249520953, 5.874553777256371, 5.874820830238283, 5.875234693045087, 5.874322618536965, 5.874372923767155, 5.874108316331934, 4.896458143570433, 4.896676693149745, 4.8963914911266855, 4.895678470550995, 4.895673959199888, 4.8953305027428975, 4.895456853302901, 3.9175452172191947, 3.917671406856021, 3.9169851901796595, 3.9175796841669714, 7.831213419538051, 2.9391691655803385, 2.9392414012249795, 2.939451571601474, 2.938562306449162, 2.9372923196894334, 6.85247297608669, 10.752495590755863, 3.9163452997281936, 7.847377874203074, 17.922291384876925, 8.960190954885089, 6.969740755470243, 5.974934752899558, 5.973589089251452, 4.979682677674343, 4.979572523682535, 4.9787532169536854, 3.9865235874922944, 3.9842750005044376, 3.983731307229064, 3.9838400820413713, 3.983606722631849, 2.9908942616578873, 2.9890526416691308, 2.9890032540809264, 2.9889248210899857, 2.988205805828163, 2.9883374958306193, 2.9883172426258855, 2.9882384284318695, 2.9881385178490967, 2.98787744058855, 2.987550063574036, 2.9871720046994956, 2.9881904746793775, 2.988161332608332, 1.994031883325299, 1.9933698055760154, 1.9934429160297686, 3.9667141273024074, 3.948818139885219, 10.901266687863474, 8.92009988794257, 6.93809986268159, 5.947961796855376, 4.956997577451589, 4.956055145981394, 4.955814741182652, 3.965340845130245, 3.965943516909554, 3.964801701774236, 3.964434546636005, 3.9650141181958527, 2.9749510901407894, 2.9749397327328984, 2.974836215366561, 2.9744962319906563, 2.974708646333614, 2.974687460493443, 2.974826673562588, 2.973391586989711, 4.9555569349147435, 4.955556984377348, 1.9843549888680743, 1.9842759117078492, 1.9839714131339619, 1.9836971793345366, 1.9838977056399592, 1.9835023453165421, 1.9832220821545627, 1.9836234475941548, 3.9653282043757327, 3.9649606623928686, 1.9836557784071516, 3.961866498243226, 3.968316207769255, 8.813389231209818, 7.836795247005971, 6.857005514118875, 6.855784574113412, 5.878755361867537, 5.877302182541416, 5.876298372139716, 5.876950610447946, 4.898130449816743, 4.897240414303302, 4.897381502503613, 3.917967534975075, 3.9177952919324937, 3.917069608351298, 2.940203702379894, 2.9402456068581273, 2.9394985679846815, 2.939196874091457, 2.939306604876823, 2.939421462971125, 2.9388619650878347, 2.938919614858031, 2.9378807780442777, 2.9388536182034626, 2.9388536182034626, 1.9604671026248155, 1.9605778176244337, 1.9603423095204866, 1.9602932813966, 1.9602931202196494, 5.874829726484943, 1.9605205840262057, 1.9605173411999812, 3.912749224096634, 2.9337803010107475, 2.951823047026163, 3.8712701389422284, 8.944432367719156, 8.945103045257483, 7.950410405215004, 6.957058541598091, 5.964836566434227, 5.963946637919898, 5.96421824823586, 5.9627988505042815, 5.962779736606642, 4.969893641062483, 3.9773193388496035, 3.9767074628133754, 2.983442645970867, 2.983029462367671, 2.9829673784500854, 2.982547914248696, 2.9824782124215776, 2.982112832716764, 2.9823892463267447, 2.982413959888476, 1.991519228779756, 1.9902117518036768, 1.9898338237837823, 1.9893654211125844, 1.9891972541106666, 1.9890697874222758, 1.9895530957711052, 1.9889232420424836, 1.9903009122434785, 1.9878101504944765, 4.96922831325482, 1.989744300014105, 1.9897846326073607, 2.972229445095985, 4.87579356456961, 5.867135744232584, 4.891603199044506, 4.892150641390064, 4.8901930314937445, 4.890720177339668, 4.890039485498598, 4.891046612625605, 4.889621571803062, 3.913323995786584, 3.912724842356571, 2.934984854306835, 2.9348896713305104, 2.9347874835057723, 2.9346713872059906, 2.9344860285188075, 2.934254821943729, 2.933165742924693, 2.934656932413849, 1.9584267111773463, 1.9583713577635888, 1.9579626328781505, 1.957869115059365, 1.9577277683463317, 1.9580339707996457, 1.9577666092414514, 1.957628239671598, 1.9575883848377391, 1.9575160441681458, 1.9572728260261343, 1.9571299382869318, 1.9574381222462578, 1.9573145233527522, 1.9575239823985688, 1.9579677799023643, 1.9579861135937404, 8.87956818856706, 7.895397657294514, 7.892283740127016, 5.921504546416962, 5.9204051541082165, 5.920384101494218, 5.919512248663318, 4.934164131954305, 4.933737137612414, 2.9623126260310557, 2.962110982370257, 2.9612053078547915, 2.9611345035116656, 2.96125923071085, 2.960940549306548, 2.9607908369805673, 1.975353714773801, 1.9748933744439536, 1.9749748010949986, 1.9745495212556348, 1.974586310690461, 1.9742210536266203, 1.973394701049701, 1.9746294431042755, 1.9746294431042755, 1.9746576215958482, 1.9746576215958482, 1.9746576215958482, 1.974626447809935, 1.974626447809935, 1.974626447809935, 2.951839671579333, 2.956600431562263, 3.9578452902035806, 8.064265325892377, 8.06218534251369, 5.040689795942029, 5.039879990183909, 4.032763968190522, 4.031992792501893, 3.02537115509953, 3.0248471882682586, 3.024300068733743, 3.024173815523679, 3.024356835815638, 3.024356835815638, 2.0176163593958436, 2.0175880831536825, 2.017032140625445, 2.0170321928373887, 2.0168074639190094, 2.0167317512254805, 2.016322844568227, 3.0249097599756363, 2.0174462359449095, 2.0183943756335427, 2.0168769317751827, 1.0107455859940107, 1.010707820315383, 1.0101218056063463, 1.0100455959658363, 1.0100213704588554, 1.010017924735245, 1.0098535892531124, 5.024997425919179, 3.004778501762547, 3.0041219297559714, 1.9767459999345736], \"Category\": [\"Default\", \"Default\", \"Default\", \"Default\", \"Default\", \"Default\", \"Default\", \"Default\", \"Default\", \"Default\", \"Default\", \"Default\", \"Default\", \"Default\", \"Default\", \"Default\", \"Default\", \"Default\", \"Default\", \"Default\", \"Default\", \"Default\", \"Default\", \"Default\", \"Default\", \"Default\", \"Default\", \"Default\", \"Default\", \"Default\", \"Topic1\", \"Topic1\", \"Topic1\", \"Topic1\", \"Topic1\", \"Topic1\", \"Topic1\", \"Topic1\", \"Topic1\", \"Topic1\", \"Topic1\", \"Topic1\", \"Topic1\", \"Topic1\", \"Topic1\", \"Topic1\", \"Topic1\", \"Topic1\", \"Topic1\", \"Topic1\", \"Topic1\", \"Topic1\", \"Topic1\", \"Topic1\", \"Topic1\", \"Topic1\", \"Topic1\", \"Topic1\", \"Topic1\", \"Topic1\", \"Topic2\", \"Topic2\", \"Topic2\", \"Topic2\", \"Topic2\", \"Topic2\", \"Topic2\", \"Topic2\", \"Topic2\", \"Topic2\", \"Topic2\", \"Topic2\", \"Topic2\", \"Topic2\", \"Topic2\", \"Topic2\", \"Topic2\", \"Topic2\", \"Topic2\", \"Topic2\", \"Topic2\", \"Topic2\", \"Topic2\", \"Topic2\", \"Topic2\", \"Topic2\", \"Topic2\", \"Topic2\", \"Topic2\", \"Topic2\", \"Topic3\", \"Topic3\", \"Topic3\", \"Topic3\", \"Topic3\", \"Topic3\", \"Topic3\", \"Topic3\", \"Topic3\", \"Topic3\", \"Topic3\", \"Topic3\", \"Topic3\", \"Topic3\", \"Topic3\", \"Topic3\", \"Topic3\", \"Topic3\", \"Topic3\", \"Topic3\", \"Topic3\", \"Topic3\", \"Topic3\", \"Topic3\", \"Topic3\", \"Topic3\", \"Topic3\", \"Topic3\", \"Topic3\", \"Topic3\", \"Topic3\", \"Topic3\", \"Topic3\", \"Topic3\", \"Topic4\", \"Topic4\", \"Topic4\", \"Topic4\", \"Topic4\", \"Topic4\", \"Topic4\", \"Topic4\", \"Topic4\", \"Topic4\", \"Topic4\", \"Topic4\", \"Topic4\", \"Topic4\", \"Topic4\", \"Topic4\", \"Topic4\", \"Topic4\", \"Topic4\", \"Topic4\", \"Topic4\", \"Topic4\", \"Topic4\", \"Topic4\", \"Topic4\", \"Topic4\", \"Topic4\", \"Topic4\", \"Topic4\", \"Topic4\", \"Topic4\", \"Topic4\", \"Topic5\", \"Topic5\", \"Topic5\", \"Topic5\", \"Topic5\", \"Topic5\", \"Topic5\", \"Topic5\", \"Topic5\", \"Topic5\", \"Topic5\", \"Topic5\", \"Topic5\", \"Topic5\", \"Topic5\", \"Topic5\", \"Topic5\", \"Topic5\", \"Topic5\", \"Topic5\", \"Topic5\", \"Topic5\", \"Topic5\", \"Topic5\", \"Topic5\", \"Topic5\", \"Topic5\", \"Topic5\", \"Topic5\", \"Topic5\", \"Topic5\", \"Topic5\", \"Topic5\", \"Topic5\", \"Topic5\", \"Topic6\", \"Topic6\", \"Topic6\", \"Topic6\", \"Topic6\", \"Topic6\", \"Topic6\", \"Topic6\", \"Topic6\", \"Topic6\", \"Topic6\", \"Topic6\", \"Topic6\", \"Topic6\", \"Topic6\", \"Topic6\", \"Topic6\", \"Topic6\", \"Topic6\", \"Topic6\", \"Topic6\", \"Topic6\", \"Topic6\", \"Topic6\", \"Topic6\", \"Topic6\", \"Topic6\", \"Topic6\", \"Topic6\", \"Topic6\", \"Topic6\", \"Topic6\", \"Topic6\", \"Topic6\", \"Topic6\", \"Topic6\", \"Topic6\", \"Topic7\", \"Topic7\", \"Topic7\", \"Topic7\", \"Topic7\", \"Topic7\", \"Topic7\", \"Topic7\", \"Topic7\", \"Topic7\", \"Topic7\", \"Topic7\", \"Topic7\", \"Topic7\", \"Topic7\", \"Topic7\", \"Topic7\", \"Topic7\", \"Topic7\", \"Topic7\", \"Topic7\", \"Topic7\", \"Topic7\", \"Topic7\", \"Topic7\", \"Topic7\", \"Topic7\", \"Topic7\", \"Topic7\", \"Topic7\", \"Topic7\", \"Topic7\", \"Topic7\", \"Topic7\", \"Topic7\", \"Topic8\", \"Topic8\", \"Topic8\", \"Topic8\", \"Topic8\", \"Topic8\", \"Topic8\", \"Topic8\", \"Topic8\", \"Topic8\", \"Topic8\", \"Topic8\", \"Topic8\", \"Topic8\", \"Topic8\", \"Topic8\", \"Topic8\", \"Topic8\", \"Topic8\", \"Topic8\", \"Topic8\", \"Topic8\", \"Topic8\", \"Topic8\", \"Topic8\", \"Topic8\", \"Topic8\", \"Topic8\", \"Topic8\", \"Topic8\", \"Topic8\", \"Topic8\", \"Topic8\", \"Topic8\", \"Topic8\", \"Topic9\", \"Topic9\", \"Topic9\", \"Topic9\", \"Topic9\", \"Topic9\", \"Topic9\", \"Topic9\", \"Topic9\", \"Topic9\", \"Topic9\", \"Topic9\", \"Topic9\", \"Topic9\", \"Topic9\", \"Topic9\", \"Topic9\", \"Topic9\", \"Topic9\", \"Topic9\", \"Topic9\", \"Topic9\", \"Topic9\", \"Topic9\", \"Topic9\", \"Topic9\", \"Topic9\", \"Topic9\", \"Topic9\", \"Topic9\", \"Topic9\", \"Topic9\", \"Topic9\", \"Topic9\", \"Topic10\", \"Topic10\", \"Topic10\", \"Topic10\", \"Topic10\", \"Topic10\", \"Topic10\", \"Topic10\", \"Topic10\", \"Topic10\", \"Topic10\", \"Topic10\", \"Topic10\", \"Topic10\", \"Topic10\", \"Topic10\", \"Topic10\", \"Topic10\", \"Topic10\", \"Topic10\", \"Topic10\", \"Topic10\", \"Topic10\", \"Topic10\", \"Topic10\", \"Topic10\", \"Topic10\", \"Topic10\", \"Topic10\", \"Topic10\", \"Topic10\", \"Topic10\", \"Topic10\", \"Topic10\"], \"logprob\": [30.0, 29.0, 28.0, 27.0, 26.0, 25.0, 24.0, 23.0, 22.0, 21.0, 20.0, 19.0, 18.0, 17.0, 16.0, 15.0, 14.0, 13.0, 12.0, 11.0, 10.0, 9.0, 8.0, 7.0, 6.0, 5.0, 4.0, 3.0, 2.0, 1.0, -3.2005999088287354, -3.217400074005127, -3.4237000942230225, -3.6059999465942383, -3.684000015258789, -3.7685999870300293, -3.829200029373169, -3.9628000259399414, -3.9990999698638916, -4.036799907684326, -4.117000102996826, -4.250400066375732, -4.2505998611450195, -4.299300193786621, -4.350500106811523, -4.350599765777588, -4.404600143432617, -4.404600143432617, -4.404600143432617, -4.522200107574463, -4.522200107574463, -4.52239990234375, -4.586900234222412, -4.5868000984191895, -4.656000137329102, -4.809999942779541, -4.809999942779541, -4.809999942779541, -4.810100078582764, -4.810200214385986, -2.786799907684326, -3.5645999908447266, -3.6898000240325928, -3.7588999271392822, -3.9128000736236572, -3.912899971008301, -4.095200061798096, -4.095200061798096, -4.095300197601318, -4.095399856567383, -4.095200061798096, -4.200699806213379, -4.2006001472473145, -4.200699806213379, -4.4517998695373535, -4.452099800109863, -4.452000141143799, -4.606200218200684, -4.606100082397461, -4.788400173187256, -4.788000106811523, -4.78849983215332, -5.011499881744385, -5.01170015335083, -5.01170015335083, -5.011600017547607, -5.01170015335083, -5.0117998123168945, -5.01170015335083, -5.011899948120117, -2.8919999599456787, -3.6649999618530273, -3.75219988822937, -3.952899932861328, -3.952699899673462, -4.070700168609619, -4.070700168609619, -4.358399868011475, -4.358399868011475, -4.35830020904541, -4.358500003814697, -4.358500003814697, -4.35860013961792, -4.540599822998047, -4.540599822998047, -4.540599822998047, -4.540800094604492, -4.540800094604492, -4.540900230407715, -4.540800094604492, -4.763800144195557, -4.763800144195557, -4.763899803161621, -4.763800144195557, -4.071300029754639, -5.051300048828125, -5.051300048828125, -5.051199913024902, -5.051499843597412, -5.0518999099731445, -4.2052998542785645, -3.8062000274658203, -4.78980016708374, -4.373300075531006, -2.9312000274658203, -3.624500036239624, -3.8757998943328857, -4.029900074005127, -4.030099868774414, -4.212100028991699, -4.212200164794922, -4.212399959564209, -4.434700012207031, -4.435299873352051, -4.435400009155273, -4.435400009155273, -4.435400009155273, -4.7221999168396, -4.722799777984619, -4.722899913787842, -4.722899913787842, -4.723100185394287, -4.723100185394287, -4.723100185394287, -4.723100185394287, -4.723199844360352, -4.723199844360352, -4.723400115966797, -4.723499774932861, -4.723100185394287, -4.723199844360352, -5.127999782562256, -5.128300189971924, -5.128300189971924, -4.92519998550415, -5.102200031280518, -3.3064000606536865, -3.5071001052856445, -3.7583999633789062, -3.912400007247925, -4.094799995422363, -4.09499979019165, -4.09499979019165, -4.3180999755859375, -4.31790018081665, -4.31820011138916, -4.318299770355225, -4.31820011138916, -4.605599880218506, -4.605599880218506, -4.6057000160217285, -4.605800151824951, -4.6057000160217285, -4.6057000160217285, -4.6057000160217285, -4.606200218200684, -4.0954999923706055, -4.0954999923706055, -5.010900020599365, -5.011000156402588, -5.011099815368652, -5.011300086975098, -5.011199951171875, -5.01140022277832, -5.011499881744385, -5.011300086975098, -4.31879997253418, -4.321000099182129, -5.011300086975098, -4.476799964904785, -4.521299839019775, -3.5129001140594482, -3.6303999423980713, -3.7639999389648438, -3.76419997215271, -3.9179999828338623, -3.9182000160217285, -3.9184000492095947, -3.918299913406372, -4.100500106811523, -4.1006999015808105, -4.1006999015808105, -4.32390022277832, -4.323999881744385, -4.32420015335083, -4.611199855804443, -4.611199855804443, -4.611499786376953, -4.611599922180176, -4.611499786376953, -4.611499786376953, -4.611700057983398, -4.611700057983398, -4.611999988555908, -4.611700057983398, -4.611700057983398, -5.016900062561035, -5.0167999267578125, -5.016900062561035, -5.017000198364258, -5.017000198364258, -3.9226999282836914, -5.016900062561035, -5.016900062561035, -4.370100021362305, -4.910699844360352, -4.926400184631348, -4.905600070953369, -3.480799913406372, -3.4807000160217285, -3.598599910736084, -3.732100009918213, -3.8861000537872314, -3.886199951171875, -3.886199951171875, -3.886399984359741, -3.886399984359741, -4.068600177764893, -4.291500091552734, -4.2916998863220215, -4.57919979095459, -4.579400062561035, -4.579400062561035, -4.579500198364258, -4.579500198364258, -4.579699993133545, -4.579599857330322, -4.579599857330322, -4.983799934387207, -4.984399795532227, -4.984600067138672, -4.984799861907959, -4.984899997711182, -4.985000133514404, -4.9847002029418945, -4.985099792480469, -4.984399795532227, -4.985599994659424, -4.071000099182129, -4.9847002029418945, -4.984799861907959, -4.842599868774414, -4.81850004196167, -3.823499917984009, -4.005499839782715, -4.005300045013428, -4.00570011138916, -4.0055999755859375, -4.005799770355225, -4.0055999755859375, -4.005899906158447, -4.228700160980225, -4.228899955749512, -4.516600131988525, -4.516600131988525, -4.516600131988525, -4.51669979095459, -4.51669979095459, -4.5167999267578125, -4.517199993133545, -4.517000198364258, -4.921500205993652, -4.921500205993652, -4.9217000007629395, -4.921800136566162, -4.921899795532227, -4.9217000007629395, -4.921800136566162, -4.921899795532227, -4.921899795532227, -4.921999931335449, -4.922100067138672, -4.9222002029418945, -4.921999931335449, -4.922100067138672, -4.921999931335449, -4.921899795532227, -4.921999931335449, -3.2871999740600586, -3.4047000408172607, -3.405100107192993, -3.692500114440918, -3.692699909210205, -3.692699909210205, -3.6928000450134277, -3.875, -3.8750998973846436, -4.385499954223633, -4.385499954223633, -4.385799884796143, -4.385900020599365, -4.385799884796143, -4.385900020599365, -4.386000156402588, -4.791100025177002, -4.791299819946289, -4.791200160980225, -4.791500091552734, -4.791399955749512, -4.791600227355957, -4.792099952697754, -4.791399955749512, -4.791399955749512, -4.791399955749512, -4.791399955749512, -4.791399955749512, -4.791399955749512, -4.791399955749512, -4.791399955749512, -4.475399971008301, -4.580699920654297, -4.626800060272217, -3.026400089263916, -3.026700019836426, -3.496500015258789, -3.4965999126434326, -3.7197000980377197, -3.719899892807007, -4.007299900054932, -4.007400035858154, -4.007599830627441, -4.007699966430664, -4.007599830627441, -4.007599830627441, -4.412700176239014, -4.412799835205078, -4.413000106811523, -4.413000106811523, -4.413099765777588, -4.4131999015808105, -4.413400173187256, -4.007800102233887, -4.412899971008301, -4.412499904632568, -4.413899898529053, -5.105000019073486, -5.105100154876709, -5.1057000160217285, -5.1057000160217285, -5.105800151824951, -5.105800151824951, -5.105899810791016, -3.632200002670288, -4.350900173187256, -4.365099906921387, -4.861100196838379], \"loglift\": [30.0, 29.0, 28.0, 27.0, 26.0, 25.0, 24.0, 23.0, 22.0, 21.0, 20.0, 19.0, 18.0, 17.0, 16.0, 15.0, 14.0, 13.0, 12.0, 11.0, 10.0, 9.0, 8.0, 7.0, 6.0, 5.0, 4.0, 3.0, 2.0, 1.0, 1.1306, 1.1306, 1.1306, 1.1306, 1.1306, 1.1306, 1.1306, 1.1306, 1.1306, 1.1306, 1.1306, 1.1306, 1.1306, 1.1306, 1.1306, 1.1306, 1.1305, 1.1305, 1.1305, 1.1305, 1.1305, 1.1305, 1.1305, 1.1305, 1.1305, 1.1305, 1.1305, 1.1305, 1.1305, 1.1305, 1.9937, 1.9936, 1.9936, 1.9936, 1.9936, 1.9936, 1.9935, 1.9935, 1.9935, 1.9935, 1.9935, 1.9935, 1.9935, 1.9935, 1.9934, 1.9934, 1.9934, 1.9934, 1.9934, 1.9933, 1.9933, 1.9933, 1.9932, 1.9932, 1.9932, 1.9932, 1.9932, 1.9932, 1.9932, 1.9932, 2.248, 2.2479, 2.2479, 2.2478, 2.2478, 2.2478, 2.2478, 2.2477, 2.2477, 2.2477, 2.2477, 2.2477, 2.2477, 2.2476, 2.2476, 2.2476, 2.2476, 2.2476, 2.2476, 2.2476, 2.2475, 2.2475, 2.2475, 2.2475, 2.2474, 2.2473, 2.2473, 2.2473, 2.2473, 2.2473, 2.2469, 2.1954, 2.2218, 1.9433, 2.5596, 2.5595, 2.5594, 2.5593, 2.5593, 2.5593, 2.5593, 2.5592, 2.5592, 2.5592, 2.5592, 2.5592, 2.5592, 2.559, 2.559, 2.559, 2.559, 2.559, 2.559, 2.559, 2.559, 2.559, 2.559, 2.559, 2.559, 2.559, 2.559, 2.5586, 2.5586, 2.5586, 2.0736, 1.9012, 2.6815, 2.6814, 2.6813, 2.6813, 2.6812, 2.6812, 2.6812, 2.6811, 2.6811, 2.6811, 2.6811, 2.6811, 2.6809, 2.6809, 2.6809, 2.6809, 2.6809, 2.6809, 2.6809, 2.6809, 2.6808, 2.6808, 2.6806, 2.6806, 2.6806, 2.6806, 2.6806, 2.6806, 2.6806, 2.6806, 2.6804, 2.6783, 2.6806, 2.5233, 2.4772, 2.6876, 2.6875, 2.6875, 2.6875, 2.6875, 2.6875, 2.6875, 2.6875, 2.6874, 2.6874, 2.6874, 2.6873, 2.6873, 2.6873, 2.6871, 2.6871, 2.6871, 2.6871, 2.6871, 2.6871, 2.6871, 2.6871, 2.6871, 2.6871, 2.6871, 2.6867, 2.6867, 2.6867, 2.6867, 2.6867, 2.6834, 2.6867, 2.6867, 2.6424, 2.3898, 2.3679, 2.1176, 2.705, 2.705, 2.7049, 2.7049, 2.7048, 2.7048, 2.7048, 2.7048, 2.7048, 2.7048, 2.7047, 2.7047, 2.7045, 2.7045, 2.7045, 2.7045, 2.7045, 2.7045, 2.7045, 2.7045, 2.7041, 2.7041, 2.7041, 2.7041, 2.7041, 2.7041, 2.7041, 2.7041, 2.7041, 2.7041, 2.7025, 2.7041, 2.704, 2.4449, 1.974, 2.7839, 2.7838, 2.7838, 2.7838, 2.7838, 2.7838, 2.7838, 2.7837, 2.7837, 2.7837, 2.7835, 2.7835, 2.7835, 2.7835, 2.7835, 2.7835, 2.7835, 2.7832, 2.7831, 2.7831, 2.7831, 2.7831, 2.7831, 2.7831, 2.7831, 2.7831, 2.7831, 2.7831, 2.7831, 2.7831, 2.7831, 2.7831, 2.7831, 2.783, 2.7829, 2.9058, 2.9058, 2.9058, 2.9057, 2.9057, 2.9057, 2.9057, 2.9056, 2.9056, 2.9053, 2.9053, 2.9053, 2.9053, 2.9053, 2.9053, 2.9053, 2.905, 2.905, 2.905, 2.905, 2.905, 2.905, 2.905, 2.905, 2.905, 2.905, 2.905, 2.905, 2.905, 2.905, 2.905, 2.819, 2.7121, 2.3743, 3.2629, 3.2629, 3.2628, 3.2628, 3.2626, 3.2626, 3.2625, 3.2625, 3.2625, 3.2625, 3.2625, 3.2625, 3.2621, 3.2621, 3.2621, 3.2621, 3.2621, 3.2621, 3.2621, 3.2621, 3.2621, 3.262, 3.2613, 3.2611, 3.2611, 3.2611, 3.2611, 3.2611, 3.2611, 3.2611, 3.1301, 2.9257, 2.9117, 2.8343]}, \"token.table\": {\"Topic\": [5, 9, 5, 3, 2, 6, 8, 2, 3, 8, 10, 2, 9, 7, 8, 4, 1, 1, 2, 8, 9, 1, 9, 9, 9, 4, 10, 2, 5, 2, 6, 5, 4, 7, 2, 10, 7, 5, 6, 6, 4, 6, 9, 9, 3, 6, 7, 8, 8, 5, 6, 6, 4, 6, 3, 10, 3, 6, 8, 3, 4, 5, 2, 2, 3, 8, 4, 10, 4, 7, 9, 10, 3, 6, 8, 7, 8, 9, 4, 1, 1, 3, 10, 1, 7, 5, 8, 3, 5, 2, 10, 1, 6, 5, 8, 4, 6, 7, 3, 8, 5, 2, 1, 7, 1, 8, 8, 4, 8, 9, 7, 5, 6, 1, 8, 8, 2, 9, 9, 10, 5, 5, 3, 6, 9, 2, 2, 5, 3, 8, 6, 9, 8, 2, 9, 3, 9, 1, 3, 6, 4, 5, 6, 4, 2, 10, 3, 7, 8, 9, 10, 2, 6, 7, 7, 9, 7, 2, 10, 6, 9, 10, 1, 6, 10, 2, 4, 9, 6, 9, 10, 5, 8, 1, 5, 2, 1, 6, 5, 2, 1, 6, 8, 4, 9, 9, 2, 6, 8, 3, 7, 7, 10, 2, 10, 4, 9, 5, 3, 8, 5, 4, 6, 3, 3, 2, 6, 5, 10, 7, 4, 1, 4, 4, 2, 7, 5, 2, 7, 7, 6, 3, 10, 7, 7, 3, 1, 3, 6, 2, 5, 8, 2, 7, 7, 5, 10, 7, 1, 8, 4, 4, 3, 3, 4, 8, 6, 4, 2, 7, 6, 4, 9, 9, 8, 1, 10, 8, 8, 10, 10, 6, 10, 10, 3, 8, 10, 8, 4, 10, 6, 9, 9, 3, 6, 1, 7, 3, 5, 9, 1, 9, 2, 5, 2, 5, 4, 6, 7, 4, 10, 7, 8, 5, 3, 10, 5, 3, 5, 2, 7, 10, 10, 1, 3, 1, 7, 1, 1, 7, 8, 4, 9, 6, 2, 5, 9, 4, 3, 1, 5, 3, 1, 1, 10, 3, 1, 8, 7, 9, 4, 6, 4, 8, 6, 10, 7, 1, 4, 3, 8, 5, 5, 7, 10, 7, 2, 1, 1, 3, 4, 1, 9, 4, 1], \"Freq\": [1.0082394444493654, 1.0128482622318444, 1.0087405235069058, 1.0214316244932098, 1.0146647786189442, 1.0207832786011466, 1.0214327380557222, 1.0145591692584073, 0.9822883332601584, 1.0227857076391005, 0.9902425565864452, 0.9873157229056579, 1.0126711484577557, 1.0059049145563228, 1.021227901246129, 1.0044428790988218, 0.9625213751427232, 0.9931729223776924, 1.014688975997325, 1.0217436644714473, 1.013248521131655, 0.9946248096072879, 1.0128338088218407, 1.0124768971966225, 1.0128892582689852, 1.0044212801305785, 0.9920652654535026, 1.0147566777083235, 1.0089683189523924, 1.014760102589189, 1.02064888195824, 1.0089488425025201, 1.003705405646829, 1.0061924477615771, 0.3328032330547555, 0.665606466109511, 1.0055497477223145, 1.0084621153430982, 1.0201074305856082, 1.0208537802086777, 1.00426749069907, 1.0207976392680738, 1.013057781106135, 1.0134477589867334, 0.34085715268300065, 0.6817143053660013, 1.006045218756799, 1.0221517823500046, 1.0222609635541533, 1.0084237898977806, 1.0202555828874722, 1.0211715389156966, 1.0040572478799739, 1.0213061959822876, 1.0213089013252261, 0.9900814386656841, 1.0213077425472121, 1.0206242020069274, 1.0218081847030545, 1.0212084172083138, 0.25199604760381206, 0.7559881428114361, 1.0147989464306635, 1.0143539150882073, 1.0210385805721152, 1.021698849149927, 1.0039520657805088, 0.9917035316098368, 1.0039359548609723, 0.5053254620513794, 0.5053254620513794, 0.9919650602845381, 1.0211462762253014, 1.0203229257455553, 1.0224866312076804, 1.0054307062142829, 1.0224545263958045, 1.0134819957386867, 1.0029929895928988, 0.9749530742947563, 0.0930016656653847, 0.930016656653847, 0.9917856385060947, 0.9623330762671324, 1.0049181943516574, 1.0086750945257712, 1.02215976982284, 1.0215290194398634, 1.0089158415164654, 1.01484555449923, 0.9917651229450769, 0.9974766716860072, 1.020137210644694, 1.0088236462118996, 1.022325535321857, 1.0033804923542877, 1.0209537479250752, 1.0058749088276477, 1.0205985459952782, 1.0220453879112954, 1.0090570495120945, 1.0146065305833807, 0.9623371505860845, 1.0051090578995618, 0.9965820098848741, 1.0226455056708075, 1.0212567662774388, 1.0042943611149018, 1.0222205242664888, 1.013444155225855, 1.006237362885376, 1.0079243457018119, 1.0201650399143423, 1.006298318609722, 1.0215924973518535, 1.0224060901475214, 1.0144344168624753, 1.0132428007171956, 1.0131009802131257, 0.9915558150743101, 1.008866901744271, 1.0083174364388388, 1.021309842458782, 1.0210355830653033, 1.0128497986129006, 1.014665041062991, 1.0144661398335795, 1.008458880695164, 1.0210146754523368, 1.0216444366043218, 1.0206869864501125, 1.0127129018107701, 1.0222760885355593, 1.0146645287960883, 1.0128703866586881, 1.021385614747843, 1.013648300469143, 1.0095622981469206, 1.021047563769879, 1.0209823898243948, 1.0039467655956407, 1.0084199400595943, 1.020138898019567, 1.003662484286244, 0.19900507706570192, 0.7960203082628077, 1.021360399522895, 1.0058572418022789, 1.0223443212242365, 1.0134305619734847, 0.9920308517521074, 1.0147528836302573, 1.0208062019209778, 1.0057099590404386, 1.006238873795411, 1.0128497986129006, 1.0057024994017596, 0.33287596954536103, 0.6657519390907221, 1.0208765541821312, 1.0128338088218407, 0.9912826194303296, 0.5166263082189538, 0.5166263082189538, 0.9919464411318153, 1.014700679238316, 0.5041956480388251, 0.25209782401941255, 0.3382262916979964, 0.6764525833959928, 0.9913523167883885, 1.0082558776090833, 1.021518744341272, 1.0062472996215837, 1.008218401898889, 1.0145119984971134, 0.9622981172660037, 1.0203374676290982, 1.008509310589005, 1.0144731547405175, 0.9882193493665513, 1.0202299824305756, 1.0215722295799663, 1.0039618568323199, 1.0133428613813904, 1.0128338088218407, 1.0146708792004553, 1.0208062019209778, 1.0218299530886632, 0.3364477805204255, 0.672895561040851, 1.0058514016381528, 0.9899796187448201, 1.0145542962241298, 0.9916138702331565, 1.0040563671296636, 1.013191568706977, 1.0078841796048046, 1.0211007001942358, 1.0221489466005724, 1.008837247224033, 1.0030444868810124, 1.0208033026519971, 1.0212721885985754, 1.0213541704613038, 1.0148424719013702, 1.0210509439831663, 1.0089573113598687, 0.9915558407412568, 1.004258443050756, 1.0041950662454144, 0.9798832673128216, 1.003969522189166, 1.0041672729028916, 1.014780614685508, 1.0059981524129455, 1.0088776944910038, 1.014590639367976, 1.0058965791965988, 1.0062420993290857, 1.021173553543892, 1.0213943614650052, 0.9918755552149949, 1.005689027831076, 1.005154280369504, 1.0211935470239888, 0.991633745380604, 1.0212357996698593, 1.0209375050437846, 1.0146696780034252, 1.0085741470219565, 1.021469953724324, 1.0147324956978654, 1.0048731765618237, 1.0062125387052385, 1.008587233515868, 0.9912687269243204, 1.0054951378010166, 0.9916204149586503, 1.0214672685266208, 1.0043415165056186, 1.003326123635182, 1.0213814975717075, 0.7645866041093782, 0.12743110068489638, 0.12743110068489638, 1.0209376252598241, 1.0039094769482535, 1.0144446222920396, 1.0053457141531434, 1.0222990973625483, 1.003679067897989, 1.0132559981956841, 1.013125204695107, 1.0216652364157628, 0.5058818887368929, 0.5058818887368929, 1.0223054677136112, 1.0221849323010403, 0.99005431437357, 0.9916663022030127, 1.0209831613323637, 0.9916321459632501, 0.9919046473077467, 1.0214287923522427, 1.0225740226674098, 0.9893686540481471, 1.0217029924012233, 1.0032893261790965, 0.9894056223765622, 1.0208254455871335, 1.0163153605137705, 1.0135628004510402, 1.0206715238665658, 1.02114422832266, 0.991638922999437, 1.0051339060646243, 1.0213957814495218, 1.0081164942699739, 1.0130825322171644, 1.00007755839954, 1.0135970242066579, 0.2524062838673188, 0.7572188516019565, 1.0145841139491976, 1.008502127997496, 0.33877369478751707, 0.6775473895750341, 1.0058951210438267, 1.0039469149510498, 0.9900780609678559, 1.005250879833818, 1.0219045556835087, 1.0089217708801448, 1.0206966088008924, 0.9908866295627835, 1.008971128907696, 1.0213488047785442, 1.0084599289189085, 1.0140280080832127, 1.0059994034884159, 0.9920871151175062, 0.9922867882749145, 0.9798321028848123, 1.0211601766445912, 0.997486158412726, 1.0060577471293894, 0.9973820582126193, 0.4101896385714889, 0.4101896385714889, 0.20509481928574444, 1.0041022550068934, 1.0128482622318444, 1.020609000033511, 1.014566965932613, 1.0089683290231477, 1.0127912214819934, 1.0041151846830203, 1.0209073986336796, 0.9947797522591306, 1.0080790412401752, 1.0215530558828654, 0.9843405992942851, 1.0111092637899999, 0.9919277325942997, 1.0213551359617368, 0.9841057861358308, 1.0214577039717336, 1.0061323006638694, 1.0128497986129006, 1.0040837826440288, 1.020255499001206, 0.5064806555153574, 0.5064806555153574, 1.0205822287767938, 0.9919464411318153, 1.0055692234488351, 0.9624688169124732, 1.0039026730366474, 1.021407129465084, 1.0222659987490954, 1.0087489134802676, 1.008743739190619, 1.0061723583530526, 0.9920064728424041, 1.0061370958461593, 1.0144691997767756, 0.9999552939792118, 0.9843083888729481, 1.0213526610948076, 1.0043358638387414, 0.9840904795267653, 1.0127222811116456, 1.0040800435772237, 1.0124987374871353], \"Term\": [\"agoraphobia\", \"album\", \"anxiety\", \"arket\", \"artist\", \"august\", \"autumn\", \"azan\", \"baby\", \"base\", \"beat\", \"beauty\", \"bella\", \"berlin\", \"bikini\", \"birthday\", \"blog\", \"blogger\", \"blush\", \"boat\", \"body\", \"book\", \"bota\", \"boutique\", \"bracelet\", \"break\", \"bridal\", \"brow\", \"bruno\", \"brush\", \"bucket\", \"building\", \"business\", \"butterfly\", \"cake\", \"cake\", \"cape\", \"car\", \"card\", \"care\", \"carter\", \"cat\", \"catch\", \"celebrate\", \"chance\", \"chance\", \"change\", \"chef\", \"chez\", \"chocolate\", \"christmas\", \"class\", \"clip\", \"cloth\", \"club\", \"clutch\", \"code\", \"coffee\", \"coin\", \"collection\", \"college\", \"college\", \"color\", \"colour\", \"comment\", \"company\", \"condition\", \"congratulation\", \"contact\", \"corner\", \"corner\", \"course\", \"couture\", \"cover\", \"create\", \"cruelty\", \"cuisine\", \"culture\", \"dance\", \"day\", \"deal\", \"deal\", \"decor\", \"design\", \"destination\", \"diamond\", \"dinner\", \"disney\", \"disorder\", \"doll\", \"door\", \"dress\", \"drop\", \"duster\", \"eat\", \"energy\", \"enjoy\", \"escape\", \"event\", \"experience\", \"eye\", \"face\", \"family\", \"farm\", \"fashion\", \"feature\", \"feed\", \"field\", \"figure\", \"film\", \"flower\", \"focus\", \"folk\", \"food\", \"foodie\", \"forget\", \"foundation\", \"frac\", \"friday\", \"fry\", \"furniture\", \"game\", \"gaurav\", \"gift\", \"gigantism\", \"giveaway\", \"glam\", \"glass\", \"gold\", \"goodness\", \"grab\", \"gratitude\", \"greece\", \"group\", \"grow\", \"gupta\", \"guy\", \"hair\", \"hamilton\", \"happiness\", \"health\", \"heim\", \"hello\", \"history\", \"honey\", \"honey\", \"hood\", \"hope\", \"hotel\", \"hour\", \"house\", \"huda\", \"hudson\", \"image\", \"indoor\", \"installation\", \"island\", \"james\", \"james\", \"kid\", \"korman\", \"lady\", \"lake\", \"lake\", \"lamborghini\", \"lash\", \"lead\", \"lead\", \"leak\", \"leak\", \"learn\", \"leopard\", \"level\", \"life\", \"lift\", \"liner\", \"link\", \"living\", \"location\", \"louise\", \"love\", \"luna\", \"lunch\", \"luxembourg\", \"magazine\", \"mais\", \"makeup\", \"mangia\", \"manila\", \"marie\", \"marie\", \"mark\", \"market\", \"mascara\", \"matalan\", \"medium\", \"meet\", \"melson\", \"men\", \"message\", \"michelle\", \"mind\", \"minute\", \"model\", \"monday\", \"morph\", \"motherhood\", \"movie\", \"mustard\", \"nature\", \"necklace\", \"night\", \"online\", \"option\", \"outfit\", \"pack\", \"pair\", \"palette\", \"palm\", \"panerai\", \"parent\", \"paris\", \"party\", \"passport\", \"pastry\", \"pearl\", \"people\", \"person\", \"phone\", \"photographer\", \"piaget\", \"pic\", \"place\", \"planet\", \"plant\", \"play\", \"point\", \"pollution\", \"post\", \"pour\", \"power\", \"president\", \"price\", \"pride\", \"pride\", \"pride\", \"project\", \"question\", \"quote\", \"race\", \"rain\", \"release\", \"repost\", \"rest\", \"restaurant\", \"return\", \"return\", \"rise\", \"road\", \"roadster\", \"roll\", \"romance\", \"round\", \"sage\", \"sale\", \"sangria\", \"sauce\", \"savannah\", \"scene\", \"scent\", \"school\", \"sephora\", \"series\", \"session\", \"shape\", \"share\", \"shift\", \"shirt\", \"shoe\", \"shoot\", \"shop\", \"shopping\", \"siren\", \"siren\", \"skincare\", \"song\", \"sort\", \"sort\", \"soul\", \"sound\", \"source\", \"space\", \"sponsor\", \"sport\", \"spot\", \"spray\", \"spread\", \"spring\", \"stag\", \"star\", \"stay\", \"stone\", \"store\", \"story\", \"studio\", \"style\", \"suit\", \"summer\", \"summertime\", \"summertime\", \"summertime\", \"support\", \"swift\", \"swipe\", \"talk\", \"tarsus\", \"taylor\", \"text\", \"theme\", \"thing\", \"thursday\", \"ticket\", \"time\", \"today\", \"tomorrow\", \"toronto\", \"travel\", \"treat\", \"tree\", \"trou\", \"truth\", \"tuesday\", \"turn\", \"turn\", \"valley\", \"veneno\", \"version\", \"vibe\", \"vice\", \"vintage\", \"vortex\", \"wait\", \"wall\", \"wardrobe\", \"wash\", \"watch\", \"watermelon\", \"week\", \"weekend\", \"wine\", \"woman\", \"work\", \"workout\", \"writer\", \"year\"]}, \"R\": 30, \"lambda.step\": 0.01, \"plot.opts\": {\"xlab\": \"PC1\", \"ylab\": \"PC2\"}, \"topic.order\": [3, 4, 5, 6, 10, 1, 9, 7, 8, 2]};\n",
       "\n",
       "function LDAvis_load_lib(url, callback){\n",
       "  var s = document.createElement('script');\n",
       "  s.src = url;\n",
       "  s.async = true;\n",
       "  s.onreadystatechange = s.onload = callback;\n",
       "  s.onerror = function(){console.warn(\"failed to load library \" + url);};\n",
       "  document.getElementsByTagName(\"head\")[0].appendChild(s);\n",
       "}\n",
       "\n",
       "if(typeof(LDAvis) !== \"undefined\"){\n",
       "   // already loaded: just create the visualization\n",
       "   !function(LDAvis){\n",
       "       new LDAvis(\"#\" + \"ldavis_el2030020412243187925173804635\", ldavis_el2030020412243187925173804635_data);\n",
       "   }(LDAvis);\n",
       "}else if(typeof define === \"function\" && define.amd){\n",
       "   // require.js is available: use it to load d3/LDAvis\n",
       "   require.config({paths: {d3: \"https://cdnjs.cloudflare.com/ajax/libs/d3/3.5.5/d3.min\"}});\n",
       "   require([\"d3\"], function(d3){\n",
       "      window.d3 = d3;\n",
       "      LDAvis_load_lib(\"https://cdn.rawgit.com/bmabey/pyLDAvis/files/ldavis.v1.0.0.js\", function(){\n",
       "        new LDAvis(\"#\" + \"ldavis_el2030020412243187925173804635\", ldavis_el2030020412243187925173804635_data);\n",
       "      });\n",
       "    });\n",
       "}else{\n",
       "    // require.js not available: dynamically load d3 & LDAvis\n",
       "    LDAvis_load_lib(\"https://cdnjs.cloudflare.com/ajax/libs/d3/3.5.5/d3.min.js\", function(){\n",
       "         LDAvis_load_lib(\"https://cdn.rawgit.com/bmabey/pyLDAvis/files/ldavis.v1.0.0.js\", function(){\n",
       "                 new LDAvis(\"#\" + \"ldavis_el2030020412243187925173804635\", ldavis_el2030020412243187925173804635_data);\n",
       "            })\n",
       "         });\n",
       "}\n",
       "</script>"
      ],
      "text/plain": [
       "PreparedData(topic_coordinates=              x         y  topics  cluster       Freq\n",
       "topic                                                \n",
       "2     -0.429604 -0.118961       1        1  32.281581\n",
       "3     -0.084612  0.419435       2        1  13.618541\n",
       "4     -0.039938 -0.082768       3        1  10.560173\n",
       "5      0.071764 -0.142052       4        1   7.732813\n",
       "9      0.070806  0.012504       5        1   6.845002\n",
       "0      0.078006 -0.060211       6        1   6.802926\n",
       "8      0.096268 -0.039728       7        1   6.685676\n",
       "6      0.059488  0.043103       8        1   6.177601\n",
       "7      0.098556 -0.060836       9        1   5.469041\n",
       "1      0.079266  0.029513      10        1   3.826646, topic_info=         Term       Freq      Total Category  logprob  loglift\n",
       "64     beauty  36.000000  36.000000  Default  30.0000  30.0000\n",
       "200     style  57.000000  57.000000  Default  29.0000  29.0000\n",
       "125   fashion  56.000000  56.000000  Default  28.0000  28.0000\n",
       "619      baby  25.000000  25.000000  Default  27.0000  27.0000\n",
       "88       life  45.000000  45.000000  Default  26.0000  26.0000\n",
       "...       ...        ...        ...      ...      ...      ...\n",
       "1265     beat   1.007707   1.009854  Topic10  -5.1059   3.2611\n",
       "2019    honey   4.398892   5.024997  Topic10  -3.6322   3.1301\n",
       "5841     cake   2.144090   3.004779  Topic10  -4.3509   2.9257\n",
       "1240    james   2.113816   3.004122  Topic10  -4.3651   2.9117\n",
       "608    return   1.287283   1.976746  Topic10  -4.8611   2.8343\n",
       "\n",
       "[366 rows x 6 columns], token_table=       Topic      Freq         Term\n",
       "term                               \n",
       "55514      5  1.008239  agoraphobia\n",
       "2224       9  1.012848        album\n",
       "8099       5  1.008741      anxiety\n",
       "5562       3  1.021432        arket\n",
       "887        2  1.014665       artist\n",
       "...      ...       ...          ...\n",
       "174        4  1.004336        woman\n",
       "168        1  0.984090         work\n",
       "913        9  1.012722      workout\n",
       "632        4  1.004080       writer\n",
       "175        1  1.012499         year\n",
       "\n",
       "[355 rows x 3 columns], R=30, lambda_step=0.01, plot_opts={'xlab': 'PC1', 'ylab': 'PC2'}, topic_order=[3, 4, 5, 6, 10, 1, 9, 7, 8, 2])"
      ]
     },
     "execution_count": 19,
     "metadata": {},
     "output_type": "execute_result"
    }
   ],
   "source": [
    "# Visualize the topics\n",
    "pyLDAvis.enable_notebook()\n",
    "vis = pyLDAvis.gensim.prepare(lda_model, corpus, id2word)\n",
    "vis"
   ]
  },
  {
   "cell_type": "markdown",
   "metadata": {},
   "source": [
    "### Save document-topic matrix (most significant topic per document)  \n",
    " https://github.com/Sim-Xuesi/content-based_movie_recommender/blob/master/Content%20Based%20Recommender%20System%20with%20LDA%20%26%20Cosine.ipynb  \n",
    " https://medium.com/@nicoleeesim97/building-a-simple-content-based-recommender-system-for-movies-and-tv-shows-73fec4f325ae  "
   ]
  },
  {
   "cell_type": "code",
   "execution_count": 20,
   "metadata": {},
   "outputs": [
    {
     "name": "stderr",
     "output_type": "stream",
     "text": [
      "C:\\Users\\minio\\anaconda3\\envs\\tfm-py-37\\lib\\site-packages\\ipykernel\\ipkernel.py:287: DeprecationWarning: `should_run_async` will not call `transform_cell` automatically in the future. Please pass the result to `transformed_cell` argument and any exception that happen during thetransform in `preprocessing_exc_tuple` in IPython 7.17 and above.\n",
      "  and should_run_async(code)\n"
     ]
    },
    {
     "name": "stdout",
     "output_type": "stream",
     "text": [
      "        Document  Topic  Probability\n",
      "0        2433880      2     0.190662\n",
      "1        2604364      2     0.775031\n",
      "2        2663360      2     0.358793\n",
      "3        3051003      3     0.463783\n",
      "4        1915431      7     0.367031\n",
      "...          ...    ...          ...\n",
      "103194   3081468      3     0.496684\n",
      "103195   2395202      5     0.275091\n",
      "103196   2577561      1     0.100000\n",
      "103197   2492105      6     0.100098\n",
      "103198   1642674      2     0.569832\n",
      "\n",
      "[103199 rows x 3 columns]\n"
     ]
    }
   ],
   "source": [
    "def Sort_Tuple(tup):  \n",
    "    return(sorted(tup, key = lambda x: x[1], reverse = True))\n",
    "\n",
    "doc_num, topic_num, prob = [], [], []\n",
    "\n",
    "document_topic_matrix = documents\n",
    "\n",
    "for n in range(len(documents)):\n",
    "    get_document_topics = lda_model.get_document_topics(corpus_total[n], minimum_probability=0)\n",
    "    doc_num.append(documents.index[n])\n",
    "    sorted_doc_topics = Sort_Tuple(get_document_topics)\n",
    "    topic_num.append(sorted_doc_topics[0][0])\n",
    "    prob.append(sorted_doc_topics[0][1])\n",
    "    \n",
    "data = {'Document': doc_num\n",
    "        ,'Topic': topic_num\n",
    "        ,'Probability': prob}\n",
    "df = pd.DataFrame(data) \n",
    "df.to_csv(file_model + '_document_topic_matrix.csv', index=False)\n",
    "print(df)"
   ]
  },
  {
   "cell_type": "markdown",
   "metadata": {},
   "source": [
    "### Save document-topic matrix (all topic's probability per document)  \n",
    "https://github.com/Sim-Xuesi/content-based_movie_recommender/blob/master/Content%20Based%20Recommender%20System%20with%20LDA%20%26%20Cosine.ipynb  \n",
    "https://medium.com/@nicoleeesim97/building-a-simple-content-based-recommender-system-for-movies-and-tv-shows-73fec4f325ae  "
   ]
  },
  {
   "cell_type": "code",
   "execution_count": 21,
   "metadata": {},
   "outputs": [
    {
     "name": "stderr",
     "output_type": "stream",
     "text": [
      "C:\\Users\\minio\\anaconda3\\envs\\tfm-py-37\\lib\\site-packages\\ipykernel\\ipkernel.py:287: DeprecationWarning: `should_run_async` will not call `transform_cell` automatically in the future. Please pass the result to `transformed_cell` argument and any exception that happen during thetransform in `preprocessing_exc_tuple` in IPython 7.17 and above.\n",
      "  and should_run_async(code)\n"
     ]
    },
    {
     "name": "stdout",
     "output_type": "stream",
     "text": [
      "        Document    Topic0    Topic1    Topic2    Topic3    Topic4    Topic5  \\\n",
      "0        2433880  0.063766  0.128194  0.190661  0.063684  0.129979  0.063751   \n",
      "1        2604364  0.024997  0.024997  0.775031  0.024997  0.024997  0.024997   \n",
      "2        2663360  0.300061  0.005882  0.358793  0.005882  0.064630  0.005882   \n",
      "3        3051003  0.002197  0.024525  0.223470  0.463781  0.068137  0.024121   \n",
      "4        1915431  0.033310  0.033310  0.366484  0.033310  0.033310  0.033312   \n",
      "...          ...       ...       ...       ...       ...       ...       ...   \n",
      "103194   3081468  0.002599  0.002599  0.352210  0.496684  0.002599  0.028546   \n",
      "103195   2395202  0.024994  0.024994  0.274921  0.024994  0.275032  0.275091   \n",
      "103196   2577561  0.100000  0.100000  0.100000  0.100000  0.100000  0.100000   \n",
      "103197   2492105  0.100002  0.099986  0.099985  0.099986  0.099986  0.100000   \n",
      "103198   1642674  0.003332  0.003332  0.569832  0.169979  0.003334  0.003332   \n",
      "\n",
      "          Topic6    Topic7    Topic8    Topic9  \n",
      "0       0.159140  0.005785  0.121817  0.073223  \n",
      "1       0.024997  0.024997  0.024997  0.024997  \n",
      "2       0.005882  0.005882  0.241221  0.005882  \n",
      "3       0.046159  0.068656  0.076758  0.002197  \n",
      "4       0.033310  0.367031  0.033310  0.033310  \n",
      "...          ...       ...       ...       ...  \n",
      "103194  0.002599  0.054614  0.054948  0.002599  \n",
      "103195  0.024994  0.024994  0.024994  0.024994  \n",
      "103196  0.100000  0.100000  0.100000  0.100000  \n",
      "103197  0.100098  0.099986  0.099986  0.099986  \n",
      "103198  0.069977  0.003332  0.136686  0.036864  \n",
      "\n",
      "[103199 rows x 11 columns]\n"
     ]
    }
   ],
   "source": [
    "doc_num = []\n",
    "prob0, prob1, prob2, prob3, prob4, prob5, prob6, prob7, prob8, prob9 = ([] for i in range(num_topics))\n",
    "\n",
    "document_topic_matrix = documents\n",
    "\n",
    "for n in range(len(documents)):\n",
    "    get_document_topics = lda_model.get_document_topics(corpus_total[n], minimum_probability=0)\n",
    "    doc_num.append(documents.index[n])\n",
    "    prob0.append(get_document_topics[0][1])\n",
    "    prob1.append(get_document_topics[1][1])\n",
    "    prob2.append(get_document_topics[2][1])\n",
    "    prob3.append(get_document_topics[3][1])\n",
    "    prob4.append(get_document_topics[4][1])\n",
    "    prob5.append(get_document_topics[5][1])\n",
    "    prob6.append(get_document_topics[6][1])\n",
    "    prob7.append(get_document_topics[7][1])\n",
    "    prob8.append(get_document_topics[8][1])\n",
    "    prob9.append(get_document_topics[9][1])\n",
    "    \n",
    "data = {'Document': doc_num\n",
    "        ,'Topic0': prob0\n",
    "        ,'Topic1': prob1\n",
    "        ,'Topic2': prob2\n",
    "        ,'Topic3': prob3\n",
    "        ,'Topic4': prob4\n",
    "        ,'Topic5': prob5\n",
    "        ,'Topic6': prob6\n",
    "        ,'Topic7': prob7\n",
    "        ,'Topic8': prob8\n",
    "        ,'Topic9': prob9}\n",
    "\n",
    "df = pd.DataFrame(data) \n",
    "df.to_csv(file_model + '_document_topic_matrix_full.csv', index=False)\n",
    "print(df)"
   ]
  },
  {
   "cell_type": "markdown",
   "metadata": {},
   "source": [
    "### Save topic-term matrix"
   ]
  },
  {
   "cell_type": "code",
   "execution_count": 22,
   "metadata": {},
   "outputs": [
    {
     "name": "stderr",
     "output_type": "stream",
     "text": [
      "C:\\Users\\minio\\anaconda3\\envs\\tfm-py-37\\lib\\site-packages\\ipykernel\\ipkernel.py:287: DeprecationWarning: `should_run_async` will not call `transform_cell` automatically in the future. Please pass the result to `transformed_cell` argument and any exception that happen during thetransform in `preprocessing_exc_tuple` in IPython 7.17 and above.\n",
      "  and should_run_async(code)\n"
     ]
    }
   ],
   "source": [
    "# get topic-term-matrix\n",
    "topic_term_matrix = lda_model.get_topics()\n",
    "# save topic-term matrix\n",
    "savetxt(file_model + '_topic_term_matrix.csv', topic_term_matrix, delimiter=',')"
   ]
  }
 ],
 "metadata": {
  "kernelspec": {
   "display_name": "Python 3",
   "language": "python",
   "name": "python3"
  },
  "language_info": {
   "codemirror_mode": {
    "name": "ipython",
    "version": 3
   },
   "file_extension": ".py",
   "mimetype": "text/x-python",
   "name": "python",
   "nbconvert_exporter": "python",
   "pygments_lexer": "ipython3",
   "version": "3.7.9"
  }
 },
 "nbformat": 4,
 "nbformat_minor": 4
}
