{
 "cells": [
  {
   "cell_type": "markdown",
   "metadata": {},
   "source": [
    "# <span style=\"color:blue\">LDA model (2019_Jul) - with hyperparameter tuning</span>"
   ]
  },
  {
   "cell_type": "code",
   "execution_count": 1,
   "metadata": {},
   "outputs": [],
   "source": [
    "yyyy_MMM = '2019_Jul'"
   ]
  },
  {
   "cell_type": "markdown",
   "metadata": {},
   "source": [
    "### Load packages"
   ]
  },
  {
   "cell_type": "code",
   "execution_count": 2,
   "metadata": {},
   "outputs": [
    {
     "name": "stderr",
     "output_type": "stream",
     "text": [
      "C:\\Users\\minio\\anaconda3\\envs\\tfm-py-37\\lib\\site-packages\\botocore\\vendored\\requests\\packages\\urllib3\\_collections.py:1: DeprecationWarning: Using or importing the ABCs from 'collections' instead of from 'collections.abc' is deprecated since Python 3.3,and in 3.9 it will stop working\n",
      "  from collections import Mapping, MutableMapping\n",
      "C:\\Users\\minio\\anaconda3\\envs\\tfm-py-37\\lib\\site-packages\\botocore\\vendored\\requests\\packages\\urllib3\\_collections.py:1: DeprecationWarning: Using or importing the ABCs from 'collections' instead of from 'collections.abc' is deprecated since Python 3.3,and in 3.9 it will stop working\n",
      "  from collections import Mapping, MutableMapping\n",
      "C:\\Users\\minio\\anaconda3\\envs\\tfm-py-37\\lib\\site-packages\\scipy\\sparse\\sparsetools.py:21: DeprecationWarning: `scipy.sparse.sparsetools` is deprecated!\n",
      "scipy.sparse.sparsetools is a private module for scipy.sparse, and should not be used.\n",
      "  _deprecated()\n",
      "C:\\Users\\minio\\anaconda3\\envs\\tfm-py-37\\lib\\site-packages\\gensim\\models\\doc2vec.py:73: DeprecationWarning: Using or importing the ABCs from 'collections' instead of from 'collections.abc' is deprecated since Python 3.3,and in 3.9 it will stop working\n",
      "  from collections import namedtuple, defaultdict, Iterable\n",
      "[nltk_data] Downloading package stopwords to\n",
      "[nltk_data]     C:\\Users\\minio\\AppData\\Roaming\\nltk_data...\n",
      "[nltk_data]   Package stopwords is already up-to-date!\n",
      "[nltk_data] Downloading package averaged_perceptron_tagger to\n",
      "[nltk_data]     C:\\Users\\minio\\AppData\\Roaming\\nltk_data...\n",
      "[nltk_data]   Package averaged_perceptron_tagger is already up-to-\n",
      "[nltk_data]       date!\n"
     ]
    },
    {
     "data": {
      "text/plain": [
       "True"
      ]
     },
     "execution_count": 2,
     "metadata": {},
     "output_type": "execute_result"
    }
   ],
   "source": [
    "import csv, os, re, time\n",
    "import numpy as np\n",
    "from numpy import savetxt\n",
    "import pandas as  pd\n",
    "import matplotlib.pyplot as plt  \n",
    "import pyLDAvis\n",
    "import pyLDAvis.gensim\n",
    "import gensim\n",
    "import gensim.corpora as corpora\n",
    "from gensim.corpora.dictionary import Dictionary\n",
    "from gensim.models import CoherenceModel\n",
    "from gensim.test.utils import datapath\n",
    "from gensim.utils import simple_preprocess\n",
    "from pprint import pprint\n",
    "import nltk\n",
    "nltk.download('stopwords')\n",
    "nltk.download('averaged_perceptron_tagger')"
   ]
  },
  {
   "cell_type": "markdown",
   "metadata": {},
   "source": [
    "### Constants"
   ]
  },
  {
   "cell_type": "code",
   "execution_count": 3,
   "metadata": {},
   "outputs": [
    {
     "name": "stdout",
     "output_type": "stream",
     "text": [
      "D:\\master\\data science\\semestre 4\\M2.979 - tfm\\data\\bins_test\\doc\\2019_Jul\\2019_Jul_28_results.csv\n",
      "D:\\master\\data science\\semestre 4\\M2.979 - tfm\\data\\bins_test\\model_hyperparameter\\2019_Jul\\model\n"
     ]
    },
    {
     "name": "stderr",
     "output_type": "stream",
     "text": [
      "C:\\Users\\minio\\anaconda3\\envs\\tfm-py-37\\lib\\site-packages\\ipykernel\\ipkernel.py:287: DeprecationWarning: `should_run_async` will not call `transform_cell` automatically in the future. Please pass the result to `transformed_cell` argument and any exception that happen during thetransform in `preprocessing_exc_tuple` in IPython 7.17 and above.\n",
      "  and should_run_async(code)\n"
     ]
    }
   ],
   "source": [
    "# for reproducible results\n",
    "random_state = 33\n",
    "# if the test is True, the process runs on a smaller subset of raw data (json files)\n",
    "test = True\n",
    "# if sample > 0, then we take a sample of the entire dataset (for debugging purpose)\n",
    "sample = 0\n",
    "# parameters to build the lda model\n",
    "num_topics = 10\n",
    "alpha = 0.61\n",
    "eta = 'symmetric'\n",
    "\n",
    "if test:\n",
    "    # path with the documents preprocessed\n",
    "    path_doc = r'D:\\master\\data science\\semestre 4\\M2.979 - tfm\\data\\bins_test\\doc'\n",
    "    # path where store all data/results related to the model\n",
    "    path_model = r'D:\\master\\data science\\semestre 4\\M2.979 - tfm\\data\\bins_test\\model_hyperparameter'\n",
    "    # chunksize to build LDA model\n",
    "    chunksize = 250\n",
    "else:\n",
    "    # path with the documents preprocessed\n",
    "    path_doc = r'D:\\master\\data science\\semestre 4\\M2.979 - tfm\\data\\bins\\doc'\n",
    "    # path where store all data/results related to the model\n",
    "    path_model = r'D:\\master\\data science\\semestre 4\\M2.979 - tfm\\data\\bins\\model_hyperparameter'\n",
    "    # chunksize to build LDA model\n",
    "    chunksize = 5000\n",
    "\n",
    "# path + name of the file that contains the documents preprocessed\n",
    "file_doc = os.path.join(path_doc, yyyy_MMM, yyyy_MMM) + '_28_results.csv'\n",
    "# path + name of the file that contains the model gotten at the end\n",
    "file_model = os.path.join(path_model, yyyy_MMM, 'model')\n",
    "print(file_doc)\n",
    "print(file_model)"
   ]
  },
  {
   "cell_type": "markdown",
   "metadata": {},
   "source": [
    "### Load data preprocessed"
   ]
  },
  {
   "cell_type": "code",
   "execution_count": 4,
   "metadata": {},
   "outputs": [
    {
     "name": "stderr",
     "output_type": "stream",
     "text": [
      "C:\\Users\\minio\\anaconda3\\envs\\tfm-py-37\\lib\\site-packages\\ipykernel\\ipkernel.py:287: DeprecationWarning: `should_run_async` will not call `transform_cell` automatically in the future. Please pass the result to `transformed_cell` argument and any exception that happen during thetransform in `preprocessing_exc_tuple` in IPython 7.17 and above.\n",
      "  and should_run_async(code)\n"
     ]
    },
    {
     "data": {
      "text/plain": [
       "id_doc\n",
       "57527     ['desiree', 'feres', 'ifbb', 'battle', 'desert...\n",
       "85155     ['thierry', 'photog', 'model', 'sierra', 'kuhn...\n",
       "77576     ['brought', 'meaning', 'milk', 'cooky', 'comin...\n",
       "83662     ['clean', 'salt', 'pepper', 'shaker', 'yesterd...\n",
       "68086     ['crush', 'ruben', 'blog', 'gossip', 'inspira'...\n",
       "85741     ['thick', 'thigh', 'lie', 'hannah', 'xoxo', 'f...\n",
       "110112    ['land', 'rome', 'love', 'close', 'appear', 'v...\n",
       "57428     ['ifbb', 'patriot', 'challenge', 'bikini', 've...\n",
       "76600            ['today', 'mood', 'blac', 'young', 'star']\n",
       "89695     ['private', 'boeing', 'dreamliner', 'chui', 'b...\n",
       "Name: content_preprocessed, dtype: object"
      ]
     },
     "execution_count": 4,
     "metadata": {},
     "output_type": "execute_result"
    }
   ],
   "source": [
    "df = pd.read_csv(file_doc, index_col='id_doc')\n",
    "documents = df.content_preprocessed\n",
    "documents.head(10)"
   ]
  },
  {
   "cell_type": "markdown",
   "metadata": {},
   "source": [
    "### Shuffle"
   ]
  },
  {
   "cell_type": "code",
   "execution_count": 5,
   "metadata": {},
   "outputs": [
    {
     "name": "stderr",
     "output_type": "stream",
     "text": [
      "C:\\Users\\minio\\anaconda3\\envs\\tfm-py-37\\lib\\site-packages\\ipykernel\\ipkernel.py:287: DeprecationWarning: `should_run_async` will not call `transform_cell` automatically in the future. Please pass the result to `transformed_cell` argument and any exception that happen during thetransform in `preprocessing_exc_tuple` in IPython 7.17 and above.\n",
      "  and should_run_async(code)\n"
     ]
    },
    {
     "data": {
      "text/plain": [
       "id_doc\n",
       "93000     ['diva', 'ballerina', 'dress', 'heiress', 'cou...\n",
       "93196     ['beautiful', 'bride', 'barbara', 'focus', 'bl...\n",
       "109754    ['view', 'municipal', 'parking', 'lot', 'corto...\n",
       "90515     ['trisha', 'khalid', 'promo', 'code', 'trisha'...\n",
       "90271     ['stephanie', 'cole', 'casual', 'weekend', 'ha...\n",
       "85581     ['book', 'shoot', 'david', 'cruz', 'lion', 'ta...\n",
       "83631     ['internet', 'black', 'bond', 'female', 'bond'...\n",
       "69652     ['luxury', 'season', 'feature', 'fashion', 'bu...\n",
       "57351     ['lift', 'momma', 'winner', 'master', 'class',...\n",
       "77413                                    ['stay', 'humble']\n",
       "Name: content_preprocessed, dtype: object"
      ]
     },
     "execution_count": 5,
     "metadata": {},
     "output_type": "execute_result"
    }
   ],
   "source": [
    "documents = documents.sample(frac=1, random_state=random_state)\n",
    "documents.head(10)"
   ]
  },
  {
   "cell_type": "markdown",
   "metadata": {},
   "source": [
    "### Sample"
   ]
  },
  {
   "cell_type": "code",
   "execution_count": 6,
   "metadata": {},
   "outputs": [
    {
     "name": "stderr",
     "output_type": "stream",
     "text": [
      "C:\\Users\\minio\\anaconda3\\envs\\tfm-py-37\\lib\\site-packages\\ipykernel\\ipkernel.py:287: DeprecationWarning: `should_run_async` will not call `transform_cell` automatically in the future. Please pass the result to `transformed_cell` argument and any exception that happen during thetransform in `preprocessing_exc_tuple` in IPython 7.17 and above.\n",
      "  and should_run_async(code)\n"
     ]
    }
   ],
   "source": [
    "if sample > 0:\n",
    "    documents = documents.sample(n=sample, random_state=random_state)\n",
    "    print(documents.head(10))"
   ]
  },
  {
   "cell_type": "markdown",
   "metadata": {},
   "source": [
    "### Plot the number of words appearing in each document  \n",
    "\n",
    "https://neptune.ai/blog/exploratory-data-analysis-natural-language-processing-tools"
   ]
  },
  {
   "cell_type": "code",
   "execution_count": 7,
   "metadata": {},
   "outputs": [
    {
     "name": "stdout",
     "output_type": "stream",
     "text": [
      "(2489,)\n"
     ]
    },
    {
     "name": "stderr",
     "output_type": "stream",
     "text": [
      "C:\\Users\\minio\\anaconda3\\envs\\tfm-py-37\\lib\\site-packages\\ipykernel\\ipkernel.py:287: DeprecationWarning: `should_run_async` will not call `transform_cell` automatically in the future. Please pass the result to `transformed_cell` argument and any exception that happen during thetransform in `preprocessing_exc_tuple` in IPython 7.17 and above.\n",
      "  and should_run_async(code)\n"
     ]
    },
    {
     "data": {
      "text/plain": [
       "<AxesSubplot:>"
      ]
     },
     "execution_count": 7,
     "metadata": {},
     "output_type": "execute_result"
    },
    {
     "data": {
      "image/png": "[encoded data removed]",
      "text/plain": [
       "<Figure size 432x288 with 1 Axes>"
      ]
     },
     "metadata": {
      "needs_background": "light"
     },
     "output_type": "display_data"
    }
   ],
   "source": [
    "print(documents.shape)\n",
    "\n",
    "documents.str.split().\\\n",
    "    map(lambda x: len(x)).\\\n",
    "    hist()"
   ]
  },
  {
   "cell_type": "markdown",
   "metadata": {},
   "source": [
    "### Remove words that appear only once"
   ]
  },
  {
   "cell_type": "code",
   "execution_count": 8,
   "metadata": {},
   "outputs": [
    {
     "name": "stderr",
     "output_type": "stream",
     "text": [
      "C:\\Users\\minio\\anaconda3\\envs\\tfm-py-37\\lib\\site-packages\\ipykernel\\ipkernel.py:287: DeprecationWarning: `should_run_async` will not call `transform_cell` automatically in the future. Please pass the result to `transformed_cell` argument and any exception that happen during thetransform in `preprocessing_exc_tuple` in IPython 7.17 and above.\n",
      "  and should_run_async(code)\n"
     ]
    }
   ],
   "source": [
    "####################### PENDING"
   ]
  },
  {
   "cell_type": "markdown",
   "metadata": {},
   "source": [
    "### Tokenize words and Clean-up text"
   ]
  },
  {
   "cell_type": "code",
   "execution_count": 9,
   "metadata": {},
   "outputs": [
    {
     "name": "stderr",
     "output_type": "stream",
     "text": [
      "C:\\Users\\minio\\anaconda3\\envs\\tfm-py-37\\lib\\site-packages\\ipykernel\\ipkernel.py:287: DeprecationWarning: `should_run_async` will not call `transform_cell` automatically in the future. Please pass the result to `transformed_cell` argument and any exception that happen during thetransform in `preprocessing_exc_tuple` in IPython 7.17 and above.\n",
      "  and should_run_async(code)\n"
     ]
    }
   ],
   "source": [
    "# https://www.machinelearningplus.com/nlp/topic-modeling-gensim-python/#3importpackages\n",
    "def sent_to_words(sentences):\n",
    "    for sentence in sentences:\n",
    "        yield(gensim.utils.simple_preprocess(str(sentence), deacc=True))  # deacc=True removes punctuations"
   ]
  },
  {
   "cell_type": "markdown",
   "metadata": {},
   "source": [
    "### Compute bigrams & trigrams  \n",
    "\n",
    "https://radimrehurek.com/gensim/auto_examples/tutorials/run_lda.html#pre-process-and-vectorize-the-documents"
   ]
  },
  {
   "cell_type": "code",
   "execution_count": 10,
   "metadata": {},
   "outputs": [
    {
     "name": "stderr",
     "output_type": "stream",
     "text": [
      "C:\\Users\\minio\\anaconda3\\envs\\tfm-py-37\\lib\\site-packages\\ipykernel\\ipkernel.py:287: DeprecationWarning: `should_run_async` will not call `transform_cell` automatically in the future. Please pass the result to `transformed_cell` argument and any exception that happen during thetransform in `preprocessing_exc_tuple` in IPython 7.17 and above.\n",
      "  and should_run_async(code)\n"
     ]
    }
   ],
   "source": [
    "from gensim.models import Phrases\n",
    "\n",
    "# Add bigrams and trigrams to docs (only ones that appear min_count times or more).\n",
    "def bi_tri_grams(documents, min_count):\n",
    "    bigram = Phrases(documents, min_count=min_count)\n",
    "    for idx in range(len(documents)):\n",
    "        for token in bigram[documents[idx]]:\n",
    "            if '_' in token:\n",
    "                # Token is a bigram, add to document.\n",
    "                documents[idx].append(token)"
   ]
  },
  {
   "cell_type": "markdown",
   "metadata": {},
   "source": [
    "### Categorizing and tagging words"
   ]
  },
  {
   "cell_type": "code",
   "execution_count": 11,
   "metadata": {},
   "outputs": [
    {
     "name": "stderr",
     "output_type": "stream",
     "text": [
      "C:\\Users\\minio\\anaconda3\\envs\\tfm-py-37\\lib\\site-packages\\ipykernel\\ipkernel.py:287: DeprecationWarning: `should_run_async` will not call `transform_cell` automatically in the future. Please pass the result to `transformed_cell` argument and any exception that happen during thetransform in `preprocessing_exc_tuple` in IPython 7.17 and above.\n",
      "  and should_run_async(code)\n"
     ]
    }
   ],
   "source": [
    "# function to remove accented characters\n",
    "def tag_words(text):\n",
    "    tags = nltk.pos_tag(text)\n",
    "    nouns = [word for word, pos in tags if (pos == 'NN' or pos == 'NNP' or pos == 'NNS' or pos == 'NNPS')]\n",
    "    return nouns"
   ]
  },
  {
   "cell_type": "markdown",
   "metadata": {},
   "source": [
    "### Dictionary with the entire dataset"
   ]
  },
  {
   "cell_type": "code",
   "execution_count": 12,
   "metadata": {},
   "outputs": [
    {
     "name": "stderr",
     "output_type": "stream",
     "text": [
      "C:\\Users\\minio\\anaconda3\\envs\\tfm-py-37\\lib\\site-packages\\ipykernel\\ipkernel.py:287: DeprecationWarning: `should_run_async` will not call `transform_cell` automatically in the future. Please pass the result to `transformed_cell` argument and any exception that happen during thetransform in `preprocessing_exc_tuple` in IPython 7.17 and above.\n",
      "  and should_run_async(code)\n"
     ]
    }
   ],
   "source": [
    "data_words = list(sent_to_words(documents))\n",
    "# Compute bigrams & trigrams\n",
    "bi_tri_grams(data_words, 250)\n",
    "# Categorizing and tagging words\n",
    "data_words = list(map(tag_words, data_words))\n",
    "# Create Dictionary\n",
    "id2word = Dictionary(data_words)\n",
    "# Create Corpus\n",
    "texts = data_words\n",
    "# Term Document Frequency\n",
    "corpus_total = [id2word.doc2bow(text) for text in texts]"
   ]
  },
  {
   "cell_type": "markdown",
   "metadata": {},
   "source": [
    "### Build LDA model"
   ]
  },
  {
   "cell_type": "code",
   "execution_count": 13,
   "metadata": {},
   "outputs": [
    {
     "name": "stderr",
     "output_type": "stream",
     "text": [
      "C:\\Users\\minio\\anaconda3\\envs\\tfm-py-37\\lib\\site-packages\\ipykernel\\ipkernel.py:287: DeprecationWarning: `should_run_async` will not call `transform_cell` automatically in the future. Please pass the result to `transformed_cell` argument and any exception that happen during thetransform in `preprocessing_exc_tuple` in IPython 7.17 and above.\n",
      "  and should_run_async(code)\n"
     ]
    },
    {
     "name": "stdout",
     "output_type": "stream",
     "text": [
      "time elapsed - 00:00:22.26\n"
     ]
    }
   ],
   "source": [
    "perplexity_score = []\n",
    "coherence_score = []\n",
    "indixes = []\n",
    "\n",
    "index = 0\n",
    "chunk_size = 250\n",
    "documents_sample = documents[index:chunk_size-1]\n",
    "\n",
    "time_start = time.time()\n",
    "\n",
    "data_words = list(sent_to_words(documents_sample))\n",
    "# Compute bigrams & trigrams\n",
    "bi_tri_grams(data_words, 250)\n",
    "# Categorizing and tagging words\n",
    "data_words = list(map(tag_words, data_words))\n",
    "# # Create Dictionary\n",
    "# id2word = Dictionary(data_words)\n",
    "# Create Corpus\n",
    "texts = data_words\n",
    "# Term Document Frequency\n",
    "corpus = [id2word.doc2bow(text) for text in texts]\n",
    "# Build LDA Model\n",
    "lda_model = gensim.models.LdaMulticore(corpus=corpus\n",
    "                                       ,id2word=id2word\n",
    "                                       ,num_topics=num_topics\n",
    "                                       ,random_state=random_state\n",
    "                                       ,chunksize=chunksize\n",
    "                                       ,passes=50\n",
    "                                       ,per_word_topics=True\n",
    "                                       ,alpha=alpha\n",
    "                                       ,eta=eta)\n",
    "\n",
    "indixes.append(index)\n",
    "\n",
    "# Evaluate LDA Model\n",
    "# Compute Perplexity Score\n",
    "perplexity = lda_model.log_perplexity(corpus)\n",
    "perplexity_score.append(perplexity)\n",
    "\n",
    "# Evaluate LDA Model\n",
    "# Compute Coherence Score\n",
    "coherence_lda_model = CoherenceModel(model=lda_model, texts=data_words, dictionary=id2word, coherence='c_v')\n",
    "coherence = coherence_lda_model.get_coherence()\n",
    "coherence_score.append(coherence)\n",
    "\n",
    "# Save LDA Model\n",
    "temp_file = datapath(file_model)\n",
    "lda_model.save(temp_file)\n",
    "temp_file = datapath(file_model + '_' + str(index).zfill(5))\n",
    "lda_model.save(temp_file)\n",
    "\n",
    "time_end = time.time()\n",
    "hour, rem = divmod(time_end - time_start, 3600)\n",
    "minute, second = divmod(rem, 60)\n",
    "print('time elapsed - {:0>2}:{:0>2}:{:05.2f}'.format(int(hour), int(minute), second))"
   ]
  },
  {
   "cell_type": "markdown",
   "metadata": {},
   "source": [
    "### Incremental learning"
   ]
  },
  {
   "cell_type": "code",
   "execution_count": 14,
   "metadata": {},
   "outputs": [
    {
     "name": "stdout",
     "output_type": "stream",
     "text": [
      "0  -----  250  -----  499\n"
     ]
    },
    {
     "name": "stderr",
     "output_type": "stream",
     "text": [
      "C:\\Users\\minio\\anaconda3\\envs\\tfm-py-37\\lib\\site-packages\\ipykernel\\ipkernel.py:287: DeprecationWarning: `should_run_async` will not call `transform_cell` automatically in the future. Please pass the result to `transformed_cell` argument and any exception that happen during thetransform in `preprocessing_exc_tuple` in IPython 7.17 and above.\n",
      "  and should_run_async(code)\n"
     ]
    },
    {
     "name": "stdout",
     "output_type": "stream",
     "text": [
      "time elapsed - 00:00:21.23\n",
      "1  -----  500  -----  749\n",
      "time elapsed - 00:00:20.90\n",
      "2  -----  750  -----  999\n",
      "time elapsed - 00:00:21.16\n",
      "3  -----  1000  -----  1249\n",
      "time elapsed - 00:00:21.41\n",
      "4  -----  1250  -----  1499\n",
      "time elapsed - 00:00:20.77\n",
      "5  -----  1500  -----  1749\n",
      "time elapsed - 00:00:20.77\n",
      "6  -----  1750  -----  1999\n",
      "time elapsed - 00:00:21.41\n",
      "7  -----  2000  -----  2249\n",
      "time elapsed - 00:00:22.55\n",
      "8  -----  2250  -----  2499\n",
      "time elapsed - 00:00:21.23\n"
     ]
    }
   ],
   "source": [
    "documents_len = len(documents)\n",
    "\n",
    "while index+(index+1)*chunk_size < documents_len:\n",
    "    \n",
    "    time_start = time.time()\n",
    "    \n",
    "    print(index, ' ----- ', (index+1)*chunk_size, ' ----- ', ((index+1)*chunk_size)+chunk_size-1)\n",
    "    documents_sample = documents[(index+1)*chunk_size:((index+1)*chunk_size)+chunk_size-1]\n",
    "    \n",
    "    data_words = list(sent_to_words(documents_sample))\n",
    "    # Compute bigrams & trigrams\n",
    "    bi_tri_grams(data_words, 250)\n",
    "    # Categorizing and tagging words\n",
    "    data_words = list(map(tag_words, data_words))\n",
    "    # Create Corpus\n",
    "    texts = data_words\n",
    "    # Term Document Frequency\n",
    "    corpus = [id2word.doc2bow(text) for text in texts]\n",
    "    # Load LDA Model\n",
    "    temp_file = datapath(file_model)\n",
    "    lda_model = gensim.models.ldamodel.LdaModel.load(temp_file)\n",
    "    # Update LDA Model\n",
    "    lda_model.update(corpus)\n",
    "    \n",
    "    index = index + 1\n",
    "    indixes.append(index)\n",
    "    \n",
    "    # Evaluate LDA Model\n",
    "    # Compute Perplexity Score\n",
    "    perplexity = lda_model.log_perplexity(corpus)\n",
    "    perplexity_score.append(perplexity)\n",
    "\n",
    "    # Evaluate LDA Model\n",
    "    # Compute Coherence Score\n",
    "    coherence_lda_model = CoherenceModel(model=lda_model, texts=data_words, dictionary=id2word, coherence='c_v')\n",
    "    coherence = coherence_lda_model.get_coherence()\n",
    "    coherence_score.append(coherence)\n",
    "    \n",
    "    # Save LDA Model\n",
    "    temp_file = datapath(file_model)\n",
    "    lda_model.save(temp_file)\n",
    "    temp_file = datapath(file_model + '_' + str(index).zfill(5))\n",
    "    lda_model.save(temp_file)\n",
    "    \n",
    "    time_end = time.time()\n",
    "    hour, rem = divmod(time_end - time_start, 3600)\n",
    "    minute, second = divmod(rem, 60)\n",
    "    print('time elapsed - {:0>2}:{:0>2}:{:05.2f}'.format(int(hour), int(minute), second))"
   ]
  },
  {
   "cell_type": "markdown",
   "metadata": {},
   "source": [
    "### Topics in LDA model"
   ]
  },
  {
   "cell_type": "code",
   "execution_count": 15,
   "metadata": {},
   "outputs": [
    {
     "name": "stdout",
     "output_type": "stream",
     "text": [
      "[(0,\n",
      "  '0.075*\"woman\" + 0.027*\"read\" + 0.021*\"body\" + 0.019*\"family\" + '\n",
      "  '0.016*\"fiction\" + 0.016*\"land\" + 0.016*\"babe\" + 0.016*\"edition\" + '\n",
      "  '0.014*\"moon\" + 0.013*\"villa\"'),\n",
      " (1,\n",
      "  '0.027*\"rapper\" + 0.019*\"shoot\" + 0.019*\"kylie\" + 0.017*\"event\" + '\n",
      "  '0.016*\"williams\" + 0.014*\"court\" + 0.014*\"guy\" + 0.012*\"claim\" + '\n",
      "  '0.012*\"jenner\" + 0.012*\"studio\"'),\n",
      " (2,\n",
      "  '0.088*\"beauty\" + 0.062*\"blogger\" + 0.048*\"news\" + 0.031*\"life\" + '\n",
      "  '0.030*\"junkie\" + 0.029*\"share\" + 0.021*\"talk\" + 0.021*\"lover\" + '\n",
      "  '0.021*\"blog\" + 0.018*\"street\"'),\n",
      " (3,\n",
      "  '0.043*\"people\" + 0.022*\"wolf\" + 0.017*\"comment\" + 0.017*\"dire\" + '\n",
      "  '0.015*\"curry\" + 0.013*\"parent\" + 0.013*\"ayesha\" + 0.013*\"fact\" + '\n",
      "  '0.013*\"death\" + 0.011*\"megan\"'),\n",
      " (4,\n",
      "  '0.123*\"fashion\" + 0.061*\"model\" + 0.049*\"style\" + 0.046*\"feature\" + '\n",
      "  '0.030*\"blogger\" + 0.028*\"couverture\" + 0.028*\"week\" + 0.022*\"gram\" + '\n",
      "  '0.022*\"place\" + 0.020*\"magazine\"'),\n",
      " (5,\n",
      "  '0.041*\"follow\" + 0.029*\"boosie\" + 0.026*\"stay\" + 0.023*\"message\" + '\n",
      "  '0.021*\"lion\" + 0.021*\"video\" + 0.015*\"jeff\" + 0.015*\"child\" + 0.015*\"power\" '\n",
      "  '+ 0.012*\"monday\"'),\n",
      " (6,\n",
      "  '0.227*\"bikini\" + 0.222*\"fitness\" + 0.090*\"competitor\" + 0.041*\"ifbb\" + '\n",
      "  '0.029*\"motivation\" + 0.026*\"addict\" + 0.024*\"model\" + 0.022*\"lifestyle\" + '\n",
      "  '0.022*\"hardbody\" + 0.022*\"prep\"'),\n",
      " (7,\n",
      "  '0.061*\"luxury\" + 0.039*\"summer\" + 0.024*\"money\" + 0.018*\"gold\" + '\n",
      "  '0.015*\"millionaire\" + 0.015*\"azalea\" + 0.015*\"mercedes\" + 0.015*\"swipe\" + '\n",
      "  '0.012*\"jewel\" + 0.012*\"morning\"'),\n",
      " (8,\n",
      "  '0.052*\"book\" + 0.031*\"time\" + 0.023*\"star\" + 0.022*\"life\" + 0.022*\"year\" + '\n",
      "  '0.022*\"romance\" + 0.018*\"series\" + 0.017*\"story\" + 0.016*\"today\" + '\n",
      "  '0.012*\"release\"'),\n",
      " (9,\n",
      "  '0.221*\"food\" + 0.041*\"gourmet\" + 0.038*\"tokyo\" + 0.033*\"eats\" + '\n",
      "  '0.029*\"love\" + 0.018*\"japan\" + 0.015*\"beautiful\" + 0.015*\"phone\" + '\n",
      "  '0.015*\"challenge\" + 0.013*\"pick\"')]\n"
     ]
    },
    {
     "name": "stderr",
     "output_type": "stream",
     "text": [
      "C:\\Users\\minio\\anaconda3\\envs\\tfm-py-37\\lib\\site-packages\\ipykernel\\ipkernel.py:287: DeprecationWarning: `should_run_async` will not call `transform_cell` automatically in the future. Please pass the result to `transformed_cell` argument and any exception that happen during thetransform in `preprocessing_exc_tuple` in IPython 7.17 and above.\n",
      "  and should_run_async(code)\n"
     ]
    }
   ],
   "source": [
    "# Print the Keyword in the 10 topics\n",
    "pprint(lda_model.print_topics())\n",
    "doc_lda = lda_model[corpus]"
   ]
  },
  {
   "cell_type": "markdown",
   "metadata": {},
   "source": [
    "### Plot perplexity score progress along incremental learning iterations  \n",
    "\n",
    "Lower the perplexity score represents a better model.  "
   ]
  },
  {
   "cell_type": "code",
   "execution_count": 16,
   "metadata": {},
   "outputs": [
    {
     "name": "stderr",
     "output_type": "stream",
     "text": [
      "C:\\Users\\minio\\anaconda3\\envs\\tfm-py-37\\lib\\site-packages\\ipykernel\\ipkernel.py:287: DeprecationWarning: `should_run_async` will not call `transform_cell` automatically in the future. Please pass the result to `transformed_cell` argument and any exception that happen during thetransform in `preprocessing_exc_tuple` in IPython 7.17 and above.\n",
      "  and should_run_async(code)\n"
     ]
    },
    {
     "data": {
      "image/png": "[encoded data removed]",
      "text/plain": [
       "<Figure size 432x288 with 1 Axes>"
      ]
     },
     "metadata": {
      "needs_background": "light"
     },
     "output_type": "display_data"
    }
   ],
   "source": [
    "plt.title('Perplexity score progress')\n",
    "plt.xlabel('Index')\n",
    "plt.ylabel('Perplexity score')\n",
    "plt.plot(indixes, perplexity_score, 'go', perplexity_score, 'k')\n",
    "plt.show()"
   ]
  },
  {
   "cell_type": "markdown",
   "metadata": {},
   "source": [
    "### Plot coherence score progress along incremental learning iterations  \n",
    "\n",
    "Higher the coherence score represents a more human interpretable model.  "
   ]
  },
  {
   "cell_type": "code",
   "execution_count": 17,
   "metadata": {},
   "outputs": [
    {
     "name": "stderr",
     "output_type": "stream",
     "text": [
      "C:\\Users\\minio\\anaconda3\\envs\\tfm-py-37\\lib\\site-packages\\ipykernel\\ipkernel.py:287: DeprecationWarning: `should_run_async` will not call `transform_cell` automatically in the future. Please pass the result to `transformed_cell` argument and any exception that happen during thetransform in `preprocessing_exc_tuple` in IPython 7.17 and above.\n",
      "  and should_run_async(code)\n"
     ]
    },
    {
     "data": {
      "image/png": "[encoded data removed]",
      "text/plain": [
       "<Figure size 432x288 with 1 Axes>"
      ]
     },
     "metadata": {
      "needs_background": "light"
     },
     "output_type": "display_data"
    }
   ],
   "source": [
    "plt.title('Coherence score progress')\n",
    "plt.xlabel('Index')\n",
    "plt.ylabel('Coherence score')\n",
    "plt.plot(indixes, coherence_score, 'go', coherence_score, 'k') \n",
    "plt.show()"
   ]
  },
  {
   "cell_type": "markdown",
   "metadata": {},
   "source": [
    "### Visualize the topics-keywords"
   ]
  },
  {
   "cell_type": "code",
   "execution_count": 18,
   "metadata": {},
   "outputs": [
    {
     "name": "stderr",
     "output_type": "stream",
     "text": [
      "C:\\Users\\minio\\anaconda3\\envs\\tfm-py-37\\lib\\site-packages\\ipykernel\\ipkernel.py:287: DeprecationWarning: `should_run_async` will not call `transform_cell` automatically in the future. Please pass the result to `transformed_cell` argument and any exception that happen during thetransform in `preprocessing_exc_tuple` in IPython 7.17 and above.\n",
      "  and should_run_async(code)\n"
     ]
    },
    {
     "data": {
      "text/html": [
       "\n",
       "<link rel=\"stylesheet\" type=\"text/css\" href=\"https://cdn.rawgit.com/bmabey/pyLDAvis/files/ldavis.v1.0.0.css\">\n",
       "\n",
       "\n",
       "<div id=\"ldavis_el1174019133322119124151859923\"></div>\n",
       "<script type=\"text/javascript\">\n",
       "\n",
       "var ldavis_el1174019133322119124151859923_data = {\"mdsDat\": {\"x\": [0.06690425281919511, -0.3233644506076324, -0.08516107356838822, -0.2226643997429351, 0.11358385414750374, 0.10372953038314486, 0.09120268921111671, 0.08610433095686712, 0.08154441190031587, 0.08812085450081117], \"y\": [0.20514749016198444, -0.20408593497356783, 0.2883104765415766, 0.08692871937075705, -0.08809736525030361, -0.04257889336246794, -0.06747172755376316, -0.05617362261264224, -0.05349600067059015, -0.06848314165098357], \"topics\": [1, 2, 3, 4, 5, 6, 7, 8, 9, 10], \"cluster\": [1, 1, 1, 1, 1, 1, 1, 1, 1, 1], \"Freq\": [18.29856991671141, 15.328792770834257, 12.940212627863005, 12.052968886326276, 8.980174450808981, 8.339468701418392, 6.580165803988288, 6.232413924001772, 5.642918268125054, 5.604314649922566]}, \"tinfo\": {\"Term\": [\"bikini\", \"fitness\", \"food\", \"fashion\", \"competitor\", \"beauty\", \"blogger\", \"model\", \"book\", \"woman\", \"news\", \"style\", \"ifbb\", \"feature\", \"luxury\", \"life\", \"time\", \"people\", \"motivation\", \"junkie\", \"share\", \"addict\", \"couverture\", \"week\", \"gourmet\", \"star\", \"year\", \"romance\", \"follow\", \"tokyo\", \"book\", \"time\", \"star\", \"romance\", \"year\", \"series\", \"story\", \"today\", \"chance\", \"release\", \"thing\", \"apple\", \"july\", \"kobo\", \"mind\", \"duke\", \"author\", \"friend\", \"kindle\", \"figure\", \"copy\", \"mission\", \"sale\", \"bring\", \"professor\", \"month\", \"post\", \"state\", \"dance\", \"fall\", \"life\", \"love\", \"bikini\", \"fitness\", \"competitor\", \"ifbb\", \"motivation\", \"addict\", \"lifestyle\", \"prep\", \"hardbody\", \"class\", \"championship\", \"winner\", \"athlete\", \"master\", \"playboy\", \"stallion\", \"baby\", \"universe\", \"nello\", \"fight\", \"birthday\", \"mark\", \"chicago\", \"contact\", \"jack\", \"pcusa\", \"patriot\", \"floyd\", \"lauren\", \"michelle\", \"league\", \"model\", \"beauty\", \"news\", \"junkie\", \"share\", \"lover\", \"blog\", \"talk\", \"street\", \"masculina\", \"launch\", \"celeste\", \"watch\", \"skin\", \"sneak\", \"hash\", \"restocks\", \"palette\", \"info\", \"brother\", \"haul\", \"notification\", \"pack\", \"collection\", \"crush\", \"moda\", \"tipo\", \"estilo\", \"inspira\", \"decay\", \"gossip\", \"blogger\", \"life\", \"store\", \"fashion\", \"style\", \"feature\", \"couverture\", \"week\", \"place\", \"gram\", \"magazine\", \"start\", \"photographer\", \"dress\", \"editorial\", \"reach\", \"buzz\", \"messenger\", \"glamour\", \"chanel\", \"channel\", \"influencer\", \"spot\", \"amazon\", \"vogue\", \"shot\", \"hawk\", \"hair\", \"simon\", \"reveal\", \"list\", \"turn\", \"eye\", \"model\", \"blogger\", \"rapper\", \"shoot\", \"kylie\", \"event\", \"williams\", \"court\", \"guy\", \"jenner\", \"studio\", \"claim\", \"medium\", \"image\", \"record\", \"artist\", \"moment\", \"travis\", \"case\", \"deal\", \"singer\", \"secre\", \"denis\", \"mieux\", \"trip\", \"lunch\", \"blige\", \"inspire\", \"match\", \"shut\", \"savage\", \"dupri\", \"people\", \"wolf\", \"comment\", \"dire\", \"curry\", \"parent\", \"fact\", \"death\", \"ayesha\", \"megan\", \"female\", \"business\", \"thriller\", \"loera\", \"olga\", \"status\", \"definition\", \"folk\", \"daughter\", \"breakfast\", \"success\", \"situation\", \"bush\", \"presence\", \"murder\", \"city\", \"queen\", \"storm\", \"swim\", \"salvation\", \"hashem\", \"encounter\", \"woman\", \"read\", \"body\", \"family\", \"fiction\", \"babe\", \"land\", \"edition\", \"kind\", \"villa\", \"work\", \"dirty\", \"cover\", \"anna\", \"tour\", \"respect\", \"care\", \"murphy\", \"fuqua\", \"james\", \"vibe\", \"montegrappa\", \"journey\", \"cute\", \"space\", \"choice\", \"giveaway\", \"decision\", \"director\", \"mankind\", \"moon\", \"admit\", \"food\", \"gourmet\", \"tokyo\", \"eats\", \"japan\", \"beautiful\", \"phone\", \"challenge\", \"pick\", \"dessert\", \"stag\", \"song\", \"michelin\", \"hoku\", \"laga\", \"foodie\", \"kyoto\", \"tag\", \"sweet\", \"foto\", \"weekend\", \"boudoir\", \"izakaya\", \"fuel\", \"coma\", \"trinidad\", \"bass\", \"porn\", \"gasm\", \"spicy\", \"love\", \"eat\", \"luxury\", \"summer\", \"money\", \"gold\", \"millionaire\", \"mercedes\", \"azalea\", \"swipe\", \"jewel\", \"kash\", \"doll\", \"morning\", \"party\", \"jacob\", \"drop\", \"bugatti\", \"division\", \"billionaire\", \"cash\", \"question\", \"interview\", \"piece\", \"album\", \"mille\", \"richard\", \"sula\", \"juliano\", \"fairy\", \"angel\", \"chatila\", \"ghana\", \"follow\", \"boosie\", \"stay\", \"message\", \"lion\", \"video\", \"jeff\", \"child\", \"power\", \"monday\", \"project\", \"type\", \"badazz\", \"bradley\", \"amaze\", \"king\", \"reader\", \"pod\", \"milano\", \"john\", \"meek\", \"mexico\", \"jean\", \"blonde\", \"marie\", \"support\", \"music\", \"edit\", \"plan\", \"jamaica\", \"sponsor\", \"entertainment\"], \"Freq\": [179.0, 175.0, 71.0, 76.0, 71.0, 58.0, 60.0, 56.0, 48.0, 25.0, 32.0, 30.0, 32.0, 28.0, 17.0, 41.0, 28.0, 18.0, 22.0, 20.0, 19.0, 20.0, 17.0, 17.0, 13.0, 21.0, 20.0, 20.0, 11.0, 12.0, 48.71105252666558, 28.869277119146137, 21.653890940900354, 20.752117938088016, 20.752309230024412, 17.144608243528, 16.242268384794045, 15.340569090801237, 11.733071681044477, 11.733240158346257, 11.732997094739, 10.831310963035394, 10.83045453675134, 9.929326486109883, 9.928980756646853, 9.027227058525344, 8.126070050847645, 8.125313657961524, 7.223699041362579, 7.221141169827723, 6.321696575975159, 6.32125388431501, 5.420148209565197, 5.419857761716814, 5.419744127286706, 5.41924615401191, 5.419096981400958, 5.418855672765594, 5.419386551763394, 4.518169875041314, 20.978151298090307, 5.935253958729246, 179.5488916068332, 175.14841022787763, 71.29645927320996, 32.57141338104786, 22.890717179797957, 20.25019959744251, 17.61049353661742, 17.610374454653726, 17.610374454653726, 16.729501646847513, 13.209562292465677, 10.56902780341168, 9.689572217988193, 8.807915086384071, 6.168233282996029, 6.167300474280428, 5.2878706164416895, 4.408857177938955, 4.407914445726379, 4.404146824708401, 3.527285682438354, 3.5233026847823363, 2.648668632509211, 2.6479309859007745, 2.64768271470795, 1.7686499805166536, 1.768495063702774, 1.768315889451846, 1.7681192571969813, 1.7676614899569176, 3.5079095032902883, 18.705713879072466, 58.399104374086136, 31.94086060785663, 20.080523891687875, 19.16711018996832, 13.693337175500258, 13.693306148882382, 13.693405434059581, 11.868037522725306, 9.132156277910422, 9.132148831522132, 9.1320923630776, 9.131466866461242, 8.219569125291054, 7.307555965102372, 7.307524317952139, 7.307494532398979, 7.307398970415925, 7.306989419059976, 7.3057483543449795, 6.39520523531121, 6.3951735881609775, 6.393393901359673, 5.482947585373674, 5.481696592140958, 4.570405111084046, 4.570405111084046, 4.570373153667634, 4.570344919445368, 4.570196301945748, 4.569872384055134, 41.31062120758253, 20.76445107589275, 5.399838445669232, 76.54983892695174, 30.450993602207944, 28.71144406514475, 17.40409810903622, 17.403344415749523, 13.924370186523387, 13.924706574171283, 12.185040284006929, 12.184019561350254, 10.445843318189814, 10.445182102607006, 9.575961044327446, 9.575934456987577, 9.57592520921719, 8.706195523566237, 8.706195523566237, 8.706195523566237, 8.706195523566237, 8.706195523566237, 8.705149369540992, 8.704932046936852, 7.836433470718926, 6.9656246858607185, 6.09647703175862, 5.226994145979923, 5.226735786394682, 5.226367031550424, 5.225719109637551, 5.225711017838462, 5.2252295557925885, 38.06666892208802, 18.908982004566944, 12.556653086309328, 8.971445898185994, 8.971204743436033, 8.075145177738865, 7.178806561545314, 6.282502826663811, 6.282206120194663, 5.386196507981415, 5.386179713275615, 5.386294692415328, 5.384904176901713, 4.489939281515976, 4.489947894185618, 4.489968995226239, 4.489238210207161, 4.489777793960199, 3.5938319155022986, 3.59374708070633, 3.5934968826532456, 3.593599804055461, 3.593599804055461, 3.593599804055461, 3.5930905799629094, 3.5929271545564627, 3.5935668605940827, 3.5928266016383987, 3.592623127318119, 3.593539515367971, 3.592381541934676, 3.593287379464217, 18.509280974577372, 9.259167459514684, 7.408828348337375, 7.408745167222269, 6.483829553980214, 5.558837158170369, 5.558684392853201, 5.5584700415181185, 5.558830359713845, 4.633897550375879, 4.633859559001191, 4.633106529963952, 4.632901776449843, 3.7090963111670963, 3.7090963111670963, 3.708907953930485, 3.708830371544279, 3.7085012462667177, 3.7083528799508305, 3.7083136888485204, 3.7083272857615666, 3.7081773198088506, 3.70879397980642, 3.70879397980642, 3.700480667206239, 2.783988141641754, 2.7838139811819995, 2.7836174258066393, 2.7832809022087437, 2.783790986402583, 2.7837725905790496, 3.072471646244136, 25.408931665856176, 9.080037153101955, 7.265247974561529, 6.358136112670006, 5.451553733525629, 5.451395961550913, 5.451440768791732, 5.4510179398994945, 4.5442235152211, 4.544225408484796, 3.637834880061674, 3.6370876719894203, 3.6373262232151906, 3.637000581859377, 3.6371040802747907, 3.636774336847635, 3.6268328091768502, 2.7303449965187325, 2.7301572478688207, 2.7300225106024136, 2.730025034954009, 2.730065740123486, 2.729954984197235, 2.7299010261818824, 2.729921852082545, 2.729775439690009, 2.7294021511978315, 2.7290332803209463, 1.8230381284664612, 1.8229297391198316, 4.637391337274155, 2.030437593372913, 70.9359052491911, 13.052126574448605, 12.236862692226616, 10.60631101834859, 5.714519115204575, 4.898904362037909, 4.898589654112231, 4.898443507696603, 4.084166188497084, 4.083947716043457, 4.083881666231894, 4.082922897926507, 3.26889453570903, 3.2688703274070545, 3.268872419482534, 3.2687878398595838, 2.45363857348707, 2.453543234618797, 2.453534119147066, 2.4535533961282683, 2.4530365040509094, 1.6383373327743787, 1.6382963878685688, 1.6382956406987548, 1.6382956406987548, 1.6382784557930317, 1.6382745705099986, 1.6382802490005854, 1.6382802490005854, 1.6382802490005854, 9.324942880839847, 2.387297963433525, 17.578710867100504, 11.428614992778426, 7.036321797645831, 5.279277879087947, 4.400899066875381, 4.400781626749091, 4.400784873941523, 4.399817751795539, 3.522405791129587, 3.5223091871547365, 3.5223091871547365, 3.5223224465238334, 3.52225939687078, 3.5216965501825745, 3.521708456554825, 2.643901150210282, 2.643804816834801, 2.6437677447212025, 2.643605385099605, 2.642781410019997, 2.642203409767109, 2.6438275471818242, 1.7655433094488382, 1.7654365579976379, 1.7654365579976379, 1.7654224868304327, 1.7654224868304327, 1.7654147747484068, 1.7654147747484068, 1.7653606548745409, 1.9046673750003082, 11.83994935688015, 8.4593692360137, 7.613991201125743, 6.7686905657133885, 5.924318724008263, 5.92328350602208, 4.233762065381296, 4.2335889915539076, 4.233452736227066, 3.388687984683986, 3.3886277850918507, 3.388562210536132, 3.3885984915403204, 3.3885632855288486, 3.388647134960751, 3.388137319664856, 3.387531561268995, 2.543473886185325, 2.543473886185325, 2.543502373492318, 2.5434685112217417, 2.543351605763801, 2.5433096810478495, 2.5433322558949, 2.5432424940030556, 2.5433010811061156, 2.5432529751820434, 2.542226357137594, 2.542219369684936, 1.698401821099359, 1.69843407088086, 2.7908154666446654], \"Total\": [179.0, 175.0, 71.0, 76.0, 71.0, 58.0, 60.0, 56.0, 48.0, 25.0, 32.0, 30.0, 32.0, 28.0, 17.0, 41.0, 28.0, 18.0, 22.0, 20.0, 19.0, 20.0, 17.0, 17.0, 13.0, 21.0, 20.0, 20.0, 11.0, 12.0, 48.787481111408205, 28.945720996097013, 21.730326776930934, 20.828542357617998, 20.828757689360344, 17.221037400709548, 16.318723604751618, 15.41701096866457, 11.809499084056563, 11.809669669629523, 11.809440402491516, 10.907736799968507, 10.906916254345676, 10.005752605205917, 10.0054197548442, 9.103651518152345, 8.202492770832826, 8.201754665135693, 7.3001254745948785, 7.2976305393064775, 6.3981216271363435, 6.397702024868934, 5.496571990067111, 5.496280562933317, 5.496170095909912, 5.495702719348291, 5.49555586044622, 5.495316019218061, 5.4958593182599484, 4.594592329524094, 41.81024676413737, 15.328793638811614, 179.62552362104378, 175.2250419486624, 71.37309034834293, 32.6480444801879, 22.967356785770058, 20.326844156780588, 17.68712460857928, 17.687005526087074, 17.687005526087074, 16.806165446505126, 13.286210718869054, 10.645675228628098, 9.76620328438997, 8.884599782666008, 6.244892941465973, 6.244007732406948, 5.364541415331666, 4.485488232567595, 4.484580804281772, 4.480965494400802, 3.6039764513276182, 3.6001547887064635, 2.725299660058931, 2.7245940782195155, 2.7243440440703424, 1.8452809992582895, 1.8451263482338969, 1.8449572264382181, 1.8447664564106765, 1.8443262411620311, 4.507482939847588, 56.840640446172195, 58.47542808028958, 32.017186496629726, 20.156844567624912, 19.243458074375717, 13.769671127850145, 13.769641275094557, 13.769746113063979, 11.944402139723563, 9.208477597396556, 9.2084716205258, 9.208416559028423, 9.207828202128509, 8.29589018944831, 7.383876626649546, 7.38384498011561, 7.383815193946154, 7.383719570943048, 7.383326383823537, 7.382113901711509, 6.471525916752642, 6.471494284461812, 6.469780071060683, 5.559269187986444, 5.558048440342768, 4.646726437385446, 4.646726437385446, 4.646694479969034, 4.646666155085216, 4.646519622767515, 4.64620986279536, 60.28754363268623, 41.81024676413737, 7.242922520349327, 76.62657293144477, 30.52773562429162, 28.78817901012032, 17.480828526193353, 17.48010480715698, 14.001119240966723, 14.00145867717348, 12.261781588360074, 12.260792205108569, 10.52257724793617, 10.521936124747636, 9.652691460108974, 9.652667646091594, 9.652660510033021, 8.782925941504445, 8.782925941504445, 8.782925941504445, 8.782925941504445, 8.782925941504445, 8.781918780582181, 8.781706732571426, 7.913163894315414, 7.0423875704577314, 6.173241797562211, 5.303734611886729, 5.30349384810676, 5.3031262553279435, 5.302490618058879, 5.3024880637791725, 5.302011024944157, 56.840640446172195, 60.28754363268623, 12.633133847048429, 9.04792669887169, 9.047687930373167, 8.15162669748545, 7.255286504680824, 6.358989903554427, 6.358707448733795, 5.4626754478366975, 5.462663578210602, 5.462781415025215, 5.461430197853285, 4.56642159274682, 4.56643082969972, 4.566453565702253, 4.565743404745692, 4.566343721734628, 3.6703082396372473, 3.670223019896993, 3.6699849200037153, 3.6700986272634397, 3.6700986272634397, 3.6700986272634397, 3.669588662214108, 3.669438574699098, 3.670093511232682, 3.6693378464540656, 3.669134135003334, 3.6700924150738574, 3.668915303609639, 3.670092827316949, 18.58549131715798, 9.335366552011608, 7.4850398921432255, 7.485083494699473, 6.560080519598391, 5.635047786194243, 5.634899327870648, 5.634685068544446, 5.635069491379764, 4.710099690371874, 4.710064081584829, 4.709329281970614, 4.709132347118597, 3.7852954421423446, 3.7852954421423446, 3.78511319695958, 3.7850502249900337, 3.7847181633190683, 3.784575446061162, 3.7845398949932116, 3.784554555730157, 3.784409080820774, 3.785044519327767, 3.7850445268499797, 3.7847498913063555, 2.8601874842619237, 2.8600172408493747, 2.859826718247893, 2.859505112415212, 2.8600324042122964, 2.86003753454447, 5.577525008231878, 25.4853174747265, 9.156422858976526, 7.341638401738574, 6.434538390645843, 5.527927481396103, 5.527773352878424, 5.527820792854732, 5.527411500399817, 4.620601770004189, 4.6206071312896, 3.714212969901388, 3.7134635640902305, 3.713709137186917, 3.71338014064982, 3.713486043906958, 3.7131658481558922, 3.712754962987779, 2.80671709418382, 2.8065293491023198, 2.8063962702697602, 2.8063990977756155, 2.8064411610760027, 2.8063313580303895, 2.8062813340963104, 2.8063028312694254, 2.8061598499254155, 2.805794722756165, 2.805445705349563, 1.89941024204547, 1.8993034996485922, 6.399381308356025, 3.6740537688578563, 71.01316127090735, 13.129382354519, 12.31411849756776, 10.683566794970105, 5.791778392449683, 4.9761778686604075, 4.9758800232222224, 4.975737218319369, 4.16142194168535, 4.161208356197054, 4.161149009836557, 4.160234208562511, 3.346150449022053, 3.346126162741978, 3.346128454256692, 3.346044590382052, 2.5308944949810774, 2.5307996088053915, 2.5307911285924254, 2.530811878850977, 2.530316513244024, 1.7155934080583874, 1.7155522920949233, 1.715551857411668, 1.7155518580176565, 1.7155351185763232, 1.7155314335595278, 1.7155375011942273, 1.7155375011942273, 1.7155375011942273, 15.328793638811614, 3.433416388264856, 17.655367075226863, 11.505279657187522, 7.112982171665426, 5.3559327768923275, 4.477546417831052, 4.477429679161341, 4.477435785604623, 4.476506310374871, 3.5990523448550134, 3.5989591092888196, 3.5989591651209687, 3.59897439989747, 3.598916947248559, 3.5983626520396035, 3.5983847079825173, 2.7205480631576116, 2.720453857383037, 2.720421691777745, 2.720268358461279, 2.7194757829305667, 2.7189236546806343, 2.7206260402152456, 1.8421900529364807, 1.842083560339469, 1.842083560339469, 1.8420690458650462, 1.8420690458650462, 1.8420621062458589, 1.8420621068621557, 1.8420076850227738, 3.582626050225462, 11.91721515904612, 8.536351739768309, 7.690973507343991, 6.845678962342659, 6.001287410149179, 6.000298015137624, 4.310736219277537, 4.3105817382544735, 4.310444530907829, 3.465657196369157, 3.465600249653964, 3.4655335443190056, 3.465570927645735, 3.4655359769003415, 3.465627138980689, 3.4651218626389757, 3.4645349823381006, 2.620442936976884, 2.620442936976884, 2.620472978955672, 2.620439900219136, 2.620327520453833, 2.6202865650579867, 2.620310931611506, 2.6202242648600738, 2.620285317159854, 2.6202400971282387, 2.619243434039572, 2.6192374446379794, 1.775370080789294, 1.7754040306814627, 3.5017824768978163], \"Category\": [\"Default\", \"Default\", \"Default\", \"Default\", \"Default\", \"Default\", \"Default\", \"Default\", \"Default\", \"Default\", \"Default\", \"Default\", \"Default\", \"Default\", \"Default\", \"Default\", \"Default\", \"Default\", \"Default\", \"Default\", \"Default\", \"Default\", \"Default\", \"Default\", \"Default\", \"Default\", \"Default\", \"Default\", \"Default\", \"Default\", \"Topic1\", \"Topic1\", \"Topic1\", \"Topic1\", \"Topic1\", \"Topic1\", \"Topic1\", \"Topic1\", \"Topic1\", \"Topic1\", \"Topic1\", \"Topic1\", \"Topic1\", \"Topic1\", \"Topic1\", \"Topic1\", \"Topic1\", \"Topic1\", \"Topic1\", \"Topic1\", \"Topic1\", \"Topic1\", \"Topic1\", \"Topic1\", \"Topic1\", \"Topic1\", \"Topic1\", \"Topic1\", \"Topic1\", \"Topic1\", \"Topic1\", \"Topic1\", \"Topic2\", \"Topic2\", \"Topic2\", \"Topic2\", \"Topic2\", \"Topic2\", \"Topic2\", \"Topic2\", \"Topic2\", \"Topic2\", \"Topic2\", \"Topic2\", \"Topic2\", \"Topic2\", \"Topic2\", \"Topic2\", \"Topic2\", \"Topic2\", \"Topic2\", \"Topic2\", \"Topic2\", \"Topic2\", \"Topic2\", \"Topic2\", \"Topic2\", \"Topic2\", \"Topic2\", \"Topic2\", \"Topic2\", \"Topic2\", \"Topic2\", \"Topic2\", \"Topic3\", \"Topic3\", \"Topic3\", \"Topic3\", \"Topic3\", \"Topic3\", \"Topic3\", \"Topic3\", \"Topic3\", \"Topic3\", \"Topic3\", \"Topic3\", \"Topic3\", \"Topic3\", \"Topic3\", \"Topic3\", \"Topic3\", \"Topic3\", \"Topic3\", \"Topic3\", \"Topic3\", \"Topic3\", \"Topic3\", \"Topic3\", \"Topic3\", \"Topic3\", \"Topic3\", \"Topic3\", \"Topic3\", \"Topic3\", \"Topic3\", \"Topic3\", \"Topic3\", \"Topic4\", \"Topic4\", \"Topic4\", \"Topic4\", \"Topic4\", \"Topic4\", \"Topic4\", \"Topic4\", \"Topic4\", \"Topic4\", \"Topic4\", \"Topic4\", \"Topic4\", \"Topic4\", \"Topic4\", \"Topic4\", \"Topic4\", \"Topic4\", \"Topic4\", \"Topic4\", \"Topic4\", \"Topic4\", \"Topic4\", \"Topic4\", \"Topic4\", \"Topic4\", \"Topic4\", \"Topic4\", \"Topic4\", \"Topic4\", \"Topic4\", \"Topic4\", \"Topic5\", \"Topic5\", \"Topic5\", \"Topic5\", \"Topic5\", \"Topic5\", \"Topic5\", \"Topic5\", \"Topic5\", \"Topic5\", \"Topic5\", \"Topic5\", \"Topic5\", \"Topic5\", \"Topic5\", \"Topic5\", \"Topic5\", \"Topic5\", \"Topic5\", \"Topic5\", \"Topic5\", \"Topic5\", \"Topic5\", \"Topic5\", \"Topic5\", \"Topic5\", \"Topic5\", \"Topic5\", \"Topic5\", \"Topic5\", \"Topic6\", \"Topic6\", \"Topic6\", \"Topic6\", \"Topic6\", \"Topic6\", \"Topic6\", \"Topic6\", \"Topic6\", \"Topic6\", \"Topic6\", \"Topic6\", \"Topic6\", \"Topic6\", \"Topic6\", \"Topic6\", \"Topic6\", \"Topic6\", \"Topic6\", \"Topic6\", \"Topic6\", \"Topic6\", \"Topic6\", \"Topic6\", \"Topic6\", \"Topic6\", \"Topic6\", \"Topic6\", \"Topic6\", \"Topic6\", \"Topic6\", \"Topic6\", \"Topic7\", \"Topic7\", \"Topic7\", \"Topic7\", \"Topic7\", \"Topic7\", \"Topic7\", \"Topic7\", \"Topic7\", \"Topic7\", \"Topic7\", \"Topic7\", \"Topic7\", \"Topic7\", \"Topic7\", \"Topic7\", \"Topic7\", \"Topic7\", \"Topic7\", \"Topic7\", \"Topic7\", \"Topic7\", \"Topic7\", \"Topic7\", \"Topic7\", \"Topic7\", \"Topic7\", \"Topic7\", \"Topic7\", \"Topic7\", \"Topic7\", \"Topic7\", \"Topic8\", \"Topic8\", \"Topic8\", \"Topic8\", \"Topic8\", \"Topic8\", \"Topic8\", \"Topic8\", \"Topic8\", \"Topic8\", \"Topic8\", \"Topic8\", \"Topic8\", \"Topic8\", \"Topic8\", \"Topic8\", \"Topic8\", \"Topic8\", \"Topic8\", \"Topic8\", \"Topic8\", \"Topic8\", \"Topic8\", \"Topic8\", \"Topic8\", \"Topic8\", \"Topic8\", \"Topic8\", \"Topic8\", \"Topic8\", \"Topic8\", \"Topic8\", \"Topic9\", \"Topic9\", \"Topic9\", \"Topic9\", \"Topic9\", \"Topic9\", \"Topic9\", \"Topic9\", \"Topic9\", \"Topic9\", \"Topic9\", \"Topic9\", \"Topic9\", \"Topic9\", \"Topic9\", \"Topic9\", \"Topic9\", \"Topic9\", \"Topic9\", \"Topic9\", \"Topic9\", \"Topic9\", \"Topic9\", \"Topic9\", \"Topic9\", \"Topic9\", \"Topic9\", \"Topic9\", \"Topic9\", \"Topic9\", \"Topic9\", \"Topic10\", \"Topic10\", \"Topic10\", \"Topic10\", \"Topic10\", \"Topic10\", \"Topic10\", \"Topic10\", \"Topic10\", \"Topic10\", \"Topic10\", \"Topic10\", \"Topic10\", \"Topic10\", \"Topic10\", \"Topic10\", \"Topic10\", \"Topic10\", \"Topic10\", \"Topic10\", \"Topic10\", \"Topic10\", \"Topic10\", \"Topic10\", \"Topic10\", \"Topic10\", \"Topic10\", \"Topic10\", \"Topic10\", \"Topic10\", \"Topic10\", \"Topic10\"], \"logprob\": [30.0, 29.0, 28.0, 27.0, 26.0, 25.0, 24.0, 23.0, 22.0, 21.0, 20.0, 19.0, 18.0, 17.0, 16.0, 15.0, 14.0, 13.0, 12.0, 11.0, 10.0, 9.0, 8.0, 7.0, 6.0, 5.0, 4.0, 3.0, 2.0, 1.0, -2.9623000621795654, -3.4853999614715576, -3.7730000019073486, -3.8155999183654785, -3.8155999183654785, -4.006499767303467, -4.0605998039245605, -4.117700099945068, -4.385799884796143, -4.385799884796143, -4.385799884796143, -4.465799808502197, -4.465799808502197, -4.552700042724609, -4.552800178527832, -4.6479997634887695, -4.7530999183654785, -4.753200054168701, -4.870800018310547, -4.871200084686279, -5.004199981689453, -5.004300117492676, -5.158100128173828, -5.158100128173828, -5.158199787139893, -5.158299922943115, -5.158299922943115, -5.158299922943115, -5.158199787139893, -5.340099811553955, -3.8046998977661133, -5.067299842834473, -1.4807000160217285, -1.5054999589920044, -2.4042999744415283, -3.187700033187866, -3.5404000282287598, -3.6630001068115234, -3.8025999069213867, -3.8025999069213867, -3.8025999069213867, -3.8538999557495117, -4.090199947357178, -4.313199996948242, -4.400100231170654, -4.495500087738037, -4.8516998291015625, -4.851900100708008, -5.00570011138916, -5.1875, -5.187699794769287, -5.188600063323975, -5.410600185394287, -5.4116997718811035, -5.6971001625061035, -5.697299957275391, -5.697400093078613, -6.100900173187256, -6.10099983215332, -6.101099967956543, -6.101200103759766, -6.101500034332275, -5.416100025177002, -3.742300033569336, -2.4344000816345215, -3.0378000736236572, -3.502000093460083, -3.5485000610351562, -3.8847999572753906, -3.8847999572753906, -3.8847999572753906, -4.027900218963623, -4.289899826049805, -4.289899826049805, -4.289899826049805, -4.289999961853027, -4.395199775695801, -4.512800216674805, -4.512800216674805, -4.512800216674805, -4.512800216674805, -4.512899875640869, -4.5131001472473145, -4.646200180053711, -4.646200180053711, -4.646500110626221, -4.800099849700928, -4.800300121307373, -4.982100009918213, -4.982100009918213, -4.982100009918213, -4.982100009918213, -4.9822001457214355, -4.9822001457214355, -2.780600070953369, -3.4684998989105225, -4.815400123596191, -2.0927999019622803, -3.0146000385284424, -3.0734000205993652, -3.5739998817443848, -3.5739998817443848, -3.797100067138672, -3.796999931335449, -3.930500030517578, -3.9305999279022217, -4.084499835968018, -4.08459997177124, -4.17140007019043, -4.17140007019043, -4.17140007019043, -4.26669979095459, -4.26669979095459, -4.26669979095459, -4.26669979095459, -4.26669979095459, -4.2667999267578125, -4.2667999267578125, -4.3719000816345215, -4.489699840545654, -4.623000144958496, -4.776899814605713, -4.776899814605713, -4.7769999504089355, -4.777100086212158, -4.777100086212158, -4.777200222015381, -2.7913999557495117, -3.4911000728607178, -3.6061999797821045, -3.9423999786376953, -3.9423999786376953, -4.047599792480469, -4.165299892425537, -4.298600196838379, -4.298699855804443, -4.452600002288818, -4.452600002288818, -4.452499866485596, -4.4527997970581055, -4.6346001625061035, -4.6346001625061035, -4.6346001625061035, -4.634699821472168, -4.6346001625061035, -4.8572001457214355, -4.8572001457214355, -4.8572998046875, -4.8572998046875, -4.8572998046875, -4.8572998046875, -4.857399940490723, -4.857399940490723, -4.8572998046875, -4.857500076293945, -4.857500076293945, -4.8572998046875, -4.857600212097168, -4.8572998046875, -3.1440999507904053, -3.8368000984191895, -4.059700012207031, -4.059700012207031, -4.1930999755859375, -4.3470001220703125, -4.3470001220703125, -4.347099781036377, -4.3470001220703125, -4.5289998054504395, -4.5289998054504395, -4.529200077056885, -4.529200077056885, -4.7515997886657715, -4.7515997886657715, -4.7515997886657715, -4.751699924468994, -4.751800060272217, -4.751800060272217, -4.751800060272217, -4.751800060272217, -4.751800060272217, -4.751699924468994, -4.751699924468994, -4.753900051116943, -5.03849983215332, -5.038599967956543, -5.038599967956543, -5.03879976272583, -5.038599967956543, -5.038599967956543, -4.939899921417236, -2.5903000831604004, -3.6194000244140625, -3.8422999382019043, -3.9756999015808105, -4.129499912261963, -4.1296000480651855, -4.1296000480651855, -4.1296000480651855, -4.311600208282471, -4.311600208282471, -4.53410005569458, -4.534299850463867, -4.534200191497803, -4.534299850463867, -4.534299850463867, -4.53439998626709, -4.537099838256836, -4.821000099182129, -4.821100234985352, -4.821100234985352, -4.821100234985352, -4.821100234985352, -4.821199893951416, -4.821199893951416, -4.821199893951416, -4.821199893951416, -4.821400165557861, -4.821499824523926, -5.224899768829346, -5.224999904632568, -4.291299819946289, -5.117199897766113, -1.5094000101089478, -3.202199935913086, -3.266700029373169, -3.4096999168395996, -4.02810001373291, -4.18209981918335, -4.182199954986572, -4.182199954986572, -4.363999843597412, -4.364099979400635, -4.364099979400635, -4.364299774169922, -4.586699962615967, -4.586699962615967, -4.586699962615967, -4.586699962615967, -4.873600006103516, -4.873600006103516, -4.873600006103516, -4.873600006103516, -4.873799800872803, -5.277500152587891, -5.277500152587891, -5.277500152587891, -5.277500152587891, -5.277500152587891, -5.277500152587891, -5.277500152587891, -5.277500152587891, -5.277500152587891, -3.5385000705718994, -4.901000022888184, -2.8050999641418457, -3.2356998920440674, -3.7207000255584717, -4.007999897003174, -4.190000057220459, -4.190000057220459, -4.190000057220459, -4.190199851989746, -4.412600040435791, -4.412700176239014, -4.412700176239014, -4.412700176239014, -4.412700176239014, -4.412799835205078, -4.412799835205078, -4.69950008392334, -4.6996002197265625, -4.6996002197265625, -4.6996002197265625, -4.699999809265137, -4.700200080871582, -4.6996002197265625, -5.103300094604492, -5.103400230407715, -5.103400230407715, -5.103400230407715, -5.103400230407715, -5.103400230407715, -5.103400230407715, -5.103400230407715, -5.027500152587891, -3.1933999061584473, -3.529599905014038, -3.6349000930786133, -3.7525999546051025, -3.8859000205993652, -3.885999917984009, -4.221799850463867, -4.22189998626709, -4.22189998626709, -4.444499969482422, -4.444499969482422, -4.444499969482422, -4.444499969482422, -4.444499969482422, -4.444499969482422, -4.4446001052856445, -4.444799900054932, -4.731400012969971, -4.731400012969971, -4.731400012969971, -4.731400012969971, -4.731400012969971, -4.731500148773193, -4.731400012969971, -4.731500148773193, -4.731500148773193, -4.731500148773193, -4.731900215148926, -4.731900215148926, -5.135200023651123, -5.135200023651123, -4.638599872589111], \"loglift\": [30.0, 29.0, 28.0, 27.0, 26.0, 25.0, 24.0, 23.0, 22.0, 21.0, 20.0, 19.0, 18.0, 17.0, 16.0, 15.0, 14.0, 13.0, 12.0, 11.0, 10.0, 9.0, 8.0, 7.0, 6.0, 5.0, 4.0, 3.0, 2.0, 1.0, 1.6968, 1.6957, 1.6948, 1.6947, 1.6947, 1.6939, 1.6937, 1.6934, 1.6919, 1.6919, 1.6919, 1.6913, 1.6913, 1.6907, 1.6907, 1.6899, 1.689, 1.689, 1.6878, 1.6878, 1.6863, 1.6863, 1.6843, 1.6843, 1.6843, 1.6843, 1.6843, 1.6843, 1.6843, 1.6816, 1.0087, 0.7495, 1.875, 1.875, 1.8744, 1.8731, 1.8721, 1.8717, 1.8711, 1.8711, 1.8711, 1.8709, 1.8697, 1.8682, 1.8676, 1.8668, 1.8631, 1.8631, 1.861, 1.8582, 1.8582, 1.8581, 1.8539, 1.8539, 1.8469, 1.8469, 1.8469, 1.833, 1.833, 1.833, 1.833, 1.833, 1.6247, 0.764, 2.0435, 2.0424, 2.041, 2.0409, 2.0393, 2.0393, 2.0393, 2.0384, 2.0365, 2.0365, 2.0365, 2.0365, 2.0356, 2.0344, 2.0344, 2.0344, 2.0344, 2.0344, 2.0344, 2.033, 2.033, 2.033, 2.031, 2.031, 2.0283, 2.0283, 2.0283, 2.0283, 2.0283, 2.0283, 1.6668, 1.3449, 1.7512, 2.1149, 2.1133, 2.1132, 2.1115, 2.1115, 2.1104, 2.1104, 2.1096, 2.1096, 2.1085, 2.1085, 2.1079, 2.1079, 2.1079, 2.1071, 2.1071, 2.1071, 2.1071, 2.1071, 2.1071, 2.1071, 2.1061, 2.1049, 2.1033, 2.1013, 2.1013, 2.1013, 2.1013, 2.1013, 2.1013, 1.7149, 0.9564, 2.4041, 2.4017, 2.4017, 2.4007, 2.3996, 2.398, 2.398, 2.3961, 2.3961, 2.3961, 2.396, 2.3933, 2.3933, 2.3933, 2.3933, 2.3932, 2.3891, 2.3891, 2.3891, 2.3891, 2.3891, 2.3891, 2.3891, 2.3891, 2.3891, 2.3891, 2.3891, 2.3891, 2.3891, 2.389, 2.4801, 2.476, 2.4739, 2.4739, 2.4725, 2.4706, 2.4706, 2.4706, 2.4705, 2.4679, 2.4679, 2.4679, 2.4679, 2.4638, 2.4638, 2.4638, 2.4638, 2.4638, 2.4638, 2.4638, 2.4638, 2.4638, 2.4638, 2.4638, 2.4617, 2.4572, 2.4572, 2.4572, 2.4572, 2.4572, 2.4571, 1.8879, 2.7181, 2.7127, 2.7107, 2.7092, 2.7072, 2.7072, 2.7072, 2.7072, 2.7044, 2.7044, 2.7003, 2.7003, 2.7003, 2.7003, 2.7003, 2.7003, 2.6977, 2.6935, 2.6935, 2.6935, 2.6935, 2.6935, 2.6935, 2.6935, 2.6935, 2.6935, 2.6935, 2.6935, 2.6801, 2.6801, 2.3991, 2.1281, 2.7743, 2.7695, 2.7691, 2.7681, 2.762, 2.7598, 2.7598, 2.7598, 2.7567, 2.7567, 2.7567, 2.7566, 2.752, 2.752, 2.752, 2.752, 2.7444, 2.7444, 2.7444, 2.7444, 2.7444, 2.7293, 2.7293, 2.7293, 2.7293, 2.7293, 2.7293, 2.7293, 2.7293, 2.7293, 2.2784, 2.412, 2.8704, 2.8681, 2.8639, 2.8604, 2.8575, 2.8575, 2.8575, 2.8575, 2.8532, 2.8532, 2.8532, 2.8532, 2.8532, 2.8532, 2.8532, 2.8462, 2.8462, 2.8462, 2.8462, 2.8462, 2.8461, 2.8461, 2.8323, 2.8323, 2.8323, 2.8323, 2.8323, 2.8323, 2.8323, 2.8323, 2.243, 2.8751, 2.8726, 2.8716, 2.8703, 2.8687, 2.8687, 2.8636, 2.8636, 2.8636, 2.8592, 2.8592, 2.8592, 2.8592, 2.8592, 2.8592, 2.8592, 2.8592, 2.8518, 2.8518, 2.8518, 2.8518, 2.8518, 2.8518, 2.8518, 2.8518, 2.8518, 2.8518, 2.8518, 2.8518, 2.8373, 2.8373, 2.6547]}, \"token.table\": {\"Topic\": [2, 1, 5, 7, 9, 10, 4, 9, 7, 1, 5, 2, 1, 6, 9, 7, 2, 10, 8, 8, 3, 2, 9, 2, 5, 3, 3, 4, 10, 7, 1, 10, 8, 10, 6, 1, 3, 9, 6, 6, 4, 7, 5, 9, 3, 8, 2, 1, 4, 4, 9, 2, 10, 7, 6, 5, 2, 3, 8, 6, 2, 2, 1, 5, 4, 7, 3, 6, 7, 1, 6, 5, 6, 3, 7, 6, 5, 8, 6, 7, 7, 9, 9, 4, 9, 1, 5, 5, 8, 8, 10, 7, 4, 1, 6, 7, 5, 10, 3, 5, 4, 6, 9, 1, 7, 4, 4, 6, 7, 2, 1, 2, 2, 6, 10, 8, 8, 8, 1, 8, 7, 8, 4, 9, 7, 4, 9, 3, 8, 4, 5, 4, 2, 3, 6, 3, 4, 8, 2, 5, 4, 3, 3, 5, 9, 8, 2, 9, 10, 7, 8, 10, 10, 5, 9, 10, 7, 9, 1, 3, 9, 7, 1, 10, 1, 5, 8, 8, 7, 3, 2, 1, 2, 1, 3, 2, 10, 4, 6, 1, 8, 3, 5, 9, 4, 7, 10, 2, 3, 2, 5, 5, 10, 6, 9, 10, 4, 10, 8, 2, 5, 10, 9, 9, 1, 1, 3, 2, 4, 5, 10, 9, 7, 1, 6, 7, 10, 9, 2, 6, 7, 10, 2, 3, 3, 6, 3, 3, 6, 9, 2, 2, 6, 8, 4, 8, 9, 4, 10, 2, 10, 8, 1, 10, 2, 6, 1, 10, 6, 9, 5, 4, 7, 10, 5, 1, 7, 3, 4, 9, 1, 1, 6, 5, 5, 1, 3, 5, 4, 5, 4, 5, 6, 3, 3, 8, 7, 8, 10, 4, 8, 2, 1, 4, 1, 6, 10, 3, 10, 6, 1, 3, 5, 4, 6, 9, 9, 10, 8, 6, 9, 8, 3, 1, 6, 1, 3, 1, 8, 7, 5, 8, 5, 4, 10, 2, 7, 10, 7, 4, 3, 4, 8, 5, 2, 6, 7, 7, 1], \"Freq\": [0.98392056561955, 0.2721789235846887, 0.2721789235846887, 0.5443578471693774, 1.0856643139571662, 0.8656441907026272, 1.0248577268720354, 1.085739722102466, 1.0771857037238377, 1.0084585099295538, 0.875953284632789, 1.0239393660772682, 0.9753132643343657, 1.06476060484764, 0.893368479534732, 0.9045233371220617, 0.9320461178117071, 0.865658231395076, 1.1658195011036512, 1.0047872346946485, 0.9918696092376306, 1.0020847615161097, 1.1027702098785854, 1.1098851654611939, 1.0898904858302947, 1.016729464501163, 0.6800741501395479, 0.3151563134793027, 1.1449022952993533, 0.9534656458076619, 1.004356012726021, 0.9371685052210763, 1.165777386766418, 0.8656669617619356, 1.0569316511346156, 0.9097061081124184, 0.9482378751128565, 1.1027189854231216, 1.0567907403927734, 1.0617223176859178, 1.0359838087754099, 1.077367087210373, 1.0898267226720275, 1.1028323697066975, 0.9773667320877137, 1.004876218460915, 0.978458062654194, 1.016131159720451, 1.02471546042188, 1.02471546042188, 1.0857718001188865, 1.1007963799236407, 0.9279489968840632, 1.0690766600768438, 1.04888229058668, 0.915284654488948, 1.0115335383381687, 0.8993987934250383, 1.1658056214698325, 0.935198756568772, 0.9947726748761749, 1.1010814506212458, 0.9377752330546842, 0.943546080588402, 0.9724939509890577, 1.0770902761194552, 0.8995963337972721, 0.9146229199588118, 1.0690303796522496, 0.9097758349431435, 1.0569217226632497, 1.08985202760574, 1.0648332474684201, 1.0760742245659447, 1.0693488005415508, 1.0567891473647573, 1.0898889665487128, 0.9612592443353681, 0.9351933087930171, 1.0529584161061516, 1.0771615046073486, 1.1027571711456539, 1.111432449349714, 0.950395429267049, 1.1116098818246296, 0.9886142919744162, 1.0898906889295856, 0.29125509024128865, 0.5825101804825773, 1.0296186855104303, 1.1453689111184293, 0.9045825518216496, 1.03598048703062, 0.3585819870010797, 0.5378729805016195, 0.17929099350053984, 0.28556885146272337, 0.8567065543881701, 1.0760337314092834, 0.9813992098617296, 0.9430384011796094, 1.0647927586431822, 1.0857397224657208, 1.0882358306026028, 0.9324678222018926, 1.0048733364193296, 1.0073579155460028, 1.0615566823281126, 0.9044981173915885, 0.8926647627611073, 0.9592154552490181, 0.9987156975614916, 1.0840359718588706, 1.0568818673917153, 1.006946659924239, 0.9998146643428936, 0.896580998538773, 0.7902602389032675, 0.9754010363180797, 1.1658056218816328, 1.068935908672953, 1.16581537775056, 0.5582497229578666, 0.5582497229578666, 1.0692157824906967, 1.02471546042188, 0.9335442038354241, 1.0761459657768848, 0.9901455871247082, 0.9998958196280037, 0.9435879930589944, 0.9427319362462068, 1.017696295365051, 0.9480155689685674, 1.048937282733187, 0.9271383715651949, 0.971936657716757, 0.8965591415542008, 1.0107802940548456, 0.8759594178412023, 1.02471546042188, 0.9480821564839144, 1.0760402906346311, 1.0901149382757098, 1.1033777998273295, 1.1658053264921042, 1.101182505392311, 1.1116166953691404, 1.1265256870335676, 1.068986597431456, 1.0359512387113705, 1.1449129419680897, 0.9279157425852387, 0.9153024095509968, 1.1114036742805804, 1.1448314957231802, 1.0690113237752281, 1.0857356321629021, 1.0085343779564857, 0.9922187936162971, 1.1114324665918278, 1.082110133891817, 0.958887627940185, 0.8657704170078604, 0.9994250702138164, 0.9947292688761868, 0.7902344423942308, 0.8965585275674718, 0.9045155744670678, 0.977360887982636, 1.084148073621936, 0.22185330778729762, 0.8874132311491905, 0.5022692192769523, 0.5022692192769523, 1.017689443498858, 0.9997854776715073, 0.9429531064083968, 1.0567206869686612, 0.3914202344539592, 0.5871303516809387, 1.0167272602236663, 1.0900850139801042, 1.0195200090320813, 0.9786506074607805, 1.0530175932230097, 1.1449401641810255, 1.111063338873049, 0.9773602536150496, 1.0129887918597233, 1.090175461790896, 0.9155111058574623, 1.144845947334691, 1.0615486568619183, 0.8933696979355424, 1.0225428388485998, 1.02471546042188, 1.1448950471200672, 0.8965526343493554, 1.0844068448214919, 1.0898889665487128, 1.1448446206048655, 1.0857270772404208, 0.8933464059849149, 0.9994583180938935, 0.9378367383596485, 1.0760263310902651, 0.33426787331843855, 0.6685357466368771, 0.8760895314095726, 0.8656366830346033, 0.9841160614579507, 1.068969498312869, 0.909801758817283, 0.15626510623679274, 0.7813255311839638, 0.15626510623679274, 1.1114277445579925, 1.0014212873747041, 1.0568730074312382, 1.0688644061122896, 1.144933246112818, 0.8919451281111702, 0.9994632102782818, 0.927142903364084, 1.0567206869686612, 0.9273885563495414, 0.9480316705887519, 1.0647647061130312, 1.1114454872480668, 1.0839366105818953, 1.0838457670153758, 1.0223028100666538, 1.0048473790897712, 0.9503375232490059, 0.9612099075875072, 1.1026873799100487, 0.99992006060748, 1.145371530229726, 0.9607850857074125, 1.1448446206048655, 1.16581537775056, 0.9098260716421901, 0.9279785347701839, 1.017696295365051, 1.056790738292559, 0.9097243922128343, 0.8656509071695578, 1.048944725630064, 1.103153783839595, 1.0290399957281609, 1.035983042889604, 0.9829165973016224, 0.8659170755364689, 0.8759576459549772, 1.0161164821451307, 1.0772478697622843, 0.9480193932452649, 0.9428400832389388, 1.0857270772404208, 1.0082318598890956, 0.9096578756787922, 1.0489391643191026, 1.0902404849914702, 1.0898889665487128, 0.9871646872620786, 0.9873485278251573, 0.9947030186619807, 0.9939810795651827, 1.0898908113515455, 0.9427747336380712, 1.0899227346132938, 1.0569681856731163, 0.9643329187475677, 0.9480115058715801, 0.9614843298406806, 1.0690221905392, 1.16581537775056, 1.1265041452183306, 1.0248329806807166, 0.9612729538270279, 0.9609212956062615, 1.0124099939148339, 0.9787295795617589, 0.9098657806965321, 1.056771565831381, 1.04018041309867, 0.690329074479572, 0.2761316297918288, 1.049014606674486, 0.9804688398142356, 1.0046547210673304, 0.9153043983788296, 0.9827129129134724, 1.0569275567566172, 1.0857356321629021, 0.9560828009189793, 1.1449134872273077, 0.7902667183412957, 1.0491325883541163, 0.8935539732691749, 0.7902640703125666, 1.0167217234831634, 1.016136208915393, 1.061766718673638, 1.001875199581669, 1.0760263310902651, 0.9729512439530493, 0.974491190934227, 1.0771549839437664, 0.8759743557982775, 1.165816996891178, 1.0900404291053518, 0.942953560641571, 0.8656675694043858, 0.8917646848245793, 1.0689855204050753, 0.9999503332773018, 1.0821088783206099, 1.0109736265853115, 0.9774291833463545, 0.9725342146140675, 0.7904149498814577, 0.9648137252035294, 1.0332834473870722, 0.9640756953523862, 0.9809569774750586, 1.076944168903217, 1.0082214365923095], \"Term\": [\"addict\", \"admit\", \"admit\", \"admit\", \"album\", \"amaze\", \"amazon\", \"angel\", \"anna\", \"apple\", \"artist\", \"athlete\", \"author\", \"ayesha\", \"azalea\", \"babe\", \"baby\", \"badazz\", \"bass\", \"beautiful\", \"beauty\", \"bikini\", \"billionaire\", \"birthday\", \"blige\", \"blog\", \"blogger\", \"blogger\", \"blonde\", \"body\", \"book\", \"boosie\", \"boudoir\", \"bradley\", \"breakfast\", \"bring\", \"brother\", \"bugatti\", \"bush\", \"business\", \"buzz\", \"care\", \"case\", \"cash\", \"celeste\", \"challenge\", \"championship\", \"chance\", \"chanel\", \"channel\", \"chatila\", \"chicago\", \"child\", \"choice\", \"city\", \"claim\", \"class\", \"collection\", \"coma\", \"comment\", \"competitor\", \"contact\", \"copy\", \"court\", \"couverture\", \"cover\", \"crush\", \"curry\", \"cute\", \"dance\", \"daughter\", \"deal\", \"death\", \"decay\", \"decision\", \"definition\", \"denis\", \"dessert\", \"dire\", \"director\", \"dirty\", \"division\", \"doll\", \"dress\", \"drop\", \"duke\", \"dupri\", \"eat\", \"eat\", \"eats\", \"edit\", \"edition\", \"editorial\", \"encounter\", \"encounter\", \"encounter\", \"entertainment\", \"entertainment\", \"estilo\", \"event\", \"eye\", \"fact\", \"fairy\", \"fall\", \"family\", \"fashion\", \"feature\", \"female\", \"fiction\", \"fight\", \"figure\", \"fitness\", \"floyd\", \"folk\", \"follow\", \"food\", \"foodie\", \"foto\", \"friend\", \"fuel\", \"fuqua\", \"gasm\", \"ghana\", \"ghana\", \"giveaway\", \"glamour\", \"gold\", \"gossip\", \"gourmet\", \"gram\", \"guy\", \"hair\", \"hardbody\", \"hash\", \"hashem\", \"haul\", \"hawk\", \"hoku\", \"ifbb\", \"image\", \"influencer\", \"info\", \"inspira\", \"inspire\", \"interview\", \"izakaya\", \"jack\", \"jacob\", \"jamaica\", \"james\", \"japan\", \"jean\", \"jeff\", \"jenner\", \"jewel\", \"john\", \"journey\", \"juliano\", \"july\", \"junkie\", \"kash\", \"kind\", \"kindle\", \"king\", \"kobo\", \"kylie\", \"kyoto\", \"laga\", \"land\", \"launch\", \"lauren\", \"league\", \"league\", \"life\", \"life\", \"lifestyle\", \"lion\", \"list\", \"loera\", \"love\", \"love\", \"lover\", \"lunch\", \"luxury\", \"magazine\", \"mankind\", \"marie\", \"mark\", \"masculina\", \"master\", \"match\", \"medium\", \"meek\", \"megan\", \"mercedes\", \"message\", \"messenger\", \"mexico\", \"michelin\", \"michelle\", \"mieux\", \"milano\", \"mille\", \"millionaire\", \"mind\", \"mission\", \"moda\", \"model\", \"model\", \"moment\", \"monday\", \"money\", \"montegrappa\", \"month\", \"moon\", \"moon\", \"moon\", \"morning\", \"motivation\", \"murder\", \"murphy\", \"music\", \"nello\", \"news\", \"notification\", \"olga\", \"pack\", \"palette\", \"parent\", \"party\", \"patriot\", \"pcusa\", \"people\", \"phone\", \"photographer\", \"pick\", \"piece\", \"place\", \"plan\", \"playboy\", \"pod\", \"porn\", \"post\", \"power\", \"prep\", \"presence\", \"professor\", \"project\", \"queen\", \"question\", \"rapper\", \"reach\", \"read\", \"reader\", \"record\", \"release\", \"respect\", \"restocks\", \"reveal\", \"richard\", \"romance\", \"sale\", \"salvation\", \"savage\", \"secre\", \"series\", \"share\", \"shoot\", \"shot\", \"shut\", \"simon\", \"singer\", \"situation\", \"skin\", \"sneak\", \"song\", \"space\", \"spicy\", \"sponsor\", \"spot\", \"stag\", \"stallion\", \"star\", \"start\", \"state\", \"status\", \"stay\", \"store\", \"store\", \"storm\", \"story\", \"street\", \"studio\", \"style\", \"success\", \"sula\", \"summer\", \"support\", \"sweet\", \"swim\", \"swipe\", \"tag\", \"talk\", \"thing\", \"thriller\", \"time\", \"tipo\", \"today\", \"tokyo\", \"tour\", \"travis\", \"trinidad\", \"trip\", \"turn\", \"type\", \"universe\", \"vibe\", \"video\", \"villa\", \"vogue\", \"watch\", \"week\", \"weekend\", \"williams\", \"winner\", \"wolf\", \"woman\", \"work\", \"year\"]}, \"R\": 30, \"lambda.step\": 0.01, \"plot.opts\": {\"xlab\": \"PC1\", \"ylab\": \"PC2\"}, \"topic.order\": [9, 7, 3, 5, 2, 4, 1, 10, 8, 6]};\n",
       "\n",
       "function LDAvis_load_lib(url, callback){\n",
       "  var s = document.createElement('script');\n",
       "  s.src = url;\n",
       "  s.async = true;\n",
       "  s.onreadystatechange = s.onload = callback;\n",
       "  s.onerror = function(){console.warn(\"failed to load library \" + url);};\n",
       "  document.getElementsByTagName(\"head\")[0].appendChild(s);\n",
       "}\n",
       "\n",
       "if(typeof(LDAvis) !== \"undefined\"){\n",
       "   // already loaded: just create the visualization\n",
       "   !function(LDAvis){\n",
       "       new LDAvis(\"#\" + \"ldavis_el1174019133322119124151859923\", ldavis_el1174019133322119124151859923_data);\n",
       "   }(LDAvis);\n",
       "}else if(typeof define === \"function\" && define.amd){\n",
       "   // require.js is available: use it to load d3/LDAvis\n",
       "   require.config({paths: {d3: \"https://cdnjs.cloudflare.com/ajax/libs/d3/3.5.5/d3.min\"}});\n",
       "   require([\"d3\"], function(d3){\n",
       "      window.d3 = d3;\n",
       "      LDAvis_load_lib(\"https://cdn.rawgit.com/bmabey/pyLDAvis/files/ldavis.v1.0.0.js\", function(){\n",
       "        new LDAvis(\"#\" + \"ldavis_el1174019133322119124151859923\", ldavis_el1174019133322119124151859923_data);\n",
       "      });\n",
       "    });\n",
       "}else{\n",
       "    // require.js not available: dynamically load d3 & LDAvis\n",
       "    LDAvis_load_lib(\"https://cdnjs.cloudflare.com/ajax/libs/d3/3.5.5/d3.min.js\", function(){\n",
       "         LDAvis_load_lib(\"https://cdn.rawgit.com/bmabey/pyLDAvis/files/ldavis.v1.0.0.js\", function(){\n",
       "                 new LDAvis(\"#\" + \"ldavis_el1174019133322119124151859923\", ldavis_el1174019133322119124151859923_data);\n",
       "            })\n",
       "         });\n",
       "}\n",
       "</script>"
      ],
      "text/plain": [
       "PreparedData(topic_coordinates=              x         y  topics  cluster       Freq\n",
       "topic                                                \n",
       "8      0.066904  0.205147       1        1  18.298570\n",
       "6     -0.323364 -0.204086       2        1  15.328793\n",
       "2     -0.085161  0.288310       3        1  12.940213\n",
       "4     -0.222664  0.086929       4        1  12.052969\n",
       "1      0.113584 -0.088097       5        1   8.980174\n",
       "3      0.103730 -0.042579       6        1   8.339469\n",
       "0      0.091203 -0.067472       7        1   6.580166\n",
       "9      0.086104 -0.056174       8        1   6.232414\n",
       "7      0.081544 -0.053496       9        1   5.642918\n",
       "5      0.088121 -0.068483      10        1   5.604315, topic_info=               Term        Freq       Total Category  logprob  loglift\n",
       "114          bikini  179.000000  179.000000  Default  30.0000  30.0000\n",
       "118         fitness  175.000000  175.000000  Default  29.0000  29.0000\n",
       "1251           food   71.000000   71.000000  Default  28.0000  28.0000\n",
       "98          fashion   76.000000   76.000000  Default  27.0000  27.0000\n",
       "117      competitor   71.000000   71.000000  Default  26.0000  26.0000\n",
       "...             ...         ...         ...      ...      ...      ...\n",
       "228            edit    2.542226    2.619243  Topic10  -4.7319   2.8518\n",
       "213            plan    2.542219    2.619237  Topic10  -4.7319   2.8518\n",
       "3629        jamaica    1.698402    1.775370  Topic10  -5.1352   2.8373\n",
       "1796        sponsor    1.698434    1.775404  Topic10  -5.1352   2.8373\n",
       "229   entertainment    2.790815    3.501782  Topic10  -4.6386   2.6547\n",
       "\n",
       "[348 rows x 6 columns], token_table=      Topic      Freq    Term\n",
       "term                         \n",
       "112       2  0.983921  addict\n",
       "1876      1  0.272179   admit\n",
       "1876      5  0.272179   admit\n",
       "1876      7  0.544358   admit\n",
       "147       9  1.085664   album\n",
       "...     ...       ...     ...\n",
       "127       2  1.033283  winner\n",
       "1757      6  0.964076    wolf\n",
       "90        7  0.980957   woman\n",
       "430       7  1.076944    work\n",
       "156       1  1.008221    year\n",
       "\n",
       "[329 rows x 3 columns], R=30, lambda_step=0.01, plot_opts={'xlab': 'PC1', 'ylab': 'PC2'}, topic_order=[9, 7, 3, 5, 2, 4, 1, 10, 8, 6])"
      ]
     },
     "execution_count": 18,
     "metadata": {},
     "output_type": "execute_result"
    }
   ],
   "source": [
    "# Visualize the topics\n",
    "pyLDAvis.enable_notebook()\n",
    "vis = pyLDAvis.gensim.prepare(lda_model, corpus, id2word)\n",
    "vis"
   ]
  },
  {
   "cell_type": "markdown",
   "metadata": {},
   "source": [
    "### Save document-topic matrix (most significant topic per document)  \n",
    "https://github.com/Sim-Xuesi/content-based_movie_recommender/blob/master/Content%20Based%20Recommender%20System%20with%20LDA%20%26%20Cosine.ipynb  \n",
    "https://medium.com/@nicoleeesim97/building-a-simple-content-based-recommender-system-for-movies-and-tv-shows-73fec4f325ae  "
   ]
  },
  {
   "cell_type": "code",
   "execution_count": 19,
   "metadata": {},
   "outputs": [
    {
     "name": "stderr",
     "output_type": "stream",
     "text": [
      "C:\\Users\\minio\\anaconda3\\envs\\tfm-py-37\\lib\\site-packages\\ipykernel\\ipkernel.py:287: DeprecationWarning: `should_run_async` will not call `transform_cell` automatically in the future. Please pass the result to `transformed_cell` argument and any exception that happen during thetransform in `preprocessing_exc_tuple` in IPython 7.17 and above.\n",
      "  and should_run_async(code)\n"
     ]
    },
    {
     "name": "stdout",
     "output_type": "stream",
     "text": [
      "      Document  Topic  Probability\n",
      "0        93000      4     0.398141\n",
      "1        93196      4     0.235117\n",
      "2       109754      3     0.199502\n",
      "3        90515      2     0.276003\n",
      "4        90271      7     0.177838\n",
      "...        ...    ...          ...\n",
      "2484     85306      5     0.350581\n",
      "2485     85271      3     0.380981\n",
      "2486     83454      1     0.513737\n",
      "2487     76910      9     0.226745\n",
      "2488     89771      7     0.518633\n",
      "\n",
      "[2489 rows x 3 columns]\n"
     ]
    }
   ],
   "source": [
    "def Sort_Tuple(tup):  \n",
    "    return(sorted(tup, key = lambda x: x[1], reverse = True))\n",
    "\n",
    "doc_num, topic_num, prob = [], [], []\n",
    "\n",
    "document_topic_matrix = documents\n",
    "\n",
    "for n in range(len(documents)):\n",
    "    get_document_topics = lda_model.get_document_topics(corpus_total[n], minimum_probability=0)\n",
    "    doc_num.append(documents.index[n])\n",
    "    sorted_doc_topics = Sort_Tuple(get_document_topics)\n",
    "    topic_num.append(sorted_doc_topics[0][0])\n",
    "    prob.append(sorted_doc_topics[0][1])\n",
    "    \n",
    "data = {'Document': doc_num\n",
    "        ,'Topic': topic_num\n",
    "        ,'Probability': prob}\n",
    "df = pd.DataFrame(data) \n",
    "df.to_csv(file_model + '_document_topic_matrix.csv', index=False)\n",
    "print(df)"
   ]
  },
  {
   "cell_type": "markdown",
   "metadata": {},
   "source": [
    "### Save document-topic matrix (all topic's probability per document)  \n",
    "https://github.com/Sim-Xuesi/content-based_movie_recommender/blob/master/Content%20Based%20Recommender%20System%20with%20LDA%20%26%20Cosine.ipynb  \n",
    "https://medium.com/@nicoleeesim97/building-a-simple-content-based-recommender-system-for-movies-and-tv-shows-73fec4f325ae  "
   ]
  },
  {
   "cell_type": "code",
   "execution_count": 20,
   "metadata": {},
   "outputs": [
    {
     "name": "stderr",
     "output_type": "stream",
     "text": [
      "C:\\Users\\minio\\anaconda3\\envs\\tfm-py-37\\lib\\site-packages\\ipykernel\\ipkernel.py:287: DeprecationWarning: `should_run_async` will not call `transform_cell` automatically in the future. Please pass the result to `transformed_cell` argument and any exception that happen during thetransform in `preprocessing_exc_tuple` in IPython 7.17 and above.\n",
      "  and should_run_async(code)\n"
     ]
    },
    {
     "name": "stdout",
     "output_type": "stream",
     "text": [
      "      Document    Topic0    Topic1    Topic2    Topic3    Topic4    Topic5  \\\n",
      "0        93000  0.067073  0.066821  0.066630  0.066894  0.398141  0.067167   \n",
      "1        93196  0.146775  0.145554  0.144651  0.054658  0.235117  0.054904   \n",
      "2       109754  0.075338  0.075218  0.075115  0.199502  0.075120  0.075381   \n",
      "3        90515  0.046578  0.046483  0.276003  0.046522  0.122936  0.046620   \n",
      "4        90271  0.066955  0.066856  0.066781  0.066885  0.176721  0.066988   \n",
      "...        ...       ...       ...       ...       ...       ...       ...   \n",
      "2484     85306  0.060398  0.064175  0.060398  0.060398  0.159408  0.350583   \n",
      "2485     85271  0.050415  0.050415  0.050415  0.380981  0.124586  0.133055   \n",
      "2486     83454  0.009824  0.513738  0.042024  0.113108  0.042022  0.009824   \n",
      "2487     76910  0.085917  0.085917  0.085917  0.085917  0.085917  0.085917   \n",
      "2488     89771  0.020268  0.022317  0.217556  0.086686  0.053468  0.020268   \n",
      "\n",
      "        Topic6    Topic7    Topic8    Topic9  \n",
      "0     0.066545  0.067209  0.066493  0.067026  \n",
      "1     0.054336  0.054936  0.054288  0.054780  \n",
      "2     0.198567  0.075398  0.075045  0.075315  \n",
      "3     0.046379  0.046622  0.275297  0.046560  \n",
      "4     0.066748  0.177838  0.066727  0.177501  \n",
      "...        ...       ...       ...       ...  \n",
      "2484  0.063448  0.060398  0.060398  0.060398  \n",
      "2485  0.058889  0.050415  0.050415  0.050415  \n",
      "2486  0.042020  0.026230  0.175302  0.025908  \n",
      "2487  0.085917  0.085917  0.085917  0.226745  \n",
      "2488  0.020268  0.518633  0.020268  0.020268  \n",
      "\n",
      "[2489 rows x 11 columns]\n"
     ]
    }
   ],
   "source": [
    "doc_num = []\n",
    "prob0, prob1, prob2, prob3, prob4, prob5, prob6, prob7, prob8, prob9 = ([] for i in range(num_topics))\n",
    "\n",
    "document_topic_matrix = documents\n",
    "\n",
    "for n in range(len(documents)):\n",
    "    get_document_topics = lda_model.get_document_topics(corpus_total[n], minimum_probability=0)\n",
    "    doc_num.append(documents.index[n])\n",
    "    prob0.append(get_document_topics[0][1])\n",
    "    prob1.append(get_document_topics[1][1])\n",
    "    prob2.append(get_document_topics[2][1])\n",
    "    prob3.append(get_document_topics[3][1])\n",
    "    prob4.append(get_document_topics[4][1])\n",
    "    prob5.append(get_document_topics[5][1])\n",
    "    prob6.append(get_document_topics[6][1])\n",
    "    prob7.append(get_document_topics[7][1])\n",
    "    prob8.append(get_document_topics[8][1])\n",
    "    prob9.append(get_document_topics[9][1])\n",
    "    \n",
    "data = {'Document': doc_num\n",
    "        ,'Topic0': prob0\n",
    "        ,'Topic1': prob1\n",
    "        ,'Topic2': prob2\n",
    "        ,'Topic3': prob3\n",
    "        ,'Topic4': prob4\n",
    "        ,'Topic5': prob5\n",
    "        ,'Topic6': prob6\n",
    "        ,'Topic7': prob7\n",
    "        ,'Topic8': prob8\n",
    "        ,'Topic9': prob9}\n",
    "\n",
    "df = pd.DataFrame(data) \n",
    "df.to_csv(file_model + '_document_topic_matrix_full.csv', index=False)\n",
    "print(df)"
   ]
  },
  {
   "cell_type": "markdown",
   "metadata": {},
   "source": [
    "### Save topic-term matrix"
   ]
  },
  {
   "cell_type": "code",
   "execution_count": 21,
   "metadata": {},
   "outputs": [
    {
     "name": "stderr",
     "output_type": "stream",
     "text": [
      "C:\\Users\\minio\\anaconda3\\envs\\tfm-py-37\\lib\\site-packages\\ipykernel\\ipkernel.py:287: DeprecationWarning: `should_run_async` will not call `transform_cell` automatically in the future. Please pass the result to `transformed_cell` argument and any exception that happen during thetransform in `preprocessing_exc_tuple` in IPython 7.17 and above.\n",
      "  and should_run_async(code)\n"
     ]
    }
   ],
   "source": [
    "# get topic-term-matrix\n",
    "topic_term_matrix = lda_model.get_topics()\n",
    "# save topic-term matrix\n",
    "savetxt(file_model + '_topic_term_matrix.csv', topic_term_matrix, delimiter=',')"
   ]
  }
 ],
 "metadata": {
  "kernelspec": {
   "display_name": "Python 3",
   "language": "python",
   "name": "python3"
  },
  "language_info": {
   "codemirror_mode": {
    "name": "ipython",
    "version": 3
   },
   "file_extension": ".py",
   "mimetype": "text/x-python",
   "name": "python",
   "nbconvert_exporter": "python",
   "pygments_lexer": "ipython3",
   "version": "3.7.9"
  }
 },
 "nbformat": 4,
 "nbformat_minor": 4
}
