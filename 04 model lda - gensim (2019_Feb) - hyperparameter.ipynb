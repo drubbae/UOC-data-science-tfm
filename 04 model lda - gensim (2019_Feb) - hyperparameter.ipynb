{
 "cells": [
  {
   "cell_type": "markdown",
   "metadata": {},
   "source": [
    "# <span style=\"color:blue\">LDA model (2019_Feb) - with hyperparameter tuning</span>"
   ]
  },
  {
   "cell_type": "code",
   "execution_count": 1,
   "metadata": {},
   "outputs": [],
   "source": [
    "yyyy_MMM = '2019_Feb'"
   ]
  },
  {
   "cell_type": "markdown",
   "metadata": {},
   "source": [
    "### Load packages"
   ]
  },
  {
   "cell_type": "code",
   "execution_count": 2,
   "metadata": {},
   "outputs": [
    {
     "name": "stderr",
     "output_type": "stream",
     "text": [
      "C:\\Users\\minio\\anaconda3\\envs\\tfm-py-37\\lib\\site-packages\\botocore\\vendored\\requests\\packages\\urllib3\\_collections.py:1: DeprecationWarning: Using or importing the ABCs from 'collections' instead of from 'collections.abc' is deprecated since Python 3.3,and in 3.9 it will stop working\n",
      "  from collections import Mapping, MutableMapping\n",
      "C:\\Users\\minio\\anaconda3\\envs\\tfm-py-37\\lib\\site-packages\\botocore\\vendored\\requests\\packages\\urllib3\\_collections.py:1: DeprecationWarning: Using or importing the ABCs from 'collections' instead of from 'collections.abc' is deprecated since Python 3.3,and in 3.9 it will stop working\n",
      "  from collections import Mapping, MutableMapping\n",
      "C:\\Users\\minio\\anaconda3\\envs\\tfm-py-37\\lib\\site-packages\\scipy\\sparse\\sparsetools.py:21: DeprecationWarning: `scipy.sparse.sparsetools` is deprecated!\n",
      "scipy.sparse.sparsetools is a private module for scipy.sparse, and should not be used.\n",
      "  _deprecated()\n",
      "C:\\Users\\minio\\anaconda3\\envs\\tfm-py-37\\lib\\site-packages\\gensim\\models\\doc2vec.py:73: DeprecationWarning: Using or importing the ABCs from 'collections' instead of from 'collections.abc' is deprecated since Python 3.3,and in 3.9 it will stop working\n",
      "  from collections import namedtuple, defaultdict, Iterable\n",
      "[nltk_data] Downloading package stopwords to\n",
      "[nltk_data]     C:\\Users\\minio\\AppData\\Roaming\\nltk_data...\n",
      "[nltk_data]   Package stopwords is already up-to-date!\n",
      "[nltk_data] Downloading package averaged_perceptron_tagger to\n",
      "[nltk_data]     C:\\Users\\minio\\AppData\\Roaming\\nltk_data...\n",
      "[nltk_data]   Package averaged_perceptron_tagger is already up-to-\n",
      "[nltk_data]       date!\n"
     ]
    },
    {
     "data": {
      "text/plain": [
       "True"
      ]
     },
     "execution_count": 2,
     "metadata": {},
     "output_type": "execute_result"
    }
   ],
   "source": [
    "import csv, os, re, time\n",
    "import numpy as np\n",
    "from numpy import savetxt\n",
    "import pandas as  pd\n",
    "import matplotlib.pyplot as plt  \n",
    "import pyLDAvis\n",
    "import pyLDAvis.gensim\n",
    "import gensim\n",
    "import gensim.corpora as corpora\n",
    "from gensim.corpora.dictionary import Dictionary\n",
    "from gensim.models import CoherenceModel\n",
    "from gensim.test.utils import datapath\n",
    "from gensim.utils import simple_preprocess\n",
    "from pprint import pprint\n",
    "import nltk\n",
    "nltk.download('stopwords')\n",
    "nltk.download('averaged_perceptron_tagger')"
   ]
  },
  {
   "cell_type": "markdown",
   "metadata": {},
   "source": [
    "### Constants"
   ]
  },
  {
   "cell_type": "code",
   "execution_count": 3,
   "metadata": {},
   "outputs": [
    {
     "name": "stdout",
     "output_type": "stream",
     "text": [
      "D:\\master\\data science\\semestre 4\\M2.979 - tfm\\data\\bins_test\\doc\\2019_Feb\\2019_Feb_28_results.csv\n",
      "D:\\master\\data science\\semestre 4\\M2.979 - tfm\\data\\bins_test\\model_hyperparameter\\2019_Feb\\model\n"
     ]
    },
    {
     "name": "stderr",
     "output_type": "stream",
     "text": [
      "C:\\Users\\minio\\anaconda3\\envs\\tfm-py-37\\lib\\site-packages\\ipykernel\\ipkernel.py:287: DeprecationWarning: `should_run_async` will not call `transform_cell` automatically in the future. Please pass the result to `transformed_cell` argument and any exception that happen during thetransform in `preprocessing_exc_tuple` in IPython 7.17 and above.\n",
      "  and should_run_async(code)\n"
     ]
    }
   ],
   "source": [
    "# for reproducible results\n",
    "random_state = 33\n",
    "# if the test is True, the process runs on a smaller subset of raw data (json files)\n",
    "test = True\n",
    "# if sample > 0, then we take a sample of the entire dataset (for debugging purpose)\n",
    "sample = 0\n",
    "# parameters to build the lda model\n",
    "num_topics = 10\n",
    "alpha = 0.91\n",
    "eta = 0.91\n",
    "\n",
    "if test:\n",
    "    # path with the documents preprocessed\n",
    "    path_doc = r'D:\\master\\data science\\semestre 4\\M2.979 - tfm\\data\\bins_test\\doc'\n",
    "    # path where store all data/results related to the model\n",
    "    path_model = r'D:\\master\\data science\\semestre 4\\M2.979 - tfm\\data\\bins_test\\model_hyperparameter'\n",
    "    # chunksize to build LDA model\n",
    "    chunksize = 250\n",
    "else:\n",
    "    # path with the documents preprocessed\n",
    "    path_doc = r'D:\\master\\data science\\semestre 4\\M2.979 - tfm\\data\\bins\\doc'\n",
    "    # path where store all data/results related to the model\n",
    "    path_model = r'D:\\master\\data science\\semestre 4\\M2.979 - tfm\\data\\bins\\model_hyperparameter'\n",
    "    # chunksize to build LDA model\n",
    "    chunksize = 5000\n",
    "\n",
    "# path + name of the file that contains the documents preprocessed\n",
    "file_doc = os.path.join(path_doc, yyyy_MMM, yyyy_MMM) + '_28_results.csv'\n",
    "# path + name of the file that contains the model gotten at the end\n",
    "file_model = os.path.join(path_model, yyyy_MMM, 'model')\n",
    "print(file_doc)\n",
    "print(file_model)"
   ]
  },
  {
   "cell_type": "markdown",
   "metadata": {},
   "source": [
    "### Load data preprocessed"
   ]
  },
  {
   "cell_type": "code",
   "execution_count": 4,
   "metadata": {},
   "outputs": [
    {
     "name": "stderr",
     "output_type": "stream",
     "text": [
      "C:\\Users\\minio\\anaconda3\\envs\\tfm-py-37\\lib\\site-packages\\ipykernel\\ipkernel.py:287: DeprecationWarning: `should_run_async` will not call `transform_cell` automatically in the future. Please pass the result to `transformed_cell` argument and any exception that happen during thetransform in `preprocessing_exc_tuple` in IPython 7.17 and above.\n",
      "  and should_run_async(code)\n"
     ]
    },
    {
     "data": {
      "text/plain": [
       "id_doc\n",
       "68349     ['aero', 'nick', 'bateman', 'blog', 'gossip', ...\n",
       "77652     ['duval', 'mobile', 'target', 'practice', 'adv...\n",
       "83968     ['test', 'turn', 'bitch', 'fashion', 'nova', '...\n",
       "86286     ['native', 'bombshell', 'favorite', 'spot', 'k...\n",
       "86310         ['post', 'repost', 'smile', 'lynn', 'follow']\n",
       "83741     ['vmas', 'hotshot', 'nikita', 'drag', 'undecid...\n",
       "69986     ['random', 'moment', 'event', 'bikini', 'polo'...\n",
       "78249     ['blue', 'face', 'necklace', 'piece', 'blue', ...\n",
       "74206     ['mumbai', 'dream', 'makeover', 'geet', 'anjal...\n",
       "101331                           ['dress', 'size', 'color']\n",
       "Name: content_preprocessed, dtype: object"
      ]
     },
     "execution_count": 4,
     "metadata": {},
     "output_type": "execute_result"
    }
   ],
   "source": [
    "df = pd.read_csv(file_doc, index_col='id_doc')\n",
    "documents = df.content_preprocessed\n",
    "documents.head(10)"
   ]
  },
  {
   "cell_type": "markdown",
   "metadata": {},
   "source": [
    "### Shuffle"
   ]
  },
  {
   "cell_type": "code",
   "execution_count": 5,
   "metadata": {},
   "outputs": [
    {
     "name": "stderr",
     "output_type": "stream",
     "text": [
      "C:\\Users\\minio\\anaconda3\\envs\\tfm-py-37\\lib\\site-packages\\ipykernel\\ipkernel.py:287: DeprecationWarning: `should_run_async` will not call `transform_cell` automatically in the future. Please pass the result to `transformed_cell` argument and any exception that happen during thetransform in `preprocessing_exc_tuple` in IPython 7.17 and above.\n",
      "  and should_run_async(code)\n"
     ]
    },
    {
     "data": {
      "text/plain": [
       "id_doc\n",
       "77926                                       ['experienced']\n",
       "78062                        ['sponsor', 'check', 'single']\n",
       "101905    ['sale', 'alert', 'place', 'nubian', 'currentl...\n",
       "78354     ['pain', 'piece', 'guyt', 'pain', 'starr', 'rz...\n",
       "82632                                           ['thought']\n",
       "81025     ['malini', 'agarwal', 'speaker', 'india', 'lea...\n",
       "72471     ['watch', 'dangerously', 'intertwine', 'kimber...\n",
       "86621     ['victoria', 'rise', 'lady', 'gentleman', 'cap...\n",
       "77990     ['kick', 'glory', 'kickboxing', 'troy', 'troub...\n",
       "72306     ['live', 'audio', 'moore', 'ness', 'bartholome...\n",
       "Name: content_preprocessed, dtype: object"
      ]
     },
     "execution_count": 5,
     "metadata": {},
     "output_type": "execute_result"
    }
   ],
   "source": [
    "documents = documents.sample(frac=1, random_state=random_state)\n",
    "documents.head(10)"
   ]
  },
  {
   "cell_type": "markdown",
   "metadata": {},
   "source": [
    "### Sample"
   ]
  },
  {
   "cell_type": "code",
   "execution_count": 6,
   "metadata": {},
   "outputs": [
    {
     "name": "stderr",
     "output_type": "stream",
     "text": [
      "C:\\Users\\minio\\anaconda3\\envs\\tfm-py-37\\lib\\site-packages\\ipykernel\\ipkernel.py:287: DeprecationWarning: `should_run_async` will not call `transform_cell` automatically in the future. Please pass the result to `transformed_cell` argument and any exception that happen during thetransform in `preprocessing_exc_tuple` in IPython 7.17 and above.\n",
      "  and should_run_async(code)\n"
     ]
    }
   ],
   "source": [
    "if sample > 0:\n",
    "    documents = documents.sample(n=sample, random_state=random_state)\n",
    "    print(documents.head(10))"
   ]
  },
  {
   "cell_type": "markdown",
   "metadata": {},
   "source": [
    "### Plot the number of words appearing in each document  \n",
    "\n",
    "https://neptune.ai/blog/exploratory-data-analysis-natural-language-processing-tools"
   ]
  },
  {
   "cell_type": "code",
   "execution_count": 7,
   "metadata": {},
   "outputs": [
    {
     "name": "stdout",
     "output_type": "stream",
     "text": [
      "(2345,)\n"
     ]
    },
    {
     "name": "stderr",
     "output_type": "stream",
     "text": [
      "C:\\Users\\minio\\anaconda3\\envs\\tfm-py-37\\lib\\site-packages\\ipykernel\\ipkernel.py:287: DeprecationWarning: `should_run_async` will not call `transform_cell` automatically in the future. Please pass the result to `transformed_cell` argument and any exception that happen during thetransform in `preprocessing_exc_tuple` in IPython 7.17 and above.\n",
      "  and should_run_async(code)\n"
     ]
    },
    {
     "data": {
      "text/plain": [
       "<AxesSubplot:>"
      ]
     },
     "execution_count": 7,
     "metadata": {},
     "output_type": "execute_result"
    },
    {
     "data": {
      "image/png": "[encoded data removed]",
      "text/plain": [
       "<Figure size 432x288 with 1 Axes>"
      ]
     },
     "metadata": {
      "needs_background": "light"
     },
     "output_type": "display_data"
    }
   ],
   "source": [
    "print(documents.shape)\n",
    "\n",
    "documents.str.split().\\\n",
    "    map(lambda x: len(x)).\\\n",
    "    hist()"
   ]
  },
  {
   "cell_type": "markdown",
   "metadata": {},
   "source": [
    "### Remove words that appear only once"
   ]
  },
  {
   "cell_type": "code",
   "execution_count": 8,
   "metadata": {},
   "outputs": [
    {
     "name": "stderr",
     "output_type": "stream",
     "text": [
      "C:\\Users\\minio\\anaconda3\\envs\\tfm-py-37\\lib\\site-packages\\ipykernel\\ipkernel.py:287: DeprecationWarning: `should_run_async` will not call `transform_cell` automatically in the future. Please pass the result to `transformed_cell` argument and any exception that happen during thetransform in `preprocessing_exc_tuple` in IPython 7.17 and above.\n",
      "  and should_run_async(code)\n"
     ]
    }
   ],
   "source": [
    "####################### PENDING"
   ]
  },
  {
   "cell_type": "markdown",
   "metadata": {},
   "source": [
    "### Tokenize words and Clean-up text"
   ]
  },
  {
   "cell_type": "code",
   "execution_count": 9,
   "metadata": {},
   "outputs": [
    {
     "name": "stderr",
     "output_type": "stream",
     "text": [
      "C:\\Users\\minio\\anaconda3\\envs\\tfm-py-37\\lib\\site-packages\\ipykernel\\ipkernel.py:287: DeprecationWarning: `should_run_async` will not call `transform_cell` automatically in the future. Please pass the result to `transformed_cell` argument and any exception that happen during thetransform in `preprocessing_exc_tuple` in IPython 7.17 and above.\n",
      "  and should_run_async(code)\n"
     ]
    }
   ],
   "source": [
    "# https://www.machinelearningplus.com/nlp/topic-modeling-gensim-python/#3importpackages\n",
    "def sent_to_words(sentences):\n",
    "    for sentence in sentences:\n",
    "        yield(gensim.utils.simple_preprocess(str(sentence), deacc=True))  # deacc=True removes punctuations"
   ]
  },
  {
   "cell_type": "markdown",
   "metadata": {},
   "source": [
    "### Compute bigrams & trigrams  \n",
    "\n",
    "https://radimrehurek.com/gensim/auto_examples/tutorials/run_lda.html#pre-process-and-vectorize-the-documents"
   ]
  },
  {
   "cell_type": "code",
   "execution_count": 10,
   "metadata": {},
   "outputs": [
    {
     "name": "stderr",
     "output_type": "stream",
     "text": [
      "C:\\Users\\minio\\anaconda3\\envs\\tfm-py-37\\lib\\site-packages\\ipykernel\\ipkernel.py:287: DeprecationWarning: `should_run_async` will not call `transform_cell` automatically in the future. Please pass the result to `transformed_cell` argument and any exception that happen during thetransform in `preprocessing_exc_tuple` in IPython 7.17 and above.\n",
      "  and should_run_async(code)\n"
     ]
    }
   ],
   "source": [
    "from gensim.models import Phrases\n",
    "\n",
    "# Add bigrams and trigrams to docs (only ones that appear min_count times or more).\n",
    "def bi_tri_grams(documents, min_count):\n",
    "    bigram = Phrases(documents, min_count=min_count)\n",
    "    for idx in range(len(documents)):\n",
    "        for token in bigram[documents[idx]]:\n",
    "            if '_' in token:\n",
    "                # Token is a bigram, add to document.\n",
    "                documents[idx].append(token)"
   ]
  },
  {
   "cell_type": "markdown",
   "metadata": {},
   "source": [
    "### Categorizing and tagging words"
   ]
  },
  {
   "cell_type": "code",
   "execution_count": 11,
   "metadata": {},
   "outputs": [
    {
     "name": "stderr",
     "output_type": "stream",
     "text": [
      "C:\\Users\\minio\\anaconda3\\envs\\tfm-py-37\\lib\\site-packages\\ipykernel\\ipkernel.py:287: DeprecationWarning: `should_run_async` will not call `transform_cell` automatically in the future. Please pass the result to `transformed_cell` argument and any exception that happen during thetransform in `preprocessing_exc_tuple` in IPython 7.17 and above.\n",
      "  and should_run_async(code)\n"
     ]
    }
   ],
   "source": [
    "# function to remove accented characters\n",
    "def tag_words(text):\n",
    "    tags = nltk.pos_tag(text)\n",
    "    nouns = [word for word, pos in tags if (pos == 'NN' or pos == 'NNP' or pos == 'NNS' or pos == 'NNPS')]\n",
    "    return nouns"
   ]
  },
  {
   "cell_type": "markdown",
   "metadata": {},
   "source": [
    "### Dictionary with the entire dataset"
   ]
  },
  {
   "cell_type": "code",
   "execution_count": 12,
   "metadata": {},
   "outputs": [
    {
     "name": "stderr",
     "output_type": "stream",
     "text": [
      "C:\\Users\\minio\\anaconda3\\envs\\tfm-py-37\\lib\\site-packages\\ipykernel\\ipkernel.py:287: DeprecationWarning: `should_run_async` will not call `transform_cell` automatically in the future. Please pass the result to `transformed_cell` argument and any exception that happen during thetransform in `preprocessing_exc_tuple` in IPython 7.17 and above.\n",
      "  and should_run_async(code)\n"
     ]
    }
   ],
   "source": [
    "data_words = list(sent_to_words(documents))\n",
    "# Compute bigrams & trigrams\n",
    "bi_tri_grams(data_words, 250)\n",
    "# Categorizing and tagging words\n",
    "data_words = list(map(tag_words, data_words))\n",
    "# Create Dictionary\n",
    "id2word = Dictionary(data_words)\n",
    "# Create Corpus\n",
    "texts = data_words\n",
    "# Term Document Frequency\n",
    "corpus_total = [id2word.doc2bow(text) for text in texts]"
   ]
  },
  {
   "cell_type": "markdown",
   "metadata": {},
   "source": [
    "### Build LDA model"
   ]
  },
  {
   "cell_type": "code",
   "execution_count": 13,
   "metadata": {},
   "outputs": [
    {
     "name": "stderr",
     "output_type": "stream",
     "text": [
      "C:\\Users\\minio\\anaconda3\\envs\\tfm-py-37\\lib\\site-packages\\ipykernel\\ipkernel.py:287: DeprecationWarning: `should_run_async` will not call `transform_cell` automatically in the future. Please pass the result to `transformed_cell` argument and any exception that happen during thetransform in `preprocessing_exc_tuple` in IPython 7.17 and above.\n",
      "  and should_run_async(code)\n"
     ]
    },
    {
     "name": "stdout",
     "output_type": "stream",
     "text": [
      "time elapsed - 00:00:44.59\n"
     ]
    }
   ],
   "source": [
    "perplexity_score = []\n",
    "coherence_score = []\n",
    "indixes = []\n",
    "\n",
    "index = 0\n",
    "chunk_size = 250\n",
    "documents_sample = documents[index:chunk_size-1]\n",
    "\n",
    "time_start = time.time()\n",
    "\n",
    "data_words = list(sent_to_words(documents_sample))\n",
    "# Compute bigrams & trigrams\n",
    "bi_tri_grams(data_words, 250)\n",
    "# Categorizing and tagging words\n",
    "data_words = list(map(tag_words, data_words))\n",
    "# # Create Dictionary\n",
    "# id2word = Dictionary(data_words)\n",
    "# Create Corpus\n",
    "texts = data_words\n",
    "# Term Document Frequency\n",
    "corpus = [id2word.doc2bow(text) for text in texts]\n",
    "# Build LDA Model\n",
    "lda_model = gensim.models.LdaMulticore(corpus=corpus\n",
    "                                       ,id2word=id2word\n",
    "                                       ,num_topics=num_topics\n",
    "                                       ,random_state=random_state\n",
    "                                       ,chunksize=chunksize\n",
    "                                       ,passes=50\n",
    "                                       ,per_word_topics=True\n",
    "                                       ,alpha=alpha\n",
    "                                       ,eta=eta)\n",
    "\n",
    "indixes.append(index)\n",
    "\n",
    "# Evaluate LDA Model\n",
    "# Compute Perplexity Score\n",
    "perplexity = lda_model.log_perplexity(corpus)\n",
    "perplexity_score.append(perplexity)\n",
    "\n",
    "# Evaluate LDA Model\n",
    "# Compute Coherence Score\n",
    "coherence_lda_model = CoherenceModel(model=lda_model, texts=data_words, dictionary=id2word, coherence='c_v')\n",
    "coherence = coherence_lda_model.get_coherence()\n",
    "coherence_score.append(coherence)\n",
    "\n",
    "# Save LDA Model\n",
    "temp_file = datapath(file_model)\n",
    "lda_model.save(temp_file)\n",
    "temp_file = datapath(file_model + '_' + str(index).zfill(5))\n",
    "lda_model.save(temp_file)\n",
    "\n",
    "time_end = time.time()\n",
    "hour, rem = divmod(time_end - time_start, 3600)\n",
    "minute, second = divmod(rem, 60)\n",
    "print('time elapsed - {:0>2}:{:0>2}:{:05.2f}'.format(int(hour), int(minute), second))"
   ]
  },
  {
   "cell_type": "markdown",
   "metadata": {},
   "source": [
    "### Incremental learning"
   ]
  },
  {
   "cell_type": "code",
   "execution_count": 14,
   "metadata": {},
   "outputs": [
    {
     "name": "stdout",
     "output_type": "stream",
     "text": [
      "0  -----  250  -----  499\n"
     ]
    },
    {
     "name": "stderr",
     "output_type": "stream",
     "text": [
      "C:\\Users\\minio\\anaconda3\\envs\\tfm-py-37\\lib\\site-packages\\ipykernel\\ipkernel.py:287: DeprecationWarning: `should_run_async` will not call `transform_cell` automatically in the future. Please pass the result to `transformed_cell` argument and any exception that happen during thetransform in `preprocessing_exc_tuple` in IPython 7.17 and above.\n",
      "  and should_run_async(code)\n"
     ]
    },
    {
     "name": "stdout",
     "output_type": "stream",
     "text": [
      "time elapsed - 00:00:31.33\n",
      "1  -----  500  -----  749\n",
      "time elapsed - 00:00:28.32\n",
      "2  -----  750  -----  999\n",
      "time elapsed - 00:00:22.86\n",
      "3  -----  1000  -----  1249\n",
      "time elapsed - 00:00:22.86\n",
      "4  -----  1250  -----  1499\n",
      "time elapsed - 00:00:22.68\n",
      "5  -----  1500  -----  1749\n",
      "time elapsed - 00:00:22.86\n",
      "6  -----  1750  -----  1999\n",
      "time elapsed - 00:00:22.86\n",
      "7  -----  2000  -----  2249\n",
      "time elapsed - 00:00:22.93\n",
      "8  -----  2250  -----  2499\n",
      "time elapsed - 00:00:18.81\n"
     ]
    }
   ],
   "source": [
    "documents_len = len(documents)\n",
    "\n",
    "while index+(index+1)*chunk_size < documents_len:\n",
    "    \n",
    "    time_start = time.time()\n",
    "    \n",
    "    print(index, ' ----- ', (index+1)*chunk_size, ' ----- ', ((index+1)*chunk_size)+chunk_size-1)\n",
    "    documents_sample = documents[(index+1)*chunk_size:((index+1)*chunk_size)+chunk_size-1]\n",
    "    \n",
    "    data_words = list(sent_to_words(documents_sample))\n",
    "    # Compute bigrams & trigrams\n",
    "    bi_tri_grams(data_words, 250)\n",
    "    # Categorizing and tagging words\n",
    "    data_words = list(map(tag_words, data_words))\n",
    "    # Create Corpus\n",
    "    texts = data_words\n",
    "    # Term Document Frequency\n",
    "    corpus = [id2word.doc2bow(text) for text in texts]\n",
    "    # Load LDA Model\n",
    "    temp_file = datapath(file_model)\n",
    "    lda_model = gensim.models.ldamodel.LdaModel.load(temp_file)\n",
    "    # Update LDA Model\n",
    "    lda_model.update(corpus)\n",
    "    \n",
    "    index = index + 1\n",
    "    indixes.append(index)\n",
    "    \n",
    "    # Evaluate LDA Model\n",
    "    # Compute Perplexity Score\n",
    "    perplexity = lda_model.log_perplexity(corpus)\n",
    "    perplexity_score.append(perplexity)\n",
    "\n",
    "    # Evaluate LDA Model\n",
    "    # Compute Coherence Score\n",
    "    coherence_lda_model = CoherenceModel(model=lda_model, texts=data_words, dictionary=id2word, coherence='c_v')\n",
    "    coherence = coherence_lda_model.get_coherence()\n",
    "    coherence_score.append(coherence)\n",
    "    \n",
    "    # Save LDA Model\n",
    "    temp_file = datapath(file_model)\n",
    "    lda_model.save(temp_file)\n",
    "    temp_file = datapath(file_model + '_' + str(index).zfill(5))\n",
    "    lda_model.save(temp_file)\n",
    "    \n",
    "    time_end = time.time()\n",
    "    hour, rem = divmod(time_end - time_start, 3600)\n",
    "    minute, second = divmod(rem, 60)\n",
    "    print('time elapsed - {:0>2}:{:0>2}:{:05.2f}'.format(int(hour), int(minute), second))"
   ]
  },
  {
   "cell_type": "markdown",
   "metadata": {},
   "source": [
    "### Topics in LDA model"
   ]
  },
  {
   "cell_type": "code",
   "execution_count": 15,
   "metadata": {},
   "outputs": [
    {
     "name": "stdout",
     "output_type": "stream",
     "text": [
      "[(0,\n",
      "  '0.007*\"pizza\" + 0.007*\"coconut\" + 0.004*\"feel\" + 0.003*\"baby\" + 0.003*\"day\" '\n",
      "  '+ 0.003*\"body\" + 0.003*\"nurture\" + 0.003*\"control\" + 0.003*\"play\" + '\n",
      "  '0.003*\"earth\"'),\n",
      " (1,\n",
      "  '0.024*\"bollywood\" + 0.012*\"malini\" + 0.009*\"bank\" + 0.009*\"india\" + '\n",
      "  '0.009*\"airport\" + 0.009*\"kapoor\" + 0.009*\"glan\" + 0.008*\"follow\" + '\n",
      "  '0.008*\"heart\" + 0.007*\"today\"'),\n",
      " (2,\n",
      "  '0.060*\"beauty\" + 0.057*\"fashion\" + 0.052*\"blogger\" + 0.047*\"style\" + '\n",
      "  '0.029*\"bollywood\" + 0.021*\"junkie\" + 0.021*\"news\" + 0.011*\"life\" + '\n",
      "  '0.009*\"delhi\" + 0.008*\"celebrity\"'),\n",
      " (3,\n",
      "  '0.013*\"friend\" + 0.013*\"charge\" + 0.011*\"mesereau\" + 0.010*\"story\" + '\n",
      "  '0.010*\"people\" + 0.010*\"year\" + 0.009*\"time\" + 0.008*\"city\" + 0.008*\"fan\" + '\n",
      "  '0.008*\"call\"'),\n",
      " (4,\n",
      "  '0.120*\"food\" + 0.021*\"gourmand\" + 0.019*\"sweet\" + 0.019*\"pic\" + '\n",
      "  '0.019*\"lunch\" + 0.019*\"dinner\" + 0.019*\"breakfast\" + 0.019*\"ephoto\" + '\n",
      "  '0.019*\"tasty\" + 0.015*\"bretagne\"'),\n",
      " (5,\n",
      "  '0.010*\"cole\" + 0.010*\"photoworks\" + 0.007*\"husband\" + 0.007*\"cheat\" + '\n",
      "  '0.006*\"star\" + 0.004*\"crush\" + 0.003*\"song\" + 0.003*\"spot\" + 0.003*\"stride\" '\n",
      "  '+ 0.003*\"rochon\"'),\n",
      " (6,\n",
      "  '0.027*\"model\" + 0.016*\"miami\" + 0.016*\"fashion\" + 0.015*\"bikini\" + '\n",
      "  '0.013*\"shoot\" + 0.011*\"event\" + 0.011*\"week\" + 0.010*\"follow\" + '\n",
      "  '0.009*\"jones\" + 0.008*\"pride\"'),\n",
      " (7,\n",
      "  '0.010*\"essence\" + 0.007*\"juju\" + 0.007*\"palette\" + 0.007*\"tease\" + '\n",
      "  '0.007*\"vmas\" + 0.007*\"tonight\" + 0.006*\"weekend\" + 0.004*\"follow\" + '\n",
      "  '0.004*\"babe\" + 0.003*\"chile\"'),\n",
      " (8,\n",
      "  '0.024*\"book\" + 0.017*\"author\" + 0.013*\"romance\" + 0.012*\"life\" + '\n",
      "  '0.012*\"release\" + 0.008*\"today\" + 0.008*\"series\" + 0.008*\"brother\" + '\n",
      "  '0.008*\"kindle\" + 0.007*\"game\"'),\n",
      " (9,\n",
      "  '0.012*\"hope\" + 0.007*\"challenge\" + 0.007*\"meow\" + 0.006*\"mckinley\" + '\n",
      "  '0.006*\"allison\" + 0.006*\"die\" + 0.006*\"mistletoe\" + 0.006*\"paradise\" + '\n",
      "  '0.006*\"anthology\" + 0.004*\"stallion\"')]\n"
     ]
    },
    {
     "name": "stderr",
     "output_type": "stream",
     "text": [
      "C:\\Users\\minio\\anaconda3\\envs\\tfm-py-37\\lib\\site-packages\\ipykernel\\ipkernel.py:287: DeprecationWarning: `should_run_async` will not call `transform_cell` automatically in the future. Please pass the result to `transformed_cell` argument and any exception that happen during thetransform in `preprocessing_exc_tuple` in IPython 7.17 and above.\n",
      "  and should_run_async(code)\n"
     ]
    }
   ],
   "source": [
    "# Print the Keyword in the 10 topics\n",
    "pprint(lda_model.print_topics())\n",
    "doc_lda = lda_model[corpus]"
   ]
  },
  {
   "cell_type": "markdown",
   "metadata": {},
   "source": [
    "### Plot perplexity score progress along incremental learning iterations  \n",
    "\n",
    "Lower the perplexity score represents a better model.  "
   ]
  },
  {
   "cell_type": "code",
   "execution_count": 16,
   "metadata": {},
   "outputs": [
    {
     "name": "stderr",
     "output_type": "stream",
     "text": [
      "C:\\Users\\minio\\anaconda3\\envs\\tfm-py-37\\lib\\site-packages\\ipykernel\\ipkernel.py:287: DeprecationWarning: `should_run_async` will not call `transform_cell` automatically in the future. Please pass the result to `transformed_cell` argument and any exception that happen during thetransform in `preprocessing_exc_tuple` in IPython 7.17 and above.\n",
      "  and should_run_async(code)\n"
     ]
    },
    {
     "data": {
      "image/png": "[encoded data removed]",
      "text/plain": [
       "<Figure size 432x288 with 1 Axes>"
      ]
     },
     "metadata": {
      "needs_background": "light"
     },
     "output_type": "display_data"
    }
   ],
   "source": [
    "plt.title('Perplexity score progress')\n",
    "plt.xlabel('Index')\n",
    "plt.ylabel('Perplexity score')\n",
    "plt.plot(indixes, perplexity_score, 'go', perplexity_score, 'k')\n",
    "plt.show()"
   ]
  },
  {
   "cell_type": "markdown",
   "metadata": {},
   "source": [
    "### Plot coherence score progress along incremental learning iterations  \n",
    "\n",
    "Higher the coherence score represents a more human interpretable model.  "
   ]
  },
  {
   "cell_type": "code",
   "execution_count": 17,
   "metadata": {},
   "outputs": [
    {
     "name": "stderr",
     "output_type": "stream",
     "text": [
      "C:\\Users\\minio\\anaconda3\\envs\\tfm-py-37\\lib\\site-packages\\ipykernel\\ipkernel.py:287: DeprecationWarning: `should_run_async` will not call `transform_cell` automatically in the future. Please pass the result to `transformed_cell` argument and any exception that happen during thetransform in `preprocessing_exc_tuple` in IPython 7.17 and above.\n",
      "  and should_run_async(code)\n"
     ]
    },
    {
     "data": {
      "image/png": "[encoded data removed]",
      "text/plain": [
       "<Figure size 432x288 with 1 Axes>"
      ]
     },
     "metadata": {
      "needs_background": "light"
     },
     "output_type": "display_data"
    }
   ],
   "source": [
    "plt.title('Coherence score progress')\n",
    "plt.xlabel('Index')\n",
    "plt.ylabel('Coherence score')\n",
    "plt.plot(indixes, coherence_score, 'go', coherence_score, 'k') \n",
    "plt.show()"
   ]
  },
  {
   "cell_type": "markdown",
   "metadata": {},
   "source": [
    "### Visualize the topics-keywords"
   ]
  },
  {
   "cell_type": "code",
   "execution_count": 18,
   "metadata": {},
   "outputs": [
    {
     "name": "stderr",
     "output_type": "stream",
     "text": [
      "C:\\Users\\minio\\anaconda3\\envs\\tfm-py-37\\lib\\site-packages\\ipykernel\\ipkernel.py:287: DeprecationWarning: `should_run_async` will not call `transform_cell` automatically in the future. Please pass the result to `transformed_cell` argument and any exception that happen during thetransform in `preprocessing_exc_tuple` in IPython 7.17 and above.\n",
      "  and should_run_async(code)\n"
     ]
    },
    {
     "data": {
      "text/html": [
       "\n",
       "<link rel=\"stylesheet\" type=\"text/css\" href=\"https://cdn.rawgit.com/bmabey/pyLDAvis/files/ldavis.v1.0.0.css\">\n",
       "\n",
       "\n",
       "<div id=\"ldavis_el1452021012249674969192012987\"></div>\n",
       "<script type=\"text/javascript\">\n",
       "\n",
       "var ldavis_el1452021012249674969192012987_data = {\"mdsDat\": {\"x\": [0.08005114704002421, -0.26094906447830707, 0.03839759620571109, 0.07640004784937784, -0.015348586090291343, -0.018315945172062184, 0.029408252631009147, 0.02436911057437487, 0.024886788927462447, 0.02110065251270113], \"y\": [-0.21734938148542185, -0.019834833079025407, -0.008718624910584278, 0.1484799024649986, 0.016067388864011465, 0.011162053643065602, 0.0029117433261459436, 0.019239396860588072, 0.02560465395080351, 0.022437700365418516], \"topics\": [1, 2, 3, 4, 5, 6, 7, 8, 9, 10], \"cluster\": [1, 1, 1, 1, 1, 1, 1, 1, 1, 1], \"Freq\": [22.584874404412265, 22.475797682600625, 12.55170065569263, 11.182644858605045, 8.496667764529366, 8.297671242107468, 4.575046865446466, 3.5153992444272077, 3.3079670327678867, 3.012230249411042]}, \"tinfo\": {\"Term\": [\"food\", \"beauty\", \"fashion\", \"blogger\", \"style\", \"bollywood\", \"junkie\", \"book\", \"model\", \"news\", \"author\", \"gourmand\", \"pic\", \"lunch\", \"dinner\", \"breakfast\", \"tasty\", \"ephoto\", \"sweet\", \"romance\", \"bretagne\", \"release\", \"miami\", \"life\", \"friend\", \"charge\", \"bikini\", \"follow\", \"today\", \"shoot\", \"author\", \"romance\", \"release\", \"series\", \"brother\", \"kindle\", \"giveaway\", \"genre\", \"braydon\", \"school\", \"christopher\", \"apple\", \"google\", \"playbook\", \"sexy\", \"college\", \"blurb\", \"adult\", \"prince\", \"card\", \"decision\", \"baseball\", \"amazonamazon\", \"link\", \"title\", \"purchase\", \"carson\", \"eye\", \"knight\", \"length\", \"book\", \"game\", \"reveal\", \"today\", \"read\", \"life\", \"woman\", \"love\", \"year\", \"time\", \"cover\", \"story\", \"beauty\", \"junkie\", \"style\", \"blogger\", \"delhi\", \"fenty\", \"foundation\", \"haul\", \"kylie\", \"fashionistas\", \"celeste\", \"launch\", \"blog\", \"celeb\", \"hydrate\", \"sneak\", \"restocks\", \"hash\", \"notification\", \"sale\", \"luxury\", \"bodice\", \"kit\", \"shipping\", \"profil\", \"primer\", \"matte\", \"jewel\", \"vidya\", \"code\", \"fashion\", \"celebrity\", \"news\", \"file\", \"bollywood\", \"persona\", \"life\", \"lover\", \"share\", \"love\", \"talk\", \"order\", \"charge\", \"friend\", \"mesereau\", \"money\", \"type\", \"case\", \"attorney\", \"slut\", \"track\", \"child\", \"drug\", \"service\", \"singer\", \"lawyer\", \"greenberg\", \"report\", \"phone\", \"walk\", \"engage\", \"yung\", \"accusation\", \"rapper\", \"vibe\", \"fan\", \"defense\", \"bail\", \"outcome\", \"owe\", \"payed\", \"steve\", \"people\", \"accuse\", \"crap\", \"city\", \"afford\", \"support\", \"abuse\", \"star\", \"thought\", \"gram\", \"call\", \"story\", \"year\", \"time\", \"face\", \"challenge\", \"york\", \"week\", \"perform\", \"share\", \"family\", \"jackson\", \"help\", \"matter\", \"medium\", \"food\", \"gourmand\", \"dinner\", \"tasty\", \"ephoto\", \"lunch\", \"breakfast\", \"pic\", \"bretagne\", \"pastry\", \"yummy\", \"delice\", \"wine\", \"sweet\", \"philippe\", \"alsace\", \"loni\", \"deli\", \"belle\", \"texture\", \"aquitaine\", \"bordeaux\", \"chef\", \"cantine\", \"roque\", \"vilaine\", \"haute\", \"dinard\", \"eats\", \"sushi\", \"model\", \"shoot\", \"event\", \"jones\", \"bikini\", \"photographer\", \"shot\", \"runway\", \"print\", \"heritage\", \"schomburg\", \"center\", \"omni\", \"location\", \"lingerie\", \"michi\", \"purr\", \"boutique\", \"miami\", \"venue\", \"jacqueline\", \"modelo\", \"headshot\", \"consideration\", \"catalog\", \"portrait\", \"photoshoot\", \"agatha\", \"advance\", \"prada\", \"morcha\", \"ruiz\", \"fitness\", \"award\", \"agency\", \"beach\", \"pride\", \"rite\", \"culture\", \"week\", \"follow\", \"couture\", \"contact\", \"fashion\", \"book\", \"bank\", \"india\", \"kapoor\", \"airport\", \"glan\", \"dance\", \"navman\", \"malini\", \"tribe\", \"zumba\", \"career\", \"khan\", \"sridhar\", \"repost\", \"bring\", \"goal\", \"keith\", \"couple\", \"watch\", \"manager\", \"comment\", \"magazine\", \"movie\", \"snap\", \"actress\", \"malin\", \"nishi\", \"exercise\", \"sucheta\", \"join\", \"body\", \"birthday\", \"heart\", \"pregnancy\", \"bollywood\", \"follow\", \"today\", \"news\", \"time\", \"mommy\", \"spot\", \"community\", \"hope\", \"allison\", \"mckinley\", \"die\", \"mistletoe\", \"paradise\", \"anthology\", \"suck\", \"casket\", \"gilkes\", \"road\", \"overcome\", \"tribulation\", \"youtube\", \"nightmare\", \"sensation\", \"frustrate\", \"problem\", \"shock\", \"fiction\", \"wonder\", \"task\", \"holiday\", \"candace\", \"wynter\", \"daniel\", \"colt\", \"smash\", \"jamaica\", \"magen\", \"corner\", \"meow\", \"stallion\", \"challenge\", \"hell\", \"flower\", \"break\", \"love\", \"humor\", \"trial\", \"august\", \"family\", \"travel\", \"death\", \"story\", \"pizza\", \"coconut\", \"nutrition\", \"deserves\", \"confidence\", \"cream\", \"scream\", \"chip\", \"believer\", \"bloat\", \"earth\", \"mood\", \"restriction\", \"balance\", \"cooky\", \"timo\", \"role\", \"glam\", \"hana\", \"remind\", \"prado\", \"playmate\", \"foto\", \"damn\", \"loon\", \"edition\", \"heat\", \"whittaker\", \"jean\", \"popeyes\", \"day\", \"feel\", \"baby\", \"body\", \"nurture\", \"control\", \"play\", \"level\", \"cole\", \"photoworks\", \"husband\", \"cheat\", \"stride\", \"antoine\", \"scandal\", \"yesterday\", \"murphy\", \"network\", \"rochon\", \"steal\", \"sweat\", \"ring\", \"homewrecker\", \"david\", \"scuba\", \"myron\", \"teach\", \"danie\", \"dominique\", \"mami\", \"china\", \"capone\", \"skinny\", \"sound\", \"preview\", \"kendra\", \"campbell\", \"beer\", \"bottle\", \"star\", \"crush\", \"song\", \"spot\", \"essence\", \"juju\", \"vmas\", \"palette\", \"tease\", \"tonight\", \"whew\", \"vision\", \"chile\", \"video\", \"music\", \"eyeshadow\", \"sparxx\", \"comin\", \"train\", \"blackrose\", \"lotta\", \"starr\", \"weekend\", \"babe\", \"feel\", \"award\", \"morning\", \"start\", \"star\", \"woodson\", \"badu\", \"base\", \"erykah\", \"carpet\", \"follow\", \"greg\", \"love\", \"accurate\"], \"Freq\": [29.0, 29.0, 31.0, 26.0, 23.0, 18.0, 10.0, 13.0, 5.0, 12.0, 8.0, 5.0, 4.0, 4.0, 4.0, 4.0, 4.0, 4.0, 5.0, 6.0, 3.0, 5.0, 3.0, 12.0, 3.0, 3.0, 3.0, 5.0, 5.0, 2.0, 8.259914412807055, 6.358765976158599, 5.723660196976421, 3.823834651423609, 3.8234513254998324, 3.8227881438744573, 3.1906392519811226, 3.190349905722233, 3.1899149604258707, 3.1606766367035894, 2.557096405550962, 2.5566415532319877, 2.5566158592841983, 2.556588776474366, 2.5564816026200736, 2.5563964190814565, 2.55632882779538, 2.556000824876303, 1.9233174525735475, 1.9231946540212748, 1.9229638714451844, 1.9229636399681773, 1.92261480411846, 1.9226293871699083, 1.922564805084924, 1.92195567334071, 1.9214229290088425, 1.8799993084166962, 1.2895332913634727, 1.289420677799513, 11.771045617938562, 3.2697865646837436, 2.5643793666257144, 4.207851071112638, 2.5602757422436397, 6.097921481154747, 2.622343292499524, 3.247214778766277, 2.532039019531131, 2.108485401119411, 1.9294436073052597, 1.928863988879452, 29.81729123361852, 10.57631323108638, 23.274929986908624, 25.967702052958252, 4.365609594441352, 3.7468098800059537, 3.746665905595059, 3.74667926642039, 3.7464742468592758, 3.744657404973312, 3.125865983463981, 3.1258597637694305, 3.124284338175655, 3.1236736563144034, 2.505079191799177, 2.5049481174954984, 2.5049402852875455, 2.5049402852875455, 2.504953876471934, 2.5048949045532316, 2.5034675998333844, 2.502758785013667, 1.884219606672224, 1.884219606672224, 1.8841893144561719, 1.8841735348607378, 1.8839538874994766, 1.8823345785052603, 1.8820378760392882, 1.263391811095197, 27.96400101615142, 3.894411985337217, 10.567966861717514, 3.772697630880131, 14.123603142115222, 2.6342288455529865, 5.2665369572851075, 2.549156093848163, 2.5767303033817983, 2.694451153219248, 2.517235699977964, 2.5122832106022392, 3.650527465636646, 3.6505694038912617, 3.131824583665318, 2.093925209038735, 2.093174951673956, 1.5750907232806837, 1.57496825328561, 1.5749808604909852, 1.574297369856714, 1.0562049725089382, 1.0561438018338776, 1.0561298438564979, 1.05601496391364, 1.0559679441833885, 1.0559679441833885, 1.0560244193176713, 1.0559907143400356, 1.0559646637370919, 1.0557636559983288, 1.0553640847749057, 1.0552618120374229, 1.0552171722387984, 1.0381072005478447, 2.1339556590041417, 0.5372626179579568, 0.5372626179579568, 0.5372626179579568, 0.5372626179579568, 0.5372626179579568, 0.5372626179579568, 2.688949410807688, 0.5372626179579568, 0.5372626179579568, 2.177826032165928, 0.5372626179579568, 0.5372821719907838, 0.5372626179579568, 1.8179359876614005, 1.0655165514831195, 1.6170051785799702, 2.119695751920183, 2.7409533611107886, 2.6804215368860156, 2.4185225398998855, 1.5840583056510553, 1.1202514411669147, 1.1104191074237646, 1.1076574862218254, 1.069514643648977, 1.0783956479661088, 1.0693277868550228, 1.0641787726188645, 1.064017644815472, 1.0664289014884372, 1.0625488410667814, 29.6006426869461, 5.100477600845906, 4.638151713652518, 4.638146212217991, 4.638146212217991, 4.638156298181291, 4.638151255199641, 4.638161341162941, 3.7133589650059764, 2.32648307996457, 2.3264952289658183, 1.8643508891118354, 1.4020004746895127, 4.6677925259805715, 0.9400381406278125, 0.9400381406278125, 0.9400381406278125, 0.939897338287876, 0.9398920660797873, 0.9398086276561212, 0.9397912064467844, 0.9397728110250833, 0.9397459342251523, 0.9397372809270935, 0.9397372809270935, 0.9395933840302354, 0.9395933840302354, 0.9393757908333534, 0.9358727523980106, 0.9358727523980106, 5.013811068946887, 2.5133008158400134, 2.0971391887794923, 1.6809160803517662, 2.8240776319613103, 1.262421731785127, 0.8481177825223627, 0.8480901768659831, 0.8480893060250879, 0.8475253494613211, 0.8475038396912082, 0.8475038396912082, 0.8474929541800176, 0.8468189233270906, 0.8460568504596534, 0.845234079981817, 0.8445722409014235, 0.8445722409014235, 2.9850635440443862, 0.4314813294637041, 0.43144867293013206, 0.43144323017453673, 0.43144323017453673, 0.43144323017453673, 0.43144323017453673, 0.43144323017453673, 0.43144323017453673, 0.43144323017453673, 0.43144323017453673, 0.43144323017453673, 0.43144323017453673, 0.43144323017453673, 1.279159555044187, 0.8657543135853256, 0.8756377481578376, 0.9403096151507497, 1.5474132102502065, 0.8643655836096632, 0.8571972567803757, 2.0000970336168065, 1.9415913297509226, 0.8652880653700064, 0.8707283826108403, 2.922794239997392, 1.3175389937275752, 1.5817533115483118, 1.5811750087213428, 1.5793099821043681, 1.5794244520462946, 1.5743904960265969, 1.1895953639249484, 1.1856655410820944, 2.2315813125130144, 0.7974929503818806, 0.7974629296615983, 0.7974441348197218, 0.7973473541407379, 0.7973402103999341, 0.7971336372283595, 0.7966792442865219, 0.7966341706838318, 0.7966044050971496, 0.7965519326200554, 0.7964298086701249, 0.7961865813046645, 0.7958469134383537, 0.7955201723411162, 0.7948079243740772, 0.7896247151983016, 1.2028702202734864, 0.40516317027882737, 0.4051575998618911, 0.40514786226281935, 0.40514786226281935, 0.4051565368052239, 0.787693779067959, 1.1822303372453657, 1.4639455417758056, 0.7964507296253359, 4.439810756873024, 1.5445801759198163, 1.327953975099129, 1.2569444261092153, 0.905340984761448, 0.8045881307570556, 0.8032677293318321, 0.7993567013308547, 1.2235735459440307, 0.6171218908732281, 0.6171218908732281, 0.6171218908732281, 0.6159260400775152, 0.6153926126904614, 0.6152502059592306, 0.3138994863511228, 0.3138994863511228, 0.3138994863511228, 0.3138994863511228, 0.3138994863511228, 0.3138994863511228, 0.3138994863511228, 0.3138994863511228, 0.3138994863511228, 0.3138994394605297, 0.3138994394605297, 0.3138981968598127, 0.31388748235929037, 0.3138872713516214, 0.3138872713516214, 0.31281990078099, 0.31281990078099, 0.31281990078099, 0.31281990078099, 0.31281990078099, 0.31281987733569344, 0.31219684202523434, 0.31219684202523434, 0.31219684202523434, 0.6642607696591066, 0.4348978249530187, 0.6736975484101566, 0.38711202009949897, 0.31765303143781953, 0.3218797260541458, 0.3250205517608644, 0.3172072425692612, 0.3163424159155055, 0.3196206545052903, 0.3174530430582675, 0.31657147646277667, 0.3162418121480192, 0.3140169238415303, 0.5144420973858584, 0.5135577038417386, 0.2615679297946927, 0.2615679297946927, 0.2615679297946927, 0.2615679297946927, 0.2615679297946927, 0.2615679297946927, 0.2615679297946927, 0.2615679297946927, 0.2615679297946927, 0.2615660202021791, 0.26156589409701314, 0.26156171461151173, 0.26155744505089173, 0.26155142803297154, 0.2615540762414574, 0.260730483402369, 0.2607078925626328, 0.2607078925626328, 0.2607078925626328, 0.2607078925626328, 0.26069865085546806, 0.25957953956739116, 0.2595217293562961, 0.2595231345281457, 0.25951068614676, 0.25670217997994665, 0.25670217997994665, 0.24213420494924215, 0.26801006624442336, 0.27133576572701396, 0.2697801504143705, 0.2670645297098215, 0.26472205419144046, 0.2644511082347965, 0.2642678413985639, 0.2610725346576082, 0.7047600653607482, 0.7047600653607482, 0.4754981518866017, 0.4748543482197203, 0.24167780738312877, 0.24167780738312877, 0.24167780738312877, 0.24167780738312877, 0.24167780738312877, 0.24167780738312877, 0.24167780738312877, 0.24167780738312877, 0.24167780738312877, 0.24167780738312877, 0.24167699368635667, 0.24167516286861948, 0.24037996103165038, 0.24037996103165038, 0.24037996103165038, 0.24037996103165038, 0.2403641956566912, 0.2388987955782273, 0.2388987955782273, 0.2388987955782273, 0.23880342353573228, 0.23880342353573228, 0.23880342353573228, 0.23788623470544573, 0.23789045575745094, 0.2378748599026526, 0.2378748599026526, 0.4157559924154772, 0.2561269769574111, 0.25367274882868485, 0.2515599003998812, 0.679126694872832, 0.4555908972966566, 0.454691814802386, 0.4547404397226688, 0.454702188118713, 0.4537411127102025, 0.2313134693490312, 0.2313134693490312, 0.2313134693490312, 0.23122714853816723, 0.23121918331313043, 0.23054579763138527, 0.23044874846509383, 0.2294802635449212, 0.2293724860232023, 0.22933130148754688, 0.22933130148754688, 0.22894747334696525, 0.4042094534377337, 0.23771156723280912, 0.22511339066442404, 0.22174706427852087, 0.22252262403879045, 0.21680751332895318, 0.16713096723052417, 0.02410905746891924, 0.008312519846902351, 0.00830963515421097, 0.008306768792342711, 0.008306747567179095, 0.25093064544199917, 0.020180511230927026, 0.18788987188821527, 0.017818036676460914], \"Total\": [29.0, 29.0, 31.0, 26.0, 23.0, 18.0, 10.0, 13.0, 5.0, 12.0, 8.0, 5.0, 4.0, 4.0, 4.0, 4.0, 4.0, 4.0, 5.0, 6.0, 3.0, 5.0, 3.0, 12.0, 3.0, 3.0, 3.0, 5.0, 5.0, 2.0, 8.388053920856674, 6.486845162896417, 5.852479015841528, 3.9518117722959523, 3.951591130401104, 3.9513714068706434, 3.318268512833786, 3.31813400931697, 3.317916223785383, 3.305345608264691, 2.6845943440553, 2.6843933661739436, 2.684368379672956, 2.6843501377116277, 2.6842957001424614, 2.684269992081386, 2.6842622319061222, 2.684098399320958, 2.050825348122349, 2.0507820434919983, 2.0506200680697813, 2.0506534390816173, 2.0504897989106516, 2.0505381019472386, 2.0504800773042846, 2.050230225093953, 2.0499765333503013, 2.031446179886509, 1.4170441747774836, 1.4170066412509594, 13.303126370790213, 3.7404221428651647, 2.9917394169557308, 5.6623948265850075, 2.9896400702883135, 12.018687504159669, 3.6440542068783897, 7.753911647308254, 5.700034172952916, 6.01340825367549, 2.3573588771018326, 5.3738489793625535, 29.948019113414826, 10.704389843018259, 23.630385795170692, 26.57444690252413, 4.494770206186232, 3.874785770970904, 3.8747121418876396, 3.874748827684357, 3.874839277627465, 3.873862821002593, 3.253919363996569, 3.2539165423639713, 3.253264858226393, 3.252941851809141, 2.633053570803137, 2.6330248831830247, 2.633017099243158, 2.633017099243158, 2.633040839715165, 2.6330875078596234, 2.63236725526747, 2.6320057312819563, 2.012191763828758, 2.012191763828758, 2.0121709941945882, 2.0121629623941235, 2.0120702291527417, 2.0113399958697635, 2.0112039757405524, 1.3913611202332978, 31.00595121330263, 4.320933204654753, 12.376694591022899, 4.299623068254742, 18.679445778496063, 3.0726613277104518, 12.018687504159669, 3.7344232593274977, 4.114501796059773, 7.753911647308254, 3.899400370820485, 3.8997835774387615, 3.782308040803478, 3.7824824717983923, 3.263428983566593, 2.225649151358655, 2.225379876640968, 1.7066959549229015, 1.7066501118771977, 1.7066688195002084, 1.7064663913830647, 1.1877748704602653, 1.187759389070006, 1.187750982701651, 1.1877419134464926, 1.1876893428161253, 1.1876893428161253, 1.1877642801173611, 1.1877752491462843, 1.187798440256543, 1.1876277804223885, 1.1875003281836523, 1.1874815901024764, 1.1875695257651713, 1.1820223012213833, 2.6497215484129457, 0.6688330778880518, 0.6688330792168727, 0.6688330792168727, 0.6688330792168727, 0.6688330792168727, 0.6688330792168727, 3.359930923950934, 0.6688330792168727, 0.6688330792168727, 2.8282441291681595, 0.6688330792168727, 0.6688584930972663, 0.6688330792168727, 2.54496658703832, 1.4271542573399942, 2.3293111567656446, 3.2716217787909594, 5.3738489793625535, 5.700034172952916, 6.01340825367549, 2.741670864103864, 2.1849512097879775, 4.088179360420592, 5.13671472508281, 1.8176047848143757, 4.114501796059773, 2.750875664222748, 1.818920786177236, 1.8190038140023739, 2.451566632840577, 1.806615387432242, 29.737167464246145, 5.235095370908394, 4.772796689721229, 4.772791095091076, 4.772791095091076, 4.772802063856815, 4.772797348284724, 4.772808747938656, 3.8480918264096204, 2.461201022403349, 2.461215238923381, 1.998936687053042, 1.53661034729589, 5.287761578067752, 1.0743783025197298, 1.0743783025197298, 1.0743783025197298, 1.0743522862211086, 1.0743467213756768, 1.0743299504262882, 1.074316386944933, 1.074329737516058, 1.0743189430764675, 1.0743296132321716, 1.0743296132321716, 1.0742779156024953, 1.0742779156024953, 1.0742189872369592, 1.073324021894822, 1.0733240226274874, 5.1499616391878815, 2.649841642528856, 2.2333313198322946, 1.8167806315053763, 3.059878877718019, 1.3998104291869637, 0.9834927870578034, 0.9834651255086783, 0.9834849564478756, 0.9833855875623412, 0.9833643702939008, 0.9833643702939008, 0.9833536329035955, 0.9832629826802198, 0.9831279684757848, 0.9829757287316538, 0.9827971866649189, 0.9827971866649189, 3.5719338201976467, 0.5668456515291364, 0.5668135261086423, 0.56680821945088, 0.56680821945088, 0.56680821945088, 0.56680821945088, 0.56680821945088, 0.56680821945088, 0.56680821945088, 0.56680821945088, 0.56680821945088, 0.56680821945088, 0.56680821945088, 1.7928267920242342, 1.2168343807975173, 1.2477620256798048, 1.3808760627982837, 2.5101802300479785, 1.3767474125414196, 1.4993611951831336, 5.13671472508281, 5.302815454543712, 1.59465553032384, 2.1072893121961607, 31.00595121330263, 13.303126370790213, 1.7195578247068948, 1.7194070579119225, 1.7194627894080932, 1.7198470645508748, 1.719250267159639, 1.327221426796487, 1.3270667477994025, 2.579626923978005, 0.934729688420271, 0.9347093704081378, 0.9347238657351183, 0.9348795280106552, 0.9348751274453088, 0.9348842313919468, 0.9348693990714336, 0.9348830778777804, 0.9348694306787397, 0.9349379077894121, 0.934851462594609, 0.934604234560489, 0.9347499608344103, 0.9346929527891605, 0.9344598045485845, 0.9340267125029241, 1.566879770163249, 0.5423868761989604, 0.5423817894198855, 0.5423767505805297, 0.5423767505805297, 0.5423904809988721, 1.1853347341982314, 1.9509874913728804, 3.014194010936394, 1.4536829686457555, 18.679445778496063, 5.302815454543712, 5.6623948265850075, 12.376694591022899, 6.01340825367549, 1.5506342262428008, 1.7810601115244733, 1.565587839483214, 1.3632759090507542, 0.7568081666690316, 0.7568081666690316, 0.7568081697228903, 0.7574929788317812, 0.7571508116141418, 0.7582419747592936, 0.4535735188109989, 0.4535735188109989, 0.4535735188109989, 0.4535735188109989, 0.4535735188109989, 0.4535735188109989, 0.4535735188109989, 0.4535735188109989, 0.4535735188109989, 0.453573475537234, 0.453573475537234, 0.4535837394448057, 0.4535966421495269, 0.4535968181642792, 0.45359689520089436, 0.454142318887845, 0.454142318887845, 0.454142318887845, 0.454142318887845, 0.454142318887845, 0.45414236182412043, 0.45390388388056235, 0.45390388388056235, 0.45390388388056235, 1.1555323029052857, 0.8802595982032946, 2.1849512097879775, 1.4845657681077282, 0.8686676801203645, 2.1122784365222995, 7.753911647308254, 1.0830197341762124, 0.9703935832061803, 2.954928979525537, 2.750875664222748, 1.4678999868850942, 1.084218067895217, 5.3738489793625535, 0.6562783984874581, 0.6566840798107098, 0.40340453999854115, 0.40340453999854115, 0.40340453999854115, 0.40340453999854115, 0.40340453999854115, 0.40340453999854115, 0.40340453999854115, 0.40340453999854115, 0.40340454253962077, 0.40340645411634796, 0.40341754811826863, 0.4034195802603887, 0.4034158225199813, 0.4034291244263171, 0.4034513305891483, 0.40381372127322823, 0.4038045582019694, 0.4038045582019694, 0.4038045582019694, 0.4038045582019694, 0.40381530670182564, 0.4042859904720187, 0.404330416680821, 0.40439379545261683, 0.4043997078480605, 0.40585101618097386, 0.40585101618097386, 0.41217826991425693, 0.81573774108138, 1.1455214561798952, 1.4260008231758665, 1.1853347341982314, 1.031679581139042, 1.0321240057831822, 1.6658917636450836, 1.0363328535448155, 0.8550936841859897, 0.8550936841859897, 0.6183729123986441, 0.6187661310019482, 0.3845342542304392, 0.3845342542304392, 0.3845342542304392, 0.3845342542304392, 0.3845342542304392, 0.3845342542304392, 0.3845342542304392, 0.3845342542304392, 0.3845342542304392, 0.3845342542304392, 0.38454482301115683, 0.38454557978854903, 0.38532583061163367, 0.38532583061163367, 0.38532583061163367, 0.38532583061163367, 0.38539705466673313, 0.3861777021324619, 0.3861777021324619, 0.3861777021324619, 0.38624350440159877, 0.38624350813822994, 0.3862435134357966, 0.38674074130322633, 0.3867594159272002, 0.38676200239308284, 0.38676200239308284, 2.54496658703832, 0.9751224454374773, 1.4440185600181246, 1.7810601115244733, 0.8245386061943087, 0.5997258010318839, 0.6003147444908564, 0.6004208639266708, 0.6006248852054419, 0.6009799118449004, 0.37541152384142495, 0.37541152384142495, 0.37541152384142495, 0.3756051228348925, 0.3756206231523771, 0.375927774969306, 0.3762576348225196, 0.3766067710760138, 0.3766422674231499, 0.3768030566720091, 0.3768030566720091, 0.3772977994864966, 1.0262212098026149, 0.6293439815889884, 1.1455214561798952, 1.2168343807975173, 1.2998376221766155, 2.1837530535067176, 2.54496658703832, 0.39047219696624996, 0.15023327288958857, 0.15023039342059988, 0.1502275182269347, 0.15022753538301636, 5.302815454543712, 0.3894267245883931, 7.753911647308254, 0.39339142830353674], \"Category\": [\"Default\", \"Default\", \"Default\", \"Default\", \"Default\", \"Default\", \"Default\", \"Default\", \"Default\", \"Default\", \"Default\", \"Default\", \"Default\", \"Default\", \"Default\", \"Default\", \"Default\", \"Default\", \"Default\", \"Default\", \"Default\", \"Default\", \"Default\", \"Default\", \"Default\", \"Default\", \"Default\", \"Default\", \"Default\", \"Default\", \"Topic1\", \"Topic1\", \"Topic1\", \"Topic1\", \"Topic1\", \"Topic1\", \"Topic1\", \"Topic1\", \"Topic1\", \"Topic1\", \"Topic1\", \"Topic1\", \"Topic1\", \"Topic1\", \"Topic1\", \"Topic1\", \"Topic1\", \"Topic1\", \"Topic1\", \"Topic1\", \"Topic1\", \"Topic1\", \"Topic1\", \"Topic1\", \"Topic1\", \"Topic1\", \"Topic1\", \"Topic1\", \"Topic1\", \"Topic1\", \"Topic1\", \"Topic1\", \"Topic1\", \"Topic1\", \"Topic1\", \"Topic1\", \"Topic1\", \"Topic1\", \"Topic1\", \"Topic1\", \"Topic1\", \"Topic1\", \"Topic2\", \"Topic2\", \"Topic2\", \"Topic2\", \"Topic2\", \"Topic2\", \"Topic2\", \"Topic2\", \"Topic2\", \"Topic2\", \"Topic2\", \"Topic2\", \"Topic2\", \"Topic2\", \"Topic2\", \"Topic2\", \"Topic2\", \"Topic2\", \"Topic2\", \"Topic2\", \"Topic2\", \"Topic2\", \"Topic2\", \"Topic2\", \"Topic2\", \"Topic2\", \"Topic2\", \"Topic2\", \"Topic2\", \"Topic2\", \"Topic2\", \"Topic2\", \"Topic2\", \"Topic2\", \"Topic2\", \"Topic2\", \"Topic2\", \"Topic2\", \"Topic2\", \"Topic2\", \"Topic2\", \"Topic2\", \"Topic3\", \"Topic3\", \"Topic3\", \"Topic3\", \"Topic3\", \"Topic3\", \"Topic3\", \"Topic3\", \"Topic3\", \"Topic3\", \"Topic3\", \"Topic3\", \"Topic3\", \"Topic3\", \"Topic3\", \"Topic3\", \"Topic3\", \"Topic3\", \"Topic3\", \"Topic3\", \"Topic3\", \"Topic3\", \"Topic3\", \"Topic3\", \"Topic3\", \"Topic3\", \"Topic3\", \"Topic3\", \"Topic3\", \"Topic3\", \"Topic3\", \"Topic3\", \"Topic3\", \"Topic3\", \"Topic3\", \"Topic3\", \"Topic3\", \"Topic3\", \"Topic3\", \"Topic3\", \"Topic3\", \"Topic3\", \"Topic3\", \"Topic3\", \"Topic3\", \"Topic3\", \"Topic3\", \"Topic3\", \"Topic3\", \"Topic3\", \"Topic3\", \"Topic3\", \"Topic3\", \"Topic3\", \"Topic3\", \"Topic4\", \"Topic4\", \"Topic4\", \"Topic4\", \"Topic4\", \"Topic4\", \"Topic4\", \"Topic4\", \"Topic4\", \"Topic4\", \"Topic4\", \"Topic4\", \"Topic4\", \"Topic4\", \"Topic4\", \"Topic4\", \"Topic4\", \"Topic4\", \"Topic4\", \"Topic4\", \"Topic4\", \"Topic4\", \"Topic4\", \"Topic4\", \"Topic4\", \"Topic4\", \"Topic4\", \"Topic4\", \"Topic4\", \"Topic4\", \"Topic5\", \"Topic5\", \"Topic5\", \"Topic5\", \"Topic5\", \"Topic5\", \"Topic5\", \"Topic5\", \"Topic5\", \"Topic5\", \"Topic5\", \"Topic5\", \"Topic5\", \"Topic5\", \"Topic5\", \"Topic5\", \"Topic5\", \"Topic5\", \"Topic5\", \"Topic5\", \"Topic5\", \"Topic5\", \"Topic5\", \"Topic5\", \"Topic5\", \"Topic5\", \"Topic5\", \"Topic5\", \"Topic5\", \"Topic5\", \"Topic5\", \"Topic5\", \"Topic5\", \"Topic5\", \"Topic5\", \"Topic5\", \"Topic5\", \"Topic5\", \"Topic5\", \"Topic5\", \"Topic5\", \"Topic5\", \"Topic5\", \"Topic5\", \"Topic5\", \"Topic6\", \"Topic6\", \"Topic6\", \"Topic6\", \"Topic6\", \"Topic6\", \"Topic6\", \"Topic6\", \"Topic6\", \"Topic6\", \"Topic6\", \"Topic6\", \"Topic6\", \"Topic6\", \"Topic6\", \"Topic6\", \"Topic6\", \"Topic6\", \"Topic6\", \"Topic6\", \"Topic6\", \"Topic6\", \"Topic6\", \"Topic6\", \"Topic6\", \"Topic6\", \"Topic6\", \"Topic6\", \"Topic6\", \"Topic6\", \"Topic6\", \"Topic6\", \"Topic6\", \"Topic6\", \"Topic6\", \"Topic6\", \"Topic6\", \"Topic6\", \"Topic6\", \"Topic6\", \"Topic6\", \"Topic6\", \"Topic7\", \"Topic7\", \"Topic7\", \"Topic7\", \"Topic7\", \"Topic7\", \"Topic7\", \"Topic7\", \"Topic7\", \"Topic7\", \"Topic7\", \"Topic7\", \"Topic7\", \"Topic7\", \"Topic7\", \"Topic7\", \"Topic7\", \"Topic7\", \"Topic7\", \"Topic7\", \"Topic7\", \"Topic7\", \"Topic7\", \"Topic7\", \"Topic7\", \"Topic7\", \"Topic7\", \"Topic7\", \"Topic7\", \"Topic7\", \"Topic7\", \"Topic7\", \"Topic7\", \"Topic7\", \"Topic7\", \"Topic7\", \"Topic7\", \"Topic7\", \"Topic7\", \"Topic7\", \"Topic7\", \"Topic7\", \"Topic7\", \"Topic7\", \"Topic7\", \"Topic8\", \"Topic8\", \"Topic8\", \"Topic8\", \"Topic8\", \"Topic8\", \"Topic8\", \"Topic8\", \"Topic8\", \"Topic8\", \"Topic8\", \"Topic8\", \"Topic8\", \"Topic8\", \"Topic8\", \"Topic8\", \"Topic8\", \"Topic8\", \"Topic8\", \"Topic8\", \"Topic8\", \"Topic8\", \"Topic8\", \"Topic8\", \"Topic8\", \"Topic8\", \"Topic8\", \"Topic8\", \"Topic8\", \"Topic8\", \"Topic8\", \"Topic8\", \"Topic8\", \"Topic8\", \"Topic8\", \"Topic8\", \"Topic8\", \"Topic8\", \"Topic9\", \"Topic9\", \"Topic9\", \"Topic9\", \"Topic9\", \"Topic9\", \"Topic9\", \"Topic9\", \"Topic9\", \"Topic9\", \"Topic9\", \"Topic9\", \"Topic9\", \"Topic9\", \"Topic9\", \"Topic9\", \"Topic9\", \"Topic9\", \"Topic9\", \"Topic9\", \"Topic9\", \"Topic9\", \"Topic9\", \"Topic9\", \"Topic9\", \"Topic9\", \"Topic9\", \"Topic9\", \"Topic9\", \"Topic9\", \"Topic9\", \"Topic9\", \"Topic9\", \"Topic9\", \"Topic9\", \"Topic10\", \"Topic10\", \"Topic10\", \"Topic10\", \"Topic10\", \"Topic10\", \"Topic10\", \"Topic10\", \"Topic10\", \"Topic10\", \"Topic10\", \"Topic10\", \"Topic10\", \"Topic10\", \"Topic10\", \"Topic10\", \"Topic10\", \"Topic10\", \"Topic10\", \"Topic10\", \"Topic10\", \"Topic10\", \"Topic10\", \"Topic10\", \"Topic10\", \"Topic10\", \"Topic10\", \"Topic10\", \"Topic10\", \"Topic10\", \"Topic10\", \"Topic10\", \"Topic10\", \"Topic10\"], \"logprob\": [30.0, 29.0, 28.0, 27.0, 26.0, 25.0, 24.0, 23.0, 22.0, 21.0, 20.0, 19.0, 18.0, 17.0, 16.0, 15.0, 14.0, 13.0, 12.0, 11.0, 10.0, 9.0, 8.0, 7.0, 6.0, 5.0, 4.0, 3.0, 2.0, 1.0, -4.097400188446045, -4.35890007019043, -4.464200019836426, -4.867499828338623, -4.867599964141846, -4.867800235748291, -5.048600196838379, -5.048600196838379, -5.048799991607666, -5.058000087738037, -5.269899845123291, -5.270100116729736, -5.270100116729736, -5.270100116729736, -5.270100116729736, -5.270199775695801, -5.270199775695801, -5.270299911499023, -5.554699897766113, -5.554800033569336, -5.554900169372559, -5.554900169372559, -5.555099964141846, -5.555099964141846, -5.555099964141846, -5.5553998947143555, -5.555699825286865, -5.577499866485596, -5.954500198364258, -5.954599857330322, -3.7430999279022217, -5.024099826812744, -5.267099857330322, -4.7718000411987305, -5.268700122833252, -4.4008002281188965, -5.244699954986572, -5.031000137329102, -5.279799938201904, -5.462800025939941, -5.551499843597412, -5.551799774169922, -2.808799982070923, -3.8452999591827393, -3.0566000938415527, -2.9470999240875244, -4.730199813842773, -4.882999897003174, -4.8831000328063965, -4.8831000328063965, -4.8831000328063965, -4.883600234985352, -5.064199924468994, -5.064199924468994, -5.064700126647949, -5.064899921417236, -5.285600185394287, -5.285699844360352, -5.285699844360352, -5.285699844360352, -5.285699844360352, -5.285699844360352, -5.286300182342529, -5.286499977111816, -5.570400238037109, -5.570400238037109, -5.570400238037109, -5.570400238037109, -5.5706000328063965, -5.571400165557861, -5.571599960327148, -5.970099925994873, -2.872999906539917, -4.844399929046631, -3.846100091934204, -4.876100063323975, -3.5560998916625977, -5.235300064086914, -4.542600154876709, -5.268199920654297, -5.257400035858154, -5.212699890136719, -5.280799865722656, -5.282700061798096, -4.326499938964844, -4.326499938964844, -4.479700088500977, -4.882299900054932, -4.882699966430664, -5.166999816894531, -5.167099952697754, -5.167099952697754, -5.167500019073486, -5.566699981689453, -5.566699981689453, -5.566699981689453, -5.56689977645874, -5.56689977645874, -5.56689977645874, -5.566800117492676, -5.56689977645874, -5.56689977645874, -5.5671000480651855, -5.567500114440918, -5.567599773406982, -5.567599773406982, -5.584000110626221, -4.863399982452393, -6.242599964141846, -6.242599964141846, -6.242599964141846, -6.242599964141846, -6.242599964141846, -6.242599964141846, -4.632199764251709, -6.242599964141846, -6.242599964141846, -4.8429999351501465, -6.242599964141846, -6.242599964141846, -6.242599964141846, -5.02370023727417, -5.5578999519348145, -5.1407999992370605, -4.870100021362305, -4.61299991607666, -4.63539981842041, -4.7382001876831055, -5.161399841308594, -5.507800102233887, -5.516600131988525, -5.519100189208984, -5.554100036621094, -5.545899868011475, -5.554299831390381, -5.559100151062012, -5.559299945831299, -5.557000160217285, -5.560699939727783, -2.1180999279022217, -3.876499891281128, -3.9714999198913574, -3.9714999198913574, -3.9714999198913574, -3.9714999198913574, -3.9714999198913574, -3.9714999198913574, -4.193900108337402, -4.661499977111816, -4.661499977111816, -4.882900238037109, -5.168000221252441, -3.9651999473571777, -5.567699909210205, -5.567699909210205, -5.567699909210205, -5.567800045013428, -5.567800045013428, -5.56790018081665, -5.567999839782715, -5.567999839782715, -5.567999839782715, -5.567999839782715, -5.567999839782715, -5.56820011138916, -5.56820011138916, -5.568399906158447, -5.5721001625061035, -5.5721001625061035, -3.61899995803833, -4.309599876403809, -4.490600109100342, -4.7118000984191895, -4.192999839782715, -4.9980998039245605, -5.395899772644043, -5.395899772644043, -5.395899772644043, -5.396599769592285, -5.396599769592285, -5.396599769592285, -5.396599769592285, -5.39739990234375, -5.3983001708984375, -5.3993000984191895, -5.400100231170654, -5.400100231170654, -4.137599945068359, -6.071700096130371, -6.071800231933594, -6.071800231933594, -6.071800231933594, -6.071800231933594, -6.071800231933594, -6.071800231933594, -6.071800231933594, -6.071800231933594, -6.071800231933594, -6.071800231933594, -6.071800231933594, -6.071800231933594, -4.985000133514404, -5.37529993057251, -5.363999843597412, -5.292699813842773, -4.794600009918213, -5.3769001960754395, -5.385300159454346, -4.538000106811523, -4.567699909210205, -5.375899791717529, -5.36959981918335, -4.158599853515625, -4.955399990081787, -4.748899936676025, -4.749300003051758, -4.750500202178955, -4.750400066375732, -4.753600120544434, -5.033899784088135, -5.037199974060059, -4.404799938201904, -5.433800220489502, -5.433800220489502, -5.433800220489502, -5.433899879455566, -5.433899879455566, -5.434199810028076, -5.434800148010254, -5.434800148010254, -5.434899806976318, -5.434899806976318, -5.435100078582764, -5.435400009155273, -5.435800075531006, -5.436200141906738, -5.437099933624268, -5.443699836730957, -5.022799968719482, -6.110899925231934, -6.111000061035156, -6.111000061035156, -6.111000061035156, -6.111000061035156, -5.446100234985352, -5.04010009765625, -4.826300144195557, -5.435100078582764, -3.716900110244751, -4.77269983291626, -4.923799991607666, -4.978799819946289, -5.3069000244140625, -5.424900054931641, -5.426499843597412, -5.431399822235107, -4.410299777984619, -5.094799995422363, -5.094799995422363, -5.094799995422363, -5.096700191497803, -5.097599983215332, -5.097799777984619, -5.7708001136779785, -5.7708001136779785, -5.7708001136779785, -5.7708001136779785, -5.7708001136779785, -5.7708001136779785, -5.7708001136779785, -5.7708001136779785, -5.7708001136779785, -5.7708001136779785, -5.7708001136779785, -5.7708001136779785, -5.7708001136779785, -5.7708001136779785, -5.7708001136779785, -5.774199962615967, -5.774199962615967, -5.774199962615967, -5.774199962615967, -5.774199962615967, -5.774199962615967, -5.776199817657471, -5.776199817657471, -5.776199817657471, -5.021200180053711, -5.444799900054932, -5.0071001052856445, -5.561200141906738, -5.758900165557861, -5.745699882507324, -5.736000061035156, -5.760300159454346, -5.763000011444092, -5.752699851989746, -5.759500026702881, -5.76230001449585, -5.763400077819824, -5.770400047302246, -5.013299942016602, -5.014999866485596, -5.689700126647949, -5.689700126647949, -5.689700126647949, -5.689700126647949, -5.689700126647949, -5.689700126647949, -5.689700126647949, -5.689700126647949, -5.689700126647949, -5.689700126647949, -5.689700126647949, -5.689700126647949, -5.689799785614014, -5.689799785614014, -5.689799785614014, -5.69290018081665, -5.692999839782715, -5.692999839782715, -5.692999839782715, -5.692999839782715, -5.692999839782715, -5.697299957275391, -5.6975998878479, -5.6975998878479, -5.6975998878479, -5.708499908447266, -5.708499908447266, -5.766900062561035, -5.66540002822876, -5.6529998779296875, -5.65880012512207, -5.668900012969971, -5.677700042724609, -5.678699970245361, -5.6793999671936035, -5.6915998458862305, -4.637700080871582, -4.637700080871582, -5.031199932098389, -5.032599925994873, -5.708000183105469, -5.708000183105469, -5.708000183105469, -5.708000183105469, -5.708000183105469, -5.708000183105469, -5.708000183105469, -5.708000183105469, -5.708000183105469, -5.708000183105469, -5.708000183105469, -5.708000183105469, -5.713399887084961, -5.713399887084961, -5.713399887084961, -5.713399887084961, -5.713399887084961, -5.7195000648498535, -5.7195000648498535, -5.7195000648498535, -5.719900131225586, -5.719900131225586, -5.719900131225586, -5.723800182342529, -5.723800182342529, -5.723800182342529, -5.723800182342529, -5.165500164031982, -5.649899959564209, -5.6595001220703125, -5.667900085449219, -4.581099987030029, -4.980299949645996, -4.9822998046875, -4.9822001457214355, -4.9822998046875, -4.984399795532227, -5.658199787139893, -5.658199787139893, -5.658199787139893, -5.6585001945495605, -5.658599853515625, -5.661499977111816, -5.661900043487549, -5.666100025177002, -5.666600227355957, -5.666800022125244, -5.666800022125244, -5.668399810791016, -5.099999904632568, -5.630899906158447, -5.685299873352051, -5.700399875640869, -5.696899890899658, -5.722899913787842, -5.9832000732421875, -7.919300079345703, -8.984199523925781, -8.98449993133545, -8.98490047454834, -8.98490047454834, -5.5767998695373535, -8.097200393676758, -5.866099834442139, -8.221699714660645], \"loglift\": [30.0, 29.0, 28.0, 27.0, 26.0, 25.0, 24.0, 23.0, 22.0, 21.0, 20.0, 19.0, 18.0, 17.0, 16.0, 15.0, 14.0, 13.0, 12.0, 11.0, 10.0, 9.0, 8.0, 7.0, 6.0, 5.0, 4.0, 3.0, 2.0, 1.0, 1.4725, 1.4679, 1.4656, 1.455, 1.4549, 1.4548, 1.4487, 1.4486, 1.4485, 1.4431, 1.4392, 1.4391, 1.4391, 1.4391, 1.4391, 1.4391, 1.4391, 1.439, 1.4237, 1.4237, 1.4236, 1.4236, 1.4235, 1.4235, 1.4235, 1.4233, 1.4231, 1.4104, 1.3936, 1.3935, 1.3655, 1.3534, 1.3338, 1.191, 1.3329, 0.8094, 1.1589, 0.6175, 0.6764, 0.4399, 1.2876, 0.4633, 1.4884, 1.4807, 1.4776, 1.4696, 1.4636, 1.4591, 1.4591, 1.4591, 1.459, 1.4588, 1.4526, 1.4526, 1.4523, 1.4522, 1.4429, 1.4429, 1.4429, 1.4429, 1.4429, 1.4428, 1.4425, 1.4424, 1.427, 1.427, 1.427, 1.427, 1.4269, 1.4264, 1.4264, 1.3962, 1.3895, 1.3888, 1.3347, 1.362, 1.2132, 1.3388, 0.6676, 1.1109, 1.0247, 0.4357, 1.0551, 1.053, 2.0399, 2.0398, 2.0342, 2.0143, 2.0141, 1.9951, 1.995, 1.995, 1.9947, 1.9579, 1.9579, 1.9579, 1.9578, 1.9578, 1.9578, 1.9578, 1.9577, 1.9577, 1.9576, 1.9573, 1.9573, 1.9572, 1.9455, 1.8588, 1.8563, 1.8563, 1.8563, 1.8563, 1.8563, 1.8563, 1.8525, 1.8563, 1.8563, 1.814, 1.8563, 1.8563, 1.8563, 1.7389, 1.7831, 1.7103, 1.6413, 1.4021, 1.3208, 1.1645, 1.5267, 1.4073, 0.772, 0.5411, 1.545, 0.7363, 1.1304, 1.5393, 1.5391, 1.2429, 1.5445, 2.1862, 2.1648, 2.1622, 2.1622, 2.1622, 2.1622, 2.1622, 2.1622, 2.1552, 2.1345, 2.1345, 2.1211, 2.0991, 2.0661, 2.0572, 2.0572, 2.0572, 2.0571, 2.0571, 2.057, 2.057, 2.057, 2.057, 2.057, 2.057, 2.0569, 2.0569, 2.0567, 2.0538, 2.0538, 2.4387, 2.4126, 2.4026, 2.3878, 2.3853, 2.3622, 2.3174, 2.3174, 2.3174, 2.3168, 2.3168, 2.3168, 2.3168, 2.3161, 2.3153, 2.3145, 2.3139, 2.3139, 2.286, 2.1926, 2.1926, 2.1926, 2.1926, 2.1926, 2.1926, 2.1926, 2.1926, 2.1926, 2.1926, 2.1926, 2.1926, 2.1926, 2.1279, 2.1251, 2.1113, 2.0812, 1.9817, 2.0, 1.9064, 1.5223, 1.4608, 1.8541, 1.5817, 0.1039, 0.1533, 2.4057, 2.4054, 2.4042, 2.404, 2.4012, 2.3797, 2.3765, 2.3443, 2.3304, 2.3304, 2.3304, 2.3301, 2.3301, 2.3298, 2.3292, 2.3292, 2.3291, 2.329, 2.3289, 2.3289, 2.3283, 2.328, 2.3273, 2.3212, 2.2248, 2.1975, 2.1975, 2.1975, 2.1975, 2.1975, 2.0805, 1.9883, 1.767, 1.8875, 1.0524, 1.2557, 1.039, 0.2021, 0.5958, 1.8331, 1.6929, 1.817, 2.9764, 2.8805, 2.8805, 2.8805, 2.8777, 2.8773, 2.8756, 2.7165, 2.7165, 2.7165, 2.7165, 2.7165, 2.7165, 2.7165, 2.7165, 2.7165, 2.7165, 2.7165, 2.7164, 2.7164, 2.7164, 2.7164, 2.7118, 2.7118, 2.7118, 2.7118, 2.7118, 2.7118, 2.7103, 2.7103, 2.7103, 2.5309, 2.3794, 1.908, 1.7404, 2.0786, 1.2032, -0.0875, 1.8566, 1.9637, 0.8605, 0.9252, 1.5505, 1.8524, 0.2447, 3.1045, 3.1022, 2.9148, 2.9148, 2.9148, 2.9148, 2.9148, 2.9148, 2.9148, 2.9148, 2.9148, 2.9148, 2.9147, 2.9147, 2.9147, 2.9146, 2.9146, 2.9106, 2.9105, 2.9105, 2.9105, 2.9105, 2.9104, 2.905, 2.9046, 2.9045, 2.9044, 2.8899, 2.8899, 2.8161, 2.2349, 1.9078, 1.683, 1.8577, 1.9878, 1.9863, 1.5069, 1.9694, 3.2155, 3.2155, 3.1461, 3.1441, 2.9444, 2.9444, 2.9444, 2.9444, 2.9444, 2.9444, 2.9444, 2.9444, 2.9444, 2.9444, 2.9444, 2.9444, 2.937, 2.937, 2.937, 2.937, 2.9367, 2.9286, 2.9286, 2.9286, 2.928, 2.928, 2.928, 2.9229, 2.9228, 2.9228, 2.9228, 1.5971, 2.0719, 1.6697, 1.4516, 3.3085, 3.2276, 3.2247, 3.2246, 3.2242, 3.2215, 3.0182, 3.0182, 3.0182, 3.0174, 3.0173, 3.0135, 3.0122, 3.0071, 3.0065, 3.0059, 3.0059, 3.0029, 2.5708, 2.5289, 1.8755, 1.8, 1.7375, 1.1927, 0.7794, 0.7177, 0.6081, 0.6077, 0.6074, 0.6074, 0.4517, 0.5425, -0.2176, 0.4079]}, \"token.table\": {\"Topic\": [3, 3, 3, 6, 1, 3, 5, 6, 7, 4, 1, 7, 1, 4, 3, 1, 2, 1, 5, 3, 3, 6, 1, 5, 2, 4, 5, 2, 6, 2, 2, 1, 2, 6, 2, 6, 1, 5, 4, 5, 1, 1, 4, 4, 6, 1, 1, 3, 4, 1, 6, 1, 3, 2, 2, 2, 5, 3, 7, 3, 4, 3, 1, 2, 3, 8, 2, 9, 1, 6, 1, 6, 2, 3, 5, 1, 6, 2, 5, 1, 3, 2, 3, 5, 6, 1, 1, 3, 2, 4, 4, 7, 4, 4, 3, 4, 3, 4, 10, 5, 1, 2, 3, 1, 3, 3, 2, 5, 2, 3, 2, 2, 5, 2, 5, 6, 4, 2, 3, 1, 1, 1, 6, 6, 1, 4, 1, 3, 3, 2, 2, 4, 1, 6, 1, 1, 3, 5, 7, 1, 2, 6, 1, 3, 2, 5, 2, 6, 6, 6, 1, 2, 1, 2, 2, 3, 1, 1, 1, 2, 5, 1, 5, 4, 1, 2, 3, 6, 1, 2, 4, 2, 6, 6, 6, 2, 1, 3, 7, 2, 3, 7, 3, 5, 5, 7, 5, 2, 6, 3, 3, 6, 6, 2, 6, 2, 1, 5, 1, 2, 3, 3, 7, 4, 3, 1, 3, 1, 3, 2, 4, 3, 5, 9, 4, 8, 1, 1, 3, 6, 1, 5, 2, 1, 5, 2, 1, 5, 3, 1, 1, 3, 6, 2, 1, 5, 1, 4, 5, 2, 5, 1, 1, 3, 1, 2, 3, 2, 5, 5, 3, 3, 6, 2, 1, 1, 6, 6, 3, 1, 3, 3, 1, 3, 2, 3, 4, 3, 4, 1, 2, 4, 4, 3, 1, 3, 6, 1, 1, 6, 3, 2, 3, 6, 3, 3, 2, 4, 3, 6, 2, 3, 5, 4, 1, 3, 1, 3, 1, 2, 3, 4, 3, 6], \"Freq\": [1.4951413604884585, 0.8421183185784823, 1.4951413604884585, 0.6382110606328223, 1.1176937480231577, 1.4951413604884585, 0.801434872531227, 1.162894097518075, 1.3213388069018042, 0.9307708445476878, 0.9753767129504984, 1.31884020311254, 1.1175709334567048, 0.930824487229252, 1.171886367382086, 0.33841760899463874, 0.33841760899463874, 0.9537373120728531, 0.821804524741154, 0.7012618672778084, 1.4951413604884585, 1.1630897032153644, 0.9752988788274715, 0.7241779526350429, 1.0017357036666872, 0.9307982051823294, 0.9804309647175724, 0.5125609489665744, 0.5125609489665744, 0.9221505566674127, 0.9783834860371237, 1.1176255301516012, 1.1398151471876952, 0.8436435473869809, 0.7494869048051157, 0.2141391156586045, 0.9020435997923392, 0.07517029998269492, 0.9308129199812389, 1.0175039301785733, 0.9041819617064728, 0.4734224346135074, 1.047603666180574, 1.0394762340513362, 1.0696681279687386, 1.0122504753152388, 0.3056588039860628, 0.6113176079721256, 0.930813027662388, 0.9752377178973498, 1.0698346716690976, 0.9756209241729104, 1.1718548896955394, 0.922242123181985, 0.9257259509799814, 0.9219650717820195, 1.0169170555784193, 0.4576761236224756, 0.4576761236224756, 1.0575553225300702, 0.9308222725146739, 0.8419103862775762, 1.1174872682880848, 0.3535762665205705, 0.707152533041141, 1.522802258718152, 0.7187206724824422, 1.169462502757174, 1.117622299116713, 1.069804805455508, 0.6387377154961109, 0.6387377154961109, 0.474543288485541, 0.474543288485541, 0.474543288485541, 0.9688758273199873, 1.0695897467291942, 0.6270946803143884, 0.6270946803143884, 0.8484070963598151, 1.4951413604884585, 1.0255122366210756, 0.6669507008802231, 0.6669507008802231, 0.7534537793092287, 0.9223236815646241, 0.9753147504708519, 1.495141363458968, 0.8899231365587342, 0.9307933839070303, 1.0005319392824419, 1.3213388015699616, 0.9309088853215481, 1.0476038107317833, 0.841921359832804, 0.9316851012377629, 0.8420146585358105, 1.047605038725163, 1.212799488692883, 0.8955231954344258, 0.984520298791147, 0.36474108292603447, 0.7294821658520689, 0.3635206101845199, 0.3635206101845199, 0.754796292160549, 0.9030524432995634, 0.09675561892495321, 1.0325610856206728, 0.8729648795360127, 1.0323151359662708, 0.9303141081210261, 0.5577783667941095, 0.1885790687177603, 0.3771581374355206, 0.3771581374355206, 1.0088385195419123, 1.0323347524988848, 1.0575065528587073, 0.8020485082739882, 0.9041226157763118, 0.9040859678465303, 1.1632977689188821, 1.0696524770456188, 1.1175813359735292, 0.9550924378159704, 0.42931147137445813, 0.8586229427489163, 0.8419710137576079, 1.139377332894013, 1.0323249784400854, 0.9308578213107569, 0.3317636477186611, 0.3317636477186611, 0.6735976414669926, 0.5497514586292643, 0.5497514586292643, 1.0168951148438563, 0.7335272290524796, 0.9233442091991422, 1.13936155088745, 1.163191689133133, 0.5497765529974871, 0.5497765529974871, 0.9943619696853591, 1.100848371739195, 1.027615787664399, 1.1631539875826442, 1.0696680918039794, 1.0696565386643087, 1.0123067634302363, 0.9939410527128091, 0.7056943021250757, 1.032300880992713, 0.9219658712637108, 0.8419710137576079, 0.7057129944833439, 0.9649409420722911, 0.4992225646871507, 0.4160188039059589, 1.0171615822814737, 0.9753537367097708, 1.0170219133788172, 0.9307708445476878, 0.3869014939113268, 0.3869014939113268, 0.12896716463710892, 0.12896716463710892, 0.2677789662707065, 0.8033368988121197, 1.0476026311385707, 1.1396586072847101, 1.0698700541348478, 0.775305910094871, 1.0699716126048415, 0.9940010895356151, 0.40790243536693993, 0.40790243536693993, 1.3213388069018042, 0.5535212458371168, 0.5535212458371168, 0.8654020294246728, 0.9192784690909094, 0.8398811822986127, 1.017319116607602, 1.3201442494453444, 0.9708810182105493, 0.6448974123465648, 0.6448974123465648, 0.8986142307196501, 0.769326862785731, 1.0701369873079523, 0.7535415996657604, 0.8887671840895672, 0.0807970167354152, 1.1393670598457302, 0.9692931975022073, 1.0169281594529245, 0.25642448616514363, 0.7692734584954308, 1.4951413604884585, 1.4951413604884585, 1.3207408414027015, 0.8126113965477763, 1.4951413604884585, 0.29762516630077107, 0.8928754989023131, 0.5501746080087073, 0.5501746080087073, 0.9763523148304163, 0.9307708445476878, 0.8419101178600513, 0.7143824471866658, 1.169462502757174, 1.0476011640230642, 1.5237435855038441, 0.6002790948506357, 1.117588930688997, 0.6879079012197519, 0.6879079012197519, 0.3983777690659632, 0.7967555381319265, 0.9939552796560515, 0.9752171250619257, 1.0167923702786192, 0.993951312174908, 0.9755002026215612, 1.0175039301785733, 0.842055962454647, 1.0034652765778214, 1.0252065806232131, 0.8419178929182747, 1.0696511572466063, 1.139377332894013, 1.0027611305307715, 0.7263496491008766, 0.9249488540776211, 0.930813027662388, 1.0168128732401867, 1.1393468660062238, 1.0169170555784193, 0.907620671344865, 1.0121939582350226, 0.8419273185743077, 1.1176115954143142, 0.729128372935195, 0.24304279097839832, 0.9939410527128091, 1.1321431257820271, 1.0167842745360434, 0.841933747288821, 1.1718735217683842, 1.0706331913359162, 1.1393739645837848, 0.6925118746309248, 0.5614633630439705, 0.5614633630439705, 1.0696615736613455, 0.7858649344105851, 0.4579272360463004, 0.4579272360463004, 1.4951413604884585, 0.3721727215782756, 0.5582590823674134, 0.9733230849197764, 1.4950845512468938, 0.9316851006017821, 0.18911593974806612, 0.9455796987403307, 0.25644968582428146, 0.7693490574728444, 1.047605038725163, 0.9308127355131498, 0.7006951034598411, 0.33259009128102496, 0.33259009128102496, 0.16629504564051248, 0.975381337344838, 0.7064148867224791, 0.17660372168061977, 1.1720125342632919, 0.6812453225250141, 1.0305096996787635, 1.0698280073783024, 0.8987229645568824, 0.8460077267296059, 0.9944292195740977, 0.9308578213107569, 0.8418936800287582, 1.0696886510981929, 0.3893539172486861, 0.19467695862434306, 0.3893539172486861, 0.6507830705160804, 0.823258884112455, 0.274419628037485, 0.5263126340952871, 0.5263126340952871, 0.2446076631767741, 0.4892153263535482, 0.2446076631767741, 0.8126067027257917, 0.8421050304293857, 1.069851262498153], \"Term\": [\"abuse\", \"accusation\", \"accuse\", \"actress\", \"adult\", \"afford\", \"agency\", \"airport\", \"allison\", \"alsace\", \"amazonamazon\", \"anthology\", \"apple\", \"aquitaine\", \"attorney\", \"august\", \"august\", \"author\", \"award\", \"baby\", \"bail\", \"bank\", \"baseball\", \"beach\", \"beauty\", \"belle\", \"bikini\", \"birthday\", \"birthday\", \"blog\", \"blogger\", \"blurb\", \"bodice\", \"body\", \"bollywood\", \"bollywood\", \"book\", \"book\", \"bordeaux\", \"boutique\", \"braydon\", \"break\", \"breakfast\", \"bretagne\", \"bring\", \"brother\", \"call\", \"call\", \"cantine\", \"card\", \"career\", \"carson\", \"case\", \"celeb\", \"celebrity\", \"celeste\", \"center\", \"challenge\", \"challenge\", \"charge\", \"chef\", \"child\", \"christopher\", \"city\", \"city\", \"coconut\", \"code\", \"cole\", \"college\", \"comment\", \"community\", \"community\", \"contact\", \"contact\", \"contact\", \"control\", \"couple\", \"couture\", \"couture\", \"cover\", \"crap\", \"crush\", \"culture\", \"culture\", \"dance\", \"death\", \"decision\", \"defense\", \"delhi\", \"deli\", \"delice\", \"die\", \"dinard\", \"dinner\", \"drug\", \"eats\", \"engage\", \"ephoto\", \"essence\", \"event\", \"eye\", \"face\", \"face\", \"family\", \"family\", \"fan\", \"fashion\", \"fashion\", \"fashionistas\", \"feel\", \"fenty\", \"file\", \"fitness\", \"follow\", \"follow\", \"follow\", \"food\", \"foundation\", \"friend\", \"game\", \"genre\", \"giveaway\", \"glan\", \"goal\", \"google\", \"gourmand\", \"gram\", \"gram\", \"greenberg\", \"hash\", \"haul\", \"haute\", \"heart\", \"heart\", \"hell\", \"help\", \"help\", \"heritage\", \"hope\", \"humor\", \"hydrate\", \"india\", \"jackson\", \"jackson\", \"jewel\", \"jones\", \"junkie\", \"kapoor\", \"keith\", \"khan\", \"kindle\", \"kit\", \"knight\", \"kylie\", \"launch\", \"lawyer\", \"length\", \"level\", \"life\", \"life\", \"lingerie\", \"link\", \"location\", \"loni\", \"love\", \"love\", \"love\", \"love\", \"lover\", \"lover\", \"lunch\", \"luxury\", \"magazine\", \"malini\", \"manager\", \"matte\", \"matter\", \"matter\", \"mckinley\", \"medium\", \"medium\", \"meow\", \"mesereau\", \"miami\", \"michi\", \"mistletoe\", \"model\", \"mommy\", \"mommy\", \"money\", \"morning\", \"movie\", \"navman\", \"news\", \"news\", \"notification\", \"nurture\", \"omni\", \"order\", \"order\", \"outcome\", \"owe\", \"paradise\", \"pastry\", \"payed\", \"people\", \"people\", \"perform\", \"perform\", \"persona\", \"philippe\", \"phone\", \"photographer\", \"photoworks\", \"pic\", \"pizza\", \"play\", \"playbook\", \"pregnancy\", \"pregnancy\", \"pride\", \"pride\", \"primer\", \"prince\", \"print\", \"profil\", \"purchase\", \"purr\", \"rapper\", \"read\", \"release\", \"report\", \"repost\", \"restocks\", \"reveal\", \"rite\", \"romance\", \"roque\", \"runway\", \"sale\", \"schomburg\", \"school\", \"series\", \"service\", \"sexy\", \"share\", \"share\", \"shipping\", \"shoot\", \"shot\", \"singer\", \"slut\", \"snap\", \"sneak\", \"song\", \"spot\", \"spot\", \"sridhar\", \"star\", \"start\", \"start\", \"steve\", \"story\", \"story\", \"style\", \"support\", \"sushi\", \"sweet\", \"sweet\", \"talk\", \"talk\", \"tasty\", \"texture\", \"thought\", \"time\", \"time\", \"time\", \"title\", \"today\", \"today\", \"track\", \"travel\", \"trial\", \"tribe\", \"type\", \"vibe\", \"vidya\", \"vilaine\", \"walk\", \"watch\", \"week\", \"week\", \"week\", \"wine\", \"woman\", \"woman\", \"year\", \"year\", \"york\", \"york\", \"york\", \"yummy\", \"yung\", \"zumba\"]}, \"R\": 30, \"lambda.step\": 0.01, \"plot.opts\": {\"xlab\": \"PC1\", \"ylab\": \"PC2\"}, \"topic.order\": [9, 3, 4, 5, 7, 2, 10, 1, 6, 8]};\n",
       "\n",
       "function LDAvis_load_lib(url, callback){\n",
       "  var s = document.createElement('script');\n",
       "  s.src = url;\n",
       "  s.async = true;\n",
       "  s.onreadystatechange = s.onload = callback;\n",
       "  s.onerror = function(){console.warn(\"failed to load library \" + url);};\n",
       "  document.getElementsByTagName(\"head\")[0].appendChild(s);\n",
       "}\n",
       "\n",
       "if(typeof(LDAvis) !== \"undefined\"){\n",
       "   // already loaded: just create the visualization\n",
       "   !function(LDAvis){\n",
       "       new LDAvis(\"#\" + \"ldavis_el1452021012249674969192012987\", ldavis_el1452021012249674969192012987_data);\n",
       "   }(LDAvis);\n",
       "}else if(typeof define === \"function\" && define.amd){\n",
       "   // require.js is available: use it to load d3/LDAvis\n",
       "   require.config({paths: {d3: \"https://cdnjs.cloudflare.com/ajax/libs/d3/3.5.5/d3.min\"}});\n",
       "   require([\"d3\"], function(d3){\n",
       "      window.d3 = d3;\n",
       "      LDAvis_load_lib(\"https://cdn.rawgit.com/bmabey/pyLDAvis/files/ldavis.v1.0.0.js\", function(){\n",
       "        new LDAvis(\"#\" + \"ldavis_el1452021012249674969192012987\", ldavis_el1452021012249674969192012987_data);\n",
       "      });\n",
       "    });\n",
       "}else{\n",
       "    // require.js not available: dynamically load d3 & LDAvis\n",
       "    LDAvis_load_lib(\"https://cdnjs.cloudflare.com/ajax/libs/d3/3.5.5/d3.min.js\", function(){\n",
       "         LDAvis_load_lib(\"https://cdn.rawgit.com/bmabey/pyLDAvis/files/ldavis.v1.0.0.js\", function(){\n",
       "                 new LDAvis(\"#\" + \"ldavis_el1452021012249674969192012987\", ldavis_el1452021012249674969192012987_data);\n",
       "            })\n",
       "         });\n",
       "}\n",
       "</script>"
      ],
      "text/plain": [
       "PreparedData(topic_coordinates=              x         y  topics  cluster       Freq\n",
       "topic                                                \n",
       "8      0.080051 -0.217349       1        1  22.584874\n",
       "2     -0.260949 -0.019835       2        1  22.475798\n",
       "3      0.038398 -0.008719       3        1  12.551701\n",
       "4      0.076400  0.148480       4        1  11.182645\n",
       "6     -0.015349  0.016067       5        1   8.496668\n",
       "1     -0.018316  0.011162       6        1   8.297671\n",
       "9      0.029408  0.002912       7        1   4.575047\n",
       "0      0.024369  0.019239       8        1   3.515399\n",
       "5      0.024887  0.025605       9        1   3.307967\n",
       "7      0.021101  0.022438      10        1   3.012230, topic_info=          Term       Freq      Total Category  logprob  loglift\n",
       "221       food  29.000000  29.000000  Default  30.0000  30.0000\n",
       "3       beauty  29.000000  29.000000  Default  29.0000  29.0000\n",
       "182    fashion  31.000000  31.000000  Default  28.0000  28.0000\n",
       "5      blogger  26.000000  26.000000  Default  27.0000  27.0000\n",
       "189      style  23.000000  23.000000  Default  26.0000  26.0000\n",
       "...        ...        ...        ...      ...      ...      ...\n",
       "2806    carpet   0.008307   0.150228  Topic10  -8.9849   0.6074\n",
       "209     follow   0.250931   5.302815  Topic10  -5.5768   0.4517\n",
       "507       greg   0.020181   0.389427  Topic10  -8.0972   0.5425\n",
       "15        love   0.187890   7.753912  Topic10  -5.8661  -0.2176\n",
       "7030  accurate   0.017818   0.393391  Topic10  -8.2217   0.4079\n",
       "\n",
       "[438 rows x 6 columns], token_table=      Topic      Freq        Term\n",
       "term                             \n",
       "636       3  1.495141       abuse\n",
       "1649      3  0.842118  accusation\n",
       "1650      3  1.495141      accuse\n",
       "434       6  0.638211     actress\n",
       "227       1  1.117694       adult\n",
       "...     ...       ...         ...\n",
       "912       2  0.489215        york\n",
       "912       3  0.244608        york\n",
       "618       4  0.812607       yummy\n",
       "205       3  0.842105        yung\n",
       "6900      6  1.069851       zumba\n",
       "\n",
       "[304 rows x 3 columns], R=30, lambda_step=0.01, plot_opts={'xlab': 'PC1', 'ylab': 'PC2'}, topic_order=[9, 3, 4, 5, 7, 2, 10, 1, 6, 8])"
      ]
     },
     "execution_count": 18,
     "metadata": {},
     "output_type": "execute_result"
    }
   ],
   "source": [
    "# Visualize the topics\n",
    "pyLDAvis.enable_notebook()\n",
    "vis = pyLDAvis.gensim.prepare(lda_model, corpus, id2word)\n",
    "vis"
   ]
  },
  {
   "cell_type": "markdown",
   "metadata": {},
   "source": [
    "### Save document-topic matrix (most significant topic per document)  \n",
    "https://github.com/Sim-Xuesi/content-based_movie_recommender/blob/master/Content%20Based%20Recommender%20System%20with%20LDA%20%26%20Cosine.ipynb  \n",
    "https://medium.com/@nicoleeesim97/building-a-simple-content-based-recommender-system-for-movies-and-tv-shows-73fec4f325ae  "
   ]
  },
  {
   "cell_type": "code",
   "execution_count": 19,
   "metadata": {},
   "outputs": [
    {
     "name": "stderr",
     "output_type": "stream",
     "text": [
      "C:\\Users\\minio\\anaconda3\\envs\\tfm-py-37\\lib\\site-packages\\ipykernel\\ipkernel.py:287: DeprecationWarning: `should_run_async` will not call `transform_cell` automatically in the future. Please pass the result to `transformed_cell` argument and any exception that happen during thetransform in `preprocessing_exc_tuple` in IPython 7.17 and above.\n",
      "  and should_run_async(code)\n"
     ]
    },
    {
     "name": "stdout",
     "output_type": "stream",
     "text": [
      "      Document  Topic  Probability\n",
      "0        77926      0     0.100000\n",
      "1        78062      7     0.111300\n",
      "2       101905      2     0.818478\n",
      "3        78354      7     0.243134\n",
      "4        82632      3     0.146354\n",
      "...        ...    ...          ...\n",
      "2340    111191      4     0.765498\n",
      "2341     77911      5     0.181174\n",
      "2342    111204      4     0.794741\n",
      "2343     68513      2     0.606348\n",
      "2344     78311      5     0.318279\n",
      "\n",
      "[2345 rows x 3 columns]\n"
     ]
    }
   ],
   "source": [
    "def Sort_Tuple(tup):  \n",
    "    return(sorted(tup, key = lambda x: x[1], reverse = True))\n",
    "\n",
    "doc_num, topic_num, prob = [], [], []\n",
    "\n",
    "document_topic_matrix = documents\n",
    "\n",
    "for n in range(len(documents)):\n",
    "    get_document_topics = lda_model.get_document_topics(corpus_total[n], minimum_probability=0)\n",
    "    doc_num.append(documents.index[n])\n",
    "    sorted_doc_topics = Sort_Tuple(get_document_topics)\n",
    "    topic_num.append(sorted_doc_topics[0][0])\n",
    "    prob.append(sorted_doc_topics[0][1])\n",
    "    \n",
    "data = {'Document': doc_num\n",
    "        ,'Topic': topic_num\n",
    "        ,'Probability': prob}\n",
    "df = pd.DataFrame(data) \n",
    "df.to_csv(file_model + '_document_topic_matrix.csv', index=False)\n",
    "print(df)"
   ]
  },
  {
   "cell_type": "markdown",
   "metadata": {},
   "source": [
    "### Save document-topic matrix (all topic's probability per document)  \n",
    "https://github.com/Sim-Xuesi/content-based_movie_recommender/blob/master/Content%20Based%20Recommender%20System%20with%20LDA%20%26%20Cosine.ipynb  \n",
    "https://medium.com/@nicoleeesim97/building-a-simple-content-based-recommender-system-for-movies-and-tv-shows-73fec4f325ae  "
   ]
  },
  {
   "cell_type": "code",
   "execution_count": 20,
   "metadata": {},
   "outputs": [
    {
     "name": "stderr",
     "output_type": "stream",
     "text": [
      "C:\\Users\\minio\\anaconda3\\envs\\tfm-py-37\\lib\\site-packages\\ipykernel\\ipkernel.py:287: DeprecationWarning: `should_run_async` will not call `transform_cell` automatically in the future. Please pass the result to `transformed_cell` argument and any exception that happen during thetransform in `preprocessing_exc_tuple` in IPython 7.17 and above.\n",
      "  and should_run_async(code)\n"
     ]
    },
    {
     "name": "stdout",
     "output_type": "stream",
     "text": [
      "      Document    Topic0    Topic1    Topic2    Topic3    Topic4    Topic5  \\\n",
      "0        77926  0.100000  0.100000  0.100000  0.100000  0.100000  0.100000   \n",
      "1        78062  0.109648  0.097073  0.089776  0.094665  0.094665  0.108856   \n",
      "2       101905  0.015085  0.015856  0.818479  0.014613  0.014370  0.014950   \n",
      "3        78354  0.098795  0.081424  0.072830  0.078521  0.078486  0.097682   \n",
      "4        82632  0.090566  0.090403  0.090274  0.146456  0.090362  0.130139   \n",
      "...        ...       ...       ...       ...       ...       ...       ...   \n",
      "2340    111191  0.026096  0.026037  0.025990  0.026071  0.765498  0.026093   \n",
      "2341     77911  0.091477  0.090730  0.090418  0.090623  0.090623  0.181171   \n",
      "2342    111204  0.022843  0.022790  0.022750  0.022814  0.794741  0.022840   \n",
      "2343     68513  0.040311  0.039968  0.606348  0.039889  0.039889  0.045406   \n",
      "2344     78311  0.076018  0.075710  0.075489  0.075641  0.075641  0.318278   \n",
      "\n",
      "        Topic6    Topic7    Topic8    Topic9  \n",
      "0     0.100000  0.100000  0.100000  0.100000  \n",
      "1     0.097844  0.111295  0.089924  0.106254  \n",
      "2     0.014530  0.048125  0.028948  0.015044  \n",
      "3     0.082364  0.243065  0.073000  0.093834  \n",
      "4     0.090413  0.090583  0.090277  0.090528  \n",
      "...        ...       ...       ...       ...  \n",
      "2340  0.026040  0.026102  0.025991  0.026082  \n",
      "2341  0.090759  0.092457  0.090423  0.091319  \n",
      "2342  0.022794  0.022848  0.022751  0.022830  \n",
      "2343  0.066055  0.040349  0.041558  0.040229  \n",
      "2344  0.075731  0.076052  0.075494  0.075944  \n",
      "\n",
      "[2345 rows x 11 columns]\n"
     ]
    }
   ],
   "source": [
    "doc_num = []\n",
    "prob0, prob1, prob2, prob3, prob4, prob5, prob6, prob7, prob8, prob9 = ([] for i in range(num_topics))\n",
    "\n",
    "document_topic_matrix = documents\n",
    "\n",
    "for n in range(len(documents)):\n",
    "    get_document_topics = lda_model.get_document_topics(corpus_total[n], minimum_probability=0)\n",
    "    doc_num.append(documents.index[n])\n",
    "    prob0.append(get_document_topics[0][1])\n",
    "    prob1.append(get_document_topics[1][1])\n",
    "    prob2.append(get_document_topics[2][1])\n",
    "    prob3.append(get_document_topics[3][1])\n",
    "    prob4.append(get_document_topics[4][1])\n",
    "    prob5.append(get_document_topics[5][1])\n",
    "    prob6.append(get_document_topics[6][1])\n",
    "    prob7.append(get_document_topics[7][1])\n",
    "    prob8.append(get_document_topics[8][1])\n",
    "    prob9.append(get_document_topics[9][1])\n",
    "    \n",
    "data = {'Document': doc_num\n",
    "        ,'Topic0': prob0\n",
    "        ,'Topic1': prob1\n",
    "        ,'Topic2': prob2\n",
    "        ,'Topic3': prob3\n",
    "        ,'Topic4': prob4\n",
    "        ,'Topic5': prob5\n",
    "        ,'Topic6': prob6\n",
    "        ,'Topic7': prob7\n",
    "        ,'Topic8': prob8\n",
    "        ,'Topic9': prob9}\n",
    "\n",
    "df = pd.DataFrame(data) \n",
    "df.to_csv(file_model + '_document_topic_matrix_full.csv', index=False)\n",
    "print(df)"
   ]
  },
  {
   "cell_type": "markdown",
   "metadata": {},
   "source": [
    "### Save topic-term matrix"
   ]
  },
  {
   "cell_type": "code",
   "execution_count": 21,
   "metadata": {},
   "outputs": [
    {
     "name": "stderr",
     "output_type": "stream",
     "text": [
      "C:\\Users\\minio\\anaconda3\\envs\\tfm-py-37\\lib\\site-packages\\ipykernel\\ipkernel.py:287: DeprecationWarning: `should_run_async` will not call `transform_cell` automatically in the future. Please pass the result to `transformed_cell` argument and any exception that happen during thetransform in `preprocessing_exc_tuple` in IPython 7.17 and above.\n",
      "  and should_run_async(code)\n"
     ]
    }
   ],
   "source": [
    "# get topic-term-matrix\n",
    "topic_term_matrix = lda_model.get_topics()\n",
    "# save topic-term matrix\n",
    "savetxt(file_model + '_topic_term_matrix.csv', topic_term_matrix, delimiter=',')"
   ]
  }
 ],
 "metadata": {
  "kernelspec": {
   "display_name": "Python 3",
   "language": "python",
   "name": "python3"
  },
  "language_info": {
   "codemirror_mode": {
    "name": "ipython",
    "version": 3
   },
   "file_extension": ".py",
   "mimetype": "text/x-python",
   "name": "python",
   "nbconvert_exporter": "python",
   "pygments_lexer": "ipython3",
   "version": "3.7.9"
  }
 },
 "nbformat": 4,
 "nbformat_minor": 4
}
