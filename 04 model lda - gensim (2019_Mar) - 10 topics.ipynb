{
 "cells": [
  {
   "cell_type": "markdown",
   "metadata": {},
   "source": [
    "# <span style=\"color:blue\">LDA model (2019_Mar) - 10 topics</span>"
   ]
  },
  {
   "cell_type": "code",
   "execution_count": 1,
   "metadata": {},
   "outputs": [],
   "source": [
    "yyyy_MMM = '2019_Mar'"
   ]
  },
  {
   "cell_type": "markdown",
   "metadata": {},
   "source": [
    "### Load packages"
   ]
  },
  {
   "cell_type": "code",
   "execution_count": 2,
   "metadata": {},
   "outputs": [
    {
     "name": "stderr",
     "output_type": "stream",
     "text": [
      "C:\\Users\\minio\\anaconda3\\envs\\tfm-py-37\\lib\\site-packages\\botocore\\vendored\\requests\\packages\\urllib3\\_collections.py:1: DeprecationWarning: Using or importing the ABCs from 'collections' instead of from 'collections.abc' is deprecated since Python 3.3,and in 3.9 it will stop working\n",
      "  from collections import Mapping, MutableMapping\n",
      "C:\\Users\\minio\\anaconda3\\envs\\tfm-py-37\\lib\\site-packages\\botocore\\vendored\\requests\\packages\\urllib3\\_collections.py:1: DeprecationWarning: Using or importing the ABCs from 'collections' instead of from 'collections.abc' is deprecated since Python 3.3,and in 3.9 it will stop working\n",
      "  from collections import Mapping, MutableMapping\n",
      "C:\\Users\\minio\\anaconda3\\envs\\tfm-py-37\\lib\\site-packages\\scipy\\sparse\\sparsetools.py:21: DeprecationWarning: `scipy.sparse.sparsetools` is deprecated!\n",
      "scipy.sparse.sparsetools is a private module for scipy.sparse, and should not be used.\n",
      "  _deprecated()\n",
      "C:\\Users\\minio\\anaconda3\\envs\\tfm-py-37\\lib\\site-packages\\gensim\\models\\doc2vec.py:73: DeprecationWarning: Using or importing the ABCs from 'collections' instead of from 'collections.abc' is deprecated since Python 3.3,and in 3.9 it will stop working\n",
      "  from collections import namedtuple, defaultdict, Iterable\n",
      "[nltk_data] Downloading package stopwords to\n",
      "[nltk_data]     C:\\Users\\minio\\AppData\\Roaming\\nltk_data...\n",
      "[nltk_data]   Package stopwords is already up-to-date!\n",
      "[nltk_data] Downloading package averaged_perceptron_tagger to\n",
      "[nltk_data]     C:\\Users\\minio\\AppData\\Roaming\\nltk_data...\n",
      "[nltk_data]   Package averaged_perceptron_tagger is already up-to-\n",
      "[nltk_data]       date!\n"
     ]
    },
    {
     "data": {
      "text/plain": [
       "True"
      ]
     },
     "execution_count": 2,
     "metadata": {},
     "output_type": "execute_result"
    }
   ],
   "source": [
    "import csv, os, re, time\n",
    "import numpy as np\n",
    "from numpy import savetxt\n",
    "import pandas as  pd\n",
    "import matplotlib.pyplot as plt  \n",
    "import pyLDAvis\n",
    "import pyLDAvis.gensim\n",
    "import gensim\n",
    "import gensim.corpora as corpora\n",
    "from gensim.corpora.dictionary import Dictionary\n",
    "from gensim.models import CoherenceModel\n",
    "from gensim.test.utils import datapath\n",
    "from gensim.utils import simple_preprocess\n",
    "from pprint import pprint\n",
    "import nltk\n",
    "nltk.download('stopwords')\n",
    "nltk.download('averaged_perceptron_tagger')"
   ]
  },
  {
   "cell_type": "markdown",
   "metadata": {},
   "source": [
    "### Constants"
   ]
  },
  {
   "cell_type": "code",
   "execution_count": 3,
   "metadata": {},
   "outputs": [
    {
     "name": "stdout",
     "output_type": "stream",
     "text": [
      "D:\\master\\data science\\semestre 4\\M2.979 - tfm\\data\\bins\\doc\\2019_Mar\\2019_Mar_28_results.csv\n",
      "D:\\master\\data science\\semestre 4\\M2.979 - tfm\\data\\bins\\model\\2019_Mar\\model\n"
     ]
    },
    {
     "name": "stderr",
     "output_type": "stream",
     "text": [
      "C:\\Users\\minio\\anaconda3\\envs\\tfm-py-37\\lib\\site-packages\\ipykernel\\ipkernel.py:287: DeprecationWarning: `should_run_async` will not call `transform_cell` automatically in the future. Please pass the result to `transformed_cell` argument and any exception that happen during thetransform in `preprocessing_exc_tuple` in IPython 7.17 and above.\n",
      "  and should_run_async(code)\n"
     ]
    }
   ],
   "source": [
    "# for reproducible results\n",
    "random_state = 33\n",
    "# if the test is True, the process runs on a smaller subset of raw data (json files)\n",
    "test = False\n",
    "# if sample > 0, then we take a sample of the entire dataset (for debugging purpose)\n",
    "sample = 0\n",
    "# parameters to build the lda model\n",
    "num_topics = 10\n",
    "\n",
    "if test:\n",
    "    # path with the documents preprocessed\n",
    "    path_doc = r'D:\\master\\data science\\semestre 4\\M2.979 - tfm\\data\\bins_test\\doc'\n",
    "    # path where store all data/results related to the model\n",
    "    path_model = r'D:\\master\\data science\\semestre 4\\M2.979 - tfm\\data\\bins_test\\model'\n",
    "    # chunksize to build LDA model\n",
    "    chunksize = 250\n",
    "else:\n",
    "    # path with the documents preprocessed\n",
    "    path_doc = r'D:\\master\\data science\\semestre 4\\M2.979 - tfm\\data\\bins\\doc'\n",
    "    # path where store all data/results related to the model\n",
    "    path_model = r'D:\\master\\data science\\semestre 4\\M2.979 - tfm\\data\\bins\\model'\n",
    "    # chunksize to build LDA model\n",
    "    chunksize = 5000\n",
    "\n",
    "# path + name of the file that contains the documents preprocessed\n",
    "file_doc = os.path.join(path_doc, yyyy_MMM, yyyy_MMM) + '_28_results.csv'\n",
    "# path + name of the file that contains the model gotten at the end\n",
    "file_model = os.path.join(path_model, yyyy_MMM, 'model')\n",
    "print(file_doc)\n",
    "print(file_model)"
   ]
  },
  {
   "cell_type": "markdown",
   "metadata": {},
   "source": [
    "### Load data preprocessed"
   ]
  },
  {
   "cell_type": "code",
   "execution_count": 4,
   "metadata": {},
   "outputs": [
    {
     "name": "stderr",
     "output_type": "stream",
     "text": [
      "C:\\Users\\minio\\anaconda3\\envs\\tfm-py-37\\lib\\site-packages\\ipykernel\\ipkernel.py:287: DeprecationWarning: `should_run_async` will not call `transform_cell` automatically in the future. Please pass the result to `transformed_cell` argument and any exception that happen during thetransform in `preprocessing_exc_tuple` in IPython 7.17 and above.\n",
      "  and should_run_async(code)\n"
     ]
    },
    {
     "data": {
      "text/plain": [
       "id_doc\n",
       "3036201                          ['brown', 'beige', 'store']\n",
       "2981534    ['well', 'hand', 'left', 'hand', 'trigger', 't...\n",
       "2370920    ['processing', 'drunken', 'group', 'vocal', 'p...\n",
       "3122652    ['tomorrow', 'italy', 'global', 'fashion', 'tr...\n",
       "1655191       ['hello', 'deeply', 'soothe', 'lunch', 'view']\n",
       "2971481    ['construction', 'worker', 'realness', 'constr...\n",
       "2737442    ['house', 'live', 'life', 'seychelles', 'islan...\n",
       "3075320    ['uuuu', 'fantasy', 'sport', 'erotica', 'creep...\n",
       "2054219    ['share', 'butterfinger', 'double', 'chocolate...\n",
       "3115926    ['flashback', 'time', 'week', 'board', 'york',...\n",
       "Name: content_preprocessed, dtype: object"
      ]
     },
     "execution_count": 4,
     "metadata": {},
     "output_type": "execute_result"
    }
   ],
   "source": [
    "df = pd.read_csv(file_doc, index_col='id_doc')\n",
    "documents = df.content_preprocessed\n",
    "documents.head(10)"
   ]
  },
  {
   "cell_type": "markdown",
   "metadata": {},
   "source": [
    "### Shuffle"
   ]
  },
  {
   "cell_type": "code",
   "execution_count": 5,
   "metadata": {},
   "outputs": [
    {
     "name": "stderr",
     "output_type": "stream",
     "text": [
      "C:\\Users\\minio\\anaconda3\\envs\\tfm-py-37\\lib\\site-packages\\ipykernel\\ipkernel.py:287: DeprecationWarning: `should_run_async` will not call `transform_cell` automatically in the future. Please pass the result to `transformed_cell` argument and any exception that happen during thetransform in `preprocessing_exc_tuple` in IPython 7.17 and above.\n",
      "  and should_run_async(code)\n"
     ]
    },
    {
     "data": {
      "text/plain": [
       "id_doc\n",
       "2023932                  ['good', 'morning', 'york', 'city']\n",
       "3084583    ['hannah', 'york', 'fashion', 'portrait', 'sty...\n",
       "2510867    ['mood', 'nude', 'isabella', 'kravitz', 'creat...\n",
       "2013016    ['kick', 'trip', 'lion', 'coffee', 'morning', ...\n",
       "2528072    ['good', 'light', 'friday', 'foundation', 'yes...\n",
       "2282510    ['paros', 'island', 'greek', 'island', 'clade'...\n",
       "2368258    ['plant', 'gentle', 'reminder', 'plant', 'seed...\n",
       "3065870    ['ready', 'halloween', 'collaboration', 'plan'...\n",
       "2450040    ['sunday', 'review', 'rufus', 'maldives', 'blo...\n",
       "2041261    ['work', 'amaze', 'talented', 'powerful', 'bea...\n",
       "Name: content_preprocessed, dtype: object"
      ]
     },
     "execution_count": 5,
     "metadata": {},
     "output_type": "execute_result"
    }
   ],
   "source": [
    "documents = documents.sample(frac=1, random_state=random_state)\n",
    "documents.head(10)"
   ]
  },
  {
   "cell_type": "markdown",
   "metadata": {},
   "source": [
    "### Sample"
   ]
  },
  {
   "cell_type": "code",
   "execution_count": 6,
   "metadata": {},
   "outputs": [
    {
     "name": "stderr",
     "output_type": "stream",
     "text": [
      "C:\\Users\\minio\\anaconda3\\envs\\tfm-py-37\\lib\\site-packages\\ipykernel\\ipkernel.py:287: DeprecationWarning: `should_run_async` will not call `transform_cell` automatically in the future. Please pass the result to `transformed_cell` argument and any exception that happen during thetransform in `preprocessing_exc_tuple` in IPython 7.17 and above.\n",
      "  and should_run_async(code)\n"
     ]
    }
   ],
   "source": [
    "if sample > 0:\n",
    "    documents = documents.sample(n=sample, random_state=random_state)\n",
    "    print(documents.head(10))"
   ]
  },
  {
   "cell_type": "markdown",
   "metadata": {},
   "source": [
    "### Plot the number of words appearing in each document  \n",
    "\n",
    "https://neptune.ai/blog/exploratory-data-analysis-natural-language-processing-tools"
   ]
  },
  {
   "cell_type": "code",
   "execution_count": 7,
   "metadata": {},
   "outputs": [
    {
     "name": "stderr",
     "output_type": "stream",
     "text": [
      "C:\\Users\\minio\\anaconda3\\envs\\tfm-py-37\\lib\\site-packages\\ipykernel\\ipkernel.py:287: DeprecationWarning: `should_run_async` will not call `transform_cell` automatically in the future. Please pass the result to `transformed_cell` argument and any exception that happen during thetransform in `preprocessing_exc_tuple` in IPython 7.17 and above.\n",
      "  and should_run_async(code)\n"
     ]
    },
    {
     "name": "stdout",
     "output_type": "stream",
     "text": [
      "(136188,)\n"
     ]
    },
    {
     "data": {
      "text/plain": [
       "<AxesSubplot:>"
      ]
     },
     "execution_count": 7,
     "metadata": {},
     "output_type": "execute_result"
    },
    {
     "data": {
      "image/png": "[encoded data removed]",
      "text/plain": [
       "<Figure size 432x288 with 1 Axes>"
      ]
     },
     "metadata": {
      "needs_background": "light"
     },
     "output_type": "display_data"
    }
   ],
   "source": [
    "print(documents.shape)\n",
    "\n",
    "documents.str.split().\\\n",
    "    map(lambda x: len(x)).\\\n",
    "    hist()"
   ]
  },
  {
   "cell_type": "markdown",
   "metadata": {},
   "source": [
    "### Remove words that appear only once"
   ]
  },
  {
   "cell_type": "code",
   "execution_count": 8,
   "metadata": {},
   "outputs": [
    {
     "name": "stderr",
     "output_type": "stream",
     "text": [
      "C:\\Users\\minio\\anaconda3\\envs\\tfm-py-37\\lib\\site-packages\\ipykernel\\ipkernel.py:287: DeprecationWarning: `should_run_async` will not call `transform_cell` automatically in the future. Please pass the result to `transformed_cell` argument and any exception that happen during thetransform in `preprocessing_exc_tuple` in IPython 7.17 and above.\n",
      "  and should_run_async(code)\n"
     ]
    }
   ],
   "source": [
    "####################### PENDING"
   ]
  },
  {
   "cell_type": "markdown",
   "metadata": {},
   "source": [
    "### Tokenize words and Clean-up text"
   ]
  },
  {
   "cell_type": "code",
   "execution_count": 9,
   "metadata": {},
   "outputs": [
    {
     "name": "stderr",
     "output_type": "stream",
     "text": [
      "C:\\Users\\minio\\anaconda3\\envs\\tfm-py-37\\lib\\site-packages\\ipykernel\\ipkernel.py:287: DeprecationWarning: `should_run_async` will not call `transform_cell` automatically in the future. Please pass the result to `transformed_cell` argument and any exception that happen during thetransform in `preprocessing_exc_tuple` in IPython 7.17 and above.\n",
      "  and should_run_async(code)\n"
     ]
    }
   ],
   "source": [
    "# https://www.machinelearningplus.com/nlp/topic-modeling-gensim-python/#3importpackages\n",
    "def sent_to_words(sentences):\n",
    "    for sentence in sentences:\n",
    "        yield(gensim.utils.simple_preprocess(str(sentence), deacc=True))  # deacc=True removes punctuations"
   ]
  },
  {
   "cell_type": "markdown",
   "metadata": {},
   "source": [
    "### Compute bigrams & trigrams  \n",
    "\n",
    "https://radimrehurek.com/gensim/auto_examples/tutorials/run_lda.html#pre-process-and-vectorize-the-documents"
   ]
  },
  {
   "cell_type": "code",
   "execution_count": 10,
   "metadata": {},
   "outputs": [
    {
     "name": "stderr",
     "output_type": "stream",
     "text": [
      "C:\\Users\\minio\\anaconda3\\envs\\tfm-py-37\\lib\\site-packages\\ipykernel\\ipkernel.py:287: DeprecationWarning: `should_run_async` will not call `transform_cell` automatically in the future. Please pass the result to `transformed_cell` argument and any exception that happen during thetransform in `preprocessing_exc_tuple` in IPython 7.17 and above.\n",
      "  and should_run_async(code)\n"
     ]
    }
   ],
   "source": [
    "from gensim.models import Phrases\n",
    "\n",
    "# Add bigrams and trigrams to docs (only ones that appear min_count times or more).\n",
    "def bi_tri_grams(documents, min_count):\n",
    "    bigram = Phrases(documents, min_count=min_count)\n",
    "    for idx in range(len(documents)):\n",
    "        for token in bigram[documents[idx]]:\n",
    "            if '_' in token:\n",
    "                # Token is a bigram, add to document.\n",
    "                documents[idx].append(token)"
   ]
  },
  {
   "cell_type": "markdown",
   "metadata": {},
   "source": [
    "### Categorizing and tagging words"
   ]
  },
  {
   "cell_type": "code",
   "execution_count": 11,
   "metadata": {},
   "outputs": [
    {
     "name": "stderr",
     "output_type": "stream",
     "text": [
      "C:\\Users\\minio\\anaconda3\\envs\\tfm-py-37\\lib\\site-packages\\ipykernel\\ipkernel.py:287: DeprecationWarning: `should_run_async` will not call `transform_cell` automatically in the future. Please pass the result to `transformed_cell` argument and any exception that happen during thetransform in `preprocessing_exc_tuple` in IPython 7.17 and above.\n",
      "  and should_run_async(code)\n"
     ]
    }
   ],
   "source": [
    "# function to remove accented characters\n",
    "def tag_words(text):\n",
    "    tags = nltk.pos_tag(text)\n",
    "    nouns = [word for word, pos in tags if (pos == 'NN' or pos == 'NNP' or pos == 'NNS' or pos == 'NNPS')]\n",
    "    return nouns"
   ]
  },
  {
   "cell_type": "markdown",
   "metadata": {},
   "source": [
    "### Dictionary with the entire dataset"
   ]
  },
  {
   "cell_type": "code",
   "execution_count": 12,
   "metadata": {},
   "outputs": [
    {
     "name": "stderr",
     "output_type": "stream",
     "text": [
      "C:\\Users\\minio\\anaconda3\\envs\\tfm-py-37\\lib\\site-packages\\ipykernel\\ipkernel.py:287: DeprecationWarning: `should_run_async` will not call `transform_cell` automatically in the future. Please pass the result to `transformed_cell` argument and any exception that happen during thetransform in `preprocessing_exc_tuple` in IPython 7.17 and above.\n",
      "  and should_run_async(code)\n"
     ]
    }
   ],
   "source": [
    "data_words = list(sent_to_words(documents))\n",
    "# Compute bigrams & trigrams\n",
    "bi_tri_grams(data_words, 250)\n",
    "# Categorizing and tagging words\n",
    "data_words = list(map(tag_words, data_words))\n",
    "# Create Dictionary\n",
    "id2word = Dictionary(data_words)\n",
    "# Create Corpus\n",
    "texts = data_words\n",
    "# Term Document Frequency\n",
    "corpus_total = [id2word.doc2bow(text) for text in texts]"
   ]
  },
  {
   "cell_type": "markdown",
   "metadata": {},
   "source": [
    "### Save document-term matrix"
   ]
  },
  {
   "cell_type": "code",
   "execution_count": 13,
   "metadata": {},
   "outputs": [
    {
     "name": "stderr",
     "output_type": "stream",
     "text": [
      "C:\\Users\\minio\\anaconda3\\envs\\tfm-py-37\\lib\\site-packages\\ipykernel\\ipkernel.py:287: DeprecationWarning: `should_run_async` will not call `transform_cell` automatically in the future. Please pass the result to `transformed_cell` argument and any exception that happen during thetransform in `preprocessing_exc_tuple` in IPython 7.17 and above.\n",
      "  and should_run_async(code)\n",
      "C:\\Users\\minio\\anaconda3\\envs\\tfm-py-37\\lib\\site-packages\\numpy\\core\\_asarray.py:83: VisibleDeprecationWarning: Creating an ndarray from ragged nested sequences (which is a list-or-tuple of lists-or-tuples-or ndarrays with different lengths or shapes) is deprecated. If you meant to do this, you must specify 'dtype=object' when creating the ndarray\n",
      "  return array(a, dtype, copy=False, order=order)\n"
     ]
    }
   ],
   "source": [
    "# save document-term matrix\n",
    "savetxt(file_model + '_document_term_matrix.csv', corpus_total, delimiter=',', fmt='% s')"
   ]
  },
  {
   "cell_type": "markdown",
   "metadata": {},
   "source": [
    "### Build LDA model"
   ]
  },
  {
   "cell_type": "code",
   "execution_count": 14,
   "metadata": {},
   "outputs": [
    {
     "name": "stderr",
     "output_type": "stream",
     "text": [
      "C:\\Users\\minio\\anaconda3\\envs\\tfm-py-37\\lib\\site-packages\\ipykernel\\ipkernel.py:287: DeprecationWarning: `should_run_async` will not call `transform_cell` automatically in the future. Please pass the result to `transformed_cell` argument and any exception that happen during thetransform in `preprocessing_exc_tuple` in IPython 7.17 and above.\n",
      "  and should_run_async(code)\n"
     ]
    },
    {
     "name": "stdout",
     "output_type": "stream",
     "text": [
      "time elapsed - 00:00:50.13\n"
     ]
    }
   ],
   "source": [
    "perplexity_score = []\n",
    "coherence_score = []\n",
    "indixes = []\n",
    "\n",
    "index = 0\n",
    "chunk_size = 250\n",
    "documents_sample = documents[index:chunk_size-1]\n",
    "\n",
    "time_start = time.time()\n",
    "\n",
    "data_words = list(sent_to_words(documents_sample))\n",
    "# Compute bigrams & trigrams\n",
    "bi_tri_grams(data_words, 250)\n",
    "# Categorizing and tagging words\n",
    "data_words = list(map(tag_words, data_words))\n",
    "# # Create Dictionary\n",
    "# id2word = Dictionary(data_words)\n",
    "# Create Corpus\n",
    "texts = data_words\n",
    "# Term Document Frequency\n",
    "corpus = [id2word.doc2bow(text) for text in texts]\n",
    "# Build LDA Model\n",
    "lda_model = gensim.models.LdaMulticore(corpus=corpus\n",
    "                                       ,id2word=id2word\n",
    "                                       ,num_topics=num_topics\n",
    "                                       ,random_state=random_state\n",
    "                                       ,chunksize=chunksize\n",
    "                                       ,passes=50\n",
    "                                       ,per_word_topics=True)\n",
    "\n",
    "indixes.append(index)\n",
    "\n",
    "# Evaluate LDA Model\n",
    "# Compute Perplexity Score\n",
    "perplexity = lda_model.log_perplexity(corpus)\n",
    "perplexity_score.append(perplexity)\n",
    "\n",
    "# Evaluate LDA Model\n",
    "# Compute Coherence Score\n",
    "coherence_lda_model = CoherenceModel(model=lda_model, texts=data_words, dictionary=id2word, coherence='c_v')\n",
    "coherence = coherence_lda_model.get_coherence()\n",
    "coherence_score.append(coherence)\n",
    "\n",
    "# Save LDA Model\n",
    "temp_file = datapath(file_model)\n",
    "lda_model.save(temp_file)\n",
    "temp_file = datapath(file_model + '_' + str(index).zfill(5))\n",
    "lda_model.save(temp_file)\n",
    "\n",
    "time_end = time.time()\n",
    "hour, rem = divmod(time_end - time_start, 3600)\n",
    "minute, second = divmod(rem, 60)\n",
    "print('time elapsed - {:0>2}:{:0>2}:{:05.2f}'.format(int(hour), int(minute), second))"
   ]
  },
  {
   "cell_type": "markdown",
   "metadata": {},
   "source": [
    "### Incremental learning"
   ]
  },
  {
   "cell_type": "code",
   "execution_count": 15,
   "metadata": {},
   "outputs": [
    {
     "name": "stdout",
     "output_type": "stream",
     "text": [
      "0  -----  250  -----  499\n"
     ]
    },
    {
     "name": "stderr",
     "output_type": "stream",
     "text": [
      "C:\\Users\\minio\\anaconda3\\envs\\tfm-py-37\\lib\\site-packages\\ipykernel\\ipkernel.py:287: DeprecationWarning: `should_run_async` will not call `transform_cell` automatically in the future. Please pass the result to `transformed_cell` argument and any exception that happen during thetransform in `preprocessing_exc_tuple` in IPython 7.17 and above.\n",
      "  and should_run_async(code)\n"
     ]
    },
    {
     "name": "stdout",
     "output_type": "stream",
     "text": [
      "time elapsed - 00:00:44.87\n",
      "1  -----  500  -----  749\n",
      "time elapsed - 00:00:43.85\n",
      "2  -----  750  -----  999\n",
      "time elapsed - 00:00:41.50\n",
      "3  -----  1000  -----  1249\n",
      "time elapsed - 00:00:40.20\n",
      "4  -----  1250  -----  1499\n",
      "time elapsed - 00:00:41.06\n",
      "5  -----  1500  -----  1749\n",
      "time elapsed - 00:00:39.95\n",
      "6  -----  1750  -----  1999\n",
      "time elapsed - 00:00:40.18\n",
      "7  -----  2000  -----  2249\n"
     ]
    },
    {
     "name": "stderr",
     "output_type": "stream",
     "text": [
      "C:\\Users\\minio\\anaconda3\\envs\\tfm-py-37\\lib\\site-packages\\gensim\\topic_coherence\\direct_confirmation_measure.py:204: RuntimeWarning: divide by zero encountered in double_scalars\n",
      "  m_lr_i = np.log(numerator / denominator)\n",
      "C:\\Users\\minio\\anaconda3\\envs\\tfm-py-37\\lib\\site-packages\\gensim\\topic_coherence\\indirect_confirmation_measure.py:323: RuntimeWarning: invalid value encountered in double_scalars\n",
      "  return cv1.T.dot(cv2)[0, 0] / (_magnitude(cv1) * _magnitude(cv2))\n"
     ]
    },
    {
     "name": "stdout",
     "output_type": "stream",
     "text": [
      "time elapsed - 00:00:40.81\n",
      "8  -----  2250  -----  2499\n"
     ]
    },
    {
     "name": "stderr",
     "output_type": "stream",
     "text": [
      "C:\\Users\\minio\\anaconda3\\envs\\tfm-py-37\\lib\\site-packages\\gensim\\topic_coherence\\direct_confirmation_measure.py:204: RuntimeWarning: divide by zero encountered in double_scalars\n",
      "  m_lr_i = np.log(numerator / denominator)\n",
      "C:\\Users\\minio\\anaconda3\\envs\\tfm-py-37\\lib\\site-packages\\gensim\\topic_coherence\\indirect_confirmation_measure.py:323: RuntimeWarning: invalid value encountered in double_scalars\n",
      "  return cv1.T.dot(cv2)[0, 0] / (_magnitude(cv1) * _magnitude(cv2))\n"
     ]
    },
    {
     "name": "stdout",
     "output_type": "stream",
     "text": [
      "time elapsed - 00:00:38.40\n",
      "9  -----  2500  -----  2749\n"
     ]
    },
    {
     "name": "stderr",
     "output_type": "stream",
     "text": [
      "C:\\Users\\minio\\anaconda3\\envs\\tfm-py-37\\lib\\site-packages\\gensim\\topic_coherence\\direct_confirmation_measure.py:204: RuntimeWarning: divide by zero encountered in double_scalars\n",
      "  m_lr_i = np.log(numerator / denominator)\n",
      "C:\\Users\\minio\\anaconda3\\envs\\tfm-py-37\\lib\\site-packages\\gensim\\topic_coherence\\indirect_confirmation_measure.py:323: RuntimeWarning: invalid value encountered in double_scalars\n",
      "  return cv1.T.dot(cv2)[0, 0] / (_magnitude(cv1) * _magnitude(cv2))\n"
     ]
    },
    {
     "name": "stdout",
     "output_type": "stream",
     "text": [
      "time elapsed - 00:00:38.76\n",
      "10  -----  2750  -----  2999\n"
     ]
    },
    {
     "name": "stderr",
     "output_type": "stream",
     "text": [
      "C:\\Users\\minio\\anaconda3\\envs\\tfm-py-37\\lib\\site-packages\\gensim\\topic_coherence\\direct_confirmation_measure.py:204: RuntimeWarning: divide by zero encountered in double_scalars\n",
      "  m_lr_i = np.log(numerator / denominator)\n",
      "C:\\Users\\minio\\anaconda3\\envs\\tfm-py-37\\lib\\site-packages\\gensim\\topic_coherence\\indirect_confirmation_measure.py:323: RuntimeWarning: invalid value encountered in double_scalars\n",
      "  return cv1.T.dot(cv2)[0, 0] / (_magnitude(cv1) * _magnitude(cv2))\n"
     ]
    },
    {
     "name": "stdout",
     "output_type": "stream",
     "text": [
      "time elapsed - 00:00:42.31\n",
      "11  -----  3000  -----  3249\n"
     ]
    },
    {
     "name": "stderr",
     "output_type": "stream",
     "text": [
      "C:\\Users\\minio\\anaconda3\\envs\\tfm-py-37\\lib\\site-packages\\gensim\\topic_coherence\\direct_confirmation_measure.py:204: RuntimeWarning: divide by zero encountered in double_scalars\n",
      "  m_lr_i = np.log(numerator / denominator)\n",
      "C:\\Users\\minio\\anaconda3\\envs\\tfm-py-37\\lib\\site-packages\\gensim\\topic_coherence\\indirect_confirmation_measure.py:323: RuntimeWarning: invalid value encountered in double_scalars\n",
      "  return cv1.T.dot(cv2)[0, 0] / (_magnitude(cv1) * _magnitude(cv2))\n"
     ]
    },
    {
     "name": "stdout",
     "output_type": "stream",
     "text": [
      "time elapsed - 00:00:41.95\n",
      "12  -----  3250  -----  3499\n"
     ]
    },
    {
     "name": "stderr",
     "output_type": "stream",
     "text": [
      "C:\\Users\\minio\\anaconda3\\envs\\tfm-py-37\\lib\\site-packages\\gensim\\topic_coherence\\direct_confirmation_measure.py:204: RuntimeWarning: divide by zero encountered in double_scalars\n",
      "  m_lr_i = np.log(numerator / denominator)\n",
      "C:\\Users\\minio\\anaconda3\\envs\\tfm-py-37\\lib\\site-packages\\gensim\\topic_coherence\\indirect_confirmation_measure.py:323: RuntimeWarning: invalid value encountered in double_scalars\n",
      "  return cv1.T.dot(cv2)[0, 0] / (_magnitude(cv1) * _magnitude(cv2))\n"
     ]
    },
    {
     "name": "stdout",
     "output_type": "stream",
     "text": [
      "time elapsed - 00:00:41.69\n",
      "13  -----  3500  -----  3749\n"
     ]
    },
    {
     "name": "stderr",
     "output_type": "stream",
     "text": [
      "C:\\Users\\minio\\anaconda3\\envs\\tfm-py-37\\lib\\site-packages\\gensim\\topic_coherence\\direct_confirmation_measure.py:204: RuntimeWarning: divide by zero encountered in double_scalars\n",
      "  m_lr_i = np.log(numerator / denominator)\n",
      "C:\\Users\\minio\\anaconda3\\envs\\tfm-py-37\\lib\\site-packages\\gensim\\topic_coherence\\indirect_confirmation_measure.py:323: RuntimeWarning: invalid value encountered in double_scalars\n",
      "  return cv1.T.dot(cv2)[0, 0] / (_magnitude(cv1) * _magnitude(cv2))\n"
     ]
    },
    {
     "name": "stdout",
     "output_type": "stream",
     "text": [
      "time elapsed - 00:00:44.26\n",
      "14  -----  3750  -----  3999\n",
      "time elapsed - 00:00:45.65\n",
      "15  -----  4000  -----  4249\n"
     ]
    },
    {
     "name": "stderr",
     "output_type": "stream",
     "text": [
      "C:\\Users\\minio\\anaconda3\\envs\\tfm-py-37\\lib\\site-packages\\gensim\\topic_coherence\\direct_confirmation_measure.py:204: RuntimeWarning: divide by zero encountered in double_scalars\n",
      "  m_lr_i = np.log(numerator / denominator)\n",
      "C:\\Users\\minio\\anaconda3\\envs\\tfm-py-37\\lib\\site-packages\\gensim\\topic_coherence\\indirect_confirmation_measure.py:323: RuntimeWarning: invalid value encountered in double_scalars\n",
      "  return cv1.T.dot(cv2)[0, 0] / (_magnitude(cv1) * _magnitude(cv2))\n"
     ]
    },
    {
     "name": "stdout",
     "output_type": "stream",
     "text": [
      "time elapsed - 00:00:42.12\n",
      "16  -----  4250  -----  4499\n",
      "time elapsed - 00:00:41.64\n",
      "17  -----  4500  -----  4749\n",
      "time elapsed - 00:00:39.55\n",
      "18  -----  4750  -----  4999\n",
      "time elapsed - 00:00:43.30\n",
      "19  -----  5000  -----  5249\n",
      "time elapsed - 00:00:38.98\n",
      "20  -----  5250  -----  5499\n"
     ]
    },
    {
     "name": "stderr",
     "output_type": "stream",
     "text": [
      "C:\\Users\\minio\\anaconda3\\envs\\tfm-py-37\\lib\\site-packages\\gensim\\topic_coherence\\direct_confirmation_measure.py:204: RuntimeWarning: divide by zero encountered in double_scalars\n",
      "  m_lr_i = np.log(numerator / denominator)\n",
      "C:\\Users\\minio\\anaconda3\\envs\\tfm-py-37\\lib\\site-packages\\gensim\\topic_coherence\\indirect_confirmation_measure.py:323: RuntimeWarning: invalid value encountered in double_scalars\n",
      "  return cv1.T.dot(cv2)[0, 0] / (_magnitude(cv1) * _magnitude(cv2))\n"
     ]
    },
    {
     "name": "stdout",
     "output_type": "stream",
     "text": [
      "time elapsed - 00:00:40.81\n",
      "21  -----  5500  -----  5749\n"
     ]
    },
    {
     "name": "stderr",
     "output_type": "stream",
     "text": [
      "C:\\Users\\minio\\anaconda3\\envs\\tfm-py-37\\lib\\site-packages\\gensim\\topic_coherence\\direct_confirmation_measure.py:204: RuntimeWarning: divide by zero encountered in double_scalars\n",
      "  m_lr_i = np.log(numerator / denominator)\n",
      "C:\\Users\\minio\\anaconda3\\envs\\tfm-py-37\\lib\\site-packages\\gensim\\topic_coherence\\indirect_confirmation_measure.py:323: RuntimeWarning: invalid value encountered in double_scalars\n",
      "  return cv1.T.dot(cv2)[0, 0] / (_magnitude(cv1) * _magnitude(cv2))\n"
     ]
    },
    {
     "name": "stdout",
     "output_type": "stream",
     "text": [
      "time elapsed - 00:00:41.84\n",
      "22  -----  5750  -----  5999\n",
      "time elapsed - 00:00:41.48\n",
      "23  -----  6000  -----  6249\n",
      "time elapsed - 00:00:46.31\n",
      "24  -----  6250  -----  6499\n"
     ]
    },
    {
     "name": "stderr",
     "output_type": "stream",
     "text": [
      "C:\\Users\\minio\\anaconda3\\envs\\tfm-py-37\\lib\\site-packages\\gensim\\topic_coherence\\direct_confirmation_measure.py:204: RuntimeWarning: divide by zero encountered in double_scalars\n",
      "  m_lr_i = np.log(numerator / denominator)\n",
      "C:\\Users\\minio\\anaconda3\\envs\\tfm-py-37\\lib\\site-packages\\gensim\\topic_coherence\\indirect_confirmation_measure.py:323: RuntimeWarning: invalid value encountered in double_scalars\n",
      "  return cv1.T.dot(cv2)[0, 0] / (_magnitude(cv1) * _magnitude(cv2))\n"
     ]
    },
    {
     "name": "stdout",
     "output_type": "stream",
     "text": [
      "time elapsed - 00:00:41.23\n",
      "25  -----  6500  -----  6749\n"
     ]
    },
    {
     "name": "stderr",
     "output_type": "stream",
     "text": [
      "C:\\Users\\minio\\anaconda3\\envs\\tfm-py-37\\lib\\site-packages\\gensim\\topic_coherence\\direct_confirmation_measure.py:204: RuntimeWarning: divide by zero encountered in double_scalars\n",
      "  m_lr_i = np.log(numerator / denominator)\n",
      "C:\\Users\\minio\\anaconda3\\envs\\tfm-py-37\\lib\\site-packages\\gensim\\topic_coherence\\indirect_confirmation_measure.py:323: RuntimeWarning: invalid value encountered in double_scalars\n",
      "  return cv1.T.dot(cv2)[0, 0] / (_magnitude(cv1) * _magnitude(cv2))\n"
     ]
    },
    {
     "name": "stdout",
     "output_type": "stream",
     "text": [
      "time elapsed - 00:00:40.22\n",
      "26  -----  6750  -----  6999\n"
     ]
    },
    {
     "name": "stderr",
     "output_type": "stream",
     "text": [
      "C:\\Users\\minio\\anaconda3\\envs\\tfm-py-37\\lib\\site-packages\\gensim\\topic_coherence\\direct_confirmation_measure.py:204: RuntimeWarning: divide by zero encountered in double_scalars\n",
      "  m_lr_i = np.log(numerator / denominator)\n",
      "C:\\Users\\minio\\anaconda3\\envs\\tfm-py-37\\lib\\site-packages\\gensim\\topic_coherence\\indirect_confirmation_measure.py:323: RuntimeWarning: invalid value encountered in double_scalars\n",
      "  return cv1.T.dot(cv2)[0, 0] / (_magnitude(cv1) * _magnitude(cv2))\n"
     ]
    },
    {
     "name": "stdout",
     "output_type": "stream",
     "text": [
      "time elapsed - 00:00:42.21\n",
      "27  -----  7000  -----  7249\n",
      "time elapsed - 00:00:39.48\n",
      "28  -----  7250  -----  7499\n",
      "time elapsed - 00:00:38.97\n",
      "29  -----  7500  -----  7749\n",
      "time elapsed - 00:00:41.76\n",
      "30  -----  7750  -----  7999\n"
     ]
    },
    {
     "name": "stderr",
     "output_type": "stream",
     "text": [
      "C:\\Users\\minio\\anaconda3\\envs\\tfm-py-37\\lib\\site-packages\\gensim\\topic_coherence\\direct_confirmation_measure.py:204: RuntimeWarning: divide by zero encountered in double_scalars\n",
      "  m_lr_i = np.log(numerator / denominator)\n",
      "C:\\Users\\minio\\anaconda3\\envs\\tfm-py-37\\lib\\site-packages\\gensim\\topic_coherence\\indirect_confirmation_measure.py:323: RuntimeWarning: invalid value encountered in double_scalars\n",
      "  return cv1.T.dot(cv2)[0, 0] / (_magnitude(cv1) * _magnitude(cv2))\n"
     ]
    },
    {
     "name": "stdout",
     "output_type": "stream",
     "text": [
      "time elapsed - 00:00:43.82\n",
      "31  -----  8000  -----  8249\n"
     ]
    },
    {
     "name": "stderr",
     "output_type": "stream",
     "text": [
      "C:\\Users\\minio\\anaconda3\\envs\\tfm-py-37\\lib\\site-packages\\gensim\\topic_coherence\\direct_confirmation_measure.py:204: RuntimeWarning: divide by zero encountered in double_scalars\n",
      "  m_lr_i = np.log(numerator / denominator)\n",
      "C:\\Users\\minio\\anaconda3\\envs\\tfm-py-37\\lib\\site-packages\\gensim\\topic_coherence\\indirect_confirmation_measure.py:323: RuntimeWarning: invalid value encountered in double_scalars\n",
      "  return cv1.T.dot(cv2)[0, 0] / (_magnitude(cv1) * _magnitude(cv2))\n"
     ]
    },
    {
     "name": "stdout",
     "output_type": "stream",
     "text": [
      "time elapsed - 00:00:41.26\n",
      "32  -----  8250  -----  8499\n",
      "time elapsed - 00:00:42.32\n",
      "33  -----  8500  -----  8749\n",
      "time elapsed - 00:00:41.25\n",
      "34  -----  8750  -----  8999\n"
     ]
    },
    {
     "name": "stderr",
     "output_type": "stream",
     "text": [
      "C:\\Users\\minio\\anaconda3\\envs\\tfm-py-37\\lib\\site-packages\\gensim\\topic_coherence\\direct_confirmation_measure.py:204: RuntimeWarning: divide by zero encountered in double_scalars\n",
      "  m_lr_i = np.log(numerator / denominator)\n",
      "C:\\Users\\minio\\anaconda3\\envs\\tfm-py-37\\lib\\site-packages\\gensim\\topic_coherence\\indirect_confirmation_measure.py:323: RuntimeWarning: invalid value encountered in double_scalars\n",
      "  return cv1.T.dot(cv2)[0, 0] / (_magnitude(cv1) * _magnitude(cv2))\n"
     ]
    },
    {
     "name": "stdout",
     "output_type": "stream",
     "text": [
      "time elapsed - 00:00:43.43\n",
      "35  -----  9000  -----  9249\n",
      "time elapsed - 00:00:42.37\n",
      "36  -----  9250  -----  9499\n"
     ]
    },
    {
     "name": "stderr",
     "output_type": "stream",
     "text": [
      "C:\\Users\\minio\\anaconda3\\envs\\tfm-py-37\\lib\\site-packages\\gensim\\topic_coherence\\direct_confirmation_measure.py:204: RuntimeWarning: divide by zero encountered in double_scalars\n",
      "  m_lr_i = np.log(numerator / denominator)\n",
      "C:\\Users\\minio\\anaconda3\\envs\\tfm-py-37\\lib\\site-packages\\gensim\\topic_coherence\\indirect_confirmation_measure.py:323: RuntimeWarning: invalid value encountered in double_scalars\n",
      "  return cv1.T.dot(cv2)[0, 0] / (_magnitude(cv1) * _magnitude(cv2))\n"
     ]
    },
    {
     "name": "stdout",
     "output_type": "stream",
     "text": [
      "time elapsed - 00:00:42.98\n",
      "37  -----  9500  -----  9749\n",
      "time elapsed - 00:00:43.87\n",
      "38  -----  9750  -----  9999\n",
      "time elapsed - 00:00:42.49\n",
      "39  -----  10000  -----  10249\n"
     ]
    },
    {
     "name": "stderr",
     "output_type": "stream",
     "text": [
      "C:\\Users\\minio\\anaconda3\\envs\\tfm-py-37\\lib\\site-packages\\gensim\\topic_coherence\\direct_confirmation_measure.py:204: RuntimeWarning: divide by zero encountered in double_scalars\n",
      "  m_lr_i = np.log(numerator / denominator)\n",
      "C:\\Users\\minio\\anaconda3\\envs\\tfm-py-37\\lib\\site-packages\\gensim\\topic_coherence\\indirect_confirmation_measure.py:323: RuntimeWarning: invalid value encountered in double_scalars\n",
      "  return cv1.T.dot(cv2)[0, 0] / (_magnitude(cv1) * _magnitude(cv2))\n"
     ]
    },
    {
     "name": "stdout",
     "output_type": "stream",
     "text": [
      "time elapsed - 00:00:41.49\n",
      "40  -----  10250  -----  10499\n",
      "time elapsed - 00:00:42.79\n",
      "41  -----  10500  -----  10749\n"
     ]
    },
    {
     "name": "stderr",
     "output_type": "stream",
     "text": [
      "C:\\Users\\minio\\anaconda3\\envs\\tfm-py-37\\lib\\site-packages\\gensim\\topic_coherence\\direct_confirmation_measure.py:204: RuntimeWarning: divide by zero encountered in double_scalars\n",
      "  m_lr_i = np.log(numerator / denominator)\n",
      "C:\\Users\\minio\\anaconda3\\envs\\tfm-py-37\\lib\\site-packages\\gensim\\topic_coherence\\indirect_confirmation_measure.py:323: RuntimeWarning: invalid value encountered in double_scalars\n",
      "  return cv1.T.dot(cv2)[0, 0] / (_magnitude(cv1) * _magnitude(cv2))\n"
     ]
    },
    {
     "name": "stdout",
     "output_type": "stream",
     "text": [
      "time elapsed - 00:00:42.50\n",
      "42  -----  10750  -----  10999\n"
     ]
    },
    {
     "name": "stderr",
     "output_type": "stream",
     "text": [
      "C:\\Users\\minio\\anaconda3\\envs\\tfm-py-37\\lib\\site-packages\\gensim\\topic_coherence\\direct_confirmation_measure.py:204: RuntimeWarning: divide by zero encountered in double_scalars\n",
      "  m_lr_i = np.log(numerator / denominator)\n",
      "C:\\Users\\minio\\anaconda3\\envs\\tfm-py-37\\lib\\site-packages\\gensim\\topic_coherence\\indirect_confirmation_measure.py:323: RuntimeWarning: invalid value encountered in double_scalars\n",
      "  return cv1.T.dot(cv2)[0, 0] / (_magnitude(cv1) * _magnitude(cv2))\n"
     ]
    },
    {
     "name": "stdout",
     "output_type": "stream",
     "text": [
      "time elapsed - 00:00:41.29\n",
      "43  -----  11000  -----  11249\n",
      "time elapsed - 00:00:41.23\n",
      "44  -----  11250  -----  11499\n"
     ]
    },
    {
     "name": "stderr",
     "output_type": "stream",
     "text": [
      "C:\\Users\\minio\\anaconda3\\envs\\tfm-py-37\\lib\\site-packages\\gensim\\topic_coherence\\direct_confirmation_measure.py:204: RuntimeWarning: divide by zero encountered in double_scalars\n",
      "  m_lr_i = np.log(numerator / denominator)\n",
      "C:\\Users\\minio\\anaconda3\\envs\\tfm-py-37\\lib\\site-packages\\gensim\\topic_coherence\\indirect_confirmation_measure.py:323: RuntimeWarning: invalid value encountered in double_scalars\n",
      "  return cv1.T.dot(cv2)[0, 0] / (_magnitude(cv1) * _magnitude(cv2))\n"
     ]
    },
    {
     "name": "stdout",
     "output_type": "stream",
     "text": [
      "time elapsed - 00:00:44.96\n",
      "45  -----  11500  -----  11749\n",
      "time elapsed - 00:00:39.52\n",
      "46  -----  11750  -----  11999\n"
     ]
    },
    {
     "name": "stderr",
     "output_type": "stream",
     "text": [
      "C:\\Users\\minio\\anaconda3\\envs\\tfm-py-37\\lib\\site-packages\\gensim\\topic_coherence\\direct_confirmation_measure.py:204: RuntimeWarning: divide by zero encountered in double_scalars\n",
      "  m_lr_i = np.log(numerator / denominator)\n",
      "C:\\Users\\minio\\anaconda3\\envs\\tfm-py-37\\lib\\site-packages\\gensim\\topic_coherence\\indirect_confirmation_measure.py:323: RuntimeWarning: invalid value encountered in double_scalars\n",
      "  return cv1.T.dot(cv2)[0, 0] / (_magnitude(cv1) * _magnitude(cv2))\n"
     ]
    },
    {
     "name": "stdout",
     "output_type": "stream",
     "text": [
      "time elapsed - 00:00:42.29\n",
      "47  -----  12000  -----  12249\n",
      "time elapsed - 00:00:42.14\n",
      "48  -----  12250  -----  12499\n",
      "time elapsed - 00:00:40.99\n",
      "49  -----  12500  -----  12749\n",
      "time elapsed - 00:00:41.46\n",
      "50  -----  12750  -----  12999\n",
      "time elapsed - 00:00:42.15\n",
      "51  -----  13000  -----  13249\n",
      "time elapsed - 00:00:39.55\n",
      "52  -----  13250  -----  13499\n",
      "time elapsed - 00:00:38.19\n",
      "53  -----  13500  -----  13749\n",
      "time elapsed - 00:00:39.90\n",
      "54  -----  13750  -----  13999\n"
     ]
    },
    {
     "name": "stderr",
     "output_type": "stream",
     "text": [
      "C:\\Users\\minio\\anaconda3\\envs\\tfm-py-37\\lib\\site-packages\\gensim\\topic_coherence\\direct_confirmation_measure.py:204: RuntimeWarning: divide by zero encountered in double_scalars\n",
      "  m_lr_i = np.log(numerator / denominator)\n",
      "C:\\Users\\minio\\anaconda3\\envs\\tfm-py-37\\lib\\site-packages\\gensim\\topic_coherence\\indirect_confirmation_measure.py:323: RuntimeWarning: invalid value encountered in double_scalars\n",
      "  return cv1.T.dot(cv2)[0, 0] / (_magnitude(cv1) * _magnitude(cv2))\n"
     ]
    },
    {
     "name": "stdout",
     "output_type": "stream",
     "text": [
      "time elapsed - 00:00:38.13\n",
      "55  -----  14000  -----  14249\n"
     ]
    },
    {
     "name": "stderr",
     "output_type": "stream",
     "text": [
      "C:\\Users\\minio\\anaconda3\\envs\\tfm-py-37\\lib\\site-packages\\gensim\\topic_coherence\\direct_confirmation_measure.py:204: RuntimeWarning: divide by zero encountered in double_scalars\n",
      "  m_lr_i = np.log(numerator / denominator)\n",
      "C:\\Users\\minio\\anaconda3\\envs\\tfm-py-37\\lib\\site-packages\\gensim\\topic_coherence\\indirect_confirmation_measure.py:323: RuntimeWarning: invalid value encountered in double_scalars\n",
      "  return cv1.T.dot(cv2)[0, 0] / (_magnitude(cv1) * _magnitude(cv2))\n"
     ]
    },
    {
     "name": "stdout",
     "output_type": "stream",
     "text": [
      "time elapsed - 00:00:39.02\n",
      "56  -----  14250  -----  14499\n",
      "time elapsed - 00:00:39.76\n",
      "57  -----  14500  -----  14749\n"
     ]
    },
    {
     "name": "stderr",
     "output_type": "stream",
     "text": [
      "C:\\Users\\minio\\anaconda3\\envs\\tfm-py-37\\lib\\site-packages\\gensim\\topic_coherence\\direct_confirmation_measure.py:204: RuntimeWarning: divide by zero encountered in double_scalars\n",
      "  m_lr_i = np.log(numerator / denominator)\n",
      "C:\\Users\\minio\\anaconda3\\envs\\tfm-py-37\\lib\\site-packages\\gensim\\topic_coherence\\indirect_confirmation_measure.py:323: RuntimeWarning: invalid value encountered in double_scalars\n",
      "  return cv1.T.dot(cv2)[0, 0] / (_magnitude(cv1) * _magnitude(cv2))\n"
     ]
    },
    {
     "name": "stdout",
     "output_type": "stream",
     "text": [
      "time elapsed - 00:00:41.56\n",
      "58  -----  14750  -----  14999\n"
     ]
    },
    {
     "name": "stderr",
     "output_type": "stream",
     "text": [
      "C:\\Users\\minio\\anaconda3\\envs\\tfm-py-37\\lib\\site-packages\\gensim\\topic_coherence\\direct_confirmation_measure.py:204: RuntimeWarning: divide by zero encountered in double_scalars\n",
      "  m_lr_i = np.log(numerator / denominator)\n",
      "C:\\Users\\minio\\anaconda3\\envs\\tfm-py-37\\lib\\site-packages\\gensim\\topic_coherence\\indirect_confirmation_measure.py:323: RuntimeWarning: invalid value encountered in double_scalars\n",
      "  return cv1.T.dot(cv2)[0, 0] / (_magnitude(cv1) * _magnitude(cv2))\n"
     ]
    },
    {
     "name": "stdout",
     "output_type": "stream",
     "text": [
      "time elapsed - 00:00:41.01\n",
      "59  -----  15000  -----  15249\n"
     ]
    },
    {
     "name": "stderr",
     "output_type": "stream",
     "text": [
      "C:\\Users\\minio\\anaconda3\\envs\\tfm-py-37\\lib\\site-packages\\gensim\\topic_coherence\\direct_confirmation_measure.py:204: RuntimeWarning: divide by zero encountered in double_scalars\n",
      "  m_lr_i = np.log(numerator / denominator)\n",
      "C:\\Users\\minio\\anaconda3\\envs\\tfm-py-37\\lib\\site-packages\\gensim\\topic_coherence\\indirect_confirmation_measure.py:323: RuntimeWarning: invalid value encountered in double_scalars\n",
      "  return cv1.T.dot(cv2)[0, 0] / (_magnitude(cv1) * _magnitude(cv2))\n"
     ]
    },
    {
     "name": "stdout",
     "output_type": "stream",
     "text": [
      "time elapsed - 00:00:42.27\n",
      "60  -----  15250  -----  15499\n",
      "time elapsed - 00:00:44.19\n",
      "61  -----  15500  -----  15749\n"
     ]
    },
    {
     "name": "stderr",
     "output_type": "stream",
     "text": [
      "C:\\Users\\minio\\anaconda3\\envs\\tfm-py-37\\lib\\site-packages\\gensim\\topic_coherence\\direct_confirmation_measure.py:204: RuntimeWarning: divide by zero encountered in double_scalars\n",
      "  m_lr_i = np.log(numerator / denominator)\n",
      "C:\\Users\\minio\\anaconda3\\envs\\tfm-py-37\\lib\\site-packages\\gensim\\topic_coherence\\indirect_confirmation_measure.py:323: RuntimeWarning: invalid value encountered in double_scalars\n",
      "  return cv1.T.dot(cv2)[0, 0] / (_magnitude(cv1) * _magnitude(cv2))\n"
     ]
    },
    {
     "name": "stdout",
     "output_type": "stream",
     "text": [
      "time elapsed - 00:00:42.20\n",
      "62  -----  15750  -----  15999\n",
      "time elapsed - 00:00:45.26\n",
      "63  -----  16000  -----  16249\n"
     ]
    },
    {
     "name": "stderr",
     "output_type": "stream",
     "text": [
      "C:\\Users\\minio\\anaconda3\\envs\\tfm-py-37\\lib\\site-packages\\gensim\\topic_coherence\\direct_confirmation_measure.py:204: RuntimeWarning: divide by zero encountered in double_scalars\n",
      "  m_lr_i = np.log(numerator / denominator)\n",
      "C:\\Users\\minio\\anaconda3\\envs\\tfm-py-37\\lib\\site-packages\\gensim\\topic_coherence\\indirect_confirmation_measure.py:323: RuntimeWarning: invalid value encountered in double_scalars\n",
      "  return cv1.T.dot(cv2)[0, 0] / (_magnitude(cv1) * _magnitude(cv2))\n"
     ]
    },
    {
     "name": "stdout",
     "output_type": "stream",
     "text": [
      "time elapsed - 00:00:39.98\n",
      "64  -----  16250  -----  16499\n",
      "time elapsed - 00:00:40.50\n",
      "65  -----  16500  -----  16749\n",
      "time elapsed - 00:00:43.86\n",
      "66  -----  16750  -----  16999\n",
      "time elapsed - 00:00:42.26\n",
      "67  -----  17000  -----  17249\n"
     ]
    },
    {
     "name": "stderr",
     "output_type": "stream",
     "text": [
      "C:\\Users\\minio\\anaconda3\\envs\\tfm-py-37\\lib\\site-packages\\gensim\\topic_coherence\\direct_confirmation_measure.py:204: RuntimeWarning: divide by zero encountered in double_scalars\n",
      "  m_lr_i = np.log(numerator / denominator)\n",
      "C:\\Users\\minio\\anaconda3\\envs\\tfm-py-37\\lib\\site-packages\\gensim\\topic_coherence\\indirect_confirmation_measure.py:323: RuntimeWarning: invalid value encountered in double_scalars\n",
      "  return cv1.T.dot(cv2)[0, 0] / (_magnitude(cv1) * _magnitude(cv2))\n"
     ]
    },
    {
     "name": "stdout",
     "output_type": "stream",
     "text": [
      "time elapsed - 00:00:44.67\n",
      "68  -----  17250  -----  17499\n",
      "time elapsed - 00:00:42.21\n",
      "69  -----  17500  -----  17749\n",
      "time elapsed - 00:00:40.61\n",
      "70  -----  17750  -----  17999\n",
      "time elapsed - 00:00:39.83\n",
      "71  -----  18000  -----  18249\n"
     ]
    },
    {
     "name": "stderr",
     "output_type": "stream",
     "text": [
      "C:\\Users\\minio\\anaconda3\\envs\\tfm-py-37\\lib\\site-packages\\gensim\\topic_coherence\\direct_confirmation_measure.py:204: RuntimeWarning: divide by zero encountered in double_scalars\n",
      "  m_lr_i = np.log(numerator / denominator)\n",
      "C:\\Users\\minio\\anaconda3\\envs\\tfm-py-37\\lib\\site-packages\\gensim\\topic_coherence\\indirect_confirmation_measure.py:323: RuntimeWarning: invalid value encountered in double_scalars\n",
      "  return cv1.T.dot(cv2)[0, 0] / (_magnitude(cv1) * _magnitude(cv2))\n"
     ]
    },
    {
     "name": "stdout",
     "output_type": "stream",
     "text": [
      "time elapsed - 00:00:39.56\n",
      "72  -----  18250  -----  18499\n"
     ]
    },
    {
     "name": "stderr",
     "output_type": "stream",
     "text": [
      "C:\\Users\\minio\\anaconda3\\envs\\tfm-py-37\\lib\\site-packages\\gensim\\topic_coherence\\direct_confirmation_measure.py:204: RuntimeWarning: divide by zero encountered in double_scalars\n",
      "  m_lr_i = np.log(numerator / denominator)\n",
      "C:\\Users\\minio\\anaconda3\\envs\\tfm-py-37\\lib\\site-packages\\gensim\\topic_coherence\\indirect_confirmation_measure.py:323: RuntimeWarning: invalid value encountered in double_scalars\n",
      "  return cv1.T.dot(cv2)[0, 0] / (_magnitude(cv1) * _magnitude(cv2))\n"
     ]
    },
    {
     "name": "stdout",
     "output_type": "stream",
     "text": [
      "time elapsed - 00:00:40.40\n",
      "73  -----  18500  -----  18749\n",
      "time elapsed - 00:00:43.01\n",
      "74  -----  18750  -----  18999\n"
     ]
    },
    {
     "name": "stderr",
     "output_type": "stream",
     "text": [
      "C:\\Users\\minio\\anaconda3\\envs\\tfm-py-37\\lib\\site-packages\\gensim\\topic_coherence\\direct_confirmation_measure.py:204: RuntimeWarning: divide by zero encountered in double_scalars\n",
      "  m_lr_i = np.log(numerator / denominator)\n",
      "C:\\Users\\minio\\anaconda3\\envs\\tfm-py-37\\lib\\site-packages\\gensim\\topic_coherence\\indirect_confirmation_measure.py:323: RuntimeWarning: invalid value encountered in double_scalars\n",
      "  return cv1.T.dot(cv2)[0, 0] / (_magnitude(cv1) * _magnitude(cv2))\n"
     ]
    },
    {
     "name": "stdout",
     "output_type": "stream",
     "text": [
      "time elapsed - 00:00:43.02\n",
      "75  -----  19000  -----  19249\n",
      "time elapsed - 00:00:40.35\n",
      "76  -----  19250  -----  19499\n"
     ]
    },
    {
     "name": "stderr",
     "output_type": "stream",
     "text": [
      "C:\\Users\\minio\\anaconda3\\envs\\tfm-py-37\\lib\\site-packages\\gensim\\topic_coherence\\direct_confirmation_measure.py:204: RuntimeWarning: divide by zero encountered in double_scalars\n",
      "  m_lr_i = np.log(numerator / denominator)\n",
      "C:\\Users\\minio\\anaconda3\\envs\\tfm-py-37\\lib\\site-packages\\gensim\\topic_coherence\\indirect_confirmation_measure.py:323: RuntimeWarning: invalid value encountered in double_scalars\n",
      "  return cv1.T.dot(cv2)[0, 0] / (_magnitude(cv1) * _magnitude(cv2))\n"
     ]
    },
    {
     "name": "stdout",
     "output_type": "stream",
     "text": [
      "time elapsed - 00:00:40.97\n",
      "77  -----  19500  -----  19749\n",
      "time elapsed - 00:00:40.54\n",
      "78  -----  19750  -----  19999\n",
      "time elapsed - 00:00:41.29\n",
      "79  -----  20000  -----  20249\n",
      "time elapsed - 00:00:41.13\n",
      "80  -----  20250  -----  20499\n",
      "time elapsed - 00:00:42.32\n",
      "81  -----  20500  -----  20749\n",
      "time elapsed - 00:00:40.57\n",
      "82  -----  20750  -----  20999\n",
      "time elapsed - 00:00:43.17\n",
      "83  -----  21000  -----  21249\n",
      "time elapsed - 00:00:42.60\n",
      "84  -----  21250  -----  21499\n",
      "time elapsed - 00:00:40.46\n",
      "85  -----  21500  -----  21749\n",
      "time elapsed - 00:00:41.59\n",
      "86  -----  21750  -----  21999\n",
      "time elapsed - 00:00:41.98\n",
      "87  -----  22000  -----  22249\n",
      "time elapsed - 00:00:40.64\n",
      "88  -----  22250  -----  22499\n",
      "time elapsed - 00:00:41.78\n",
      "89  -----  22500  -----  22749\n",
      "time elapsed - 00:00:40.05\n",
      "90  -----  22750  -----  22999\n",
      "time elapsed - 00:00:44.56\n",
      "91  -----  23000  -----  23249\n",
      "time elapsed - 00:00:40.63\n",
      "92  -----  23250  -----  23499\n",
      "time elapsed - 00:00:41.53\n",
      "93  -----  23500  -----  23749\n",
      "time elapsed - 00:00:39.31\n",
      "94  -----  23750  -----  23999\n",
      "time elapsed - 00:00:39.95\n",
      "95  -----  24000  -----  24249\n",
      "time elapsed - 00:00:40.74\n",
      "96  -----  24250  -----  24499\n",
      "time elapsed - 00:00:40.44\n",
      "97  -----  24500  -----  24749\n",
      "time elapsed - 00:00:39.45\n",
      "98  -----  24750  -----  24999\n",
      "time elapsed - 00:00:40.39\n",
      "99  -----  25000  -----  25249\n",
      "time elapsed - 00:00:41.87\n",
      "100  -----  25250  -----  25499\n",
      "time elapsed - 00:00:41.46\n",
      "101  -----  25500  -----  25749\n",
      "time elapsed - 00:00:41.27\n",
      "102  -----  25750  -----  25999\n",
      "time elapsed - 00:00:40.40\n",
      "103  -----  26000  -----  26249\n",
      "time elapsed - 00:00:41.65\n",
      "104  -----  26250  -----  26499\n",
      "time elapsed - 00:00:41.86\n",
      "105  -----  26500  -----  26749\n",
      "time elapsed - 00:00:39.01\n",
      "106  -----  26750  -----  26999\n",
      "time elapsed - 00:00:39.23\n",
      "107  -----  27000  -----  27249\n",
      "time elapsed - 00:00:39.66\n",
      "108  -----  27250  -----  27499\n",
      "time elapsed - 00:00:40.16\n",
      "109  -----  27500  -----  27749\n",
      "time elapsed - 00:00:40.16\n",
      "110  -----  27750  -----  27999\n",
      "time elapsed - 00:00:40.76\n",
      "111  -----  28000  -----  28249\n",
      "time elapsed - 00:00:41.65\n",
      "112  -----  28250  -----  28499\n",
      "time elapsed - 00:00:39.92\n",
      "113  -----  28500  -----  28749\n",
      "time elapsed - 00:00:38.99\n",
      "114  -----  28750  -----  28999\n",
      "time elapsed - 00:00:39.25\n",
      "115  -----  29000  -----  29249\n",
      "time elapsed - 00:00:38.99\n",
      "116  -----  29250  -----  29499\n",
      "time elapsed - 00:00:38.92\n",
      "117  -----  29500  -----  29749\n",
      "time elapsed - 00:00:39.15\n",
      "118  -----  29750  -----  29999\n",
      "time elapsed - 00:00:40.13\n",
      "119  -----  30000  -----  30249\n",
      "time elapsed - 00:00:40.56\n",
      "120  -----  30250  -----  30499\n",
      "time elapsed - 00:00:40.51\n",
      "121  -----  30500  -----  30749\n",
      "time elapsed - 00:00:39.05\n",
      "122  -----  30750  -----  30999\n",
      "time elapsed - 00:00:39.12\n",
      "123  -----  31000  -----  31249\n",
      "time elapsed - 00:00:39.28\n",
      "124  -----  31250  -----  31499\n",
      "time elapsed - 00:00:38.90\n",
      "125  -----  31500  -----  31749\n",
      "time elapsed - 00:00:38.71\n",
      "126  -----  31750  -----  31999\n",
      "time elapsed - 00:00:38.21\n",
      "127  -----  32000  -----  32249\n",
      "time elapsed - 00:00:39.02\n",
      "128  -----  32250  -----  32499\n",
      "time elapsed - 00:00:38.95\n",
      "129  -----  32500  -----  32749\n",
      "time elapsed - 00:00:38.24\n",
      "130  -----  32750  -----  32999\n",
      "time elapsed - 00:00:38.75\n",
      "131  -----  33000  -----  33249\n",
      "time elapsed - 00:00:38.72\n",
      "132  -----  33250  -----  33499\n",
      "time elapsed - 00:00:38.64\n",
      "133  -----  33500  -----  33749\n",
      "time elapsed - 00:00:39.52\n",
      "134  -----  33750  -----  33999\n",
      "time elapsed - 00:00:39.73\n",
      "135  -----  34000  -----  34249\n",
      "time elapsed - 00:00:40.64\n",
      "136  -----  34250  -----  34499\n",
      "time elapsed - 00:00:44.38\n",
      "137  -----  34500  -----  34749\n",
      "time elapsed - 00:00:40.49\n",
      "138  -----  34750  -----  34999\n",
      "time elapsed - 00:00:40.28\n",
      "139  -----  35000  -----  35249\n",
      "time elapsed - 00:00:44.66\n",
      "140  -----  35250  -----  35499\n",
      "time elapsed - 00:00:42.26\n",
      "141  -----  35500  -----  35749\n",
      "time elapsed - 00:00:42.65\n",
      "142  -----  35750  -----  35999\n",
      "time elapsed - 00:00:45.64\n",
      "143  -----  36000  -----  36249\n"
     ]
    },
    {
     "name": "stderr",
     "output_type": "stream",
     "text": [
      "C:\\Users\\minio\\anaconda3\\envs\\tfm-py-37\\lib\\site-packages\\gensim\\topic_coherence\\direct_confirmation_measure.py:204: RuntimeWarning: divide by zero encountered in double_scalars\n",
      "  m_lr_i = np.log(numerator / denominator)\n",
      "C:\\Users\\minio\\anaconda3\\envs\\tfm-py-37\\lib\\site-packages\\gensim\\topic_coherence\\indirect_confirmation_measure.py:323: RuntimeWarning: invalid value encountered in double_scalars\n",
      "  return cv1.T.dot(cv2)[0, 0] / (_magnitude(cv1) * _magnitude(cv2))\n"
     ]
    },
    {
     "name": "stdout",
     "output_type": "stream",
     "text": [
      "time elapsed - 00:00:43.98\n",
      "144  -----  36250  -----  36499\n"
     ]
    },
    {
     "name": "stderr",
     "output_type": "stream",
     "text": [
      "C:\\Users\\minio\\anaconda3\\envs\\tfm-py-37\\lib\\site-packages\\gensim\\topic_coherence\\direct_confirmation_measure.py:204: RuntimeWarning: divide by zero encountered in double_scalars\n",
      "  m_lr_i = np.log(numerator / denominator)\n",
      "C:\\Users\\minio\\anaconda3\\envs\\tfm-py-37\\lib\\site-packages\\gensim\\topic_coherence\\indirect_confirmation_measure.py:323: RuntimeWarning: invalid value encountered in double_scalars\n",
      "  return cv1.T.dot(cv2)[0, 0] / (_magnitude(cv1) * _magnitude(cv2))\n"
     ]
    },
    {
     "name": "stdout",
     "output_type": "stream",
     "text": [
      "time elapsed - 00:00:40.03\n",
      "145  -----  36500  -----  36749\n",
      "time elapsed - 00:00:39.74\n",
      "146  -----  36750  -----  36999\n",
      "time elapsed - 00:00:42.84\n",
      "147  -----  37000  -----  37249\n",
      "time elapsed - 00:00:38.76\n",
      "148  -----  37250  -----  37499\n",
      "time elapsed - 00:00:39.03\n",
      "149  -----  37500  -----  37749\n"
     ]
    },
    {
     "name": "stderr",
     "output_type": "stream",
     "text": [
      "C:\\Users\\minio\\anaconda3\\envs\\tfm-py-37\\lib\\site-packages\\gensim\\topic_coherence\\direct_confirmation_measure.py:204: RuntimeWarning: divide by zero encountered in double_scalars\n",
      "  m_lr_i = np.log(numerator / denominator)\n",
      "C:\\Users\\minio\\anaconda3\\envs\\tfm-py-37\\lib\\site-packages\\gensim\\topic_coherence\\indirect_confirmation_measure.py:323: RuntimeWarning: invalid value encountered in double_scalars\n",
      "  return cv1.T.dot(cv2)[0, 0] / (_magnitude(cv1) * _magnitude(cv2))\n"
     ]
    },
    {
     "name": "stdout",
     "output_type": "stream",
     "text": [
      "time elapsed - 00:00:38.52\n",
      "150  -----  37750  -----  37999\n",
      "time elapsed - 00:00:43.40\n",
      "151  -----  38000  -----  38249\n",
      "time elapsed - 00:00:43.42\n",
      "152  -----  38250  -----  38499\n",
      "time elapsed - 00:00:44.56\n",
      "153  -----  38500  -----  38749\n",
      "time elapsed - 00:00:45.19\n",
      "154  -----  38750  -----  38999\n",
      "time elapsed - 00:00:40.72\n",
      "155  -----  39000  -----  39249\n",
      "time elapsed - 00:00:40.60\n",
      "156  -----  39250  -----  39499\n",
      "time elapsed - 00:00:39.79\n",
      "157  -----  39500  -----  39749\n",
      "time elapsed - 00:00:41.45\n",
      "158  -----  39750  -----  39999\n",
      "time elapsed - 00:00:42.01\n",
      "159  -----  40000  -----  40249\n",
      "time elapsed - 00:00:42.09\n",
      "160  -----  40250  -----  40499\n",
      "time elapsed - 00:00:41.87\n",
      "161  -----  40500  -----  40749\n",
      "time elapsed - 00:00:42.72\n",
      "162  -----  40750  -----  40999\n",
      "time elapsed - 00:00:43.83\n",
      "163  -----  41000  -----  41249\n"
     ]
    },
    {
     "name": "stderr",
     "output_type": "stream",
     "text": [
      "C:\\Users\\minio\\anaconda3\\envs\\tfm-py-37\\lib\\site-packages\\gensim\\topic_coherence\\direct_confirmation_measure.py:204: RuntimeWarning: divide by zero encountered in double_scalars\n",
      "  m_lr_i = np.log(numerator / denominator)\n",
      "C:\\Users\\minio\\anaconda3\\envs\\tfm-py-37\\lib\\site-packages\\gensim\\topic_coherence\\indirect_confirmation_measure.py:323: RuntimeWarning: invalid value encountered in double_scalars\n",
      "  return cv1.T.dot(cv2)[0, 0] / (_magnitude(cv1) * _magnitude(cv2))\n"
     ]
    },
    {
     "name": "stdout",
     "output_type": "stream",
     "text": [
      "time elapsed - 00:00:42.90\n",
      "164  -----  41250  -----  41499\n",
      "time elapsed - 00:00:44.78\n",
      "165  -----  41500  -----  41749\n",
      "time elapsed - 00:00:44.32\n",
      "166  -----  41750  -----  41999\n",
      "time elapsed - 00:00:46.92\n",
      "167  -----  42000  -----  42249\n",
      "time elapsed - 00:00:46.53\n",
      "168  -----  42250  -----  42499\n"
     ]
    },
    {
     "name": "stderr",
     "output_type": "stream",
     "text": [
      "C:\\Users\\minio\\anaconda3\\envs\\tfm-py-37\\lib\\site-packages\\gensim\\topic_coherence\\direct_confirmation_measure.py:204: RuntimeWarning: divide by zero encountered in double_scalars\n",
      "  m_lr_i = np.log(numerator / denominator)\n",
      "C:\\Users\\minio\\anaconda3\\envs\\tfm-py-37\\lib\\site-packages\\gensim\\topic_coherence\\indirect_confirmation_measure.py:323: RuntimeWarning: invalid value encountered in double_scalars\n",
      "  return cv1.T.dot(cv2)[0, 0] / (_magnitude(cv1) * _magnitude(cv2))\n"
     ]
    },
    {
     "name": "stdout",
     "output_type": "stream",
     "text": [
      "time elapsed - 00:00:45.81\n",
      "169  -----  42500  -----  42749\n",
      "time elapsed - 00:00:42.88\n",
      "170  -----  42750  -----  42999\n"
     ]
    },
    {
     "name": "stderr",
     "output_type": "stream",
     "text": [
      "C:\\Users\\minio\\anaconda3\\envs\\tfm-py-37\\lib\\site-packages\\gensim\\topic_coherence\\direct_confirmation_measure.py:204: RuntimeWarning: divide by zero encountered in double_scalars\n",
      "  m_lr_i = np.log(numerator / denominator)\n",
      "C:\\Users\\minio\\anaconda3\\envs\\tfm-py-37\\lib\\site-packages\\gensim\\topic_coherence\\indirect_confirmation_measure.py:323: RuntimeWarning: invalid value encountered in double_scalars\n",
      "  return cv1.T.dot(cv2)[0, 0] / (_magnitude(cv1) * _magnitude(cv2))\n"
     ]
    },
    {
     "name": "stdout",
     "output_type": "stream",
     "text": [
      "time elapsed - 00:00:41.64\n",
      "171  -----  43000  -----  43249\n",
      "time elapsed - 00:00:42.54\n",
      "172  -----  43250  -----  43499\n",
      "time elapsed - 00:00:43.28\n",
      "173  -----  43500  -----  43749\n",
      "time elapsed - 00:00:42.44\n",
      "174  -----  43750  -----  43999\n",
      "time elapsed - 00:00:44.53\n",
      "175  -----  44000  -----  44249\n"
     ]
    },
    {
     "name": "stderr",
     "output_type": "stream",
     "text": [
      "C:\\Users\\minio\\anaconda3\\envs\\tfm-py-37\\lib\\site-packages\\gensim\\topic_coherence\\direct_confirmation_measure.py:204: RuntimeWarning: divide by zero encountered in double_scalars\n",
      "  m_lr_i = np.log(numerator / denominator)\n",
      "C:\\Users\\minio\\anaconda3\\envs\\tfm-py-37\\lib\\site-packages\\gensim\\topic_coherence\\indirect_confirmation_measure.py:323: RuntimeWarning: invalid value encountered in double_scalars\n",
      "  return cv1.T.dot(cv2)[0, 0] / (_magnitude(cv1) * _magnitude(cv2))\n"
     ]
    },
    {
     "name": "stdout",
     "output_type": "stream",
     "text": [
      "time elapsed - 00:00:41.80\n",
      "176  -----  44250  -----  44499\n",
      "time elapsed - 00:00:41.94\n",
      "177  -----  44500  -----  44749\n",
      "time elapsed - 00:00:44.25\n",
      "178  -----  44750  -----  44999\n",
      "time elapsed - 00:00:43.05\n",
      "179  -----  45000  -----  45249\n",
      "time elapsed - 00:00:43.34\n",
      "180  -----  45250  -----  45499\n",
      "time elapsed - 00:00:45.27\n",
      "181  -----  45500  -----  45749\n",
      "time elapsed - 00:00:45.42\n",
      "182  -----  45750  -----  45999\n",
      "time elapsed - 00:00:46.23\n",
      "183  -----  46000  -----  46249\n"
     ]
    },
    {
     "name": "stderr",
     "output_type": "stream",
     "text": [
      "C:\\Users\\minio\\anaconda3\\envs\\tfm-py-37\\lib\\site-packages\\gensim\\topic_coherence\\direct_confirmation_measure.py:204: RuntimeWarning: divide by zero encountered in double_scalars\n",
      "  m_lr_i = np.log(numerator / denominator)\n",
      "C:\\Users\\minio\\anaconda3\\envs\\tfm-py-37\\lib\\site-packages\\gensim\\topic_coherence\\indirect_confirmation_measure.py:323: RuntimeWarning: invalid value encountered in double_scalars\n",
      "  return cv1.T.dot(cv2)[0, 0] / (_magnitude(cv1) * _magnitude(cv2))\n"
     ]
    },
    {
     "name": "stdout",
     "output_type": "stream",
     "text": [
      "time elapsed - 00:00:44.20\n",
      "184  -----  46250  -----  46499\n",
      "time elapsed - 00:00:45.83\n",
      "185  -----  46500  -----  46749\n",
      "time elapsed - 00:00:46.82\n",
      "186  -----  46750  -----  46999\n",
      "time elapsed - 00:00:43.14\n",
      "187  -----  47000  -----  47249\n",
      "time elapsed - 00:00:44.72\n",
      "188  -----  47250  -----  47499\n"
     ]
    },
    {
     "name": "stderr",
     "output_type": "stream",
     "text": [
      "C:\\Users\\minio\\anaconda3\\envs\\tfm-py-37\\lib\\site-packages\\gensim\\topic_coherence\\direct_confirmation_measure.py:204: RuntimeWarning: divide by zero encountered in double_scalars\n",
      "  m_lr_i = np.log(numerator / denominator)\n",
      "C:\\Users\\minio\\anaconda3\\envs\\tfm-py-37\\lib\\site-packages\\gensim\\topic_coherence\\indirect_confirmation_measure.py:323: RuntimeWarning: invalid value encountered in double_scalars\n",
      "  return cv1.T.dot(cv2)[0, 0] / (_magnitude(cv1) * _magnitude(cv2))\n"
     ]
    },
    {
     "name": "stdout",
     "output_type": "stream",
     "text": [
      "time elapsed - 00:00:48.49\n",
      "189  -----  47500  -----  47749\n",
      "time elapsed - 00:00:45.87\n",
      "190  -----  47750  -----  47999\n",
      "time elapsed - 00:00:47.07\n",
      "191  -----  48000  -----  48249\n",
      "time elapsed - 00:00:45.86\n",
      "192  -----  48250  -----  48499\n"
     ]
    },
    {
     "name": "stderr",
     "output_type": "stream",
     "text": [
      "C:\\Users\\minio\\anaconda3\\envs\\tfm-py-37\\lib\\site-packages\\gensim\\topic_coherence\\direct_confirmation_measure.py:204: RuntimeWarning: divide by zero encountered in double_scalars\n",
      "  m_lr_i = np.log(numerator / denominator)\n",
      "C:\\Users\\minio\\anaconda3\\envs\\tfm-py-37\\lib\\site-packages\\gensim\\topic_coherence\\indirect_confirmation_measure.py:323: RuntimeWarning: invalid value encountered in double_scalars\n",
      "  return cv1.T.dot(cv2)[0, 0] / (_magnitude(cv1) * _magnitude(cv2))\n"
     ]
    },
    {
     "name": "stdout",
     "output_type": "stream",
     "text": [
      "time elapsed - 00:00:43.16\n",
      "193  -----  48500  -----  48749\n"
     ]
    },
    {
     "name": "stderr",
     "output_type": "stream",
     "text": [
      "C:\\Users\\minio\\anaconda3\\envs\\tfm-py-37\\lib\\site-packages\\gensim\\topic_coherence\\direct_confirmation_measure.py:204: RuntimeWarning: divide by zero encountered in double_scalars\n",
      "  m_lr_i = np.log(numerator / denominator)\n",
      "C:\\Users\\minio\\anaconda3\\envs\\tfm-py-37\\lib\\site-packages\\gensim\\topic_coherence\\indirect_confirmation_measure.py:323: RuntimeWarning: invalid value encountered in double_scalars\n",
      "  return cv1.T.dot(cv2)[0, 0] / (_magnitude(cv1) * _magnitude(cv2))\n"
     ]
    },
    {
     "name": "stdout",
     "output_type": "stream",
     "text": [
      "time elapsed - 00:00:44.57\n",
      "194  -----  48750  -----  48999\n",
      "time elapsed - 00:00:46.05\n",
      "195  -----  49000  -----  49249\n",
      "time elapsed - 00:00:45.20\n",
      "196  -----  49250  -----  49499\n",
      "time elapsed - 00:00:43.32\n",
      "197  -----  49500  -----  49749\n",
      "time elapsed - 00:00:43.91\n",
      "198  -----  49750  -----  49999\n",
      "time elapsed - 00:00:43.54\n",
      "199  -----  50000  -----  50249\n",
      "time elapsed - 00:00:43.80\n",
      "200  -----  50250  -----  50499\n",
      "time elapsed - 00:00:45.32\n",
      "201  -----  50500  -----  50749\n",
      "time elapsed - 00:00:41.90\n",
      "202  -----  50750  -----  50999\n"
     ]
    },
    {
     "name": "stderr",
     "output_type": "stream",
     "text": [
      "C:\\Users\\minio\\anaconda3\\envs\\tfm-py-37\\lib\\site-packages\\gensim\\topic_coherence\\direct_confirmation_measure.py:204: RuntimeWarning: divide by zero encountered in double_scalars\n",
      "  m_lr_i = np.log(numerator / denominator)\n",
      "C:\\Users\\minio\\anaconda3\\envs\\tfm-py-37\\lib\\site-packages\\gensim\\topic_coherence\\indirect_confirmation_measure.py:323: RuntimeWarning: invalid value encountered in double_scalars\n",
      "  return cv1.T.dot(cv2)[0, 0] / (_magnitude(cv1) * _magnitude(cv2))\n"
     ]
    },
    {
     "name": "stdout",
     "output_type": "stream",
     "text": [
      "time elapsed - 00:00:44.14\n",
      "203  -----  51000  -----  51249\n",
      "time elapsed - 00:00:46.17\n",
      "204  -----  51250  -----  51499\n"
     ]
    },
    {
     "name": "stderr",
     "output_type": "stream",
     "text": [
      "C:\\Users\\minio\\anaconda3\\envs\\tfm-py-37\\lib\\site-packages\\gensim\\topic_coherence\\direct_confirmation_measure.py:204: RuntimeWarning: divide by zero encountered in double_scalars\n",
      "  m_lr_i = np.log(numerator / denominator)\n",
      "C:\\Users\\minio\\anaconda3\\envs\\tfm-py-37\\lib\\site-packages\\gensim\\topic_coherence\\indirect_confirmation_measure.py:323: RuntimeWarning: invalid value encountered in double_scalars\n",
      "  return cv1.T.dot(cv2)[0, 0] / (_magnitude(cv1) * _magnitude(cv2))\n"
     ]
    },
    {
     "name": "stdout",
     "output_type": "stream",
     "text": [
      "time elapsed - 00:00:46.65\n",
      "205  -----  51500  -----  51749\n"
     ]
    },
    {
     "name": "stderr",
     "output_type": "stream",
     "text": [
      "C:\\Users\\minio\\anaconda3\\envs\\tfm-py-37\\lib\\site-packages\\gensim\\topic_coherence\\direct_confirmation_measure.py:204: RuntimeWarning: divide by zero encountered in double_scalars\n",
      "  m_lr_i = np.log(numerator / denominator)\n",
      "C:\\Users\\minio\\anaconda3\\envs\\tfm-py-37\\lib\\site-packages\\gensim\\topic_coherence\\indirect_confirmation_measure.py:323: RuntimeWarning: invalid value encountered in double_scalars\n",
      "  return cv1.T.dot(cv2)[0, 0] / (_magnitude(cv1) * _magnitude(cv2))\n"
     ]
    },
    {
     "name": "stdout",
     "output_type": "stream",
     "text": [
      "time elapsed - 00:00:44.21\n",
      "206  -----  51750  -----  51999\n"
     ]
    },
    {
     "name": "stderr",
     "output_type": "stream",
     "text": [
      "C:\\Users\\minio\\anaconda3\\envs\\tfm-py-37\\lib\\site-packages\\gensim\\topic_coherence\\direct_confirmation_measure.py:204: RuntimeWarning: divide by zero encountered in double_scalars\n",
      "  m_lr_i = np.log(numerator / denominator)\n",
      "C:\\Users\\minio\\anaconda3\\envs\\tfm-py-37\\lib\\site-packages\\gensim\\topic_coherence\\indirect_confirmation_measure.py:323: RuntimeWarning: invalid value encountered in double_scalars\n",
      "  return cv1.T.dot(cv2)[0, 0] / (_magnitude(cv1) * _magnitude(cv2))\n"
     ]
    },
    {
     "name": "stdout",
     "output_type": "stream",
     "text": [
      "time elapsed - 00:00:41.84\n",
      "207  -----  52000  -----  52249\n",
      "time elapsed - 00:00:42.80\n",
      "208  -----  52250  -----  52499\n"
     ]
    },
    {
     "name": "stderr",
     "output_type": "stream",
     "text": [
      "C:\\Users\\minio\\anaconda3\\envs\\tfm-py-37\\lib\\site-packages\\gensim\\topic_coherence\\direct_confirmation_measure.py:204: RuntimeWarning: divide by zero encountered in double_scalars\n",
      "  m_lr_i = np.log(numerator / denominator)\n",
      "C:\\Users\\minio\\anaconda3\\envs\\tfm-py-37\\lib\\site-packages\\gensim\\topic_coherence\\indirect_confirmation_measure.py:323: RuntimeWarning: invalid value encountered in double_scalars\n",
      "  return cv1.T.dot(cv2)[0, 0] / (_magnitude(cv1) * _magnitude(cv2))\n"
     ]
    },
    {
     "name": "stdout",
     "output_type": "stream",
     "text": [
      "time elapsed - 00:00:40.62\n",
      "209  -----  52500  -----  52749\n",
      "time elapsed - 00:00:43.02\n",
      "210  -----  52750  -----  52999\n",
      "time elapsed - 00:00:46.14\n",
      "211  -----  53000  -----  53249\n",
      "time elapsed - 00:00:41.36\n",
      "212  -----  53250  -----  53499\n",
      "time elapsed - 00:00:43.31\n",
      "213  -----  53500  -----  53749\n",
      "time elapsed - 00:00:42.33\n",
      "214  -----  53750  -----  53999\n"
     ]
    },
    {
     "name": "stderr",
     "output_type": "stream",
     "text": [
      "C:\\Users\\minio\\anaconda3\\envs\\tfm-py-37\\lib\\site-packages\\gensim\\topic_coherence\\direct_confirmation_measure.py:204: RuntimeWarning: divide by zero encountered in double_scalars\n",
      "  m_lr_i = np.log(numerator / denominator)\n",
      "C:\\Users\\minio\\anaconda3\\envs\\tfm-py-37\\lib\\site-packages\\gensim\\topic_coherence\\indirect_confirmation_measure.py:323: RuntimeWarning: invalid value encountered in double_scalars\n",
      "  return cv1.T.dot(cv2)[0, 0] / (_magnitude(cv1) * _magnitude(cv2))\n"
     ]
    },
    {
     "name": "stdout",
     "output_type": "stream",
     "text": [
      "time elapsed - 00:00:43.10\n",
      "215  -----  54000  -----  54249\n",
      "time elapsed - 00:00:41.13\n",
      "216  -----  54250  -----  54499\n",
      "time elapsed - 00:00:41.56\n",
      "217  -----  54500  -----  54749\n",
      "time elapsed - 00:00:44.95\n",
      "218  -----  54750  -----  54999\n"
     ]
    },
    {
     "name": "stderr",
     "output_type": "stream",
     "text": [
      "C:\\Users\\minio\\anaconda3\\envs\\tfm-py-37\\lib\\site-packages\\gensim\\topic_coherence\\direct_confirmation_measure.py:204: RuntimeWarning: divide by zero encountered in double_scalars\n",
      "  m_lr_i = np.log(numerator / denominator)\n",
      "C:\\Users\\minio\\anaconda3\\envs\\tfm-py-37\\lib\\site-packages\\gensim\\topic_coherence\\indirect_confirmation_measure.py:323: RuntimeWarning: invalid value encountered in double_scalars\n",
      "  return cv1.T.dot(cv2)[0, 0] / (_magnitude(cv1) * _magnitude(cv2))\n"
     ]
    },
    {
     "name": "stdout",
     "output_type": "stream",
     "text": [
      "time elapsed - 00:00:42.76\n",
      "219  -----  55000  -----  55249\n",
      "time elapsed - 00:00:42.72\n",
      "220  -----  55250  -----  55499\n",
      "time elapsed - 00:00:43.07\n",
      "221  -----  55500  -----  55749\n",
      "time elapsed - 00:00:40.99\n",
      "222  -----  55750  -----  55999\n",
      "time elapsed - 00:00:41.64\n",
      "223  -----  56000  -----  56249\n"
     ]
    },
    {
     "name": "stderr",
     "output_type": "stream",
     "text": [
      "C:\\Users\\minio\\anaconda3\\envs\\tfm-py-37\\lib\\site-packages\\gensim\\topic_coherence\\direct_confirmation_measure.py:204: RuntimeWarning: divide by zero encountered in double_scalars\n",
      "  m_lr_i = np.log(numerator / denominator)\n",
      "C:\\Users\\minio\\anaconda3\\envs\\tfm-py-37\\lib\\site-packages\\gensim\\topic_coherence\\indirect_confirmation_measure.py:323: RuntimeWarning: invalid value encountered in double_scalars\n",
      "  return cv1.T.dot(cv2)[0, 0] / (_magnitude(cv1) * _magnitude(cv2))\n"
     ]
    },
    {
     "name": "stdout",
     "output_type": "stream",
     "text": [
      "time elapsed - 00:00:42.20\n",
      "224  -----  56250  -----  56499\n",
      "time elapsed - 00:00:40.32\n",
      "225  -----  56500  -----  56749\n",
      "time elapsed - 00:00:40.94\n",
      "226  -----  56750  -----  56999\n",
      "time elapsed - 00:00:41.46\n",
      "227  -----  57000  -----  57249\n"
     ]
    },
    {
     "name": "stderr",
     "output_type": "stream",
     "text": [
      "C:\\Users\\minio\\anaconda3\\envs\\tfm-py-37\\lib\\site-packages\\gensim\\topic_coherence\\direct_confirmation_measure.py:204: RuntimeWarning: divide by zero encountered in double_scalars\n",
      "  m_lr_i = np.log(numerator / denominator)\n",
      "C:\\Users\\minio\\anaconda3\\envs\\tfm-py-37\\lib\\site-packages\\gensim\\topic_coherence\\indirect_confirmation_measure.py:323: RuntimeWarning: invalid value encountered in double_scalars\n",
      "  return cv1.T.dot(cv2)[0, 0] / (_magnitude(cv1) * _magnitude(cv2))\n"
     ]
    },
    {
     "name": "stdout",
     "output_type": "stream",
     "text": [
      "time elapsed - 00:00:41.52\n",
      "228  -----  57250  -----  57499\n"
     ]
    },
    {
     "name": "stderr",
     "output_type": "stream",
     "text": [
      "C:\\Users\\minio\\anaconda3\\envs\\tfm-py-37\\lib\\site-packages\\gensim\\topic_coherence\\direct_confirmation_measure.py:204: RuntimeWarning: divide by zero encountered in double_scalars\n",
      "  m_lr_i = np.log(numerator / denominator)\n",
      "C:\\Users\\minio\\anaconda3\\envs\\tfm-py-37\\lib\\site-packages\\gensim\\topic_coherence\\indirect_confirmation_measure.py:323: RuntimeWarning: invalid value encountered in double_scalars\n",
      "  return cv1.T.dot(cv2)[0, 0] / (_magnitude(cv1) * _magnitude(cv2))\n"
     ]
    },
    {
     "name": "stdout",
     "output_type": "stream",
     "text": [
      "time elapsed - 00:00:40.68\n",
      "229  -----  57500  -----  57749\n",
      "time elapsed - 00:00:42.49\n",
      "230  -----  57750  -----  57999\n"
     ]
    },
    {
     "name": "stderr",
     "output_type": "stream",
     "text": [
      "C:\\Users\\minio\\anaconda3\\envs\\tfm-py-37\\lib\\site-packages\\gensim\\topic_coherence\\direct_confirmation_measure.py:204: RuntimeWarning: divide by zero encountered in double_scalars\n",
      "  m_lr_i = np.log(numerator / denominator)\n",
      "C:\\Users\\minio\\anaconda3\\envs\\tfm-py-37\\lib\\site-packages\\gensim\\topic_coherence\\indirect_confirmation_measure.py:323: RuntimeWarning: invalid value encountered in double_scalars\n",
      "  return cv1.T.dot(cv2)[0, 0] / (_magnitude(cv1) * _magnitude(cv2))\n"
     ]
    },
    {
     "name": "stdout",
     "output_type": "stream",
     "text": [
      "time elapsed - 00:00:40.90\n",
      "231  -----  58000  -----  58249\n",
      "time elapsed - 00:00:39.57\n",
      "232  -----  58250  -----  58499\n",
      "time elapsed - 00:00:39.15\n",
      "233  -----  58500  -----  58749\n",
      "time elapsed - 00:00:41.04\n",
      "234  -----  58750  -----  58999\n"
     ]
    },
    {
     "name": "stderr",
     "output_type": "stream",
     "text": [
      "C:\\Users\\minio\\anaconda3\\envs\\tfm-py-37\\lib\\site-packages\\gensim\\topic_coherence\\direct_confirmation_measure.py:204: RuntimeWarning: divide by zero encountered in double_scalars\n",
      "  m_lr_i = np.log(numerator / denominator)\n",
      "C:\\Users\\minio\\anaconda3\\envs\\tfm-py-37\\lib\\site-packages\\gensim\\topic_coherence\\indirect_confirmation_measure.py:323: RuntimeWarning: invalid value encountered in double_scalars\n",
      "  return cv1.T.dot(cv2)[0, 0] / (_magnitude(cv1) * _magnitude(cv2))\n"
     ]
    },
    {
     "name": "stdout",
     "output_type": "stream",
     "text": [
      "time elapsed - 00:00:43.01\n",
      "235  -----  59000  -----  59249\n",
      "time elapsed - 00:00:43.47\n",
      "236  -----  59250  -----  59499\n"
     ]
    },
    {
     "name": "stderr",
     "output_type": "stream",
     "text": [
      "C:\\Users\\minio\\anaconda3\\envs\\tfm-py-37\\lib\\site-packages\\gensim\\topic_coherence\\direct_confirmation_measure.py:204: RuntimeWarning: divide by zero encountered in double_scalars\n",
      "  m_lr_i = np.log(numerator / denominator)\n",
      "C:\\Users\\minio\\anaconda3\\envs\\tfm-py-37\\lib\\site-packages\\gensim\\topic_coherence\\indirect_confirmation_measure.py:323: RuntimeWarning: invalid value encountered in double_scalars\n",
      "  return cv1.T.dot(cv2)[0, 0] / (_magnitude(cv1) * _magnitude(cv2))\n"
     ]
    },
    {
     "name": "stdout",
     "output_type": "stream",
     "text": [
      "time elapsed - 00:00:41.23\n",
      "237  -----  59500  -----  59749\n",
      "time elapsed - 00:00:42.38\n",
      "238  -----  59750  -----  59999\n"
     ]
    },
    {
     "name": "stderr",
     "output_type": "stream",
     "text": [
      "C:\\Users\\minio\\anaconda3\\envs\\tfm-py-37\\lib\\site-packages\\gensim\\topic_coherence\\direct_confirmation_measure.py:204: RuntimeWarning: divide by zero encountered in double_scalars\n",
      "  m_lr_i = np.log(numerator / denominator)\n",
      "C:\\Users\\minio\\anaconda3\\envs\\tfm-py-37\\lib\\site-packages\\gensim\\topic_coherence\\indirect_confirmation_measure.py:323: RuntimeWarning: invalid value encountered in double_scalars\n",
      "  return cv1.T.dot(cv2)[0, 0] / (_magnitude(cv1) * _magnitude(cv2))\n"
     ]
    },
    {
     "name": "stdout",
     "output_type": "stream",
     "text": [
      "time elapsed - 00:00:42.93\n",
      "239  -----  60000  -----  60249\n",
      "time elapsed - 00:00:42.17\n",
      "240  -----  60250  -----  60499\n",
      "time elapsed - 00:00:43.11\n",
      "241  -----  60500  -----  60749\n",
      "time elapsed - 00:00:41.92\n",
      "242  -----  60750  -----  60999\n"
     ]
    },
    {
     "name": "stderr",
     "output_type": "stream",
     "text": [
      "C:\\Users\\minio\\anaconda3\\envs\\tfm-py-37\\lib\\site-packages\\gensim\\topic_coherence\\direct_confirmation_measure.py:204: RuntimeWarning: divide by zero encountered in double_scalars\n",
      "  m_lr_i = np.log(numerator / denominator)\n",
      "C:\\Users\\minio\\anaconda3\\envs\\tfm-py-37\\lib\\site-packages\\gensim\\topic_coherence\\indirect_confirmation_measure.py:323: RuntimeWarning: invalid value encountered in double_scalars\n",
      "  return cv1.T.dot(cv2)[0, 0] / (_magnitude(cv1) * _magnitude(cv2))\n"
     ]
    },
    {
     "name": "stdout",
     "output_type": "stream",
     "text": [
      "time elapsed - 00:00:38.52\n",
      "243  -----  61000  -----  61249\n",
      "time elapsed - 00:00:41.27\n",
      "244  -----  61250  -----  61499\n",
      "time elapsed - 00:00:41.13\n",
      "245  -----  61500  -----  61749\n",
      "time elapsed - 00:00:42.06\n",
      "246  -----  61750  -----  61999\n",
      "time elapsed - 00:00:41.60\n",
      "247  -----  62000  -----  62249\n",
      "time elapsed - 00:00:43.14\n",
      "248  -----  62250  -----  62499\n",
      "time elapsed - 00:00:41.18\n",
      "249  -----  62500  -----  62749\n",
      "time elapsed - 00:00:41.54\n",
      "250  -----  62750  -----  62999\n",
      "time elapsed - 00:00:43.97\n",
      "251  -----  63000  -----  63249\n",
      "time elapsed - 00:00:46.08\n",
      "252  -----  63250  -----  63499\n"
     ]
    },
    {
     "name": "stderr",
     "output_type": "stream",
     "text": [
      "C:\\Users\\minio\\anaconda3\\envs\\tfm-py-37\\lib\\site-packages\\gensim\\topic_coherence\\direct_confirmation_measure.py:204: RuntimeWarning: divide by zero encountered in double_scalars\n",
      "  m_lr_i = np.log(numerator / denominator)\n",
      "C:\\Users\\minio\\anaconda3\\envs\\tfm-py-37\\lib\\site-packages\\gensim\\topic_coherence\\indirect_confirmation_measure.py:323: RuntimeWarning: invalid value encountered in double_scalars\n",
      "  return cv1.T.dot(cv2)[0, 0] / (_magnitude(cv1) * _magnitude(cv2))\n"
     ]
    },
    {
     "name": "stdout",
     "output_type": "stream",
     "text": [
      "time elapsed - 00:00:40.23\n",
      "253  -----  63500  -----  63749\n"
     ]
    },
    {
     "name": "stderr",
     "output_type": "stream",
     "text": [
      "C:\\Users\\minio\\anaconda3\\envs\\tfm-py-37\\lib\\site-packages\\gensim\\topic_coherence\\direct_confirmation_measure.py:204: RuntimeWarning: divide by zero encountered in double_scalars\n",
      "  m_lr_i = np.log(numerator / denominator)\n",
      "C:\\Users\\minio\\anaconda3\\envs\\tfm-py-37\\lib\\site-packages\\gensim\\topic_coherence\\indirect_confirmation_measure.py:323: RuntimeWarning: invalid value encountered in double_scalars\n",
      "  return cv1.T.dot(cv2)[0, 0] / (_magnitude(cv1) * _magnitude(cv2))\n"
     ]
    },
    {
     "name": "stdout",
     "output_type": "stream",
     "text": [
      "time elapsed - 00:00:38.93\n",
      "254  -----  63750  -----  63999\n",
      "time elapsed - 00:00:40.88\n",
      "255  -----  64000  -----  64249\n"
     ]
    },
    {
     "name": "stderr",
     "output_type": "stream",
     "text": [
      "C:\\Users\\minio\\anaconda3\\envs\\tfm-py-37\\lib\\site-packages\\gensim\\topic_coherence\\direct_confirmation_measure.py:204: RuntimeWarning: divide by zero encountered in double_scalars\n",
      "  m_lr_i = np.log(numerator / denominator)\n",
      "C:\\Users\\minio\\anaconda3\\envs\\tfm-py-37\\lib\\site-packages\\gensim\\topic_coherence\\indirect_confirmation_measure.py:323: RuntimeWarning: invalid value encountered in double_scalars\n",
      "  return cv1.T.dot(cv2)[0, 0] / (_magnitude(cv1) * _magnitude(cv2))\n"
     ]
    },
    {
     "name": "stdout",
     "output_type": "stream",
     "text": [
      "time elapsed - 00:00:41.94\n",
      "256  -----  64250  -----  64499\n",
      "time elapsed - 00:00:41.46\n",
      "257  -----  64500  -----  64749\n"
     ]
    },
    {
     "name": "stderr",
     "output_type": "stream",
     "text": [
      "C:\\Users\\minio\\anaconda3\\envs\\tfm-py-37\\lib\\site-packages\\gensim\\topic_coherence\\direct_confirmation_measure.py:204: RuntimeWarning: divide by zero encountered in double_scalars\n",
      "  m_lr_i = np.log(numerator / denominator)\n",
      "C:\\Users\\minio\\anaconda3\\envs\\tfm-py-37\\lib\\site-packages\\gensim\\topic_coherence\\indirect_confirmation_measure.py:323: RuntimeWarning: invalid value encountered in double_scalars\n",
      "  return cv1.T.dot(cv2)[0, 0] / (_magnitude(cv1) * _magnitude(cv2))\n"
     ]
    },
    {
     "name": "stdout",
     "output_type": "stream",
     "text": [
      "time elapsed - 00:00:40.64\n",
      "258  -----  64750  -----  64999\n"
     ]
    },
    {
     "name": "stderr",
     "output_type": "stream",
     "text": [
      "C:\\Users\\minio\\anaconda3\\envs\\tfm-py-37\\lib\\site-packages\\gensim\\topic_coherence\\direct_confirmation_measure.py:204: RuntimeWarning: divide by zero encountered in double_scalars\n",
      "  m_lr_i = np.log(numerator / denominator)\n",
      "C:\\Users\\minio\\anaconda3\\envs\\tfm-py-37\\lib\\site-packages\\gensim\\topic_coherence\\indirect_confirmation_measure.py:323: RuntimeWarning: invalid value encountered in double_scalars\n",
      "  return cv1.T.dot(cv2)[0, 0] / (_magnitude(cv1) * _magnitude(cv2))\n"
     ]
    },
    {
     "name": "stdout",
     "output_type": "stream",
     "text": [
      "time elapsed - 00:00:41.29\n",
      "259  -----  65000  -----  65249\n"
     ]
    },
    {
     "name": "stderr",
     "output_type": "stream",
     "text": [
      "C:\\Users\\minio\\anaconda3\\envs\\tfm-py-37\\lib\\site-packages\\gensim\\topic_coherence\\direct_confirmation_measure.py:204: RuntimeWarning: divide by zero encountered in double_scalars\n",
      "  m_lr_i = np.log(numerator / denominator)\n",
      "C:\\Users\\minio\\anaconda3\\envs\\tfm-py-37\\lib\\site-packages\\gensim\\topic_coherence\\indirect_confirmation_measure.py:323: RuntimeWarning: invalid value encountered in double_scalars\n",
      "  return cv1.T.dot(cv2)[0, 0] / (_magnitude(cv1) * _magnitude(cv2))\n"
     ]
    },
    {
     "name": "stdout",
     "output_type": "stream",
     "text": [
      "time elapsed - 00:00:44.91\n",
      "260  -----  65250  -----  65499\n",
      "time elapsed - 00:00:40.87\n",
      "261  -----  65500  -----  65749\n"
     ]
    },
    {
     "name": "stderr",
     "output_type": "stream",
     "text": [
      "C:\\Users\\minio\\anaconda3\\envs\\tfm-py-37\\lib\\site-packages\\gensim\\topic_coherence\\direct_confirmation_measure.py:204: RuntimeWarning: divide by zero encountered in double_scalars\n",
      "  m_lr_i = np.log(numerator / denominator)\n",
      "C:\\Users\\minio\\anaconda3\\envs\\tfm-py-37\\lib\\site-packages\\gensim\\topic_coherence\\indirect_confirmation_measure.py:323: RuntimeWarning: invalid value encountered in double_scalars\n",
      "  return cv1.T.dot(cv2)[0, 0] / (_magnitude(cv1) * _magnitude(cv2))\n"
     ]
    },
    {
     "name": "stdout",
     "output_type": "stream",
     "text": [
      "time elapsed - 00:00:38.45\n",
      "262  -----  65750  -----  65999\n"
     ]
    },
    {
     "name": "stderr",
     "output_type": "stream",
     "text": [
      "C:\\Users\\minio\\anaconda3\\envs\\tfm-py-37\\lib\\site-packages\\gensim\\topic_coherence\\direct_confirmation_measure.py:204: RuntimeWarning: divide by zero encountered in double_scalars\n",
      "  m_lr_i = np.log(numerator / denominator)\n",
      "C:\\Users\\minio\\anaconda3\\envs\\tfm-py-37\\lib\\site-packages\\gensim\\topic_coherence\\indirect_confirmation_measure.py:323: RuntimeWarning: invalid value encountered in double_scalars\n",
      "  return cv1.T.dot(cv2)[0, 0] / (_magnitude(cv1) * _magnitude(cv2))\n"
     ]
    },
    {
     "name": "stdout",
     "output_type": "stream",
     "text": [
      "time elapsed - 00:00:38.96\n",
      "263  -----  66000  -----  66249\n"
     ]
    },
    {
     "name": "stderr",
     "output_type": "stream",
     "text": [
      "C:\\Users\\minio\\anaconda3\\envs\\tfm-py-37\\lib\\site-packages\\gensim\\topic_coherence\\direct_confirmation_measure.py:204: RuntimeWarning: divide by zero encountered in double_scalars\n",
      "  m_lr_i = np.log(numerator / denominator)\n",
      "C:\\Users\\minio\\anaconda3\\envs\\tfm-py-37\\lib\\site-packages\\gensim\\topic_coherence\\indirect_confirmation_measure.py:323: RuntimeWarning: invalid value encountered in double_scalars\n",
      "  return cv1.T.dot(cv2)[0, 0] / (_magnitude(cv1) * _magnitude(cv2))\n"
     ]
    },
    {
     "name": "stdout",
     "output_type": "stream",
     "text": [
      "time elapsed - 00:00:39.42\n",
      "264  -----  66250  -----  66499\n",
      "time elapsed - 00:00:41.43\n",
      "265  -----  66500  -----  66749\n",
      "time elapsed - 00:00:46.54\n",
      "266  -----  66750  -----  66999\n"
     ]
    },
    {
     "name": "stderr",
     "output_type": "stream",
     "text": [
      "C:\\Users\\minio\\anaconda3\\envs\\tfm-py-37\\lib\\site-packages\\gensim\\topic_coherence\\direct_confirmation_measure.py:204: RuntimeWarning: divide by zero encountered in double_scalars\n",
      "  m_lr_i = np.log(numerator / denominator)\n",
      "C:\\Users\\minio\\anaconda3\\envs\\tfm-py-37\\lib\\site-packages\\gensim\\topic_coherence\\indirect_confirmation_measure.py:323: RuntimeWarning: invalid value encountered in double_scalars\n",
      "  return cv1.T.dot(cv2)[0, 0] / (_magnitude(cv1) * _magnitude(cv2))\n"
     ]
    },
    {
     "name": "stdout",
     "output_type": "stream",
     "text": [
      "time elapsed - 00:00:44.42\n",
      "267  -----  67000  -----  67249\n",
      "time elapsed - 00:00:42.88\n",
      "268  -----  67250  -----  67499\n"
     ]
    },
    {
     "name": "stderr",
     "output_type": "stream",
     "text": [
      "C:\\Users\\minio\\anaconda3\\envs\\tfm-py-37\\lib\\site-packages\\gensim\\topic_coherence\\direct_confirmation_measure.py:204: RuntimeWarning: divide by zero encountered in double_scalars\n",
      "  m_lr_i = np.log(numerator / denominator)\n",
      "C:\\Users\\minio\\anaconda3\\envs\\tfm-py-37\\lib\\site-packages\\gensim\\topic_coherence\\indirect_confirmation_measure.py:323: RuntimeWarning: invalid value encountered in double_scalars\n",
      "  return cv1.T.dot(cv2)[0, 0] / (_magnitude(cv1) * _magnitude(cv2))\n"
     ]
    },
    {
     "name": "stdout",
     "output_type": "stream",
     "text": [
      "time elapsed - 00:00:42.84\n",
      "269  -----  67500  -----  67749\n",
      "time elapsed - 00:00:44.18\n",
      "270  -----  67750  -----  67999\n",
      "time elapsed - 00:00:42.61\n",
      "271  -----  68000  -----  68249\n",
      "time elapsed - 00:00:41.97\n",
      "272  -----  68250  -----  68499\n"
     ]
    },
    {
     "name": "stderr",
     "output_type": "stream",
     "text": [
      "C:\\Users\\minio\\anaconda3\\envs\\tfm-py-37\\lib\\site-packages\\gensim\\topic_coherence\\direct_confirmation_measure.py:204: RuntimeWarning: divide by zero encountered in double_scalars\n",
      "  m_lr_i = np.log(numerator / denominator)\n",
      "C:\\Users\\minio\\anaconda3\\envs\\tfm-py-37\\lib\\site-packages\\gensim\\topic_coherence\\indirect_confirmation_measure.py:323: RuntimeWarning: invalid value encountered in double_scalars\n",
      "  return cv1.T.dot(cv2)[0, 0] / (_magnitude(cv1) * _magnitude(cv2))\n"
     ]
    },
    {
     "name": "stdout",
     "output_type": "stream",
     "text": [
      "time elapsed - 00:00:44.60\n",
      "273  -----  68500  -----  68749\n"
     ]
    },
    {
     "name": "stderr",
     "output_type": "stream",
     "text": [
      "C:\\Users\\minio\\anaconda3\\envs\\tfm-py-37\\lib\\site-packages\\gensim\\topic_coherence\\direct_confirmation_measure.py:204: RuntimeWarning: divide by zero encountered in double_scalars\n",
      "  m_lr_i = np.log(numerator / denominator)\n",
      "C:\\Users\\minio\\anaconda3\\envs\\tfm-py-37\\lib\\site-packages\\gensim\\topic_coherence\\indirect_confirmation_measure.py:323: RuntimeWarning: invalid value encountered in double_scalars\n",
      "  return cv1.T.dot(cv2)[0, 0] / (_magnitude(cv1) * _magnitude(cv2))\n"
     ]
    },
    {
     "name": "stdout",
     "output_type": "stream",
     "text": [
      "time elapsed - 00:00:43.13\n",
      "274  -----  68750  -----  68999\n"
     ]
    },
    {
     "name": "stderr",
     "output_type": "stream",
     "text": [
      "C:\\Users\\minio\\anaconda3\\envs\\tfm-py-37\\lib\\site-packages\\gensim\\topic_coherence\\direct_confirmation_measure.py:204: RuntimeWarning: divide by zero encountered in double_scalars\n",
      "  m_lr_i = np.log(numerator / denominator)\n",
      "C:\\Users\\minio\\anaconda3\\envs\\tfm-py-37\\lib\\site-packages\\gensim\\topic_coherence\\indirect_confirmation_measure.py:323: RuntimeWarning: invalid value encountered in double_scalars\n",
      "  return cv1.T.dot(cv2)[0, 0] / (_magnitude(cv1) * _magnitude(cv2))\n"
     ]
    },
    {
     "name": "stdout",
     "output_type": "stream",
     "text": [
      "time elapsed - 00:00:43.95\n",
      "275  -----  69000  -----  69249\n"
     ]
    },
    {
     "name": "stderr",
     "output_type": "stream",
     "text": [
      "C:\\Users\\minio\\anaconda3\\envs\\tfm-py-37\\lib\\site-packages\\gensim\\topic_coherence\\direct_confirmation_measure.py:204: RuntimeWarning: divide by zero encountered in double_scalars\n",
      "  m_lr_i = np.log(numerator / denominator)\n",
      "C:\\Users\\minio\\anaconda3\\envs\\tfm-py-37\\lib\\site-packages\\gensim\\topic_coherence\\indirect_confirmation_measure.py:323: RuntimeWarning: invalid value encountered in double_scalars\n",
      "  return cv1.T.dot(cv2)[0, 0] / (_magnitude(cv1) * _magnitude(cv2))\n"
     ]
    },
    {
     "name": "stdout",
     "output_type": "stream",
     "text": [
      "time elapsed - 00:00:43.33\n",
      "276  -----  69250  -----  69499\n"
     ]
    },
    {
     "name": "stderr",
     "output_type": "stream",
     "text": [
      "C:\\Users\\minio\\anaconda3\\envs\\tfm-py-37\\lib\\site-packages\\gensim\\topic_coherence\\direct_confirmation_measure.py:204: RuntimeWarning: divide by zero encountered in double_scalars\n",
      "  m_lr_i = np.log(numerator / denominator)\n",
      "C:\\Users\\minio\\anaconda3\\envs\\tfm-py-37\\lib\\site-packages\\gensim\\topic_coherence\\indirect_confirmation_measure.py:323: RuntimeWarning: invalid value encountered in double_scalars\n",
      "  return cv1.T.dot(cv2)[0, 0] / (_magnitude(cv1) * _magnitude(cv2))\n"
     ]
    },
    {
     "name": "stdout",
     "output_type": "stream",
     "text": [
      "time elapsed - 00:00:39.37\n",
      "277  -----  69500  -----  69749\n",
      "time elapsed - 00:00:39.65\n",
      "278  -----  69750  -----  69999\n"
     ]
    },
    {
     "name": "stderr",
     "output_type": "stream",
     "text": [
      "C:\\Users\\minio\\anaconda3\\envs\\tfm-py-37\\lib\\site-packages\\gensim\\topic_coherence\\direct_confirmation_measure.py:204: RuntimeWarning: divide by zero encountered in double_scalars\n",
      "  m_lr_i = np.log(numerator / denominator)\n",
      "C:\\Users\\minio\\anaconda3\\envs\\tfm-py-37\\lib\\site-packages\\gensim\\topic_coherence\\indirect_confirmation_measure.py:323: RuntimeWarning: invalid value encountered in double_scalars\n",
      "  return cv1.T.dot(cv2)[0, 0] / (_magnitude(cv1) * _magnitude(cv2))\n"
     ]
    },
    {
     "name": "stdout",
     "output_type": "stream",
     "text": [
      "time elapsed - 00:00:39.98\n",
      "279  -----  70000  -----  70249\n"
     ]
    },
    {
     "name": "stderr",
     "output_type": "stream",
     "text": [
      "C:\\Users\\minio\\anaconda3\\envs\\tfm-py-37\\lib\\site-packages\\gensim\\topic_coherence\\direct_confirmation_measure.py:204: RuntimeWarning: divide by zero encountered in double_scalars\n",
      "  m_lr_i = np.log(numerator / denominator)\n",
      "C:\\Users\\minio\\anaconda3\\envs\\tfm-py-37\\lib\\site-packages\\gensim\\topic_coherence\\indirect_confirmation_measure.py:323: RuntimeWarning: invalid value encountered in double_scalars\n",
      "  return cv1.T.dot(cv2)[0, 0] / (_magnitude(cv1) * _magnitude(cv2))\n"
     ]
    },
    {
     "name": "stdout",
     "output_type": "stream",
     "text": [
      "time elapsed - 00:00:41.66\n",
      "280  -----  70250  -----  70499\n",
      "time elapsed - 00:00:44.58\n",
      "281  -----  70500  -----  70749\n",
      "time elapsed - 00:00:42.31\n",
      "282  -----  70750  -----  70999\n",
      "time elapsed - 00:00:41.64\n",
      "283  -----  71000  -----  71249\n"
     ]
    },
    {
     "name": "stderr",
     "output_type": "stream",
     "text": [
      "C:\\Users\\minio\\anaconda3\\envs\\tfm-py-37\\lib\\site-packages\\gensim\\topic_coherence\\direct_confirmation_measure.py:204: RuntimeWarning: divide by zero encountered in double_scalars\n",
      "  m_lr_i = np.log(numerator / denominator)\n",
      "C:\\Users\\minio\\anaconda3\\envs\\tfm-py-37\\lib\\site-packages\\gensim\\topic_coherence\\indirect_confirmation_measure.py:323: RuntimeWarning: invalid value encountered in double_scalars\n",
      "  return cv1.T.dot(cv2)[0, 0] / (_magnitude(cv1) * _magnitude(cv2))\n"
     ]
    },
    {
     "name": "stdout",
     "output_type": "stream",
     "text": [
      "time elapsed - 00:00:41.17\n",
      "284  -----  71250  -----  71499\n",
      "time elapsed - 00:00:40.69\n",
      "285  -----  71500  -----  71749\n"
     ]
    },
    {
     "name": "stderr",
     "output_type": "stream",
     "text": [
      "C:\\Users\\minio\\anaconda3\\envs\\tfm-py-37\\lib\\site-packages\\gensim\\topic_coherence\\direct_confirmation_measure.py:204: RuntimeWarning: divide by zero encountered in double_scalars\n",
      "  m_lr_i = np.log(numerator / denominator)\n",
      "C:\\Users\\minio\\anaconda3\\envs\\tfm-py-37\\lib\\site-packages\\gensim\\topic_coherence\\indirect_confirmation_measure.py:323: RuntimeWarning: invalid value encountered in double_scalars\n",
      "  return cv1.T.dot(cv2)[0, 0] / (_magnitude(cv1) * _magnitude(cv2))\n"
     ]
    },
    {
     "name": "stdout",
     "output_type": "stream",
     "text": [
      "time elapsed - 00:00:40.81\n",
      "286  -----  71750  -----  71999\n",
      "time elapsed - 00:00:40.62\n",
      "287  -----  72000  -----  72249\n"
     ]
    },
    {
     "name": "stderr",
     "output_type": "stream",
     "text": [
      "C:\\Users\\minio\\anaconda3\\envs\\tfm-py-37\\lib\\site-packages\\gensim\\topic_coherence\\direct_confirmation_measure.py:204: RuntimeWarning: divide by zero encountered in double_scalars\n",
      "  m_lr_i = np.log(numerator / denominator)\n",
      "C:\\Users\\minio\\anaconda3\\envs\\tfm-py-37\\lib\\site-packages\\gensim\\topic_coherence\\indirect_confirmation_measure.py:323: RuntimeWarning: invalid value encountered in double_scalars\n",
      "  return cv1.T.dot(cv2)[0, 0] / (_magnitude(cv1) * _magnitude(cv2))\n"
     ]
    },
    {
     "name": "stdout",
     "output_type": "stream",
     "text": [
      "time elapsed - 00:00:40.65\n",
      "288  -----  72250  -----  72499\n",
      "time elapsed - 00:00:42.46\n",
      "289  -----  72500  -----  72749\n"
     ]
    },
    {
     "name": "stderr",
     "output_type": "stream",
     "text": [
      "C:\\Users\\minio\\anaconda3\\envs\\tfm-py-37\\lib\\site-packages\\gensim\\topic_coherence\\direct_confirmation_measure.py:204: RuntimeWarning: divide by zero encountered in double_scalars\n",
      "  m_lr_i = np.log(numerator / denominator)\n",
      "C:\\Users\\minio\\anaconda3\\envs\\tfm-py-37\\lib\\site-packages\\gensim\\topic_coherence\\indirect_confirmation_measure.py:323: RuntimeWarning: invalid value encountered in double_scalars\n",
      "  return cv1.T.dot(cv2)[0, 0] / (_magnitude(cv1) * _magnitude(cv2))\n"
     ]
    },
    {
     "name": "stdout",
     "output_type": "stream",
     "text": [
      "time elapsed - 00:00:44.79\n",
      "290  -----  72750  -----  72999\n"
     ]
    },
    {
     "name": "stderr",
     "output_type": "stream",
     "text": [
      "C:\\Users\\minio\\anaconda3\\envs\\tfm-py-37\\lib\\site-packages\\gensim\\topic_coherence\\direct_confirmation_measure.py:204: RuntimeWarning: divide by zero encountered in double_scalars\n",
      "  m_lr_i = np.log(numerator / denominator)\n",
      "C:\\Users\\minio\\anaconda3\\envs\\tfm-py-37\\lib\\site-packages\\gensim\\topic_coherence\\indirect_confirmation_measure.py:323: RuntimeWarning: invalid value encountered in double_scalars\n",
      "  return cv1.T.dot(cv2)[0, 0] / (_magnitude(cv1) * _magnitude(cv2))\n"
     ]
    },
    {
     "name": "stdout",
     "output_type": "stream",
     "text": [
      "time elapsed - 00:00:46.31\n",
      "291  -----  73000  -----  73249\n"
     ]
    },
    {
     "name": "stderr",
     "output_type": "stream",
     "text": [
      "C:\\Users\\minio\\anaconda3\\envs\\tfm-py-37\\lib\\site-packages\\gensim\\topic_coherence\\direct_confirmation_measure.py:204: RuntimeWarning: divide by zero encountered in double_scalars\n",
      "  m_lr_i = np.log(numerator / denominator)\n",
      "C:\\Users\\minio\\anaconda3\\envs\\tfm-py-37\\lib\\site-packages\\gensim\\topic_coherence\\indirect_confirmation_measure.py:323: RuntimeWarning: invalid value encountered in double_scalars\n",
      "  return cv1.T.dot(cv2)[0, 0] / (_magnitude(cv1) * _magnitude(cv2))\n"
     ]
    },
    {
     "name": "stdout",
     "output_type": "stream",
     "text": [
      "time elapsed - 00:00:48.02\n",
      "292  -----  73250  -----  73499\n"
     ]
    },
    {
     "name": "stderr",
     "output_type": "stream",
     "text": [
      "C:\\Users\\minio\\anaconda3\\envs\\tfm-py-37\\lib\\site-packages\\gensim\\topic_coherence\\direct_confirmation_measure.py:204: RuntimeWarning: divide by zero encountered in double_scalars\n",
      "  m_lr_i = np.log(numerator / denominator)\n",
      "C:\\Users\\minio\\anaconda3\\envs\\tfm-py-37\\lib\\site-packages\\gensim\\topic_coherence\\indirect_confirmation_measure.py:323: RuntimeWarning: invalid value encountered in double_scalars\n",
      "  return cv1.T.dot(cv2)[0, 0] / (_magnitude(cv1) * _magnitude(cv2))\n"
     ]
    },
    {
     "name": "stdout",
     "output_type": "stream",
     "text": [
      "time elapsed - 00:00:47.96\n",
      "293  -----  73500  -----  73749\n",
      "time elapsed - 00:00:47.97\n",
      "294  -----  73750  -----  73999\n",
      "time elapsed - 00:00:48.11\n",
      "295  -----  74000  -----  74249\n",
      "time elapsed - 00:00:45.60\n",
      "296  -----  74250  -----  74499\n",
      "time elapsed - 00:00:45.96\n",
      "297  -----  74500  -----  74749\n"
     ]
    },
    {
     "name": "stderr",
     "output_type": "stream",
     "text": [
      "C:\\Users\\minio\\anaconda3\\envs\\tfm-py-37\\lib\\site-packages\\gensim\\topic_coherence\\direct_confirmation_measure.py:204: RuntimeWarning: divide by zero encountered in double_scalars\n",
      "  m_lr_i = np.log(numerator / denominator)\n",
      "C:\\Users\\minio\\anaconda3\\envs\\tfm-py-37\\lib\\site-packages\\gensim\\topic_coherence\\indirect_confirmation_measure.py:323: RuntimeWarning: invalid value encountered in double_scalars\n",
      "  return cv1.T.dot(cv2)[0, 0] / (_magnitude(cv1) * _magnitude(cv2))\n"
     ]
    },
    {
     "name": "stdout",
     "output_type": "stream",
     "text": [
      "time elapsed - 00:00:46.47\n",
      "298  -----  74750  -----  74999\n"
     ]
    },
    {
     "name": "stderr",
     "output_type": "stream",
     "text": [
      "C:\\Users\\minio\\anaconda3\\envs\\tfm-py-37\\lib\\site-packages\\gensim\\topic_coherence\\direct_confirmation_measure.py:204: RuntimeWarning: divide by zero encountered in double_scalars\n",
      "  m_lr_i = np.log(numerator / denominator)\n",
      "C:\\Users\\minio\\anaconda3\\envs\\tfm-py-37\\lib\\site-packages\\gensim\\topic_coherence\\indirect_confirmation_measure.py:323: RuntimeWarning: invalid value encountered in double_scalars\n",
      "  return cv1.T.dot(cv2)[0, 0] / (_magnitude(cv1) * _magnitude(cv2))\n"
     ]
    },
    {
     "name": "stdout",
     "output_type": "stream",
     "text": [
      "time elapsed - 00:00:46.04\n",
      "299  -----  75000  -----  75249\n"
     ]
    },
    {
     "name": "stderr",
     "output_type": "stream",
     "text": [
      "C:\\Users\\minio\\anaconda3\\envs\\tfm-py-37\\lib\\site-packages\\gensim\\topic_coherence\\direct_confirmation_measure.py:204: RuntimeWarning: divide by zero encountered in double_scalars\n",
      "  m_lr_i = np.log(numerator / denominator)\n",
      "C:\\Users\\minio\\anaconda3\\envs\\tfm-py-37\\lib\\site-packages\\gensim\\topic_coherence\\indirect_confirmation_measure.py:323: RuntimeWarning: invalid value encountered in double_scalars\n",
      "  return cv1.T.dot(cv2)[0, 0] / (_magnitude(cv1) * _magnitude(cv2))\n"
     ]
    },
    {
     "name": "stdout",
     "output_type": "stream",
     "text": [
      "time elapsed - 00:00:47.34\n",
      "300  -----  75250  -----  75499\n",
      "time elapsed - 00:00:44.94\n",
      "301  -----  75500  -----  75749\n",
      "time elapsed - 00:00:43.86\n",
      "302  -----  75750  -----  75999\n"
     ]
    },
    {
     "name": "stderr",
     "output_type": "stream",
     "text": [
      "C:\\Users\\minio\\anaconda3\\envs\\tfm-py-37\\lib\\site-packages\\gensim\\topic_coherence\\direct_confirmation_measure.py:204: RuntimeWarning: divide by zero encountered in double_scalars\n",
      "  m_lr_i = np.log(numerator / denominator)\n",
      "C:\\Users\\minio\\anaconda3\\envs\\tfm-py-37\\lib\\site-packages\\gensim\\topic_coherence\\indirect_confirmation_measure.py:323: RuntimeWarning: invalid value encountered in double_scalars\n",
      "  return cv1.T.dot(cv2)[0, 0] / (_magnitude(cv1) * _magnitude(cv2))\n"
     ]
    },
    {
     "name": "stdout",
     "output_type": "stream",
     "text": [
      "time elapsed - 00:00:44.81\n",
      "303  -----  76000  -----  76249\n"
     ]
    },
    {
     "name": "stderr",
     "output_type": "stream",
     "text": [
      "C:\\Users\\minio\\anaconda3\\envs\\tfm-py-37\\lib\\site-packages\\gensim\\topic_coherence\\direct_confirmation_measure.py:204: RuntimeWarning: divide by zero encountered in double_scalars\n",
      "  m_lr_i = np.log(numerator / denominator)\n",
      "C:\\Users\\minio\\anaconda3\\envs\\tfm-py-37\\lib\\site-packages\\gensim\\topic_coherence\\indirect_confirmation_measure.py:323: RuntimeWarning: invalid value encountered in double_scalars\n",
      "  return cv1.T.dot(cv2)[0, 0] / (_magnitude(cv1) * _magnitude(cv2))\n"
     ]
    },
    {
     "name": "stdout",
     "output_type": "stream",
     "text": [
      "time elapsed - 00:00:45.62\n",
      "304  -----  76250  -----  76499\n"
     ]
    },
    {
     "name": "stderr",
     "output_type": "stream",
     "text": [
      "C:\\Users\\minio\\anaconda3\\envs\\tfm-py-37\\lib\\site-packages\\gensim\\topic_coherence\\direct_confirmation_measure.py:204: RuntimeWarning: divide by zero encountered in double_scalars\n",
      "  m_lr_i = np.log(numerator / denominator)\n",
      "C:\\Users\\minio\\anaconda3\\envs\\tfm-py-37\\lib\\site-packages\\gensim\\topic_coherence\\indirect_confirmation_measure.py:323: RuntimeWarning: invalid value encountered in double_scalars\n",
      "  return cv1.T.dot(cv2)[0, 0] / (_magnitude(cv1) * _magnitude(cv2))\n"
     ]
    },
    {
     "name": "stdout",
     "output_type": "stream",
     "text": [
      "time elapsed - 00:00:44.59\n",
      "305  -----  76500  -----  76749\n"
     ]
    },
    {
     "name": "stderr",
     "output_type": "stream",
     "text": [
      "C:\\Users\\minio\\anaconda3\\envs\\tfm-py-37\\lib\\site-packages\\gensim\\topic_coherence\\direct_confirmation_measure.py:204: RuntimeWarning: divide by zero encountered in double_scalars\n",
      "  m_lr_i = np.log(numerator / denominator)\n",
      "C:\\Users\\minio\\anaconda3\\envs\\tfm-py-37\\lib\\site-packages\\gensim\\topic_coherence\\indirect_confirmation_measure.py:323: RuntimeWarning: invalid value encountered in double_scalars\n",
      "  return cv1.T.dot(cv2)[0, 0] / (_magnitude(cv1) * _magnitude(cv2))\n"
     ]
    },
    {
     "name": "stdout",
     "output_type": "stream",
     "text": [
      "time elapsed - 00:00:39.97\n",
      "306  -----  76750  -----  76999\n"
     ]
    },
    {
     "name": "stderr",
     "output_type": "stream",
     "text": [
      "C:\\Users\\minio\\anaconda3\\envs\\tfm-py-37\\lib\\site-packages\\gensim\\topic_coherence\\direct_confirmation_measure.py:204: RuntimeWarning: divide by zero encountered in double_scalars\n",
      "  m_lr_i = np.log(numerator / denominator)\n",
      "C:\\Users\\minio\\anaconda3\\envs\\tfm-py-37\\lib\\site-packages\\gensim\\topic_coherence\\indirect_confirmation_measure.py:323: RuntimeWarning: invalid value encountered in double_scalars\n",
      "  return cv1.T.dot(cv2)[0, 0] / (_magnitude(cv1) * _magnitude(cv2))\n"
     ]
    },
    {
     "name": "stdout",
     "output_type": "stream",
     "text": [
      "time elapsed - 00:00:40.01\n",
      "307  -----  77000  -----  77249\n"
     ]
    },
    {
     "name": "stderr",
     "output_type": "stream",
     "text": [
      "C:\\Users\\minio\\anaconda3\\envs\\tfm-py-37\\lib\\site-packages\\gensim\\topic_coherence\\direct_confirmation_measure.py:204: RuntimeWarning: divide by zero encountered in double_scalars\n",
      "  m_lr_i = np.log(numerator / denominator)\n",
      "C:\\Users\\minio\\anaconda3\\envs\\tfm-py-37\\lib\\site-packages\\gensim\\topic_coherence\\indirect_confirmation_measure.py:323: RuntimeWarning: invalid value encountered in double_scalars\n",
      "  return cv1.T.dot(cv2)[0, 0] / (_magnitude(cv1) * _magnitude(cv2))\n"
     ]
    },
    {
     "name": "stdout",
     "output_type": "stream",
     "text": [
      "time elapsed - 00:00:45.45\n",
      "308  -----  77250  -----  77499\n"
     ]
    },
    {
     "name": "stderr",
     "output_type": "stream",
     "text": [
      "C:\\Users\\minio\\anaconda3\\envs\\tfm-py-37\\lib\\site-packages\\gensim\\topic_coherence\\direct_confirmation_measure.py:204: RuntimeWarning: divide by zero encountered in double_scalars\n",
      "  m_lr_i = np.log(numerator / denominator)\n",
      "C:\\Users\\minio\\anaconda3\\envs\\tfm-py-37\\lib\\site-packages\\gensim\\topic_coherence\\indirect_confirmation_measure.py:323: RuntimeWarning: invalid value encountered in double_scalars\n",
      "  return cv1.T.dot(cv2)[0, 0] / (_magnitude(cv1) * _magnitude(cv2))\n"
     ]
    },
    {
     "name": "stdout",
     "output_type": "stream",
     "text": [
      "time elapsed - 00:01:00.46\n",
      "309  -----  77500  -----  77749\n",
      "time elapsed - 00:00:51.21\n",
      "310  -----  77750  -----  77999\n"
     ]
    },
    {
     "name": "stderr",
     "output_type": "stream",
     "text": [
      "C:\\Users\\minio\\anaconda3\\envs\\tfm-py-37\\lib\\site-packages\\gensim\\topic_coherence\\direct_confirmation_measure.py:204: RuntimeWarning: divide by zero encountered in double_scalars\n",
      "  m_lr_i = np.log(numerator / denominator)\n",
      "C:\\Users\\minio\\anaconda3\\envs\\tfm-py-37\\lib\\site-packages\\gensim\\topic_coherence\\indirect_confirmation_measure.py:323: RuntimeWarning: invalid value encountered in double_scalars\n",
      "  return cv1.T.dot(cv2)[0, 0] / (_magnitude(cv1) * _magnitude(cv2))\n"
     ]
    },
    {
     "name": "stdout",
     "output_type": "stream",
     "text": [
      "time elapsed - 00:00:45.68\n",
      "311  -----  78000  -----  78249\n"
     ]
    },
    {
     "name": "stderr",
     "output_type": "stream",
     "text": [
      "C:\\Users\\minio\\anaconda3\\envs\\tfm-py-37\\lib\\site-packages\\gensim\\topic_coherence\\direct_confirmation_measure.py:204: RuntimeWarning: divide by zero encountered in double_scalars\n",
      "  m_lr_i = np.log(numerator / denominator)\n",
      "C:\\Users\\minio\\anaconda3\\envs\\tfm-py-37\\lib\\site-packages\\gensim\\topic_coherence\\indirect_confirmation_measure.py:323: RuntimeWarning: invalid value encountered in double_scalars\n",
      "  return cv1.T.dot(cv2)[0, 0] / (_magnitude(cv1) * _magnitude(cv2))\n"
     ]
    },
    {
     "name": "stdout",
     "output_type": "stream",
     "text": [
      "time elapsed - 00:00:46.09\n",
      "312  -----  78250  -----  78499\n",
      "time elapsed - 00:00:44.71\n",
      "313  -----  78500  -----  78749\n",
      "time elapsed - 00:00:44.96\n",
      "314  -----  78750  -----  78999\n"
     ]
    },
    {
     "name": "stderr",
     "output_type": "stream",
     "text": [
      "C:\\Users\\minio\\anaconda3\\envs\\tfm-py-37\\lib\\site-packages\\gensim\\topic_coherence\\direct_confirmation_measure.py:204: RuntimeWarning: divide by zero encountered in double_scalars\n",
      "  m_lr_i = np.log(numerator / denominator)\n",
      "C:\\Users\\minio\\anaconda3\\envs\\tfm-py-37\\lib\\site-packages\\gensim\\topic_coherence\\indirect_confirmation_measure.py:323: RuntimeWarning: invalid value encountered in double_scalars\n",
      "  return cv1.T.dot(cv2)[0, 0] / (_magnitude(cv1) * _magnitude(cv2))\n"
     ]
    },
    {
     "name": "stdout",
     "output_type": "stream",
     "text": [
      "time elapsed - 00:00:46.34\n",
      "315  -----  79000  -----  79249\n"
     ]
    },
    {
     "name": "stderr",
     "output_type": "stream",
     "text": [
      "C:\\Users\\minio\\anaconda3\\envs\\tfm-py-37\\lib\\site-packages\\gensim\\topic_coherence\\direct_confirmation_measure.py:204: RuntimeWarning: divide by zero encountered in double_scalars\n",
      "  m_lr_i = np.log(numerator / denominator)\n",
      "C:\\Users\\minio\\anaconda3\\envs\\tfm-py-37\\lib\\site-packages\\gensim\\topic_coherence\\indirect_confirmation_measure.py:323: RuntimeWarning: invalid value encountered in double_scalars\n",
      "  return cv1.T.dot(cv2)[0, 0] / (_magnitude(cv1) * _magnitude(cv2))\n"
     ]
    },
    {
     "name": "stdout",
     "output_type": "stream",
     "text": [
      "time elapsed - 00:00:44.31\n",
      "316  -----  79250  -----  79499\n"
     ]
    },
    {
     "name": "stderr",
     "output_type": "stream",
     "text": [
      "C:\\Users\\minio\\anaconda3\\envs\\tfm-py-37\\lib\\site-packages\\gensim\\topic_coherence\\direct_confirmation_measure.py:204: RuntimeWarning: divide by zero encountered in double_scalars\n",
      "  m_lr_i = np.log(numerator / denominator)\n",
      "C:\\Users\\minio\\anaconda3\\envs\\tfm-py-37\\lib\\site-packages\\gensim\\topic_coherence\\indirect_confirmation_measure.py:323: RuntimeWarning: invalid value encountered in double_scalars\n",
      "  return cv1.T.dot(cv2)[0, 0] / (_magnitude(cv1) * _magnitude(cv2))\n"
     ]
    },
    {
     "name": "stdout",
     "output_type": "stream",
     "text": [
      "time elapsed - 00:00:45.62\n",
      "317  -----  79500  -----  79749\n"
     ]
    },
    {
     "name": "stderr",
     "output_type": "stream",
     "text": [
      "C:\\Users\\minio\\anaconda3\\envs\\tfm-py-37\\lib\\site-packages\\gensim\\topic_coherence\\direct_confirmation_measure.py:204: RuntimeWarning: divide by zero encountered in double_scalars\n",
      "  m_lr_i = np.log(numerator / denominator)\n",
      "C:\\Users\\minio\\anaconda3\\envs\\tfm-py-37\\lib\\site-packages\\gensim\\topic_coherence\\indirect_confirmation_measure.py:323: RuntimeWarning: invalid value encountered in double_scalars\n",
      "  return cv1.T.dot(cv2)[0, 0] / (_magnitude(cv1) * _magnitude(cv2))\n"
     ]
    },
    {
     "name": "stdout",
     "output_type": "stream",
     "text": [
      "time elapsed - 00:00:44.77\n",
      "318  -----  79750  -----  79999\n",
      "time elapsed - 00:00:40.98\n",
      "319  -----  80000  -----  80249\n"
     ]
    },
    {
     "name": "stderr",
     "output_type": "stream",
     "text": [
      "C:\\Users\\minio\\anaconda3\\envs\\tfm-py-37\\lib\\site-packages\\gensim\\topic_coherence\\direct_confirmation_measure.py:204: RuntimeWarning: divide by zero encountered in double_scalars\n",
      "  m_lr_i = np.log(numerator / denominator)\n",
      "C:\\Users\\minio\\anaconda3\\envs\\tfm-py-37\\lib\\site-packages\\gensim\\topic_coherence\\indirect_confirmation_measure.py:323: RuntimeWarning: invalid value encountered in double_scalars\n",
      "  return cv1.T.dot(cv2)[0, 0] / (_magnitude(cv1) * _magnitude(cv2))\n"
     ]
    },
    {
     "name": "stdout",
     "output_type": "stream",
     "text": [
      "time elapsed - 00:00:41.79\n",
      "320  -----  80250  -----  80499\n",
      "time elapsed - 00:00:43.14\n",
      "321  -----  80500  -----  80749\n",
      "time elapsed - 00:00:43.24\n",
      "322  -----  80750  -----  80999\n"
     ]
    },
    {
     "name": "stderr",
     "output_type": "stream",
     "text": [
      "C:\\Users\\minio\\anaconda3\\envs\\tfm-py-37\\lib\\site-packages\\gensim\\topic_coherence\\direct_confirmation_measure.py:204: RuntimeWarning: divide by zero encountered in double_scalars\n",
      "  m_lr_i = np.log(numerator / denominator)\n",
      "C:\\Users\\minio\\anaconda3\\envs\\tfm-py-37\\lib\\site-packages\\gensim\\topic_coherence\\indirect_confirmation_measure.py:323: RuntimeWarning: invalid value encountered in double_scalars\n",
      "  return cv1.T.dot(cv2)[0, 0] / (_magnitude(cv1) * _magnitude(cv2))\n"
     ]
    },
    {
     "name": "stdout",
     "output_type": "stream",
     "text": [
      "time elapsed - 00:00:44.95\n",
      "323  -----  81000  -----  81249\n"
     ]
    },
    {
     "name": "stderr",
     "output_type": "stream",
     "text": [
      "C:\\Users\\minio\\anaconda3\\envs\\tfm-py-37\\lib\\site-packages\\gensim\\topic_coherence\\direct_confirmation_measure.py:204: RuntimeWarning: divide by zero encountered in double_scalars\n",
      "  m_lr_i = np.log(numerator / denominator)\n",
      "C:\\Users\\minio\\anaconda3\\envs\\tfm-py-37\\lib\\site-packages\\gensim\\topic_coherence\\indirect_confirmation_measure.py:323: RuntimeWarning: invalid value encountered in double_scalars\n",
      "  return cv1.T.dot(cv2)[0, 0] / (_magnitude(cv1) * _magnitude(cv2))\n"
     ]
    },
    {
     "name": "stdout",
     "output_type": "stream",
     "text": [
      "time elapsed - 00:00:43.94\n",
      "324  -----  81250  -----  81499\n"
     ]
    },
    {
     "name": "stderr",
     "output_type": "stream",
     "text": [
      "C:\\Users\\minio\\anaconda3\\envs\\tfm-py-37\\lib\\site-packages\\gensim\\topic_coherence\\direct_confirmation_measure.py:204: RuntimeWarning: divide by zero encountered in double_scalars\n",
      "  m_lr_i = np.log(numerator / denominator)\n",
      "C:\\Users\\minio\\anaconda3\\envs\\tfm-py-37\\lib\\site-packages\\gensim\\topic_coherence\\indirect_confirmation_measure.py:323: RuntimeWarning: invalid value encountered in double_scalars\n",
      "  return cv1.T.dot(cv2)[0, 0] / (_magnitude(cv1) * _magnitude(cv2))\n"
     ]
    },
    {
     "name": "stdout",
     "output_type": "stream",
     "text": [
      "time elapsed - 00:00:37.44\n",
      "325  -----  81500  -----  81749\n",
      "time elapsed - 00:00:36.48\n",
      "326  -----  81750  -----  81999\n"
     ]
    },
    {
     "name": "stderr",
     "output_type": "stream",
     "text": [
      "C:\\Users\\minio\\anaconda3\\envs\\tfm-py-37\\lib\\site-packages\\gensim\\topic_coherence\\direct_confirmation_measure.py:204: RuntimeWarning: divide by zero encountered in double_scalars\n",
      "  m_lr_i = np.log(numerator / denominator)\n",
      "C:\\Users\\minio\\anaconda3\\envs\\tfm-py-37\\lib\\site-packages\\gensim\\topic_coherence\\indirect_confirmation_measure.py:323: RuntimeWarning: invalid value encountered in double_scalars\n",
      "  return cv1.T.dot(cv2)[0, 0] / (_magnitude(cv1) * _magnitude(cv2))\n"
     ]
    },
    {
     "name": "stdout",
     "output_type": "stream",
     "text": [
      "time elapsed - 00:00:37.81\n",
      "327  -----  82000  -----  82249\n"
     ]
    },
    {
     "name": "stderr",
     "output_type": "stream",
     "text": [
      "C:\\Users\\minio\\anaconda3\\envs\\tfm-py-37\\lib\\site-packages\\gensim\\topic_coherence\\direct_confirmation_measure.py:204: RuntimeWarning: divide by zero encountered in double_scalars\n",
      "  m_lr_i = np.log(numerator / denominator)\n",
      "C:\\Users\\minio\\anaconda3\\envs\\tfm-py-37\\lib\\site-packages\\gensim\\topic_coherence\\indirect_confirmation_measure.py:323: RuntimeWarning: invalid value encountered in double_scalars\n",
      "  return cv1.T.dot(cv2)[0, 0] / (_magnitude(cv1) * _magnitude(cv2))\n"
     ]
    },
    {
     "name": "stdout",
     "output_type": "stream",
     "text": [
      "time elapsed - 00:00:35.26\n",
      "328  -----  82250  -----  82499\n"
     ]
    },
    {
     "name": "stderr",
     "output_type": "stream",
     "text": [
      "C:\\Users\\minio\\anaconda3\\envs\\tfm-py-37\\lib\\site-packages\\gensim\\topic_coherence\\direct_confirmation_measure.py:204: RuntimeWarning: divide by zero encountered in double_scalars\n",
      "  m_lr_i = np.log(numerator / denominator)\n",
      "C:\\Users\\minio\\anaconda3\\envs\\tfm-py-37\\lib\\site-packages\\gensim\\topic_coherence\\indirect_confirmation_measure.py:323: RuntimeWarning: invalid value encountered in double_scalars\n",
      "  return cv1.T.dot(cv2)[0, 0] / (_magnitude(cv1) * _magnitude(cv2))\n"
     ]
    },
    {
     "name": "stdout",
     "output_type": "stream",
     "text": [
      "time elapsed - 00:00:35.53\n",
      "329  -----  82500  -----  82749\n"
     ]
    },
    {
     "name": "stderr",
     "output_type": "stream",
     "text": [
      "C:\\Users\\minio\\anaconda3\\envs\\tfm-py-37\\lib\\site-packages\\gensim\\topic_coherence\\direct_confirmation_measure.py:204: RuntimeWarning: divide by zero encountered in double_scalars\n",
      "  m_lr_i = np.log(numerator / denominator)\n",
      "C:\\Users\\minio\\anaconda3\\envs\\tfm-py-37\\lib\\site-packages\\gensim\\topic_coherence\\indirect_confirmation_measure.py:323: RuntimeWarning: invalid value encountered in double_scalars\n",
      "  return cv1.T.dot(cv2)[0, 0] / (_magnitude(cv1) * _magnitude(cv2))\n"
     ]
    },
    {
     "name": "stdout",
     "output_type": "stream",
     "text": [
      "time elapsed - 00:00:36.49\n",
      "330  -----  82750  -----  82999\n"
     ]
    },
    {
     "name": "stderr",
     "output_type": "stream",
     "text": [
      "C:\\Users\\minio\\anaconda3\\envs\\tfm-py-37\\lib\\site-packages\\gensim\\topic_coherence\\direct_confirmation_measure.py:204: RuntimeWarning: divide by zero encountered in double_scalars\n",
      "  m_lr_i = np.log(numerator / denominator)\n",
      "C:\\Users\\minio\\anaconda3\\envs\\tfm-py-37\\lib\\site-packages\\gensim\\topic_coherence\\indirect_confirmation_measure.py:323: RuntimeWarning: invalid value encountered in double_scalars\n",
      "  return cv1.T.dot(cv2)[0, 0] / (_magnitude(cv1) * _magnitude(cv2))\n"
     ]
    },
    {
     "name": "stdout",
     "output_type": "stream",
     "text": [
      "time elapsed - 00:00:40.17\n",
      "331  -----  83000  -----  83249\n",
      "time elapsed - 00:00:36.92\n",
      "332  -----  83250  -----  83499\n"
     ]
    },
    {
     "name": "stderr",
     "output_type": "stream",
     "text": [
      "C:\\Users\\minio\\anaconda3\\envs\\tfm-py-37\\lib\\site-packages\\gensim\\topic_coherence\\direct_confirmation_measure.py:204: RuntimeWarning: divide by zero encountered in double_scalars\n",
      "  m_lr_i = np.log(numerator / denominator)\n",
      "C:\\Users\\minio\\anaconda3\\envs\\tfm-py-37\\lib\\site-packages\\gensim\\topic_coherence\\indirect_confirmation_measure.py:323: RuntimeWarning: invalid value encountered in double_scalars\n",
      "  return cv1.T.dot(cv2)[0, 0] / (_magnitude(cv1) * _magnitude(cv2))\n"
     ]
    },
    {
     "name": "stdout",
     "output_type": "stream",
     "text": [
      "time elapsed - 00:00:35.90\n",
      "333  -----  83500  -----  83749\n",
      "time elapsed - 00:00:35.47\n",
      "334  -----  83750  -----  83999\n"
     ]
    },
    {
     "name": "stderr",
     "output_type": "stream",
     "text": [
      "C:\\Users\\minio\\anaconda3\\envs\\tfm-py-37\\lib\\site-packages\\gensim\\topic_coherence\\direct_confirmation_measure.py:204: RuntimeWarning: divide by zero encountered in double_scalars\n",
      "  m_lr_i = np.log(numerator / denominator)\n",
      "C:\\Users\\minio\\anaconda3\\envs\\tfm-py-37\\lib\\site-packages\\gensim\\topic_coherence\\indirect_confirmation_measure.py:323: RuntimeWarning: invalid value encountered in double_scalars\n",
      "  return cv1.T.dot(cv2)[0, 0] / (_magnitude(cv1) * _magnitude(cv2))\n"
     ]
    },
    {
     "name": "stdout",
     "output_type": "stream",
     "text": [
      "time elapsed - 00:00:35.69\n",
      "335  -----  84000  -----  84249\n",
      "time elapsed - 00:00:38.16\n",
      "336  -----  84250  -----  84499\n"
     ]
    },
    {
     "name": "stderr",
     "output_type": "stream",
     "text": [
      "C:\\Users\\minio\\anaconda3\\envs\\tfm-py-37\\lib\\site-packages\\gensim\\topic_coherence\\direct_confirmation_measure.py:204: RuntimeWarning: divide by zero encountered in double_scalars\n",
      "  m_lr_i = np.log(numerator / denominator)\n",
      "C:\\Users\\minio\\anaconda3\\envs\\tfm-py-37\\lib\\site-packages\\gensim\\topic_coherence\\indirect_confirmation_measure.py:323: RuntimeWarning: invalid value encountered in double_scalars\n",
      "  return cv1.T.dot(cv2)[0, 0] / (_magnitude(cv1) * _magnitude(cv2))\n"
     ]
    },
    {
     "name": "stdout",
     "output_type": "stream",
     "text": [
      "time elapsed - 00:00:39.69\n",
      "337  -----  84500  -----  84749\n"
     ]
    },
    {
     "name": "stderr",
     "output_type": "stream",
     "text": [
      "C:\\Users\\minio\\anaconda3\\envs\\tfm-py-37\\lib\\site-packages\\gensim\\topic_coherence\\direct_confirmation_measure.py:204: RuntimeWarning: divide by zero encountered in double_scalars\n",
      "  m_lr_i = np.log(numerator / denominator)\n",
      "C:\\Users\\minio\\anaconda3\\envs\\tfm-py-37\\lib\\site-packages\\gensim\\topic_coherence\\indirect_confirmation_measure.py:323: RuntimeWarning: invalid value encountered in double_scalars\n",
      "  return cv1.T.dot(cv2)[0, 0] / (_magnitude(cv1) * _magnitude(cv2))\n"
     ]
    },
    {
     "name": "stdout",
     "output_type": "stream",
     "text": [
      "time elapsed - 00:00:39.20\n",
      "338  -----  84750  -----  84999\n"
     ]
    },
    {
     "name": "stderr",
     "output_type": "stream",
     "text": [
      "C:\\Users\\minio\\anaconda3\\envs\\tfm-py-37\\lib\\site-packages\\gensim\\topic_coherence\\direct_confirmation_measure.py:204: RuntimeWarning: divide by zero encountered in double_scalars\n",
      "  m_lr_i = np.log(numerator / denominator)\n",
      "C:\\Users\\minio\\anaconda3\\envs\\tfm-py-37\\lib\\site-packages\\gensim\\topic_coherence\\indirect_confirmation_measure.py:323: RuntimeWarning: invalid value encountered in double_scalars\n",
      "  return cv1.T.dot(cv2)[0, 0] / (_magnitude(cv1) * _magnitude(cv2))\n"
     ]
    },
    {
     "name": "stdout",
     "output_type": "stream",
     "text": [
      "time elapsed - 00:00:36.38\n",
      "339  -----  85000  -----  85249\n"
     ]
    },
    {
     "name": "stderr",
     "output_type": "stream",
     "text": [
      "C:\\Users\\minio\\anaconda3\\envs\\tfm-py-37\\lib\\site-packages\\gensim\\topic_coherence\\direct_confirmation_measure.py:204: RuntimeWarning: divide by zero encountered in double_scalars\n",
      "  m_lr_i = np.log(numerator / denominator)\n",
      "C:\\Users\\minio\\anaconda3\\envs\\tfm-py-37\\lib\\site-packages\\gensim\\topic_coherence\\indirect_confirmation_measure.py:323: RuntimeWarning: invalid value encountered in double_scalars\n",
      "  return cv1.T.dot(cv2)[0, 0] / (_magnitude(cv1) * _magnitude(cv2))\n"
     ]
    },
    {
     "name": "stdout",
     "output_type": "stream",
     "text": [
      "time elapsed - 00:00:35.48\n",
      "340  -----  85250  -----  85499\n"
     ]
    },
    {
     "name": "stderr",
     "output_type": "stream",
     "text": [
      "C:\\Users\\minio\\anaconda3\\envs\\tfm-py-37\\lib\\site-packages\\gensim\\topic_coherence\\direct_confirmation_measure.py:204: RuntimeWarning: divide by zero encountered in double_scalars\n",
      "  m_lr_i = np.log(numerator / denominator)\n",
      "C:\\Users\\minio\\anaconda3\\envs\\tfm-py-37\\lib\\site-packages\\gensim\\topic_coherence\\indirect_confirmation_measure.py:323: RuntimeWarning: invalid value encountered in double_scalars\n",
      "  return cv1.T.dot(cv2)[0, 0] / (_magnitude(cv1) * _magnitude(cv2))\n"
     ]
    },
    {
     "name": "stdout",
     "output_type": "stream",
     "text": [
      "time elapsed - 00:00:37.61\n",
      "341  -----  85500  -----  85749\n"
     ]
    },
    {
     "name": "stderr",
     "output_type": "stream",
     "text": [
      "C:\\Users\\minio\\anaconda3\\envs\\tfm-py-37\\lib\\site-packages\\gensim\\topic_coherence\\direct_confirmation_measure.py:204: RuntimeWarning: divide by zero encountered in double_scalars\n",
      "  m_lr_i = np.log(numerator / denominator)\n",
      "C:\\Users\\minio\\anaconda3\\envs\\tfm-py-37\\lib\\site-packages\\gensim\\topic_coherence\\indirect_confirmation_measure.py:323: RuntimeWarning: invalid value encountered in double_scalars\n",
      "  return cv1.T.dot(cv2)[0, 0] / (_magnitude(cv1) * _magnitude(cv2))\n"
     ]
    },
    {
     "name": "stdout",
     "output_type": "stream",
     "text": [
      "time elapsed - 00:00:37.89\n",
      "342  -----  85750  -----  85999\n"
     ]
    },
    {
     "name": "stderr",
     "output_type": "stream",
     "text": [
      "C:\\Users\\minio\\anaconda3\\envs\\tfm-py-37\\lib\\site-packages\\gensim\\topic_coherence\\direct_confirmation_measure.py:204: RuntimeWarning: divide by zero encountered in double_scalars\n",
      "  m_lr_i = np.log(numerator / denominator)\n",
      "C:\\Users\\minio\\anaconda3\\envs\\tfm-py-37\\lib\\site-packages\\gensim\\topic_coherence\\indirect_confirmation_measure.py:323: RuntimeWarning: invalid value encountered in double_scalars\n",
      "  return cv1.T.dot(cv2)[0, 0] / (_magnitude(cv1) * _magnitude(cv2))\n"
     ]
    },
    {
     "name": "stdout",
     "output_type": "stream",
     "text": [
      "time elapsed - 00:00:34.54\n",
      "343  -----  86000  -----  86249\n",
      "time elapsed - 00:00:34.89\n",
      "344  -----  86250  -----  86499\n"
     ]
    },
    {
     "name": "stderr",
     "output_type": "stream",
     "text": [
      "C:\\Users\\minio\\anaconda3\\envs\\tfm-py-37\\lib\\site-packages\\gensim\\topic_coherence\\direct_confirmation_measure.py:204: RuntimeWarning: divide by zero encountered in double_scalars\n",
      "  m_lr_i = np.log(numerator / denominator)\n",
      "C:\\Users\\minio\\anaconda3\\envs\\tfm-py-37\\lib\\site-packages\\gensim\\topic_coherence\\indirect_confirmation_measure.py:323: RuntimeWarning: invalid value encountered in double_scalars\n",
      "  return cv1.T.dot(cv2)[0, 0] / (_magnitude(cv1) * _magnitude(cv2))\n"
     ]
    },
    {
     "name": "stdout",
     "output_type": "stream",
     "text": [
      "time elapsed - 00:00:38.59\n",
      "345  -----  86500  -----  86749\n"
     ]
    },
    {
     "name": "stderr",
     "output_type": "stream",
     "text": [
      "C:\\Users\\minio\\anaconda3\\envs\\tfm-py-37\\lib\\site-packages\\gensim\\topic_coherence\\direct_confirmation_measure.py:204: RuntimeWarning: divide by zero encountered in double_scalars\n",
      "  m_lr_i = np.log(numerator / denominator)\n",
      "C:\\Users\\minio\\anaconda3\\envs\\tfm-py-37\\lib\\site-packages\\gensim\\topic_coherence\\indirect_confirmation_measure.py:323: RuntimeWarning: invalid value encountered in double_scalars\n",
      "  return cv1.T.dot(cv2)[0, 0] / (_magnitude(cv1) * _magnitude(cv2))\n"
     ]
    },
    {
     "name": "stdout",
     "output_type": "stream",
     "text": [
      "time elapsed - 00:00:37.13\n",
      "346  -----  86750  -----  86999\n"
     ]
    },
    {
     "name": "stderr",
     "output_type": "stream",
     "text": [
      "C:\\Users\\minio\\anaconda3\\envs\\tfm-py-37\\lib\\site-packages\\gensim\\topic_coherence\\direct_confirmation_measure.py:204: RuntimeWarning: divide by zero encountered in double_scalars\n",
      "  m_lr_i = np.log(numerator / denominator)\n",
      "C:\\Users\\minio\\anaconda3\\envs\\tfm-py-37\\lib\\site-packages\\gensim\\topic_coherence\\indirect_confirmation_measure.py:323: RuntimeWarning: invalid value encountered in double_scalars\n",
      "  return cv1.T.dot(cv2)[0, 0] / (_magnitude(cv1) * _magnitude(cv2))\n"
     ]
    },
    {
     "name": "stdout",
     "output_type": "stream",
     "text": [
      "time elapsed - 00:00:37.90\n",
      "347  -----  87000  -----  87249\n"
     ]
    },
    {
     "name": "stderr",
     "output_type": "stream",
     "text": [
      "C:\\Users\\minio\\anaconda3\\envs\\tfm-py-37\\lib\\site-packages\\gensim\\topic_coherence\\direct_confirmation_measure.py:204: RuntimeWarning: divide by zero encountered in double_scalars\n",
      "  m_lr_i = np.log(numerator / denominator)\n",
      "C:\\Users\\minio\\anaconda3\\envs\\tfm-py-37\\lib\\site-packages\\gensim\\topic_coherence\\indirect_confirmation_measure.py:323: RuntimeWarning: invalid value encountered in double_scalars\n",
      "  return cv1.T.dot(cv2)[0, 0] / (_magnitude(cv1) * _magnitude(cv2))\n"
     ]
    },
    {
     "name": "stdout",
     "output_type": "stream",
     "text": [
      "time elapsed - 00:00:36.77\n",
      "348  -----  87250  -----  87499\n",
      "time elapsed - 00:00:36.92\n",
      "349  -----  87500  -----  87749\n",
      "time elapsed - 00:00:34.79\n",
      "350  -----  87750  -----  87999\n"
     ]
    },
    {
     "name": "stderr",
     "output_type": "stream",
     "text": [
      "C:\\Users\\minio\\anaconda3\\envs\\tfm-py-37\\lib\\site-packages\\gensim\\topic_coherence\\direct_confirmation_measure.py:204: RuntimeWarning: divide by zero encountered in double_scalars\n",
      "  m_lr_i = np.log(numerator / denominator)\n",
      "C:\\Users\\minio\\anaconda3\\envs\\tfm-py-37\\lib\\site-packages\\gensim\\topic_coherence\\indirect_confirmation_measure.py:323: RuntimeWarning: invalid value encountered in double_scalars\n",
      "  return cv1.T.dot(cv2)[0, 0] / (_magnitude(cv1) * _magnitude(cv2))\n"
     ]
    },
    {
     "name": "stdout",
     "output_type": "stream",
     "text": [
      "time elapsed - 00:00:35.21\n",
      "351  -----  88000  -----  88249\n"
     ]
    },
    {
     "name": "stderr",
     "output_type": "stream",
     "text": [
      "C:\\Users\\minio\\anaconda3\\envs\\tfm-py-37\\lib\\site-packages\\gensim\\topic_coherence\\direct_confirmation_measure.py:204: RuntimeWarning: divide by zero encountered in double_scalars\n",
      "  m_lr_i = np.log(numerator / denominator)\n",
      "C:\\Users\\minio\\anaconda3\\envs\\tfm-py-37\\lib\\site-packages\\gensim\\topic_coherence\\indirect_confirmation_measure.py:323: RuntimeWarning: invalid value encountered in double_scalars\n",
      "  return cv1.T.dot(cv2)[0, 0] / (_magnitude(cv1) * _magnitude(cv2))\n"
     ]
    },
    {
     "name": "stdout",
     "output_type": "stream",
     "text": [
      "time elapsed - 00:00:35.15\n",
      "352  -----  88250  -----  88499\n",
      "time elapsed - 00:00:36.51\n",
      "353  -----  88500  -----  88749\n"
     ]
    },
    {
     "name": "stderr",
     "output_type": "stream",
     "text": [
      "C:\\Users\\minio\\anaconda3\\envs\\tfm-py-37\\lib\\site-packages\\gensim\\topic_coherence\\direct_confirmation_measure.py:204: RuntimeWarning: divide by zero encountered in double_scalars\n",
      "  m_lr_i = np.log(numerator / denominator)\n",
      "C:\\Users\\minio\\anaconda3\\envs\\tfm-py-37\\lib\\site-packages\\gensim\\topic_coherence\\indirect_confirmation_measure.py:323: RuntimeWarning: invalid value encountered in double_scalars\n",
      "  return cv1.T.dot(cv2)[0, 0] / (_magnitude(cv1) * _magnitude(cv2))\n"
     ]
    },
    {
     "name": "stdout",
     "output_type": "stream",
     "text": [
      "time elapsed - 00:00:34.97\n",
      "354  -----  88750  -----  88999\n"
     ]
    },
    {
     "name": "stderr",
     "output_type": "stream",
     "text": [
      "C:\\Users\\minio\\anaconda3\\envs\\tfm-py-37\\lib\\site-packages\\gensim\\topic_coherence\\direct_confirmation_measure.py:204: RuntimeWarning: divide by zero encountered in double_scalars\n",
      "  m_lr_i = np.log(numerator / denominator)\n",
      "C:\\Users\\minio\\anaconda3\\envs\\tfm-py-37\\lib\\site-packages\\gensim\\topic_coherence\\indirect_confirmation_measure.py:323: RuntimeWarning: invalid value encountered in double_scalars\n",
      "  return cv1.T.dot(cv2)[0, 0] / (_magnitude(cv1) * _magnitude(cv2))\n"
     ]
    },
    {
     "name": "stdout",
     "output_type": "stream",
     "text": [
      "time elapsed - 00:00:35.27\n",
      "355  -----  89000  -----  89249\n",
      "time elapsed - 00:00:35.99\n",
      "356  -----  89250  -----  89499\n"
     ]
    },
    {
     "name": "stderr",
     "output_type": "stream",
     "text": [
      "C:\\Users\\minio\\anaconda3\\envs\\tfm-py-37\\lib\\site-packages\\gensim\\topic_coherence\\direct_confirmation_measure.py:204: RuntimeWarning: divide by zero encountered in double_scalars\n",
      "  m_lr_i = np.log(numerator / denominator)\n",
      "C:\\Users\\minio\\anaconda3\\envs\\tfm-py-37\\lib\\site-packages\\gensim\\topic_coherence\\indirect_confirmation_measure.py:323: RuntimeWarning: invalid value encountered in double_scalars\n",
      "  return cv1.T.dot(cv2)[0, 0] / (_magnitude(cv1) * _magnitude(cv2))\n"
     ]
    },
    {
     "name": "stdout",
     "output_type": "stream",
     "text": [
      "time elapsed - 00:00:36.03\n",
      "357  -----  89500  -----  89749\n"
     ]
    },
    {
     "name": "stderr",
     "output_type": "stream",
     "text": [
      "C:\\Users\\minio\\anaconda3\\envs\\tfm-py-37\\lib\\site-packages\\gensim\\topic_coherence\\direct_confirmation_measure.py:204: RuntimeWarning: divide by zero encountered in double_scalars\n",
      "  m_lr_i = np.log(numerator / denominator)\n",
      "C:\\Users\\minio\\anaconda3\\envs\\tfm-py-37\\lib\\site-packages\\gensim\\topic_coherence\\indirect_confirmation_measure.py:323: RuntimeWarning: invalid value encountered in double_scalars\n",
      "  return cv1.T.dot(cv2)[0, 0] / (_magnitude(cv1) * _magnitude(cv2))\n"
     ]
    },
    {
     "name": "stdout",
     "output_type": "stream",
     "text": [
      "time elapsed - 00:00:35.57\n",
      "358  -----  89750  -----  89999\n"
     ]
    },
    {
     "name": "stderr",
     "output_type": "stream",
     "text": [
      "C:\\Users\\minio\\anaconda3\\envs\\tfm-py-37\\lib\\site-packages\\gensim\\topic_coherence\\direct_confirmation_measure.py:204: RuntimeWarning: divide by zero encountered in double_scalars\n",
      "  m_lr_i = np.log(numerator / denominator)\n",
      "C:\\Users\\minio\\anaconda3\\envs\\tfm-py-37\\lib\\site-packages\\gensim\\topic_coherence\\indirect_confirmation_measure.py:323: RuntimeWarning: invalid value encountered in double_scalars\n",
      "  return cv1.T.dot(cv2)[0, 0] / (_magnitude(cv1) * _magnitude(cv2))\n"
     ]
    },
    {
     "name": "stdout",
     "output_type": "stream",
     "text": [
      "time elapsed - 00:00:34.52\n",
      "359  -----  90000  -----  90249\n"
     ]
    },
    {
     "name": "stderr",
     "output_type": "stream",
     "text": [
      "C:\\Users\\minio\\anaconda3\\envs\\tfm-py-37\\lib\\site-packages\\gensim\\topic_coherence\\direct_confirmation_measure.py:204: RuntimeWarning: divide by zero encountered in double_scalars\n",
      "  m_lr_i = np.log(numerator / denominator)\n",
      "C:\\Users\\minio\\anaconda3\\envs\\tfm-py-37\\lib\\site-packages\\gensim\\topic_coherence\\indirect_confirmation_measure.py:323: RuntimeWarning: invalid value encountered in double_scalars\n",
      "  return cv1.T.dot(cv2)[0, 0] / (_magnitude(cv1) * _magnitude(cv2))\n"
     ]
    },
    {
     "name": "stdout",
     "output_type": "stream",
     "text": [
      "time elapsed - 00:00:34.48\n",
      "360  -----  90250  -----  90499\n"
     ]
    },
    {
     "name": "stderr",
     "output_type": "stream",
     "text": [
      "C:\\Users\\minio\\anaconda3\\envs\\tfm-py-37\\lib\\site-packages\\gensim\\topic_coherence\\direct_confirmation_measure.py:204: RuntimeWarning: divide by zero encountered in double_scalars\n",
      "  m_lr_i = np.log(numerator / denominator)\n",
      "C:\\Users\\minio\\anaconda3\\envs\\tfm-py-37\\lib\\site-packages\\gensim\\topic_coherence\\indirect_confirmation_measure.py:323: RuntimeWarning: invalid value encountered in double_scalars\n",
      "  return cv1.T.dot(cv2)[0, 0] / (_magnitude(cv1) * _magnitude(cv2))\n"
     ]
    },
    {
     "name": "stdout",
     "output_type": "stream",
     "text": [
      "time elapsed - 00:00:35.04\n",
      "361  -----  90500  -----  90749\n"
     ]
    },
    {
     "name": "stderr",
     "output_type": "stream",
     "text": [
      "C:\\Users\\minio\\anaconda3\\envs\\tfm-py-37\\lib\\site-packages\\gensim\\topic_coherence\\direct_confirmation_measure.py:204: RuntimeWarning: divide by zero encountered in double_scalars\n",
      "  m_lr_i = np.log(numerator / denominator)\n",
      "C:\\Users\\minio\\anaconda3\\envs\\tfm-py-37\\lib\\site-packages\\gensim\\topic_coherence\\indirect_confirmation_measure.py:323: RuntimeWarning: invalid value encountered in double_scalars\n",
      "  return cv1.T.dot(cv2)[0, 0] / (_magnitude(cv1) * _magnitude(cv2))\n"
     ]
    },
    {
     "name": "stdout",
     "output_type": "stream",
     "text": [
      "time elapsed - 00:00:33.92\n",
      "362  -----  90750  -----  90999\n"
     ]
    },
    {
     "name": "stderr",
     "output_type": "stream",
     "text": [
      "C:\\Users\\minio\\anaconda3\\envs\\tfm-py-37\\lib\\site-packages\\gensim\\topic_coherence\\direct_confirmation_measure.py:204: RuntimeWarning: divide by zero encountered in double_scalars\n",
      "  m_lr_i = np.log(numerator / denominator)\n",
      "C:\\Users\\minio\\anaconda3\\envs\\tfm-py-37\\lib\\site-packages\\gensim\\topic_coherence\\indirect_confirmation_measure.py:323: RuntimeWarning: invalid value encountered in double_scalars\n",
      "  return cv1.T.dot(cv2)[0, 0] / (_magnitude(cv1) * _magnitude(cv2))\n"
     ]
    },
    {
     "name": "stdout",
     "output_type": "stream",
     "text": [
      "time elapsed - 00:00:35.77\n",
      "363  -----  91000  -----  91249\n"
     ]
    },
    {
     "name": "stderr",
     "output_type": "stream",
     "text": [
      "C:\\Users\\minio\\anaconda3\\envs\\tfm-py-37\\lib\\site-packages\\gensim\\topic_coherence\\direct_confirmation_measure.py:204: RuntimeWarning: divide by zero encountered in double_scalars\n",
      "  m_lr_i = np.log(numerator / denominator)\n",
      "C:\\Users\\minio\\anaconda3\\envs\\tfm-py-37\\lib\\site-packages\\gensim\\topic_coherence\\indirect_confirmation_measure.py:323: RuntimeWarning: invalid value encountered in double_scalars\n",
      "  return cv1.T.dot(cv2)[0, 0] / (_magnitude(cv1) * _magnitude(cv2))\n"
     ]
    },
    {
     "name": "stdout",
     "output_type": "stream",
     "text": [
      "time elapsed - 00:00:36.31\n",
      "364  -----  91250  -----  91499\n"
     ]
    },
    {
     "name": "stderr",
     "output_type": "stream",
     "text": [
      "C:\\Users\\minio\\anaconda3\\envs\\tfm-py-37\\lib\\site-packages\\gensim\\topic_coherence\\direct_confirmation_measure.py:204: RuntimeWarning: divide by zero encountered in double_scalars\n",
      "  m_lr_i = np.log(numerator / denominator)\n",
      "C:\\Users\\minio\\anaconda3\\envs\\tfm-py-37\\lib\\site-packages\\gensim\\topic_coherence\\indirect_confirmation_measure.py:323: RuntimeWarning: invalid value encountered in double_scalars\n",
      "  return cv1.T.dot(cv2)[0, 0] / (_magnitude(cv1) * _magnitude(cv2))\n"
     ]
    },
    {
     "name": "stdout",
     "output_type": "stream",
     "text": [
      "time elapsed - 00:00:37.26\n",
      "365  -----  91500  -----  91749\n",
      "time elapsed - 00:00:38.16\n",
      "366  -----  91750  -----  91999\n",
      "time elapsed - 00:00:37.67\n",
      "367  -----  92000  -----  92249\n"
     ]
    },
    {
     "name": "stderr",
     "output_type": "stream",
     "text": [
      "C:\\Users\\minio\\anaconda3\\envs\\tfm-py-37\\lib\\site-packages\\gensim\\topic_coherence\\direct_confirmation_measure.py:204: RuntimeWarning: divide by zero encountered in double_scalars\n",
      "  m_lr_i = np.log(numerator / denominator)\n",
      "C:\\Users\\minio\\anaconda3\\envs\\tfm-py-37\\lib\\site-packages\\gensim\\topic_coherence\\indirect_confirmation_measure.py:323: RuntimeWarning: invalid value encountered in double_scalars\n",
      "  return cv1.T.dot(cv2)[0, 0] / (_magnitude(cv1) * _magnitude(cv2))\n"
     ]
    },
    {
     "name": "stdout",
     "output_type": "stream",
     "text": [
      "time elapsed - 00:00:33.41\n",
      "368  -----  92250  -----  92499\n"
     ]
    },
    {
     "name": "stderr",
     "output_type": "stream",
     "text": [
      "C:\\Users\\minio\\anaconda3\\envs\\tfm-py-37\\lib\\site-packages\\gensim\\topic_coherence\\direct_confirmation_measure.py:204: RuntimeWarning: divide by zero encountered in double_scalars\n",
      "  m_lr_i = np.log(numerator / denominator)\n",
      "C:\\Users\\minio\\anaconda3\\envs\\tfm-py-37\\lib\\site-packages\\gensim\\topic_coherence\\indirect_confirmation_measure.py:323: RuntimeWarning: invalid value encountered in double_scalars\n",
      "  return cv1.T.dot(cv2)[0, 0] / (_magnitude(cv1) * _magnitude(cv2))\n"
     ]
    },
    {
     "name": "stdout",
     "output_type": "stream",
     "text": [
      "time elapsed - 00:00:33.55\n",
      "369  -----  92500  -----  92749\n"
     ]
    },
    {
     "name": "stderr",
     "output_type": "stream",
     "text": [
      "C:\\Users\\minio\\anaconda3\\envs\\tfm-py-37\\lib\\site-packages\\gensim\\topic_coherence\\direct_confirmation_measure.py:204: RuntimeWarning: divide by zero encountered in double_scalars\n",
      "  m_lr_i = np.log(numerator / denominator)\n",
      "C:\\Users\\minio\\anaconda3\\envs\\tfm-py-37\\lib\\site-packages\\gensim\\topic_coherence\\indirect_confirmation_measure.py:323: RuntimeWarning: invalid value encountered in double_scalars\n",
      "  return cv1.T.dot(cv2)[0, 0] / (_magnitude(cv1) * _magnitude(cv2))\n"
     ]
    },
    {
     "name": "stdout",
     "output_type": "stream",
     "text": [
      "time elapsed - 00:00:35.93\n",
      "370  -----  92750  -----  92999\n",
      "time elapsed - 00:00:36.29\n",
      "371  -----  93000  -----  93249\n"
     ]
    },
    {
     "name": "stderr",
     "output_type": "stream",
     "text": [
      "C:\\Users\\minio\\anaconda3\\envs\\tfm-py-37\\lib\\site-packages\\gensim\\topic_coherence\\direct_confirmation_measure.py:204: RuntimeWarning: divide by zero encountered in double_scalars\n",
      "  m_lr_i = np.log(numerator / denominator)\n",
      "C:\\Users\\minio\\anaconda3\\envs\\tfm-py-37\\lib\\site-packages\\gensim\\topic_coherence\\indirect_confirmation_measure.py:323: RuntimeWarning: invalid value encountered in double_scalars\n",
      "  return cv1.T.dot(cv2)[0, 0] / (_magnitude(cv1) * _magnitude(cv2))\n"
     ]
    },
    {
     "name": "stdout",
     "output_type": "stream",
     "text": [
      "time elapsed - 00:00:36.07\n",
      "372  -----  93250  -----  93499\n"
     ]
    },
    {
     "name": "stderr",
     "output_type": "stream",
     "text": [
      "C:\\Users\\minio\\anaconda3\\envs\\tfm-py-37\\lib\\site-packages\\gensim\\topic_coherence\\direct_confirmation_measure.py:204: RuntimeWarning: divide by zero encountered in double_scalars\n",
      "  m_lr_i = np.log(numerator / denominator)\n",
      "C:\\Users\\minio\\anaconda3\\envs\\tfm-py-37\\lib\\site-packages\\gensim\\topic_coherence\\indirect_confirmation_measure.py:323: RuntimeWarning: invalid value encountered in double_scalars\n",
      "  return cv1.T.dot(cv2)[0, 0] / (_magnitude(cv1) * _magnitude(cv2))\n"
     ]
    },
    {
     "name": "stdout",
     "output_type": "stream",
     "text": [
      "time elapsed - 00:00:38.05\n",
      "373  -----  93500  -----  93749\n"
     ]
    },
    {
     "name": "stderr",
     "output_type": "stream",
     "text": [
      "C:\\Users\\minio\\anaconda3\\envs\\tfm-py-37\\lib\\site-packages\\gensim\\topic_coherence\\direct_confirmation_measure.py:204: RuntimeWarning: divide by zero encountered in double_scalars\n",
      "  m_lr_i = np.log(numerator / denominator)\n",
      "C:\\Users\\minio\\anaconda3\\envs\\tfm-py-37\\lib\\site-packages\\gensim\\topic_coherence\\indirect_confirmation_measure.py:323: RuntimeWarning: invalid value encountered in double_scalars\n",
      "  return cv1.T.dot(cv2)[0, 0] / (_magnitude(cv1) * _magnitude(cv2))\n"
     ]
    },
    {
     "name": "stdout",
     "output_type": "stream",
     "text": [
      "time elapsed - 00:00:36.51\n",
      "374  -----  93750  -----  93999\n",
      "time elapsed - 00:00:34.89\n",
      "375  -----  94000  -----  94249\n"
     ]
    },
    {
     "name": "stderr",
     "output_type": "stream",
     "text": [
      "C:\\Users\\minio\\anaconda3\\envs\\tfm-py-37\\lib\\site-packages\\gensim\\topic_coherence\\direct_confirmation_measure.py:204: RuntimeWarning: divide by zero encountered in double_scalars\n",
      "  m_lr_i = np.log(numerator / denominator)\n",
      "C:\\Users\\minio\\anaconda3\\envs\\tfm-py-37\\lib\\site-packages\\gensim\\topic_coherence\\indirect_confirmation_measure.py:323: RuntimeWarning: invalid value encountered in double_scalars\n",
      "  return cv1.T.dot(cv2)[0, 0] / (_magnitude(cv1) * _magnitude(cv2))\n"
     ]
    },
    {
     "name": "stdout",
     "output_type": "stream",
     "text": [
      "time elapsed - 00:00:35.84\n",
      "376  -----  94250  -----  94499\n"
     ]
    },
    {
     "name": "stderr",
     "output_type": "stream",
     "text": [
      "C:\\Users\\minio\\anaconda3\\envs\\tfm-py-37\\lib\\site-packages\\gensim\\topic_coherence\\direct_confirmation_measure.py:204: RuntimeWarning: divide by zero encountered in double_scalars\n",
      "  m_lr_i = np.log(numerator / denominator)\n",
      "C:\\Users\\minio\\anaconda3\\envs\\tfm-py-37\\lib\\site-packages\\gensim\\topic_coherence\\indirect_confirmation_measure.py:323: RuntimeWarning: invalid value encountered in double_scalars\n",
      "  return cv1.T.dot(cv2)[0, 0] / (_magnitude(cv1) * _magnitude(cv2))\n"
     ]
    },
    {
     "name": "stdout",
     "output_type": "stream",
     "text": [
      "time elapsed - 00:00:36.39\n",
      "377  -----  94500  -----  94749\n"
     ]
    },
    {
     "name": "stderr",
     "output_type": "stream",
     "text": [
      "C:\\Users\\minio\\anaconda3\\envs\\tfm-py-37\\lib\\site-packages\\gensim\\topic_coherence\\direct_confirmation_measure.py:204: RuntimeWarning: divide by zero encountered in double_scalars\n",
      "  m_lr_i = np.log(numerator / denominator)\n",
      "C:\\Users\\minio\\anaconda3\\envs\\tfm-py-37\\lib\\site-packages\\gensim\\topic_coherence\\indirect_confirmation_measure.py:323: RuntimeWarning: invalid value encountered in double_scalars\n",
      "  return cv1.T.dot(cv2)[0, 0] / (_magnitude(cv1) * _magnitude(cv2))\n"
     ]
    },
    {
     "name": "stdout",
     "output_type": "stream",
     "text": [
      "time elapsed - 00:00:36.17\n",
      "378  -----  94750  -----  94999\n"
     ]
    },
    {
     "name": "stderr",
     "output_type": "stream",
     "text": [
      "C:\\Users\\minio\\anaconda3\\envs\\tfm-py-37\\lib\\site-packages\\gensim\\topic_coherence\\direct_confirmation_measure.py:204: RuntimeWarning: divide by zero encountered in double_scalars\n",
      "  m_lr_i = np.log(numerator / denominator)\n",
      "C:\\Users\\minio\\anaconda3\\envs\\tfm-py-37\\lib\\site-packages\\gensim\\topic_coherence\\indirect_confirmation_measure.py:323: RuntimeWarning: invalid value encountered in double_scalars\n",
      "  return cv1.T.dot(cv2)[0, 0] / (_magnitude(cv1) * _magnitude(cv2))\n"
     ]
    },
    {
     "name": "stdout",
     "output_type": "stream",
     "text": [
      "time elapsed - 00:00:36.13\n",
      "379  -----  95000  -----  95249\n",
      "time elapsed - 00:00:36.76\n",
      "380  -----  95250  -----  95499\n"
     ]
    },
    {
     "name": "stderr",
     "output_type": "stream",
     "text": [
      "C:\\Users\\minio\\anaconda3\\envs\\tfm-py-37\\lib\\site-packages\\gensim\\topic_coherence\\direct_confirmation_measure.py:204: RuntimeWarning: divide by zero encountered in double_scalars\n",
      "  m_lr_i = np.log(numerator / denominator)\n",
      "C:\\Users\\minio\\anaconda3\\envs\\tfm-py-37\\lib\\site-packages\\gensim\\topic_coherence\\indirect_confirmation_measure.py:323: RuntimeWarning: invalid value encountered in double_scalars\n",
      "  return cv1.T.dot(cv2)[0, 0] / (_magnitude(cv1) * _magnitude(cv2))\n"
     ]
    },
    {
     "name": "stdout",
     "output_type": "stream",
     "text": [
      "time elapsed - 00:00:35.70\n",
      "381  -----  95500  -----  95749\n"
     ]
    },
    {
     "name": "stderr",
     "output_type": "stream",
     "text": [
      "C:\\Users\\minio\\anaconda3\\envs\\tfm-py-37\\lib\\site-packages\\gensim\\topic_coherence\\direct_confirmation_measure.py:204: RuntimeWarning: divide by zero encountered in double_scalars\n",
      "  m_lr_i = np.log(numerator / denominator)\n",
      "C:\\Users\\minio\\anaconda3\\envs\\tfm-py-37\\lib\\site-packages\\gensim\\topic_coherence\\indirect_confirmation_measure.py:323: RuntimeWarning: invalid value encountered in double_scalars\n",
      "  return cv1.T.dot(cv2)[0, 0] / (_magnitude(cv1) * _magnitude(cv2))\n"
     ]
    },
    {
     "name": "stdout",
     "output_type": "stream",
     "text": [
      "time elapsed - 00:00:37.84\n",
      "382  -----  95750  -----  95999\n"
     ]
    },
    {
     "name": "stderr",
     "output_type": "stream",
     "text": [
      "C:\\Users\\minio\\anaconda3\\envs\\tfm-py-37\\lib\\site-packages\\gensim\\topic_coherence\\direct_confirmation_measure.py:204: RuntimeWarning: divide by zero encountered in double_scalars\n",
      "  m_lr_i = np.log(numerator / denominator)\n",
      "C:\\Users\\minio\\anaconda3\\envs\\tfm-py-37\\lib\\site-packages\\gensim\\topic_coherence\\indirect_confirmation_measure.py:323: RuntimeWarning: invalid value encountered in double_scalars\n",
      "  return cv1.T.dot(cv2)[0, 0] / (_magnitude(cv1) * _magnitude(cv2))\n"
     ]
    },
    {
     "name": "stdout",
     "output_type": "stream",
     "text": [
      "time elapsed - 00:00:34.83\n",
      "383  -----  96000  -----  96249\n"
     ]
    },
    {
     "name": "stderr",
     "output_type": "stream",
     "text": [
      "C:\\Users\\minio\\anaconda3\\envs\\tfm-py-37\\lib\\site-packages\\gensim\\topic_coherence\\direct_confirmation_measure.py:204: RuntimeWarning: divide by zero encountered in double_scalars\n",
      "  m_lr_i = np.log(numerator / denominator)\n",
      "C:\\Users\\minio\\anaconda3\\envs\\tfm-py-37\\lib\\site-packages\\gensim\\topic_coherence\\indirect_confirmation_measure.py:323: RuntimeWarning: invalid value encountered in double_scalars\n",
      "  return cv1.T.dot(cv2)[0, 0] / (_magnitude(cv1) * _magnitude(cv2))\n"
     ]
    },
    {
     "name": "stdout",
     "output_type": "stream",
     "text": [
      "time elapsed - 00:00:35.89\n",
      "384  -----  96250  -----  96499\n"
     ]
    },
    {
     "name": "stderr",
     "output_type": "stream",
     "text": [
      "C:\\Users\\minio\\anaconda3\\envs\\tfm-py-37\\lib\\site-packages\\gensim\\topic_coherence\\direct_confirmation_measure.py:204: RuntimeWarning: divide by zero encountered in double_scalars\n",
      "  m_lr_i = np.log(numerator / denominator)\n",
      "C:\\Users\\minio\\anaconda3\\envs\\tfm-py-37\\lib\\site-packages\\gensim\\topic_coherence\\indirect_confirmation_measure.py:323: RuntimeWarning: invalid value encountered in double_scalars\n",
      "  return cv1.T.dot(cv2)[0, 0] / (_magnitude(cv1) * _magnitude(cv2))\n"
     ]
    },
    {
     "name": "stdout",
     "output_type": "stream",
     "text": [
      "time elapsed - 00:00:34.02\n",
      "385  -----  96500  -----  96749\n",
      "time elapsed - 00:00:34.65\n",
      "386  -----  96750  -----  96999\n"
     ]
    },
    {
     "name": "stderr",
     "output_type": "stream",
     "text": [
      "C:\\Users\\minio\\anaconda3\\envs\\tfm-py-37\\lib\\site-packages\\gensim\\topic_coherence\\direct_confirmation_measure.py:204: RuntimeWarning: divide by zero encountered in double_scalars\n",
      "  m_lr_i = np.log(numerator / denominator)\n",
      "C:\\Users\\minio\\anaconda3\\envs\\tfm-py-37\\lib\\site-packages\\gensim\\topic_coherence\\indirect_confirmation_measure.py:323: RuntimeWarning: invalid value encountered in double_scalars\n",
      "  return cv1.T.dot(cv2)[0, 0] / (_magnitude(cv1) * _magnitude(cv2))\n"
     ]
    },
    {
     "name": "stdout",
     "output_type": "stream",
     "text": [
      "time elapsed - 00:00:36.66\n",
      "387  -----  97000  -----  97249\n"
     ]
    },
    {
     "name": "stderr",
     "output_type": "stream",
     "text": [
      "C:\\Users\\minio\\anaconda3\\envs\\tfm-py-37\\lib\\site-packages\\gensim\\topic_coherence\\direct_confirmation_measure.py:204: RuntimeWarning: divide by zero encountered in double_scalars\n",
      "  m_lr_i = np.log(numerator / denominator)\n",
      "C:\\Users\\minio\\anaconda3\\envs\\tfm-py-37\\lib\\site-packages\\gensim\\topic_coherence\\indirect_confirmation_measure.py:323: RuntimeWarning: invalid value encountered in double_scalars\n",
      "  return cv1.T.dot(cv2)[0, 0] / (_magnitude(cv1) * _magnitude(cv2))\n"
     ]
    },
    {
     "name": "stdout",
     "output_type": "stream",
     "text": [
      "time elapsed - 00:00:36.10\n",
      "388  -----  97250  -----  97499\n"
     ]
    },
    {
     "name": "stderr",
     "output_type": "stream",
     "text": [
      "C:\\Users\\minio\\anaconda3\\envs\\tfm-py-37\\lib\\site-packages\\gensim\\topic_coherence\\direct_confirmation_measure.py:204: RuntimeWarning: divide by zero encountered in double_scalars\n",
      "  m_lr_i = np.log(numerator / denominator)\n",
      "C:\\Users\\minio\\anaconda3\\envs\\tfm-py-37\\lib\\site-packages\\gensim\\topic_coherence\\indirect_confirmation_measure.py:323: RuntimeWarning: invalid value encountered in double_scalars\n",
      "  return cv1.T.dot(cv2)[0, 0] / (_magnitude(cv1) * _magnitude(cv2))\n"
     ]
    },
    {
     "name": "stdout",
     "output_type": "stream",
     "text": [
      "time elapsed - 00:00:36.87\n",
      "389  -----  97500  -----  97749\n"
     ]
    },
    {
     "name": "stderr",
     "output_type": "stream",
     "text": [
      "C:\\Users\\minio\\anaconda3\\envs\\tfm-py-37\\lib\\site-packages\\gensim\\topic_coherence\\direct_confirmation_measure.py:204: RuntimeWarning: divide by zero encountered in double_scalars\n",
      "  m_lr_i = np.log(numerator / denominator)\n",
      "C:\\Users\\minio\\anaconda3\\envs\\tfm-py-37\\lib\\site-packages\\gensim\\topic_coherence\\indirect_confirmation_measure.py:323: RuntimeWarning: invalid value encountered in double_scalars\n",
      "  return cv1.T.dot(cv2)[0, 0] / (_magnitude(cv1) * _magnitude(cv2))\n"
     ]
    },
    {
     "name": "stdout",
     "output_type": "stream",
     "text": [
      "time elapsed - 00:00:38.46\n",
      "390  -----  97750  -----  97999\n"
     ]
    },
    {
     "name": "stderr",
     "output_type": "stream",
     "text": [
      "C:\\Users\\minio\\anaconda3\\envs\\tfm-py-37\\lib\\site-packages\\gensim\\topic_coherence\\direct_confirmation_measure.py:204: RuntimeWarning: divide by zero encountered in double_scalars\n",
      "  m_lr_i = np.log(numerator / denominator)\n",
      "C:\\Users\\minio\\anaconda3\\envs\\tfm-py-37\\lib\\site-packages\\gensim\\topic_coherence\\indirect_confirmation_measure.py:323: RuntimeWarning: invalid value encountered in double_scalars\n",
      "  return cv1.T.dot(cv2)[0, 0] / (_magnitude(cv1) * _magnitude(cv2))\n"
     ]
    },
    {
     "name": "stdout",
     "output_type": "stream",
     "text": [
      "time elapsed - 00:00:34.44\n",
      "391  -----  98000  -----  98249\n"
     ]
    },
    {
     "name": "stderr",
     "output_type": "stream",
     "text": [
      "C:\\Users\\minio\\anaconda3\\envs\\tfm-py-37\\lib\\site-packages\\gensim\\topic_coherence\\direct_confirmation_measure.py:204: RuntimeWarning: divide by zero encountered in double_scalars\n",
      "  m_lr_i = np.log(numerator / denominator)\n",
      "C:\\Users\\minio\\anaconda3\\envs\\tfm-py-37\\lib\\site-packages\\gensim\\topic_coherence\\indirect_confirmation_measure.py:323: RuntimeWarning: invalid value encountered in double_scalars\n",
      "  return cv1.T.dot(cv2)[0, 0] / (_magnitude(cv1) * _magnitude(cv2))\n"
     ]
    },
    {
     "name": "stdout",
     "output_type": "stream",
     "text": [
      "time elapsed - 00:00:33.41\n",
      "392  -----  98250  -----  98499\n"
     ]
    },
    {
     "name": "stderr",
     "output_type": "stream",
     "text": [
      "C:\\Users\\minio\\anaconda3\\envs\\tfm-py-37\\lib\\site-packages\\gensim\\topic_coherence\\direct_confirmation_measure.py:204: RuntimeWarning: divide by zero encountered in double_scalars\n",
      "  m_lr_i = np.log(numerator / denominator)\n",
      "C:\\Users\\minio\\anaconda3\\envs\\tfm-py-37\\lib\\site-packages\\gensim\\topic_coherence\\indirect_confirmation_measure.py:323: RuntimeWarning: invalid value encountered in double_scalars\n",
      "  return cv1.T.dot(cv2)[0, 0] / (_magnitude(cv1) * _magnitude(cv2))\n"
     ]
    },
    {
     "name": "stdout",
     "output_type": "stream",
     "text": [
      "time elapsed - 00:00:32.31\n",
      "393  -----  98500  -----  98749\n"
     ]
    },
    {
     "name": "stderr",
     "output_type": "stream",
     "text": [
      "C:\\Users\\minio\\anaconda3\\envs\\tfm-py-37\\lib\\site-packages\\gensim\\topic_coherence\\direct_confirmation_measure.py:204: RuntimeWarning: divide by zero encountered in double_scalars\n",
      "  m_lr_i = np.log(numerator / denominator)\n",
      "C:\\Users\\minio\\anaconda3\\envs\\tfm-py-37\\lib\\site-packages\\gensim\\topic_coherence\\indirect_confirmation_measure.py:323: RuntimeWarning: invalid value encountered in double_scalars\n",
      "  return cv1.T.dot(cv2)[0, 0] / (_magnitude(cv1) * _magnitude(cv2))\n"
     ]
    },
    {
     "name": "stdout",
     "output_type": "stream",
     "text": [
      "time elapsed - 00:00:32.16\n",
      "394  -----  98750  -----  98999\n"
     ]
    },
    {
     "name": "stderr",
     "output_type": "stream",
     "text": [
      "C:\\Users\\minio\\anaconda3\\envs\\tfm-py-37\\lib\\site-packages\\gensim\\topic_coherence\\direct_confirmation_measure.py:204: RuntimeWarning: divide by zero encountered in double_scalars\n",
      "  m_lr_i = np.log(numerator / denominator)\n",
      "C:\\Users\\minio\\anaconda3\\envs\\tfm-py-37\\lib\\site-packages\\gensim\\topic_coherence\\indirect_confirmation_measure.py:323: RuntimeWarning: invalid value encountered in double_scalars\n",
      "  return cv1.T.dot(cv2)[0, 0] / (_magnitude(cv1) * _magnitude(cv2))\n"
     ]
    },
    {
     "name": "stdout",
     "output_type": "stream",
     "text": [
      "time elapsed - 00:00:31.20\n",
      "395  -----  99000  -----  99249\n"
     ]
    },
    {
     "name": "stderr",
     "output_type": "stream",
     "text": [
      "C:\\Users\\minio\\anaconda3\\envs\\tfm-py-37\\lib\\site-packages\\gensim\\topic_coherence\\direct_confirmation_measure.py:204: RuntimeWarning: divide by zero encountered in double_scalars\n",
      "  m_lr_i = np.log(numerator / denominator)\n",
      "C:\\Users\\minio\\anaconda3\\envs\\tfm-py-37\\lib\\site-packages\\gensim\\topic_coherence\\indirect_confirmation_measure.py:323: RuntimeWarning: invalid value encountered in double_scalars\n",
      "  return cv1.T.dot(cv2)[0, 0] / (_magnitude(cv1) * _magnitude(cv2))\n"
     ]
    },
    {
     "name": "stdout",
     "output_type": "stream",
     "text": [
      "time elapsed - 00:00:30.75\n",
      "396  -----  99250  -----  99499\n"
     ]
    },
    {
     "name": "stderr",
     "output_type": "stream",
     "text": [
      "C:\\Users\\minio\\anaconda3\\envs\\tfm-py-37\\lib\\site-packages\\gensim\\topic_coherence\\direct_confirmation_measure.py:204: RuntimeWarning: divide by zero encountered in double_scalars\n",
      "  m_lr_i = np.log(numerator / denominator)\n",
      "C:\\Users\\minio\\anaconda3\\envs\\tfm-py-37\\lib\\site-packages\\gensim\\topic_coherence\\indirect_confirmation_measure.py:323: RuntimeWarning: invalid value encountered in double_scalars\n",
      "  return cv1.T.dot(cv2)[0, 0] / (_magnitude(cv1) * _magnitude(cv2))\n"
     ]
    },
    {
     "name": "stdout",
     "output_type": "stream",
     "text": [
      "time elapsed - 00:00:31.40\n",
      "397  -----  99500  -----  99749\n"
     ]
    },
    {
     "name": "stderr",
     "output_type": "stream",
     "text": [
      "C:\\Users\\minio\\anaconda3\\envs\\tfm-py-37\\lib\\site-packages\\gensim\\topic_coherence\\direct_confirmation_measure.py:204: RuntimeWarning: divide by zero encountered in double_scalars\n",
      "  m_lr_i = np.log(numerator / denominator)\n",
      "C:\\Users\\minio\\anaconda3\\envs\\tfm-py-37\\lib\\site-packages\\gensim\\topic_coherence\\indirect_confirmation_measure.py:323: RuntimeWarning: invalid value encountered in double_scalars\n",
      "  return cv1.T.dot(cv2)[0, 0] / (_magnitude(cv1) * _magnitude(cv2))\n"
     ]
    },
    {
     "name": "stdout",
     "output_type": "stream",
     "text": [
      "time elapsed - 00:00:31.51\n",
      "398  -----  99750  -----  99999\n",
      "time elapsed - 00:00:31.55\n",
      "399  -----  100000  -----  100249\n",
      "time elapsed - 00:00:30.24\n",
      "400  -----  100250  -----  100499\n"
     ]
    },
    {
     "name": "stderr",
     "output_type": "stream",
     "text": [
      "C:\\Users\\minio\\anaconda3\\envs\\tfm-py-37\\lib\\site-packages\\gensim\\topic_coherence\\direct_confirmation_measure.py:204: RuntimeWarning: divide by zero encountered in double_scalars\n",
      "  m_lr_i = np.log(numerator / denominator)\n",
      "C:\\Users\\minio\\anaconda3\\envs\\tfm-py-37\\lib\\site-packages\\gensim\\topic_coherence\\indirect_confirmation_measure.py:323: RuntimeWarning: invalid value encountered in double_scalars\n",
      "  return cv1.T.dot(cv2)[0, 0] / (_magnitude(cv1) * _magnitude(cv2))\n"
     ]
    },
    {
     "name": "stdout",
     "output_type": "stream",
     "text": [
      "time elapsed - 00:00:30.54\n",
      "401  -----  100500  -----  100749\n"
     ]
    },
    {
     "name": "stderr",
     "output_type": "stream",
     "text": [
      "C:\\Users\\minio\\anaconda3\\envs\\tfm-py-37\\lib\\site-packages\\gensim\\topic_coherence\\direct_confirmation_measure.py:204: RuntimeWarning: divide by zero encountered in double_scalars\n",
      "  m_lr_i = np.log(numerator / denominator)\n",
      "C:\\Users\\minio\\anaconda3\\envs\\tfm-py-37\\lib\\site-packages\\gensim\\topic_coherence\\indirect_confirmation_measure.py:323: RuntimeWarning: invalid value encountered in double_scalars\n",
      "  return cv1.T.dot(cv2)[0, 0] / (_magnitude(cv1) * _magnitude(cv2))\n"
     ]
    },
    {
     "name": "stdout",
     "output_type": "stream",
     "text": [
      "time elapsed - 00:00:31.01\n",
      "402  -----  100750  -----  100999\n"
     ]
    },
    {
     "name": "stderr",
     "output_type": "stream",
     "text": [
      "C:\\Users\\minio\\anaconda3\\envs\\tfm-py-37\\lib\\site-packages\\gensim\\topic_coherence\\direct_confirmation_measure.py:204: RuntimeWarning: divide by zero encountered in double_scalars\n",
      "  m_lr_i = np.log(numerator / denominator)\n",
      "C:\\Users\\minio\\anaconda3\\envs\\tfm-py-37\\lib\\site-packages\\gensim\\topic_coherence\\indirect_confirmation_measure.py:323: RuntimeWarning: invalid value encountered in double_scalars\n",
      "  return cv1.T.dot(cv2)[0, 0] / (_magnitude(cv1) * _magnitude(cv2))\n"
     ]
    },
    {
     "name": "stdout",
     "output_type": "stream",
     "text": [
      "time elapsed - 00:00:31.68\n",
      "403  -----  101000  -----  101249\n"
     ]
    },
    {
     "name": "stderr",
     "output_type": "stream",
     "text": [
      "C:\\Users\\minio\\anaconda3\\envs\\tfm-py-37\\lib\\site-packages\\gensim\\topic_coherence\\direct_confirmation_measure.py:204: RuntimeWarning: divide by zero encountered in double_scalars\n",
      "  m_lr_i = np.log(numerator / denominator)\n",
      "C:\\Users\\minio\\anaconda3\\envs\\tfm-py-37\\lib\\site-packages\\gensim\\topic_coherence\\indirect_confirmation_measure.py:323: RuntimeWarning: invalid value encountered in double_scalars\n",
      "  return cv1.T.dot(cv2)[0, 0] / (_magnitude(cv1) * _magnitude(cv2))\n"
     ]
    },
    {
     "name": "stdout",
     "output_type": "stream",
     "text": [
      "time elapsed - 00:00:34.90\n",
      "404  -----  101250  -----  101499\n"
     ]
    },
    {
     "name": "stderr",
     "output_type": "stream",
     "text": [
      "C:\\Users\\minio\\anaconda3\\envs\\tfm-py-37\\lib\\site-packages\\gensim\\topic_coherence\\direct_confirmation_measure.py:204: RuntimeWarning: divide by zero encountered in double_scalars\n",
      "  m_lr_i = np.log(numerator / denominator)\n",
      "C:\\Users\\minio\\anaconda3\\envs\\tfm-py-37\\lib\\site-packages\\gensim\\topic_coherence\\indirect_confirmation_measure.py:323: RuntimeWarning: invalid value encountered in double_scalars\n",
      "  return cv1.T.dot(cv2)[0, 0] / (_magnitude(cv1) * _magnitude(cv2))\n"
     ]
    },
    {
     "name": "stdout",
     "output_type": "stream",
     "text": [
      "time elapsed - 00:00:34.55\n",
      "405  -----  101500  -----  101749\n"
     ]
    },
    {
     "name": "stderr",
     "output_type": "stream",
     "text": [
      "C:\\Users\\minio\\anaconda3\\envs\\tfm-py-37\\lib\\site-packages\\gensim\\topic_coherence\\direct_confirmation_measure.py:204: RuntimeWarning: divide by zero encountered in double_scalars\n",
      "  m_lr_i = np.log(numerator / denominator)\n",
      "C:\\Users\\minio\\anaconda3\\envs\\tfm-py-37\\lib\\site-packages\\gensim\\topic_coherence\\indirect_confirmation_measure.py:323: RuntimeWarning: invalid value encountered in double_scalars\n",
      "  return cv1.T.dot(cv2)[0, 0] / (_magnitude(cv1) * _magnitude(cv2))\n"
     ]
    },
    {
     "name": "stdout",
     "output_type": "stream",
     "text": [
      "time elapsed - 00:00:31.49\n",
      "406  -----  101750  -----  101999\n"
     ]
    },
    {
     "name": "stderr",
     "output_type": "stream",
     "text": [
      "C:\\Users\\minio\\anaconda3\\envs\\tfm-py-37\\lib\\site-packages\\gensim\\topic_coherence\\direct_confirmation_measure.py:204: RuntimeWarning: divide by zero encountered in double_scalars\n",
      "  m_lr_i = np.log(numerator / denominator)\n",
      "C:\\Users\\minio\\anaconda3\\envs\\tfm-py-37\\lib\\site-packages\\gensim\\topic_coherence\\indirect_confirmation_measure.py:323: RuntimeWarning: invalid value encountered in double_scalars\n",
      "  return cv1.T.dot(cv2)[0, 0] / (_magnitude(cv1) * _magnitude(cv2))\n"
     ]
    },
    {
     "name": "stdout",
     "output_type": "stream",
     "text": [
      "time elapsed - 00:00:30.74\n",
      "407  -----  102000  -----  102249\n"
     ]
    },
    {
     "name": "stderr",
     "output_type": "stream",
     "text": [
      "C:\\Users\\minio\\anaconda3\\envs\\tfm-py-37\\lib\\site-packages\\gensim\\topic_coherence\\direct_confirmation_measure.py:204: RuntimeWarning: divide by zero encountered in double_scalars\n",
      "  m_lr_i = np.log(numerator / denominator)\n",
      "C:\\Users\\minio\\anaconda3\\envs\\tfm-py-37\\lib\\site-packages\\gensim\\topic_coherence\\indirect_confirmation_measure.py:323: RuntimeWarning: invalid value encountered in double_scalars\n",
      "  return cv1.T.dot(cv2)[0, 0] / (_magnitude(cv1) * _magnitude(cv2))\n"
     ]
    },
    {
     "name": "stdout",
     "output_type": "stream",
     "text": [
      "time elapsed - 00:00:30.95\n",
      "408  -----  102250  -----  102499\n"
     ]
    },
    {
     "name": "stderr",
     "output_type": "stream",
     "text": [
      "C:\\Users\\minio\\anaconda3\\envs\\tfm-py-37\\lib\\site-packages\\gensim\\topic_coherence\\direct_confirmation_measure.py:204: RuntimeWarning: divide by zero encountered in double_scalars\n",
      "  m_lr_i = np.log(numerator / denominator)\n",
      "C:\\Users\\minio\\anaconda3\\envs\\tfm-py-37\\lib\\site-packages\\gensim\\topic_coherence\\indirect_confirmation_measure.py:323: RuntimeWarning: invalid value encountered in double_scalars\n",
      "  return cv1.T.dot(cv2)[0, 0] / (_magnitude(cv1) * _magnitude(cv2))\n"
     ]
    },
    {
     "name": "stdout",
     "output_type": "stream",
     "text": [
      "time elapsed - 00:00:31.07\n",
      "409  -----  102500  -----  102749\n"
     ]
    },
    {
     "name": "stderr",
     "output_type": "stream",
     "text": [
      "C:\\Users\\minio\\anaconda3\\envs\\tfm-py-37\\lib\\site-packages\\gensim\\topic_coherence\\direct_confirmation_measure.py:204: RuntimeWarning: divide by zero encountered in double_scalars\n",
      "  m_lr_i = np.log(numerator / denominator)\n",
      "C:\\Users\\minio\\anaconda3\\envs\\tfm-py-37\\lib\\site-packages\\gensim\\topic_coherence\\indirect_confirmation_measure.py:323: RuntimeWarning: invalid value encountered in double_scalars\n",
      "  return cv1.T.dot(cv2)[0, 0] / (_magnitude(cv1) * _magnitude(cv2))\n"
     ]
    },
    {
     "name": "stdout",
     "output_type": "stream",
     "text": [
      "time elapsed - 00:00:31.54\n",
      "410  -----  102750  -----  102999\n"
     ]
    },
    {
     "name": "stderr",
     "output_type": "stream",
     "text": [
      "C:\\Users\\minio\\anaconda3\\envs\\tfm-py-37\\lib\\site-packages\\gensim\\topic_coherence\\direct_confirmation_measure.py:204: RuntimeWarning: divide by zero encountered in double_scalars\n",
      "  m_lr_i = np.log(numerator / denominator)\n",
      "C:\\Users\\minio\\anaconda3\\envs\\tfm-py-37\\lib\\site-packages\\gensim\\topic_coherence\\indirect_confirmation_measure.py:323: RuntimeWarning: invalid value encountered in double_scalars\n",
      "  return cv1.T.dot(cv2)[0, 0] / (_magnitude(cv1) * _magnitude(cv2))\n"
     ]
    },
    {
     "name": "stdout",
     "output_type": "stream",
     "text": [
      "time elapsed - 00:00:31.24\n",
      "411  -----  103000  -----  103249\n",
      "time elapsed - 00:00:30.97\n",
      "412  -----  103250  -----  103499\n"
     ]
    },
    {
     "name": "stderr",
     "output_type": "stream",
     "text": [
      "C:\\Users\\minio\\anaconda3\\envs\\tfm-py-37\\lib\\site-packages\\gensim\\topic_coherence\\direct_confirmation_measure.py:204: RuntimeWarning: divide by zero encountered in double_scalars\n",
      "  m_lr_i = np.log(numerator / denominator)\n",
      "C:\\Users\\minio\\anaconda3\\envs\\tfm-py-37\\lib\\site-packages\\gensim\\topic_coherence\\indirect_confirmation_measure.py:323: RuntimeWarning: invalid value encountered in double_scalars\n",
      "  return cv1.T.dot(cv2)[0, 0] / (_magnitude(cv1) * _magnitude(cv2))\n"
     ]
    },
    {
     "name": "stdout",
     "output_type": "stream",
     "text": [
      "time elapsed - 00:00:32.00\n",
      "413  -----  103500  -----  103749\n",
      "time elapsed - 00:00:31.35\n",
      "414  -----  103750  -----  103999\n"
     ]
    },
    {
     "name": "stderr",
     "output_type": "stream",
     "text": [
      "C:\\Users\\minio\\anaconda3\\envs\\tfm-py-37\\lib\\site-packages\\gensim\\topic_coherence\\direct_confirmation_measure.py:204: RuntimeWarning: divide by zero encountered in double_scalars\n",
      "  m_lr_i = np.log(numerator / denominator)\n",
      "C:\\Users\\minio\\anaconda3\\envs\\tfm-py-37\\lib\\site-packages\\gensim\\topic_coherence\\indirect_confirmation_measure.py:323: RuntimeWarning: invalid value encountered in double_scalars\n",
      "  return cv1.T.dot(cv2)[0, 0] / (_magnitude(cv1) * _magnitude(cv2))\n"
     ]
    },
    {
     "name": "stdout",
     "output_type": "stream",
     "text": [
      "time elapsed - 00:00:31.32\n",
      "415  -----  104000  -----  104249\n"
     ]
    },
    {
     "name": "stderr",
     "output_type": "stream",
     "text": [
      "C:\\Users\\minio\\anaconda3\\envs\\tfm-py-37\\lib\\site-packages\\gensim\\topic_coherence\\direct_confirmation_measure.py:204: RuntimeWarning: divide by zero encountered in double_scalars\n",
      "  m_lr_i = np.log(numerator / denominator)\n",
      "C:\\Users\\minio\\anaconda3\\envs\\tfm-py-37\\lib\\site-packages\\gensim\\topic_coherence\\indirect_confirmation_measure.py:323: RuntimeWarning: invalid value encountered in double_scalars\n",
      "  return cv1.T.dot(cv2)[0, 0] / (_magnitude(cv1) * _magnitude(cv2))\n"
     ]
    },
    {
     "name": "stdout",
     "output_type": "stream",
     "text": [
      "time elapsed - 00:00:31.75\n",
      "416  -----  104250  -----  104499\n"
     ]
    },
    {
     "name": "stderr",
     "output_type": "stream",
     "text": [
      "C:\\Users\\minio\\anaconda3\\envs\\tfm-py-37\\lib\\site-packages\\gensim\\topic_coherence\\direct_confirmation_measure.py:204: RuntimeWarning: divide by zero encountered in double_scalars\n",
      "  m_lr_i = np.log(numerator / denominator)\n",
      "C:\\Users\\minio\\anaconda3\\envs\\tfm-py-37\\lib\\site-packages\\gensim\\topic_coherence\\indirect_confirmation_measure.py:323: RuntimeWarning: invalid value encountered in double_scalars\n",
      "  return cv1.T.dot(cv2)[0, 0] / (_magnitude(cv1) * _magnitude(cv2))\n"
     ]
    },
    {
     "name": "stdout",
     "output_type": "stream",
     "text": [
      "time elapsed - 00:00:33.90\n",
      "417  -----  104500  -----  104749\n"
     ]
    },
    {
     "name": "stderr",
     "output_type": "stream",
     "text": [
      "C:\\Users\\minio\\anaconda3\\envs\\tfm-py-37\\lib\\site-packages\\gensim\\topic_coherence\\direct_confirmation_measure.py:204: RuntimeWarning: divide by zero encountered in double_scalars\n",
      "  m_lr_i = np.log(numerator / denominator)\n",
      "C:\\Users\\minio\\anaconda3\\envs\\tfm-py-37\\lib\\site-packages\\gensim\\topic_coherence\\indirect_confirmation_measure.py:323: RuntimeWarning: invalid value encountered in double_scalars\n",
      "  return cv1.T.dot(cv2)[0, 0] / (_magnitude(cv1) * _magnitude(cv2))\n"
     ]
    },
    {
     "name": "stdout",
     "output_type": "stream",
     "text": [
      "time elapsed - 00:00:37.24\n",
      "418  -----  104750  -----  104999\n"
     ]
    },
    {
     "name": "stderr",
     "output_type": "stream",
     "text": [
      "C:\\Users\\minio\\anaconda3\\envs\\tfm-py-37\\lib\\site-packages\\gensim\\topic_coherence\\direct_confirmation_measure.py:204: RuntimeWarning: divide by zero encountered in double_scalars\n",
      "  m_lr_i = np.log(numerator / denominator)\n",
      "C:\\Users\\minio\\anaconda3\\envs\\tfm-py-37\\lib\\site-packages\\gensim\\topic_coherence\\indirect_confirmation_measure.py:323: RuntimeWarning: invalid value encountered in double_scalars\n",
      "  return cv1.T.dot(cv2)[0, 0] / (_magnitude(cv1) * _magnitude(cv2))\n"
     ]
    },
    {
     "name": "stdout",
     "output_type": "stream",
     "text": [
      "time elapsed - 00:00:37.08\n",
      "419  -----  105000  -----  105249\n"
     ]
    },
    {
     "name": "stderr",
     "output_type": "stream",
     "text": [
      "C:\\Users\\minio\\anaconda3\\envs\\tfm-py-37\\lib\\site-packages\\gensim\\topic_coherence\\direct_confirmation_measure.py:204: RuntimeWarning: divide by zero encountered in double_scalars\n",
      "  m_lr_i = np.log(numerator / denominator)\n",
      "C:\\Users\\minio\\anaconda3\\envs\\tfm-py-37\\lib\\site-packages\\gensim\\topic_coherence\\indirect_confirmation_measure.py:323: RuntimeWarning: invalid value encountered in double_scalars\n",
      "  return cv1.T.dot(cv2)[0, 0] / (_magnitude(cv1) * _magnitude(cv2))\n"
     ]
    },
    {
     "name": "stdout",
     "output_type": "stream",
     "text": [
      "time elapsed - 00:00:36.95\n",
      "420  -----  105250  -----  105499\n",
      "time elapsed - 00:00:36.97\n",
      "421  -----  105500  -----  105749\n"
     ]
    },
    {
     "name": "stderr",
     "output_type": "stream",
     "text": [
      "C:\\Users\\minio\\anaconda3\\envs\\tfm-py-37\\lib\\site-packages\\gensim\\topic_coherence\\direct_confirmation_measure.py:204: RuntimeWarning: divide by zero encountered in double_scalars\n",
      "  m_lr_i = np.log(numerator / denominator)\n",
      "C:\\Users\\minio\\anaconda3\\envs\\tfm-py-37\\lib\\site-packages\\gensim\\topic_coherence\\indirect_confirmation_measure.py:323: RuntimeWarning: invalid value encountered in double_scalars\n",
      "  return cv1.T.dot(cv2)[0, 0] / (_magnitude(cv1) * _magnitude(cv2))\n"
     ]
    },
    {
     "name": "stdout",
     "output_type": "stream",
     "text": [
      "time elapsed - 00:00:37.21\n",
      "422  -----  105750  -----  105999\n",
      "time elapsed - 00:00:37.30\n",
      "423  -----  106000  -----  106249\n"
     ]
    },
    {
     "name": "stderr",
     "output_type": "stream",
     "text": [
      "C:\\Users\\minio\\anaconda3\\envs\\tfm-py-37\\lib\\site-packages\\gensim\\topic_coherence\\direct_confirmation_measure.py:204: RuntimeWarning: divide by zero encountered in double_scalars\n",
      "  m_lr_i = np.log(numerator / denominator)\n",
      "C:\\Users\\minio\\anaconda3\\envs\\tfm-py-37\\lib\\site-packages\\gensim\\topic_coherence\\indirect_confirmation_measure.py:323: RuntimeWarning: invalid value encountered in double_scalars\n",
      "  return cv1.T.dot(cv2)[0, 0] / (_magnitude(cv1) * _magnitude(cv2))\n"
     ]
    },
    {
     "name": "stdout",
     "output_type": "stream",
     "text": [
      "time elapsed - 00:00:37.57\n",
      "424  -----  106250  -----  106499\n"
     ]
    },
    {
     "name": "stderr",
     "output_type": "stream",
     "text": [
      "C:\\Users\\minio\\anaconda3\\envs\\tfm-py-37\\lib\\site-packages\\gensim\\topic_coherence\\direct_confirmation_measure.py:204: RuntimeWarning: divide by zero encountered in double_scalars\n",
      "  m_lr_i = np.log(numerator / denominator)\n",
      "C:\\Users\\minio\\anaconda3\\envs\\tfm-py-37\\lib\\site-packages\\gensim\\topic_coherence\\indirect_confirmation_measure.py:323: RuntimeWarning: invalid value encountered in double_scalars\n",
      "  return cv1.T.dot(cv2)[0, 0] / (_magnitude(cv1) * _magnitude(cv2))\n"
     ]
    },
    {
     "name": "stdout",
     "output_type": "stream",
     "text": [
      "time elapsed - 00:00:37.48\n",
      "425  -----  106500  -----  106749\n"
     ]
    },
    {
     "name": "stderr",
     "output_type": "stream",
     "text": [
      "C:\\Users\\minio\\anaconda3\\envs\\tfm-py-37\\lib\\site-packages\\gensim\\topic_coherence\\direct_confirmation_measure.py:204: RuntimeWarning: divide by zero encountered in double_scalars\n",
      "  m_lr_i = np.log(numerator / denominator)\n",
      "C:\\Users\\minio\\anaconda3\\envs\\tfm-py-37\\lib\\site-packages\\gensim\\topic_coherence\\indirect_confirmation_measure.py:323: RuntimeWarning: invalid value encountered in double_scalars\n",
      "  return cv1.T.dot(cv2)[0, 0] / (_magnitude(cv1) * _magnitude(cv2))\n"
     ]
    },
    {
     "name": "stdout",
     "output_type": "stream",
     "text": [
      "time elapsed - 00:00:37.82\n",
      "426  -----  106750  -----  106999\n"
     ]
    },
    {
     "name": "stderr",
     "output_type": "stream",
     "text": [
      "C:\\Users\\minio\\anaconda3\\envs\\tfm-py-37\\lib\\site-packages\\gensim\\topic_coherence\\direct_confirmation_measure.py:204: RuntimeWarning: divide by zero encountered in double_scalars\n",
      "  m_lr_i = np.log(numerator / denominator)\n",
      "C:\\Users\\minio\\anaconda3\\envs\\tfm-py-37\\lib\\site-packages\\gensim\\topic_coherence\\indirect_confirmation_measure.py:323: RuntimeWarning: invalid value encountered in double_scalars\n",
      "  return cv1.T.dot(cv2)[0, 0] / (_magnitude(cv1) * _magnitude(cv2))\n"
     ]
    },
    {
     "name": "stdout",
     "output_type": "stream",
     "text": [
      "time elapsed - 00:00:38.46\n",
      "427  -----  107000  -----  107249\n"
     ]
    },
    {
     "name": "stderr",
     "output_type": "stream",
     "text": [
      "C:\\Users\\minio\\anaconda3\\envs\\tfm-py-37\\lib\\site-packages\\gensim\\topic_coherence\\direct_confirmation_measure.py:204: RuntimeWarning: divide by zero encountered in double_scalars\n",
      "  m_lr_i = np.log(numerator / denominator)\n",
      "C:\\Users\\minio\\anaconda3\\envs\\tfm-py-37\\lib\\site-packages\\gensim\\topic_coherence\\indirect_confirmation_measure.py:323: RuntimeWarning: invalid value encountered in double_scalars\n",
      "  return cv1.T.dot(cv2)[0, 0] / (_magnitude(cv1) * _magnitude(cv2))\n"
     ]
    },
    {
     "name": "stdout",
     "output_type": "stream",
     "text": [
      "time elapsed - 00:00:37.50\n",
      "428  -----  107250  -----  107499\n"
     ]
    },
    {
     "name": "stderr",
     "output_type": "stream",
     "text": [
      "C:\\Users\\minio\\anaconda3\\envs\\tfm-py-37\\lib\\site-packages\\gensim\\topic_coherence\\direct_confirmation_measure.py:204: RuntimeWarning: divide by zero encountered in double_scalars\n",
      "  m_lr_i = np.log(numerator / denominator)\n",
      "C:\\Users\\minio\\anaconda3\\envs\\tfm-py-37\\lib\\site-packages\\gensim\\topic_coherence\\indirect_confirmation_measure.py:323: RuntimeWarning: invalid value encountered in double_scalars\n",
      "  return cv1.T.dot(cv2)[0, 0] / (_magnitude(cv1) * _magnitude(cv2))\n"
     ]
    },
    {
     "name": "stdout",
     "output_type": "stream",
     "text": [
      "time elapsed - 00:00:37.89\n",
      "429  -----  107500  -----  107749\n"
     ]
    },
    {
     "name": "stderr",
     "output_type": "stream",
     "text": [
      "C:\\Users\\minio\\anaconda3\\envs\\tfm-py-37\\lib\\site-packages\\gensim\\topic_coherence\\direct_confirmation_measure.py:204: RuntimeWarning: divide by zero encountered in double_scalars\n",
      "  m_lr_i = np.log(numerator / denominator)\n",
      "C:\\Users\\minio\\anaconda3\\envs\\tfm-py-37\\lib\\site-packages\\gensim\\topic_coherence\\indirect_confirmation_measure.py:323: RuntimeWarning: invalid value encountered in double_scalars\n",
      "  return cv1.T.dot(cv2)[0, 0] / (_magnitude(cv1) * _magnitude(cv2))\n"
     ]
    },
    {
     "name": "stdout",
     "output_type": "stream",
     "text": [
      "time elapsed - 00:00:37.73\n",
      "430  -----  107750  -----  107999\n",
      "time elapsed - 00:00:37.68\n",
      "431  -----  108000  -----  108249\n"
     ]
    },
    {
     "name": "stderr",
     "output_type": "stream",
     "text": [
      "C:\\Users\\minio\\anaconda3\\envs\\tfm-py-37\\lib\\site-packages\\gensim\\topic_coherence\\direct_confirmation_measure.py:204: RuntimeWarning: divide by zero encountered in double_scalars\n",
      "  m_lr_i = np.log(numerator / denominator)\n",
      "C:\\Users\\minio\\anaconda3\\envs\\tfm-py-37\\lib\\site-packages\\gensim\\topic_coherence\\indirect_confirmation_measure.py:323: RuntimeWarning: invalid value encountered in double_scalars\n",
      "  return cv1.T.dot(cv2)[0, 0] / (_magnitude(cv1) * _magnitude(cv2))\n"
     ]
    },
    {
     "name": "stdout",
     "output_type": "stream",
     "text": [
      "time elapsed - 00:00:37.71\n",
      "432  -----  108250  -----  108499\n"
     ]
    },
    {
     "name": "stderr",
     "output_type": "stream",
     "text": [
      "C:\\Users\\minio\\anaconda3\\envs\\tfm-py-37\\lib\\site-packages\\gensim\\topic_coherence\\direct_confirmation_measure.py:204: RuntimeWarning: divide by zero encountered in double_scalars\n",
      "  m_lr_i = np.log(numerator / denominator)\n",
      "C:\\Users\\minio\\anaconda3\\envs\\tfm-py-37\\lib\\site-packages\\gensim\\topic_coherence\\indirect_confirmation_measure.py:323: RuntimeWarning: invalid value encountered in double_scalars\n",
      "  return cv1.T.dot(cv2)[0, 0] / (_magnitude(cv1) * _magnitude(cv2))\n"
     ]
    },
    {
     "name": "stdout",
     "output_type": "stream",
     "text": [
      "time elapsed - 00:00:39.19\n",
      "433  -----  108500  -----  108749\n"
     ]
    },
    {
     "name": "stderr",
     "output_type": "stream",
     "text": [
      "C:\\Users\\minio\\anaconda3\\envs\\tfm-py-37\\lib\\site-packages\\gensim\\topic_coherence\\direct_confirmation_measure.py:204: RuntimeWarning: divide by zero encountered in double_scalars\n",
      "  m_lr_i = np.log(numerator / denominator)\n",
      "C:\\Users\\minio\\anaconda3\\envs\\tfm-py-37\\lib\\site-packages\\gensim\\topic_coherence\\indirect_confirmation_measure.py:323: RuntimeWarning: invalid value encountered in double_scalars\n",
      "  return cv1.T.dot(cv2)[0, 0] / (_magnitude(cv1) * _magnitude(cv2))\n"
     ]
    },
    {
     "name": "stdout",
     "output_type": "stream",
     "text": [
      "time elapsed - 00:00:37.60\n",
      "434  -----  108750  -----  108999\n"
     ]
    },
    {
     "name": "stderr",
     "output_type": "stream",
     "text": [
      "C:\\Users\\minio\\anaconda3\\envs\\tfm-py-37\\lib\\site-packages\\gensim\\topic_coherence\\direct_confirmation_measure.py:204: RuntimeWarning: divide by zero encountered in double_scalars\n",
      "  m_lr_i = np.log(numerator / denominator)\n",
      "C:\\Users\\minio\\anaconda3\\envs\\tfm-py-37\\lib\\site-packages\\gensim\\topic_coherence\\indirect_confirmation_measure.py:323: RuntimeWarning: invalid value encountered in double_scalars\n",
      "  return cv1.T.dot(cv2)[0, 0] / (_magnitude(cv1) * _magnitude(cv2))\n"
     ]
    },
    {
     "name": "stdout",
     "output_type": "stream",
     "text": [
      "time elapsed - 00:00:38.95\n",
      "435  -----  109000  -----  109249\n"
     ]
    },
    {
     "name": "stderr",
     "output_type": "stream",
     "text": [
      "C:\\Users\\minio\\anaconda3\\envs\\tfm-py-37\\lib\\site-packages\\gensim\\topic_coherence\\direct_confirmation_measure.py:204: RuntimeWarning: divide by zero encountered in double_scalars\n",
      "  m_lr_i = np.log(numerator / denominator)\n",
      "C:\\Users\\minio\\anaconda3\\envs\\tfm-py-37\\lib\\site-packages\\gensim\\topic_coherence\\indirect_confirmation_measure.py:323: RuntimeWarning: invalid value encountered in double_scalars\n",
      "  return cv1.T.dot(cv2)[0, 0] / (_magnitude(cv1) * _magnitude(cv2))\n"
     ]
    },
    {
     "name": "stdout",
     "output_type": "stream",
     "text": [
      "time elapsed - 00:00:39.88\n",
      "436  -----  109250  -----  109499\n",
      "time elapsed - 00:00:38.30\n",
      "437  -----  109500  -----  109749\n"
     ]
    },
    {
     "name": "stderr",
     "output_type": "stream",
     "text": [
      "C:\\Users\\minio\\anaconda3\\envs\\tfm-py-37\\lib\\site-packages\\gensim\\topic_coherence\\direct_confirmation_measure.py:204: RuntimeWarning: divide by zero encountered in double_scalars\n",
      "  m_lr_i = np.log(numerator / denominator)\n",
      "C:\\Users\\minio\\anaconda3\\envs\\tfm-py-37\\lib\\site-packages\\gensim\\topic_coherence\\indirect_confirmation_measure.py:323: RuntimeWarning: invalid value encountered in double_scalars\n",
      "  return cv1.T.dot(cv2)[0, 0] / (_magnitude(cv1) * _magnitude(cv2))\n"
     ]
    },
    {
     "name": "stdout",
     "output_type": "stream",
     "text": [
      "time elapsed - 00:00:38.21\n",
      "438  -----  109750  -----  109999\n"
     ]
    },
    {
     "name": "stderr",
     "output_type": "stream",
     "text": [
      "C:\\Users\\minio\\anaconda3\\envs\\tfm-py-37\\lib\\site-packages\\gensim\\topic_coherence\\direct_confirmation_measure.py:204: RuntimeWarning: divide by zero encountered in double_scalars\n",
      "  m_lr_i = np.log(numerator / denominator)\n",
      "C:\\Users\\minio\\anaconda3\\envs\\tfm-py-37\\lib\\site-packages\\gensim\\topic_coherence\\indirect_confirmation_measure.py:323: RuntimeWarning: invalid value encountered in double_scalars\n",
      "  return cv1.T.dot(cv2)[0, 0] / (_magnitude(cv1) * _magnitude(cv2))\n"
     ]
    },
    {
     "name": "stdout",
     "output_type": "stream",
     "text": [
      "time elapsed - 00:00:37.79\n",
      "439  -----  110000  -----  110249\n",
      "time elapsed - 00:00:38.49\n",
      "440  -----  110250  -----  110499\n"
     ]
    },
    {
     "name": "stderr",
     "output_type": "stream",
     "text": [
      "C:\\Users\\minio\\anaconda3\\envs\\tfm-py-37\\lib\\site-packages\\gensim\\topic_coherence\\direct_confirmation_measure.py:204: RuntimeWarning: divide by zero encountered in double_scalars\n",
      "  m_lr_i = np.log(numerator / denominator)\n",
      "C:\\Users\\minio\\anaconda3\\envs\\tfm-py-37\\lib\\site-packages\\gensim\\topic_coherence\\indirect_confirmation_measure.py:323: RuntimeWarning: invalid value encountered in double_scalars\n",
      "  return cv1.T.dot(cv2)[0, 0] / (_magnitude(cv1) * _magnitude(cv2))\n"
     ]
    },
    {
     "name": "stdout",
     "output_type": "stream",
     "text": [
      "time elapsed - 00:00:37.43\n",
      "441  -----  110500  -----  110749\n"
     ]
    },
    {
     "name": "stderr",
     "output_type": "stream",
     "text": [
      "C:\\Users\\minio\\anaconda3\\envs\\tfm-py-37\\lib\\site-packages\\gensim\\topic_coherence\\direct_confirmation_measure.py:204: RuntimeWarning: divide by zero encountered in double_scalars\n",
      "  m_lr_i = np.log(numerator / denominator)\n",
      "C:\\Users\\minio\\anaconda3\\envs\\tfm-py-37\\lib\\site-packages\\gensim\\topic_coherence\\indirect_confirmation_measure.py:323: RuntimeWarning: invalid value encountered in double_scalars\n",
      "  return cv1.T.dot(cv2)[0, 0] / (_magnitude(cv1) * _magnitude(cv2))\n"
     ]
    },
    {
     "name": "stdout",
     "output_type": "stream",
     "text": [
      "time elapsed - 00:00:38.15\n",
      "442  -----  110750  -----  110999\n"
     ]
    },
    {
     "name": "stderr",
     "output_type": "stream",
     "text": [
      "C:\\Users\\minio\\anaconda3\\envs\\tfm-py-37\\lib\\site-packages\\gensim\\topic_coherence\\direct_confirmation_measure.py:204: RuntimeWarning: divide by zero encountered in double_scalars\n",
      "  m_lr_i = np.log(numerator / denominator)\n",
      "C:\\Users\\minio\\anaconda3\\envs\\tfm-py-37\\lib\\site-packages\\gensim\\topic_coherence\\indirect_confirmation_measure.py:323: RuntimeWarning: invalid value encountered in double_scalars\n",
      "  return cv1.T.dot(cv2)[0, 0] / (_magnitude(cv1) * _magnitude(cv2))\n"
     ]
    },
    {
     "name": "stdout",
     "output_type": "stream",
     "text": [
      "time elapsed - 00:00:37.71\n",
      "443  -----  111000  -----  111249\n"
     ]
    },
    {
     "name": "stderr",
     "output_type": "stream",
     "text": [
      "C:\\Users\\minio\\anaconda3\\envs\\tfm-py-37\\lib\\site-packages\\gensim\\topic_coherence\\direct_confirmation_measure.py:204: RuntimeWarning: divide by zero encountered in double_scalars\n",
      "  m_lr_i = np.log(numerator / denominator)\n",
      "C:\\Users\\minio\\anaconda3\\envs\\tfm-py-37\\lib\\site-packages\\gensim\\topic_coherence\\indirect_confirmation_measure.py:323: RuntimeWarning: invalid value encountered in double_scalars\n",
      "  return cv1.T.dot(cv2)[0, 0] / (_magnitude(cv1) * _magnitude(cv2))\n"
     ]
    },
    {
     "name": "stdout",
     "output_type": "stream",
     "text": [
      "time elapsed - 00:00:40.41\n",
      "444  -----  111250  -----  111499\n",
      "time elapsed - 00:00:45.16\n",
      "445  -----  111500  -----  111749\n"
     ]
    },
    {
     "name": "stderr",
     "output_type": "stream",
     "text": [
      "C:\\Users\\minio\\anaconda3\\envs\\tfm-py-37\\lib\\site-packages\\gensim\\topic_coherence\\direct_confirmation_measure.py:204: RuntimeWarning: divide by zero encountered in double_scalars\n",
      "  m_lr_i = np.log(numerator / denominator)\n",
      "C:\\Users\\minio\\anaconda3\\envs\\tfm-py-37\\lib\\site-packages\\gensim\\topic_coherence\\indirect_confirmation_measure.py:323: RuntimeWarning: invalid value encountered in double_scalars\n",
      "  return cv1.T.dot(cv2)[0, 0] / (_magnitude(cv1) * _magnitude(cv2))\n"
     ]
    },
    {
     "name": "stdout",
     "output_type": "stream",
     "text": [
      "time elapsed - 00:00:44.29\n",
      "446  -----  111750  -----  111999\n"
     ]
    },
    {
     "name": "stderr",
     "output_type": "stream",
     "text": [
      "C:\\Users\\minio\\anaconda3\\envs\\tfm-py-37\\lib\\site-packages\\gensim\\topic_coherence\\direct_confirmation_measure.py:204: RuntimeWarning: divide by zero encountered in double_scalars\n",
      "  m_lr_i = np.log(numerator / denominator)\n",
      "C:\\Users\\minio\\anaconda3\\envs\\tfm-py-37\\lib\\site-packages\\gensim\\topic_coherence\\indirect_confirmation_measure.py:323: RuntimeWarning: invalid value encountered in double_scalars\n",
      "  return cv1.T.dot(cv2)[0, 0] / (_magnitude(cv1) * _magnitude(cv2))\n"
     ]
    },
    {
     "name": "stdout",
     "output_type": "stream",
     "text": [
      "time elapsed - 00:00:43.83\n",
      "447  -----  112000  -----  112249\n"
     ]
    },
    {
     "name": "stderr",
     "output_type": "stream",
     "text": [
      "C:\\Users\\minio\\anaconda3\\envs\\tfm-py-37\\lib\\site-packages\\gensim\\topic_coherence\\direct_confirmation_measure.py:204: RuntimeWarning: divide by zero encountered in double_scalars\n",
      "  m_lr_i = np.log(numerator / denominator)\n",
      "C:\\Users\\minio\\anaconda3\\envs\\tfm-py-37\\lib\\site-packages\\gensim\\topic_coherence\\indirect_confirmation_measure.py:323: RuntimeWarning: invalid value encountered in double_scalars\n",
      "  return cv1.T.dot(cv2)[0, 0] / (_magnitude(cv1) * _magnitude(cv2))\n"
     ]
    },
    {
     "name": "stdout",
     "output_type": "stream",
     "text": [
      "time elapsed - 00:00:42.20\n",
      "448  -----  112250  -----  112499\n"
     ]
    },
    {
     "name": "stderr",
     "output_type": "stream",
     "text": [
      "C:\\Users\\minio\\anaconda3\\envs\\tfm-py-37\\lib\\site-packages\\gensim\\topic_coherence\\direct_confirmation_measure.py:204: RuntimeWarning: divide by zero encountered in double_scalars\n",
      "  m_lr_i = np.log(numerator / denominator)\n",
      "C:\\Users\\minio\\anaconda3\\envs\\tfm-py-37\\lib\\site-packages\\gensim\\topic_coherence\\indirect_confirmation_measure.py:323: RuntimeWarning: invalid value encountered in double_scalars\n",
      "  return cv1.T.dot(cv2)[0, 0] / (_magnitude(cv1) * _magnitude(cv2))\n"
     ]
    },
    {
     "name": "stdout",
     "output_type": "stream",
     "text": [
      "time elapsed - 00:00:41.52\n",
      "449  -----  112500  -----  112749\n"
     ]
    },
    {
     "name": "stderr",
     "output_type": "stream",
     "text": [
      "C:\\Users\\minio\\anaconda3\\envs\\tfm-py-37\\lib\\site-packages\\gensim\\topic_coherence\\direct_confirmation_measure.py:204: RuntimeWarning: divide by zero encountered in double_scalars\n",
      "  m_lr_i = np.log(numerator / denominator)\n",
      "C:\\Users\\minio\\anaconda3\\envs\\tfm-py-37\\lib\\site-packages\\gensim\\topic_coherence\\indirect_confirmation_measure.py:323: RuntimeWarning: invalid value encountered in double_scalars\n",
      "  return cv1.T.dot(cv2)[0, 0] / (_magnitude(cv1) * _magnitude(cv2))\n"
     ]
    },
    {
     "name": "stdout",
     "output_type": "stream",
     "text": [
      "time elapsed - 00:00:44.21\n",
      "450  -----  112750  -----  112999\n"
     ]
    },
    {
     "name": "stderr",
     "output_type": "stream",
     "text": [
      "C:\\Users\\minio\\anaconda3\\envs\\tfm-py-37\\lib\\site-packages\\gensim\\topic_coherence\\direct_confirmation_measure.py:204: RuntimeWarning: divide by zero encountered in double_scalars\n",
      "  m_lr_i = np.log(numerator / denominator)\n",
      "C:\\Users\\minio\\anaconda3\\envs\\tfm-py-37\\lib\\site-packages\\gensim\\topic_coherence\\indirect_confirmation_measure.py:323: RuntimeWarning: invalid value encountered in double_scalars\n",
      "  return cv1.T.dot(cv2)[0, 0] / (_magnitude(cv1) * _magnitude(cv2))\n"
     ]
    },
    {
     "name": "stdout",
     "output_type": "stream",
     "text": [
      "time elapsed - 00:00:41.77\n",
      "451  -----  113000  -----  113249\n"
     ]
    },
    {
     "name": "stderr",
     "output_type": "stream",
     "text": [
      "C:\\Users\\minio\\anaconda3\\envs\\tfm-py-37\\lib\\site-packages\\gensim\\topic_coherence\\direct_confirmation_measure.py:204: RuntimeWarning: divide by zero encountered in double_scalars\n",
      "  m_lr_i = np.log(numerator / denominator)\n",
      "C:\\Users\\minio\\anaconda3\\envs\\tfm-py-37\\lib\\site-packages\\gensim\\topic_coherence\\indirect_confirmation_measure.py:323: RuntimeWarning: invalid value encountered in double_scalars\n",
      "  return cv1.T.dot(cv2)[0, 0] / (_magnitude(cv1) * _magnitude(cv2))\n"
     ]
    },
    {
     "name": "stdout",
     "output_type": "stream",
     "text": [
      "time elapsed - 00:00:46.78\n",
      "452  -----  113250  -----  113499\n"
     ]
    },
    {
     "name": "stderr",
     "output_type": "stream",
     "text": [
      "C:\\Users\\minio\\anaconda3\\envs\\tfm-py-37\\lib\\site-packages\\gensim\\topic_coherence\\direct_confirmation_measure.py:204: RuntimeWarning: divide by zero encountered in double_scalars\n",
      "  m_lr_i = np.log(numerator / denominator)\n",
      "C:\\Users\\minio\\anaconda3\\envs\\tfm-py-37\\lib\\site-packages\\gensim\\topic_coherence\\indirect_confirmation_measure.py:323: RuntimeWarning: invalid value encountered in double_scalars\n",
      "  return cv1.T.dot(cv2)[0, 0] / (_magnitude(cv1) * _magnitude(cv2))\n"
     ]
    },
    {
     "name": "stdout",
     "output_type": "stream",
     "text": [
      "time elapsed - 00:00:47.33\n",
      "453  -----  113500  -----  113749\n"
     ]
    },
    {
     "name": "stderr",
     "output_type": "stream",
     "text": [
      "C:\\Users\\minio\\anaconda3\\envs\\tfm-py-37\\lib\\site-packages\\gensim\\topic_coherence\\direct_confirmation_measure.py:204: RuntimeWarning: divide by zero encountered in double_scalars\n",
      "  m_lr_i = np.log(numerator / denominator)\n",
      "C:\\Users\\minio\\anaconda3\\envs\\tfm-py-37\\lib\\site-packages\\gensim\\topic_coherence\\indirect_confirmation_measure.py:323: RuntimeWarning: invalid value encountered in double_scalars\n",
      "  return cv1.T.dot(cv2)[0, 0] / (_magnitude(cv1) * _magnitude(cv2))\n"
     ]
    },
    {
     "name": "stdout",
     "output_type": "stream",
     "text": [
      "time elapsed - 00:00:41.95\n",
      "454  -----  113750  -----  113999\n"
     ]
    },
    {
     "name": "stderr",
     "output_type": "stream",
     "text": [
      "C:\\Users\\minio\\anaconda3\\envs\\tfm-py-37\\lib\\site-packages\\gensim\\topic_coherence\\direct_confirmation_measure.py:204: RuntimeWarning: divide by zero encountered in double_scalars\n",
      "  m_lr_i = np.log(numerator / denominator)\n",
      "C:\\Users\\minio\\anaconda3\\envs\\tfm-py-37\\lib\\site-packages\\gensim\\topic_coherence\\indirect_confirmation_measure.py:323: RuntimeWarning: invalid value encountered in double_scalars\n",
      "  return cv1.T.dot(cv2)[0, 0] / (_magnitude(cv1) * _magnitude(cv2))\n"
     ]
    },
    {
     "name": "stdout",
     "output_type": "stream",
     "text": [
      "time elapsed - 00:00:44.45\n",
      "455  -----  114000  -----  114249\n",
      "time elapsed - 00:00:43.11\n",
      "456  -----  114250  -----  114499\n",
      "time elapsed - 00:00:44.31\n",
      "457  -----  114500  -----  114749\n"
     ]
    },
    {
     "name": "stderr",
     "output_type": "stream",
     "text": [
      "C:\\Users\\minio\\anaconda3\\envs\\tfm-py-37\\lib\\site-packages\\gensim\\topic_coherence\\direct_confirmation_measure.py:204: RuntimeWarning: divide by zero encountered in double_scalars\n",
      "  m_lr_i = np.log(numerator / denominator)\n",
      "C:\\Users\\minio\\anaconda3\\envs\\tfm-py-37\\lib\\site-packages\\gensim\\topic_coherence\\indirect_confirmation_measure.py:323: RuntimeWarning: invalid value encountered in double_scalars\n",
      "  return cv1.T.dot(cv2)[0, 0] / (_magnitude(cv1) * _magnitude(cv2))\n"
     ]
    },
    {
     "name": "stdout",
     "output_type": "stream",
     "text": [
      "time elapsed - 00:00:43.40\n",
      "458  -----  114750  -----  114999\n",
      "time elapsed - 00:00:45.67\n",
      "459  -----  115000  -----  115249\n"
     ]
    },
    {
     "name": "stderr",
     "output_type": "stream",
     "text": [
      "C:\\Users\\minio\\anaconda3\\envs\\tfm-py-37\\lib\\site-packages\\gensim\\topic_coherence\\direct_confirmation_measure.py:204: RuntimeWarning: divide by zero encountered in double_scalars\n",
      "  m_lr_i = np.log(numerator / denominator)\n",
      "C:\\Users\\minio\\anaconda3\\envs\\tfm-py-37\\lib\\site-packages\\gensim\\topic_coherence\\indirect_confirmation_measure.py:323: RuntimeWarning: invalid value encountered in double_scalars\n",
      "  return cv1.T.dot(cv2)[0, 0] / (_magnitude(cv1) * _magnitude(cv2))\n"
     ]
    },
    {
     "name": "stdout",
     "output_type": "stream",
     "text": [
      "time elapsed - 00:00:46.95\n",
      "460  -----  115250  -----  115499\n"
     ]
    },
    {
     "name": "stderr",
     "output_type": "stream",
     "text": [
      "C:\\Users\\minio\\anaconda3\\envs\\tfm-py-37\\lib\\site-packages\\gensim\\topic_coherence\\direct_confirmation_measure.py:204: RuntimeWarning: divide by zero encountered in double_scalars\n",
      "  m_lr_i = np.log(numerator / denominator)\n",
      "C:\\Users\\minio\\anaconda3\\envs\\tfm-py-37\\lib\\site-packages\\gensim\\topic_coherence\\indirect_confirmation_measure.py:323: RuntimeWarning: invalid value encountered in double_scalars\n",
      "  return cv1.T.dot(cv2)[0, 0] / (_magnitude(cv1) * _magnitude(cv2))\n"
     ]
    },
    {
     "name": "stdout",
     "output_type": "stream",
     "text": [
      "time elapsed - 00:00:43.22\n",
      "461  -----  115500  -----  115749\n"
     ]
    },
    {
     "name": "stderr",
     "output_type": "stream",
     "text": [
      "C:\\Users\\minio\\anaconda3\\envs\\tfm-py-37\\lib\\site-packages\\gensim\\topic_coherence\\direct_confirmation_measure.py:204: RuntimeWarning: divide by zero encountered in double_scalars\n",
      "  m_lr_i = np.log(numerator / denominator)\n",
      "C:\\Users\\minio\\anaconda3\\envs\\tfm-py-37\\lib\\site-packages\\gensim\\topic_coherence\\indirect_confirmation_measure.py:323: RuntimeWarning: invalid value encountered in double_scalars\n",
      "  return cv1.T.dot(cv2)[0, 0] / (_magnitude(cv1) * _magnitude(cv2))\n"
     ]
    },
    {
     "name": "stdout",
     "output_type": "stream",
     "text": [
      "time elapsed - 00:00:43.20\n",
      "462  -----  115750  -----  115999\n"
     ]
    },
    {
     "name": "stderr",
     "output_type": "stream",
     "text": [
      "C:\\Users\\minio\\anaconda3\\envs\\tfm-py-37\\lib\\site-packages\\gensim\\topic_coherence\\direct_confirmation_measure.py:204: RuntimeWarning: divide by zero encountered in double_scalars\n",
      "  m_lr_i = np.log(numerator / denominator)\n",
      "C:\\Users\\minio\\anaconda3\\envs\\tfm-py-37\\lib\\site-packages\\gensim\\topic_coherence\\indirect_confirmation_measure.py:323: RuntimeWarning: invalid value encountered in double_scalars\n",
      "  return cv1.T.dot(cv2)[0, 0] / (_magnitude(cv1) * _magnitude(cv2))\n"
     ]
    },
    {
     "name": "stdout",
     "output_type": "stream",
     "text": [
      "time elapsed - 00:00:43.63\n",
      "463  -----  116000  -----  116249\n"
     ]
    },
    {
     "name": "stderr",
     "output_type": "stream",
     "text": [
      "C:\\Users\\minio\\anaconda3\\envs\\tfm-py-37\\lib\\site-packages\\gensim\\topic_coherence\\direct_confirmation_measure.py:204: RuntimeWarning: divide by zero encountered in double_scalars\n",
      "  m_lr_i = np.log(numerator / denominator)\n",
      "C:\\Users\\minio\\anaconda3\\envs\\tfm-py-37\\lib\\site-packages\\gensim\\topic_coherence\\indirect_confirmation_measure.py:323: RuntimeWarning: invalid value encountered in double_scalars\n",
      "  return cv1.T.dot(cv2)[0, 0] / (_magnitude(cv1) * _magnitude(cv2))\n"
     ]
    },
    {
     "name": "stdout",
     "output_type": "stream",
     "text": [
      "time elapsed - 00:00:41.65\n",
      "464  -----  116250  -----  116499\n"
     ]
    },
    {
     "name": "stderr",
     "output_type": "stream",
     "text": [
      "C:\\Users\\minio\\anaconda3\\envs\\tfm-py-37\\lib\\site-packages\\gensim\\topic_coherence\\direct_confirmation_measure.py:204: RuntimeWarning: divide by zero encountered in double_scalars\n",
      "  m_lr_i = np.log(numerator / denominator)\n",
      "C:\\Users\\minio\\anaconda3\\envs\\tfm-py-37\\lib\\site-packages\\gensim\\topic_coherence\\indirect_confirmation_measure.py:323: RuntimeWarning: invalid value encountered in double_scalars\n",
      "  return cv1.T.dot(cv2)[0, 0] / (_magnitude(cv1) * _magnitude(cv2))\n"
     ]
    },
    {
     "name": "stdout",
     "output_type": "stream",
     "text": [
      "time elapsed - 00:00:48.07\n",
      "465  -----  116500  -----  116749\n"
     ]
    },
    {
     "name": "stderr",
     "output_type": "stream",
     "text": [
      "C:\\Users\\minio\\anaconda3\\envs\\tfm-py-37\\lib\\site-packages\\gensim\\topic_coherence\\direct_confirmation_measure.py:204: RuntimeWarning: divide by zero encountered in double_scalars\n",
      "  m_lr_i = np.log(numerator / denominator)\n",
      "C:\\Users\\minio\\anaconda3\\envs\\tfm-py-37\\lib\\site-packages\\gensim\\topic_coherence\\indirect_confirmation_measure.py:323: RuntimeWarning: invalid value encountered in double_scalars\n",
      "  return cv1.T.dot(cv2)[0, 0] / (_magnitude(cv1) * _magnitude(cv2))\n"
     ]
    },
    {
     "name": "stdout",
     "output_type": "stream",
     "text": [
      "time elapsed - 00:00:43.74\n",
      "466  -----  116750  -----  116999\n"
     ]
    },
    {
     "name": "stderr",
     "output_type": "stream",
     "text": [
      "C:\\Users\\minio\\anaconda3\\envs\\tfm-py-37\\lib\\site-packages\\gensim\\topic_coherence\\direct_confirmation_measure.py:204: RuntimeWarning: divide by zero encountered in double_scalars\n",
      "  m_lr_i = np.log(numerator / denominator)\n",
      "C:\\Users\\minio\\anaconda3\\envs\\tfm-py-37\\lib\\site-packages\\gensim\\topic_coherence\\indirect_confirmation_measure.py:323: RuntimeWarning: invalid value encountered in double_scalars\n",
      "  return cv1.T.dot(cv2)[0, 0] / (_magnitude(cv1) * _magnitude(cv2))\n"
     ]
    },
    {
     "name": "stdout",
     "output_type": "stream",
     "text": [
      "time elapsed - 00:00:44.69\n",
      "467  -----  117000  -----  117249\n",
      "time elapsed - 00:00:42.51\n",
      "468  -----  117250  -----  117499\n"
     ]
    },
    {
     "name": "stderr",
     "output_type": "stream",
     "text": [
      "C:\\Users\\minio\\anaconda3\\envs\\tfm-py-37\\lib\\site-packages\\gensim\\topic_coherence\\direct_confirmation_measure.py:204: RuntimeWarning: divide by zero encountered in double_scalars\n",
      "  m_lr_i = np.log(numerator / denominator)\n",
      "C:\\Users\\minio\\anaconda3\\envs\\tfm-py-37\\lib\\site-packages\\gensim\\topic_coherence\\indirect_confirmation_measure.py:323: RuntimeWarning: invalid value encountered in double_scalars\n",
      "  return cv1.T.dot(cv2)[0, 0] / (_magnitude(cv1) * _magnitude(cv2))\n"
     ]
    },
    {
     "name": "stdout",
     "output_type": "stream",
     "text": [
      "time elapsed - 00:00:41.30\n",
      "469  -----  117500  -----  117749\n",
      "time elapsed - 00:00:42.87\n",
      "470  -----  117750  -----  117999\n"
     ]
    },
    {
     "name": "stderr",
     "output_type": "stream",
     "text": [
      "C:\\Users\\minio\\anaconda3\\envs\\tfm-py-37\\lib\\site-packages\\gensim\\topic_coherence\\direct_confirmation_measure.py:204: RuntimeWarning: divide by zero encountered in double_scalars\n",
      "  m_lr_i = np.log(numerator / denominator)\n",
      "C:\\Users\\minio\\anaconda3\\envs\\tfm-py-37\\lib\\site-packages\\gensim\\topic_coherence\\indirect_confirmation_measure.py:323: RuntimeWarning: invalid value encountered in double_scalars\n",
      "  return cv1.T.dot(cv2)[0, 0] / (_magnitude(cv1) * _magnitude(cv2))\n"
     ]
    },
    {
     "name": "stdout",
     "output_type": "stream",
     "text": [
      "time elapsed - 00:00:41.97\n",
      "471  -----  118000  -----  118249\n"
     ]
    },
    {
     "name": "stderr",
     "output_type": "stream",
     "text": [
      "C:\\Users\\minio\\anaconda3\\envs\\tfm-py-37\\lib\\site-packages\\gensim\\topic_coherence\\direct_confirmation_measure.py:204: RuntimeWarning: divide by zero encountered in double_scalars\n",
      "  m_lr_i = np.log(numerator / denominator)\n",
      "C:\\Users\\minio\\anaconda3\\envs\\tfm-py-37\\lib\\site-packages\\gensim\\topic_coherence\\indirect_confirmation_measure.py:323: RuntimeWarning: invalid value encountered in double_scalars\n",
      "  return cv1.T.dot(cv2)[0, 0] / (_magnitude(cv1) * _magnitude(cv2))\n"
     ]
    },
    {
     "name": "stdout",
     "output_type": "stream",
     "text": [
      "time elapsed - 00:00:43.27\n",
      "472  -----  118250  -----  118499\n"
     ]
    },
    {
     "name": "stderr",
     "output_type": "stream",
     "text": [
      "C:\\Users\\minio\\anaconda3\\envs\\tfm-py-37\\lib\\site-packages\\gensim\\topic_coherence\\direct_confirmation_measure.py:204: RuntimeWarning: divide by zero encountered in double_scalars\n",
      "  m_lr_i = np.log(numerator / denominator)\n",
      "C:\\Users\\minio\\anaconda3\\envs\\tfm-py-37\\lib\\site-packages\\gensim\\topic_coherence\\indirect_confirmation_measure.py:323: RuntimeWarning: invalid value encountered in double_scalars\n",
      "  return cv1.T.dot(cv2)[0, 0] / (_magnitude(cv1) * _magnitude(cv2))\n"
     ]
    },
    {
     "name": "stdout",
     "output_type": "stream",
     "text": [
      "time elapsed - 00:00:42.04\n",
      "473  -----  118500  -----  118749\n"
     ]
    },
    {
     "name": "stderr",
     "output_type": "stream",
     "text": [
      "C:\\Users\\minio\\anaconda3\\envs\\tfm-py-37\\lib\\site-packages\\gensim\\topic_coherence\\direct_confirmation_measure.py:204: RuntimeWarning: divide by zero encountered in double_scalars\n",
      "  m_lr_i = np.log(numerator / denominator)\n",
      "C:\\Users\\minio\\anaconda3\\envs\\tfm-py-37\\lib\\site-packages\\gensim\\topic_coherence\\indirect_confirmation_measure.py:323: RuntimeWarning: invalid value encountered in double_scalars\n",
      "  return cv1.T.dot(cv2)[0, 0] / (_magnitude(cv1) * _magnitude(cv2))\n"
     ]
    },
    {
     "name": "stdout",
     "output_type": "stream",
     "text": [
      "time elapsed - 00:00:42.61\n",
      "474  -----  118750  -----  118999\n",
      "time elapsed - 00:00:43.68\n",
      "475  -----  119000  -----  119249\n"
     ]
    },
    {
     "name": "stderr",
     "output_type": "stream",
     "text": [
      "C:\\Users\\minio\\anaconda3\\envs\\tfm-py-37\\lib\\site-packages\\gensim\\topic_coherence\\direct_confirmation_measure.py:204: RuntimeWarning: divide by zero encountered in double_scalars\n",
      "  m_lr_i = np.log(numerator / denominator)\n",
      "C:\\Users\\minio\\anaconda3\\envs\\tfm-py-37\\lib\\site-packages\\gensim\\topic_coherence\\indirect_confirmation_measure.py:323: RuntimeWarning: invalid value encountered in double_scalars\n",
      "  return cv1.T.dot(cv2)[0, 0] / (_magnitude(cv1) * _magnitude(cv2))\n"
     ]
    },
    {
     "name": "stdout",
     "output_type": "stream",
     "text": [
      "time elapsed - 00:00:43.71\n",
      "476  -----  119250  -----  119499\n",
      "time elapsed - 00:00:44.27\n",
      "477  -----  119500  -----  119749\n"
     ]
    },
    {
     "name": "stderr",
     "output_type": "stream",
     "text": [
      "C:\\Users\\minio\\anaconda3\\envs\\tfm-py-37\\lib\\site-packages\\gensim\\topic_coherence\\direct_confirmation_measure.py:204: RuntimeWarning: divide by zero encountered in double_scalars\n",
      "  m_lr_i = np.log(numerator / denominator)\n",
      "C:\\Users\\minio\\anaconda3\\envs\\tfm-py-37\\lib\\site-packages\\gensim\\topic_coherence\\indirect_confirmation_measure.py:323: RuntimeWarning: invalid value encountered in double_scalars\n",
      "  return cv1.T.dot(cv2)[0, 0] / (_magnitude(cv1) * _magnitude(cv2))\n"
     ]
    },
    {
     "name": "stdout",
     "output_type": "stream",
     "text": [
      "time elapsed - 00:00:43.04\n",
      "478  -----  119750  -----  119999\n",
      "time elapsed - 00:00:42.72\n",
      "479  -----  120000  -----  120249\n"
     ]
    },
    {
     "name": "stderr",
     "output_type": "stream",
     "text": [
      "C:\\Users\\minio\\anaconda3\\envs\\tfm-py-37\\lib\\site-packages\\gensim\\topic_coherence\\direct_confirmation_measure.py:204: RuntimeWarning: divide by zero encountered in double_scalars\n",
      "  m_lr_i = np.log(numerator / denominator)\n",
      "C:\\Users\\minio\\anaconda3\\envs\\tfm-py-37\\lib\\site-packages\\gensim\\topic_coherence\\indirect_confirmation_measure.py:323: RuntimeWarning: invalid value encountered in double_scalars\n",
      "  return cv1.T.dot(cv2)[0, 0] / (_magnitude(cv1) * _magnitude(cv2))\n"
     ]
    },
    {
     "name": "stdout",
     "output_type": "stream",
     "text": [
      "time elapsed - 00:00:42.48\n",
      "480  -----  120250  -----  120499\n",
      "time elapsed - 00:00:40.65\n",
      "481  -----  120500  -----  120749\n"
     ]
    },
    {
     "name": "stderr",
     "output_type": "stream",
     "text": [
      "C:\\Users\\minio\\anaconda3\\envs\\tfm-py-37\\lib\\site-packages\\gensim\\topic_coherence\\direct_confirmation_measure.py:204: RuntimeWarning: divide by zero encountered in double_scalars\n",
      "  m_lr_i = np.log(numerator / denominator)\n",
      "C:\\Users\\minio\\anaconda3\\envs\\tfm-py-37\\lib\\site-packages\\gensim\\topic_coherence\\indirect_confirmation_measure.py:323: RuntimeWarning: invalid value encountered in double_scalars\n",
      "  return cv1.T.dot(cv2)[0, 0] / (_magnitude(cv1) * _magnitude(cv2))\n"
     ]
    },
    {
     "name": "stdout",
     "output_type": "stream",
     "text": [
      "time elapsed - 00:00:45.28\n",
      "482  -----  120750  -----  120999\n"
     ]
    },
    {
     "name": "stderr",
     "output_type": "stream",
     "text": [
      "C:\\Users\\minio\\anaconda3\\envs\\tfm-py-37\\lib\\site-packages\\gensim\\topic_coherence\\direct_confirmation_measure.py:204: RuntimeWarning: divide by zero encountered in double_scalars\n",
      "  m_lr_i = np.log(numerator / denominator)\n",
      "C:\\Users\\minio\\anaconda3\\envs\\tfm-py-37\\lib\\site-packages\\gensim\\topic_coherence\\indirect_confirmation_measure.py:323: RuntimeWarning: invalid value encountered in double_scalars\n",
      "  return cv1.T.dot(cv2)[0, 0] / (_magnitude(cv1) * _magnitude(cv2))\n"
     ]
    },
    {
     "name": "stdout",
     "output_type": "stream",
     "text": [
      "time elapsed - 00:00:43.70\n",
      "483  -----  121000  -----  121249\n",
      "time elapsed - 00:00:43.95\n",
      "484  -----  121250  -----  121499\n"
     ]
    },
    {
     "name": "stderr",
     "output_type": "stream",
     "text": [
      "C:\\Users\\minio\\anaconda3\\envs\\tfm-py-37\\lib\\site-packages\\gensim\\topic_coherence\\direct_confirmation_measure.py:204: RuntimeWarning: divide by zero encountered in double_scalars\n",
      "  m_lr_i = np.log(numerator / denominator)\n",
      "C:\\Users\\minio\\anaconda3\\envs\\tfm-py-37\\lib\\site-packages\\gensim\\topic_coherence\\indirect_confirmation_measure.py:323: RuntimeWarning: invalid value encountered in double_scalars\n",
      "  return cv1.T.dot(cv2)[0, 0] / (_magnitude(cv1) * _magnitude(cv2))\n"
     ]
    },
    {
     "name": "stdout",
     "output_type": "stream",
     "text": [
      "time elapsed - 00:00:45.98\n",
      "485  -----  121500  -----  121749\n"
     ]
    },
    {
     "name": "stderr",
     "output_type": "stream",
     "text": [
      "C:\\Users\\minio\\anaconda3\\envs\\tfm-py-37\\lib\\site-packages\\gensim\\topic_coherence\\direct_confirmation_measure.py:204: RuntimeWarning: divide by zero encountered in double_scalars\n",
      "  m_lr_i = np.log(numerator / denominator)\n",
      "C:\\Users\\minio\\anaconda3\\envs\\tfm-py-37\\lib\\site-packages\\gensim\\topic_coherence\\indirect_confirmation_measure.py:323: RuntimeWarning: invalid value encountered in double_scalars\n",
      "  return cv1.T.dot(cv2)[0, 0] / (_magnitude(cv1) * _magnitude(cv2))\n"
     ]
    },
    {
     "name": "stdout",
     "output_type": "stream",
     "text": [
      "time elapsed - 00:00:47.98\n",
      "486  -----  121750  -----  121999\n"
     ]
    },
    {
     "name": "stderr",
     "output_type": "stream",
     "text": [
      "C:\\Users\\minio\\anaconda3\\envs\\tfm-py-37\\lib\\site-packages\\gensim\\topic_coherence\\direct_confirmation_measure.py:204: RuntimeWarning: divide by zero encountered in double_scalars\n",
      "  m_lr_i = np.log(numerator / denominator)\n",
      "C:\\Users\\minio\\anaconda3\\envs\\tfm-py-37\\lib\\site-packages\\gensim\\topic_coherence\\indirect_confirmation_measure.py:323: RuntimeWarning: invalid value encountered in double_scalars\n",
      "  return cv1.T.dot(cv2)[0, 0] / (_magnitude(cv1) * _magnitude(cv2))\n"
     ]
    },
    {
     "name": "stdout",
     "output_type": "stream",
     "text": [
      "time elapsed - 00:00:45.95\n",
      "487  -----  122000  -----  122249\n"
     ]
    },
    {
     "name": "stderr",
     "output_type": "stream",
     "text": [
      "C:\\Users\\minio\\anaconda3\\envs\\tfm-py-37\\lib\\site-packages\\gensim\\topic_coherence\\direct_confirmation_measure.py:204: RuntimeWarning: divide by zero encountered in double_scalars\n",
      "  m_lr_i = np.log(numerator / denominator)\n",
      "C:\\Users\\minio\\anaconda3\\envs\\tfm-py-37\\lib\\site-packages\\gensim\\topic_coherence\\indirect_confirmation_measure.py:323: RuntimeWarning: invalid value encountered in double_scalars\n",
      "  return cv1.T.dot(cv2)[0, 0] / (_magnitude(cv1) * _magnitude(cv2))\n"
     ]
    },
    {
     "name": "stdout",
     "output_type": "stream",
     "text": [
      "time elapsed - 00:00:44.54\n",
      "488  -----  122250  -----  122499\n",
      "time elapsed - 00:00:43.51\n",
      "489  -----  122500  -----  122749\n"
     ]
    },
    {
     "name": "stderr",
     "output_type": "stream",
     "text": [
      "C:\\Users\\minio\\anaconda3\\envs\\tfm-py-37\\lib\\site-packages\\gensim\\topic_coherence\\direct_confirmation_measure.py:204: RuntimeWarning: divide by zero encountered in double_scalars\n",
      "  m_lr_i = np.log(numerator / denominator)\n",
      "C:\\Users\\minio\\anaconda3\\envs\\tfm-py-37\\lib\\site-packages\\gensim\\topic_coherence\\indirect_confirmation_measure.py:323: RuntimeWarning: invalid value encountered in double_scalars\n",
      "  return cv1.T.dot(cv2)[0, 0] / (_magnitude(cv1) * _magnitude(cv2))\n"
     ]
    },
    {
     "name": "stdout",
     "output_type": "stream",
     "text": [
      "time elapsed - 00:00:42.87\n",
      "490  -----  122750  -----  122999\n"
     ]
    },
    {
     "name": "stderr",
     "output_type": "stream",
     "text": [
      "C:\\Users\\minio\\anaconda3\\envs\\tfm-py-37\\lib\\site-packages\\gensim\\topic_coherence\\direct_confirmation_measure.py:204: RuntimeWarning: divide by zero encountered in double_scalars\n",
      "  m_lr_i = np.log(numerator / denominator)\n",
      "C:\\Users\\minio\\anaconda3\\envs\\tfm-py-37\\lib\\site-packages\\gensim\\topic_coherence\\indirect_confirmation_measure.py:323: RuntimeWarning: invalid value encountered in double_scalars\n",
      "  return cv1.T.dot(cv2)[0, 0] / (_magnitude(cv1) * _magnitude(cv2))\n"
     ]
    },
    {
     "name": "stdout",
     "output_type": "stream",
     "text": [
      "time elapsed - 00:00:42.77\n",
      "491  -----  123000  -----  123249\n"
     ]
    },
    {
     "name": "stderr",
     "output_type": "stream",
     "text": [
      "C:\\Users\\minio\\anaconda3\\envs\\tfm-py-37\\lib\\site-packages\\gensim\\topic_coherence\\direct_confirmation_measure.py:204: RuntimeWarning: divide by zero encountered in double_scalars\n",
      "  m_lr_i = np.log(numerator / denominator)\n",
      "C:\\Users\\minio\\anaconda3\\envs\\tfm-py-37\\lib\\site-packages\\gensim\\topic_coherence\\indirect_confirmation_measure.py:323: RuntimeWarning: invalid value encountered in double_scalars\n",
      "  return cv1.T.dot(cv2)[0, 0] / (_magnitude(cv1) * _magnitude(cv2))\n"
     ]
    },
    {
     "name": "stdout",
     "output_type": "stream",
     "text": [
      "time elapsed - 00:00:45.22\n",
      "492  -----  123250  -----  123499\n"
     ]
    },
    {
     "name": "stderr",
     "output_type": "stream",
     "text": [
      "C:\\Users\\minio\\anaconda3\\envs\\tfm-py-37\\lib\\site-packages\\gensim\\topic_coherence\\direct_confirmation_measure.py:204: RuntimeWarning: divide by zero encountered in double_scalars\n",
      "  m_lr_i = np.log(numerator / denominator)\n",
      "C:\\Users\\minio\\anaconda3\\envs\\tfm-py-37\\lib\\site-packages\\gensim\\topic_coherence\\indirect_confirmation_measure.py:323: RuntimeWarning: invalid value encountered in double_scalars\n",
      "  return cv1.T.dot(cv2)[0, 0] / (_magnitude(cv1) * _magnitude(cv2))\n"
     ]
    },
    {
     "name": "stdout",
     "output_type": "stream",
     "text": [
      "time elapsed - 00:00:45.38\n",
      "493  -----  123500  -----  123749\n"
     ]
    },
    {
     "name": "stderr",
     "output_type": "stream",
     "text": [
      "C:\\Users\\minio\\anaconda3\\envs\\tfm-py-37\\lib\\site-packages\\gensim\\topic_coherence\\direct_confirmation_measure.py:204: RuntimeWarning: divide by zero encountered in double_scalars\n",
      "  m_lr_i = np.log(numerator / denominator)\n",
      "C:\\Users\\minio\\anaconda3\\envs\\tfm-py-37\\lib\\site-packages\\gensim\\topic_coherence\\indirect_confirmation_measure.py:323: RuntimeWarning: invalid value encountered in double_scalars\n",
      "  return cv1.T.dot(cv2)[0, 0] / (_magnitude(cv1) * _magnitude(cv2))\n"
     ]
    },
    {
     "name": "stdout",
     "output_type": "stream",
     "text": [
      "time elapsed - 00:00:45.28\n",
      "494  -----  123750  -----  123999\n"
     ]
    },
    {
     "name": "stderr",
     "output_type": "stream",
     "text": [
      "C:\\Users\\minio\\anaconda3\\envs\\tfm-py-37\\lib\\site-packages\\gensim\\topic_coherence\\direct_confirmation_measure.py:204: RuntimeWarning: divide by zero encountered in double_scalars\n",
      "  m_lr_i = np.log(numerator / denominator)\n",
      "C:\\Users\\minio\\anaconda3\\envs\\tfm-py-37\\lib\\site-packages\\gensim\\topic_coherence\\indirect_confirmation_measure.py:323: RuntimeWarning: invalid value encountered in double_scalars\n",
      "  return cv1.T.dot(cv2)[0, 0] / (_magnitude(cv1) * _magnitude(cv2))\n"
     ]
    },
    {
     "name": "stdout",
     "output_type": "stream",
     "text": [
      "time elapsed - 00:00:38.46\n",
      "495  -----  124000  -----  124249\n"
     ]
    },
    {
     "name": "stderr",
     "output_type": "stream",
     "text": [
      "C:\\Users\\minio\\anaconda3\\envs\\tfm-py-37\\lib\\site-packages\\gensim\\topic_coherence\\direct_confirmation_measure.py:204: RuntimeWarning: divide by zero encountered in double_scalars\n",
      "  m_lr_i = np.log(numerator / denominator)\n",
      "C:\\Users\\minio\\anaconda3\\envs\\tfm-py-37\\lib\\site-packages\\gensim\\topic_coherence\\indirect_confirmation_measure.py:323: RuntimeWarning: invalid value encountered in double_scalars\n",
      "  return cv1.T.dot(cv2)[0, 0] / (_magnitude(cv1) * _magnitude(cv2))\n"
     ]
    },
    {
     "name": "stdout",
     "output_type": "stream",
     "text": [
      "time elapsed - 00:00:37.91\n",
      "496  -----  124250  -----  124499\n"
     ]
    },
    {
     "name": "stderr",
     "output_type": "stream",
     "text": [
      "C:\\Users\\minio\\anaconda3\\envs\\tfm-py-37\\lib\\site-packages\\gensim\\topic_coherence\\direct_confirmation_measure.py:204: RuntimeWarning: divide by zero encountered in double_scalars\n",
      "  m_lr_i = np.log(numerator / denominator)\n",
      "C:\\Users\\minio\\anaconda3\\envs\\tfm-py-37\\lib\\site-packages\\gensim\\topic_coherence\\indirect_confirmation_measure.py:323: RuntimeWarning: invalid value encountered in double_scalars\n",
      "  return cv1.T.dot(cv2)[0, 0] / (_magnitude(cv1) * _magnitude(cv2))\n"
     ]
    },
    {
     "name": "stdout",
     "output_type": "stream",
     "text": [
      "time elapsed - 00:00:38.52\n",
      "497  -----  124500  -----  124749\n"
     ]
    },
    {
     "name": "stderr",
     "output_type": "stream",
     "text": [
      "C:\\Users\\minio\\anaconda3\\envs\\tfm-py-37\\lib\\site-packages\\gensim\\topic_coherence\\direct_confirmation_measure.py:204: RuntimeWarning: divide by zero encountered in double_scalars\n",
      "  m_lr_i = np.log(numerator / denominator)\n",
      "C:\\Users\\minio\\anaconda3\\envs\\tfm-py-37\\lib\\site-packages\\gensim\\topic_coherence\\indirect_confirmation_measure.py:323: RuntimeWarning: invalid value encountered in double_scalars\n",
      "  return cv1.T.dot(cv2)[0, 0] / (_magnitude(cv1) * _magnitude(cv2))\n"
     ]
    },
    {
     "name": "stdout",
     "output_type": "stream",
     "text": [
      "time elapsed - 00:00:38.34\n",
      "498  -----  124750  -----  124999\n"
     ]
    },
    {
     "name": "stderr",
     "output_type": "stream",
     "text": [
      "C:\\Users\\minio\\anaconda3\\envs\\tfm-py-37\\lib\\site-packages\\gensim\\topic_coherence\\direct_confirmation_measure.py:204: RuntimeWarning: divide by zero encountered in double_scalars\n",
      "  m_lr_i = np.log(numerator / denominator)\n",
      "C:\\Users\\minio\\anaconda3\\envs\\tfm-py-37\\lib\\site-packages\\gensim\\topic_coherence\\indirect_confirmation_measure.py:323: RuntimeWarning: invalid value encountered in double_scalars\n",
      "  return cv1.T.dot(cv2)[0, 0] / (_magnitude(cv1) * _magnitude(cv2))\n"
     ]
    },
    {
     "name": "stdout",
     "output_type": "stream",
     "text": [
      "time elapsed - 00:00:42.76\n",
      "499  -----  125000  -----  125249\n"
     ]
    },
    {
     "name": "stderr",
     "output_type": "stream",
     "text": [
      "C:\\Users\\minio\\anaconda3\\envs\\tfm-py-37\\lib\\site-packages\\gensim\\topic_coherence\\direct_confirmation_measure.py:204: RuntimeWarning: divide by zero encountered in double_scalars\n",
      "  m_lr_i = np.log(numerator / denominator)\n",
      "C:\\Users\\minio\\anaconda3\\envs\\tfm-py-37\\lib\\site-packages\\gensim\\topic_coherence\\indirect_confirmation_measure.py:323: RuntimeWarning: invalid value encountered in double_scalars\n",
      "  return cv1.T.dot(cv2)[0, 0] / (_magnitude(cv1) * _magnitude(cv2))\n"
     ]
    },
    {
     "name": "stdout",
     "output_type": "stream",
     "text": [
      "time elapsed - 00:00:42.27\n",
      "500  -----  125250  -----  125499\n"
     ]
    },
    {
     "name": "stderr",
     "output_type": "stream",
     "text": [
      "C:\\Users\\minio\\anaconda3\\envs\\tfm-py-37\\lib\\site-packages\\gensim\\topic_coherence\\direct_confirmation_measure.py:204: RuntimeWarning: divide by zero encountered in double_scalars\n",
      "  m_lr_i = np.log(numerator / denominator)\n",
      "C:\\Users\\minio\\anaconda3\\envs\\tfm-py-37\\lib\\site-packages\\gensim\\topic_coherence\\indirect_confirmation_measure.py:323: RuntimeWarning: invalid value encountered in double_scalars\n",
      "  return cv1.T.dot(cv2)[0, 0] / (_magnitude(cv1) * _magnitude(cv2))\n"
     ]
    },
    {
     "name": "stdout",
     "output_type": "stream",
     "text": [
      "time elapsed - 00:00:41.96\n",
      "501  -----  125500  -----  125749\n"
     ]
    },
    {
     "name": "stderr",
     "output_type": "stream",
     "text": [
      "C:\\Users\\minio\\anaconda3\\envs\\tfm-py-37\\lib\\site-packages\\gensim\\topic_coherence\\direct_confirmation_measure.py:204: RuntimeWarning: divide by zero encountered in double_scalars\n",
      "  m_lr_i = np.log(numerator / denominator)\n",
      "C:\\Users\\minio\\anaconda3\\envs\\tfm-py-37\\lib\\site-packages\\gensim\\topic_coherence\\indirect_confirmation_measure.py:323: RuntimeWarning: invalid value encountered in double_scalars\n",
      "  return cv1.T.dot(cv2)[0, 0] / (_magnitude(cv1) * _magnitude(cv2))\n"
     ]
    },
    {
     "name": "stdout",
     "output_type": "stream",
     "text": [
      "time elapsed - 00:00:38.40\n",
      "502  -----  125750  -----  125999\n"
     ]
    },
    {
     "name": "stderr",
     "output_type": "stream",
     "text": [
      "C:\\Users\\minio\\anaconda3\\envs\\tfm-py-37\\lib\\site-packages\\gensim\\topic_coherence\\direct_confirmation_measure.py:204: RuntimeWarning: divide by zero encountered in double_scalars\n",
      "  m_lr_i = np.log(numerator / denominator)\n",
      "C:\\Users\\minio\\anaconda3\\envs\\tfm-py-37\\lib\\site-packages\\gensim\\topic_coherence\\indirect_confirmation_measure.py:323: RuntimeWarning: invalid value encountered in double_scalars\n",
      "  return cv1.T.dot(cv2)[0, 0] / (_magnitude(cv1) * _magnitude(cv2))\n"
     ]
    },
    {
     "name": "stdout",
     "output_type": "stream",
     "text": [
      "time elapsed - 00:00:38.64\n",
      "503  -----  126000  -----  126249\n"
     ]
    },
    {
     "name": "stderr",
     "output_type": "stream",
     "text": [
      "C:\\Users\\minio\\anaconda3\\envs\\tfm-py-37\\lib\\site-packages\\gensim\\topic_coherence\\direct_confirmation_measure.py:204: RuntimeWarning: divide by zero encountered in double_scalars\n",
      "  m_lr_i = np.log(numerator / denominator)\n",
      "C:\\Users\\minio\\anaconda3\\envs\\tfm-py-37\\lib\\site-packages\\gensim\\topic_coherence\\indirect_confirmation_measure.py:323: RuntimeWarning: invalid value encountered in double_scalars\n",
      "  return cv1.T.dot(cv2)[0, 0] / (_magnitude(cv1) * _magnitude(cv2))\n"
     ]
    },
    {
     "name": "stdout",
     "output_type": "stream",
     "text": [
      "time elapsed - 00:00:37.78\n",
      "504  -----  126250  -----  126499\n"
     ]
    },
    {
     "name": "stderr",
     "output_type": "stream",
     "text": [
      "C:\\Users\\minio\\anaconda3\\envs\\tfm-py-37\\lib\\site-packages\\gensim\\topic_coherence\\direct_confirmation_measure.py:204: RuntimeWarning: divide by zero encountered in double_scalars\n",
      "  m_lr_i = np.log(numerator / denominator)\n",
      "C:\\Users\\minio\\anaconda3\\envs\\tfm-py-37\\lib\\site-packages\\gensim\\topic_coherence\\indirect_confirmation_measure.py:323: RuntimeWarning: invalid value encountered in double_scalars\n",
      "  return cv1.T.dot(cv2)[0, 0] / (_magnitude(cv1) * _magnitude(cv2))\n"
     ]
    },
    {
     "name": "stdout",
     "output_type": "stream",
     "text": [
      "time elapsed - 00:00:38.35\n",
      "505  -----  126500  -----  126749\n"
     ]
    },
    {
     "name": "stderr",
     "output_type": "stream",
     "text": [
      "C:\\Users\\minio\\anaconda3\\envs\\tfm-py-37\\lib\\site-packages\\gensim\\topic_coherence\\direct_confirmation_measure.py:204: RuntimeWarning: divide by zero encountered in double_scalars\n",
      "  m_lr_i = np.log(numerator / denominator)\n",
      "C:\\Users\\minio\\anaconda3\\envs\\tfm-py-37\\lib\\site-packages\\gensim\\topic_coherence\\indirect_confirmation_measure.py:323: RuntimeWarning: invalid value encountered in double_scalars\n",
      "  return cv1.T.dot(cv2)[0, 0] / (_magnitude(cv1) * _magnitude(cv2))\n"
     ]
    },
    {
     "name": "stdout",
     "output_type": "stream",
     "text": [
      "time elapsed - 00:00:38.52\n",
      "506  -----  126750  -----  126999\n"
     ]
    },
    {
     "name": "stderr",
     "output_type": "stream",
     "text": [
      "C:\\Users\\minio\\anaconda3\\envs\\tfm-py-37\\lib\\site-packages\\gensim\\topic_coherence\\direct_confirmation_measure.py:204: RuntimeWarning: divide by zero encountered in double_scalars\n",
      "  m_lr_i = np.log(numerator / denominator)\n",
      "C:\\Users\\minio\\anaconda3\\envs\\tfm-py-37\\lib\\site-packages\\gensim\\topic_coherence\\indirect_confirmation_measure.py:323: RuntimeWarning: invalid value encountered in double_scalars\n",
      "  return cv1.T.dot(cv2)[0, 0] / (_magnitude(cv1) * _magnitude(cv2))\n"
     ]
    },
    {
     "name": "stdout",
     "output_type": "stream",
     "text": [
      "time elapsed - 00:00:38.39\n",
      "507  -----  127000  -----  127249\n"
     ]
    },
    {
     "name": "stderr",
     "output_type": "stream",
     "text": [
      "C:\\Users\\minio\\anaconda3\\envs\\tfm-py-37\\lib\\site-packages\\gensim\\topic_coherence\\direct_confirmation_measure.py:204: RuntimeWarning: divide by zero encountered in double_scalars\n",
      "  m_lr_i = np.log(numerator / denominator)\n",
      "C:\\Users\\minio\\anaconda3\\envs\\tfm-py-37\\lib\\site-packages\\gensim\\topic_coherence\\indirect_confirmation_measure.py:323: RuntimeWarning: invalid value encountered in double_scalars\n",
      "  return cv1.T.dot(cv2)[0, 0] / (_magnitude(cv1) * _magnitude(cv2))\n"
     ]
    },
    {
     "name": "stdout",
     "output_type": "stream",
     "text": [
      "time elapsed - 00:00:39.05\n",
      "508  -----  127250  -----  127499\n"
     ]
    },
    {
     "name": "stderr",
     "output_type": "stream",
     "text": [
      "C:\\Users\\minio\\anaconda3\\envs\\tfm-py-37\\lib\\site-packages\\gensim\\topic_coherence\\direct_confirmation_measure.py:204: RuntimeWarning: divide by zero encountered in double_scalars\n",
      "  m_lr_i = np.log(numerator / denominator)\n",
      "C:\\Users\\minio\\anaconda3\\envs\\tfm-py-37\\lib\\site-packages\\gensim\\topic_coherence\\indirect_confirmation_measure.py:323: RuntimeWarning: invalid value encountered in double_scalars\n",
      "  return cv1.T.dot(cv2)[0, 0] / (_magnitude(cv1) * _magnitude(cv2))\n"
     ]
    },
    {
     "name": "stdout",
     "output_type": "stream",
     "text": [
      "time elapsed - 00:00:38.28\n",
      "509  -----  127500  -----  127749\n"
     ]
    },
    {
     "name": "stderr",
     "output_type": "stream",
     "text": [
      "C:\\Users\\minio\\anaconda3\\envs\\tfm-py-37\\lib\\site-packages\\gensim\\topic_coherence\\direct_confirmation_measure.py:204: RuntimeWarning: divide by zero encountered in double_scalars\n",
      "  m_lr_i = np.log(numerator / denominator)\n",
      "C:\\Users\\minio\\anaconda3\\envs\\tfm-py-37\\lib\\site-packages\\gensim\\topic_coherence\\indirect_confirmation_measure.py:323: RuntimeWarning: invalid value encountered in double_scalars\n",
      "  return cv1.T.dot(cv2)[0, 0] / (_magnitude(cv1) * _magnitude(cv2))\n"
     ]
    },
    {
     "name": "stdout",
     "output_type": "stream",
     "text": [
      "time elapsed - 00:00:38.57\n",
      "510  -----  127750  -----  127999\n"
     ]
    },
    {
     "name": "stderr",
     "output_type": "stream",
     "text": [
      "C:\\Users\\minio\\anaconda3\\envs\\tfm-py-37\\lib\\site-packages\\gensim\\topic_coherence\\direct_confirmation_measure.py:204: RuntimeWarning: divide by zero encountered in double_scalars\n",
      "  m_lr_i = np.log(numerator / denominator)\n",
      "C:\\Users\\minio\\anaconda3\\envs\\tfm-py-37\\lib\\site-packages\\gensim\\topic_coherence\\indirect_confirmation_measure.py:323: RuntimeWarning: invalid value encountered in double_scalars\n",
      "  return cv1.T.dot(cv2)[0, 0] / (_magnitude(cv1) * _magnitude(cv2))\n"
     ]
    },
    {
     "name": "stdout",
     "output_type": "stream",
     "text": [
      "time elapsed - 00:00:38.32\n",
      "511  -----  128000  -----  128249\n"
     ]
    },
    {
     "name": "stderr",
     "output_type": "stream",
     "text": [
      "C:\\Users\\minio\\anaconda3\\envs\\tfm-py-37\\lib\\site-packages\\gensim\\topic_coherence\\direct_confirmation_measure.py:204: RuntimeWarning: divide by zero encountered in double_scalars\n",
      "  m_lr_i = np.log(numerator / denominator)\n",
      "C:\\Users\\minio\\anaconda3\\envs\\tfm-py-37\\lib\\site-packages\\gensim\\topic_coherence\\indirect_confirmation_measure.py:323: RuntimeWarning: invalid value encountered in double_scalars\n",
      "  return cv1.T.dot(cv2)[0, 0] / (_magnitude(cv1) * _magnitude(cv2))\n"
     ]
    },
    {
     "name": "stdout",
     "output_type": "stream",
     "text": [
      "time elapsed - 00:00:39.28\n",
      "512  -----  128250  -----  128499\n"
     ]
    },
    {
     "name": "stderr",
     "output_type": "stream",
     "text": [
      "C:\\Users\\minio\\anaconda3\\envs\\tfm-py-37\\lib\\site-packages\\gensim\\topic_coherence\\direct_confirmation_measure.py:204: RuntimeWarning: divide by zero encountered in double_scalars\n",
      "  m_lr_i = np.log(numerator / denominator)\n",
      "C:\\Users\\minio\\anaconda3\\envs\\tfm-py-37\\lib\\site-packages\\gensim\\topic_coherence\\indirect_confirmation_measure.py:323: RuntimeWarning: invalid value encountered in double_scalars\n",
      "  return cv1.T.dot(cv2)[0, 0] / (_magnitude(cv1) * _magnitude(cv2))\n"
     ]
    },
    {
     "name": "stdout",
     "output_type": "stream",
     "text": [
      "time elapsed - 00:00:45.68\n",
      "513  -----  128500  -----  128749\n",
      "time elapsed - 00:00:44.14\n",
      "514  -----  128750  -----  128999\n"
     ]
    },
    {
     "name": "stderr",
     "output_type": "stream",
     "text": [
      "C:\\Users\\minio\\anaconda3\\envs\\tfm-py-37\\lib\\site-packages\\gensim\\topic_coherence\\direct_confirmation_measure.py:204: RuntimeWarning: divide by zero encountered in double_scalars\n",
      "  m_lr_i = np.log(numerator / denominator)\n",
      "C:\\Users\\minio\\anaconda3\\envs\\tfm-py-37\\lib\\site-packages\\gensim\\topic_coherence\\indirect_confirmation_measure.py:323: RuntimeWarning: invalid value encountered in double_scalars\n",
      "  return cv1.T.dot(cv2)[0, 0] / (_magnitude(cv1) * _magnitude(cv2))\n"
     ]
    },
    {
     "name": "stdout",
     "output_type": "stream",
     "text": [
      "time elapsed - 00:00:43.59\n",
      "515  -----  129000  -----  129249\n"
     ]
    },
    {
     "name": "stderr",
     "output_type": "stream",
     "text": [
      "C:\\Users\\minio\\anaconda3\\envs\\tfm-py-37\\lib\\site-packages\\gensim\\topic_coherence\\direct_confirmation_measure.py:204: RuntimeWarning: divide by zero encountered in double_scalars\n",
      "  m_lr_i = np.log(numerator / denominator)\n",
      "C:\\Users\\minio\\anaconda3\\envs\\tfm-py-37\\lib\\site-packages\\gensim\\topic_coherence\\indirect_confirmation_measure.py:323: RuntimeWarning: invalid value encountered in double_scalars\n",
      "  return cv1.T.dot(cv2)[0, 0] / (_magnitude(cv1) * _magnitude(cv2))\n"
     ]
    },
    {
     "name": "stdout",
     "output_type": "stream",
     "text": [
      "time elapsed - 00:00:47.34\n",
      "516  -----  129250  -----  129499\n"
     ]
    },
    {
     "name": "stderr",
     "output_type": "stream",
     "text": [
      "C:\\Users\\minio\\anaconda3\\envs\\tfm-py-37\\lib\\site-packages\\gensim\\topic_coherence\\direct_confirmation_measure.py:204: RuntimeWarning: divide by zero encountered in double_scalars\n",
      "  m_lr_i = np.log(numerator / denominator)\n",
      "C:\\Users\\minio\\anaconda3\\envs\\tfm-py-37\\lib\\site-packages\\gensim\\topic_coherence\\indirect_confirmation_measure.py:323: RuntimeWarning: invalid value encountered in double_scalars\n",
      "  return cv1.T.dot(cv2)[0, 0] / (_magnitude(cv1) * _magnitude(cv2))\n"
     ]
    },
    {
     "name": "stdout",
     "output_type": "stream",
     "text": [
      "time elapsed - 00:00:42.17\n",
      "517  -----  129500  -----  129749\n"
     ]
    },
    {
     "name": "stderr",
     "output_type": "stream",
     "text": [
      "C:\\Users\\minio\\anaconda3\\envs\\tfm-py-37\\lib\\site-packages\\gensim\\topic_coherence\\direct_confirmation_measure.py:204: RuntimeWarning: divide by zero encountered in double_scalars\n",
      "  m_lr_i = np.log(numerator / denominator)\n",
      "C:\\Users\\minio\\anaconda3\\envs\\tfm-py-37\\lib\\site-packages\\gensim\\topic_coherence\\indirect_confirmation_measure.py:323: RuntimeWarning: invalid value encountered in double_scalars\n",
      "  return cv1.T.dot(cv2)[0, 0] / (_magnitude(cv1) * _magnitude(cv2))\n"
     ]
    },
    {
     "name": "stdout",
     "output_type": "stream",
     "text": [
      "time elapsed - 00:00:46.98\n",
      "518  -----  129750  -----  129999\n"
     ]
    },
    {
     "name": "stderr",
     "output_type": "stream",
     "text": [
      "C:\\Users\\minio\\anaconda3\\envs\\tfm-py-37\\lib\\site-packages\\gensim\\topic_coherence\\direct_confirmation_measure.py:204: RuntimeWarning: divide by zero encountered in double_scalars\n",
      "  m_lr_i = np.log(numerator / denominator)\n",
      "C:\\Users\\minio\\anaconda3\\envs\\tfm-py-37\\lib\\site-packages\\gensim\\topic_coherence\\indirect_confirmation_measure.py:323: RuntimeWarning: invalid value encountered in double_scalars\n",
      "  return cv1.T.dot(cv2)[0, 0] / (_magnitude(cv1) * _magnitude(cv2))\n"
     ]
    },
    {
     "name": "stdout",
     "output_type": "stream",
     "text": [
      "time elapsed - 00:00:45.08\n",
      "519  -----  130000  -----  130249\n"
     ]
    },
    {
     "name": "stderr",
     "output_type": "stream",
     "text": [
      "C:\\Users\\minio\\anaconda3\\envs\\tfm-py-37\\lib\\site-packages\\gensim\\topic_coherence\\direct_confirmation_measure.py:204: RuntimeWarning: divide by zero encountered in double_scalars\n",
      "  m_lr_i = np.log(numerator / denominator)\n",
      "C:\\Users\\minio\\anaconda3\\envs\\tfm-py-37\\lib\\site-packages\\gensim\\topic_coherence\\indirect_confirmation_measure.py:323: RuntimeWarning: invalid value encountered in double_scalars\n",
      "  return cv1.T.dot(cv2)[0, 0] / (_magnitude(cv1) * _magnitude(cv2))\n"
     ]
    },
    {
     "name": "stdout",
     "output_type": "stream",
     "text": [
      "time elapsed - 00:00:43.11\n",
      "520  -----  130250  -----  130499\n"
     ]
    },
    {
     "name": "stderr",
     "output_type": "stream",
     "text": [
      "C:\\Users\\minio\\anaconda3\\envs\\tfm-py-37\\lib\\site-packages\\gensim\\topic_coherence\\direct_confirmation_measure.py:204: RuntimeWarning: divide by zero encountered in double_scalars\n",
      "  m_lr_i = np.log(numerator / denominator)\n",
      "C:\\Users\\minio\\anaconda3\\envs\\tfm-py-37\\lib\\site-packages\\gensim\\topic_coherence\\indirect_confirmation_measure.py:323: RuntimeWarning: invalid value encountered in double_scalars\n",
      "  return cv1.T.dot(cv2)[0, 0] / (_magnitude(cv1) * _magnitude(cv2))\n"
     ]
    },
    {
     "name": "stdout",
     "output_type": "stream",
     "text": [
      "time elapsed - 00:00:42.77\n",
      "521  -----  130500  -----  130749\n"
     ]
    },
    {
     "name": "stderr",
     "output_type": "stream",
     "text": [
      "C:\\Users\\minio\\anaconda3\\envs\\tfm-py-37\\lib\\site-packages\\gensim\\topic_coherence\\direct_confirmation_measure.py:204: RuntimeWarning: divide by zero encountered in double_scalars\n",
      "  m_lr_i = np.log(numerator / denominator)\n",
      "C:\\Users\\minio\\anaconda3\\envs\\tfm-py-37\\lib\\site-packages\\gensim\\topic_coherence\\indirect_confirmation_measure.py:323: RuntimeWarning: invalid value encountered in double_scalars\n",
      "  return cv1.T.dot(cv2)[0, 0] / (_magnitude(cv1) * _magnitude(cv2))\n"
     ]
    },
    {
     "name": "stdout",
     "output_type": "stream",
     "text": [
      "time elapsed - 00:00:44.18\n",
      "522  -----  130750  -----  130999\n"
     ]
    },
    {
     "name": "stderr",
     "output_type": "stream",
     "text": [
      "C:\\Users\\minio\\anaconda3\\envs\\tfm-py-37\\lib\\site-packages\\gensim\\topic_coherence\\direct_confirmation_measure.py:204: RuntimeWarning: divide by zero encountered in double_scalars\n",
      "  m_lr_i = np.log(numerator / denominator)\n",
      "C:\\Users\\minio\\anaconda3\\envs\\tfm-py-37\\lib\\site-packages\\gensim\\topic_coherence\\indirect_confirmation_measure.py:323: RuntimeWarning: invalid value encountered in double_scalars\n",
      "  return cv1.T.dot(cv2)[0, 0] / (_magnitude(cv1) * _magnitude(cv2))\n"
     ]
    },
    {
     "name": "stdout",
     "output_type": "stream",
     "text": [
      "time elapsed - 00:00:49.76\n",
      "523  -----  131000  -----  131249\n"
     ]
    },
    {
     "name": "stderr",
     "output_type": "stream",
     "text": [
      "C:\\Users\\minio\\anaconda3\\envs\\tfm-py-37\\lib\\site-packages\\gensim\\topic_coherence\\direct_confirmation_measure.py:204: RuntimeWarning: divide by zero encountered in double_scalars\n",
      "  m_lr_i = np.log(numerator / denominator)\n",
      "C:\\Users\\minio\\anaconda3\\envs\\tfm-py-37\\lib\\site-packages\\gensim\\topic_coherence\\indirect_confirmation_measure.py:323: RuntimeWarning: invalid value encountered in double_scalars\n",
      "  return cv1.T.dot(cv2)[0, 0] / (_magnitude(cv1) * _magnitude(cv2))\n"
     ]
    },
    {
     "name": "stdout",
     "output_type": "stream",
     "text": [
      "time elapsed - 00:00:44.94\n",
      "524  -----  131250  -----  131499\n"
     ]
    },
    {
     "name": "stderr",
     "output_type": "stream",
     "text": [
      "C:\\Users\\minio\\anaconda3\\envs\\tfm-py-37\\lib\\site-packages\\gensim\\topic_coherence\\direct_confirmation_measure.py:204: RuntimeWarning: divide by zero encountered in double_scalars\n",
      "  m_lr_i = np.log(numerator / denominator)\n",
      "C:\\Users\\minio\\anaconda3\\envs\\tfm-py-37\\lib\\site-packages\\gensim\\topic_coherence\\indirect_confirmation_measure.py:323: RuntimeWarning: invalid value encountered in double_scalars\n",
      "  return cv1.T.dot(cv2)[0, 0] / (_magnitude(cv1) * _magnitude(cv2))\n"
     ]
    },
    {
     "name": "stdout",
     "output_type": "stream",
     "text": [
      "time elapsed - 00:00:43.30\n",
      "525  -----  131500  -----  131749\n",
      "time elapsed - 00:00:41.31\n",
      "526  -----  131750  -----  131999\n"
     ]
    },
    {
     "name": "stderr",
     "output_type": "stream",
     "text": [
      "C:\\Users\\minio\\anaconda3\\envs\\tfm-py-37\\lib\\site-packages\\gensim\\topic_coherence\\direct_confirmation_measure.py:204: RuntimeWarning: divide by zero encountered in double_scalars\n",
      "  m_lr_i = np.log(numerator / denominator)\n",
      "C:\\Users\\minio\\anaconda3\\envs\\tfm-py-37\\lib\\site-packages\\gensim\\topic_coherence\\indirect_confirmation_measure.py:323: RuntimeWarning: invalid value encountered in double_scalars\n",
      "  return cv1.T.dot(cv2)[0, 0] / (_magnitude(cv1) * _magnitude(cv2))\n"
     ]
    },
    {
     "name": "stdout",
     "output_type": "stream",
     "text": [
      "time elapsed - 00:00:38.44\n",
      "527  -----  132000  -----  132249\n"
     ]
    },
    {
     "name": "stderr",
     "output_type": "stream",
     "text": [
      "C:\\Users\\minio\\anaconda3\\envs\\tfm-py-37\\lib\\site-packages\\gensim\\topic_coherence\\direct_confirmation_measure.py:204: RuntimeWarning: divide by zero encountered in double_scalars\n",
      "  m_lr_i = np.log(numerator / denominator)\n",
      "C:\\Users\\minio\\anaconda3\\envs\\tfm-py-37\\lib\\site-packages\\gensim\\topic_coherence\\indirect_confirmation_measure.py:323: RuntimeWarning: invalid value encountered in double_scalars\n",
      "  return cv1.T.dot(cv2)[0, 0] / (_magnitude(cv1) * _magnitude(cv2))\n"
     ]
    },
    {
     "name": "stdout",
     "output_type": "stream",
     "text": [
      "time elapsed - 00:00:37.77\n",
      "528  -----  132250  -----  132499\n"
     ]
    },
    {
     "name": "stderr",
     "output_type": "stream",
     "text": [
      "C:\\Users\\minio\\anaconda3\\envs\\tfm-py-37\\lib\\site-packages\\gensim\\topic_coherence\\direct_confirmation_measure.py:204: RuntimeWarning: divide by zero encountered in double_scalars\n",
      "  m_lr_i = np.log(numerator / denominator)\n",
      "C:\\Users\\minio\\anaconda3\\envs\\tfm-py-37\\lib\\site-packages\\gensim\\topic_coherence\\indirect_confirmation_measure.py:323: RuntimeWarning: invalid value encountered in double_scalars\n",
      "  return cv1.T.dot(cv2)[0, 0] / (_magnitude(cv1) * _magnitude(cv2))\n"
     ]
    },
    {
     "name": "stdout",
     "output_type": "stream",
     "text": [
      "time elapsed - 00:00:38.15\n",
      "529  -----  132500  -----  132749\n"
     ]
    },
    {
     "name": "stderr",
     "output_type": "stream",
     "text": [
      "C:\\Users\\minio\\anaconda3\\envs\\tfm-py-37\\lib\\site-packages\\gensim\\topic_coherence\\direct_confirmation_measure.py:204: RuntimeWarning: divide by zero encountered in double_scalars\n",
      "  m_lr_i = np.log(numerator / denominator)\n",
      "C:\\Users\\minio\\anaconda3\\envs\\tfm-py-37\\lib\\site-packages\\gensim\\topic_coherence\\indirect_confirmation_measure.py:323: RuntimeWarning: invalid value encountered in double_scalars\n",
      "  return cv1.T.dot(cv2)[0, 0] / (_magnitude(cv1) * _magnitude(cv2))\n"
     ]
    },
    {
     "name": "stdout",
     "output_type": "stream",
     "text": [
      "time elapsed - 00:00:38.29\n",
      "530  -----  132750  -----  132999\n",
      "time elapsed - 00:00:38.20\n",
      "531  -----  133000  -----  133249\n"
     ]
    },
    {
     "name": "stderr",
     "output_type": "stream",
     "text": [
      "C:\\Users\\minio\\anaconda3\\envs\\tfm-py-37\\lib\\site-packages\\gensim\\topic_coherence\\direct_confirmation_measure.py:204: RuntimeWarning: divide by zero encountered in double_scalars\n",
      "  m_lr_i = np.log(numerator / denominator)\n",
      "C:\\Users\\minio\\anaconda3\\envs\\tfm-py-37\\lib\\site-packages\\gensim\\topic_coherence\\indirect_confirmation_measure.py:323: RuntimeWarning: invalid value encountered in double_scalars\n",
      "  return cv1.T.dot(cv2)[0, 0] / (_magnitude(cv1) * _magnitude(cv2))\n"
     ]
    },
    {
     "name": "stdout",
     "output_type": "stream",
     "text": [
      "time elapsed - 00:00:38.60\n",
      "532  -----  133250  -----  133499\n"
     ]
    },
    {
     "name": "stderr",
     "output_type": "stream",
     "text": [
      "C:\\Users\\minio\\anaconda3\\envs\\tfm-py-37\\lib\\site-packages\\gensim\\topic_coherence\\direct_confirmation_measure.py:204: RuntimeWarning: divide by zero encountered in double_scalars\n",
      "  m_lr_i = np.log(numerator / denominator)\n",
      "C:\\Users\\minio\\anaconda3\\envs\\tfm-py-37\\lib\\site-packages\\gensim\\topic_coherence\\indirect_confirmation_measure.py:323: RuntimeWarning: invalid value encountered in double_scalars\n",
      "  return cv1.T.dot(cv2)[0, 0] / (_magnitude(cv1) * _magnitude(cv2))\n"
     ]
    },
    {
     "name": "stdout",
     "output_type": "stream",
     "text": [
      "time elapsed - 00:00:38.07\n",
      "533  -----  133500  -----  133749\n",
      "time elapsed - 00:00:38.51\n",
      "534  -----  133750  -----  133999\n"
     ]
    },
    {
     "name": "stderr",
     "output_type": "stream",
     "text": [
      "C:\\Users\\minio\\anaconda3\\envs\\tfm-py-37\\lib\\site-packages\\gensim\\topic_coherence\\direct_confirmation_measure.py:204: RuntimeWarning: divide by zero encountered in double_scalars\n",
      "  m_lr_i = np.log(numerator / denominator)\n",
      "C:\\Users\\minio\\anaconda3\\envs\\tfm-py-37\\lib\\site-packages\\gensim\\topic_coherence\\indirect_confirmation_measure.py:323: RuntimeWarning: invalid value encountered in double_scalars\n",
      "  return cv1.T.dot(cv2)[0, 0] / (_magnitude(cv1) * _magnitude(cv2))\n"
     ]
    },
    {
     "name": "stdout",
     "output_type": "stream",
     "text": [
      "time elapsed - 00:00:38.14\n",
      "535  -----  134000  -----  134249\n"
     ]
    },
    {
     "name": "stderr",
     "output_type": "stream",
     "text": [
      "C:\\Users\\minio\\anaconda3\\envs\\tfm-py-37\\lib\\site-packages\\gensim\\topic_coherence\\direct_confirmation_measure.py:204: RuntimeWarning: divide by zero encountered in double_scalars\n",
      "  m_lr_i = np.log(numerator / denominator)\n",
      "C:\\Users\\minio\\anaconda3\\envs\\tfm-py-37\\lib\\site-packages\\gensim\\topic_coherence\\indirect_confirmation_measure.py:323: RuntimeWarning: invalid value encountered in double_scalars\n",
      "  return cv1.T.dot(cv2)[0, 0] / (_magnitude(cv1) * _magnitude(cv2))\n"
     ]
    },
    {
     "name": "stdout",
     "output_type": "stream",
     "text": [
      "time elapsed - 00:00:38.51\n",
      "536  -----  134250  -----  134499\n"
     ]
    },
    {
     "name": "stderr",
     "output_type": "stream",
     "text": [
      "C:\\Users\\minio\\anaconda3\\envs\\tfm-py-37\\lib\\site-packages\\gensim\\topic_coherence\\direct_confirmation_measure.py:204: RuntimeWarning: divide by zero encountered in double_scalars\n",
      "  m_lr_i = np.log(numerator / denominator)\n",
      "C:\\Users\\minio\\anaconda3\\envs\\tfm-py-37\\lib\\site-packages\\gensim\\topic_coherence\\indirect_confirmation_measure.py:323: RuntimeWarning: invalid value encountered in double_scalars\n",
      "  return cv1.T.dot(cv2)[0, 0] / (_magnitude(cv1) * _magnitude(cv2))\n"
     ]
    },
    {
     "name": "stdout",
     "output_type": "stream",
     "text": [
      "time elapsed - 00:00:38.35\n",
      "537  -----  134500  -----  134749\n"
     ]
    },
    {
     "name": "stderr",
     "output_type": "stream",
     "text": [
      "C:\\Users\\minio\\anaconda3\\envs\\tfm-py-37\\lib\\site-packages\\gensim\\topic_coherence\\direct_confirmation_measure.py:204: RuntimeWarning: divide by zero encountered in double_scalars\n",
      "  m_lr_i = np.log(numerator / denominator)\n",
      "C:\\Users\\minio\\anaconda3\\envs\\tfm-py-37\\lib\\site-packages\\gensim\\topic_coherence\\indirect_confirmation_measure.py:323: RuntimeWarning: invalid value encountered in double_scalars\n",
      "  return cv1.T.dot(cv2)[0, 0] / (_magnitude(cv1) * _magnitude(cv2))\n"
     ]
    },
    {
     "name": "stdout",
     "output_type": "stream",
     "text": [
      "time elapsed - 00:00:38.04\n",
      "538  -----  134750  -----  134999\n"
     ]
    },
    {
     "name": "stderr",
     "output_type": "stream",
     "text": [
      "C:\\Users\\minio\\anaconda3\\envs\\tfm-py-37\\lib\\site-packages\\gensim\\topic_coherence\\direct_confirmation_measure.py:204: RuntimeWarning: divide by zero encountered in double_scalars\n",
      "  m_lr_i = np.log(numerator / denominator)\n",
      "C:\\Users\\minio\\anaconda3\\envs\\tfm-py-37\\lib\\site-packages\\gensim\\topic_coherence\\indirect_confirmation_measure.py:323: RuntimeWarning: invalid value encountered in double_scalars\n",
      "  return cv1.T.dot(cv2)[0, 0] / (_magnitude(cv1) * _magnitude(cv2))\n"
     ]
    },
    {
     "name": "stdout",
     "output_type": "stream",
     "text": [
      "time elapsed - 00:00:38.57\n",
      "539  -----  135000  -----  135249\n"
     ]
    },
    {
     "name": "stderr",
     "output_type": "stream",
     "text": [
      "C:\\Users\\minio\\anaconda3\\envs\\tfm-py-37\\lib\\site-packages\\gensim\\topic_coherence\\direct_confirmation_measure.py:204: RuntimeWarning: divide by zero encountered in double_scalars\n",
      "  m_lr_i = np.log(numerator / denominator)\n",
      "C:\\Users\\minio\\anaconda3\\envs\\tfm-py-37\\lib\\site-packages\\gensim\\topic_coherence\\indirect_confirmation_measure.py:323: RuntimeWarning: invalid value encountered in double_scalars\n",
      "  return cv1.T.dot(cv2)[0, 0] / (_magnitude(cv1) * _magnitude(cv2))\n"
     ]
    },
    {
     "name": "stdout",
     "output_type": "stream",
     "text": [
      "time elapsed - 00:00:37.97\n",
      "540  -----  135250  -----  135499\n"
     ]
    },
    {
     "name": "stderr",
     "output_type": "stream",
     "text": [
      "C:\\Users\\minio\\anaconda3\\envs\\tfm-py-37\\lib\\site-packages\\gensim\\topic_coherence\\direct_confirmation_measure.py:204: RuntimeWarning: divide by zero encountered in double_scalars\n",
      "  m_lr_i = np.log(numerator / denominator)\n",
      "C:\\Users\\minio\\anaconda3\\envs\\tfm-py-37\\lib\\site-packages\\gensim\\topic_coherence\\indirect_confirmation_measure.py:323: RuntimeWarning: invalid value encountered in double_scalars\n",
      "  return cv1.T.dot(cv2)[0, 0] / (_magnitude(cv1) * _magnitude(cv2))\n"
     ]
    },
    {
     "name": "stdout",
     "output_type": "stream",
     "text": [
      "time elapsed - 00:00:37.85\n",
      "541  -----  135500  -----  135749\n"
     ]
    },
    {
     "name": "stderr",
     "output_type": "stream",
     "text": [
      "C:\\Users\\minio\\anaconda3\\envs\\tfm-py-37\\lib\\site-packages\\gensim\\topic_coherence\\direct_confirmation_measure.py:204: RuntimeWarning: divide by zero encountered in double_scalars\n",
      "  m_lr_i = np.log(numerator / denominator)\n",
      "C:\\Users\\minio\\anaconda3\\envs\\tfm-py-37\\lib\\site-packages\\gensim\\topic_coherence\\indirect_confirmation_measure.py:323: RuntimeWarning: invalid value encountered in double_scalars\n",
      "  return cv1.T.dot(cv2)[0, 0] / (_magnitude(cv1) * _magnitude(cv2))\n"
     ]
    },
    {
     "name": "stdout",
     "output_type": "stream",
     "text": [
      "time elapsed - 00:00:38.63\n"
     ]
    }
   ],
   "source": [
    "documents_len = len(documents)\n",
    "\n",
    "while index+(index+1)*chunk_size < documents_len:\n",
    "    \n",
    "    time_start = time.time()\n",
    "    \n",
    "    print(index, ' ----- ', (index+1)*chunk_size, ' ----- ', ((index+1)*chunk_size)+chunk_size-1)\n",
    "    documents_sample = documents[(index+1)*chunk_size:((index+1)*chunk_size)+chunk_size-1]\n",
    "    \n",
    "    data_words = list(sent_to_words(documents_sample))\n",
    "    # Compute bigrams & trigrams\n",
    "    bi_tri_grams(data_words, 250)\n",
    "    # Categorizing and tagging words\n",
    "    data_words = list(map(tag_words, data_words))\n",
    "    # Create Corpus\n",
    "    texts = data_words\n",
    "    # Term Document Frequency\n",
    "    corpus = [id2word.doc2bow(text) for text in texts]\n",
    "    # Load LDA Model\n",
    "    temp_file = datapath(file_model)\n",
    "    lda_model = gensim.models.ldamodel.LdaModel.load(temp_file)\n",
    "    # Update LDA Model\n",
    "    lda_model.update(corpus)\n",
    "    \n",
    "    index = index + 1\n",
    "    indixes.append(index)\n",
    "    \n",
    "    # Evaluate LDA Model\n",
    "    # Compute Perplexity Score\n",
    "    perplexity = lda_model.log_perplexity(corpus)\n",
    "    perplexity_score.append(perplexity)\n",
    "\n",
    "    # Evaluate LDA Model\n",
    "    # Compute Coherence Score\n",
    "    coherence_lda_model = CoherenceModel(model=lda_model, texts=data_words, dictionary=id2word, coherence='c_v')\n",
    "    coherence = coherence_lda_model.get_coherence()\n",
    "    coherence_score.append(coherence)\n",
    "    \n",
    "    # Save LDA Model\n",
    "    temp_file = datapath(file_model)\n",
    "    lda_model.save(temp_file)\n",
    "    temp_file = datapath(file_model + '_' + str(index).zfill(5))\n",
    "    lda_model.save(temp_file)\n",
    "    \n",
    "    time_end = time.time()\n",
    "    hour, rem = divmod(time_end - time_start, 3600)\n",
    "    minute, second = divmod(rem, 60)\n",
    "    print('time elapsed - {:0>2}:{:0>2}:{:05.2f}'.format(int(hour), int(minute), second))"
   ]
  },
  {
   "cell_type": "markdown",
   "metadata": {},
   "source": [
    "### Topics in LDA model"
   ]
  },
  {
   "cell_type": "code",
   "execution_count": 16,
   "metadata": {},
   "outputs": [
    {
     "name": "stdout",
     "output_type": "stream",
     "text": [
      "[(0,\n",
      "  '0.045*\"fitness\" + 0.041*\"bikini\" + 0.028*\"jewellery\" + 0.016*\"italy\" + '\n",
      "  '0.016*\"diamond\" + 0.016*\"shot\" + 0.016*\"shoulder\" + 0.016*\"sarah\" + '\n",
      "  '0.016*\"competitor\" + 0.016*\"tiques\"'),\n",
      " (1,\n",
      "  '0.051*\"room\" + 0.038*\"honeymoon\" + 0.029*\"point\" + 0.029*\"perfume\" + '\n",
      "  '0.025*\"wedding\" + 0.017*\"mayfair\" + 0.017*\"wire\" + 0.017*\"tasmania\" + '\n",
      "  '0.017*\"crate\" + 0.013*\"designer\"'),\n",
      " (2,\n",
      "  '0.000*\"hilt\" + 0.000*\"marge\" + 0.000*\"bello\" + 0.000*\"dickie\" + '\n",
      "  '0.000*\"flash\" + 0.000*\"caption\" + 0.000*\"bathtime\" + 0.000*\"improv\" + '\n",
      "  '0.000*\"earth\" + 0.000*\"bury\"'),\n",
      " (3,\n",
      "  '0.038*\"life\" + 0.017*\"help\" + 0.017*\"visit\" + 0.016*\"month\" + 0.014*\"color\" '\n",
      "  '+ 0.014*\"talk\" + 0.014*\"experience\" + 0.012*\"kid\" + 0.012*\"bracelet\" + '\n",
      "  '0.012*\"nail\"'),\n",
      " (4,\n",
      "  '0.037*\"season\" + 0.037*\"store\" + 0.033*\"split\" + 0.028*\"villa\" + '\n",
      "  '0.023*\"lover\" + 0.023*\"piece\" + 0.023*\"drop\" + 0.023*\"resort\" + '\n",
      "  '0.023*\"ikea\" + 0.019*\"comment\"'),\n",
      " (5,\n",
      "  '0.020*\"heart\" + 0.020*\"picture\" + 0.018*\"support\" + 0.015*\"michael\" + '\n",
      "  '0.015*\"course\" + 0.015*\"giappone\" + 0.015*\"japan\" + 0.013*\"game\" + '\n",
      "  '0.013*\"masterclass\" + 0.010*\"challenge\"'),\n",
      " (6,\n",
      "  '0.051*\"year\" + 0.048*\"food\" + 0.039*\"artist\" + 0.030*\"coffee\" + '\n",
      "  '0.024*\"baby\" + 0.021*\"wear\" + 0.018*\"calorie\" + 0.017*\"delhi\" + '\n",
      "  '0.015*\"beach\" + 0.015*\"house\"'),\n",
      " (7,\n",
      "  '0.027*\"face\" + 0.027*\"brow\" + 0.023*\"product\" + 0.023*\"makeup\" + '\n",
      "  '0.023*\"weekend\" + 0.023*\"care\" + 0.023*\"decor\" + 0.019*\"palette\" + '\n",
      "  '0.017*\"eye\" + 0.015*\"decay\"'),\n",
      " (8,\n",
      "  '0.061*\"style\" + 0.060*\"fashion\" + 0.031*\"blogger\" + 0.024*\"beauty\" + '\n",
      "  '0.020*\"time\" + 0.019*\"shop\" + 0.016*\"travel\" + 0.016*\"love\" + 0.016*\"dress\" '\n",
      "  '+ 0.016*\"hair\"'),\n",
      " (9,\n",
      "  '0.049*\"london\" + 0.036*\"music\" + 0.022*\"song\" + 0.022*\"winter\" + '\n",
      "  '0.022*\"match\" + 0.018*\"cancer\" + 0.018*\"hijab\" + 0.013*\"raise\" + '\n",
      "  '0.013*\"plate\" + 0.013*\"sherine\"')]\n"
     ]
    },
    {
     "name": "stderr",
     "output_type": "stream",
     "text": [
      "C:\\Users\\minio\\anaconda3\\envs\\tfm-py-37\\lib\\site-packages\\ipykernel\\ipkernel.py:287: DeprecationWarning: `should_run_async` will not call `transform_cell` automatically in the future. Please pass the result to `transformed_cell` argument and any exception that happen during thetransform in `preprocessing_exc_tuple` in IPython 7.17 and above.\n",
      "  and should_run_async(code)\n"
     ]
    }
   ],
   "source": [
    "# Print the Keyword in the 10 topics\n",
    "pprint(lda_model.print_topics())\n",
    "doc_lda = lda_model[corpus]"
   ]
  },
  {
   "cell_type": "markdown",
   "metadata": {},
   "source": [
    "### Plot perplexity score progress along incremental learning iterations  \n",
    "\n",
    "Lower the perplexity score represents a better model.  "
   ]
  },
  {
   "cell_type": "code",
   "execution_count": 17,
   "metadata": {},
   "outputs": [
    {
     "name": "stderr",
     "output_type": "stream",
     "text": [
      "C:\\Users\\minio\\anaconda3\\envs\\tfm-py-37\\lib\\site-packages\\ipykernel\\ipkernel.py:287: DeprecationWarning: `should_run_async` will not call `transform_cell` automatically in the future. Please pass the result to `transformed_cell` argument and any exception that happen during thetransform in `preprocessing_exc_tuple` in IPython 7.17 and above.\n",
      "  and should_run_async(code)\n"
     ]
    },
    {
     "data": {
      "image/png": "[encoded data removed]",
      "text/plain": [
       "<Figure size 432x288 with 1 Axes>"
      ]
     },
     "metadata": {
      "needs_background": "light"
     },
     "output_type": "display_data"
    }
   ],
   "source": [
    "plt.title('Perplexity score progress')\n",
    "plt.xlabel('Index')\n",
    "plt.ylabel('Perplexity score')\n",
    "plt.plot(indixes, perplexity_score, 'go', perplexity_score, 'k')\n",
    "plt.show()"
   ]
  },
  {
   "cell_type": "markdown",
   "metadata": {},
   "source": [
    "### Plot coherence score progress along incremental learning iterations  \n",
    "\n",
    "Higher the coherence score represents a more human interpretable model.  "
   ]
  },
  {
   "cell_type": "code",
   "execution_count": 18,
   "metadata": {},
   "outputs": [
    {
     "name": "stderr",
     "output_type": "stream",
     "text": [
      "C:\\Users\\minio\\anaconda3\\envs\\tfm-py-37\\lib\\site-packages\\ipykernel\\ipkernel.py:287: DeprecationWarning: `should_run_async` will not call `transform_cell` automatically in the future. Please pass the result to `transformed_cell` argument and any exception that happen during thetransform in `preprocessing_exc_tuple` in IPython 7.17 and above.\n",
      "  and should_run_async(code)\n"
     ]
    },
    {
     "data": {
      "image/png": "[encoded data removed]",
      "text/plain": [
       "<Figure size 432x288 with 1 Axes>"
      ]
     },
     "metadata": {
      "needs_background": "light"
     },
     "output_type": "display_data"
    }
   ],
   "source": [
    "plt.title('Coherence score progress')\n",
    "plt.xlabel('Index')\n",
    "plt.ylabel('Coherence score')\n",
    "plt.plot(indixes, coherence_score, 'go', coherence_score, 'k') \n",
    "plt.show()"
   ]
  },
  {
   "cell_type": "markdown",
   "metadata": {},
   "source": [
    "### Visualize the topics-keywords"
   ]
  },
  {
   "cell_type": "code",
   "execution_count": 19,
   "metadata": {},
   "outputs": [
    {
     "name": "stderr",
     "output_type": "stream",
     "text": [
      "C:\\Users\\minio\\anaconda3\\envs\\tfm-py-37\\lib\\site-packages\\ipykernel\\ipkernel.py:287: DeprecationWarning: `should_run_async` will not call `transform_cell` automatically in the future. Please pass the result to `transformed_cell` argument and any exception that happen during thetransform in `preprocessing_exc_tuple` in IPython 7.17 and above.\n",
      "  and should_run_async(code)\n"
     ]
    },
    {
     "data": {
      "text/html": [
       "\n",
       "<link rel=\"stylesheet\" type=\"text/css\" href=\"https://cdn.rawgit.com/bmabey/pyLDAvis/files/ldavis.v1.0.0.css\">\n",
       "\n",
       "\n",
       "<div id=\"ldavis_el57217859124407762181280560\"></div>\n",
       "<script type=\"text/javascript\">\n",
       "\n",
       "var ldavis_el57217859124407762181280560_data = {\"mdsDat\": {\"x\": [-0.4119367885274951, -0.07655116392409958, -0.09612417039599036, -0.0013246051104496696, 0.03862145191771424, 0.088016749577672, 0.08089332670288, 0.10411279290006539, 0.13049945890321724, 0.14379294795648617], \"y\": [-0.12529471799846556, 0.3041482499597602, -0.009615759335802386, 0.20795350146447097, -0.18137173268554824, -0.11497723466962517, -0.0576558075983502, 0.13453213921996549, -0.11145242431221933, -0.04626621404418595], \"topics\": [1, 2, 3, 4, 5, 6, 7, 8, 9, 10], \"cluster\": [1, 1, 1, 1, 1, 1, 1, 1, 1, 1], \"Freq\": [36.575546932311084, 12.900990381021064, 12.005958030844404, 9.041984131279523, 7.7257497888440385, 5.667777130981086, 5.547305897728287, 5.078497820146258, 4.9388640574385745, 0.5173258294056791]}, \"tinfo\": {\"Term\": [\"style\", \"fashion\", \"blogger\", \"life\", \"year\", \"food\", \"beauty\", \"room\", \"artist\", \"london\", \"time\", \"fitness\", \"shop\", \"face\", \"brow\", \"bikini\", \"honeymoon\", \"travel\", \"love\", \"dress\", \"coffee\", \"product\", \"makeup\", \"weekend\", \"care\", \"decor\", \"hair\", \"season\", \"store\", \"music\", \"style\", \"fashion\", \"blogger\", \"beauty\", \"time\", \"shop\", \"travel\", \"love\", \"dress\", \"hair\", \"week\", \"fall\", \"thing\", \"today\", \"work\", \"post\", \"story\", \"night\", \"feel\", \"model\", \"design\", \"friend\", \"blog\", \"gram\", \"link\", \"team\", \"people\", \"shoe\", \"collection\", \"goal\", \"life\", \"help\", \"visit\", \"month\", \"color\", \"talk\", \"experience\", \"bracelet\", \"kid\", \"nail\", \"amaze\", \"view\", \"office\", \"cocktail\", \"start\", \"call\", \"direction\", \"rock\", \"word\", \"person\", \"mine\", \"tool\", \"create\", \"grow\", \"disney\", \"zinc\", \"bartender\", \"airline\", \"wait\", \"learn\", \"victorinox\", \"brow\", \"face\", \"product\", \"makeup\", \"weekend\", \"decor\", \"care\", \"palette\", \"eye\", \"decay\", \"benefit\", \"honey\", \"lash\", \"guide\", \"glam\", \"guy\", \"matte\", \"liner\", \"skin\", \"decoration\", \"doll\", \"eyeshadow\", \"skincare\", \"haha\", \"space\", \"base\", \"glass\", \"stacey\", \"louise\", \"colour\", \"houston\", \"scout\", \"marie\", \"heart\", \"picture\", \"support\", \"michael\", \"giappone\", \"course\", \"masterclass\", \"game\", \"challenge\", \"youtube\", \"boy\", \"pucci\", \"kind\", \"opportunity\", \"floor\", \"buff\", \"hammer\", \"bunny\", \"process\", \"russell\", \"bahrain\", \"emilio\", \"hangar\", \"plant\", \"mazz\", \"versailles\", \"wife\", \"failure\", \"cream\", \"search\", \"miranda\", \"strength\", \"japan\", \"rep\", \"year\", \"food\", \"artist\", \"coffee\", \"baby\", \"wear\", \"beach\", \"apple\", \"recipe\", \"gain\", \"house\", \"bloom\", \"chocolate\", \"foodie\", \"oat\", \"flower\", \"breakfast\", \"label\", \"revolve\", \"silver\", \"festival\", \"orange\", \"calorie\", \"cost\", \"edition\", \"eat\", \"brooklyn\", \"stuff\", \"flavor\", \"bedroom\", \"metabolism\", \"rate\", \"delhi\", \"prep\", \"fitness\", \"bikini\", \"jewellery\", \"diamond\", \"shot\", \"shoulder\", \"sarah\", \"competitor\", \"italy\", \"tiques\", \"jewelry\", \"gold\", \"vintage\", \"park\", \"turban\", \"monday\", \"sport\", \"power\", \"headshot\", \"ring\", \"rest\", \"hope\", \"suede\", \"emotion\", \"boutique\", \"rosen\", \"train\", \"mandy\", \"promise\", \"sail\", \"man\", \"bridge\", \"room\", \"honeymoon\", \"point\", \"perfume\", \"wedding\", \"mayfair\", \"wire\", \"tasmania\", \"hello\", \"designer\", \"traveler\", \"business\", \"kitchen\", \"salon\", \"comfort\", \"service\", \"pumphouse\", \"douro\", \"traveltravel\", \"sponsor\", \"architecture\", \"wanderlust\", \"cape\", \"highlight\", \"muse\", \"parfum\", \"reason\", \"trust\", \"matter\", \"tile\", \"crate\", \"walmart\", \"planner\", \"fragrance\", \"price\", \"music\", \"song\", \"winter\", \"match\", \"cancer\", \"hijab\", \"plate\", \"raise\", \"studio\", \"sunday\", \"director\", \"gore\", \"jean\", \"moscow\", \"protection\", \"prize\", \"ranch\", \"credit\", \"parent\", \"circulation\", \"skill\", \"revolver\", \"pack\", \"camila\", \"egypt\", \"diab\", \"mykonos\", \"bella\", \"england\", \"chez\", \"london\", \"sherine\", \"content\", \"mercury\", \"season\", \"store\", \"split\", \"villa\", \"piece\", \"lover\", \"drop\", \"resort\", \"comment\", \"october\", \"enter\", \"hotel\", \"princess\", \"forget\", \"dance\", \"ciel\", \"labor\", \"largo\", \"partner\", \"miami\", \"entry\", \"flight\", \"pair\", \"sign\", \"florida\", \"wood\", \"deets\", \"term\", \"browne\", \"bergdorf\", \"ikea\", \"nars\", \"tiff\", \"hilt\", \"bello\", \"marge\", \"dickie\", \"improv\", \"bathtime\", \"flash\", \"caption\", \"fathy\", \"heartless\", \"explains\", \"tablas\", \"uniform\", \"bury\", \"pisa\", \"dignidad\", \"farb\", \"destefano\", \"parkwood\", \"memorize\", \"georgetown\", \"phonograph\", \"galaga\", \"brink\", \"veux\", \"fuerza\", \"protools\", \"dreamland\", \"aldridge\", \"ovation\", \"earth\", \"anna\", \"tooth\", \"vest\", \"ferment\", \"jordan\", \"baking\", \"swear\", \"indy\", \"yawl\", \"llll\", \"dddd\", \"bluebeard\", \"lev\", \"grape\", \"tote\"], \"Freq\": [96.0, 94.0, 49.0, 21.0, 16.0, 15.0, 37.0, 12.0, 12.0, 10.0, 31.0, 10.0, 29.0, 13.0, 13.0, 9.0, 9.0, 25.0, 25.0, 25.0, 9.0, 11.0, 11.0, 11.0, 11.0, 11.0, 24.0, 7.0, 7.0, 7.0, 96.22590331258066, 94.31466965228583, 49.53645737006517, 37.160173926929055, 31.441705251450525, 29.526209016699703, 25.729920198583475, 25.724172047798778, 25.718579808985208, 24.770840945982847, 22.869497399781253, 22.863037349052902, 21.914733672872106, 20.007943503754507, 20.00459580897816, 19.05319154378658, 17.14686028537646, 15.242041078912775, 15.241264460792426, 15.240393707142339, 15.241427727101819, 14.28947041567302, 14.287777447005366, 13.338317668849962, 13.338280897158658, 13.33457578154283, 12.38449088463525, 11.430350805610624, 11.432008473454625, 11.430782505266537, 21.302196355818793, 9.67845232096749, 9.677528844524273, 8.711607763794156, 7.745331300275497, 7.742536487017288, 7.741484346440409, 6.773579866585337, 6.774815664836878, 6.7735030831507315, 5.8080146874507514, 5.8073500956958295, 5.806492507740415, 5.807545167124284, 5.8078766847912595, 4.839023306950431, 4.83829593954965, 4.8383659784933775, 3.8712365962822193, 3.870713898239218, 3.8712788790519506, 3.8704435997971305, 3.8707870500248887, 3.870286401278987, 3.8699481391211346, 3.8699854932244557, 3.8699294620694737, 3.869892367369648, 2.9049336736070415, 2.9035043603480166, 4.83567285140532, 13.740788220834943, 13.742646087969064, 11.782985409317954, 11.781392124093786, 11.780410081019253, 11.77894522424043, 11.780025761310636, 9.819246886120382, 8.833170385902386, 7.853384465437626, 6.87286466814234, 6.8715900399630065, 6.870090903411176, 6.868537691724465, 5.888646035058464, 5.888913996664347, 4.909656757205788, 4.907451747018281, 4.907338285797771, 4.907208408911317, 4.905926538526418, 3.928304347677448, 3.926838283864362, 3.9259334909825165, 3.926556803474759, 3.9264392383377635, 3.924343826861131, 3.9250576669229287, 3.9248819227345657, 2.9473688477827658, 4.893887578809868, 5.843802298203713, 4.977727212932971, 7.95467505164269, 7.952697691792743, 6.959615068572685, 5.964192193790607, 5.96338605057852, 5.963836574457535, 4.96955364508362, 4.9708699456825185, 3.977550970144979, 3.975768873671166, 3.975029272726923, 3.97493873160838, 2.9828947859189174, 2.9818517449609225, 2.9810881451659816, 2.9814884896299008, 2.9814855806783007, 2.9814855806783007, 2.98142976516948, 2.981509761338474, 2.9812605005482684, 2.981223047796421, 3.9744576637375673, 2.9811012354481803, 2.9809543333923916, 2.980522354079825, 1.9892914603624996, 1.9889383863620769, 1.9893300039711965, 1.9880438837451457, 3.972187954251842, 2.9780190194187433, 5.672852327837212, 3.9222190745277437, 16.863522615806527, 15.872189250871038, 12.894596368908054, 9.921302776868266, 7.936811070193642, 6.94228819012941, 4.9640229662811155, 4.959796066483089, 4.959317608145054, 4.958945094153298, 4.959980614699187, 4.95889786969396, 4.958548346557409, 3.9664491375938313, 3.9662375595885053, 2.9773781970853332, 2.9765123117683836, 2.9764017071136175, 2.976050941228136, 2.975053945899076, 2.974865980123419, 2.975091539054207, 5.945871982070383, 2.973576317421353, 1.9855845490149096, 1.984375043618826, 1.9842964397490062, 1.98476045113073, 1.9839309162199816, 1.9841437369742372, 3.9640223596208517, 2.9730730041047195, 5.71588762234306, 2.0171216332668873, 10.905225971421537, 9.912015476329671, 6.938906802306486, 3.9662252632433623, 3.9657493519324727, 3.9655660987265553, 3.965390595034321, 3.9648704659100633, 3.9669642021657303, 3.9648134841918052, 2.977668123191306, 2.9757008863501717, 2.9749133990038477, 2.9746939054251187, 2.9732730092986404, 1.9847047008298058, 1.9831814655373365, 1.9838650182295579, 1.9831443134570326, 1.9831253955265709, 1.9832842605570737, 1.9834839244978493, 1.9826387716526488, 1.9824099330721252, 1.982785784485754, 1.982394889898505, 1.9823912430685366, 1.98237346477244, 1.9818478654032297, 1.9822624643852738, 1.9823012119536891, 1.9856670080877445, 12.104415078981415, 9.074892128639176, 7.06104271974216, 7.06038239648472, 6.0521950468885395, 4.034434561184282, 4.033277210826309, 4.033167900557341, 3.027233904077175, 3.0273793536595575, 3.0270146142926944, 3.0261930026179806, 3.0253374824516692, 3.0252888505360875, 3.025126892872269, 3.0250220442469327, 3.0248826178834527, 3.024961812057909, 2.0180114531585214, 2.01796995987275, 2.0174776174980305, 2.017350237572355, 2.0169234813590164, 2.0166912528080045, 2.01681439417223, 2.01665221342623, 2.017155263745665, 2.016148270778069, 2.015861610174755, 2.016646636371691, 4.023507103602375, 3.02341786027928, 3.019740127433957, 2.9815167802798044, 2.4133286946489876, 7.8785608665965405, 4.925149565396755, 4.923813497348674, 4.922961861188402, 3.940907323862473, 3.937962337428152, 2.954303578989768, 2.954605429887821, 1.9741169227961755, 1.970499817751913, 1.970414245677296, 1.9700576613281748, 1.9700678727929264, 1.96998883605575, 1.970022738118725, 1.9693430630248676, 1.9702014387518754, 1.96939391611933, 1.9695395316066857, 1.9688917162828532, 1.9686936138666749, 1.9688943712636884, 1.9682886271746318, 1.9691551720734408, 1.9690056762294794, 1.9685422799590582, 1.9679246905708898, 0.9860228146429946, 0.9857849896289331, 0.9853325196257958, 10.800582125150337, 2.947136560339308, 2.9111088788617945, 1.9693438799420477, 7.949559185678876, 7.947027254510684, 6.950236857930739, 5.957345651238929, 4.968205468397327, 4.96836197622291, 4.966056067777452, 4.96582051158311, 3.9735620890693553, 3.972329093407908, 2.9818544231550197, 2.981319952902933, 2.9804935200828164, 2.9799785140019317, 2.978947508770202, 2.978685536914943, 2.978620590139606, 2.9786388626268567, 1.9910776610205179, 1.9882162292398355, 1.9875304151259536, 1.987255334747232, 1.9874112467308396, 1.9874374637777648, 1.9867822362186287, 1.9865303936769543, 1.986339128402796, 1.9864348603468711, 1.9858902607811995, 1.9858902607811995, 4.961197175080665, 1.986139322726988, 1.9867562177856954, 0.00036848543707804004, 0.0003620651670100212, 0.0003620651670100212, 0.0003620651670100212, 0.00036206033170438226, 0.00036206033170438226, 0.00036206033170438226, 0.00036206033170438226, 0.0003573999909904813, 0.0003573999909904813, 0.0003573999909904813, 0.0003573999909904813, 0.0003573999909904813, 0.0003573999909904813, 0.00035739783745099507, 0.00035739783745099507, 0.00035739783745099507, 0.00035739783745099507, 0.00035739783745099507, 0.00035739783745099507, 0.00035739783745099507, 0.00035739783745099507, 0.00035739783745099507, 0.00035739783745099507, 0.00035739783745099507, 0.00035739783745099507, 0.00035739783745099507, 0.00035739783745099507, 0.00035739783745099507, 0.00035739783745099507, 0.0003574006004827887, 0.0003573998690920198, 0.0003573994221309944, 0.0003573994221309944, 0.0003573986094745845, 0.00035739885327150747, 0.0003573986094745845, 0.000357398731373046, 0.0003573986094745845, 0.0003573986094745845, 0.0003573986094745845, 0.0003573986094745845, 0.0003573986094745845, 0.0003573986094745845, 0.0003573986094745845, 0.00035739852820894347], \"Total\": [96.0, 94.0, 49.0, 21.0, 16.0, 15.0, 37.0, 12.0, 12.0, 10.0, 31.0, 10.0, 29.0, 13.0, 13.0, 9.0, 9.0, 25.0, 25.0, 25.0, 9.0, 11.0, 11.0, 11.0, 11.0, 11.0, 24.0, 7.0, 7.0, 7.0, 96.22771879242417, 94.31648514901629, 49.538272741788695, 37.161989680487586, 31.443521012925665, 29.528024771852074, 25.731735798631288, 25.725987691213327, 25.720395449795834, 24.772656591801745, 22.871313321930646, 22.864853170925816, 21.916549393218848, 20.0097589992418, 20.006411746658355, 19.05500736753766, 17.14867590810623, 15.243856800332017, 15.243080142960599, 15.242209434350839, 15.243243782976846, 14.291285916386908, 14.289593311927124, 13.340133341937198, 13.340096565343039, 13.336391779586428, 12.386306652638437, 11.432166177422088, 11.433824372788688, 11.432598397647954, 21.304009280617358, 9.680265479728748, 9.679342355801365, 8.71342082880346, 7.747144378832725, 7.744349171717814, 7.7432980435304515, 6.775392371534104, 6.776628561002623, 6.77531583477023, 5.809827356130901, 5.809162667521973, 5.808304981138535, 5.809358003276125, 5.8096903180521275, 4.840835989096711, 4.8401086668069215, 4.8401791725600765, 3.873049026322632, 3.872526361758001, 3.873091634654946, 3.872256226112473, 3.8725999199057513, 3.8720991040061987, 3.871769717012629, 3.8718121382859367, 3.871762952733588, 3.8717509191055592, 2.9067465658686698, 2.905316811266613, 4.839273042199179, 13.742598104907058, 13.744456288460858, 11.784795680348376, 11.783202218564908, 11.782220512172872, 11.780755512017386, 11.781836675685524, 9.821056803769928, 8.834980595588693, 7.855194355091712, 6.874674597953095, 6.873400323446008, 6.871900872625594, 6.870474872861876, 5.8904561456264455, 5.890725344403801, 4.911466666458938, 4.909261631272737, 4.909148273946536, 4.90901858182773, 4.907747310455964, 3.93011422943882, 3.9286483148149722, 3.927743495295524, 3.92836711018691, 3.92824967758387, 3.9261546007075423, 3.9268690863368065, 3.926764604282866, 2.949178733516021, 4.9072922803804415, 5.887548796538927, 5.899210539309843, 7.9564832140008575, 7.954506729971931, 6.961422649912645, 5.965999862550452, 5.9651938314354815, 5.965645188124543, 4.9713614951247616, 4.972678453537364, 3.9793586731928414, 3.977576983343269, 3.976837500035838, 3.976818870681257, 2.9847025858174874, 2.98365978432822, 2.9828964065902297, 2.9832975546179243, 2.983294670537816, 2.983294670537816, 2.9832388599509594, 2.983319506132464, 2.983099629043573, 2.9830696319168215, 3.9769522345237798, 2.9830945877970576, 2.9831484858502813, 2.983102754841991, 1.991099066522191, 1.9907459480169543, 1.9911383111532743, 1.9898515607672764, 3.977270245472316, 2.9834361650782744, 7.857486985710108, 6.911772279734025, 16.86533105619014, 15.873997395863546, 12.89640506286939, 9.92311086001875, 7.938619350273714, 6.9440971519390615, 4.9658314235142145, 4.961604096526409, 4.9611257143550995, 4.960753090150381, 4.961789174133727, 4.96070630309936, 4.960356691536355, 3.968257403174572, 3.96804618057797, 2.9791862118165153, 2.978320294560172, 2.9782097821415463, 2.977859159959178, 2.9768622963927935, 2.9766744741356987, 2.9769007562025096, 5.950664335360527, 2.9761800916334873, 1.9873931046388977, 1.9861830329379684, 1.9861044637642278, 1.9865689363153403, 1.9857388990074678, 1.9859519914406614, 3.9676880897491573, 2.976227602514862, 5.943391407854929, 2.9763103473465033, 10.907034034635947, 9.913823855123884, 6.940714964380746, 3.968033310010044, 3.967557680097313, 3.9673744279588585, 3.967198916149393, 3.9666786183019855, 3.9687733266427654, 3.9666228342724548, 2.979476351854939, 2.9775089756679494, 2.9767216141157986, 2.9765020873475803, 2.975124283766227, 1.9865128538722916, 1.984989517274932, 1.985673701457508, 1.984952376706018, 1.9849334681342692, 1.9850925465226148, 1.9852923929372288, 1.9844468665213493, 1.9842179754069604, 1.9845945075161906, 1.9842033930556635, 1.9841997673078515, 1.9841827822363334, 1.9836567044236326, 1.9840738131827758, 1.9841137230929917, 2.968601357023088, 12.106220103321721, 9.076790884625039, 7.062848265249843, 7.06219260871968, 6.054000042074866, 4.03623950960408, 4.035093998331911, 4.0349849282909025, 3.0290389036684973, 3.029184699661475, 3.0288197865981275, 3.0279980652142884, 3.027142514973429, 3.027093912625608, 3.026932609779385, 3.02682770543885, 3.026693296098295, 3.0267879028446156, 2.019816343310694, 2.0197748723302786, 2.0192825262526175, 2.019155346308177, 2.0187288407182664, 2.0184966564580176, 2.0186199594627006, 2.0184576697431256, 2.0189611893733814, 2.017953911013023, 2.017667724953328, 2.018459486840796, 4.03455798951286, 3.0265845028047496, 3.026866292222111, 3.9923202387076215, 3.002937528426123, 7.88037055389025, 4.926959342858739, 4.925623062117713, 4.924771793761099, 3.94271660722835, 3.940045418725329, 2.9561128827360963, 2.9564154341386937, 1.9759261859269994, 1.9723091051695079, 1.972223605256607, 1.9718669392815829, 1.971877522305754, 1.971798453516289, 1.9718325229989393, 1.971152310649459, 1.9720115025660012, 1.9712035053032648, 1.9713498574773767, 1.9707017512449663, 1.970503485794696, 1.9707046714888976, 1.9700991241028314, 1.970974817307527, 1.9709139752081077, 1.9708470179382573, 1.9709849021014356, 0.9878321815663051, 0.9875942456801704, 0.9871417732613441, 10.835570014563453, 2.9554904015704446, 2.956337694978059, 3.9060141845510343, 7.951367243964752, 7.948835147899791, 6.952310895685534, 5.959346701787439, 4.9700132874889285, 4.970170125730998, 4.967864211548883, 4.967628621293451, 3.9753705685074037, 3.9741379794500937, 2.983662424811737, 2.9831279455778104, 2.982301481040851, 2.9817867281644563, 2.980756029915097, 2.9805598782517047, 2.9805263815145913, 2.980546432650513, 1.9928858870469823, 1.990024165033447, 1.989338242201181, 1.9890630477227393, 1.9892191615967563, 1.98924546216287, 1.9885899690769493, 1.9883384159951296, 1.9881471227941316, 1.9882429561668173, 1.9876981465349093, 1.9876981466347803, 4.966318414500713, 1.9879483545617456, 1.9890119626922689, 0.0020030953764047397, 0.001996010009138998, 0.001996010009138998, 0.001996010009138998, 0.0019960051738333586, 0.0019960051738333586, 0.0019960051738333586, 0.0019964799469622224, 0.001990686544915636, 0.001990686544915636, 0.001990686544915636, 0.001990686544915636, 0.001990686544915636, 0.001990686544915636, 0.0019906840603583797, 0.0019906840603583797, 0.0019906840603583797, 0.0019906840603583797, 0.0019906840603583797, 0.0019906840603583797, 0.0019906840603583797, 0.0019906840603583797, 0.0019906840603583797, 0.0019906840603583797, 0.0019906840603583797, 0.0019906840603583797, 0.0019906840603583797, 0.0019906840603583797, 0.0019906840603583797, 0.0019906840603583797, 2.891634189294314, 1.9056639424932689, 0.982722436170867, 0.982722436170867, 0.9536907107429137, 1.9642067419591442, 0.9536907107429137, 0.9534477525044476, 0.9536907107429137, 0.9536907107429137, 0.9536907107429137, 0.9536907107429137, 0.9536907107429137, 0.9536907107429137, 0.9536907108398932, 1.9386703081024366], \"Category\": [\"Default\", \"Default\", \"Default\", \"Default\", \"Default\", \"Default\", \"Default\", \"Default\", \"Default\", \"Default\", \"Default\", \"Default\", \"Default\", \"Default\", \"Default\", \"Default\", \"Default\", \"Default\", \"Default\", \"Default\", \"Default\", \"Default\", \"Default\", \"Default\", \"Default\", \"Default\", \"Default\", \"Default\", \"Default\", \"Default\", \"Topic1\", \"Topic1\", \"Topic1\", \"Topic1\", \"Topic1\", \"Topic1\", \"Topic1\", \"Topic1\", \"Topic1\", \"Topic1\", \"Topic1\", \"Topic1\", \"Topic1\", \"Topic1\", \"Topic1\", \"Topic1\", \"Topic1\", \"Topic1\", \"Topic1\", \"Topic1\", \"Topic1\", \"Topic1\", \"Topic1\", \"Topic1\", \"Topic1\", \"Topic1\", \"Topic1\", \"Topic1\", \"Topic1\", \"Topic1\", \"Topic2\", \"Topic2\", \"Topic2\", \"Topic2\", \"Topic2\", \"Topic2\", \"Topic2\", \"Topic2\", \"Topic2\", \"Topic2\", \"Topic2\", \"Topic2\", \"Topic2\", \"Topic2\", \"Topic2\", \"Topic2\", \"Topic2\", \"Topic2\", \"Topic2\", \"Topic2\", \"Topic2\", \"Topic2\", \"Topic2\", \"Topic2\", \"Topic2\", \"Topic2\", \"Topic2\", \"Topic2\", \"Topic2\", \"Topic2\", \"Topic2\", \"Topic3\", \"Topic3\", \"Topic3\", \"Topic3\", \"Topic3\", \"Topic3\", \"Topic3\", \"Topic3\", \"Topic3\", \"Topic3\", \"Topic3\", \"Topic3\", \"Topic3\", \"Topic3\", \"Topic3\", \"Topic3\", \"Topic3\", \"Topic3\", \"Topic3\", \"Topic3\", \"Topic3\", \"Topic3\", \"Topic3\", \"Topic3\", \"Topic3\", \"Topic3\", \"Topic3\", \"Topic3\", \"Topic3\", \"Topic3\", \"Topic3\", \"Topic3\", \"Topic3\", \"Topic4\", \"Topic4\", \"Topic4\", \"Topic4\", \"Topic4\", \"Topic4\", \"Topic4\", \"Topic4\", \"Topic4\", \"Topic4\", \"Topic4\", \"Topic4\", \"Topic4\", \"Topic4\", \"Topic4\", \"Topic4\", \"Topic4\", \"Topic4\", \"Topic4\", \"Topic4\", \"Topic4\", \"Topic4\", \"Topic4\", \"Topic4\", \"Topic4\", \"Topic4\", \"Topic4\", \"Topic4\", \"Topic4\", \"Topic4\", \"Topic4\", \"Topic4\", \"Topic4\", \"Topic4\", \"Topic5\", \"Topic5\", \"Topic5\", \"Topic5\", \"Topic5\", \"Topic5\", \"Topic5\", \"Topic5\", \"Topic5\", \"Topic5\", \"Topic5\", \"Topic5\", \"Topic5\", \"Topic5\", \"Topic5\", \"Topic5\", \"Topic5\", \"Topic5\", \"Topic5\", \"Topic5\", \"Topic5\", \"Topic5\", \"Topic5\", \"Topic5\", \"Topic5\", \"Topic5\", \"Topic5\", \"Topic5\", \"Topic5\", \"Topic5\", \"Topic5\", \"Topic5\", \"Topic5\", \"Topic5\", \"Topic6\", \"Topic6\", \"Topic6\", \"Topic6\", \"Topic6\", \"Topic6\", \"Topic6\", \"Topic6\", \"Topic6\", \"Topic6\", \"Topic6\", \"Topic6\", \"Topic6\", \"Topic6\", \"Topic6\", \"Topic6\", \"Topic6\", \"Topic6\", \"Topic6\", \"Topic6\", \"Topic6\", \"Topic6\", \"Topic6\", \"Topic6\", \"Topic6\", \"Topic6\", \"Topic6\", \"Topic6\", \"Topic6\", \"Topic6\", \"Topic6\", \"Topic6\", \"Topic7\", \"Topic7\", \"Topic7\", \"Topic7\", \"Topic7\", \"Topic7\", \"Topic7\", \"Topic7\", \"Topic7\", \"Topic7\", \"Topic7\", \"Topic7\", \"Topic7\", \"Topic7\", \"Topic7\", \"Topic7\", \"Topic7\", \"Topic7\", \"Topic7\", \"Topic7\", \"Topic7\", \"Topic7\", \"Topic7\", \"Topic7\", \"Topic7\", \"Topic7\", \"Topic7\", \"Topic7\", \"Topic7\", \"Topic7\", \"Topic7\", \"Topic7\", \"Topic7\", \"Topic7\", \"Topic7\", \"Topic8\", \"Topic8\", \"Topic8\", \"Topic8\", \"Topic8\", \"Topic8\", \"Topic8\", \"Topic8\", \"Topic8\", \"Topic8\", \"Topic8\", \"Topic8\", \"Topic8\", \"Topic8\", \"Topic8\", \"Topic8\", \"Topic8\", \"Topic8\", \"Topic8\", \"Topic8\", \"Topic8\", \"Topic8\", \"Topic8\", \"Topic8\", \"Topic8\", \"Topic8\", \"Topic8\", \"Topic8\", \"Topic8\", \"Topic8\", \"Topic8\", \"Topic8\", \"Topic8\", \"Topic8\", \"Topic9\", \"Topic9\", \"Topic9\", \"Topic9\", \"Topic9\", \"Topic9\", \"Topic9\", \"Topic9\", \"Topic9\", \"Topic9\", \"Topic9\", \"Topic9\", \"Topic9\", \"Topic9\", \"Topic9\", \"Topic9\", \"Topic9\", \"Topic9\", \"Topic9\", \"Topic9\", \"Topic9\", \"Topic9\", \"Topic9\", \"Topic9\", \"Topic9\", \"Topic9\", \"Topic9\", \"Topic9\", \"Topic9\", \"Topic9\", \"Topic9\", \"Topic9\", \"Topic9\", \"Topic10\", \"Topic10\", \"Topic10\", \"Topic10\", \"Topic10\", \"Topic10\", \"Topic10\", \"Topic10\", \"Topic10\", \"Topic10\", \"Topic10\", \"Topic10\", \"Topic10\", \"Topic10\", \"Topic10\", \"Topic10\", \"Topic10\", \"Topic10\", \"Topic10\", \"Topic10\", \"Topic10\", \"Topic10\", \"Topic10\", \"Topic10\", \"Topic10\", \"Topic10\", \"Topic10\", \"Topic10\", \"Topic10\", \"Topic10\", \"Topic10\", \"Topic10\", \"Topic10\", \"Topic10\", \"Topic10\", \"Topic10\", \"Topic10\", \"Topic10\", \"Topic10\", \"Topic10\", \"Topic10\", \"Topic10\", \"Topic10\", \"Topic10\", \"Topic10\", \"Topic10\"], \"logprob\": [30.0, 29.0, 28.0, 27.0, 26.0, 25.0, 24.0, 23.0, 22.0, 21.0, 20.0, 19.0, 18.0, 17.0, 16.0, 15.0, 14.0, 13.0, 12.0, 11.0, 10.0, 9.0, 8.0, 7.0, 6.0, 5.0, 4.0, 3.0, 2.0, 1.0, -2.798099994659424, -2.8180999755859375, -3.4619998931884766, -3.749500036239624, -3.916599988937378, -3.9795000553131104, -4.117099761962891, -4.117300033569336, -4.117499828338623, -4.155099868774414, -4.235000133514404, -4.235199928283691, -4.277599811553955, -4.368599891662598, -4.368800163269043, -4.417500019073486, -4.522900104522705, -4.640699863433838, -4.6407999992370605, -4.6407999992370605, -4.640699863433838, -4.7052001953125, -4.705399990081787, -4.774099826812744, -4.774099826812744, -4.774400234222412, -4.848299980163574, -4.928500175476074, -4.928299903869629, -4.928400039672852, -3.2639000415802, -4.052800178527832, -4.0528998374938965, -4.1579999923706055, -4.275599956512451, -4.276000022888184, -4.276100158691406, -4.4096999168396, -4.4095001220703125, -4.4096999168396, -4.563399791717529, -4.563600063323975, -4.563700199127197, -4.563499927520752, -4.563499927520752, -4.745999813079834, -4.746099948883057, -4.746099948883057, -4.969099998474121, -4.969200134277344, -4.969099998474121, -4.969299793243408, -4.969200134277344, -4.969399929046631, -4.969399929046631, -4.969399929046631, -4.969399929046631, -4.9695000648498535, -5.25629997253418, -5.256800174713135, -4.746699810028076, -3.6303999423980713, -3.6303000450134277, -3.78410005569458, -3.7843000888824463, -3.7843000888824463, -3.7844998836517334, -3.78439998626709, -3.966399908065796, -4.072299957275391, -4.189799785614014, -4.323200225830078, -4.323400020599365, -4.323599815368652, -4.323800086975098, -4.477799892425537, -4.477700233459473, -4.659599781036377, -4.659999847412109, -4.659999847412109, -4.660099983215332, -4.660299777984619, -4.882599830627441, -4.882900238037109, -4.883200168609619, -4.882999897003174, -4.882999897003174, -4.883600234985352, -4.883399963378906, -4.883399963378906, -5.169899940490723, -4.662799835205078, -4.485400199890137, -4.6458001136779785, -3.8935000896453857, -3.893699884414673, -4.027100086212158, -4.18149995803833, -4.181600093841553, -4.18149995803833, -4.363900184631348, -4.363699913024902, -4.586599826812744, -4.586999893188477, -4.587200164794922, -4.587200164794922, -4.8744001388549805, -4.87470006942749, -4.875, -4.874800205230713, -4.874800205230713, -4.874800205230713, -4.874899864196777, -4.874800205230713, -4.874899864196777, -4.874899864196777, -4.587399959564209, -4.875, -4.875, -4.875199794769287, -5.2795000076293945, -5.279699802398682, -5.2795000076293945, -5.280099868774414, -4.587900161743164, -4.875999927520752, -4.231599807739258, -4.600599765777588, -2.984800100326538, -3.0453999042510986, -3.2530999183654785, -3.5153000354766846, -3.7383999824523926, -3.872299909591675, -4.207699775695801, -4.208600044250488, -4.208700180053711, -4.208700180053711, -4.208499908447266, -4.208799839019775, -4.208799839019775, -4.43209981918335, -4.43209981918335, -4.718900203704834, -4.719200134277344, -4.719200134277344, -4.719299793243408, -4.719699859619141, -4.719699859619141, -4.719699859619141, -4.027200222015381, -4.720200061798096, -5.124000072479248, -5.124599933624268, -5.12470006942749, -5.1244001388549805, -5.124899864196777, -5.12470006942749, -4.432700157165527, -4.720300197601318, -4.066699981689453, -5.10830020904541, -3.1108999252319336, -3.206399917602539, -3.562999963760376, -4.122399806976318, -4.122499942779541, -4.122499942779541, -4.122600078582764, -4.122700214385986, -4.122200012207031, -4.122700214385986, -4.408999919891357, -4.4096999168396, -4.409999847412109, -4.409999847412109, -4.4105000495910645, -4.814700126647949, -4.815499782562256, -4.815100193023682, -4.815499782562256, -4.815499782562256, -4.815400123596191, -4.815299987792969, -4.815700054168701, -4.815899848937988, -4.815700054168701, -4.815899848937988, -4.815899848937988, -4.815899848937988, -4.816100120544434, -4.815899848937988, -4.815899848937988, -4.814199924468994, -2.985100030899048, -3.273200035095215, -3.5241000652313232, -3.524199962615967, -3.678299903869629, -4.083799839019775, -4.084099769592285, -4.084099769592285, -4.370999813079834, -4.370999813079834, -4.371099948883057, -4.371399879455566, -4.371699810028076, -4.371699810028076, -4.371699810028076, -4.371799945831299, -4.371799945831299, -4.371799945831299, -4.776599884033203, -4.776599884033203, -4.776800155639648, -4.776899814605713, -4.777100086212158, -4.777200222015381, -4.777200222015381, -4.777299880981445, -4.7769999504089355, -4.777500152587891, -4.777599811553955, -4.777299880981445, -4.08650016784668, -4.372300148010254, -4.373499870300293, -4.386300086975098, -4.597700119018555, -3.326200008392334, -3.7960000038146973, -3.796299934387207, -3.7964999675750732, -4.019000053405762, -4.019700050354004, -4.30709981918335, -4.307000160217285, -4.710299968719482, -4.712100028991699, -4.712100028991699, -4.712299823760986, -4.712299823760986, -4.712399959564209, -4.712299823760986, -4.712699890136719, -4.712299823760986, -4.712699890136719, -4.712600231170654, -4.712900161743164, -4.7129998207092285, -4.712900161743164, -4.713200092315674, -4.712800025939941, -4.712900161743164, -4.713099956512451, -4.713399887084961, -5.4045000076293945, -5.404699802398682, -5.405200004577637, -3.0107998847961426, -4.309599876403809, -4.321899890899658, -4.712699890136719, -3.289400100708008, -3.2897000312805176, -3.4237000942230225, -3.577899932861328, -3.759500026702881, -3.759399890899658, -3.7599000930786133, -3.7599000930786133, -3.982800006866455, -3.9832000732421875, -4.269999980926514, -4.270100116729736, -4.270400047302246, -4.270599842071533, -4.270899772644043, -4.270999908447266, -4.271100044250488, -4.270999908447266, -4.673799991607666, -4.675300121307373, -4.675600051879883, -4.67579984664917, -4.6757001876831055, -4.6757001876831055, -4.676000118255615, -4.67609977722168, -4.676199913024902, -4.676199913024902, -4.676400184631348, -4.676400184631348, -3.7609000205993652, -4.676300048828125, -4.676000118255615, -11.012399673461914, -11.029999732971191, -11.029999732971191, -11.029999732971191, -11.029999732971191, -11.029999732971191, -11.029999732971191, -11.029999732971191, -11.043000221252441, -11.043000221252441, -11.043000221252441, -11.043000221252441, -11.043000221252441, -11.043000221252441, -11.043000221252441, -11.043000221252441, -11.043000221252441, -11.043000221252441, -11.043000221252441, -11.043000221252441, -11.043000221252441, -11.043000221252441, -11.043000221252441, -11.043000221252441, -11.043000221252441, -11.043000221252441, -11.043000221252441, -11.043000221252441, -11.043000221252441, -11.043000221252441, -11.042900085449219, -11.043000221252441, -11.043000221252441, -11.043000221252441, -11.043000221252441, -11.043000221252441, -11.043000221252441, -11.043000221252441, -11.043000221252441, -11.043000221252441, -11.043000221252441, -11.043000221252441, -11.043000221252441, -11.043000221252441, -11.043000221252441, -11.043000221252441], \"loglift\": [30.0, 29.0, 28.0, 27.0, 26.0, 25.0, 24.0, 23.0, 22.0, 21.0, 20.0, 19.0, 18.0, 17.0, 16.0, 15.0, 14.0, 13.0, 12.0, 11.0, 10.0, 9.0, 8.0, 7.0, 6.0, 5.0, 4.0, 3.0, 2.0, 1.0, 1.0058, 1.0058, 1.0058, 1.0057, 1.0057, 1.0057, 1.0057, 1.0057, 1.0057, 1.0057, 1.0057, 1.0057, 1.0057, 1.0057, 1.0057, 1.0057, 1.0057, 1.0057, 1.0057, 1.0057, 1.0057, 1.0057, 1.0057, 1.0057, 1.0057, 1.0057, 1.0056, 1.0056, 1.0056, 1.0056, 2.0478, 2.0477, 2.0477, 2.0477, 2.0476, 2.0476, 2.0476, 2.0476, 2.0476, 2.0476, 2.0476, 2.0476, 2.0476, 2.0476, 2.0476, 2.0475, 2.0475, 2.0475, 2.0474, 2.0474, 2.0474, 2.0474, 2.0474, 2.0474, 2.0474, 2.0474, 2.0474, 2.0474, 2.0472, 2.0472, 2.0471, 2.1196, 2.1196, 2.1196, 2.1196, 2.1196, 2.1196, 2.1196, 2.1196, 2.1196, 2.1195, 2.1195, 2.1195, 2.1195, 2.1195, 2.1195, 2.1195, 2.1194, 2.1194, 2.1194, 2.1194, 2.1194, 2.1193, 2.1193, 2.1193, 2.1193, 2.1193, 2.1193, 2.1193, 2.1193, 2.1192, 2.117, 2.1123, 1.9499, 2.4031, 2.4031, 2.403, 2.403, 2.403, 2.403, 2.4029, 2.4029, 2.4028, 2.4028, 2.4028, 2.4028, 2.4027, 2.4027, 2.4027, 2.4027, 2.4027, 2.4027, 2.4027, 2.4027, 2.4027, 2.4027, 2.4027, 2.4026, 2.4026, 2.4024, 2.4024, 2.4024, 2.4024, 2.4024, 2.402, 2.4015, 2.0775, 1.8367, 2.5605, 2.5605, 2.5605, 2.5604, 2.5604, 2.5604, 2.5602, 2.5602, 2.5602, 2.5602, 2.5602, 2.5602, 2.5602, 2.5602, 2.5602, 2.56, 2.56, 2.56, 2.56, 2.56, 2.56, 2.56, 2.5598, 2.5597, 2.5597, 2.5597, 2.5597, 2.5597, 2.5597, 2.5597, 2.5597, 2.5596, 2.5216, 2.1716, 2.8702, 2.8702, 2.8701, 2.8699, 2.8699, 2.8699, 2.8699, 2.8699, 2.8699, 2.8699, 2.8698, 2.8698, 2.8698, 2.8698, 2.8698, 2.8695, 2.8695, 2.8695, 2.8695, 2.8695, 2.8695, 2.8695, 2.8695, 2.8695, 2.8695, 2.8695, 2.8695, 2.8695, 2.8695, 2.8695, 2.8695, 2.4682, 2.8917, 2.8916, 2.8916, 2.8916, 2.8916, 2.8914, 2.8914, 2.8914, 2.8913, 2.8913, 2.8913, 2.8913, 2.8913, 2.8913, 2.8913, 2.8913, 2.8913, 2.8913, 2.891, 2.891, 2.891, 2.891, 2.891, 2.891, 2.891, 2.891, 2.891, 2.891, 2.891, 2.891, 2.8891, 2.8908, 2.8895, 2.5999, 2.6733, 2.9799, 2.9798, 2.9798, 2.9798, 2.9797, 2.9796, 2.9795, 2.9795, 2.9792, 2.9792, 2.9792, 2.9792, 2.9792, 2.9792, 2.9792, 2.9792, 2.9792, 2.9792, 2.9792, 2.9792, 2.9792, 2.9792, 2.9792, 2.9792, 2.9792, 2.979, 2.9786, 2.9783, 2.9783, 2.9783, 2.9769, 2.9773, 2.9647, 2.2953, 3.0078, 3.0078, 3.0077, 3.0077, 3.0077, 3.0077, 3.0077, 3.0077, 3.0076, 3.0076, 3.0074, 3.0074, 3.0074, 3.0074, 3.0074, 3.0074, 3.0074, 3.0074, 3.0071, 3.0071, 3.0071, 3.0071, 3.0071, 3.0071, 3.0071, 3.0071, 3.0071, 3.0071, 3.0071, 3.0071, 3.007, 3.0071, 3.0069, 3.5712, 3.5572, 3.5572, 3.5572, 3.5572, 3.5572, 3.5572, 3.5569, 3.5469, 3.5469, 3.5469, 3.5469, 3.5469, 3.5469, 3.5469, 3.5469, 3.5469, 3.5469, 3.5469, 3.5469, 3.5469, 3.5469, 3.5469, 3.5469, 3.5469, 3.5469, 3.5469, 3.5469, 3.5469, 3.5469, -3.7342, -3.3172, -2.655, -2.655, -2.625, -3.3475, -2.625, -2.6247, -2.625, -2.625, -2.625, -2.625, -2.625, -2.625, -2.625, -3.3344]}, \"token.table\": {\"Topic\": [2, 2, 1, 5, 7, 5, 5, 4, 1, 2, 3, 5, 1, 5, 8, 3, 9, 6, 1, 1, 5, 1, 6, 4, 2, 5, 6, 8, 5, 3, 9, 4, 4, 7, 2, 5, 8, 8, 7, 3, 4, 8, 5, 9, 8, 2, 5, 1, 2, 3, 7, 9, 6, 8, 5, 4, 7, 4, 2, 8, 9, 1, 3, 3, 3, 9, 5, 1, 7, 8, 6, 2, 8, 2, 3, 7, 1, 9, 1, 6, 5, 5, 8, 4, 6, 8, 9, 9, 2, 3, 3, 3, 4, 1, 1, 1, 1, 5, 6, 5, 9, 4, 9, 5, 5, 5, 9, 2, 7, 1, 5, 4, 4, 3, 3, 1, 6, 8, 1, 1, 2, 3, 3, 3, 1, 4, 4, 6, 4, 7, 2, 7, 8, 3, 7, 6, 9, 5, 3, 9, 1, 6, 1, 4, 8, 6, 6, 3, 2, 4, 7, 5, 9, 9, 3, 2, 1, 2, 3, 1, 1, 8, 3, 1, 9, 3, 6, 6, 3, 5, 4, 8, 3, 7, 7, 4, 2, 8, 5, 9, 4, 2, 4, 1, 6, 2, 8, 7, 8, 8, 2, 9, 1, 5, 9, 2, 4, 5, 8, 9, 3, 8, 7, 6, 9, 1, 7, 2, 4, 9, 7, 4, 8, 7, 1, 6, 5, 6, 2, 7, 9, 8, 4, 3, 6, 8, 4, 7, 8, 8, 5, 7, 5, 2, 4, 8, 9, 6, 5, 8, 6, 2, 7, 6, 4, 6, 7, 6, 3, 4, 9, 7, 8, 1, 1, 6, 6, 9, 5, 8, 3, 3, 8, 3, 9, 7, 6, 3, 2, 9, 1, 4, 8, 5, 1, 6, 8, 4, 1, 2, 7, 1, 9, 1, 9, 7, 1, 6, 1, 2, 3, 1, 6, 6, 1, 7, 7, 7, 6, 4, 3, 2, 2, 9, 6, 2, 2, 7, 7, 5, 7, 1, 3, 4, 8, 7, 9, 2, 1, 1, 5, 4, 2], \"Freq\": [1.0331243108283599, 1.0327329251304544, 1.0495029870709034, 1.0077386068550838, 0.9904508031927548, 1.008032853855442, 1.0077319048839606, 1.0056653726184284, 1.048557974546079, 1.0331210998276308, 1.0182652143588442, 1.0068807362899979, 0.9956409847298181, 1.0070736899078552, 1.0123176979458206, 1.0182300122371204, 1.0061889947354667, 1.008692523302356, 0.9797339710371317, 1.00932061682122, 1.0079209883633082, 1.048557974546079, 1.0077625391108687, 1.0058243516271292, 1.0331504975873507, 1.0072791719142584, 0.6737179430536941, 0.3368589715268471, 1.0069963773252069, 1.0187302206706483, 1.0061889947860223, 1.005598652188154, 1.0055996243439045, 0.9907536053156933, 1.0328794471165275, 1.0082907826519985, 1.0147263082397588, 1.014528914572919, 0.9907224584399346, 1.0185169197570618, 1.0051870988524383, 1.0130257143269041, 1.0079920277772134, 1.006522305386362, 1.0148669116148727, 1.0328163622583364, 1.007748491482751, 0.962057806850598, 1.0326385580031456, 1.0172323453666674, 0.9911023424530921, 1.006195505819686, 1.0084003230169118, 1.0147690519578025, 1.0080035171371096, 1.005758775587902, 0.9914345042002898, 1.0044505641808443, 1.0328978161259037, 1.0146085853739921, 1.0064560701686984, 1.048557974546079, 1.0184343809156582, 1.0186103928359234, 1.0185335249104712, 1.0059617706707793, 1.0095246279876935, 0.9840425183484572, 0.9903654935056497, 1.0147921080613553, 1.0080560538414116, 1.0330346577318812, 1.0140837959090239, 1.0331192948857275, 1.0187973592991415, 0.9911497258134804, 1.0108709273444076, 1.0064687332589346, 0.6916504194771913, 0.34582520973859565, 1.0069565426916338, 1.0063434331797145, 1.0147576328331738, 1.0056754853799037, 1.007953775637882, 1.012561590323246, 1.0054756781639913, 1.0053594494755311, 1.033151501469587, 1.0186779588959936, 1.0177821219642156, 1.0185924933060964, 1.0046485348832501, 1.005910679944625, 0.9966444344430748, 0.9840530824032402, 1.048557974546079, 1.0078361023575055, 1.0085234872348279, 1.0071817604014608, 1.0054985447996645, 1.0057338878319686, 1.0057377494106274, 1.00698640054822, 1.007937673227116, 1.0079991274759632, 1.006108173889001, 0.25048090839619525, 0.7514427251885857, 0.979617935146556, 1.0079114822157837, 1.0054943320220515, 1.0058348763758684, 1.0185968372678385, 1.0188085816282297, 0.9621609731575148, 1.007553637794494, 1.0142672206516465, 0.9745030028397148, 1.0485579744394524, 1.03303141075637, 1.018852427166242, 1.0185502886669142, 1.0183964418223903, 1.0091771912857135, 1.0055996243439045, 1.0057953337422922, 1.0075808485234055, 1.005469349312843, 0.9904131625271211, 1.033029519793729, 0.9908364195705557, 1.0152167233884495, 1.0184187840946999, 0.9915398640773896, 1.0074082825860282, 1.0056558266121978, 1.0077010176219234, 1.0188918275746908, 1.0067820028214347, 1.048557974546079, 1.007868091923418, 0.25453430640575897, 0.7636029192172769, 1.0142617771013291, 1.0085416323712328, 1.0068883406751268, 1.0182227549046872, 1.0329620307482705, 1.0051252725330833, 0.9910336183912151, 1.007316549018513, 1.0065336172181483, 1.0065268459287806, 1.0186410033772013, 1.0325896261523742, 1.048557974546079, 0.9857299498600036, 1.0184830989958338, 0.9745056893945885, 1.048557974546079, 1.0151750194235787, 1.0186503147240498, 1.0106511871215837, 1.006001781330295, 1.0183988849052865, 1.0080067370746488, 1.0079716535720764, 0.8475710379689139, 0.16951420759378277, 1.0057606965221344, 1.0152754704967655, 1.0180258443258239, 0.991243491316819, 0.9910214670071363, 1.005648902235222, 0.5120309106685654, 0.5120309106685654, 1.0081437626950371, 1.0050129215221792, 1.0056989839478496, 1.0327666828766782, 1.005714913275898, 0.984109296267444, 1.0067893575928382, 1.0328893986445842, 1.014302448829605, 0.9907758964854104, 1.0151806879247187, 1.0147211162640712, 1.0331621684817576, 1.0060623533858912, 0.9840029460046682, 1.0080527841582165, 1.0065075799289396, 1.033003607676243, 1.0054765679912996, 1.0077594940810042, 1.0151773459169398, 1.0054196332970118, 1.0182203605788516, 1.014533261264586, 0.9908555576766321, 1.0078944720893372, 1.0035697542941404, 0.9688117964884917, 0.9911935836127026, 1.032917435889095, 1.0057191817886901, 1.0060335276339316, 0.9911240571507413, 1.0056670721311007, 1.0148462250951942, 0.9911015693825584, 0.9971132329430966, 1.007214830176769, 0.6719729351420217, 0.33598646757101086, 0.3330072605686581, 0.6660145211373162, 1.0059345170405014, 1.0146349367294891, 1.0056184371536767, 1.018261183773469, 1.0082389737800503, 1.0142849236294273, 1.0058290633977935, 0.9911807066369409, 1.0147423685311683, 1.0141928672310379, 1.007987425916301, 0.9906084428600302, 1.0078357791926975, 0.1446806925239848, 0.5787227700959392, 0.2893613850479696, 1.0065164651334424, 1.0075097020053294, 1.0074351535285926, 1.0148654077574035, 1.0075904467870616, 1.0330196097586593, 0.9912259894157569, 1.0079611833139797, 1.0055912529091329, 1.0080270132650337, 0.9910495302069742, 1.008268071388375, 1.0190998337928305, 1.0051000986369105, 1.0061162759237616, 0.9911366922568325, 1.0150599705571381, 0.9621973499409419, 1.0159839756229763, 1.0081768993719813, 1.0082234668377208, 1.00540634026403, 1.007772513910114, 1.014969024118934, 1.0185066168271237, 1.018161891690829, 1.0148246924844484, 1.0182347748578116, 1.0068594608368364, 0.9902093680829568, 1.0075619959674522, 1.0186232115345137, 1.0327572850753393, 1.0064367735835769, 0.991330181472731, 1.0055519320693396, 1.0121835594084738, 1.0067609351173947, 0.9976335426498534, 1.0078375157032622, 1.0140398352154403, 1.0055415899920743, 1.048825168839375, 1.0330112734606307, 0.9913296012469318, 0.9747764024073339, 1.0059132832819633, 1.003807652622861, 1.005524369643739, 0.9908546656689711, 0.9858946772295843, 1.0084145045097708, 0.9995122880169537, 1.0329894940903162, 1.017581326316772, 0.5158174630418704, 0.5158174630418704, 1.007963025171395, 1.010425421878573, 0.9904848130200256, 0.9901890370496691, 0.9911029132454219, 1.0083612359892014, 1.005664318847409, 1.017581326316772, 1.033213037660669, 1.0328510911813444, 1.006821770950223, 1.0078201420562185, 1.0331280403576641, 1.0320817216149223, 0.9912163355161194, 0.9905131884264375, 1.0080504127228878, 0.991080270614541, 1.0056265539393385, 1.018483738918494, 1.0044703619360116, 1.015100006018388, 0.991302805251521, 1.005864989536519, 1.0327780445882724, 0.9996795154103821, 1.048557974546079, 1.0079849570317465, 1.005637355794905, 1.033107975577248], \"Term\": [\"airline\", \"amaze\", \"anna\", \"apple\", \"architecture\", \"artist\", \"baby\", \"bahrain\", \"baking\", \"bartender\", \"base\", \"beach\", \"beauty\", \"bedroom\", \"bella\", \"benefit\", \"bergdorf\", \"bikini\", \"blog\", \"blogger\", \"bloom\", \"bluebeard\", \"boutique\", \"boy\", \"bracelet\", \"breakfast\", \"bridge\", \"bridge\", \"brooklyn\", \"brow\", \"browne\", \"buff\", \"bunny\", \"business\", \"call\", \"calorie\", \"camila\", \"cancer\", \"cape\", \"care\", \"challenge\", \"chez\", \"chocolate\", \"ciel\", \"circulation\", \"cocktail\", \"coffee\", \"collection\", \"color\", \"colour\", \"comfort\", \"comment\", \"competitor\", \"content\", \"cost\", \"course\", \"crate\", \"cream\", \"create\", \"credit\", \"dance\", \"dddd\", \"decay\", \"decor\", \"decoration\", \"deets\", \"delhi\", \"design\", \"designer\", \"diab\", \"diamond\", \"direction\", \"director\", \"disney\", \"doll\", \"douro\", \"dress\", \"drop\", \"earth\", \"earth\", \"eat\", \"edition\", \"egypt\", \"emilio\", \"emotion\", \"england\", \"enter\", \"entry\", \"experience\", \"eye\", \"eyeshadow\", \"face\", \"failure\", \"fall\", \"fashion\", \"feel\", \"ferment\", \"festival\", \"fitness\", \"flavor\", \"flight\", \"floor\", \"florida\", \"flower\", \"food\", \"foodie\", \"forget\", \"fragrance\", \"fragrance\", \"friend\", \"gain\", \"game\", \"giappone\", \"glam\", \"glass\", \"goal\", \"gold\", \"gore\", \"gram\", \"grape\", \"grow\", \"guide\", \"guy\", \"haha\", \"hair\", \"hammer\", \"hangar\", \"headshot\", \"heart\", \"hello\", \"help\", \"highlight\", \"hijab\", \"honey\", \"honeymoon\", \"hope\", \"hotel\", \"house\", \"houston\", \"ikea\", \"indy\", \"italy\", \"japan\", \"japan\", \"jean\", \"jewellery\", \"jewelry\", \"jordan\", \"kid\", \"kind\", \"kitchen\", \"label\", \"labor\", \"largo\", \"lash\", \"learn\", \"lev\", \"life\", \"liner\", \"link\", \"llll\", \"london\", \"louise\", \"love\", \"lover\", \"makeup\", \"man\", \"mandy\", \"marie\", \"marie\", \"masterclass\", \"match\", \"matte\", \"matter\", \"mayfair\", \"mazz\", \"mercury\", \"mercury\", \"metabolism\", \"miami\", \"michael\", \"mine\", \"miranda\", \"model\", \"monday\", \"month\", \"moscow\", \"muse\", \"music\", \"mykonos\", \"nail\", \"nars\", \"night\", \"oat\", \"october\", \"office\", \"opportunity\", \"orange\", \"pack\", \"pair\", \"palette\", \"parent\", \"parfum\", \"park\", \"partner\", \"people\", \"perfume\", \"person\", \"picture\", \"piece\", \"planner\", \"plant\", \"plate\", \"point\", \"post\", \"power\", \"prep\", \"prep\", \"price\", \"price\", \"princess\", \"prize\", \"process\", \"product\", \"promise\", \"protection\", \"pucci\", \"pumphouse\", \"raise\", \"ranch\", \"rate\", \"reason\", \"recipe\", \"rep\", \"rep\", \"rep\", \"resort\", \"rest\", \"revolve\", \"revolver\", \"ring\", \"rock\", \"room\", \"rosen\", \"russell\", \"sail\", \"salon\", \"sarah\", \"scout\", \"search\", \"season\", \"service\", \"sherine\", \"shoe\", \"shop\", \"shot\", \"shoulder\", \"sign\", \"silver\", \"skill\", \"skin\", \"skincare\", \"song\", \"space\", \"split\", \"sponsor\", \"sport\", \"stacey\", \"start\", \"store\", \"story\", \"strength\", \"studio\", \"stuff\", \"style\", \"suede\", \"sunday\", \"support\", \"swear\", \"talk\", \"tasmania\", \"team\", \"term\", \"thing\", \"tiff\", \"tile\", \"time\", \"tiques\", \"today\", \"tool\", \"tooth\", \"tote\", \"tote\", \"train\", \"travel\", \"traveler\", \"traveltravel\", \"trust\", \"turban\", \"versailles\", \"vest\", \"victorinox\", \"view\", \"villa\", \"vintage\", \"visit\", \"wait\", \"walmart\", \"wanderlust\", \"wear\", \"wedding\", \"week\", \"weekend\", \"wife\", \"winter\", \"wire\", \"wood\", \"word\", \"work\", \"yawl\", \"year\", \"youtube\", \"zinc\"]}, \"R\": 30, \"lambda.step\": 0.01, \"plot.opts\": {\"xlab\": \"PC1\", \"ylab\": \"PC2\"}, \"topic.order\": [9, 4, 8, 6, 7, 1, 2, 10, 5, 3]};\n",
       "\n",
       "function LDAvis_load_lib(url, callback){\n",
       "  var s = document.createElement('script');\n",
       "  s.src = url;\n",
       "  s.async = true;\n",
       "  s.onreadystatechange = s.onload = callback;\n",
       "  s.onerror = function(){console.warn(\"failed to load library \" + url);};\n",
       "  document.getElementsByTagName(\"head\")[0].appendChild(s);\n",
       "}\n",
       "\n",
       "if(typeof(LDAvis) !== \"undefined\"){\n",
       "   // already loaded: just create the visualization\n",
       "   !function(LDAvis){\n",
       "       new LDAvis(\"#\" + \"ldavis_el57217859124407762181280560\", ldavis_el57217859124407762181280560_data);\n",
       "   }(LDAvis);\n",
       "}else if(typeof define === \"function\" && define.amd){\n",
       "   // require.js is available: use it to load d3/LDAvis\n",
       "   require.config({paths: {d3: \"https://cdnjs.cloudflare.com/ajax/libs/d3/3.5.5/d3.min\"}});\n",
       "   require([\"d3\"], function(d3){\n",
       "      window.d3 = d3;\n",
       "      LDAvis_load_lib(\"https://cdn.rawgit.com/bmabey/pyLDAvis/files/ldavis.v1.0.0.js\", function(){\n",
       "        new LDAvis(\"#\" + \"ldavis_el57217859124407762181280560\", ldavis_el57217859124407762181280560_data);\n",
       "      });\n",
       "    });\n",
       "}else{\n",
       "    // require.js not available: dynamically load d3 & LDAvis\n",
       "    LDAvis_load_lib(\"https://cdnjs.cloudflare.com/ajax/libs/d3/3.5.5/d3.min.js\", function(){\n",
       "         LDAvis_load_lib(\"https://cdn.rawgit.com/bmabey/pyLDAvis/files/ldavis.v1.0.0.js\", function(){\n",
       "                 new LDAvis(\"#\" + \"ldavis_el57217859124407762181280560\", ldavis_el57217859124407762181280560_data);\n",
       "            })\n",
       "         });\n",
       "}\n",
       "</script>"
      ],
      "text/plain": [
       "PreparedData(topic_coordinates=              x         y  topics  cluster       Freq\n",
       "topic                                                \n",
       "8     -0.411937 -0.125295       1        1  36.575547\n",
       "3     -0.076551  0.304148       2        1  12.900990\n",
       "7     -0.096124 -0.009616       3        1  12.005958\n",
       "5     -0.001325  0.207954       4        1   9.041984\n",
       "6      0.038621 -0.181372       5        1   7.725750\n",
       "0      0.088017 -0.114977       6        1   5.667777\n",
       "1      0.080893 -0.057656       7        1   5.547306\n",
       "9      0.104113  0.134532       8        1   5.078498\n",
       "4      0.130499 -0.111452       9        1   4.938864\n",
       "2      0.143793 -0.046266      10        1   0.517326, topic_info=            Term       Freq      Total Category  logprob  loglift\n",
       "13         style  96.000000  96.000000  Default   30.000  30.0000\n",
       "6        fashion  94.000000  94.000000  Default   29.000  29.0000\n",
       "116      blogger  49.000000  49.000000  Default   28.000  28.0000\n",
       "38          life  21.000000  21.000000  Default   27.000  27.0000\n",
       "286         year  16.000000  16.000000  Default   26.000  26.0000\n",
       "...          ...        ...        ...      ...      ...      ...\n",
       "13779       dddd   0.000357   0.953691  Topic10  -11.043  -2.6250\n",
       "62418  bluebeard   0.000357   0.953691  Topic10  -11.043  -2.6250\n",
       "57421        lev   0.000357   0.953691  Topic10  -11.043  -2.6250\n",
       "1379       grape   0.000357   0.953691  Topic10  -11.043  -2.6250\n",
       "10979       tote   0.000357   1.938670  Topic10  -11.043  -3.3344\n",
       "\n",
       "[372 rows x 6 columns], token_table=       Topic      Freq          Term\n",
       "term                                \n",
       "793        2  1.033124       airline\n",
       "952        2  1.032733         amaze\n",
       "1776       1  1.049503          anna\n",
       "588        5  1.007739         apple\n",
       "1323       7  0.990451  architecture\n",
       "...      ...       ...           ...\n",
       "139        1  0.999680          work\n",
       "52294      1  1.048558          yawl\n",
       "286        5  1.007985          year\n",
       "343        4  1.005637       youtube\n",
       "14046      2  1.033108          zinc\n",
       "\n",
       "[323 rows x 3 columns], R=30, lambda_step=0.01, plot_opts={'xlab': 'PC1', 'ylab': 'PC2'}, topic_order=[9, 4, 8, 6, 7, 1, 2, 10, 5, 3])"
      ]
     },
     "execution_count": 19,
     "metadata": {},
     "output_type": "execute_result"
    }
   ],
   "source": [
    "# Visualize the topics\n",
    "pyLDAvis.enable_notebook()\n",
    "vis = pyLDAvis.gensim.prepare(lda_model, corpus, id2word)\n",
    "vis"
   ]
  },
  {
   "cell_type": "markdown",
   "metadata": {},
   "source": [
    "### Save document-topic matrix (most significant topic per document)  \n",
    " https://github.com/Sim-Xuesi/content-based_movie_recommender/blob/master/Content%20Based%20Recommender%20System%20with%20LDA%20%26%20Cosine.ipynb  \n",
    " https://medium.com/@nicoleeesim97/building-a-simple-content-based-recommender-system-for-movies-and-tv-shows-73fec4f325ae  "
   ]
  },
  {
   "cell_type": "code",
   "execution_count": 20,
   "metadata": {},
   "outputs": [
    {
     "name": "stderr",
     "output_type": "stream",
     "text": [
      "C:\\Users\\minio\\anaconda3\\envs\\tfm-py-37\\lib\\site-packages\\ipykernel\\ipkernel.py:287: DeprecationWarning: `should_run_async` will not call `transform_cell` automatically in the future. Please pass the result to `transformed_cell` argument and any exception that happen during thetransform in `preprocessing_exc_tuple` in IPython 7.17 and above.\n",
      "  and should_run_async(code)\n"
     ]
    },
    {
     "name": "stdout",
     "output_type": "stream",
     "text": [
      "        Document  Topic  Probability\n",
      "0        2023932      8     0.774991\n",
      "1        3084583      8     0.758389\n",
      "2        2510867      8     0.410021\n",
      "3        2013016      8     0.358735\n",
      "4        2528072      8     0.585712\n",
      "...          ...    ...          ...\n",
      "136183   2170738      8     0.656527\n",
      "136184   2005275      8     0.509969\n",
      "136185   2742263      0     0.372829\n",
      "136186   2330177      3     0.340032\n",
      "136187   2921370      8     0.570222\n",
      "\n",
      "[136188 rows x 3 columns]\n"
     ]
    }
   ],
   "source": [
    "def Sort_Tuple(tup):  \n",
    "    return(sorted(tup, key = lambda x: x[1], reverse = True))\n",
    "\n",
    "doc_num, topic_num, prob = [], [], []\n",
    "\n",
    "document_topic_matrix = documents\n",
    "\n",
    "for n in range(len(documents)):\n",
    "    get_document_topics = lda_model.get_document_topics(corpus_total[n], minimum_probability=0)\n",
    "    doc_num.append(documents.index[n])\n",
    "    sorted_doc_topics = Sort_Tuple(get_document_topics)\n",
    "    topic_num.append(sorted_doc_topics[0][0])\n",
    "    prob.append(sorted_doc_topics[0][1])\n",
    "    \n",
    "data = {'Document': doc_num\n",
    "        ,'Topic': topic_num\n",
    "        ,'Probability': prob}\n",
    "df = pd.DataFrame(data) \n",
    "df.to_csv(file_model + '_document_topic_matrix.csv', index=False)\n",
    "print(df)"
   ]
  },
  {
   "cell_type": "markdown",
   "metadata": {},
   "source": [
    "### Save document-topic matrix (all topic's probability per document)  \n",
    "https://github.com/Sim-Xuesi/content-based_movie_recommender/blob/master/Content%20Based%20Recommender%20System%20with%20LDA%20%26%20Cosine.ipynb  \n",
    "https://medium.com/@nicoleeesim97/building-a-simple-content-based-recommender-system-for-movies-and-tv-shows-73fec4f325ae  "
   ]
  },
  {
   "cell_type": "code",
   "execution_count": 21,
   "metadata": {},
   "outputs": [
    {
     "name": "stderr",
     "output_type": "stream",
     "text": [
      "C:\\Users\\minio\\anaconda3\\envs\\tfm-py-37\\lib\\site-packages\\ipykernel\\ipkernel.py:287: DeprecationWarning: `should_run_async` will not call `transform_cell` automatically in the future. Please pass the result to `transformed_cell` argument and any exception that happen during thetransform in `preprocessing_exc_tuple` in IPython 7.17 and above.\n",
      "  and should_run_async(code)\n"
     ]
    },
    {
     "name": "stdout",
     "output_type": "stream",
     "text": [
      "        Document    Topic0    Topic1    Topic2    Topic3    Topic4    Topic5  \\\n",
      "0        2023932  0.025001  0.025001  0.025001  0.025001  0.025001  0.025001   \n",
      "1        3084583  0.008334  0.008334  0.008334  0.091686  0.008334  0.008334   \n",
      "2        2510867  0.010000  0.010000  0.010000  0.209998  0.010000  0.010000   \n",
      "3        2013016  0.005053  0.005053  0.005053  0.124727  0.106178  0.005053   \n",
      "4        2528072  0.014287  0.014287  0.014287  0.014287  0.014287  0.014287   \n",
      "...          ...       ...       ...       ...       ...       ...       ...   \n",
      "136183   2170738  0.047832  0.004347  0.004347  0.004347  0.004347  0.134803   \n",
      "136184   2005275  0.110019  0.010002  0.010002  0.109992  0.010002  0.210007   \n",
      "136185   2742263  0.372829  0.100001  0.009090  0.190861  0.009090  0.190882   \n",
      "136186   2330177  0.006666  0.140082  0.006666  0.340032  0.073361  0.073281   \n",
      "136187   2921370  0.009295  0.009295  0.009295  0.009296  0.102466  0.009295   \n",
      "\n",
      "          Topic6    Topic7    Topic8    Topic9  \n",
      "0       0.025001  0.025001  0.774991  0.025001  \n",
      "1       0.091587  0.008334  0.758389  0.008334  \n",
      "2       0.214421  0.105558  0.410021  0.010000  \n",
      "3       0.329534  0.055561  0.358737  0.005053  \n",
      "4       0.014287  0.299995  0.585712  0.014287  \n",
      "...          ...       ...       ...       ...  \n",
      "136183  0.047826  0.091274  0.656527  0.004347  \n",
      "136184  0.010002  0.010002  0.509969  0.010002  \n",
      "136185  0.009090  0.009090  0.099977  0.009090  \n",
      "136186  0.006666  0.006667  0.339913  0.006667  \n",
      "136187  0.009295  0.262256  0.570212  0.009295  \n",
      "\n",
      "[136188 rows x 11 columns]\n"
     ]
    }
   ],
   "source": [
    "doc_num = []\n",
    "prob0, prob1, prob2, prob3, prob4, prob5, prob6, prob7, prob8, prob9 = ([] for i in range(num_topics))\n",
    "\n",
    "document_topic_matrix = documents\n",
    "\n",
    "for n in range(len(documents)):\n",
    "    get_document_topics = lda_model.get_document_topics(corpus_total[n], minimum_probability=0)\n",
    "    doc_num.append(documents.index[n])\n",
    "    prob0.append(get_document_topics[0][1])\n",
    "    prob1.append(get_document_topics[1][1])\n",
    "    prob2.append(get_document_topics[2][1])\n",
    "    prob3.append(get_document_topics[3][1])\n",
    "    prob4.append(get_document_topics[4][1])\n",
    "    prob5.append(get_document_topics[5][1])\n",
    "    prob6.append(get_document_topics[6][1])\n",
    "    prob7.append(get_document_topics[7][1])\n",
    "    prob8.append(get_document_topics[8][1])\n",
    "    prob9.append(get_document_topics[9][1])\n",
    "    \n",
    "data = {'Document': doc_num\n",
    "        ,'Topic0': prob0\n",
    "        ,'Topic1': prob1\n",
    "        ,'Topic2': prob2\n",
    "        ,'Topic3': prob3\n",
    "        ,'Topic4': prob4\n",
    "        ,'Topic5': prob5\n",
    "        ,'Topic6': prob6\n",
    "        ,'Topic7': prob7\n",
    "        ,'Topic8': prob8\n",
    "        ,'Topic9': prob9}\n",
    "\n",
    "df = pd.DataFrame(data) \n",
    "df.to_csv(file_model + '_document_topic_matrix_full.csv', index=False)\n",
    "print(df)"
   ]
  },
  {
   "cell_type": "markdown",
   "metadata": {},
   "source": [
    "### Save topic-term matrix"
   ]
  },
  {
   "cell_type": "code",
   "execution_count": 22,
   "metadata": {},
   "outputs": [
    {
     "name": "stderr",
     "output_type": "stream",
     "text": [
      "C:\\Users\\minio\\anaconda3\\envs\\tfm-py-37\\lib\\site-packages\\ipykernel\\ipkernel.py:287: DeprecationWarning: `should_run_async` will not call `transform_cell` automatically in the future. Please pass the result to `transformed_cell` argument and any exception that happen during thetransform in `preprocessing_exc_tuple` in IPython 7.17 and above.\n",
      "  and should_run_async(code)\n"
     ]
    }
   ],
   "source": [
    "# get topic-term-matrix\n",
    "topic_term_matrix = lda_model.get_topics()\n",
    "# save topic-term matrix\n",
    "savetxt(file_model + '_topic_term_matrix.csv', topic_term_matrix, delimiter=',')"
   ]
  }
 ],
 "metadata": {
  "kernelspec": {
   "display_name": "Python 3",
   "language": "python",
   "name": "python3"
  },
  "language_info": {
   "codemirror_mode": {
    "name": "ipython",
    "version": 3
   },
   "file_extension": ".py",
   "mimetype": "text/x-python",
   "name": "python",
   "nbconvert_exporter": "python",
   "pygments_lexer": "ipython3",
   "version": "3.7.9"
  }
 },
 "nbformat": 4,
 "nbformat_minor": 4
}
