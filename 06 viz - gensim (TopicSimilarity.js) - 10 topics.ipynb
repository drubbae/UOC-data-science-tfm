{
 "cells": [
  {
   "cell_type": "markdown",
   "metadata": {},
   "source": [
    "# <span style=\"color:blue\">Prepare models for visualization (generation of TopicSimilarity.js file) - 10 topics</span>"
   ]
  },
  {
   "cell_type": "markdown",
   "metadata": {},
   "source": [
    "### Load packages"
   ]
  },
  {
   "cell_type": "code",
   "execution_count": 1,
   "metadata": {},
   "outputs": [],
   "source": [
    "import gensim, os, time\n",
    "import dateutil.parser\n",
    "import numpy as np\n",
    "import pandas as pd\n",
    "from gensim.test.utils import datapath\n",
    "from numpy import savetxt"
   ]
  },
  {
   "cell_type": "markdown",
   "metadata": {},
   "source": [
    "### Constants"
   ]
  },
  {
   "cell_type": "code",
   "execution_count": 2,
   "metadata": {},
   "outputs": [],
   "source": [
    "# for reproducible results\n",
    "random_state = 33\n",
    "# if the test is True, the process runs on a smaller subset of raw data (json files)\n",
    "test = False\n",
    "\n",
    "if test:\n",
    "    # path where the model files are stored\n",
    "    path_model = r'D:\\master\\data science\\semestre 4\\M2.979 - tfm\\data\\bins_test\\model'\n",
    "    # path where all the files related to the visualization of the models are stored\n",
    "    path_viz = r'D:\\master\\data science\\semestre 4\\M2.979 - tfm\\data\\bins_test\\viz'\n",
    "else:\n",
    "    # path where the model files are stored\n",
    "    path_model = r'D:\\master\\data science\\semestre 4\\M2.979 - tfm\\data\\bins\\model'\n",
    "    # path where all the files related to the visualization of the models are stored\n",
    "    path_viz = r'D:\\master\\data science\\semestre 4\\M2.979 - tfm\\data\\bins\\viz'\n",
    "\n",
    "yyyy = 2019\n",
    "num_topics = num_words = 10"
   ]
  },
  {
   "cell_type": "markdown",
   "metadata": {},
   "source": [
    "### Function get nodes/topics weights"
   ]
  },
  {
   "cell_type": "code",
   "execution_count": 3,
   "metadata": {},
   "outputs": [],
   "source": [
    "def nodes_viz(topicsimilarity_js, path_model, yyyy):\n",
    "\n",
    "    time_start = time.time()\n",
    "\n",
    "    yyyy_str = str(yyyy)\n",
    "\n",
    "    MMM_array = ['Jan', 'Feb', 'Mar', 'Apr', 'May', 'Jun', 'Jul', 'Aug', 'Sep', 'Oct', 'Nov', 'Dec']\n",
    "\n",
    "    MMM_array_last = len(MMM_array) - 1\n",
    "    MMM_array_iter = 0\n",
    "\n",
    "    for month in MMM_array:\n",
    "        MMM = MMM_array.index(month)\n",
    "\n",
    "        file_doc_topic_matrix = os.path.join(path_model, yyyy_str + '_' + month, 'model_document_topic_matrix.csv')\n",
    "        df_doc_topic_matrix = pd.read_csv(file_doc_topic_matrix)\n",
    "        df_doc_topic_matrix = df_doc_topic_matrix.sort_values(by='Topic', ascending=True)\n",
    "        df_doc_topic_matrix = df_doc_topic_matrix.groupby(['Topic'], sort=True).size().reset_index(name='Count')\n",
    "\n",
    "        topics = df_doc_topic_matrix.Topic.unique()\n",
    "        count_max = df_doc_topic_matrix.loc[df_doc_topic_matrix['Count'].idxmax()]\n",
    "\n",
    "        topic_last = len(topics) - 1\n",
    "        topic_iter = 0\n",
    "        for index, row in df_doc_topic_matrix.iterrows():\n",
    "            value = int(100*(row['Count'])/(count_max[1]))\n",
    "            if MMM_array_iter < MMM_array_last:\n",
    "                topicsimilarity_js = topicsimilarity_js + '{\"name\": \"' + str(MMM) + '_' + str(int(row['Topic'])) + '\", \"value\": ' + str(value) + '},'\n",
    "            else:\n",
    "                if topic_iter < topic_last:\n",
    "                    topicsimilarity_js = topicsimilarity_js + '{\"name\": \"' + str(MMM) + '_' + str(int(row['Topic'])) + '\", \"value\": ' + str(value) + '},'\n",
    "                else:\n",
    "                    topicsimilarity_js = topicsimilarity_js + '{\"name\": \"' + str(MMM) + '_' + str(int(row['Topic'])) + '\", \"value\": ' + str(value) + '}'\n",
    "            topic_iter += 1\n",
    "\n",
    "        MMM_array_iter += 1\n",
    "\n",
    "    time_end = time.time()\n",
    "    hour, rem = divmod(time_end - time_start, 3600)\n",
    "    minute, second = divmod(rem, 60)\n",
    "    print('documents_viz - time elapsed - {:0>2}:{:0>2}:{:05.2f}'.format(int(hour), int(minute), second))\n",
    "\n",
    "    return topicsimilarity_js"
   ]
  },
  {
   "cell_type": "markdown",
   "metadata": {},
   "source": [
    "### Function get nodes/topics links"
   ]
  },
  {
   "cell_type": "code",
   "execution_count": 4,
   "metadata": {},
   "outputs": [],
   "source": [
    "def links_viz(topicsimilarity_js, path_model, yyyy):\n",
    "    \n",
    "    time_start = time.time()\n",
    "\n",
    "    yyyy_str = str(yyyy)\n",
    "\n",
    "    MMM_array = ['Jan', 'Feb', 'Mar', 'Apr', 'May', 'Jun', 'Jul', 'Aug', 'Sep', 'Oct', 'Nov', 'Dec']\n",
    "\n",
    "    MMM_array_last = len(MMM_array) - 1\n",
    "    MMM_array_iter = 0\n",
    "\n",
    "    for month in MMM_array:\n",
    "\n",
    "        if MMM_array_iter < MMM_array_last:\n",
    "\n",
    "            MMM_index = MMM_array.index(month)\n",
    "\n",
    "            file_model_1 = os.path.join(path_model, yyyy_str + '_' + month, 'model')\n",
    "            temp_file_1 = datapath(file_model_1)\n",
    "            model_1 = gensim.models.ldamodel.LdaModel.load(temp_file_1)\n",
    "            x_1 = model_1.show_topics(num_topics=num_topics, num_words=num_words, formatted=False)\n",
    "            topics_words_1 = [(tp[0], [wd[0] for wd in tp[1]]) for tp in x_1]\n",
    "\n",
    "            file_model_2 = os.path.join(path_model, yyyy_str + '_' + MMM_array[MMM_index + 1], 'model')\n",
    "            temp_file_2 = datapath(file_model_2)\n",
    "            model_2 = gensim.models.ldamodel.LdaModel.load(temp_file_2)\n",
    "            x_2 = model_2.show_topics(num_topics=num_topics, num_words=num_words, formatted=False)\n",
    "            topics_words_2 = [(tp[0], [wd[0] for wd in tp[1]]) for tp in x_2]\n",
    "\n",
    "            iter_last_1 = len(topics_words_1) - 1\n",
    "            iter_index_1 = 0\n",
    "            for topic_1,words_1 in topics_words_1:\n",
    "                source = str(MMM_index).lstrip('0') + str(topic_1)\n",
    "                target_res = ''\n",
    "                value_res = 0\n",
    "\n",
    "                iter_last_2 = len(topics_words_2) - 1\n",
    "                iter_index_2 = 0\n",
    "                for topic_2,words_2 in topics_words_2:\n",
    "                    # count duplicates between 2 arrays\n",
    "                    value = len(set(words_1) & set(words_2))\n",
    "                    if value > value_res:\n",
    "                        target_res = str(MMM_index + 1) + str(topic_2)\n",
    "                        value_res = len(set(words_1) & set(words_2))\n",
    "                    iter_index_2 += 1\n",
    "\n",
    "                if value_res > 0:\n",
    "                    if MMM_array_iter < MMM_array_last - 1:\n",
    "                        topicsimilarity_js = topicsimilarity_js + '{\"source\": ' + source + ', \"target\": ' + target_res + ', \"value\": ' + str(value_res) + '},'\n",
    "                    else:\n",
    "                        if iter_index_1 < iter_last_1:\n",
    "                            topicsimilarity_js = topicsimilarity_js + '{\"source\": ' + source + ', \"target\": ' + target_res + ', \"value\": ' + str(value_res) + '},'\n",
    "                        else:\n",
    "                            topicsimilarity_js = topicsimilarity_js + '{\"source\": ' + source + ', \"target\": ' + target_res + ', \"value\": ' + str(value_res) + '}'\n",
    "\n",
    "                iter_index_1 += 1\n",
    "\n",
    "        MMM_array_iter += 1\n",
    "    \n",
    "    time_end = time.time()\n",
    "    hour, rem = divmod(time_end - time_start, 3600)\n",
    "    minute, second = divmod(rem, 60)\n",
    "    print('documents_viz - time elapsed - {:0>2}:{:0>2}:{:05.2f}'.format(int(hour), int(minute), second))\n",
    "\n",
    "    return topicsimilarity_js"
   ]
  },
  {
   "cell_type": "markdown",
   "metadata": {},
   "source": [
    "### <span style=\"color:blue\">Generate TopicSimilarity.js file</span>"
   ]
  },
  {
   "cell_type": "code",
   "execution_count": 5,
   "metadata": {},
   "outputs": [],
   "source": [
    "topicsimilarity_js = 'function populate_similarity_Instagram_2019(){var sim_data = {\"nodes\": ['"
   ]
  },
  {
   "cell_type": "code",
   "execution_count": 6,
   "metadata": {},
   "outputs": [
    {
     "name": "stdout",
     "output_type": "stream",
     "text": [
      "documents_viz - time elapsed - 00:00:02.31\n"
     ]
    }
   ],
   "source": [
    "topicsimilarity_js = nodes_viz(topicsimilarity_js, path_model, yyyy)"
   ]
  },
  {
   "cell_type": "code",
   "execution_count": 7,
   "metadata": {},
   "outputs": [],
   "source": [
    "topicsimilarity_js = topicsimilarity_js + '], \"links\": ['"
   ]
  },
  {
   "cell_type": "code",
   "execution_count": 8,
   "metadata": {},
   "outputs": [
    {
     "name": "stdout",
     "output_type": "stream",
     "text": [
      "documents_viz - time elapsed - 00:00:01.31\n"
     ]
    }
   ],
   "source": [
    "topicsimilarity_js = links_viz(topicsimilarity_js, path_model, yyyy)"
   ]
  },
  {
   "cell_type": "code",
   "execution_count": 9,
   "metadata": {},
   "outputs": [],
   "source": [
    "topicsimilarity_js = topicsimilarity_js + ']};readSimilarityJSON(sim_data);}'"
   ]
  },
  {
   "cell_type": "code",
   "execution_count": 10,
   "metadata": {},
   "outputs": [
    {
     "data": {
      "text/plain": [
       "'function populate_similarity_Instagram_2019(){var sim_data = {\"nodes\": [{\"name\": \"0_0\", \"value\": 8},{\"name\": \"0_1\", \"value\": 8},{\"name\": \"0_2\", \"value\": 8},{\"name\": \"0_3\", \"value\": 10},{\"name\": \"0_4\", \"value\": 6},{\"name\": \"0_5\", \"value\": 4},{\"name\": \"0_6\", \"value\": 9},{\"name\": \"0_7\", \"value\": 100},{\"name\": \"0_8\", \"value\": 4},{\"name\": \"0_9\", \"value\": 1},{\"name\": \"1_0\", \"value\": 7},{\"name\": \"1_1\", \"value\": 7},{\"name\": \"1_2\", \"value\": 100},{\"name\": \"1_3\", \"value\": 12},{\"name\": \"1_4\", \"value\": 8},{\"name\": \"1_5\", \"value\": 5},{\"name\": \"1_6\", \"value\": 6},{\"name\": \"1_7\", \"value\": 5},{\"name\": \"1_8\", \"value\": 6},{\"name\": \"1_9\", \"value\": 5},{\"name\": \"2_0\", \"value\": 7},{\"name\": \"2_1\", \"value\": 2},{\"name\": \"2_2\", \"value\": 4},{\"name\": \"2_3\", \"value\": 13},{\"name\": \"2_4\", \"value\": 5},{\"name\": \"2_5\", \"value\": 4},{\"name\": \"2_6\", \"value\": 9},{\"name\": \"2_7\", \"value\": 9},{\"name\": \"2_8\", \"value\": 100},{\"name\": \"2_9\", \"value\": 3},{\"name\": \"3_0\", \"value\": 100},{\"name\": \"3_1\", \"value\": 9},{\"name\": \"3_2\", \"value\": 6},{\"name\": \"3_3\", \"value\": 5},{\"name\": \"3_4\", \"value\": 13},{\"name\": \"3_5\", \"value\": 5},{\"name\": \"3_6\", \"value\": 6},{\"name\": \"3_7\", \"value\": 6},{\"name\": \"3_8\", \"value\": 14},{\"name\": \"3_9\", \"value\": 7},{\"name\": \"4_0\", \"value\": 13},{\"name\": \"4_1\", \"value\": 76},{\"name\": \"4_2\", \"value\": 7},{\"name\": \"4_3\", \"value\": 13},{\"name\": \"4_4\", \"value\": 27},{\"name\": \"4_5\", \"value\": 6},{\"name\": \"4_6\", \"value\": 7},{\"name\": \"4_7\", \"value\": 100},{\"name\": \"4_8\", \"value\": 3},{\"name\": \"4_9\", \"value\": 7},{\"name\": \"5_0\", \"value\": 43},{\"name\": \"5_1\", \"value\": 5},{\"name\": \"5_2\", \"value\": 7},{\"name\": \"5_3\", \"value\": 100},{\"name\": \"5_4\", \"value\": 6},{\"name\": \"5_5\", \"value\": 3},{\"name\": \"5_6\", \"value\": 1},{\"name\": \"5_7\", \"value\": 6},{\"name\": \"5_8\", \"value\": 4},{\"name\": \"5_9\", \"value\": 14},{\"name\": \"6_0\", \"value\": 11},{\"name\": \"6_1\", \"value\": 6},{\"name\": \"6_2\", \"value\": 5},{\"name\": \"6_3\", \"value\": 5},{\"name\": \"6_4\", \"value\": 7},{\"name\": \"6_5\", \"value\": 100},{\"name\": \"6_6\", \"value\": 19},{\"name\": \"6_7\", \"value\": 11},{\"name\": \"6_8\", \"value\": 6},{\"name\": \"6_9\", \"value\": 6},{\"name\": \"7_0\", \"value\": 5},{\"name\": \"7_1\", \"value\": 7},{\"name\": \"7_2\", \"value\": 6},{\"name\": \"7_3\", \"value\": 100},{\"name\": \"7_4\", \"value\": 4},{\"name\": \"7_5\", \"value\": 4},{\"name\": \"7_6\", \"value\": 5},{\"name\": \"7_7\", \"value\": 5},{\"name\": \"7_8\", \"value\": 5},{\"name\": \"7_9\", \"value\": 11},{\"name\": \"8_0\", \"value\": 7},{\"name\": \"8_1\", \"value\": 100},{\"name\": \"8_2\", \"value\": 4},{\"name\": \"8_3\", \"value\": 7},{\"name\": \"8_4\", \"value\": 7},{\"name\": \"8_5\", \"value\": 14},{\"name\": \"8_6\", \"value\": 11},{\"name\": \"8_7\", \"value\": 5},{\"name\": \"8_8\", \"value\": 7},{\"name\": \"8_9\", \"value\": 11},{\"name\": \"9_0\", \"value\": 44},{\"name\": \"9_1\", \"value\": 5},{\"name\": \"9_2\", \"value\": 100},{\"name\": \"9_3\", \"value\": 10},{\"name\": \"9_4\", \"value\": 26},{\"name\": \"9_5\", \"value\": 6},{\"name\": \"9_6\", \"value\": 7},{\"name\": \"9_7\", \"value\": 11},{\"name\": \"9_8\", \"value\": 9},{\"name\": \"9_9\", \"value\": 9},{\"name\": \"10_0\", \"value\": 36},{\"name\": \"10_1\", \"value\": 6},{\"name\": \"10_2\", \"value\": 3},{\"name\": \"10_3\", \"value\": 2},{\"name\": \"10_4\", \"value\": 10},{\"name\": \"10_5\", \"value\": 8},{\"name\": \"10_6\", \"value\": 11},{\"name\": \"10_7\", \"value\": 100},{\"name\": \"10_8\", \"value\": 7},{\"name\": \"10_9\", \"value\": 18},{\"name\": \"11_0\", \"value\": 5},{\"name\": \"11_1\", \"value\": 3},{\"name\": \"11_2\", \"value\": 100},{\"name\": \"11_3\", \"value\": 5},{\"name\": \"11_4\", \"value\": 6},{\"name\": \"11_5\", \"value\": 20},{\"name\": \"11_6\", \"value\": 3},{\"name\": \"11_7\", \"value\": 5},{\"name\": \"11_8\", \"value\": 1},{\"name\": \"11_9\", \"value\": 4}], \"links\": [{\"source\": 0, \"target\": 10, \"value\": 1},{\"source\": 1, \"target\": 15, \"value\": 1},{\"source\": 2, \"target\": 17, \"value\": 2},{\"source\": 3, \"target\": 13, \"value\": 2},{\"source\": 6, \"target\": 11, \"value\": 1},{\"source\": 7, \"target\": 12, \"value\": 7},{\"source\": 10, \"target\": 23, \"value\": 1},{\"source\": 11, \"target\": 24, \"value\": 1},{\"source\": 12, \"target\": 28, \"value\": 6},{\"source\": 13, \"target\": 27, \"value\": 4},{\"source\": 14, \"target\": 26, \"value\": 1},{\"source\": 15, \"target\": 25, \"value\": 1},{\"source\": 16, \"target\": 23, \"value\": 1},{\"source\": 19, \"target\": 20, \"value\": 1},{\"source\": 20, \"target\": 32, \"value\": 1},{\"source\": 21, \"target\": 32, \"value\": 1},{\"source\": 22, \"target\": 33, \"value\": 1},{\"source\": 23, \"target\": 30, \"value\": 1},{\"source\": 24, \"target\": 32, \"value\": 1},{\"source\": 25, \"target\": 33, \"value\": 1},{\"source\": 26, \"target\": 34, \"value\": 2},{\"source\": 27, \"target\": 38, \"value\": 4},{\"source\": 28, \"target\": 30, \"value\": 6},{\"source\": 30, \"target\": 41, \"value\": 4},{\"source\": 31, \"target\": 46, \"value\": 1},{\"source\": 32, \"target\": 42, \"value\": 1},{\"source\": 34, \"target\": 40, \"value\": 1},{\"source\": 36, \"target\": 41, \"value\": 1},{\"source\": 38, \"target\": 44, \"value\": 3},{\"source\": 39, \"target\": 43, \"value\": 1},{\"source\": 41, \"target\": 50, \"value\": 4},{\"source\": 42, \"target\": 52, \"value\": 1},{\"source\": 44, \"target\": 59, \"value\": 2},{\"source\": 46, \"target\": 54, \"value\": 1},{\"source\": 47, \"target\": 53, \"value\": 5},{\"source\": 50, \"target\": 65, \"value\": 3},{\"source\": 51, \"target\": 60, \"value\": 1},{\"source\": 52, \"target\": 65, \"value\": 1},{\"source\": 53, \"target\": 65, \"value\": 3},{\"source\": 54, \"target\": 68, \"value\": 1},{\"source\": 57, \"target\": 61, \"value\": 1},{\"source\": 58, \"target\": 68, \"value\": 1},{\"source\": 59, \"target\": 66, \"value\": 3},{\"source\": 60, \"target\": 76, \"value\": 1},{\"source\": 61, \"target\": 77, \"value\": 1},{\"source\": 62, \"target\": 76, \"value\": 1},{\"source\": 64, \"target\": 72, \"value\": 1},{\"source\": 65, \"target\": 73, \"value\": 7},{\"source\": 66, \"target\": 79, \"value\": 2},{\"source\": 67, \"target\": 71, \"value\": 1},{\"source\": 68, \"target\": 71, \"value\": 1},{\"source\": 69, \"target\": 70, \"value\": 2},{\"source\": 71, \"target\": 82, \"value\": 1},{\"source\": 72, \"target\": 84, \"value\": 1},{\"source\": 73, \"target\": 81, \"value\": 7},{\"source\": 75, \"target\": 80, \"value\": 1},{\"source\": 76, \"target\": 83, \"value\": 1},{\"source\": 77, \"target\": 82, \"value\": 1},{\"source\": 78, \"target\": 83, \"value\": 1},{\"source\": 79, \"target\": 85, \"value\": 2},{\"source\": 80, \"target\": 98, \"value\": 1},{\"source\": 81, \"target\": 92, \"value\": 7},{\"source\": 82, \"target\": 96, \"value\": 1},{\"source\": 83, \"target\": 90, \"value\": 1},{\"source\": 84, \"target\": 96, \"value\": 1},{\"source\": 85, \"target\": 90, \"value\": 1},{\"source\": 86, \"target\": 92, \"value\": 1},{\"source\": 87, \"target\": 96, \"value\": 2},{\"source\": 88, \"target\": 99, \"value\": 1},{\"source\": 90, \"target\": 107, \"value\": 2},{\"source\": 92, \"target\": 107, \"value\": 5},{\"source\": 93, \"target\": 101, \"value\": 1},{\"source\": 94, \"target\": 106, \"value\": 2},{\"source\": 96, \"target\": 109, \"value\": 1},{\"source\": 97, \"target\": 105, \"value\": 1},{\"source\": 98, \"target\": 101, \"value\": 1},{\"source\": 99, \"target\": 100, \"value\": 1},{\"source\": 100, \"target\": 112, \"value\": 1},{\"source\": 101, \"target\": 117, \"value\": 1},{\"source\": 104, \"target\": 117, \"value\": 1},{\"source\": 105, \"target\": 111, \"value\": 1},{\"source\": 106, \"target\": 115, \"value\": 1},{\"source\": 107, \"target\": 112, \"value\": 7},{\"source\": 108, \"target\": 113, \"value\": 2},{\"source\": 109, \"target\": 115, \"value\": 2}]};readSimilarityJSON(sim_data);}'"
      ]
     },
     "execution_count": 10,
     "metadata": {},
     "output_type": "execute_result"
    }
   ],
   "source": [
    "topicsimilarity_js"
   ]
  },
  {
   "cell_type": "code",
   "execution_count": 11,
   "metadata": {},
   "outputs": [],
   "source": [
    "file_viz = os.path.join(path_viz, 'TopicSimilarity.js')\n",
    "\n",
    "with open(file_viz, 'w') as text_file:\n",
    "    text_file.write(topicsimilarity_js)"
   ]
  }
 ],
 "metadata": {
  "kernelspec": {
   "display_name": "Python 3",
   "language": "python",
   "name": "python3"
  },
  "language_info": {
   "codemirror_mode": {
    "name": "ipython",
    "version": 3
   },
   "file_extension": ".py",
   "mimetype": "text/x-python",
   "name": "python",
   "nbconvert_exporter": "python",
   "pygments_lexer": "ipython3",
   "version": "3.7.9"
  }
 },
 "nbformat": 4,
 "nbformat_minor": 4
}
