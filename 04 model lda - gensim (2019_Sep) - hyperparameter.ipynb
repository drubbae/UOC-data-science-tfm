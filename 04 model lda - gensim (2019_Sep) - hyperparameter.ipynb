{
 "cells": [
  {
   "cell_type": "markdown",
   "metadata": {},
   "source": [
    "# <span style=\"color:blue\">LDA model (2019_Sep) - with hyperparameter tuning</span>"
   ]
  },
  {
   "cell_type": "code",
   "execution_count": 1,
   "metadata": {},
   "outputs": [],
   "source": [
    "yyyy_MMM = '2019_Sep'"
   ]
  },
  {
   "cell_type": "markdown",
   "metadata": {},
   "source": [
    "### Load packages"
   ]
  },
  {
   "cell_type": "code",
   "execution_count": 2,
   "metadata": {},
   "outputs": [
    {
     "name": "stderr",
     "output_type": "stream",
     "text": [
      "C:\\Users\\minio\\anaconda3\\envs\\tfm-py-37\\lib\\site-packages\\botocore\\vendored\\requests\\packages\\urllib3\\_collections.py:1: DeprecationWarning: Using or importing the ABCs from 'collections' instead of from 'collections.abc' is deprecated since Python 3.3,and in 3.9 it will stop working\n",
      "  from collections import Mapping, MutableMapping\n",
      "C:\\Users\\minio\\anaconda3\\envs\\tfm-py-37\\lib\\site-packages\\botocore\\vendored\\requests\\packages\\urllib3\\_collections.py:1: DeprecationWarning: Using or importing the ABCs from 'collections' instead of from 'collections.abc' is deprecated since Python 3.3,and in 3.9 it will stop working\n",
      "  from collections import Mapping, MutableMapping\n",
      "C:\\Users\\minio\\anaconda3\\envs\\tfm-py-37\\lib\\site-packages\\scipy\\sparse\\sparsetools.py:21: DeprecationWarning: `scipy.sparse.sparsetools` is deprecated!\n",
      "scipy.sparse.sparsetools is a private module for scipy.sparse, and should not be used.\n",
      "  _deprecated()\n",
      "C:\\Users\\minio\\anaconda3\\envs\\tfm-py-37\\lib\\site-packages\\gensim\\models\\doc2vec.py:73: DeprecationWarning: Using or importing the ABCs from 'collections' instead of from 'collections.abc' is deprecated since Python 3.3,and in 3.9 it will stop working\n",
      "  from collections import namedtuple, defaultdict, Iterable\n",
      "[nltk_data] Downloading package stopwords to\n",
      "[nltk_data]     C:\\Users\\minio\\AppData\\Roaming\\nltk_data...\n",
      "[nltk_data]   Package stopwords is already up-to-date!\n",
      "[nltk_data] Downloading package averaged_perceptron_tagger to\n",
      "[nltk_data]     C:\\Users\\minio\\AppData\\Roaming\\nltk_data...\n",
      "[nltk_data]   Package averaged_perceptron_tagger is already up-to-\n",
      "[nltk_data]       date!\n"
     ]
    },
    {
     "data": {
      "text/plain": [
       "True"
      ]
     },
     "execution_count": 2,
     "metadata": {},
     "output_type": "execute_result"
    }
   ],
   "source": [
    "import csv, os, re, time\n",
    "import numpy as np\n",
    "from numpy import savetxt\n",
    "import pandas as  pd\n",
    "import matplotlib.pyplot as plt  \n",
    "import pyLDAvis\n",
    "import pyLDAvis.gensim\n",
    "import gensim\n",
    "import gensim.corpora as corpora\n",
    "from gensim.corpora.dictionary import Dictionary\n",
    "from gensim.models import CoherenceModel\n",
    "from gensim.test.utils import datapath\n",
    "from gensim.utils import simple_preprocess\n",
    "from pprint import pprint\n",
    "import nltk\n",
    "nltk.download('stopwords')\n",
    "nltk.download('averaged_perceptron_tagger')"
   ]
  },
  {
   "cell_type": "markdown",
   "metadata": {},
   "source": [
    "### Constants"
   ]
  },
  {
   "cell_type": "code",
   "execution_count": 3,
   "metadata": {},
   "outputs": [
    {
     "name": "stdout",
     "output_type": "stream",
     "text": [
      "D:\\master\\data science\\semestre 4\\M2.979 - tfm\\data\\bins_test\\doc\\2019_Sep\\2019_Sep_28_results.csv\n",
      "D:\\master\\data science\\semestre 4\\M2.979 - tfm\\data\\bins_test\\model_hyperparameter\\2019_Sep\\model\n"
     ]
    },
    {
     "name": "stderr",
     "output_type": "stream",
     "text": [
      "C:\\Users\\minio\\anaconda3\\envs\\tfm-py-37\\lib\\site-packages\\ipykernel\\ipkernel.py:287: DeprecationWarning: `should_run_async` will not call `transform_cell` automatically in the future. Please pass the result to `transformed_cell` argument and any exception that happen during thetransform in `preprocessing_exc_tuple` in IPython 7.17 and above.\n",
      "  and should_run_async(code)\n"
     ]
    }
   ],
   "source": [
    "# for reproducible results\n",
    "random_state = 33\n",
    "# if the test is True, the process runs on a smaller subset of raw data (json files)\n",
    "test = True\n",
    "# if sample > 0, then we take a sample of the entire dataset (for debugging purpose)\n",
    "sample = 0\n",
    "# parameters to build the lda model\n",
    "num_topics = 10\n",
    "alpha = 0.91\n",
    "eta = 0.91\n",
    "\n",
    "if test:\n",
    "    # path with the documents preprocessed\n",
    "    path_doc = r'D:\\master\\data science\\semestre 4\\M2.979 - tfm\\data\\bins_test\\doc'\n",
    "    # path where store all data/results related to the model\n",
    "    path_model = r'D:\\master\\data science\\semestre 4\\M2.979 - tfm\\data\\bins_test\\model_hyperparameter'\n",
    "    # chunksize to build LDA model\n",
    "    chunksize = 250\n",
    "else:\n",
    "    # path with the documents preprocessed\n",
    "    path_doc = r'D:\\master\\data science\\semestre 4\\M2.979 - tfm\\data\\bins\\doc'\n",
    "    # path where store all data/results related to the model\n",
    "    path_model = r'D:\\master\\data science\\semestre 4\\M2.979 - tfm\\data\\bins\\model_hyperparameter'\n",
    "    # chunksize to build LDA model\n",
    "    chunksize = 5000\n",
    "\n",
    "# path + name of the file that contains the documents preprocessed\n",
    "file_doc = os.path.join(path_doc, yyyy_MMM, yyyy_MMM) + '_28_results.csv'\n",
    "# path + name of the file that contains the model gotten at the end\n",
    "file_model = os.path.join(path_model, yyyy_MMM, 'model')\n",
    "print(file_doc)\n",
    "print(file_model)"
   ]
  },
  {
   "cell_type": "markdown",
   "metadata": {},
   "source": [
    "### Load data preprocessed"
   ]
  },
  {
   "cell_type": "code",
   "execution_count": 4,
   "metadata": {},
   "outputs": [
    {
     "name": "stderr",
     "output_type": "stream",
     "text": [
      "C:\\Users\\minio\\anaconda3\\envs\\tfm-py-37\\lib\\site-packages\\ipykernel\\ipkernel.py:287: DeprecationWarning: `should_run_async` will not call `transform_cell` automatically in the future. Please pass the result to `transformed_cell` argument and any exception that happen during thetransform in `preprocessing_exc_tuple` in IPython 7.17 and above.\n",
      "  and should_run_async(code)\n"
     ]
    },
    {
     "data": {
      "text/plain": [
       "id_doc\n",
       "66420       ['anthony', 'anderson', 'wife', 'emmy', 'emmy']\n",
       "70316     ['definitely', 'arrogant', 'egotistical', 'fel...\n",
       "111379    ['dejeuner', 'domaine', 'chass', 'domaine', 's...\n",
       "90871     ['dolly', 'castro', 'start', 'cked', 'goal', '...\n",
       "87138     ['follow', 'account', 'catal', 'kitty', 'cally...\n",
       "75140     ['malaika', 'arora', 'snap', 'post', 'rehearsa...\n",
       "111461    ['champagne', 'dimanche', 'pero', 'pour', 'lou...\n",
       "70392     ['family', 'empire', 'building', 'people', 'sp...\n",
       "110625    ['inner', 'gate', 'imperial', 'palace', 'east'...\n",
       "84423                              ['leave', 'trip', 'pic']\n",
       "Name: content_preprocessed, dtype: object"
      ]
     },
     "execution_count": 4,
     "metadata": {},
     "output_type": "execute_result"
    }
   ],
   "source": [
    "df = pd.read_csv(file_doc, index_col='id_doc')\n",
    "documents = df.content_preprocessed\n",
    "documents.head(10)"
   ]
  },
  {
   "cell_type": "markdown",
   "metadata": {},
   "source": [
    "### Shuffle"
   ]
  },
  {
   "cell_type": "code",
   "execution_count": 5,
   "metadata": {},
   "outputs": [
    {
     "name": "stderr",
     "output_type": "stream",
     "text": [
      "C:\\Users\\minio\\anaconda3\\envs\\tfm-py-37\\lib\\site-packages\\ipykernel\\ipkernel.py:287: DeprecationWarning: `should_run_async` will not call `transform_cell` automatically in the future. Please pass the result to `transformed_cell` argument and any exception that happen during thetransform in `preprocessing_exc_tuple` in IPython 7.17 and above.\n",
      "  and should_run_async(code)\n"
     ]
    },
    {
     "data": {
      "text/plain": [
       "id_doc\n",
       "110464    ['melanie', 'photograph', 'carp', 'shino', 'pa...\n",
       "112105    ['beignet', 'mozzarella', 'sauce', 'pimentdaro...\n",
       "87621     ['color', 'well', 'skin', 'olga', 'loera', 'be...\n",
       "74466     ['cast', 'chhabra', 'sanjana', 'sanghi', 'paye...\n",
       "110496    ['terracotta', 'monkey', 'tomb', 'object', 'ce...\n",
       "79679                                             ['agree']\n",
       "111845    ['quand', 'catherine', 'manoel', 'confiture', ...\n",
       "112064    ['tout', 'avec', 'hiroyuki', 'kanazawa', 'jacq...\n",
       "87449     ['helo', 'moreno', 'costa', 'rica', 'day', 'ib...\n",
       "92924     ['kiss', 'beauty', 'sugar', 'scrub', 'peach', ...\n",
       "Name: content_preprocessed, dtype: object"
      ]
     },
     "execution_count": 5,
     "metadata": {},
     "output_type": "execute_result"
    }
   ],
   "source": [
    "documents = documents.sample(frac=1, random_state=random_state)\n",
    "documents.head(10)"
   ]
  },
  {
   "cell_type": "markdown",
   "metadata": {},
   "source": [
    "### Sample"
   ]
  },
  {
   "cell_type": "code",
   "execution_count": 6,
   "metadata": {},
   "outputs": [
    {
     "name": "stderr",
     "output_type": "stream",
     "text": [
      "C:\\Users\\minio\\anaconda3\\envs\\tfm-py-37\\lib\\site-packages\\ipykernel\\ipkernel.py:287: DeprecationWarning: `should_run_async` will not call `transform_cell` automatically in the future. Please pass the result to `transformed_cell` argument and any exception that happen during thetransform in `preprocessing_exc_tuple` in IPython 7.17 and above.\n",
      "  and should_run_async(code)\n"
     ]
    }
   ],
   "source": [
    "if sample > 0:\n",
    "    documents = documents.sample(n=sample, random_state=random_state)\n",
    "    print(documents.head(10))"
   ]
  },
  {
   "cell_type": "markdown",
   "metadata": {},
   "source": [
    "### Plot the number of words appearing in each document  \n",
    "\n",
    "https://neptune.ai/blog/exploratory-data-analysis-natural-language-processing-tools"
   ]
  },
  {
   "cell_type": "code",
   "execution_count": 7,
   "metadata": {},
   "outputs": [
    {
     "name": "stderr",
     "output_type": "stream",
     "text": [
      "C:\\Users\\minio\\anaconda3\\envs\\tfm-py-37\\lib\\site-packages\\ipykernel\\ipkernel.py:287: DeprecationWarning: `should_run_async` will not call `transform_cell` automatically in the future. Please pass the result to `transformed_cell` argument and any exception that happen during thetransform in `preprocessing_exc_tuple` in IPython 7.17 and above.\n",
      "  and should_run_async(code)\n"
     ]
    },
    {
     "name": "stdout",
     "output_type": "stream",
     "text": [
      "(3365,)\n"
     ]
    },
    {
     "data": {
      "text/plain": [
       "<AxesSubplot:>"
      ]
     },
     "execution_count": 7,
     "metadata": {},
     "output_type": "execute_result"
    },
    {
     "data": {
      "image/png": "[encoded data removed]",
      "text/plain": [
       "<Figure size 432x288 with 1 Axes>"
      ]
     },
     "metadata": {
      "needs_background": "light"
     },
     "output_type": "display_data"
    }
   ],
   "source": [
    "print(documents.shape)\n",
    "\n",
    "documents.str.split().\\\n",
    "    map(lambda x: len(x)).\\\n",
    "    hist()"
   ]
  },
  {
   "cell_type": "markdown",
   "metadata": {},
   "source": [
    "### Remove words that appear only once"
   ]
  },
  {
   "cell_type": "code",
   "execution_count": 8,
   "metadata": {},
   "outputs": [
    {
     "name": "stderr",
     "output_type": "stream",
     "text": [
      "C:\\Users\\minio\\anaconda3\\envs\\tfm-py-37\\lib\\site-packages\\ipykernel\\ipkernel.py:287: DeprecationWarning: `should_run_async` will not call `transform_cell` automatically in the future. Please pass the result to `transformed_cell` argument and any exception that happen during thetransform in `preprocessing_exc_tuple` in IPython 7.17 and above.\n",
      "  and should_run_async(code)\n"
     ]
    }
   ],
   "source": [
    "####################### PENDING"
   ]
  },
  {
   "cell_type": "markdown",
   "metadata": {},
   "source": [
    "### Tokenize words and Clean-up text"
   ]
  },
  {
   "cell_type": "code",
   "execution_count": 9,
   "metadata": {},
   "outputs": [
    {
     "name": "stderr",
     "output_type": "stream",
     "text": [
      "C:\\Users\\minio\\anaconda3\\envs\\tfm-py-37\\lib\\site-packages\\ipykernel\\ipkernel.py:287: DeprecationWarning: `should_run_async` will not call `transform_cell` automatically in the future. Please pass the result to `transformed_cell` argument and any exception that happen during thetransform in `preprocessing_exc_tuple` in IPython 7.17 and above.\n",
      "  and should_run_async(code)\n"
     ]
    }
   ],
   "source": [
    "# https://www.machinelearningplus.com/nlp/topic-modeling-gensim-python/#3importpackages\n",
    "def sent_to_words(sentences):\n",
    "    for sentence in sentences:\n",
    "        yield(gensim.utils.simple_preprocess(str(sentence), deacc=True))  # deacc=True removes punctuations"
   ]
  },
  {
   "cell_type": "markdown",
   "metadata": {},
   "source": [
    "### Compute bigrams & trigrams  \n",
    "\n",
    "https://radimrehurek.com/gensim/auto_examples/tutorials/run_lda.html#pre-process-and-vectorize-the-documents"
   ]
  },
  {
   "cell_type": "code",
   "execution_count": 10,
   "metadata": {},
   "outputs": [
    {
     "name": "stderr",
     "output_type": "stream",
     "text": [
      "C:\\Users\\minio\\anaconda3\\envs\\tfm-py-37\\lib\\site-packages\\ipykernel\\ipkernel.py:287: DeprecationWarning: `should_run_async` will not call `transform_cell` automatically in the future. Please pass the result to `transformed_cell` argument and any exception that happen during thetransform in `preprocessing_exc_tuple` in IPython 7.17 and above.\n",
      "  and should_run_async(code)\n"
     ]
    }
   ],
   "source": [
    "from gensim.models import Phrases\n",
    "\n",
    "# Add bigrams and trigrams to docs (only ones that appear min_count times or more).\n",
    "def bi_tri_grams(documents, min_count):\n",
    "    bigram = Phrases(documents, min_count=min_count)\n",
    "    for idx in range(len(documents)):\n",
    "        for token in bigram[documents[idx]]:\n",
    "            if '_' in token:\n",
    "                # Token is a bigram, add to document.\n",
    "                documents[idx].append(token)"
   ]
  },
  {
   "cell_type": "markdown",
   "metadata": {},
   "source": [
    "### Categorizing and tagging words"
   ]
  },
  {
   "cell_type": "code",
   "execution_count": 11,
   "metadata": {},
   "outputs": [
    {
     "name": "stderr",
     "output_type": "stream",
     "text": [
      "C:\\Users\\minio\\anaconda3\\envs\\tfm-py-37\\lib\\site-packages\\ipykernel\\ipkernel.py:287: DeprecationWarning: `should_run_async` will not call `transform_cell` automatically in the future. Please pass the result to `transformed_cell` argument and any exception that happen during thetransform in `preprocessing_exc_tuple` in IPython 7.17 and above.\n",
      "  and should_run_async(code)\n"
     ]
    }
   ],
   "source": [
    "# function to remove accented characters\n",
    "def tag_words(text):\n",
    "    tags = nltk.pos_tag(text)\n",
    "    nouns = [word for word, pos in tags if (pos == 'NN' or pos == 'NNP' or pos == 'NNS' or pos == 'NNPS')]\n",
    "    return nouns"
   ]
  },
  {
   "cell_type": "markdown",
   "metadata": {},
   "source": [
    "### Dictionary with the entire dataset"
   ]
  },
  {
   "cell_type": "code",
   "execution_count": 12,
   "metadata": {},
   "outputs": [
    {
     "name": "stderr",
     "output_type": "stream",
     "text": [
      "C:\\Users\\minio\\anaconda3\\envs\\tfm-py-37\\lib\\site-packages\\ipykernel\\ipkernel.py:287: DeprecationWarning: `should_run_async` will not call `transform_cell` automatically in the future. Please pass the result to `transformed_cell` argument and any exception that happen during thetransform in `preprocessing_exc_tuple` in IPython 7.17 and above.\n",
      "  and should_run_async(code)\n"
     ]
    }
   ],
   "source": [
    "data_words = list(sent_to_words(documents))\n",
    "# Compute bigrams & trigrams\n",
    "bi_tri_grams(data_words, 250)\n",
    "# Categorizing and tagging words\n",
    "data_words = list(map(tag_words, data_words))\n",
    "# Create Dictionary\n",
    "id2word = Dictionary(data_words)\n",
    "# Create Corpus\n",
    "texts = data_words\n",
    "# Term Document Frequency\n",
    "corpus_total = [id2word.doc2bow(text) for text in texts]"
   ]
  },
  {
   "cell_type": "markdown",
   "metadata": {},
   "source": [
    "### Build LDA model"
   ]
  },
  {
   "cell_type": "code",
   "execution_count": 13,
   "metadata": {},
   "outputs": [
    {
     "name": "stderr",
     "output_type": "stream",
     "text": [
      "C:\\Users\\minio\\anaconda3\\envs\\tfm-py-37\\lib\\site-packages\\ipykernel\\ipkernel.py:287: DeprecationWarning: `should_run_async` will not call `transform_cell` automatically in the future. Please pass the result to `transformed_cell` argument and any exception that happen during thetransform in `preprocessing_exc_tuple` in IPython 7.17 and above.\n",
      "  and should_run_async(code)\n"
     ]
    },
    {
     "name": "stdout",
     "output_type": "stream",
     "text": [
      "time elapsed - 00:00:23.77\n"
     ]
    }
   ],
   "source": [
    "perplexity_score = []\n",
    "coherence_score = []\n",
    "indixes = []\n",
    "\n",
    "index = 0\n",
    "chunk_size = 250\n",
    "documents_sample = documents[index:chunk_size-1]\n",
    "\n",
    "time_start = time.time()\n",
    "\n",
    "data_words = list(sent_to_words(documents_sample))\n",
    "# Compute bigrams & trigrams\n",
    "bi_tri_grams(data_words, 250)\n",
    "# Categorizing and tagging words\n",
    "data_words = list(map(tag_words, data_words))\n",
    "# # Create Dictionary\n",
    "# id2word = Dictionary(data_words)\n",
    "# Create Corpus\n",
    "texts = data_words\n",
    "# Term Document Frequency\n",
    "corpus = [id2word.doc2bow(text) for text in texts]\n",
    "# Build LDA Model\n",
    "lda_model = gensim.models.LdaMulticore(corpus=corpus\n",
    "                                       ,id2word=id2word\n",
    "                                       ,num_topics=num_topics\n",
    "                                       ,random_state=random_state\n",
    "                                       ,chunksize=chunksize\n",
    "                                       ,passes=50\n",
    "                                       ,per_word_topics=True\n",
    "                                       ,alpha=alpha\n",
    "                                       ,eta=eta)\n",
    "\n",
    "indixes.append(index)\n",
    "\n",
    "# Evaluate LDA Model\n",
    "# Compute Perplexity Score\n",
    "perplexity = lda_model.log_perplexity(corpus)\n",
    "perplexity_score.append(perplexity)\n",
    "\n",
    "# Evaluate LDA Model\n",
    "# Compute Coherence Score\n",
    "coherence_lda_model = CoherenceModel(model=lda_model, texts=data_words, dictionary=id2word, coherence='c_v')\n",
    "coherence = coherence_lda_model.get_coherence()\n",
    "coherence_score.append(coherence)\n",
    "\n",
    "# Save LDA Model\n",
    "temp_file = datapath(file_model)\n",
    "lda_model.save(temp_file)\n",
    "temp_file = datapath(file_model + '_' + str(index).zfill(5))\n",
    "lda_model.save(temp_file)\n",
    "\n",
    "time_end = time.time()\n",
    "hour, rem = divmod(time_end - time_start, 3600)\n",
    "minute, second = divmod(rem, 60)\n",
    "print('time elapsed - {:0>2}:{:0>2}:{:05.2f}'.format(int(hour), int(minute), second))"
   ]
  },
  {
   "cell_type": "markdown",
   "metadata": {},
   "source": [
    "### Incremental learning"
   ]
  },
  {
   "cell_type": "code",
   "execution_count": 14,
   "metadata": {},
   "outputs": [
    {
     "name": "stdout",
     "output_type": "stream",
     "text": [
      "0  -----  250  -----  499\n"
     ]
    },
    {
     "name": "stderr",
     "output_type": "stream",
     "text": [
      "C:\\Users\\minio\\anaconda3\\envs\\tfm-py-37\\lib\\site-packages\\ipykernel\\ipkernel.py:287: DeprecationWarning: `should_run_async` will not call `transform_cell` automatically in the future. Please pass the result to `transformed_cell` argument and any exception that happen during thetransform in `preprocessing_exc_tuple` in IPython 7.17 and above.\n",
      "  and should_run_async(code)\n"
     ]
    },
    {
     "name": "stdout",
     "output_type": "stream",
     "text": [
      "time elapsed - 00:00:22.90\n",
      "1  -----  500  -----  749\n",
      "time elapsed - 00:00:23.38\n",
      "2  -----  750  -----  999\n",
      "time elapsed - 00:00:23.19\n",
      "3  -----  1000  -----  1249\n",
      "time elapsed - 00:00:22.89\n",
      "4  -----  1250  -----  1499\n",
      "time elapsed - 00:00:23.95\n",
      "5  -----  1500  -----  1749\n",
      "time elapsed - 00:00:22.55\n",
      "6  -----  1750  -----  1999\n",
      "time elapsed - 00:00:22.65\n",
      "7  -----  2000  -----  2249\n",
      "time elapsed - 00:00:23.93\n",
      "8  -----  2250  -----  2499\n",
      "time elapsed - 00:00:23.72\n",
      "9  -----  2500  -----  2749\n",
      "time elapsed - 00:00:36.26\n",
      "10  -----  2750  -----  2999\n",
      "time elapsed - 00:00:30.68\n",
      "11  -----  3000  -----  3249\n",
      "time elapsed - 00:00:44.13\n",
      "12  -----  3250  -----  3499\n",
      "time elapsed - 00:00:21.25\n"
     ]
    }
   ],
   "source": [
    "documents_len = len(documents)\n",
    "\n",
    "while index+(index+1)*chunk_size < documents_len:\n",
    "    \n",
    "    time_start = time.time()\n",
    "    \n",
    "    print(index, ' ----- ', (index+1)*chunk_size, ' ----- ', ((index+1)*chunk_size)+chunk_size-1)\n",
    "    documents_sample = documents[(index+1)*chunk_size:((index+1)*chunk_size)+chunk_size-1]\n",
    "    \n",
    "    data_words = list(sent_to_words(documents_sample))\n",
    "    # Compute bigrams & trigrams\n",
    "    bi_tri_grams(data_words, 250)\n",
    "    # Categorizing and tagging words\n",
    "    data_words = list(map(tag_words, data_words))\n",
    "    # Create Corpus\n",
    "    texts = data_words\n",
    "    # Term Document Frequency\n",
    "    corpus = [id2word.doc2bow(text) for text in texts]\n",
    "    # Load LDA Model\n",
    "    temp_file = datapath(file_model)\n",
    "    lda_model = gensim.models.ldamodel.LdaModel.load(temp_file)\n",
    "    # Update LDA Model\n",
    "    lda_model.update(corpus)\n",
    "    \n",
    "    index = index + 1\n",
    "    indixes.append(index)\n",
    "    \n",
    "    # Evaluate LDA Model\n",
    "    # Compute Perplexity Score\n",
    "    perplexity = lda_model.log_perplexity(corpus)\n",
    "    perplexity_score.append(perplexity)\n",
    "\n",
    "    # Evaluate LDA Model\n",
    "    # Compute Coherence Score\n",
    "    coherence_lda_model = CoherenceModel(model=lda_model, texts=data_words, dictionary=id2word, coherence='c_v')\n",
    "    coherence = coherence_lda_model.get_coherence()\n",
    "    coherence_score.append(coherence)\n",
    "    \n",
    "    # Save LDA Model\n",
    "    temp_file = datapath(file_model)\n",
    "    lda_model.save(temp_file)\n",
    "    temp_file = datapath(file_model + '_' + str(index).zfill(5))\n",
    "    lda_model.save(temp_file)\n",
    "    \n",
    "    time_end = time.time()\n",
    "    hour, rem = divmod(time_end - time_start, 3600)\n",
    "    minute, second = divmod(rem, 60)\n",
    "    print('time elapsed - {:0>2}:{:0>2}:{:05.2f}'.format(int(hour), int(minute), second))"
   ]
  },
  {
   "cell_type": "markdown",
   "metadata": {},
   "source": [
    "### Topics in LDA model"
   ]
  },
  {
   "cell_type": "code",
   "execution_count": 15,
   "metadata": {},
   "outputs": [
    {
     "name": "stdout",
     "output_type": "stream",
     "text": [
      "[(0,\n",
      "  '0.019*\"industry\" + 0.015*\"evisu\" + 0.015*\"alpha\" + 0.008*\"mother\" + '\n",
      "  '0.008*\"asia\" + 0.008*\"deal\" + 0.007*\"court\" + 0.005*\"fashion\" + '\n",
      "  '0.004*\"york\" + 0.004*\"rule\"'),\n",
      " (1,\n",
      "  '0.016*\"gucci\" + 0.013*\"fitness\" + 0.010*\"playboy\" + 0.010*\"angeles\" + '\n",
      "  '0.007*\"follow\" + 0.006*\"contact\" + 0.006*\"maxim\" + 0.006*\"muscle\" + '\n",
      "  '0.006*\"bodypaint\" + 0.006*\"marie\"'),\n",
      " (2,\n",
      "  '0.020*\"givenchy\" + 0.017*\"fashion\" + 0.010*\"jenner\" + 0.010*\"weitzman\" + '\n",
      "  '0.010*\"stuart\" + 0.010*\"fall\" + 0.010*\"kendall\" + 0.010*\"tokyo\" + '\n",
      "  '0.007*\"campaign\" + 0.007*\"strength\"'),\n",
      " (3,\n",
      "  '0.023*\"beauty\" + 0.015*\"follow\" + 0.011*\"chill\" + 0.011*\"morg\" + '\n",
      "  '0.011*\"dress\" + 0.008*\"outfit\" + 0.008*\"image\" + 0.008*\"decor\" + '\n",
      "  '0.007*\"award\" + 0.006*\"foto\"'),\n",
      " (4,\n",
      "  '0.015*\"vibe\" + 0.009*\"qureshi\" + 0.009*\"sapp\" + 0.009*\"telegram\" + '\n",
      "  '0.007*\"spot\" + 0.006*\"debut\" + 0.006*\"push\" + 0.006*\"fiasco\" + 0.005*\"star\" '\n",
      "  '+ 0.004*\"bodysuit\"'),\n",
      " (5,\n",
      "  '0.016*\"year\" + 0.014*\"jones\" + 0.011*\"taylor\" + 0.011*\"bank\" + '\n",
      "  '0.010*\"accord\" + 0.010*\"lawsuit\" + 0.010*\"drug\" + 0.008*\"claim\" + '\n",
      "  '0.006*\"court\" + 0.006*\"message\"'),\n",
      " (6,\n",
      "  '0.135*\"food\" + 0.031*\"foodie\" + 0.022*\"pic\" + 0.022*\"lunch\" + '\n",
      "  '0.020*\"gourmand\" + 0.020*\"ephoto\" + 0.020*\"tasty\" + 0.020*\"breakfast\" + '\n",
      "  '0.018*\"dinner\" + 0.018*\"sweet\"'),\n",
      " (7,\n",
      "  '0.018*\"sandwich\" + 0.014*\"post\" + 0.014*\"story\" + 0.012*\"popeyes\" + '\n",
      "  '0.009*\"chicken\" + 0.009*\"diplo\" + 0.006*\"gram\" + 0.006*\"khan\" + '\n",
      "  '0.006*\"chain\" + 0.006*\"plane\"'),\n",
      " (8,\n",
      "  '0.049*\"model\" + 0.039*\"fashion\" + 0.029*\"style\" + 0.019*\"event\" + '\n",
      "  '0.016*\"glan\" + 0.013*\"navman\" + 0.012*\"book\" + 0.012*\"airport\" + '\n",
      "  '0.012*\"today\" + 0.011*\"bollywood\"'),\n",
      " (9,\n",
      "  '0.010*\"follow\" + 0.010*\"jones\" + 0.009*\"zire\" + 0.009*\"slayer\" + '\n",
      "  '0.009*\"feature\" + 0.007*\"star\" + 0.006*\"music\" + 0.006*\"magazine\" + '\n",
      "  '0.006*\"guy\" + 0.006*\"call\"')]\n"
     ]
    },
    {
     "name": "stderr",
     "output_type": "stream",
     "text": [
      "C:\\Users\\minio\\anaconda3\\envs\\tfm-py-37\\lib\\site-packages\\ipykernel\\ipkernel.py:287: DeprecationWarning: `should_run_async` will not call `transform_cell` automatically in the future. Please pass the result to `transformed_cell` argument and any exception that happen during thetransform in `preprocessing_exc_tuple` in IPython 7.17 and above.\n",
      "  and should_run_async(code)\n"
     ]
    }
   ],
   "source": [
    "# Print the Keyword in the 10 topics\n",
    "pprint(lda_model.print_topics())\n",
    "doc_lda = lda_model[corpus]"
   ]
  },
  {
   "cell_type": "markdown",
   "metadata": {},
   "source": [
    "### Plot perplexity score progress along incremental learning iterations  \n",
    "\n",
    "Lower the perplexity score represents a better model.  "
   ]
  },
  {
   "cell_type": "code",
   "execution_count": 16,
   "metadata": {},
   "outputs": [
    {
     "name": "stderr",
     "output_type": "stream",
     "text": [
      "C:\\Users\\minio\\anaconda3\\envs\\tfm-py-37\\lib\\site-packages\\ipykernel\\ipkernel.py:287: DeprecationWarning: `should_run_async` will not call `transform_cell` automatically in the future. Please pass the result to `transformed_cell` argument and any exception that happen during thetransform in `preprocessing_exc_tuple` in IPython 7.17 and above.\n",
      "  and should_run_async(code)\n"
     ]
    },
    {
     "data": {
      "image/png": "[encoded data removed]",
      "text/plain": [
       "<Figure size 432x288 with 1 Axes>"
      ]
     },
     "metadata": {
      "needs_background": "light"
     },
     "output_type": "display_data"
    }
   ],
   "source": [
    "plt.title('Perplexity score progress')\n",
    "plt.xlabel('Index')\n",
    "plt.ylabel('Perplexity score')\n",
    "plt.plot(indixes, perplexity_score, 'go', perplexity_score, 'k')\n",
    "plt.show()"
   ]
  },
  {
   "cell_type": "markdown",
   "metadata": {},
   "source": [
    "### Plot coherence score progress along incremental learning iterations  \n",
    "\n",
    "Higher the coherence score represents a more human interpretable model.  "
   ]
  },
  {
   "cell_type": "code",
   "execution_count": 17,
   "metadata": {},
   "outputs": [
    {
     "name": "stderr",
     "output_type": "stream",
     "text": [
      "C:\\Users\\minio\\anaconda3\\envs\\tfm-py-37\\lib\\site-packages\\ipykernel\\ipkernel.py:287: DeprecationWarning: `should_run_async` will not call `transform_cell` automatically in the future. Please pass the result to `transformed_cell` argument and any exception that happen during thetransform in `preprocessing_exc_tuple` in IPython 7.17 and above.\n",
      "  and should_run_async(code)\n"
     ]
    },
    {
     "data": {
      "image/png": "[encoded data removed]",
      "text/plain": [
       "<Figure size 432x288 with 1 Axes>"
      ]
     },
     "metadata": {
      "needs_background": "light"
     },
     "output_type": "display_data"
    }
   ],
   "source": [
    "plt.title('Coherence score progress')\n",
    "plt.xlabel('Index')\n",
    "plt.ylabel('Coherence score')\n",
    "plt.plot(indixes, coherence_score, 'go', coherence_score, 'k') \n",
    "plt.show()"
   ]
  },
  {
   "cell_type": "markdown",
   "metadata": {},
   "source": [
    "### Visualize the topics-keywords"
   ]
  },
  {
   "cell_type": "code",
   "execution_count": 18,
   "metadata": {},
   "outputs": [
    {
     "name": "stderr",
     "output_type": "stream",
     "text": [
      "C:\\Users\\minio\\anaconda3\\envs\\tfm-py-37\\lib\\site-packages\\ipykernel\\ipkernel.py:287: DeprecationWarning: `should_run_async` will not call `transform_cell` automatically in the future. Please pass the result to `transformed_cell` argument and any exception that happen during thetransform in `preprocessing_exc_tuple` in IPython 7.17 and above.\n",
      "  and should_run_async(code)\n"
     ]
    },
    {
     "data": {
      "text/html": [
       "\n",
       "<link rel=\"stylesheet\" type=\"text/css\" href=\"https://cdn.rawgit.com/bmabey/pyLDAvis/files/ldavis.v1.0.0.css\">\n",
       "\n",
       "\n",
       "<div id=\"ldavis_el1010014591839634645975190716\"></div>\n",
       "<script type=\"text/javascript\">\n",
       "\n",
       "var ldavis_el1010014591839634645975190716_data = {\"mdsDat\": {\"x\": [-0.24134918989013363, -0.020750826290894097, 0.12868518280884583, 0.012667489479082732, 0.018885682329611648, 0.010037912068827039, 0.018789250856196416, 0.03524126005860932, 0.0158329021158758, 0.02196033646397923], \"y\": [0.08146383736335036, -0.18004792283797155, 0.1272571803468663, 0.005455664976678091, -0.022825444302630123, -0.016080713190418813, 0.005023372541310994, 0.0003966110626916882, 0.0035733250465668828, -0.004215911006443622], \"topics\": [1, 2, 3, 4, 5, 6, 7, 8, 9, 10], \"cluster\": [1, 1, 1, 1, 1, 1, 1, 1, 1, 1], \"Freq\": [22.959508499060302, 17.61012891121771, 13.1414825974298, 8.24442113653647, 7.976671235282794, 7.165196490352161, 6.2616707526301925, 6.163056005348241, 5.809342496455022, 4.668521875687304]}, \"tinfo\": {\"Term\": [\"food\", \"model\", \"fashion\", \"style\", \"foodie\", \"event\", \"pic\", \"lunch\", \"beauty\", \"gourmand\", \"ephoto\", \"tasty\", \"breakfast\", \"glan\", \"sweet\", \"jones\", \"dinner\", \"year\", \"yummy\", \"follow\", \"sandwich\", \"navman\", \"post\", \"airport\", \"givenchy\", \"taylor\", \"bank\", \"book\", \"story\", \"mumbai\", \"event\", \"model\", \"style\", \"glan\", \"airport\", \"mumbai\", \"navman\", \"rajasthan\", \"blogger\", \"blog\", \"movie\", \"morcha\", \"agency\", \"shoot\", \"malik\", \"punjabi\", \"rite\", \"print\", \"shot\", \"street\", \"travel\", \"beach\", \"oppo\", \"bollywood\", \"book\", \"consideration\", \"catalog\", \"alert\", \"portrait\", \"fash\", \"headshot\", \"fashion\", \"actress\", \"today\", \"discount\", \"actor\", \"makeup\", \"time\", \"hair\", \"jones\", \"post\", \"house\", \"kapoor\", \"beauty\", \"taylor\", \"bank\", \"lawsuit\", \"accord\", \"drug\", \"state\", \"relationship\", \"mortgage\", \"song\", \"year\", \"case\", \"issue\", \"lawyer\", \"couple\", \"statement\", \"default\", \"term\", \"occasion\", \"paper\", \"bathroom\", \"trainer\", \"money\", \"rapper\", \"cocaine\", \"addiction\", \"flav\", \"vlad\", \"enemy\", \"steal\", \"receipt\", \"glam\", \"claim\", \"message\", \"court\", \"jones\", \"woman\", \"love\", \"help\", \"star\", \"interest\", \"house\", \"story\", \"life\", \"miami\", \"people\", \"today\", \"reality\", \"day\", \"food\", \"foodie\", \"pic\", \"lunch\", \"gourmand\", \"ephoto\", \"tasty\", \"breakfast\", \"sweet\", \"yummy\", \"vaucluse\", \"tourisme\", \"provence\", \"chez\", \"daniel\", \"dinner\", \"luberon\", \"coeur\", \"guide\", \"champagne\", \"delice\", \"departement\", \"sande\", \"foie\", \"sorgue\", \"oise\", \"quai\", \"menu\", \"isle\", \"jardin\", \"restaurant\", \"morg\", \"chill\", \"dress\", \"decor\", \"beckham\", \"victoria\", \"essence\", \"water\", \"peter\", \"challenge\", \"gele\", \"myke\", \"shooter\", \"spencer\", \"appointment\", \"carpenter\", \"endorse\", \"thigh\", \"frame\", \"xpress\", \"patience\", \"ghana\", \"thrift\", \"interior\", \"thick\", \"diamond\", \"tonight\", \"journey\", \"beckhams\", \"kiss\", \"xxxx\", \"award\", \"beauty\", \"image\", \"foto\", \"follow\", \"outfit\", \"designer\", \"playboy\", \"hair\", \"artist\", \"hump\", \"queen\", \"family\", \"barbie\", \"trend\", \"order\", \"sandwich\", \"popeyes\", \"chicken\", \"diplo\", \"chain\", \"plane\", \"sajid\", \"son\", \"sussex\", \"husband\", \"balance\", \"stock\", \"board\", \"heard\", \"popeye\", \"phenomenon\", \"customer\", \"write\", \"begs\", \"answer\", \"fact\", \"bag\", \"course\", \"hindi\", \"bhasin\", \"prat\", \"tahir\", \"tushar\", \"wala\", \"teenage\", \"shukla\", \"story\", \"gram\", \"khan\", \"post\", \"picture\", \"family\", \"gift\", \"kapoor\", \"star\", \"work\", \"question\", \"move\", \"video\", \"respond\", \"people\", \"experience\", \"color\", \"film\", \"gloat\", \"sue\", \"zire\", \"slayer\", \"feature\", \"call\", \"credit\", \"content\", \"getaway\", \"gwen\", \"awesomeness\", \"head\", \"excite\", \"weekend\", \"imagery\", \"mood\", \"singer\", \"room\", \"afro\", \"modelki\", \"magic\", \"razzi\", \"pappa\", \"quer\", \"review\", \"persona\", \"quar\", \"salma\", \"spell\", \"pour\", \"season\", \"attention\", \"magazine\", \"guy\", \"follow\", \"music\", \"jones\", \"star\", \"kapoor\", \"share\", \"ride\", \"football\", \"miami\", \"amaze\", \"life\", \"dance\", \"vibe\", \"qureshi\", \"sapp\", \"telegram\", \"debut\", \"fiasco\", \"chica\", \"nutrition\", \"rajkumar\", \"suzette\", \"santoshi\", \"nuestros\", \"banse\", \"mediante\", \"shaq\", \"endo\", \"saber\", \"tube\", \"mendez\", \"grab\", \"thing\", \"bandra\", \"mama\", \"signature\", \"jewel\", \"haute\", \"madu\", \"sence\", \"muas\", \"fight\", \"chosen\", \"error\", \"ground\", \"settle\", \"spot\", \"push\", \"star\", \"sooo\", \"makeover\", \"bodysuit\", \"link\", \"trend\", \"studio\", \"family\", \"mike\", \"power\", \"gucci\", \"fitness\", \"angeles\", \"bodypaint\", \"maxim\", \"muscle\", \"marie\", \"buenos\", \"kandi\", \"accessory\", \"chance\", \"men\", \"photogra\", \"west\", \"magram\", \"mag\", \"guarantee\", \"cost\", \"dream\", \"offering\", \"submission\", \"publication\", \"horse\", \"mario\", \"energy\", \"durance\", \"esco\", \"whisler\", \"madi\", \"synn\", \"playboy\", \"contact\", \"follow\", \"account\", \"experience\", \"artist\", \"magazine\", \"givenchy\", \"stuart\", \"jenner\", \"kendall\", \"weitzman\", \"fall\", \"tokyo\", \"campaign\", \"strength\", \"rail\", \"glass\", \"mouth\", \"station\", \"roller\", \"daunt\", \"guidebook\", \"navigate\", \"suitcase\", \"yamanote\", \"sign\", \"capsule\", \"atelier\", \"melanie\", \"orange\", \"clink\", \"juice\", \"wine\", \"sudan\", \"cross\", \"reach\", \"rise\", \"fashion\", \"scene\", \"woman\", \"advertising\", \"industry\", \"alpha\", \"evisu\", \"asia\", \"deal\", \"jean\", \"hongkong\", \"fulani\", \"hausa\", \"honour\", \"buhari\", \"allah\", \"sacrifice\", \"almighty\", \"kody\", \"hand\", \"buddy\", \"lend\", \"otis\", \"mother\", \"york\", \"rule\", \"birthday\", \"court\", \"collection\", \"interest\", \"help\", \"poker\", \"elan\", \"doctor\", \"life\", \"glam\", \"fashion\", \"star\"], \"Freq\": [29.0, 19.0, 17.0, 11.0, 6.0, 7.0, 5.0, 5.0, 5.0, 4.0, 4.0, 4.0, 4.0, 6.0, 4.0, 9.0, 4.0, 5.0, 3.0, 4.0, 2.0, 5.0, 6.0, 4.0, 2.0, 3.0, 3.0, 5.0, 3.0, 4.0, 7.399565713081318, 18.979661973187255, 11.133779945868383, 6.199914911559387, 4.541868366312281, 3.9836577265323427, 5.023481906386518, 2.8555696095693253, 2.8555823849892983, 2.855219635036265, 2.853299723330478, 2.288150231150328, 2.2881694842480336, 2.287824367973273, 2.287054244065047, 2.2869045377352237, 2.283403532856171, 2.8036700957036333, 1.7202077802544122, 1.7185867414017941, 1.7184010479734557, 1.7177318678765652, 1.717996373050652, 4.174879852815761, 4.6332291731838495, 1.1522804439398726, 1.1522804439398726, 1.1522804439398726, 1.1522804439398726, 1.1522804439398726, 1.1522804439398726, 15.116235343439332, 3.056921204407314, 4.524293706881389, 1.1522804439398726, 1.528314674519178, 1.8398058639759471, 2.560647600010933, 2.3747432872751086, 3.981612579723723, 2.814861363599896, 2.322821461408337, 2.191215022718752, 2.5091599584877473, 3.398584194521676, 3.3984340374878066, 2.834910422740412, 2.8349222917706625, 2.834702576699044, 1.7076590735277057, 1.707709723924241, 1.7075911716337133, 1.70278697462176, 4.721448341236797, 1.1440413346101832, 1.1441175862289452, 1.143999654992326, 1.1440712142037794, 1.1440236690767869, 1.1439785391594381, 1.1439785391594381, 1.1439799192792346, 1.1439450022483808, 1.1439227823196556, 1.1439361694816825, 1.1439596315182248, 1.143968878320862, 1.1438659213840359, 1.1438659213840359, 1.1438659213840359, 1.1438659213840359, 1.1438659213840359, 1.1438659213840359, 1.1426997201559115, 1.5469674472385788, 2.2754738947586586, 1.7438920486076581, 1.7723203082258763, 4.280116944968605, 1.7095226492890503, 1.4888225861720195, 1.2424369755085471, 1.3836954109657549, 1.2043783779616568, 1.301921932897602, 1.2668488104947095, 1.2277272446804803, 1.1975887406103194, 1.1600997185034845, 1.1696889288622183, 1.1471662708596273, 1.1455071598461486, 29.77103414042657, 6.84302101993447, 4.891588007873982, 4.885980774395957, 4.403848503301299, 4.403831200839607, 4.403812662487796, 4.403812662487796, 3.9160249582004023, 3.4282424034551786, 2.4528783320910463, 2.452453597852868, 1.9650745612320824, 1.476948223051592, 1.476948223051592, 4.015290004848764, 0.9894880296462077, 0.9894880296462077, 0.9894879266553643, 0.9893024401464025, 0.9887665787881965, 0.5017108304248408, 0.5017108304248408, 0.5017108304248408, 0.5016927555318242, 0.5016703550233849, 0.5016703550233849, 0.5016703550233849, 0.5016703550233849, 0.5016703550233849, 0.5053276628633329, 1.4649247721254395, 1.4649247721254395, 1.461808655735408, 1.1018539225237762, 0.7373040354276242, 0.7373040354276242, 0.7370717546276291, 0.736995899924098, 0.7365547279345663, 0.7356299337508864, 0.7335825674895666, 0.7333084826067908, 0.7333084826067908, 0.7315328751896378, 0.37395984398329646, 0.37395984398329646, 0.37395984398329646, 0.37395984398329646, 0.37395984398329646, 0.37395984398329646, 0.37395984398329646, 0.37395984398329646, 0.37395984398329646, 0.37395984398329646, 0.37395984398329646, 0.37394181718407565, 0.37347709405362656, 0.3734218183305679, 0.3734218183305679, 0.3734218183305679, 0.3734218183305679, 0.923826163945513, 3.135159926573099, 1.1252312566673706, 0.8829993404415091, 2.146737344413431, 1.1372739338930407, 0.7320537140015322, 0.6632673249061312, 0.8077113503726712, 0.6712705776383122, 0.4305548509125021, 0.4085513656285171, 0.4251236476784585, 0.3955999180406966, 0.3942320781141609, 0.38784548682750886, 2.3869001530097305, 1.5952761958320734, 1.199351254795199, 1.199351254795199, 0.8035023305468268, 0.8035023305468268, 0.8030654215543572, 0.8030654215543572, 0.8018760963888496, 0.8005997520049246, 0.787105459255823, 0.4076854133672978, 0.40765615690593343, 0.40765615690593343, 0.40765615690593343, 0.40765615690593343, 0.40765615690593343, 0.40765615690593343, 0.40765615690593343, 0.40765615690593343, 0.40765615690593343, 0.4076456545864693, 0.4076036765655159, 0.4072192166565607, 0.4072192166565607, 0.4072192166565607, 0.4072192166565607, 0.4072192166565607, 0.4072192166565607, 0.4072192166565607, 0.4072192166565607, 1.8589583057011165, 0.8238008760325657, 0.8148527748215043, 1.8725147996875209, 0.6256668676295475, 0.5356270446041125, 0.40723056291241033, 0.5138987771106078, 0.5058948219166115, 0.4606983714148063, 0.4194196298990608, 0.4180960563344504, 0.42728139744055, 0.4209301510015135, 0.41588059829487034, 0.4131450253865899, 0.41015311461543624, 0.40996022826599215, 0.4089415032779704, 0.40886945611617026, 1.069254406454867, 1.0687403707773973, 1.0685890913241414, 0.7123422074746519, 0.7107072775260466, 0.3630291056182557, 0.36297536603519487, 0.36297536603519487, 0.36297536603519487, 0.36297536603519487, 0.36297536603519487, 0.36300057927740415, 0.36287692769757146, 0.36287493422296474, 0.36284329132322096, 0.36252090997907044, 0.3624758742992222, 0.3624758742992222, 0.3621091592029018, 0.36206788585541, 0.36206788585541, 0.36206788585541, 0.36206788585541, 0.36206788585541, 0.36206788585541, 0.36206788585541, 0.36206788585541, 0.36206123158101844, 0.3620396964398441, 0.3617091727346238, 0.7162014620048889, 0.7126776165965142, 1.2507433669808392, 0.7263040543866056, 1.2281761113481584, 0.8911606981865806, 0.6750577745938097, 0.4108807789268299, 0.3894011181162198, 0.3979862832427009, 0.4231971108207875, 0.3842199372277443, 0.3779642735262312, 0.36777130093663946, 1.599948334551494, 0.9927085665859101, 0.9921650316978864, 0.991472903126138, 0.6648699241576415, 0.6616333005083457, 0.33679558309564434, 0.33679558309564434, 0.33679558309564434, 0.33679558309564434, 0.33679558309564434, 0.33666465576797666, 0.33666465576797666, 0.33666465576797666, 0.33666465576797666, 0.33666465576797666, 0.33666465576797666, 0.33666465576797666, 0.33666465576797666, 0.3367912646530526, 0.33666649601339926, 0.33657141666656415, 0.3364165661484025, 0.3363537524379772, 0.3363537524379772, 0.3363537524379772, 0.3363537524379772, 0.3363537524379772, 0.3363537524379772, 0.336154049004715, 0.336154049004715, 0.336154049004715, 0.336154049004715, 0.336154049004715, 0.7256689829674426, 0.6618822489091171, 0.4992614294017858, 0.37051555319468943, 0.3635577079348091, 0.3723563629592343, 0.36979007937588315, 0.3675614685592791, 0.35277688776077654, 0.36558521673162975, 0.34986647828339634, 0.33933183387369836, 1.6549215986406378, 1.3135515616973572, 0.9970924352481582, 0.6688759386500686, 0.6688759386500686, 0.6688759386500686, 0.6672119429594595, 0.6669456630766599, 0.6643604829266362, 0.6592169293261995, 0.3392847896659065, 0.33926293375316086, 0.33926293375316086, 0.33926293375316086, 0.33926293375316086, 0.33926293375316086, 0.33926293375316086, 0.33926293375316086, 0.3392788004213088, 0.33924407246271404, 0.3392438551110956, 0.339244507165951, 0.3376327724644929, 0.3376327724644929, 0.3376327724644929, 0.3376327724644929, 0.3376327724644929, 0.33763274831431306, 0.33763274831431306, 0.33763274831431306, 1.0653775517195359, 0.6715697946093248, 0.6781801818322429, 0.3576886274063806, 0.3546984487406169, 0.3551747385872134, 0.33930311965239707, 1.9308379129641324, 0.9705361529040476, 0.9705361529040476, 0.9705361529040476, 0.9705361529040476, 0.9705361529040476, 0.9689463054089802, 0.6501164129830908, 0.6500885041481974, 0.648442065002604, 0.6476684940178191, 0.6466269891124022, 0.6448028075664439, 0.3286751550711024, 0.3286751550711024, 0.3286751550711024, 0.3286751550711024, 0.3286751550711024, 0.3286751550711024, 0.3286751550711024, 0.3285460141083372, 0.3285460141083372, 0.32806748913419903, 0.32804187947738417, 0.32804187947738417, 0.32804187947738417, 0.3279424457165243, 0.32734575209480743, 0.32734570656652867, 0.32734570656652867, 0.6359314858609355, 1.6697077383132615, 0.3357888348100925, 0.33772114601815795, 0.33005302290016075, 1.4691074155684904, 1.1768786335833057, 1.1768786335833057, 0.5925059893789725, 0.5899068079144232, 0.3003249358878827, 0.30029332422142196, 0.29986464587641365, 0.29985599291447157, 0.29965803582953426, 0.29965803582953426, 0.29856772603725434, 0.29856772603725434, 0.29856772603725434, 0.29777461713231296, 0.29778025161915894, 0.29772954123754486, 0.29772954123754486, 0.2845360609994188, 0.6049385943674256, 0.3073753436669919, 0.30544897115446396, 0.26825502831998665, 0.5585587915329896, 0.302659790402958, 0.283861806838109, 0.26966703438235456, 0.0091764215484746, 0.009165808864443618, 0.009165387535628124, 0.2449140385038686, 0.07686362064896862, 0.36235443446817084, 0.09281306926564961], \"Total\": [29.0, 19.0, 17.0, 11.0, 6.0, 7.0, 5.0, 5.0, 5.0, 4.0, 4.0, 4.0, 4.0, 6.0, 4.0, 9.0, 4.0, 5.0, 3.0, 4.0, 2.0, 5.0, 6.0, 4.0, 2.0, 3.0, 3.0, 5.0, 3.0, 4.0, 7.508140645582233, 19.290209276711984, 11.38184970483407, 6.348354391685785, 4.66064154351734, 4.097289400315135, 5.197050535628619, 2.964082517823765, 2.9642684190682003, 2.963962767227156, 2.963293381029313, 2.3962318880384923, 2.396264039434302, 2.3963003808586, 2.3959889776943126, 2.395906330778933, 2.3945421291059588, 2.9444631661024494, 1.8283060450844073, 1.8277739733677592, 1.8277245498278085, 1.827452590570611, 1.8277743503577664, 4.510370595598035, 5.058372658126534, 1.2603587727759311, 1.2603587727759311, 1.2603587727759311, 1.2603587727759311, 1.2603587727759311, 1.2603587727759311, 17.247021204081793, 3.3774355716208806, 5.791212787002554, 1.2603587727759311, 1.7560491063293844, 2.235190719654459, 3.423163469600621, 3.4959781039658373, 9.572968098682319, 6.038921150011103, 3.9551378366144965, 3.4734880993193884, 5.7510747689788735, 3.50648161586796, 3.506381029807925, 2.942801204685346, 2.942861832439212, 2.9427106674786057, 1.8155499244931805, 1.8156379771938582, 1.8155141970355566, 1.8138462100064379, 5.067087782866639, 1.2519403164930663, 1.2520248289919453, 1.2518991640296613, 1.2519873269205246, 1.2519366034920434, 1.2518927566819436, 1.2518927566819436, 1.251898871916278, 1.2518922598719378, 1.2518714073607704, 1.25189574467751, 1.2519407343068658, 1.25195568949003, 1.2518497694118782, 1.2518497694118782, 1.2518497694118782, 1.2518497694118782, 1.2518497694118782, 1.2518497694118782, 1.2514562507524665, 1.7422686268480696, 2.7762283904770486, 2.1923170360731548, 2.4314816120261225, 9.572968098682319, 3.6737801437781403, 2.853424955012917, 1.9509132442135717, 4.603800481890885, 1.8928346259370632, 3.9551378366144965, 3.6162810940951133, 3.4207301835153427, 3.2711546122659154, 2.2114527394175365, 5.791212787002554, 1.5829204056055073, 1.6482125955241003, 29.88215220618457, 6.954050296022016, 5.002737471027749, 5.002218589558664, 4.514975928034033, 4.514958689897044, 4.514940212506994, 4.5149402157416505, 4.027138554866747, 3.5393143759568897, 2.563606350450432, 2.5634463546684683, 2.0758018978006536, 1.5878768456777415, 1.587876846555151, 4.388077245470371, 1.1002118574227175, 1.1002118574227175, 1.1002117616073364, 1.100338635702104, 1.1000980885862957, 0.6124276135457881, 0.6124276135457881, 0.6124276376884529, 0.6124097306023564, 0.6123907681868903, 0.6123907681868903, 0.6123907681868903, 0.6123907681868903, 0.6123907681868903, 1.1786907088605012, 1.5808072740497745, 1.5808072740497745, 1.5810201648453024, 1.2168627136595143, 0.8529937040075724, 0.8529937048985763, 0.8529213090607176, 0.8529674096329909, 0.8530925292198805, 0.8530790215761157, 0.8531370837798492, 0.8530087885712476, 0.8530088173711535, 0.8530477610930297, 0.48896380988839, 0.48896380988839, 0.48896380988839, 0.48896380988839, 0.48896380988839, 0.48896380988839, 0.48896380988839, 0.48896380988839, 0.48896380988839, 0.48896381193038424, 0.48896381312304577, 0.4889756168735411, 0.48905303294811087, 0.4890327009345968, 0.4890327009345968, 0.4890327009345968, 0.4890327009345968, 1.3145398655748486, 5.7510747689788735, 1.7704654612894268, 1.3332619254944649, 4.384910895424959, 2.719927647531564, 1.4227106851340807, 1.8351682930427624, 3.4959781039658373, 2.911138983249176, 1.0174108016895536, 0.8437492262978911, 1.6724879425574282, 0.821425381008481, 1.2050284128216557, 1.0435999587718758, 2.500124417374284, 1.708411719873202, 1.312527791585883, 1.312527791585883, 0.9166621543535177, 0.9166621543535177, 0.9166356993303748, 0.9166357009993858, 0.9165554680948632, 0.9165248452755883, 0.9184223284938159, 0.5208251296698595, 0.5207968237518156, 0.5207968387310853, 0.5207968387310853, 0.5207968387310853, 0.5207968387310853, 0.5207968387310853, 0.5207968387310853, 0.5207968479437426, 0.5207968487955678, 0.5208434661894474, 0.5208251969799819, 0.5207691692696473, 0.5207691692696473, 0.5207691692696473, 0.5207691692696473, 0.5207691692696473, 0.5207691692696473, 0.5207691692696473, 0.5207691692696473, 3.6162810940951133, 1.475176694294619, 1.4781915816824078, 6.038921150011103, 1.9988528224404087, 1.6724879425574282, 0.5208320575080267, 3.4734880993193884, 4.603800481890885, 2.5842839089405927, 0.8510748712644385, 0.8792933213579341, 2.0088841604423333, 1.4170841967134298, 2.2114527394175365, 1.179862341321517, 0.8850084127371018, 0.8499303066573715, 1.0835899865183083, 1.0836106923478384, 1.1846269294028646, 1.1846776704563198, 1.1848868445577079, 0.83195122195923, 0.8325205790487404, 0.4782510625051191, 0.4782371745355186, 0.4782371745355186, 0.4782371745355186, 0.4782371745355186, 0.4782371745355186, 0.4783366362404169, 0.47831719959228425, 0.478318521142301, 0.4783642701681247, 0.47829820556546593, 0.4782897048779646, 0.4782897048779646, 0.4786136109141471, 0.47861027623189034, 0.47861027623189034, 0.47861027623189034, 0.47861027623189034, 0.47861027623189034, 0.47861027623189034, 0.47861027623189034, 0.47861027623189034, 0.47863113476860375, 0.4786101091040414, 0.478356912961397, 1.1613804379677468, 1.4008091622037007, 4.384910895424959, 1.9601464474665768, 9.572968098682319, 4.603800481890885, 3.4734880993193884, 1.0110306095494062, 0.8022555024359923, 1.0154915330582819, 3.2711546122659154, 1.594302255509326, 3.4207301835153427, 1.0422556010202773, 1.7710347831231403, 1.1095192891714707, 1.1093919325835861, 1.1094450920755845, 0.7814098431664747, 0.7817884131497065, 0.4534031972257273, 0.4534031972257273, 0.4534031972257273, 0.4534031972257273, 0.4534031972257273, 0.45325124010726847, 0.45325124010726847, 0.45325124010726847, 0.45325124010726847, 0.45325124010726847, 0.45325124010726847, 0.45325124010726847, 0.45325124010726847, 0.4534295898661714, 0.45340250189656295, 0.4535884030773321, 0.4534176853905855, 0.45342359859098225, 0.45342359859098225, 0.45342359859098225, 0.45342359859098225, 0.45342359859098225, 0.45342359859098225, 0.45330799973813035, 0.45330799973813035, 0.45330799973813035, 0.45330799973813035, 0.45330799973813035, 1.3029420358512172, 1.3463730373724203, 4.603800481890885, 0.8043501142228316, 0.8147285720111219, 0.9921134404950929, 0.9903474161031994, 1.2050284128216557, 0.8458675206784998, 1.6724879425574282, 0.8160621664912003, 1.5856749628611364, 1.7744070455528047, 1.451933478178484, 1.1141757537812855, 0.784336993638603, 0.7843369986899063, 0.7843369995031154, 0.7845844145113187, 0.7846132307692304, 0.7849960634112698, 0.7861550908671773, 0.45471919764410124, 0.4547079953902371, 0.4547079953902371, 0.4547079953902371, 0.4547079953902371, 0.4547079953902371, 0.4547079996074752, 0.45470800236608633, 0.45474416593320993, 0.45471549262337224, 0.45471541010274874, 0.4547687853094457, 0.4549469973662278, 0.4549469973662278, 0.4549469973662278, 0.4549469973662278, 0.4549469973662278, 0.4549469802759109, 0.4549469802759109, 0.4549469802759109, 1.8351682930427624, 1.9178413045437595, 4.384910895424959, 0.9993469934979275, 1.179862341321517, 2.911138983249176, 1.1613804379677468, 2.048227790510454, 1.0865202193531143, 1.0865202193531143, 1.0865202193531143, 1.0865202193531143, 1.0865202214934737, 1.0868668928153389, 0.7660928273285221, 0.7660606869021448, 0.7663557548915017, 0.7664852535149326, 0.7669837629795975, 0.7671562295392265, 0.44576915646929705, 0.44576915646929705, 0.44576915646929705, 0.44576915646929705, 0.44576915646929705, 0.44576915646929705, 0.44576916022607627, 0.44593336298556174, 0.44593336298556174, 0.4458809909802642, 0.4458721498922404, 0.4458721498922404, 0.4458721498922404, 0.4460135610898258, 0.4460190607525117, 0.44601903897390965, 0.44601903897390965, 1.3384577633417862, 17.247021204081793, 1.0080858878768368, 3.6737801437781403, 1.012839470922757, 1.5864104568234367, 1.2941870851987298, 1.2941870851987298, 0.7097854521709976, 0.7118269049699445, 0.41758242088325415, 0.41760956199516674, 0.41769786600504133, 0.4177134712719619, 0.4178342976502221, 0.4178342976502221, 0.41808174091256495, 0.41808174091256495, 0.41808174091256495, 0.4184102789934987, 0.41842742937719746, 0.41841590827961694, 0.41841590827961694, 0.4236348939488934, 1.1012588637783902, 0.7388223228919063, 0.9795783811849916, 1.0013100187395536, 2.4314816120261225, 1.327328008344767, 1.8928346259370632, 1.9509132442135717, 0.12502623230722965, 0.12501551576819397, 0.12501565922532834, 3.4207301835153427, 1.7422686268480696, 17.247021204081793, 4.603800481890885], \"Category\": [\"Default\", \"Default\", \"Default\", \"Default\", \"Default\", \"Default\", \"Default\", \"Default\", \"Default\", \"Default\", \"Default\", \"Default\", \"Default\", \"Default\", \"Default\", \"Default\", \"Default\", \"Default\", \"Default\", \"Default\", \"Default\", \"Default\", \"Default\", \"Default\", \"Default\", \"Default\", \"Default\", \"Default\", \"Default\", \"Default\", \"Topic1\", \"Topic1\", \"Topic1\", \"Topic1\", \"Topic1\", \"Topic1\", \"Topic1\", \"Topic1\", \"Topic1\", \"Topic1\", \"Topic1\", \"Topic1\", \"Topic1\", \"Topic1\", \"Topic1\", \"Topic1\", \"Topic1\", \"Topic1\", \"Topic1\", \"Topic1\", \"Topic1\", \"Topic1\", \"Topic1\", \"Topic1\", \"Topic1\", \"Topic1\", \"Topic1\", \"Topic1\", \"Topic1\", \"Topic1\", \"Topic1\", \"Topic1\", \"Topic1\", \"Topic1\", \"Topic1\", \"Topic1\", \"Topic1\", \"Topic1\", \"Topic1\", \"Topic1\", \"Topic1\", \"Topic1\", \"Topic1\", \"Topic1\", \"Topic2\", \"Topic2\", \"Topic2\", \"Topic2\", \"Topic2\", \"Topic2\", \"Topic2\", \"Topic2\", \"Topic2\", \"Topic2\", \"Topic2\", \"Topic2\", \"Topic2\", \"Topic2\", \"Topic2\", \"Topic2\", \"Topic2\", \"Topic2\", \"Topic2\", \"Topic2\", \"Topic2\", \"Topic2\", \"Topic2\", \"Topic2\", \"Topic2\", \"Topic2\", \"Topic2\", \"Topic2\", \"Topic2\", \"Topic2\", \"Topic2\", \"Topic2\", \"Topic2\", \"Topic2\", \"Topic2\", \"Topic2\", \"Topic2\", \"Topic2\", \"Topic2\", \"Topic2\", \"Topic2\", \"Topic2\", \"Topic2\", \"Topic2\", \"Topic2\", \"Topic2\", \"Topic2\", \"Topic2\", \"Topic3\", \"Topic3\", \"Topic3\", \"Topic3\", \"Topic3\", \"Topic3\", \"Topic3\", \"Topic3\", \"Topic3\", \"Topic3\", \"Topic3\", \"Topic3\", \"Topic3\", \"Topic3\", \"Topic3\", \"Topic3\", \"Topic3\", \"Topic3\", \"Topic3\", \"Topic3\", \"Topic3\", \"Topic3\", \"Topic3\", \"Topic3\", \"Topic3\", \"Topic3\", \"Topic3\", \"Topic3\", \"Topic3\", \"Topic3\", \"Topic3\", \"Topic4\", \"Topic4\", \"Topic4\", \"Topic4\", \"Topic4\", \"Topic4\", \"Topic4\", \"Topic4\", \"Topic4\", \"Topic4\", \"Topic4\", \"Topic4\", \"Topic4\", \"Topic4\", \"Topic4\", \"Topic4\", \"Topic4\", \"Topic4\", \"Topic4\", \"Topic4\", \"Topic4\", \"Topic4\", \"Topic4\", \"Topic4\", \"Topic4\", \"Topic4\", \"Topic4\", \"Topic4\", \"Topic4\", \"Topic4\", \"Topic4\", \"Topic4\", \"Topic4\", \"Topic4\", \"Topic4\", \"Topic4\", \"Topic4\", \"Topic4\", \"Topic4\", \"Topic4\", \"Topic4\", \"Topic4\", \"Topic4\", \"Topic4\", \"Topic4\", \"Topic4\", \"Topic4\", \"Topic5\", \"Topic5\", \"Topic5\", \"Topic5\", \"Topic5\", \"Topic5\", \"Topic5\", \"Topic5\", \"Topic5\", \"Topic5\", \"Topic5\", \"Topic5\", \"Topic5\", \"Topic5\", \"Topic5\", \"Topic5\", \"Topic5\", \"Topic5\", \"Topic5\", \"Topic5\", \"Topic5\", \"Topic5\", \"Topic5\", \"Topic5\", \"Topic5\", \"Topic5\", \"Topic5\", \"Topic5\", \"Topic5\", \"Topic5\", \"Topic5\", \"Topic5\", \"Topic5\", \"Topic5\", \"Topic5\", \"Topic5\", \"Topic5\", \"Topic5\", \"Topic5\", \"Topic5\", \"Topic5\", \"Topic5\", \"Topic5\", \"Topic5\", \"Topic5\", \"Topic5\", \"Topic5\", \"Topic5\", \"Topic5\", \"Topic5\", \"Topic5\", \"Topic6\", \"Topic6\", \"Topic6\", \"Topic6\", \"Topic6\", \"Topic6\", \"Topic6\", \"Topic6\", \"Topic6\", \"Topic6\", \"Topic6\", \"Topic6\", \"Topic6\", \"Topic6\", \"Topic6\", \"Topic6\", \"Topic6\", \"Topic6\", \"Topic6\", \"Topic6\", \"Topic6\", \"Topic6\", \"Topic6\", \"Topic6\", \"Topic6\", \"Topic6\", \"Topic6\", \"Topic6\", \"Topic6\", \"Topic6\", \"Topic6\", \"Topic6\", \"Topic6\", \"Topic6\", \"Topic6\", \"Topic6\", \"Topic6\", \"Topic6\", \"Topic6\", \"Topic6\", \"Topic6\", \"Topic6\", \"Topic6\", \"Topic6\", \"Topic7\", \"Topic7\", \"Topic7\", \"Topic7\", \"Topic7\", \"Topic7\", \"Topic7\", \"Topic7\", \"Topic7\", \"Topic7\", \"Topic7\", \"Topic7\", \"Topic7\", \"Topic7\", \"Topic7\", \"Topic7\", \"Topic7\", \"Topic7\", \"Topic7\", \"Topic7\", \"Topic7\", \"Topic7\", \"Topic7\", \"Topic7\", \"Topic7\", \"Topic7\", \"Topic7\", \"Topic7\", \"Topic7\", \"Topic7\", \"Topic7\", \"Topic7\", \"Topic7\", \"Topic7\", \"Topic7\", \"Topic7\", \"Topic7\", \"Topic7\", \"Topic7\", \"Topic7\", \"Topic7\", \"Topic7\", \"Topic7\", \"Topic7\", \"Topic7\", \"Topic7\", \"Topic8\", \"Topic8\", \"Topic8\", \"Topic8\", \"Topic8\", \"Topic8\", \"Topic8\", \"Topic8\", \"Topic8\", \"Topic8\", \"Topic8\", \"Topic8\", \"Topic8\", \"Topic8\", \"Topic8\", \"Topic8\", \"Topic8\", \"Topic8\", \"Topic8\", \"Topic8\", \"Topic8\", \"Topic8\", \"Topic8\", \"Topic8\", \"Topic8\", \"Topic8\", \"Topic8\", \"Topic8\", \"Topic8\", \"Topic8\", \"Topic8\", \"Topic8\", \"Topic8\", \"Topic8\", \"Topic8\", \"Topic8\", \"Topic8\", \"Topic9\", \"Topic9\", \"Topic9\", \"Topic9\", \"Topic9\", \"Topic9\", \"Topic9\", \"Topic9\", \"Topic9\", \"Topic9\", \"Topic9\", \"Topic9\", \"Topic9\", \"Topic9\", \"Topic9\", \"Topic9\", \"Topic9\", \"Topic9\", \"Topic9\", \"Topic9\", \"Topic9\", \"Topic9\", \"Topic9\", \"Topic9\", \"Topic9\", \"Topic9\", \"Topic9\", \"Topic9\", \"Topic9\", \"Topic9\", \"Topic9\", \"Topic9\", \"Topic9\", \"Topic9\", \"Topic9\", \"Topic10\", \"Topic10\", \"Topic10\", \"Topic10\", \"Topic10\", \"Topic10\", \"Topic10\", \"Topic10\", \"Topic10\", \"Topic10\", \"Topic10\", \"Topic10\", \"Topic10\", \"Topic10\", \"Topic10\", \"Topic10\", \"Topic10\", \"Topic10\", \"Topic10\", \"Topic10\", \"Topic10\", \"Topic10\", \"Topic10\", \"Topic10\", \"Topic10\", \"Topic10\", \"Topic10\", \"Topic10\", \"Topic10\", \"Topic10\", \"Topic10\", \"Topic10\", \"Topic10\", \"Topic10\"], \"logprob\": [30.0, 29.0, 28.0, 27.0, 26.0, 25.0, 24.0, 23.0, 22.0, 21.0, 20.0, 19.0, 18.0, 17.0, 16.0, 15.0, 14.0, 13.0, 12.0, 11.0, 10.0, 9.0, 8.0, 7.0, 6.0, 5.0, 4.0, 3.0, 2.0, 1.0, -3.9554998874664307, -3.0134999752044678, -3.5469000339508057, -4.132400035858154, -4.443600177764893, -4.574699878692627, -4.342800140380859, -4.907599925994873, -4.907599925994873, -4.907700061798096, -4.908400058746338, -5.129199981689453, -5.1290998458862305, -5.129300117492676, -5.1296000480651855, -5.129700183868408, -5.131199836730957, -4.926000118255615, -5.414400100708008, -5.41540002822876, -5.415500164031982, -5.415900230407715, -5.4156999588012695, -4.5278000831604, -4.423600196838379, -5.815199851989746, -5.815199851989746, -5.815199851989746, -5.815199851989746, -5.815199851989746, -5.815199851989746, -3.2411000728607178, -4.8394999504089355, -4.447400093078613, -5.815199851989746, -5.532700061798096, -5.3471999168396, -5.016600131988525, -5.0920000076293945, -4.575200080871582, -4.921999931335449, -5.114099979400635, -5.172399997711182, -5.036900043487549, -4.468299865722656, -4.468299865722656, -4.649600028991699, -4.649600028991699, -4.649700164794922, -5.156499862670898, -5.156499862670898, -5.156599998474121, -5.15939998626709, -4.139500141143799, -5.55709981918335, -5.557000160217285, -5.55709981918335, -5.557000160217285, -5.55709981918335, -5.55709981918335, -5.55709981918335, -5.55709981918335, -5.557199954986572, -5.557199954986572, -5.557199954986572, -5.55709981918335, -5.55709981918335, -5.557199954986572, -5.557199954986572, -5.557199954986572, -5.557199954986572, -5.557199954986572, -5.557199954986572, -5.558199882507324, -5.255300045013428, -4.8694000244140625, -5.135499954223633, -5.11929988861084, -4.23769998550415, -5.155399799346924, -5.293700218200684, -5.474599838256836, -5.3668999671936035, -5.50570011138916, -5.427800178527832, -5.455100059509277, -5.486499786376953, -5.511300086975098, -5.543099880218506, -5.534900188446045, -5.554299831390381, -5.555799961090088, -2.0053999423980713, -3.4756999015808105, -3.8113999366760254, -3.8125998973846436, -3.9165000915527344, -3.9165000915527344, -3.9165000915527344, -3.9165000915527344, -4.033899784088135, -4.166900157928467, -4.501699924468994, -4.501800060272217, -4.723400115966797, -5.008999824523926, -5.008999824523926, -4.008800029754639, -5.4095001220703125, -5.4095001220703125, -5.4095001220703125, -5.4096999168396, -5.410200119018555, -6.088699817657471, -6.088699817657471, -6.088699817657471, -6.088699817657471, -6.088699817657471, -6.088699817657471, -6.088699817657471, -6.088699817657471, -6.088699817657471, -6.081500053405762, -4.550899982452393, -4.550899982452393, -4.552999973297119, -4.835700035095215, -5.237500190734863, -5.237500190734863, -5.237800121307373, -5.2378997802734375, -5.238500118255615, -5.239699840545654, -5.242499828338623, -5.2428998947143555, -5.2428998947143555, -5.245299816131592, -5.916299819946289, -5.916299819946289, -5.916299819946289, -5.916299819946289, -5.916299819946289, -5.916299819946289, -5.916299819946289, -5.916299819946289, -5.916299819946289, -5.916299819946289, -5.916299819946289, -5.916399955749512, -5.917600154876709, -5.917699813842773, -5.917699813842773, -5.917699813842773, -5.917699813842773, -5.011899948120117, -3.7899999618530273, -4.814700126647949, -5.05709981918335, -4.168799877166748, -4.804100036621094, -5.24459981918335, -5.343299865722656, -5.146299839019775, -5.331299781799316, -5.775400161743164, -5.8277997970581055, -5.788099765777588, -5.860099792480469, -5.863500118255615, -5.879799842834473, -4.029699802398682, -4.432600021362305, -4.717899799346924, -4.717899799346924, -5.118500232696533, -5.118500232696533, -5.11899995803833, -5.11899995803833, -5.120500087738037, -5.122099876403809, -5.139100074768066, -5.796899795532227, -5.796999931335449, -5.796999931335449, -5.796999931335449, -5.796999931335449, -5.796999931335449, -5.796999931335449, -5.796999931335449, -5.796999931335449, -5.796999931335449, -5.796999931335449, -5.797100067138672, -5.798099994659424, -5.798099994659424, -5.798099994659424, -5.798099994659424, -5.798099994659424, -5.798099994659424, -5.798099994659424, -5.798099994659424, -4.279699802398682, -5.093500137329102, -5.104400157928467, -4.27239990234375, -5.368599891662598, -5.52400016784668, -5.798099994659424, -5.565400123596191, -5.581099987030029, -5.674699783325195, -5.768599987030029, -5.771699905395508, -5.75, -5.764999866485596, -5.7769999504089355, -5.783599853515625, -5.790900230407715, -5.791399955749512, -5.793900012969971, -5.794000148773193, -4.725399971008301, -4.725900173187256, -4.726099967956543, -5.1315999031066895, -5.133900165557861, -5.805699825286865, -5.805799961090088, -5.805799961090088, -5.805799961090088, -5.805799961090088, -5.805799961090088, -5.805699825286865, -5.806099891662598, -5.806099891662598, -5.80620002746582, -5.80709981918335, -5.807199954986572, -5.807199954986572, -5.808199882507324, -5.808300018310547, -5.808300018310547, -5.808300018310547, -5.808300018310547, -5.808300018310547, -5.808300018310547, -5.808300018310547, -5.808300018310547, -5.808300018310547, -5.8084001541137695, -5.809299945831299, -5.126200199127197, -5.131100177764893, -4.568699836730957, -5.112199783325195, -4.586900234222412, -4.907599925994873, -5.185400009155273, -5.6819000244140625, -5.735499858856201, -5.713699817657471, -5.652299880981445, -5.748899936676025, -5.765399932861328, -5.792699813842773, -4.187600135803223, -4.664899826049805, -4.665500164031982, -4.666200160980225, -5.065800189971924, -5.070700168609619, -5.7459001541137695, -5.7459001541137695, -5.7459001541137695, -5.7459001541137695, -5.7459001541137695, -5.746300220489502, -5.746300220489502, -5.746300220489502, -5.746300220489502, -5.746300220489502, -5.746300220489502, -5.746300220489502, -5.746300220489502, -5.7459001541137695, -5.746300220489502, -5.746600151062012, -5.747000217437744, -5.747200012207031, -5.747200012207031, -5.747200012207031, -5.747200012207031, -5.747200012207031, -5.747200012207031, -5.747799873352051, -5.747799873352051, -5.747799873352051, -5.747799873352051, -5.747799873352051, -4.978300094604492, -5.070300102233887, -5.352200031280518, -5.6504998207092285, -5.669400215148926, -5.645500183105469, -5.652400016784668, -5.6585001945495605, -5.69950008392334, -5.663899898529053, -5.707799911499023, -5.738399982452393, -4.138000011444092, -4.36899995803833, -4.644599914550781, -5.043900012969971, -5.043900012969971, -5.043900012969971, -5.04640007019043, -5.046800136566162, -5.0507001876831055, -5.0584001541137695, -5.722700119018555, -5.722700119018555, -5.722700119018555, -5.722700119018555, -5.722700119018555, -5.722700119018555, -5.722700119018555, -5.722700119018555, -5.722700119018555, -5.722799777984619, -5.722799777984619, -5.722799777984619, -5.727499961853027, -5.727499961853027, -5.727499961853027, -5.727499961853027, -5.727499961853027, -5.727499961853027, -5.727499961853027, -5.727499961853027, -4.578400135040283, -5.039899826049805, -5.030099868774414, -5.6697998046875, -5.678199768066406, -5.6768999099731445, -5.722599983215332, -3.9247000217437744, -4.612500190734863, -4.612500190734863, -4.612500190734863, -4.612500190734863, -4.612500190734863, -4.614200115203857, -5.013199806213379, -5.013299942016602, -5.0157999992370605, -5.017000198364258, -5.018599987030029, -5.021399974822998, -5.695300102233887, -5.695300102233887, -5.695300102233887, -5.695300102233887, -5.695300102233887, -5.695300102233887, -5.695300102233887, -5.695700168609619, -5.695700168609619, -5.697199821472168, -5.697199821472168, -5.697199821472168, -5.697199821472168, -5.697500228881836, -5.699399948120117, -5.699399948120117, -5.699399948120117, -5.035299777984619, -4.070000171661377, -5.673900127410889, -5.6682000160217285, -5.691100120544434, -3.9793999195098877, -4.201099872589111, -4.201099872589111, -4.887400150299072, -4.8917999267578125, -5.56689977645874, -5.566999912261963, -5.568399906158447, -5.56850004196167, -5.5690999031066895, -5.5690999031066895, -5.572800159454346, -5.572800159454346, -5.572800159454346, -5.575399875640869, -5.575399875640869, -5.5756001472473145, -5.5756001472473145, -5.6209001541137695, -4.866600036621094, -5.543700218200684, -5.550000190734863, -5.679800033569336, -4.946400165557861, -5.559199810028076, -5.623300075531006, -5.674600124359131, -9.055100440979004, -9.056300163269043, -9.056300163269043, -5.770899772644043, -6.929699897766113, -5.3790998458862305, -6.741199970245361], \"loglift\": [30.0, 29.0, 28.0, 27.0, 26.0, 25.0, 24.0, 23.0, 22.0, 21.0, 20.0, 19.0, 18.0, 17.0, 16.0, 15.0, 14.0, 13.0, 12.0, 11.0, 10.0, 9.0, 8.0, 7.0, 6.0, 5.0, 4.0, 3.0, 2.0, 1.0, 1.4569, 1.4552, 1.4494, 1.4478, 1.4456, 1.4433, 1.4375, 1.4341, 1.4341, 1.4341, 1.4336, 1.4253, 1.4253, 1.4251, 1.4249, 1.4249, 1.4239, 1.4224, 1.4105, 1.4098, 1.4098, 1.4095, 1.4095, 1.3941, 1.3836, 1.3818, 1.3818, 1.3818, 1.3818, 1.3818, 1.3818, 1.3396, 1.3717, 1.2246, 1.3818, 1.3325, 1.2768, 1.1811, 1.0847, 0.5942, 0.7081, 0.9392, 1.0107, 0.642, 1.7054, 1.7054, 1.6993, 1.6993, 1.6993, 1.6754, 1.6754, 1.6754, 1.6735, 1.666, 1.6466, 1.6466, 1.6466, 1.6466, 1.6466, 1.6466, 1.6466, 1.6465, 1.6465, 1.6465, 1.6465, 1.6465, 1.6465, 1.6465, 1.6465, 1.6465, 1.6465, 1.6465, 1.6465, 1.6458, 1.6178, 1.5378, 1.5079, 1.4205, 0.9317, 0.9717, 1.0862, 1.2855, 0.5346, 1.2846, 0.6255, 0.6878, 0.712, 0.7319, 1.0916, 0.1371, 1.4147, 1.3729, 2.0257, 2.0133, 2.0069, 2.0059, 2.0045, 2.0045, 2.0045, 2.0045, 2.0014, 1.9975, 1.9852, 1.9851, 1.9746, 1.957, 1.957, 1.9406, 1.9233, 1.9233, 1.9233, 1.923, 1.9227, 1.83, 1.83, 1.83, 1.83, 1.83, 1.83, 1.83, 1.83, 1.83, 1.1824, 2.4195, 2.4195, 2.4172, 2.3964, 2.3499, 2.3499, 2.3497, 2.3495, 2.3487, 2.3475, 2.3447, 2.3444, 2.3444, 2.342, 2.2275, 2.2275, 2.2275, 2.2275, 2.2275, 2.2275, 2.2275, 2.2275, 2.2275, 2.2275, 2.2275, 2.2274, 2.226, 2.2259, 2.2259, 2.2259, 2.2259, 2.1429, 1.8889, 2.0424, 2.0836, 1.7814, 1.6237, 1.8312, 1.4779, 1.0305, 1.0285, 1.6357, 1.7704, 1.1259, 1.765, 1.3783, 1.5058, 2.4823, 2.4601, 2.4385, 2.4385, 2.3969, 2.3969, 2.3964, 2.3964, 2.395, 2.3934, 2.3744, 2.2837, 2.2837, 2.2837, 2.2837, 2.2837, 2.2837, 2.2837, 2.2837, 2.2837, 2.2837, 2.2836, 2.2835, 2.2827, 2.2827, 2.2827, 2.2827, 2.2827, 2.2827, 2.2827, 2.2827, 1.8632, 1.946, 1.9331, 1.3577, 1.3671, 1.39, 2.2826, 0.6178, 0.3203, 0.8042, 1.821, 1.7852, 0.9808, 1.3148, 0.8576, 1.4793, 1.7596, 1.7996, 1.5542, 1.554, 2.5335, 2.5329, 2.5326, 2.4807, 2.4777, 2.3603, 2.3602, 2.3602, 2.3602, 2.3602, 2.3602, 2.36, 2.3597, 2.3597, 2.3595, 2.3588, 2.3587, 2.3587, 2.357, 2.3569, 2.3569, 2.3569, 2.3569, 2.3569, 2.3569, 2.3569, 2.3569, 2.3568, 2.3568, 2.3564, 2.1525, 1.9602, 1.3815, 1.6431, 0.5825, 0.9938, 0.9978, 1.7355, 1.9131, 1.6992, 0.5909, 1.213, 0.4331, 1.5943, 2.6691, 2.6595, 2.659, 2.6583, 2.6092, 2.6039, 2.4734, 2.4734, 2.4734, 2.4734, 2.4734, 2.4734, 2.4734, 2.4734, 2.4734, 2.4734, 2.4734, 2.4734, 2.4734, 2.4733, 2.473, 2.4723, 2.4723, 2.4721, 2.4721, 2.4721, 2.4721, 2.4721, 2.4721, 2.4717, 2.4717, 2.4717, 2.4717, 2.4717, 2.1854, 2.0606, 0.5492, 1.9956, 1.9638, 1.7907, 1.7856, 1.5834, 1.8962, 1.2502, 1.9238, 1.2289, 2.7169, 2.6864, 2.6756, 2.6274, 2.6274, 2.6274, 2.6246, 2.6241, 2.6197, 2.6105, 2.4938, 2.4937, 2.4937, 2.4937, 2.4937, 2.4937, 2.4937, 2.4937, 2.4937, 2.4936, 2.4936, 2.4935, 2.4884, 2.4884, 2.4884, 2.4884, 2.4884, 2.4884, 2.4884, 2.4884, 2.2428, 1.7373, 0.9201, 1.7592, 1.5847, 0.6829, 1.5561, 2.7867, 2.7328, 2.7328, 2.7328, 2.7328, 2.7328, 2.7309, 2.6816, 2.6815, 2.6786, 2.6773, 2.675, 2.672, 2.541, 2.541, 2.541, 2.541, 2.541, 2.541, 2.541, 2.5402, 2.5402, 2.5389, 2.5388, 2.5388, 2.5388, 2.5382, 2.5364, 2.5364, 2.5364, 2.1015, 0.5107, 1.7464, 0.4589, 1.7244, 2.9875, 2.9693, 2.9693, 2.8837, 2.8765, 2.7347, 2.7345, 2.7329, 2.7328, 2.7319, 2.7319, 2.7276, 2.7276, 2.7276, 2.7242, 2.7242, 2.724, 2.724, 2.6663, 2.4652, 2.1873, 1.899, 1.7472, 1.5934, 1.586, 1.167, 1.0855, 0.4524, 0.4514, 0.4513, 0.4276, -0.0566, -0.7984, -0.8397]}, \"token.table\": {\"Topic\": [8, 2, 2, 1, 1, 2, 1, 1, 1, 1, 10, 1, 8, 1, 4, 10, 4, 5, 2, 2, 1, 1, 4, 4, 1, 1, 1, 8, 1, 1, 1, 3, 8, 6, 9, 2, 1, 5, 4, 3, 3, 5, 4, 2, 2, 3, 1, 1, 1, 8, 2, 2, 10, 6, 1, 3, 2, 10, 7, 4, 2, 3, 3, 1, 4, 3, 5, 1, 4, 2, 2, 3, 4, 1, 10, 9, 5, 1, 1, 9, 6, 7, 8, 2, 3, 4, 6, 8, 3, 3, 2, 4, 4, 9, 2, 1, 9, 2, 3, 1, 5, 8, 3, 1, 6, 1, 4, 1, 2, 1, 2, 5, 1, 4, 10, 2, 3, 2, 3, 9, 1, 2, 6, 8, 1, 5, 6, 9, 1, 5, 2, 2, 1, 2, 2, 1, 2, 3, 3, 6, 1, 1, 8, 8, 3, 2, 1, 2, 1, 2, 1, 4, 2, 10, 9, 1, 1, 8, 1, 6, 4, 1, 2, 3, 1, 2, 1, 4, 2, 1, 2, 4, 3, 2, 5, 5, 4, 8, 5, 1, 1, 2, 5, 1, 1, 3, 1, 2, 7, 3, 7, 9, 1, 2, 2, 2, 2, 2, 1, 3, 2, 9, 1, 1, 5, 3, 5, 7, 1, 1, 4, 1, 6, 5, 2, 3, 4, 7, 1, 2, 5, 6, 2, 2, 9, 2, 2, 5, 1, 9, 9, 1, 2, 5, 3, 3, 2, 7, 2, 1, 2, 1, 2, 9, 3, 2, 1, 3, 7, 4, 1, 2, 4, 9, 1, 2, 1, 2, 3, 6], \"Freq\": [1.2720136416046592, 1.019415851240773, 1.0006534331981995, 1.1389203142391267, 0.8882478840477943, 0.7988178968709657, 0.9873232913098662, 0.8346325643112976, 1.072813678828119, 0.7934248736155557, 0.7726858129220509, 0.6272336356198239, 0.8975244673977186, 0.687016322995257, 0.3435081614976285, 1.408876438565108, 0.7607224597655696, 1.0888237023156535, 0.8555829998214244, 0.7988040897173515, 1.094419636558403, 0.5216416270888897, 0.5216416270888897, 1.1723415956082164, 0.9986916951642982, 1.0121584633826415, 1.0120540976323027, 1.2749621758383711, 1.0079492517518678, 0.8868450862782453, 0.9884601902485861, 0.8859475007119084, 1.274513302585537, 1.201993546743063, 1.305324843579526, 0.7987601220489479, 0.7934248736155557, 1.0909144609610908, 1.1722243481646504, 0.9088111310041567, 0.6297717626666303, 0.7618886292622679, 0.6325881822634587, 0.7204018253182453, 0.7988178968709657, 0.9089158540269988, 0.7533932786116986, 0.7934248736155557, 0.5214195760779554, 0.5214195760779554, 0.7987301296888282, 0.8225437486789898, 0.4112718743394949, 1.2011715087483192, 0.9594575447913998, 0.6297717623186386, 0.6067178486049726, 1.4048359130823007, 1.279738166526981, 0.8217853902291612, 0.7987904672045806, 0.9090098513715911, 1.6328460341790827, 0.7028835942887129, 0.7028835942887129, 0.9115609813225218, 0.7618886292622679, 0.7934248736155557, 0.6325030016918517, 1.0194682179102852, 0.7988178968709657, 0.8859438756218637, 1.1724411025693018, 0.9323213736171523, 0.7726858129220509, 0.9203694328168623, 0.5979116348491481, 0.7934248736155557, 0.8697154031706067, 0.1159620537560809, 0.8439624463661574, 1.279118471417544, 0.688736787896471, 0.7988178968709657, 1.6328459698102464, 0.4561096103655653, 0.22805480518278265, 0.22805480518278265, 1.0039437518757781, 1.0066076174347298, 0.9847447934778667, 0.7500401690606529, 1.1721445697442552, 0.9764538931002227, 1.1479286082411937, 0.9451268202446271, 1.3046565415501736, 0.9228582881363716, 0.8859404930962123, 0.6778848960043848, 0.6778848960043848, 1.1271370934941893, 0.9089159331827779, 0.7138731148979903, 0.7138731148979903, 0.5720859629330058, 0.2860429814665029, 0.7934248736155557, 0.5125804558280641, 0.5056713779947433, 0.25283568899737163, 1.0910778962018337, 0.5648232184499673, 0.5648232184499673, 0.6303538883640234, 0.5283081714045367, 1.6329442766759974, 0.7987062052157061, 1.6329442766759974, 0.9203694346299177, 0.4178432392927941, 0.4178432392927941, 0.10446080982319852, 1.273891738583263, 0.5757900827101983, 0.28789504135509913, 0.28789504135509913, 0.9203694346299177, 0.6765022967197846, 0.6765022967197846, 1.01943685330276, 0.7987863789134274, 0.29233524608840716, 0.29233524608840716, 1.0097466643925637, 0.3504560364355099, 0.3504560364355099, 0.9089158540269988, 0.9995564788865294, 0.8610442946239563, 0.894778231858972, 0.8347283808979049, 1.2745601129775868, 1.2749621676273337, 1.6329442766759974, 0.9122768135681552, 0.6114049126570047, 0.30570245632850235, 0.9849556180262732, 0.7987598554764238, 0.8346437629778645, 0.6325881822634587, 1.1016162821891886, 0.9080517150790745, 1.3038085657969802, 1.0123871025412734, 0.9762551797518496, 1.274962166305439, 0.5101659630036655, 0.5101659630036655, 1.1723208639795566, 0.9620841601832174, 0.7987865652992425, 1.6329442766759974, 1.0942269758892953, 0.9582215786754295, 0.3676568385587526, 0.3676568385587526, 0.7987907842023841, 0.4521914405746627, 0.4521914405746627, 1.1722057874712144, 0.9994528053803338, 0.5002869589863527, 0.5002869589863527, 1.0909144609610908, 0.5449091529049747, 0.5449091529049747, 1.170677990987114, 0.7934248736155557, 0.49677747489623775, 0.16559249163207926, 0.3311849832641585, 0.6306462695202268, 1.0188614463026426, 0.9634830771274624, 0.8347571748974761, 0.7427362047828874, 0.7427362047828874, 1.6329442766759974, 0.9012912256322702, 1.304877002119697, 1.0121175716128867, 0.7987503139247193, 0.6317437038898204, 0.7990690840360798, 1.1015411800821002, 0.705674371585858, 0.8483989841293902, 0.8483989841293902, 0.747128544051518, 0.747128544051518, 0.8352327468745486, 1.0208473555636297, 1.090945945843616, 1.6328460341790827, 0.7999601884215299, 0.9013946925602471, 0.991978969278236, 0.8346199065759008, 1.1723208243988046, 1.0939087607226425, 0.8441114616559079, 1.0909459438572207, 1.1026293127645599, 1.6328937148278426, 1.1722673050787649, 0.7674938504433899, 0.21721184572040303, 0.21721184572040303, 0.21721184572040303, 0.21721184572040303, 1.1015946039370466, 0.7987624910164673, 1.3035154529092796, 0.7988178968709657, 0.2765271763947945, 0.553054352789589, 1.0942272015805687, 1.3053796090801593, 0.9203694346299177, 0.9664509974444759, 0.92284065399292, 1.0910414424547412, 0.9932610824045399, 0.8859475013466312, 0.8555584567801617, 0.901351501883855, 0.7987904672045806, 0.8763823365847057, 0.2921274455282352, 0.8633770133989371, 0.17267540267978743, 0.9200758681770815, 0.7801996700097361, 0.7987885606701229, 1.0942567906025127, 0.780150977410629, 1.1292832975719933, 1.1723415943836342, 0.497788782295845, 0.7988178968709657, 1.1723777353114504, 0.9203694346299177, 0.2721991956142463, 0.5443983912284927, 0.7739087772364317, 0.9867600906592771, 0.8476217937517685, 0.844147617430975], \"Term\": [\"accessory\", \"accord\", \"account\", \"actor\", \"actress\", \"addiction\", \"advertising\", \"agency\", \"airport\", \"alert\", \"alpha\", \"amaze\", \"angeles\", \"artist\", \"artist\", \"asia\", \"award\", \"balance\", \"bank\", \"bathroom\", \"beach\", \"beauty\", \"beauty\", \"beckham\", \"birthday\", \"blog\", \"blogger\", \"bodypaint\", \"bodysuit\", \"bollywood\", \"book\", \"breakfast\", \"buenos\", \"call\", \"campaign\", \"case\", \"catalog\", \"chain\", \"challenge\", \"champagne\", \"chez\", \"chicken\", \"chill\", \"claim\", \"cocaine\", \"coeur\", \"collection\", \"consideration\", \"contact\", \"contact\", \"couple\", \"court\", \"court\", \"credit\", \"dance\", \"daniel\", \"day\", \"deal\", \"debut\", \"decor\", \"default\", \"delice\", \"departement\", \"designer\", \"designer\", \"dinner\", \"diplo\", \"discount\", \"dress\", \"drug\", \"enemy\", \"ephoto\", \"essence\", \"event\", \"evisu\", \"fall\", \"family\", \"fash\", \"fashion\", \"fashion\", \"feature\", \"fiasco\", \"fitness\", \"flav\", \"foie\", \"follow\", \"follow\", \"follow\", \"food\", \"foodie\", \"football\", \"foto\", \"gele\", \"givenchy\", \"glam\", \"glan\", \"glass\", \"gloat\", \"gourmand\", \"gram\", \"gram\", \"gucci\", \"guide\", \"guy\", \"guy\", \"hair\", \"hair\", \"headshot\", \"help\", \"house\", \"house\", \"husband\", \"image\", \"image\", \"industry\", \"interest\", \"isle\", \"issue\", \"jardin\", \"jenner\", \"jones\", \"jones\", \"jones\", \"kandi\", \"kapoor\", \"kapoor\", \"kapoor\", \"kendall\", \"khan\", \"khan\", \"lawsuit\", \"lawyer\", \"life\", \"life\", \"link\", \"love\", \"love\", \"luberon\", \"lunch\", \"magazine\", \"makeup\", \"malik\", \"marie\", \"maxim\", \"menu\", \"message\", \"miami\", \"miami\", \"model\", \"money\", \"morcha\", \"morg\", \"mortgage\", \"mother\", \"mouth\", \"movie\", \"mumbai\", \"muscle\", \"music\", \"music\", \"myke\", \"navman\", \"occasion\", \"oise\", \"oppo\", \"order\", \"outfit\", \"outfit\", \"paper\", \"people\", \"people\", \"peter\", \"pic\", \"picture\", \"picture\", \"plane\", \"playboy\", \"playboy\", \"popeyes\", \"portrait\", \"post\", \"post\", \"post\", \"power\", \"print\", \"provence\", \"punjabi\", \"push\", \"push\", \"quai\", \"qureshi\", \"rail\", \"rajasthan\", \"rapper\", \"reality\", \"receipt\", \"relationship\", \"respond\", \"restaurant\", \"restaurant\", \"rise\", \"rise\", \"rite\", \"rule\", \"sajid\", \"sande\", \"sandwich\", \"sapp\", \"scene\", \"shoot\", \"shooter\", \"shot\", \"slayer\", \"son\", \"song\", \"sorgue\", \"spencer\", \"spot\", \"star\", \"star\", \"star\", \"star\", \"state\", \"statement\", \"station\", \"steal\", \"story\", \"story\", \"street\", \"strength\", \"stuart\", \"style\", \"sue\", \"sussex\", \"sweet\", \"tasty\", \"taylor\", \"telegram\", \"term\", \"time\", \"time\", \"today\", \"today\", \"tokyo\", \"tourisme\", \"trainer\", \"travel\", \"vaucluse\", \"vibe\", \"victoria\", \"video\", \"vlad\", \"water\", \"weitzman\", \"woman\", \"woman\", \"work\", \"year\", \"yummy\", \"zire\"]}, \"R\": 30, \"lambda.step\": 0.01, \"plot.opts\": {\"xlab\": \"PC1\", \"ylab\": \"PC2\"}, \"topic.order\": [9, 6, 7, 4, 8, 10, 5, 2, 3, 1]};\n",
       "\n",
       "function LDAvis_load_lib(url, callback){\n",
       "  var s = document.createElement('script');\n",
       "  s.src = url;\n",
       "  s.async = true;\n",
       "  s.onreadystatechange = s.onload = callback;\n",
       "  s.onerror = function(){console.warn(\"failed to load library \" + url);};\n",
       "  document.getElementsByTagName(\"head\")[0].appendChild(s);\n",
       "}\n",
       "\n",
       "if(typeof(LDAvis) !== \"undefined\"){\n",
       "   // already loaded: just create the visualization\n",
       "   !function(LDAvis){\n",
       "       new LDAvis(\"#\" + \"ldavis_el1010014591839634645975190716\", ldavis_el1010014591839634645975190716_data);\n",
       "   }(LDAvis);\n",
       "}else if(typeof define === \"function\" && define.amd){\n",
       "   // require.js is available: use it to load d3/LDAvis\n",
       "   require.config({paths: {d3: \"https://cdnjs.cloudflare.com/ajax/libs/d3/3.5.5/d3.min\"}});\n",
       "   require([\"d3\"], function(d3){\n",
       "      window.d3 = d3;\n",
       "      LDAvis_load_lib(\"https://cdn.rawgit.com/bmabey/pyLDAvis/files/ldavis.v1.0.0.js\", function(){\n",
       "        new LDAvis(\"#\" + \"ldavis_el1010014591839634645975190716\", ldavis_el1010014591839634645975190716_data);\n",
       "      });\n",
       "    });\n",
       "}else{\n",
       "    // require.js not available: dynamically load d3 & LDAvis\n",
       "    LDAvis_load_lib(\"https://cdnjs.cloudflare.com/ajax/libs/d3/3.5.5/d3.min.js\", function(){\n",
       "         LDAvis_load_lib(\"https://cdn.rawgit.com/bmabey/pyLDAvis/files/ldavis.v1.0.0.js\", function(){\n",
       "                 new LDAvis(\"#\" + \"ldavis_el1010014591839634645975190716\", ldavis_el1010014591839634645975190716_data);\n",
       "            })\n",
       "         });\n",
       "}\n",
       "</script>"
      ],
      "text/plain": [
       "PreparedData(topic_coordinates=              x         y  topics  cluster       Freq\n",
       "topic                                                \n",
       "8     -0.241349  0.081464       1        1  22.959508\n",
       "5     -0.020751 -0.180048       2        1  17.610129\n",
       "6      0.128685  0.127257       3        1  13.141483\n",
       "3      0.012667  0.005456       4        1   8.244421\n",
       "7      0.018886 -0.022825       5        1   7.976671\n",
       "9      0.010038 -0.016081       6        1   7.165196\n",
       "4      0.018789  0.005023       7        1   6.261671\n",
       "1      0.035241  0.000397       8        1   6.163056\n",
       "2      0.015833  0.003573       9        1   5.809342\n",
       "0      0.021960 -0.004216      10        1   4.668522, topic_info=         Term       Freq      Total Category  logprob  loglift\n",
       "13       food  29.000000  29.000000  Default  30.0000  30.0000\n",
       "149     model  19.000000  19.000000  Default  29.0000  29.0000\n",
       "126   fashion  17.000000  17.000000  Default  28.0000  28.0000\n",
       "81      style  11.000000  11.000000  Default  27.0000  27.0000\n",
       "61     foodie   6.000000   6.000000  Default  26.0000  26.0000\n",
       "...       ...        ...        ...      ...      ...      ...\n",
       "5879   doctor   0.009165   0.125016  Topic10  -9.0563   0.4513\n",
       "342      life   0.244914   3.420730  Topic10  -5.7709   0.4276\n",
       "1917     glam   0.076864   1.742269  Topic10  -6.9297  -0.0566\n",
       "126   fashion   0.362354  17.247021  Topic10  -5.3791  -0.7984\n",
       "558      star   0.092813   4.603800  Topic10  -6.7412  -0.8397\n",
       "\n",
       "[447 rows x 6 columns], token_table=      Topic      Freq       Term\n",
       "term                            \n",
       "287       8  1.272014  accessory\n",
       "1245      2  1.019416     accord\n",
       "1558      2  1.000653    account\n",
       "140       1  1.138920      actor\n",
       "141       1  0.888248    actress\n",
       "...     ...       ...        ...\n",
       "222       2  0.544398      woman\n",
       "200       1  0.773909       work\n",
       "763       2  0.986760       year\n",
       "113       3  0.847622      yummy\n",
       "236       6  0.844148       zire\n",
       "\n",
       "[260 rows x 3 columns], R=30, lambda_step=0.01, plot_opts={'xlab': 'PC1', 'ylab': 'PC2'}, topic_order=[9, 6, 7, 4, 8, 10, 5, 2, 3, 1])"
      ]
     },
     "execution_count": 18,
     "metadata": {},
     "output_type": "execute_result"
    }
   ],
   "source": [
    "# Visualize the topics\n",
    "pyLDAvis.enable_notebook()\n",
    "vis = pyLDAvis.gensim.prepare(lda_model, corpus, id2word)\n",
    "vis"
   ]
  },
  {
   "cell_type": "markdown",
   "metadata": {},
   "source": [
    "### Save document-topic matrix (most significant topic per document)  \n",
    "https://github.com/Sim-Xuesi/content-based_movie_recommender/blob/master/Content%20Based%20Recommender%20System%20with%20LDA%20%26%20Cosine.ipynb  \n",
    "https://medium.com/@nicoleeesim97/building-a-simple-content-based-recommender-system-for-movies-and-tv-shows-73fec4f325ae  "
   ]
  },
  {
   "cell_type": "code",
   "execution_count": 19,
   "metadata": {},
   "outputs": [
    {
     "name": "stderr",
     "output_type": "stream",
     "text": [
      "C:\\Users\\minio\\anaconda3\\envs\\tfm-py-37\\lib\\site-packages\\ipykernel\\ipkernel.py:287: DeprecationWarning: `should_run_async` will not call `transform_cell` automatically in the future. Please pass the result to `transformed_cell` argument and any exception that happen during thetransform in `preprocessing_exc_tuple` in IPython 7.17 and above.\n",
      "  and should_run_async(code)\n"
     ]
    },
    {
     "name": "stdout",
     "output_type": "stream",
     "text": [
      "      Document  Topic  Probability\n",
      "0       110464      2     0.220385\n",
      "1       112105      6     0.657132\n",
      "2        87621      3     0.253656\n",
      "3        74466      8     0.250521\n",
      "4       110496      0     0.130332\n",
      "...        ...    ...          ...\n",
      "3360     87352      9     0.717971\n",
      "3361     87838      9     0.401294\n",
      "3362     60585      7     0.478932\n",
      "3363     95293      0     0.431994\n",
      "3364     87388      9     0.559570\n",
      "\n",
      "[3365 rows x 3 columns]\n"
     ]
    }
   ],
   "source": [
    "def Sort_Tuple(tup):  \n",
    "    return(sorted(tup, key = lambda x: x[1], reverse = True))\n",
    "\n",
    "doc_num, topic_num, prob = [], [], []\n",
    "\n",
    "document_topic_matrix = documents\n",
    "\n",
    "for n in range(len(documents)):\n",
    "    get_document_topics = lda_model.get_document_topics(corpus_total[n], minimum_probability=0)\n",
    "    doc_num.append(documents.index[n])\n",
    "    sorted_doc_topics = Sort_Tuple(get_document_topics)\n",
    "    topic_num.append(sorted_doc_topics[0][0])\n",
    "    prob.append(sorted_doc_topics[0][1])\n",
    "    \n",
    "data = {'Document': doc_num\n",
    "        ,'Topic': topic_num\n",
    "        ,'Probability': prob}\n",
    "df = pd.DataFrame(data) \n",
    "df.to_csv(file_model + '_document_topic_matrix.csv', index=False)\n",
    "print(df)"
   ]
  },
  {
   "cell_type": "markdown",
   "metadata": {},
   "source": [
    "### Save document-topic matrix (all topic's probability per document)  \n",
    "https://github.com/Sim-Xuesi/content-based_movie_recommender/blob/master/Content%20Based%20Recommender%20System%20with%20LDA%20%26%20Cosine.ipynb  \n",
    "https://medium.com/@nicoleeesim97/building-a-simple-content-based-recommender-system-for-movies-and-tv-shows-73fec4f325ae  "
   ]
  },
  {
   "cell_type": "code",
   "execution_count": 20,
   "metadata": {},
   "outputs": [
    {
     "name": "stderr",
     "output_type": "stream",
     "text": [
      "C:\\Users\\minio\\anaconda3\\envs\\tfm-py-37\\lib\\site-packages\\ipykernel\\ipkernel.py:287: DeprecationWarning: `should_run_async` will not call `transform_cell` automatically in the future. Please pass the result to `transformed_cell` argument and any exception that happen during thetransform in `preprocessing_exc_tuple` in IPython 7.17 and above.\n",
      "  and should_run_async(code)\n"
     ]
    },
    {
     "name": "stdout",
     "output_type": "stream",
     "text": [
      "      Document    Topic0    Topic1    Topic2    Topic3    Topic4    Topic5  \\\n",
      "0       110464  0.102272  0.092381  0.220483  0.084742  0.091377  0.077244   \n",
      "1       112105  0.039042  0.036640  0.037043  0.034618  0.036613  0.032461   \n",
      "2        87621  0.127812  0.065005  0.091392  0.253690  0.068578  0.089011   \n",
      "3        74466  0.149454  0.080897  0.087600  0.058847  0.077120  0.105898   \n",
      "4       110496  0.130091  0.108552  0.111911  0.094266  0.106467  0.082062   \n",
      "...        ...       ...       ...       ...       ...       ...       ...   \n",
      "3360     87352  0.031191  0.032357  0.030453  0.032875  0.031349  0.031736   \n",
      "3361     87838  0.065315  0.065183  0.065208  0.065060  0.074622  0.068401   \n",
      "3362     60585  0.057127  0.057031  0.057048  0.056937  0.062179  0.056816   \n",
      "3363     95293  0.431987  0.060655  0.060668  0.060582  0.064680  0.066454   \n",
      "3364     87388  0.048153  0.048074  0.048088  0.050349  0.048064  0.051454   \n",
      "\n",
      "        Topic6    Topic7    Topic8    Topic9  \n",
      "0     0.080135  0.088997  0.073656  0.088713  \n",
      "1     0.657141  0.035761  0.054996  0.035686  \n",
      "2     0.056285  0.080860  0.097104  0.070264  \n",
      "3     0.050245  0.069480  0.250520  0.069938  \n",
      "4     0.086573  0.101901  0.076762  0.101416  \n",
      "...        ...       ...       ...       ...  \n",
      "3360  0.030378  0.030430  0.031260  0.717971  \n",
      "3361  0.064966  0.065138  0.064820  0.401287  \n",
      "3362  0.056866  0.478925  0.060084  0.056988  \n",
      "3363  0.060527  0.064879  0.064669  0.064898  \n",
      "3364  0.047936  0.048041  0.050272  0.559570  \n",
      "\n",
      "[3365 rows x 11 columns]\n"
     ]
    }
   ],
   "source": [
    "doc_num = []\n",
    "prob0, prob1, prob2, prob3, prob4, prob5, prob6, prob7, prob8, prob9 = ([] for i in range(num_topics))\n",
    "\n",
    "document_topic_matrix = documents\n",
    "\n",
    "for n in range(len(documents)):\n",
    "    get_document_topics = lda_model.get_document_topics(corpus_total[n], minimum_probability=0)\n",
    "    doc_num.append(documents.index[n])\n",
    "    prob0.append(get_document_topics[0][1])\n",
    "    prob1.append(get_document_topics[1][1])\n",
    "    prob2.append(get_document_topics[2][1])\n",
    "    prob3.append(get_document_topics[3][1])\n",
    "    prob4.append(get_document_topics[4][1])\n",
    "    prob5.append(get_document_topics[5][1])\n",
    "    prob6.append(get_document_topics[6][1])\n",
    "    prob7.append(get_document_topics[7][1])\n",
    "    prob8.append(get_document_topics[8][1])\n",
    "    prob9.append(get_document_topics[9][1])\n",
    "    \n",
    "data = {'Document': doc_num\n",
    "        ,'Topic0': prob0\n",
    "        ,'Topic1': prob1\n",
    "        ,'Topic2': prob2\n",
    "        ,'Topic3': prob3\n",
    "        ,'Topic4': prob4\n",
    "        ,'Topic5': prob5\n",
    "        ,'Topic6': prob6\n",
    "        ,'Topic7': prob7\n",
    "        ,'Topic8': prob8\n",
    "        ,'Topic9': prob9}\n",
    "\n",
    "df = pd.DataFrame(data) \n",
    "df.to_csv(file_model + '_document_topic_matrix_full.csv', index=False)\n",
    "print(df)"
   ]
  },
  {
   "cell_type": "markdown",
   "metadata": {},
   "source": [
    "### Save topic-term matrix"
   ]
  },
  {
   "cell_type": "code",
   "execution_count": 21,
   "metadata": {},
   "outputs": [
    {
     "name": "stderr",
     "output_type": "stream",
     "text": [
      "C:\\Users\\minio\\anaconda3\\envs\\tfm-py-37\\lib\\site-packages\\ipykernel\\ipkernel.py:287: DeprecationWarning: `should_run_async` will not call `transform_cell` automatically in the future. Please pass the result to `transformed_cell` argument and any exception that happen during thetransform in `preprocessing_exc_tuple` in IPython 7.17 and above.\n",
      "  and should_run_async(code)\n"
     ]
    }
   ],
   "source": [
    "# get topic-term-matrix\n",
    "topic_term_matrix = lda_model.get_topics()\n",
    "# save topic-term matrix\n",
    "savetxt(file_model + '_topic_term_matrix.csv', topic_term_matrix, delimiter=',')"
   ]
  }
 ],
 "metadata": {
  "kernelspec": {
   "display_name": "Python 3",
   "language": "python",
   "name": "python3"
  },
  "language_info": {
   "codemirror_mode": {
    "name": "ipython",
    "version": 3
   },
   "file_extension": ".py",
   "mimetype": "text/x-python",
   "name": "python",
   "nbconvert_exporter": "python",
   "pygments_lexer": "ipython3",
   "version": "3.7.9"
  }
 },
 "nbformat": 4,
 "nbformat_minor": 4
}
