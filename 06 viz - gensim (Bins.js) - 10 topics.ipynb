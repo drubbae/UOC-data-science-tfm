{
 "cells": [
  {
   "cell_type": "markdown",
   "metadata": {},
   "source": [
    "# <span style=\"color:blue\">Prepare models for visualization (generation of Bins.js file) - 10 topics</span>"
   ]
  },
  {
   "cell_type": "markdown",
   "metadata": {},
   "source": [
    "### Load packages"
   ]
  },
  {
   "cell_type": "code",
   "execution_count": 1,
   "metadata": {},
   "outputs": [],
   "source": [
    "import gensim, os, time\n",
    "import numpy as np\n",
    "import pandas as pd\n",
    "from gensim.test.utils import datapath\n",
    "from numpy import savetxt"
   ]
  },
  {
   "cell_type": "markdown",
   "metadata": {},
   "source": [
    "### Constants"
   ]
  },
  {
   "cell_type": "code",
   "execution_count": 2,
   "metadata": {},
   "outputs": [],
   "source": [
    "# for reproducible results\n",
    "random_state = 33\n",
    "# if the test is True, the process runs on a smaller subset of raw data (json files)\n",
    "test = False\n",
    "\n",
    "if test:\n",
    "    # path where the model files are stored\n",
    "    path_model = r'D:\\master\\data science\\semestre 4\\M2.979 - tfm\\data\\bins_test\\model'\n",
    "    # path where all the files related to the visualization of the models are stored\n",
    "    path_viz = r'D:\\master\\data science\\semestre 4\\M2.979 - tfm\\data\\bins_test\\viz'\n",
    "else:\n",
    "    # path where the model files are stored\n",
    "    path_model = r'D:\\master\\data science\\semestre 4\\M2.979 - tfm\\data\\bins\\model'\n",
    "    # path where all the files related to the visualization of the models are stored\n",
    "    path_viz = r'D:\\master\\data science\\semestre 4\\M2.979 - tfm\\data\\bins\\viz'\n",
    "\n",
    "MMM_last_day = [31, 28, 31, 30, 31, 30, 31, 31, 30, 31, 30, 31]\n",
    "num_topics = 10\n",
    "num_words = 10"
   ]
  },
  {
   "cell_type": "markdown",
   "metadata": {},
   "source": [
    "### Function documents inside bin/month for visualization (Bins.js file)"
   ]
  },
  {
   "cell_type": "code",
   "execution_count": 3,
   "metadata": {},
   "outputs": [],
   "source": [
    "def doc_bin_viz(bins_js_text, path_model, yyyy_MMM, doc_id_viz, df_export_doc_id):\n",
    "    \n",
    "    time_start = time.time()\n",
    "    \n",
    "    yyyy = yyyy_MMM[0:4]\n",
    "    MMM = ['Jan', 'Feb', 'Mar', 'Apr', 'May', 'Jun', 'Jul', 'Aug', 'Sep', 'Oct', 'Nov', 'Dec'].index(yyyy_MMM[5:8])\n",
    "    # path + name of the file that contains the model gotten at the end\n",
    "    file_doc_topic_matrix = os.path.join(path_model, yyyy_MMM, 'model_document_topic_matrix.csv')\n",
    "    df = pd.read_csv(file_doc_topic_matrix)\n",
    "    df = df.sort_values(by='Topic', ascending=True)\n",
    "    topics = df.Topic.unique()\n",
    "    bins_js_text = bins_js_text + '\"' + str(MMM) + '\": {\"tweet_Ids\": ['\n",
    "    \n",
    "    documents = df.Document.unique()   \n",
    "    last_document = len(documents) - 1\n",
    "    iter_document = 0\n",
    "    for index, row in df.iterrows():\n",
    "        if iter_document < last_document:\n",
    "            doc_id_viz += 1\n",
    "            bins_js_text = bins_js_text + str(doc_id_viz) + ', '\n",
    "            row = {'doc_id':int(row['Document']), 'doc_id_viz':doc_id_viz}\n",
    "            df_export_doc_id.append(row)\n",
    "        else:\n",
    "            doc_id_viz += 1\n",
    "            bins_js_text = bins_js_text + str(doc_id_viz) + '], '\n",
    "            row = {'doc_id':int(row['Document']), 'doc_id_viz':int(doc_id_viz)}\n",
    "            df_export_doc_id.append(row)\n",
    "        iter_document += 1\n",
    "\n",
    "    bins_js_text = bins_js_text + '\"start_time\": \"' + str(MMM + 1) + '/1/' + str(yyyy) + ' 1:1\", \"bin_id\": ' + str(MMM) + ', '\n",
    "    \n",
    "    # dataframe with doc ids and doc ids formatted for visualization\n",
    "    df_export_doc_id = pd.DataFrame(df_export_doc_id)\n",
    "    file_viz = os.path.join(path_viz, 'doc_id_2_doc_id_viz')\n",
    "    df_export_doc_id.to_csv(file_viz + '.csv', index=False, header=True)\n",
    "    \n",
    "    time_end = time.time()\n",
    "    hour, rem = divmod(time_end - time_start, 3600)\n",
    "    minute, second = divmod(rem, 60)\n",
    "    print('doc_bin_viz - time elapsed - {:0>2}:{:0>2}:{:05.2f}'.format(int(hour), int(minute), second))\n",
    "    \n",
    "    return bins_js_text, doc_id_viz"
   ]
  },
  {
   "cell_type": "markdown",
   "metadata": {},
   "source": [
    "### Function topic-document matrix for visualization (Bins.js file)"
   ]
  },
  {
   "cell_type": "code",
   "execution_count": 4,
   "metadata": {},
   "outputs": [],
   "source": [
    "def topic_doc_matrix_viz(bins_js_text, path_model, yyyy_MMM):\n",
    "    \n",
    "    time_start = time.time()\n",
    "    \n",
    "    yyyy = yyyy_MMM[0:4]\n",
    "    MMM = ['Jan', 'Feb', 'Mar', 'Apr', 'May', 'Jun', 'Jul', 'Aug', 'Sep', 'Oct', 'Nov', 'Dec'].index(yyyy_MMM[5:8])\n",
    "    # path + name of the file that contains the model gotten at the end\n",
    "    file_doc_topic_matrix = os.path.join(path_model, yyyy_MMM, 'model_document_topic_matrix.csv')\n",
    "    df = pd.read_csv(file_doc_topic_matrix, names=['doc_id', 'Topic', 'Probability'])\n",
    "    \n",
    "    file_viz = os.path.join(path_viz, 'doc_id_2_doc_id_viz')\n",
    "    df_viz = pd.read_csv(file_viz + '.csv', names=['doc_id_viz', 'Document'])\n",
    "\n",
    "    df = pd.merge(left=df, right=df_viz, left_on='doc_id', right_on='doc_id_viz')\n",
    "    df = df.sort_values(by='Topic', ascending=True)\n",
    "    topics = df.Topic.unique()\n",
    "    \n",
    "    bins_js_text = bins_js_text + '\"topic_model\": {\"topic_doc\": {'\n",
    "\n",
    "    last_topic = len(topics) - 1\n",
    "    iter_topic = 0\n",
    "    for topic in topics:\n",
    "        df_topic = df.loc[df['Topic'] == topic]\n",
    "        bins_js_text = bins_js_text + '\"' + str(MMM) + '_' + str(topic) + '\": {'\n",
    "\n",
    "        last_item = len(df_topic) - 1\n",
    "        iter_index = 0\n",
    "        for ind in df_topic.index:\n",
    "            if iter_index < last_item:\n",
    "                bins_js_text = bins_js_text + '\"' + str(df_topic['Document'][ind]) + '\": ' + str(df_topic['Probability'][ind]) + ', '\n",
    "            else:\n",
    "                if iter_topic < last_topic:\n",
    "                    bins_js_text = bins_js_text + '\"' + str(df_topic['Document'][ind]) + '\": ' + str(df_topic['Probability'][ind]) + '},'\n",
    "                else:\n",
    "                    bins_js_text = bins_js_text + '\"' + str(df_topic['Document'][ind]) + '\": ' + str(df_topic['Probability'][ind]) + '}},'\n",
    "            iter_index += 1\n",
    "        iter_topic += 1\n",
    "        \n",
    "    time_end = time.time()\n",
    "    hour, rem = divmod(time_end - time_start, 3600)\n",
    "    minute, second = divmod(rem, 60)\n",
    "    print('topic_doc_matrix_viz - time elapsed - {:0>2}:{:0>2}:{:05.2f}'.format(int(hour), int(minute), second))\n",
    "    \n",
    "    return bins_js_text"
   ]
  },
  {
   "cell_type": "markdown",
   "metadata": {},
   "source": [
    "### Function document-topic matrix for visualization (Bins.js file)"
   ]
  },
  {
   "cell_type": "code",
   "execution_count": 5,
   "metadata": {},
   "outputs": [],
   "source": [
    "def doc_topic_matrix_viz(bins_js_text, path_model, yyyy_MMM):\n",
    "    \n",
    "    time_start = time.time()\n",
    "    \n",
    "    yyyy = yyyy_MMM[0:4]\n",
    "    MMM = ['Jan', 'Feb', 'Mar', 'Apr', 'May', 'Jun', 'Jul', 'Aug', 'Sep', 'Oct', 'Nov', 'Dec'].index(yyyy_MMM[5:8])\n",
    "    # path + name of the file that contains the model gotten at the end\n",
    "    file_doc_topic_matrix_full = os.path.join(path_model, yyyy_MMM, 'model_document_topic_matrix_full.csv')\n",
    "    df = pd.read_csv(file_doc_topic_matrix_full)\n",
    "    \n",
    "    file_viz = os.path.join(path_viz, 'doc_id_2_doc_id_viz')\n",
    "    df_viz = pd.read_csv(file_viz + '.csv')\n",
    "\n",
    "    df = pd.merge(left=df, right=df_viz, left_on='Document', right_on='doc_id')\n",
    "    df = df.sort_values(by='doc_id_viz', ascending=True)\n",
    "    \n",
    "    bins_js_text = bins_js_text + '\"doc_topic\": {'\n",
    "                                                                                                     \n",
    "    documents = df.Document.unique()                                                                                                    \n",
    "    last_document = len(documents) - 1\n",
    "    iter_document = 0\n",
    "    for index, row in df.iterrows():\n",
    "        bins_js_text = bins_js_text + '\"' + str(int(row['doc_id_viz'])) + '\": {'\n",
    "        bins_js_text = bins_js_text + '\"' + str(MMM) + '_0\": ' + str(row['Topic0']) + ', '\n",
    "        bins_js_text = bins_js_text + '\"' + str(MMM) + '_1\": ' + str(row['Topic1']) + ', '\n",
    "        bins_js_text = bins_js_text + '\"' + str(MMM) + '_2\": ' + str(row['Topic2']) + ', '\n",
    "        bins_js_text = bins_js_text + '\"' + str(MMM) + '_3\": ' + str(row['Topic3']) + ', '\n",
    "        bins_js_text = bins_js_text + '\"' + str(MMM) + '_4\": ' + str(row['Topic4']) + ', '\n",
    "        bins_js_text = bins_js_text + '\"' + str(MMM) + '_5\": ' + str(row['Topic5']) + ', '\n",
    "        bins_js_text = bins_js_text + '\"' + str(MMM) + '_6\": ' + str(row['Topic6']) + ', '\n",
    "        bins_js_text = bins_js_text + '\"' + str(MMM) + '_7\": ' + str(row['Topic7']) + ', '\n",
    "        bins_js_text = bins_js_text + '\"' + str(MMM) + '_8\": ' + str(row['Topic8']) + ', '\n",
    "        if iter_document < last_document:\n",
    "            bins_js_text = bins_js_text + '\"' + str(MMM) + '_9\": ' + str(row['Topic9']) + '}, '\n",
    "        else:\n",
    "            bins_js_text = bins_js_text + '\"' + str(MMM) + '_9\": ' + str(row['Topic9']) + '}}, '\n",
    "        iter_document += 1\n",
    "    \n",
    "    time_end = time.time()\n",
    "    hour, rem = divmod(time_end - time_start, 3600)\n",
    "    minute, second = divmod(rem, 60)\n",
    "    print('doc_topic_matrix_viz - time elapsed - {:0>2}:{:0>2}:{:05.2f}'.format(int(hour), int(minute), second))\n",
    "    \n",
    "    return bins_js_text"
   ]
  },
  {
   "cell_type": "markdown",
   "metadata": {},
   "source": [
    "### Format topic-term matrix for visualization (Bins.js file)"
   ]
  },
  {
   "cell_type": "code",
   "execution_count": 6,
   "metadata": {},
   "outputs": [],
   "source": [
    "def topic_term_matrix_viz(bins_js_text, path_model, yyyy_MMM):\n",
    "    \n",
    "    time_start = time.time()\n",
    "    \n",
    "    yyyy = yyyy_MMM[0:4]\n",
    "    MMM = ['Jan', 'Feb', 'Mar', 'Apr', 'May', 'Jun', 'Jul', 'Aug', 'Sep', 'Oct', 'Nov', 'Dec'].index(yyyy_MMM[5:8])\n",
    "    # load trained/saved model\n",
    "    file_model = os.path.join(path_model, yyyy_MMM, 'model')\n",
    "    temp_file = datapath(file_model)\n",
    "    model = gensim.models.ldamodel.LdaModel.load(temp_file)\n",
    "\n",
    "    x = model.show_topics(num_topics=num_topics, num_words=num_words, formatted=False)\n",
    "    topics_words = [(tp[0], ['\"' + wd[0] + '\": '+ str(wd[1]) for wd in tp[1]]) for tp in x]\n",
    "    last_item = len(topics_words) - 1\n",
    "    iter_index = 0\n",
    "    bins_js_text = bins_js_text + '\"topic_word\": {'\n",
    "    for topic,words in topics_words:\n",
    "        if iter_index < last_item:\n",
    "            bins_js_text = bins_js_text + '\"' + str(MMM) + '_' + str(topic) + '\": {' + \", \".join(words) + '},'\n",
    "        else:\n",
    "            bins_js_text = bins_js_text + '\"' + str(MMM) + '_' + str(topic) + '\": {' + \", \".join(words) + '}}, \"topic_prob\": ['\n",
    "        iter_index += 1\n",
    "\n",
    "    iter_index = 0\n",
    "    for topic,words in topics_words:\n",
    "        if iter_index < last_item:\n",
    "            bins_js_text = bins_js_text + '\"' + str(MMM) + '_' + str(topic) + '\",'\n",
    "        else:\n",
    "            bins_js_text = bins_js_text + '\"' + str(MMM) + '_' + str(topic) + '\"]}, \"end_time\": \"'\n",
    "        iter_index += 1    \n",
    "\n",
    "    bins_js_text = bins_js_text + str(MMM + 1) + '/' + str(MMM_last_day[MMM]) + '/' + yyyy + ' 23:59\"}'\n",
    "    \n",
    "    time_end = time.time()\n",
    "    hour, rem = divmod(time_end - time_start, 3600)\n",
    "    minute, second = divmod(rem, 60)\n",
    "    print('topic_term_matrix_viz - time elapsed - {:0>2}:{:0>2}:{:05.2f}'.format(int(hour), int(minute), second))\n",
    "    \n",
    "    return bins_js_text"
   ]
  },
  {
   "cell_type": "markdown",
   "metadata": {},
   "source": [
    "### <span style=\"color:blue\">Generate Bins.js file</span>"
   ]
  },
  {
   "cell_type": "code",
   "execution_count": null,
   "metadata": {},
   "outputs": [
    {
     "name": "stdout",
     "output_type": "stream",
     "text": [
      "----- 2019_Jan -----\n",
      "doc_bin_viz - time elapsed - 00:00:06.12\n",
      "topic_doc_matrix_viz - time elapsed - 00:00:53.99\n",
      "doc_topic_matrix_viz - time elapsed - 01:41:15.78\n",
      "topic_term_matrix_viz - time elapsed - 00:00:00.41\n",
      "----- 2019_Feb -----\n",
      "doc_bin_viz - time elapsed - 00:17:31.48\n",
      "topic_doc_matrix_viz - time elapsed - 00:18:43.07\n",
      "doc_topic_matrix_viz - time elapsed - 05:08:41.07\n",
      "topic_term_matrix_viz - time elapsed - 00:00:00.51\n",
      "----- 2019_Mar -----\n",
      "doc_bin_viz - time elapsed - 00:45:37.89\n"
     ]
    },
    {
     "name": "stderr",
     "output_type": "stream",
     "text": [
      "C:\\Users\\minio\\anaconda3\\envs\\tfm-py-37\\lib\\site-packages\\IPython\\core\\interactiveshell.py:3338: DtypeWarning: Columns (0,1) have mixed types.Specify dtype option on import or set low_memory=False.\n",
      "  if (await self.run_code(code, result,  async_=asy)):\n"
     ]
    },
    {
     "name": "stdout",
     "output_type": "stream",
     "text": [
      "topic_doc_matrix_viz - time elapsed - 00:24:21.39\n",
      "doc_topic_matrix_viz - time elapsed - 11:27:32.99\n",
      "topic_term_matrix_viz - time elapsed - 00:00:00.80\n",
      "----- 2019_Apr -----\n",
      "doc_bin_viz - time elapsed - 01:27:41.19\n"
     ]
    },
    {
     "name": "stderr",
     "output_type": "stream",
     "text": [
      "C:\\Users\\minio\\anaconda3\\envs\\tfm-py-37\\lib\\site-packages\\IPython\\core\\interactiveshell.py:3338: DtypeWarning: Columns (0,1) have mixed types.Specify dtype option on import or set low_memory=False.\n",
      "  if (await self.run_code(code, result,  async_=asy)):\n"
     ]
    },
    {
     "name": "stdout",
     "output_type": "stream",
     "text": [
      "topic_doc_matrix_viz - time elapsed - 00:00:00.94\n",
      "doc_topic_matrix_viz - time elapsed - 18:08:38.52\n",
      "topic_term_matrix_viz - time elapsed - 00:00:01.00\n",
      "----- 2019_May -----\n",
      "doc_bin_viz - time elapsed - 01:54:08.12\n"
     ]
    },
    {
     "name": "stderr",
     "output_type": "stream",
     "text": [
      "C:\\Users\\minio\\anaconda3\\envs\\tfm-py-37\\lib\\site-packages\\IPython\\core\\interactiveshell.py:3338: DtypeWarning: Columns (0,1) have mixed types.Specify dtype option on import or set low_memory=False.\n",
      "  if (await self.run_code(code, result,  async_=asy)):\n"
     ]
    },
    {
     "name": "stdout",
     "output_type": "stream",
     "text": [
      "topic_doc_matrix_viz - time elapsed - 00:00:00.73\n",
      "doc_topic_matrix_viz - time elapsed - 27:30:53.41\n",
      "topic_term_matrix_viz - time elapsed - 00:00:01.54\n",
      "----- 2019_Jun -----\n",
      "doc_bin_viz - time elapsed - 02:57:31.88\n"
     ]
    },
    {
     "name": "stderr",
     "output_type": "stream",
     "text": [
      "C:\\Users\\minio\\anaconda3\\envs\\tfm-py-37\\lib\\site-packages\\IPython\\core\\interactiveshell.py:3338: DtypeWarning: Columns (0,1) have mixed types.Specify dtype option on import or set low_memory=False.\n",
      "  if (await self.run_code(code, result,  async_=asy)):\n"
     ]
    },
    {
     "name": "stdout",
     "output_type": "stream",
     "text": [
      "topic_doc_matrix_viz - time elapsed - 00:00:01.03\n"
     ]
    }
   ],
   "source": [
    "bins_js_text = 'function populate_bins_Instagram_2019(){var bin_data = {'\n",
    "\n",
    "# INITIALITZATION\n",
    "# to build a dataframe with doc ids and the new doc ids for visualization (id have to be reasign)\n",
    "df_export_doc_id = []\n",
    "# to assign the doc ids for visualization\n",
    "doc_id_viz = 0\n",
    "\n",
    "yyyy_MMM = '2019_Jan'\n",
    "print('----- ' + yyyy_MMM + ' -----')\n",
    "result = doc_bin_viz(bins_js_text, path_model, yyyy_MMM, doc_id_viz, df_export_doc_id)\n",
    "bins_js_text = result[0]\n",
    "doc_id_viz = result[1]\n",
    "bins_js_text = topic_doc_matrix_viz(bins_js_text, path_model, yyyy_MMM)\n",
    "bins_js_text = doc_topic_matrix_viz(bins_js_text, path_model, yyyy_MMM)\n",
    "bins_js_text = topic_term_matrix_viz(bins_js_text, path_model, yyyy_MMM) + ', '\n",
    "\n",
    "yyyy_MMM = '2019_Feb'\n",
    "print('----- ' + yyyy_MMM + ' -----')\n",
    "result = doc_bin_viz(bins_js_text, path_model, yyyy_MMM, doc_id_viz, df_export_doc_id)\n",
    "bins_js_text = result[0]\n",
    "doc_id_viz = result[1]\n",
    "bins_js_text = topic_doc_matrix_viz(bins_js_text, path_model, yyyy_MMM)\n",
    "bins_js_text = doc_topic_matrix_viz(bins_js_text, path_model, yyyy_MMM)\n",
    "bins_js_text = topic_term_matrix_viz(bins_js_text, path_model, yyyy_MMM) + ', '\n",
    "\n",
    "yyyy_MMM = '2019_Mar'\n",
    "print('----- ' + yyyy_MMM + ' -----')\n",
    "result = doc_bin_viz(bins_js_text, path_model, yyyy_MMM, doc_id_viz, df_export_doc_id)\n",
    "bins_js_text = result[0]\n",
    "doc_id_viz = result[1]\n",
    "bins_js_text = topic_doc_matrix_viz(bins_js_text, path_model, yyyy_MMM)\n",
    "bins_js_text = doc_topic_matrix_viz(bins_js_text, path_model, yyyy_MMM)\n",
    "bins_js_text = topic_term_matrix_viz(bins_js_text, path_model, yyyy_MMM) + ', '\n",
    "\n",
    "yyyy_MMM = '2019_Apr'\n",
    "print('----- ' + yyyy_MMM + ' -----')\n",
    "result = doc_bin_viz(bins_js_text, path_model, yyyy_MMM, doc_id_viz, df_export_doc_id)\n",
    "bins_js_text = result[0]\n",
    "doc_id_viz = result[1]\n",
    "bins_js_text = topic_doc_matrix_viz(bins_js_text, path_model, yyyy_MMM)\n",
    "bins_js_text = doc_topic_matrix_viz(bins_js_text, path_model, yyyy_MMM)\n",
    "bins_js_text = topic_term_matrix_viz(bins_js_text, path_model, yyyy_MMM) + ', '\n",
    "\n",
    "yyyy_MMM = '2019_May'\n",
    "print('----- ' + yyyy_MMM + ' -----')\n",
    "result = doc_bin_viz(bins_js_text, path_model, yyyy_MMM, doc_id_viz, df_export_doc_id)\n",
    "bins_js_text = result[0]\n",
    "doc_id_viz = result[1]\n",
    "bins_js_text = topic_doc_matrix_viz(bins_js_text, path_model, yyyy_MMM)\n",
    "bins_js_text = doc_topic_matrix_viz(bins_js_text, path_model, yyyy_MMM)\n",
    "bins_js_text = topic_term_matrix_viz(bins_js_text, path_model, yyyy_MMM) + ', '\n",
    "\n",
    "yyyy_MMM = '2019_Jun'\n",
    "print('----- ' + yyyy_MMM + ' -----')\n",
    "result = doc_bin_viz(bins_js_text, path_model, yyyy_MMM, doc_id_viz, df_export_doc_id)\n",
    "bins_js_text = result[0]\n",
    "doc_id_viz = result[1]\n",
    "bins_js_text = topic_doc_matrix_viz(bins_js_text, path_model, yyyy_MMM)\n",
    "bins_js_text = doc_topic_matrix_viz(bins_js_text, path_model, yyyy_MMM)\n",
    "bins_js_text = topic_term_matrix_viz(bins_js_text, path_model, yyyy_MMM) + ', '\n",
    "\n",
    "yyyy_MMM = '2019_Jul'\n",
    "print('----- ' + yyyy_MMM + ' -----')\n",
    "result = doc_bin_viz(bins_js_text, path_model, yyyy_MMM, doc_id_viz, df_export_doc_id)\n",
    "bins_js_text = result[0]\n",
    "doc_id_viz = result[1]\n",
    "bins_js_text = topic_doc_matrix_viz(bins_js_text, path_model, yyyy_MMM)\n",
    "bins_js_text = doc_topic_matrix_viz(bins_js_text, path_model, yyyy_MMM)\n",
    "bins_js_text = topic_term_matrix_viz(bins_js_text, path_model, yyyy_MMM) + ', '\n",
    "\n",
    "yyyy_MMM = '2019_Aug'\n",
    "print('----- ' + yyyy_MMM + ' -----')\n",
    "result = doc_bin_viz(bins_js_text, path_model, yyyy_MMM, doc_id_viz, df_export_doc_id)\n",
    "bins_js_text = result[0]\n",
    "doc_id_viz = result[1]\n",
    "bins_js_text = topic_doc_matrix_viz(bins_js_text, path_model, yyyy_MMM)\n",
    "bins_js_text = doc_topic_matrix_viz(bins_js_text, path_model, yyyy_MMM)\n",
    "bins_js_text = topic_term_matrix_viz(bins_js_text, path_model, yyyy_MMM) + ', '\n",
    "\n",
    "yyyy_MMM = '2019_Sep'\n",
    "print('----- ' + yyyy_MMM + ' -----')\n",
    "result = doc_bin_viz(bins_js_text, path_model, yyyy_MMM, doc_id_viz, df_export_doc_id)\n",
    "bins_js_text = result[0]\n",
    "doc_id_viz = result[1]\n",
    "bins_js_text = topic_doc_matrix_viz(bins_js_text, path_model, yyyy_MMM)\n",
    "bins_js_text = doc_topic_matrix_viz(bins_js_text, path_model, yyyy_MMM)\n",
    "bins_js_text = topic_term_matrix_viz(bins_js_text, path_model, yyyy_MMM) + ', '\n",
    "\n",
    "yyyy_MMM = '2019_Oct'\n",
    "print('----- ' + yyyy_MMM + ' -----')\n",
    "result = doc_bin_viz(bins_js_text, path_model, yyyy_MMM, doc_id_viz, df_export_doc_id)\n",
    "bins_js_text = result[0]\n",
    "doc_id_viz = result[1]\n",
    "bins_js_text = topic_doc_matrix_viz(bins_js_text, path_model, yyyy_MMM)\n",
    "bins_js_text = doc_topic_matrix_viz(bins_js_text, path_model, yyyy_MMM)\n",
    "bins_js_text = topic_term_matrix_viz(bins_js_text, path_model, yyyy_MMM) + ', '\n",
    "\n",
    "yyyy_MMM = '2019_Nov'\n",
    "print('----- ' + yyyy_MMM + ' -----')\n",
    "result = doc_bin_viz(bins_js_text, path_model, yyyy_MMM, doc_id_viz, df_export_doc_id)\n",
    "bins_js_text = result[0]\n",
    "doc_id_viz = result[1]\n",
    "bins_js_text = topic_doc_matrix_viz(bins_js_text, path_model, yyyy_MMM)\n",
    "bins_js_text = doc_topic_matrix_viz(bins_js_text, path_model, yyyy_MMM)\n",
    "bins_js_text = topic_term_matrix_viz(bins_js_text, path_model, yyyy_MMM) + ', '\n",
    "\n",
    "yyyy_MMM = '2019_Dec'\n",
    "print('----- ' + yyyy_MMM + ' -----')\n",
    "result = doc_bin_viz(bins_js_text, path_model, yyyy_MMM, doc_id_viz, df_export_doc_id)\n",
    "bins_js_text = result[0]\n",
    "doc_id_viz = result[1]\n",
    "bins_js_text = topic_doc_matrix_viz(bins_js_text, path_model, yyyy_MMM)\n",
    "bins_js_text = doc_topic_matrix_viz(bins_js_text, path_model, yyyy_MMM)\n",
    "bins_js_text = topic_term_matrix_viz(bins_js_text, path_model, yyyy_MMM)\n",
    "\n",
    "bins_js_text = bins_js_text + '};readBinJSON(bin_data);}'"
   ]
  },
  {
   "cell_type": "code",
   "execution_count": null,
   "metadata": {},
   "outputs": [],
   "source": [
    "bins_js_text"
   ]
  },
  {
   "cell_type": "code",
   "execution_count": null,
   "metadata": {},
   "outputs": [],
   "source": [
    "file_viz = os.path.join(path_viz, 'Bins.js')\n",
    "\n",
    "with open(file_viz, 'w') as text_file:\n",
    "    text_file.write(bins_js_text)"
   ]
  }
 ],
 "metadata": {
  "kernelspec": {
   "display_name": "Python 3",
   "language": "python",
   "name": "python3"
  },
  "language_info": {
   "codemirror_mode": {
    "name": "ipython",
    "version": 3
   },
   "file_extension": ".py",
   "mimetype": "text/x-python",
   "name": "python",
   "nbconvert_exporter": "python",
   "pygments_lexer": "ipython3",
   "version": "3.7.9"
  }
 },
 "nbformat": 4,
 "nbformat_minor": 4
}
