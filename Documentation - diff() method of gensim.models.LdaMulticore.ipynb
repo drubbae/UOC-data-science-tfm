{
 "cells": [
  {
   "cell_type": "markdown",
   "metadata": {},
   "source": [
    "# <span style=\"color:blue\">Documentation - diff() method of gensim.models.LdaMulticore</span>"
   ]
  },
  {
   "cell_type": "code",
   "execution_count": 1,
   "metadata": {},
   "outputs": [
    {
     "name": "stdout",
     "output_type": "stream",
     "text": [
      "Calculate the difference in topic distributions between two models: `self` and `other`.\n",
      "\n",
      "        Parameters\n",
      "        ----------\n",
      "        other : :class:`~gensim.models.ldamodel.LdaModel`\n",
      "            The model which will be compared against the current object.\n",
      "        distance : {'kullback_leibler', 'hellinger', 'jaccard', 'jensen_shannon'}\n",
      "            The distance metric to calculate the difference with.\n",
      "        num_words : int, optional\n",
      "            The number of most relevant words used if `distance == 'jaccard'`. Also used for annotating topics.\n",
      "        n_ann_terms : int, optional\n",
      "            Max number of words in intersection/symmetric difference between topics. Used for annotation.\n",
      "        diagonal : bool, optional\n",
      "            Whether we need the difference between identical topics (the diagonal of the difference matrix).\n",
      "        annotation : bool, optional\n",
      "            Whether the intersection or difference of words between two topics should be returned.\n",
      "        normed : bool, optional\n",
      "            Whether the matrix should be normalized or not.\n",
      "\n",
      "        Returns\n",
      "        -------\n",
      "        numpy.ndarray\n",
      "            A difference matrix. Each element corresponds to the difference between the two topics,\n",
      "            shape (`self.num_topics`, `other.num_topics`)\n",
      "        numpy.ndarray, optional\n",
      "            Annotation matrix where for each pair we include the word from the intersection of the two topics,\n",
      "            and the word from the symmetric difference of the two topics. Only included if `annotation == True`.\n",
      "            Shape (`self.num_topics`, `other_model.num_topics`, 2).\n",
      "\n",
      "        Examples\n",
      "        --------\n",
      "        Get the differences between each pair of topics inferred by two models\n",
      "\n",
      "        .. sourcecode:: pycon\n",
      "\n",
      "            >>> from gensim.models.ldamulticore import LdaMulticore\n",
      "            >>> from gensim.test.utils import datapath\n",
      "            >>>\n",
      "            >>> m1 = LdaMulticore.load(datapath(\"lda_3_0_1_model\"))\n",
      "            >>> m2 = LdaMulticore.load(datapath(\"ldamodel_python_3_5\"))\n",
      "            >>> mdiff, annotation = m1.diff(m2)\n",
      "            >>> topic_diff = mdiff  # get matrix with difference for each topic pair from `m1` and `m2`\n",
      "\n",
      "        \n"
     ]
    }
   ],
   "source": [
    "import gensim\n",
    "\n",
    "print(gensim.models.LdaMulticore.diff.__doc__)"
   ]
  },
  {
   "cell_type": "code",
   "execution_count": null,
   "metadata": {},
   "outputs": [],
   "source": []
  }
 ],
 "metadata": {
  "kernelspec": {
   "display_name": "Python 3",
   "language": "python",
   "name": "python3"
  },
  "language_info": {
   "codemirror_mode": {
    "name": "ipython",
    "version": 3
   },
   "file_extension": ".py",
   "mimetype": "text/x-python",
   "name": "python",
   "nbconvert_exporter": "python",
   "pygments_lexer": "ipython3",
   "version": "3.7.9"
  }
 },
 "nbformat": 4,
 "nbformat_minor": 4
}
