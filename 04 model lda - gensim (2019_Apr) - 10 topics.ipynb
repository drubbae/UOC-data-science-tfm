{
 "cells": [
  {
   "cell_type": "markdown",
   "metadata": {},
   "source": [
    "# <span style=\"color:blue\">LDA model (2019_Apr) - 10 topics</span>"
   ]
  },
  {
   "cell_type": "code",
   "execution_count": 1,
   "metadata": {},
   "outputs": [],
   "source": [
    "yyyy_MMM = '2019_Apr'"
   ]
  },
  {
   "cell_type": "markdown",
   "metadata": {},
   "source": [
    "### Load packages"
   ]
  },
  {
   "cell_type": "code",
   "execution_count": 2,
   "metadata": {},
   "outputs": [
    {
     "name": "stderr",
     "output_type": "stream",
     "text": [
      "C:\\Users\\minio\\anaconda3\\envs\\tfm-py-37\\lib\\site-packages\\botocore\\vendored\\requests\\packages\\urllib3\\_collections.py:1: DeprecationWarning: Using or importing the ABCs from 'collections' instead of from 'collections.abc' is deprecated since Python 3.3,and in 3.9 it will stop working\n",
      "  from collections import Mapping, MutableMapping\n",
      "C:\\Users\\minio\\anaconda3\\envs\\tfm-py-37\\lib\\site-packages\\botocore\\vendored\\requests\\packages\\urllib3\\_collections.py:1: DeprecationWarning: Using or importing the ABCs from 'collections' instead of from 'collections.abc' is deprecated since Python 3.3,and in 3.9 it will stop working\n",
      "  from collections import Mapping, MutableMapping\n",
      "C:\\Users\\minio\\anaconda3\\envs\\tfm-py-37\\lib\\site-packages\\scipy\\sparse\\sparsetools.py:21: DeprecationWarning: `scipy.sparse.sparsetools` is deprecated!\n",
      "scipy.sparse.sparsetools is a private module for scipy.sparse, and should not be used.\n",
      "  _deprecated()\n",
      "C:\\Users\\minio\\anaconda3\\envs\\tfm-py-37\\lib\\site-packages\\gensim\\models\\doc2vec.py:73: DeprecationWarning: Using or importing the ABCs from 'collections' instead of from 'collections.abc' is deprecated since Python 3.3,and in 3.9 it will stop working\n",
      "  from collections import namedtuple, defaultdict, Iterable\n",
      "[nltk_data] Downloading package stopwords to\n",
      "[nltk_data]     C:\\Users\\minio\\AppData\\Roaming\\nltk_data...\n",
      "[nltk_data]   Package stopwords is already up-to-date!\n",
      "[nltk_data] Downloading package averaged_perceptron_tagger to\n",
      "[nltk_data]     C:\\Users\\minio\\AppData\\Roaming\\nltk_data...\n",
      "[nltk_data]   Package averaged_perceptron_tagger is already up-to-\n",
      "[nltk_data]       date!\n"
     ]
    },
    {
     "data": {
      "text/plain": [
       "True"
      ]
     },
     "execution_count": 2,
     "metadata": {},
     "output_type": "execute_result"
    }
   ],
   "source": [
    "import csv, os, re, time\n",
    "import numpy as np\n",
    "from numpy import savetxt\n",
    "import pandas as  pd\n",
    "import matplotlib.pyplot as plt  \n",
    "import pyLDAvis\n",
    "import pyLDAvis.gensim\n",
    "import gensim\n",
    "import gensim.corpora as corpora\n",
    "from gensim.corpora.dictionary import Dictionary\n",
    "from gensim.models import CoherenceModel\n",
    "from gensim.test.utils import datapath\n",
    "from gensim.utils import simple_preprocess\n",
    "from pprint import pprint\n",
    "import nltk\n",
    "nltk.download('stopwords')\n",
    "nltk.download('averaged_perceptron_tagger')"
   ]
  },
  {
   "cell_type": "markdown",
   "metadata": {},
   "source": [
    "### Constants"
   ]
  },
  {
   "cell_type": "code",
   "execution_count": 3,
   "metadata": {},
   "outputs": [
    {
     "name": "stdout",
     "output_type": "stream",
     "text": [
      "D:\\master\\data science\\semestre 4\\M2.979 - tfm\\data\\bins\\doc\\2019_Apr\\2019_Apr_28_results.csv\n",
      "D:\\master\\data science\\semestre 4\\M2.979 - tfm\\data\\bins\\model\\2019_Apr\\model\n"
     ]
    },
    {
     "name": "stderr",
     "output_type": "stream",
     "text": [
      "C:\\Users\\minio\\anaconda3\\envs\\tfm-py-37\\lib\\site-packages\\ipykernel\\ipkernel.py:287: DeprecationWarning: `should_run_async` will not call `transform_cell` automatically in the future. Please pass the result to `transformed_cell` argument and any exception that happen during thetransform in `preprocessing_exc_tuple` in IPython 7.17 and above.\n",
      "  and should_run_async(code)\n"
     ]
    }
   ],
   "source": [
    "# for reproducible results\n",
    "random_state = 33\n",
    "# if the test is True, the process runs on a smaller subset of raw data (json files)\n",
    "test = False\n",
    "# if sample > 0, then we take a sample of the entire dataset (for debugging purpose)\n",
    "sample = 0\n",
    "# parameters to build the lda model\n",
    "num_topics = 10\n",
    "\n",
    "if test:\n",
    "    # path with the documents preprocessed\n",
    "    path_doc = r'D:\\master\\data science\\semestre 4\\M2.979 - tfm\\data\\bins_test\\doc'\n",
    "    # path where store all data/results related to the model\n",
    "    path_model = r'D:\\master\\data science\\semestre 4\\M2.979 - tfm\\data\\bins_test\\model'\n",
    "    # chunksize to build LDA model\n",
    "    chunksize = 250\n",
    "else:\n",
    "    # path with the documents preprocessed\n",
    "    path_doc = r'D:\\master\\data science\\semestre 4\\M2.979 - tfm\\data\\bins\\doc'\n",
    "    # path where store all data/results related to the model\n",
    "    path_model = r'D:\\master\\data science\\semestre 4\\M2.979 - tfm\\data\\bins\\model'\n",
    "    # chunksize to build LDA model\n",
    "    chunksize = 5000\n",
    "\n",
    "# path + name of the file that contains the documents preprocessed\n",
    "file_doc = os.path.join(path_doc, yyyy_MMM, yyyy_MMM) + '_28_results.csv'\n",
    "# path + name of the file that contains the model gotten at the end\n",
    "file_model = os.path.join(path_model, yyyy_MMM, 'model')\n",
    "print(file_doc)\n",
    "print(file_model)"
   ]
  },
  {
   "cell_type": "markdown",
   "metadata": {},
   "source": [
    "### Load data preprocessed"
   ]
  },
  {
   "cell_type": "code",
   "execution_count": 4,
   "metadata": {},
   "outputs": [
    {
     "name": "stderr",
     "output_type": "stream",
     "text": [
      "C:\\Users\\minio\\anaconda3\\envs\\tfm-py-37\\lib\\site-packages\\ipykernel\\ipkernel.py:287: DeprecationWarning: `should_run_async` will not call `transform_cell` automatically in the future. Please pass the result to `transformed_cell` argument and any exception that happen during thetransform in `preprocessing_exc_tuple` in IPython 7.17 and above.\n",
      "  and should_run_async(code)\n"
     ]
    },
    {
     "data": {
      "text/plain": [
       "id_doc\n",
       "1513164    ['today', 'stable', 'situation', 'detail', 'sh...\n",
       "747496     ['ready', 'video', 'style', 'fall', 'link', 'p...\n",
       "1324209    ['polish', 'polska', 'dziewczyna', 'brunette',...\n",
       "341929                                             ['third']\n",
       "1546841    ['archive', 'italia', 'damon', 'hall', 'booth'...\n",
       "804007     ['vale', 'mesmo', 'pelos', 'youtube', 'galera'...\n",
       "132655     ['smile', 'weekend', 'grand', 'prix', 'formula...\n",
       "1441477    ['forward', 'year', 'long', 'gggg', 'morph', '...\n",
       "564612     ['vibe', 'london', 'city', 'captivate', 'fast'...\n",
       "1472936    ['congratulation', 'beautiful', 'hend', 'tasne...\n",
       "Name: content_preprocessed, dtype: object"
      ]
     },
     "execution_count": 4,
     "metadata": {},
     "output_type": "execute_result"
    }
   ],
   "source": [
    "df = pd.read_csv(file_doc, index_col='id_doc')\n",
    "documents = df.content_preprocessed\n",
    "documents.head(10)"
   ]
  },
  {
   "cell_type": "markdown",
   "metadata": {},
   "source": [
    "### Shuffle"
   ]
  },
  {
   "cell_type": "code",
   "execution_count": 5,
   "metadata": {},
   "outputs": [
    {
     "name": "stderr",
     "output_type": "stream",
     "text": [
      "C:\\Users\\minio\\anaconda3\\envs\\tfm-py-37\\lib\\site-packages\\ipykernel\\ipkernel.py:287: DeprecationWarning: `should_run_async` will not call `transform_cell` automatically in the future. Please pass the result to `transformed_cell` argument and any exception that happen during thetransform in `preprocessing_exc_tuple` in IPython 7.17 and above.\n",
      "  and should_run_async(code)\n"
     ]
    },
    {
     "data": {
      "text/plain": [
       "id_doc\n",
       "541250     ['scent', 'ford', 'metalli', 'fearless', 'bold...\n",
       "1291946    ['babe', 'roshan', 'osha', 'afridi', 'brow', '...\n",
       "786049     ['wear', 'store', 'archive', 'edition', 'inspi...\n",
       "167502     ['rock', 'baby', 'nonstop', 'thing', 'love', '...\n",
       "1319982    ['kitty', 'double', 'leave', 'moji', 'hallowee...\n",
       "932000     ['love', 'best', 'picture', 'love', 'family', ...\n",
       "351602     ['hello', 'office', 'space', 'officially', 'tu...\n",
       "356625     ['buenos', 'lunes', 'arran', 'camo', 'semana',...\n",
       "1406137    ['dreamy', 'combination', 'traditional', 'chec...\n",
       "522188     ['reserve', 'outfit', 'tello', 'clothing', 'cr...\n",
       "Name: content_preprocessed, dtype: object"
      ]
     },
     "execution_count": 5,
     "metadata": {},
     "output_type": "execute_result"
    }
   ],
   "source": [
    "documents = documents.sample(frac=1, random_state=random_state)\n",
    "documents.head(10)"
   ]
  },
  {
   "cell_type": "markdown",
   "metadata": {},
   "source": [
    "### Sample"
   ]
  },
  {
   "cell_type": "code",
   "execution_count": 6,
   "metadata": {},
   "outputs": [
    {
     "name": "stderr",
     "output_type": "stream",
     "text": [
      "C:\\Users\\minio\\anaconda3\\envs\\tfm-py-37\\lib\\site-packages\\ipykernel\\ipkernel.py:287: DeprecationWarning: `should_run_async` will not call `transform_cell` automatically in the future. Please pass the result to `transformed_cell` argument and any exception that happen during thetransform in `preprocessing_exc_tuple` in IPython 7.17 and above.\n",
      "  and should_run_async(code)\n"
     ]
    }
   ],
   "source": [
    "if sample > 0:\n",
    "    documents = documents.sample(n=sample, random_state=random_state)\n",
    "    print(documents.head(10))"
   ]
  },
  {
   "cell_type": "markdown",
   "metadata": {},
   "source": [
    "### Plot the number of words appearing in each document  \n",
    "\n",
    "https://neptune.ai/blog/exploratory-data-analysis-natural-language-processing-tools"
   ]
  },
  {
   "cell_type": "code",
   "execution_count": 7,
   "metadata": {},
   "outputs": [
    {
     "name": "stderr",
     "output_type": "stream",
     "text": [
      "C:\\Users\\minio\\anaconda3\\envs\\tfm-py-37\\lib\\site-packages\\ipykernel\\ipkernel.py:287: DeprecationWarning: `should_run_async` will not call `transform_cell` automatically in the future. Please pass the result to `transformed_cell` argument and any exception that happen during thetransform in `preprocessing_exc_tuple` in IPython 7.17 and above.\n",
      "  and should_run_async(code)\n"
     ]
    },
    {
     "name": "stdout",
     "output_type": "stream",
     "text": [
      "(148091,)\n"
     ]
    },
    {
     "data": {
      "text/plain": [
       "<AxesSubplot:>"
      ]
     },
     "execution_count": 7,
     "metadata": {},
     "output_type": "execute_result"
    },
    {
     "data": {
      "image/png": "[encoded data removed]",
      "text/plain": [
       "<Figure size 432x288 with 1 Axes>"
      ]
     },
     "metadata": {
      "needs_background": "light"
     },
     "output_type": "display_data"
    }
   ],
   "source": [
    "print(documents.shape)\n",
    "\n",
    "documents.str.split().\\\n",
    "    map(lambda x: len(x)).\\\n",
    "    hist()"
   ]
  },
  {
   "cell_type": "markdown",
   "metadata": {},
   "source": [
    "### Remove words that appear only once"
   ]
  },
  {
   "cell_type": "code",
   "execution_count": 8,
   "metadata": {},
   "outputs": [
    {
     "name": "stderr",
     "output_type": "stream",
     "text": [
      "C:\\Users\\minio\\anaconda3\\envs\\tfm-py-37\\lib\\site-packages\\ipykernel\\ipkernel.py:287: DeprecationWarning: `should_run_async` will not call `transform_cell` automatically in the future. Please pass the result to `transformed_cell` argument and any exception that happen during thetransform in `preprocessing_exc_tuple` in IPython 7.17 and above.\n",
      "  and should_run_async(code)\n"
     ]
    }
   ],
   "source": [
    "####################### PENDING"
   ]
  },
  {
   "cell_type": "markdown",
   "metadata": {},
   "source": [
    "### Tokenize words and Clean-up text"
   ]
  },
  {
   "cell_type": "code",
   "execution_count": 9,
   "metadata": {},
   "outputs": [
    {
     "name": "stderr",
     "output_type": "stream",
     "text": [
      "C:\\Users\\minio\\anaconda3\\envs\\tfm-py-37\\lib\\site-packages\\ipykernel\\ipkernel.py:287: DeprecationWarning: `should_run_async` will not call `transform_cell` automatically in the future. Please pass the result to `transformed_cell` argument and any exception that happen during thetransform in `preprocessing_exc_tuple` in IPython 7.17 and above.\n",
      "  and should_run_async(code)\n"
     ]
    }
   ],
   "source": [
    "# https://www.machinelearningplus.com/nlp/topic-modeling-gensim-python/#3importpackages\n",
    "def sent_to_words(sentences):\n",
    "    for sentence in sentences:\n",
    "        yield(gensim.utils.simple_preprocess(str(sentence), deacc=True))  # deacc=True removes punctuations"
   ]
  },
  {
   "cell_type": "markdown",
   "metadata": {},
   "source": [
    "### Compute bigrams & trigrams  \n",
    "\n",
    "https://radimrehurek.com/gensim/auto_examples/tutorials/run_lda.html#pre-process-and-vectorize-the-documents"
   ]
  },
  {
   "cell_type": "code",
   "execution_count": 10,
   "metadata": {},
   "outputs": [
    {
     "name": "stderr",
     "output_type": "stream",
     "text": [
      "C:\\Users\\minio\\anaconda3\\envs\\tfm-py-37\\lib\\site-packages\\ipykernel\\ipkernel.py:287: DeprecationWarning: `should_run_async` will not call `transform_cell` automatically in the future. Please pass the result to `transformed_cell` argument and any exception that happen during thetransform in `preprocessing_exc_tuple` in IPython 7.17 and above.\n",
      "  and should_run_async(code)\n"
     ]
    }
   ],
   "source": [
    "from gensim.models import Phrases\n",
    "\n",
    "# Add bigrams and trigrams to docs (only ones that appear min_count times or more).\n",
    "def bi_tri_grams(documents, min_count):\n",
    "    bigram = Phrases(documents, min_count=min_count)\n",
    "    for idx in range(len(documents)):\n",
    "        for token in bigram[documents[idx]]:\n",
    "            if '_' in token:\n",
    "                # Token is a bigram, add to document.\n",
    "                documents[idx].append(token)"
   ]
  },
  {
   "cell_type": "markdown",
   "metadata": {},
   "source": [
    "### Categorizing and tagging words"
   ]
  },
  {
   "cell_type": "code",
   "execution_count": 11,
   "metadata": {},
   "outputs": [
    {
     "name": "stderr",
     "output_type": "stream",
     "text": [
      "C:\\Users\\minio\\anaconda3\\envs\\tfm-py-37\\lib\\site-packages\\ipykernel\\ipkernel.py:287: DeprecationWarning: `should_run_async` will not call `transform_cell` automatically in the future. Please pass the result to `transformed_cell` argument and any exception that happen during thetransform in `preprocessing_exc_tuple` in IPython 7.17 and above.\n",
      "  and should_run_async(code)\n"
     ]
    }
   ],
   "source": [
    "# function to remove accented characters\n",
    "def tag_words(text):\n",
    "    tags = nltk.pos_tag(text)\n",
    "    nouns = [word for word, pos in tags if (pos == 'NN' or pos == 'NNP' or pos == 'NNS' or pos == 'NNPS')]\n",
    "    return nouns"
   ]
  },
  {
   "cell_type": "markdown",
   "metadata": {},
   "source": [
    "### Dictionary with the entire dataset"
   ]
  },
  {
   "cell_type": "code",
   "execution_count": 12,
   "metadata": {},
   "outputs": [
    {
     "name": "stderr",
     "output_type": "stream",
     "text": [
      "C:\\Users\\minio\\anaconda3\\envs\\tfm-py-37\\lib\\site-packages\\ipykernel\\ipkernel.py:287: DeprecationWarning: `should_run_async` will not call `transform_cell` automatically in the future. Please pass the result to `transformed_cell` argument and any exception that happen during thetransform in `preprocessing_exc_tuple` in IPython 7.17 and above.\n",
      "  and should_run_async(code)\n"
     ]
    }
   ],
   "source": [
    "data_words = list(sent_to_words(documents))\n",
    "# Compute bigrams & trigrams\n",
    "bi_tri_grams(data_words, 250)\n",
    "# Categorizing and tagging words\n",
    "data_words = list(map(tag_words, data_words))\n",
    "# Create Dictionary\n",
    "id2word = Dictionary(data_words)\n",
    "# Create Corpus\n",
    "texts = data_words\n",
    "# Term Document Frequency\n",
    "corpus_total = [id2word.doc2bow(text) for text in texts]"
   ]
  },
  {
   "cell_type": "markdown",
   "metadata": {},
   "source": [
    "### Save document-term matrix"
   ]
  },
  {
   "cell_type": "code",
   "execution_count": 13,
   "metadata": {},
   "outputs": [
    {
     "name": "stderr",
     "output_type": "stream",
     "text": [
      "C:\\Users\\minio\\anaconda3\\envs\\tfm-py-37\\lib\\site-packages\\ipykernel\\ipkernel.py:287: DeprecationWarning: `should_run_async` will not call `transform_cell` automatically in the future. Please pass the result to `transformed_cell` argument and any exception that happen during thetransform in `preprocessing_exc_tuple` in IPython 7.17 and above.\n",
      "  and should_run_async(code)\n",
      "C:\\Users\\minio\\anaconda3\\envs\\tfm-py-37\\lib\\site-packages\\numpy\\core\\_asarray.py:83: VisibleDeprecationWarning: Creating an ndarray from ragged nested sequences (which is a list-or-tuple of lists-or-tuples-or ndarrays with different lengths or shapes) is deprecated. If you meant to do this, you must specify 'dtype=object' when creating the ndarray\n",
      "  return array(a, dtype, copy=False, order=order)\n"
     ]
    }
   ],
   "source": [
    "# save document-term matrix\n",
    "savetxt(file_model + '_document_term_matrix.csv', corpus_total, delimiter=',', fmt='% s')"
   ]
  },
  {
   "cell_type": "markdown",
   "metadata": {},
   "source": [
    "### Build LDA model"
   ]
  },
  {
   "cell_type": "code",
   "execution_count": 14,
   "metadata": {},
   "outputs": [
    {
     "name": "stderr",
     "output_type": "stream",
     "text": [
      "C:\\Users\\minio\\anaconda3\\envs\\tfm-py-37\\lib\\site-packages\\ipykernel\\ipkernel.py:287: DeprecationWarning: `should_run_async` will not call `transform_cell` automatically in the future. Please pass the result to `transformed_cell` argument and any exception that happen during thetransform in `preprocessing_exc_tuple` in IPython 7.17 and above.\n",
      "  and should_run_async(code)\n"
     ]
    },
    {
     "name": "stdout",
     "output_type": "stream",
     "text": [
      "time elapsed - 00:00:38.97\n"
     ]
    }
   ],
   "source": [
    "perplexity_score = []\n",
    "coherence_score = []\n",
    "indixes = []\n",
    "\n",
    "index = 0\n",
    "chunk_size = 250\n",
    "documents_sample = documents[index:chunk_size-1]\n",
    "\n",
    "time_start = time.time()\n",
    "\n",
    "data_words = list(sent_to_words(documents_sample))\n",
    "# Compute bigrams & trigrams\n",
    "bi_tri_grams(data_words, 250)\n",
    "# Categorizing and tagging words\n",
    "data_words = list(map(tag_words, data_words))\n",
    "# # Create Dictionary\n",
    "# id2word = Dictionary(data_words)\n",
    "# Create Corpus\n",
    "texts = data_words\n",
    "# Term Document Frequency\n",
    "corpus = [id2word.doc2bow(text) for text in texts]\n",
    "# Build LDA Model\n",
    "lda_model = gensim.models.LdaMulticore(corpus=corpus\n",
    "                                       ,id2word=id2word\n",
    "                                       ,num_topics=num_topics\n",
    "                                       ,random_state=random_state\n",
    "                                       ,chunksize=chunksize\n",
    "                                       ,passes=50\n",
    "                                       ,per_word_topics=True)\n",
    "\n",
    "indixes.append(index)\n",
    "\n",
    "# Evaluate LDA Model\n",
    "# Compute Perplexity Score\n",
    "perplexity = lda_model.log_perplexity(corpus)\n",
    "perplexity_score.append(perplexity)\n",
    "\n",
    "# Evaluate LDA Model\n",
    "# Compute Coherence Score\n",
    "coherence_lda_model = CoherenceModel(model=lda_model, texts=data_words, dictionary=id2word, coherence='c_v')\n",
    "coherence = coherence_lda_model.get_coherence()\n",
    "coherence_score.append(coherence)\n",
    "\n",
    "# Save LDA Model\n",
    "temp_file = datapath(file_model)\n",
    "lda_model.save(temp_file)\n",
    "temp_file = datapath(file_model + '_' + str(index).zfill(5))\n",
    "lda_model.save(temp_file)\n",
    "\n",
    "time_end = time.time()\n",
    "hour, rem = divmod(time_end - time_start, 3600)\n",
    "minute, second = divmod(rem, 60)\n",
    "print('time elapsed - {:0>2}:{:0>2}:{:05.2f}'.format(int(hour), int(minute), second))"
   ]
  },
  {
   "cell_type": "markdown",
   "metadata": {},
   "source": [
    "### Incremental learning"
   ]
  },
  {
   "cell_type": "code",
   "execution_count": 15,
   "metadata": {},
   "outputs": [
    {
     "name": "stdout",
     "output_type": "stream",
     "text": [
      "0  -----  250  -----  499\n"
     ]
    },
    {
     "name": "stderr",
     "output_type": "stream",
     "text": [
      "C:\\Users\\minio\\anaconda3\\envs\\tfm-py-37\\lib\\site-packages\\ipykernel\\ipkernel.py:287: DeprecationWarning: `should_run_async` will not call `transform_cell` automatically in the future. Please pass the result to `transformed_cell` argument and any exception that happen during thetransform in `preprocessing_exc_tuple` in IPython 7.17 and above.\n",
      "  and should_run_async(code)\n"
     ]
    },
    {
     "name": "stdout",
     "output_type": "stream",
     "text": [
      "time elapsed - 00:00:38.04\n",
      "1  -----  500  -----  749\n",
      "time elapsed - 00:00:37.40\n",
      "2  -----  750  -----  999\n",
      "time elapsed - 00:00:37.55\n",
      "3  -----  1000  -----  1249\n",
      "time elapsed - 00:00:37.17\n",
      "4  -----  1250  -----  1499\n",
      "time elapsed - 00:00:37.31\n",
      "5  -----  1500  -----  1749\n",
      "time elapsed - 00:00:37.16\n",
      "6  -----  1750  -----  1999\n",
      "time elapsed - 00:00:37.11\n",
      "7  -----  2000  -----  2249\n",
      "time elapsed - 00:00:36.34\n",
      "8  -----  2250  -----  2499\n",
      "time elapsed - 00:00:38.72\n",
      "9  -----  2500  -----  2749\n",
      "time elapsed - 00:00:38.40\n",
      "10  -----  2750  -----  2999\n",
      "time elapsed - 00:00:38.07\n",
      "11  -----  3000  -----  3249\n",
      "time elapsed - 00:00:38.22\n",
      "12  -----  3250  -----  3499\n",
      "time elapsed - 00:00:37.32\n",
      "13  -----  3500  -----  3749\n",
      "time elapsed - 00:00:37.20\n",
      "14  -----  3750  -----  3999\n",
      "time elapsed - 00:00:37.35\n",
      "15  -----  4000  -----  4249\n",
      "time elapsed - 00:00:38.02\n",
      "16  -----  4250  -----  4499\n",
      "time elapsed - 00:00:38.04\n",
      "17  -----  4500  -----  4749\n",
      "time elapsed - 00:00:39.56\n",
      "18  -----  4750  -----  4999\n",
      "time elapsed - 00:00:39.52\n",
      "19  -----  5000  -----  5249\n",
      "time elapsed - 00:00:38.04\n",
      "20  -----  5250  -----  5499\n"
     ]
    },
    {
     "name": "stderr",
     "output_type": "stream",
     "text": [
      "C:\\Users\\minio\\anaconda3\\envs\\tfm-py-37\\lib\\site-packages\\gensim\\topic_coherence\\direct_confirmation_measure.py:204: RuntimeWarning: divide by zero encountered in double_scalars\n",
      "  m_lr_i = np.log(numerator / denominator)\n",
      "C:\\Users\\minio\\anaconda3\\envs\\tfm-py-37\\lib\\site-packages\\gensim\\topic_coherence\\indirect_confirmation_measure.py:323: RuntimeWarning: invalid value encountered in double_scalars\n",
      "  return cv1.T.dot(cv2)[0, 0] / (_magnitude(cv1) * _magnitude(cv2))\n"
     ]
    },
    {
     "name": "stdout",
     "output_type": "stream",
     "text": [
      "time elapsed - 00:00:37.40\n",
      "21  -----  5500  -----  5749\n",
      "time elapsed - 00:00:38.05\n",
      "22  -----  5750  -----  5999\n"
     ]
    },
    {
     "name": "stderr",
     "output_type": "stream",
     "text": [
      "C:\\Users\\minio\\anaconda3\\envs\\tfm-py-37\\lib\\site-packages\\gensim\\topic_coherence\\direct_confirmation_measure.py:204: RuntimeWarning: divide by zero encountered in double_scalars\n",
      "  m_lr_i = np.log(numerator / denominator)\n",
      "C:\\Users\\minio\\anaconda3\\envs\\tfm-py-37\\lib\\site-packages\\gensim\\topic_coherence\\indirect_confirmation_measure.py:323: RuntimeWarning: invalid value encountered in double_scalars\n",
      "  return cv1.T.dot(cv2)[0, 0] / (_magnitude(cv1) * _magnitude(cv2))\n"
     ]
    },
    {
     "name": "stdout",
     "output_type": "stream",
     "text": [
      "time elapsed - 00:00:37.91\n",
      "23  -----  6000  -----  6249\n"
     ]
    },
    {
     "name": "stderr",
     "output_type": "stream",
     "text": [
      "C:\\Users\\minio\\anaconda3\\envs\\tfm-py-37\\lib\\site-packages\\gensim\\topic_coherence\\direct_confirmation_measure.py:204: RuntimeWarning: divide by zero encountered in double_scalars\n",
      "  m_lr_i = np.log(numerator / denominator)\n",
      "C:\\Users\\minio\\anaconda3\\envs\\tfm-py-37\\lib\\site-packages\\gensim\\topic_coherence\\indirect_confirmation_measure.py:323: RuntimeWarning: invalid value encountered in double_scalars\n",
      "  return cv1.T.dot(cv2)[0, 0] / (_magnitude(cv1) * _magnitude(cv2))\n"
     ]
    },
    {
     "name": "stdout",
     "output_type": "stream",
     "text": [
      "time elapsed - 00:00:37.87\n",
      "24  -----  6250  -----  6499\n"
     ]
    },
    {
     "name": "stderr",
     "output_type": "stream",
     "text": [
      "C:\\Users\\minio\\anaconda3\\envs\\tfm-py-37\\lib\\site-packages\\gensim\\topic_coherence\\direct_confirmation_measure.py:204: RuntimeWarning: divide by zero encountered in double_scalars\n",
      "  m_lr_i = np.log(numerator / denominator)\n",
      "C:\\Users\\minio\\anaconda3\\envs\\tfm-py-37\\lib\\site-packages\\gensim\\topic_coherence\\indirect_confirmation_measure.py:323: RuntimeWarning: invalid value encountered in double_scalars\n",
      "  return cv1.T.dot(cv2)[0, 0] / (_magnitude(cv1) * _magnitude(cv2))\n"
     ]
    },
    {
     "name": "stdout",
     "output_type": "stream",
     "text": [
      "time elapsed - 00:00:37.76\n",
      "25  -----  6500  -----  6749\n"
     ]
    },
    {
     "name": "stderr",
     "output_type": "stream",
     "text": [
      "C:\\Users\\minio\\anaconda3\\envs\\tfm-py-37\\lib\\site-packages\\gensim\\topic_coherence\\direct_confirmation_measure.py:204: RuntimeWarning: divide by zero encountered in double_scalars\n",
      "  m_lr_i = np.log(numerator / denominator)\n",
      "C:\\Users\\minio\\anaconda3\\envs\\tfm-py-37\\lib\\site-packages\\gensim\\topic_coherence\\indirect_confirmation_measure.py:323: RuntimeWarning: invalid value encountered in double_scalars\n",
      "  return cv1.T.dot(cv2)[0, 0] / (_magnitude(cv1) * _magnitude(cv2))\n"
     ]
    },
    {
     "name": "stdout",
     "output_type": "stream",
     "text": [
      "time elapsed - 00:00:37.98\n",
      "26  -----  6750  -----  6999\n"
     ]
    },
    {
     "name": "stderr",
     "output_type": "stream",
     "text": [
      "C:\\Users\\minio\\anaconda3\\envs\\tfm-py-37\\lib\\site-packages\\gensim\\topic_coherence\\direct_confirmation_measure.py:204: RuntimeWarning: divide by zero encountered in double_scalars\n",
      "  m_lr_i = np.log(numerator / denominator)\n",
      "C:\\Users\\minio\\anaconda3\\envs\\tfm-py-37\\lib\\site-packages\\gensim\\topic_coherence\\indirect_confirmation_measure.py:323: RuntimeWarning: invalid value encountered in double_scalars\n",
      "  return cv1.T.dot(cv2)[0, 0] / (_magnitude(cv1) * _magnitude(cv2))\n"
     ]
    },
    {
     "name": "stdout",
     "output_type": "stream",
     "text": [
      "time elapsed - 00:00:43.95\n",
      "27  -----  7000  -----  7249\n"
     ]
    },
    {
     "name": "stderr",
     "output_type": "stream",
     "text": [
      "C:\\Users\\minio\\anaconda3\\envs\\tfm-py-37\\lib\\site-packages\\gensim\\topic_coherence\\direct_confirmation_measure.py:204: RuntimeWarning: divide by zero encountered in double_scalars\n",
      "  m_lr_i = np.log(numerator / denominator)\n",
      "C:\\Users\\minio\\anaconda3\\envs\\tfm-py-37\\lib\\site-packages\\gensim\\topic_coherence\\indirect_confirmation_measure.py:323: RuntimeWarning: invalid value encountered in double_scalars\n",
      "  return cv1.T.dot(cv2)[0, 0] / (_magnitude(cv1) * _magnitude(cv2))\n"
     ]
    },
    {
     "name": "stdout",
     "output_type": "stream",
     "text": [
      "time elapsed - 00:00:46.18\n",
      "28  -----  7250  -----  7499\n",
      "time elapsed - 00:00:44.66\n",
      "29  -----  7500  -----  7749\n"
     ]
    },
    {
     "name": "stderr",
     "output_type": "stream",
     "text": [
      "C:\\Users\\minio\\anaconda3\\envs\\tfm-py-37\\lib\\site-packages\\gensim\\topic_coherence\\direct_confirmation_measure.py:204: RuntimeWarning: divide by zero encountered in double_scalars\n",
      "  m_lr_i = np.log(numerator / denominator)\n",
      "C:\\Users\\minio\\anaconda3\\envs\\tfm-py-37\\lib\\site-packages\\gensim\\topic_coherence\\indirect_confirmation_measure.py:323: RuntimeWarning: invalid value encountered in double_scalars\n",
      "  return cv1.T.dot(cv2)[0, 0] / (_magnitude(cv1) * _magnitude(cv2))\n"
     ]
    },
    {
     "name": "stdout",
     "output_type": "stream",
     "text": [
      "time elapsed - 00:00:41.38\n",
      "30  -----  7750  -----  7999\n"
     ]
    },
    {
     "name": "stderr",
     "output_type": "stream",
     "text": [
      "C:\\Users\\minio\\anaconda3\\envs\\tfm-py-37\\lib\\site-packages\\gensim\\topic_coherence\\direct_confirmation_measure.py:204: RuntimeWarning: divide by zero encountered in double_scalars\n",
      "  m_lr_i = np.log(numerator / denominator)\n",
      "C:\\Users\\minio\\anaconda3\\envs\\tfm-py-37\\lib\\site-packages\\gensim\\topic_coherence\\indirect_confirmation_measure.py:323: RuntimeWarning: invalid value encountered in double_scalars\n",
      "  return cv1.T.dot(cv2)[0, 0] / (_magnitude(cv1) * _magnitude(cv2))\n"
     ]
    },
    {
     "name": "stdout",
     "output_type": "stream",
     "text": [
      "time elapsed - 00:00:42.70\n",
      "31  -----  8000  -----  8249\n",
      "time elapsed - 00:00:43.03\n",
      "32  -----  8250  -----  8499\n"
     ]
    },
    {
     "name": "stderr",
     "output_type": "stream",
     "text": [
      "C:\\Users\\minio\\anaconda3\\envs\\tfm-py-37\\lib\\site-packages\\gensim\\topic_coherence\\direct_confirmation_measure.py:204: RuntimeWarning: divide by zero encountered in double_scalars\n",
      "  m_lr_i = np.log(numerator / denominator)\n",
      "C:\\Users\\minio\\anaconda3\\envs\\tfm-py-37\\lib\\site-packages\\gensim\\topic_coherence\\indirect_confirmation_measure.py:323: RuntimeWarning: invalid value encountered in double_scalars\n",
      "  return cv1.T.dot(cv2)[0, 0] / (_magnitude(cv1) * _magnitude(cv2))\n"
     ]
    },
    {
     "name": "stdout",
     "output_type": "stream",
     "text": [
      "time elapsed - 00:00:42.06\n",
      "33  -----  8500  -----  8749\n",
      "time elapsed - 00:00:46.23\n",
      "34  -----  8750  -----  8999\n",
      "time elapsed - 00:00:48.11\n",
      "35  -----  9000  -----  9249\n",
      "time elapsed - 00:00:44.13\n",
      "36  -----  9250  -----  9499\n",
      "time elapsed - 00:00:44.38\n",
      "37  -----  9500  -----  9749\n",
      "time elapsed - 00:00:43.08\n",
      "38  -----  9750  -----  9999\n",
      "time elapsed - 00:00:43.73\n",
      "39  -----  10000  -----  10249\n",
      "time elapsed - 00:00:44.31\n",
      "40  -----  10250  -----  10499\n",
      "time elapsed - 00:00:43.60\n",
      "41  -----  10500  -----  10749\n",
      "time elapsed - 00:00:46.06\n",
      "42  -----  10750  -----  10999\n",
      "time elapsed - 00:00:45.89\n",
      "43  -----  11000  -----  11249\n",
      "time elapsed - 00:00:45.87\n",
      "44  -----  11250  -----  11499\n"
     ]
    },
    {
     "name": "stderr",
     "output_type": "stream",
     "text": [
      "C:\\Users\\minio\\anaconda3\\envs\\tfm-py-37\\lib\\site-packages\\gensim\\topic_coherence\\direct_confirmation_measure.py:204: RuntimeWarning: divide by zero encountered in double_scalars\n",
      "  m_lr_i = np.log(numerator / denominator)\n",
      "C:\\Users\\minio\\anaconda3\\envs\\tfm-py-37\\lib\\site-packages\\gensim\\topic_coherence\\indirect_confirmation_measure.py:323: RuntimeWarning: invalid value encountered in double_scalars\n",
      "  return cv1.T.dot(cv2)[0, 0] / (_magnitude(cv1) * _magnitude(cv2))\n"
     ]
    },
    {
     "name": "stdout",
     "output_type": "stream",
     "text": [
      "time elapsed - 00:00:43.31\n",
      "45  -----  11500  -----  11749\n"
     ]
    },
    {
     "name": "stderr",
     "output_type": "stream",
     "text": [
      "C:\\Users\\minio\\anaconda3\\envs\\tfm-py-37\\lib\\site-packages\\gensim\\topic_coherence\\direct_confirmation_measure.py:204: RuntimeWarning: divide by zero encountered in double_scalars\n",
      "  m_lr_i = np.log(numerator / denominator)\n",
      "C:\\Users\\minio\\anaconda3\\envs\\tfm-py-37\\lib\\site-packages\\gensim\\topic_coherence\\indirect_confirmation_measure.py:323: RuntimeWarning: invalid value encountered in double_scalars\n",
      "  return cv1.T.dot(cv2)[0, 0] / (_magnitude(cv1) * _magnitude(cv2))\n"
     ]
    },
    {
     "name": "stdout",
     "output_type": "stream",
     "text": [
      "time elapsed - 00:00:44.49\n",
      "46  -----  11750  -----  11999\n",
      "time elapsed - 00:00:45.49\n",
      "47  -----  12000  -----  12249\n"
     ]
    },
    {
     "name": "stderr",
     "output_type": "stream",
     "text": [
      "C:\\Users\\minio\\anaconda3\\envs\\tfm-py-37\\lib\\site-packages\\gensim\\topic_coherence\\direct_confirmation_measure.py:204: RuntimeWarning: divide by zero encountered in double_scalars\n",
      "  m_lr_i = np.log(numerator / denominator)\n",
      "C:\\Users\\minio\\anaconda3\\envs\\tfm-py-37\\lib\\site-packages\\gensim\\topic_coherence\\indirect_confirmation_measure.py:323: RuntimeWarning: invalid value encountered in double_scalars\n",
      "  return cv1.T.dot(cv2)[0, 0] / (_magnitude(cv1) * _magnitude(cv2))\n"
     ]
    },
    {
     "name": "stdout",
     "output_type": "stream",
     "text": [
      "time elapsed - 00:00:46.53\n",
      "48  -----  12250  -----  12499\n",
      "time elapsed - 00:00:43.71\n",
      "49  -----  12500  -----  12749\n"
     ]
    },
    {
     "name": "stderr",
     "output_type": "stream",
     "text": [
      "C:\\Users\\minio\\anaconda3\\envs\\tfm-py-37\\lib\\site-packages\\gensim\\topic_coherence\\direct_confirmation_measure.py:204: RuntimeWarning: divide by zero encountered in double_scalars\n",
      "  m_lr_i = np.log(numerator / denominator)\n",
      "C:\\Users\\minio\\anaconda3\\envs\\tfm-py-37\\lib\\site-packages\\gensim\\topic_coherence\\indirect_confirmation_measure.py:323: RuntimeWarning: invalid value encountered in double_scalars\n",
      "  return cv1.T.dot(cv2)[0, 0] / (_magnitude(cv1) * _magnitude(cv2))\n"
     ]
    },
    {
     "name": "stdout",
     "output_type": "stream",
     "text": [
      "time elapsed - 00:00:43.69\n",
      "50  -----  12750  -----  12999\n",
      "time elapsed - 00:00:42.80\n",
      "51  -----  13000  -----  13249\n"
     ]
    },
    {
     "name": "stderr",
     "output_type": "stream",
     "text": [
      "C:\\Users\\minio\\anaconda3\\envs\\tfm-py-37\\lib\\site-packages\\gensim\\topic_coherence\\direct_confirmation_measure.py:204: RuntimeWarning: divide by zero encountered in double_scalars\n",
      "  m_lr_i = np.log(numerator / denominator)\n",
      "C:\\Users\\minio\\anaconda3\\envs\\tfm-py-37\\lib\\site-packages\\gensim\\topic_coherence\\indirect_confirmation_measure.py:323: RuntimeWarning: invalid value encountered in double_scalars\n",
      "  return cv1.T.dot(cv2)[0, 0] / (_magnitude(cv1) * _magnitude(cv2))\n"
     ]
    },
    {
     "name": "stdout",
     "output_type": "stream",
     "text": [
      "time elapsed - 00:00:42.61\n",
      "52  -----  13250  -----  13499\n",
      "time elapsed - 00:00:43.43\n",
      "53  -----  13500  -----  13749\n",
      "time elapsed - 00:00:42.87\n",
      "54  -----  13750  -----  13999\n",
      "time elapsed - 00:00:43.05\n",
      "55  -----  14000  -----  14249\n",
      "time elapsed - 00:00:42.71\n",
      "56  -----  14250  -----  14499\n",
      "time elapsed - 00:00:42.89\n",
      "57  -----  14500  -----  14749\n",
      "time elapsed - 00:00:43.69\n",
      "58  -----  14750  -----  14999\n",
      "time elapsed - 00:00:44.30\n",
      "59  -----  15000  -----  15249\n",
      "time elapsed - 00:00:42.30\n",
      "60  -----  15250  -----  15499\n",
      "time elapsed - 00:00:43.62\n",
      "61  -----  15500  -----  15749\n",
      "time elapsed - 00:00:43.48\n",
      "62  -----  15750  -----  15999\n",
      "time elapsed - 00:00:39.70\n",
      "63  -----  16000  -----  16249\n",
      "time elapsed - 00:00:44.65\n",
      "64  -----  16250  -----  16499\n",
      "time elapsed - 00:00:45.72\n",
      "65  -----  16500  -----  16749\n",
      "time elapsed - 00:00:44.80\n",
      "66  -----  16750  -----  16999\n",
      "time elapsed - 00:00:45.70\n",
      "67  -----  17000  -----  17249\n",
      "time elapsed - 00:00:46.91\n",
      "68  -----  17250  -----  17499\n",
      "time elapsed - 00:00:47.91\n",
      "69  -----  17500  -----  17749\n",
      "time elapsed - 00:00:44.37\n",
      "70  -----  17750  -----  17999\n",
      "time elapsed - 00:00:44.74\n",
      "71  -----  18000  -----  18249\n",
      "time elapsed - 00:00:44.57\n",
      "72  -----  18250  -----  18499\n",
      "time elapsed - 00:00:42.99\n",
      "73  -----  18500  -----  18749\n",
      "time elapsed - 00:00:45.53\n",
      "74  -----  18750  -----  18999\n",
      "time elapsed - 00:00:44.92\n",
      "75  -----  19000  -----  19249\n",
      "time elapsed - 00:00:46.22\n",
      "76  -----  19250  -----  19499\n",
      "time elapsed - 00:00:38.92\n",
      "77  -----  19500  -----  19749\n",
      "time elapsed - 00:00:38.04\n",
      "78  -----  19750  -----  19999\n",
      "time elapsed - 00:00:38.01\n",
      "79  -----  20000  -----  20249\n",
      "time elapsed - 00:00:38.74\n",
      "80  -----  20250  -----  20499\n",
      "time elapsed - 00:00:41.57\n",
      "81  -----  20500  -----  20749\n",
      "time elapsed - 00:00:43.20\n",
      "82  -----  20750  -----  20999\n",
      "time elapsed - 00:00:42.08\n",
      "83  -----  21000  -----  21249\n",
      "time elapsed - 00:00:38.37\n",
      "84  -----  21250  -----  21499\n",
      "time elapsed - 00:00:38.18\n",
      "85  -----  21500  -----  21749\n",
      "time elapsed - 00:00:37.83\n",
      "86  -----  21750  -----  21999\n",
      "time elapsed - 00:00:38.30\n",
      "87  -----  22000  -----  22249\n",
      "time elapsed - 00:00:38.29\n",
      "88  -----  22250  -----  22499\n",
      "time elapsed - 00:00:38.15\n",
      "89  -----  22500  -----  22749\n",
      "time elapsed - 00:00:38.14\n",
      "90  -----  22750  -----  22999\n",
      "time elapsed - 00:00:38.46\n",
      "91  -----  23000  -----  23249\n",
      "time elapsed - 00:00:38.44\n",
      "92  -----  23250  -----  23499\n",
      "time elapsed - 00:00:37.86\n",
      "93  -----  23500  -----  23749\n",
      "time elapsed - 00:00:38.34\n",
      "94  -----  23750  -----  23999\n",
      "time elapsed - 00:00:45.09\n",
      "95  -----  24000  -----  24249\n",
      "time elapsed - 00:00:44.38\n",
      "96  -----  24250  -----  24499\n",
      "time elapsed - 00:00:43.75\n",
      "97  -----  24500  -----  24749\n",
      "time elapsed - 00:00:46.27\n",
      "98  -----  24750  -----  24999\n",
      "time elapsed - 00:00:42.96\n",
      "99  -----  25000  -----  25249\n",
      "time elapsed - 00:00:45.82\n",
      "100  -----  25250  -----  25499\n",
      "time elapsed - 00:00:46.37\n",
      "101  -----  25500  -----  25749\n",
      "time elapsed - 00:00:42.84\n",
      "102  -----  25750  -----  25999\n",
      "time elapsed - 00:00:43.18\n",
      "103  -----  26000  -----  26249\n",
      "time elapsed - 00:00:43.50\n",
      "104  -----  26250  -----  26499\n",
      "time elapsed - 00:00:49.43\n",
      "105  -----  26500  -----  26749\n",
      "time elapsed - 00:00:45.98\n",
      "106  -----  26750  -----  26999\n",
      "time elapsed - 00:00:44.27\n",
      "107  -----  27000  -----  27249\n",
      "time elapsed - 00:00:42.30\n",
      "108  -----  27250  -----  27499\n",
      "time elapsed - 00:00:37.93\n",
      "109  -----  27500  -----  27749\n",
      "time elapsed - 00:00:38.15\n",
      "110  -----  27750  -----  27999\n",
      "time elapsed - 00:00:38.74\n",
      "111  -----  28000  -----  28249\n",
      "time elapsed - 00:00:38.48\n",
      "112  -----  28250  -----  28499\n",
      "time elapsed - 00:00:38.07\n",
      "113  -----  28500  -----  28749\n",
      "time elapsed - 00:00:38.38\n",
      "114  -----  28750  -----  28999\n",
      "time elapsed - 00:00:38.43\n",
      "115  -----  29000  -----  29249\n",
      "time elapsed - 00:00:38.06\n",
      "116  -----  29250  -----  29499\n",
      "time elapsed - 00:00:37.87\n",
      "117  -----  29500  -----  29749\n",
      "time elapsed - 00:00:37.91\n",
      "118  -----  29750  -----  29999\n",
      "time elapsed - 00:00:37.97\n",
      "119  -----  30000  -----  30249\n",
      "time elapsed - 00:00:38.28\n",
      "120  -----  30250  -----  30499\n",
      "time elapsed - 00:00:38.34\n",
      "121  -----  30500  -----  30749\n",
      "time elapsed - 00:00:37.73\n",
      "122  -----  30750  -----  30999\n",
      "time elapsed - 00:00:38.18\n",
      "123  -----  31000  -----  31249\n",
      "time elapsed - 00:00:38.03\n",
      "124  -----  31250  -----  31499\n",
      "time elapsed - 00:00:38.49\n",
      "125  -----  31500  -----  31749\n",
      "time elapsed - 00:00:35.41\n",
      "126  -----  31750  -----  31999\n",
      "time elapsed - 00:00:34.04\n",
      "127  -----  32000  -----  32249\n",
      "time elapsed - 00:00:37.17\n",
      "128  -----  32250  -----  32499\n",
      "time elapsed - 00:00:35.59\n",
      "129  -----  32500  -----  32749\n",
      "time elapsed - 00:00:36.04\n",
      "130  -----  32750  -----  32999\n",
      "time elapsed - 00:00:35.39\n",
      "131  -----  33000  -----  33249\n",
      "time elapsed - 00:00:35.21\n",
      "132  -----  33250  -----  33499\n",
      "time elapsed - 00:00:35.75\n",
      "133  -----  33500  -----  33749\n",
      "time elapsed - 00:00:35.28\n",
      "134  -----  33750  -----  33999\n",
      "time elapsed - 00:00:35.94\n",
      "135  -----  34000  -----  34249\n",
      "time elapsed - 00:00:35.39\n",
      "136  -----  34250  -----  34499\n",
      "time elapsed - 00:00:35.30\n",
      "137  -----  34500  -----  34749\n",
      "time elapsed - 00:00:35.43\n",
      "138  -----  34750  -----  34999\n",
      "time elapsed - 00:00:35.18\n",
      "139  -----  35000  -----  35249\n",
      "time elapsed - 00:00:35.49\n",
      "140  -----  35250  -----  35499\n",
      "time elapsed - 00:00:35.20\n",
      "141  -----  35500  -----  35749\n",
      "time elapsed - 00:00:37.76\n",
      "142  -----  35750  -----  35999\n",
      "time elapsed - 00:00:38.93\n",
      "143  -----  36000  -----  36249\n",
      "time elapsed - 00:00:38.53\n",
      "144  -----  36250  -----  36499\n",
      "time elapsed - 00:00:39.09\n",
      "145  -----  36500  -----  36749\n",
      "time elapsed - 00:00:38.46\n",
      "146  -----  36750  -----  36999\n",
      "time elapsed - 00:00:38.71\n",
      "147  -----  37000  -----  37249\n",
      "time elapsed - 00:00:38.87\n",
      "148  -----  37250  -----  37499\n",
      "time elapsed - 00:00:38.49\n",
      "149  -----  37500  -----  37749\n",
      "time elapsed - 00:00:39.16\n",
      "150  -----  37750  -----  37999\n",
      "time elapsed - 00:00:38.75\n",
      "151  -----  38000  -----  38249\n",
      "time elapsed - 00:00:38.40\n",
      "152  -----  38250  -----  38499\n",
      "time elapsed - 00:00:38.53\n",
      "153  -----  38500  -----  38749\n",
      "time elapsed - 00:00:38.61\n",
      "154  -----  38750  -----  38999\n",
      "time elapsed - 00:00:38.38\n",
      "155  -----  39000  -----  39249\n",
      "time elapsed - 00:00:38.05\n",
      "156  -----  39250  -----  39499\n",
      "time elapsed - 00:00:38.69\n",
      "157  -----  39500  -----  39749\n",
      "time elapsed - 00:00:38.53\n",
      "158  -----  39750  -----  39999\n",
      "time elapsed - 00:00:38.84\n",
      "159  -----  40000  -----  40249\n",
      "time elapsed - 00:00:38.77\n",
      "160  -----  40250  -----  40499\n",
      "time elapsed - 00:00:38.27\n",
      "161  -----  40500  -----  40749\n",
      "time elapsed - 00:00:38.66\n",
      "162  -----  40750  -----  40999\n",
      "time elapsed - 00:00:38.80\n",
      "163  -----  41000  -----  41249\n",
      "time elapsed - 00:00:38.59\n",
      "164  -----  41250  -----  41499\n",
      "time elapsed - 00:00:38.56\n",
      "165  -----  41500  -----  41749\n",
      "time elapsed - 00:00:38.34\n",
      "166  -----  41750  -----  41999\n",
      "time elapsed - 00:00:38.31\n",
      "167  -----  42000  -----  42249\n",
      "time elapsed - 00:00:38.82\n",
      "168  -----  42250  -----  42499\n",
      "time elapsed - 00:00:38.56\n",
      "169  -----  42500  -----  42749\n",
      "time elapsed - 00:00:38.77\n",
      "170  -----  42750  -----  42999\n",
      "time elapsed - 00:00:38.65\n",
      "171  -----  43000  -----  43249\n",
      "time elapsed - 00:00:38.39\n",
      "172  -----  43250  -----  43499\n",
      "time elapsed - 00:00:38.35\n",
      "173  -----  43500  -----  43749\n",
      "time elapsed - 00:00:38.12\n",
      "174  -----  43750  -----  43999\n",
      "time elapsed - 00:00:38.68\n",
      "175  -----  44000  -----  44249\n",
      "time elapsed - 00:00:38.42\n",
      "176  -----  44250  -----  44499\n",
      "time elapsed - 00:00:38.24\n",
      "177  -----  44500  -----  44749\n",
      "time elapsed - 00:00:38.62\n",
      "178  -----  44750  -----  44999\n",
      "time elapsed - 00:00:38.47\n",
      "179  -----  45000  -----  45249\n",
      "time elapsed - 00:00:38.42\n",
      "180  -----  45250  -----  45499\n",
      "time elapsed - 00:00:37.91\n",
      "181  -----  45500  -----  45749\n",
      "time elapsed - 00:00:38.42\n",
      "182  -----  45750  -----  45999\n",
      "time elapsed - 00:00:38.50\n",
      "183  -----  46000  -----  46249\n",
      "time elapsed - 00:00:38.28\n",
      "184  -----  46250  -----  46499\n",
      "time elapsed - 00:00:38.00\n",
      "185  -----  46500  -----  46749\n",
      "time elapsed - 00:00:37.99\n",
      "186  -----  46750  -----  46999\n",
      "time elapsed - 00:00:38.64\n",
      "187  -----  47000  -----  47249\n",
      "time elapsed - 00:00:38.91\n",
      "188  -----  47250  -----  47499\n",
      "time elapsed - 00:00:38.36\n",
      "189  -----  47500  -----  47749\n",
      "time elapsed - 00:00:38.22\n",
      "190  -----  47750  -----  47999\n",
      "time elapsed - 00:00:38.14\n",
      "191  -----  48000  -----  48249\n"
     ]
    },
    {
     "name": "stdout",
     "output_type": "stream",
     "text": [
      "time elapsed - 00:00:38.33\n",
      "192  -----  48250  -----  48499\n",
      "time elapsed - 00:00:37.78\n",
      "193  -----  48500  -----  48749\n",
      "time elapsed - 00:00:37.79\n",
      "194  -----  48750  -----  48999\n",
      "time elapsed - 00:00:38.25\n",
      "195  -----  49000  -----  49249\n",
      "time elapsed - 00:00:37.89\n",
      "196  -----  49250  -----  49499\n",
      "time elapsed - 00:00:38.07\n",
      "197  -----  49500  -----  49749\n",
      "time elapsed - 00:00:37.54\n",
      "198  -----  49750  -----  49999\n",
      "time elapsed - 00:00:37.84\n",
      "199  -----  50000  -----  50249\n",
      "time elapsed - 00:00:38.68\n",
      "200  -----  50250  -----  50499\n",
      "time elapsed - 00:00:37.87\n",
      "201  -----  50500  -----  50749\n",
      "time elapsed - 00:00:38.18\n",
      "202  -----  50750  -----  50999\n",
      "time elapsed - 00:00:37.97\n",
      "203  -----  51000  -----  51249\n",
      "time elapsed - 00:00:38.70\n",
      "204  -----  51250  -----  51499\n",
      "time elapsed - 00:00:38.11\n",
      "205  -----  51500  -----  51749\n",
      "time elapsed - 00:00:38.13\n",
      "206  -----  51750  -----  51999\n",
      "time elapsed - 00:00:37.92\n",
      "207  -----  52000  -----  52249\n",
      "time elapsed - 00:00:38.99\n",
      "208  -----  52250  -----  52499\n",
      "time elapsed - 00:00:37.49\n",
      "209  -----  52500  -----  52749\n",
      "time elapsed - 00:00:37.92\n",
      "210  -----  52750  -----  52999\n",
      "time elapsed - 00:00:38.05\n",
      "211  -----  53000  -----  53249\n",
      "time elapsed - 00:00:38.63\n",
      "212  -----  53250  -----  53499\n",
      "time elapsed - 00:00:38.53\n",
      "213  -----  53500  -----  53749\n",
      "time elapsed - 00:00:38.31\n",
      "214  -----  53750  -----  53999\n",
      "time elapsed - 00:00:38.20\n",
      "215  -----  54000  -----  54249\n",
      "time elapsed - 00:00:38.56\n",
      "216  -----  54250  -----  54499\n",
      "time elapsed - 00:00:38.05\n",
      "217  -----  54500  -----  54749\n",
      "time elapsed - 00:00:38.57\n",
      "218  -----  54750  -----  54999\n",
      "time elapsed - 00:00:38.54\n",
      "219  -----  55000  -----  55249\n",
      "time elapsed - 00:00:38.51\n",
      "220  -----  55250  -----  55499\n",
      "time elapsed - 00:00:38.08\n",
      "221  -----  55500  -----  55749\n",
      "time elapsed - 00:00:37.93\n",
      "222  -----  55750  -----  55999\n",
      "time elapsed - 00:00:38.86\n",
      "223  -----  56000  -----  56249\n",
      "time elapsed - 00:00:38.05\n",
      "224  -----  56250  -----  56499\n",
      "time elapsed - 00:00:38.51\n",
      "225  -----  56500  -----  56749\n",
      "time elapsed - 00:00:37.87\n",
      "226  -----  56750  -----  56999\n",
      "time elapsed - 00:00:38.19\n",
      "227  -----  57000  -----  57249\n",
      "time elapsed - 00:00:38.54\n",
      "228  -----  57250  -----  57499\n",
      "time elapsed - 00:00:38.23\n",
      "229  -----  57500  -----  57749\n",
      "time elapsed - 00:00:38.42\n",
      "230  -----  57750  -----  57999\n",
      "time elapsed - 00:00:39.24\n",
      "231  -----  58000  -----  58249\n",
      "time elapsed - 00:00:37.83\n",
      "232  -----  58250  -----  58499\n",
      "time elapsed - 00:00:38.70\n",
      "233  -----  58500  -----  58749\n",
      "time elapsed - 00:00:38.20\n",
      "234  -----  58750  -----  58999\n",
      "time elapsed - 00:00:38.49\n",
      "235  -----  59000  -----  59249\n",
      "time elapsed - 00:00:38.46\n",
      "236  -----  59250  -----  59499\n",
      "time elapsed - 00:00:38.31\n",
      "237  -----  59500  -----  59749\n",
      "time elapsed - 00:00:38.83\n",
      "238  -----  59750  -----  59999\n",
      "time elapsed - 00:00:38.33\n",
      "239  -----  60000  -----  60249\n",
      "time elapsed - 00:00:38.80\n",
      "240  -----  60250  -----  60499\n",
      "time elapsed - 00:00:38.34\n",
      "241  -----  60500  -----  60749\n",
      "time elapsed - 00:00:38.15\n",
      "242  -----  60750  -----  60999\n",
      "time elapsed - 00:00:38.89\n",
      "243  -----  61000  -----  61249\n",
      "time elapsed - 00:00:38.32\n",
      "244  -----  61250  -----  61499\n",
      "time elapsed - 00:00:38.60\n",
      "245  -----  61500  -----  61749\n",
      "time elapsed - 00:00:38.02\n",
      "246  -----  61750  -----  61999\n",
      "time elapsed - 00:00:38.82\n",
      "247  -----  62000  -----  62249\n",
      "time elapsed - 00:00:38.30\n",
      "248  -----  62250  -----  62499\n",
      "time elapsed - 00:00:38.60\n",
      "249  -----  62500  -----  62749\n",
      "time elapsed - 00:00:41.86\n",
      "250  -----  62750  -----  62999\n",
      "time elapsed - 00:00:39.85\n",
      "251  -----  63000  -----  63249\n",
      "time elapsed - 00:00:38.42\n",
      "252  -----  63250  -----  63499\n",
      "time elapsed - 00:00:38.40\n",
      "253  -----  63500  -----  63749\n",
      "time elapsed - 00:00:38.16\n",
      "254  -----  63750  -----  63999\n",
      "time elapsed - 00:00:38.31\n",
      "255  -----  64000  -----  64249\n",
      "time elapsed - 00:00:38.12\n",
      "256  -----  64250  -----  64499\n",
      "time elapsed - 00:00:38.13\n",
      "257  -----  64500  -----  64749\n",
      "time elapsed - 00:00:37.93\n",
      "258  -----  64750  -----  64999\n",
      "time elapsed - 00:00:38.73\n",
      "259  -----  65000  -----  65249\n",
      "time elapsed - 00:00:38.57\n",
      "260  -----  65250  -----  65499\n",
      "time elapsed - 00:00:38.11\n",
      "261  -----  65500  -----  65749\n",
      "time elapsed - 00:00:38.61\n",
      "262  -----  65750  -----  65999\n",
      "time elapsed - 00:00:38.77\n",
      "263  -----  66000  -----  66249\n",
      "time elapsed - 00:00:38.03\n",
      "264  -----  66250  -----  66499\n",
      "time elapsed - 00:00:38.64\n",
      "265  -----  66500  -----  66749\n",
      "time elapsed - 00:00:39.01\n",
      "266  -----  66750  -----  66999\n",
      "time elapsed - 00:00:38.66\n",
      "267  -----  67000  -----  67249\n",
      "time elapsed - 00:00:38.36\n",
      "268  -----  67250  -----  67499\n",
      "time elapsed - 00:00:37.97\n",
      "269  -----  67500  -----  67749\n",
      "time elapsed - 00:00:38.17\n",
      "270  -----  67750  -----  67999\n",
      "time elapsed - 00:00:38.57\n",
      "271  -----  68000  -----  68249\n",
      "time elapsed - 00:00:38.41\n",
      "272  -----  68250  -----  68499\n",
      "time elapsed - 00:00:38.51\n",
      "273  -----  68500  -----  68749\n",
      "time elapsed - 00:00:38.70\n",
      "274  -----  68750  -----  68999\n",
      "time elapsed - 00:00:38.43\n",
      "275  -----  69000  -----  69249\n",
      "time elapsed - 00:00:38.45\n",
      "276  -----  69250  -----  69499\n",
      "time elapsed - 00:00:38.03\n",
      "277  -----  69500  -----  69749\n",
      "time elapsed - 00:00:38.43\n",
      "278  -----  69750  -----  69999\n",
      "time elapsed - 00:00:38.35\n",
      "279  -----  70000  -----  70249\n",
      "time elapsed - 00:00:38.01\n",
      "280  -----  70250  -----  70499\n",
      "time elapsed - 00:00:38.52\n",
      "281  -----  70500  -----  70749\n",
      "time elapsed - 00:00:38.55\n",
      "282  -----  70750  -----  70999\n",
      "time elapsed - 00:00:39.10\n",
      "283  -----  71000  -----  71249\n",
      "time elapsed - 00:00:38.52\n",
      "284  -----  71250  -----  71499\n",
      "time elapsed - 00:00:42.15\n",
      "285  -----  71500  -----  71749\n",
      "time elapsed - 00:00:40.81\n",
      "286  -----  71750  -----  71999\n",
      "time elapsed - 00:00:38.32\n",
      "287  -----  72000  -----  72249\n",
      "time elapsed - 00:00:38.36\n",
      "288  -----  72250  -----  72499\n",
      "time elapsed - 00:00:38.32\n",
      "289  -----  72500  -----  72749\n",
      "time elapsed - 00:00:38.32\n",
      "290  -----  72750  -----  72999\n",
      "time elapsed - 00:00:38.31\n",
      "291  -----  73000  -----  73249\n",
      "time elapsed - 00:00:38.13\n",
      "292  -----  73250  -----  73499\n",
      "time elapsed - 00:00:38.32\n",
      "293  -----  73500  -----  73749\n",
      "time elapsed - 00:00:38.55\n",
      "294  -----  73750  -----  73999\n",
      "time elapsed - 00:00:38.28\n",
      "295  -----  74000  -----  74249\n",
      "time elapsed - 00:00:38.45\n",
      "296  -----  74250  -----  74499\n",
      "time elapsed - 00:00:38.25\n",
      "297  -----  74500  -----  74749\n",
      "time elapsed - 00:00:38.81\n",
      "298  -----  74750  -----  74999\n",
      "time elapsed - 00:00:39.09\n",
      "299  -----  75000  -----  75249\n",
      "time elapsed - 00:00:38.58\n",
      "300  -----  75250  -----  75499\n",
      "time elapsed - 00:00:38.85\n",
      "301  -----  75500  -----  75749\n",
      "time elapsed - 00:00:38.68\n",
      "302  -----  75750  -----  75999\n",
      "time elapsed - 00:00:39.26\n",
      "303  -----  76000  -----  76249\n",
      "time elapsed - 00:00:38.96\n",
      "304  -----  76250  -----  76499\n",
      "time elapsed - 00:00:39.26\n",
      "305  -----  76500  -----  76749\n",
      "time elapsed - 00:00:39.12\n",
      "306  -----  76750  -----  76999\n",
      "time elapsed - 00:00:39.66\n",
      "307  -----  77000  -----  77249\n",
      "time elapsed - 00:00:39.75\n",
      "308  -----  77250  -----  77499\n",
      "time elapsed - 00:00:39.42\n",
      "309  -----  77500  -----  77749\n",
      "time elapsed - 00:00:39.82\n",
      "310  -----  77750  -----  77999\n",
      "time elapsed - 00:00:39.59\n",
      "311  -----  78000  -----  78249\n",
      "time elapsed - 00:00:40.53\n",
      "312  -----  78250  -----  78499\n",
      "time elapsed - 00:00:38.81\n",
      "313  -----  78500  -----  78749\n",
      "time elapsed - 00:00:38.84\n",
      "314  -----  78750  -----  78999\n",
      "time elapsed - 00:00:39.25\n",
      "315  -----  79000  -----  79249\n",
      "time elapsed - 00:00:38.08\n",
      "316  -----  79250  -----  79499\n",
      "time elapsed - 00:00:37.77\n",
      "317  -----  79500  -----  79749\n",
      "time elapsed - 00:00:37.92\n",
      "318  -----  79750  -----  79999\n",
      "time elapsed - 00:00:38.69\n",
      "319  -----  80000  -----  80249\n",
      "time elapsed - 00:00:38.29\n",
      "320  -----  80250  -----  80499\n",
      "time elapsed - 00:00:38.83\n",
      "321  -----  80500  -----  80749\n",
      "time elapsed - 00:00:38.90\n",
      "322  -----  80750  -----  80999\n",
      "time elapsed - 00:00:37.70\n",
      "323  -----  81000  -----  81249\n",
      "time elapsed - 00:00:38.09\n",
      "324  -----  81250  -----  81499\n",
      "time elapsed - 00:00:38.63\n",
      "325  -----  81500  -----  81749\n",
      "time elapsed - 00:00:38.59\n",
      "326  -----  81750  -----  81999\n",
      "time elapsed - 00:00:39.42\n",
      "327  -----  82000  -----  82249\n",
      "time elapsed - 00:00:38.35\n",
      "328  -----  82250  -----  82499\n",
      "time elapsed - 00:00:38.66\n",
      "329  -----  82500  -----  82749\n",
      "time elapsed - 00:00:38.62\n",
      "330  -----  82750  -----  82999\n"
     ]
    },
    {
     "name": "stdout",
     "output_type": "stream",
     "text": [
      "time elapsed - 00:00:38.81\n",
      "331  -----  83000  -----  83249\n",
      "time elapsed - 00:00:38.70\n",
      "332  -----  83250  -----  83499\n",
      "time elapsed - 00:00:37.97\n",
      "333  -----  83500  -----  83749\n",
      "time elapsed - 00:00:38.41\n",
      "334  -----  83750  -----  83999\n",
      "time elapsed - 00:00:38.75\n",
      "335  -----  84000  -----  84249\n",
      "time elapsed - 00:00:38.12\n",
      "336  -----  84250  -----  84499\n",
      "time elapsed - 00:00:38.68\n",
      "337  -----  84500  -----  84749\n",
      "time elapsed - 00:00:38.43\n",
      "338  -----  84750  -----  84999\n",
      "time elapsed - 00:00:38.80\n",
      "339  -----  85000  -----  85249\n",
      "time elapsed - 00:00:39.08\n",
      "340  -----  85250  -----  85499\n",
      "time elapsed - 00:00:38.82\n",
      "341  -----  85500  -----  85749\n",
      "time elapsed - 00:00:38.38\n",
      "342  -----  85750  -----  85999\n",
      "time elapsed - 00:00:37.83\n",
      "343  -----  86000  -----  86249\n",
      "time elapsed - 00:00:37.96\n",
      "344  -----  86250  -----  86499\n",
      "time elapsed - 00:00:38.58\n",
      "345  -----  86500  -----  86749\n",
      "time elapsed - 00:00:38.29\n",
      "346  -----  86750  -----  86999\n",
      "time elapsed - 00:00:38.94\n",
      "347  -----  87000  -----  87249\n",
      "time elapsed - 00:00:38.70\n",
      "348  -----  87250  -----  87499\n",
      "time elapsed - 00:00:38.43\n",
      "349  -----  87500  -----  87749\n",
      "time elapsed - 00:00:38.98\n",
      "350  -----  87750  -----  87999\n",
      "time elapsed - 00:00:38.34\n",
      "351  -----  88000  -----  88249\n",
      "time elapsed - 00:00:38.57\n",
      "352  -----  88250  -----  88499\n",
      "time elapsed - 00:00:38.69\n",
      "353  -----  88500  -----  88749\n",
      "time elapsed - 00:00:38.16\n",
      "354  -----  88750  -----  88999\n",
      "time elapsed - 00:00:38.59\n",
      "355  -----  89000  -----  89249\n",
      "time elapsed - 00:00:38.38\n",
      "356  -----  89250  -----  89499\n",
      "time elapsed - 00:00:38.04\n",
      "357  -----  89500  -----  89749\n",
      "time elapsed - 00:00:38.47\n",
      "358  -----  89750  -----  89999\n",
      "time elapsed - 00:00:38.47\n",
      "359  -----  90000  -----  90249\n",
      "time elapsed - 00:00:38.33\n",
      "360  -----  90250  -----  90499\n",
      "time elapsed - 00:00:39.24\n",
      "361  -----  90500  -----  90749\n",
      "time elapsed - 00:00:38.72\n",
      "362  -----  90750  -----  90999\n",
      "time elapsed - 00:00:39.37\n",
      "363  -----  91000  -----  91249\n",
      "time elapsed - 00:00:38.12\n",
      "364  -----  91250  -----  91499\n",
      "time elapsed - 00:00:38.07\n",
      "365  -----  91500  -----  91749\n",
      "time elapsed - 00:00:39.13\n",
      "366  -----  91750  -----  91999\n",
      "time elapsed - 00:00:38.32\n",
      "367  -----  92000  -----  92249\n",
      "time elapsed - 00:00:38.32\n",
      "368  -----  92250  -----  92499\n",
      "time elapsed - 00:00:38.50\n",
      "369  -----  92500  -----  92749\n",
      "time elapsed - 00:00:38.69\n",
      "370  -----  92750  -----  92999\n",
      "time elapsed - 00:00:38.65\n",
      "371  -----  93000  -----  93249\n",
      "time elapsed - 00:00:38.63\n",
      "372  -----  93250  -----  93499\n",
      "time elapsed - 00:00:38.80\n",
      "373  -----  93500  -----  93749\n",
      "time elapsed - 00:00:38.38\n",
      "374  -----  93750  -----  93999\n",
      "time elapsed - 00:00:38.98\n",
      "375  -----  94000  -----  94249\n",
      "time elapsed - 00:00:38.42\n",
      "376  -----  94250  -----  94499\n",
      "time elapsed - 00:00:38.45\n",
      "377  -----  94500  -----  94749\n",
      "time elapsed - 00:00:38.26\n",
      "378  -----  94750  -----  94999\n",
      "time elapsed - 00:00:38.84\n",
      "379  -----  95000  -----  95249\n",
      "time elapsed - 00:00:39.06\n",
      "380  -----  95250  -----  95499\n",
      "time elapsed - 00:00:38.74\n",
      "381  -----  95500  -----  95749\n",
      "time elapsed - 00:00:38.43\n",
      "382  -----  95750  -----  95999\n",
      "time elapsed - 00:00:38.62\n",
      "383  -----  96000  -----  96249\n",
      "time elapsed - 00:00:38.32\n",
      "384  -----  96250  -----  96499\n",
      "time elapsed - 00:00:38.66\n",
      "385  -----  96500  -----  96749\n",
      "time elapsed - 00:00:38.36\n",
      "386  -----  96750  -----  96999\n",
      "time elapsed - 00:00:38.25\n",
      "387  -----  97000  -----  97249\n",
      "time elapsed - 00:00:39.02\n",
      "388  -----  97250  -----  97499\n",
      "time elapsed - 00:00:38.31\n",
      "389  -----  97500  -----  97749\n",
      "time elapsed - 00:00:38.84\n",
      "390  -----  97750  -----  97999\n",
      "time elapsed - 00:00:39.09\n",
      "391  -----  98000  -----  98249\n",
      "time elapsed - 00:00:38.41\n",
      "392  -----  98250  -----  98499\n",
      "time elapsed - 00:00:38.79\n",
      "393  -----  98500  -----  98749\n",
      "time elapsed - 00:00:38.57\n",
      "394  -----  98750  -----  98999\n",
      "time elapsed - 00:00:38.65\n",
      "395  -----  99000  -----  99249\n",
      "time elapsed - 00:00:38.51\n",
      "396  -----  99250  -----  99499\n",
      "time elapsed - 00:00:38.46\n",
      "397  -----  99500  -----  99749\n",
      "time elapsed - 00:00:38.38\n",
      "398  -----  99750  -----  99999\n",
      "time elapsed - 00:00:38.54\n",
      "399  -----  100000  -----  100249\n",
      "time elapsed - 00:00:38.57\n",
      "400  -----  100250  -----  100499\n",
      "time elapsed - 00:00:38.32\n",
      "401  -----  100500  -----  100749\n",
      "time elapsed - 00:00:38.63\n",
      "402  -----  100750  -----  100999\n",
      "time elapsed - 00:00:38.76\n",
      "403  -----  101000  -----  101249\n",
      "time elapsed - 00:00:38.25\n",
      "404  -----  101250  -----  101499\n",
      "time elapsed - 00:00:38.26\n",
      "405  -----  101500  -----  101749\n",
      "time elapsed - 00:00:38.19\n",
      "406  -----  101750  -----  101999\n",
      "time elapsed - 00:00:38.84\n",
      "407  -----  102000  -----  102249\n",
      "time elapsed - 00:00:38.02\n",
      "408  -----  102250  -----  102499\n",
      "time elapsed - 00:00:38.52\n",
      "409  -----  102500  -----  102749\n",
      "time elapsed - 00:00:38.34\n",
      "410  -----  102750  -----  102999\n",
      "time elapsed - 00:00:38.52\n",
      "411  -----  103000  -----  103249\n",
      "time elapsed - 00:00:38.10\n",
      "412  -----  103250  -----  103499\n",
      "time elapsed - 00:00:38.49\n",
      "413  -----  103500  -----  103749\n",
      "time elapsed - 00:00:38.56\n",
      "414  -----  103750  -----  103999\n",
      "time elapsed - 00:00:38.45\n",
      "415  -----  104000  -----  104249\n",
      "time elapsed - 00:00:38.54\n",
      "416  -----  104250  -----  104499\n",
      "time elapsed - 00:00:38.32\n",
      "417  -----  104500  -----  104749\n",
      "time elapsed - 00:00:38.93\n",
      "418  -----  104750  -----  104999\n",
      "time elapsed - 00:00:38.75\n",
      "419  -----  105000  -----  105249\n",
      "time elapsed - 00:00:38.77\n",
      "420  -----  105250  -----  105499\n",
      "time elapsed - 00:00:38.58\n",
      "421  -----  105500  -----  105749\n",
      "time elapsed - 00:00:39.03\n",
      "422  -----  105750  -----  105999\n",
      "time elapsed - 00:00:39.29\n",
      "423  -----  106000  -----  106249\n",
      "time elapsed - 00:00:39.51\n",
      "424  -----  106250  -----  106499\n",
      "time elapsed - 00:00:38.75\n",
      "425  -----  106500  -----  106749\n",
      "time elapsed - 00:00:39.53\n",
      "426  -----  106750  -----  106999\n",
      "time elapsed - 00:00:39.40\n",
      "427  -----  107000  -----  107249\n",
      "time elapsed - 00:00:39.57\n",
      "428  -----  107250  -----  107499\n",
      "time elapsed - 00:00:38.63\n",
      "429  -----  107500  -----  107749\n",
      "time elapsed - 00:00:39.04\n",
      "430  -----  107750  -----  107999\n",
      "time elapsed - 00:00:38.83\n",
      "431  -----  108000  -----  108249\n",
      "time elapsed - 00:00:38.63\n",
      "432  -----  108250  -----  108499\n",
      "time elapsed - 00:00:38.72\n",
      "433  -----  108500  -----  108749\n",
      "time elapsed - 00:00:38.27\n",
      "434  -----  108750  -----  108999\n",
      "time elapsed - 00:00:38.38\n",
      "435  -----  109000  -----  109249\n",
      "time elapsed - 00:00:38.94\n",
      "436  -----  109250  -----  109499\n",
      "time elapsed - 00:00:38.30\n",
      "437  -----  109500  -----  109749\n",
      "time elapsed - 00:00:39.02\n",
      "438  -----  109750  -----  109999\n",
      "time elapsed - 00:00:38.69\n",
      "439  -----  110000  -----  110249\n",
      "time elapsed - 00:00:38.68\n",
      "440  -----  110250  -----  110499\n",
      "time elapsed - 00:00:38.07\n",
      "441  -----  110500  -----  110749\n",
      "time elapsed - 00:00:38.04\n",
      "442  -----  110750  -----  110999\n",
      "time elapsed - 00:00:38.27\n",
      "443  -----  111000  -----  111249\n",
      "time elapsed - 00:00:38.19\n",
      "444  -----  111250  -----  111499\n",
      "time elapsed - 00:00:38.62\n",
      "445  -----  111500  -----  111749\n",
      "time elapsed - 00:00:38.43\n",
      "446  -----  111750  -----  111999\n",
      "time elapsed - 00:00:38.21\n",
      "447  -----  112000  -----  112249\n",
      "time elapsed - 00:00:38.16\n",
      "448  -----  112250  -----  112499\n",
      "time elapsed - 00:00:38.08\n",
      "449  -----  112500  -----  112749\n",
      "time elapsed - 00:00:38.73\n",
      "450  -----  112750  -----  112999\n",
      "time elapsed - 00:00:39.16\n",
      "451  -----  113000  -----  113249\n",
      "time elapsed - 00:00:37.75\n",
      "452  -----  113250  -----  113499\n",
      "time elapsed - 00:00:38.89\n",
      "453  -----  113500  -----  113749\n",
      "time elapsed - 00:00:38.09\n",
      "454  -----  113750  -----  113999\n",
      "time elapsed - 00:00:38.77\n",
      "455  -----  114000  -----  114249\n",
      "time elapsed - 00:00:38.60\n",
      "456  -----  114250  -----  114499\n",
      "time elapsed - 00:00:38.36\n",
      "457  -----  114500  -----  114749\n",
      "time elapsed - 00:00:38.59\n",
      "458  -----  114750  -----  114999\n",
      "time elapsed - 00:00:38.58\n",
      "459  -----  115000  -----  115249\n",
      "time elapsed - 00:00:38.34\n",
      "460  -----  115250  -----  115499\n",
      "time elapsed - 00:00:38.46\n",
      "461  -----  115500  -----  115749\n",
      "time elapsed - 00:00:38.31\n",
      "462  -----  115750  -----  115999\n",
      "time elapsed - 00:00:38.36\n",
      "463  -----  116000  -----  116249\n",
      "time elapsed - 00:00:38.68\n",
      "464  -----  116250  -----  116499\n",
      "time elapsed - 00:00:38.36\n",
      "465  -----  116500  -----  116749\n",
      "time elapsed - 00:00:38.43\n",
      "466  -----  116750  -----  116999\n",
      "time elapsed - 00:00:38.04\n",
      "467  -----  117000  -----  117249\n"
     ]
    },
    {
     "name": "stdout",
     "output_type": "stream",
     "text": [
      "time elapsed - 00:00:38.83\n",
      "468  -----  117250  -----  117499\n",
      "time elapsed - 00:00:38.17\n",
      "469  -----  117500  -----  117749\n",
      "time elapsed - 00:00:38.37\n",
      "470  -----  117750  -----  117999\n",
      "time elapsed - 00:00:38.48\n",
      "471  -----  118000  -----  118249\n",
      "time elapsed - 00:00:38.43\n",
      "472  -----  118250  -----  118499\n",
      "time elapsed - 00:00:38.55\n",
      "473  -----  118500  -----  118749\n",
      "time elapsed - 00:00:38.75\n",
      "474  -----  118750  -----  118999\n",
      "time elapsed - 00:00:39.08\n",
      "475  -----  119000  -----  119249\n",
      "time elapsed - 00:00:38.66\n",
      "476  -----  119250  -----  119499\n",
      "time elapsed - 00:00:38.02\n",
      "477  -----  119500  -----  119749\n",
      "time elapsed - 00:00:38.69\n",
      "478  -----  119750  -----  119999\n",
      "time elapsed - 00:00:38.01\n",
      "479  -----  120000  -----  120249\n",
      "time elapsed - 00:00:38.55\n",
      "480  -----  120250  -----  120499\n",
      "time elapsed - 00:00:38.82\n",
      "481  -----  120500  -----  120749\n",
      "time elapsed - 00:00:37.86\n",
      "482  -----  120750  -----  120999\n",
      "time elapsed - 00:00:38.92\n",
      "483  -----  121000  -----  121249\n",
      "time elapsed - 00:00:38.66\n",
      "484  -----  121250  -----  121499\n",
      "time elapsed - 00:00:38.28\n",
      "485  -----  121500  -----  121749\n",
      "time elapsed - 00:00:38.35\n",
      "486  -----  121750  -----  121999\n",
      "time elapsed - 00:00:38.57\n",
      "487  -----  122000  -----  122249\n",
      "time elapsed - 00:00:38.71\n",
      "488  -----  122250  -----  122499\n",
      "time elapsed - 00:00:38.14\n",
      "489  -----  122500  -----  122749\n",
      "time elapsed - 00:00:38.52\n",
      "490  -----  122750  -----  122999\n",
      "time elapsed - 00:00:38.67\n",
      "491  -----  123000  -----  123249\n",
      "time elapsed - 00:00:38.34\n",
      "492  -----  123250  -----  123499\n",
      "time elapsed - 00:00:39.05\n",
      "493  -----  123500  -----  123749\n",
      "time elapsed - 00:00:38.40\n",
      "494  -----  123750  -----  123999\n",
      "time elapsed - 00:00:38.30\n",
      "495  -----  124000  -----  124249\n",
      "time elapsed - 00:00:38.63\n",
      "496  -----  124250  -----  124499\n",
      "time elapsed - 00:00:38.34\n",
      "497  -----  124500  -----  124749\n",
      "time elapsed - 00:00:38.24\n",
      "498  -----  124750  -----  124999\n",
      "time elapsed - 00:00:38.17\n",
      "499  -----  125000  -----  125249\n",
      "time elapsed - 00:00:38.65\n",
      "500  -----  125250  -----  125499\n",
      "time elapsed - 00:00:38.40\n",
      "501  -----  125500  -----  125749\n",
      "time elapsed - 00:00:38.32\n",
      "502  -----  125750  -----  125999\n",
      "time elapsed - 00:00:38.97\n",
      "503  -----  126000  -----  126249\n",
      "time elapsed - 00:00:37.85\n",
      "504  -----  126250  -----  126499\n",
      "time elapsed - 00:00:38.55\n",
      "505  -----  126500  -----  126749\n",
      "time elapsed - 00:00:38.24\n",
      "506  -----  126750  -----  126999\n",
      "time elapsed - 00:00:38.49\n",
      "507  -----  127000  -----  127249\n",
      "time elapsed - 00:00:39.16\n",
      "508  -----  127250  -----  127499\n",
      "time elapsed - 00:00:38.52\n",
      "509  -----  127500  -----  127749\n",
      "time elapsed - 00:00:38.71\n",
      "510  -----  127750  -----  127999\n",
      "time elapsed - 00:00:38.11\n",
      "511  -----  128000  -----  128249\n",
      "time elapsed - 00:00:38.31\n",
      "512  -----  128250  -----  128499\n",
      "time elapsed - 00:00:38.39\n",
      "513  -----  128500  -----  128749\n",
      "time elapsed - 00:00:38.04\n",
      "514  -----  128750  -----  128999\n",
      "time elapsed - 00:00:38.84\n",
      "515  -----  129000  -----  129249\n",
      "time elapsed - 00:00:38.11\n",
      "516  -----  129250  -----  129499\n",
      "time elapsed - 00:00:38.18\n",
      "517  -----  129500  -----  129749\n",
      "time elapsed - 00:00:38.92\n",
      "518  -----  129750  -----  129999\n",
      "time elapsed - 00:00:38.82\n",
      "519  -----  130000  -----  130249\n",
      "time elapsed - 00:00:38.53\n",
      "520  -----  130250  -----  130499\n",
      "time elapsed - 00:00:38.49\n",
      "521  -----  130500  -----  130749\n",
      "time elapsed - 00:00:38.53\n",
      "522  -----  130750  -----  130999\n",
      "time elapsed - 00:00:38.52\n",
      "523  -----  131000  -----  131249\n",
      "time elapsed - 00:00:38.43\n",
      "524  -----  131250  -----  131499\n",
      "time elapsed - 00:00:38.75\n",
      "525  -----  131500  -----  131749\n",
      "time elapsed - 00:00:38.52\n",
      "526  -----  131750  -----  131999\n",
      "time elapsed - 00:00:37.99\n",
      "527  -----  132000  -----  132249\n",
      "time elapsed - 00:00:38.22\n",
      "528  -----  132250  -----  132499\n",
      "time elapsed - 00:00:38.53\n",
      "529  -----  132500  -----  132749\n",
      "time elapsed - 00:00:38.46\n",
      "530  -----  132750  -----  132999\n",
      "time elapsed - 00:00:38.34\n",
      "531  -----  133000  -----  133249\n",
      "time elapsed - 00:00:38.07\n",
      "532  -----  133250  -----  133499\n",
      "time elapsed - 00:00:38.33\n",
      "533  -----  133500  -----  133749\n",
      "time elapsed - 00:00:38.41\n",
      "534  -----  133750  -----  133999\n",
      "time elapsed - 00:00:38.79\n",
      "535  -----  134000  -----  134249\n",
      "time elapsed - 00:00:38.01\n",
      "536  -----  134250  -----  134499\n",
      "time elapsed - 00:00:38.84\n",
      "537  -----  134500  -----  134749\n",
      "time elapsed - 00:00:38.05\n",
      "538  -----  134750  -----  134999\n",
      "time elapsed - 00:00:38.39\n",
      "539  -----  135000  -----  135249\n",
      "time elapsed - 00:00:38.37\n",
      "540  -----  135250  -----  135499\n",
      "time elapsed - 00:00:38.30\n",
      "541  -----  135500  -----  135749\n",
      "time elapsed - 00:00:38.57\n",
      "542  -----  135750  -----  135999\n",
      "time elapsed - 00:00:38.68\n",
      "543  -----  136000  -----  136249\n",
      "time elapsed - 00:00:38.14\n",
      "544  -----  136250  -----  136499\n",
      "time elapsed - 00:00:38.55\n",
      "545  -----  136500  -----  136749\n",
      "time elapsed - 00:00:38.26\n",
      "546  -----  136750  -----  136999\n",
      "time elapsed - 00:00:38.26\n",
      "547  -----  137000  -----  137249\n",
      "time elapsed - 00:00:37.94\n",
      "548  -----  137250  -----  137499\n",
      "time elapsed - 00:00:38.97\n",
      "549  -----  137500  -----  137749\n",
      "time elapsed - 00:00:38.84\n",
      "550  -----  137750  -----  137999\n",
      "time elapsed - 00:00:38.31\n",
      "551  -----  138000  -----  138249\n",
      "time elapsed - 00:00:38.51\n",
      "552  -----  138250  -----  138499\n",
      "time elapsed - 00:00:38.67\n",
      "553  -----  138500  -----  138749\n",
      "time elapsed - 00:00:38.00\n",
      "554  -----  138750  -----  138999\n",
      "time elapsed - 00:00:38.72\n",
      "555  -----  139000  -----  139249\n",
      "time elapsed - 00:00:38.26\n",
      "556  -----  139250  -----  139499\n",
      "time elapsed - 00:00:38.38\n",
      "557  -----  139500  -----  139749\n",
      "time elapsed - 00:00:38.19\n",
      "558  -----  139750  -----  139999\n",
      "time elapsed - 00:00:38.19\n",
      "559  -----  140000  -----  140249\n",
      "time elapsed - 00:00:39.11\n",
      "560  -----  140250  -----  140499\n",
      "time elapsed - 00:00:38.48\n",
      "561  -----  140500  -----  140749\n",
      "time elapsed - 00:00:38.22\n",
      "562  -----  140750  -----  140999\n",
      "time elapsed - 00:00:38.84\n",
      "563  -----  141000  -----  141249\n",
      "time elapsed - 00:00:38.46\n",
      "564  -----  141250  -----  141499\n",
      "time elapsed - 00:00:39.36\n",
      "565  -----  141500  -----  141749\n",
      "time elapsed - 00:00:38.18\n",
      "566  -----  141750  -----  141999\n",
      "time elapsed - 00:00:39.14\n",
      "567  -----  142000  -----  142249\n",
      "time elapsed - 00:00:38.45\n",
      "568  -----  142250  -----  142499\n",
      "time elapsed - 00:00:38.16\n",
      "569  -----  142500  -----  142749\n",
      "time elapsed - 00:00:38.75\n",
      "570  -----  142750  -----  142999\n",
      "time elapsed - 00:00:38.60\n",
      "571  -----  143000  -----  143249\n",
      "time elapsed - 00:00:38.72\n",
      "572  -----  143250  -----  143499\n",
      "time elapsed - 00:00:38.67\n",
      "573  -----  143500  -----  143749\n",
      "time elapsed - 00:00:38.66\n",
      "574  -----  143750  -----  143999\n",
      "time elapsed - 00:00:38.25\n",
      "575  -----  144000  -----  144249\n",
      "time elapsed - 00:00:38.42\n",
      "576  -----  144250  -----  144499\n",
      "time elapsed - 00:00:39.17\n",
      "577  -----  144500  -----  144749\n",
      "time elapsed - 00:00:38.34\n",
      "578  -----  144750  -----  144999\n",
      "time elapsed - 00:00:38.14\n",
      "579  -----  145000  -----  145249\n",
      "time elapsed - 00:00:37.75\n",
      "580  -----  145250  -----  145499\n",
      "time elapsed - 00:00:38.66\n",
      "581  -----  145500  -----  145749\n",
      "time elapsed - 00:00:38.55\n",
      "582  -----  145750  -----  145999\n",
      "time elapsed - 00:00:38.42\n",
      "583  -----  146000  -----  146249\n",
      "time elapsed - 00:00:38.41\n",
      "584  -----  146250  -----  146499\n",
      "time elapsed - 00:00:38.38\n",
      "585  -----  146500  -----  146749\n",
      "time elapsed - 00:00:38.14\n",
      "586  -----  146750  -----  146999\n",
      "time elapsed - 00:00:38.66\n",
      "587  -----  147000  -----  147249\n",
      "time elapsed - 00:00:38.66\n",
      "588  -----  147250  -----  147499\n",
      "time elapsed - 00:00:38.19\n",
      "589  -----  147500  -----  147749\n",
      "time elapsed - 00:00:38.32\n"
     ]
    }
   ],
   "source": [
    "documents_len = len(documents)\n",
    "\n",
    "while index+(index+1)*chunk_size < documents_len:\n",
    "    \n",
    "    time_start = time.time()\n",
    "    \n",
    "    print(index, ' ----- ', (index+1)*chunk_size, ' ----- ', ((index+1)*chunk_size)+chunk_size-1)\n",
    "    documents_sample = documents[(index+1)*chunk_size:((index+1)*chunk_size)+chunk_size-1]\n",
    "    \n",
    "    data_words = list(sent_to_words(documents_sample))\n",
    "    # Compute bigrams & trigrams\n",
    "    bi_tri_grams(data_words, 250)\n",
    "    # Categorizing and tagging words\n",
    "    data_words = list(map(tag_words, data_words))\n",
    "    # Create Corpus\n",
    "    texts = data_words\n",
    "    # Term Document Frequency\n",
    "    corpus = [id2word.doc2bow(text) for text in texts]\n",
    "    # Load LDA Model\n",
    "    temp_file = datapath(file_model)\n",
    "    lda_model = gensim.models.ldamodel.LdaModel.load(temp_file)\n",
    "    # Update LDA Model\n",
    "    lda_model.update(corpus)\n",
    "    \n",
    "    index = index + 1\n",
    "    indixes.append(index)\n",
    "    \n",
    "    # Evaluate LDA Model\n",
    "    # Compute Perplexity Score\n",
    "    perplexity = lda_model.log_perplexity(corpus)\n",
    "    perplexity_score.append(perplexity)\n",
    "\n",
    "    # Evaluate LDA Model\n",
    "    # Compute Coherence Score\n",
    "    coherence_lda_model = CoherenceModel(model=lda_model, texts=data_words, dictionary=id2word, coherence='c_v')\n",
    "    coherence = coherence_lda_model.get_coherence()\n",
    "    coherence_score.append(coherence)\n",
    "    \n",
    "    # Save LDA Model\n",
    "    temp_file = datapath(file_model)\n",
    "    lda_model.save(temp_file)\n",
    "    temp_file = datapath(file_model + '_' + str(index).zfill(5))\n",
    "    lda_model.save(temp_file)\n",
    "    \n",
    "    time_end = time.time()\n",
    "    hour, rem = divmod(time_end - time_start, 3600)\n",
    "    minute, second = divmod(rem, 60)\n",
    "    print('time elapsed - {:0>2}:{:0>2}:{:05.2f}'.format(int(hour), int(minute), second))"
   ]
  },
  {
   "cell_type": "markdown",
   "metadata": {},
   "source": [
    "### Topics in LDA model"
   ]
  },
  {
   "cell_type": "code",
   "execution_count": 16,
   "metadata": {},
   "outputs": [
    {
     "name": "stdout",
     "output_type": "stream",
     "text": [
      "[(0,\n",
      "  '0.063*\"fashion\" + 0.049*\"style\" + 0.027*\"blogger\" + 0.022*\"today\" + '\n",
      "  '0.022*\"life\" + 0.021*\"street\" + 0.019*\"time\" + 0.019*\"travel\" + '\n",
      "  '0.018*\"love\" + 0.018*\"fall\"'),\n",
      " (1,\n",
      "  '0.033*\"brand\" + 0.027*\"crohn\" + 0.027*\"illness\" + 0.022*\"soul\" + '\n",
      "  '0.022*\"nature\" + 0.022*\"ball\" + 0.022*\"record\" + 0.022*\"hendrix\" + '\n",
      "  '0.016*\"october\" + 0.016*\"journey\"'),\n",
      " (2,\n",
      "  '0.030*\"dream\" + 0.022*\"film\" + 0.019*\"york\" + 0.016*\"experience\" + '\n",
      "  '0.016*\"room\" + 0.016*\"italy\" + 0.016*\"macy\" + 0.014*\"sponsor\" + '\n",
      "  '0.014*\"quality\" + 0.014*\"resort\"'),\n",
      " (3,\n",
      "  '0.033*\"support\" + 0.029*\"gift\" + 0.025*\"store\" + 0.025*\"paper\" + '\n",
      "  '0.025*\"crush\" + 0.021*\"care\" + 0.021*\"hour\" + 0.021*\"country\" + '\n",
      "  '0.021*\"earth\" + 0.017*\"cat\"'),\n",
      " (4,\n",
      "  '0.088*\"food\" + 0.045*\"people\" + 0.034*\"link\" + 0.034*\"place\" + '\n",
      "  '0.031*\"paris\" + 0.025*\"body\" + 0.023*\"house\" + 0.020*\"video\" + 0.020*\"base\" '\n",
      "  '+ 0.017*\"breakfast\"'),\n",
      " (5,\n",
      "  '0.027*\"photographer\" + 0.021*\"event\" + 0.021*\"holiday\" + 0.018*\"hotel\" + '\n",
      "  '0.018*\"glam\" + 0.018*\"number\" + 0.018*\"caftan\" + 0.015*\"portrait\" + '\n",
      "  '0.015*\"picture\" + 0.015*\"france\"'),\n",
      " (6,\n",
      "  '0.048*\"sale\" + 0.028*\"book\" + 0.024*\"series\" + 0.020*\"happiness\" + '\n",
      "  '0.016*\"change\" + 0.016*\"help\" + 0.016*\"patch\" + 0.016*\"culture\" + '\n",
      "  '0.016*\"lot\" + 0.016*\"child\"'),\n",
      " (7,\n",
      "  '0.036*\"dance\" + 0.031*\"business\" + 0.022*\"sign\" + 0.018*\"create\" + '\n",
      "  '0.018*\"heart\" + 0.018*\"bali\" + 0.013*\"market\" + 0.013*\"comme\" + '\n",
      "  '0.013*\"enter\" + 0.013*\"message\"'),\n",
      " (8,\n",
      "  '0.072*\"beauty\" + 0.027*\"star\" + 0.022*\"palette\" + 0.022*\"knit\" + '\n",
      "  '0.019*\"weekend\" + 0.019*\"product\" + 0.018*\"eye\" + 0.014*\"huda\" + '\n",
      "  '0.014*\"skin\" + 0.014*\"lace\"'),\n",
      " (9,\n",
      "  '0.034*\"watch\" + 0.028*\"movie\" + 0.026*\"word\" + 0.026*\"ballet\" + '\n",
      "  '0.023*\"friend\" + 0.023*\"joker\" + 0.017*\"vibe\" + 0.017*\"visit\" + '\n",
      "  '0.017*\"amaze\" + 0.017*\"illustration\"')]\n"
     ]
    },
    {
     "name": "stderr",
     "output_type": "stream",
     "text": [
      "C:\\Users\\minio\\anaconda3\\envs\\tfm-py-37\\lib\\site-packages\\ipykernel\\ipkernel.py:287: DeprecationWarning: `should_run_async` will not call `transform_cell` automatically in the future. Please pass the result to `transformed_cell` argument and any exception that happen during thetransform in `preprocessing_exc_tuple` in IPython 7.17 and above.\n",
      "  and should_run_async(code)\n"
     ]
    }
   ],
   "source": [
    "# Print the Keyword in the 10 topics\n",
    "pprint(lda_model.print_topics())\n",
    "doc_lda = lda_model[corpus]"
   ]
  },
  {
   "cell_type": "markdown",
   "metadata": {},
   "source": [
    "### Plot perplexity score progress along incremental learning iterations  \n",
    "\n",
    "Lower the perplexity score represents a better model.  "
   ]
  },
  {
   "cell_type": "code",
   "execution_count": 17,
   "metadata": {},
   "outputs": [
    {
     "name": "stderr",
     "output_type": "stream",
     "text": [
      "C:\\Users\\minio\\anaconda3\\envs\\tfm-py-37\\lib\\site-packages\\ipykernel\\ipkernel.py:287: DeprecationWarning: `should_run_async` will not call `transform_cell` automatically in the future. Please pass the result to `transformed_cell` argument and any exception that happen during thetransform in `preprocessing_exc_tuple` in IPython 7.17 and above.\n",
      "  and should_run_async(code)\n"
     ]
    },
    {
     "data": {
      "image/png": "[encoded data removed]",
      "text/plain": [
       "<Figure size 432x288 with 1 Axes>"
      ]
     },
     "metadata": {
      "needs_background": "light"
     },
     "output_type": "display_data"
    }
   ],
   "source": [
    "plt.title('Perplexity score progress')\n",
    "plt.xlabel('Index')\n",
    "plt.ylabel('Perplexity score')\n",
    "plt.plot(indixes, perplexity_score, 'go', perplexity_score, 'k')\n",
    "plt.show()"
   ]
  },
  {
   "cell_type": "markdown",
   "metadata": {},
   "source": [
    "### Plot coherence score progress along incremental learning iterations  \n",
    "\n",
    "Higher the coherence score represents a more human interpretable model.  "
   ]
  },
  {
   "cell_type": "code",
   "execution_count": 18,
   "metadata": {},
   "outputs": [
    {
     "name": "stderr",
     "output_type": "stream",
     "text": [
      "C:\\Users\\minio\\anaconda3\\envs\\tfm-py-37\\lib\\site-packages\\ipykernel\\ipkernel.py:287: DeprecationWarning: `should_run_async` will not call `transform_cell` automatically in the future. Please pass the result to `transformed_cell` argument and any exception that happen during thetransform in `preprocessing_exc_tuple` in IPython 7.17 and above.\n",
      "  and should_run_async(code)\n"
     ]
    },
    {
     "data": {
      "image/png": "[encoded data removed]",
      "text/plain": [
       "<Figure size 432x288 with 1 Axes>"
      ]
     },
     "metadata": {
      "needs_background": "light"
     },
     "output_type": "display_data"
    }
   ],
   "source": [
    "plt.title('Coherence score progress')\n",
    "plt.xlabel('Index')\n",
    "plt.ylabel('Coherence score')\n",
    "plt.plot(indixes, coherence_score, 'go', coherence_score, 'k') \n",
    "plt.show()"
   ]
  },
  {
   "cell_type": "markdown",
   "metadata": {},
   "source": [
    "### Visualize the topics-keywords"
   ]
  },
  {
   "cell_type": "code",
   "execution_count": 19,
   "metadata": {},
   "outputs": [
    {
     "name": "stderr",
     "output_type": "stream",
     "text": [
      "C:\\Users\\minio\\anaconda3\\envs\\tfm-py-37\\lib\\site-packages\\ipykernel\\ipkernel.py:287: DeprecationWarning: `should_run_async` will not call `transform_cell` automatically in the future. Please pass the result to `transformed_cell` argument and any exception that happen during thetransform in `preprocessing_exc_tuple` in IPython 7.17 and above.\n",
      "  and should_run_async(code)\n"
     ]
    },
    {
     "data": {
      "text/html": [
       "\n",
       "<link rel=\"stylesheet\" type=\"text/css\" href=\"https://cdn.rawgit.com/bmabey/pyLDAvis/files/ldavis.v1.0.0.css\">\n",
       "\n",
       "\n",
       "<div id=\"ldavis_el1876023608388570324433315270\"></div>\n",
       "<script type=\"text/javascript\">\n",
       "\n",
       "var ldavis_el1876023608388570324433315270_data = {\"mdsDat\": {\"x\": [0.4220261982800647, 0.122763629092455, -0.08158566850896533, -0.05887775147144691, 0.01386181661743912, -0.06099005636644995, -0.06043848869443308, -0.08454106204882246, -0.09626483041017136, -0.11595378648966946], \"y\": [0.18036067244855694, -0.3870544987022594, 0.12477292807462796, -0.07060486717433696, -0.09543994218780397, 0.1129415713158151, -0.004255152261580982, 0.017267954715214088, 0.049954355585256724, 0.07205697818651037], \"topics\": [1, 2, 3, 4, 5, 6, 7, 8, 9, 10], \"cluster\": [1, 1, 1, 1, 1, 1, 1, 1, 1, 1], \"Freq\": [30.615545367342367, 14.71468028459994, 8.625011710731552, 8.354260268913267, 8.257782811001771, 7.886167389292349, 5.972412756596284, 5.71000131815071, 5.408937793745549, 4.45520029962621]}, \"tinfo\": {\"Term\": [\"fashion\", \"beauty\", \"food\", \"style\", \"blogger\", \"people\", \"today\", \"sale\", \"life\", \"star\", \"street\", \"link\", \"place\", \"watch\", \"time\", \"travel\", \"love\", \"fall\", \"woman\", \"paris\", \"dream\", \"palette\", \"knit\", \"year\", \"movie\", \"dress\", \"dance\", \"support\", \"hair\", \"weekend\", \"fashion\", \"style\", \"blogger\", \"today\", \"life\", \"street\", \"time\", \"travel\", \"love\", \"fall\", \"woman\", \"year\", \"dress\", \"hair\", \"outfit\", \"story\", \"week\", \"model\", \"gram\", \"share\", \"morning\", \"month\", \"goal\", \"blog\", \"night\", \"size\", \"face\", \"post\", \"thing\", \"shop\", \"beauty\", \"star\", \"palette\", \"product\", \"weekend\", \"eye\", \"huda\", \"skin\", \"lace\", \"lash\", \"skincare\", \"blonde\", \"knit\", \"halloween\", \"powder\", \"artist\", \"makeup\", \"code\", \"craft\", \"babe\", \"community\", \"fragrance\", \"foundation\", \"brow\", \"glitter\", \"cocoa\", \"medium\", \"brush\", \"pixi\", \"eyeshadow\", \"hydro\", \"dream\", \"film\", \"york\", \"experience\", \"room\", \"italy\", \"macy\", \"sponsor\", \"quality\", \"celebrate\", \"traveller\", \"rest\", \"resort\", \"music\", \"kirk\", \"building\", \"traveler\", \"writer\", \"hollywood\", \"adventure\", \"item\", \"embrace\", \"rule\", \"copy\", \"walk\", \"mind\", \"architecture\", \"forbes\", \"tomorrow\", \"space\", \"princess\", \"jennifer\", \"boho\", \"suit\", \"food\", \"people\", \"place\", \"link\", \"paris\", \"body\", \"house\", \"video\", \"base\", \"breakfast\", \"water\", \"lover\", \"dish\", \"sweet\", \"problem\", \"feature\", \"coffee\", \"hand\", \"taste\", \"stay\", \"foodie\", \"bag\", \"rom\", \"ginger\", \"dubai\", \"power\", \"sanderson\", \"dinner\", \"yummy\", \"sleep\", \"eiffel\", \"chocolate\", \"watch\", \"movie\", \"word\", \"ballet\", \"friend\", \"joker\", \"vibe\", \"illustration\", \"amaze\", \"visit\", \"comment\", \"dancer\", \"repost\", \"leopard\", \"maker\", \"huawei\", \"decor\", \"shot\", \"birthday\", \"enjoy\", \"dog\", \"sister\", \"jewelry\", \"biolage\", \"costume\", \"trade\", \"trevor\", \"kid\", \"host\", \"adult\", \"boohoo\", \"methodology\", \"solo\", \"photographer\", \"event\", \"holiday\", \"hotel\", \"number\", \"glam\", \"caftan\", \"portrait\", \"picture\", \"france\", \"shoot\", \"plan\", \"boutique\", \"club\", \"ribbon\", \"fountain\", \"status\", \"designer\", \"spring\", \"ceremony\", \"manufacture\", \"grease\", \"break\", \"canon\", \"board\", \"cocktail\", \"sacramento\", \"roseville\", \"svitlanavronska\", \"bride\", \"light\", \"session\", \"villa\", \"photoshoot\", \"sarah\", \"sale\", \"book\", \"series\", \"happiness\", \"change\", \"help\", \"patch\", \"lot\", \"diwali\", \"culture\", \"pool\", \"child\", \"party\", \"wait\", \"jean\", \"roll\", \"para\", \"tbsp\", \"freezer\", \"butter\", \"boy\", \"count\", \"learn\", \"release\", \"mother\", \"parent\", \"alert\", \"mini\", \"label\", \"garden\", \"veggie\", \"support\", \"gift\", \"store\", \"paper\", \"crush\", \"care\", \"hour\", \"country\", \"earth\", \"cat\", \"person\", \"state\", \"choice\", \"treat\", \"apple\", \"anxiety\", \"award\", \"mile\", \"reason\", \"form\", \"talk\", \"sport\", \"trust\", \"husband\", \"couple\", \"jones\", \"forget\", \"heat\", \"groom\", \"lady\", \"moisture\", \"grow\", \"level\", \"dance\", \"business\", \"sign\", \"create\", \"heart\", \"market\", \"comme\", \"enter\", \"saint\", \"view\", \"beautiful\", \"song\", \"message\", \"disney\", \"wall\", \"point\", \"island\", \"werbung\", \"angeles\", \"schedule\", \"temple\", \"future\", \"vegan\", \"storm\", \"hank\", \"matter\", \"cabos\", \"nobu\", \"join\", \"fan\", \"bali\", \"graffiti\", \"generosity\", \"brand\", \"illness\", \"crohn\", \"soul\", \"nature\", \"ball\", \"record\", \"hendrix\", \"october\", \"winner\", \"stone\", \"journey\", \"india\", \"baggy\", \"gypsy\", \"jimi\", \"wine\", \"pakistan\", \"fitness\", \"example\", \"center\", \"road\", \"email\", \"dagger\", \"concert\", \"bootleg\", \"rehearsal\", \"marquis\", \"colitis\", \"rash\", \"band\", \"chronic\", \"restaurant\"], \"Freq\": [81.0, 44.0, 30.0, 62.0, 34.0, 15.0, 28.0, 11.0, 27.0, 16.0, 26.0, 11.0, 11.0, 11.0, 24.0, 24.0, 22.0, 22.0, 22.0, 10.0, 10.0, 13.0, 13.0, 21.0, 9.0, 20.0, 8.0, 7.0, 19.0, 11.0, 81.04891485181624, 62.93575620284964, 34.33402887149496, 28.607473380496213, 27.664742225097058, 26.692291359096586, 24.802253667259862, 24.79487678923335, 22.888409211656253, 22.885915283273665, 22.884277301630416, 21.93148698385445, 20.01982888802793, 19.074378492360765, 18.117210686525112, 18.122428623681227, 16.212758994653065, 15.255970285005585, 15.256473362337065, 14.303596019335512, 13.35112399930245, 12.396144937496642, 12.39491227882188, 11.443494098506893, 11.444181955426947, 11.440402914808969, 11.44298148416439, 11.442688221075425, 10.495648720946502, 10.491184207661226, 44.113869058642415, 16.65563595235535, 13.719867687494805, 11.759598631430825, 11.759879386242364, 10.776773440960076, 8.821987125287169, 8.81860718113763, 8.817564950520913, 7.841263012150945, 7.840019096445122, 7.838349464769964, 13.714165499975529, 6.862248638520099, 6.860817361950248, 6.860171052914703, 5.880332749857338, 5.879772959141268, 5.8768605576982935, 5.876947076017768, 5.876411349999829, 5.878215629390726, 4.904675974584908, 4.903566133625821, 4.899178336999754, 4.898071360885682, 4.897690336498592, 3.9211772590509657, 3.9195881295207498, 3.9195253894149054, 4.895586394319053, 10.77102387459203, 7.8348377633497295, 6.853257728304447, 5.878733814645242, 5.876436629005987, 5.873251466929568, 5.872851138671967, 4.895268340977331, 4.894445854481639, 3.917309395926561, 3.9158219346405576, 3.915724203497133, 4.893654265804486, 2.9396298746260623, 2.937617486270738, 2.936994828057992, 2.937249063369237, 2.936814478834559, 2.9376064033575657, 2.9371489813048366, 2.936939077646279, 2.9365961790296593, 2.9370619972287306, 2.9354919178627186, 1.9594679486979967, 1.9597299084638766, 1.9586174190735206, 1.9583902193534977, 1.9583509253886158, 1.9582827486803163, 2.9353327269280682, 2.9272052572687124, 2.925245932558271, 1.9587183407525552, 30.659503905770574, 15.824175039852246, 11.869241864919953, 11.86987685671259, 10.876051592421044, 8.901401479822033, 7.911965856539624, 6.925257575055097, 6.91847044966495, 5.9346723303612245, 5.933185694863095, 3.9574767204377355, 3.95472237847654, 3.9545148350525126, 3.954529148392101, 3.954239303265441, 2.9770204406246634, 2.9677730473412223, 2.9676910709417634, 2.9676627695657594, 2.9663335808030995, 2.9652802491306827, 2.9652545501800587, 2.965558708646306, 2.965040825995754, 2.967257441812878, 2.964926644582222, 1.9788753128544723, 1.9788014690343245, 1.9786933057294824, 3.9514752022090724, 1.9788634392886775, 11.81087922449356, 9.837050749669169, 8.852417562955022, 8.852407916560754, 7.873050664418581, 7.869916872467188, 5.90445953858909, 5.901503240292239, 5.9018511535788605, 5.904377222691331, 4.919362681857099, 4.917652376153276, 4.91852280246278, 3.933953925043757, 3.9341253093152626, 3.933411797685862, 2.955254878537178, 2.953281547816298, 2.952403082844904, 2.9521124048309435, 2.951310789467223, 2.9515673835547678, 2.950519785137198, 2.950265763421458, 2.9500757294543662, 2.949825566296334, 2.949909489926471, 1.971193401456684, 1.9705438775759316, 1.967817645782387, 2.943654446336234, 2.9278755176846083, 2.191769621308129, 8.827328109338637, 6.868141443035794, 6.868003872856738, 5.886270525022628, 5.885473354967202, 5.8857583217666765, 5.883514822373402, 4.90831790050223, 4.907576004179461, 4.902599218706317, 3.925534965900229, 3.9244460733668936, 3.9235042703776832, 3.923120425012012, 3.9217517859761757, 2.94293873368409, 2.942305235292587, 2.942564407683488, 2.94193520836008, 2.941613085329209, 2.941508986466039, 2.9408533785814726, 1.9628890851619591, 1.9621743650910797, 1.9622491381683125, 1.9616230096078298, 1.9613297517484571, 1.9613297517484571, 1.9613297517484571, 1.9618857133760952, 1.9619901193155576, 1.9620604397865484, 2.5955814013974776, 2.6546558173268306, 1.9629646259299232, 11.978307466849781, 6.995398321350297, 5.988360712784819, 4.990364934860395, 3.9959937961430563, 3.9953849609419687, 3.993327293310486, 3.9922765991017335, 3.991668694130136, 3.9929454341049144, 3.9910245102084354, 3.991812414586313, 2.9965645345748193, 2.9952224459783805, 2.994571983007624, 2.993748264794388, 2.9924387342300927, 3.9896491659077356, 2.992353385674402, 2.992351060100677, 1.9979992236452528, 1.9971059707776526, 1.9969369015678777, 1.9976799223728718, 1.9965306238381986, 1.9979736423342827, 1.9964876007242944, 1.996463879872304, 1.9963431825959999, 1.9962606247287782, 2.1728058563559673, 7.943589626591672, 6.956792944382009, 5.9589184219512115, 5.956622100222649, 5.9562921484948035, 4.972628673663037, 4.966936339339387, 4.9648419018216625, 4.9645702030269, 3.972201249790783, 3.971674305319763, 3.9719935847545242, 3.9717223306386407, 3.9712554178162183, 2.980898636505303, 2.9792184173628993, 2.9786699059662722, 2.9784068784096407, 2.9777734333472208, 2.9797322438070033, 1.9916130866126887, 1.9883758243772252, 1.9880158568250812, 1.987996957972745, 1.986857913025473, 1.9862927261709025, 1.986270936905856, 1.9865513069387488, 1.9859905668729632, 1.9863500897462287, 1.9867047211518307, 1.9866244566142617, 1.9874826868497624, 8.037709171338212, 7.033711515536083, 5.022545162689976, 4.022656633789317, 4.021344493317961, 3.0155911388048824, 3.013731395568595, 3.013671580497349, 3.0135327842580835, 3.012679998259926, 3.0133129006863184, 3.0129641198483466, 3.0135637448759467, 2.0134924008983783, 2.011057885375361, 2.0104738459649165, 2.0104618408273778, 2.0096996199018826, 2.009763436685642, 2.009672660996532, 2.0093868544765274, 2.009007113020692, 2.008870422945907, 2.0082726934663393, 2.0082817499736056, 2.008278801343333, 2.0080820855808534, 2.0080820855808534, 2.0076081985727394, 2.007584609530558, 4.002201564354637, 3.009676397094276, 3.0095622429794324, 6.109996719591832, 5.08642509100075, 5.08642509100075, 4.071917406173891, 4.071816441251391, 4.070576411584674, 4.070062913009759, 4.069308625238231, 3.0561002999810016, 3.0526189184264845, 3.0526435524797404, 3.0527885811313036, 3.051970799954904, 3.05199439313267, 3.05199439313267, 3.05199439313267, 2.037555059129634, 2.0351835978056227, 2.0356459200022936, 2.0351969557077405, 2.0346777323176335, 2.0350760406716883, 2.03489614269122, 2.034700805057655, 2.034700805057655, 2.034700805057655, 2.034700805057655, 2.0346543126191157, 2.0346543126191157, 2.0346543126191157, 3.0499074377758415, 2.0346543126191157, 2.035943436913097], \"Total\": [81.0, 44.0, 30.0, 62.0, 34.0, 15.0, 28.0, 11.0, 27.0, 16.0, 26.0, 11.0, 11.0, 11.0, 24.0, 24.0, 22.0, 22.0, 22.0, 10.0, 10.0, 13.0, 13.0, 21.0, 9.0, 20.0, 8.0, 7.0, 19.0, 11.0, 81.05042588664912, 62.937267274461014, 34.33554000689091, 28.608984955263672, 27.666253403899884, 26.693802573786506, 24.803765124313106, 24.796388073447943, 22.889920468889233, 22.887426399337773, 22.885788492583444, 21.932998254514516, 20.021340038995405, 19.075889807888597, 18.11872175649102, 18.12394063724694, 16.21427041116844, 15.257481403987473, 15.25798498358438, 14.30510749189126, 13.352635104268668, 12.397656152563536, 12.396423905523804, 11.445005390222194, 11.445693615549118, 11.441914147086898, 11.444493123988229, 11.444199930929486, 10.497160016584889, 10.49269563108157, 44.11537576113797, 16.657142799641466, 13.721374190902964, 11.76110514970512, 11.761386923496532, 10.778280872509482, 8.823493562287304, 8.82011368936389, 8.819071413509178, 7.842769447066298, 7.841525667531456, 7.839875518678567, 13.717095703126576, 6.863755512664145, 6.8623242497434935, 6.861677901156562, 5.881839267424653, 5.881279968620238, 5.878367424909692, 5.878454463340072, 5.87791963821942, 5.8797282657228225, 4.906182409593939, 4.905072571941041, 4.90068476743543, 4.899578603090687, 4.899198622665705, 3.9226837080889143, 3.9210945432385076, 3.9210318821244425, 4.89854584838796, 10.772530650150001, 7.836344755965296, 6.854765380665818, 5.880240612343571, 5.877943321273322, 5.874758386033438, 5.874370965129101, 4.8967752284964154, 4.895952909176652, 3.9188162602689665, 3.917328631004879, 3.917230964932943, 4.895721463441057, 2.941136573905369, 2.9391240988091845, 2.938501378479004, 2.938755913499146, 2.9383211746509583, 2.9391135867041536, 2.938656063525199, 2.9384460998021904, 2.9381030377025312, 2.9385691947736743, 2.9369996139592693, 1.960974563267421, 1.9612369127890341, 1.960123957988187, 1.9598969554160974, 1.9598576952225484, 1.9597895277892157, 2.9394790022329946, 2.9379351801136555, 2.937757672625021, 1.9612273227099075, 30.661009021266356, 15.82568055910477, 11.87074695871738, 11.871382216521091, 10.877556791883656, 8.902906748094296, 7.913471183805656, 6.926762739841063, 6.919977160140421, 5.936177335509521, 5.934691149281531, 3.95898218480884, 3.9562274837480493, 3.956020124038538, 3.956034685163093, 3.9557452641288, 2.9785257676644292, 2.9692781605106964, 2.9691963799681838, 2.9691682855968606, 2.967838478844341, 2.9667855432627905, 2.9667598592347026, 2.9670643676707287, 2.966546379196316, 2.96876472861412, 2.966463757096417, 1.9803802250347444, 1.9803064566157087, 1.980198274308061, 3.9546818281900458, 1.9803689433400034, 11.812385187856401, 9.838556681683455, 8.853923425100534, 8.853913825934873, 7.874556678437118, 7.871422700148266, 5.9059661002609385, 5.903009129230422, 5.9033575651834225, 5.905884279153863, 4.920868867487417, 4.919158601777871, 4.920030265443014, 3.935459987766271, 3.9356319359208545, 3.9349611477162, 2.956761801461069, 2.954787658605802, 2.953908939695436, 2.953618609550389, 2.9528166683928876, 2.953073517731996, 2.9520258219070032, 2.951772027911524, 2.9515828707027634, 2.951332773042918, 2.951626603561499, 1.9726995493374995, 1.972050092941866, 1.9693234535278707, 2.9513558657325425, 2.951686315272112, 2.9279046036858145, 8.828954542667114, 6.869647733957043, 6.869510245098814, 5.8877768186739585, 5.88697977693278, 5.887265356223756, 5.885043362297837, 4.909824138166945, 4.909082395433177, 4.904106460965048, 3.9270414345453, 3.9259526764613035, 3.925011194760025, 3.9246273415687893, 3.923635469343546, 2.9444449676102815, 2.943811515469886, 2.944070994792712, 2.9434436350490367, 2.943125767311964, 2.9431112464174856, 2.943056177144533, 1.964395767342546, 1.963680640297288, 1.9637557516179591, 1.963129236466129, 1.9628360502988311, 1.9628360502988311, 1.9628360502988311, 1.9633925707989925, 1.96349792805428, 1.9635692555613353, 2.933128069892185, 3.953861665899923, 2.9799046917204377, 11.979811065484048, 6.996901918347232, 5.989864593478554, 4.991868563040006, 3.997497582760028, 3.9968886432519333, 3.994830734531063, 3.9937799924859685, 3.993172097627465, 3.9944493628367526, 3.9925286046165787, 3.993316814546621, 2.9980683671809447, 2.9967260319278144, 2.996075534984144, 2.9952522412024503, 2.9939431497667646, 3.9922658615526245, 2.994579770685586, 2.9945799076977946, 1.9995026912620226, 1.9986092938545037, 1.9984403396082082, 1.9991840683413793, 1.998033937599329, 1.9994780637971572, 1.9979909345370077, 1.997967238837032, 1.997846639043924, 1.9977642372316022, 2.9868434322577655, 7.945093972603989, 6.9582973727287865, 5.960423244092585, 5.958126842729151, 5.95779726018647, 4.974133102500659, 4.968440871676182, 4.966346275393297, 4.9661752311541925, 3.9737058723956475, 3.9731789839458838, 3.97349843078112, 3.9732270864357333, 3.972760231056619, 2.9824029546286472, 2.9807227117182244, 2.980174160776494, 2.979911540353748, 2.979278551801517, 2.9812426306726505, 1.9931177363995844, 1.989880215729986, 1.9895201223830292, 1.9895018588585476, 1.9883625971246595, 1.987797072109168, 1.9877753197078434, 1.9880559281719998, 1.987495106556794, 1.9878549142419595, 1.9882106722954853, 1.9881303936130754, 2.9769443499885697, 8.039212535393212, 7.035213909328495, 5.024047801346576, 4.024159326654064, 4.022846826073749, 3.017093658231547, 3.0152336241906768, 3.0151738954240748, 3.0150352134993357, 3.014182507439607, 3.01481590726611, 3.0144672807367794, 3.015067543619831, 2.0149949686657336, 2.012560118859852, 2.011976476027662, 2.0119646896124364, 2.011201928613582, 2.0112658256502796, 2.011175106926679, 2.0108890925392067, 2.0105096179704662, 2.0103730449216837, 2.009775363027328, 2.009784454293298, 2.0097849133292147, 2.009642058078376, 2.009642058078376, 2.009538961487493, 2.0095415910116663, 4.017512103811019, 3.0136914705840874, 3.0137872080259713, 6.111497255428775, 5.088179732408947, 5.088179732408947, 4.0734175113105735, 4.073316724719174, 4.072076875893127, 4.071563238575635, 4.070869122540785, 3.0576004202327964, 3.0541191052902468, 3.054144023285229, 3.054289325784178, 3.0534719922578675, 3.0535252104584147, 3.0535252104584147, 3.0535252104584147, 2.0390554820301996, 2.0366836024792616, 2.037146606021432, 2.036697646692754, 2.036178259983299, 2.036576906511941, 2.0363972119016793, 2.036212519323576, 2.036212519323576, 2.036212519323576, 2.036212519323576, 2.036210623466548, 2.036210623466548, 2.036210623466548, 3.0538276640498143, 2.036210623466548, 2.0386090300302695], \"Category\": [\"Default\", \"Default\", \"Default\", \"Default\", \"Default\", \"Default\", \"Default\", \"Default\", \"Default\", \"Default\", \"Default\", \"Default\", \"Default\", \"Default\", \"Default\", \"Default\", \"Default\", \"Default\", \"Default\", \"Default\", \"Default\", \"Default\", \"Default\", \"Default\", \"Default\", \"Default\", \"Default\", \"Default\", \"Default\", \"Default\", \"Topic1\", \"Topic1\", \"Topic1\", \"Topic1\", \"Topic1\", \"Topic1\", \"Topic1\", \"Topic1\", \"Topic1\", \"Topic1\", \"Topic1\", \"Topic1\", \"Topic1\", \"Topic1\", \"Topic1\", \"Topic1\", \"Topic1\", \"Topic1\", \"Topic1\", \"Topic1\", \"Topic1\", \"Topic1\", \"Topic1\", \"Topic1\", \"Topic1\", \"Topic1\", \"Topic1\", \"Topic1\", \"Topic1\", \"Topic1\", \"Topic2\", \"Topic2\", \"Topic2\", \"Topic2\", \"Topic2\", \"Topic2\", \"Topic2\", \"Topic2\", \"Topic2\", \"Topic2\", \"Topic2\", \"Topic2\", \"Topic2\", \"Topic2\", \"Topic2\", \"Topic2\", \"Topic2\", \"Topic2\", \"Topic2\", \"Topic2\", \"Topic2\", \"Topic2\", \"Topic2\", \"Topic2\", \"Topic2\", \"Topic2\", \"Topic2\", \"Topic2\", \"Topic2\", \"Topic2\", \"Topic2\", \"Topic3\", \"Topic3\", \"Topic3\", \"Topic3\", \"Topic3\", \"Topic3\", \"Topic3\", \"Topic3\", \"Topic3\", \"Topic3\", \"Topic3\", \"Topic3\", \"Topic3\", \"Topic3\", \"Topic3\", \"Topic3\", \"Topic3\", \"Topic3\", \"Topic3\", \"Topic3\", \"Topic3\", \"Topic3\", \"Topic3\", \"Topic3\", \"Topic3\", \"Topic3\", \"Topic3\", \"Topic3\", \"Topic3\", \"Topic3\", \"Topic3\", \"Topic3\", \"Topic3\", \"Topic3\", \"Topic4\", \"Topic4\", \"Topic4\", \"Topic4\", \"Topic4\", \"Topic4\", \"Topic4\", \"Topic4\", \"Topic4\", \"Topic4\", \"Topic4\", \"Topic4\", \"Topic4\", \"Topic4\", \"Topic4\", \"Topic4\", \"Topic4\", \"Topic4\", \"Topic4\", \"Topic4\", \"Topic4\", \"Topic4\", \"Topic4\", \"Topic4\", \"Topic4\", \"Topic4\", \"Topic4\", \"Topic4\", \"Topic4\", \"Topic4\", \"Topic4\", \"Topic4\", \"Topic5\", \"Topic5\", \"Topic5\", \"Topic5\", \"Topic5\", \"Topic5\", \"Topic5\", \"Topic5\", \"Topic5\", \"Topic5\", \"Topic5\", \"Topic5\", \"Topic5\", \"Topic5\", \"Topic5\", \"Topic5\", \"Topic5\", \"Topic5\", \"Topic5\", \"Topic5\", \"Topic5\", \"Topic5\", \"Topic5\", \"Topic5\", \"Topic5\", \"Topic5\", \"Topic5\", \"Topic5\", \"Topic5\", \"Topic5\", \"Topic5\", \"Topic5\", \"Topic5\", \"Topic6\", \"Topic6\", \"Topic6\", \"Topic6\", \"Topic6\", \"Topic6\", \"Topic6\", \"Topic6\", \"Topic6\", \"Topic6\", \"Topic6\", \"Topic6\", \"Topic6\", \"Topic6\", \"Topic6\", \"Topic6\", \"Topic6\", \"Topic6\", \"Topic6\", \"Topic6\", \"Topic6\", \"Topic6\", \"Topic6\", \"Topic6\", \"Topic6\", \"Topic6\", \"Topic6\", \"Topic6\", \"Topic6\", \"Topic6\", \"Topic6\", \"Topic6\", \"Topic6\", \"Topic6\", \"Topic6\", \"Topic7\", \"Topic7\", \"Topic7\", \"Topic7\", \"Topic7\", \"Topic7\", \"Topic7\", \"Topic7\", \"Topic7\", \"Topic7\", \"Topic7\", \"Topic7\", \"Topic7\", \"Topic7\", \"Topic7\", \"Topic7\", \"Topic7\", \"Topic7\", \"Topic7\", \"Topic7\", \"Topic7\", \"Topic7\", \"Topic7\", \"Topic7\", \"Topic7\", \"Topic7\", \"Topic7\", \"Topic7\", \"Topic7\", \"Topic7\", \"Topic7\", \"Topic8\", \"Topic8\", \"Topic8\", \"Topic8\", \"Topic8\", \"Topic8\", \"Topic8\", \"Topic8\", \"Topic8\", \"Topic8\", \"Topic8\", \"Topic8\", \"Topic8\", \"Topic8\", \"Topic8\", \"Topic8\", \"Topic8\", \"Topic8\", \"Topic8\", \"Topic8\", \"Topic8\", \"Topic8\", \"Topic8\", \"Topic8\", \"Topic8\", \"Topic8\", \"Topic8\", \"Topic8\", \"Topic8\", \"Topic8\", \"Topic8\", \"Topic8\", \"Topic8\", \"Topic9\", \"Topic9\", \"Topic9\", \"Topic9\", \"Topic9\", \"Topic9\", \"Topic9\", \"Topic9\", \"Topic9\", \"Topic9\", \"Topic9\", \"Topic9\", \"Topic9\", \"Topic9\", \"Topic9\", \"Topic9\", \"Topic9\", \"Topic9\", \"Topic9\", \"Topic9\", \"Topic9\", \"Topic9\", \"Topic9\", \"Topic9\", \"Topic9\", \"Topic9\", \"Topic9\", \"Topic9\", \"Topic9\", \"Topic9\", \"Topic9\", \"Topic9\", \"Topic9\", \"Topic10\", \"Topic10\", \"Topic10\", \"Topic10\", \"Topic10\", \"Topic10\", \"Topic10\", \"Topic10\", \"Topic10\", \"Topic10\", \"Topic10\", \"Topic10\", \"Topic10\", \"Topic10\", \"Topic10\", \"Topic10\", \"Topic10\", \"Topic10\", \"Topic10\", \"Topic10\", \"Topic10\", \"Topic10\", \"Topic10\", \"Topic10\", \"Topic10\", \"Topic10\", \"Topic10\", \"Topic10\", \"Topic10\", \"Topic10\", \"Topic10\", \"Topic10\", \"Topic10\"], \"logprob\": [30.0, 29.0, 28.0, 27.0, 26.0, 25.0, 24.0, 23.0, 22.0, 21.0, 20.0, 19.0, 18.0, 17.0, 16.0, 15.0, 14.0, 13.0, 12.0, 11.0, 10.0, 9.0, 8.0, 7.0, 6.0, 5.0, 4.0, 3.0, 2.0, 1.0, -2.7595999240875244, -3.012500047683716, -3.618499994277954, -3.8010001182556152, -3.8345000743865967, -3.870300054550171, -3.943700075149536, -3.944000005722046, -4.02400016784668, -4.024099826812744, -4.024199962615967, -4.066699981689453, -4.157899856567383, -4.206299781799316, -4.257800102233887, -4.257500171661377, -4.368800163269043, -4.429699897766113, -4.429599761962891, -4.494100093841553, -4.563000202178955, -4.63730001449585, -4.637400150299072, -4.717199802398682, -4.717199802398682, -4.71750020980835, -4.717299938201904, -4.717299938201904, -4.803699970245361, -4.804100036621094, -2.635200023651123, -3.6092000007629395, -3.803100109100342, -3.9572999477386475, -3.9572999477386475, -4.044600009918213, -4.244699954986572, -4.245100021362305, -4.245200157165527, -4.362599849700928, -4.36269998550415, -4.36299991607666, -3.8036000728607178, -4.4959001541137695, -4.496200084686279, -4.496200084686279, -4.650400161743164, -4.6504998207092285, -4.651000022888184, -4.650899887084961, -4.651000022888184, -4.650700092315674, -4.8317999839782715, -4.831999778747559, -4.832900047302246, -4.833099842071533, -4.833199977874756, -5.055600166320801, -5.056000232696533, -5.056000232696533, -4.833600044250488, -3.5109000205993652, -3.829200029373169, -3.963099956512451, -4.116499900817871, -4.1168999671936035, -4.117400169372559, -4.117499828338623, -4.299499988555908, -4.299699783325195, -4.52239990234375, -4.522799968719482, -4.522799968719482, -4.299900054931641, -4.809500217437744, -4.810200214385986, -4.810400009155273, -4.810299873352051, -4.810500144958496, -4.810200214385986, -4.810400009155273, -4.810400009155273, -4.8105998039245605, -4.810400009155273, -4.8109002113342285, -5.215099811553955, -5.215000152587891, -5.21560001373291, -5.215700149536133, -5.215700149536133, -5.215700149536133, -4.810999870300293, -4.813799858093262, -4.8144001960754395, -5.2154998779296875, -2.433000087738037, -3.094399929046631, -3.381999969482422, -3.3819000720977783, -3.4693000316619873, -3.6696999073028564, -3.7874999046325684, -3.9207000732421875, -3.9217000007629395, -4.075099945068359, -4.075300216674805, -4.480299949645996, -4.480999946594238, -4.480999946594238, -4.480999946594238, -4.481100082397461, -4.764999866485596, -4.768099784851074, -4.768099784851074, -4.768099784851074, -4.768599987030029, -4.768899917602539, -4.768899917602539, -4.768799781799316, -4.769000053405762, -4.7683000564575195, -4.769100189208984, -5.173399925231934, -5.173399925231934, -5.173500061035156, -4.481800079345703, -5.173399925231934, -3.3752999305725098, -3.5580999851226807, -3.663599967956543, -3.663599967956543, -3.7808001041412354, -3.7811999320983887, -4.068600177764893, -4.0690999031066895, -4.068999767303467, -4.068600177764893, -4.251100063323975, -4.251500129699707, -4.251299858093262, -4.474599838256836, -4.474599838256836, -4.474800109863281, -4.760700225830078, -4.76140022277832, -4.76170015335083, -4.7617998123168945, -4.76200008392334, -4.76200008392334, -4.76230001449585, -4.762400150299072, -4.762499809265137, -4.762499809265137, -4.762499809265137, -5.1656999588012695, -5.165999889373779, -5.167399883270264, -4.764599800109863, -4.769999980926514, -5.059599876403809, -3.6203999519348145, -3.8714001178741455, -3.8714001178741455, -4.025599956512451, -4.0258002281188965, -4.025700092315674, -4.026100158691406, -4.207300186157227, -4.207499980926514, -4.208499908447266, -4.430699825286865, -4.431000232696533, -4.431300163269043, -4.431399822235107, -4.431700229644775, -4.718800067901611, -4.719099998474121, -4.718999862670898, -4.719200134277344, -4.719299793243408, -4.719299793243408, -4.7195000648498535, -5.123799800872803, -5.124199867248535, -5.124199867248535, -5.124499797821045, -5.124599933624268, -5.124599933624268, -5.124599933624268, -5.124300003051758, -5.124300003051758, -5.124300003051758, -4.844399929046631, -4.821899890899658, -5.123799800872803, -3.0371999740600586, -3.575000047683716, -3.7304999828338623, -3.9128000736236572, -4.135000228881836, -4.1350998878479, -4.135700225830078, -4.135900020599365, -4.136099815368652, -4.135799884796143, -4.136199951171875, -4.136000156402588, -4.422800064086914, -4.423299789428711, -4.423500061035156, -4.423799991607666, -4.424200057983398, -4.136600017547607, -4.424200057983398, -4.424200057983398, -4.828100204467773, -4.82859992980957, -4.828700065612793, -4.8282999992370605, -4.82889986038208, -4.828199863433838, -4.82889986038208, -4.82889986038208, -4.828999996185303, -4.828999996185303, -4.74429988861084, -3.4030001163482666, -3.535599946975708, -3.690500020980835, -3.6909000873565674, -3.6909000873565674, -3.8714001178741455, -3.8726000785827637, -3.872999906539917, -3.872999906539917, -4.0960001945495605, -4.096199989318848, -4.096099853515625, -4.096199989318848, -4.09630012512207, -4.3831000328063965, -4.383699893951416, -4.383900165557861, -4.383999824523926, -4.384200096130371, -4.383500099182129, -4.786399841308594, -4.788000106811523, -4.7881999015808105, -4.7881999015808105, -4.78879976272583, -4.789100170135498, -4.789100170135498, -4.789000034332275, -4.7891998291015625, -4.789100170135498, -4.788899898529053, -4.788899898529053, -4.78849983215332, -3.3369998931884766, -3.4704999923706055, -3.807300090789795, -4.029200077056885, -4.029600143432617, -4.317399978637695, -4.317999839782715, -4.317999839782715, -4.3180999755859375, -4.318399906158447, -4.3180999755859375, -4.318299770355225, -4.3180999755859375, -4.72130012512207, -4.722499847412109, -4.722799777984619, -4.722799777984619, -4.723199844360352, -4.723199844360352, -4.723199844360352, -4.723400115966797, -4.723499774932861, -4.723599910736084, -4.723899841308594, -4.723899841308594, -4.723899841308594, -4.723999977111816, -4.723999977111816, -4.7241997718811035, -4.724299907684326, -4.034299850463867, -4.319399833679199, -4.319399833679199, -3.41729998588562, -3.600600004196167, -3.600600004196167, -3.8231000900268555, -3.8231000900268555, -3.8234000205993652, -3.823499917984009, -3.823699951171875, -4.110099792480469, -4.111199855804443, -4.111199855804443, -4.111199855804443, -4.111400127410889, -4.111400127410889, -4.111400127410889, -4.111400127410889, -4.515500068664551, -4.516600131988525, -4.51639986038208, -4.516600131988525, -4.516900062561035, -4.51669979095459, -4.5167999267578125, -4.516900062561035, -4.516900062561035, -4.516900062561035, -4.516900062561035, -4.516900062561035, -4.516900062561035, -4.516900062561035, -4.112100124359131, -4.516900062561035, -4.516200065612793], \"loglift\": [30.0, 29.0, 28.0, 27.0, 26.0, 25.0, 24.0, 23.0, 22.0, 21.0, 20.0, 19.0, 18.0, 17.0, 16.0, 15.0, 14.0, 13.0, 12.0, 11.0, 10.0, 9.0, 8.0, 7.0, 6.0, 5.0, 4.0, 3.0, 2.0, 1.0, 1.1836, 1.1836, 1.1836, 1.1836, 1.1836, 1.1836, 1.1836, 1.1836, 1.1836, 1.1836, 1.1836, 1.1836, 1.1836, 1.1836, 1.1836, 1.1836, 1.1836, 1.1836, 1.1836, 1.1836, 1.1835, 1.1835, 1.1835, 1.1835, 1.1835, 1.1835, 1.1835, 1.1835, 1.1835, 1.1835, 1.9163, 1.9162, 1.9162, 1.9162, 1.9162, 1.9162, 1.9162, 1.9162, 1.9162, 1.9161, 1.9161, 1.9161, 1.9161, 1.9161, 1.9161, 1.9161, 1.9161, 1.9161, 1.9161, 1.9161, 1.9161, 1.9161, 1.916, 1.916, 1.916, 1.916, 1.916, 1.9159, 1.9159, 1.9159, 1.9157, 2.4504, 2.4503, 2.4503, 2.4502, 2.4502, 2.4502, 2.4502, 2.4502, 2.4502, 2.4501, 2.4501, 2.4501, 2.4501, 2.45, 2.45, 2.45, 2.45, 2.45, 2.45, 2.45, 2.45, 2.45, 2.45, 2.45, 2.4497, 2.4497, 2.4497, 2.4497, 2.4497, 2.4497, 2.4491, 2.4468, 2.4462, 2.4492, 2.4823, 2.4823, 2.4823, 2.4823, 2.4823, 2.4822, 2.4822, 2.4822, 2.4822, 2.4821, 2.4821, 2.482, 2.482, 2.482, 2.482, 2.482, 2.4819, 2.4819, 2.4819, 2.4819, 2.4819, 2.4819, 2.4819, 2.4819, 2.4819, 2.4819, 2.4819, 2.4816, 2.4816, 2.4816, 2.4816, 2.4816, 2.4939, 2.4939, 2.4938, 2.4938, 2.4938, 2.4938, 2.4938, 2.4938, 2.4938, 2.4938, 2.4937, 2.4937, 2.4937, 2.4936, 2.4936, 2.4936, 2.4935, 2.4935, 2.4935, 2.4935, 2.4935, 2.4935, 2.4935, 2.4935, 2.4935, 2.4935, 2.4934, 2.4933, 2.4933, 2.4932, 2.4914, 2.4859, 2.2044, 2.5399, 2.5398, 2.5398, 2.5398, 2.5398, 2.5398, 2.5398, 2.5398, 2.5398, 2.5398, 2.5397, 2.5397, 2.5397, 2.5397, 2.5396, 2.5395, 2.5395, 2.5395, 2.5395, 2.5395, 2.5395, 2.5393, 2.5393, 2.5393, 2.5393, 2.5393, 2.5393, 2.5393, 2.5393, 2.5393, 2.5393, 2.5393, 2.4178, 2.1417, 2.1226, 2.8179, 2.8178, 2.8178, 2.8177, 2.8176, 2.8176, 2.8176, 2.8176, 2.8176, 2.8176, 2.8176, 2.8176, 2.8175, 2.8175, 2.8175, 2.8175, 2.8175, 2.8174, 2.8173, 2.8173, 2.8173, 2.8173, 2.8173, 2.8173, 2.8173, 2.8173, 2.8173, 2.8173, 2.8173, 2.8173, 2.4998, 2.8628, 2.8627, 2.8627, 2.8627, 2.8627, 2.8626, 2.8626, 2.8626, 2.8626, 2.8626, 2.8626, 2.8626, 2.8626, 2.8626, 2.8624, 2.8624, 2.8624, 2.8624, 2.8624, 2.8624, 2.8622, 2.8622, 2.8622, 2.8622, 2.8622, 2.8622, 2.8622, 2.8622, 2.8622, 2.8622, 2.8622, 2.8622, 2.4589, 2.9169, 2.9169, 2.9168, 2.9167, 2.9167, 2.9166, 2.9166, 2.9166, 2.9166, 2.9166, 2.9166, 2.9166, 2.9166, 2.9164, 2.9164, 2.9164, 2.9164, 2.9164, 2.9164, 2.9164, 2.9164, 2.9164, 2.9164, 2.9164, 2.9164, 2.9164, 2.9163, 2.9163, 2.9162, 2.9161, 2.9133, 2.9158, 2.9157, 3.1109, 3.1108, 3.1108, 3.1107, 3.1107, 3.1107, 3.1107, 3.1107, 3.1106, 3.1106, 3.1106, 3.1106, 3.1106, 3.1106, 3.1106, 3.1106, 3.1104, 3.1104, 3.1104, 3.1104, 3.1104, 3.1104, 3.1104, 3.1104, 3.1104, 3.1104, 3.1104, 3.1103, 3.1103, 3.1103, 3.1098, 3.1103, 3.1098]}, \"token.table\": {\"Topic\": [5, 3, 7, 5, 9, 8, 8, 3, 2, 8, 2, 4, 10, 9, 10, 5, 10, 4, 9, 2, 5, 5, 1, 1, 2, 6, 4, 3, 5, 7, 10, 6, 7, 10, 6, 4, 6, 2, 2, 3, 9, 7, 9, 6, 6, 8, 8, 3, 10, 6, 7, 7, 4, 8, 10, 6, 6, 2, 2, 4, 10, 9, 5, 2, 10, 3, 5, 7, 8, 8, 2, 9, 10, 8, 7, 10, 9, 5, 5, 6, 4, 4, 9, 7, 5, 3, 1, 4, 8, 4, 10, 3, 5, 9, 6, 10, 3, 2, 2, 1, 1, 9, 1, 4, 3, 10, 4, 4, 3, 8, 8, 2, 6, 2, 6, 7, 5, 9, 7, 9, 8, 4, 6, 2, 1, 9, 1, 6, 8, 8, 10, 1, 2, 4, 9, 7, 9, 8, 7, 10, 6, 3, 5, 6, 8, 4, 5, 2, 8, 2, 10, 5, 10, 9, 3, 3, 7, 3, 5, 10, 9, 5, 8, 10, 5, 3, 2, 7, 2, 8, 2, 7, 5, 4, 8, 1, 6, 4, 7, 1, 4, 3, 5, 2, 6, 9, 10, 9, 2, 9, 5, 8, 3, 7, 1, 8, 1, 1, 7, 5, 3, 10, 1, 9, 6, 10, 1, 10, 2, 8, 7, 7, 4, 7, 7, 4, 8, 6, 6, 9, 6, 2, 4, 6, 9, 7, 6, 1, 2, 4, 3, 4, 2, 3, 10, 8, 10, 10, 7, 5, 3, 3, 10, 6, 10, 7, 4, 3, 6, 3, 6, 9, 7, 4, 6, 10, 9, 7, 6, 1, 6, 1, 5, 9, 5, 1, 2, 2, 4, 1, 5, 9, 10, 3, 3, 8, 6, 2, 8, 6, 4, 10, 8, 9, 1, 1, 1, 3, 8, 6, 4, 8, 4, 7, 9, 1, 1, 1, 3, 5, 1, 3, 3, 8, 5, 8, 9, 4, 7, 5, 4, 9, 6, 5, 7, 3, 9, 5, 4, 1, 2, 9, 10, 10, 1, 5, 3, 1, 3, 4], \"Freq\": [1.0155772005950443, 1.0208748268421768, 1.001005542832184, 1.0163707574459917, 0.9943986391522179, 1.0064673202260612, 1.0059002910200456, 1.0203436327836841, 1.020158640617643, 1.0066525773843835, 1.0206764443644032, 1.0111954356837944, 0.9824710107926768, 0.9956410576101545, 0.9822997261373366, 1.0164996155301638, 0.9823737060596173, 1.0115640323671176, 0.9950856345057748, 0.9973846814370874, 1.0163386506926821, 1.015603412713635, 0.9611179396558104, 0.9902276181815236, 1.020424365277221, 1.01845659693278, 1.010905792305023, 1.0211870189141103, 1.0164819616747178, 1.0004427790597785, 0.9822157466473068, 1.0191053735948796, 1.0002487162133618, 0.9817561473451153, 1.0181247756940648, 1.0107514753827684, 1.0186449871235432, 1.019352910006262, 1.0197100499720773, 1.0209285665037966, 0.994994621374369, 1.0018099674977023, 0.995202101767518, 1.0195336942525566, 1.0184955531757005, 1.005200282534928, 1.0066170291533179, 1.0207163935074266, 0.9822322727364766, 1.019324431636498, 1.0006259959357484, 1.0016735925957676, 1.0099128279738057, 1.006738329569852, 0.9822166611600812, 1.0192050484979505, 1.0187816282540028, 1.0204959252711991, 1.0201860873845823, 1.0072096849282621, 0.9822166611600812, 0.9949477798110037, 1.0160807236777654, 1.0207693145355015, 0.9822157466473068, 1.0214505939126775, 1.0164037844838518, 1.0006958369250922, 1.0067763548372466, 1.005852756882557, 1.0206915570766957, 0.9939964288953361, 0.9826696899389599, 1.0070836146264248, 1.0013895875649066, 0.9822157466473068, 0.9951223412466612, 1.016433988973828, 1.0146234974077266, 1.0189971659332304, 1.0099070747714174, 1.0110642060983008, 0.9925583096241363, 1.0017098943410407, 1.0159790928140462, 1.0211156836993387, 0.9989341353299109, 1.0112769586338803, 1.0068110300727238, 1.0114593724043521, 0.9821266638507671, 1.0210669814853972, 1.015703242896574, 0.99496748912323, 1.0189751019398883, 0.9819817896130313, 1.0203664093957372, 1.0205709175807454, 1.0201396265701292, 0.9611609601952096, 1.0049185783800263, 0.9952518569138632, 0.9993778455067016, 1.0111874584727454, 1.0208841301820117, 0.9817653742191979, 1.0110560933757438, 1.0108366817752772, 1.0204618127871874, 1.006149930613865, 1.006291795620512, 1.019122320079784, 1.0188677434969373, 1.0204553218859327, 1.0195537229459088, 1.0018100133339154, 1.0159302074625207, 0.9947726596895988, 1.0011191324415216, 0.9954252881592786, 1.0059932229160908, 1.01110041045558, 1.0191488979950711, 1.0202655827251959, 0.9680211076561234, 0.99545691033149, 0.9830918051196184, 1.0193485341182702, 1.006291785776957, 1.0059702353653743, 0.9824710107926768, 0.99602168975325, 1.0198498456252518, 1.0103465683673165, 0.9951315902198385, 1.0016289365109088, 0.9943207317947903, 1.0060079154005404, 1.0007784446918029, 0.9825911567266126, 1.0189954960754715, 1.020715910256508, 1.0141730208366253, 1.019060366040049, 1.0063519178629514, 1.0109343692779749, 1.0165284611060386, 1.0200041442164254, 1.0052767687020285, 1.0207110752358124, 0.9826696899389599, 1.0164307505962171, 0.9824881340344871, 0.9940532308175144, 1.0213185982702386, 1.0209477724304534, 1.0013098685163413, 1.0211253196824932, 1.016251273189069, 0.9824710107926768, 0.9952531592219382, 1.0163346963757025, 1.0061389203465745, 0.9822252183753942, 1.0138391326097627, 1.0207122595522524, 1.0206242125152587, 1.0010778409683672, 1.020515605102559, 1.006109643953906, 1.0200478356523046, 1.0007804388056425, 1.0163996108293205, 0.3359149122165618, 0.6718298244331236, 1.0120633101717007, 1.0185903287312819, 1.0108342719603378, 1.0015574236752485, 1.0048090831621883, 1.0103606970873855, 1.021385955299154, 1.016355204228234, 1.0200890788073307, 1.0193294608390229, 0.9943343958895972, 0.9822166611600812, 0.9951313629312671, 1.0205750746393394, 0.9950025850493083, 1.0163681636757644, 1.0067412939525942, 1.0197646123006332, 1.0010174146619897, 0.9831242524785132, 1.005929616950956, 0.967924892603082, 0.9735905982965164, 1.0009839985015636, 1.0164092481793703, 1.0200138363573064, 0.9820007306885206, 0.9610601479893156, 0.995202101767518, 1.019198337237385, 0.9811615605977674, 0.9934475644536852, 0.9819885609946452, 1.0203059697389318, 1.0070279063162186, 1.0020230344833727, 1.0002610362235491, 1.0112564990888124, 1.0006442924518335, 1.001293988609894, 1.0110149727996969, 1.0067505179511143, 1.0193732402297786, 0.7587518870155467, 0.25291729567184895, 1.018520284901187, 1.02012332421251, 1.0108883663119197, 1.018860982197432, 0.9940474075266985, 1.001871344234023, 1.018366413805347, 0.9611855845222543, 1.0200625539170132, 1.0105213023736177, 1.0205890219732918, 1.0111134806279116, 1.020312279097417, 1.0212516526922326, 0.9822166611600812, 1.0069551899354807, 0.9824236455674774, 0.9822157466473068, 1.0004081323333562, 1.016253911102676, 1.0212999324691254, 1.0211294753380655, 0.9810610914297303, 1.0194626976061134, 0.9820400072322404, 1.0015850948151344, 1.0112041898712598, 1.020765201713486, 1.018933802288536, 1.0209050055161477, 1.018933802288536, 0.9950132544283338, 1.0016852464872439, 1.0113051247713232, 0.671162405145685, 0.3355812025728425, 0.9944434938120551, 1.001692092761576, 1.0185533279946626, 0.9786714296230065, 1.0185785066622675, 0.953043941385081, 1.0153013842678398, 0.9952134608790684, 1.0158907260473637, 0.9613776033095469, 1.0203950104240758, 1.0202096300117618, 1.0099998701891901, 0.3415411822984747, 0.6830823645969494, 0.9952007172778988, 0.9819764335213081, 1.0205177503199259, 1.0210801530980789, 1.0050856248481779, 1.0192143529699427, 1.0205831939176215, 1.006669580894655, 1.0190869844196344, 1.0103839565283992, 0.9822719482537735, 1.0066399237582062, 0.9951360917209158, 0.9931614961818941, 1.0114707309071875, 1.0009967500696435, 1.019769598781909, 1.0069106831946024, 1.018933802288536, 1.0111172022847459, 1.003453014076754, 1.0103743963314904, 1.0019372804105706, 0.9945849362952898, 0.9526386169402575, 1.0079114954807624, 1.0136675609200314, 1.0204822548470251, 1.0164899151331228, 1.008211354248407, 1.020840140625334, 1.0211040167375272, 1.0068566355277213, 1.016388724908541, 1.0052675403978413, 0.9948402387567389, 0.33480161336883213, 0.6696032267376643, 1.0159218488800514, 1.0105730862900346, 0.995294741640693, 1.0227988442762654, 1.015935923631003, 1.001092514977113, 1.0199010417899323, 0.9937591335820729, 1.0158828897940506, 1.0110045913217194, 0.9867850723014433, 1.0202878349343965, 0.9944302317662832, 0.9808462877178242, 0.9822799624295911, 1.0049904991236622, 1.0164985134709144, 1.020991178868106, 1.0030548374968158, 1.0211873946472074, 1.0099446948317015], \"Term\": [\"adult\", \"adventure\", \"alert\", \"amaze\", \"angeles\", \"anxiety\", \"apple\", \"architecture\", \"artist\", \"award\", \"babe\", \"bag\", \"baggy\", \"bali\", \"ball\", \"ballet\", \"band\", \"base\", \"beautiful\", \"beauty\", \"biolage\", \"birthday\", \"blog\", \"blogger\", \"blonde\", \"board\", \"body\", \"boho\", \"boohoo\", \"book\", \"bootleg\", \"boutique\", \"boy\", \"brand\", \"break\", \"breakfast\", \"bride\", \"brow\", \"brush\", \"building\", \"business\", \"butter\", \"cabos\", \"caftan\", \"canon\", \"care\", \"cat\", \"celebrate\", \"center\", \"ceremony\", \"change\", \"child\", \"chocolate\", \"choice\", \"chronic\", \"club\", \"cocktail\", \"cocoa\", \"code\", \"coffee\", \"colitis\", \"comme\", \"comment\", \"community\", \"concert\", \"copy\", \"costume\", \"count\", \"country\", \"couple\", \"craft\", \"create\", \"crohn\", \"crush\", \"culture\", \"dagger\", \"dance\", \"dancer\", \"decor\", \"designer\", \"dinner\", \"dish\", \"disney\", \"diwali\", \"dog\", \"dream\", \"dress\", \"dubai\", \"earth\", \"eiffel\", \"email\", \"embrace\", \"enjoy\", \"enter\", \"event\", \"example\", \"experience\", \"eye\", \"eyeshadow\", \"face\", \"fall\", \"fan\", \"fashion\", \"feature\", \"film\", \"fitness\", \"food\", \"foodie\", \"forbes\", \"forget\", \"form\", \"foundation\", \"fountain\", \"fragrance\", \"france\", \"freezer\", \"friend\", \"future\", \"garden\", \"generosity\", \"gift\", \"ginger\", \"glam\", \"glitter\", \"goal\", \"graffiti\", \"gram\", \"grease\", \"groom\", \"grow\", \"gypsy\", \"hair\", \"halloween\", \"hand\", \"hank\", \"happiness\", \"heart\", \"heat\", \"help\", \"hendrix\", \"holiday\", \"hollywood\", \"host\", \"hotel\", \"hour\", \"house\", \"huawei\", \"huda\", \"husband\", \"hydro\", \"illness\", \"illustration\", \"india\", \"island\", \"italy\", \"item\", \"jean\", \"jennifer\", \"jewelry\", \"jimi\", \"join\", \"joker\", \"jones\", \"journey\", \"kid\", \"kirk\", \"knit\", \"label\", \"lace\", \"lady\", \"lash\", \"learn\", \"leopard\", \"level\", \"level\", \"life\", \"light\", \"link\", \"lot\", \"love\", \"lover\", \"macy\", \"maker\", \"makeup\", \"manufacture\", \"market\", \"marquis\", \"matter\", \"medium\", \"message\", \"methodology\", \"mile\", \"mind\", \"mini\", \"model\", \"moisture\", \"month\", \"morning\", \"mother\", \"movie\", \"music\", \"nature\", \"night\", \"nobu\", \"number\", \"october\", \"outfit\", \"pakistan\", \"palette\", \"paper\", \"para\", \"parent\", \"paris\", \"party\", \"patch\", \"people\", \"person\", \"photographer\", \"photoshoot\", \"photoshoot\", \"picture\", \"pixi\", \"place\", \"plan\", \"point\", \"pool\", \"portrait\", \"post\", \"powder\", \"power\", \"princess\", \"problem\", \"product\", \"quality\", \"rash\", \"reason\", \"record\", \"rehearsal\", \"release\", \"repost\", \"resort\", \"rest\", \"restaurant\", \"ribbon\", \"road\", \"roll\", \"rom\", \"room\", \"roseville\", \"rule\", \"sacramento\", \"saint\", \"sale\", \"sanderson\", \"sarah\", \"sarah\", \"schedule\", \"series\", \"session\", \"share\", \"shoot\", \"shop\", \"shot\", \"sign\", \"sister\", \"size\", \"skin\", \"skincare\", \"sleep\", \"solo\", \"solo\", \"song\", \"soul\", \"space\", \"sponsor\", \"sport\", \"spring\", \"star\", \"state\", \"status\", \"stay\", \"stone\", \"store\", \"storm\", \"story\", \"street\", \"style\", \"suit\", \"support\", \"svitlanavronska\", \"sweet\", \"talk\", \"taste\", \"tbsp\", \"temple\", \"thing\", \"time\", \"today\", \"tomorrow\", \"trade\", \"travel\", \"traveler\", \"traveller\", \"treat\", \"trevor\", \"trust\", \"vegan\", \"veggie\", \"veggie\", \"vibe\", \"video\", \"view\", \"villa\", \"visit\", \"wait\", \"walk\", \"wall\", \"watch\", \"water\", \"week\", \"weekend\", \"werbung\", \"wine\", \"winner\", \"woman\", \"word\", \"writer\", \"year\", \"york\", \"yummy\"]}, \"R\": 30, \"lambda.step\": 0.01, \"plot.opts\": {\"xlab\": \"PC1\", \"ylab\": \"PC2\"}, \"topic.order\": [1, 9, 3, 5, 10, 6, 7, 4, 8, 2]};\n",
       "\n",
       "function LDAvis_load_lib(url, callback){\n",
       "  var s = document.createElement('script');\n",
       "  s.src = url;\n",
       "  s.async = true;\n",
       "  s.onreadystatechange = s.onload = callback;\n",
       "  s.onerror = function(){console.warn(\"failed to load library \" + url);};\n",
       "  document.getElementsByTagName(\"head\")[0].appendChild(s);\n",
       "}\n",
       "\n",
       "if(typeof(LDAvis) !== \"undefined\"){\n",
       "   // already loaded: just create the visualization\n",
       "   !function(LDAvis){\n",
       "       new LDAvis(\"#\" + \"ldavis_el1876023608388570324433315270\", ldavis_el1876023608388570324433315270_data);\n",
       "   }(LDAvis);\n",
       "}else if(typeof define === \"function\" && define.amd){\n",
       "   // require.js is available: use it to load d3/LDAvis\n",
       "   require.config({paths: {d3: \"https://cdnjs.cloudflare.com/ajax/libs/d3/3.5.5/d3.min\"}});\n",
       "   require([\"d3\"], function(d3){\n",
       "      window.d3 = d3;\n",
       "      LDAvis_load_lib(\"https://cdn.rawgit.com/bmabey/pyLDAvis/files/ldavis.v1.0.0.js\", function(){\n",
       "        new LDAvis(\"#\" + \"ldavis_el1876023608388570324433315270\", ldavis_el1876023608388570324433315270_data);\n",
       "      });\n",
       "    });\n",
       "}else{\n",
       "    // require.js not available: dynamically load d3 & LDAvis\n",
       "    LDAvis_load_lib(\"https://cdnjs.cloudflare.com/ajax/libs/d3/3.5.5/d3.min.js\", function(){\n",
       "         LDAvis_load_lib(\"https://cdn.rawgit.com/bmabey/pyLDAvis/files/ldavis.v1.0.0.js\", function(){\n",
       "                 new LDAvis(\"#\" + \"ldavis_el1876023608388570324433315270\", ldavis_el1876023608388570324433315270_data);\n",
       "            })\n",
       "         });\n",
       "}\n",
       "</script>"
      ],
      "text/plain": [
       "PreparedData(topic_coordinates=              x         y  topics  cluster       Freq\n",
       "topic                                                \n",
       "0      0.422026  0.180361       1        1  30.615545\n",
       "8      0.122764 -0.387054       2        1  14.714680\n",
       "2     -0.081586  0.124773       3        1   8.625012\n",
       "4     -0.058878 -0.070605       4        1   8.354260\n",
       "9      0.013862 -0.095440       5        1   8.257783\n",
       "5     -0.060990  0.112942       6        1   7.886167\n",
       "6     -0.060438 -0.004255       7        1   5.972413\n",
       "3     -0.084541  0.017268       8        1   5.710001\n",
       "7     -0.096265  0.049954       9        1   5.408938\n",
       "1     -0.115954  0.072057      10        1   4.455200, topic_info=             Term       Freq      Total Category  logprob  loglift\n",
       "25        fashion  81.000000  81.000000  Default  30.0000  30.0000\n",
       "0          beauty  44.000000  44.000000  Default  29.0000  29.0000\n",
       "330          food  30.000000  30.000000  Default  28.0000  28.0000\n",
       "34          style  62.000000  62.000000  Default  27.0000  27.0000\n",
       "42        blogger  34.000000  34.000000  Default  26.0000  26.0000\n",
       "...           ...        ...        ...      ...      ...      ...\n",
       "11035     colitis   2.034654   2.036211  Topic10  -4.5169   3.1103\n",
       "23020        rash   2.034654   2.036211  Topic10  -4.5169   3.1103\n",
       "359          band   3.049907   3.053828  Topic10  -4.1121   3.1098\n",
       "5657      chronic   2.034654   2.036211  Topic10  -4.5169   3.1103\n",
       "1819   restaurant   2.035943   2.038609  Topic10  -4.5162   3.1098\n",
       "\n",
       "[355 rows x 6 columns], token_table=      Topic      Freq       Term\n",
       "term                            \n",
       "2971      5  1.015577      adult\n",
       "531       3  1.020875  adventure\n",
       "1876      7  1.001006      alert\n",
       "704       5  1.016371      amaze\n",
       "1588      9  0.994399    angeles\n",
       "...     ...       ...        ...\n",
       "842       5  1.016499       word\n",
       "391       3  1.020991     writer\n",
       "223       1  1.003055       year\n",
       "922       3  1.021187       york\n",
       "1244      4  1.009945      yummy\n",
       "\n",
       "[330 rows x 3 columns], R=30, lambda_step=0.01, plot_opts={'xlab': 'PC1', 'ylab': 'PC2'}, topic_order=[1, 9, 3, 5, 10, 6, 7, 4, 8, 2])"
      ]
     },
     "execution_count": 19,
     "metadata": {},
     "output_type": "execute_result"
    }
   ],
   "source": [
    "# Visualize the topics\n",
    "pyLDAvis.enable_notebook()\n",
    "vis = pyLDAvis.gensim.prepare(lda_model, corpus, id2word)\n",
    "vis"
   ]
  },
  {
   "cell_type": "markdown",
   "metadata": {},
   "source": [
    "### Save document-topic matrix (most significant topic per document)  \n",
    " https://github.com/Sim-Xuesi/content-based_movie_recommender/blob/master/Content%20Based%20Recommender%20System%20with%20LDA%20%26%20Cosine.ipynb  \n",
    " https://medium.com/@nicoleeesim97/building-a-simple-content-based-recommender-system-for-movies-and-tv-shows-73fec4f325ae  "
   ]
  },
  {
   "cell_type": "code",
   "execution_count": 20,
   "metadata": {},
   "outputs": [
    {
     "name": "stderr",
     "output_type": "stream",
     "text": [
      "C:\\Users\\minio\\anaconda3\\envs\\tfm-py-37\\lib\\site-packages\\ipykernel\\ipkernel.py:287: DeprecationWarning: `should_run_async` will not call `transform_cell` automatically in the future. Please pass the result to `transformed_cell` argument and any exception that happen during thetransform in `preprocessing_exc_tuple` in IPython 7.17 and above.\n",
      "  and should_run_async(code)\n"
     ]
    },
    {
     "name": "stdout",
     "output_type": "stream",
     "text": [
      "        Document  Topic  Probability\n",
      "0         541250      8     0.371284\n",
      "1        1291946      8     0.300004\n",
      "2         786049      3     0.723417\n",
      "3         167502      0     0.633412\n",
      "4        1319982      8     0.440497\n",
      "...          ...    ...          ...\n",
      "148086    405564      4     0.607668\n",
      "148087     15142      7     0.275037\n",
      "148088   1060159      0     0.310713\n",
      "148089     81495      9     0.420030\n",
      "148090    878524      8     0.700107\n",
      "\n",
      "[148091 rows x 3 columns]\n"
     ]
    }
   ],
   "source": [
    "def Sort_Tuple(tup):  \n",
    "    return(sorted(tup, key = lambda x: x[1], reverse = True))\n",
    "\n",
    "doc_num, topic_num, prob = [], [], []\n",
    "\n",
    "document_topic_matrix = documents\n",
    "\n",
    "for n in range(len(documents)):\n",
    "    get_document_topics = lda_model.get_document_topics(corpus_total[n], minimum_probability=0)\n",
    "    doc_num.append(documents.index[n])\n",
    "    sorted_doc_topics = Sort_Tuple(get_document_topics)\n",
    "    topic_num.append(sorted_doc_topics[0][0])\n",
    "    prob.append(sorted_doc_topics[0][1])\n",
    "    \n",
    "data = {'Document': doc_num\n",
    "        ,'Topic': topic_num\n",
    "        ,'Probability': prob}\n",
    "df = pd.DataFrame(data) \n",
    "df.to_csv(file_model + '_document_topic_matrix.csv', index=False)\n",
    "print(df)"
   ]
  },
  {
   "cell_type": "markdown",
   "metadata": {},
   "source": [
    "### Save document-topic matrix (all topic's probability per document)  \n",
    "https://github.com/Sim-Xuesi/content-based_movie_recommender/blob/master/Content%20Based%20Recommender%20System%20with%20LDA%20%26%20Cosine.ipynb  \n",
    "https://medium.com/@nicoleeesim97/building-a-simple-content-based-recommender-system-for-movies-and-tv-shows-73fec4f325ae  "
   ]
  },
  {
   "cell_type": "code",
   "execution_count": 21,
   "metadata": {},
   "outputs": [
    {
     "name": "stderr",
     "output_type": "stream",
     "text": [
      "C:\\Users\\minio\\anaconda3\\envs\\tfm-py-37\\lib\\site-packages\\ipykernel\\ipkernel.py:287: DeprecationWarning: `should_run_async` will not call `transform_cell` automatically in the future. Please pass the result to `transformed_cell` argument and any exception that happen during thetransform in `preprocessing_exc_tuple` in IPython 7.17 and above.\n",
      "  and should_run_async(code)\n"
     ]
    },
    {
     "name": "stdout",
     "output_type": "stream",
     "text": [
      "        Document    Topic0    Topic1    Topic2    Topic3    Topic4    Topic5  \\\n",
      "0         541250  0.227978  0.010533  0.115939  0.221602  0.010533  0.010533   \n",
      "1        1291946  0.241135  0.005881  0.064703  0.005881  0.182377  0.182371   \n",
      "2         786049  0.160116  0.014558  0.014558  0.723417  0.014558  0.014558   \n",
      "3         167502  0.633412  0.003704  0.114817  0.003704  0.003704  0.040689   \n",
      "4        1319982  0.261777  0.005133  0.005133  0.005134  0.056469  0.107800   \n",
      "...          ...       ...       ...       ...       ...       ...       ...   \n",
      "148086    405564  0.010057  0.010057  0.010057  0.010060  0.607668  0.010057   \n",
      "148087     15142  0.274961  0.024997  0.024997  0.024997  0.024997  0.024997   \n",
      "148088   1060159  0.310717  0.162877  0.014795  0.014795  0.014795  0.014795   \n",
      "148089     81495  0.019994  0.019994  0.019994  0.220020  0.019994  0.219994   \n",
      "148090    878524  0.033321  0.033321  0.033321  0.033321  0.033321  0.033321   \n",
      "\n",
      "          Topic6    Topic7    Topic8    Topic9  \n",
      "0       0.010533  0.010533  0.371283  0.010533  \n",
      "1       0.005881  0.005885  0.300004  0.005881  \n",
      "2       0.014558  0.014558  0.014558  0.014558  \n",
      "3       0.040706  0.040741  0.003704  0.114819  \n",
      "4       0.005133  0.005133  0.440497  0.107789  \n",
      "...          ...       ...       ...       ...  \n",
      "148086  0.211293  0.010057  0.110638  0.010057  \n",
      "148087  0.275027  0.275037  0.024997  0.024997  \n",
      "148088  0.014795  0.014795  0.162679  0.274960  \n",
      "148089  0.019994  0.019994  0.019994  0.420030  \n",
      "148090  0.033321  0.033321  0.700107  0.033321  \n",
      "\n",
      "[148091 rows x 11 columns]\n"
     ]
    }
   ],
   "source": [
    "doc_num = []\n",
    "prob0, prob1, prob2, prob3, prob4, prob5, prob6, prob7, prob8, prob9 = ([] for i in range(num_topics))\n",
    "\n",
    "document_topic_matrix = documents\n",
    "\n",
    "for n in range(len(documents)):\n",
    "    get_document_topics = lda_model.get_document_topics(corpus_total[n], minimum_probability=0)\n",
    "    doc_num.append(documents.index[n])\n",
    "    prob0.append(get_document_topics[0][1])\n",
    "    prob1.append(get_document_topics[1][1])\n",
    "    prob2.append(get_document_topics[2][1])\n",
    "    prob3.append(get_document_topics[3][1])\n",
    "    prob4.append(get_document_topics[4][1])\n",
    "    prob5.append(get_document_topics[5][1])\n",
    "    prob6.append(get_document_topics[6][1])\n",
    "    prob7.append(get_document_topics[7][1])\n",
    "    prob8.append(get_document_topics[8][1])\n",
    "    prob9.append(get_document_topics[9][1])\n",
    "    \n",
    "data = {'Document': doc_num\n",
    "        ,'Topic0': prob0\n",
    "        ,'Topic1': prob1\n",
    "        ,'Topic2': prob2\n",
    "        ,'Topic3': prob3\n",
    "        ,'Topic4': prob4\n",
    "        ,'Topic5': prob5\n",
    "        ,'Topic6': prob6\n",
    "        ,'Topic7': prob7\n",
    "        ,'Topic8': prob8\n",
    "        ,'Topic9': prob9}\n",
    "\n",
    "df = pd.DataFrame(data) \n",
    "df.to_csv(file_model + '_document_topic_matrix_full.csv', index=False)\n",
    "print(df)"
   ]
  },
  {
   "cell_type": "markdown",
   "metadata": {},
   "source": [
    "### Save topic-term matrix"
   ]
  },
  {
   "cell_type": "code",
   "execution_count": 22,
   "metadata": {},
   "outputs": [
    {
     "name": "stderr",
     "output_type": "stream",
     "text": [
      "C:\\Users\\minio\\anaconda3\\envs\\tfm-py-37\\lib\\site-packages\\ipykernel\\ipkernel.py:287: DeprecationWarning: `should_run_async` will not call `transform_cell` automatically in the future. Please pass the result to `transformed_cell` argument and any exception that happen during thetransform in `preprocessing_exc_tuple` in IPython 7.17 and above.\n",
      "  and should_run_async(code)\n"
     ]
    }
   ],
   "source": [
    "# get topic-term-matrix\n",
    "topic_term_matrix = lda_model.get_topics()\n",
    "# save topic-term matrix\n",
    "savetxt(file_model + '_topic_term_matrix.csv', topic_term_matrix, delimiter=',')"
   ]
  }
 ],
 "metadata": {
  "kernelspec": {
   "display_name": "Python 3",
   "language": "python",
   "name": "python3"
  },
  "language_info": {
   "codemirror_mode": {
    "name": "ipython",
    "version": 3
   },
   "file_extension": ".py",
   "mimetype": "text/x-python",
   "name": "python",
   "nbconvert_exporter": "python",
   "pygments_lexer": "ipython3",
   "version": "3.7.9"
  }
 },
 "nbformat": 4,
 "nbformat_minor": 4
}
