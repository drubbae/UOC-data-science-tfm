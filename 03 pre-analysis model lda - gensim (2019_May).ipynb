{
 "cells": [
  {
   "cell_type": "markdown",
   "metadata": {},
   "source": [
    "# <span style=\"color:blue\">Pre-analysis to find the optimal number of topics and hyperparameters values (2019_May)</span>"
   ]
  },
  {
   "cell_type": "code",
   "execution_count": 1,
   "metadata": {},
   "outputs": [],
   "source": [
    "yyyy_MMM = '2019_May'"
   ]
  },
  {
   "cell_type": "markdown",
   "metadata": {},
   "source": [
    "### Load packages"
   ]
  },
  {
   "cell_type": "code",
   "execution_count": 2,
   "metadata": {},
   "outputs": [
    {
     "name": "stderr",
     "output_type": "stream",
     "text": [
      "C:\\Users\\minio\\anaconda3\\envs\\tfm-py-37\\lib\\site-packages\\botocore\\vendored\\requests\\packages\\urllib3\\_collections.py:1: DeprecationWarning: Using or importing the ABCs from 'collections' instead of from 'collections.abc' is deprecated since Python 3.3,and in 3.9 it will stop working\n",
      "  from collections import Mapping, MutableMapping\n",
      "C:\\Users\\minio\\anaconda3\\envs\\tfm-py-37\\lib\\site-packages\\botocore\\vendored\\requests\\packages\\urllib3\\_collections.py:1: DeprecationWarning: Using or importing the ABCs from 'collections' instead of from 'collections.abc' is deprecated since Python 3.3,and in 3.9 it will stop working\n",
      "  from collections import Mapping, MutableMapping\n",
      "C:\\Users\\minio\\anaconda3\\envs\\tfm-py-37\\lib\\site-packages\\scipy\\sparse\\sparsetools.py:21: DeprecationWarning: `scipy.sparse.sparsetools` is deprecated!\n",
      "scipy.sparse.sparsetools is a private module for scipy.sparse, and should not be used.\n",
      "  _deprecated()\n",
      "C:\\Users\\minio\\anaconda3\\envs\\tfm-py-37\\lib\\site-packages\\gensim\\models\\doc2vec.py:73: DeprecationWarning: Using or importing the ABCs from 'collections' instead of from 'collections.abc' is deprecated since Python 3.3,and in 3.9 it will stop working\n",
      "  from collections import namedtuple, defaultdict, Iterable\n",
      "[nltk_data] Downloading package stopwords to\n",
      "[nltk_data]     C:\\Users\\minio\\AppData\\Roaming\\nltk_data...\n",
      "[nltk_data]   Package stopwords is already up-to-date!\n"
     ]
    },
    {
     "data": {
      "text/plain": [
       "True"
      ]
     },
     "execution_count": 2,
     "metadata": {},
     "output_type": "execute_result"
    }
   ],
   "source": [
    "import csv, os, re, time\n",
    "import numpy as np\n",
    "import pandas as  pd\n",
    "import matplotlib.pyplot as plt  \n",
    "import pyLDAvis\n",
    "import pyLDAvis.gensim\n",
    "import gensim\n",
    "import gensim.corpora as corpora\n",
    "from gensim.corpora.dictionary import Dictionary\n",
    "from gensim.models import CoherenceModel\n",
    "from gensim.models import Phrases\n",
    "from gensim.test.utils import datapath\n",
    "from gensim.utils import simple_preprocess\n",
    "from pprint import pprint\n",
    "import nltk\n",
    "nltk.download('stopwords')"
   ]
  },
  {
   "cell_type": "markdown",
   "metadata": {},
   "source": [
    "### Constants"
   ]
  },
  {
   "cell_type": "code",
   "execution_count": 3,
   "metadata": {},
   "outputs": [
    {
     "name": "stdout",
     "output_type": "stream",
     "text": [
      "D:\\master\\data science\\semestre 4\\M2.979 - tfm\\data\\bins_test\\doc\\2019_May\\2019_May_28_results.csv\n",
      "D:\\master\\data science\\semestre 4\\M2.979 - tfm\\data\\bins_test\\model_hyperparameter\\2019_May\\model\n"
     ]
    },
    {
     "name": "stderr",
     "output_type": "stream",
     "text": [
      "C:\\Users\\minio\\anaconda3\\envs\\tfm-py-37\\lib\\site-packages\\ipykernel\\ipkernel.py:287: DeprecationWarning: `should_run_async` will not call `transform_cell` automatically in the future. Please pass the result to `transformed_cell` argument and any exception that happen during thetransform in `preprocessing_exc_tuple` in IPython 7.17 and above.\n",
      "  and should_run_async(code)\n"
     ]
    }
   ],
   "source": [
    "# for reproducible results\n",
    "random_state = 33\n",
    "# if debug is True, messages during the process are generated\n",
    "debug = False\n",
    "# for debugging purposes sample may be used to work with a smaller amount of data (when 0 it is not applied)\n",
    "sample = 0\n",
    "# if the test is True, the process runs on a smaller subset of raw data (json files)\n",
    "test = True\n",
    "\n",
    "if test:\n",
    "    # path where the doc files are stored\n",
    "    path_doc = r'D:\\master\\data science\\semestre 4\\M2.979 - tfm\\data\\bins_test\\doc'\n",
    "    # path where the model files are stored\n",
    "    path_model = r'D:\\master\\data science\\semestre 4\\M2.979 - tfm\\data\\bins_test\\model_hyperparameter'\n",
    "    # LDA chunksize\n",
    "    chunksize = 250\n",
    "else:\n",
    "    # path where the doc files are stored\n",
    "    path_doc = r'D:\\master\\data science\\semestre 4\\M2.979 - tfm\\data\\bins\\doc'\n",
    "    # path where the model files are stored\n",
    "    path_model = r'D:\\master\\data science\\semestre 4\\M2.979 - tfm\\data\\bins\\model_hyperparameter'\n",
    "    # LDA chunksize\n",
    "    chunksize = 5000\n",
    "\n",
    "file_doc = os.path.join(path_doc, yyyy_MMM, yyyy_MMM) + '_28_results.csv'\n",
    "file_model = os.path.join(path_model, yyyy_MMM, 'model')\n",
    "print(file_doc)\n",
    "print(file_model)"
   ]
  },
  {
   "cell_type": "markdown",
   "metadata": {},
   "source": [
    "### Load data preprocessed"
   ]
  },
  {
   "cell_type": "code",
   "execution_count": 4,
   "metadata": {},
   "outputs": [
    {
     "name": "stderr",
     "output_type": "stream",
     "text": [
      "C:\\Users\\minio\\anaconda3\\envs\\tfm-py-37\\lib\\site-packages\\ipykernel\\ipkernel.py:287: DeprecationWarning: `should_run_async` will not call `transform_cell` automatically in the future. Please pass the result to `transformed_cell` argument and any exception that happen during thetransform in `preprocessing_exc_tuple` in IPython 7.17 and above.\n",
      "  and should_run_async(code)\n"
     ]
    },
    {
     "data": {
      "text/plain": [
       "0    ['cristian', 'knops', 'artist', 'draw', 'artwo...\n",
       "1    ['fully', 'avert', 'controversy', 'finally', '...\n",
       "2    ['sean', 'close', 'weekend', 'course', 'year',...\n",
       "3    ['hailey', 'bieber', 'kendall', 'jenner', 'lea...\n",
       "4                        ['feel', 'wedding', 'lovely']\n",
       "5    ['black', 'plaid', 'chanel', 'chanel', 'chanel...\n",
       "6    ['steph', 'kaaaa', 'japan', 'bikini', 'tokyo',...\n",
       "7    ['laugh', 'watch', 'scene', 'video', 'song', '...\n",
       "8    ['beaute', 'beatrice', 'blog', 'good', 'morning']\n",
       "9                                    ['dude', 'sense']\n",
       "Name: content_preprocessed, dtype: object"
      ]
     },
     "execution_count": 4,
     "metadata": {},
     "output_type": "execute_result"
    }
   ],
   "source": [
    "df = pd.read_csv(file_doc)\n",
    "documents = df.content_preprocessed\n",
    "documents.head(10)"
   ]
  },
  {
   "cell_type": "markdown",
   "metadata": {},
   "source": [
    "### Shuffle"
   ]
  },
  {
   "cell_type": "code",
   "execution_count": 5,
   "metadata": {},
   "outputs": [
    {
     "name": "stderr",
     "output_type": "stream",
     "text": [
      "C:\\Users\\minio\\anaconda3\\envs\\tfm-py-37\\lib\\site-packages\\ipykernel\\ipkernel.py:287: DeprecationWarning: `should_run_async` will not call `transform_cell` automatically in the future. Please pass the result to `transformed_cell` argument and any exception that happen during thetransform in `preprocessing_exc_tuple` in IPython 7.17 and above.\n",
      "  and should_run_async(code)\n"
     ]
    },
    {
     "data": {
      "text/plain": [
       "1477    ['shanti', 'knot', 'yrrah', 'beautiful', 'cere...\n",
       "304     ['service', 'yummy', 'food', 'pic', 'food', 'g...\n",
       "442     ['yean', 'hannah', 'drew', 'event', 'shade', '...\n",
       "3561    ['lady', 'esthero', 'juma', 'married', 'mode',...\n",
       "757     ['feliz', 'ivers', 'bubble', 'shamar', 'mauric...\n",
       "2603                          ['nlechoppacrowdnlechoppa']\n",
       "3547    ['sandra', 'sandra', 'calloway', 'event', 'upw...\n",
       "3807    ['voyage', 'fest', 'maroc', 'morocco', 'travel...\n",
       "3060    ['pomme', 'press', 'tatin', 'tartare', 'feuill...\n",
       "1094    ['day', 'regret', 'enjoy', 'baby', 'weekend', ...\n",
       "Name: content_preprocessed, dtype: object"
      ]
     },
     "execution_count": 5,
     "metadata": {},
     "output_type": "execute_result"
    }
   ],
   "source": [
    "documents = documents.sample(frac=1, random_state=random_state)\n",
    "documents.head(10)"
   ]
  },
  {
   "cell_type": "markdown",
   "metadata": {},
   "source": [
    "### Sample"
   ]
  },
  {
   "cell_type": "code",
   "execution_count": 6,
   "metadata": {},
   "outputs": [
    {
     "name": "stderr",
     "output_type": "stream",
     "text": [
      "C:\\Users\\minio\\anaconda3\\envs\\tfm-py-37\\lib\\site-packages\\ipykernel\\ipkernel.py:287: DeprecationWarning: `should_run_async` will not call `transform_cell` automatically in the future. Please pass the result to `transformed_cell` argument and any exception that happen during thetransform in `preprocessing_exc_tuple` in IPython 7.17 and above.\n",
      "  and should_run_async(code)\n"
     ]
    }
   ],
   "source": [
    "if sample > 0:\n",
    "    documents = documents.sample(n=sample, random_state=random_state)\n",
    "    print(documents.head(10))"
   ]
  },
  {
   "cell_type": "markdown",
   "metadata": {},
   "source": [
    "### Tokenize words and Clean-up text  \n",
    "https://www.machinelearningplus.com/nlp/topic-modeling-gensim-python/#3importpackages"
   ]
  },
  {
   "cell_type": "code",
   "execution_count": 7,
   "metadata": {},
   "outputs": [
    {
     "name": "stderr",
     "output_type": "stream",
     "text": [
      "C:\\Users\\minio\\anaconda3\\envs\\tfm-py-37\\lib\\site-packages\\ipykernel\\ipkernel.py:287: DeprecationWarning: `should_run_async` will not call `transform_cell` automatically in the future. Please pass the result to `transformed_cell` argument and any exception that happen during thetransform in `preprocessing_exc_tuple` in IPython 7.17 and above.\n",
      "  and should_run_async(code)\n"
     ]
    }
   ],
   "source": [
    "def sent_to_words(sentences):\n",
    "    for sentence in sentences:\n",
    "        yield(gensim.utils.simple_preprocess(str(sentence), deacc=True))  # deacc=True removes punctuations"
   ]
  },
  {
   "cell_type": "markdown",
   "metadata": {},
   "source": [
    "### Function to compute bigrams & trigrams  \n",
    "https://radimrehurek.com/gensim/auto_examples/tutorials/run_lda.html#pre-process-and-vectorize-the-documents"
   ]
  },
  {
   "cell_type": "code",
   "execution_count": 8,
   "metadata": {},
   "outputs": [
    {
     "name": "stderr",
     "output_type": "stream",
     "text": [
      "C:\\Users\\minio\\anaconda3\\envs\\tfm-py-37\\lib\\site-packages\\ipykernel\\ipkernel.py:287: DeprecationWarning: `should_run_async` will not call `transform_cell` automatically in the future. Please pass the result to `transformed_cell` argument and any exception that happen during thetransform in `preprocessing_exc_tuple` in IPython 7.17 and above.\n",
      "  and should_run_async(code)\n"
     ]
    }
   ],
   "source": [
    "# Add bigrams and trigrams to docs (only ones that appear min_count times or more).\n",
    "def bi_tri_grams(documents, min_count):\n",
    "    bigram = Phrases(documents, min_count=min_count)\n",
    "    for idx in range(len(documents)):\n",
    "        for token in bigram[documents[idx]]:\n",
    "            if '_' in token:\n",
    "                # Token is a bigram, add to document.\n",
    "                documents[idx].append(token)"
   ]
  },
  {
   "cell_type": "markdown",
   "metadata": {},
   "source": [
    "### Function for categorizing and tagging words"
   ]
  },
  {
   "cell_type": "code",
   "execution_count": 9,
   "metadata": {},
   "outputs": [
    {
     "name": "stderr",
     "output_type": "stream",
     "text": [
      "C:\\Users\\minio\\anaconda3\\envs\\tfm-py-37\\lib\\site-packages\\ipykernel\\ipkernel.py:287: DeprecationWarning: `should_run_async` will not call `transform_cell` automatically in the future. Please pass the result to `transformed_cell` argument and any exception that happen during thetransform in `preprocessing_exc_tuple` in IPython 7.17 and above.\n",
      "  and should_run_async(code)\n"
     ]
    }
   ],
   "source": [
    "def tag_words(text):\n",
    "    tags = nltk.pos_tag(text)\n",
    "    nouns = [word for word, pos in tags if (pos == 'NN' or pos == 'NNP' or pos == 'NNS' or pos == 'NNPS')]\n",
    "    return nouns"
   ]
  },
  {
   "cell_type": "markdown",
   "metadata": {},
   "source": [
    "### Analysis to get the optimal number of topics  \n",
    "https://towardsdatascience.com/discover-what-singaporeans-generally-talk-on-sms-d4b592a682fd"
   ]
  },
  {
   "cell_type": "code",
   "execution_count": 10,
   "metadata": {},
   "outputs": [
    {
     "name": "stderr",
     "output_type": "stream",
     "text": [
      "C:\\Users\\minio\\anaconda3\\envs\\tfm-py-37\\lib\\site-packages\\ipykernel\\ipkernel.py:287: DeprecationWarning: `should_run_async` will not call `transform_cell` automatically in the future. Please pass the result to `transformed_cell` argument and any exception that happen during thetransform in `preprocessing_exc_tuple` in IPython 7.17 and above.\n",
      "  and should_run_async(code)\n"
     ]
    }
   ],
   "source": [
    "data_words = list(sent_to_words(documents))\n",
    "# Compute bigrams & trigrams\n",
    "bi_tri_grams(data_words, 250)\n",
    "# Categorizing and tagging words\n",
    "data_words = list(map(tag_words, data_words))\n",
    "# Create Dictionary\n",
    "id2word = Dictionary(data_words)\n",
    "# Create Corpus\n",
    "texts = data_words\n",
    "# Term Document Frequency\n",
    "corpus = [id2word.doc2bow(text) for text in texts]"
   ]
  },
  {
   "cell_type": "code",
   "execution_count": 11,
   "metadata": {},
   "outputs": [
    {
     "name": "stderr",
     "output_type": "stream",
     "text": [
      "C:\\Users\\minio\\anaconda3\\envs\\tfm-py-37\\lib\\site-packages\\ipykernel\\ipkernel.py:287: DeprecationWarning: `should_run_async` will not call `transform_cell` automatically in the future. Please pass the result to `transformed_cell` argument and any exception that happen during thetransform in `preprocessing_exc_tuple` in IPython 7.17 and above.\n",
      "  and should_run_async(code)\n"
     ]
    },
    {
     "name": "stdout",
     "output_type": "stream",
     "text": [
      "# Topics: 8 Score: 0.5458591777920832\n",
      "time elapsed - 00:00:27.15\n",
      "# Topics: 10 Score: 0.5051394233989208\n",
      "time elapsed - 00:00:26.77\n",
      "# Topics: 12 Score: 0.49614795027038566\n",
      "time elapsed - 00:00:27.44\n",
      "# Topics: 14 Score: 0.48607323544451075\n",
      "time elapsed - 00:00:27.78\n",
      "# Topics: 16 Score: 0.5351975326129151\n",
      "time elapsed - 00:00:28.74\n",
      "# Topics: 18 Score: 0.5447190009711277\n",
      "time elapsed - 00:00:29.75\n",
      "# Topics: 20 Score: 0.5329680901240664\n",
      "time elapsed - 00:00:29.14\n",
      "# Topics: 22 Score: 0.5197128430074236\n",
      "time elapsed - 00:00:29.72\n",
      "# Topics: 24 Score: 0.5373096418848484\n",
      "time elapsed - 00:00:31.98\n"
     ]
    }
   ],
   "source": [
    "model_list = []\n",
    "coherence_score = []\n",
    "model_topics = []\n",
    "\n",
    "for num_topics in range(8, 25, 2):\n",
    "    \n",
    "    time_start = time.time()\n",
    "\n",
    "    lda_x = gensim.models.LdaMulticore(corpus=corpus\n",
    "                                       ,id2word=id2word\n",
    "                                       ,num_topics=num_topics\n",
    "                                       ,random_state=random_state\n",
    "                                       ,chunksize=chunksize\n",
    "                                       ,passes=10)\n",
    "    coherence_lda_model = CoherenceModel(model=lda_x, texts=data_words, dictionary=id2word, coherence='c_v')\n",
    "    coherence = coherence_lda_model.get_coherence()\n",
    "    coherence_score.append(coherence)\n",
    "    model_topics.append(num_topics)\n",
    "    model_list.append(lda_x)\n",
    "    \n",
    "    print(\"# Topics: \" + str(num_topics) + \" Score: \" + str(coherence))\n",
    "    \n",
    "    time_end = time.time()\n",
    "    hour, rem = divmod(time_end - time_start, 3600)\n",
    "    minute, second = divmod(rem, 60)\n",
    "    print('time elapsed - {:0>2}:{:0>2}:{:05.2f}'.format(int(hour), int(minute), second))"
   ]
  },
  {
   "cell_type": "code",
   "execution_count": 12,
   "metadata": {},
   "outputs": [
    {
     "name": "stderr",
     "output_type": "stream",
     "text": [
      "C:\\Users\\minio\\anaconda3\\envs\\tfm-py-37\\lib\\site-packages\\ipykernel\\ipkernel.py:287: DeprecationWarning: `should_run_async` will not call `transform_cell` automatically in the future. Please pass the result to `transformed_cell` argument and any exception that happen during thetransform in `preprocessing_exc_tuple` in IPython 7.17 and above.\n",
      "  and should_run_async(code)\n"
     ]
    },
    {
     "data": {
      "image/png": "[encoded data removed]",
      "text/plain": [
       "<Figure size 432x288 with 1 Axes>"
      ]
     },
     "metadata": {
      "needs_background": "light"
     },
     "output_type": "display_data"
    }
   ],
   "source": [
    "limit=25; start=8; step=2;\n",
    "x = range(start, limit, step)\n",
    "plt.plot(x, coherence_score)\n",
    "plt.xlabel(\"Number of topics\")\n",
    "plt.ylabel(\"Coherence score\")\n",
    "plt.legend((\"coherence_values\"), loc='best')\n",
    "plt.show()"
   ]
  },
  {
   "cell_type": "markdown",
   "metadata": {},
   "source": [
    "### Hyperparameter tuning  \n",
    "\n",
    "https://medium.com/analytics-vidhya/analyzing-amazon-tv-reviews-with-latent-dirichlet-allocation-97d19c3bb878  \n",
    "https://github.com/Georgebob256/Machine-learning-with-Python/blob/master/Amazon%20TV%20reviews..ipynb"
   ]
  },
  {
   "cell_type": "code",
   "execution_count": 13,
   "metadata": {},
   "outputs": [
    {
     "name": "stderr",
     "output_type": "stream",
     "text": [
      "C:\\Users\\minio\\anaconda3\\envs\\tfm-py-37\\lib\\site-packages\\ipykernel\\ipkernel.py:287: DeprecationWarning: `should_run_async` will not call `transform_cell` automatically in the future. Please pass the result to `transformed_cell` argument and any exception that happen during thetransform in `preprocessing_exc_tuple` in IPython 7.17 and above.\n",
      "  and should_run_async(code)\n"
     ]
    },
    {
     "name": "stdout",
     "output_type": "stream",
     "text": [
      "Iteration num -  1  Topics -  8  Alpha -  0.01  Beta -  0.01  Coherence -  0.46800008245213465\n",
      "Iteration num -  2  Topics -  8  Alpha -  0.01  Beta -  0.31  Coherence -  0.41209095980488153\n",
      "Iteration num -  3  Topics -  8  Alpha -  0.01  Beta -  0.61  Coherence -  0.46174699399322705\n",
      "Iteration num -  4  Topics -  8  Alpha -  0.01  Beta -  0.91  Coherence -  0.4779645800411715\n",
      "Iteration num -  5  Topics -  8  Alpha -  0.01  Beta -  symmetric  Coherence -  0.49303155014985456\n",
      "Iteration num -  6  Topics -  8  Alpha -  0.31  Beta -  0.01  Coherence -  0.5337336448877175\n",
      "Iteration num -  7  Topics -  8  Alpha -  0.31  Beta -  0.31  Coherence -  0.4258329155297576\n",
      "Iteration num -  8  Topics -  8  Alpha -  0.31  Beta -  0.61  Coherence -  0.5402738143793138\n",
      "Iteration num -  9  Topics -  8  Alpha -  0.31  Beta -  0.91  Coherence -  0.38880628896332636\n",
      "Iteration num -  10  Topics -  8  Alpha -  0.31  Beta -  symmetric  Coherence -  0.5481133857481301\n",
      "Iteration num -  11  Topics -  8  Alpha -  0.61  Beta -  0.01  Coherence -  0.5573167780524451\n",
      "Iteration num -  12  Topics -  8  Alpha -  0.61  Beta -  0.31  Coherence -  0.562303414457316\n",
      "Iteration num -  13  Topics -  8  Alpha -  0.61  Beta -  0.61  Coherence -  0.5498063176666712\n",
      "Iteration num -  14  Topics -  8  Alpha -  0.61  Beta -  0.91  Coherence -  0.5344692537055606\n",
      "Iteration num -  15  Topics -  8  Alpha -  0.61  Beta -  symmetric  Coherence -  0.534603991276722\n",
      "Iteration num -  16  Topics -  8  Alpha -  0.91  Beta -  0.01  Coherence -  0.5622890871250408\n",
      "Iteration num -  17  Topics -  8  Alpha -  0.91  Beta -  0.31  Coherence -  0.5826209040878372\n",
      "Iteration num -  18  Topics -  8  Alpha -  0.91  Beta -  0.61  Coherence -  0.5601015038412239\n",
      "Iteration num -  19  Topics -  8  Alpha -  0.91  Beta -  0.91  Coherence -  0.5372748388687278\n",
      "Iteration num -  20  Topics -  8  Alpha -  0.91  Beta -  symmetric  Coherence -  0.5413409704767793\n",
      "Iteration num -  21  Topics -  8  Alpha -  symmetric  Beta -  0.01  Coherence -  0.5370980582843521\n",
      "Iteration num -  22  Topics -  8  Alpha -  symmetric  Beta -  0.31  Coherence -  0.561766821947401\n",
      "Iteration num -  23  Topics -  8  Alpha -  symmetric  Beta -  0.61  Coherence -  0.5653245064431539\n",
      "Iteration num -  24  Topics -  8  Alpha -  symmetric  Beta -  0.91  Coherence -  0.5056266124796768\n",
      "Iteration num -  25  Topics -  8  Alpha -  symmetric  Beta -  symmetric  Coherence -  0.5243309340938105\n",
      "Iteration num -  26  Topics -  8  Alpha -  asymmetric  Beta -  0.01  Coherence -  0.536577437876532\n",
      "Iteration num -  27  Topics -  8  Alpha -  asymmetric  Beta -  0.31  Coherence -  0.5031049348345206\n",
      "Iteration num -  28  Topics -  8  Alpha -  asymmetric  Beta -  0.61  Coherence -  0.5393858367549189\n",
      "Iteration num -  29  Topics -  8  Alpha -  asymmetric  Beta -  0.91  Coherence -  0.47851102979018695\n",
      "Iteration num -  30  Topics -  8  Alpha -  asymmetric  Beta -  symmetric  Coherence -  0.5285868922088784\n",
      "Iteration num -  31  Topics -  10  Alpha -  0.01  Beta -  0.01  Coherence -  0.5089405008641495\n",
      "Iteration num -  32  Topics -  10  Alpha -  0.01  Beta -  0.31  Coherence -  0.4636746156515977\n",
      "Iteration num -  33  Topics -  10  Alpha -  0.01  Beta -  0.61  Coherence -  0.5141370551660788\n",
      "Iteration num -  34  Topics -  10  Alpha -  0.01  Beta -  0.91  Coherence -  0.48902515117196066\n",
      "Iteration num -  35  Topics -  10  Alpha -  0.01  Beta -  symmetric  Coherence -  0.5000607195101074\n",
      "Iteration num -  36  Topics -  10  Alpha -  0.31  Beta -  0.01  Coherence -  0.5279863076422366\n",
      "Iteration num -  37  Topics -  10  Alpha -  0.31  Beta -  0.31  Coherence -  0.5056293312308601\n",
      "Iteration num -  38  Topics -  10  Alpha -  0.31  Beta -  0.61  Coherence -  0.5005859510167474\n",
      "Iteration num -  39  Topics -  10  Alpha -  0.31  Beta -  0.91  Coherence -  0.4836059625643728\n",
      "Iteration num -  40  Topics -  10  Alpha -  0.31  Beta -  symmetric  Coherence -  0.5148737486418006\n",
      "Iteration num -  41  Topics -  10  Alpha -  0.61  Beta -  0.01  Coherence -  0.528907699422904\n",
      "Iteration num -  42  Topics -  10  Alpha -  0.61  Beta -  0.31  Coherence -  0.5110899295332068\n",
      "Iteration num -  43  Topics -  10  Alpha -  0.61  Beta -  0.61  Coherence -  0.5283541839819755\n",
      "Iteration num -  44  Topics -  10  Alpha -  0.61  Beta -  0.91  Coherence -  0.5044257489834267\n",
      "Iteration num -  45  Topics -  10  Alpha -  0.61  Beta -  symmetric  Coherence -  0.5160695665175924\n",
      "Iteration num -  46  Topics -  10  Alpha -  0.91  Beta -  0.01  Coherence -  0.5288284239571645\n",
      "Iteration num -  47  Topics -  10  Alpha -  0.91  Beta -  0.31  Coherence -  0.5249196179611387\n",
      "Iteration num -  48  Topics -  10  Alpha -  0.91  Beta -  0.61  Coherence -  0.5381474984271976\n",
      "Iteration num -  49  Topics -  10  Alpha -  0.91  Beta -  0.91  Coherence -  0.5332336087717763\n",
      "Iteration num -  50  Topics -  10  Alpha -  0.91  Beta -  symmetric  Coherence -  0.5221103088471655\n",
      "Iteration num -  51  Topics -  10  Alpha -  symmetric  Beta -  0.01  Coherence -  0.5296109817203647\n",
      "Iteration num -  52  Topics -  10  Alpha -  symmetric  Beta -  0.31  Coherence -  0.5007262568426258\n",
      "Iteration num -  53  Topics -  10  Alpha -  symmetric  Beta -  0.61  Coherence -  0.497873051293951\n",
      "Iteration num -  54  Topics -  10  Alpha -  symmetric  Beta -  0.91  Coherence -  0.5147580574067245\n",
      "Iteration num -  55  Topics -  10  Alpha -  symmetric  Beta -  symmetric  Coherence -  0.5182390749262694\n",
      "Iteration num -  56  Topics -  10  Alpha -  asymmetric  Beta -  0.01  Coherence -  0.5326792641420383\n",
      "Iteration num -  57  Topics -  10  Alpha -  asymmetric  Beta -  0.31  Coherence -  0.5134720535303038\n",
      "Iteration num -  58  Topics -  10  Alpha -  asymmetric  Beta -  0.61  Coherence -  0.47924276460596077\n",
      "Iteration num -  59  Topics -  10  Alpha -  asymmetric  Beta -  0.91  Coherence -  0.5411748624472936\n",
      "Iteration num -  60  Topics -  10  Alpha -  asymmetric  Beta -  symmetric  Coherence -  0.497192816008668\n",
      "Iteration num -  61  Topics -  12  Alpha -  0.01  Beta -  0.01  Coherence -  0.4952883286418743\n",
      "Iteration num -  62  Topics -  12  Alpha -  0.01  Beta -  0.31  Coherence -  0.5569295161542988\n",
      "Iteration num -  63  Topics -  12  Alpha -  0.01  Beta -  0.61  Coherence -  0.5290604278048475\n",
      "Iteration num -  64  Topics -  12  Alpha -  0.01  Beta -  0.91  Coherence -  0.543574290469098\n",
      "Iteration num -  65  Topics -  12  Alpha -  0.01  Beta -  symmetric  Coherence -  0.4965225637047052\n",
      "Iteration num -  66  Topics -  12  Alpha -  0.31  Beta -  0.01  Coherence -  0.4894443769808294\n",
      "Iteration num -  67  Topics -  12  Alpha -  0.31  Beta -  0.31  Coherence -  0.5435864572495184\n",
      "Iteration num -  68  Topics -  12  Alpha -  0.31  Beta -  0.61  Coherence -  0.4858364381696288\n",
      "Iteration num -  69  Topics -  12  Alpha -  0.31  Beta -  0.91  Coherence -  0.5319486306202597\n",
      "Iteration num -  70  Topics -  12  Alpha -  0.31  Beta -  symmetric  Coherence -  0.5124847234967195\n",
      "Iteration num -  71  Topics -  12  Alpha -  0.61  Beta -  0.01  Coherence -  0.5462508343211152\n",
      "Iteration num -  72  Topics -  12  Alpha -  0.61  Beta -  0.31  Coherence -  0.5173446055158429\n",
      "Iteration num -  73  Topics -  12  Alpha -  0.61  Beta -  0.61  Coherence -  0.5108362141339217\n",
      "Iteration num -  74  Topics -  12  Alpha -  0.61  Beta -  0.91  Coherence -  0.49155394926631074\n",
      "Iteration num -  75  Topics -  12  Alpha -  0.61  Beta -  symmetric  Coherence -  0.5254625972321768\n",
      "Iteration num -  76  Topics -  12  Alpha -  0.91  Beta -  0.01  Coherence -  0.5458134878293721\n",
      "Iteration num -  77  Topics -  12  Alpha -  0.91  Beta -  0.31  Coherence -  0.5526142545927161\n",
      "Iteration num -  78  Topics -  12  Alpha -  0.91  Beta -  0.61  Coherence -  0.5493200983863136\n",
      "Iteration num -  79  Topics -  12  Alpha -  0.91  Beta -  0.91  Coherence -  0.5658417955362656\n",
      "Iteration num -  80  Topics -  12  Alpha -  0.91  Beta -  symmetric  Coherence -  0.5617609423762038\n",
      "Iteration num -  81  Topics -  12  Alpha -  symmetric  Beta -  0.01  Coherence -  0.5504128236976994\n",
      "Iteration num -  82  Topics -  12  Alpha -  symmetric  Beta -  0.31  Coherence -  0.5045724470646804\n",
      "Iteration num -  83  Topics -  12  Alpha -  symmetric  Beta -  0.61  Coherence -  0.46156747488643884\n",
      "Iteration num -  84  Topics -  12  Alpha -  symmetric  Beta -  0.91  Coherence -  0.5092890162609488\n"
     ]
    },
    {
     "name": "stdout",
     "output_type": "stream",
     "text": [
      "Iteration num -  85  Topics -  12  Alpha -  symmetric  Beta -  symmetric  Coherence -  0.4975816748654575\n",
      "Iteration num -  86  Topics -  12  Alpha -  asymmetric  Beta -  0.01  Coherence -  0.5408791922590392\n",
      "Iteration num -  87  Topics -  12  Alpha -  asymmetric  Beta -  0.31  Coherence -  0.5346606916407629\n",
      "Iteration num -  88  Topics -  12  Alpha -  asymmetric  Beta -  0.61  Coherence -  0.5200294086587206\n",
      "Iteration num -  89  Topics -  12  Alpha -  asymmetric  Beta -  0.91  Coherence -  0.4550853353367559\n",
      "Iteration num -  90  Topics -  12  Alpha -  asymmetric  Beta -  symmetric  Coherence -  0.5243810981878909\n",
      "Iteration num -  91  Topics -  14  Alpha -  0.01  Beta -  0.01  Coherence -  0.4731952347697407\n",
      "Iteration num -  92  Topics -  14  Alpha -  0.01  Beta -  0.31  Coherence -  0.46249847847959863\n",
      "Iteration num -  93  Topics -  14  Alpha -  0.01  Beta -  0.61  Coherence -  0.4355010658267901\n",
      "Iteration num -  94  Topics -  14  Alpha -  0.01  Beta -  0.91  Coherence -  0.4839586849968525\n",
      "Iteration num -  95  Topics -  14  Alpha -  0.01  Beta -  symmetric  Coherence -  0.5498935039036575\n",
      "Iteration num -  96  Topics -  14  Alpha -  0.31  Beta -  0.01  Coherence -  0.4680204887853153\n",
      "Iteration num -  97  Topics -  14  Alpha -  0.31  Beta -  0.31  Coherence -  0.4618654077419558\n",
      "Iteration num -  98  Topics -  14  Alpha -  0.31  Beta -  0.61  Coherence -  0.43258163801362903\n",
      "Iteration num -  99  Topics -  14  Alpha -  0.31  Beta -  0.91  Coherence -  0.4342574923603106\n",
      "Iteration num -  100  Topics -  14  Alpha -  0.31  Beta -  symmetric  Coherence -  0.4450343381203695\n",
      "Iteration num -  101  Topics -  14  Alpha -  0.61  Beta -  0.01  Coherence -  0.46570626695564893\n",
      "Iteration num -  102  Topics -  14  Alpha -  0.61  Beta -  0.31  Coherence -  0.49888272875698236\n",
      "Iteration num -  103  Topics -  14  Alpha -  0.61  Beta -  0.61  Coherence -  0.5288393468045249\n",
      "Iteration num -  104  Topics -  14  Alpha -  0.61  Beta -  0.91  Coherence -  0.5140300661585739\n",
      "Iteration num -  105  Topics -  14  Alpha -  0.61  Beta -  symmetric  Coherence -  0.5303761158997158\n",
      "Iteration num -  106  Topics -  14  Alpha -  0.91  Beta -  0.01  Coherence -  0.519131018416104\n",
      "Iteration num -  107  Topics -  14  Alpha -  0.91  Beta -  0.31  Coherence -  0.5072001953289383\n",
      "Iteration num -  108  Topics -  14  Alpha -  0.91  Beta -  0.61  Coherence -  0.5327574829124478\n",
      "Iteration num -  109  Topics -  14  Alpha -  0.91  Beta -  0.91  Coherence -  0.5304814744771201\n",
      "Iteration num -  110  Topics -  14  Alpha -  0.91  Beta -  symmetric  Coherence -  0.5062286209664251\n",
      "Iteration num -  111  Topics -  14  Alpha -  symmetric  Beta -  0.01  Coherence -  0.5878589722319648\n",
      "Iteration num -  112  Topics -  14  Alpha -  symmetric  Beta -  0.31  Coherence -  0.5058754207190512\n",
      "Iteration num -  113  Topics -  14  Alpha -  symmetric  Beta -  0.61  Coherence -  0.4257005038670279\n",
      "Iteration num -  114  Topics -  14  Alpha -  symmetric  Beta -  0.91  Coherence -  0.4345418282151455\n",
      "Iteration num -  115  Topics -  14  Alpha -  symmetric  Beta -  symmetric  Coherence -  0.45661729590870986\n",
      "Iteration num -  116  Topics -  14  Alpha -  asymmetric  Beta -  0.01  Coherence -  0.5321769435285367\n",
      "Iteration num -  117  Topics -  14  Alpha -  asymmetric  Beta -  0.31  Coherence -  0.5013164152952457\n",
      "Iteration num -  118  Topics -  14  Alpha -  asymmetric  Beta -  0.61  Coherence -  0.5376773463175977\n",
      "Iteration num -  119  Topics -  14  Alpha -  asymmetric  Beta -  0.91  Coherence -  0.49194305304596136\n",
      "Iteration num -  120  Topics -  14  Alpha -  asymmetric  Beta -  symmetric  Coherence -  0.5426621911520276\n",
      "Iteration num -  121  Topics -  16  Alpha -  0.01  Beta -  0.01  Coherence -  0.5441689173772235\n",
      "Iteration num -  122  Topics -  16  Alpha -  0.01  Beta -  0.31  Coherence -  0.5459400537424675\n",
      "Iteration num -  123  Topics -  16  Alpha -  0.01  Beta -  0.61  Coherence -  0.5434159211029893\n",
      "Iteration num -  124  Topics -  16  Alpha -  0.01  Beta -  0.91  Coherence -  0.5315563641474105\n",
      "Iteration num -  125  Topics -  16  Alpha -  0.01  Beta -  symmetric  Coherence -  0.5419140164250817\n",
      "Iteration num -  126  Topics -  16  Alpha -  0.31  Beta -  0.01  Coherence -  0.5627425876185419\n",
      "Iteration num -  127  Topics -  16  Alpha -  0.31  Beta -  0.31  Coherence -  0.5743027284083893\n",
      "Iteration num -  128  Topics -  16  Alpha -  0.31  Beta -  0.61  Coherence -  0.5777264100646432\n",
      "Iteration num -  129  Topics -  16  Alpha -  0.31  Beta -  0.91  Coherence -  0.6142110276596884\n",
      "Iteration num -  130  Topics -  16  Alpha -  0.31  Beta -  symmetric  Coherence -  0.5641822923918329\n",
      "Iteration num -  131  Topics -  16  Alpha -  0.61  Beta -  0.01  Coherence -  0.5654055070899795\n",
      "Iteration num -  132  Topics -  16  Alpha -  0.61  Beta -  0.31  Coherence -  0.5568543572223794\n",
      "Iteration num -  133  Topics -  16  Alpha -  0.61  Beta -  0.61  Coherence -  0.5801665528402171\n",
      "Iteration num -  134  Topics -  16  Alpha -  0.61  Beta -  0.91  Coherence -  0.5238629716104087\n",
      "Iteration num -  135  Topics -  16  Alpha -  0.61  Beta -  symmetric  Coherence -  0.573248764968828\n",
      "Iteration num -  136  Topics -  16  Alpha -  0.91  Beta -  0.01  Coherence -  0.5915714076717377\n",
      "Iteration num -  137  Topics -  16  Alpha -  0.91  Beta -  0.31  Coherence -  0.5756529946365297\n",
      "Iteration num -  138  Topics -  16  Alpha -  0.91  Beta -  0.61  Coherence -  0.5922893294240626\n",
      "Iteration num -  139  Topics -  16  Alpha -  0.91  Beta -  0.91  Coherence -  0.5617309248304937\n",
      "Iteration num -  140  Topics -  16  Alpha -  0.91  Beta -  symmetric  Coherence -  0.6071772952134193\n",
      "Iteration num -  141  Topics -  16  Alpha -  symmetric  Beta -  0.01  Coherence -  0.5397314751655109\n",
      "Iteration num -  142  Topics -  16  Alpha -  symmetric  Beta -  0.31  Coherence -  0.5414077782116837\n",
      "Iteration num -  143  Topics -  16  Alpha -  symmetric  Beta -  0.61  Coherence -  0.512631982567686\n",
      "Iteration num -  144  Topics -  16  Alpha -  symmetric  Beta -  0.91  Coherence -  0.5438608513675522\n",
      "Iteration num -  145  Topics -  16  Alpha -  symmetric  Beta -  symmetric  Coherence -  0.5263832769217078\n",
      "Iteration num -  146  Topics -  16  Alpha -  asymmetric  Beta -  0.01  Coherence -  0.5619157864664827\n",
      "Iteration num -  147  Topics -  16  Alpha -  asymmetric  Beta -  0.31  Coherence -  0.5872423960241657\n",
      "Iteration num -  148  Topics -  16  Alpha -  asymmetric  Beta -  0.61  Coherence -  0.5250402889681702\n",
      "Iteration num -  149  Topics -  16  Alpha -  asymmetric  Beta -  0.91  Coherence -  0.4679270733015084\n",
      "Iteration num -  150  Topics -  16  Alpha -  asymmetric  Beta -  symmetric  Coherence -  0.5582670409582513\n",
      "Iteration num -  151  Topics -  18  Alpha -  0.01  Beta -  0.01  Coherence -  0.5468467305454734\n",
      "Iteration num -  152  Topics -  18  Alpha -  0.01  Beta -  0.31  Coherence -  0.530402038549377\n",
      "Iteration num -  153  Topics -  18  Alpha -  0.01  Beta -  0.61  Coherence -  0.5598780667152832\n",
      "Iteration num -  154  Topics -  18  Alpha -  0.01  Beta -  0.91  Coherence -  0.5586671325508179\n",
      "Iteration num -  155  Topics -  18  Alpha -  0.01  Beta -  symmetric  Coherence -  0.5522574717275862\n",
      "Iteration num -  156  Topics -  18  Alpha -  0.31  Beta -  0.01  Coherence -  0.5757745631335631\n",
      "Iteration num -  157  Topics -  18  Alpha -  0.31  Beta -  0.31  Coherence -  0.5753639048173751\n",
      "Iteration num -  158  Topics -  18  Alpha -  0.31  Beta -  0.61  Coherence -  0.5564224743441551\n",
      "Iteration num -  159  Topics -  18  Alpha -  0.31  Beta -  0.91  Coherence -  0.5977896783129368\n",
      "Iteration num -  160  Topics -  18  Alpha -  0.31  Beta -  symmetric  Coherence -  0.5424867787393929\n",
      "Iteration num -  161  Topics -  18  Alpha -  0.61  Beta -  0.01  Coherence -  0.5738221674482858\n",
      "Iteration num -  162  Topics -  18  Alpha -  0.61  Beta -  0.31  Coherence -  0.5494390774985318\n",
      "Iteration num -  163  Topics -  18  Alpha -  0.61  Beta -  0.61  Coherence -  0.551701599636656\n",
      "Iteration num -  164  Topics -  18  Alpha -  0.61  Beta -  0.91  Coherence -  0.5720127887836696\n",
      "Iteration num -  165  Topics -  18  Alpha -  0.61  Beta -  symmetric  Coherence -  0.5941435451584252\n",
      "Iteration num -  166  Topics -  18  Alpha -  0.91  Beta -  0.01  Coherence -  0.5705863568196224\n",
      "Iteration num -  167  Topics -  18  Alpha -  0.91  Beta -  0.31  Coherence -  0.5825531018108016\n"
     ]
    },
    {
     "name": "stdout",
     "output_type": "stream",
     "text": [
      "Iteration num -  168  Topics -  18  Alpha -  0.91  Beta -  0.61  Coherence -  0.5424817491086629\n",
      "Iteration num -  169  Topics -  18  Alpha -  0.91  Beta -  0.91  Coherence -  0.5658789980310426\n",
      "Iteration num -  170  Topics -  18  Alpha -  0.91  Beta -  symmetric  Coherence -  0.5821219741676507\n",
      "Iteration num -  171  Topics -  18  Alpha -  symmetric  Beta -  0.01  Coherence -  0.5658087853626722\n",
      "Iteration num -  172  Topics -  18  Alpha -  symmetric  Beta -  0.31  Coherence -  0.5466690897767155\n",
      "Iteration num -  173  Topics -  18  Alpha -  symmetric  Beta -  0.61  Coherence -  0.5388416471568025\n",
      "Iteration num -  174  Topics -  18  Alpha -  symmetric  Beta -  0.91  Coherence -  0.5035551579784788\n",
      "Iteration num -  175  Topics -  18  Alpha -  symmetric  Beta -  symmetric  Coherence -  0.5362349011090081\n",
      "Iteration num -  176  Topics -  18  Alpha -  asymmetric  Beta -  0.01  Coherence -  0.5434027226801442\n",
      "Iteration num -  177  Topics -  18  Alpha -  asymmetric  Beta -  0.31  Coherence -  0.5616946343105818\n",
      "Iteration num -  178  Topics -  18  Alpha -  asymmetric  Beta -  0.61  Coherence -  0.5224958983731084\n",
      "Iteration num -  179  Topics -  18  Alpha -  asymmetric  Beta -  0.91  Coherence -  0.49063339912562526\n",
      "Iteration num -  180  Topics -  18  Alpha -  asymmetric  Beta -  symmetric  Coherence -  0.5609789600247024\n",
      "Iteration num -  181  Topics -  20  Alpha -  0.01  Beta -  0.01  Coherence -  0.5460115565841719\n",
      "Iteration num -  182  Topics -  20  Alpha -  0.01  Beta -  0.31  Coherence -  0.5222764112256308\n",
      "Iteration num -  183  Topics -  20  Alpha -  0.01  Beta -  0.61  Coherence -  0.5113341779892935\n",
      "Iteration num -  184  Topics -  20  Alpha -  0.01  Beta -  0.91  Coherence -  0.5134405228346858\n",
      "Iteration num -  185  Topics -  20  Alpha -  0.01  Beta -  symmetric  Coherence -  0.5264283229925548\n",
      "Iteration num -  186  Topics -  20  Alpha -  0.31  Beta -  0.01  Coherence -  0.5493383910282565\n",
      "Iteration num -  187  Topics -  20  Alpha -  0.31  Beta -  0.31  Coherence -  0.504950053778654\n",
      "Iteration num -  188  Topics -  20  Alpha -  0.31  Beta -  0.61  Coherence -  0.5674072766187216\n",
      "Iteration num -  189  Topics -  20  Alpha -  0.31  Beta -  0.91  Coherence -  0.5387586150082181\n",
      "Iteration num -  190  Topics -  20  Alpha -  0.31  Beta -  symmetric  Coherence -  0.5651434095298566\n",
      "Iteration num -  191  Topics -  20  Alpha -  0.61  Beta -  0.01  Coherence -  0.5355116456368634\n",
      "Iteration num -  192  Topics -  20  Alpha -  0.61  Beta -  0.31  Coherence -  0.5274815896019786\n",
      "Iteration num -  193  Topics -  20  Alpha -  0.61  Beta -  0.61  Coherence -  0.4897350773232946\n",
      "Iteration num -  194  Topics -  20  Alpha -  0.61  Beta -  0.91  Coherence -  0.5020847960646638\n",
      "Iteration num -  195  Topics -  20  Alpha -  0.61  Beta -  symmetric  Coherence -  0.5125407225273837\n",
      "Iteration num -  196  Topics -  20  Alpha -  0.91  Beta -  0.01  Coherence -  0.5562366195140624\n",
      "Iteration num -  197  Topics -  20  Alpha -  0.91  Beta -  0.31  Coherence -  0.5257443348725718\n",
      "Iteration num -  198  Topics -  20  Alpha -  0.91  Beta -  0.61  Coherence -  0.5065019751312391\n",
      "Iteration num -  199  Topics -  20  Alpha -  0.91  Beta -  0.91  Coherence -  0.5099170911570235\n",
      "Iteration num -  200  Topics -  20  Alpha -  0.91  Beta -  symmetric  Coherence -  0.5466232238029277\n",
      "Iteration num -  201  Topics -  20  Alpha -  symmetric  Beta -  0.01  Coherence -  0.5514353698115366\n",
      "Iteration num -  202  Topics -  20  Alpha -  symmetric  Beta -  0.31  Coherence -  0.5350489667557914\n",
      "Iteration num -  203  Topics -  20  Alpha -  symmetric  Beta -  0.61  Coherence -  0.5177933769127498\n",
      "Iteration num -  204  Topics -  20  Alpha -  symmetric  Beta -  0.91  Coherence -  0.5039805243077697\n",
      "Iteration num -  205  Topics -  20  Alpha -  symmetric  Beta -  symmetric  Coherence -  0.5459888023147526\n",
      "Iteration num -  206  Topics -  20  Alpha -  asymmetric  Beta -  0.01  Coherence -  0.539652169345436\n",
      "Iteration num -  207  Topics -  20  Alpha -  asymmetric  Beta -  0.31  Coherence -  0.5591006461026296\n",
      "Iteration num -  208  Topics -  20  Alpha -  asymmetric  Beta -  0.61  Coherence -  0.4900405587612718\n",
      "Iteration num -  209  Topics -  20  Alpha -  asymmetric  Beta -  0.91  Coherence -  0.4732383563246995\n",
      "Iteration num -  210  Topics -  20  Alpha -  asymmetric  Beta -  symmetric  Coherence -  0.5751360400187947\n",
      "Iteration num -  211  Topics -  22  Alpha -  0.01  Beta -  0.01  Coherence -  0.5599336343509862\n",
      "Iteration num -  212  Topics -  22  Alpha -  0.01  Beta -  0.31  Coherence -  0.5465312524774133\n",
      "Iteration num -  213  Topics -  22  Alpha -  0.01  Beta -  0.61  Coherence -  0.5257067487899897\n",
      "Iteration num -  214  Topics -  22  Alpha -  0.01  Beta -  0.91  Coherence -  0.5256878554348856\n",
      "Iteration num -  215  Topics -  22  Alpha -  0.01  Beta -  symmetric  Coherence -  0.547118500864768\n",
      "Iteration num -  216  Topics -  22  Alpha -  0.31  Beta -  0.01  Coherence -  0.5185163001296718\n",
      "Iteration num -  217  Topics -  22  Alpha -  0.31  Beta -  0.31  Coherence -  0.49508153486350537\n",
      "Iteration num -  218  Topics -  22  Alpha -  0.31  Beta -  0.61  Coherence -  0.5231205245304473\n",
      "Iteration num -  219  Topics -  22  Alpha -  0.31  Beta -  0.91  Coherence -  0.48866342506283184\n",
      "Iteration num -  220  Topics -  22  Alpha -  0.31  Beta -  symmetric  Coherence -  0.5163974110701225\n",
      "Iteration num -  221  Topics -  22  Alpha -  0.61  Beta -  0.01  Coherence -  0.525159398518218\n",
      "Iteration num -  222  Topics -  22  Alpha -  0.61  Beta -  0.31  Coherence -  0.5076383402823911\n",
      "Iteration num -  223  Topics -  22  Alpha -  0.61  Beta -  0.61  Coherence -  0.4891822586350139\n",
      "Iteration num -  224  Topics -  22  Alpha -  0.61  Beta -  0.91  Coherence -  0.4991534872273101\n",
      "Iteration num -  225  Topics -  22  Alpha -  0.61  Beta -  symmetric  Coherence -  0.5141309197895279\n",
      "Iteration num -  226  Topics -  22  Alpha -  0.91  Beta -  0.01  Coherence -  0.5531070274184778\n",
      "Iteration num -  227  Topics -  22  Alpha -  0.91  Beta -  0.31  Coherence -  0.4952952669225409\n",
      "Iteration num -  228  Topics -  22  Alpha -  0.91  Beta -  0.61  Coherence -  0.5120035329170052\n",
      "Iteration num -  229  Topics -  22  Alpha -  0.91  Beta -  0.91  Coherence -  0.5123772598961573\n",
      "Iteration num -  230  Topics -  22  Alpha -  0.91  Beta -  symmetric  Coherence -  0.5074580176385743\n",
      "Iteration num -  231  Topics -  22  Alpha -  symmetric  Beta -  0.01  Coherence -  0.5404096541975858\n",
      "Iteration num -  232  Topics -  22  Alpha -  symmetric  Beta -  0.31  Coherence -  0.5100074585990855\n",
      "Iteration num -  233  Topics -  22  Alpha -  symmetric  Beta -  0.61  Coherence -  0.5360557463654075\n",
      "Iteration num -  234  Topics -  22  Alpha -  symmetric  Beta -  0.91  Coherence -  0.49896259663274195\n",
      "Iteration num -  235  Topics -  22  Alpha -  symmetric  Beta -  symmetric  Coherence -  0.5266976837485845\n",
      "Iteration num -  236  Topics -  22  Alpha -  asymmetric  Beta -  0.01  Coherence -  0.5471296427965613\n",
      "Iteration num -  237  Topics -  22  Alpha -  asymmetric  Beta -  0.31  Coherence -  0.5052956210636231\n",
      "Iteration num -  238  Topics -  22  Alpha -  asymmetric  Beta -  0.61  Coherence -  0.4801955069092116\n",
      "Iteration num -  239  Topics -  22  Alpha -  asymmetric  Beta -  0.91  Coherence -  0.4825569556666205\n",
      "Iteration num -  240  Topics -  22  Alpha -  asymmetric  Beta -  symmetric  Coherence -  0.5147730414508439\n",
      "Iteration num -  241  Topics -  24  Alpha -  0.01  Beta -  0.01  Coherence -  0.5589221511946317\n",
      "Iteration num -  242  Topics -  24  Alpha -  0.01  Beta -  0.31  Coherence -  0.5185037815991788\n",
      "Iteration num -  243  Topics -  24  Alpha -  0.01  Beta -  0.61  Coherence -  0.5039673201068156\n",
      "Iteration num -  244  Topics -  24  Alpha -  0.01  Beta -  0.91  Coherence -  0.5674628620293721\n",
      "Iteration num -  245  Topics -  24  Alpha -  0.01  Beta -  symmetric  Coherence -  0.5571814784201884\n",
      "Iteration num -  246  Topics -  24  Alpha -  0.31  Beta -  0.01  Coherence -  0.512795728015968\n",
      "Iteration num -  247  Topics -  24  Alpha -  0.31  Beta -  0.31  Coherence -  0.4887678466866106\n",
      "Iteration num -  248  Topics -  24  Alpha -  0.31  Beta -  0.61  Coherence -  0.4911104326743401\n",
      "Iteration num -  249  Topics -  24  Alpha -  0.31  Beta -  0.91  Coherence -  0.5009567470849056\n"
     ]
    },
    {
     "name": "stdout",
     "output_type": "stream",
     "text": [
      "Iteration num -  250  Topics -  24  Alpha -  0.31  Beta -  symmetric  Coherence -  0.5238443601169086\n",
      "Iteration num -  251  Topics -  24  Alpha -  0.61  Beta -  0.01  Coherence -  0.5376170889052788\n",
      "Iteration num -  252  Topics -  24  Alpha -  0.61  Beta -  0.31  Coherence -  0.4672027397095091\n",
      "Iteration num -  253  Topics -  24  Alpha -  0.61  Beta -  0.61  Coherence -  0.438295175844233\n",
      "Iteration num -  254  Topics -  24  Alpha -  0.61  Beta -  0.91  Coherence -  0.4620873418502766\n",
      "Iteration num -  255  Topics -  24  Alpha -  0.61  Beta -  symmetric  Coherence -  0.5249412271796837\n",
      "Iteration num -  256  Topics -  24  Alpha -  0.91  Beta -  0.01  Coherence -  0.5584134866266733\n",
      "Iteration num -  257  Topics -  24  Alpha -  0.91  Beta -  0.31  Coherence -  0.5125115760250137\n",
      "Iteration num -  258  Topics -  24  Alpha -  0.91  Beta -  0.61  Coherence -  0.47418900205253856\n",
      "Iteration num -  259  Topics -  24  Alpha -  0.91  Beta -  0.91  Coherence -  0.44607924010382183\n",
      "Iteration num -  260  Topics -  24  Alpha -  0.91  Beta -  symmetric  Coherence -  0.5350948082100998\n",
      "Iteration num -  261  Topics -  24  Alpha -  symmetric  Beta -  0.01  Coherence -  0.5397647697204566\n",
      "Iteration num -  262  Topics -  24  Alpha -  symmetric  Beta -  0.31  Coherence -  0.5207213237957585\n",
      "Iteration num -  263  Topics -  24  Alpha -  symmetric  Beta -  0.61  Coherence -  0.4935809638690643\n",
      "Iteration num -  264  Topics -  24  Alpha -  symmetric  Beta -  0.91  Coherence -  0.48275265185119104\n",
      "Iteration num -  265  Topics -  24  Alpha -  symmetric  Beta -  symmetric  Coherence -  0.519618185118439\n",
      "Iteration num -  266  Topics -  24  Alpha -  asymmetric  Beta -  0.01  Coherence -  0.5305489659363324\n",
      "Iteration num -  267  Topics -  24  Alpha -  asymmetric  Beta -  0.31  Coherence -  0.5029001315332776\n",
      "Iteration num -  268  Topics -  24  Alpha -  asymmetric  Beta -  0.61  Coherence -  0.5056355415205764\n",
      "Iteration num -  269  Topics -  24  Alpha -  asymmetric  Beta -  0.91  Coherence -  0.47725813501775005\n",
      "Iteration num -  270  Topics -  24  Alpha -  asymmetric  Beta -  symmetric  Coherence -  0.5414013520240198\n"
     ]
    }
   ],
   "source": [
    "# LDA model and its corresponding Coherence Score\n",
    "def compute_coherence_values(bow_corpus, id2word, n, a, b):\n",
    "    lda_model = gensim.models.LdaMulticore(corpus=bow_corpus\n",
    "                                           ,id2word=id2word\n",
    "                                           ,num_topics=n\n",
    "                                           ,random_state=random_state\n",
    "                                           ,chunksize=chunksize\n",
    "                                           ,passes=10\n",
    "                                           ,alpha=a\n",
    "                                           ,eta=b)\n",
    "    coherence_model_lda = CoherenceModel(model=lda_model, texts=data_words, dictionary=id2word, coherence='c_v')\n",
    "    return coherence_model_lda.get_coherence()\n",
    "\n",
    "grid = {}\n",
    "grid['Validation_Set'] = {}\n",
    "\n",
    "# Topics range\n",
    "min_topics = 8\n",
    "max_topics = 25\n",
    "step_size = 2\n",
    "topics_range = range(min_topics, max_topics, step_size)\n",
    "\n",
    "# Alpha parameter\n",
    "alpha = [0.01, 0.31, 0.61, 0.91, 'symmetric', 'asymmetric']\n",
    "\n",
    "# Beta parameter\n",
    "beta = [0.01, 0.31, 0.61, 0.91, 'symmetric']\n",
    "\n",
    "model_results = {'Topics': []\n",
    "                 ,'Alpha': []\n",
    "                 ,'Beta': []\n",
    "                 ,'Coherence': []\n",
    "                }\n",
    "\n",
    "# iterate through number of topics\n",
    "iter = 0\n",
    "for k in topics_range:\n",
    "    # iterate through alpha values\n",
    "    for a in alpha:\n",
    "        # iterare through beta values\n",
    "        for b in beta:\n",
    "            iter += 1\n",
    "            # get the coherence score for the given parameters\n",
    "            cv = compute_coherence_values(bow_corpus=corpus\n",
    "                                          ,id2word=id2word\n",
    "                                          ,n=k\n",
    "                                          ,a=a\n",
    "                                          ,b=b)\n",
    "            # Save the model results\n",
    "            model_results['Topics'].append(k)\n",
    "            model_results['Alpha'].append(a)\n",
    "            model_results['Beta'].append(b)\n",
    "            model_results['Coherence'].append(cv)\n",
    "            print('Iteration num - ', iter, ' Topics - ', k, ' Alpha - ', a, ' Beta - ', b, ' Coherence - ', cv)\n",
    "\n",
    "pd.DataFrame(model_results).to_csv(file_model + '_lda_tuning_results.csv', index=False)"
   ]
  },
  {
   "cell_type": "code",
   "execution_count": 14,
   "metadata": {},
   "outputs": [
    {
     "name": "stderr",
     "output_type": "stream",
     "text": [
      "C:\\Users\\minio\\anaconda3\\envs\\tfm-py-37\\lib\\site-packages\\ipykernel\\ipkernel.py:287: DeprecationWarning: `should_run_async` will not call `transform_cell` automatically in the future. Please pass the result to `transformed_cell` argument and any exception that happen during thetransform in `preprocessing_exc_tuple` in IPython 7.17 and above.\n",
      "  and should_run_async(code)\n"
     ]
    },
    {
     "data": {
      "text/html": [
       "<div>\n",
       "<style scoped>\n",
       "    .dataframe tbody tr th:only-of-type {\n",
       "        vertical-align: middle;\n",
       "    }\n",
       "\n",
       "    .dataframe tbody tr th {\n",
       "        vertical-align: top;\n",
       "    }\n",
       "\n",
       "    .dataframe thead th {\n",
       "        text-align: right;\n",
       "    }\n",
       "</style>\n",
       "<table border=\"1\" class=\"dataframe\">\n",
       "  <thead>\n",
       "    <tr style=\"text-align: right;\">\n",
       "      <th></th>\n",
       "      <th>Topics</th>\n",
       "      <th>Alpha</th>\n",
       "      <th>Beta</th>\n",
       "      <th>Coherence</th>\n",
       "    </tr>\n",
       "  </thead>\n",
       "  <tbody>\n",
       "    <tr>\n",
       "      <th>128</th>\n",
       "      <td>16</td>\n",
       "      <td>0.31</td>\n",
       "      <td>0.91</td>\n",
       "      <td>0.614211</td>\n",
       "    </tr>\n",
       "    <tr>\n",
       "      <th>139</th>\n",
       "      <td>16</td>\n",
       "      <td>0.91</td>\n",
       "      <td>symmetric</td>\n",
       "      <td>0.607177</td>\n",
       "    </tr>\n",
       "    <tr>\n",
       "      <th>158</th>\n",
       "      <td>18</td>\n",
       "      <td>0.31</td>\n",
       "      <td>0.91</td>\n",
       "      <td>0.597790</td>\n",
       "    </tr>\n",
       "    <tr>\n",
       "      <th>164</th>\n",
       "      <td>18</td>\n",
       "      <td>0.61</td>\n",
       "      <td>symmetric</td>\n",
       "      <td>0.594144</td>\n",
       "    </tr>\n",
       "    <tr>\n",
       "      <th>137</th>\n",
       "      <td>16</td>\n",
       "      <td>0.91</td>\n",
       "      <td>0.61</td>\n",
       "      <td>0.592289</td>\n",
       "    </tr>\n",
       "    <tr>\n",
       "      <th>...</th>\n",
       "      <td>...</td>\n",
       "      <td>...</td>\n",
       "      <td>...</td>\n",
       "      <td>...</td>\n",
       "    </tr>\n",
       "    <tr>\n",
       "      <th>97</th>\n",
       "      <td>14</td>\n",
       "      <td>0.31</td>\n",
       "      <td>0.61</td>\n",
       "      <td>0.432582</td>\n",
       "    </tr>\n",
       "    <tr>\n",
       "      <th>6</th>\n",
       "      <td>8</td>\n",
       "      <td>0.31</td>\n",
       "      <td>0.31</td>\n",
       "      <td>0.425833</td>\n",
       "    </tr>\n",
       "    <tr>\n",
       "      <th>112</th>\n",
       "      <td>14</td>\n",
       "      <td>symmetric</td>\n",
       "      <td>0.61</td>\n",
       "      <td>0.425701</td>\n",
       "    </tr>\n",
       "    <tr>\n",
       "      <th>1</th>\n",
       "      <td>8</td>\n",
       "      <td>0.01</td>\n",
       "      <td>0.31</td>\n",
       "      <td>0.412091</td>\n",
       "    </tr>\n",
       "    <tr>\n",
       "      <th>8</th>\n",
       "      <td>8</td>\n",
       "      <td>0.31</td>\n",
       "      <td>0.91</td>\n",
       "      <td>0.388806</td>\n",
       "    </tr>\n",
       "  </tbody>\n",
       "</table>\n",
       "<p>270 rows × 4 columns</p>\n",
       "</div>"
      ],
      "text/plain": [
       "     Topics      Alpha       Beta  Coherence\n",
       "128      16       0.31       0.91   0.614211\n",
       "139      16       0.91  symmetric   0.607177\n",
       "158      18       0.31       0.91   0.597790\n",
       "164      18       0.61  symmetric   0.594144\n",
       "137      16       0.91       0.61   0.592289\n",
       "..      ...        ...        ...        ...\n",
       "97       14       0.31       0.61   0.432582\n",
       "6         8       0.31       0.31   0.425833\n",
       "112      14  symmetric       0.61   0.425701\n",
       "1         8       0.01       0.31   0.412091\n",
       "8         8       0.31       0.91   0.388806\n",
       "\n",
       "[270 rows x 4 columns]"
      ]
     },
     "execution_count": 14,
     "metadata": {},
     "output_type": "execute_result"
    }
   ],
   "source": [
    "pd.DataFrame(model_results).sort_values(by=['Coherence'], ascending=False)"
   ]
  },
  {
   "cell_type": "code",
   "execution_count": null,
   "metadata": {},
   "outputs": [],
   "source": []
  }
 ],
 "metadata": {
  "kernelspec": {
   "display_name": "Python 3",
   "language": "python",
   "name": "python3"
  },
  "language_info": {
   "codemirror_mode": {
    "name": "ipython",
    "version": 3
   },
   "file_extension": ".py",
   "mimetype": "text/x-python",
   "name": "python",
   "nbconvert_exporter": "python",
   "pygments_lexer": "ipython3",
   "version": "3.7.9"
  }
 },
 "nbformat": 4,
 "nbformat_minor": 4
}
