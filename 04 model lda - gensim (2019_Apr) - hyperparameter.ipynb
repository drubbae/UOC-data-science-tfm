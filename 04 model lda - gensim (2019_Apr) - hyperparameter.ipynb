{
 "cells": [
  {
   "cell_type": "markdown",
   "metadata": {},
   "source": [
    "# <span style=\"color:blue\">LDA model (2019_Apr) - with hyperparameter tuning</span>"
   ]
  },
  {
   "cell_type": "code",
   "execution_count": 1,
   "metadata": {},
   "outputs": [],
   "source": [
    "yyyy_MMM = '2019_Apr'"
   ]
  },
  {
   "cell_type": "markdown",
   "metadata": {},
   "source": [
    "### Load packages"
   ]
  },
  {
   "cell_type": "code",
   "execution_count": 2,
   "metadata": {},
   "outputs": [
    {
     "name": "stderr",
     "output_type": "stream",
     "text": [
      "C:\\Users\\minio\\anaconda3\\envs\\tfm-py-37\\lib\\site-packages\\botocore\\vendored\\requests\\packages\\urllib3\\_collections.py:1: DeprecationWarning: Using or importing the ABCs from 'collections' instead of from 'collections.abc' is deprecated since Python 3.3,and in 3.9 it will stop working\n",
      "  from collections import Mapping, MutableMapping\n",
      "C:\\Users\\minio\\anaconda3\\envs\\tfm-py-37\\lib\\site-packages\\botocore\\vendored\\requests\\packages\\urllib3\\_collections.py:1: DeprecationWarning: Using or importing the ABCs from 'collections' instead of from 'collections.abc' is deprecated since Python 3.3,and in 3.9 it will stop working\n",
      "  from collections import Mapping, MutableMapping\n",
      "C:\\Users\\minio\\anaconda3\\envs\\tfm-py-37\\lib\\site-packages\\scipy\\sparse\\sparsetools.py:21: DeprecationWarning: `scipy.sparse.sparsetools` is deprecated!\n",
      "scipy.sparse.sparsetools is a private module for scipy.sparse, and should not be used.\n",
      "  _deprecated()\n",
      "C:\\Users\\minio\\anaconda3\\envs\\tfm-py-37\\lib\\site-packages\\gensim\\models\\doc2vec.py:73: DeprecationWarning: Using or importing the ABCs from 'collections' instead of from 'collections.abc' is deprecated since Python 3.3,and in 3.9 it will stop working\n",
      "  from collections import namedtuple, defaultdict, Iterable\n",
      "[nltk_data] Downloading package stopwords to\n",
      "[nltk_data]     C:\\Users\\minio\\AppData\\Roaming\\nltk_data...\n",
      "[nltk_data]   Package stopwords is already up-to-date!\n",
      "[nltk_data] Downloading package averaged_perceptron_tagger to\n",
      "[nltk_data]     C:\\Users\\minio\\AppData\\Roaming\\nltk_data...\n",
      "[nltk_data]   Package averaged_perceptron_tagger is already up-to-\n",
      "[nltk_data]       date!\n"
     ]
    },
    {
     "data": {
      "text/plain": [
       "True"
      ]
     },
     "execution_count": 2,
     "metadata": {},
     "output_type": "execute_result"
    }
   ],
   "source": [
    "import csv, os, re, time\n",
    "import numpy as np\n",
    "from numpy import savetxt\n",
    "import pandas as  pd\n",
    "import matplotlib.pyplot as plt  \n",
    "import pyLDAvis\n",
    "import pyLDAvis.gensim\n",
    "import gensim\n",
    "import gensim.corpora as corpora\n",
    "from gensim.corpora.dictionary import Dictionary\n",
    "from gensim.models import CoherenceModel\n",
    "from gensim.test.utils import datapath\n",
    "from gensim.utils import simple_preprocess\n",
    "from pprint import pprint\n",
    "import nltk\n",
    "nltk.download('stopwords')\n",
    "nltk.download('averaged_perceptron_tagger')"
   ]
  },
  {
   "cell_type": "markdown",
   "metadata": {},
   "source": [
    "### Constants"
   ]
  },
  {
   "cell_type": "code",
   "execution_count": 3,
   "metadata": {},
   "outputs": [
    {
     "name": "stdout",
     "output_type": "stream",
     "text": [
      "D:\\master\\data science\\semestre 4\\M2.979 - tfm\\data\\bins_test\\doc\\2019_Apr\\2019_Apr_28_results.csv\n",
      "D:\\master\\data science\\semestre 4\\M2.979 - tfm\\data\\bins_test\\model_hyperparameter\\2019_Apr\\model\n"
     ]
    },
    {
     "name": "stderr",
     "output_type": "stream",
     "text": [
      "C:\\Users\\minio\\anaconda3\\envs\\tfm-py-37\\lib\\site-packages\\ipykernel\\ipkernel.py:287: DeprecationWarning: `should_run_async` will not call `transform_cell` automatically in the future. Please pass the result to `transformed_cell` argument and any exception that happen during thetransform in `preprocessing_exc_tuple` in IPython 7.17 and above.\n",
      "  and should_run_async(code)\n"
     ]
    }
   ],
   "source": [
    "# for reproducible results\n",
    "random_state = 33\n",
    "# if the test is True, the process runs on a smaller subset of raw data (json files)\n",
    "test = True\n",
    "# if sample > 0, then we take a sample of the entire dataset (for debugging purpose)\n",
    "sample = 0\n",
    "# parameters to build the lda model\n",
    "num_topics = 10\n",
    "alpha = 0.91\n",
    "eta = 'symmetric'\n",
    "\n",
    "if test:\n",
    "    # path with the documents preprocessed\n",
    "    path_doc = r'D:\\master\\data science\\semestre 4\\M2.979 - tfm\\data\\bins_test\\doc'\n",
    "    # path where store all data/results related to the model\n",
    "    path_model = r'D:\\master\\data science\\semestre 4\\M2.979 - tfm\\data\\bins_test\\model_hyperparameter'\n",
    "    # chunksize to build LDA model\n",
    "    chunksize = 250\n",
    "else:\n",
    "    # path with the documents preprocessed\n",
    "    path_doc = r'D:\\master\\data science\\semestre 4\\M2.979 - tfm\\data\\bins\\doc'\n",
    "    # path where store all data/results related to the model\n",
    "    path_model = r'D:\\master\\data science\\semestre 4\\M2.979 - tfm\\data\\bins\\model_hyperparameter'\n",
    "    # chunksize to build LDA model\n",
    "    chunksize = 5000\n",
    "\n",
    "# path + name of the file that contains the documents preprocessed\n",
    "file_doc = os.path.join(path_doc, yyyy_MMM, yyyy_MMM) + '_28_results.csv'\n",
    "# path + name of the file that contains the model gotten at the end\n",
    "file_model = os.path.join(path_model, yyyy_MMM, 'model')\n",
    "print(file_doc)\n",
    "print(file_model)"
   ]
  },
  {
   "cell_type": "markdown",
   "metadata": {},
   "source": [
    "### Load data preprocessed"
   ]
  },
  {
   "cell_type": "code",
   "execution_count": 4,
   "metadata": {},
   "outputs": [
    {
     "name": "stderr",
     "output_type": "stream",
     "text": [
      "C:\\Users\\minio\\anaconda3\\envs\\tfm-py-37\\lib\\site-packages\\ipykernel\\ipkernel.py:287: DeprecationWarning: `should_run_async` will not call `transform_cell` automatically in the future. Please pass the result to `transformed_cell` argument and any exception that happen during thetransform in `preprocessing_exc_tuple` in IPython 7.17 and above.\n",
      "  and should_run_async(code)\n"
     ]
    },
    {
     "data": {
      "text/plain": [
       "id_doc\n",
       "52688    ['mousse', 'thym', 'sorbet', 'pomme', 'verte',...\n",
       "28645    ['awesome', 'lollipop', 'smooth', 'model', 'ka...\n",
       "27925    ['yass', 'thursday', 'model', 'mexico', 'chell...\n",
       "52700    ['thibault', 'dier', 'paris', 'yummy', 'food',...\n",
       "28058    ['masino', 'texas', 'tuesday', 'twin', 'peak',...\n",
       "20791                                    ['heart', 'race']\n",
       "20450                       ['discover', 'nueva', 'negro']\n",
       "20725    ['year', 'today', 'release', 'black', 'side', ...\n",
       "4930     ['christine', 'foerster', 'winner', 'england',...\n",
       "28512    ['blonde', 'bombshell', 'model', 'unchained', ...\n",
       "Name: content_preprocessed, dtype: object"
      ]
     },
     "execution_count": 4,
     "metadata": {},
     "output_type": "execute_result"
    }
   ],
   "source": [
    "df = pd.read_csv(file_doc, index_col='id_doc')\n",
    "documents = df.content_preprocessed\n",
    "documents.head(10)"
   ]
  },
  {
   "cell_type": "markdown",
   "metadata": {},
   "source": [
    "### Shuffle"
   ]
  },
  {
   "cell_type": "code",
   "execution_count": 5,
   "metadata": {},
   "outputs": [
    {
     "name": "stderr",
     "output_type": "stream",
     "text": [
      "C:\\Users\\minio\\anaconda3\\envs\\tfm-py-37\\lib\\site-packages\\ipykernel\\ipkernel.py:287: DeprecationWarning: `should_run_async` will not call `transform_cell` automatically in the future. Please pass the result to `transformed_cell` argument and any exception that happen during thetransform in `preprocessing_exc_tuple` in IPython 7.17 and above.\n",
      "  and should_run_async(code)\n"
     ]
    },
    {
     "data": {
      "text/plain": [
       "id_doc\n",
       "16744    ['hrithik', 'roshan', 'preity', 'zinta', 'clic...\n",
       "52434    ['poire', 'vinaigrette', 'lipp', 'brasserie', ...\n",
       "36324                                ['lovely', 'couture']\n",
       "42519    ['post', 'gourmet', 'hoku', 'food', 'food', 't...\n",
       "4998     ['elora', 'winner', 'master', 'class', 'natura...\n",
       "52643    ['plomb', 'poire', 'fraisgavottespincpavyll', ...\n",
       "36246    ['beautiful', 'seal', 'dress', 'princely', 'ge...\n",
       "52500    ['bonne', 'petite', 'chezschrannerswaldhorn', ...\n",
       "24378    ['duro', 'entrenamiento', 'ricardo', 'matos', ...\n",
       "21021    ['premiere', 'olah', 'beat', 'odds', 'live', '...\n",
       "Name: content_preprocessed, dtype: object"
      ]
     },
     "execution_count": 5,
     "metadata": {},
     "output_type": "execute_result"
    }
   ],
   "source": [
    "documents = documents.sample(frac=1, random_state=random_state)\n",
    "documents.head(10)"
   ]
  },
  {
   "cell_type": "markdown",
   "metadata": {},
   "source": [
    "### Sample"
   ]
  },
  {
   "cell_type": "code",
   "execution_count": 6,
   "metadata": {},
   "outputs": [
    {
     "name": "stderr",
     "output_type": "stream",
     "text": [
      "C:\\Users\\minio\\anaconda3\\envs\\tfm-py-37\\lib\\site-packages\\ipykernel\\ipkernel.py:287: DeprecationWarning: `should_run_async` will not call `transform_cell` automatically in the future. Please pass the result to `transformed_cell` argument and any exception that happen during thetransform in `preprocessing_exc_tuple` in IPython 7.17 and above.\n",
      "  and should_run_async(code)\n"
     ]
    }
   ],
   "source": [
    "if sample > 0:\n",
    "    documents = documents.sample(n=sample, random_state=random_state)\n",
    "    print(documents.head(10))"
   ]
  },
  {
   "cell_type": "markdown",
   "metadata": {},
   "source": [
    "### Plot the number of words appearing in each document  \n",
    "\n",
    "https://neptune.ai/blog/exploratory-data-analysis-natural-language-processing-tools"
   ]
  },
  {
   "cell_type": "code",
   "execution_count": 7,
   "metadata": {},
   "outputs": [
    {
     "name": "stdout",
     "output_type": "stream",
     "text": [
      "(4409,)\n"
     ]
    },
    {
     "name": "stderr",
     "output_type": "stream",
     "text": [
      "C:\\Users\\minio\\anaconda3\\envs\\tfm-py-37\\lib\\site-packages\\ipykernel\\ipkernel.py:287: DeprecationWarning: `should_run_async` will not call `transform_cell` automatically in the future. Please pass the result to `transformed_cell` argument and any exception that happen during thetransform in `preprocessing_exc_tuple` in IPython 7.17 and above.\n",
      "  and should_run_async(code)\n"
     ]
    },
    {
     "data": {
      "text/plain": [
       "<AxesSubplot:>"
      ]
     },
     "execution_count": 7,
     "metadata": {},
     "output_type": "execute_result"
    },
    {
     "data": {
      "image/png": "[encoded data removed]",
      "text/plain": [
       "<Figure size 432x288 with 1 Axes>"
      ]
     },
     "metadata": {
      "needs_background": "light"
     },
     "output_type": "display_data"
    }
   ],
   "source": [
    "print(documents.shape)\n",
    "\n",
    "documents.str.split().\\\n",
    "    map(lambda x: len(x)).\\\n",
    "    hist()"
   ]
  },
  {
   "cell_type": "markdown",
   "metadata": {},
   "source": [
    "### Remove words that appear only once"
   ]
  },
  {
   "cell_type": "code",
   "execution_count": 8,
   "metadata": {},
   "outputs": [
    {
     "name": "stderr",
     "output_type": "stream",
     "text": [
      "C:\\Users\\minio\\anaconda3\\envs\\tfm-py-37\\lib\\site-packages\\ipykernel\\ipkernel.py:287: DeprecationWarning: `should_run_async` will not call `transform_cell` automatically in the future. Please pass the result to `transformed_cell` argument and any exception that happen during thetransform in `preprocessing_exc_tuple` in IPython 7.17 and above.\n",
      "  and should_run_async(code)\n"
     ]
    }
   ],
   "source": [
    "####################### PENDING"
   ]
  },
  {
   "cell_type": "markdown",
   "metadata": {},
   "source": [
    "### Tokenize words and Clean-up text"
   ]
  },
  {
   "cell_type": "code",
   "execution_count": 9,
   "metadata": {},
   "outputs": [
    {
     "name": "stderr",
     "output_type": "stream",
     "text": [
      "C:\\Users\\minio\\anaconda3\\envs\\tfm-py-37\\lib\\site-packages\\ipykernel\\ipkernel.py:287: DeprecationWarning: `should_run_async` will not call `transform_cell` automatically in the future. Please pass the result to `transformed_cell` argument and any exception that happen during thetransform in `preprocessing_exc_tuple` in IPython 7.17 and above.\n",
      "  and should_run_async(code)\n"
     ]
    }
   ],
   "source": [
    "# https://www.machinelearningplus.com/nlp/topic-modeling-gensim-python/#3importpackages\n",
    "def sent_to_words(sentences):\n",
    "    for sentence in sentences:\n",
    "        yield(gensim.utils.simple_preprocess(str(sentence), deacc=True))  # deacc=True removes punctuations"
   ]
  },
  {
   "cell_type": "markdown",
   "metadata": {},
   "source": [
    "### Compute bigrams & trigrams  \n",
    "\n",
    "https://radimrehurek.com/gensim/auto_examples/tutorials/run_lda.html#pre-process-and-vectorize-the-documents"
   ]
  },
  {
   "cell_type": "code",
   "execution_count": 10,
   "metadata": {},
   "outputs": [
    {
     "name": "stderr",
     "output_type": "stream",
     "text": [
      "C:\\Users\\minio\\anaconda3\\envs\\tfm-py-37\\lib\\site-packages\\ipykernel\\ipkernel.py:287: DeprecationWarning: `should_run_async` will not call `transform_cell` automatically in the future. Please pass the result to `transformed_cell` argument and any exception that happen during thetransform in `preprocessing_exc_tuple` in IPython 7.17 and above.\n",
      "  and should_run_async(code)\n"
     ]
    }
   ],
   "source": [
    "from gensim.models import Phrases\n",
    "\n",
    "# Add bigrams and trigrams to docs (only ones that appear min_count times or more).\n",
    "def bi_tri_grams(documents, min_count):\n",
    "    bigram = Phrases(documents, min_count=min_count)\n",
    "    for idx in range(len(documents)):\n",
    "        for token in bigram[documents[idx]]:\n",
    "            if '_' in token:\n",
    "                # Token is a bigram, add to document.\n",
    "                documents[idx].append(token)"
   ]
  },
  {
   "cell_type": "markdown",
   "metadata": {},
   "source": [
    "### Categorizing and tagging words"
   ]
  },
  {
   "cell_type": "code",
   "execution_count": 11,
   "metadata": {},
   "outputs": [
    {
     "name": "stderr",
     "output_type": "stream",
     "text": [
      "C:\\Users\\minio\\anaconda3\\envs\\tfm-py-37\\lib\\site-packages\\ipykernel\\ipkernel.py:287: DeprecationWarning: `should_run_async` will not call `transform_cell` automatically in the future. Please pass the result to `transformed_cell` argument and any exception that happen during thetransform in `preprocessing_exc_tuple` in IPython 7.17 and above.\n",
      "  and should_run_async(code)\n"
     ]
    }
   ],
   "source": [
    "# function to remove accented characters\n",
    "def tag_words(text):\n",
    "    tags = nltk.pos_tag(text)\n",
    "    nouns = [word for word, pos in tags if (pos == 'NN' or pos == 'NNP' or pos == 'NNS' or pos == 'NNPS')]\n",
    "    return nouns"
   ]
  },
  {
   "cell_type": "markdown",
   "metadata": {},
   "source": [
    "### Dictionary with the entire dataset"
   ]
  },
  {
   "cell_type": "code",
   "execution_count": 12,
   "metadata": {},
   "outputs": [
    {
     "name": "stderr",
     "output_type": "stream",
     "text": [
      "C:\\Users\\minio\\anaconda3\\envs\\tfm-py-37\\lib\\site-packages\\ipykernel\\ipkernel.py:287: DeprecationWarning: `should_run_async` will not call `transform_cell` automatically in the future. Please pass the result to `transformed_cell` argument and any exception that happen during thetransform in `preprocessing_exc_tuple` in IPython 7.17 and above.\n",
      "  and should_run_async(code)\n"
     ]
    }
   ],
   "source": [
    "data_words = list(sent_to_words(documents))\n",
    "# Compute bigrams & trigrams\n",
    "bi_tri_grams(data_words, 250)\n",
    "# Categorizing and tagging words\n",
    "data_words = list(map(tag_words, data_words))\n",
    "# Create Dictionary\n",
    "id2word = Dictionary(data_words)\n",
    "# Create Corpus\n",
    "texts = data_words\n",
    "# Term Document Frequency\n",
    "corpus_total = [id2word.doc2bow(text) for text in texts]"
   ]
  },
  {
   "cell_type": "markdown",
   "metadata": {},
   "source": [
    "### Build LDA model"
   ]
  },
  {
   "cell_type": "code",
   "execution_count": 13,
   "metadata": {},
   "outputs": [
    {
     "name": "stderr",
     "output_type": "stream",
     "text": [
      "C:\\Users\\minio\\anaconda3\\envs\\tfm-py-37\\lib\\site-packages\\ipykernel\\ipkernel.py:287: DeprecationWarning: `should_run_async` will not call `transform_cell` automatically in the future. Please pass the result to `transformed_cell` argument and any exception that happen during thetransform in `preprocessing_exc_tuple` in IPython 7.17 and above.\n",
      "  and should_run_async(code)\n"
     ]
    },
    {
     "name": "stdout",
     "output_type": "stream",
     "text": [
      "time elapsed - 00:00:34.50\n"
     ]
    }
   ],
   "source": [
    "perplexity_score = []\n",
    "coherence_score = []\n",
    "indixes = []\n",
    "\n",
    "index = 0\n",
    "chunk_size = 250\n",
    "documents_sample = documents[index:chunk_size-1]\n",
    "\n",
    "time_start = time.time()\n",
    "\n",
    "data_words = list(sent_to_words(documents_sample))\n",
    "# Compute bigrams & trigrams\n",
    "bi_tri_grams(data_words, 250)\n",
    "# Categorizing and tagging words\n",
    "data_words = list(map(tag_words, data_words))\n",
    "# # Create Dictionary\n",
    "# id2word = Dictionary(data_words)\n",
    "# Create Corpus\n",
    "texts = data_words\n",
    "# Term Document Frequency\n",
    "corpus = [id2word.doc2bow(text) for text in texts]\n",
    "# Build LDA Model\n",
    "lda_model = gensim.models.LdaMulticore(corpus=corpus\n",
    "                                       ,id2word=id2word\n",
    "                                       ,num_topics=num_topics\n",
    "                                       ,random_state=random_state\n",
    "                                       ,chunksize=chunksize\n",
    "                                       ,passes=50\n",
    "                                       ,per_word_topics=True\n",
    "                                       ,alpha=alpha\n",
    "                                       ,eta=eta)\n",
    "\n",
    "indixes.append(index)\n",
    "\n",
    "# Evaluate LDA Model\n",
    "# Compute Perplexity Score\n",
    "perplexity = lda_model.log_perplexity(corpus)\n",
    "perplexity_score.append(perplexity)\n",
    "\n",
    "# Evaluate LDA Model\n",
    "# Compute Coherence Score\n",
    "coherence_lda_model = CoherenceModel(model=lda_model, texts=data_words, dictionary=id2word, coherence='c_v')\n",
    "coherence = coherence_lda_model.get_coherence()\n",
    "coherence_score.append(coherence)\n",
    "\n",
    "# Save LDA Model\n",
    "temp_file = datapath(file_model)\n",
    "lda_model.save(temp_file)\n",
    "temp_file = datapath(file_model + '_' + str(index).zfill(5))\n",
    "lda_model.save(temp_file)\n",
    "\n",
    "time_end = time.time()\n",
    "hour, rem = divmod(time_end - time_start, 3600)\n",
    "minute, second = divmod(rem, 60)\n",
    "print('time elapsed - {:0>2}:{:0>2}:{:05.2f}'.format(int(hour), int(minute), second))"
   ]
  },
  {
   "cell_type": "markdown",
   "metadata": {},
   "source": [
    "### Incremental learning"
   ]
  },
  {
   "cell_type": "code",
   "execution_count": 14,
   "metadata": {},
   "outputs": [
    {
     "name": "stdout",
     "output_type": "stream",
     "text": [
      "0  -----  250  -----  499\n"
     ]
    },
    {
     "name": "stderr",
     "output_type": "stream",
     "text": [
      "C:\\Users\\minio\\anaconda3\\envs\\tfm-py-37\\lib\\site-packages\\ipykernel\\ipkernel.py:287: DeprecationWarning: `should_run_async` will not call `transform_cell` automatically in the future. Please pass the result to `transformed_cell` argument and any exception that happen during thetransform in `preprocessing_exc_tuple` in IPython 7.17 and above.\n",
      "  and should_run_async(code)\n"
     ]
    },
    {
     "name": "stdout",
     "output_type": "stream",
     "text": [
      "time elapsed - 00:00:24.33\n",
      "1  -----  500  -----  749\n",
      "time elapsed - 00:00:25.03\n",
      "2  -----  750  -----  999\n",
      "time elapsed - 00:00:23.25\n",
      "3  -----  1000  -----  1249\n",
      "time elapsed - 00:00:23.07\n",
      "4  -----  1250  -----  1499\n",
      "time elapsed - 00:00:22.03\n",
      "5  -----  1500  -----  1749\n",
      "time elapsed - 00:00:22.47\n",
      "6  -----  1750  -----  1999\n",
      "time elapsed - 00:00:21.83\n",
      "7  -----  2000  -----  2249\n",
      "time elapsed - 00:00:21.51\n",
      "8  -----  2250  -----  2499\n",
      "time elapsed - 00:00:21.82\n",
      "9  -----  2500  -----  2749\n",
      "time elapsed - 00:00:21.71\n",
      "10  -----  2750  -----  2999\n",
      "time elapsed - 00:00:21.52\n",
      "11  -----  3000  -----  3249\n",
      "time elapsed - 00:00:25.30\n",
      "12  -----  3250  -----  3499\n",
      "time elapsed - 00:00:26.34\n",
      "13  -----  3500  -----  3749\n",
      "time elapsed - 00:00:24.26\n",
      "14  -----  3750  -----  3999\n",
      "time elapsed - 00:00:24.55\n",
      "15  -----  4000  -----  4249\n",
      "time elapsed - 00:00:23.84\n",
      "16  -----  4250  -----  4499\n",
      "time elapsed - 00:00:21.67\n"
     ]
    }
   ],
   "source": [
    "documents_len = len(documents)\n",
    "\n",
    "while index+(index+1)*chunk_size < documents_len:\n",
    "    \n",
    "    time_start = time.time()\n",
    "    \n",
    "    print(index, ' ----- ', (index+1)*chunk_size, ' ----- ', ((index+1)*chunk_size)+chunk_size-1)\n",
    "    documents_sample = documents[(index+1)*chunk_size:((index+1)*chunk_size)+chunk_size-1]\n",
    "    \n",
    "    data_words = list(sent_to_words(documents_sample))\n",
    "    # Compute bigrams & trigrams\n",
    "    bi_tri_grams(data_words, 250)\n",
    "    # Categorizing and tagging words\n",
    "    data_words = list(map(tag_words, data_words))\n",
    "    # Create Corpus\n",
    "    texts = data_words\n",
    "    # Term Document Frequency\n",
    "    corpus = [id2word.doc2bow(text) for text in texts]\n",
    "    # Load LDA Model\n",
    "    temp_file = datapath(file_model)\n",
    "    lda_model = gensim.models.ldamodel.LdaModel.load(temp_file)\n",
    "    # Update LDA Model\n",
    "    lda_model.update(corpus)\n",
    "    \n",
    "    index = index + 1\n",
    "    indixes.append(index)\n",
    "    \n",
    "    # Evaluate LDA Model\n",
    "    # Compute Perplexity Score\n",
    "    perplexity = lda_model.log_perplexity(corpus)\n",
    "    perplexity_score.append(perplexity)\n",
    "\n",
    "    # Evaluate LDA Model\n",
    "    # Compute Coherence Score\n",
    "    coherence_lda_model = CoherenceModel(model=lda_model, texts=data_words, dictionary=id2word, coherence='c_v')\n",
    "    coherence = coherence_lda_model.get_coherence()\n",
    "    coherence_score.append(coherence)\n",
    "    \n",
    "    # Save LDA Model\n",
    "    temp_file = datapath(file_model)\n",
    "    lda_model.save(temp_file)\n",
    "    temp_file = datapath(file_model + '_' + str(index).zfill(5))\n",
    "    lda_model.save(temp_file)\n",
    "    \n",
    "    time_end = time.time()\n",
    "    hour, rem = divmod(time_end - time_start, 3600)\n",
    "    minute, second = divmod(rem, 60)\n",
    "    print('time elapsed - {:0>2}:{:0>2}:{:05.2f}'.format(int(hour), int(minute), second))"
   ]
  },
  {
   "cell_type": "markdown",
   "metadata": {},
   "source": [
    "### Topics in LDA model"
   ]
  },
  {
   "cell_type": "code",
   "execution_count": 15,
   "metadata": {},
   "outputs": [
    {
     "name": "stdout",
     "output_type": "stream",
     "text": [
      "[(0,\n",
      "  '0.095*\"luxury\" + 0.033*\"family\" + 0.027*\"dash\" + 0.024*\"chanel\" + '\n",
      "  '0.024*\"dress\" + 0.022*\"time\" + 0.022*\"trend\" + 0.022*\"party\" + '\n",
      "  '0.019*\"woman\" + 0.019*\"design\"'),\n",
      " (1,\n",
      "  '0.047*\"model\" + 0.029*\"follow\" + 0.029*\"actor\" + 0.029*\"gram\" + '\n",
      "  '0.029*\"taylor\" + 0.026*\"hair\" + 0.023*\"shoot\" + 0.018*\"movie\" + '\n",
      "  '0.018*\"actress\" + 0.018*\"birthday\"'),\n",
      " (2,\n",
      "  '0.109*\"fashion\" + 0.106*\"style\" + 0.091*\"bollywood\" + 0.065*\"blogger\" + '\n",
      "  '0.027*\"outfit\" + 0.027*\"discount\" + 0.023*\"celebrity\" + 0.023*\"team\" + '\n",
      "  '0.019*\"charissa\" + 0.019*\"fawn\"'),\n",
      " (3,\n",
      "  '0.061*\"event\" + 0.035*\"medium\" + 0.033*\"jones\" + 0.033*\"post\" + '\n",
      "  '0.027*\"hour\" + 0.025*\"fashion\" + 0.022*\"year\" + 0.022*\"carpet\" + '\n",
      "  '0.020*\"location\" + 0.020*\"image\"'),\n",
      " (4,\n",
      "  '0.098*\"beauty\" + 0.047*\"love\" + 0.032*\"life\" + 0.032*\"collection\" + '\n",
      "  '0.030*\"news\" + 0.022*\"lover\" + 0.022*\"head\" + 0.017*\"gold\" + 0.017*\"brand\" '\n",
      "  '+ 0.017*\"point\"'),\n",
      " (5,\n",
      "  '0.057*\"airport\" + 0.034*\"york\" + 0.028*\"city\" + 0.028*\"tokyo\" + '\n",
      "  '0.028*\"case\" + 0.028*\"akademiks\" + 0.023*\"drama\" + 0.017*\"artwork\" + '\n",
      "  '0.017*\"brooklyn\" + 0.017*\"start\"'),\n",
      " (6,\n",
      "  '0.209*\"food\" + 0.046*\"foodie\" + 0.031*\"lunch\" + 0.029*\"breakfast\" + '\n",
      "  '0.029*\"gourmand\" + 0.029*\"tasty\" + 0.029*\"dinner\" + 0.027*\"pic\" + '\n",
      "  '0.027*\"ephoto\" + 0.025*\"yummy\"'),\n",
      " (7,\n",
      "  '0.123*\"fitness\" + 0.123*\"bikini\" + 0.043*\"competitor\" + 0.029*\"playboy\" + '\n",
      "  '0.025*\"ifbb\" + 0.022*\"motivation\" + 0.022*\"winner\" + 0.018*\"class\" + '\n",
      "  '0.014*\"lifestyle\" + 0.014*\"frisell\"'),\n",
      " (8,\n",
      "  '0.042*\"chyna\" + 0.026*\"money\" + 0.026*\"blac\" + 0.021*\"book\" + '\n",
      "  '0.021*\"caption\" + 0.021*\"shah\" + 0.021*\"jessica\" + 0.021*\"babe\" + '\n",
      "  '0.021*\"wife\" + 0.016*\"swipe\"'),\n",
      " (9,\n",
      "  '0.034*\"today\" + 0.029*\"glan\" + 0.029*\"singh\" + 0.024*\"navman\" + '\n",
      "  '0.024*\"kapoor\" + 0.024*\"hand\" + 0.024*\"interscope\" + 0.024*\"chauhan\" + '\n",
      "  '0.019*\"wait\" + 0.015*\"stun\"')]\n"
     ]
    },
    {
     "name": "stderr",
     "output_type": "stream",
     "text": [
      "C:\\Users\\minio\\anaconda3\\envs\\tfm-py-37\\lib\\site-packages\\ipykernel\\ipkernel.py:287: DeprecationWarning: `should_run_async` will not call `transform_cell` automatically in the future. Please pass the result to `transformed_cell` argument and any exception that happen during thetransform in `preprocessing_exc_tuple` in IPython 7.17 and above.\n",
      "  and should_run_async(code)\n"
     ]
    }
   ],
   "source": [
    "# Print the Keyword in the 10 topics\n",
    "pprint(lda_model.print_topics())\n",
    "doc_lda = lda_model[corpus]"
   ]
  },
  {
   "cell_type": "markdown",
   "metadata": {},
   "source": [
    "### Plot perplexity score progress along incremental learning iterations  \n",
    "\n",
    "Lower the perplexity score represents a better model.  "
   ]
  },
  {
   "cell_type": "code",
   "execution_count": 16,
   "metadata": {},
   "outputs": [
    {
     "name": "stderr",
     "output_type": "stream",
     "text": [
      "C:\\Users\\minio\\anaconda3\\envs\\tfm-py-37\\lib\\site-packages\\ipykernel\\ipkernel.py:287: DeprecationWarning: `should_run_async` will not call `transform_cell` automatically in the future. Please pass the result to `transformed_cell` argument and any exception that happen during thetransform in `preprocessing_exc_tuple` in IPython 7.17 and above.\n",
      "  and should_run_async(code)\n"
     ]
    },
    {
     "data": {
      "image/png": "[encoded data removed]",
      "text/plain": [
       "<Figure size 432x288 with 1 Axes>"
      ]
     },
     "metadata": {
      "needs_background": "light"
     },
     "output_type": "display_data"
    }
   ],
   "source": [
    "plt.title('Perplexity score progress')\n",
    "plt.xlabel('Index')\n",
    "plt.ylabel('Perplexity score')\n",
    "plt.plot(indixes, perplexity_score, 'go', perplexity_score, 'k')\n",
    "plt.show()"
   ]
  },
  {
   "cell_type": "markdown",
   "metadata": {},
   "source": [
    "### Plot coherence score progress along incremental learning iterations  \n",
    "\n",
    "Higher the coherence score represents a more human interpretable model.  "
   ]
  },
  {
   "cell_type": "code",
   "execution_count": 17,
   "metadata": {},
   "outputs": [
    {
     "name": "stderr",
     "output_type": "stream",
     "text": [
      "C:\\Users\\minio\\anaconda3\\envs\\tfm-py-37\\lib\\site-packages\\ipykernel\\ipkernel.py:287: DeprecationWarning: `should_run_async` will not call `transform_cell` automatically in the future. Please pass the result to `transformed_cell` argument and any exception that happen during thetransform in `preprocessing_exc_tuple` in IPython 7.17 and above.\n",
      "  and should_run_async(code)\n"
     ]
    },
    {
     "data": {
      "image/png": "[encoded data removed]",
      "text/plain": [
       "<Figure size 432x288 with 1 Axes>"
      ]
     },
     "metadata": {
      "needs_background": "light"
     },
     "output_type": "display_data"
    }
   ],
   "source": [
    "plt.title('Coherence score progress')\n",
    "plt.xlabel('Index')\n",
    "plt.ylabel('Coherence score')\n",
    "plt.plot(indixes, coherence_score, 'go', coherence_score, 'k') \n",
    "plt.show()"
   ]
  },
  {
   "cell_type": "markdown",
   "metadata": {},
   "source": [
    "### Visualize the topics-keywords"
   ]
  },
  {
   "cell_type": "code",
   "execution_count": 18,
   "metadata": {},
   "outputs": [
    {
     "name": "stderr",
     "output_type": "stream",
     "text": [
      "C:\\Users\\minio\\anaconda3\\envs\\tfm-py-37\\lib\\site-packages\\ipykernel\\ipkernel.py:287: DeprecationWarning: `should_run_async` will not call `transform_cell` automatically in the future. Please pass the result to `transformed_cell` argument and any exception that happen during thetransform in `preprocessing_exc_tuple` in IPython 7.17 and above.\n",
      "  and should_run_async(code)\n"
     ]
    },
    {
     "data": {
      "text/html": [
       "\n",
       "<link rel=\"stylesheet\" type=\"text/css\" href=\"https://cdn.rawgit.com/bmabey/pyLDAvis/files/ldavis.v1.0.0.css\">\n",
       "\n",
       "\n",
       "<div id=\"ldavis_el655221121671470808102903854\"></div>\n",
       "<script type=\"text/javascript\">\n",
       "\n",
       "var ldavis_el655221121671470808102903854_data = {\"mdsDat\": {\"x\": [-0.02110353044708284, -0.3690487624207198, 0.04121429590650758, 0.07826264888419572, 0.1439964977340536, -0.16041259289025397, 0.1191454368622031, 0.05961503004206739, 0.049295055145105154, 0.05903592118392382], \"y\": [-0.43466827183509904, 0.05843876220821318, 0.03471414642643816, 0.009412427370928733, 0.04763695783087768, 0.07610263844219164, 0.061758887587741035, 0.04837310603542365, 0.04790212471294874, 0.0503292212203357], \"topics\": [1, 2, 3, 4, 5, 6, 7, 8, 9, 10], \"cluster\": [1, 1, 1, 1, 1, 1, 1, 1, 1, 1], \"Freq\": [15.182948569841395, 14.25805297652575, 12.76475492347984, 11.06681113174605, 10.917973362213246, 8.456888312778828, 8.45300711115032, 6.424893837151845, 6.272286919996481, 6.202382855116246]}, \"tinfo\": {\"Term\": [\"food\", \"fitness\", \"bikini\", \"beauty\", \"fashion\", \"luxury\", \"style\", \"bollywood\", \"event\", \"blogger\", \"foodie\", \"love\", \"model\", \"airport\", \"medium\", \"competitor\", \"jones\", \"post\", \"lunch\", \"life\", \"collection\", \"breakfast\", \"gourmand\", \"tasty\", \"dinner\", \"family\", \"news\", \"ephoto\", \"pic\", \"chyna\", \"food\", \"foodie\", \"lunch\", \"breakfast\", \"gourmand\", \"tasty\", \"dinner\", \"ephoto\", \"pic\", \"yummy\", \"sweet\", \"pastry\", \"morning\", \"travel\", \"paris\", \"vibe\", \"kitchen\", \"chef\", \"wine\", \"sushi\", \"heritage\", \"island\", \"sapp\", \"resort\", \"restaurant\", \"maurice\", \"hospitality\", \"mauritius\", \"boul\", \"cocktail\", \"event\", \"medium\", \"jones\", \"post\", \"hour\", \"carpet\", \"year\", \"location\", \"image\", \"place\", \"house\", \"video\", \"influencer\", \"guest\", \"story\", \"street\", \"hollywood\", \"venue\", \"keywords\", \"resolution\", \"copy\", \"artist\", \"bootcamp\", \"help\", \"record\", \"marriage\", \"week\", \"message\", \"link\", \"camera\", \"fashion\", \"love\", \"collection\", \"life\", \"news\", \"lover\", \"head\", \"gold\", \"brand\", \"point\", \"makeup\", \"palette\", \"sugar\", \"watch\", \"rizwan\", \"launch\", \"sneak\", \"notification\", \"talk\", \"share\", \"restocks\", \"pill\", \"feature\", \"forget\", \"doll\", \"junkie\", \"motd\", \"addiction\", \"info\", \"flee\", \"obsession\", \"beauty\", \"addict\", \"luxury\", \"family\", \"dash\", \"chanel\", \"dress\", \"time\", \"trend\", \"party\", \"design\", \"woman\", \"couture\", \"wedding\", \"ians\", \"weekend\", \"plan\", \"diamond\", \"season\", \"detail\", \"vintage\", \"size\", \"body\", \"accessory\", \"masterpiece\", \"reality\", \"spot\", \"word\", \"rise\", \"bank\", \"shopper\", \"billionaire\", \"shoe\", \"estate\", \"taylor\", \"follow\", \"gram\", \"actor\", \"hair\", \"shoot\", \"movie\", \"actress\", \"birthday\", \"film\", \"fan\", \"shot\", \"punjabi\", \"promoter\", \"star\", \"picture\", \"play\", \"qureshi\", \"malik\", \"entertainment\", \"michi\", \"jeff\", \"beach\", \"coverage\", \"bangkok\", \"gandhi\", \"celebrate\", \"cover\", \"garden\", \"claim\", \"model\", \"swift\", \"gomez\", \"style\", \"bollywood\", \"blogger\", \"discount\", \"outfit\", \"celebrity\", \"team\", \"charissa\", \"blue\", \"blog\", \"print\", \"file\", \"kaushal\", \"malini\", \"agency\", \"rite\", \"morcha\", \"glamour\", \"nikhil\", \"moment\", \"dubai\", \"sardar\", \"temple\", \"comfort\", \"delhi\", \"fashionistas\", \"celeb\", \"contact\", \"session\", \"alert\", \"baby\", \"sridhar\", \"fashion\", \"fawn\", \"feed\", \"bless\", \"fitness\", \"bikini\", \"competitor\", \"playboy\", \"ifbb\", \"motivation\", \"winner\", \"class\", \"lifestyle\", \"frisell\", \"kayla\", \"success\", \"hardbody\", \"prep\", \"positivity\", \"mindset\", \"heart\", \"tattoo\", \"business\", \"athlete\", \"texas\", \"antonio\", \"kandy\", \"gamma\", \"competition\", \"beta\", \"swimwear\", \"millz\", \"submission\", \"figure\", \"addict\", \"model\", \"quote\", \"today\", \"glan\", \"singh\", \"navman\", \"interscope\", \"kapoor\", \"hand\", \"chauhan\", \"wait\", \"stun\", \"sale\", \"snap\", \"shroff\", \"mumbai\", \"click\", \"celebration\", \"india\", \"side\", \"selena\", \"room\", \"office\", \"jahi\", \"hump\", \"mukesh\", \"goal\", \"ayesha\", \"satellite\", \"vogue\", \"fernandes\", \"tiger\", \"abuja\", \"planner\", \"airport\", \"york\", \"city\", \"tokyo\", \"case\", \"akademiks\", \"drama\", \"brooklyn\", \"start\", \"eats\", \"apple\", \"gotham\", \"cute\", \"track\", \"friday\", \"queen\", \"repost\", \"shibuya\", \"accord\", \"drop\", \"dis\", \"retirement\", \"respond\", \"jour\", \"rapper\", \"punch\", \"edit\", \"sketch\", \"base\", \"hoku\", \"veer\", \"mask\", \"bring\", \"dessin\", \"number\", \"conversation\", \"artwork\", \"minute\", \"quote\", \"nick\", \"jusqu\", \"chyna\", \"money\", \"blac\", \"book\", \"caption\", \"jessica\", \"shah\", \"babe\", \"wife\", \"sohum\", \"swipe\", \"monday\", \"glam\", \"lawyer\", \"imagery\", \"warhol\", \"crew\", \"lagos\", \"candy\", \"sponsor\", \"pillow\", \"glance\", \"mansion\", \"deposition\", \"battle\", \"dwivedi\", \"court\", \"stallion\", \"note\", \"producer\", \"check\", \"brother\", \"rule\", \"field\", \"luna\"], \"Freq\": [94.0, 30.0, 30.0, 37.0, 38.0, 31.0, 26.0, 23.0, 26.0, 16.0, 20.0, 18.0, 18.0, 10.0, 14.0, 10.0, 13.0, 13.0, 14.0, 12.0, 12.0, 13.0, 13.0, 13.0, 13.0, 10.0, 11.0, 12.0, 12.0, 7.0, 94.7559329240482, 20.60162540014725, 14.00970184099297, 13.186028906074473, 13.185873786696988, 13.185872100616798, 13.185519709857079, 12.362044046320817, 12.362044046320817, 11.537933573593003, 10.714144299141394, 9.889358551297468, 8.241204206009346, 8.241463862358614, 5.770062317399982, 5.770037026197131, 4.94591095722756, 4.946111600770175, 4.1222498248703925, 4.122025576205117, 3.298750345451446, 3.2985372670674296, 3.297768203740746, 2.4749300892763437, 2.474801525661853, 2.474850421987364, 2.474850421987364, 2.474850421987364, 2.474642401843918, 2.474276311682655, 26.03865241567681, 14.756440310421919, 13.88824862168768, 13.88817103657254, 11.284724912963581, 9.549314516173734, 9.549342225143427, 8.681958054954512, 8.681559837475788, 8.681084034881925, 8.680852071221356, 7.814346671214119, 6.945748848152672, 6.945459091498172, 6.946236526019261, 6.946702828394944, 6.078601391733417, 6.078096296800164, 6.078011190678965, 6.077843749333538, 6.077843749333538, 6.077863145612323, 5.209815543520484, 5.209998422720455, 5.210121925556798, 5.2098939203204715, 5.209934296247738, 5.209635039375058, 4.342544188422461, 4.3422916409558345, 10.698212318220774, 18.002561610063132, 12.318269873290872, 12.31902116821645, 11.371401538284239, 8.529389627200876, 8.528280404032452, 6.634881107966899, 6.6343835522709025, 6.63409295706384, 5.687128938269515, 5.686945721535306, 5.686487502507583, 5.687113345355965, 5.686443913226523, 4.73998843604456, 4.739800612313165, 4.739720521439024, 3.792940428147706, 3.792848288204003, 3.792664717085395, 3.79211719318916, 3.7922812731658313, 2.8454342012231297, 2.8453427700482243, 2.8453346192070508, 2.84525098448892, 2.84525098448892, 2.8452488581825275, 2.8451588445452174, 2.8451595533140153, 37.43797589173735, 5.706615473209493, 31.361044699608136, 10.75370984938007, 8.96120222438218, 8.067645714420314, 8.06622194178598, 7.170590300108037, 7.170136806709617, 7.169798837374751, 6.273929388183004, 6.27461700215703, 5.379335619607949, 5.378260262633376, 5.377854699431538, 4.482266072032578, 4.482125968381034, 3.5873005371891717, 3.5870645731444655, 3.5867997280838706, 3.5865837349544067, 3.586705096670108, 3.586514297618334, 3.5863456201957513, 3.5863176609144123, 3.585980306069246, 3.5862095107272554, 3.586084154828505, 3.586015946471832, 3.5857431130451403, 2.691251042515396, 2.6910731477473164, 3.561181345256197, 2.7228588564465905, 9.319351751525208, 9.320779412378004, 9.319592423015042, 9.319597879043778, 8.4727797833125, 7.626150829910763, 5.931960548418712, 5.931789592851626, 5.9315228536689375, 5.084970890894931, 4.237906970757789, 4.238345877958395, 3.3911397979613875, 3.3909742984230373, 3.3913056006124447, 3.3908742712295297, 3.390593285749584, 3.3904580974819942, 2.544288966057688, 2.5443035154676528, 2.543964938573263, 2.544138622154718, 2.544076180936952, 2.5438785514515967, 2.543920381005246, 2.5436951682634987, 2.5436536418225577, 2.543717598603861, 2.5434232761647815, 2.5434032707260794, 15.451321826279397, 2.5435427025715756, 2.5435427025715756, 26.826738197882133, 22.992156135385933, 16.286733327366157, 6.7076997653307995, 6.70804255329472, 5.750618395881842, 5.749568901225183, 4.791714615353469, 3.8342491355558996, 3.8341873867651386, 2.8769937894759385, 2.877280698306014, 2.8762906045773495, 3.812612406230528, 1.9194233602127033, 1.9194233602127033, 1.9194233602127033, 1.9191602821897087, 1.9188164376875436, 1.9189759749625324, 1.9179817724740262, 1.9186674657950045, 1.9186674657950045, 1.9188319335818032, 0.961798636622991, 0.961798636622991, 0.961798636622991, 0.9616957415372458, 0.9615099081992714, 0.9614169915302843, 0.961481557756365, 2.6748411617698977, 27.47550339412255, 4.722905331680903, 1.0390147364141242, 0.9666783172039021, 30.94909583614486, 30.94899820987891, 10.925237144497938, 7.283929496243274, 6.374590580765304, 5.46414820686787, 5.463533349135203, 4.553430320383356, 3.6436649940274264, 3.6433362094154162, 3.6433362094154162, 3.642761716388864, 2.733752289558476, 2.733752289558476, 2.7333305722509946, 2.7333305722509946, 2.7331658279272038, 2.733312736683177, 2.7326976442719864, 1.8235864843014797, 1.8234839297865273, 1.823329745996313, 1.8232811675418619, 1.8232972430207504, 1.8232972430207504, 1.8232972430207504, 1.8232630972955202, 1.8231046892918752, 1.8228379771494418, 0.9135122623384427, 2.7151213962231124, 3.428943297104456, 1.880774003063291, 6.488957928698693, 5.562065560285862, 5.560819449512344, 4.635601999531137, 4.634878877132649, 4.634997316519081, 4.634945945218942, 4.634478252340591, 3.7083314812700583, 2.7820462930852616, 1.8562259438176978, 1.856205430972156, 1.8560425768158118, 1.8562141712280824, 1.8559289534887675, 1.8559332344304458, 1.8558477939694504, 1.8558249622804996, 1.8555404580314645, 1.8554930109278636, 1.8555153074991046, 1.8556633567321448, 0.930003275218661, 0.9298409561800266, 0.9297539103659017, 0.9297335758929299, 0.9296798857493815, 0.929673999454574, 0.929664010590658, 0.9296610674432542, 2.141428521464154, 1.188652063497643, 10.63309816138605, 6.381878036095556, 5.319166689825712, 5.318772446406579, 5.318276159416947, 5.316481167736549, 4.255222113920578, 3.1929659585949097, 3.19234324902476, 2.1301372448054128, 2.1298824841507344, 2.129743872065209, 2.129718622376263, 2.1295979462766783, 2.129519933444624, 2.1294981664713943, 2.129499733693467, 2.1294969475208934, 2.1295007785081816, 2.1289609575720903, 2.129372092162449, 2.129372092162449, 2.1293670422246596, 1.0671398805073333, 1.0669226461145027, 1.0668677062740715, 1.0668306153516884, 1.0668305282837955, 1.0668192094577162, 1.066811895754711, 3.102327237252528, 1.0668339239316194, 1.0668604796389594, 1.0670758856060385, 1.066878763896472, 1.795663147988237, 3.2185151610927756, 1.2765071668053103, 1.5768411591982912, 1.1971990257078162, 1.1013242154211305, 7.831558680675343, 4.898862625358304, 4.896200489755338, 3.920908686737487, 3.919611024777335, 3.9192625019791203, 3.919397847295028, 3.91867462804972, 3.918606783196708, 2.9404100495435372, 2.940622193855494, 2.940382498334192, 2.9405967089868503, 2.9393018021476327, 1.9616285414720183, 1.9616068448946589, 1.9614966400572786, 1.9615007727386806, 1.9614274176437994, 1.9615279795579088, 1.961421735206872, 1.9613843688791976, 1.9608977456441405, 1.9608199134777409, 1.9608199134777409, 1.9401215508720924, 0.982803381953193, 0.9827469880715648, 0.9826200803135191, 0.9826079405619015, 0.9827320931990126, 1.3929900915588445, 1.3869428594001922, 1.1726310421455692, 1.1293392242189786], \"Total\": [94.0, 30.0, 30.0, 37.0, 38.0, 31.0, 26.0, 23.0, 26.0, 16.0, 20.0, 18.0, 18.0, 10.0, 14.0, 10.0, 13.0, 13.0, 14.0, 12.0, 12.0, 13.0, 13.0, 13.0, 13.0, 10.0, 11.0, 12.0, 12.0, 7.0, 94.78632554628479, 20.632017796312034, 14.040096391192662, 13.216421411569309, 13.21626619997307, 13.216264545750937, 13.21591527616235, 12.392436466844886, 12.39243646719327, 11.568331105445028, 10.744536687610395, 9.919750866232762, 8.27160591652701, 8.271872833829232, 5.800458279869255, 5.80043757751369, 4.976307293555448, 4.9765092366800845, 4.152648054064287, 4.1524238367984685, 3.329143653835935, 3.3289343561080993, 3.328178964238274, 2.5053231717169515, 2.5051939049517253, 2.5052435048863284, 2.5052435048863284, 2.5052435048863284, 2.505034762185951, 2.504669786420802, 26.068889760383506, 14.786676265781246, 13.918481915882692, 13.918411719956907, 11.31496549097102, 9.579549237598627, 9.579582885858436, 8.712194759029153, 8.711796380547337, 8.711320973158639, 8.711098179018217, 7.844581126056179, 6.97598288536411, 6.975696500599134, 6.976484001716123, 6.976954632309075, 6.108834655724326, 6.1083295889244305, 6.108244482507223, 6.108077041390974, 6.108077041390974, 6.108109347456789, 5.2400487953027275, 5.240233936319507, 5.240359352886664, 5.240133200188933, 5.240182543087194, 5.239883960681818, 4.372777474745109, 4.3725249272785875, 38.200485537704985, 18.032519383020986, 12.348218467539624, 12.348984206439928, 11.401353877883135, 8.559342263051134, 8.558237820826514, 6.664829063113645, 6.66433300693489, 6.664045475185028, 5.717074451176179, 5.71689125438203, 5.716434939142037, 5.7170733488864975, 5.71641145030271, 4.769933991818421, 4.769748531881522, 4.769670445156821, 3.822885995928951, 3.8227938549649214, 3.822610284186527, 3.822063756266365, 3.822234751020434, 2.875379715114295, 2.875288285326071, 2.875280343171602, 2.875196498680129, 2.875196498680129, 2.875194423521636, 2.8751043590765355, 2.8751051312075377, 37.93185591862581, 8.448387298883102, 31.391180949281992, 10.783848293596106, 8.991341951412862, 8.097777669278253, 8.096360520549524, 7.200729588124689, 7.200277782065877, 7.199944053481061, 6.30406252959643, 6.304757083632888, 5.409474762125033, 5.408394317022114, 5.4079934354624575, 4.512400741973519, 4.512261977993653, 3.617432464953592, 3.6171986240258276, 3.616933753406734, 3.6167161663631364, 3.616839349122107, 3.6166485342596943, 3.616481241499353, 3.616453072015475, 3.6161213549648097, 3.6163529226029203, 3.61622741609206, 3.6161687759060235, 3.615899421562386, 2.72138296549977, 2.721205229209104, 3.6155828876285865, 3.5691320670028226, 9.349661809164717, 9.351097019431664, 9.349906492355535, 9.349913430597283, 8.503093495310017, 7.656465740384477, 5.962269746323398, 5.962101623544395, 5.9618379355067015, 5.1152871576461605, 4.268216694727344, 4.268663816366168, 3.4214491981533985, 3.4212838247297856, 3.421625910620845, 3.4211932449440443, 3.420912633785706, 3.42087052236964, 2.574598287298995, 2.574615171407517, 2.5742741698029494, 2.5744502797882407, 2.57438719403942, 2.5741879091915703, 2.5742310175962926, 2.5740054337501372, 2.573970650915071, 2.574039624085937, 2.5737461958960712, 2.5737367222704473, 18.907282703683208, 2.5739627955132147, 2.5739627955132147, 26.856650961414708, 23.02206545706153, 16.316645021202703, 6.737612832179011, 6.737957958381195, 5.780531524730615, 5.779487656852858, 4.821707256333428, 3.86416159386534, 3.864884436325945, 2.906906665496733, 2.907197088093227, 2.9063323404198043, 3.8663346747261484, 1.9493311679396608, 1.9493311682356693, 1.9493311688276862, 1.9490696364139435, 1.9487278863121236, 1.9488928859603925, 1.947912213110139, 1.9486437880740033, 1.9486437880740033, 1.9490521045548255, 0.9917061955924805, 0.9917061955924805, 0.9917061955924805, 0.9916035520101407, 0.9914177180245627, 0.9913248025799195, 0.9913930106239919, 2.9284117897578383, 38.200485537704985, 5.768095017030138, 1.9087749226287205, 1.9011867728568115, 30.97917649196483, 30.97907912797418, 10.955317030959394, 7.314011755715875, 6.404670426702258, 5.4942282943937535, 5.493622881665374, 4.583521648932582, 3.6737521717857526, 3.673435741310314, 3.673435741606322, 3.6733605774932694, 2.7638321760199305, 2.7638321760199305, 2.7634149480085695, 2.7634149480085695, 2.763252846852812, 2.7634034814744823, 2.7628120595454444, 1.853666390575896, 1.8535641820275883, 1.8534098234775904, 1.853367440678614, 1.8533842769792788, 1.8533842769792788, 1.8533842769792788, 1.8533513935138775, 1.8532509760680358, 1.853235736180246, 0.9435921115632296, 8.448387298883102, 18.907282703683208, 4.717523619471904, 6.518984702344027, 5.5920877276901315, 5.590849526434886, 4.665624125911075, 4.664902731423737, 4.6650240753056575, 4.66497502216263, 4.664513170425217, 3.7383596017148673, 2.8120766822003853, 1.8862477478252335, 1.8862275231743106, 1.886064299963198, 1.8862403628262838, 1.885951327562213, 1.8859598012338907, 1.8858742581701224, 1.8858521271105027, 1.885572562678068, 1.8855278133237452, 1.8855533133287337, 1.885745726877888, 0.9600253806656899, 0.9598630662279466, 0.9597758126277044, 0.9597556847237447, 0.9597014488207543, 0.9596955841303946, 0.9596859136653108, 0.9596829385822588, 2.8483630693335353, 1.8739096387526295, 10.662627691362763, 6.411406779550658, 5.348693815243947, 5.348299187693861, 5.347810226869308, 5.347279710216485, 4.284755527439504, 3.2224924872788403, 3.2218759285273997, 2.1596639868527197, 2.1594098961606947, 2.159270401095218, 2.15924780882182, 2.1591274980848616, 2.1590512854773207, 2.1590292385101786, 2.1590357642037334, 2.1590352098827146, 2.159039698766393, 2.158508293357497, 2.158978348450772, 2.158978348450772, 2.158979506677642, 1.0966664103185244, 1.0964494243045613, 1.0963950876930166, 1.096357145799242, 1.0963570587313491, 1.0963459905999255, 1.0963386416825331, 3.210291442210203, 1.096361926981029, 1.0963918320833046, 1.0966547164840892, 1.0964166154863766, 2.097601817140161, 5.1124778698129365, 2.06607516700722, 4.717523619471904, 2.039064082156605, 1.927694550274033, 7.8648006107489286, 4.928693732321331, 4.927998865782212, 3.9507471825869223, 3.94944319301019, 3.949192821878225, 3.949492774081391, 3.949172156632425, 3.9496543483837843, 2.9702435147633848, 2.9704583998750542, 2.970218748146994, 2.970447040525273, 2.9701196965007712, 1.9914591467799811, 1.991437753845617, 1.99132978232541, 1.991334697371626, 1.9912609153091412, 1.991363226384358, 1.9912599220874327, 1.9912339181082963, 1.9907448285098073, 1.9911748665190678, 1.9911748665190678, 1.9902014621600292, 1.0126340786512629, 1.012580901253299, 1.0124505627757416, 1.0124385452347289, 1.0125677318424184, 1.9144721901278916, 1.913662962214644, 1.948632407841969, 1.973076684720049], \"Category\": [\"Default\", \"Default\", \"Default\", \"Default\", \"Default\", \"Default\", \"Default\", \"Default\", \"Default\", \"Default\", \"Default\", \"Default\", \"Default\", \"Default\", \"Default\", \"Default\", \"Default\", \"Default\", \"Default\", \"Default\", \"Default\", \"Default\", \"Default\", \"Default\", \"Default\", \"Default\", \"Default\", \"Default\", \"Default\", \"Default\", \"Topic1\", \"Topic1\", \"Topic1\", \"Topic1\", \"Topic1\", \"Topic1\", \"Topic1\", \"Topic1\", \"Topic1\", \"Topic1\", \"Topic1\", \"Topic1\", \"Topic1\", \"Topic1\", \"Topic1\", \"Topic1\", \"Topic1\", \"Topic1\", \"Topic1\", \"Topic1\", \"Topic1\", \"Topic1\", \"Topic1\", \"Topic1\", \"Topic1\", \"Topic1\", \"Topic1\", \"Topic1\", \"Topic1\", \"Topic1\", \"Topic2\", \"Topic2\", \"Topic2\", \"Topic2\", \"Topic2\", \"Topic2\", \"Topic2\", \"Topic2\", \"Topic2\", \"Topic2\", \"Topic2\", \"Topic2\", \"Topic2\", \"Topic2\", \"Topic2\", \"Topic2\", \"Topic2\", \"Topic2\", \"Topic2\", \"Topic2\", \"Topic2\", \"Topic2\", \"Topic2\", \"Topic2\", \"Topic2\", \"Topic2\", \"Topic2\", \"Topic2\", \"Topic2\", \"Topic2\", \"Topic2\", \"Topic3\", \"Topic3\", \"Topic3\", \"Topic3\", \"Topic3\", \"Topic3\", \"Topic3\", \"Topic3\", \"Topic3\", \"Topic3\", \"Topic3\", \"Topic3\", \"Topic3\", \"Topic3\", \"Topic3\", \"Topic3\", \"Topic3\", \"Topic3\", \"Topic3\", \"Topic3\", \"Topic3\", \"Topic3\", \"Topic3\", \"Topic3\", \"Topic3\", \"Topic3\", \"Topic3\", \"Topic3\", \"Topic3\", \"Topic3\", \"Topic3\", \"Topic3\", \"Topic4\", \"Topic4\", \"Topic4\", \"Topic4\", \"Topic4\", \"Topic4\", \"Topic4\", \"Topic4\", \"Topic4\", \"Topic4\", \"Topic4\", \"Topic4\", \"Topic4\", \"Topic4\", \"Topic4\", \"Topic4\", \"Topic4\", \"Topic4\", \"Topic4\", \"Topic4\", \"Topic4\", \"Topic4\", \"Topic4\", \"Topic4\", \"Topic4\", \"Topic4\", \"Topic4\", \"Topic4\", \"Topic4\", \"Topic4\", \"Topic4\", \"Topic4\", \"Topic5\", \"Topic5\", \"Topic5\", \"Topic5\", \"Topic5\", \"Topic5\", \"Topic5\", \"Topic5\", \"Topic5\", \"Topic5\", \"Topic5\", \"Topic5\", \"Topic5\", \"Topic5\", \"Topic5\", \"Topic5\", \"Topic5\", \"Topic5\", \"Topic5\", \"Topic5\", \"Topic5\", \"Topic5\", \"Topic5\", \"Topic5\", \"Topic5\", \"Topic5\", \"Topic5\", \"Topic5\", \"Topic5\", \"Topic5\", \"Topic5\", \"Topic5\", \"Topic5\", \"Topic6\", \"Topic6\", \"Topic6\", \"Topic6\", \"Topic6\", \"Topic6\", \"Topic6\", \"Topic6\", \"Topic6\", \"Topic6\", \"Topic6\", \"Topic6\", \"Topic6\", \"Topic6\", \"Topic6\", \"Topic6\", \"Topic6\", \"Topic6\", \"Topic6\", \"Topic6\", \"Topic6\", \"Topic6\", \"Topic6\", \"Topic6\", \"Topic6\", \"Topic6\", \"Topic6\", \"Topic6\", \"Topic6\", \"Topic6\", \"Topic6\", \"Topic6\", \"Topic6\", \"Topic6\", \"Topic6\", \"Topic6\", \"Topic7\", \"Topic7\", \"Topic7\", \"Topic7\", \"Topic7\", \"Topic7\", \"Topic7\", \"Topic7\", \"Topic7\", \"Topic7\", \"Topic7\", \"Topic7\", \"Topic7\", \"Topic7\", \"Topic7\", \"Topic7\", \"Topic7\", \"Topic7\", \"Topic7\", \"Topic7\", \"Topic7\", \"Topic7\", \"Topic7\", \"Topic7\", \"Topic7\", \"Topic7\", \"Topic7\", \"Topic7\", \"Topic7\", \"Topic7\", \"Topic7\", \"Topic7\", \"Topic7\", \"Topic8\", \"Topic8\", \"Topic8\", \"Topic8\", \"Topic8\", \"Topic8\", \"Topic8\", \"Topic8\", \"Topic8\", \"Topic8\", \"Topic8\", \"Topic8\", \"Topic8\", \"Topic8\", \"Topic8\", \"Topic8\", \"Topic8\", \"Topic8\", \"Topic8\", \"Topic8\", \"Topic8\", \"Topic8\", \"Topic8\", \"Topic8\", \"Topic8\", \"Topic8\", \"Topic8\", \"Topic8\", \"Topic8\", \"Topic8\", \"Topic8\", \"Topic8\", \"Topic9\", \"Topic9\", \"Topic9\", \"Topic9\", \"Topic9\", \"Topic9\", \"Topic9\", \"Topic9\", \"Topic9\", \"Topic9\", \"Topic9\", \"Topic9\", \"Topic9\", \"Topic9\", \"Topic9\", \"Topic9\", \"Topic9\", \"Topic9\", \"Topic9\", \"Topic9\", \"Topic9\", \"Topic9\", \"Topic9\", \"Topic9\", \"Topic9\", \"Topic9\", \"Topic9\", \"Topic9\", \"Topic9\", \"Topic9\", \"Topic9\", \"Topic9\", \"Topic9\", \"Topic9\", \"Topic9\", \"Topic9\", \"Topic9\", \"Topic9\", \"Topic9\", \"Topic9\", \"Topic9\", \"Topic10\", \"Topic10\", \"Topic10\", \"Topic10\", \"Topic10\", \"Topic10\", \"Topic10\", \"Topic10\", \"Topic10\", \"Topic10\", \"Topic10\", \"Topic10\", \"Topic10\", \"Topic10\", \"Topic10\", \"Topic10\", \"Topic10\", \"Topic10\", \"Topic10\", \"Topic10\", \"Topic10\", \"Topic10\", \"Topic10\", \"Topic10\", \"Topic10\", \"Topic10\", \"Topic10\", \"Topic10\", \"Topic10\", \"Topic10\", \"Topic10\", \"Topic10\", \"Topic10\", \"Topic10\", \"Topic10\"], \"logprob\": [30.0, 29.0, 28.0, 27.0, 26.0, 25.0, 24.0, 23.0, 22.0, 21.0, 20.0, 19.0, 18.0, 17.0, 16.0, 15.0, 14.0, 13.0, 12.0, 11.0, 10.0, 9.0, 8.0, 7.0, 6.0, 5.0, 4.0, 3.0, 2.0, 1.0, -1.5636999607086182, -3.089600086212158, -3.4753000736236572, -3.535900115966797, -3.535900115966797, -3.535900115966797, -3.535900115966797, -3.600399971008301, -3.600399971008301, -3.6693999767303467, -3.743499994277954, -3.8236000537872314, -4.005899906158447, -4.005799770355225, -4.362299919128418, -4.362299919128418, -4.516499996185303, -4.51639986038208, -4.698599815368652, -4.698699951171875, -4.921500205993652, -4.921500205993652, -4.921800136566162, -5.208799839019775, -5.208899974822998, -5.208799839019775, -5.208799839019775, -5.208799839019775, -5.208899974822998, -5.209099769592285, -2.79259991645813, -3.3605000972747803, -3.421099901199341, -3.421099901199341, -3.628700017929077, -3.7957000732421875, -3.7957000732421875, -3.890899896621704, -3.8910000324249268, -3.8910000324249268, -3.8910000324249268, -3.9962000846862793, -4.113999843597412, -4.114099979400635, -4.113999843597412, -4.113900184631348, -4.247399806976318, -4.247499942779541, -4.247499942779541, -4.247499942779541, -4.247499942779541, -4.247499942779541, -4.401599884033203, -4.401599884033203, -4.401599884033203, -4.401599884033203, -4.401599884033203, -4.401700019836426, -4.583700180053711, -4.583799839019775, -3.6821000576019287, -3.0510001182556152, -3.4303998947143555, -3.4303998947143555, -3.5104000568389893, -3.7980000972747803, -3.798099994659424, -4.049200057983398, -4.049300193786621, -4.049300193786621, -4.2032999992370605, -4.203400135040283, -4.203400135040283, -4.2032999992370605, -4.203400135040283, -4.385499954223633, -4.385499954223633, -4.3856000900268555, -4.608399868011475, -4.608399868011475, -4.608500003814697, -4.60860013961792, -4.60860013961792, -4.8958001136779785, -4.8958001136779785, -4.895899772644043, -4.895899772644043, -4.895899772644043, -4.895899772644043, -4.895899772644043, -4.895899772644043, -2.3187999725341797, -4.199900150299072, -2.3531999588012695, -3.4235000610351562, -3.6059000492095947, -3.710900068283081, -3.7111001014709473, -3.8287999629974365, -3.828900098800659, -3.828900098800659, -3.962399959564209, -3.9623000621795654, -4.116199970245361, -4.116399765014648, -4.116499900817871, -4.298699855804443, -4.298699855804443, -4.521399974822998, -4.521500110626221, -4.521500110626221, -4.521599769592285, -4.521599769592285, -4.521599769592285, -4.521699905395508, -4.521699905395508, -4.5218000411987305, -4.521699905395508, -4.521699905395508, -4.5218000411987305, -4.5218000411987305, -4.808800220489502, -4.808899879455566, -4.52869987487793, -4.797100067138672, -3.5532000064849854, -3.552999973297119, -3.553100109100342, -3.553100109100342, -3.648400068283081, -3.753700017929077, -4.004899978637695, -4.004899978637695, -4.005000114440918, -4.158999919891357, -4.34119987487793, -4.341100215911865, -4.5640997886657715, -4.5640997886657715, -4.564000129699707, -4.564199924468994, -4.564199924468994, -4.564300060272217, -4.851399898529053, -4.851399898529053, -4.851500034332275, -4.851500034332275, -4.851500034332275, -4.851600170135498, -4.851500034332275, -4.851600170135498, -4.8516998291015625, -4.851600170135498, -4.8516998291015625, -4.851799964904785, -3.047600030899048, -4.8516998291015625, -4.8516998291015625, -2.2404000759124756, -2.394700050354004, -2.739500045776367, -3.6266000270843506, -3.626499891281128, -3.7804999351501465, -3.7806999683380127, -3.962899923324585, -4.1859002113342285, -4.1859002113342285, -4.473100185394287, -4.4730000495910645, -4.473299980163574, -4.191500186920166, -4.877799987792969, -4.877799987792969, -4.877799987792969, -4.877900123596191, -4.8780999183654785, -4.877999782562256, -4.878600120544434, -4.878200054168701, -4.878200054168701, -4.8780999183654785, -5.56879997253418, -5.56879997253418, -5.56879997253418, -5.568900108337402, -5.5690999031066895, -5.569200038909912, -5.5690999031066895, -4.545899868011475, -2.2165000438690186, -3.977400064468384, -5.491600036621094, -5.563700199127197, -2.0969998836517334, -2.0969998836517334, -3.1382999420166016, -3.5436999797821045, -3.677000045776367, -3.831199884414673, -3.8313000202178955, -4.013500213623047, -4.236400127410889, -4.236499786376953, -4.236499786376953, -4.236599922180176, -4.52370023727417, -4.52370023727417, -4.523799896240234, -4.523799896240234, -4.523900032043457, -4.523900032043457, -4.524099826812744, -4.928599834442139, -4.928599834442139, -4.928699970245361, -4.928699970245361, -4.928699970245361, -4.928699970245361, -4.928699970245361, -4.928699970245361, -4.928800106048584, -4.928999900817871, -5.619800090789795, -4.5304999351501465, -4.297100067138672, -4.89769983291626, -3.3849000930786133, -3.539099931716919, -3.539299964904785, -3.721299886703491, -3.721400022506714, -3.721400022506714, -3.721400022506714, -3.7214999198913574, -3.9444000720977783, -4.231800079345703, -4.636499881744385, -4.636499881744385, -4.636600017547607, -4.636499881744385, -4.636600017547607, -4.636600017547607, -4.63670015335083, -4.63670015335083, -4.6367998123168945, -4.636899948120117, -4.636899948120117, -4.6367998123168945, -5.327600002288818, -5.3277997970581055, -5.327899932861328, -5.327899932861328, -5.327899932861328, -5.327899932861328, -5.328000068664551, -5.328000068664551, -4.493599891662598, -5.082200050354004, -2.867000102996826, -3.377500057220459, -3.5597000122070312, -3.5597000122070312, -3.559799909591675, -3.5601999759674072, -3.7827999591827393, -4.070000171661377, -4.070199966430664, -4.474800109863281, -4.474899768829346, -4.474999904632568, -4.474999904632568, -4.475100040435791, -4.475100040435791, -4.475100040435791, -4.475100040435791, -4.475100040435791, -4.475100040435791, -4.475399971008301, -4.475200176239014, -4.475200176239014, -4.475200176239014, -5.165999889373779, -5.166200160980225, -5.166299819946289, -5.166299819946289, -5.166299819946289, -5.166299819946289, -5.166299819946289, -4.098800182342529, -5.166299819946289, -5.166299819946289, -5.166100025177002, -5.166200160980225, -4.645599842071533, -4.062099933624268, -4.9868998527526855, -4.775599956512451, -5.051000118255615, -5.134500026702881, -3.161600112915039, -3.6308000087738037, -3.6312999725341797, -3.8534998893737793, -3.853800058364868, -3.8538999557495117, -3.853800058364868, -3.8540000915527344, -3.8540000915527344, -4.141200065612793, -4.141200065612793, -4.141200065612793, -4.141200065612793, -4.141600131988525, -4.546000003814697, -4.546000003814697, -4.54610013961792, -4.54610013961792, -4.54610013961792, -4.54610013961792, -4.54610013961792, -4.54610013961792, -4.54640007019043, -4.54640007019043, -4.54640007019043, -4.557000160217285, -5.237100124359131, -5.237199783325195, -5.237299919128418, -5.237299919128418, -5.237199783325195, -4.888299942016602, -4.8927001953125, -5.060500144958496, -5.098100185394287], \"loglift\": [30.0, 29.0, 28.0, 27.0, 26.0, 25.0, 24.0, 23.0, 22.0, 21.0, 20.0, 19.0, 18.0, 17.0, 16.0, 15.0, 14.0, 13.0, 12.0, 11.0, 10.0, 9.0, 8.0, 7.0, 6.0, 5.0, 4.0, 3.0, 2.0, 1.0, 1.8847, 1.8835, 1.8828, 1.8827, 1.8827, 1.8827, 1.8827, 1.8825, 1.8825, 1.8824, 1.8822, 1.8819, 1.8813, 1.8813, 1.8797, 1.8797, 1.8789, 1.8789, 1.8777, 1.8776, 1.8758, 1.8758, 1.8758, 1.8728, 1.8728, 1.8728, 1.8728, 1.8728, 1.8728, 1.8728, 1.9467, 1.9458, 1.9457, 1.9457, 1.9452, 1.9447, 1.9447, 1.9444, 1.9444, 1.9444, 1.9444, 1.944, 1.9435, 1.9435, 1.9435, 1.9435, 1.9429, 1.9429, 1.9429, 1.9429, 1.9429, 1.9429, 1.9421, 1.9421, 1.9421, 1.9421, 1.9421, 1.9421, 1.9409, 1.9409, 0.6751, 2.0568, 2.0561, 2.0561, 2.0559, 2.055, 2.055, 2.054, 2.054, 2.054, 2.0532, 2.0532, 2.0532, 2.0532, 2.0532, 2.0522, 2.0522, 2.0522, 2.0506, 2.0506, 2.0506, 2.0506, 2.0506, 2.048, 2.048, 2.048, 2.048, 2.048, 2.048, 2.048, 2.048, 2.0454, 1.6661, 2.2003, 2.1984, 2.1979, 2.1975, 2.1975, 2.197, 2.197, 2.197, 2.1964, 2.1964, 2.1956, 2.1956, 2.1956, 2.1945, 2.1945, 2.1929, 2.1929, 2.1929, 2.1929, 2.1929, 2.1929, 2.1929, 2.1929, 2.1928, 2.1928, 2.1928, 2.1928, 2.1928, 2.1901, 2.1901, 2.1861, 1.9306, 2.2115, 2.2115, 2.2115, 2.2115, 2.2112, 2.2108, 2.2097, 2.2097, 2.2097, 2.2088, 2.2076, 2.2076, 2.2059, 2.2059, 2.2059, 2.2059, 2.2059, 2.2058, 2.2029, 2.2029, 2.2029, 2.2029, 2.2029, 2.2029, 2.2029, 2.2029, 2.2029, 2.2029, 2.2029, 2.2029, 2.0129, 2.2029, 2.2029, 2.4691, 2.4689, 2.4684, 2.4657, 2.4657, 2.465, 2.465, 2.4639, 2.4624, 2.4622, 2.4598, 2.4598, 2.4598, 2.4562, 2.4547, 2.4547, 2.4547, 2.4547, 2.4547, 2.4547, 2.4547, 2.4547, 2.4547, 2.4546, 2.4396, 2.4396, 2.4396, 2.4396, 2.4396, 2.4396, 2.4396, 2.3796, 2.1406, 2.2703, 1.862, 1.7938, 2.4697, 2.4697, 2.4679, 2.4665, 2.4659, 2.4652, 2.4652, 2.4641, 2.4624, 2.4624, 2.4624, 2.4623, 2.4597, 2.4597, 2.4597, 2.4597, 2.4597, 2.4597, 2.4597, 2.4543, 2.4543, 2.4543, 2.4543, 2.4543, 2.4543, 2.4543, 2.4543, 2.4542, 2.4541, 2.4383, 1.3355, 0.7634, 1.551, 2.7404, 2.7396, 2.7396, 2.7385, 2.7385, 2.7385, 2.7385, 2.7385, 2.7369, 2.7343, 2.7289, 2.7289, 2.7289, 2.7289, 2.7289, 2.7289, 2.7289, 2.7289, 2.7289, 2.7289, 2.7289, 2.7289, 2.7132, 2.7132, 2.7132, 2.7132, 2.7132, 2.7132, 2.7132, 2.7132, 2.4597, 2.2898, 2.7663, 2.7644, 2.7635, 2.7635, 2.7635, 2.7633, 2.7621, 2.7598, 2.7598, 2.7553, 2.7553, 2.7553, 2.7553, 2.7553, 2.7553, 2.7553, 2.7553, 2.7553, 2.7553, 2.7552, 2.7552, 2.7552, 2.7552, 2.7417, 2.7417, 2.7417, 2.7417, 2.7417, 2.7417, 2.7417, 2.7348, 2.7417, 2.7417, 2.7417, 2.7417, 2.6136, 2.3063, 2.2875, 1.6732, 2.2365, 2.2092, 2.776, 2.7742, 2.7738, 2.7727, 2.7727, 2.7726, 2.7726, 2.7725, 2.7723, 2.7701, 2.7701, 2.7701, 2.7701, 2.7698, 2.7651, 2.7651, 2.7651, 2.7651, 2.7651, 2.7651, 2.7651, 2.7651, 2.7651, 2.7649, 2.7649, 2.7548, 2.7503, 2.7503, 2.7503, 2.7503, 2.7503, 2.4622, 2.4583, 2.2724, 2.2223]}, \"token.table\": {\"Topic\": [8, 10, 4, 9, 5, 5, 3, 7, 3, 6, 9, 9, 6, 7, 9, 2, 3, 9, 7, 8, 10, 6, 5, 4, 9, 10, 5, 3, 7, 7, 4, 5, 10, 6, 7, 6, 6, 6, 4, 6, 10, 2, 1, 3, 1, 9, 9, 10, 7, 2, 10, 10, 2, 9, 6, 5, 8, 6, 4, 6, 8, 10, 1, 10, 9, 5, 7, 8, 1, 3, 6, 7, 7, 6, 9, 2, 10, 4, 5, 5, 10, 9, 4, 6, 10, 4, 9, 4, 4, 1, 9, 6, 3, 9, 4, 9, 6, 10, 9, 9, 5, 1, 4, 5, 2, 4, 5, 2, 6, 6, 3, 6, 3, 2, 6, 8, 8, 10, 7, 6, 5, 7, 3, 5, 1, 1, 3, 9, 7, 7, 5, 5, 10, 6, 8, 10, 8, 3, 5, 9, 1, 5, 2, 5, 8, 7, 3, 7, 2, 1, 9, 2, 1, 2, 2, 8, 4, 7, 2, 10, 8, 2, 3, 8, 1, 8, 5, 10, 2, 9, 3, 1, 9, 7, 8, 6, 7, 2, 1, 10, 3, 10, 3, 7, 2, 2, 3, 3, 6, 10, 1, 4, 3, 5, 6, 10, 2, 9, 4, 1, 1, 2, 2, 5, 7, 7, 3, 9, 5, 7, 6, 10, 10, 6, 1, 3, 7, 5, 8, 8, 8, 3, 8, 9, 6, 10, 3, 9, 3, 8, 6, 3, 1, 4, 1, 1, 5, 3, 10, 2, 4, 7, 8, 5, 7, 3, 7, 2, 7, 6, 10, 5, 9, 5, 9, 5, 7, 9, 5, 9, 4, 2, 9, 2, 1, 9, 1, 3, 9, 4, 6, 3, 8, 10, 8, 1, 6, 8, 4, 8, 6, 10, 3, 9, 4, 5, 4, 5, 8, 8, 8, 4, 9, 8, 3, 10, 10, 4, 6, 10, 5, 9, 2, 2, 8, 6, 7, 7, 3, 1, 1, 5, 7, 10, 3, 1, 7, 5, 6, 6, 7, 8, 4, 8, 9, 9, 1, 4, 9, 2, 1, 2, 4, 8, 8, 10, 3, 4, 2, 4, 10, 1, 7, 4, 4, 2, 9, 1], \"Freq\": [0.7021576783987595, 0.35107883919937977, 1.106047490057392, 0.9263377607844527, 0.9625757571773657, 1.0063565465415658, 0.7101947138234554, 0.3550973569117277, 1.0434069467520437, 1.0259929317776688, 1.0316406347856002, 0.9350548822884701, 1.008751115070967, 1.0790921547223482, 0.9261789545171039, 0.9823006856447646, 0.3911997373737638, 0.5867996060606456, 1.078942796917541, 1.041931833191318, 1.012870505855819, 1.0086817127857204, 1.1653965706625944, 1.1062254597423644, 0.9121208163973815, 1.0044321237824583, 1.1653258713164898, 0.975433421432769, 1.0791070286080562, 1.0006753225923661, 1.1024526808189052, 1.0064010570072726, 1.0146106231309693, 0.5259872487421915, 0.5259872487421915, 1.034959793986104, 0.9805937421086726, 1.0351533968844144, 1.105996328398766, 0.9990415518059106, 1.012466709494893, 0.9541895877920237, 0.7983921142294864, 1.0503676801137962, 0.9836248100125001, 0.9120826795105305, 0.930956398453323, 0.5223371773988513, 1.0858501900753899, 0.914803246756916, 1.004388719039113, 1.0128009961199813, 1.043890453712702, 0.9349621224175485, 1.0083631668778317, 1.1655144548495422, 1.0604679901933745, 1.0379668330378342, 0.9879253699877182, 1.0369770983985767, 1.0719232248505366, 0.9875882556324891, 1.0047203294925635, 1.0171904407934123, 0.9348076694444243, 1.165620389234498, 1.0908642705253522, 1.06047275492799, 0.7985084544250521, 0.9718001047313016, 1.0261398324478408, 1.0791070286080562, 1.0040786559543948, 1.0084675452935181, 0.9534698071184788, 0.9823058811048719, 0.9875235498018294, 0.924304155184897, 1.1654832240841377, 1.1654160868707355, 1.0043539838310787, 0.92624847959961, 1.000962931744107, 1.0083631668778317, 1.0044321237824583, 0.9517672091339654, 0.9118640397645237, 1.1059091132737673, 1.105756648880884, 0.9836624803011715, 0.9263640839358807, 1.038943639885008, 1.0433736385010124, 0.9335421763001566, 0.9880982917812331, 0.9265658168443069, 1.0267403153690868, 1.0049233899312566, 0.9260699868939343, 0.9121115357632864, 1.1652226838855801, 0.9683325819022899, 0.8405404853845179, 0.2801801617948393, 0.997357395692079, 1.0200440232947503, 0.937159541346933, 0.2879544551637356, 0.70679729903826, 1.0083631668778317, 0.17336746309613973, 0.8668373154806988, 1.0465081975752817, 0.5238962373954617, 0.5238962373954617, 1.0420075836902913, 0.5131804212922124, 0.5131804212922124, 1.0597799491385325, 1.0319217820789854, 0.9774622315242198, 1.0006721775848553, 1.0434403852260792, 0.962453921855149, 1.002254275102276, 1.017835492743407, 1.0433404618634, 0.926332789523266, 1.0888988624510962, 1.0791070286080562, 1.1654987051170362, 1.1656160987371658, 1.0099489938960504, 1.026130602331768, 1.0729445409609768, 1.0044023365672836, 1.0419099823553257, 1.0502895023581853, 1.1655180118490558, 0.9262387883358965, 0.9836363616848524, 0.9625764714714936, 1.0034840247706847, 0.9408340628516546, 1.0718171000371308, 1.0854494082633352, 1.0516183574728966, 1.0856769779200008, 0.9541558756271411, 0.9011326370802034, 0.912126930475894, 0.9821840560666768, 0.7983255903464549, 0.9721638133830499, 1.0331647990924542, 1.04163912760993, 0.9245573352979545, 0.9368163543567969, 1.0330819967390648, 1.004288741365259, 1.0605160929131163, 1.0034428287784762, 1.04340769982626, 1.0718337096975203, 0.9011892933531256, 1.0605883770508528, 1.1652973155289534, 1.012865205730221, 1.0058568229358609, 0.9118543164913313, 1.0433765205276733, 0.5187543845355812, 0.5187543845355812, 1.079116831397284, 1.0718058297850037, 1.0322288192157218, 1.088898862363352, 0.9822789538275337, 1.0047611019671625, 1.0043515048674698, 1.048232534994446, 1.010060302800063, 0.9717398451074272, 1.0888050725685352, 0.9147504127758437, 1.0330347574785987, 0.9981966256444673, 1.0514826634344432, 0.5068226733123075, 0.5068226733123075, 0.9971441512881767, 0.987538508031475, 1.0494878195552646, 1.1652303253674936, 1.0345715869212277, 1.004649099853305, 0.9541742182850858, 0.9121075580886198, 1.1060561053459963, 0.7983255903464549, 0.7983255903464549, 1.0144267535438252, 0.9542196043878414, 1.165377035278895, 1.0791846467785575, 1.085613292409062, 0.4840094958638576, 0.4840094958638576, 0.7933450953836928, 0.15866901907673855, 1.0262236649370406, 1.0100266190399563, 1.0144675793529343, 1.0259929313102738, 0.967164064721177, 1.0434069467520437, 0.9100459121987963, 1.0063281695196478, 1.04181527051539, 1.060310254947181, 1.0716679837606142, 0.9647977001519354, 0.49042107540943763, 0.49042107540943763, 1.026310555746655, 0.9877025474294695, 1.0482904547581602, 0.9120620627920659, 1.043440105002354, 1.0606966060637255, 1.0388904239589172, 1.0495214502114179, 1.034401026695298, 0.972229776787725, 1.0080898335905197, 0.9683325818750675, 0.8768870347892513, 1.0465550171532079, 1.0043892200187532, 1.033138375652882, 0.8864733518372915, 0.5336436609961894, 0.5336436609961894, 0.8769589642165433, 0.9570670972096161, 1.0504130000411867, 1.085613292409062, 1.0058618958602947, 1.0854494082633352, 1.0320248790950979, 0.987714271356742, 0.8768638188727126, 0.9120799711937357, 0.8768214362554732, 0.9263422487877396, 0.21197562125018962, 0.42395124250037924, 0.42395124250037924, 0.8769697597095542, 0.9120347713568862, 1.1061575670042538, 0.9541330399881334, 0.9263394489148785, 0.9823058811048719, 0.7983002043721797, 0.9263635869697121, 0.7983413962675036, 1.04640538862863, 0.9263640839358807, 1.1061430613115695, 1.0259929316218706, 1.0496095412590136, 1.0607109509959798, 0.5225580573721926, 1.0603061036419623, 0.9013938349576147, 1.0263548485568808, 1.0419907162052982, 1.1058281326968233, 1.0606857776713783, 1.0086565751442669, 1.012788281637091, 1.0463551401823379, 0.9263396867476961, 1.106322306615282, 1.0448685165276104, 1.1023806785125014, 0.9370613784725553, 1.06040923421276, 1.060528538398392, 1.073182165184477, 1.1059379789624595, 0.912111608199204, 1.060317472535987, 1.0482732929376575, 1.0100181971911437, 1.0043371161530001, 1.1060867358932835, 1.0244460872929628, 0.9875754112706183, 0.8767761521468189, 0.9311345522144886, 1.0033707521264426, 1.0033030697353549, 1.0668272380298567, 1.0053375619615135, 1.0791935213391977, 1.0889211433552304, 1.04960522841191, 0.9632928037240082, 1.0237761124390017, 1.1655180118490558, 1.079126174884776, 1.009945131743366, 1.0463299204474474, 0.9836364848023214, 1.0856177970794463, 0.9626016623593838, 1.0381543064436993, 1.0263548485568808, 1.0790022915808761, 1.0420108139853999, 0.9721237152891106, 0.9203887221644474, 0.9348766448041504, 0.9263000919463964, 0.9671328562115509, 0.9721847145168871, 0.934494594651063, 0.9822652678858631, 1.0344047185784648, 1.0198122591182834, 1.1059756464169215, 1.0419970838004078, 1.0699880231332246, 1.004299529893841, 1.049488021903481, 0.9244888051640847, 0.9541652335367514, 0.8864460912774742, 1.0127468500216525, 0.9632407918810053, 0.9101462018237892, 0.9516623591376684, 1.1061251242662915, 1.0438867870502162, 0.935832057815634, 1.0373147077672935], \"Term\": [\"abuja\", \"abuja\", \"accessory\", \"accord\", \"actor\", \"actress\", \"addict\", \"addict\", \"addiction\", \"agency\", \"airport\", \"akademiks\", \"alert\", \"antonio\", \"apple\", \"artist\", \"artwork\", \"artwork\", \"athlete\", \"ayesha\", \"babe\", \"baby\", \"bangkok\", \"bank\", \"base\", \"battle\", \"beach\", \"beauty\", \"beta\", \"bikini\", \"billionaire\", \"birthday\", \"blac\", \"bless\", \"bless\", \"blog\", \"blogger\", \"blue\", \"body\", \"bollywood\", \"book\", \"bootcamp\", \"boul\", \"brand\", \"breakfast\", \"bring\", \"brooklyn\", \"brother\", \"business\", \"camera\", \"candy\", \"caption\", \"carpet\", \"case\", \"celeb\", \"celebrate\", \"celebration\", \"celebrity\", \"chanel\", \"charissa\", \"chauhan\", \"check\", \"chef\", \"chyna\", \"city\", \"claim\", \"class\", \"click\", \"cocktail\", \"collection\", \"comfort\", \"competition\", \"competitor\", \"contact\", \"conversation\", \"copy\", \"court\", \"couture\", \"cover\", \"coverage\", \"crew\", \"cute\", \"dash\", \"delhi\", \"deposition\", \"design\", \"dessin\", \"detail\", \"diamond\", \"dinner\", \"dis\", \"discount\", \"doll\", \"drama\", \"dress\", \"drop\", \"dubai\", \"dwivedi\", \"eats\", \"edit\", \"entertainment\", \"ephoto\", \"estate\", \"estate\", \"event\", \"family\", \"fan\", \"fashion\", \"fashion\", \"fashionistas\", \"fawn\", \"fawn\", \"feature\", \"feed\", \"feed\", \"fernandes\", \"field\", \"field\", \"figure\", \"file\", \"film\", \"fitness\", \"flee\", \"follow\", \"food\", \"foodie\", \"forget\", \"friday\", \"frisell\", \"gamma\", \"gandhi\", \"garden\", \"glam\", \"glamour\", \"glan\", \"glance\", \"goal\", \"gold\", \"gomez\", \"gotham\", \"gourmand\", \"gram\", \"guest\", \"hair\", \"hand\", \"hardbody\", \"head\", \"heart\", \"help\", \"heritage\", \"hoku\", \"hollywood\", \"hospitality\", \"hour\", \"house\", \"hump\", \"ians\", \"ifbb\", \"image\", \"imagery\", \"india\", \"influencer\", \"info\", \"interscope\", \"island\", \"jahi\", \"jeff\", \"jessica\", \"jones\", \"jour\", \"junkie\", \"jusqu\", \"jusqu\", \"kandy\", \"kapoor\", \"kaushal\", \"kayla\", \"keywords\", \"kitchen\", \"lagos\", \"launch\", \"lawyer\", \"life\", \"lifestyle\", \"link\", \"location\", \"love\", \"lover\", \"luna\", \"luna\", \"lunch\", \"luxury\", \"makeup\", \"malik\", \"malini\", \"mansion\", \"marriage\", \"mask\", \"masterpiece\", \"maurice\", \"mauritius\", \"medium\", \"message\", \"michi\", \"millz\", \"mindset\", \"minute\", \"minute\", \"model\", \"model\", \"moment\", \"monday\", \"money\", \"morcha\", \"morning\", \"motd\", \"motivation\", \"movie\", \"mukesh\", \"mumbai\", \"navman\", \"news\", \"nick\", \"nick\", \"nikhil\", \"note\", \"notification\", \"number\", \"obsession\", \"office\", \"outfit\", \"palette\", \"paris\", \"party\", \"pastry\", \"pic\", \"picture\", \"pill\", \"pillow\", \"place\", \"plan\", \"planner\", \"planner\", \"play\", \"playboy\", \"point\", \"positivity\", \"post\", \"prep\", \"print\", \"producer\", \"promoter\", \"punch\", \"punjabi\", \"queen\", \"quote\", \"quote\", \"quote\", \"qureshi\", \"rapper\", \"reality\", \"record\", \"repost\", \"resolution\", \"resort\", \"respond\", \"restaurant\", \"restocks\", \"retirement\", \"rise\", \"rite\", \"rizwan\", \"room\", \"rule\", \"sale\", \"sapp\", \"sardar\", \"satellite\", \"season\", \"selena\", \"session\", \"shah\", \"share\", \"shibuya\", \"shoe\", \"shoot\", \"shopper\", \"shot\", \"shroff\", \"side\", \"singh\", \"size\", \"sketch\", \"snap\", \"sneak\", \"sohum\", \"sponsor\", \"spot\", \"sridhar\", \"stallion\", \"star\", \"start\", \"story\", \"street\", \"stun\", \"style\", \"submission\", \"success\", \"sugar\", \"sushi\", \"sweet\", \"swift\", \"swimwear\", \"swipe\", \"talk\", \"tasty\", \"tattoo\", \"taylor\", \"team\", \"temple\", \"texas\", \"tiger\", \"time\", \"today\", \"tokyo\", \"track\", \"travel\", \"trend\", \"veer\", \"venue\", \"vibe\", \"video\", \"vintage\", \"vogue\", \"wait\", \"warhol\", \"watch\", \"wedding\", \"week\", \"weekend\", \"wife\", \"wine\", \"winner\", \"woman\", \"word\", \"year\", \"york\", \"yummy\"]}, \"R\": 30, \"lambda.step\": 0.01, \"plot.opts\": {\"xlab\": \"PC1\", \"ylab\": \"PC2\"}, \"topic.order\": [7, 4, 5, 1, 2, 3, 8, 10, 6, 9]};\n",
       "\n",
       "function LDAvis_load_lib(url, callback){\n",
       "  var s = document.createElement('script');\n",
       "  s.src = url;\n",
       "  s.async = true;\n",
       "  s.onreadystatechange = s.onload = callback;\n",
       "  s.onerror = function(){console.warn(\"failed to load library \" + url);};\n",
       "  document.getElementsByTagName(\"head\")[0].appendChild(s);\n",
       "}\n",
       "\n",
       "if(typeof(LDAvis) !== \"undefined\"){\n",
       "   // already loaded: just create the visualization\n",
       "   !function(LDAvis){\n",
       "       new LDAvis(\"#\" + \"ldavis_el655221121671470808102903854\", ldavis_el655221121671470808102903854_data);\n",
       "   }(LDAvis);\n",
       "}else if(typeof define === \"function\" && define.amd){\n",
       "   // require.js is available: use it to load d3/LDAvis\n",
       "   require.config({paths: {d3: \"https://cdnjs.cloudflare.com/ajax/libs/d3/3.5.5/d3.min\"}});\n",
       "   require([\"d3\"], function(d3){\n",
       "      window.d3 = d3;\n",
       "      LDAvis_load_lib(\"https://cdn.rawgit.com/bmabey/pyLDAvis/files/ldavis.v1.0.0.js\", function(){\n",
       "        new LDAvis(\"#\" + \"ldavis_el655221121671470808102903854\", ldavis_el655221121671470808102903854_data);\n",
       "      });\n",
       "    });\n",
       "}else{\n",
       "    // require.js not available: dynamically load d3 & LDAvis\n",
       "    LDAvis_load_lib(\"https://cdnjs.cloudflare.com/ajax/libs/d3/3.5.5/d3.min.js\", function(){\n",
       "         LDAvis_load_lib(\"https://cdn.rawgit.com/bmabey/pyLDAvis/files/ldavis.v1.0.0.js\", function(){\n",
       "                 new LDAvis(\"#\" + \"ldavis_el655221121671470808102903854\", ldavis_el655221121671470808102903854_data);\n",
       "            })\n",
       "         });\n",
       "}\n",
       "</script>"
      ],
      "text/plain": [
       "PreparedData(topic_coordinates=              x         y  topics  cluster       Freq\n",
       "topic                                                \n",
       "6     -0.021104 -0.434668       1        1  15.182949\n",
       "3     -0.369049  0.058439       2        1  14.258053\n",
       "4      0.041214  0.034714       3        1  12.764755\n",
       "0      0.078263  0.009412       4        1  11.066811\n",
       "1      0.143996  0.047637       5        1  10.917973\n",
       "2     -0.160413  0.076103       6        1   8.456888\n",
       "7      0.119145  0.061759       7        1   8.453007\n",
       "9      0.059615  0.048373       8        1   6.424894\n",
       "5      0.049295  0.047902       9        1   6.272287\n",
       "8      0.059036  0.050329      10        1   6.202383, topic_info=         Term       Freq      Total Category  logprob  loglift\n",
       "19       food  94.000000  94.000000  Default  30.0000  30.0000\n",
       "40    fitness  30.000000  30.000000  Default  29.0000  29.0000\n",
       "37     bikini  30.000000  30.000000  Default  28.0000  28.0000\n",
       "86     beauty  37.000000  37.000000  Default  27.0000  27.0000\n",
       "135   fashion  38.000000  38.000000  Default  26.0000  26.0000\n",
       "...       ...        ...        ...      ...      ...      ...\n",
       "770     check   0.982732   1.012568  Topic10  -5.2372   2.7503\n",
       "769   brother   1.392990   1.914472  Topic10  -4.8883   2.4622\n",
       "911      rule   1.386943   1.913663  Topic10  -4.8927   2.4583\n",
       "1617    field   1.172631   1.948632  Topic10  -5.0605   2.2724\n",
       "3586     luna   1.129339   1.973077  Topic10  -5.0981   2.2223\n",
       "\n",
       "[365 rows x 6 columns], token_table=      Topic      Freq       Term\n",
       "term                            \n",
       "2360      8  0.702158      abuja\n",
       "2360     10  0.351079      abuja\n",
       "263       4  1.106047  accessory\n",
       "818       9  0.926338     accord\n",
       "559       5  0.962576      actor\n",
       "...     ...       ...        ...\n",
       "72        4  0.951662      woman\n",
       "1608      4  1.106125       word\n",
       "558       2  1.043887       year\n",
       "387       9  0.935832       york\n",
       "28        1  1.037315      yummy\n",
       "\n",
       "[348 rows x 3 columns], R=30, lambda_step=0.01, plot_opts={'xlab': 'PC1', 'ylab': 'PC2'}, topic_order=[7, 4, 5, 1, 2, 3, 8, 10, 6, 9])"
      ]
     },
     "execution_count": 18,
     "metadata": {},
     "output_type": "execute_result"
    }
   ],
   "source": [
    "# Visualize the topics\n",
    "pyLDAvis.enable_notebook()\n",
    "vis = pyLDAvis.gensim.prepare(lda_model, corpus, id2word)\n",
    "vis"
   ]
  },
  {
   "cell_type": "markdown",
   "metadata": {},
   "source": [
    "### Save document-topic matrix (most significant topic per document)  \n",
    "https://github.com/Sim-Xuesi/content-based_movie_recommender/blob/master/Content%20Based%20Recommender%20System%20with%20LDA%20%26%20Cosine.ipynb  \n",
    "https://medium.com/@nicoleeesim97/building-a-simple-content-based-recommender-system-for-movies-and-tv-shows-73fec4f325ae  "
   ]
  },
  {
   "cell_type": "code",
   "execution_count": 19,
   "metadata": {},
   "outputs": [
    {
     "name": "stderr",
     "output_type": "stream",
     "text": [
      "C:\\Users\\minio\\anaconda3\\envs\\tfm-py-37\\lib\\site-packages\\ipykernel\\ipkernel.py:287: DeprecationWarning: `should_run_async` will not call `transform_cell` automatically in the future. Please pass the result to `transformed_cell` argument and any exception that happen during thetransform in `preprocessing_exc_tuple` in IPython 7.17 and above.\n",
      "  and should_run_async(code)\n"
     ]
    },
    {
     "name": "stdout",
     "output_type": "stream",
     "text": [
      "      Document  Topic  Probability\n",
      "0        16744      9     0.382725\n",
      "1        52434      6     0.718612\n",
      "2        36324      0     0.189105\n",
      "3        42519      5     0.349218\n",
      "4         4998      7     0.808466\n",
      "...        ...    ...          ...\n",
      "4404     34767      6     0.393532\n",
      "4405     42449      6     0.429183\n",
      "4406     27659      1     0.419131\n",
      "4407     20333      9     0.336749\n",
      "4408     36250      2     0.364353\n",
      "\n",
      "[4409 rows x 3 columns]\n"
     ]
    }
   ],
   "source": [
    "def Sort_Tuple(tup):  \n",
    "    return(sorted(tup, key = lambda x: x[1], reverse = True))\n",
    "\n",
    "doc_num, topic_num, prob = [], [], []\n",
    "\n",
    "document_topic_matrix = documents\n",
    "\n",
    "for n in range(len(documents)):\n",
    "    get_document_topics = lda_model.get_document_topics(corpus_total[n], minimum_probability=0)\n",
    "    doc_num.append(documents.index[n])\n",
    "    sorted_doc_topics = Sort_Tuple(get_document_topics)\n",
    "    topic_num.append(sorted_doc_topics[0][0])\n",
    "    prob.append(sorted_doc_topics[0][1])\n",
    "    \n",
    "data = {'Document': doc_num\n",
    "        ,'Topic': topic_num\n",
    "        ,'Probability': prob}\n",
    "df = pd.DataFrame(data) \n",
    "df.to_csv(file_model + '_document_topic_matrix.csv', index=False)\n",
    "print(df)"
   ]
  },
  {
   "cell_type": "markdown",
   "metadata": {},
   "source": [
    "### Save document-topic matrix (all topic's probability per document)  \n",
    "https://github.com/Sim-Xuesi/content-based_movie_recommender/blob/master/Content%20Based%20Recommender%20System%20with%20LDA%20%26%20Cosine.ipynb  \n",
    "https://medium.com/@nicoleeesim97/building-a-simple-content-based-recommender-system-for-movies-and-tv-shows-73fec4f325ae  "
   ]
  },
  {
   "cell_type": "code",
   "execution_count": 20,
   "metadata": {},
   "outputs": [
    {
     "name": "stderr",
     "output_type": "stream",
     "text": [
      "C:\\Users\\minio\\anaconda3\\envs\\tfm-py-37\\lib\\site-packages\\ipykernel\\ipkernel.py:287: DeprecationWarning: `should_run_async` will not call `transform_cell` automatically in the future. Please pass the result to `transformed_cell` argument and any exception that happen during thetransform in `preprocessing_exc_tuple` in IPython 7.17 and above.\n",
      "  and should_run_async(code)\n"
     ]
    },
    {
     "name": "stdout",
     "output_type": "stream",
     "text": [
      "      Document    Topic0    Topic1    Topic2    Topic3    Topic4    Topic5  \\\n",
      "0        16744  0.050173  0.050169  0.050216  0.160482  0.050164  0.050291   \n",
      "1        52434  0.031241  0.031238  0.031268  0.031224  0.031235  0.031317   \n",
      "2        36324  0.189105  0.090099  0.090099  0.090099  0.090099  0.090099   \n",
      "3        42519  0.052907  0.052904  0.052937  0.111055  0.052900  0.349218   \n",
      "4         4998  0.021098  0.022277  0.021100  0.021096  0.021556  0.021104   \n",
      "...        ...       ...       ...       ...       ...       ...       ...   \n",
      "4404     34767  0.045276  0.144783  0.090671  0.049635  0.094997  0.045276   \n",
      "4405     42449  0.056523  0.118629  0.056523  0.056523  0.056523  0.056523   \n",
      "4406     27659  0.064541  0.419131  0.064541  0.064541  0.064541  0.064541   \n",
      "4407     20333  0.053219  0.053219  0.053219  0.111691  0.111695  0.062065   \n",
      "4408     36250  0.056524  0.180726  0.364359  0.059245  0.056524  0.056524   \n",
      "\n",
      "        Topic6    Topic7    Topic8    Topic9  \n",
      "0     0.105296  0.050209  0.050276  0.382725  \n",
      "1     0.718612  0.031264  0.031307  0.031295  \n",
      "2     0.090099  0.090099  0.090099  0.090099  \n",
      "3     0.169200  0.052932  0.052980  0.052967  \n",
      "4     0.021096  0.808466  0.021104  0.021103  \n",
      "...        ...       ...       ...       ...  \n",
      "4404  0.393532  0.045276  0.045276  0.045276  \n",
      "4405  0.429183  0.056523  0.056523  0.056523  \n",
      "4406  0.064541  0.064541  0.064541  0.064541  \n",
      "4407  0.111694  0.053219  0.053219  0.336761  \n",
      "4408  0.056524  0.056524  0.056524  0.056524  \n",
      "\n",
      "[4409 rows x 11 columns]\n"
     ]
    }
   ],
   "source": [
    "doc_num = []\n",
    "prob0, prob1, prob2, prob3, prob4, prob5, prob6, prob7, prob8, prob9 = ([] for i in range(num_topics))\n",
    "\n",
    "document_topic_matrix = documents\n",
    "\n",
    "for n in range(len(documents)):\n",
    "    get_document_topics = lda_model.get_document_topics(corpus_total[n], minimum_probability=0)\n",
    "    doc_num.append(documents.index[n])\n",
    "    prob0.append(get_document_topics[0][1])\n",
    "    prob1.append(get_document_topics[1][1])\n",
    "    prob2.append(get_document_topics[2][1])\n",
    "    prob3.append(get_document_topics[3][1])\n",
    "    prob4.append(get_document_topics[4][1])\n",
    "    prob5.append(get_document_topics[5][1])\n",
    "    prob6.append(get_document_topics[6][1])\n",
    "    prob7.append(get_document_topics[7][1])\n",
    "    prob8.append(get_document_topics[8][1])\n",
    "    prob9.append(get_document_topics[9][1])\n",
    "    \n",
    "data = {'Document': doc_num\n",
    "        ,'Topic0': prob0\n",
    "        ,'Topic1': prob1\n",
    "        ,'Topic2': prob2\n",
    "        ,'Topic3': prob3\n",
    "        ,'Topic4': prob4\n",
    "        ,'Topic5': prob5\n",
    "        ,'Topic6': prob6\n",
    "        ,'Topic7': prob7\n",
    "        ,'Topic8': prob8\n",
    "        ,'Topic9': prob9}\n",
    "\n",
    "df = pd.DataFrame(data) \n",
    "df.to_csv(file_model + '_document_topic_matrix_full.csv', index=False)\n",
    "print(df)"
   ]
  },
  {
   "cell_type": "markdown",
   "metadata": {},
   "source": [
    "### Save topic-term matrix"
   ]
  },
  {
   "cell_type": "code",
   "execution_count": 21,
   "metadata": {},
   "outputs": [
    {
     "name": "stderr",
     "output_type": "stream",
     "text": [
      "C:\\Users\\minio\\anaconda3\\envs\\tfm-py-37\\lib\\site-packages\\ipykernel\\ipkernel.py:287: DeprecationWarning: `should_run_async` will not call `transform_cell` automatically in the future. Please pass the result to `transformed_cell` argument and any exception that happen during thetransform in `preprocessing_exc_tuple` in IPython 7.17 and above.\n",
      "  and should_run_async(code)\n"
     ]
    }
   ],
   "source": [
    "# get topic-term-matrix\n",
    "topic_term_matrix = lda_model.get_topics()\n",
    "# save topic-term matrix\n",
    "savetxt(file_model + '_topic_term_matrix.csv', topic_term_matrix, delimiter=',')"
   ]
  }
 ],
 "metadata": {
  "kernelspec": {
   "display_name": "Python 3",
   "language": "python",
   "name": "python3"
  },
  "language_info": {
   "codemirror_mode": {
    "name": "ipython",
    "version": 3
   },
   "file_extension": ".py",
   "mimetype": "text/x-python",
   "name": "python",
   "nbconvert_exporter": "python",
   "pygments_lexer": "ipython3",
   "version": "3.7.9"
  }
 },
 "nbformat": 4,
 "nbformat_minor": 4
}
