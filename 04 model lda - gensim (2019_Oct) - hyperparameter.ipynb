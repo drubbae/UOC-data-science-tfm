{
 "cells": [
  {
   "cell_type": "markdown",
   "metadata": {},
   "source": [
    "# <span style=\"color:blue\">LDA model (2019_Oct) - with hyperparameter tuning</span>"
   ]
  },
  {
   "cell_type": "code",
   "execution_count": 1,
   "metadata": {},
   "outputs": [],
   "source": [
    "yyyy_MMM = '2019_Oct'"
   ]
  },
  {
   "cell_type": "markdown",
   "metadata": {},
   "source": [
    "### Load packages"
   ]
  },
  {
   "cell_type": "code",
   "execution_count": 2,
   "metadata": {},
   "outputs": [
    {
     "name": "stderr",
     "output_type": "stream",
     "text": [
      "C:\\Users\\minio\\anaconda3\\envs\\tfm-py-37\\lib\\site-packages\\botocore\\vendored\\requests\\packages\\urllib3\\_collections.py:1: DeprecationWarning: Using or importing the ABCs from 'collections' instead of from 'collections.abc' is deprecated since Python 3.3,and in 3.9 it will stop working\n",
      "  from collections import Mapping, MutableMapping\n",
      "C:\\Users\\minio\\anaconda3\\envs\\tfm-py-37\\lib\\site-packages\\botocore\\vendored\\requests\\packages\\urllib3\\_collections.py:1: DeprecationWarning: Using or importing the ABCs from 'collections' instead of from 'collections.abc' is deprecated since Python 3.3,and in 3.9 it will stop working\n",
      "  from collections import Mapping, MutableMapping\n",
      "C:\\Users\\minio\\anaconda3\\envs\\tfm-py-37\\lib\\site-packages\\scipy\\sparse\\sparsetools.py:21: DeprecationWarning: `scipy.sparse.sparsetools` is deprecated!\n",
      "scipy.sparse.sparsetools is a private module for scipy.sparse, and should not be used.\n",
      "  _deprecated()\n",
      "C:\\Users\\minio\\anaconda3\\envs\\tfm-py-37\\lib\\site-packages\\gensim\\models\\doc2vec.py:73: DeprecationWarning: Using or importing the ABCs from 'collections' instead of from 'collections.abc' is deprecated since Python 3.3,and in 3.9 it will stop working\n",
      "  from collections import namedtuple, defaultdict, Iterable\n",
      "[nltk_data] Downloading package stopwords to\n",
      "[nltk_data]     C:\\Users\\minio\\AppData\\Roaming\\nltk_data...\n",
      "[nltk_data]   Package stopwords is already up-to-date!\n",
      "[nltk_data] Downloading package averaged_perceptron_tagger to\n",
      "[nltk_data]     C:\\Users\\minio\\AppData\\Roaming\\nltk_data...\n",
      "[nltk_data]   Package averaged_perceptron_tagger is already up-to-\n",
      "[nltk_data]       date!\n"
     ]
    },
    {
     "data": {
      "text/plain": [
       "True"
      ]
     },
     "execution_count": 2,
     "metadata": {},
     "output_type": "execute_result"
    }
   ],
   "source": [
    "import csv, os, re, time\n",
    "import numpy as np\n",
    "from numpy import savetxt\n",
    "import pandas as  pd\n",
    "import matplotlib.pyplot as plt  \n",
    "import pyLDAvis\n",
    "import pyLDAvis.gensim\n",
    "import gensim\n",
    "import gensim.corpora as corpora\n",
    "from gensim.corpora.dictionary import Dictionary\n",
    "from gensim.models import CoherenceModel\n",
    "from gensim.test.utils import datapath\n",
    "from gensim.utils import simple_preprocess\n",
    "from pprint import pprint\n",
    "import nltk\n",
    "nltk.download('stopwords')\n",
    "nltk.download('averaged_perceptron_tagger')"
   ]
  },
  {
   "cell_type": "markdown",
   "metadata": {},
   "source": [
    "### Constants"
   ]
  },
  {
   "cell_type": "code",
   "execution_count": 3,
   "metadata": {},
   "outputs": [
    {
     "name": "stdout",
     "output_type": "stream",
     "text": [
      "D:\\master\\data science\\semestre 4\\M2.979 - tfm\\data\\bins_test\\doc\\2019_Oct\\2019_Oct_28_results.csv\n",
      "D:\\master\\data science\\semestre 4\\M2.979 - tfm\\data\\bins_test\\model_hyperparameter\\2019_Oct\\model\n"
     ]
    },
    {
     "name": "stderr",
     "output_type": "stream",
     "text": [
      "C:\\Users\\minio\\anaconda3\\envs\\tfm-py-37\\lib\\site-packages\\ipykernel\\ipkernel.py:287: DeprecationWarning: `should_run_async` will not call `transform_cell` automatically in the future. Please pass the result to `transformed_cell` argument and any exception that happen during thetransform in `preprocessing_exc_tuple` in IPython 7.17 and above.\n",
      "  and should_run_async(code)\n"
     ]
    }
   ],
   "source": [
    "# for reproducible results\n",
    "random_state = 33\n",
    "# if the test is True, the process runs on a smaller subset of raw data (json files)\n",
    "test = True\n",
    "# if sample > 0, then we take a sample of the entire dataset (for debugging purpose)\n",
    "sample = 0\n",
    "# parameters to build the lda model\n",
    "num_topics = 10\n",
    "alpha = 'asymmetric'\n",
    "eta = 0.61\n",
    "\n",
    "if test:\n",
    "    # path with the documents preprocessed\n",
    "    path_doc = r'D:\\master\\data science\\semestre 4\\M2.979 - tfm\\data\\bins_test\\doc'\n",
    "    # path where store all data/results related to the model\n",
    "    path_model = r'D:\\master\\data science\\semestre 4\\M2.979 - tfm\\data\\bins_test\\model_hyperparameter'\n",
    "    # chunksize to build LDA model\n",
    "    chunksize = 250\n",
    "else:\n",
    "    # path with the documents preprocessed\n",
    "    path_doc = r'D:\\master\\data science\\semestre 4\\M2.979 - tfm\\data\\bins\\doc'\n",
    "    # path where store all data/results related to the model\n",
    "    path_model = r'D:\\master\\data science\\semestre 4\\M2.979 - tfm\\data\\bins\\model_hyperparameter'\n",
    "    # chunksize to build LDA model\n",
    "    chunksize = 5000\n",
    "\n",
    "# path + name of the file that contains the documents preprocessed\n",
    "file_doc = os.path.join(path_doc, yyyy_MMM, yyyy_MMM) + '_28_results.csv'\n",
    "# path + name of the file that contains the model gotten at the end\n",
    "file_model = os.path.join(path_model, yyyy_MMM, 'model')\n",
    "print(file_doc)\n",
    "print(file_model)"
   ]
  },
  {
   "cell_type": "markdown",
   "metadata": {},
   "source": [
    "### Load data preprocessed"
   ]
  },
  {
   "cell_type": "code",
   "execution_count": 4,
   "metadata": {},
   "outputs": [
    {
     "name": "stderr",
     "output_type": "stream",
     "text": [
      "C:\\Users\\minio\\anaconda3\\envs\\tfm-py-37\\lib\\site-packages\\ipykernel\\ipkernel.py:287: DeprecationWarning: `should_run_async` will not call `transform_cell` automatically in the future. Please pass the result to `transformed_cell` argument and any exception that happen during thetransform in `preprocessing_exc_tuple` in IPython 7.17 and above.\n",
      "  and should_run_async(code)\n"
     ]
    },
    {
     "data": {
      "text/plain": [
       "id_doc\n",
       "6942     ['demain', 'commence', 'indre', 'bourges', 'sa...\n",
       "32657                    ['thabo', 'lot', 'stay', 'bless']\n",
       "46888    ['cover', 'holiday', 'stone', 'color', 'gold',...\n",
       "31716    ['king', 'rich', 'life', 'porsche', 'porsche',...\n",
       "36171    ['love', 'shot', 'hola', 'husband', 'miele', '...\n",
       "36407    ['perfume', 'free', 'original', 'perfume', 'be...\n",
       "8610     ['mahir', 'khan', 'fahad', 'mustafa', 'haan', ...\n",
       "52847    ['clos', 'siete', 'michel', 'roll', 'david', '...\n",
       "11773              ['lady', 'care', 'keyword', 'consider']\n",
       "20883                 ['buddy', 'havin', 'mighty', 'duck']\n",
       "Name: content_preprocessed, dtype: object"
      ]
     },
     "execution_count": 4,
     "metadata": {},
     "output_type": "execute_result"
    }
   ],
   "source": [
    "df = pd.read_csv(file_doc, index_col='id_doc')\n",
    "documents = df.content_preprocessed\n",
    "documents.head(10)"
   ]
  },
  {
   "cell_type": "markdown",
   "metadata": {},
   "source": [
    "### Shuffle"
   ]
  },
  {
   "cell_type": "code",
   "execution_count": 5,
   "metadata": {},
   "outputs": [
    {
     "name": "stderr",
     "output_type": "stream",
     "text": [
      "C:\\Users\\minio\\anaconda3\\envs\\tfm-py-37\\lib\\site-packages\\ipykernel\\ipkernel.py:287: DeprecationWarning: `should_run_async` will not call `transform_cell` automatically in the future. Please pass the result to `transformed_cell` argument and any exception that happen during thetransform in `preprocessing_exc_tuple` in IPython 7.17 and above.\n",
      "  and should_run_async(code)\n"
     ]
    },
    {
     "data": {
      "text/plain": [
       "id_doc\n",
       "28668    ['jeff', 'black', 'model', 'vixenruhhvxo', 'ed...\n",
       "40521    ['gorgeous', 'bride', 'wonderful', 'move', 'be...\n",
       "5035     ['lindsay', 'thompson', 'winner', 'master', 'm...\n",
       "8616     ['super', 'starry', 'company', 'humayun', 'sae...\n",
       "28618    ['rich', 'leather', 'spike', 'heel', 'fishnet'...\n",
       "27769    ['britt', 'morgan', 'today', 'bitch', 'holt', ...\n",
       "6886     ['peinture', 'ence', 'collection', 'priv', 'ma...\n",
       "32773                         ['amber', 'good', 'weather']\n",
       "32581          ['posh', 'life', 'hire', 'fire', 'promote']\n",
       "36103                   ['ella', 'dress', 'olive', 'beth']\n",
       "Name: content_preprocessed, dtype: object"
      ]
     },
     "execution_count": 5,
     "metadata": {},
     "output_type": "execute_result"
    }
   ],
   "source": [
    "documents = documents.sample(frac=1, random_state=random_state)\n",
    "documents.head(10)"
   ]
  },
  {
   "cell_type": "markdown",
   "metadata": {},
   "source": [
    "### Sample"
   ]
  },
  {
   "cell_type": "code",
   "execution_count": 6,
   "metadata": {},
   "outputs": [
    {
     "name": "stderr",
     "output_type": "stream",
     "text": [
      "C:\\Users\\minio\\anaconda3\\envs\\tfm-py-37\\lib\\site-packages\\ipykernel\\ipkernel.py:287: DeprecationWarning: `should_run_async` will not call `transform_cell` automatically in the future. Please pass the result to `transformed_cell` argument and any exception that happen during thetransform in `preprocessing_exc_tuple` in IPython 7.17 and above.\n",
      "  and should_run_async(code)\n"
     ]
    }
   ],
   "source": [
    "if sample > 0:\n",
    "    documents = documents.sample(n=sample, random_state=random_state)\n",
    "    print(documents.head(10))"
   ]
  },
  {
   "cell_type": "markdown",
   "metadata": {},
   "source": [
    "### Plot the number of words appearing in each document  \n",
    "\n",
    "https://neptune.ai/blog/exploratory-data-analysis-natural-language-processing-tools"
   ]
  },
  {
   "cell_type": "code",
   "execution_count": 7,
   "metadata": {},
   "outputs": [
    {
     "name": "stdout",
     "output_type": "stream",
     "text": [
      "(4332,)\n"
     ]
    },
    {
     "name": "stderr",
     "output_type": "stream",
     "text": [
      "C:\\Users\\minio\\anaconda3\\envs\\tfm-py-37\\lib\\site-packages\\ipykernel\\ipkernel.py:287: DeprecationWarning: `should_run_async` will not call `transform_cell` automatically in the future. Please pass the result to `transformed_cell` argument and any exception that happen during thetransform in `preprocessing_exc_tuple` in IPython 7.17 and above.\n",
      "  and should_run_async(code)\n"
     ]
    },
    {
     "data": {
      "text/plain": [
       "<AxesSubplot:>"
      ]
     },
     "execution_count": 7,
     "metadata": {},
     "output_type": "execute_result"
    },
    {
     "data": {
      "image/png": "[encoded data removed]",
      "text/plain": [
       "<Figure size 432x288 with 1 Axes>"
      ]
     },
     "metadata": {
      "needs_background": "light"
     },
     "output_type": "display_data"
    }
   ],
   "source": [
    "print(documents.shape)\n",
    "\n",
    "documents.str.split().\\\n",
    "    map(lambda x: len(x)).\\\n",
    "    hist()"
   ]
  },
  {
   "cell_type": "markdown",
   "metadata": {},
   "source": [
    "### Remove words that appear only once"
   ]
  },
  {
   "cell_type": "code",
   "execution_count": 8,
   "metadata": {},
   "outputs": [
    {
     "name": "stderr",
     "output_type": "stream",
     "text": [
      "C:\\Users\\minio\\anaconda3\\envs\\tfm-py-37\\lib\\site-packages\\ipykernel\\ipkernel.py:287: DeprecationWarning: `should_run_async` will not call `transform_cell` automatically in the future. Please pass the result to `transformed_cell` argument and any exception that happen during thetransform in `preprocessing_exc_tuple` in IPython 7.17 and above.\n",
      "  and should_run_async(code)\n"
     ]
    }
   ],
   "source": [
    "####################### PENDING"
   ]
  },
  {
   "cell_type": "markdown",
   "metadata": {},
   "source": [
    "### Tokenize words and Clean-up text"
   ]
  },
  {
   "cell_type": "code",
   "execution_count": 9,
   "metadata": {},
   "outputs": [
    {
     "name": "stderr",
     "output_type": "stream",
     "text": [
      "C:\\Users\\minio\\anaconda3\\envs\\tfm-py-37\\lib\\site-packages\\ipykernel\\ipkernel.py:287: DeprecationWarning: `should_run_async` will not call `transform_cell` automatically in the future. Please pass the result to `transformed_cell` argument and any exception that happen during thetransform in `preprocessing_exc_tuple` in IPython 7.17 and above.\n",
      "  and should_run_async(code)\n"
     ]
    }
   ],
   "source": [
    "# https://www.machinelearningplus.com/nlp/topic-modeling-gensim-python/#3importpackages\n",
    "def sent_to_words(sentences):\n",
    "    for sentence in sentences:\n",
    "        yield(gensim.utils.simple_preprocess(str(sentence), deacc=True))  # deacc=True removes punctuations"
   ]
  },
  {
   "cell_type": "markdown",
   "metadata": {},
   "source": [
    "### Compute bigrams & trigrams  \n",
    "\n",
    "https://radimrehurek.com/gensim/auto_examples/tutorials/run_lda.html#pre-process-and-vectorize-the-documents"
   ]
  },
  {
   "cell_type": "code",
   "execution_count": 10,
   "metadata": {},
   "outputs": [
    {
     "name": "stderr",
     "output_type": "stream",
     "text": [
      "C:\\Users\\minio\\anaconda3\\envs\\tfm-py-37\\lib\\site-packages\\ipykernel\\ipkernel.py:287: DeprecationWarning: `should_run_async` will not call `transform_cell` automatically in the future. Please pass the result to `transformed_cell` argument and any exception that happen during thetransform in `preprocessing_exc_tuple` in IPython 7.17 and above.\n",
      "  and should_run_async(code)\n"
     ]
    }
   ],
   "source": [
    "from gensim.models import Phrases\n",
    "\n",
    "# Add bigrams and trigrams to docs (only ones that appear min_count times or more).\n",
    "def bi_tri_grams(documents, min_count):\n",
    "    bigram = Phrases(documents, min_count=min_count)\n",
    "    for idx in range(len(documents)):\n",
    "        for token in bigram[documents[idx]]:\n",
    "            if '_' in token:\n",
    "                # Token is a bigram, add to document.\n",
    "                documents[idx].append(token)"
   ]
  },
  {
   "cell_type": "markdown",
   "metadata": {},
   "source": [
    "### Categorizing and tagging words"
   ]
  },
  {
   "cell_type": "code",
   "execution_count": 11,
   "metadata": {},
   "outputs": [
    {
     "name": "stderr",
     "output_type": "stream",
     "text": [
      "C:\\Users\\minio\\anaconda3\\envs\\tfm-py-37\\lib\\site-packages\\ipykernel\\ipkernel.py:287: DeprecationWarning: `should_run_async` will not call `transform_cell` automatically in the future. Please pass the result to `transformed_cell` argument and any exception that happen during thetransform in `preprocessing_exc_tuple` in IPython 7.17 and above.\n",
      "  and should_run_async(code)\n"
     ]
    }
   ],
   "source": [
    "# function to remove accented characters\n",
    "def tag_words(text):\n",
    "    tags = nltk.pos_tag(text)\n",
    "    nouns = [word for word, pos in tags if (pos == 'NN' or pos == 'NNP' or pos == 'NNS' or pos == 'NNPS')]\n",
    "    return nouns"
   ]
  },
  {
   "cell_type": "markdown",
   "metadata": {},
   "source": [
    "### Dictionary with the entire dataset"
   ]
  },
  {
   "cell_type": "code",
   "execution_count": 12,
   "metadata": {},
   "outputs": [
    {
     "name": "stderr",
     "output_type": "stream",
     "text": [
      "C:\\Users\\minio\\anaconda3\\envs\\tfm-py-37\\lib\\site-packages\\ipykernel\\ipkernel.py:287: DeprecationWarning: `should_run_async` will not call `transform_cell` automatically in the future. Please pass the result to `transformed_cell` argument and any exception that happen during thetransform in `preprocessing_exc_tuple` in IPython 7.17 and above.\n",
      "  and should_run_async(code)\n"
     ]
    }
   ],
   "source": [
    "data_words = list(sent_to_words(documents))\n",
    "# Compute bigrams & trigrams\n",
    "bi_tri_grams(data_words, 250)\n",
    "# Categorizing and tagging words\n",
    "data_words = list(map(tag_words, data_words))\n",
    "# Create Dictionary\n",
    "id2word = Dictionary(data_words)\n",
    "# Create Corpus\n",
    "texts = data_words\n",
    "# Term Document Frequency\n",
    "corpus_total = [id2word.doc2bow(text) for text in texts]"
   ]
  },
  {
   "cell_type": "markdown",
   "metadata": {},
   "source": [
    "### Build LDA model"
   ]
  },
  {
   "cell_type": "code",
   "execution_count": 13,
   "metadata": {},
   "outputs": [
    {
     "name": "stderr",
     "output_type": "stream",
     "text": [
      "C:\\Users\\minio\\anaconda3\\envs\\tfm-py-37\\lib\\site-packages\\ipykernel\\ipkernel.py:287: DeprecationWarning: `should_run_async` will not call `transform_cell` automatically in the future. Please pass the result to `transformed_cell` argument and any exception that happen during thetransform in `preprocessing_exc_tuple` in IPython 7.17 and above.\n",
      "  and should_run_async(code)\n"
     ]
    },
    {
     "name": "stdout",
     "output_type": "stream",
     "text": [
      "time elapsed - 00:00:25.39\n"
     ]
    }
   ],
   "source": [
    "perplexity_score = []\n",
    "coherence_score = []\n",
    "indixes = []\n",
    "\n",
    "index = 0\n",
    "chunk_size = 250\n",
    "documents_sample = documents[index:chunk_size-1]\n",
    "\n",
    "time_start = time.time()\n",
    "\n",
    "data_words = list(sent_to_words(documents_sample))\n",
    "# Compute bigrams & trigrams\n",
    "bi_tri_grams(data_words, 250)\n",
    "# Categorizing and tagging words\n",
    "data_words = list(map(tag_words, data_words))\n",
    "# # Create Dictionary\n",
    "# id2word = Dictionary(data_words)\n",
    "# Create Corpus\n",
    "texts = data_words\n",
    "# Term Document Frequency\n",
    "corpus = [id2word.doc2bow(text) for text in texts]\n",
    "# Build LDA Model\n",
    "lda_model = gensim.models.LdaMulticore(corpus=corpus\n",
    "                                       ,id2word=id2word\n",
    "                                       ,num_topics=num_topics\n",
    "                                       ,random_state=random_state\n",
    "                                       ,chunksize=chunksize\n",
    "                                       ,passes=50\n",
    "                                       ,per_word_topics=True\n",
    "                                       ,alpha=alpha\n",
    "                                       ,eta=eta)\n",
    "\n",
    "indixes.append(index)\n",
    "\n",
    "# Evaluate LDA Model\n",
    "# Compute Perplexity Score\n",
    "perplexity = lda_model.log_perplexity(corpus)\n",
    "perplexity_score.append(perplexity)\n",
    "\n",
    "# Evaluate LDA Model\n",
    "# Compute Coherence Score\n",
    "coherence_lda_model = CoherenceModel(model=lda_model, texts=data_words, dictionary=id2word, coherence='c_v')\n",
    "coherence = coherence_lda_model.get_coherence()\n",
    "coherence_score.append(coherence)\n",
    "\n",
    "# Save LDA Model\n",
    "temp_file = datapath(file_model)\n",
    "lda_model.save(temp_file)\n",
    "temp_file = datapath(file_model + '_' + str(index).zfill(5))\n",
    "lda_model.save(temp_file)\n",
    "\n",
    "time_end = time.time()\n",
    "hour, rem = divmod(time_end - time_start, 3600)\n",
    "minute, second = divmod(rem, 60)\n",
    "print('time elapsed - {:0>2}:{:0>2}:{:05.2f}'.format(int(hour), int(minute), second))"
   ]
  },
  {
   "cell_type": "markdown",
   "metadata": {},
   "source": [
    "### Incremental learning"
   ]
  },
  {
   "cell_type": "code",
   "execution_count": 14,
   "metadata": {},
   "outputs": [
    {
     "name": "stdout",
     "output_type": "stream",
     "text": [
      "0  -----  250  -----  499\n"
     ]
    },
    {
     "name": "stderr",
     "output_type": "stream",
     "text": [
      "C:\\Users\\minio\\anaconda3\\envs\\tfm-py-37\\lib\\site-packages\\ipykernel\\ipkernel.py:287: DeprecationWarning: `should_run_async` will not call `transform_cell` automatically in the future. Please pass the result to `transformed_cell` argument and any exception that happen during thetransform in `preprocessing_exc_tuple` in IPython 7.17 and above.\n",
      "  and should_run_async(code)\n",
      "C:\\Users\\minio\\anaconda3\\envs\\tfm-py-37\\lib\\site-packages\\gensim\\topic_coherence\\direct_confirmation_measure.py:204: RuntimeWarning: divide by zero encountered in double_scalars\n",
      "  m_lr_i = np.log(numerator / denominator)\n",
      "C:\\Users\\minio\\anaconda3\\envs\\tfm-py-37\\lib\\site-packages\\gensim\\topic_coherence\\indirect_confirmation_measure.py:323: RuntimeWarning: invalid value encountered in double_scalars\n",
      "  return cv1.T.dot(cv2)[0, 0] / (_magnitude(cv1) * _magnitude(cv2))\n"
     ]
    },
    {
     "name": "stdout",
     "output_type": "stream",
     "text": [
      "time elapsed - 00:00:29.93\n",
      "1  -----  500  -----  749\n",
      "time elapsed - 00:00:30.79\n",
      "2  -----  750  -----  999\n"
     ]
    },
    {
     "name": "stderr",
     "output_type": "stream",
     "text": [
      "C:\\Users\\minio\\anaconda3\\envs\\tfm-py-37\\lib\\site-packages\\gensim\\topic_coherence\\direct_confirmation_measure.py:204: RuntimeWarning: divide by zero encountered in double_scalars\n",
      "  m_lr_i = np.log(numerator / denominator)\n",
      "C:\\Users\\minio\\anaconda3\\envs\\tfm-py-37\\lib\\site-packages\\gensim\\topic_coherence\\indirect_confirmation_measure.py:323: RuntimeWarning: invalid value encountered in double_scalars\n",
      "  return cv1.T.dot(cv2)[0, 0] / (_magnitude(cv1) * _magnitude(cv2))\n"
     ]
    },
    {
     "name": "stdout",
     "output_type": "stream",
     "text": [
      "time elapsed - 00:00:26.81\n",
      "3  -----  1000  -----  1249\n"
     ]
    },
    {
     "name": "stderr",
     "output_type": "stream",
     "text": [
      "C:\\Users\\minio\\anaconda3\\envs\\tfm-py-37\\lib\\site-packages\\gensim\\topic_coherence\\direct_confirmation_measure.py:204: RuntimeWarning: divide by zero encountered in double_scalars\n",
      "  m_lr_i = np.log(numerator / denominator)\n",
      "C:\\Users\\minio\\anaconda3\\envs\\tfm-py-37\\lib\\site-packages\\gensim\\topic_coherence\\indirect_confirmation_measure.py:323: RuntimeWarning: invalid value encountered in double_scalars\n",
      "  return cv1.T.dot(cv2)[0, 0] / (_magnitude(cv1) * _magnitude(cv2))\n"
     ]
    },
    {
     "name": "stdout",
     "output_type": "stream",
     "text": [
      "time elapsed - 00:00:27.78\n",
      "4  -----  1250  -----  1499\n",
      "time elapsed - 00:00:24.66\n",
      "5  -----  1500  -----  1749\n"
     ]
    },
    {
     "name": "stderr",
     "output_type": "stream",
     "text": [
      "C:\\Users\\minio\\anaconda3\\envs\\tfm-py-37\\lib\\site-packages\\gensim\\topic_coherence\\direct_confirmation_measure.py:204: RuntimeWarning: divide by zero encountered in double_scalars\n",
      "  m_lr_i = np.log(numerator / denominator)\n",
      "C:\\Users\\minio\\anaconda3\\envs\\tfm-py-37\\lib\\site-packages\\gensim\\topic_coherence\\indirect_confirmation_measure.py:323: RuntimeWarning: invalid value encountered in double_scalars\n",
      "  return cv1.T.dot(cv2)[0, 0] / (_magnitude(cv1) * _magnitude(cv2))\n"
     ]
    },
    {
     "name": "stdout",
     "output_type": "stream",
     "text": [
      "time elapsed - 00:00:28.26\n",
      "6  -----  1750  -----  1999\n",
      "time elapsed - 00:00:27.53\n",
      "7  -----  2000  -----  2249\n",
      "time elapsed - 00:00:28.05\n",
      "8  -----  2250  -----  2499\n",
      "time elapsed - 00:00:25.76\n",
      "9  -----  2500  -----  2749\n",
      "time elapsed - 00:00:23.87\n",
      "10  -----  2750  -----  2999\n",
      "time elapsed - 00:00:24.36\n",
      "11  -----  3000  -----  3249\n",
      "time elapsed - 00:00:26.55\n",
      "12  -----  3250  -----  3499\n",
      "time elapsed - 00:00:24.09\n",
      "13  -----  3500  -----  3749\n",
      "time elapsed - 00:00:22.88\n",
      "14  -----  3750  -----  3999\n",
      "time elapsed - 00:00:23.48\n",
      "15  -----  4000  -----  4249\n",
      "time elapsed - 00:00:23.02\n",
      "16  -----  4250  -----  4499\n",
      "time elapsed - 00:00:18.62\n"
     ]
    }
   ],
   "source": [
    "documents_len = len(documents)\n",
    "\n",
    "while index+(index+1)*chunk_size < documents_len:\n",
    "    \n",
    "    time_start = time.time()\n",
    "    \n",
    "    print(index, ' ----- ', (index+1)*chunk_size, ' ----- ', ((index+1)*chunk_size)+chunk_size-1)\n",
    "    documents_sample = documents[(index+1)*chunk_size:((index+1)*chunk_size)+chunk_size-1]\n",
    "    \n",
    "    data_words = list(sent_to_words(documents_sample))\n",
    "    # Compute bigrams & trigrams\n",
    "    bi_tri_grams(data_words, 250)\n",
    "    # Categorizing and tagging words\n",
    "    data_words = list(map(tag_words, data_words))\n",
    "    # Create Corpus\n",
    "    texts = data_words\n",
    "    # Term Document Frequency\n",
    "    corpus = [id2word.doc2bow(text) for text in texts]\n",
    "    # Load LDA Model\n",
    "    temp_file = datapath(file_model)\n",
    "    lda_model = gensim.models.ldamodel.LdaModel.load(temp_file)\n",
    "    # Update LDA Model\n",
    "    lda_model.update(corpus)\n",
    "    \n",
    "    index = index + 1\n",
    "    indixes.append(index)\n",
    "    \n",
    "    # Evaluate LDA Model\n",
    "    # Compute Perplexity Score\n",
    "    perplexity = lda_model.log_perplexity(corpus)\n",
    "    perplexity_score.append(perplexity)\n",
    "\n",
    "    # Evaluate LDA Model\n",
    "    # Compute Coherence Score\n",
    "    coherence_lda_model = CoherenceModel(model=lda_model, texts=data_words, dictionary=id2word, coherence='c_v')\n",
    "    coherence = coherence_lda_model.get_coherence()\n",
    "    coherence_score.append(coherence)\n",
    "    \n",
    "    # Save LDA Model\n",
    "    temp_file = datapath(file_model)\n",
    "    lda_model.save(temp_file)\n",
    "    temp_file = datapath(file_model + '_' + str(index).zfill(5))\n",
    "    lda_model.save(temp_file)\n",
    "    \n",
    "    time_end = time.time()\n",
    "    hour, rem = divmod(time_end - time_start, 3600)\n",
    "    minute, second = divmod(rem, 60)\n",
    "    print('time elapsed - {:0>2}:{:0>2}:{:05.2f}'.format(int(hour), int(minute), second))"
   ]
  },
  {
   "cell_type": "markdown",
   "metadata": {},
   "source": [
    "### Topics in LDA model"
   ]
  },
  {
   "cell_type": "code",
   "execution_count": 15,
   "metadata": {},
   "outputs": [
    {
     "name": "stdout",
     "output_type": "stream",
     "text": [
      "[(0,\n",
      "  '0.015*\"jones\" + 0.015*\"cover\" + 0.015*\"glan\" + 0.015*\"diwali\" + '\n",
      "  '0.011*\"event\" + 0.011*\"navman\" + 0.011*\"magazine\" + 0.007*\"movie\" + '\n",
      "  '0.007*\"today\" + 0.007*\"follow\"'),\n",
      " (1,\n",
      "  '0.023*\"shoot\" + 0.023*\"follow\" + 0.012*\"bethany\" + 0.012*\"kind\" + '\n",
      "  '0.012*\"competition\" + 0.012*\"gamma\" + 0.012*\"beta\" + 0.012*\"moody\" + '\n",
      "  '0.012*\"michi\" + 0.012*\"mini\"'),\n",
      " (2,\n",
      "  '0.210*\"food\" + 0.038*\"foodie\" + 0.021*\"tasty\" + 0.019*\"breakfast\" + '\n",
      "  '0.019*\"yummy\" + 0.019*\"pic\" + 0.019*\"ephoto\" + 0.019*\"gourmand\" + '\n",
      "  '0.019*\"lunch\" + 0.019*\"sweet\"'),\n",
      " (3,\n",
      "  '0.035*\"luxury\" + 0.034*\"dress\" + 0.023*\"couture\" + 0.017*\"katrina\" + '\n",
      "  '0.012*\"fashion\" + 0.012*\"watch\" + 0.012*\"haute\" + 0.012*\"disclaimer\" + '\n",
      "  '0.012*\"product\" + 0.006*\"wedding\"'),\n",
      " (4,\n",
      "  '0.049*\"jewelry\" + 0.022*\"york\" + 0.018*\"city\" + 0.018*\"jour\" + '\n",
      "  '0.013*\"apple\" + 0.013*\"dessin\" + 0.013*\"watch\" + 0.013*\"sapphire\" + '\n",
      "  '0.009*\"gold\" + 0.009*\"time\"'),\n",
      " (5,\n",
      "  '0.020*\"gourmet\" + 0.020*\"bos\" + 0.014*\"tokyo\" + 0.013*\"eats\" + 0.007*\"rock\" '\n",
      "  '+ 0.007*\"power\" + 0.007*\"smith\" + 0.007*\"betsy\" + 0.007*\"lovemaking\" + '\n",
      "  '0.007*\"raspberry\"'),\n",
      " (6,\n",
      "  '0.015*\"cash\" + 0.015*\"birdman\" + 0.015*\"nicolas\" + 0.015*\"rise\" + '\n",
      "  '0.012*\"time\" + 0.012*\"amber\" + 0.012*\"money\" + 0.012*\"love\" + '\n",
      "  '0.009*\"clover\" + 0.009*\"pregnancy\"'),\n",
      " (7,\n",
      "  '0.031*\"sapp\" + 0.018*\"vibe\" + 0.018*\"telegram\" + 0.018*\"aubrey\" + '\n",
      "  '0.018*\"halloween\" + 0.012*\"violet\" + 0.006*\"order\" + 0.006*\"hotshot\" + '\n",
      "  '0.006*\"nail\" + 0.006*\"daughter\"'),\n",
      " (8,\n",
      "  '0.084*\"bikini\" + 0.070*\"fitness\" + 0.028*\"competitor\" + 0.008*\"model\" + '\n",
      "  '0.007*\"motivation\" + 0.007*\"addict\" + 0.007*\"hardbody\" + 0.007*\"prep\" + '\n",
      "  '0.007*\"lifestyle\" + 0.007*\"athlete\"'),\n",
      " (9,\n",
      "  '0.013*\"star\" + 0.013*\"lotus\" + 0.013*\"flower\" + 0.013*\"cover\" + '\n",
      "  '0.009*\"conn\" + 0.009*\"introduce\" + 0.009*\"deerhunter\" + 0.009*\"deniro\" + '\n",
      "  '0.009*\"godfather\" + 0.009*\"goodfella\"')]\n"
     ]
    },
    {
     "name": "stderr",
     "output_type": "stream",
     "text": [
      "C:\\Users\\minio\\anaconda3\\envs\\tfm-py-37\\lib\\site-packages\\ipykernel\\ipkernel.py:287: DeprecationWarning: `should_run_async` will not call `transform_cell` automatically in the future. Please pass the result to `transformed_cell` argument and any exception that happen during thetransform in `preprocessing_exc_tuple` in IPython 7.17 and above.\n",
      "  and should_run_async(code)\n"
     ]
    }
   ],
   "source": [
    "# Print the Keyword in the 10 topics\n",
    "pprint(lda_model.print_topics())\n",
    "doc_lda = lda_model[corpus]"
   ]
  },
  {
   "cell_type": "markdown",
   "metadata": {},
   "source": [
    "### Plot perplexity score progress along incremental learning iterations  \n",
    "\n",
    "Lower the perplexity score represents a better model.  "
   ]
  },
  {
   "cell_type": "code",
   "execution_count": 16,
   "metadata": {},
   "outputs": [
    {
     "name": "stderr",
     "output_type": "stream",
     "text": [
      "C:\\Users\\minio\\anaconda3\\envs\\tfm-py-37\\lib\\site-packages\\ipykernel\\ipkernel.py:287: DeprecationWarning: `should_run_async` will not call `transform_cell` automatically in the future. Please pass the result to `transformed_cell` argument and any exception that happen during thetransform in `preprocessing_exc_tuple` in IPython 7.17 and above.\n",
      "  and should_run_async(code)\n"
     ]
    },
    {
     "data": {
      "image/png": "[encoded data removed]",
      "text/plain": [
       "<Figure size 432x288 with 1 Axes>"
      ]
     },
     "metadata": {
      "needs_background": "light"
     },
     "output_type": "display_data"
    }
   ],
   "source": [
    "plt.title('Perplexity score progress')\n",
    "plt.xlabel('Index')\n",
    "plt.ylabel('Perplexity score')\n",
    "plt.plot(indixes, perplexity_score, 'go', perplexity_score, 'k')\n",
    "plt.show()"
   ]
  },
  {
   "cell_type": "markdown",
   "metadata": {},
   "source": [
    "### Plot coherence score progress along incremental learning iterations  \n",
    "\n",
    "Higher the coherence score represents a more human interpretable model.  "
   ]
  },
  {
   "cell_type": "code",
   "execution_count": 17,
   "metadata": {},
   "outputs": [
    {
     "name": "stderr",
     "output_type": "stream",
     "text": [
      "C:\\Users\\minio\\anaconda3\\envs\\tfm-py-37\\lib\\site-packages\\ipykernel\\ipkernel.py:287: DeprecationWarning: `should_run_async` will not call `transform_cell` automatically in the future. Please pass the result to `transformed_cell` argument and any exception that happen during thetransform in `preprocessing_exc_tuple` in IPython 7.17 and above.\n",
      "  and should_run_async(code)\n"
     ]
    },
    {
     "data": {
      "image/png": "[encoded data removed]",
      "text/plain": [
       "<Figure size 432x288 with 1 Axes>"
      ]
     },
     "metadata": {
      "needs_background": "light"
     },
     "output_type": "display_data"
    }
   ],
   "source": [
    "plt.title('Coherence score progress')\n",
    "plt.xlabel('Index')\n",
    "plt.ylabel('Coherence score')\n",
    "plt.plot(indixes, coherence_score, 'go', coherence_score, 'k') \n",
    "plt.show()"
   ]
  },
  {
   "cell_type": "markdown",
   "metadata": {},
   "source": [
    "### Visualize the topics-keywords"
   ]
  },
  {
   "cell_type": "code",
   "execution_count": 18,
   "metadata": {},
   "outputs": [
    {
     "name": "stderr",
     "output_type": "stream",
     "text": [
      "C:\\Users\\minio\\anaconda3\\envs\\tfm-py-37\\lib\\site-packages\\ipykernel\\ipkernel.py:287: DeprecationWarning: `should_run_async` will not call `transform_cell` automatically in the future. Please pass the result to `transformed_cell` argument and any exception that happen during thetransform in `preprocessing_exc_tuple` in IPython 7.17 and above.\n",
      "  and should_run_async(code)\n"
     ]
    },
    {
     "data": {
      "text/html": [
       "\n",
       "<link rel=\"stylesheet\" type=\"text/css\" href=\"https://cdn.rawgit.com/bmabey/pyLDAvis/files/ldavis.v1.0.0.css\">\n",
       "\n",
       "\n",
       "<div id=\"ldavis_el1538425035403496408866346678\"></div>\n",
       "<script type=\"text/javascript\">\n",
       "\n",
       "var ldavis_el1538425035403496408866346678_data = {\"mdsDat\": {\"x\": [0.34699341844945725, -0.043135493430701735, -0.050916759357332406, -0.051844444042001475, -0.0034921789958243772, -0.049677698302273914, -0.024554281247185176, -0.04368809034827947, -0.03750095729893932, -0.042183515426919435], \"y\": [-0.006639431393620612, -0.26184205103577424, -0.05897503513874396, 0.019068564477632933, 0.03645140229998487, 0.05908253553037048, 0.048021045766089544, 0.04724581210766605, 0.05568640126051329, 0.06190075612588159], \"topics\": [1, 2, 3, 4, 5, 6, 7, 8, 9, 10], \"cluster\": [1, 1, 1, 1, 1, 1, 1, 1, 1, 1], \"Freq\": [27.741325654255043, 17.53038092855549, 13.485375941199187, 9.494915744944409, 9.218667966616849, 5.714061848046828, 5.481766695408854, 4.486532371105511, 3.617939237288243, 3.2290336125795815]}, \"tinfo\": {\"Term\": [\"food\", \"foodie\", \"jewelry\", \"bikini\", \"fitness\", \"luxury\", \"tasty\", \"yummy\", \"pic\", \"gourmand\", \"lunch\", \"ephoto\", \"sweet\", \"breakfast\", \"dinner\", \"dress\", \"york\", \"shoot\", \"kitchen\", \"fashion\", \"follow\", \"cover\", \"sapp\", \"style\", \"cash\", \"birdman\", \"nicolas\", \"halloween\", \"rise\", \"jour\", \"food\", \"foodie\", \"tasty\", \"yummy\", \"lunch\", \"gourmand\", \"ephoto\", \"sweet\", \"pic\", \"dinner\", \"kitchen\", \"amsterdam\", \"mana\", \"dish\", \"bollywood\", \"coffee\", \"holland\", \"restaurant\", \"porn\", \"maquis\", \"traveltravel\", \"laga\", \"grammer\", \"visit\", \"aneth\", \"tag\", \"lover\", \"blog\", \"breakfast\", \"delhi\", \"fashionistas\", \"style\", \"fashion\", \"travel\", \"blogger\", \"gram\", \"dream\", \"luxury\", \"cash\", \"nicolas\", \"birdman\", \"amber\", \"money\", \"clover\", \"pregnancy\", \"witherspoon\", \"slash\", \"rosebud\", \"edward\", \"alexander\", \"wage\", \"bank\", \"month\", \"father\", \"die\", \"statement\", \"john\", \"union\", \"brother\", \"property\", \"sue\", \"dodge\", \"friend\", \"body\", \"congratulation\", \"rapper\", \"compton\", \"gabrielle\", \"rise\", \"work\", \"rock\", \"time\", \"family\", \"love\", \"dream\", \"state\", \"year\", \"star\", \"halloween\", \"detail\", \"baby\", \"glan\", \"diwali\", \"navman\", \"magazine\", \"location\", \"punjabi\", \"mumbai\", \"snap\", \"medium\", \"hour\", \"pali\", \"odom\", \"lamar\", \"house\", \"image\", \"place\", \"rann\", \"hollywood\", \"regard\", \"nichols\", \"matter\", \"keywords\", \"malik\", \"resolution\", \"donate\", \"profile\", \"founder\", \"airport\", \"paparazzo\", \"screen\", \"venue\", \"influencer\", \"jones\", \"event\", \"cover\", \"guest\", \"party\", \"post\", \"movie\", \"shoot\", \"family\", \"follow\", \"today\", \"lotus\", \"introduce\", \"heat\", \"december\", \"taxi\", \"robert\", \"bull\", \"goodfella\", \"godfather\", \"deniro\", \"deerhunter\", \"driver\", \"yang\", \"andy\", \"bomb\", \"graham\", \"wale\", \"checkout\", \"surveillance\", \"parking\", \"mayflower\", \"replica\", \"seaport\", \"christine\", \"allow\", \"crease\", \"mafia\", \"stuart\", \"irishman\", \"rag\", \"dylan\", \"linkworld\", \"mcgurk\", \"niro\", \"flower\", \"hero\", \"conn\", \"charlie\", \"studio\", \"story\", \"piece\", \"star\", \"cover\", \"model\", \"glam\", \"time\", \"cute\", \"face\", \"jewelry\", \"jour\", \"city\", \"apple\", \"dessin\", \"sapphire\", \"brooklyn\", \"shipping\", \"elluminate\", \"giveaway\", \"phone\", \"gold\", \"color\", \"christmas\", \"gotham\", \"artwork\", \"dans\", \"edit\", \"mountain\", \"break\", \"chain\", \"cadeau\", \"sketch\", \"chaque\", \"saison\", \"choisi\", \"personne\", \"inconnu\", \"paradise\", \"hershey\", \"vanilla\", \"turnpike\", \"york\", \"watch\", \"vintage\", \"beauty\", \"challenge\", \"time\", \"style\", \"love\", \"song\", \"street\", \"travel\", \"diamond\", \"room\", \"luxury\", \"size\", \"bethany\", \"kind\", \"gamma\", \"beta\", \"competition\", \"moody\", \"michi\", \"mini\", \"kayla\", \"society\", \"lagos\", \"brain\", \"goal\", \"melanie\", \"danielle\", \"donovan\", \"ariel\", \"atwood\", \"hahha\", \"poster\", \"photog\", \"madera\", \"kura\", \"bell\", \"barker\", \"pharaoh\", \"programme\", \"keynote\", \"sponsor\", \"membership\", \"shoot\", \"follow\", \"today\", \"baby\", \"president\", \"class\", \"lace\", \"couture\", \"dress\", \"haute\", \"disclaimer\", \"product\", \"trendsetter\", \"afterparty\", \"summertime\", \"sparkle\", \"bridal\", \"accessory\", \"fake\", \"impersonate\", \"fraudsters\", \"richard\", \"monte\", \"tricktxmmysmxth\", \"barber\", \"magic\", \"skin\", \"wedding\", \"shine\", \"writer\", \"morning\", \"people\", \"season\", \"head\", \"plan\", \"chip\", \"habit\", \"katrina\", \"luxury\", \"watch\", \"fashion\", \"detail\", \"diamond\", \"stylist\", \"stun\", \"inspiration\", \"sapp\", \"telegram\", \"vibe\", \"aubrey\", \"violet\", \"bijan\", \"capone\", \"comfort\", \"kiev\", \"boudoir\", \"colin\", \"reaction\", \"shook\", \"showstopper\", \"superstar\", \"stoppin\", \"kane\", \"vmas\", \"queen\", \"award\", \"suggestion\", \"ferguson\", \"buffet\", \"order\", \"daughter\", \"production\", \"inner\", \"hotshot\", \"purple\", \"glass\", \"start\", \"halloween\", \"nail\", \"costume\", \"flower\", \"gourmet\", \"bos\", \"tokyo\", \"leilani\", \"boston\", \"grandmother\", \"raspberry\", \"lovemaking\", \"bottom\", \"smith\", \"power\", \"sydney\", \"bizz\", \"jang\", \"maggie\", \"agarwal\", \"marilyn\", \"summit\", \"martine\", \"dalal\", \"community\", \"kayle\", \"playmate\", \"partner\", \"malini\", \"foto\", \"stag\", \"izakaya\", \"pick\", \"jimmy\", \"eats\", \"rock\", \"betsy\", \"manager\", \"fitness\", \"bikini\", \"competitor\", \"motivation\", \"prep\", \"hardbody\", \"lifestyle\", \"athlete\", \"championship\", \"geraldine\", \"francisco\", \"chavira\", \"addict\", \"winner\", \"class\", \"model\", \"ifbb\", \"damn\", \"mexico\", \"yass\", \"call\", \"league\", \"templet\", \"rochelle\", \"baltimore\", \"sierra\", \"cora\", \"tania\", \"mikka\", \"daniele\", \"muscle\", \"sara\", \"congrats\", \"lingerie\", \"topdog\", \"trade\", \"fan\", \"beach\", \"michi\", \"week\", \"day\", \"studio\", \"shoot\"], \"Freq\": [76.0, 13.0, 5.0, 3.0, 3.0, 5.0, 7.0, 6.0, 6.0, 6.0, 6.0, 6.0, 6.0, 7.0, 6.0, 2.0, 3.0, 3.0, 5.0, 6.0, 3.0, 4.0, 1.0, 5.0, 3.0, 3.0, 3.0, 2.0, 4.0, 2.0, 76.17564582983177, 13.85808318909734, 7.7028836878888445, 6.933609028820881, 6.9335725595837525, 6.9335725595837525, 6.9335725595837525, 6.933459099734909, 6.933606327395909, 6.164147971429817, 5.394232061609013, 3.855539230271423, 3.086224725185116, 3.0861490852858866, 3.0872441754341033, 3.08065810135121, 2.316880673263172, 2.3169553001280367, 1.5476060141952088, 1.5475698826362019, 1.5475322315256481, 1.5475324003647088, 1.5475281793881894, 1.5480959851495915, 1.5474844500714473, 1.5474694233950381, 1.5477571251546065, 1.5475288547444324, 6.945486519068609, 0.7784848298334941, 0.7784848298334941, 4.626537736149947, 4.625932616956113, 2.317000380157265, 2.3169004274332834, 3.0855554471481854, 2.316903128858256, 2.317178843044509, 3.4259692622764666, 3.4259639276124205, 3.4259639276124205, 2.7427861513933673, 2.7427812435024452, 2.059108837233053, 2.0591073435271197, 2.059013880213035, 2.0589227641511303, 2.0589227641511303, 2.0589227641511303, 2.0589227641511303, 2.0587383981617027, 2.0574422881851024, 1.3754271486482204, 1.3753937536512928, 1.3753937536512928, 1.3753088257996815, 1.3753087191064006, 1.3754269352616586, 1.3752481173228388, 1.3751248865833776, 1.3751248865833776, 1.3751248865833776, 1.3750861569224042, 1.3749418009133212, 1.374768744411671, 0.6917798152998439, 0.6916791501892972, 0.6916791501892972, 3.425074532422682, 2.058450966462908, 1.3752705229118318, 2.744260439149102, 2.0587614439103814, 2.7421150506563885, 2.059083871005318, 1.3759331948796178, 1.3756079937593777, 1.3754478471447187, 1.3754458199723811, 1.37539225994536, 1.3753693208899624, 2.569523785019988, 2.569086327401675, 1.9290557925058607, 1.9287137055728156, 1.2884952198428667, 1.288464934315445, 1.2884315299532212, 1.288243989492087, 1.2886528851495798, 1.2883368158647535, 1.2881822693928429, 1.2881818590198424, 1.2881818590198424, 1.2885572682405113, 1.2883593863797695, 1.2883556109481669, 1.2882449743872877, 1.2885589918071125, 1.2880921514819783, 1.28805259152475, 1.286700576637982, 0.6480280891120399, 0.6479340316203727, 0.6479341136949727, 0.6479028843096503, 0.6479028843096503, 0.6478714497378278, 0.6478695209847264, 0.6478695209847264, 0.6478687412760259, 0.6479968597267176, 0.64802825326124, 2.5700886224175923, 1.9295753247242324, 2.569975031171111, 0.6479655482667952, 1.2887003242684136, 1.2886551011637812, 1.2998419512263903, 1.2890823815316872, 1.2887560529218536, 1.2910197524660743, 1.2910894338015242, 1.6242929781569375, 1.0849827624508226, 1.084979757480578, 1.084979757480578, 1.084979757480578, 1.084979757480578, 1.084979757480578, 1.084979757480578, 1.084979757480578, 1.084979757480578, 1.084979757480578, 1.084979757480578, 1.0849593005677578, 1.0849567579006276, 1.0849411551705106, 1.084941039594732, 1.084941039594732, 0.5456392031325688, 0.5456108870668009, 0.5456108870668009, 0.5456090956422319, 0.5456090956422319, 0.5456090956422319, 0.5456060328840978, 0.5456060328840978, 0.545608922278564, 0.5456088644906746, 0.5456088644906746, 0.5456088644906746, 0.5456088644906746, 0.5456088644906746, 0.5456088644906746, 0.5456088644906746, 0.5456088644906746, 1.6242929781569375, 0.5456088644906746, 1.0849880789366402, 0.5456088644906746, 1.084762937319841, 1.084262840925647, 0.5456352735560949, 1.6246266454298839, 1.6236791551965575, 1.084553976312052, 0.5456350424045375, 1.083919696438852, 0.5456418035875883, 0.5456404166782446, 5.894010959350436, 2.1472466313222216, 2.1473202431709777, 1.6120079217994985, 1.6119824494067125, 1.6119550693897973, 1.0767450864421986, 1.0767437398839896, 1.0767135545374722, 1.0767085049441887, 1.0767432910312533, 1.0768469760133426, 1.0766710257407062, 1.0766732700043877, 0.5415071624117641, 0.5415071624117641, 0.5414810167398736, 0.5414810167398736, 0.5414807923135054, 0.5414788846893761, 0.5414783797300478, 0.5414547027482071, 0.5414547027482071, 0.5414547027482071, 0.5414547027482071, 0.5414547027482071, 0.5414547027482071, 0.5414547027482071, 0.541475911039998, 0.5414526268043015, 0.5414526268043015, 0.5414526268043015, 2.682822204823551, 1.611968983824623, 0.5414651946809185, 1.076689204276527, 0.541475911039998, 1.0767619184198105, 1.0766406159678206, 1.0767271323327459, 0.5414727129642518, 0.5431785777886262, 0.5415810547934804, 0.5415796521286794, 0.5415269680387541, 0.5415066013458437, 0.5415049742546746, 0.8628629454162574, 0.8628625976474278, 0.8627908877147473, 0.8627908877147473, 0.8627908877147473, 0.8626830793775458, 0.8625359731625903, 0.862487076865137, 0.8620946545177237, 0.4339244535637052, 0.4339244535637052, 0.4339244535637052, 0.43392382757981174, 0.43392219306631225, 0.4339215670824188, 0.4339215670824188, 0.43390264845808413, 0.43390264845808413, 0.43390264845808413, 0.43390264845808413, 0.43390264845808413, 0.43390097916770165, 0.43390097916770165, 0.43390097916770165, 0.433896249511618, 0.433896249511618, 0.43387712222598546, 0.43387712222598546, 0.43387712222598546, 0.43387712222598546, 1.7201792562141485, 1.6964176031572862, 0.4340484679283698, 0.43402022909939963, 0.4339533879303347, 0.43393488662859564, 0.4339118643320707, 1.6633033656128426, 2.4054342048502306, 0.8340504889663903, 0.8340031133788082, 0.8336542021851926, 0.4194038659738069, 0.4194038659738069, 0.4194038659738069, 0.4194038659738069, 0.4194038659738069, 0.4194038659738069, 0.4194001960339238, 0.4194001960339238, 0.4194001960339238, 0.41939465776100926, 0.41939465776100926, 0.41939465776100926, 0.41939465776100926, 0.41939465776100926, 0.41939465776100926, 0.4194835370323605, 0.4194363616233175, 0.41941234019862794, 0.419473428016137, 0.4193865171670867, 0.41944450221724006, 0.41924015329192976, 0.41923398112030813, 0.4192228378482994, 0.419221836955604, 1.2387651202901866, 2.4930350025985932, 0.8341156804439505, 0.8341841415043156, 0.41943482692118456, 0.41942665296417214, 0.41941514269817504, 0.41940633484245554, 0.4194043664201546, 1.7915676264954092, 1.0765787552422366, 1.0765953572304778, 1.0765598595582513, 0.7190973718366687, 0.3616165345491352, 0.3616165345491352, 0.36163327306688514, 0.36161721719667805, 0.36161721719667805, 0.3616162887960198, 0.3616118925458441, 0.3616118925458441, 0.3616112918160064, 0.3616112918160064, 0.3616112918160064, 0.3616112918160064, 0.3616112918160064, 0.3616112918160064, 0.36161126451010467, 0.3615990314661374, 0.3615990314661374, 0.36160776935468547, 0.3616520322213617, 0.36163543023312045, 0.3616341468557399, 0.3616023627861463, 0.3616482913128271, 0.361603345798608, 0.3615303298174283, 0.36163373726721426, 1.0765580027569348, 0.3616478544183997, 0.36162043929308013, 0.3616162887960198, 0.962463822462401, 0.9622779780824268, 0.6428445621601968, 0.32331800385321663, 0.32331800385321663, 0.32331800385321663, 0.32331800385321663, 0.32331800385321663, 0.32331800385321663, 0.32333110544161525, 0.3233335716229609, 0.3232919327932771, 0.3232919327932771, 0.3232919327932771, 0.3232919327932771, 0.3232919327932771, 0.3232919327932771, 0.3232919327932771, 0.3232919327932771, 0.3232919107738008, 0.32328087901617436, 0.3232533106318465, 0.3232532665928939, 0.3232891803587396, 0.32326079725378853, 0.3232446349581842, 0.32318969636481504, 0.32318969636481504, 0.32318969636481504, 0.3231070572702601, 0.6133319461528641, 0.32333572953163836, 0.3233182460674559, 0.3232724455567514, 2.9711565772635673, 3.5566316095123867, 1.1904856929257153, 0.3002150058155492, 0.3002006005171969, 0.3002006005171969, 0.3002006005171969, 0.3001715737427542, 0.30014254696831155, 0.3000844934194262, 0.3000844934194262, 0.3000844934194262, 0.3002006005171969, 0.30014254696831155, 0.3001353737979178, 0.3540623451496132, 0.003584368453849593, 0.00348175588288222, 0.0034683279904101187, 0.003468324612632964, 0.0034683304469753217, 0.003453833027427817, 0.0034538290355093614, 0.0034538290355093614, 0.0034538290355093614, 0.0034538290355093614, 0.0034538290355093614, 0.0034538290355093614, 0.0034538290355093614, 0.0034538284213680606, 0.0034544840172067016, 0.005384170028863968, 0.003737111229709554, 0.0036658266206390623, 0.0036658266206390623, 0.0036658266206390623, 0.0036658266206390623, 0.0036644392754404767, 0.0036664048346737982, 0.003665469497472627, 0.0036657928428675164, 0.0036651725601536734, 0.003603151351394323], \"Total\": [76.0, 13.0, 5.0, 3.0, 3.0, 5.0, 7.0, 6.0, 6.0, 6.0, 6.0, 6.0, 6.0, 7.0, 6.0, 2.0, 3.0, 3.0, 5.0, 6.0, 3.0, 4.0, 1.0, 5.0, 3.0, 3.0, 3.0, 2.0, 4.0, 2.0, 76.22520827517721, 13.906965126138774, 7.751765587993307, 6.982490906005297, 6.982454331124419, 6.982454331124419, 6.982454331124419, 6.982341140049498, 6.982489694162888, 6.2130297793214435, 5.443115836956907, 3.9044469792717984, 3.1351083878805075, 3.1350332990720164, 3.1363291045045627, 3.133362680602232, 2.3657622790605783, 2.365899793387288, 1.5964883024988366, 1.5964516009783274, 1.5964138825246386, 1.5964141546336676, 1.596411695010489, 1.5969981272144276, 1.5963726263707037, 1.596366007135208, 1.5966930294355852, 1.596559589335462, 7.346306699751704, 0.8273665685718393, 0.8273665685718393, 5.7466193242732455, 6.146227833211286, 2.9012910757527877, 3.0066001567289162, 4.994335174337073, 4.417024832510719, 5.8182164888853825, 3.4761055227063613, 3.476102989723523, 3.476102989723523, 2.792662273090565, 2.792659171005138, 2.10898264223234, 2.108981899912822, 2.1089100127840497, 2.10887639983247, 2.10887639983247, 2.10887639983247, 2.108876438858509, 2.108771182012123, 2.108204483504379, 1.425301150187369, 1.4252676798220774, 1.4252676830281166, 1.42519742128532, 1.4251974119296333, 1.4253477498999174, 1.4251751024241412, 1.4251045324379172, 1.4251045324379172, 1.4251045324379172, 1.4251667644529902, 1.4251663591601418, 1.4250736019058972, 0.7416534921273746, 0.7415529252035687, 0.7415529252035687, 4.011089668948579, 2.749345532812336, 1.7448506028536446, 4.942617968782243, 3.38996750742979, 6.581809630876234, 4.417024832510719, 1.9647878913225814, 2.605438184451194, 3.8128392549468506, 2.4977336049940373, 1.8399097524411185, 1.854311987517914, 2.6198997920467018, 2.619461772381678, 1.9794314923788492, 1.979114984497183, 1.3388709645207864, 1.3388400636752054, 1.3388070274389703, 1.338619433928701, 1.3390614002557928, 1.338738800058117, 1.3385842039372897, 1.3385841195241026, 1.3385841195241026, 1.338990027368525, 1.3387955743730247, 1.3387963292803207, 1.338683025171203, 1.339049906344125, 1.33859658494585, 1.3385903306774583, 1.3380980979312753, 0.6984032263075167, 0.6983091451514712, 0.6983092885249574, 0.6982780869862466, 0.6982780869862466, 0.6982465777887531, 0.698244959897935, 0.698244959897935, 0.6982443126546238, 0.6983875949452505, 0.6984235974347248, 3.1593531306520393, 2.6634214545369983, 4.237793590932573, 0.69837558864111, 2.0225804147981354, 2.0226665347140216, 2.440844976865643, 3.0548276456141177, 3.38996750742979, 3.4272882737852073, 3.493555311389691, 1.675924857601398, 1.1365401663527412, 1.1365437914995393, 1.1365437914995393, 1.1365437914995393, 1.1365437914995393, 1.1365437914995393, 1.1365437914995393, 1.1365437914995393, 1.1365437914995393, 1.1365437914995393, 1.1365437950062014, 1.136535066935822, 1.1365383074919815, 1.1365447791047831, 1.136544673287487, 1.136544673287487, 0.5971880528254883, 0.5971606288759628, 0.5971606288759628, 0.5971597993281245, 0.5971597993281245, 0.5971598028347865, 0.597158442161087, 0.597158442161087, 0.5971642667582304, 0.5971642633952903, 0.5971642633952903, 0.5971642633952903, 0.5971642633952903, 0.5971642633952903, 0.5971642633952903, 0.5971642633952903, 0.5971642633952903, 2.0334018668146667, 0.5971642633952903, 1.4940229928831252, 0.5971642633952903, 1.565501353775448, 1.8205722118203176, 0.5972122907107466, 3.8128392549468506, 4.237793590932573, 2.4794349574144623, 0.5972216485646213, 4.942617968782243, 0.5972796918036188, 0.9170380863527374, 5.946027264883162, 2.1988411017933283, 2.199206234412191, 1.6636031379990583, 1.6635769108521707, 1.6635825439149274, 1.1283395379438794, 1.1283390685308226, 1.128310925577307, 1.1283104420640984, 1.1283722545690749, 1.128481436340733, 1.1283401926094168, 1.1283591300974813, 0.593101612069321, 0.5931016131560986, 0.5930754676981659, 0.5930754676981659, 0.5930755128147859, 0.5930745034919493, 0.5930743219855313, 0.5930491568147193, 0.5930491568147193, 0.5930491568147193, 0.5930491568147193, 0.5930491568147193, 0.5930491568147193, 0.5930491568147193, 0.5930732347029561, 0.5930482344503913, 0.5930482344503913, 0.5930482344503913, 3.418067772743206, 2.4929145181106596, 0.5930686543616808, 2.314704575138508, 0.5931066503124701, 4.942617968782243, 5.7466193242732455, 6.581809630876234, 0.5932444467841435, 1.361847437248997, 2.9012910757527877, 1.0077960704768418, 1.2767728487803187, 5.8182164888853825, 0.9506104214962122, 0.915692364273249, 0.9156932472945514, 0.9156778555101058, 0.9156778555101058, 0.9156778555101058, 0.9156881863854834, 0.9155905016408431, 0.915867968121499, 0.9157071790345455, 0.48675264444563837, 0.4867526445399168, 0.4867526489183445, 0.48675203860998967, 0.4867515762185415, 0.48675206713908675, 0.48675206713908675, 0.48673086517773656, 0.48673086517773656, 0.48673086517773656, 0.48673086517773656, 0.48673086517773656, 0.4867304120296755, 0.4867304120296755, 0.486730417030923, 0.48672907232153095, 0.4867290742451544, 0.486734301315459, 0.486734301315459, 0.486734301315459, 0.486734301315459, 3.0548276456141177, 3.4272882737852073, 3.493555311389691, 1.854311987517914, 1.1705562628233823, 0.7834593485598006, 0.9013281167562562, 1.7163805665852312, 2.548605731951261, 0.8870438015408185, 0.8870024769402054, 0.8871656348801789, 0.4723971817542742, 0.4723971817542742, 0.47239718229766303, 0.4723971862427289, 0.47239719415173753, 0.4723971965576766, 0.4723967341648693, 0.4723967341648693, 0.4723967341648693, 0.4723947574251088, 0.4723947574251088, 0.4723947574251088, 0.472394759833489, 0.47239475998503705, 0.4723947786440994, 0.4724958542071763, 0.4724430504429533, 0.47242292011667325, 0.4724985729024464, 0.47240903128300354, 0.47251612100908075, 0.47249048643970254, 0.4724920622367816, 0.4724798223888035, 0.4724804228848123, 1.9473875900162905, 5.8182164888853825, 2.4929145181106596, 6.146227833211286, 1.8399097524411185, 1.0077960704768418, 1.1129318402642148, 1.007643586826261, 1.1560706165686894, 1.8452238651808273, 1.130243751351266, 1.130288389193761, 1.130261660629265, 0.7727610642326183, 0.41527486758933474, 0.41527486758933474, 0.4152946918669821, 0.4152763466429945, 0.4152763466429945, 0.4152767564345755, 0.41527417059675537, 0.41527417059675537, 0.41528246332711904, 0.41528246332711904, 0.41528246332711904, 0.41528246332711904, 0.41528246332711904, 0.41528246965338467, 0.41528251075220746, 0.4152736035552724, 0.4152736035552724, 0.4152843879484907, 0.41534340557906996, 0.4153261333762709, 0.41534150743009274, 0.41531180871308016, 0.4153653711819168, 0.4153200664661884, 0.4152815345065373, 0.41542904590147617, 2.4977336049940373, 1.0989896526068599, 1.0990279991386596, 2.0334018668146667, 1.0168550842354542, 1.0169632895954863, 0.6972355482690408, 0.37741349772223837, 0.37741349772223837, 0.37741349772223837, 0.37741349772223837, 0.37741349772223837, 0.3774135113105536, 0.37743028958012276, 0.377456048132516, 0.37743125431320806, 0.37743125431320806, 0.37743125431320806, 0.37743125431320806, 0.37743125431320806, 0.37743125431320806, 0.37743125431320806, 0.37743125431320806, 0.37743125151157136, 0.3774504530004185, 0.37745633225006153, 0.3774563186441831, 0.37750678211377336, 0.3774756781482486, 0.37747417995603705, 0.3775904489838136, 0.3775904489838136, 0.37762387135730824, 0.37765595007041236, 1.5080645040554874, 1.7448506028536446, 0.9167742283336073, 1.0610529319786421, 3.025518033242504, 3.6223204808313056, 1.244846422180927, 0.3545758620177721, 0.3545613297724085, 0.3545613297724085, 0.35456133284073776, 0.35453230299796584, 0.3545032762235232, 0.35444522642406573, 0.35444522642406573, 0.35444522642406573, 0.3545877406437003, 0.35456593825704463, 0.7834593485598006, 2.4794349574144623, 0.057944833937410435, 0.05790159293153175, 0.05782879661232217, 0.05785496118121161, 0.05789500494524826, 0.057814298510988654, 0.057814294519070206, 0.057814294519070206, 0.057814294519070206, 0.057814294519070206, 0.057814294519070206, 0.057814294519070206, 0.057814294519070206, 0.05781429454613672, 0.057834979934796776, 0.7389725850578439, 0.741089910311734, 0.48664993488587277, 0.48664993488587277, 0.48664993488587277, 0.48666742055794365, 0.48698556114477576, 0.9155905016408431, 1.0221825574182317, 1.1271108042929912, 1.565501353775448, 3.0548276456141177], \"Category\": [\"Default\", \"Default\", \"Default\", \"Default\", \"Default\", \"Default\", \"Default\", \"Default\", \"Default\", \"Default\", \"Default\", \"Default\", \"Default\", \"Default\", \"Default\", \"Default\", \"Default\", \"Default\", \"Default\", \"Default\", \"Default\", \"Default\", \"Default\", \"Default\", \"Default\", \"Default\", \"Default\", \"Default\", \"Default\", \"Default\", \"Topic1\", \"Topic1\", \"Topic1\", \"Topic1\", \"Topic1\", \"Topic1\", \"Topic1\", \"Topic1\", \"Topic1\", \"Topic1\", \"Topic1\", \"Topic1\", \"Topic1\", \"Topic1\", \"Topic1\", \"Topic1\", \"Topic1\", \"Topic1\", \"Topic1\", \"Topic1\", \"Topic1\", \"Topic1\", \"Topic1\", \"Topic1\", \"Topic1\", \"Topic1\", \"Topic1\", \"Topic1\", \"Topic1\", \"Topic1\", \"Topic1\", \"Topic1\", \"Topic1\", \"Topic1\", \"Topic1\", \"Topic1\", \"Topic1\", \"Topic1\", \"Topic2\", \"Topic2\", \"Topic2\", \"Topic2\", \"Topic2\", \"Topic2\", \"Topic2\", \"Topic2\", \"Topic2\", \"Topic2\", \"Topic2\", \"Topic2\", \"Topic2\", \"Topic2\", \"Topic2\", \"Topic2\", \"Topic2\", \"Topic2\", \"Topic2\", \"Topic2\", \"Topic2\", \"Topic2\", \"Topic2\", \"Topic2\", \"Topic2\", \"Topic2\", \"Topic2\", \"Topic2\", \"Topic2\", \"Topic2\", \"Topic2\", \"Topic2\", \"Topic2\", \"Topic2\", \"Topic2\", \"Topic2\", \"Topic2\", \"Topic2\", \"Topic2\", \"Topic2\", \"Topic2\", \"Topic2\", \"Topic2\", \"Topic3\", \"Topic3\", \"Topic3\", \"Topic3\", \"Topic3\", \"Topic3\", \"Topic3\", \"Topic3\", \"Topic3\", \"Topic3\", \"Topic3\", \"Topic3\", \"Topic3\", \"Topic3\", \"Topic3\", \"Topic3\", \"Topic3\", \"Topic3\", \"Topic3\", \"Topic3\", \"Topic3\", \"Topic3\", \"Topic3\", \"Topic3\", \"Topic3\", \"Topic3\", \"Topic3\", \"Topic3\", \"Topic3\", \"Topic3\", \"Topic3\", \"Topic3\", \"Topic3\", \"Topic3\", \"Topic3\", \"Topic3\", \"Topic3\", \"Topic3\", \"Topic3\", \"Topic3\", \"Topic3\", \"Topic3\", \"Topic3\", \"Topic4\", \"Topic4\", \"Topic4\", \"Topic4\", \"Topic4\", \"Topic4\", \"Topic4\", \"Topic4\", \"Topic4\", \"Topic4\", \"Topic4\", \"Topic4\", \"Topic4\", \"Topic4\", \"Topic4\", \"Topic4\", \"Topic4\", \"Topic4\", \"Topic4\", \"Topic4\", \"Topic4\", \"Topic4\", \"Topic4\", \"Topic4\", \"Topic4\", \"Topic4\", \"Topic4\", \"Topic4\", \"Topic4\", \"Topic4\", \"Topic4\", \"Topic4\", \"Topic4\", \"Topic4\", \"Topic4\", \"Topic4\", \"Topic4\", \"Topic4\", \"Topic4\", \"Topic4\", \"Topic4\", \"Topic4\", \"Topic4\", \"Topic4\", \"Topic4\", \"Topic4\", \"Topic4\", \"Topic4\", \"Topic5\", \"Topic5\", \"Topic5\", \"Topic5\", \"Topic5\", \"Topic5\", \"Topic5\", \"Topic5\", \"Topic5\", \"Topic5\", \"Topic5\", \"Topic5\", \"Topic5\", \"Topic5\", \"Topic5\", \"Topic5\", \"Topic5\", \"Topic5\", \"Topic5\", \"Topic5\", \"Topic5\", \"Topic5\", \"Topic5\", \"Topic5\", \"Topic5\", \"Topic5\", \"Topic5\", \"Topic5\", \"Topic5\", \"Topic5\", \"Topic5\", \"Topic5\", \"Topic5\", \"Topic5\", \"Topic5\", \"Topic5\", \"Topic5\", \"Topic5\", \"Topic5\", \"Topic5\", \"Topic5\", \"Topic5\", \"Topic5\", \"Topic5\", \"Topic5\", \"Topic5\", \"Topic5\", \"Topic6\", \"Topic6\", \"Topic6\", \"Topic6\", \"Topic6\", \"Topic6\", \"Topic6\", \"Topic6\", \"Topic6\", \"Topic6\", \"Topic6\", \"Topic6\", \"Topic6\", \"Topic6\", \"Topic6\", \"Topic6\", \"Topic6\", \"Topic6\", \"Topic6\", \"Topic6\", \"Topic6\", \"Topic6\", \"Topic6\", \"Topic6\", \"Topic6\", \"Topic6\", \"Topic6\", \"Topic6\", \"Topic6\", \"Topic6\", \"Topic6\", \"Topic6\", \"Topic6\", \"Topic6\", \"Topic6\", \"Topic6\", \"Topic6\", \"Topic7\", \"Topic7\", \"Topic7\", \"Topic7\", \"Topic7\", \"Topic7\", \"Topic7\", \"Topic7\", \"Topic7\", \"Topic7\", \"Topic7\", \"Topic7\", \"Topic7\", \"Topic7\", \"Topic7\", \"Topic7\", \"Topic7\", \"Topic7\", \"Topic7\", \"Topic7\", \"Topic7\", \"Topic7\", \"Topic7\", \"Topic7\", \"Topic7\", \"Topic7\", \"Topic7\", \"Topic7\", \"Topic7\", \"Topic7\", \"Topic7\", \"Topic7\", \"Topic7\", \"Topic7\", \"Topic7\", \"Topic7\", \"Topic7\", \"Topic7\", \"Topic7\", \"Topic8\", \"Topic8\", \"Topic8\", \"Topic8\", \"Topic8\", \"Topic8\", \"Topic8\", \"Topic8\", \"Topic8\", \"Topic8\", \"Topic8\", \"Topic8\", \"Topic8\", \"Topic8\", \"Topic8\", \"Topic8\", \"Topic8\", \"Topic8\", \"Topic8\", \"Topic8\", \"Topic8\", \"Topic8\", \"Topic8\", \"Topic8\", \"Topic8\", \"Topic8\", \"Topic8\", \"Topic8\", \"Topic8\", \"Topic8\", \"Topic8\", \"Topic8\", \"Topic8\", \"Topic8\", \"Topic8\", \"Topic9\", \"Topic9\", \"Topic9\", \"Topic9\", \"Topic9\", \"Topic9\", \"Topic9\", \"Topic9\", \"Topic9\", \"Topic9\", \"Topic9\", \"Topic9\", \"Topic9\", \"Topic9\", \"Topic9\", \"Topic9\", \"Topic9\", \"Topic9\", \"Topic9\", \"Topic9\", \"Topic9\", \"Topic9\", \"Topic9\", \"Topic9\", \"Topic9\", \"Topic9\", \"Topic9\", \"Topic9\", \"Topic9\", \"Topic9\", \"Topic9\", \"Topic9\", \"Topic9\", \"Topic9\", \"Topic10\", \"Topic10\", \"Topic10\", \"Topic10\", \"Topic10\", \"Topic10\", \"Topic10\", \"Topic10\", \"Topic10\", \"Topic10\", \"Topic10\", \"Topic10\", \"Topic10\", \"Topic10\", \"Topic10\", \"Topic10\", \"Topic10\", \"Topic10\", \"Topic10\", \"Topic10\", \"Topic10\", \"Topic10\", \"Topic10\", \"Topic10\", \"Topic10\", \"Topic10\", \"Topic10\", \"Topic10\", \"Topic10\", \"Topic10\", \"Topic10\", \"Topic10\", \"Topic10\", \"Topic10\", \"Topic10\", \"Topic10\", \"Topic10\", \"Topic10\", \"Topic10\", \"Topic10\", \"Topic10\", \"Topic10\", \"Topic10\"], \"logprob\": [30.0, 29.0, 28.0, 27.0, 26.0, 25.0, 24.0, 23.0, 22.0, 21.0, 20.0, 19.0, 18.0, 17.0, 16.0, 15.0, 14.0, 13.0, 12.0, 11.0, 10.0, 9.0, 8.0, 7.0, 6.0, 5.0, 4.0, 3.0, 2.0, 1.0, -1.5601999759674072, -3.264400005340576, -3.851599931716919, -3.956899881362915, -3.956899881362915, -3.956899881362915, -3.956899881362915, -3.956899881362915, -3.956899881362915, -4.07450008392334, -4.207900047302246, -4.543700218200684, -4.766300201416016, -4.766300201416016, -4.765999794006348, -4.768099784851074, -5.052999973297119, -5.052999973297119, -5.456500053405762, -5.456600189208984, -5.456600189208984, -5.456600189208984, -5.456600189208984, -5.456200122833252, -5.456600189208984, -5.456600189208984, -5.456399917602539, -5.456600189208984, -3.955199956893921, -6.143599987030029, -6.143599987030029, -4.361400127410889, -4.361599922180176, -5.052999973297119, -5.052999973297119, -4.766499996185303, -5.052999973297119, -5.0528998374938965, -4.202899932861328, -4.202899932861328, -4.202899932861328, -4.425300121307373, -4.425300121307373, -4.711999893188477, -4.711999893188477, -4.711999893188477, -4.712100028991699, -4.712100028991699, -4.712100028991699, -4.712100028991699, -4.712200164794922, -4.712800025939941, -5.115499973297119, -5.115499973297119, -5.115499973297119, -5.115600109100342, -5.115600109100342, -5.115499973297119, -5.115600109100342, -5.115699768066406, -5.115699768066406, -5.115699768066406, -5.115699768066406, -5.115799903869629, -5.116000175476074, -5.802700042724609, -5.8028998374938965, -5.8028998374938965, -4.203100204467773, -4.712299823760986, -5.115600109100342, -4.424699783325195, -4.712200164794922, -4.42549991607666, -4.711999893188477, -5.115099906921387, -5.1153998374938965, -5.115499973297119, -5.115499973297119, -5.115499973297119, -5.115499973297119, -4.2281999588012695, -4.228400230407715, -4.514900207519531, -4.515100002288818, -4.918499946594238, -4.918499946594238, -4.918499946594238, -4.918600082397461, -4.918300151824951, -4.918600082397461, -4.918700218200684, -4.918700218200684, -4.918700218200684, -4.918399810791016, -4.918600082397461, -4.918600082397461, -4.918600082397461, -4.918399810791016, -4.918799877166748, -4.918799877166748, -4.9197998046875, -5.6057000160217285, -5.605899810791016, -5.605899810791016, -5.605899810791016, -5.605899810791016, -5.605999946594238, -5.605999946594238, -5.605999946594238, -5.605999946594238, -5.605800151824951, -5.6057000160217285, -4.228000164031982, -4.514599800109863, -4.228000164031982, -5.605800151824951, -4.918300151824951, -4.918300151824951, -4.9096999168396, -4.918000221252441, -4.9182000160217285, -4.916500091552734, -4.916399955749512, -4.335999965667725, -4.739500045776367, -4.739500045776367, -4.739500045776367, -4.739500045776367, -4.739500045776367, -4.739500045776367, -4.739500045776367, -4.739500045776367, -4.739500045776367, -4.739500045776367, -4.739500045776367, -4.739500045776367, -4.739500045776367, -4.73960018157959, -4.73960018157959, -4.73960018157959, -5.4268999099731445, -5.4268999099731445, -5.4268999099731445, -5.4268999099731445, -5.4268999099731445, -5.4268999099731445, -5.4268999099731445, -5.4268999099731445, -5.4268999099731445, -5.4268999099731445, -5.4268999099731445, -5.4268999099731445, -5.4268999099731445, -5.4268999099731445, -5.4268999099731445, -5.4268999099731445, -5.4268999099731445, -4.335999965667725, -5.4268999099731445, -4.739500045776367, -5.4268999099731445, -4.739699840545654, -4.740200042724609, -5.4268999099731445, -4.3358001708984375, -4.336400032043457, -4.7399001121521, -5.4268999099731445, -4.740499973297119, -5.4268999099731445, -5.4268999099731445, -3.0176000595092773, -4.027400016784668, -4.027299880981445, -4.3140997886657715, -4.3140997886657715, -4.3140997886657715, -4.717599868774414, -4.717599868774414, -4.717599868774414, -4.717599868774414, -4.717599868774414, -4.71750020980835, -4.717700004577637, -4.717700004577637, -5.404900074005127, -5.404900074005127, -5.40500020980835, -5.40500020980835, -5.40500020980835, -5.40500020980835, -5.40500020980835, -5.40500020980835, -5.40500020980835, -5.40500020980835, -5.40500020980835, -5.40500020980835, -5.40500020980835, -5.40500020980835, -5.40500020980835, -5.40500020980835, -5.40500020980835, -5.40500020980835, -3.8046998977661133, -4.3140997886657715, -5.40500020980835, -4.717700004577637, -5.40500020980835, -4.717599868774414, -4.717700004577637, -4.717599868774414, -5.40500020980835, -5.401899814605713, -5.404799938201904, -5.404799938201904, -5.404900074005127, -5.40500020980835, -5.40500020980835, -4.460700035095215, -4.460700035095215, -4.4608001708984375, -4.4608001708984375, -4.4608001708984375, -4.460999965667725, -4.461100101470947, -4.46120023727417, -4.461599826812744, -5.148099899291992, -5.148099899291992, -5.148099899291992, -5.148099899291992, -5.148099899291992, -5.148099899291992, -5.148099899291992, -5.148200035095215, -5.148200035095215, -5.148200035095215, -5.148200035095215, -5.148200035095215, -5.148200035095215, -5.148200035095215, -5.148200035095215, -5.148200035095215, -5.148200035095215, -5.148200035095215, -5.148200035095215, -5.148200035095215, -5.148200035095215, -3.7708001136779785, -3.7846999168395996, -5.147799968719482, -5.147900104522705, -5.148099899291992, -5.148099899291992, -5.148200035095215, -3.7629001140594482, -3.3940000534057617, -4.453199863433838, -4.4532999992370605, -4.453700065612793, -5.140699863433838, -5.140699863433838, -5.140699863433838, -5.140699863433838, -5.140699863433838, -5.140699863433838, -5.140699863433838, -5.140699863433838, -5.140699863433838, -5.140699863433838, -5.140699863433838, -5.140699863433838, -5.140699863433838, -5.140699863433838, -5.140699863433838, -5.140500068664551, -5.140600204467773, -5.140600204467773, -5.140500068664551, -5.140699863433838, -5.140600204467773, -5.14109992980957, -5.14109992980957, -5.14109992980957, -5.14109992980957, -4.057600021362305, -3.3582000732421875, -4.453100204467773, -4.453000068664551, -5.140600204467773, -5.140600204467773, -5.140600204467773, -5.140699863433838, -5.140699863433838, -3.488300085067749, -3.9976000785827637, -3.9976000785827637, -3.9976000785827637, -4.401199817657471, -5.088600158691406, -5.088600158691406, -5.088500022888184, -5.088600158691406, -5.088600158691406, -5.088600158691406, -5.088600158691406, -5.088600158691406, -5.088600158691406, -5.088600158691406, -5.088600158691406, -5.088600158691406, -5.088600158691406, -5.088600158691406, -5.088600158691406, -5.088600158691406, -5.088600158691406, -5.088600158691406, -5.088500022888184, -5.088500022888184, -5.088500022888184, -5.088600158691406, -5.088500022888184, -5.088600158691406, -5.088799953460693, -5.088500022888184, -3.9976000785827637, -5.088500022888184, -5.088600158691406, -5.088600158691406, -3.8945000171661377, -3.894700050354004, -4.298099994659424, -4.985300064086914, -4.985300064086914, -4.985300064086914, -4.985300064086914, -4.985300064086914, -4.985300064086914, -4.985300064086914, -4.985300064086914, -4.985400199890137, -4.985400199890137, -4.985400199890137, -4.985400199890137, -4.985400199890137, -4.985400199890137, -4.985400199890137, -4.985400199890137, -4.985400199890137, -4.985499858856201, -4.985499858856201, -4.985499858856201, -4.985400199890137, -4.985499858856201, -4.985599994659424, -4.9857001304626465, -4.9857001304626465, -4.9857001304626465, -4.986000061035156, -4.345099925994873, -4.985300064086914, -4.985300064086914, -4.985499858856201, -2.653599977493286, -2.4737000465393066, -3.5680999755859375, -4.945799827575684, -4.945799827575684, -4.945799827575684, -4.945799827575684, -4.945899963378906, -4.946000099182129, -4.946199893951416, -4.946199893951416, -4.946199893951416, -4.945799827575684, -4.946000099182129, -4.946000099182129, -4.780799865722656, -9.373700141906738, -9.402700424194336, -9.406599998474121, -9.406599998474121, -9.406599998474121, -9.410799980163574, -9.410799980163574, -9.410799980163574, -9.410799980163574, -9.410799980163574, -9.410799980163574, -9.410799980163574, -9.410799980163574, -9.410799980163574, -9.410599708557129, -8.96679973602295, -9.331899642944336, -9.351200103759766, -9.351200103759766, -9.351200103759766, -9.351200103759766, -9.35159969329834, -9.35099983215332, -9.351300239562988, -9.351200103759766, -9.351400375366211, -9.368399620056152], \"loglift\": [30.0, 29.0, 28.0, 27.0, 26.0, 25.0, 24.0, 23.0, 22.0, 21.0, 20.0, 19.0, 18.0, 17.0, 16.0, 15.0, 14.0, 13.0, 12.0, 11.0, 10.0, 9.0, 8.0, 7.0, 6.0, 5.0, 4.0, 3.0, 2.0, 1.0, 1.2816, 1.2787, 1.2759, 1.2752, 1.2752, 1.2752, 1.2752, 1.2752, 1.2752, 1.2743, 1.2732, 1.2696, 1.2665, 1.2665, 1.2665, 1.2653, 1.2614, 1.2613, 1.2511, 1.2511, 1.2511, 1.2511, 1.2511, 1.2511, 1.2511, 1.2511, 1.2511, 1.2511, 1.2261, 1.2213, 1.2213, 1.0654, 0.9981, 1.0574, 1.0217, 0.8007, 0.637, 0.3616, 1.7267, 1.7267, 1.7267, 1.7232, 1.7232, 1.7173, 1.7173, 1.7173, 1.7173, 1.7173, 1.7173, 1.7173, 1.7172, 1.7169, 1.7056, 1.7056, 1.7056, 1.7056, 1.7056, 1.7056, 1.7056, 1.7055, 1.7055, 1.7055, 1.7055, 1.7054, 1.7053, 1.6716, 1.6716, 1.6716, 1.5833, 1.4518, 1.5032, 1.1529, 1.2425, 0.8657, 0.978, 1.385, 1.1025, 0.7216, 1.1446, 1.4503, 1.4424, 1.9841, 1.9841, 1.9778, 1.9778, 1.9652, 1.9652, 1.9652, 1.9652, 1.9652, 1.9652, 1.9652, 1.9652, 1.9652, 1.9652, 1.9652, 1.9652, 1.9652, 1.9651, 1.9651, 1.9651, 1.9644, 1.9287, 1.9287, 1.9287, 1.9287, 1.9287, 1.9287, 1.9287, 1.9287, 1.9287, 1.9287, 1.9287, 1.7971, 1.6813, 1.5034, 1.9286, 1.5528, 1.5527, 1.3735, 1.1408, 1.0364, 1.0272, 1.0081, 2.3231, 2.308, 2.308, 2.308, 2.308, 2.308, 2.308, 2.308, 2.308, 2.308, 2.308, 2.308, 2.308, 2.308, 2.3079, 2.3079, 2.3079, 2.2641, 2.2641, 2.2641, 2.2641, 2.2641, 2.2641, 2.2641, 2.2641, 2.2641, 2.2641, 2.2641, 2.2641, 2.2641, 2.2641, 2.2641, 2.2641, 2.2641, 2.1298, 2.2641, 2.0345, 2.2641, 1.9876, 1.8362, 2.2641, 1.5013, 1.3951, 1.5276, 2.2641, 0.8371, 2.264, 1.8352, 2.3752, 2.3602, 2.3601, 2.3524, 2.3524, 2.3524, 2.3371, 2.3371, 2.3371, 2.3371, 2.3371, 2.3371, 2.3371, 2.3371, 2.2929, 2.2929, 2.2929, 2.2929, 2.2929, 2.2929, 2.2929, 2.2929, 2.2929, 2.2929, 2.2929, 2.2929, 2.2929, 2.2929, 2.2929, 2.2929, 2.2929, 2.2929, 2.1417, 1.9479, 2.2929, 1.6185, 2.2929, 0.86, 0.7092, 0.5736, 2.2926, 1.4648, 0.7055, 1.7629, 1.5262, 0.0095, 1.8212, 2.8028, 2.8028, 2.8027, 2.8027, 2.8027, 2.8026, 2.8025, 2.8022, 2.8019, 2.7474, 2.7474, 2.7474, 2.7474, 2.7474, 2.7473, 2.7473, 2.7473, 2.7473, 2.7473, 2.7473, 2.7473, 2.7473, 2.7473, 2.7473, 2.7473, 2.7473, 2.7473, 2.7473, 2.7473, 2.7473, 2.2879, 2.159, 0.7767, 1.4101, 1.8699, 2.2714, 2.1312, 2.8723, 2.8459, 2.8421, 2.8421, 2.8415, 2.7848, 2.7848, 2.7848, 2.7848, 2.7848, 2.7848, 2.7847, 2.7847, 2.7847, 2.7847, 2.7847, 2.7847, 2.7847, 2.7847, 2.7847, 2.7847, 2.7847, 2.7847, 2.7847, 2.7847, 2.7846, 2.7842, 2.7842, 2.7842, 2.7841, 2.4514, 2.0562, 1.8089, 0.9066, 1.4252, 2.0271, 1.9279, 2.0272, 1.8898, 3.0746, 3.0554, 3.0554, 3.0554, 3.0321, 2.9657, 2.9657, 2.9657, 2.9657, 2.9657, 2.9657, 2.9657, 2.9657, 2.9657, 2.9657, 2.9657, 2.9657, 2.9657, 2.9657, 2.9657, 2.9657, 2.9657, 2.9657, 2.9657, 2.9657, 2.9656, 2.9656, 2.9656, 2.9656, 2.9655, 2.9654, 2.2625, 1.9926, 1.9925, 1.3772, 3.2643, 3.264, 3.238, 3.1646, 3.1646, 3.1646, 3.1646, 3.1646, 3.1646, 3.1646, 3.1645, 3.1644, 3.1644, 3.1644, 3.1644, 3.1644, 3.1644, 3.1644, 3.1644, 3.1644, 3.1643, 3.1642, 3.1642, 3.1642, 3.1642, 3.1642, 3.1637, 3.1637, 3.1636, 3.1633, 2.4196, 1.6335, 2.277, 2.1307, 3.4149, 3.4147, 3.3883, 3.2666, 3.2666, 3.2666, 3.2666, 3.2665, 3.2665, 3.2665, 3.2665, 3.2665, 3.2665, 3.2664, 2.4735, 1.4867, 0.6501, 0.6218, 0.6192, 0.6187, 0.618, 0.6152, 0.6152, 0.6152, 0.6152, 0.6152, 0.6152, 0.6152, 0.6152, 0.6152, 0.6151, -1.4888, -1.8568, -1.4555, -1.4555, -1.4555, -1.4555, -1.4566, -2.0874, -2.1978, -2.2954, -2.6241, -3.3097]}, \"token.table\": {\"Topic\": [3, 2, 4, 2, 1, 4, 1, 5, 5, 8, 2, 2, 1, 5, 6, 6, 4, 10, 2, 1, 1, 3, 2, 1, 4, 9, 5, 1, 5, 2, 4, 5, 2, 5, 5, 5, 4, 4, 5, 4, 5, 5, 2, 1, 5, 6, 10, 2, 2, 2, 4, 2, 7, 3, 4, 4, 4, 5, 3, 4, 4, 1, 4, 5, 2, 5, 2, 1, 7, 1, 3, 2, 3, 1, 2, 7, 4, 4, 1, 9, 5, 2, 5, 1, 2, 3, 4, 2, 3, 1, 3, 7, 1, 2, 10, 4, 3, 6, 1, 1, 3, 2, 2, 6, 5, 4, 3, 4, 5, 4, 5, 1, 9, 4, 1, 2, 3, 5, 1, 3, 2, 8, 7, 4, 4, 5, 1, 3, 3, 3, 3, 5, 3, 2, 4, 4, 5, 2, 3, 4, 5, 3, 7, 6, 3, 6, 1, 1, 3, 4, 3, 4, 1, 2, 3, 4, 5, 1, 1, 1, 5, 7, 4, 3, 3, 1, 2, 1, 3, 4, 4, 3, 6, 6, 3, 4, 2, 2, 6, 5, 2, 3, 3, 2, 3, 3, 2, 4, 3, 3, 3, 5, 4, 2, 3, 5, 5, 1, 4, 3, 1, 2, 3, 2, 2, 7, 3, 2, 3, 4, 3, 2, 3, 4, 3, 1, 2, 5, 4, 2, 2, 5, 2, 5, 8, 5, 2, 3, 4, 5, 3, 6, 5, 5, 2, 3, 5, 1, 2, 4, 2, 4, 2, 2, 4, 1, 5, 4, 4, 5, 1, 5, 3, 2, 4, 1, 1, 1, 4, 8, 2, 4, 5, 2, 3, 9, 1, 5, 1, 5, 2, 5, 3, 8, 5, 8, 1, 2, 4, 5, 7, 5, 2, 2, 3, 4, 2, 3, 4, 2, 5, 1], \"Freq\": [1.432162145711977, 0.9483723005993459, 1.6745974424828511, 1.0742437526038477, 1.0244728693296337, 0.8798647554667269, 1.2528403249728284, 1.2022098025166938, 1.6860517284359666, 0.8847508809979958, 0.539283576189651, 0.9486745786041991, 0.43202057434917446, 0.43202057434917446, 1.092087128658277, 1.0920698249937497, 1.0907810986546487, 1.1042645235746835, 0.863035418935792, 1.252693612790527, 0.6652031849076784, 0.3326015924538392, 0.7016724704260529, 0.9565322707018343, 0.8798597454186233, 0.9833196637783909, 1.686128798510345, 0.9528597547168282, 0.8862580512088174, 0.7016681657566549, 0.8798605099770195, 1.6862008629622258, 0.8630347900556011, 1.6861293145387537, 1.6860374090783903, 1.6862008629622258, 1.6745811182911567, 1.6745144101069658, 1.6862008629622258, 1.6745974424828511, 0.8862426627536641, 0.9094190297867014, 0.9483245428151165, 0.9574378410045403, 0.8862575369998872, 1.092087128658277, 0.8033119444951573, 1.3485214150095668, 1.3493639382829505, 0.7017181418998972, 0.6693337416917707, 0.9098949260471337, 1.165242743326461, 0.7079155545515413, 0.4719437030343609, 1.6745811088607263, 1.674257493972845, 1.6861260572472885, 0.887224216280382, 0.8798605099770195, 0.8798605099770195, 1.2086541056718696, 0.8798605099770195, 1.202228755973474, 0.543504918473985, 0.9922642380683693, 0.701622587748152, 0.965712416182124, 1.127392567661806, 0.9569276348318256, 1.1452734419072386, 0.7017029117782022, 1.4320942023484924, 0.4527934697761622, 0.4527934697761622, 0.7847428007111802, 0.8798605072623212, 1.6745811182911567, 0.6631016095868577, 0.6631016095868577, 1.6861260572472885, 0.9483723181495514, 0.8862805254574169, 1.0025128225754905, 0.3754569139993044, 0.7509138279986088, 1.0904672498142585, 0.589976156295481, 0.2949880781477405, 0.8135071031669836, 0.1627014206333967, 0.1627014206333967, 1.2086541056718696, 0.7016225893264025, 0.9915657309055416, 0.983573406044428, 0.2917758647992478, 0.5835517295984955, 0.9970454882279338, 1.0066898042108672, 1.4321588272825578, 0.7016722708825038, 1.3485214150095668, 1.092087128658277, 0.8862809052539025, 1.6744202130037098, 1.145081964244273, 0.8798605099770195, 0.886146610654622, 0.8798605099770195, 1.6860517315254258, 1.0025128225754905, 0.983424300574622, 0.8798598273374263, 0.6006805501191071, 0.2002268500397024, 0.2002268500397024, 0.2002268500397024, 1.2528096644812285, 1.4318942647262152, 0.40036295223821006, 0.40036295223821006, 1.1273400459627514, 0.8798605099770195, 1.6745811182911567, 1.6862034855002175, 0.845393477485904, 0.7467981553653968, 0.7469717019904019, 0.7468315518116805, 0.7469400251553064, 1.6862008629622258, 1.4317958380457796, 0.8649990629189076, 0.8798633164097396, 1.6745811182911567, 1.0090771085823298, 0.7016571821064836, 0.9495614690532707, 0.31652048968442353, 0.9095700450427465, 0.5135084587817645, 0.5135084587817645, 1.0920521569507915, 1.4318376008756952, 1.0920687718889879, 0.9185915107761806, 1.2528077342554909, 0.7470580185543535, 1.6745811182911567, 0.74689796589765, 1.1933709264641028, 0.30386779809274744, 0.45580169713912116, 0.15193389904637372, 0.15193389904637372, 0.15193389904637372, 1.2525889216833241, 1.0025128225754905, 0.34374795159661503, 0.17187397579830752, 0.34374795159661503, 1.6745811182911567, 1.01055270444942, 1.4320305081828602, 0.956904715510698, 0.9424600506359365, 1.252778348416183, 0.7473293636288839, 1.6745936366197431, 1.6745811182911567, 0.7467917451798521, 1.0921913215655747, 1.0918604371010605, 0.40331769825605474, 0.40331769825605474, 1.0742449458736618, 0.7016061131140888, 1.0920748076343787, 1.6861259289797965, 0.40969418765960625, 0.40969418765960625, 0.7469336353222759, 0.9099266745851052, 1.0103911187127936, 0.7470545521525631, 0.863035418935792, 1.6745811182911567, 0.7470580185543535, 0.7470579714437211, 1.432162145711977, 1.686132405723646, 1.6745913103519616, 0.49441791915097005, 0.49441791915097005, 1.6862008629622258, 0.8862323545715858, 1.0025077453177982, 1.6744464498711051, 0.7469396039781174, 1.2527495484117133, 0.49439686811320427, 0.49439686811320427, 0.94832487660642, 0.8542946902765695, 1.1271852297739877, 1.4320942023484924, 0.7017029117782022, 0.746915204535285, 1.6745811182911567, 0.7470028238179168, 1.3483385578507543, 0.7470510617210732, 1.6745936366197431, 1.4320302141652812, 0.845344340275957, 0.7479264358571135, 0.24930881195237115, 0.8798605099770195, 0.573114969479068, 0.7832246753643646, 0.7832246753643646, 0.9483723181495514, 1.6862008629622258, 1.0838793263732285, 1.202224685102416, 1.3532301741907298, 1.4321634732664628, 1.6745936267861374, 0.886258419911021, 0.3273507104192021, 0.6547014208384042, 1.0519556459585737, 1.6862008629622258, 0.9483723181495514, 0.7470383102575389, 1.6856457829833806, 0.2622717437412503, 0.2622717437412503, 0.5245434874825006, 0.5089607913487587, 0.5089607913487587, 0.7016571775004659, 0.5492778553398548, 0.5492778553398548, 0.7342966419352025, 0.7342966419352025, 1.6745811182911567, 0.6387730023920744, 0.9924143944087058, 0.8700767734658207, 0.17401535469316412, 0.8985276221072045, 0.7017029117782022, 1.6745913103519616, 1.0025290743600614, 1.2528455197997743, 1.0320229513120447, 0.8798605099770195, 0.8847649003185794, 0.6069657859353302, 0.2023219286451101, 0.2023219286451101, 0.28624135325403305, 0.28624135325403305, 1.434235535584213, 0.689348275571098, 0.344674137785549, 1.252807947796791, 1.6862034855002175, 0.7015831751025083, 1.6862034855002175, 1.4318696483696767, 0.8847299587968906, 1.6861454279290802, 1.294061057531462, 1.2523496214040717, 0.9484196374931788, 0.8798598273374263, 0.8022737985880752, 0.4011368992940376, 0.9782988300306561, 0.9483572024771822, 0.727445850705487, 0.3637229253527435, 0.8798672641892783, 0.3838125985747149, 0.3838125985747149, 0.3838125985747149, 0.2925629526641713, 0.8776888579925138, 1.0025075713281122], \"Term\": [\"airport\", \"alexander\", \"allow\", \"amber\", \"amsterdam\", \"andy\", \"aneth\", \"apple\", \"artwork\", \"aubrey\", \"baby\", \"bank\", \"beauty\", \"beauty\", \"beta\", \"bethany\", \"betsy\", \"bikini\", \"birdman\", \"blog\", \"blogger\", \"blogger\", \"body\", \"bollywood\", \"bomb\", \"bos\", \"break\", \"breakfast\", \"brooklyn\", \"brother\", \"bull\", \"cadeau\", \"cash\", \"chain\", \"challenge\", \"chaque\", \"charlie\", \"checkout\", \"choisi\", \"christine\", \"christmas\", \"city\", \"clover\", \"coffee\", \"color\", \"competition\", \"competitor\", \"compton\", \"congrats\", \"congratulation\", \"conn\", \"costume\", \"couture\", \"cover\", \"cover\", \"crease\", \"cute\", \"dans\", \"day\", \"december\", \"deerhunter\", \"delhi\", \"deniro\", \"dessin\", \"detail\", \"diamond\", \"die\", \"dinner\", \"disclaimer\", \"dish\", \"diwali\", \"dodge\", \"donate\", \"dream\", \"dream\", \"dress\", \"driver\", \"dylan\", \"eats\", \"eats\", \"edit\", \"edward\", \"elluminate\", \"ephoto\", \"event\", \"event\", \"face\", \"family\", \"family\", \"fashion\", \"fashion\", \"fashion\", \"fashionistas\", \"father\", \"fitness\", \"flower\", \"follow\", \"follow\", \"food\", \"foodie\", \"founder\", \"friend\", \"gabrielle\", \"gamma\", \"giveaway\", \"glam\", \"glan\", \"godfather\", \"gold\", \"goodfella\", \"gotham\", \"gourmand\", \"gourmet\", \"graham\", \"gram\", \"gram\", \"gram\", \"gram\", \"grammer\", \"guest\", \"halloween\", \"halloween\", \"haute\", \"heat\", \"hero\", \"hershey\", \"holland\", \"hollywood\", \"hour\", \"house\", \"image\", \"inconnu\", \"influencer\", \"inspiration\", \"introduce\", \"irishman\", \"jewelry\", \"john\", \"jones\", \"jones\", \"jour\", \"katrina\", \"katrina\", \"kayla\", \"keywords\", \"kind\", \"kitchen\", \"laga\", \"lamar\", \"linkworld\", \"location\", \"lotus\", \"love\", \"love\", \"love\", \"love\", \"love\", \"lover\", \"lunch\", \"luxury\", \"luxury\", \"luxury\", \"mafia\", \"magazine\", \"malik\", \"mana\", \"manager\", \"maquis\", \"matter\", \"mayflower\", \"mcgurk\", \"medium\", \"michi\", \"mini\", \"model\", \"model\", \"money\", \"month\", \"moody\", \"mountain\", \"movie\", \"movie\", \"mumbai\", \"nail\", \"navman\", \"nichols\", \"nicolas\", \"niro\", \"odom\", \"pali\", \"paparazzo\", \"paradise\", \"parking\", \"party\", \"party\", \"personne\", \"phone\", \"pic\", \"piece\", \"place\", \"porn\", \"post\", \"post\", \"pregnancy\", \"president\", \"product\", \"profile\", \"property\", \"punjabi\", \"rag\", \"rann\", \"rapper\", \"regard\", \"replica\", \"resolution\", \"restaurant\", \"rise\", \"rise\", \"robert\", \"rock\", \"room\", \"room\", \"rosebud\", \"saison\", \"sapp\", \"sapphire\", \"sara\", \"screen\", \"seaport\", \"shipping\", \"shoot\", \"shoot\", \"size\", \"sketch\", \"slash\", \"snap\", \"song\", \"star\", \"star\", \"star\", \"state\", \"state\", \"statement\", \"story\", \"story\", \"street\", \"street\", \"stuart\", \"studio\", \"stun\", \"style\", \"style\", \"stylist\", \"sue\", \"surveillance\", \"sweet\", \"tag\", \"tasty\", \"taxi\", \"telegram\", \"time\", \"time\", \"time\", \"today\", \"today\", \"tokyo\", \"travel\", \"travel\", \"traveltravel\", \"turnpike\", \"union\", \"vanilla\", \"venue\", \"vibe\", \"vintage\", \"violet\", \"visit\", \"wage\", \"wale\", \"watch\", \"watch\", \"week\", \"witherspoon\", \"work\", \"work\", \"yang\", \"year\", \"year\", \"year\", \"york\", \"york\", \"yummy\"]}, \"R\": 30, \"lambda.step\": 0.01, \"plot.opts\": {\"xlab\": \"PC1\", \"ylab\": \"PC2\"}, \"topic.order\": [3, 7, 1, 10, 5, 2, 4, 8, 6, 9]};\n",
       "\n",
       "function LDAvis_load_lib(url, callback){\n",
       "  var s = document.createElement('script');\n",
       "  s.src = url;\n",
       "  s.async = true;\n",
       "  s.onreadystatechange = s.onload = callback;\n",
       "  s.onerror = function(){console.warn(\"failed to load library \" + url);};\n",
       "  document.getElementsByTagName(\"head\")[0].appendChild(s);\n",
       "}\n",
       "\n",
       "if(typeof(LDAvis) !== \"undefined\"){\n",
       "   // already loaded: just create the visualization\n",
       "   !function(LDAvis){\n",
       "       new LDAvis(\"#\" + \"ldavis_el1538425035403496408866346678\", ldavis_el1538425035403496408866346678_data);\n",
       "   }(LDAvis);\n",
       "}else if(typeof define === \"function\" && define.amd){\n",
       "   // require.js is available: use it to load d3/LDAvis\n",
       "   require.config({paths: {d3: \"https://cdnjs.cloudflare.com/ajax/libs/d3/3.5.5/d3.min\"}});\n",
       "   require([\"d3\"], function(d3){\n",
       "      window.d3 = d3;\n",
       "      LDAvis_load_lib(\"https://cdn.rawgit.com/bmabey/pyLDAvis/files/ldavis.v1.0.0.js\", function(){\n",
       "        new LDAvis(\"#\" + \"ldavis_el1538425035403496408866346678\", ldavis_el1538425035403496408866346678_data);\n",
       "      });\n",
       "    });\n",
       "}else{\n",
       "    // require.js not available: dynamically load d3 & LDAvis\n",
       "    LDAvis_load_lib(\"https://cdnjs.cloudflare.com/ajax/libs/d3/3.5.5/d3.min.js\", function(){\n",
       "         LDAvis_load_lib(\"https://cdn.rawgit.com/bmabey/pyLDAvis/files/ldavis.v1.0.0.js\", function(){\n",
       "                 new LDAvis(\"#\" + \"ldavis_el1538425035403496408866346678\", ldavis_el1538425035403496408866346678_data);\n",
       "            })\n",
       "         });\n",
       "}\n",
       "</script>"
      ],
      "text/plain": [
       "PreparedData(topic_coordinates=              x         y  topics  cluster       Freq\n",
       "topic                                                \n",
       "2      0.346993 -0.006639       1        1  27.741326\n",
       "6     -0.043135 -0.261842       2        1  17.530381\n",
       "0     -0.050917 -0.058975       3        1  13.485376\n",
       "9     -0.051844  0.019069       4        1   9.494916\n",
       "4     -0.003492  0.036451       5        1   9.218668\n",
       "1     -0.049678  0.059083       6        1   5.714062\n",
       "3     -0.024554  0.048021       7        1   5.481767\n",
       "7     -0.043688  0.047246       8        1   4.486532\n",
       "5     -0.037501  0.055686       9        1   3.617939\n",
       "8     -0.042184  0.061901      10        1   3.229034, topic_info=         Term       Freq      Total Category  logprob  loglift\n",
       "116      food  76.000000  76.000000  Default  30.0000  30.0000\n",
       "117    foodie  13.000000  13.000000  Default  29.0000  29.0000\n",
       "279   jewelry   5.000000   5.000000  Default  28.0000  28.0000\n",
       "29     bikini   3.000000   3.000000  Default  27.0000  27.0000\n",
       "31    fitness   3.000000   3.000000  Default  26.0000  26.0000\n",
       "...       ...        ...        ...      ...      ...      ...\n",
       "2038    michi   0.003666   0.915591  Topic10  -9.3510  -2.0874\n",
       "396      week   0.003665   1.022183  Topic10  -9.3513  -2.1978\n",
       "807       day   0.003666   1.127111  Topic10  -9.3512  -2.2954\n",
       "199    studio   0.003665   1.565501  Topic10  -9.3514  -2.6241\n",
       "8       shoot   0.003603   3.054828  Topic10  -9.3684  -3.3097\n",
       "\n",
       "[437 rows x 6 columns], token_table=      Topic      Freq       Term\n",
       "term                            \n",
       "2151      3  1.432162    airport\n",
       "1207      2  0.948372  alexander\n",
       "3249      4  1.674597      allow\n",
       "4143      2  1.074244      amber\n",
       "254       1  1.024473  amsterdam\n",
       "...     ...       ...        ...\n",
       "105       3  0.383813       year\n",
       "105       4  0.383813       year\n",
       "524       2  0.292563       york\n",
       "524       5  0.877689       york\n",
       "270       1  1.002508      yummy\n",
       "\n",
       "[292 rows x 3 columns], R=30, lambda_step=0.01, plot_opts={'xlab': 'PC1', 'ylab': 'PC2'}, topic_order=[3, 7, 1, 10, 5, 2, 4, 8, 6, 9])"
      ]
     },
     "execution_count": 18,
     "metadata": {},
     "output_type": "execute_result"
    }
   ],
   "source": [
    "# Visualize the topics\n",
    "pyLDAvis.enable_notebook()\n",
    "vis = pyLDAvis.gensim.prepare(lda_model, corpus, id2word)\n",
    "vis"
   ]
  },
  {
   "cell_type": "markdown",
   "metadata": {},
   "source": [
    "### Save document-topic matrix (most significant topic per document)  \n",
    "https://github.com/Sim-Xuesi/content-based_movie_recommender/blob/master/Content%20Based%20Recommender%20System%20with%20LDA%20%26%20Cosine.ipynb  \n",
    "https://medium.com/@nicoleeesim97/building-a-simple-content-based-recommender-system-for-movies-and-tv-shows-73fec4f325ae  "
   ]
  },
  {
   "cell_type": "code",
   "execution_count": 19,
   "metadata": {},
   "outputs": [
    {
     "name": "stderr",
     "output_type": "stream",
     "text": [
      "C:\\Users\\minio\\anaconda3\\envs\\tfm-py-37\\lib\\site-packages\\ipykernel\\ipkernel.py:287: DeprecationWarning: `should_run_async` will not call `transform_cell` automatically in the future. Please pass the result to `transformed_cell` argument and any exception that happen during thetransform in `preprocessing_exc_tuple` in IPython 7.17 and above.\n",
      "  and should_run_async(code)\n"
     ]
    },
    {
     "name": "stdout",
     "output_type": "stream",
     "text": [
      "      Document  Topic  Probability\n",
      "0        28668      1     0.624101\n",
      "1        40521      3     0.705670\n",
      "2         5035      8     0.974505\n",
      "3         8616      7     0.881878\n",
      "4        28618      1     0.797436\n",
      "...        ...    ...          ...\n",
      "4327      8592      9     0.981406\n",
      "4328     26563      6     0.966762\n",
      "4329     22850      6     0.814031\n",
      "4330     28741      7     0.843475\n",
      "4331     16591      0     0.920338\n",
      "\n",
      "[4332 rows x 3 columns]\n"
     ]
    }
   ],
   "source": [
    "def Sort_Tuple(tup):  \n",
    "    return(sorted(tup, key = lambda x: x[1], reverse = True))\n",
    "\n",
    "doc_num, topic_num, prob = [], [], []\n",
    "\n",
    "document_topic_matrix = documents\n",
    "\n",
    "for n in range(len(documents)):\n",
    "    get_document_topics = lda_model.get_document_topics(corpus_total[n], minimum_probability=0)\n",
    "    doc_num.append(documents.index[n])\n",
    "    sorted_doc_topics = Sort_Tuple(get_document_topics)\n",
    "    topic_num.append(sorted_doc_topics[0][0])\n",
    "    prob.append(sorted_doc_topics[0][1])\n",
    "    \n",
    "data = {'Document': doc_num\n",
    "        ,'Topic': topic_num\n",
    "        ,'Probability': prob}\n",
    "df = pd.DataFrame(data) \n",
    "df.to_csv(file_model + '_document_topic_matrix.csv', index=False)\n",
    "print(df)"
   ]
  },
  {
   "cell_type": "markdown",
   "metadata": {},
   "source": [
    "### Save document-topic matrix (all topic's probability per document)  \n",
    "https://github.com/Sim-Xuesi/content-based_movie_recommender/blob/master/Content%20Based%20Recommender%20System%20with%20LDA%20%26%20Cosine.ipynb  \n",
    "https://medium.com/@nicoleeesim97/building-a-simple-content-based-recommender-system-for-movies-and-tv-shows-73fec4f325ae  "
   ]
  },
  {
   "cell_type": "code",
   "execution_count": 20,
   "metadata": {},
   "outputs": [
    {
     "name": "stderr",
     "output_type": "stream",
     "text": [
      "C:\\Users\\minio\\anaconda3\\envs\\tfm-py-37\\lib\\site-packages\\ipykernel\\ipkernel.py:287: DeprecationWarning: `should_run_async` will not call `transform_cell` automatically in the future. Please pass the result to `transformed_cell` argument and any exception that happen during thetransform in `preprocessing_exc_tuple` in IPython 7.17 and above.\n",
      "  and should_run_async(code)\n"
     ]
    },
    {
     "name": "stdout",
     "output_type": "stream",
     "text": [
      "      Document    Topic0    Topic1    Topic2    Topic3    Topic4    Topic5  \\\n",
      "0        28668  0.332954  0.624126  0.008337  0.006984  0.006007  0.005271   \n",
      "1        40521  0.010930  0.008224  0.149187  0.705802  0.004749  0.004167   \n",
      "2         5035  0.005513  0.004184  0.003371  0.002824  0.002429  0.002132   \n",
      "3         8616  0.025948  0.019526  0.015653  0.013110  0.011276  0.009894   \n",
      "4        28618  0.014837  0.797423  0.008945  0.007492  0.006444  0.005654   \n",
      "...        ...       ...       ...       ...       ...       ...       ...   \n",
      "4327      8592  0.004016  0.003032  0.002444  0.002048  0.001762  0.001546   \n",
      "4328     26563  0.007299  0.005522  0.004452  0.003730  0.003209  0.002816   \n",
      "4329     22850  0.040708  0.030925  0.024933  0.020887  0.017970  0.015769   \n",
      "4330     28741  0.034169  0.025926  0.020777  0.017405  0.014975  0.013140   \n",
      "4331     16591  0.920338  0.015471  0.012466  0.010443  0.008985  0.007884   \n",
      "\n",
      "        Topic6    Topic7    Topic8    Topic9  \n",
      "0     0.004696  0.004233  0.003854  0.003537  \n",
      "1     0.003712  0.003347  0.003047  0.106836  \n",
      "2     0.001899  0.001712  0.974505  0.001431  \n",
      "3     0.008814  0.881902  0.007235  0.006640  \n",
      "4     0.005037  0.004541  0.004134  0.145492  \n",
      "...        ...       ...       ...       ...  \n",
      "4327  0.001377  0.001242  0.001130  0.981403  \n",
      "4328  0.966762  0.002262  0.002059  0.001890  \n",
      "4329  0.814031  0.012665  0.011531  0.010583  \n",
      "4330  0.011706  0.843475  0.009609  0.008819  \n",
      "4331  0.007024  0.006333  0.005765  0.005291  \n",
      "\n",
      "[4332 rows x 11 columns]\n"
     ]
    }
   ],
   "source": [
    "doc_num = []\n",
    "prob0, prob1, prob2, prob3, prob4, prob5, prob6, prob7, prob8, prob9 = ([] for i in range(num_topics))\n",
    "\n",
    "document_topic_matrix = documents\n",
    "\n",
    "for n in range(len(documents)):\n",
    "    get_document_topics = lda_model.get_document_topics(corpus_total[n], minimum_probability=0)\n",
    "    doc_num.append(documents.index[n])\n",
    "    prob0.append(get_document_topics[0][1])\n",
    "    prob1.append(get_document_topics[1][1])\n",
    "    prob2.append(get_document_topics[2][1])\n",
    "    prob3.append(get_document_topics[3][1])\n",
    "    prob4.append(get_document_topics[4][1])\n",
    "    prob5.append(get_document_topics[5][1])\n",
    "    prob6.append(get_document_topics[6][1])\n",
    "    prob7.append(get_document_topics[7][1])\n",
    "    prob8.append(get_document_topics[8][1])\n",
    "    prob9.append(get_document_topics[9][1])\n",
    "    \n",
    "data = {'Document': doc_num\n",
    "        ,'Topic0': prob0\n",
    "        ,'Topic1': prob1\n",
    "        ,'Topic2': prob2\n",
    "        ,'Topic3': prob3\n",
    "        ,'Topic4': prob4\n",
    "        ,'Topic5': prob5\n",
    "        ,'Topic6': prob6\n",
    "        ,'Topic7': prob7\n",
    "        ,'Topic8': prob8\n",
    "        ,'Topic9': prob9}\n",
    "\n",
    "df = pd.DataFrame(data) \n",
    "df.to_csv(file_model + '_document_topic_matrix_full.csv', index=False)\n",
    "print(df)"
   ]
  },
  {
   "cell_type": "markdown",
   "metadata": {},
   "source": [
    "### Save topic-term matrix"
   ]
  },
  {
   "cell_type": "code",
   "execution_count": 21,
   "metadata": {},
   "outputs": [
    {
     "name": "stderr",
     "output_type": "stream",
     "text": [
      "C:\\Users\\minio\\anaconda3\\envs\\tfm-py-37\\lib\\site-packages\\ipykernel\\ipkernel.py:287: DeprecationWarning: `should_run_async` will not call `transform_cell` automatically in the future. Please pass the result to `transformed_cell` argument and any exception that happen during thetransform in `preprocessing_exc_tuple` in IPython 7.17 and above.\n",
      "  and should_run_async(code)\n"
     ]
    }
   ],
   "source": [
    "# get topic-term-matrix\n",
    "topic_term_matrix = lda_model.get_topics()\n",
    "# save topic-term matrix\n",
    "savetxt(file_model + '_topic_term_matrix.csv', topic_term_matrix, delimiter=',')"
   ]
  }
 ],
 "metadata": {
  "kernelspec": {
   "display_name": "Python 3",
   "language": "python",
   "name": "python3"
  },
  "language_info": {
   "codemirror_mode": {
    "name": "ipython",
    "version": 3
   },
   "file_extension": ".py",
   "mimetype": "text/x-python",
   "name": "python",
   "nbconvert_exporter": "python",
   "pygments_lexer": "ipython3",
   "version": "3.7.9"
  }
 },
 "nbformat": 4,
 "nbformat_minor": 4
}
