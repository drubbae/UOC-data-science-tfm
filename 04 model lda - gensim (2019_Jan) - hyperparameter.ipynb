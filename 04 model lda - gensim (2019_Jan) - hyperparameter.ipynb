{
 "cells": [
  {
   "cell_type": "markdown",
   "metadata": {},
   "source": [
    "# <span style=\"color:blue\">LDA model (2019_Jan) - with hyperparameter tuning</span>"
   ]
  },
  {
   "cell_type": "code",
   "execution_count": 1,
   "metadata": {},
   "outputs": [],
   "source": [
    "yyyy_MMM = '2019_Jan'"
   ]
  },
  {
   "cell_type": "markdown",
   "metadata": {},
   "source": [
    "### Load packages"
   ]
  },
  {
   "cell_type": "code",
   "execution_count": 2,
   "metadata": {},
   "outputs": [
    {
     "name": "stderr",
     "output_type": "stream",
     "text": [
      "C:\\Users\\minio\\anaconda3\\envs\\tfm-py-37\\lib\\site-packages\\botocore\\vendored\\requests\\packages\\urllib3\\_collections.py:1: DeprecationWarning: Using or importing the ABCs from 'collections' instead of from 'collections.abc' is deprecated since Python 3.3,and in 3.9 it will stop working\n",
      "  from collections import Mapping, MutableMapping\n",
      "C:\\Users\\minio\\anaconda3\\envs\\tfm-py-37\\lib\\site-packages\\botocore\\vendored\\requests\\packages\\urllib3\\_collections.py:1: DeprecationWarning: Using or importing the ABCs from 'collections' instead of from 'collections.abc' is deprecated since Python 3.3,and in 3.9 it will stop working\n",
      "  from collections import Mapping, MutableMapping\n",
      "C:\\Users\\minio\\anaconda3\\envs\\tfm-py-37\\lib\\site-packages\\scipy\\sparse\\sparsetools.py:21: DeprecationWarning: `scipy.sparse.sparsetools` is deprecated!\n",
      "scipy.sparse.sparsetools is a private module for scipy.sparse, and should not be used.\n",
      "  _deprecated()\n",
      "C:\\Users\\minio\\anaconda3\\envs\\tfm-py-37\\lib\\site-packages\\gensim\\models\\doc2vec.py:73: DeprecationWarning: Using or importing the ABCs from 'collections' instead of from 'collections.abc' is deprecated since Python 3.3,and in 3.9 it will stop working\n",
      "  from collections import namedtuple, defaultdict, Iterable\n",
      "[nltk_data] Downloading package stopwords to\n",
      "[nltk_data]     C:\\Users\\minio\\AppData\\Roaming\\nltk_data...\n",
      "[nltk_data]   Package stopwords is already up-to-date!\n",
      "[nltk_data] Downloading package averaged_perceptron_tagger to\n",
      "[nltk_data]     C:\\Users\\minio\\AppData\\Roaming\\nltk_data...\n",
      "[nltk_data]   Package averaged_perceptron_tagger is already up-to-\n",
      "[nltk_data]       date!\n"
     ]
    },
    {
     "data": {
      "text/plain": [
       "True"
      ]
     },
     "execution_count": 2,
     "metadata": {},
     "output_type": "execute_result"
    }
   ],
   "source": [
    "import csv, os, re, time\n",
    "import numpy as np\n",
    "from numpy import savetxt\n",
    "import pandas as  pd\n",
    "import matplotlib.pyplot as plt  \n",
    "import pyLDAvis\n",
    "import pyLDAvis.gensim\n",
    "import gensim\n",
    "import gensim.corpora as corpora\n",
    "from gensim.corpora.dictionary import Dictionary\n",
    "from gensim.models import CoherenceModel\n",
    "from gensim.test.utils import datapath\n",
    "from gensim.utils import simple_preprocess\n",
    "from pprint import pprint\n",
    "import nltk\n",
    "nltk.download('stopwords')\n",
    "nltk.download('averaged_perceptron_tagger')"
   ]
  },
  {
   "cell_type": "markdown",
   "metadata": {},
   "source": [
    "### Constants"
   ]
  },
  {
   "cell_type": "code",
   "execution_count": 3,
   "metadata": {},
   "outputs": [
    {
     "name": "stdout",
     "output_type": "stream",
     "text": [
      "D:\\master\\data science\\semestre 4\\M2.979 - tfm\\data\\bins_test\\doc\\2019_Jan\\2019_Jan_28_results.csv\n",
      "D:\\master\\data science\\semestre 4\\M2.979 - tfm\\data\\bins_test\\model_hyperparameter\\2019_Jan\\model\n"
     ]
    },
    {
     "name": "stderr",
     "output_type": "stream",
     "text": [
      "C:\\Users\\minio\\anaconda3\\envs\\tfm-py-37\\lib\\site-packages\\ipykernel\\ipkernel.py:287: DeprecationWarning: `should_run_async` will not call `transform_cell` automatically in the future. Please pass the result to `transformed_cell` argument and any exception that happen during thetransform in `preprocessing_exc_tuple` in IPython 7.17 and above.\n",
      "  and should_run_async(code)\n"
     ]
    }
   ],
   "source": [
    "# for reproducible results\n",
    "random_state = 33\n",
    "# if the test is True, the process runs on a smaller subset of raw data (json files)\n",
    "test = True\n",
    "# if sample > 0, then we take a sample of the entire dataset (for debugging purpose)\n",
    "sample = 0\n",
    "# parameters to build the lda model\n",
    "num_topics = 10\n",
    "alpha = 0.91\n",
    "eta = 0.01\n",
    "\n",
    "if test:\n",
    "    # path with the documents preprocessed\n",
    "    path_doc = r'D:\\master\\data science\\semestre 4\\M2.979 - tfm\\data\\bins_test\\doc'\n",
    "    # path where store all data/results related to the model\n",
    "    path_model = r'D:\\master\\data science\\semestre 4\\M2.979 - tfm\\data\\bins_test\\model_hyperparameter'\n",
    "    # chunksize to build LDA model\n",
    "    chunksize = 250\n",
    "else:\n",
    "    # path with the documents preprocessed\n",
    "    path_doc = r'D:\\master\\data science\\semestre 4\\M2.979 - tfm\\data\\bins\\doc'\n",
    "    # path where store all data/results related to the model\n",
    "    path_model = r'D:\\master\\data science\\semestre 4\\M2.979 - tfm\\data\\bins\\model_hyperparameter'\n",
    "    # chunksize to build LDA model\n",
    "    chunksize = 5000\n",
    "\n",
    "# path + name of the file that contains the documents preprocessed\n",
    "file_doc = os.path.join(path_doc, yyyy_MMM, yyyy_MMM) + '_28_results.csv'\n",
    "# path + name of the file that contains the model gotten at the end\n",
    "file_model = os.path.join(path_model, yyyy_MMM, 'model')\n",
    "print(file_doc)\n",
    "print(file_model)"
   ]
  },
  {
   "cell_type": "markdown",
   "metadata": {},
   "source": [
    "### Load data preprocessed"
   ]
  },
  {
   "cell_type": "code",
   "execution_count": 4,
   "metadata": {},
   "outputs": [
    {
     "name": "stderr",
     "output_type": "stream",
     "text": [
      "C:\\Users\\minio\\anaconda3\\envs\\tfm-py-37\\lib\\site-packages\\ipykernel\\ipkernel.py:287: DeprecationWarning: `should_run_async` will not call `transform_cell` automatically in the future. Please pass the result to `transformed_cell` argument and any exception that happen during thetransform in `preprocessing_exc_tuple` in IPython 7.17 and above.\n",
      "  and should_run_async(code)\n"
     ]
    },
    {
     "data": {
      "text/plain": [
       "id_doc\n",
       "77501                                                    []\n",
       "89829     ['infinity', 'skybridge', 'intense', 'blue', '...\n",
       "85640     ['marie', 'silently', 'drawn', 'strong', 'pull...\n",
       "76795                      ['buddy', 'nail', 'shot', 'cow']\n",
       "69720     ['monsieur', 'distin', 'feature', 'fashion', '...\n",
       "76702     ['follow', 'juice', 'lavish', 'logic', 'pass',...\n",
       "98965     ['style', 'fashion', 'grama', 'fashion', 'fash...\n",
       "101778    ['swatch', 'introduce', 'colour', 'cosmetic', ...\n",
       "72278     ['title', 'game', 'series', 'play', 'game', 's...\n",
       "72274     ['determine', 'strong', 'woman', 'struggle', '...\n",
       "Name: content_preprocessed, dtype: object"
      ]
     },
     "execution_count": 4,
     "metadata": {},
     "output_type": "execute_result"
    }
   ],
   "source": [
    "df = pd.read_csv(file_doc, index_col='id_doc')\n",
    "documents = df.content_preprocessed\n",
    "documents.head(10)"
   ]
  },
  {
   "cell_type": "markdown",
   "metadata": {},
   "source": [
    "### Shuffle"
   ]
  },
  {
   "cell_type": "code",
   "execution_count": 5,
   "metadata": {},
   "outputs": [
    {
     "name": "stderr",
     "output_type": "stream",
     "text": [
      "C:\\Users\\minio\\anaconda3\\envs\\tfm-py-37\\lib\\site-packages\\ipykernel\\ipkernel.py:287: DeprecationWarning: `should_run_async` will not call `transform_cell` automatically in the future. Please pass the result to `transformed_cell` argument and any exception that happen during thetransform in `preprocessing_exc_tuple` in IPython 7.17 and above.\n",
      "  and should_run_async(code)\n"
     ]
    },
    {
     "data": {
      "text/plain": [
       "id_doc\n",
       "77096     ['drake', 'basketball', 'court', 'mansion', 'c...\n",
       "110163    ['loyola', 'park', 'beach', 'high', 'water', '...\n",
       "82153                    ['time', 'night', 'party', 'tour']\n",
       "76634     ['talk', 'time', 'notorious', 'accident', 'lai...\n",
       "76949     ['birthday', 'diesel', 'turn', 'year', 'today'...\n",
       "85422     ['perfectly', 'flawless', 'orange', 'tease', '...\n",
       "97294     ['sushi', 'gourmet', 'hokus', 'hist', 'gram', ...\n",
       "57438     ['lauren', 'dann', 'miller', 'ifbb', 'chicago'...\n",
       "96948                                              ['king']\n",
       "90430     ['trisha', 'khalid', 'outfit', 'follow', 'tee'...\n",
       "Name: content_preprocessed, dtype: object"
      ]
     },
     "execution_count": 5,
     "metadata": {},
     "output_type": "execute_result"
    }
   ],
   "source": [
    "documents = documents.sample(frac=1, random_state=random_state)\n",
    "documents.head(10)"
   ]
  },
  {
   "cell_type": "markdown",
   "metadata": {},
   "source": [
    "### Sample"
   ]
  },
  {
   "cell_type": "code",
   "execution_count": 6,
   "metadata": {},
   "outputs": [
    {
     "name": "stderr",
     "output_type": "stream",
     "text": [
      "C:\\Users\\minio\\anaconda3\\envs\\tfm-py-37\\lib\\site-packages\\ipykernel\\ipkernel.py:287: DeprecationWarning: `should_run_async` will not call `transform_cell` automatically in the future. Please pass the result to `transformed_cell` argument and any exception that happen during thetransform in `preprocessing_exc_tuple` in IPython 7.17 and above.\n",
      "  and should_run_async(code)\n"
     ]
    }
   ],
   "source": [
    "if sample > 0:\n",
    "    documents = documents.sample(n=sample, random_state=random_state)\n",
    "    print(documents.head(10))"
   ]
  },
  {
   "cell_type": "markdown",
   "metadata": {},
   "source": [
    "### Plot the number of words appearing in each document  \n",
    "\n",
    "https://neptune.ai/blog/exploratory-data-analysis-natural-language-processing-tools"
   ]
  },
  {
   "cell_type": "code",
   "execution_count": 7,
   "metadata": {},
   "outputs": [
    {
     "name": "stderr",
     "output_type": "stream",
     "text": [
      "C:\\Users\\minio\\anaconda3\\envs\\tfm-py-37\\lib\\site-packages\\ipykernel\\ipkernel.py:287: DeprecationWarning: `should_run_async` will not call `transform_cell` automatically in the future. Please pass the result to `transformed_cell` argument and any exception that happen during thetransform in `preprocessing_exc_tuple` in IPython 7.17 and above.\n",
      "  and should_run_async(code)\n"
     ]
    },
    {
     "name": "stdout",
     "output_type": "stream",
     "text": [
      "(2698,)\n"
     ]
    },
    {
     "data": {
      "text/plain": [
       "<AxesSubplot:>"
      ]
     },
     "execution_count": 7,
     "metadata": {},
     "output_type": "execute_result"
    },
    {
     "data": {
      "image/png": "[encoded data removed]",
      "text/plain": [
       "<Figure size 432x288 with 1 Axes>"
      ]
     },
     "metadata": {
      "needs_background": "light"
     },
     "output_type": "display_data"
    }
   ],
   "source": [
    "print(documents.shape)\n",
    "\n",
    "documents.str.split().\\\n",
    "    map(lambda x: len(x)).\\\n",
    "    hist()"
   ]
  },
  {
   "cell_type": "markdown",
   "metadata": {},
   "source": [
    "### Remove words that appear only once"
   ]
  },
  {
   "cell_type": "code",
   "execution_count": 8,
   "metadata": {},
   "outputs": [
    {
     "name": "stderr",
     "output_type": "stream",
     "text": [
      "C:\\Users\\minio\\anaconda3\\envs\\tfm-py-37\\lib\\site-packages\\ipykernel\\ipkernel.py:287: DeprecationWarning: `should_run_async` will not call `transform_cell` automatically in the future. Please pass the result to `transformed_cell` argument and any exception that happen during thetransform in `preprocessing_exc_tuple` in IPython 7.17 and above.\n",
      "  and should_run_async(code)\n"
     ]
    }
   ],
   "source": [
    "####################### PENDING"
   ]
  },
  {
   "cell_type": "markdown",
   "metadata": {},
   "source": [
    "### Tokenize words and Clean-up text"
   ]
  },
  {
   "cell_type": "code",
   "execution_count": 9,
   "metadata": {},
   "outputs": [
    {
     "name": "stderr",
     "output_type": "stream",
     "text": [
      "C:\\Users\\minio\\anaconda3\\envs\\tfm-py-37\\lib\\site-packages\\ipykernel\\ipkernel.py:287: DeprecationWarning: `should_run_async` will not call `transform_cell` automatically in the future. Please pass the result to `transformed_cell` argument and any exception that happen during thetransform in `preprocessing_exc_tuple` in IPython 7.17 and above.\n",
      "  and should_run_async(code)\n"
     ]
    }
   ],
   "source": [
    "# https://www.machinelearningplus.com/nlp/topic-modeling-gensim-python/#3importpackages\n",
    "def sent_to_words(sentences):\n",
    "    for sentence in sentences:\n",
    "        yield(gensim.utils.simple_preprocess(str(sentence), deacc=True))  # deacc=True removes punctuations"
   ]
  },
  {
   "cell_type": "markdown",
   "metadata": {},
   "source": [
    "### Compute bigrams & trigrams  \n",
    "\n",
    "https://radimrehurek.com/gensim/auto_examples/tutorials/run_lda.html#pre-process-and-vectorize-the-documents"
   ]
  },
  {
   "cell_type": "code",
   "execution_count": 10,
   "metadata": {},
   "outputs": [
    {
     "name": "stderr",
     "output_type": "stream",
     "text": [
      "C:\\Users\\minio\\anaconda3\\envs\\tfm-py-37\\lib\\site-packages\\ipykernel\\ipkernel.py:287: DeprecationWarning: `should_run_async` will not call `transform_cell` automatically in the future. Please pass the result to `transformed_cell` argument and any exception that happen during thetransform in `preprocessing_exc_tuple` in IPython 7.17 and above.\n",
      "  and should_run_async(code)\n"
     ]
    }
   ],
   "source": [
    "from gensim.models import Phrases\n",
    "\n",
    "# Add bigrams and trigrams to docs (only ones that appear min_count times or more).\n",
    "def bi_tri_grams(documents, min_count):\n",
    "    bigram = Phrases(documents, min_count=min_count)\n",
    "    for idx in range(len(documents)):\n",
    "        for token in bigram[documents[idx]]:\n",
    "            if '_' in token:\n",
    "                # Token is a bigram, add to document.\n",
    "                documents[idx].append(token)"
   ]
  },
  {
   "cell_type": "markdown",
   "metadata": {},
   "source": [
    "### Categorizing and tagging words"
   ]
  },
  {
   "cell_type": "code",
   "execution_count": 11,
   "metadata": {},
   "outputs": [
    {
     "name": "stderr",
     "output_type": "stream",
     "text": [
      "C:\\Users\\minio\\anaconda3\\envs\\tfm-py-37\\lib\\site-packages\\ipykernel\\ipkernel.py:287: DeprecationWarning: `should_run_async` will not call `transform_cell` automatically in the future. Please pass the result to `transformed_cell` argument and any exception that happen during thetransform in `preprocessing_exc_tuple` in IPython 7.17 and above.\n",
      "  and should_run_async(code)\n"
     ]
    }
   ],
   "source": [
    "# function to remove accented characters\n",
    "def tag_words(text):\n",
    "    tags = nltk.pos_tag(text)\n",
    "    nouns = [word for word, pos in tags if (pos == 'NN' or pos == 'NNP' or pos == 'NNS' or pos == 'NNPS')]\n",
    "    return nouns"
   ]
  },
  {
   "cell_type": "markdown",
   "metadata": {},
   "source": [
    "### Dictionary with the entire dataset"
   ]
  },
  {
   "cell_type": "code",
   "execution_count": 12,
   "metadata": {},
   "outputs": [
    {
     "name": "stderr",
     "output_type": "stream",
     "text": [
      "C:\\Users\\minio\\anaconda3\\envs\\tfm-py-37\\lib\\site-packages\\ipykernel\\ipkernel.py:287: DeprecationWarning: `should_run_async` will not call `transform_cell` automatically in the future. Please pass the result to `transformed_cell` argument and any exception that happen during thetransform in `preprocessing_exc_tuple` in IPython 7.17 and above.\n",
      "  and should_run_async(code)\n"
     ]
    }
   ],
   "source": [
    "data_words = list(sent_to_words(documents))\n",
    "# Compute bigrams & trigrams\n",
    "bi_tri_grams(data_words, 250)\n",
    "# Categorizing and tagging words\n",
    "data_words = list(map(tag_words, data_words))\n",
    "# Create Dictionary\n",
    "id2word = Dictionary(data_words)\n",
    "# Create Corpus\n",
    "texts = data_words\n",
    "# Term Document Frequency\n",
    "corpus_total = [id2word.doc2bow(text) for text in texts]"
   ]
  },
  {
   "cell_type": "markdown",
   "metadata": {},
   "source": [
    "### Build LDA model"
   ]
  },
  {
   "cell_type": "code",
   "execution_count": 13,
   "metadata": {},
   "outputs": [
    {
     "name": "stderr",
     "output_type": "stream",
     "text": [
      "C:\\Users\\minio\\anaconda3\\envs\\tfm-py-37\\lib\\site-packages\\ipykernel\\ipkernel.py:287: DeprecationWarning: `should_run_async` will not call `transform_cell` automatically in the future. Please pass the result to `transformed_cell` argument and any exception that happen during thetransform in `preprocessing_exc_tuple` in IPython 7.17 and above.\n",
      "  and should_run_async(code)\n"
     ]
    },
    {
     "name": "stdout",
     "output_type": "stream",
     "text": [
      "time elapsed - 00:00:24.11\n"
     ]
    }
   ],
   "source": [
    "perplexity_score = []\n",
    "coherence_score = []\n",
    "indixes = []\n",
    "\n",
    "index = 0\n",
    "chunk_size = 250\n",
    "documents_sample = documents[index:chunk_size-1]\n",
    "\n",
    "time_start = time.time()\n",
    "\n",
    "data_words = list(sent_to_words(documents_sample))\n",
    "# Compute bigrams & trigrams\n",
    "bi_tri_grams(data_words, 250)\n",
    "# Categorizing and tagging words\n",
    "data_words = list(map(tag_words, data_words))\n",
    "# # Create Dictionary\n",
    "# id2word = Dictionary(data_words)\n",
    "# Create Corpus\n",
    "texts = data_words\n",
    "# Term Document Frequency\n",
    "corpus = [id2word.doc2bow(text) for text in texts]\n",
    "# Build LDA Model\n",
    "lda_model = gensim.models.LdaMulticore(corpus=corpus\n",
    "                                       ,id2word=id2word\n",
    "                                       ,num_topics=num_topics\n",
    "                                       ,random_state=random_state\n",
    "                                       ,chunksize=chunksize\n",
    "                                       ,passes=50\n",
    "                                       ,per_word_topics=True\n",
    "                                       ,alpha=alpha\n",
    "                                       ,eta=eta)\n",
    "\n",
    "indixes.append(index)\n",
    "\n",
    "# Evaluate LDA Model\n",
    "# Compute Perplexity Score\n",
    "perplexity = lda_model.log_perplexity(corpus)\n",
    "perplexity_score.append(perplexity)\n",
    "\n",
    "# Evaluate LDA Model\n",
    "# Compute Coherence Score\n",
    "coherence_lda_model = CoherenceModel(model=lda_model, texts=data_words, dictionary=id2word, coherence='c_v')\n",
    "coherence = coherence_lda_model.get_coherence()\n",
    "coherence_score.append(coherence)\n",
    "\n",
    "# Save LDA Model\n",
    "temp_file = datapath(file_model)\n",
    "lda_model.save(temp_file)\n",
    "temp_file = datapath(file_model + '_' + str(index).zfill(5))\n",
    "lda_model.save(temp_file)\n",
    "\n",
    "time_end = time.time()\n",
    "hour, rem = divmod(time_end - time_start, 3600)\n",
    "minute, second = divmod(rem, 60)\n",
    "print('time elapsed - {:0>2}:{:0>2}:{:05.2f}'.format(int(hour), int(minute), second))"
   ]
  },
  {
   "cell_type": "markdown",
   "metadata": {},
   "source": [
    "### Incremental learning"
   ]
  },
  {
   "cell_type": "code",
   "execution_count": 14,
   "metadata": {},
   "outputs": [
    {
     "name": "stdout",
     "output_type": "stream",
     "text": [
      "0  -----  250  -----  499\n"
     ]
    },
    {
     "name": "stderr",
     "output_type": "stream",
     "text": [
      "C:\\Users\\minio\\anaconda3\\envs\\tfm-py-37\\lib\\site-packages\\ipykernel\\ipkernel.py:287: DeprecationWarning: `should_run_async` will not call `transform_cell` automatically in the future. Please pass the result to `transformed_cell` argument and any exception that happen during thetransform in `preprocessing_exc_tuple` in IPython 7.17 and above.\n",
      "  and should_run_async(code)\n"
     ]
    },
    {
     "name": "stdout",
     "output_type": "stream",
     "text": [
      "time elapsed - 00:00:21.00\n",
      "1  -----  500  -----  749\n",
      "time elapsed - 00:00:20.96\n",
      "2  -----  750  -----  999\n",
      "time elapsed - 00:00:20.91\n",
      "3  -----  1000  -----  1249\n"
     ]
    },
    {
     "name": "stderr",
     "output_type": "stream",
     "text": [
      "C:\\Users\\minio\\anaconda3\\envs\\tfm-py-37\\lib\\site-packages\\gensim\\topic_coherence\\direct_confirmation_measure.py:204: RuntimeWarning: divide by zero encountered in double_scalars\n",
      "  m_lr_i = np.log(numerator / denominator)\n",
      "C:\\Users\\minio\\anaconda3\\envs\\tfm-py-37\\lib\\site-packages\\gensim\\topic_coherence\\indirect_confirmation_measure.py:323: RuntimeWarning: invalid value encountered in double_scalars\n",
      "  return cv1.T.dot(cv2)[0, 0] / (_magnitude(cv1) * _magnitude(cv2))\n"
     ]
    },
    {
     "name": "stdout",
     "output_type": "stream",
     "text": [
      "time elapsed - 00:00:20.84\n",
      "4  -----  1250  -----  1499\n",
      "time elapsed - 00:00:20.87\n",
      "5  -----  1500  -----  1749\n"
     ]
    },
    {
     "name": "stderr",
     "output_type": "stream",
     "text": [
      "C:\\Users\\minio\\anaconda3\\envs\\tfm-py-37\\lib\\site-packages\\gensim\\topic_coherence\\direct_confirmation_measure.py:204: RuntimeWarning: divide by zero encountered in double_scalars\n",
      "  m_lr_i = np.log(numerator / denominator)\n",
      "C:\\Users\\minio\\anaconda3\\envs\\tfm-py-37\\lib\\site-packages\\gensim\\topic_coherence\\indirect_confirmation_measure.py:323: RuntimeWarning: invalid value encountered in double_scalars\n",
      "  return cv1.T.dot(cv2)[0, 0] / (_magnitude(cv1) * _magnitude(cv2))\n"
     ]
    },
    {
     "name": "stdout",
     "output_type": "stream",
     "text": [
      "time elapsed - 00:00:20.48\n",
      "6  -----  1750  -----  1999\n"
     ]
    },
    {
     "name": "stderr",
     "output_type": "stream",
     "text": [
      "C:\\Users\\minio\\anaconda3\\envs\\tfm-py-37\\lib\\site-packages\\gensim\\topic_coherence\\direct_confirmation_measure.py:204: RuntimeWarning: divide by zero encountered in double_scalars\n",
      "  m_lr_i = np.log(numerator / denominator)\n",
      "C:\\Users\\minio\\anaconda3\\envs\\tfm-py-37\\lib\\site-packages\\gensim\\topic_coherence\\indirect_confirmation_measure.py:323: RuntimeWarning: invalid value encountered in double_scalars\n",
      "  return cv1.T.dot(cv2)[0, 0] / (_magnitude(cv1) * _magnitude(cv2))\n"
     ]
    },
    {
     "name": "stdout",
     "output_type": "stream",
     "text": [
      "time elapsed - 00:00:20.72\n",
      "7  -----  2000  -----  2249\n"
     ]
    },
    {
     "name": "stderr",
     "output_type": "stream",
     "text": [
      "C:\\Users\\minio\\anaconda3\\envs\\tfm-py-37\\lib\\site-packages\\gensim\\topic_coherence\\direct_confirmation_measure.py:204: RuntimeWarning: divide by zero encountered in double_scalars\n",
      "  m_lr_i = np.log(numerator / denominator)\n",
      "C:\\Users\\minio\\anaconda3\\envs\\tfm-py-37\\lib\\site-packages\\gensim\\topic_coherence\\indirect_confirmation_measure.py:323: RuntimeWarning: invalid value encountered in double_scalars\n",
      "  return cv1.T.dot(cv2)[0, 0] / (_magnitude(cv1) * _magnitude(cv2))\n"
     ]
    },
    {
     "name": "stdout",
     "output_type": "stream",
     "text": [
      "time elapsed - 00:00:21.03\n",
      "8  -----  2250  -----  2499\n"
     ]
    },
    {
     "name": "stderr",
     "output_type": "stream",
     "text": [
      "C:\\Users\\minio\\anaconda3\\envs\\tfm-py-37\\lib\\site-packages\\gensim\\topic_coherence\\direct_confirmation_measure.py:204: RuntimeWarning: divide by zero encountered in double_scalars\n",
      "  m_lr_i = np.log(numerator / denominator)\n",
      "C:\\Users\\minio\\anaconda3\\envs\\tfm-py-37\\lib\\site-packages\\gensim\\topic_coherence\\indirect_confirmation_measure.py:323: RuntimeWarning: invalid value encountered in double_scalars\n",
      "  return cv1.T.dot(cv2)[0, 0] / (_magnitude(cv1) * _magnitude(cv2))\n"
     ]
    },
    {
     "name": "stdout",
     "output_type": "stream",
     "text": [
      "time elapsed - 00:00:20.89\n",
      "9  -----  2500  -----  2749\n"
     ]
    },
    {
     "name": "stderr",
     "output_type": "stream",
     "text": [
      "C:\\Users\\minio\\anaconda3\\envs\\tfm-py-37\\lib\\site-packages\\gensim\\topic_coherence\\direct_confirmation_measure.py:204: RuntimeWarning: divide by zero encountered in double_scalars\n",
      "  m_lr_i = np.log(numerator / denominator)\n",
      "C:\\Users\\minio\\anaconda3\\envs\\tfm-py-37\\lib\\site-packages\\gensim\\topic_coherence\\indirect_confirmation_measure.py:323: RuntimeWarning: invalid value encountered in double_scalars\n",
      "  return cv1.T.dot(cv2)[0, 0] / (_magnitude(cv1) * _magnitude(cv2))\n"
     ]
    },
    {
     "name": "stdout",
     "output_type": "stream",
     "text": [
      "time elapsed - 00:00:19.80\n"
     ]
    }
   ],
   "source": [
    "documents_len = len(documents)\n",
    "\n",
    "while index+(index+1)*chunk_size < documents_len:\n",
    "    \n",
    "    time_start = time.time()\n",
    "    \n",
    "    print(index, ' ----- ', (index+1)*chunk_size, ' ----- ', ((index+1)*chunk_size)+chunk_size-1)\n",
    "    documents_sample = documents[(index+1)*chunk_size:((index+1)*chunk_size)+chunk_size-1]\n",
    "    \n",
    "    data_words = list(sent_to_words(documents_sample))\n",
    "    # Compute bigrams & trigrams\n",
    "    bi_tri_grams(data_words, 250)\n",
    "    # Categorizing and tagging words\n",
    "    data_words = list(map(tag_words, data_words))\n",
    "    # Create Corpus\n",
    "    texts = data_words\n",
    "    # Term Document Frequency\n",
    "    corpus = [id2word.doc2bow(text) for text in texts]\n",
    "    # Load LDA Model\n",
    "    temp_file = datapath(file_model)\n",
    "    lda_model = gensim.models.ldamodel.LdaModel.load(temp_file)\n",
    "    # Update LDA Model\n",
    "    lda_model.update(corpus)\n",
    "    \n",
    "    index = index + 1\n",
    "    indixes.append(index)\n",
    "    \n",
    "    # Evaluate LDA Model\n",
    "    # Compute Perplexity Score\n",
    "    perplexity = lda_model.log_perplexity(corpus)\n",
    "    perplexity_score.append(perplexity)\n",
    "\n",
    "    # Evaluate LDA Model\n",
    "    # Compute Coherence Score\n",
    "    coherence_lda_model = CoherenceModel(model=lda_model, texts=data_words, dictionary=id2word, coherence='c_v')\n",
    "    coherence = coherence_lda_model.get_coherence()\n",
    "    coherence_score.append(coherence)\n",
    "    \n",
    "    # Save LDA Model\n",
    "    temp_file = datapath(file_model)\n",
    "    lda_model.save(temp_file)\n",
    "    temp_file = datapath(file_model + '_' + str(index).zfill(5))\n",
    "    lda_model.save(temp_file)\n",
    "    \n",
    "    time_end = time.time()\n",
    "    hour, rem = divmod(time_end - time_start, 3600)\n",
    "    minute, second = divmod(rem, 60)\n",
    "    print('time elapsed - {:0>2}:{:0>2}:{:05.2f}'.format(int(hour), int(minute), second))"
   ]
  },
  {
   "cell_type": "markdown",
   "metadata": {},
   "source": [
    "### Topics in LDA model"
   ]
  },
  {
   "cell_type": "code",
   "execution_count": 15,
   "metadata": {},
   "outputs": [
    {
     "name": "stdout",
     "output_type": "stream",
     "text": [
      "[(0,\n",
      "  '0.436*\"luxury\" + 0.187*\"event\" + 0.062*\"gold\" + 0.062*\"step\" + '\n",
      "  '0.047*\"outfit\" + 0.047*\"dream\" + 0.031*\"business\" + 0.031*\"club\" + '\n",
      "  '0.016*\"weekend\" + 0.000*\"class\"'),\n",
      " (1,\n",
      "  '0.183*\"model\" + 0.130*\"follow\" + 0.104*\"food\" + 0.061*\"party\" + '\n",
      "  '0.052*\"baby\" + 0.043*\"babe\" + 0.043*\"jeff\" + 0.043*\"entertainment\" + '\n",
      "  '0.035*\"gourmet\" + 0.035*\"location\"'),\n",
      " (2,\n",
      "  '0.145*\"book\" + 0.090*\"time\" + 0.083*\"family\" + 0.065*\"woman\" + '\n",
      "  '0.055*\"romance\" + 0.052*\"july\" + 0.041*\"author\" + 0.034*\"music\" + '\n",
      "  '0.031*\"love\" + 0.031*\"release\"'),\n",
      " (3,\n",
      "  '0.212*\"star\" + 0.161*\"story\" + 0.091*\"work\" + 0.081*\"night\" + 0.081*\"apple\" '\n",
      "  '+ 0.071*\"group\" + 0.061*\"face\" + 0.050*\"game\" + 0.040*\"start\" + '\n",
      "  '0.030*\"comment\"'),\n",
      " (4,\n",
      "  '0.220*\"people\" + 0.180*\"year\" + 0.070*\"artist\" + 0.060*\"state\" + '\n",
      "  '0.050*\"dress\" + 0.050*\"fall\" + 0.050*\"month\" + 0.040*\"detail\" + '\n",
      "  '0.040*\"post\" + 0.040*\"fan\"'),\n",
      " (5,\n",
      "  '0.136*\"style\" + 0.132*\"blog\" + 0.075*\"genre\" + 0.064*\"design\" + '\n",
      "  '0.064*\"masculina\" + 0.064*\"street\" + 0.054*\"watch\" + 0.043*\"moda\" + '\n",
      "  '0.032*\"crush\" + 0.032*\"price\"'),\n",
      " (6,\n",
      "  '0.175*\"beauty\" + 0.129*\"blogger\" + 0.080*\"news\" + 0.061*\"junkie\" + '\n",
      "  '0.043*\"series\" + 0.036*\"life\" + 0.033*\"talk\" + 0.033*\"launch\" + '\n",
      "  '0.033*\"lover\" + 0.033*\"share\"'),\n",
      " (7,\n",
      "  '0.245*\"life\" + 0.108*\"challenge\" + 0.096*\"guy\" + 0.084*\"summer\" + '\n",
      "  '0.072*\"thing\" + 0.072*\"video\" + 0.060*\"help\" + 0.060*\"body\" + 0.048*\"plan\" '\n",
      "  '+ 0.024*\"stay\"'),\n",
      " (8,\n",
      "  '0.289*\"bikini\" + 0.259*\"fitness\" + 0.102*\"competitor\" + 0.053*\"ifbb\" + '\n",
      "  '0.032*\"lifestyle\" + 0.030*\"addict\" + 0.028*\"motivation\" + 0.025*\"hardbody\" '\n",
      "  '+ 0.025*\"prep\" + 0.024*\"model\"'),\n",
      " (9,\n",
      "  '0.232*\"fashion\" + 0.074*\"model\" + 0.073*\"feature\" + 0.061*\"style\" + '\n",
      "  '0.052*\"blogger\" + 0.047*\"couverture\" + 0.039*\"place\" + 0.039*\"photographer\" '\n",
      "  '+ 0.039*\"week\" + 0.036*\"gram\"')]\n"
     ]
    },
    {
     "name": "stderr",
     "output_type": "stream",
     "text": [
      "C:\\Users\\minio\\anaconda3\\envs\\tfm-py-37\\lib\\site-packages\\ipykernel\\ipkernel.py:287: DeprecationWarning: `should_run_async` will not call `transform_cell` automatically in the future. Please pass the result to `transformed_cell` argument and any exception that happen during thetransform in `preprocessing_exc_tuple` in IPython 7.17 and above.\n",
      "  and should_run_async(code)\n"
     ]
    }
   ],
   "source": [
    "# Print the Keyword in the 10 topics\n",
    "pprint(lda_model.print_topics())\n",
    "doc_lda = lda_model[corpus]"
   ]
  },
  {
   "cell_type": "markdown",
   "metadata": {},
   "source": [
    "### Plot perplexity score progress along incremental learning iterations  \n",
    "\n",
    "Lower the perplexity score represents a better model.  "
   ]
  },
  {
   "cell_type": "code",
   "execution_count": 16,
   "metadata": {},
   "outputs": [
    {
     "name": "stderr",
     "output_type": "stream",
     "text": [
      "C:\\Users\\minio\\anaconda3\\envs\\tfm-py-37\\lib\\site-packages\\ipykernel\\ipkernel.py:287: DeprecationWarning: `should_run_async` will not call `transform_cell` automatically in the future. Please pass the result to `transformed_cell` argument and any exception that happen during thetransform in `preprocessing_exc_tuple` in IPython 7.17 and above.\n",
      "  and should_run_async(code)\n"
     ]
    },
    {
     "data": {
      "image/png": "[encoded data removed]",
      "text/plain": [
       "<Figure size 432x288 with 1 Axes>"
      ]
     },
     "metadata": {
      "needs_background": "light"
     },
     "output_type": "display_data"
    }
   ],
   "source": [
    "plt.title('Perplexity score progress')\n",
    "plt.xlabel('Index')\n",
    "plt.ylabel('Perplexity score')\n",
    "plt.plot(indixes, perplexity_score, 'go', perplexity_score, 'k')\n",
    "plt.show()"
   ]
  },
  {
   "cell_type": "markdown",
   "metadata": {},
   "source": [
    "### Plot coherence score progress along incremental learning iterations  \n",
    "\n",
    "Higher the coherence score represents a more human interpretable model.  "
   ]
  },
  {
   "cell_type": "code",
   "execution_count": 17,
   "metadata": {},
   "outputs": [
    {
     "name": "stderr",
     "output_type": "stream",
     "text": [
      "C:\\Users\\minio\\anaconda3\\envs\\tfm-py-37\\lib\\site-packages\\ipykernel\\ipkernel.py:287: DeprecationWarning: `should_run_async` will not call `transform_cell` automatically in the future. Please pass the result to `transformed_cell` argument and any exception that happen during thetransform in `preprocessing_exc_tuple` in IPython 7.17 and above.\n",
      "  and should_run_async(code)\n"
     ]
    },
    {
     "data": {
      "image/png": "[encoded data removed]",
      "text/plain": [
       "<Figure size 432x288 with 1 Axes>"
      ]
     },
     "metadata": {
      "needs_background": "light"
     },
     "output_type": "display_data"
    }
   ],
   "source": [
    "plt.title('Coherence score progress')\n",
    "plt.xlabel('Index')\n",
    "plt.ylabel('Coherence score')\n",
    "plt.plot(indixes, coherence_score, 'go', coherence_score, 'k') \n",
    "plt.show()"
   ]
  },
  {
   "cell_type": "markdown",
   "metadata": {},
   "source": [
    "### Visualize the topics-keywords"
   ]
  },
  {
   "cell_type": "code",
   "execution_count": 18,
   "metadata": {},
   "outputs": [
    {
     "name": "stderr",
     "output_type": "stream",
     "text": [
      "C:\\Users\\minio\\anaconda3\\envs\\tfm-py-37\\lib\\site-packages\\ipykernel\\ipkernel.py:287: DeprecationWarning: `should_run_async` will not call `transform_cell` automatically in the future. Please pass the result to `transformed_cell` argument and any exception that happen during thetransform in `preprocessing_exc_tuple` in IPython 7.17 and above.\n",
      "  and should_run_async(code)\n"
     ]
    },
    {
     "data": {
      "text/html": [
       "\n",
       "<link rel=\"stylesheet\" type=\"text/css\" href=\"https://cdn.rawgit.com/bmabey/pyLDAvis/files/ldavis.v1.0.0.css\">\n",
       "\n",
       "\n",
       "<div id=\"ldavis_el1204823660472488406497275268\"></div>\n",
       "<script type=\"text/javascript\">\n",
       "\n",
       "var ldavis_el1204823660472488406497275268_data = {\"mdsDat\": {\"x\": [-0.13063778630392642, 0.18546756203270573, 0.289186507169385, -0.03295410961326443, -0.14041309297112328, -0.14039754933704718, -0.159371572916388, 0.22009062335888666, 0.0469296289412533, -0.1379002103604812], \"y\": [-0.049725594235793716, -0.23937440662255308, 0.13566885450117358, 0.29310309249427907, -0.11759319664082804, -0.11707156625975362, 0.13400260425346952, -0.10420459360282568, 0.15505259994581103, -0.08985779383297927], \"topics\": [1, 2, 3, 4, 5, 6, 7, 8, 9, 10], \"cluster\": [1, 1, 1, 1, 1, 1, 1, 1, 1, 1], \"Freq\": [17.30977387766557, 14.383370754908642, 13.116975030181862, 10.672049269011787, 8.724031958815944, 7.729094692446628, 7.483157267462576, 7.272733637411832, 7.089452346194686, 6.219361165900472]}, \"tinfo\": {\"Term\": [\"bikini\", \"luxury\", \"fitness\", \"fashion\", \"life\", \"people\", \"book\", \"star\", \"beauty\", \"model\", \"year\", \"blogger\", \"style\", \"event\", \"story\", \"competitor\", \"time\", \"blog\", \"family\", \"follow\", \"challenge\", \"food\", \"woman\", \"feature\", \"news\", \"guy\", \"work\", \"romance\", \"summer\", \"night\", \"book\", \"time\", \"family\", \"woman\", \"romance\", \"july\", \"author\", \"music\", \"release\", \"card\", \"link\", \"today\", \"chance\", \"force\", \"cover\", \"read\", \"kobo\", \"turn\", \"order\", \"move\", \"amazon\", \"friend\", \"blurb\", \"song\", \"tour\", \"side\", \"call\", \"daughter\", \"facebook\", \"heart\", \"love\", \"bikini\", \"fitness\", \"competitor\", \"ifbb\", \"lifestyle\", \"addict\", \"motivation\", \"prep\", \"hardbody\", \"figure\", \"athlete\", \"winner\", \"master\", \"tattoo\", \"studio\", \"kind\", \"league\", \"championship\", \"glam\", \"class\", \"vault\", \"sexy\", \"model\", \"lingerie\", \"car\", \"embrace\", \"mane\", \"tunel\", \"mckenzie\", \"hitz\", \"sultana\", \"convince\", \"spud\", \"davenport\", \"determination\", \"derek\", \"clock\", \"career\", \"fashion\", \"feature\", \"couverture\", \"place\", \"photographer\", \"week\", \"gram\", \"magazine\", \"chanel\", \"reach\", \"editorial\", \"channel\", \"messenger\", \"buzz\", \"influencer\", \"glamour\", \"vogue\", \"hair\", \"villa\", \"bos\", \"jessica\", \"travel\", \"millionaire\", \"style\", \"model\", \"blogger\", \"delish\", \"origin\", \"throwback\", \"prequel\", \"convince\", \"darklord\", \"embrace\", \"stamp\", \"version\", \"kickoff\", \"wind\", \"beauty\", \"news\", \"junkie\", \"series\", \"talk\", \"launch\", \"lover\", \"share\", \"sneak\", \"celeste\", \"collection\", \"restocks\", \"haul\", \"hash\", \"notification\", \"list\", \"feel\", \"swipe\", \"relationship\", \"shine\", \"shop\", \"info\", \"breakfast\", \"vibe\", \"purchase\", \"product\", \"code\", \"store\", \"shadow\", \"couture\", \"blogger\", \"life\", \"love\", \"blog\", \"people\", \"year\", \"artist\", \"state\", \"dress\", \"fall\", \"month\", \"detail\", \"post\", \"fan\", \"reveal\", \"heat\", \"designer\", \"kindle\", \"person\", \"sponsor\", \"account\", \"money\", \"mother\", \"photoworks\", \"jafar\", \"spud\", \"gucci\", \"sultana\", \"mane\", \"tunel\", \"sasha\", \"mckenzie\", \"convince\", \"origin\", \"gram\", \"assignment\", \"salesman\", \"career\", \"plage\", \"sunday\", \"destroyed\", \"clock\", \"davenport\", \"derek\", \"star\", \"story\", \"work\", \"night\", \"apple\", \"group\", \"face\", \"game\", \"start\", \"comment\", \"issue\", \"member\", \"scene\", \"richard\", \"size\", \"jafar\", \"pack\", \"embrace\", \"darklord\", \"convince\", \"origin\", \"salesman\", \"villain\", \"prequel\", \"retell\", \"sasha\", \"sultana\", \"scream\", \"filet\", \"pound\", \"texas\", \"tat\", \"sunday\", \"hali\", \"jess\", \"kaun\", \"plage\", \"assignment\", \"clock\", \"davenport\", \"derek\", \"destroyed\", \"determination\", \"dog\", \"challenge\", \"guy\", \"summer\", \"thing\", \"video\", \"help\", \"body\", \"plan\", \"stay\", \"rise\", \"city\", \"brand\", \"problem\", \"flame\", \"life\", \"statement\", \"filet\", \"throwback\", \"gucci\", \"mane\", \"tunel\", \"mckenzie\", \"spud\", \"convince\", \"sasha\", \"darklord\", \"embrace\", \"jafar\", \"origin\", \"pack\", \"prequel\", \"sultana\", \"villain\", \"retell\", \"detractor\", \"assignment\", \"houston\", \"jess\", \"tat\", \"texas\", \"hali\", \"kaun\", \"plage\", \"sunday\", \"davenport\", \"career\", \"clock\", \"bahama\", \"follow\", \"food\", \"party\", \"baby\", \"babe\", \"jeff\", \"entertainment\", \"gourmet\", \"location\", \"shot\", \"eats\", \"power\", \"shoot\", \"image\", \"muscle\", \"tokyo\", \"moment\", \"stag\", \"message\", \"birthday\", \"model\", \"miami\", \"swim\", \"pack\", \"darklord\", \"mane\", \"tunel\", \"mckenzie\", \"sage\", \"spud\", \"origin\", \"kaun\", \"career\", \"plage\", \"sunday\", \"assignment\", \"struggle\", \"receiver\", \"genre\", \"design\", \"masculina\", \"street\", \"watch\", \"moda\", \"crush\", \"price\", \"change\", \"estilo\", \"tipo\", \"day\", \"piece\", \"truth\", \"couple\", \"rule\", \"jewelry\", \"wife\", \"child\", \"blog\", \"style\", \"ride\", \"silver\", \"gossip\", \"inspira\", \"report\", \"spud\", \"mckenzie\", \"darklord\", \"mane\", \"sasha\", \"tunel\", \"homie\", \"receiver\", \"struggle\", \"version\", \"luxury\", \"event\", \"gold\", \"step\", \"outfit\", \"dream\", \"business\", \"club\", \"weekend\", \"backes\", \"goal\", \"planner\", \"origin\", \"jafar\", \"convince\", \"embrace\", \"darklord\", \"spud\", \"mckenzie\", \"pack\", \"salesman\", \"prequel\", \"tunel\", \"sasha\", \"sultana\", \"villain\", \"scream\", \"filet\", \"pound\", \"sage\", \"class\", \"retell\", \"assignment\", \"sunday\", \"plage\", \"kaun\", \"hali\", \"career\", \"destroyed\", \"clock\", \"davenport\", \"derek\", \"tat\", \"determination\", \"dog\", \"duty\", \"father\", \"jami\"], \"Freq\": [151.0, 99.0, 135.0, 111.0, 80.0, 69.0, 91.0, 59.0, 68.0, 96.0, 57.0, 74.0, 64.0, 42.0, 45.0, 53.0, 56.0, 41.0, 52.0, 34.0, 29.0, 27.0, 41.0, 34.0, 31.0, 26.0, 25.0, 34.0, 22.0, 22.0, 91.46408059032127, 56.62005740490292, 52.264210189123204, 41.376645106592306, 34.84472241501097, 32.665699345101736, 26.13389436894003, 21.77819782889744, 19.601280687845446, 19.59996580660814, 17.423145192200245, 17.422199937380586, 15.245219230001991, 15.244800163108096, 15.244647133062571, 13.067733523473166, 10.889992374483738, 10.889561536047879, 8.712323031900285, 8.712070532325171, 6.535176934357104, 6.535116310915992, 6.534709015564061, 6.534501836425505, 6.534299365903736, 6.534173410404728, 4.357341907320516, 4.357129430988079, 4.356829550956562, 4.356828962379464, 19.672842245749, 151.7357295219709, 135.95540859180096, 53.41148655324843, 27.920405962304628, 16.99495231525385, 15.78096552682921, 14.567408143462863, 13.353476131082102, 13.353476131082102, 9.711482508924385, 7.284106577839608, 6.070352587601467, 4.856469482402744, 4.856127621200296, 4.8559549788477, 4.855935415974885, 3.642463620177106, 3.6424592185307225, 3.6422019667532006, 7.270686936160089, 1.2143405096187363, 1.2133484274310873, 12.681994215705759, 0.0010664134626002491, 0.0008941670480311394, 0.0008941654361000907, 0.0008941654361000907, 0.0008941654361000907, 0.0008941654361000907, 0.0008941654361000907, 0.0008941654361000907, 0.0008941654361000907, 0.0008941654361000907, 0.0008941654361000907, 0.0008941654361000907, 0.0008941654361000907, 0.0008941654361000907, 0.0008941654361000907, 111.06883560879368, 34.94402329083921, 22.464231606639935, 18.719893583422103, 18.71986325466804, 18.719857902534972, 17.471892114447716, 16.22378181876758, 12.480637321224293, 12.480372390637342, 12.480350090082887, 11.23256270643129, 11.23256270643129, 11.23256270643129, 11.232518105322375, 9.984731613692956, 9.984687012584043, 8.736374227869435, 4.991997401686846, 3.7444138451029882, 2.496461437348409, 1.2486350277265126, 1.248547832558585, 29.180646588402055, 35.46577419909603, 24.676145105292584, 0.0009192377836565061, 0.0009192377836565061, 0.0009192377836565061, 0.0009192377836565061, 0.0009192377836565061, 0.0009192377836565061, 0.0009192377836565061, 0.0009192377836565061, 0.0009192377836565061, 0.0009192377836565061, 0.0009192377836565061, 68.13299180106641, 31.305365523717377, 23.939554611246926, 16.573277764339455, 12.89117644417311, 12.891060323441144, 12.890915172526183, 12.89073953991908, 9.208356626977713, 9.208320339248973, 7.367024374119518, 7.366970668280983, 7.366970668280983, 7.366970668280983, 7.366970668280983, 5.524930078957781, 5.5248139582258124, 5.524674976224738, 5.524646308919033, 5.524514584463707, 3.6841443192944117, 3.6838576462373647, 3.6836972544763333, 3.683648628919822, 3.683540491488176, 1.8426790719103838, 1.8426429656202876, 1.8424464675691599, 1.8423550224927348, 1.8422848057376227, 50.13819161464467, 13.907121082691361, 7.305636423409893, 6.773889110034829, 69.9506121484741, 57.23362251916436, 22.258131341780317, 19.078932583356906, 15.899795525982498, 15.899489393854756, 15.899470408916601, 12.720218255354633, 12.720110278518877, 12.720029592531722, 9.540588182867523, 9.540363330006254, 9.540241114466886, 6.362154754763469, 6.361319417484669, 6.361042949322793, 0.0029060787938675428, 0.0025676989804193895, 0.0024548820514847273, 0.0023420909047078982, 0.002342086849087565, 0.002342086849087565, 0.002342086849087565, 0.002342086849087565, 0.002342086849087565, 0.002342086849087565, 0.002342086849087565, 0.002342086849087565, 0.002342086849087565, 0.002342086849087565, 0.002342119583737398, 0.002342086849087565, 0.002342086849087565, 0.002342086849087565, 0.002342086849087565, 0.002342086849087565, 0.002342086849087565, 0.002342086849087565, 0.002342086849087565, 0.002342086849087565, 59.75499903124175, 45.52640708440832, 25.609315935149517, 22.76401509706738, 22.763750185376278, 19.918707951564024, 17.07326309403077, 14.228413236565627, 11.383410949754415, 8.537602889882763, 5.69248286454217, 5.692446596870174, 5.692406649869135, 2.8472395816786342, 0.0020959027385300533, 0.002095891830920934, 0.002095891830920934, 0.002095891830920934, 0.002095891830920934, 0.002095891830920934, 0.002095891830920934, 0.002095891830920934, 0.002095891830920934, 0.002095891830920934, 0.002095891830920934, 0.002095891830920934, 0.002095891830920934, 0.002095891830920934, 0.002095891830920934, 0.002095891830920934, 0.002095891830920934, 0.002095891830920934, 0.002095891830920934, 0.002095891830920934, 0.002095891830920934, 0.002095891830920934, 0.002095891830920934, 0.002095891830920934, 0.002095891830920934, 0.002095891830920934, 0.002095891830920934, 0.002095891830920934, 0.002095891830920934, 0.002095891830920934, 29.4044254985824, 26.138080886968805, 22.87168945716083, 19.604868521308756, 19.60465885722088, 16.337645559657112, 16.3371387018136, 13.070315730387856, 6.536161403012608, 6.53613036051416, 3.2698073768707965, 3.269472270555583, 3.269256499746699, 3.268654987727592, 66.8097547250198, 0.002406562187990901, 0.002406553988048144, 0.002406553988048144, 0.002406553988048144, 0.002406553988048144, 0.002406553988048144, 0.002406553988048144, 0.002406553988048144, 0.002406553988048144, 0.002406553988048144, 0.002406553988048144, 0.002406553988048144, 0.002406553988048144, 0.002406553988048144, 0.002406553988048144, 0.002406553988048144, 0.002406553988048144, 0.002406553988048144, 0.002406553988048144, 0.002406553988048144, 0.002406553988048144, 0.002406553988048144, 0.002406553988048144, 0.002406553988048144, 0.002406553988048144, 0.002406553988048144, 0.002406553988048144, 0.002406553988048144, 0.002406553988048144, 0.002406553988048144, 0.002406553988048144, 0.002406553988048144, 0.002406553988048144, 34.5416814854564, 27.635392368477152, 16.119585820653022, 13.817424163301773, 11.514844088291367, 11.514842109957282, 11.51471945324396, 9.212745737630865, 9.212257089111661, 9.211832736450248, 6.910139944277343, 6.9098051112333145, 6.909666627847305, 6.909459397351814, 6.9090538388642155, 4.607536623841429, 4.606923834858339, 2.304390992574233, 2.3037341856577336, 2.303195584202863, 48.66961804270264, 0.0017778949369274726, 0.0016961991816703264, 0.0016961903670714331, 0.0016961903670714331, 0.0016961903670714331, 0.0016961903670714331, 0.0016961903670714331, 0.0016961903670714331, 0.0016961903670714331, 0.0016961903670714331, 0.0016961903670714331, 0.0016961903670714331, 0.0016961903670714331, 0.0016961903670714331, 0.0016961903670714331, 0.0016961903670714331, 0.0016961903670714331, 19.458934780821714, 16.67990380307868, 16.679899946123122, 16.67977652354514, 13.900838112735592, 11.120401274690254, 8.341336548586055, 8.341099345819, 8.341060776263381, 8.340941210640962, 8.340941210640962, 8.340788860896268, 5.561662905622524, 5.56120296367177, 5.561189464327303, 5.561037596702055, 2.781794968522563, 2.7817460333988717, 2.7815435432318734, 34.252507684864725, 35.07543158050218, 0.00244201573570352, 0.0021461681288249272, 0.0020475735252250414, 0.0020475735252250414, 0.0020475697586668754, 0.0020475626963703144, 0.0020475626963703144, 0.0020475626963703144, 0.0020475626963703144, 0.0020475626963703144, 0.0020475626963703144, 0.0020475626963703144, 0.0020475626963703144, 0.0020475626963703144, 0.0020475626963703144, 99.05250444087415, 42.451960799107525, 14.152151684148533, 14.152150838251048, 10.615245362472026, 10.615000898098847, 7.077600995239813, 7.077505408824003, 3.5399191970438864, 0.0029822762236622865, 0.00298226218044232, 0.0026057903004683236, 0.002605781420196874, 0.002605781420196874, 0.002605781420196874, 0.002605781420196874, 0.002605781420196874, 0.002605781420196874, 0.002605781420196874, 0.002605781420196874, 0.002605781420196874, 0.002605781420196874, 0.002605781420196874, 0.002605781420196874, 0.002605781420196874, 0.002605781420196874, 0.002605781420196874, 0.002605781420196874, 0.002605781420196874, 0.002605781420196874, 0.04149851463896105, 0.002605781420196874, 0.002605781420196874, 0.002605781420196874, 0.002605781420196874, 0.002605781420196874, 0.002605781420196874, 0.002605781420196874, 0.002605781420196874, 0.002605781420196874, 0.002605781420196874, 0.002605781420196874, 0.002605781420196874, 0.002605781420196874, 0.002605781420196874, 0.002605781420196874, 0.002605781420196874, 0.002605781420196874], \"Total\": [151.0, 99.0, 135.0, 111.0, 80.0, 69.0, 91.0, 59.0, 68.0, 96.0, 57.0, 74.0, 64.0, 42.0, 45.0, 53.0, 56.0, 41.0, 52.0, 34.0, 29.0, 27.0, 41.0, 34.0, 31.0, 26.0, 25.0, 34.0, 22.0, 22.0, 91.48044440784291, 56.63642122242455, 52.280574006644834, 41.393008924113936, 34.8610862325326, 32.682063162623365, 26.150258186461663, 21.794561646419073, 19.61764450536708, 19.616329624129772, 17.439509009721878, 17.43856375490222, 15.261583047523628, 15.261163980629732, 15.261010950584208, 13.084097340994802, 10.906356192005374, 10.905925353569515, 8.728686849421921, 8.728434349846808, 6.551540751878738, 6.5514801284376265, 6.551072833085695, 6.55086565394714, 6.55066318342537, 6.5505372279263625, 4.373705724842151, 4.373493248509713, 4.373193368478197, 4.373192779901099, 26.993486139530344, 151.75280328015427, 135.97248234998432, 53.42856031143178, 27.937479720487982, 17.012026073437205, 15.798039285012571, 14.584481901646225, 13.370549889265464, 13.370549889265464, 9.728556267107747, 7.301180336022966, 6.087426345784825, 4.873543240586103, 4.873201379383655, 4.873028737031059, 4.873009174158244, 3.659537378360464, 3.6595329767140807, 3.659275724936559, 7.326653427562213, 1.2314142678020945, 1.2304221856144455, 96.83184478753708, 0.01814017164595858, 0.01796792523138947, 0.01796792361945842, 0.01796792361945842, 0.01796792361945842, 0.01796792361945842, 0.01796792361945842, 0.01796792361945842, 0.01796792361945842, 0.01796792361945842, 0.01796792361945842, 0.01796792361945842, 0.01796792361945842, 0.01796792361945842, 0.01796792361945842, 111.08588429462948, 34.96107197667501, 22.481280292475734, 18.736942269257902, 18.73691194050384, 18.736906588370772, 17.488940833018166, 16.24083050460338, 12.497686007060096, 12.497421076473145, 12.49739877591869, 11.249611392267093, 11.249611392267093, 11.249611392267093, 11.249566791158179, 10.00178029952876, 10.001735698419846, 8.753422913705238, 5.009046087522648, 3.76146253093879, 2.513510123184211, 1.2656837135623145, 1.265596518394387, 64.27107929204367, 96.83184478753708, 74.83002905862288, 0.01796792361945842, 0.01796792361945842, 0.01796792361945842, 0.01796792361945842, 0.01796792361945842, 0.01796792361945842, 0.01796792361945842, 0.01796792361945842, 0.01796792361945842, 0.01796792361945842, 0.01796792361945842, 68.1496033775357, 31.32197710018665, 23.9561661877162, 16.58988934080873, 12.90778802064239, 12.907671899910422, 12.907526748995462, 12.907351116388359, 9.224968203446991, 9.224931915718251, 7.383635950588794, 7.383582244750259, 7.383582244750259, 7.383582244750259, 7.383582244750259, 5.541541655427057, 5.5414255346950885, 5.541286552694014, 5.541257885388309, 5.541126160932983, 3.7007558957636877, 3.7004692227066407, 3.7003088309456094, 3.700260205389098, 3.700152067957452, 1.8592906483796596, 1.8592545420895634, 1.8590580440384357, 1.8589665989620106, 1.8588963822068985, 74.83002905862288, 80.7310808301924, 26.993486139530344, 41.04096080867246, 69.96623798524448, 57.249248355934725, 22.27375717855069, 19.094558420127278, 15.91542136275287, 15.915115230625128, 15.915096245686973, 12.735844092125005, 12.73573611528925, 12.735655429302094, 9.556214019637896, 9.555989166776627, 9.555866951237258, 6.37778059153384, 6.37694525425504, 6.376668786093164, 0.018531915564238395, 0.018193535750790243, 0.018080718821855583, 0.01796792767507875, 0.01796792361945842, 0.01796792361945842, 0.01796792361945842, 0.01796792361945842, 0.01796792361945842, 0.01796792361945842, 0.01796792361945842, 0.01796792361945842, 0.01796792361945842, 0.01796792361945842, 17.488940833018166, 0.01796792361945842, 0.01796792361945842, 0.01796792361945842, 0.01796792361945842, 0.01796792361945842, 0.01796792361945842, 0.01796792361945842, 0.01796792361945842, 0.01796792361945842, 59.77087106303028, 45.542279116196845, 25.625187966938054, 22.779887128855915, 22.779622217164814, 19.93457998335256, 17.089135125819308, 14.244285268354167, 11.399282981542955, 8.553474921671302, 5.708354896330708, 5.708318628658712, 5.7082786816576725, 2.8631116134671717, 0.017967934527067537, 0.01796792361945842, 0.01796792361945842, 0.01796792361945842, 0.01796792361945842, 0.01796792361945842, 0.01796792361945842, 0.01796792361945842, 0.01796792361945842, 0.01796792361945842, 0.01796792361945842, 0.01796792361945842, 0.01796792361945842, 0.01796792361945842, 0.01796792361945842, 0.01796792361945842, 0.01796792361945842, 0.01796792361945842, 0.01796792361945842, 0.01796792361945842, 0.01796792361945842, 0.01796792361945842, 0.01796792361945842, 0.01796792361945842, 0.01796792361945842, 0.01796792361945842, 0.01796792361945842, 0.01796792361945842, 0.01796792361945842, 0.01796792361945842, 29.419986868213805, 26.15364225660021, 22.887250826792236, 19.620429890940162, 19.620220226852286, 16.35320692928852, 16.352700071445007, 13.085877100019268, 6.551722772644019, 6.551691730145571, 3.285368746502207, 3.2850336401869935, 3.2848178693781094, 3.284216357359002, 80.7310808301924, 0.01796793181940118, 0.01796792361945842, 0.01796792361945842, 0.01796792361945842, 0.01796792361945842, 0.01796792361945842, 0.01796792361945842, 0.01796792361945842, 0.01796792361945842, 0.01796792361945842, 0.01796792361945842, 0.01796792361945842, 0.01796792361945842, 0.01796792361945842, 0.01796792361945842, 0.01796792361945842, 0.01796792361945842, 0.01796792361945842, 0.01796792361945842, 0.01796792361945842, 0.01796792361945842, 0.01796792361945842, 0.01796792361945842, 0.01796792361945842, 0.01796792361945842, 0.01796792361945842, 0.01796792361945842, 0.01796792361945842, 0.01796792361945842, 0.01796792361945842, 0.01796792361945842, 0.01796792361945842, 0.01796792361945842, 34.55795321870878, 27.651664101729537, 16.135857553905407, 13.83369589655416, 11.531115821543754, 11.531113843209669, 11.530991186496346, 9.229017470883251, 9.228528822364048, 9.228104469702634, 6.92641167752973, 6.926076844485702, 6.925938361099693, 6.925731130604201, 6.925325572116603, 4.623808357093816, 4.623195568110726, 2.3206627258266206, 2.320005918910121, 2.3194673174552505, 96.83184478753708, 0.01804962818931446, 0.017967932434057313, 0.01796792361945842, 0.01796792361945842, 0.01796792361945842, 0.01796792361945842, 0.01796792361945842, 0.01796792361945842, 0.01796792361945842, 0.01796792361945842, 0.01796792361945842, 0.01796792361945842, 0.01796792361945842, 0.01796792361945842, 0.01796792361945842, 0.01796792361945842, 0.01796792361945842, 19.4748551417448, 16.695824164001767, 16.69582030704621, 16.695696884468227, 13.91675847365868, 11.136321635613342, 8.357256909509143, 8.357019706742088, 8.35698113718647, 8.35686157156405, 8.35686157156405, 8.356709221819356, 5.577583266545612, 5.577123324594858, 5.577109825250392, 5.576957957625143, 2.7977153294456514, 2.79766639432196, 2.7974639041549616, 41.04096080867246, 64.27107929204367, 0.018362376658791625, 0.01806652905191303, 0.017967934448313145, 0.017967934448313145, 0.01796793068175498, 0.01796792361945842, 0.01796792361945842, 0.01796792361945842, 0.01796792361945842, 0.01796792361945842, 0.01796792361945842, 0.01796792361945842, 0.01796792361945842, 0.01796792361945842, 0.01796792361945842, 99.06786658307341, 42.46732294130678, 14.167513826347795, 14.16751298045031, 10.630607504671287, 10.630363040298109, 7.0929631374390745, 7.092867551023264, 3.5552813392431477, 0.018344418422923833, 0.018344404379703864, 0.017967932499729868, 0.01796792361945842, 0.01796792361945842, 0.01796792361945842, 0.01796792361945842, 0.01796792361945842, 0.01796792361945842, 0.01796792361945842, 0.01796792361945842, 0.01796792361945842, 0.01796792361945842, 0.01796792361945842, 0.01796792361945842, 0.01796792361945842, 0.01796792361945842, 0.01796792361945842, 0.01796792361945842, 0.01796792361945842, 0.01796792361945842, 7.326653427562213, 0.01796792361945842, 0.01796792361945842, 0.01796792361945842, 0.01796792361945842, 0.01796792361945842, 0.01796792361945842, 0.01796792361945842, 0.01796792361945842, 0.01796792361945842, 0.01796792361945842, 0.01796792361945842, 0.01796792361945842, 0.01796792361945842, 0.01796792361945842, 0.01796792361945842, 0.01796792361945842, 0.01796792361945842], \"Category\": [\"Default\", \"Default\", \"Default\", \"Default\", \"Default\", \"Default\", \"Default\", \"Default\", \"Default\", \"Default\", \"Default\", \"Default\", \"Default\", \"Default\", \"Default\", \"Default\", \"Default\", \"Default\", \"Default\", \"Default\", \"Default\", \"Default\", \"Default\", \"Default\", \"Default\", \"Default\", \"Default\", \"Default\", \"Default\", \"Default\", \"Topic1\", \"Topic1\", \"Topic1\", \"Topic1\", \"Topic1\", \"Topic1\", \"Topic1\", \"Topic1\", \"Topic1\", \"Topic1\", \"Topic1\", \"Topic1\", \"Topic1\", \"Topic1\", \"Topic1\", \"Topic1\", \"Topic1\", \"Topic1\", \"Topic1\", \"Topic1\", \"Topic1\", \"Topic1\", \"Topic1\", \"Topic1\", \"Topic1\", \"Topic1\", \"Topic1\", \"Topic1\", \"Topic1\", \"Topic1\", \"Topic1\", \"Topic2\", \"Topic2\", \"Topic2\", \"Topic2\", \"Topic2\", \"Topic2\", \"Topic2\", \"Topic2\", \"Topic2\", \"Topic2\", \"Topic2\", \"Topic2\", \"Topic2\", \"Topic2\", \"Topic2\", \"Topic2\", \"Topic2\", \"Topic2\", \"Topic2\", \"Topic2\", \"Topic2\", \"Topic2\", \"Topic2\", \"Topic2\", \"Topic2\", \"Topic2\", \"Topic2\", \"Topic2\", \"Topic2\", \"Topic2\", \"Topic2\", \"Topic2\", \"Topic2\", \"Topic2\", \"Topic2\", \"Topic2\", \"Topic2\", \"Topic2\", \"Topic3\", \"Topic3\", \"Topic3\", \"Topic3\", \"Topic3\", \"Topic3\", \"Topic3\", \"Topic3\", \"Topic3\", \"Topic3\", \"Topic3\", \"Topic3\", \"Topic3\", \"Topic3\", \"Topic3\", \"Topic3\", \"Topic3\", \"Topic3\", \"Topic3\", \"Topic3\", \"Topic3\", \"Topic3\", \"Topic3\", \"Topic3\", \"Topic3\", \"Topic3\", \"Topic3\", \"Topic3\", \"Topic3\", \"Topic3\", \"Topic3\", \"Topic3\", \"Topic3\", \"Topic3\", \"Topic3\", \"Topic3\", \"Topic3\", \"Topic4\", \"Topic4\", \"Topic4\", \"Topic4\", \"Topic4\", \"Topic4\", \"Topic4\", \"Topic4\", \"Topic4\", \"Topic4\", \"Topic4\", \"Topic4\", \"Topic4\", \"Topic4\", \"Topic4\", \"Topic4\", \"Topic4\", \"Topic4\", \"Topic4\", \"Topic4\", \"Topic4\", \"Topic4\", \"Topic4\", \"Topic4\", \"Topic4\", \"Topic4\", \"Topic4\", \"Topic4\", \"Topic4\", \"Topic4\", \"Topic4\", \"Topic4\", \"Topic4\", \"Topic4\", \"Topic5\", \"Topic5\", \"Topic5\", \"Topic5\", \"Topic5\", \"Topic5\", \"Topic5\", \"Topic5\", \"Topic5\", \"Topic5\", \"Topic5\", \"Topic5\", \"Topic5\", \"Topic5\", \"Topic5\", \"Topic5\", \"Topic5\", \"Topic5\", \"Topic5\", \"Topic5\", \"Topic5\", \"Topic5\", \"Topic5\", \"Topic5\", \"Topic5\", \"Topic5\", \"Topic5\", \"Topic5\", \"Topic5\", \"Topic5\", \"Topic5\", \"Topic5\", \"Topic5\", \"Topic5\", \"Topic5\", \"Topic5\", \"Topic5\", \"Topic5\", \"Topic5\", \"Topic5\", \"Topic6\", \"Topic6\", \"Topic6\", \"Topic6\", \"Topic6\", \"Topic6\", \"Topic6\", \"Topic6\", \"Topic6\", \"Topic6\", \"Topic6\", \"Topic6\", \"Topic6\", \"Topic6\", \"Topic6\", \"Topic6\", \"Topic6\", \"Topic6\", \"Topic6\", \"Topic6\", \"Topic6\", \"Topic6\", \"Topic6\", \"Topic6\", \"Topic6\", \"Topic6\", \"Topic6\", \"Topic6\", \"Topic6\", \"Topic6\", \"Topic6\", \"Topic6\", \"Topic6\", \"Topic6\", \"Topic6\", \"Topic6\", \"Topic6\", \"Topic6\", \"Topic6\", \"Topic6\", \"Topic6\", \"Topic6\", \"Topic6\", \"Topic6\", \"Topic7\", \"Topic7\", \"Topic7\", \"Topic7\", \"Topic7\", \"Topic7\", \"Topic7\", \"Topic7\", \"Topic7\", \"Topic7\", \"Topic7\", \"Topic7\", \"Topic7\", \"Topic7\", \"Topic7\", \"Topic7\", \"Topic7\", \"Topic7\", \"Topic7\", \"Topic7\", \"Topic7\", \"Topic7\", \"Topic7\", \"Topic7\", \"Topic7\", \"Topic7\", \"Topic7\", \"Topic7\", \"Topic7\", \"Topic7\", \"Topic7\", \"Topic7\", \"Topic7\", \"Topic7\", \"Topic7\", \"Topic7\", \"Topic7\", \"Topic7\", \"Topic7\", \"Topic7\", \"Topic7\", \"Topic7\", \"Topic7\", \"Topic7\", \"Topic7\", \"Topic7\", \"Topic7\", \"Topic7\", \"Topic8\", \"Topic8\", \"Topic8\", \"Topic8\", \"Topic8\", \"Topic8\", \"Topic8\", \"Topic8\", \"Topic8\", \"Topic8\", \"Topic8\", \"Topic8\", \"Topic8\", \"Topic8\", \"Topic8\", \"Topic8\", \"Topic8\", \"Topic8\", \"Topic8\", \"Topic8\", \"Topic8\", \"Topic8\", \"Topic8\", \"Topic8\", \"Topic8\", \"Topic8\", \"Topic8\", \"Topic8\", \"Topic8\", \"Topic8\", \"Topic8\", \"Topic8\", \"Topic8\", \"Topic8\", \"Topic8\", \"Topic8\", \"Topic8\", \"Topic8\", \"Topic9\", \"Topic9\", \"Topic9\", \"Topic9\", \"Topic9\", \"Topic9\", \"Topic9\", \"Topic9\", \"Topic9\", \"Topic9\", \"Topic9\", \"Topic9\", \"Topic9\", \"Topic9\", \"Topic9\", \"Topic9\", \"Topic9\", \"Topic9\", \"Topic9\", \"Topic9\", \"Topic9\", \"Topic9\", \"Topic9\", \"Topic9\", \"Topic9\", \"Topic9\", \"Topic9\", \"Topic9\", \"Topic9\", \"Topic9\", \"Topic9\", \"Topic9\", \"Topic9\", \"Topic9\", \"Topic9\", \"Topic9\", \"Topic10\", \"Topic10\", \"Topic10\", \"Topic10\", \"Topic10\", \"Topic10\", \"Topic10\", \"Topic10\", \"Topic10\", \"Topic10\", \"Topic10\", \"Topic10\", \"Topic10\", \"Topic10\", \"Topic10\", \"Topic10\", \"Topic10\", \"Topic10\", \"Topic10\", \"Topic10\", \"Topic10\", \"Topic10\", \"Topic10\", \"Topic10\", \"Topic10\", \"Topic10\", \"Topic10\", \"Topic10\", \"Topic10\", \"Topic10\", \"Topic10\", \"Topic10\", \"Topic10\", \"Topic10\", \"Topic10\", \"Topic10\", \"Topic10\", \"Topic10\", \"Topic10\", \"Topic10\", \"Topic10\", \"Topic10\", \"Topic10\", \"Topic10\", \"Topic10\", \"Topic10\", \"Topic10\", \"Topic10\"], \"logprob\": [30.0, 29.0, 28.0, 27.0, 26.0, 25.0, 24.0, 23.0, 22.0, 21.0, 20.0, 19.0, 18.0, 17.0, 16.0, 15.0, 14.0, 13.0, 12.0, 11.0, 10.0, 9.0, 8.0, 7.0, 6.0, 5.0, 4.0, 3.0, 2.0, 1.0, -1.9328999519348145, -2.4124999046325684, -2.492500066757202, -2.726099967956543, -2.8980000019073486, -2.9625000953674316, -3.1856000423431396, -3.3678998947143555, -3.473299980163574, -3.473299980163574, -3.591099977493286, -3.591099977493286, -3.724600076675415, -3.724600076675415, -3.724600076675415, -3.878700017929077, -4.060999870300293, -4.061100006103516, -4.28410005569458, -4.28410005569458, -4.571700096130371, -4.571700096130371, -4.571700096130371, -4.571800231933594, -4.571800231933594, -4.571800231933594, -4.9770002365112305, -4.9770002365112305, -4.977099895477295, -4.977099895477295, -3.469599962234497, -1.2415000200271606, -1.3513000011444092, -2.285599946975708, -2.934299945831299, -3.4307000637054443, -3.5048999786376953, -3.58489990234375, -3.6719000339508057, -3.6719000339508057, -3.9904000759124756, -4.2779998779296875, -4.46019983291626, -4.683300018310547, -4.6834001541137695, -4.683499813079834, -4.683499813079834, -4.9710001945495605, -4.9710001945495605, -4.971099853515625, -4.279799938201904, -6.069499969482422, -6.070300102233887, -3.7235000133514404, -13.107099533081055, -13.283300399780273, -13.283300399780273, -13.283300399780273, -13.283300399780273, -13.283300399780273, -13.283300399780273, -13.283300399780273, -13.283300399780273, -13.283300399780273, -13.283300399780273, -13.283300399780273, -13.283300399780273, -13.283300399780273, -13.283300399780273, -1.461300015449524, -2.6177000999450684, -3.0596001148223877, -3.2418999671936035, -3.2418999671936035, -3.2418999671936035, -3.3108999729156494, -3.384999990463257, -3.6473000049591064, -3.6473000049591064, -3.6473000049591064, -3.752700090408325, -3.752700090408325, -3.752700090408325, -3.752700090408325, -3.8703999519348145, -3.8703999519348145, -4.004000186920166, -4.563700199127197, -4.851200103759766, -5.2565999031066895, -5.949399948120117, -5.94950008392334, -2.7980000972747803, -2.6029000282287598, -2.9656999111175537, -13.16349983215332, -13.16349983215332, -13.16349983215332, -13.16349983215332, -13.16349983215332, -13.16349983215332, -13.16349983215332, -13.16349983215332, -13.16349983215332, -13.16349983215332, -13.16349983215332, -1.7438000440597534, -2.521399974822998, -2.7897000312805176, -3.157399892807007, -3.4086999893188477, -3.4086999893188477, -3.4086999893188477, -3.4086999893188477, -3.7451000213623047, -3.7451000213623047, -3.9681999683380127, -3.9681999683380127, -3.9681999683380127, -3.9681999683380127, -3.9681999683380127, -4.255899906158447, -4.25600004196167, -4.25600004196167, -4.25600004196167, -4.25600004196167, -4.661200046539307, -4.661300182342529, -4.661300182342529, -4.661300182342529, -4.661300182342529, -5.354000091552734, -5.354000091552734, -5.354100227355957, -5.3541998863220215, -5.3541998863220215, -2.0504000186920166, -3.3327999114990234, -3.976599931716919, -4.05210018157959, -1.5159000158309937, -1.7165000438690186, -2.6610000133514404, -2.8150999546051025, -2.9974000453948975, -2.9974000453948975, -2.9974000453948975, -3.2204999923706055, -3.2204999923706055, -3.2204999923706055, -3.5081000328063965, -3.5081000328063965, -3.5081000328063965, -3.913300037384033, -3.9133999347686768, -3.9135000705718994, -11.604599952697754, -11.728400230407715, -11.773300170898438, -11.82040023803711, -11.82040023803711, -11.82040023803711, -11.82040023803711, -11.82040023803711, -11.82040023803711, -11.82040023803711, -11.82040023803711, -11.82040023803711, -11.82040023803711, -11.82040023803711, -11.82040023803711, -11.82040023803711, -11.82040023803711, -11.82040023803711, -11.82040023803711, -11.82040023803711, -11.82040023803711, -11.82040023803711, -11.82040023803711, -11.82040023803711, -1.552299976348877, -1.8243000507354736, -2.399600028991699, -2.517400026321411, -2.517400026321411, -2.650899887084961, -2.8050999641418457, -2.987299919128418, -3.210400104522705, -3.4981000423431396, -3.90339994430542, -3.90339994430542, -3.90339994430542, -4.596199989318848, -11.81029987335205, -11.810400009155273, -11.810400009155273, -11.810400009155273, -11.810400009155273, -11.810400009155273, -11.810400009155273, -11.810400009155273, -11.810400009155273, -11.810400009155273, -11.810400009155273, -11.810400009155273, -11.810400009155273, -11.810400009155273, -11.810400009155273, -11.810400009155273, -11.810400009155273, -11.810400009155273, -11.810400009155273, -11.810400009155273, -11.810400009155273, -11.810400009155273, -11.810400009155273, -11.810400009155273, -11.810400009155273, -11.810400009155273, -11.810400009155273, -11.810400009155273, -11.810400009155273, -11.810400009155273, -2.229099988937378, -2.3468000888824463, -2.480299949645996, -2.634500026702881, -2.634500026702881, -2.816800117492676, -2.816800117492676, -3.039900064468384, -3.7328999042510986, -3.7328999042510986, -4.42549991607666, -4.425600051879883, -4.4257001876831055, -4.425899982452393, -1.408400058746338, -11.639800071716309, -11.639800071716309, -11.639800071716309, -11.639800071716309, -11.639800071716309, -11.639800071716309, -11.639800071716309, -11.639800071716309, -11.639800071716309, -11.639800071716309, -11.639800071716309, -11.639800071716309, -11.639800071716309, -11.639800071716309, -11.639800071716309, -11.639800071716309, -11.639800071716309, -11.639800071716309, -11.639800071716309, -11.639800071716309, -11.639800071716309, -11.639800071716309, -11.639800071716309, -11.639800071716309, -11.639800071716309, -11.639800071716309, -11.639800071716309, -11.639800071716309, -11.639800071716309, -11.639800071716309, -11.639800071716309, -11.639800071716309, -11.639800071716309, -2.039599895477295, -2.2625999450683594, -2.8017001152038574, -2.9558000564575195, -3.1380999088287354, -3.1380999088287354, -3.1380999088287354, -3.3610999584198, -3.3612000942230225, -3.3612000942230225, -3.648699998855591, -3.6487998962402344, -3.6487998962402344, -3.6487998962402344, -3.648900032043457, -4.053999900817871, -4.054200172424316, -4.7469000816345215, -4.747200012207031, -4.747399806976318, -1.6966999769210815, -11.913999557495117, -11.961099624633789, -11.961099624633789, -11.961099624633789, -11.961099624633789, -11.961099624633789, -11.961099624633789, -11.961099624633789, -11.961099624633789, -11.961099624633789, -11.961099624633789, -11.961099624633789, -11.961099624633789, -11.961099624633789, -11.961099624633789, -11.961099624633789, -11.961099624633789, -2.587899923324585, -2.742000102996826, -2.742000102996826, -2.742000102996826, -2.9242000579833984, -3.14739990234375, -3.434999942779541, -3.434999942779541, -3.434999942779541, -3.434999942779541, -3.434999942779541, -3.434999942779541, -3.8403000831604004, -3.840399980545044, -3.840399980545044, -3.840399980545044, -4.533100128173828, -4.533100128173828, -4.533199787139893, -2.02239990234375, -1.9987000226974487, -11.571100234985352, -11.700300216674805, -11.747300148010254, -11.747300148010254, -11.747300148010254, -11.747300148010254, -11.747300148010254, -11.747300148010254, -11.747300148010254, -11.747300148010254, -11.747300148010254, -11.747300148010254, -11.747300148010254, -11.747300148010254, -11.747300148010254, -0.8295999765396118, -1.676900029182434, -2.775399923324585, -2.775399923324585, -3.062999963760376, -3.062999963760376, -3.4683001041412354, -3.4683001041412354, -4.161099910736084, -11.240300178527832, -11.240300178527832, -11.375300407409668, -11.375300407409668, -11.375300407409668, -11.375300407409668, -11.375300407409668, -11.375300407409668, -11.375300407409668, -11.375300407409668, -11.375300407409668, -11.375300407409668, -11.375300407409668, -11.375300407409668, -11.375300407409668, -11.375300407409668, -11.375300407409668, -11.375300407409668, -11.375300407409668, -11.375300407409668, -11.375300407409668, -8.607399940490723, -11.375300407409668, -11.375300407409668, -11.375300407409668, -11.375300407409668, -11.375300407409668, -11.375300407409668, -11.375300407409668, -11.375300407409668, -11.375300407409668, -11.375300407409668, -11.375300407409668, -11.375300407409668, -11.375300407409668, -11.375300407409668, -11.375300407409668, -11.375300407409668, -11.375300407409668], \"loglift\": [30.0, 29.0, 28.0, 27.0, 26.0, 25.0, 24.0, 23.0, 22.0, 21.0, 20.0, 19.0, 18.0, 17.0, 16.0, 15.0, 14.0, 13.0, 12.0, 11.0, 10.0, 9.0, 8.0, 7.0, 6.0, 5.0, 4.0, 3.0, 2.0, 1.0, 1.7537, 1.7536, 1.7536, 1.7535, 1.7534, 1.7534, 1.7533, 1.7531, 1.7531, 1.7531, 1.753, 1.753, 1.7528, 1.7528, 1.7528, 1.7526, 1.7524, 1.7524, 1.752, 1.752, 1.7514, 1.7514, 1.7514, 1.7514, 1.7514, 1.7514, 1.7502, 1.7502, 1.7501, 1.7501, 1.4375, 1.939, 1.939, 1.9388, 1.9385, 1.9381, 1.938, 1.9379, 1.9378, 1.9378, 1.9373, 1.9368, 1.9363, 1.9356, 1.9356, 1.9356, 1.9356, 1.9344, 1.9344, 1.9344, 1.9314, 1.9251, 1.9251, -0.0937, -0.8947, -1.0614, -1.0614, -1.0614, -1.0614, -1.0614, -1.0614, -1.0614, -1.0614, -1.0614, -1.0614, -1.0614, -1.0614, -1.0614, -1.0614, 2.0311, 2.0308, 2.0305, 2.0304, 2.0304, 2.0304, 2.0303, 2.0302, 2.0299, 2.0299, 2.0299, 2.0297, 2.0297, 2.0297, 2.0297, 2.0296, 2.0296, 2.0293, 2.0279, 2.0267, 2.0245, 2.0177, 2.0177, 1.2417, 1.0269, 0.9219, -0.9415, -0.9415, -0.9415, -0.9415, -0.9415, -0.9415, -0.9415, -0.9415, -0.9415, -0.9415, -0.9415, 2.2373, 2.237, 2.2368, 2.2365, 2.2363, 2.2363, 2.2363, 2.2363, 2.2357, 2.2357, 2.2353, 2.2353, 2.2353, 2.2353, 2.2353, 2.2345, 2.2345, 2.2345, 2.2345, 2.2345, 2.233, 2.233, 2.233, 2.233, 2.233, 2.2286, 2.2286, 2.2286, 2.2286, 2.2286, 1.8371, 0.4788, 0.9306, 0.436, 2.4389, 2.4388, 2.4384, 2.4383, 2.4381, 2.4381, 2.4381, 2.4379, 2.4379, 2.4379, 2.4375, 2.4375, 2.4375, 2.4366, 2.4366, 2.4366, 0.5864, 0.481, 0.4423, 0.4015, 0.4015, 0.4015, 0.4015, 0.4015, 0.4015, 0.4015, 0.4015, 0.4015, 0.4015, 0.4015, -6.4792, 0.4015, 0.4015, 0.4015, 0.4015, 0.4015, 0.4015, 0.4015, 0.4015, 0.4015, 2.5599, 2.5598, 2.5596, 2.5595, 2.5595, 2.5594, 2.5592, 2.5591, 2.5588, 2.5583, 2.5574, 2.5574, 2.5574, 2.5546, 0.4116, 0.4116, 0.4116, 0.4116, 0.4116, 0.4116, 0.4116, 0.4116, 0.4116, 0.4116, 0.4116, 0.4116, 0.4116, 0.4116, 0.4116, 0.4116, 0.4116, 0.4116, 0.4116, 0.4116, 0.4116, 0.4116, 0.4116, 0.4116, 0.4116, 0.4116, 0.4116, 0.4116, 0.4116, 0.4116, 2.592, 2.5919, 2.5918, 2.5917, 2.5917, 2.5916, 2.5916, 2.5913, 2.5901, 2.5901, 2.5878, 2.5878, 2.5878, 2.5878, 2.4032, 0.5821, 0.5821, 0.5821, 0.5821, 0.5821, 0.5821, 0.5821, 0.5821, 0.5821, 0.5821, 0.5821, 0.5821, 0.5821, 0.5821, 0.5821, 0.5821, 0.5821, 0.5821, 0.5821, 0.5821, 0.5821, 0.5821, 0.5821, 0.5821, 0.5821, 0.5821, 0.5821, 0.5821, 0.5821, 0.5821, 0.5821, 0.5821, 0.5821, 2.6206, 2.6204, 2.62, 2.6199, 2.6196, 2.6196, 2.6196, 2.6193, 2.6193, 2.6193, 2.6187, 2.6187, 2.6187, 2.6187, 2.6187, 2.6175, 2.6175, 2.614, 2.614, 2.614, 1.9331, 0.3033, 0.2608, 0.2608, 0.2608, 0.2608, 0.2608, 0.2608, 0.2608, 0.2608, 0.2608, 0.2608, 0.2608, 0.2608, 0.2608, 0.2608, 0.2608, 0.2608, 2.6457, 2.6456, 2.6456, 2.6456, 2.6454, 2.6451, 2.6447, 2.6447, 2.6447, 2.6447, 2.6447, 2.6447, 2.6437, 2.6437, 2.6437, 2.6437, 2.6409, 2.6409, 2.6409, 2.4658, 2.041, 0.6291, 0.5162, 0.4746, 0.4746, 0.4746, 0.4746, 0.4746, 0.4746, 0.4746, 0.4746, 0.4746, 0.4746, 0.4746, 0.4746, 0.4746, 2.7773, 2.7771, 2.7764, 2.7764, 2.7761, 2.7761, 2.7753, 2.7753, 2.7732, 0.9609, 0.9609, 0.8467, 0.8466, 0.8466, 0.8466, 0.8466, 0.8466, 0.8466, 0.8466, 0.8466, 0.8466, 0.8466, 0.8466, 0.8466, 0.8466, 0.8466, 0.8466, 0.8466, 0.8466, 0.8466, -2.3961, 0.8466, 0.8466, 0.8466, 0.8466, 0.8466, 0.8466, 0.8466, 0.8466, 0.8466, 0.8466, 0.8466, 0.8466, 0.8466, 0.8466, 0.8466, 0.8466, 0.8466]}, \"token.table\": {\"Topic\": [2, 1, 6, 5, 2, 1, 8, 8, 4, 2, 8, 4, 9, 3, 4, 1, 7, 1, 3, 7, 4, 10, 3, 1, 1, 4, 7, 2, 1, 3, 9, 3, 9, 7, 2, 10, 4, 4, 6, 2, 9, 4, 3, 1, 9, 1, 9, 9, 5, 5, 10, 5, 8, 3, 8, 9, 10, 6, 1, 5, 1, 5, 3, 3, 4, 2, 2, 7, 8, 8, 1, 1, 6, 9, 2, 3, 10, 8, 3, 6, 7, 3, 2, 4, 4, 1, 5, 7, 2, 8, 3, 4, 6, 8, 3, 9, 1, 4, 2, 5, 1, 4, 2, 4, 7, 2, 1, 4, 8, 1, 4, 4, 10, 3, 9, 2, 6, 8, 3, 3, 9, 2, 3, 8, 8, 5, 2, 1, 8, 1, 4, 6, 4, 1, 10, 8, 5, 5, 3, 9, 3, 7, 5, 8, 2, 9, 7, 4, 4, 3, 1, 4, 1, 4, 5, 6, 7, 1, 9, 6, 4, 2, 4, 4, 4, 8, 4, 8, 1, 4, 1, 5, 8, 6, 6, 5, 7, 10, 4, 6, 9, 2, 3, 9, 7, 4, 4, 2, 7, 1, 9, 1, 8, 1, 3, 9, 1, 2, 4, 7, 3, 3, 9, 3, 10, 9, 2, 1, 6, 5], \"Freq\": [1.0127839101640308, 1.068450959111055, 1.0096743387899176, 0.9877094296953945, 0.9587490895770666, 0.9942540457768997, 1.0406625157281157, 1.0120216683010406, 0.9978047799235613, 1.0016289433506502, 0.8622669459271595, 0.17056130904520184, 0.8284406439338375, 0.3340904756353182, 0.6681809512706364, 1.068527274593412, 0.9784316920200298, 0.9947481190001551, 1.063416149197072, 0.9132326571332254, 1.0809908531277388, 0.9868936105210553, 0.9778115542338934, 0.9145562714200124, 1.0195587239418265, 0.9756169565506503, 0.9857244372645328, 1.0930356483880157, 0.9828600318388286, 0.9601777475623129, 0.9572834817589819, 0.9778115542338934, 1.0723998960430623, 0.9131395077627049, 0.9554157391513332, 0.9869069103074022, 1.0756999403385923, 0.9480424071343602, 1.052203938448147, 0.9919788160314684, 1.075826043954697, 1.075907199101427, 0.9785919535625017, 0.9828968767908383, 0.9572518933691454, 0.9146007030794017, 0.9573146303944633, 1.018218677497459, 1.0464775253809113, 1.0207411386292278, 1.0347718096080682, 1.0053142568656757, 1.0106243067689726, 0.9601998155906547, 1.0406737639391226, 0.9572971780724064, 0.9889957051930808, 0.9947841055054544, 0.9146634193749218, 1.0053335943940593, 0.9946333028667748, 1.0207562596338549, 0.9992268658149068, 1.001113467669154, 1.0827538802847314, 1.0279017487733513, 1.0002023766098853, 0.9134599166336428, 1.0127914630387285, 1.0125972851756389, 0.982887020874606, 1.0684608459110652, 0.9828502965398422, 0.9756170128974702, 1.0931124901962255, 0.9998220017361465, 0.9881762016680539, 0.9751850647584338, 0.9720428562434683, 1.0032817353915695, 0.9941253973311714, 1.0281692189130605, 0.9722861144579432, 0.9480493028945419, 0.9480493028945419, 0.9146635424771878, 1.0464641415424651, 0.978401366116396, 1.0022378639783376, 1.0107236143008225, 0.9778154309591431, 1.0809439990624414, 1.0510909200576788, 1.0406626942692483, 0.7956999980037174, 1.0723035215289147, 1.0097281752316127, 1.0018297507180542, 1.02606004243029, 0.9407661354742551, 1.008586168134071, 1.0071529630444216, 1.0930343336982307, 0.17341524300222397, 0.8299158057963576, 0.9992930839992079, 0.9747980858017925, 1.0827311916213707, 0.9752367005876126, 0.7409194905992967, 0.2593218217097539, 1.0071642889302348, 0.9993149485760199, 0.9851712937626486, 1.0182189127194556, 1.025947601810688, 1.0510975981398265, 0.8620667661656435, 0.9778115542338934, 0.7901412381164425, 0.9877588273692282, 0.13425335465335664, 0.36145133945134483, 0.5060318752318828, 1.0815030267134589, 1.005334793645124, 1.028490425724816, 1.0311127562250564, 1.0107828039426852, 1.0094261291836848, 0.9897204094378598, 1.0096625970927338, 0.9480493028945419, 1.0310829286533572, 1.0347480137110128, 0.9915803945683368, 1.0004825472360346, 0.9408893695608376, 1.0140411643248126, 1.0757347247486284, 1.014039522936125, 0.9934374211707108, 1.020749792734281, 1.0106731642131799, 0.9722861144579432, 0.9572790636769637, 0.9132926449185349, 1.075679050902002, 1.0810366510714975, 0.960198102198096, 0.993572553092271, 1.0827866387199454, 1.0194903875706542, 0.9480493028945419, 1.0464395187728246, 1.0478110548987851, 1.0684263375506022, 1.0039847802372195, 1.075855340059799, 1.0511049538067774, 1.0247205180677401, 0.8127291686476071, 1.0758665600106738, 1.0071779935926595, 1.0828123788810748, 1.010693372513432, 1.080860265487616, 0.97528154666524, 1.0686146428047887, 0.9756131188221407, 1.068561068075368, 0.9409301629536352, 0.8618227792182078, 1.0038334548734968, 0.9649729739853419, 0.9950478865210307, 1.0684212752755218, 0.988176260668936, 1.0758136392855147, 1.0100504606419745, 1.0182264398807372, 1.0260559232914148, 0.45121383240237584, 0.5445684184166605, 1.0049262873055849, 1.0827810370288418, 1.0071439025191724, 1.0260195733245856, 1.0193456571119834, 1.0064195224508905, 0.9572971780724064, 0.9748509245906829, 1.0813596961320928, 1.0685940955889095, 0.7900868039025819, 1.0758234399336797, 1.008626012317212, 0.8120743978262188, 1.0810050585562492, 1.0193565499651194, 0.9981940498520903, 0.9998264602792772, 1.0059813875838168, 1.0140414539821914, 1.1250867704471244, 1.072322277627057, 0.9856382088556418, 0.9905054275026384, 1.0146267037551309, 0.9956462597659784], \"Term\": [\"addict\", \"amazon\", \"apple\", \"artist\", \"athlete\", \"author\", \"babe\", \"baby\", \"beauty\", \"bikini\", \"birthday\", \"blog\", \"blog\", \"blogger\", \"blogger\", \"blurb\", \"body\", \"book\", \"bos\", \"brand\", \"breakfast\", \"business\", \"buzz\", \"call\", \"card\", \"celeste\", \"challenge\", \"championship\", \"chance\", \"chanel\", \"change\", \"channel\", \"child\", \"city\", \"class\", \"club\", \"code\", \"collection\", \"comment\", \"competitor\", \"couple\", \"couture\", \"couverture\", \"cover\", \"crush\", \"daughter\", \"day\", \"design\", \"designer\", \"detail\", \"dream\", \"dress\", \"eats\", \"editorial\", \"entertainment\", \"estilo\", \"event\", \"face\", \"facebook\", \"fall\", \"family\", \"fan\", \"fashion\", \"feature\", \"feel\", \"figure\", \"fitness\", \"flame\", \"follow\", \"food\", \"force\", \"friend\", \"game\", \"genre\", \"glam\", \"glamour\", \"gold\", \"gourmet\", \"gram\", \"group\", \"guy\", \"hair\", \"hardbody\", \"hash\", \"haul\", \"heart\", \"heat\", \"help\", \"ifbb\", \"image\", \"influencer\", \"info\", \"issue\", \"jeff\", \"jessica\", \"jewelry\", \"july\", \"junkie\", \"kind\", \"kindle\", \"kobo\", \"launch\", \"league\", \"life\", \"life\", \"lifestyle\", \"link\", \"list\", \"location\", \"love\", \"love\", \"lover\", \"luxury\", \"magazine\", \"masculina\", \"master\", \"member\", \"message\", \"messenger\", \"millionaire\", \"moda\", \"model\", \"model\", \"model\", \"moment\", \"month\", \"motivation\", \"move\", \"muscle\", \"music\", \"news\", \"night\", \"notification\", \"order\", \"outfit\", \"party\", \"people\", \"person\", \"photographer\", \"piece\", \"place\", \"plan\", \"post\", \"power\", \"prep\", \"price\", \"problem\", \"product\", \"purchase\", \"reach\", \"read\", \"relationship\", \"release\", \"restocks\", \"reveal\", \"richard\", \"rise\", \"romance\", \"rule\", \"scene\", \"series\", \"sexy\", \"shadow\", \"share\", \"shine\", \"shoot\", \"shop\", \"shot\", \"side\", \"sneak\", \"song\", \"sponsor\", \"stag\", \"star\", \"start\", \"state\", \"stay\", \"step\", \"store\", \"story\", \"street\", \"studio\", \"style\", \"style\", \"summer\", \"swipe\", \"talk\", \"tattoo\", \"thing\", \"time\", \"tipo\", \"today\", \"tokyo\", \"tour\", \"travel\", \"truth\", \"turn\", \"vault\", \"vibe\", \"video\", \"villa\", \"vogue\", \"watch\", \"week\", \"weekend\", \"wife\", \"winner\", \"woman\", \"work\", \"year\"]}, \"R\": 30, \"lambda.step\": 0.01, \"plot.opts\": {\"xlab\": \"PC1\", \"ylab\": \"PC2\"}, \"topic.order\": [3, 9, 10, 7, 5, 4, 8, 2, 6, 1]};\n",
       "\n",
       "function LDAvis_load_lib(url, callback){\n",
       "  var s = document.createElement('script');\n",
       "  s.src = url;\n",
       "  s.async = true;\n",
       "  s.onreadystatechange = s.onload = callback;\n",
       "  s.onerror = function(){console.warn(\"failed to load library \" + url);};\n",
       "  document.getElementsByTagName(\"head\")[0].appendChild(s);\n",
       "}\n",
       "\n",
       "if(typeof(LDAvis) !== \"undefined\"){\n",
       "   // already loaded: just create the visualization\n",
       "   !function(LDAvis){\n",
       "       new LDAvis(\"#\" + \"ldavis_el1204823660472488406497275268\", ldavis_el1204823660472488406497275268_data);\n",
       "   }(LDAvis);\n",
       "}else if(typeof define === \"function\" && define.amd){\n",
       "   // require.js is available: use it to load d3/LDAvis\n",
       "   require.config({paths: {d3: \"https://cdnjs.cloudflare.com/ajax/libs/d3/3.5.5/d3.min\"}});\n",
       "   require([\"d3\"], function(d3){\n",
       "      window.d3 = d3;\n",
       "      LDAvis_load_lib(\"https://cdn.rawgit.com/bmabey/pyLDAvis/files/ldavis.v1.0.0.js\", function(){\n",
       "        new LDAvis(\"#\" + \"ldavis_el1204823660472488406497275268\", ldavis_el1204823660472488406497275268_data);\n",
       "      });\n",
       "    });\n",
       "}else{\n",
       "    // require.js not available: dynamically load d3 & LDAvis\n",
       "    LDAvis_load_lib(\"https://cdnjs.cloudflare.com/ajax/libs/d3/3.5.5/d3.min.js\", function(){\n",
       "         LDAvis_load_lib(\"https://cdn.rawgit.com/bmabey/pyLDAvis/files/ldavis.v1.0.0.js\", function(){\n",
       "                 new LDAvis(\"#\" + \"ldavis_el1204823660472488406497275268\", ldavis_el1204823660472488406497275268_data);\n",
       "            })\n",
       "         });\n",
       "}\n",
       "</script>"
      ],
      "text/plain": [
       "PreparedData(topic_coordinates=              x         y  topics  cluster       Freq\n",
       "topic                                                \n",
       "2     -0.130638 -0.049726       1        1  17.309774\n",
       "8      0.185468 -0.239374       2        1  14.383371\n",
       "9      0.289187  0.135669       3        1  13.116975\n",
       "6     -0.032954  0.293103       4        1  10.672049\n",
       "4     -0.140413 -0.117593       5        1   8.724032\n",
       "3     -0.140398 -0.117072       6        1   7.729095\n",
       "7     -0.159372  0.134003       7        1   7.483157\n",
       "1      0.220091 -0.104205       8        1   7.272734\n",
       "5      0.046930  0.155053       9        1   7.089452\n",
       "0     -0.137900 -0.089858      10        1   6.219361, topic_info=               Term        Freq       Total Category  logprob  loglift\n",
       "49           bikini  151.000000  151.000000  Default  30.0000  30.0000\n",
       "218          luxury   99.000000   99.000000  Default  29.0000  29.0000\n",
       "53          fitness  135.000000  135.000000  Default  28.0000  28.0000\n",
       "194         fashion  111.000000  111.000000  Default  27.0000  27.0000\n",
       "331            life   80.000000   80.000000  Default  26.0000  26.0000\n",
       "...             ...         ...         ...      ...      ...      ...\n",
       "2353  determination    0.002606    0.017968  Topic10 -11.3753   0.8466\n",
       "2354            dog    0.002606    0.017968  Topic10 -11.3753   0.8466\n",
       "2355           duty    0.002606    0.017968  Topic10 -11.3753   0.8466\n",
       "2356         father    0.002606    0.017968  Topic10 -11.3753   0.8466\n",
       "2357           jami    0.002606    0.017968  Topic10 -11.3753   0.8466\n",
       "\n",
       "[424 rows x 6 columns], token_table=      Topic      Freq     Term\n",
       "term                          \n",
       "48        2  1.012784   addict\n",
       "131       1  1.068451   amazon\n",
       "1280      6  1.009674    apple\n",
       "502       5  0.987709   artist\n",
       "519       2  0.958749  athlete\n",
       "...     ...       ...      ...\n",
       "713       9  1.072322     wife\n",
       "523       2  0.985638   winner\n",
       "226       1  0.990505    woman\n",
       "41        6  1.014627     work\n",
       "23        5  0.995646     year\n",
       "\n",
       "[210 rows x 3 columns], R=30, lambda_step=0.01, plot_opts={'xlab': 'PC1', 'ylab': 'PC2'}, topic_order=[3, 9, 10, 7, 5, 4, 8, 2, 6, 1])"
      ]
     },
     "execution_count": 18,
     "metadata": {},
     "output_type": "execute_result"
    }
   ],
   "source": [
    "# Visualize the topics\n",
    "pyLDAvis.enable_notebook()\n",
    "vis = pyLDAvis.gensim.prepare(lda_model, corpus, id2word)\n",
    "vis"
   ]
  },
  {
   "cell_type": "markdown",
   "metadata": {},
   "source": [
    "### Save document-topic matrix (most significant topic per document)  \n",
    "https://github.com/Sim-Xuesi/content-based_movie_recommender/blob/master/Content%20Based%20Recommender%20System%20with%20LDA%20%26%20Cosine.ipynb  \n",
    "https://medium.com/@nicoleeesim97/building-a-simple-content-based-recommender-system-for-movies-and-tv-shows-73fec4f325ae  "
   ]
  },
  {
   "cell_type": "code",
   "execution_count": 19,
   "metadata": {},
   "outputs": [
    {
     "name": "stderr",
     "output_type": "stream",
     "text": [
      "C:\\Users\\minio\\anaconda3\\envs\\tfm-py-37\\lib\\site-packages\\ipykernel\\ipkernel.py:287: DeprecationWarning: `should_run_async` will not call `transform_cell` automatically in the future. Please pass the result to `transformed_cell` argument and any exception that happen during thetransform in `preprocessing_exc_tuple` in IPython 7.17 and above.\n",
      "  and should_run_async(code)\n"
     ]
    },
    {
     "name": "stdout",
     "output_type": "stream",
     "text": [
      "      Document  Topic  Probability\n",
      "0        77096      3     0.189109\n",
      "1       110163      0     0.100000\n",
      "2        82153      2     0.222134\n",
      "3        76634      3     0.157851\n",
      "4        76949      3     0.157851\n",
      "...        ...    ...          ...\n",
      "2693     69659      9     0.798527\n",
      "2694     57442      8     0.830608\n",
      "2695     85111      1     0.277304\n",
      "2696    110198      4     0.135462\n",
      "2697     77566      0     0.100000\n",
      "\n",
      "[2698 rows x 3 columns]\n"
     ]
    }
   ],
   "source": [
    "def Sort_Tuple(tup):  \n",
    "    return(sorted(tup, key = lambda x: x[1], reverse = True))\n",
    "\n",
    "doc_num, topic_num, prob = [], [], []\n",
    "\n",
    "document_topic_matrix = documents\n",
    "\n",
    "for n in range(len(documents)):\n",
    "    get_document_topics = lda_model.get_document_topics(corpus_total[n], minimum_probability=0)\n",
    "    doc_num.append(documents.index[n])\n",
    "    sorted_doc_topics = Sort_Tuple(get_document_topics)\n",
    "    topic_num.append(sorted_doc_topics[0][0])\n",
    "    prob.append(sorted_doc_topics[0][1])\n",
    "    \n",
    "data = {'Document': doc_num\n",
    "        ,'Topic': topic_num\n",
    "        ,'Probability': prob}\n",
    "df = pd.DataFrame(data) \n",
    "df.to_csv(file_model + '_document_topic_matrix.csv', index=False)\n",
    "print(df)"
   ]
  },
  {
   "cell_type": "markdown",
   "metadata": {},
   "source": [
    "### Save document-topic matrix (all topic's probability per document)  \n",
    "https://github.com/Sim-Xuesi/content-based_movie_recommender/blob/master/Content%20Based%20Recommender%20System%20with%20LDA%20%26%20Cosine.ipynb  \n",
    "https://medium.com/@nicoleeesim97/building-a-simple-content-based-recommender-system-for-movies-and-tv-shows-73fec4f325ae  "
   ]
  },
  {
   "cell_type": "code",
   "execution_count": 20,
   "metadata": {},
   "outputs": [
    {
     "name": "stderr",
     "output_type": "stream",
     "text": [
      "C:\\Users\\minio\\anaconda3\\envs\\tfm-py-37\\lib\\site-packages\\ipykernel\\ipkernel.py:287: DeprecationWarning: `should_run_async` will not call `transform_cell` automatically in the future. Please pass the result to `transformed_cell` argument and any exception that happen during thetransform in `preprocessing_exc_tuple` in IPython 7.17 and above.\n",
      "  and should_run_async(code)\n"
     ]
    },
    {
     "name": "stdout",
     "output_type": "stream",
     "text": [
      "      Document    Topic0    Topic1    Topic2    Topic3    Topic4    Topic5  \\\n",
      "0        77096  0.090099  0.090099  0.090099  0.189109  0.090099  0.090099   \n",
      "1       110163  0.100000  0.100000  0.100000  0.100000  0.100000  0.100000   \n",
      "2        82153  0.069466  0.145801  0.222134  0.145802  0.069466  0.069466   \n",
      "3        76634  0.075207  0.075207  0.157851  0.157851  0.075207  0.075207   \n",
      "4        76949  0.075207  0.075207  0.157849  0.157851  0.157851  0.075207   \n",
      "...        ...       ...       ...       ...       ...       ...       ...   \n",
      "2693     69659  0.021615  0.024651  0.021615  0.021615  0.021615  0.023286   \n",
      "2694     57442  0.018534  0.020431  0.018534  0.018534  0.018534  0.018534   \n",
      "2695     85111  0.135461  0.277304  0.064539  0.064539  0.064539  0.121826   \n",
      "2696    110198  0.135461  0.064540  0.064540  0.135462  0.135462  0.135462   \n",
      "2697     77566  0.100000  0.100000  0.100000  0.100000  0.100000  0.100000   \n",
      "\n",
      "        Topic6    Topic7    Topic8    Topic9  \n",
      "0     0.090099  0.090099  0.090099  0.090099  \n",
      "1     0.100000  0.100000  0.100000  0.100000  \n",
      "2     0.069466  0.069466  0.069466  0.069466  \n",
      "3     0.157849  0.075207  0.075207  0.075207  \n",
      "4     0.075207  0.075207  0.075207  0.075207  \n",
      "...        ...       ...       ...       ...  \n",
      "2693  0.023516  0.021615  0.021943  0.798527  \n",
      "2694  0.018534  0.018534  0.830608  0.019225  \n",
      "2695  0.064539  0.064539  0.064539  0.078174  \n",
      "2696  0.064540  0.064540  0.135454  0.064540  \n",
      "2697  0.100000  0.100000  0.100000  0.100000  \n",
      "\n",
      "[2698 rows x 11 columns]\n"
     ]
    }
   ],
   "source": [
    "doc_num = []\n",
    "prob0, prob1, prob2, prob3, prob4, prob5, prob6, prob7, prob8, prob9 = ([] for i in range(num_topics))\n",
    "\n",
    "document_topic_matrix = documents\n",
    "\n",
    "for n in range(len(documents)):\n",
    "    get_document_topics = lda_model.get_document_topics(corpus_total[n], minimum_probability=0)\n",
    "    doc_num.append(documents.index[n])\n",
    "    prob0.append(get_document_topics[0][1])\n",
    "    prob1.append(get_document_topics[1][1])\n",
    "    prob2.append(get_document_topics[2][1])\n",
    "    prob3.append(get_document_topics[3][1])\n",
    "    prob4.append(get_document_topics[4][1])\n",
    "    prob5.append(get_document_topics[5][1])\n",
    "    prob6.append(get_document_topics[6][1])\n",
    "    prob7.append(get_document_topics[7][1])\n",
    "    prob8.append(get_document_topics[8][1])\n",
    "    prob9.append(get_document_topics[9][1])\n",
    "    \n",
    "data = {'Document': doc_num\n",
    "        ,'Topic0': prob0\n",
    "        ,'Topic1': prob1\n",
    "        ,'Topic2': prob2\n",
    "        ,'Topic3': prob3\n",
    "        ,'Topic4': prob4\n",
    "        ,'Topic5': prob5\n",
    "        ,'Topic6': prob6\n",
    "        ,'Topic7': prob7\n",
    "        ,'Topic8': prob8\n",
    "        ,'Topic9': prob9}\n",
    "\n",
    "df = pd.DataFrame(data) \n",
    "df.to_csv(file_model + '_document_topic_matrix_full.csv', index=False)\n",
    "print(df)"
   ]
  },
  {
   "cell_type": "markdown",
   "metadata": {},
   "source": [
    "### Save topic-term matrix"
   ]
  },
  {
   "cell_type": "code",
   "execution_count": 21,
   "metadata": {},
   "outputs": [
    {
     "name": "stderr",
     "output_type": "stream",
     "text": [
      "C:\\Users\\minio\\anaconda3\\envs\\tfm-py-37\\lib\\site-packages\\ipykernel\\ipkernel.py:287: DeprecationWarning: `should_run_async` will not call `transform_cell` automatically in the future. Please pass the result to `transformed_cell` argument and any exception that happen during thetransform in `preprocessing_exc_tuple` in IPython 7.17 and above.\n",
      "  and should_run_async(code)\n"
     ]
    }
   ],
   "source": [
    "# get topic-term-matrix\n",
    "topic_term_matrix = lda_model.get_topics()\n",
    "# save topic-term matrix\n",
    "savetxt(file_model + '_topic_term_matrix.csv', topic_term_matrix, delimiter=',')"
   ]
  },
  {
   "cell_type": "code",
   "execution_count": null,
   "metadata": {},
   "outputs": [],
   "source": []
  }
 ],
 "metadata": {
  "kernelspec": {
   "display_name": "Python 3",
   "language": "python",
   "name": "python3"
  },
  "language_info": {
   "codemirror_mode": {
    "name": "ipython",
    "version": 3
   },
   "file_extension": ".py",
   "mimetype": "text/x-python",
   "name": "python",
   "nbconvert_exporter": "python",
   "pygments_lexer": "ipython3",
   "version": "3.7.9"
  }
 },
 "nbformat": 4,
 "nbformat_minor": 4
}
