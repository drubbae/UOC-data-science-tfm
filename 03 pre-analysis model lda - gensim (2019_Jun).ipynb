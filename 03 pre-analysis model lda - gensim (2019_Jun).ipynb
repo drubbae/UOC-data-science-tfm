{
 "cells": [
  {
   "cell_type": "markdown",
   "metadata": {},
   "source": [
    "# <span style=\"color:blue\">Pre-analysis to find the optimal number of topics and hyperparameters values (2019_Jun)</span>"
   ]
  },
  {
   "cell_type": "code",
   "execution_count": 1,
   "metadata": {},
   "outputs": [],
   "source": [
    "yyyy_MMM = '2019_Jun'"
   ]
  },
  {
   "cell_type": "markdown",
   "metadata": {},
   "source": [
    "### Load packages"
   ]
  },
  {
   "cell_type": "code",
   "execution_count": 2,
   "metadata": {},
   "outputs": [
    {
     "name": "stderr",
     "output_type": "stream",
     "text": [
      "C:\\Users\\minio\\anaconda3\\envs\\tfm-py-37\\lib\\site-packages\\botocore\\vendored\\requests\\packages\\urllib3\\_collections.py:1: DeprecationWarning: Using or importing the ABCs from 'collections' instead of from 'collections.abc' is deprecated since Python 3.3,and in 3.9 it will stop working\n",
      "  from collections import Mapping, MutableMapping\n",
      "C:\\Users\\minio\\anaconda3\\envs\\tfm-py-37\\lib\\site-packages\\botocore\\vendored\\requests\\packages\\urllib3\\_collections.py:1: DeprecationWarning: Using or importing the ABCs from 'collections' instead of from 'collections.abc' is deprecated since Python 3.3,and in 3.9 it will stop working\n",
      "  from collections import Mapping, MutableMapping\n",
      "C:\\Users\\minio\\anaconda3\\envs\\tfm-py-37\\lib\\site-packages\\scipy\\sparse\\sparsetools.py:21: DeprecationWarning: `scipy.sparse.sparsetools` is deprecated!\n",
      "scipy.sparse.sparsetools is a private module for scipy.sparse, and should not be used.\n",
      "  _deprecated()\n",
      "C:\\Users\\minio\\anaconda3\\envs\\tfm-py-37\\lib\\site-packages\\gensim\\models\\doc2vec.py:73: DeprecationWarning: Using or importing the ABCs from 'collections' instead of from 'collections.abc' is deprecated since Python 3.3,and in 3.9 it will stop working\n",
      "  from collections import namedtuple, defaultdict, Iterable\n",
      "[nltk_data] Downloading package stopwords to\n",
      "[nltk_data]     C:\\Users\\minio\\AppData\\Roaming\\nltk_data...\n",
      "[nltk_data]   Package stopwords is already up-to-date!\n"
     ]
    },
    {
     "data": {
      "text/plain": [
       "True"
      ]
     },
     "execution_count": 2,
     "metadata": {},
     "output_type": "execute_result"
    }
   ],
   "source": [
    "import csv, os, re, time\n",
    "import numpy as np\n",
    "import pandas as  pd\n",
    "import matplotlib.pyplot as plt  \n",
    "import pyLDAvis\n",
    "import pyLDAvis.gensim\n",
    "import gensim\n",
    "import gensim.corpora as corpora\n",
    "from gensim.corpora.dictionary import Dictionary\n",
    "from gensim.models import CoherenceModel\n",
    "from gensim.models import Phrases\n",
    "from gensim.test.utils import datapath\n",
    "from gensim.utils import simple_preprocess\n",
    "from pprint import pprint\n",
    "import nltk\n",
    "nltk.download('stopwords')"
   ]
  },
  {
   "cell_type": "markdown",
   "metadata": {},
   "source": [
    "### Constants"
   ]
  },
  {
   "cell_type": "code",
   "execution_count": 3,
   "metadata": {},
   "outputs": [
    {
     "name": "stdout",
     "output_type": "stream",
     "text": [
      "D:\\master\\data science\\semestre 4\\M2.979 - tfm\\data\\bins_test\\doc\\2019_Jun\\2019_Jun_28_results.csv\n",
      "D:\\master\\data science\\semestre 4\\M2.979 - tfm\\data\\bins_test\\model_hyperparameter\\2019_Jun\\model\n"
     ]
    },
    {
     "name": "stderr",
     "output_type": "stream",
     "text": [
      "C:\\Users\\minio\\anaconda3\\envs\\tfm-py-37\\lib\\site-packages\\ipykernel\\ipkernel.py:287: DeprecationWarning: `should_run_async` will not call `transform_cell` automatically in the future. Please pass the result to `transformed_cell` argument and any exception that happen during thetransform in `preprocessing_exc_tuple` in IPython 7.17 and above.\n",
      "  and should_run_async(code)\n"
     ]
    }
   ],
   "source": [
    "# for reproducible results\n",
    "random_state = 33\n",
    "# if debug is True, messages during the process are generated\n",
    "debug = False\n",
    "# for debugging purposes sample may be used to work with a smaller amount of data (when 0 it is not applied)\n",
    "sample = 0\n",
    "# if the test is True, the process runs on a smaller subset of raw data (json files)\n",
    "test = True\n",
    "\n",
    "if test:\n",
    "    # path where the doc files are stored\n",
    "    path_doc = r'D:\\master\\data science\\semestre 4\\M2.979 - tfm\\data\\bins_test\\doc'\n",
    "    # path where the model files are stored\n",
    "    path_model = r'D:\\master\\data science\\semestre 4\\M2.979 - tfm\\data\\bins_test\\model_hyperparameter'\n",
    "    # LDA chunksize\n",
    "    chunksize = 250\n",
    "else:\n",
    "    # path where the doc files are stored\n",
    "    path_doc = r'D:\\master\\data science\\semestre 4\\M2.979 - tfm\\data\\bins\\doc'\n",
    "    # path where the model files are stored\n",
    "    path_model = r'D:\\master\\data science\\semestre 4\\M2.979 - tfm\\data\\bins\\model_hyperparameter'\n",
    "    # LDA chunksize\n",
    "    chunksize = 5000\n",
    "\n",
    "file_doc = os.path.join(path_doc, yyyy_MMM, yyyy_MMM) + '_28_results.csv'\n",
    "file_model = os.path.join(path_model, yyyy_MMM, 'model')\n",
    "print(file_doc)\n",
    "print(file_model)"
   ]
  },
  {
   "cell_type": "markdown",
   "metadata": {},
   "source": [
    "### Load data preprocessed"
   ]
  },
  {
   "cell_type": "code",
   "execution_count": 4,
   "metadata": {},
   "outputs": [
    {
     "name": "stderr",
     "output_type": "stream",
     "text": [
      "C:\\Users\\minio\\anaconda3\\envs\\tfm-py-37\\lib\\site-packages\\ipykernel\\ipkernel.py:287: DeprecationWarning: `should_run_async` will not call `transform_cell` automatically in the future. Please pass the result to `transformed_cell` argument and any exception that happen during thetransform in `preprocessing_exc_tuple` in IPython 7.17 and above.\n",
      "  and should_run_async(code)\n"
     ]
    },
    {
     "data": {
      "text/plain": [
       "0    ['repost', 'rizmanruzaini', 'bridegroom', 'far...\n",
       "1                                           ['follow']\n",
       "2    ['avec', 'petite', 'grappa', 'grappa', 'ogre',...\n",
       "3    ['roddy', 'drop', 'debut', 'album', 'excuse', ...\n",
       "4    ['gilles', 'chel', 'vins', 'touraine', 'land',...\n",
       "5    ['prime', 'minister', 'imran', 'khan', 'twitte...\n",
       "6    ['silence', 'gold', 'ready', 'reunion', 'tempt...\n",
       "7    ['cover', 'reveal', 'tangle', 'lie', 'cassandr...\n",
       "8    ['raveena', 'tandon', 'spends', 'christmas', '...\n",
       "9    ['douceur', 'dans', 'monde', 'jerome', 'banc',...\n",
       "Name: content_preprocessed, dtype: object"
      ]
     },
     "execution_count": 4,
     "metadata": {},
     "output_type": "execute_result"
    }
   ],
   "source": [
    "df = pd.read_csv(file_doc)\n",
    "documents = df.content_preprocessed\n",
    "documents.head(10)"
   ]
  },
  {
   "cell_type": "markdown",
   "metadata": {},
   "source": [
    "### Shuffle"
   ]
  },
  {
   "cell_type": "code",
   "execution_count": 5,
   "metadata": {},
   "outputs": [
    {
     "name": "stderr",
     "output_type": "stream",
     "text": [
      "C:\\Users\\minio\\anaconda3\\envs\\tfm-py-37\\lib\\site-packages\\ipykernel\\ipkernel.py:287: DeprecationWarning: `should_run_async` will not call `transform_cell` automatically in the future. Please pass the result to `transformed_cell` argument and any exception that happen during thetransform in `preprocessing_exc_tuple` in IPython 7.17 and above.\n",
      "  and should_run_async(code)\n"
     ]
    },
    {
     "data": {
      "text/plain": [
       "1794    ['kansa', 'plead', 'guilty', 'kill', 'girlfrie...\n",
       "3150    ['adorable', 'animate', 'card', 'wedding', 'ya...\n",
       "2371    ['outstanding', 'absolutely', 'gorgeous', 'sha...\n",
       "3397    ['megan', 'pugh', 'fuck', 'outfit', 'vincent',...\n",
       "543     ['actress', 'arora', 'leaf', 'chandigarh', 'pr...\n",
       "4002    ['rite', 'obsolete', 'term', 'lilac', 'lavende...\n",
       "3430    ['sharma', 'sharma', 'snap', 'hospital', 'toda...\n",
       "3813         ['cutie', 'nayak', 'sunday', 'soha', 'khan']\n",
       "1087    ['pulcinella', 'artist', 'draw', 'artwork', 'l...\n",
       "2688    ['earlier', 'version', 'ascribed', 'poet', 'ni...\n",
       "Name: content_preprocessed, dtype: object"
      ]
     },
     "execution_count": 5,
     "metadata": {},
     "output_type": "execute_result"
    }
   ],
   "source": [
    "documents = documents.sample(frac=1, random_state=random_state)\n",
    "documents.head(10)"
   ]
  },
  {
   "cell_type": "markdown",
   "metadata": {},
   "source": [
    "### Sample"
   ]
  },
  {
   "cell_type": "code",
   "execution_count": 6,
   "metadata": {},
   "outputs": [
    {
     "name": "stderr",
     "output_type": "stream",
     "text": [
      "C:\\Users\\minio\\anaconda3\\envs\\tfm-py-37\\lib\\site-packages\\ipykernel\\ipkernel.py:287: DeprecationWarning: `should_run_async` will not call `transform_cell` automatically in the future. Please pass the result to `transformed_cell` argument and any exception that happen during thetransform in `preprocessing_exc_tuple` in IPython 7.17 and above.\n",
      "  and should_run_async(code)\n"
     ]
    }
   ],
   "source": [
    "if sample > 0:\n",
    "    documents = documents.sample(n=sample, random_state=random_state)\n",
    "    print(documents.head(10))"
   ]
  },
  {
   "cell_type": "markdown",
   "metadata": {},
   "source": [
    "### Tokenize words and Clean-up text  \n",
    "https://www.machinelearningplus.com/nlp/topic-modeling-gensim-python/#3importpackages"
   ]
  },
  {
   "cell_type": "code",
   "execution_count": 7,
   "metadata": {},
   "outputs": [
    {
     "name": "stderr",
     "output_type": "stream",
     "text": [
      "C:\\Users\\minio\\anaconda3\\envs\\tfm-py-37\\lib\\site-packages\\ipykernel\\ipkernel.py:287: DeprecationWarning: `should_run_async` will not call `transform_cell` automatically in the future. Please pass the result to `transformed_cell` argument and any exception that happen during thetransform in `preprocessing_exc_tuple` in IPython 7.17 and above.\n",
      "  and should_run_async(code)\n"
     ]
    }
   ],
   "source": [
    "def sent_to_words(sentences):\n",
    "    for sentence in sentences:\n",
    "        yield(gensim.utils.simple_preprocess(str(sentence), deacc=True))  # deacc=True removes punctuations"
   ]
  },
  {
   "cell_type": "markdown",
   "metadata": {},
   "source": [
    "### Function to compute bigrams & trigrams  \n",
    "https://radimrehurek.com/gensim/auto_examples/tutorials/run_lda.html#pre-process-and-vectorize-the-documents"
   ]
  },
  {
   "cell_type": "code",
   "execution_count": 8,
   "metadata": {},
   "outputs": [
    {
     "name": "stderr",
     "output_type": "stream",
     "text": [
      "C:\\Users\\minio\\anaconda3\\envs\\tfm-py-37\\lib\\site-packages\\ipykernel\\ipkernel.py:287: DeprecationWarning: `should_run_async` will not call `transform_cell` automatically in the future. Please pass the result to `transformed_cell` argument and any exception that happen during thetransform in `preprocessing_exc_tuple` in IPython 7.17 and above.\n",
      "  and should_run_async(code)\n"
     ]
    }
   ],
   "source": [
    "# Add bigrams and trigrams to docs (only ones that appear min_count times or more).\n",
    "def bi_tri_grams(documents, min_count):\n",
    "    bigram = Phrases(documents, min_count=min_count)\n",
    "    for idx in range(len(documents)):\n",
    "        for token in bigram[documents[idx]]:\n",
    "            if '_' in token:\n",
    "                # Token is a bigram, add to document.\n",
    "                documents[idx].append(token)"
   ]
  },
  {
   "cell_type": "markdown",
   "metadata": {},
   "source": [
    "### Function for categorizing and tagging words"
   ]
  },
  {
   "cell_type": "code",
   "execution_count": 9,
   "metadata": {},
   "outputs": [
    {
     "name": "stderr",
     "output_type": "stream",
     "text": [
      "C:\\Users\\minio\\anaconda3\\envs\\tfm-py-37\\lib\\site-packages\\ipykernel\\ipkernel.py:287: DeprecationWarning: `should_run_async` will not call `transform_cell` automatically in the future. Please pass the result to `transformed_cell` argument and any exception that happen during thetransform in `preprocessing_exc_tuple` in IPython 7.17 and above.\n",
      "  and should_run_async(code)\n"
     ]
    }
   ],
   "source": [
    "def tag_words(text):\n",
    "    tags = nltk.pos_tag(text)\n",
    "    nouns = [word for word, pos in tags if (pos == 'NN' or pos == 'NNP' or pos == 'NNS' or pos == 'NNPS')]\n",
    "    return nouns"
   ]
  },
  {
   "cell_type": "markdown",
   "metadata": {},
   "source": [
    "### Analysis to get the optimal number of topics  \n",
    "https://towardsdatascience.com/discover-what-singaporeans-generally-talk-on-sms-d4b592a682fd"
   ]
  },
  {
   "cell_type": "code",
   "execution_count": 10,
   "metadata": {},
   "outputs": [
    {
     "name": "stderr",
     "output_type": "stream",
     "text": [
      "C:\\Users\\minio\\anaconda3\\envs\\tfm-py-37\\lib\\site-packages\\ipykernel\\ipkernel.py:287: DeprecationWarning: `should_run_async` will not call `transform_cell` automatically in the future. Please pass the result to `transformed_cell` argument and any exception that happen during thetransform in `preprocessing_exc_tuple` in IPython 7.17 and above.\n",
      "  and should_run_async(code)\n"
     ]
    }
   ],
   "source": [
    "data_words = list(sent_to_words(documents))\n",
    "# Compute bigrams & trigrams\n",
    "bi_tri_grams(data_words, 250)\n",
    "# Categorizing and tagging words\n",
    "data_words = list(map(tag_words, data_words))\n",
    "# Create Dictionary\n",
    "id2word = Dictionary(data_words)\n",
    "# Create Corpus\n",
    "texts = data_words\n",
    "# Term Document Frequency\n",
    "corpus = [id2word.doc2bow(text) for text in texts]"
   ]
  },
  {
   "cell_type": "code",
   "execution_count": 11,
   "metadata": {},
   "outputs": [
    {
     "name": "stderr",
     "output_type": "stream",
     "text": [
      "C:\\Users\\minio\\anaconda3\\envs\\tfm-py-37\\lib\\site-packages\\ipykernel\\ipkernel.py:287: DeprecationWarning: `should_run_async` will not call `transform_cell` automatically in the future. Please pass the result to `transformed_cell` argument and any exception that happen during thetransform in `preprocessing_exc_tuple` in IPython 7.17 and above.\n",
      "  and should_run_async(code)\n"
     ]
    },
    {
     "name": "stdout",
     "output_type": "stream",
     "text": [
      "# Topics: 8 Score: 0.43106439263245094\n",
      "time elapsed - 00:00:23.97\n",
      "# Topics: 10 Score: 0.5188297077089209\n",
      "time elapsed - 00:00:26.62\n",
      "# Topics: 12 Score: 0.47982908037816835\n",
      "time elapsed - 00:00:26.89\n",
      "# Topics: 14 Score: 0.5330261294517097\n",
      "time elapsed - 00:00:26.01\n",
      "# Topics: 16 Score: 0.5276850193995462\n",
      "time elapsed - 00:00:26.44\n",
      "# Topics: 18 Score: 0.502409555163266\n",
      "time elapsed - 00:00:27.85\n",
      "# Topics: 20 Score: 0.49842223222546106\n",
      "time elapsed - 00:00:29.25\n",
      "# Topics: 22 Score: 0.5343250163084771\n",
      "time elapsed - 00:00:28.50\n",
      "# Topics: 24 Score: 0.481095947413173\n",
      "time elapsed - 00:00:29.63\n"
     ]
    }
   ],
   "source": [
    "model_list = []\n",
    "coherence_score = []\n",
    "model_topics = []\n",
    "\n",
    "for num_topics in range(8, 25, 2):\n",
    "    \n",
    "    time_start = time.time()\n",
    "\n",
    "    lda_x = gensim.models.LdaMulticore(corpus=corpus\n",
    "                                       ,id2word=id2word\n",
    "                                       ,num_topics=num_topics\n",
    "                                       ,random_state=random_state\n",
    "                                       ,chunksize=chunksize\n",
    "                                       ,passes=10)\n",
    "    coherence_lda_model = CoherenceModel(model=lda_x, texts=data_words, dictionary=id2word, coherence='c_v')\n",
    "    coherence = coherence_lda_model.get_coherence()\n",
    "    coherence_score.append(coherence)\n",
    "    model_topics.append(num_topics)\n",
    "    model_list.append(lda_x)\n",
    "    \n",
    "    print(\"# Topics: \" + str(num_topics) + \" Score: \" + str(coherence))\n",
    "    \n",
    "    time_end = time.time()\n",
    "    hour, rem = divmod(time_end - time_start, 3600)\n",
    "    minute, second = divmod(rem, 60)\n",
    "    print('time elapsed - {:0>2}:{:0>2}:{:05.2f}'.format(int(hour), int(minute), second))"
   ]
  },
  {
   "cell_type": "code",
   "execution_count": 12,
   "metadata": {},
   "outputs": [
    {
     "name": "stderr",
     "output_type": "stream",
     "text": [
      "C:\\Users\\minio\\anaconda3\\envs\\tfm-py-37\\lib\\site-packages\\ipykernel\\ipkernel.py:287: DeprecationWarning: `should_run_async` will not call `transform_cell` automatically in the future. Please pass the result to `transformed_cell` argument and any exception that happen during thetransform in `preprocessing_exc_tuple` in IPython 7.17 and above.\n",
      "  and should_run_async(code)\n"
     ]
    },
    {
     "data": {
      "image/png": "[encoded data removed]",
      "text/plain": [
       "<Figure size 432x288 with 1 Axes>"
      ]
     },
     "metadata": {
      "needs_background": "light"
     },
     "output_type": "display_data"
    }
   ],
   "source": [
    "limit=25; start=8; step=2;\n",
    "x = range(start, limit, step)\n",
    "plt.plot(x, coherence_score)\n",
    "plt.xlabel(\"Number of topics\")\n",
    "plt.ylabel(\"Coherence score\")\n",
    "plt.legend((\"coherence_values\"), loc='best')\n",
    "plt.show()"
   ]
  },
  {
   "cell_type": "markdown",
   "metadata": {},
   "source": [
    "### Hyperparameter tuning  \n",
    "\n",
    "https://medium.com/analytics-vidhya/analyzing-amazon-tv-reviews-with-latent-dirichlet-allocation-97d19c3bb878  \n",
    "https://github.com/Georgebob256/Machine-learning-with-Python/blob/master/Amazon%20TV%20reviews..ipynb"
   ]
  },
  {
   "cell_type": "code",
   "execution_count": 13,
   "metadata": {},
   "outputs": [
    {
     "name": "stderr",
     "output_type": "stream",
     "text": [
      "C:\\Users\\minio\\anaconda3\\envs\\tfm-py-37\\lib\\site-packages\\ipykernel\\ipkernel.py:287: DeprecationWarning: `should_run_async` will not call `transform_cell` automatically in the future. Please pass the result to `transformed_cell` argument and any exception that happen during thetransform in `preprocessing_exc_tuple` in IPython 7.17 and above.\n",
      "  and should_run_async(code)\n"
     ]
    },
    {
     "name": "stdout",
     "output_type": "stream",
     "text": [
      "Iteration num -  1  Topics -  8  Alpha -  0.01  Beta -  0.01  Coherence -  0.43187051194518755\n",
      "Iteration num -  2  Topics -  8  Alpha -  0.01  Beta -  0.31  Coherence -  0.45192224827376576\n",
      "Iteration num -  3  Topics -  8  Alpha -  0.01  Beta -  0.61  Coherence -  0.48052477832316665\n",
      "Iteration num -  4  Topics -  8  Alpha -  0.01  Beta -  0.91  Coherence -  0.5648301758498883\n",
      "Iteration num -  5  Topics -  8  Alpha -  0.01  Beta -  symmetric  Coherence -  0.4782306488555945\n",
      "Iteration num -  6  Topics -  8  Alpha -  0.31  Beta -  0.01  Coherence -  0.4661930998507787\n",
      "Iteration num -  7  Topics -  8  Alpha -  0.31  Beta -  0.31  Coherence -  0.45399357709030913\n",
      "Iteration num -  8  Topics -  8  Alpha -  0.31  Beta -  0.61  Coherence -  0.5532936473076668\n",
      "Iteration num -  9  Topics -  8  Alpha -  0.31  Beta -  0.91  Coherence -  0.5603644596222281\n",
      "Iteration num -  10  Topics -  8  Alpha -  0.31  Beta -  symmetric  Coherence -  0.45888105577599414\n",
      "Iteration num -  11  Topics -  8  Alpha -  0.61  Beta -  0.01  Coherence -  0.47234986432535686\n",
      "Iteration num -  12  Topics -  8  Alpha -  0.61  Beta -  0.31  Coherence -  0.46493387315895485\n",
      "Iteration num -  13  Topics -  8  Alpha -  0.61  Beta -  0.61  Coherence -  0.5369166865706909\n",
      "Iteration num -  14  Topics -  8  Alpha -  0.61  Beta -  0.91  Coherence -  0.5422573132855204\n",
      "Iteration num -  15  Topics -  8  Alpha -  0.61  Beta -  symmetric  Coherence -  0.4633099249219037\n",
      "Iteration num -  16  Topics -  8  Alpha -  0.91  Beta -  0.01  Coherence -  0.46973343985463045\n",
      "Iteration num -  17  Topics -  8  Alpha -  0.91  Beta -  0.31  Coherence -  0.4925529469454104\n",
      "Iteration num -  18  Topics -  8  Alpha -  0.91  Beta -  0.61  Coherence -  0.48676253758553295\n",
      "Iteration num -  19  Topics -  8  Alpha -  0.91  Beta -  0.91  Coherence -  0.48756222846407904\n",
      "Iteration num -  20  Topics -  8  Alpha -  0.91  Beta -  symmetric  Coherence -  0.4734376077071763\n",
      "Iteration num -  21  Topics -  8  Alpha -  symmetric  Beta -  0.01  Coherence -  0.4354919280891874\n",
      "Iteration num -  22  Topics -  8  Alpha -  symmetric  Beta -  0.31  Coherence -  0.5322423390255725\n",
      "Iteration num -  23  Topics -  8  Alpha -  symmetric  Beta -  0.61  Coherence -  0.5794740253319042\n",
      "Iteration num -  24  Topics -  8  Alpha -  symmetric  Beta -  0.91  Coherence -  0.544392815102174\n",
      "Iteration num -  25  Topics -  8  Alpha -  symmetric  Beta -  symmetric  Coherence -  0.44409043872810205\n",
      "Iteration num -  26  Topics -  8  Alpha -  asymmetric  Beta -  0.01  Coherence -  0.48149567423397793\n",
      "Iteration num -  27  Topics -  8  Alpha -  asymmetric  Beta -  0.31  Coherence -  0.4891529233665064\n",
      "Iteration num -  28  Topics -  8  Alpha -  asymmetric  Beta -  0.61  Coherence -  0.5553877440693011\n",
      "Iteration num -  29  Topics -  8  Alpha -  asymmetric  Beta -  0.91  Coherence -  0.5327540092606736\n",
      "Iteration num -  30  Topics -  8  Alpha -  asymmetric  Beta -  symmetric  Coherence -  0.44624522697578944\n",
      "Iteration num -  31  Topics -  10  Alpha -  0.01  Beta -  0.01  Coherence -  0.5708602627512769\n",
      "Iteration num -  32  Topics -  10  Alpha -  0.01  Beta -  0.31  Coherence -  0.572869113347216\n",
      "Iteration num -  33  Topics -  10  Alpha -  0.01  Beta -  0.61  Coherence -  0.5465193473207908\n",
      "Iteration num -  34  Topics -  10  Alpha -  0.01  Beta -  0.91  Coherence -  0.5245726809932225\n",
      "Iteration num -  35  Topics -  10  Alpha -  0.01  Beta -  symmetric  Coherence -  0.5245271895708443\n",
      "Iteration num -  36  Topics -  10  Alpha -  0.31  Beta -  0.01  Coherence -  0.4590045772533246\n",
      "Iteration num -  37  Topics -  10  Alpha -  0.31  Beta -  0.31  Coherence -  0.4992922816639404\n",
      "Iteration num -  38  Topics -  10  Alpha -  0.31  Beta -  0.61  Coherence -  0.5327209229989336\n",
      "Iteration num -  39  Topics -  10  Alpha -  0.31  Beta -  0.91  Coherence -  0.5604927851117923\n",
      "Iteration num -  40  Topics -  10  Alpha -  0.31  Beta -  symmetric  Coherence -  0.4917178589531451\n",
      "Iteration num -  41  Topics -  10  Alpha -  0.61  Beta -  0.01  Coherence -  0.5071814230356457\n",
      "Iteration num -  42  Topics -  10  Alpha -  0.61  Beta -  0.31  Coherence -  0.529953780309944\n",
      "Iteration num -  43  Topics -  10  Alpha -  0.61  Beta -  0.61  Coherence -  0.5648066807617094\n",
      "Iteration num -  44  Topics -  10  Alpha -  0.61  Beta -  0.91  Coherence -  0.5059826739222995\n",
      "Iteration num -  45  Topics -  10  Alpha -  0.61  Beta -  symmetric  Coherence -  0.5161533901870717\n",
      "Iteration num -  46  Topics -  10  Alpha -  0.91  Beta -  0.01  Coherence -  0.5400439066630002\n",
      "Iteration num -  47  Topics -  10  Alpha -  0.91  Beta -  0.31  Coherence -  0.5373597720540957\n",
      "Iteration num -  48  Topics -  10  Alpha -  0.91  Beta -  0.61  Coherence -  0.5746172828048473\n",
      "Iteration num -  49  Topics -  10  Alpha -  0.91  Beta -  0.91  Coherence -  0.4817949572977699\n",
      "Iteration num -  50  Topics -  10  Alpha -  0.91  Beta -  symmetric  Coherence -  0.5262044455235191\n",
      "Iteration num -  51  Topics -  10  Alpha -  symmetric  Beta -  0.01  Coherence -  0.49578075301221486\n",
      "Iteration num -  52  Topics -  10  Alpha -  symmetric  Beta -  0.31  Coherence -  0.5455363288868585\n",
      "Iteration num -  53  Topics -  10  Alpha -  symmetric  Beta -  0.61  Coherence -  0.5333204262865201\n",
      "Iteration num -  54  Topics -  10  Alpha -  symmetric  Beta -  0.91  Coherence -  0.5759400045894201\n",
      "Iteration num -  55  Topics -  10  Alpha -  symmetric  Beta -  symmetric  Coherence -  0.5154329321451825\n",
      "Iteration num -  56  Topics -  10  Alpha -  asymmetric  Beta -  0.01  Coherence -  0.5114272684181921\n",
      "Iteration num -  57  Topics -  10  Alpha -  asymmetric  Beta -  0.31  Coherence -  0.5596140198377058\n",
      "Iteration num -  58  Topics -  10  Alpha -  asymmetric  Beta -  0.61  Coherence -  0.5465201317807745\n",
      "Iteration num -  59  Topics -  10  Alpha -  asymmetric  Beta -  0.91  Coherence -  0.5935432609847603\n",
      "Iteration num -  60  Topics -  10  Alpha -  asymmetric  Beta -  symmetric  Coherence -  0.5680883942675143\n",
      "Iteration num -  61  Topics -  12  Alpha -  0.01  Beta -  0.01  Coherence -  0.5404115583046216\n",
      "Iteration num -  62  Topics -  12  Alpha -  0.01  Beta -  0.31  Coherence -  0.46902034815645904\n",
      "Iteration num -  63  Topics -  12  Alpha -  0.01  Beta -  0.61  Coherence -  0.46470517589624283\n",
      "Iteration num -  64  Topics -  12  Alpha -  0.01  Beta -  0.91  Coherence -  0.4440670553110013\n",
      "Iteration num -  65  Topics -  12  Alpha -  0.01  Beta -  symmetric  Coherence -  0.48412980566419767\n",
      "Iteration num -  66  Topics -  12  Alpha -  0.31  Beta -  0.01  Coherence -  0.46794171266954554\n",
      "Iteration num -  67  Topics -  12  Alpha -  0.31  Beta -  0.31  Coherence -  0.5048948387656974\n",
      "Iteration num -  68  Topics -  12  Alpha -  0.31  Beta -  0.61  Coherence -  0.5012711465208745\n",
      "Iteration num -  69  Topics -  12  Alpha -  0.31  Beta -  0.91  Coherence -  0.4952110418927513\n",
      "Iteration num -  70  Topics -  12  Alpha -  0.31  Beta -  symmetric  Coherence -  0.501799270979952\n",
      "Iteration num -  71  Topics -  12  Alpha -  0.61  Beta -  0.01  Coherence -  0.5118780495929592\n",
      "Iteration num -  72  Topics -  12  Alpha -  0.61  Beta -  0.31  Coherence -  0.545496029519906\n",
      "Iteration num -  73  Topics -  12  Alpha -  0.61  Beta -  0.61  Coherence -  0.517997069340292\n",
      "Iteration num -  74  Topics -  12  Alpha -  0.61  Beta -  0.91  Coherence -  0.5428648492048549\n",
      "Iteration num -  75  Topics -  12  Alpha -  0.61  Beta -  symmetric  Coherence -  0.5342808104854043\n",
      "Iteration num -  76  Topics -  12  Alpha -  0.91  Beta -  0.01  Coherence -  0.5334375403179982\n",
      "Iteration num -  77  Topics -  12  Alpha -  0.91  Beta -  0.31  Coherence -  0.5020654802129477\n",
      "Iteration num -  78  Topics -  12  Alpha -  0.91  Beta -  0.61  Coherence -  0.567675803351594\n",
      "Iteration num -  79  Topics -  12  Alpha -  0.91  Beta -  0.91  Coherence -  0.5309313528884784\n",
      "Iteration num -  80  Topics -  12  Alpha -  0.91  Beta -  symmetric  Coherence -  0.5346996098540481\n",
      "Iteration num -  81  Topics -  12  Alpha -  symmetric  Beta -  0.01  Coherence -  0.48369700102797886\n",
      "Iteration num -  82  Topics -  12  Alpha -  symmetric  Beta -  0.31  Coherence -  0.5025674100395967\n",
      "Iteration num -  83  Topics -  12  Alpha -  symmetric  Beta -  0.61  Coherence -  0.4593128249602494\n",
      "Iteration num -  84  Topics -  12  Alpha -  symmetric  Beta -  0.91  Coherence -  0.46588181180826194\n"
     ]
    },
    {
     "name": "stdout",
     "output_type": "stream",
     "text": [
      "Iteration num -  85  Topics -  12  Alpha -  symmetric  Beta -  symmetric  Coherence -  0.47415326111902756\n",
      "Iteration num -  86  Topics -  12  Alpha -  asymmetric  Beta -  0.01  Coherence -  0.46103625971973416\n",
      "Iteration num -  87  Topics -  12  Alpha -  asymmetric  Beta -  0.31  Coherence -  0.430487104013669\n",
      "Iteration num -  88  Topics -  12  Alpha -  asymmetric  Beta -  0.61  Coherence -  0.48899829653919263\n",
      "Iteration num -  89  Topics -  12  Alpha -  asymmetric  Beta -  0.91  Coherence -  0.5526810594540194\n",
      "Iteration num -  90  Topics -  12  Alpha -  asymmetric  Beta -  symmetric  Coherence -  0.48525147647242983\n",
      "Iteration num -  91  Topics -  14  Alpha -  0.01  Beta -  0.01  Coherence -  0.541164559231316\n",
      "Iteration num -  92  Topics -  14  Alpha -  0.01  Beta -  0.31  Coherence -  0.5339385224636527\n",
      "Iteration num -  93  Topics -  14  Alpha -  0.01  Beta -  0.61  Coherence -  0.4742003485618271\n",
      "Iteration num -  94  Topics -  14  Alpha -  0.01  Beta -  0.91  Coherence -  0.5008500658422611\n",
      "Iteration num -  95  Topics -  14  Alpha -  0.01  Beta -  symmetric  Coherence -  0.536190110334802\n",
      "Iteration num -  96  Topics -  14  Alpha -  0.31  Beta -  0.01  Coherence -  0.5305651243444182\n",
      "Iteration num -  97  Topics -  14  Alpha -  0.31  Beta -  0.31  Coherence -  0.5519614750604598\n",
      "Iteration num -  98  Topics -  14  Alpha -  0.31  Beta -  0.61  Coherence -  0.5534574983327014\n",
      "Iteration num -  99  Topics -  14  Alpha -  0.31  Beta -  0.91  Coherence -  0.5426335292893694\n",
      "Iteration num -  100  Topics -  14  Alpha -  0.31  Beta -  symmetric  Coherence -  0.4761930221140912\n",
      "Iteration num -  101  Topics -  14  Alpha -  0.61  Beta -  0.01  Coherence -  0.5089938514900136\n",
      "Iteration num -  102  Topics -  14  Alpha -  0.61  Beta -  0.31  Coherence -  0.5680709532509878\n",
      "Iteration num -  103  Topics -  14  Alpha -  0.61  Beta -  0.61  Coherence -  0.5434845587209127\n",
      "Iteration num -  104  Topics -  14  Alpha -  0.61  Beta -  0.91  Coherence -  0.5347460269606551\n",
      "Iteration num -  105  Topics -  14  Alpha -  0.61  Beta -  symmetric  Coherence -  0.5176179720219862\n",
      "Iteration num -  106  Topics -  14  Alpha -  0.91  Beta -  0.01  Coherence -  0.4545195881895118\n",
      "Iteration num -  107  Topics -  14  Alpha -  0.91  Beta -  0.31  Coherence -  0.5551608098082154\n",
      "Iteration num -  108  Topics -  14  Alpha -  0.91  Beta -  0.61  Coherence -  0.49399739499375567\n",
      "Iteration num -  109  Topics -  14  Alpha -  0.91  Beta -  0.91  Coherence -  0.508106232606316\n",
      "Iteration num -  110  Topics -  14  Alpha -  0.91  Beta -  symmetric  Coherence -  0.5238959415861293\n",
      "Iteration num -  111  Topics -  14  Alpha -  symmetric  Beta -  0.01  Coherence -  0.5496628105706727\n",
      "Iteration num -  112  Topics -  14  Alpha -  symmetric  Beta -  0.31  Coherence -  0.5239656941440998\n",
      "Iteration num -  113  Topics -  14  Alpha -  symmetric  Beta -  0.61  Coherence -  0.5426103985527918\n",
      "Iteration num -  114  Topics -  14  Alpha -  symmetric  Beta -  0.91  Coherence -  0.48925681186977305\n",
      "Iteration num -  115  Topics -  14  Alpha -  symmetric  Beta -  symmetric  Coherence -  0.5519259617086852\n",
      "Iteration num -  116  Topics -  14  Alpha -  asymmetric  Beta -  0.01  Coherence -  0.5580264933297622\n",
      "Iteration num -  117  Topics -  14  Alpha -  asymmetric  Beta -  0.31  Coherence -  0.5069398245751787\n",
      "Iteration num -  118  Topics -  14  Alpha -  asymmetric  Beta -  0.61  Coherence -  0.4771570985746683\n",
      "Iteration num -  119  Topics -  14  Alpha -  asymmetric  Beta -  0.91  Coherence -  0.5229556176220029\n",
      "Iteration num -  120  Topics -  14  Alpha -  asymmetric  Beta -  symmetric  Coherence -  0.5547861718646478\n",
      "Iteration num -  121  Topics -  16  Alpha -  0.01  Beta -  0.01  Coherence -  0.46718078230231175\n",
      "Iteration num -  122  Topics -  16  Alpha -  0.01  Beta -  0.31  Coherence -  0.500097538692813\n",
      "Iteration num -  123  Topics -  16  Alpha -  0.01  Beta -  0.61  Coherence -  0.4959940887875201\n",
      "Iteration num -  124  Topics -  16  Alpha -  0.01  Beta -  0.91  Coherence -  0.51490794747902\n",
      "Iteration num -  125  Topics -  16  Alpha -  0.01  Beta -  symmetric  Coherence -  0.46007451934583005\n",
      "Iteration num -  126  Topics -  16  Alpha -  0.31  Beta -  0.01  Coherence -  0.4943788382467267\n",
      "Iteration num -  127  Topics -  16  Alpha -  0.31  Beta -  0.31  Coherence -  0.5167270923074123\n",
      "Iteration num -  128  Topics -  16  Alpha -  0.31  Beta -  0.61  Coherence -  0.4809422000682089\n",
      "Iteration num -  129  Topics -  16  Alpha -  0.31  Beta -  0.91  Coherence -  0.5214464548208279\n",
      "Iteration num -  130  Topics -  16  Alpha -  0.31  Beta -  symmetric  Coherence -  0.46499055326515937\n",
      "Iteration num -  131  Topics -  16  Alpha -  0.61  Beta -  0.01  Coherence -  0.5045978843988164\n",
      "Iteration num -  132  Topics -  16  Alpha -  0.61  Beta -  0.31  Coherence -  0.5324633873735571\n",
      "Iteration num -  133  Topics -  16  Alpha -  0.61  Beta -  0.61  Coherence -  0.5272180013593589\n",
      "Iteration num -  134  Topics -  16  Alpha -  0.61  Beta -  0.91  Coherence -  0.5267903120379939\n",
      "Iteration num -  135  Topics -  16  Alpha -  0.61  Beta -  symmetric  Coherence -  0.5068421299059456\n",
      "Iteration num -  136  Topics -  16  Alpha -  0.91  Beta -  0.01  Coherence -  0.529039057838473\n",
      "Iteration num -  137  Topics -  16  Alpha -  0.91  Beta -  0.31  Coherence -  0.5454418874307492\n",
      "Iteration num -  138  Topics -  16  Alpha -  0.91  Beta -  0.61  Coherence -  0.5240909334273693\n",
      "Iteration num -  139  Topics -  16  Alpha -  0.91  Beta -  0.91  Coherence -  0.5262921586907078\n",
      "Iteration num -  140  Topics -  16  Alpha -  0.91  Beta -  symmetric  Coherence -  0.5550645626034381\n",
      "Iteration num -  141  Topics -  16  Alpha -  symmetric  Beta -  0.01  Coherence -  0.43977969384502363\n",
      "Iteration num -  142  Topics -  16  Alpha -  symmetric  Beta -  0.31  Coherence -  0.47497123446577394\n",
      "Iteration num -  143  Topics -  16  Alpha -  symmetric  Beta -  0.61  Coherence -  0.45011463214048264\n",
      "Iteration num -  144  Topics -  16  Alpha -  symmetric  Beta -  0.91  Coherence -  0.5567759050190944\n",
      "Iteration num -  145  Topics -  16  Alpha -  symmetric  Beta -  symmetric  Coherence -  0.5353723721084006\n",
      "Iteration num -  146  Topics -  16  Alpha -  asymmetric  Beta -  0.01  Coherence -  0.5288504460871976\n",
      "Iteration num -  147  Topics -  16  Alpha -  asymmetric  Beta -  0.31  Coherence -  0.4608219933241581\n",
      "Iteration num -  148  Topics -  16  Alpha -  asymmetric  Beta -  0.61  Coherence -  0.48028625608189623\n",
      "Iteration num -  149  Topics -  16  Alpha -  asymmetric  Beta -  0.91  Coherence -  0.5425703044301495\n",
      "Iteration num -  150  Topics -  16  Alpha -  asymmetric  Beta -  symmetric  Coherence -  0.508110397964733\n",
      "Iteration num -  151  Topics -  18  Alpha -  0.01  Beta -  0.01  Coherence -  0.4556849349829529\n",
      "Iteration num -  152  Topics -  18  Alpha -  0.01  Beta -  0.31  Coherence -  0.454342948517544\n",
      "Iteration num -  153  Topics -  18  Alpha -  0.01  Beta -  0.61  Coherence -  0.4900828527758185\n",
      "Iteration num -  154  Topics -  18  Alpha -  0.01  Beta -  0.91  Coherence -  0.5074033135523859\n",
      "Iteration num -  155  Topics -  18  Alpha -  0.01  Beta -  symmetric  Coherence -  0.44361592303729147\n",
      "Iteration num -  156  Topics -  18  Alpha -  0.31  Beta -  0.01  Coherence -  0.4798580687986068\n",
      "Iteration num -  157  Topics -  18  Alpha -  0.31  Beta -  0.31  Coherence -  0.49389048044771017\n",
      "Iteration num -  158  Topics -  18  Alpha -  0.31  Beta -  0.61  Coherence -  0.505792527106792\n",
      "Iteration num -  159  Topics -  18  Alpha -  0.31  Beta -  0.91  Coherence -  0.5173375472721162\n",
      "Iteration num -  160  Topics -  18  Alpha -  0.31  Beta -  symmetric  Coherence -  0.4847965642427131\n",
      "Iteration num -  161  Topics -  18  Alpha -  0.61  Beta -  0.01  Coherence -  0.515434002529572\n",
      "Iteration num -  162  Topics -  18  Alpha -  0.61  Beta -  0.31  Coherence -  0.46930661828705716\n",
      "Iteration num -  163  Topics -  18  Alpha -  0.61  Beta -  0.61  Coherence -  0.5196536823902024\n",
      "Iteration num -  164  Topics -  18  Alpha -  0.61  Beta -  0.91  Coherence -  0.5418295961624082\n",
      "Iteration num -  165  Topics -  18  Alpha -  0.61  Beta -  symmetric  Coherence -  0.5123724012387012\n",
      "Iteration num -  166  Topics -  18  Alpha -  0.91  Beta -  0.01  Coherence -  0.5317084240593726\n",
      "Iteration num -  167  Topics -  18  Alpha -  0.91  Beta -  0.31  Coherence -  0.5390868762683021\n"
     ]
    },
    {
     "name": "stdout",
     "output_type": "stream",
     "text": [
      "Iteration num -  168  Topics -  18  Alpha -  0.91  Beta -  0.61  Coherence -  0.4768109441965799\n",
      "Iteration num -  169  Topics -  18  Alpha -  0.91  Beta -  0.91  Coherence -  0.48149811116754304\n",
      "Iteration num -  170  Topics -  18  Alpha -  0.91  Beta -  symmetric  Coherence -  0.4522001082702374\n",
      "Iteration num -  171  Topics -  18  Alpha -  symmetric  Beta -  0.01  Coherence -  0.47228767163885227\n",
      "Iteration num -  172  Topics -  18  Alpha -  symmetric  Beta -  0.31  Coherence -  0.46241211882857564\n",
      "Iteration num -  173  Topics -  18  Alpha -  symmetric  Beta -  0.61  Coherence -  0.45942647178128954\n",
      "Iteration num -  174  Topics -  18  Alpha -  symmetric  Beta -  0.91  Coherence -  0.47569987022445165\n",
      "Iteration num -  175  Topics -  18  Alpha -  symmetric  Beta -  symmetric  Coherence -  0.48322643273037613\n",
      "Iteration num -  176  Topics -  18  Alpha -  asymmetric  Beta -  0.01  Coherence -  0.47332004816733964\n",
      "Iteration num -  177  Topics -  18  Alpha -  asymmetric  Beta -  0.31  Coherence -  0.4744910722296746\n",
      "Iteration num -  178  Topics -  18  Alpha -  asymmetric  Beta -  0.61  Coherence -  0.49418127793398153\n",
      "Iteration num -  179  Topics -  18  Alpha -  asymmetric  Beta -  0.91  Coherence -  0.46512748119947567\n",
      "Iteration num -  180  Topics -  18  Alpha -  asymmetric  Beta -  symmetric  Coherence -  0.4783231452107802\n",
      "Iteration num -  181  Topics -  20  Alpha -  0.01  Beta -  0.01  Coherence -  0.5119362899290156\n",
      "Iteration num -  182  Topics -  20  Alpha -  0.01  Beta -  0.31  Coherence -  0.5013238987628097\n",
      "Iteration num -  183  Topics -  20  Alpha -  0.01  Beta -  0.61  Coherence -  0.5182914235252654\n",
      "Iteration num -  184  Topics -  20  Alpha -  0.01  Beta -  0.91  Coherence -  0.49996836372698183\n",
      "Iteration num -  185  Topics -  20  Alpha -  0.01  Beta -  symmetric  Coherence -  0.4592962287993573\n",
      "Iteration num -  186  Topics -  20  Alpha -  0.31  Beta -  0.01  Coherence -  0.5197505610391386\n",
      "Iteration num -  187  Topics -  20  Alpha -  0.31  Beta -  0.31  Coherence -  0.47173106063076\n",
      "Iteration num -  188  Topics -  20  Alpha -  0.31  Beta -  0.61  Coherence -  0.49023823214071427\n",
      "Iteration num -  189  Topics -  20  Alpha -  0.31  Beta -  0.91  Coherence -  0.5291843259456617\n",
      "Iteration num -  190  Topics -  20  Alpha -  0.31  Beta -  symmetric  Coherence -  0.5155871227004616\n",
      "Iteration num -  191  Topics -  20  Alpha -  0.61  Beta -  0.01  Coherence -  0.4839220329619803\n",
      "Iteration num -  192  Topics -  20  Alpha -  0.61  Beta -  0.31  Coherence -  0.48210983294909326\n",
      "Iteration num -  193  Topics -  20  Alpha -  0.61  Beta -  0.61  Coherence -  0.5160252006547774\n",
      "Iteration num -  194  Topics -  20  Alpha -  0.61  Beta -  0.91  Coherence -  0.48150075803664993\n",
      "Iteration num -  195  Topics -  20  Alpha -  0.61  Beta -  symmetric  Coherence -  0.5106151458013191\n",
      "Iteration num -  196  Topics -  20  Alpha -  0.91  Beta -  0.01  Coherence -  0.5243866069713896\n",
      "Iteration num -  197  Topics -  20  Alpha -  0.91  Beta -  0.31  Coherence -  0.520967368029299\n",
      "Iteration num -  198  Topics -  20  Alpha -  0.91  Beta -  0.61  Coherence -  0.45746986663983524\n",
      "Iteration num -  199  Topics -  20  Alpha -  0.91  Beta -  0.91  Coherence -  0.4918037378070904\n",
      "Iteration num -  200  Topics -  20  Alpha -  0.91  Beta -  symmetric  Coherence -  0.45679181186027124\n",
      "Iteration num -  201  Topics -  20  Alpha -  symmetric  Beta -  0.01  Coherence -  0.49535590284231523\n",
      "Iteration num -  202  Topics -  20  Alpha -  symmetric  Beta -  0.31  Coherence -  0.545227230696542\n",
      "Iteration num -  203  Topics -  20  Alpha -  symmetric  Beta -  0.61  Coherence -  0.4512571948127416\n",
      "Iteration num -  204  Topics -  20  Alpha -  symmetric  Beta -  0.91  Coherence -  0.4978515445348732\n",
      "Iteration num -  205  Topics -  20  Alpha -  symmetric  Beta -  symmetric  Coherence -  0.5070191453042873\n",
      "Iteration num -  206  Topics -  20  Alpha -  asymmetric  Beta -  0.01  Coherence -  0.5100260701999021\n",
      "Iteration num -  207  Topics -  20  Alpha -  asymmetric  Beta -  0.31  Coherence -  0.462806486661666\n",
      "Iteration num -  208  Topics -  20  Alpha -  asymmetric  Beta -  0.61  Coherence -  0.5073556937812895\n",
      "Iteration num -  209  Topics -  20  Alpha -  asymmetric  Beta -  0.91  Coherence -  0.4680521961875249\n",
      "Iteration num -  210  Topics -  20  Alpha -  asymmetric  Beta -  symmetric  Coherence -  0.4716480549742193\n",
      "Iteration num -  211  Topics -  22  Alpha -  0.01  Beta -  0.01  Coherence -  0.5320976483989704\n",
      "Iteration num -  212  Topics -  22  Alpha -  0.01  Beta -  0.31  Coherence -  0.5163557167954927\n",
      "Iteration num -  213  Topics -  22  Alpha -  0.01  Beta -  0.61  Coherence -  0.5017073728875295\n",
      "Iteration num -  214  Topics -  22  Alpha -  0.01  Beta -  0.91  Coherence -  0.5045311473692933\n",
      "Iteration num -  215  Topics -  22  Alpha -  0.01  Beta -  symmetric  Coherence -  0.5576698985888009\n",
      "Iteration num -  216  Topics -  22  Alpha -  0.31  Beta -  0.01  Coherence -  0.5334994980729583\n",
      "Iteration num -  217  Topics -  22  Alpha -  0.31  Beta -  0.31  Coherence -  0.5316988475955533\n",
      "Iteration num -  218  Topics -  22  Alpha -  0.31  Beta -  0.61  Coherence -  0.5306337801615116\n",
      "Iteration num -  219  Topics -  22  Alpha -  0.31  Beta -  0.91  Coherence -  0.5190532536534328\n",
      "Iteration num -  220  Topics -  22  Alpha -  0.31  Beta -  symmetric  Coherence -  0.5451202722531564\n",
      "Iteration num -  221  Topics -  22  Alpha -  0.61  Beta -  0.01  Coherence -  0.5151678024561375\n",
      "Iteration num -  222  Topics -  22  Alpha -  0.61  Beta -  0.31  Coherence -  0.523347361266289\n",
      "Iteration num -  223  Topics -  22  Alpha -  0.61  Beta -  0.61  Coherence -  0.5255096176110142\n",
      "Iteration num -  224  Topics -  22  Alpha -  0.61  Beta -  0.91  Coherence -  0.49718410656854206\n",
      "Iteration num -  225  Topics -  22  Alpha -  0.61  Beta -  symmetric  Coherence -  0.5261432779826689\n",
      "Iteration num -  226  Topics -  22  Alpha -  0.91  Beta -  0.01  Coherence -  0.5275355731579787\n",
      "Iteration num -  227  Topics -  22  Alpha -  0.91  Beta -  0.31  Coherence -  0.5141924176062823\n",
      "Iteration num -  228  Topics -  22  Alpha -  0.91  Beta -  0.61  Coherence -  0.48240610129587563\n",
      "Iteration num -  229  Topics -  22  Alpha -  0.91  Beta -  0.91  Coherence -  0.4343969442580884\n",
      "Iteration num -  230  Topics -  22  Alpha -  0.91  Beta -  symmetric  Coherence -  0.4668184038946947\n",
      "Iteration num -  231  Topics -  22  Alpha -  symmetric  Beta -  0.01  Coherence -  0.56035434609492\n",
      "Iteration num -  232  Topics -  22  Alpha -  symmetric  Beta -  0.31  Coherence -  0.5278923785784131\n",
      "Iteration num -  233  Topics -  22  Alpha -  symmetric  Beta -  0.61  Coherence -  0.499997063170237\n",
      "Iteration num -  234  Topics -  22  Alpha -  symmetric  Beta -  0.91  Coherence -  0.5045607172118727\n",
      "Iteration num -  235  Topics -  22  Alpha -  symmetric  Beta -  symmetric  Coherence -  0.5208341622727944\n",
      "Iteration num -  236  Topics -  22  Alpha -  asymmetric  Beta -  0.01  Coherence -  0.5220036562252195\n",
      "Iteration num -  237  Topics -  22  Alpha -  asymmetric  Beta -  0.31  Coherence -  0.48582755505922415\n",
      "Iteration num -  238  Topics -  22  Alpha -  asymmetric  Beta -  0.61  Coherence -  0.4830152573638778\n",
      "Iteration num -  239  Topics -  22  Alpha -  asymmetric  Beta -  0.91  Coherence -  0.5064314230115979\n",
      "Iteration num -  240  Topics -  22  Alpha -  asymmetric  Beta -  symmetric  Coherence -  0.5063481872390528\n",
      "Iteration num -  241  Topics -  24  Alpha -  0.01  Beta -  0.01  Coherence -  0.5032083399362882\n",
      "Iteration num -  242  Topics -  24  Alpha -  0.01  Beta -  0.31  Coherence -  0.4765060895976272\n",
      "Iteration num -  243  Topics -  24  Alpha -  0.01  Beta -  0.61  Coherence -  0.48451272882406643\n",
      "Iteration num -  244  Topics -  24  Alpha -  0.01  Beta -  0.91  Coherence -  0.4872214835105195\n",
      "Iteration num -  245  Topics -  24  Alpha -  0.01  Beta -  symmetric  Coherence -  0.47465716890126863\n",
      "Iteration num -  246  Topics -  24  Alpha -  0.31  Beta -  0.01  Coherence -  0.4958893545357476\n",
      "Iteration num -  247  Topics -  24  Alpha -  0.31  Beta -  0.31  Coherence -  0.5298106457986943\n",
      "Iteration num -  248  Topics -  24  Alpha -  0.31  Beta -  0.61  Coherence -  0.49681249546798995\n",
      "Iteration num -  249  Topics -  24  Alpha -  0.31  Beta -  0.91  Coherence -  0.5116244131322789\n"
     ]
    },
    {
     "name": "stdout",
     "output_type": "stream",
     "text": [
      "Iteration num -  250  Topics -  24  Alpha -  0.31  Beta -  symmetric  Coherence -  0.4947573534545377\n",
      "Iteration num -  251  Topics -  24  Alpha -  0.61  Beta -  0.01  Coherence -  0.49056022754790085\n",
      "Iteration num -  252  Topics -  24  Alpha -  0.61  Beta -  0.31  Coherence -  0.4985971395133822\n",
      "Iteration num -  253  Topics -  24  Alpha -  0.61  Beta -  0.61  Coherence -  0.4886612009432298\n",
      "Iteration num -  254  Topics -  24  Alpha -  0.61  Beta -  0.91  Coherence -  0.5195773834151401\n",
      "Iteration num -  255  Topics -  24  Alpha -  0.61  Beta -  symmetric  Coherence -  0.5155741875161631\n",
      "Iteration num -  256  Topics -  24  Alpha -  0.91  Beta -  0.01  Coherence -  0.4925893309991114\n",
      "Iteration num -  257  Topics -  24  Alpha -  0.91  Beta -  0.31  Coherence -  0.4984868959103161\n",
      "Iteration num -  258  Topics -  24  Alpha -  0.91  Beta -  0.61  Coherence -  0.45434738878632713\n",
      "Iteration num -  259  Topics -  24  Alpha -  0.91  Beta -  0.91  Coherence -  0.44821691692194515\n",
      "Iteration num -  260  Topics -  24  Alpha -  0.91  Beta -  symmetric  Coherence -  0.5034986427265821\n",
      "Iteration num -  261  Topics -  24  Alpha -  symmetric  Beta -  0.01  Coherence -  0.48877748719497377\n",
      "Iteration num -  262  Topics -  24  Alpha -  symmetric  Beta -  0.31  Coherence -  0.47709544673415705\n",
      "Iteration num -  263  Topics -  24  Alpha -  symmetric  Beta -  0.61  Coherence -  0.4886337465740172\n",
      "Iteration num -  264  Topics -  24  Alpha -  symmetric  Beta -  0.91  Coherence -  0.5218341036596635\n",
      "Iteration num -  265  Topics -  24  Alpha -  symmetric  Beta -  symmetric  Coherence -  0.46127893645332224\n",
      "Iteration num -  266  Topics -  24  Alpha -  asymmetric  Beta -  0.01  Coherence -  0.5248524516299881\n",
      "Iteration num -  267  Topics -  24  Alpha -  asymmetric  Beta -  0.31  Coherence -  0.49305726861942584\n",
      "Iteration num -  268  Topics -  24  Alpha -  asymmetric  Beta -  0.61  Coherence -  0.4937612488093575\n",
      "Iteration num -  269  Topics -  24  Alpha -  asymmetric  Beta -  0.91  Coherence -  0.4652263651323653\n",
      "Iteration num -  270  Topics -  24  Alpha -  asymmetric  Beta -  symmetric  Coherence -  0.48615488337729484\n"
     ]
    }
   ],
   "source": [
    "# LDA model and its corresponding Coherence Score\n",
    "def compute_coherence_values(bow_corpus, id2word, n, a, b):\n",
    "    lda_model = gensim.models.LdaMulticore(corpus=bow_corpus\n",
    "                                           ,id2word=id2word\n",
    "                                           ,num_topics=n\n",
    "                                           ,random_state=random_state\n",
    "                                           ,chunksize=chunksize\n",
    "                                           ,passes=10\n",
    "                                           ,alpha=a\n",
    "                                           ,eta=b)\n",
    "    coherence_model_lda = CoherenceModel(model=lda_model, texts=data_words, dictionary=id2word, coherence='c_v')\n",
    "    return coherence_model_lda.get_coherence()\n",
    "\n",
    "grid = {}\n",
    "grid['Validation_Set'] = {}\n",
    "\n",
    "# Topics range\n",
    "min_topics = 8\n",
    "max_topics = 25\n",
    "step_size = 2\n",
    "topics_range = range(min_topics, max_topics, step_size)\n",
    "\n",
    "# Alpha parameter\n",
    "alpha = [0.01, 0.31, 0.61, 0.91, 'symmetric', 'asymmetric']\n",
    "\n",
    "# Beta parameter\n",
    "beta = [0.01, 0.31, 0.61, 0.91, 'symmetric']\n",
    "\n",
    "model_results = {'Topics': []\n",
    "                 ,'Alpha': []\n",
    "                 ,'Beta': []\n",
    "                 ,'Coherence': []\n",
    "                }\n",
    "\n",
    "# iterate through number of topics\n",
    "iter = 0\n",
    "for k in topics_range:\n",
    "    # iterate through alpha values\n",
    "    for a in alpha:\n",
    "        # iterare through beta values\n",
    "        for b in beta:\n",
    "            iter += 1\n",
    "            # get the coherence score for the given parameters\n",
    "            cv = compute_coherence_values(bow_corpus=corpus\n",
    "                                          ,id2word=id2word\n",
    "                                          ,n=k\n",
    "                                          ,a=a\n",
    "                                          ,b=b)\n",
    "            # Save the model results\n",
    "            model_results['Topics'].append(k)\n",
    "            model_results['Alpha'].append(a)\n",
    "            model_results['Beta'].append(b)\n",
    "            model_results['Coherence'].append(cv)\n",
    "            print('Iteration num - ', iter, ' Topics - ', k, ' Alpha - ', a, ' Beta - ', b, ' Coherence - ', cv)\n",
    "\n",
    "pd.DataFrame(model_results).to_csv(file_model + '_lda_tuning_results.csv', index=False)"
   ]
  },
  {
   "cell_type": "code",
   "execution_count": 14,
   "metadata": {},
   "outputs": [
    {
     "name": "stderr",
     "output_type": "stream",
     "text": [
      "C:\\Users\\minio\\anaconda3\\envs\\tfm-py-37\\lib\\site-packages\\ipykernel\\ipkernel.py:287: DeprecationWarning: `should_run_async` will not call `transform_cell` automatically in the future. Please pass the result to `transformed_cell` argument and any exception that happen during thetransform in `preprocessing_exc_tuple` in IPython 7.17 and above.\n",
      "  and should_run_async(code)\n"
     ]
    },
    {
     "data": {
      "text/html": [
       "<div>\n",
       "<style scoped>\n",
       "    .dataframe tbody tr th:only-of-type {\n",
       "        vertical-align: middle;\n",
       "    }\n",
       "\n",
       "    .dataframe tbody tr th {\n",
       "        vertical-align: top;\n",
       "    }\n",
       "\n",
       "    .dataframe thead th {\n",
       "        text-align: right;\n",
       "    }\n",
       "</style>\n",
       "<table border=\"1\" class=\"dataframe\">\n",
       "  <thead>\n",
       "    <tr style=\"text-align: right;\">\n",
       "      <th></th>\n",
       "      <th>Topics</th>\n",
       "      <th>Alpha</th>\n",
       "      <th>Beta</th>\n",
       "      <th>Coherence</th>\n",
       "    </tr>\n",
       "  </thead>\n",
       "  <tbody>\n",
       "    <tr>\n",
       "      <th>58</th>\n",
       "      <td>10</td>\n",
       "      <td>asymmetric</td>\n",
       "      <td>0.91</td>\n",
       "      <td>0.593543</td>\n",
       "    </tr>\n",
       "    <tr>\n",
       "      <th>22</th>\n",
       "      <td>8</td>\n",
       "      <td>symmetric</td>\n",
       "      <td>0.61</td>\n",
       "      <td>0.579474</td>\n",
       "    </tr>\n",
       "    <tr>\n",
       "      <th>53</th>\n",
       "      <td>10</td>\n",
       "      <td>symmetric</td>\n",
       "      <td>0.91</td>\n",
       "      <td>0.575940</td>\n",
       "    </tr>\n",
       "    <tr>\n",
       "      <th>47</th>\n",
       "      <td>10</td>\n",
       "      <td>0.91</td>\n",
       "      <td>0.61</td>\n",
       "      <td>0.574617</td>\n",
       "    </tr>\n",
       "    <tr>\n",
       "      <th>31</th>\n",
       "      <td>10</td>\n",
       "      <td>0.01</td>\n",
       "      <td>0.31</td>\n",
       "      <td>0.572869</td>\n",
       "    </tr>\n",
       "    <tr>\n",
       "      <th>...</th>\n",
       "      <td>...</td>\n",
       "      <td>...</td>\n",
       "      <td>...</td>\n",
       "      <td>...</td>\n",
       "    </tr>\n",
       "    <tr>\n",
       "      <th>140</th>\n",
       "      <td>16</td>\n",
       "      <td>symmetric</td>\n",
       "      <td>0.01</td>\n",
       "      <td>0.439780</td>\n",
       "    </tr>\n",
       "    <tr>\n",
       "      <th>20</th>\n",
       "      <td>8</td>\n",
       "      <td>symmetric</td>\n",
       "      <td>0.01</td>\n",
       "      <td>0.435492</td>\n",
       "    </tr>\n",
       "    <tr>\n",
       "      <th>228</th>\n",
       "      <td>22</td>\n",
       "      <td>0.91</td>\n",
       "      <td>0.91</td>\n",
       "      <td>0.434397</td>\n",
       "    </tr>\n",
       "    <tr>\n",
       "      <th>0</th>\n",
       "      <td>8</td>\n",
       "      <td>0.01</td>\n",
       "      <td>0.01</td>\n",
       "      <td>0.431871</td>\n",
       "    </tr>\n",
       "    <tr>\n",
       "      <th>86</th>\n",
       "      <td>12</td>\n",
       "      <td>asymmetric</td>\n",
       "      <td>0.31</td>\n",
       "      <td>0.430487</td>\n",
       "    </tr>\n",
       "  </tbody>\n",
       "</table>\n",
       "<p>270 rows × 4 columns</p>\n",
       "</div>"
      ],
      "text/plain": [
       "     Topics       Alpha  Beta  Coherence\n",
       "58       10  asymmetric  0.91   0.593543\n",
       "22        8   symmetric  0.61   0.579474\n",
       "53       10   symmetric  0.91   0.575940\n",
       "47       10        0.91  0.61   0.574617\n",
       "31       10        0.01  0.31   0.572869\n",
       "..      ...         ...   ...        ...\n",
       "140      16   symmetric  0.01   0.439780\n",
       "20        8   symmetric  0.01   0.435492\n",
       "228      22        0.91  0.91   0.434397\n",
       "0         8        0.01  0.01   0.431871\n",
       "86       12  asymmetric  0.31   0.430487\n",
       "\n",
       "[270 rows x 4 columns]"
      ]
     },
     "execution_count": 14,
     "metadata": {},
     "output_type": "execute_result"
    }
   ],
   "source": [
    "pd.DataFrame(model_results).sort_values(by=['Coherence'], ascending=False)"
   ]
  },
  {
   "cell_type": "code",
   "execution_count": null,
   "metadata": {},
   "outputs": [],
   "source": []
  }
 ],
 "metadata": {
  "kernelspec": {
   "display_name": "Python 3",
   "language": "python",
   "name": "python3"
  },
  "language_info": {
   "codemirror_mode": {
    "name": "ipython",
    "version": 3
   },
   "file_extension": ".py",
   "mimetype": "text/x-python",
   "name": "python",
   "nbconvert_exporter": "python",
   "pygments_lexer": "ipython3",
   "version": "3.7.9"
  }
 },
 "nbformat": 4,
 "nbformat_minor": 4
}
