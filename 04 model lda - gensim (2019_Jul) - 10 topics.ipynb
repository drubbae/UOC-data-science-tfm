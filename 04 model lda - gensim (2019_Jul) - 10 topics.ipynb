{
 "cells": [
  {
   "cell_type": "markdown",
   "metadata": {},
   "source": [
    "# <span style=\"color:blue\">LDA model (2019_Jul) - 10 topics</span>"
   ]
  },
  {
   "cell_type": "code",
   "execution_count": 1,
   "metadata": {},
   "outputs": [],
   "source": [
    "yyyy_MMM = '2019_Jul'"
   ]
  },
  {
   "cell_type": "markdown",
   "metadata": {},
   "source": [
    "### Load packages"
   ]
  },
  {
   "cell_type": "code",
   "execution_count": 2,
   "metadata": {},
   "outputs": [
    {
     "name": "stderr",
     "output_type": "stream",
     "text": [
      "C:\\Users\\minio\\anaconda3\\envs\\tfm-py-37\\lib\\site-packages\\botocore\\vendored\\requests\\packages\\urllib3\\_collections.py:1: DeprecationWarning: Using or importing the ABCs from 'collections' instead of from 'collections.abc' is deprecated since Python 3.3,and in 3.9 it will stop working\n",
      "  from collections import Mapping, MutableMapping\n",
      "C:\\Users\\minio\\anaconda3\\envs\\tfm-py-37\\lib\\site-packages\\botocore\\vendored\\requests\\packages\\urllib3\\_collections.py:1: DeprecationWarning: Using or importing the ABCs from 'collections' instead of from 'collections.abc' is deprecated since Python 3.3,and in 3.9 it will stop working\n",
      "  from collections import Mapping, MutableMapping\n",
      "C:\\Users\\minio\\anaconda3\\envs\\tfm-py-37\\lib\\site-packages\\scipy\\sparse\\sparsetools.py:21: DeprecationWarning: `scipy.sparse.sparsetools` is deprecated!\n",
      "scipy.sparse.sparsetools is a private module for scipy.sparse, and should not be used.\n",
      "  _deprecated()\n",
      "C:\\Users\\minio\\anaconda3\\envs\\tfm-py-37\\lib\\site-packages\\gensim\\models\\doc2vec.py:73: DeprecationWarning: Using or importing the ABCs from 'collections' instead of from 'collections.abc' is deprecated since Python 3.3,and in 3.9 it will stop working\n",
      "  from collections import namedtuple, defaultdict, Iterable\n",
      "[nltk_data] Downloading package stopwords to\n",
      "[nltk_data]     C:\\Users\\minio\\AppData\\Roaming\\nltk_data...\n",
      "[nltk_data]   Package stopwords is already up-to-date!\n",
      "[nltk_data] Downloading package averaged_perceptron_tagger to\n",
      "[nltk_data]     C:\\Users\\minio\\AppData\\Roaming\\nltk_data...\n",
      "[nltk_data]   Package averaged_perceptron_tagger is already up-to-\n",
      "[nltk_data]       date!\n"
     ]
    },
    {
     "data": {
      "text/plain": [
       "True"
      ]
     },
     "execution_count": 2,
     "metadata": {},
     "output_type": "execute_result"
    }
   ],
   "source": [
    "import csv, os, re, time\n",
    "import numpy as np\n",
    "from numpy import savetxt\n",
    "import pandas as  pd\n",
    "import matplotlib.pyplot as plt  \n",
    "import pyLDAvis\n",
    "import pyLDAvis.gensim\n",
    "import gensim\n",
    "import gensim.corpora as corpora\n",
    "from gensim.corpora.dictionary import Dictionary\n",
    "from gensim.models import CoherenceModel\n",
    "from gensim.test.utils import datapath\n",
    "from gensim.utils import simple_preprocess\n",
    "from pprint import pprint\n",
    "import nltk\n",
    "nltk.download('stopwords')\n",
    "nltk.download('averaged_perceptron_tagger')"
   ]
  },
  {
   "cell_type": "markdown",
   "metadata": {},
   "source": [
    "### Constants"
   ]
  },
  {
   "cell_type": "code",
   "execution_count": 3,
   "metadata": {},
   "outputs": [
    {
     "name": "stdout",
     "output_type": "stream",
     "text": [
      "D:\\master\\data science\\semestre 4\\M2.979 - tfm\\data\\bins\\doc\\2019_Jul\\2019_Jul_28_results.csv\n",
      "D:\\master\\data science\\semestre 4\\M2.979 - tfm\\data\\bins\\model\\2019_Jul\\model\n"
     ]
    },
    {
     "name": "stderr",
     "output_type": "stream",
     "text": [
      "C:\\Users\\minio\\anaconda3\\envs\\tfm-py-37\\lib\\site-packages\\ipykernel\\ipkernel.py:287: DeprecationWarning: `should_run_async` will not call `transform_cell` automatically in the future. Please pass the result to `transformed_cell` argument and any exception that happen during thetransform in `preprocessing_exc_tuple` in IPython 7.17 and above.\n",
      "  and should_run_async(code)\n"
     ]
    }
   ],
   "source": [
    "# for reproducible results\n",
    "random_state = 33\n",
    "# if the test is True, the process runs on a smaller subset of raw data (json files)\n",
    "test = False\n",
    "# if sample > 0, then we take a sample of the entire dataset (for debugging purpose)\n",
    "sample = 0\n",
    "# parameters to build the lda model\n",
    "num_topics = 10\n",
    "\n",
    "if test:\n",
    "    # path with the documents preprocessed\n",
    "    path_doc = r'D:\\master\\data science\\semestre 4\\M2.979 - tfm\\data\\bins_test\\doc'\n",
    "    # path where store all data/results related to the model\n",
    "    path_model = r'D:\\master\\data science\\semestre 4\\M2.979 - tfm\\data\\bins_test\\model'\n",
    "    # chunksize to build LDA model\n",
    "    chunksize = 250\n",
    "else:\n",
    "    # path with the documents preprocessed\n",
    "    path_doc = r'D:\\master\\data science\\semestre 4\\M2.979 - tfm\\data\\bins\\doc'\n",
    "    # path where store all data/results related to the model\n",
    "    path_model = r'D:\\master\\data science\\semestre 4\\M2.979 - tfm\\data\\bins\\model'\n",
    "    # chunksize to build LDA model\n",
    "    chunksize = 5000\n",
    "\n",
    "# path + name of the file that contains the documents preprocessed\n",
    "file_doc = os.path.join(path_doc, yyyy_MMM, yyyy_MMM) + '_28_results.csv'\n",
    "# path + name of the file that contains the model gotten at the end\n",
    "file_model = os.path.join(path_model, yyyy_MMM, 'model')\n",
    "print(file_doc)\n",
    "print(file_model)"
   ]
  },
  {
   "cell_type": "markdown",
   "metadata": {},
   "source": [
    "### Load data preprocessed"
   ]
  },
  {
   "cell_type": "code",
   "execution_count": 4,
   "metadata": {},
   "outputs": [
    {
     "name": "stderr",
     "output_type": "stream",
     "text": [
      "C:\\Users\\minio\\anaconda3\\envs\\tfm-py-37\\lib\\site-packages\\ipykernel\\ipkernel.py:287: DeprecationWarning: `should_run_async` will not call `transform_cell` automatically in the future. Please pass the result to `transformed_cell` argument and any exception that happen during thetransform in `preprocessing_exc_tuple` in IPython 7.17 and above.\n",
      "  and should_run_async(code)\n"
     ]
    },
    {
     "data": {
      "text/plain": [
       "id_doc\n",
       "2992803                  ['guy', 'wearable', 'easy', 'glam']\n",
       "2143002    ['pinup', 'star', 'campaign', 'star', 'embo', ...\n",
       "1615371    ['black', 'tape', 'project', 'heart', 'fashion...\n",
       "3058562                            ['relax', 'time', 'year']\n",
       "1877952    ['peak', 'find', 'strange', 'access', 'window'...\n",
       "3098408                             ['urban', 'exploration']\n",
       "1781157    ['souvenir', 'damn', 'tait', 'choc', 'total', ...\n",
       "2922762    ['beautiful', 'surprise', 'discover', 'beautif...\n",
       "2534014    ['morning', 'walk', 'stone', 'cherish', 'momen...\n",
       "2235780    ['rare', 'kimono', 'snap', 'constant', 'rain',...\n",
       "Name: content_preprocessed, dtype: object"
      ]
     },
     "execution_count": 4,
     "metadata": {},
     "output_type": "execute_result"
    }
   ],
   "source": [
    "df = pd.read_csv(file_doc, index_col='id_doc')\n",
    "documents = df.content_preprocessed\n",
    "documents.head(10)"
   ]
  },
  {
   "cell_type": "markdown",
   "metadata": {},
   "source": [
    "### Shuffle"
   ]
  },
  {
   "cell_type": "code",
   "execution_count": 5,
   "metadata": {},
   "outputs": [
    {
     "name": "stderr",
     "output_type": "stream",
     "text": [
      "C:\\Users\\minio\\anaconda3\\envs\\tfm-py-37\\lib\\site-packages\\ipykernel\\ipkernel.py:287: DeprecationWarning: `should_run_async` will not call `transform_cell` automatically in the future. Please pass the result to `transformed_cell` argument and any exception that happen during thetransform in `preprocessing_exc_tuple` in IPython 7.17 and above.\n",
      "  and should_run_async(code)\n"
     ]
    },
    {
     "data": {
      "text/plain": [
       "id_doc\n",
       "2020349    ['moment', 'moment', 'detail', 'moment', 'brid...\n",
       "2072327    ['pause', 'converse', 'fashion', 'style', 'sty...\n",
       "2031394    ['today', 'cute', 'kid', 'yoga', 'party', 'bru...\n",
       "3030792                                    ['bijou', 'kumi']\n",
       "1833599    ['bueno', 'nadie', 'perfecto', 'sugar', 'bottl...\n",
       "2055726    ['sanchez', 'sensation', 'jose', 'vargas', 'st...\n",
       "3234970    ['love', 'love', 'love', 'love', 'hair', 'grip...\n",
       "2638311    ['flower', 'avec', 'tail', 'accumulation', 'br...\n",
       "2701096    ['great', 'presentation', 'louboutin', 'case',...\n",
       "1840582    ['puff', 'properly', 'review', 'inhaler', 'tec...\n",
       "Name: content_preprocessed, dtype: object"
      ]
     },
     "execution_count": 5,
     "metadata": {},
     "output_type": "execute_result"
    }
   ],
   "source": [
    "documents = documents.sample(frac=1, random_state=random_state)\n",
    "documents.head(10)"
   ]
  },
  {
   "cell_type": "markdown",
   "metadata": {},
   "source": [
    "### Sample"
   ]
  },
  {
   "cell_type": "code",
   "execution_count": 6,
   "metadata": {},
   "outputs": [
    {
     "name": "stderr",
     "output_type": "stream",
     "text": [
      "C:\\Users\\minio\\anaconda3\\envs\\tfm-py-37\\lib\\site-packages\\ipykernel\\ipkernel.py:287: DeprecationWarning: `should_run_async` will not call `transform_cell` automatically in the future. Please pass the result to `transformed_cell` argument and any exception that happen during thetransform in `preprocessing_exc_tuple` in IPython 7.17 and above.\n",
      "  and should_run_async(code)\n"
     ]
    }
   ],
   "source": [
    "if sample > 0:\n",
    "    documents = documents.sample(n=sample, random_state=random_state)\n",
    "    print(documents.head(10))"
   ]
  },
  {
   "cell_type": "markdown",
   "metadata": {},
   "source": [
    "### Plot the number of words appearing in each document  \n",
    "\n",
    "https://neptune.ai/blog/exploratory-data-analysis-natural-language-processing-tools"
   ]
  },
  {
   "cell_type": "code",
   "execution_count": 7,
   "metadata": {},
   "outputs": [
    {
     "name": "stderr",
     "output_type": "stream",
     "text": [
      "C:\\Users\\minio\\anaconda3\\envs\\tfm-py-37\\lib\\site-packages\\ipykernel\\ipkernel.py:287: DeprecationWarning: `should_run_async` will not call `transform_cell` automatically in the future. Please pass the result to `transformed_cell` argument and any exception that happen during thetransform in `preprocessing_exc_tuple` in IPython 7.17 and above.\n",
      "  and should_run_async(code)\n"
     ]
    },
    {
     "name": "stdout",
     "output_type": "stream",
     "text": [
      "(88140,)\n"
     ]
    },
    {
     "data": {
      "text/plain": [
       "<AxesSubplot:>"
      ]
     },
     "execution_count": 7,
     "metadata": {},
     "output_type": "execute_result"
    },
    {
     "data": {
      "image/png": "[encoded data removed]",
      "text/plain": [
       "<Figure size 432x288 with 1 Axes>"
      ]
     },
     "metadata": {
      "needs_background": "light"
     },
     "output_type": "display_data"
    }
   ],
   "source": [
    "print(documents.shape)\n",
    "\n",
    "documents.str.split().\\\n",
    "    map(lambda x: len(x)).\\\n",
    "    hist()"
   ]
  },
  {
   "cell_type": "markdown",
   "metadata": {},
   "source": [
    "### Remove words that appear only once"
   ]
  },
  {
   "cell_type": "code",
   "execution_count": 8,
   "metadata": {},
   "outputs": [
    {
     "name": "stderr",
     "output_type": "stream",
     "text": [
      "C:\\Users\\minio\\anaconda3\\envs\\tfm-py-37\\lib\\site-packages\\ipykernel\\ipkernel.py:287: DeprecationWarning: `should_run_async` will not call `transform_cell` automatically in the future. Please pass the result to `transformed_cell` argument and any exception that happen during thetransform in `preprocessing_exc_tuple` in IPython 7.17 and above.\n",
      "  and should_run_async(code)\n"
     ]
    }
   ],
   "source": [
    "####################### PENDING"
   ]
  },
  {
   "cell_type": "markdown",
   "metadata": {},
   "source": [
    "### Tokenize words and Clean-up text"
   ]
  },
  {
   "cell_type": "code",
   "execution_count": 9,
   "metadata": {},
   "outputs": [
    {
     "name": "stderr",
     "output_type": "stream",
     "text": [
      "C:\\Users\\minio\\anaconda3\\envs\\tfm-py-37\\lib\\site-packages\\ipykernel\\ipkernel.py:287: DeprecationWarning: `should_run_async` will not call `transform_cell` automatically in the future. Please pass the result to `transformed_cell` argument and any exception that happen during thetransform in `preprocessing_exc_tuple` in IPython 7.17 and above.\n",
      "  and should_run_async(code)\n"
     ]
    }
   ],
   "source": [
    "# https://www.machinelearningplus.com/nlp/topic-modeling-gensim-python/#3importpackages\n",
    "def sent_to_words(sentences):\n",
    "    for sentence in sentences:\n",
    "        yield(gensim.utils.simple_preprocess(str(sentence), deacc=True))  # deacc=True removes punctuations"
   ]
  },
  {
   "cell_type": "markdown",
   "metadata": {},
   "source": [
    "### Compute bigrams & trigrams  \n",
    "\n",
    "https://radimrehurek.com/gensim/auto_examples/tutorials/run_lda.html#pre-process-and-vectorize-the-documents"
   ]
  },
  {
   "cell_type": "code",
   "execution_count": 10,
   "metadata": {},
   "outputs": [
    {
     "name": "stderr",
     "output_type": "stream",
     "text": [
      "C:\\Users\\minio\\anaconda3\\envs\\tfm-py-37\\lib\\site-packages\\ipykernel\\ipkernel.py:287: DeprecationWarning: `should_run_async` will not call `transform_cell` automatically in the future. Please pass the result to `transformed_cell` argument and any exception that happen during thetransform in `preprocessing_exc_tuple` in IPython 7.17 and above.\n",
      "  and should_run_async(code)\n"
     ]
    }
   ],
   "source": [
    "from gensim.models import Phrases\n",
    "\n",
    "# Add bigrams and trigrams to docs (only ones that appear min_count times or more).\n",
    "def bi_tri_grams(documents, min_count):\n",
    "    bigram = Phrases(documents, min_count=min_count)\n",
    "    for idx in range(len(documents)):\n",
    "        for token in bigram[documents[idx]]:\n",
    "            if '_' in token:\n",
    "                # Token is a bigram, add to document.\n",
    "                documents[idx].append(token)"
   ]
  },
  {
   "cell_type": "markdown",
   "metadata": {},
   "source": [
    "### Categorizing and tagging words"
   ]
  },
  {
   "cell_type": "code",
   "execution_count": 11,
   "metadata": {},
   "outputs": [
    {
     "name": "stderr",
     "output_type": "stream",
     "text": [
      "C:\\Users\\minio\\anaconda3\\envs\\tfm-py-37\\lib\\site-packages\\ipykernel\\ipkernel.py:287: DeprecationWarning: `should_run_async` will not call `transform_cell` automatically in the future. Please pass the result to `transformed_cell` argument and any exception that happen during thetransform in `preprocessing_exc_tuple` in IPython 7.17 and above.\n",
      "  and should_run_async(code)\n"
     ]
    }
   ],
   "source": [
    "# function to remove accented characters\n",
    "def tag_words(text):\n",
    "    tags = nltk.pos_tag(text)\n",
    "    nouns = [word for word, pos in tags if (pos == 'NN' or pos == 'NNP' or pos == 'NNS' or pos == 'NNPS')]\n",
    "    return nouns"
   ]
  },
  {
   "cell_type": "markdown",
   "metadata": {},
   "source": [
    "### Dictionary with the entire dataset"
   ]
  },
  {
   "cell_type": "code",
   "execution_count": 12,
   "metadata": {},
   "outputs": [
    {
     "name": "stderr",
     "output_type": "stream",
     "text": [
      "C:\\Users\\minio\\anaconda3\\envs\\tfm-py-37\\lib\\site-packages\\ipykernel\\ipkernel.py:287: DeprecationWarning: `should_run_async` will not call `transform_cell` automatically in the future. Please pass the result to `transformed_cell` argument and any exception that happen during thetransform in `preprocessing_exc_tuple` in IPython 7.17 and above.\n",
      "  and should_run_async(code)\n"
     ]
    }
   ],
   "source": [
    "data_words = list(sent_to_words(documents))\n",
    "# Compute bigrams & trigrams\n",
    "bi_tri_grams(data_words, 250)\n",
    "# Categorizing and tagging words\n",
    "data_words = list(map(tag_words, data_words))\n",
    "# Create Dictionary\n",
    "id2word = Dictionary(data_words)\n",
    "# Create Corpus\n",
    "texts = data_words\n",
    "# Term Document Frequency\n",
    "corpus_total = [id2word.doc2bow(text) for text in texts]"
   ]
  },
  {
   "cell_type": "markdown",
   "metadata": {},
   "source": [
    "### Save document-term matrix"
   ]
  },
  {
   "cell_type": "code",
   "execution_count": 13,
   "metadata": {},
   "outputs": [
    {
     "name": "stderr",
     "output_type": "stream",
     "text": [
      "C:\\Users\\minio\\anaconda3\\envs\\tfm-py-37\\lib\\site-packages\\ipykernel\\ipkernel.py:287: DeprecationWarning: `should_run_async` will not call `transform_cell` automatically in the future. Please pass the result to `transformed_cell` argument and any exception that happen during thetransform in `preprocessing_exc_tuple` in IPython 7.17 and above.\n",
      "  and should_run_async(code)\n",
      "C:\\Users\\minio\\anaconda3\\envs\\tfm-py-37\\lib\\site-packages\\numpy\\core\\_asarray.py:83: VisibleDeprecationWarning: Creating an ndarray from ragged nested sequences (which is a list-or-tuple of lists-or-tuples-or ndarrays with different lengths or shapes) is deprecated. If you meant to do this, you must specify 'dtype=object' when creating the ndarray\n",
      "  return array(a, dtype, copy=False, order=order)\n"
     ]
    }
   ],
   "source": [
    "# save document-term matrix\n",
    "savetxt(file_model + '_document_term_matrix.csv', corpus_total, delimiter=',', fmt='% s')"
   ]
  },
  {
   "cell_type": "markdown",
   "metadata": {},
   "source": [
    "### Build LDA model"
   ]
  },
  {
   "cell_type": "code",
   "execution_count": 14,
   "metadata": {},
   "outputs": [
    {
     "name": "stderr",
     "output_type": "stream",
     "text": [
      "C:\\Users\\minio\\anaconda3\\envs\\tfm-py-37\\lib\\site-packages\\ipykernel\\ipkernel.py:287: DeprecationWarning: `should_run_async` will not call `transform_cell` automatically in the future. Please pass the result to `transformed_cell` argument and any exception that happen during thetransform in `preprocessing_exc_tuple` in IPython 7.17 and above.\n",
      "  and should_run_async(code)\n"
     ]
    },
    {
     "name": "stdout",
     "output_type": "stream",
     "text": [
      "time elapsed - 00:00:34.27\n"
     ]
    }
   ],
   "source": [
    "perplexity_score = []\n",
    "coherence_score = []\n",
    "indixes = []\n",
    "\n",
    "index = 0\n",
    "chunk_size = 250\n",
    "documents_sample = documents[index:chunk_size-1]\n",
    "\n",
    "time_start = time.time()\n",
    "\n",
    "data_words = list(sent_to_words(documents_sample))\n",
    "# Compute bigrams & trigrams\n",
    "bi_tri_grams(data_words, 250)\n",
    "# Categorizing and tagging words\n",
    "data_words = list(map(tag_words, data_words))\n",
    "# # Create Dictionary\n",
    "# id2word = Dictionary(data_words)\n",
    "# Create Corpus\n",
    "texts = data_words\n",
    "# Term Document Frequency\n",
    "corpus = [id2word.doc2bow(text) for text in texts]\n",
    "# Build LDA Model\n",
    "lda_model = gensim.models.LdaMulticore(corpus=corpus\n",
    "                                       ,id2word=id2word\n",
    "                                       ,num_topics=num_topics\n",
    "                                       ,random_state=random_state\n",
    "                                       ,chunksize=chunksize\n",
    "                                       ,passes=50\n",
    "                                       ,per_word_topics=True)\n",
    "\n",
    "indixes.append(index)\n",
    "\n",
    "# Evaluate LDA Model\n",
    "# Compute Perplexity Score\n",
    "perplexity = lda_model.log_perplexity(corpus)\n",
    "perplexity_score.append(perplexity)\n",
    "\n",
    "# Evaluate LDA Model\n",
    "# Compute Coherence Score\n",
    "coherence_lda_model = CoherenceModel(model=lda_model, texts=data_words, dictionary=id2word, coherence='c_v')\n",
    "coherence = coherence_lda_model.get_coherence()\n",
    "coherence_score.append(coherence)\n",
    "\n",
    "# Save LDA Model\n",
    "temp_file = datapath(file_model)\n",
    "lda_model.save(temp_file)\n",
    "temp_file = datapath(file_model + '_' + str(index).zfill(5))\n",
    "lda_model.save(temp_file)\n",
    "\n",
    "time_end = time.time()\n",
    "hour, rem = divmod(time_end - time_start, 3600)\n",
    "minute, second = divmod(rem, 60)\n",
    "print('time elapsed - {:0>2}:{:0>2}:{:05.2f}'.format(int(hour), int(minute), second))"
   ]
  },
  {
   "cell_type": "markdown",
   "metadata": {},
   "source": [
    "### Incremental learning"
   ]
  },
  {
   "cell_type": "code",
   "execution_count": 15,
   "metadata": {},
   "outputs": [
    {
     "name": "stdout",
     "output_type": "stream",
     "text": [
      "0  -----  250  -----  499\n"
     ]
    },
    {
     "name": "stderr",
     "output_type": "stream",
     "text": [
      "C:\\Users\\minio\\anaconda3\\envs\\tfm-py-37\\lib\\site-packages\\ipykernel\\ipkernel.py:287: DeprecationWarning: `should_run_async` will not call `transform_cell` automatically in the future. Please pass the result to `transformed_cell` argument and any exception that happen during thetransform in `preprocessing_exc_tuple` in IPython 7.17 and above.\n",
      "  and should_run_async(code)\n"
     ]
    },
    {
     "name": "stdout",
     "output_type": "stream",
     "text": [
      "time elapsed - 00:00:35.06\n",
      "1  -----  500  -----  749\n",
      "time elapsed - 00:00:35.84\n",
      "2  -----  750  -----  999\n",
      "time elapsed - 00:00:35.65\n",
      "3  -----  1000  -----  1249\n",
      "time elapsed - 00:00:38.27\n",
      "4  -----  1250  -----  1499\n",
      "time elapsed - 00:00:36.98\n",
      "5  -----  1500  -----  1749\n",
      "time elapsed - 00:00:40.06\n",
      "6  -----  1750  -----  1999\n",
      "time elapsed - 00:00:38.37\n",
      "7  -----  2000  -----  2249\n",
      "time elapsed - 00:00:41.89\n",
      "8  -----  2250  -----  2499\n",
      "time elapsed - 00:00:42.26\n",
      "9  -----  2500  -----  2749\n",
      "time elapsed - 00:00:41.43\n",
      "10  -----  2750  -----  2999\n",
      "time elapsed - 00:00:42.08\n",
      "11  -----  3000  -----  3249\n",
      "time elapsed - 00:00:42.79\n",
      "12  -----  3250  -----  3499\n",
      "time elapsed - 00:00:41.24\n",
      "13  -----  3500  -----  3749\n",
      "time elapsed - 00:00:41.03\n",
      "14  -----  3750  -----  3999\n",
      "time elapsed - 00:00:42.61\n",
      "15  -----  4000  -----  4249\n",
      "time elapsed - 00:00:42.35\n",
      "16  -----  4250  -----  4499\n",
      "time elapsed - 00:00:42.16\n",
      "17  -----  4500  -----  4749\n",
      "time elapsed - 00:00:43.35\n",
      "18  -----  4750  -----  4999\n",
      "time elapsed - 00:00:42.63\n",
      "19  -----  5000  -----  5249\n",
      "time elapsed - 00:00:42.00\n",
      "20  -----  5250  -----  5499\n",
      "time elapsed - 00:00:41.67\n",
      "21  -----  5500  -----  5749\n",
      "time elapsed - 00:00:41.32\n",
      "22  -----  5750  -----  5999\n",
      "time elapsed - 00:00:39.64\n",
      "23  -----  6000  -----  6249\n",
      "time elapsed - 00:00:43.43\n",
      "24  -----  6250  -----  6499\n",
      "time elapsed - 00:00:41.86\n",
      "25  -----  6500  -----  6749\n",
      "time elapsed - 00:00:41.32\n",
      "26  -----  6750  -----  6999\n",
      "time elapsed - 00:00:42.23\n",
      "27  -----  7000  -----  7249\n",
      "time elapsed - 00:00:40.14\n",
      "28  -----  7250  -----  7499\n",
      "time elapsed - 00:00:42.00\n",
      "29  -----  7500  -----  7749\n",
      "time elapsed - 00:00:41.82\n",
      "30  -----  7750  -----  7999\n",
      "time elapsed - 00:00:42.45\n",
      "31  -----  8000  -----  8249\n",
      "time elapsed - 00:00:41.73\n",
      "32  -----  8250  -----  8499\n",
      "time elapsed - 00:00:41.69\n",
      "33  -----  8500  -----  8749\n",
      "time elapsed - 00:00:41.06\n",
      "34  -----  8750  -----  8999\n",
      "time elapsed - 00:00:41.52\n",
      "35  -----  9000  -----  9249\n",
      "time elapsed - 00:00:42.15\n",
      "36  -----  9250  -----  9499\n",
      "time elapsed - 00:00:44.16\n",
      "37  -----  9500  -----  9749\n",
      "time elapsed - 00:00:43.25\n",
      "38  -----  9750  -----  9999\n",
      "time elapsed - 00:00:41.91\n",
      "39  -----  10000  -----  10249\n",
      "time elapsed - 00:00:42.13\n",
      "40  -----  10250  -----  10499\n",
      "time elapsed - 00:00:42.09\n",
      "41  -----  10500  -----  10749\n",
      "time elapsed - 00:00:39.77\n",
      "42  -----  10750  -----  10999\n",
      "time elapsed - 00:00:42.45\n",
      "43  -----  11000  -----  11249\n",
      "time elapsed - 00:00:42.68\n",
      "44  -----  11250  -----  11499\n",
      "time elapsed - 00:00:42.42\n",
      "45  -----  11500  -----  11749\n",
      "time elapsed - 00:00:43.12\n",
      "46  -----  11750  -----  11999\n",
      "time elapsed - 00:00:43.58\n",
      "47  -----  12000  -----  12249\n",
      "time elapsed - 00:00:42.23\n",
      "48  -----  12250  -----  12499\n",
      "time elapsed - 00:00:41.63\n",
      "49  -----  12500  -----  12749\n",
      "time elapsed - 00:00:41.79\n",
      "50  -----  12750  -----  12999\n",
      "time elapsed - 00:00:41.10\n",
      "51  -----  13000  -----  13249\n",
      "time elapsed - 00:00:42.56\n",
      "52  -----  13250  -----  13499\n",
      "time elapsed - 00:00:44.27\n",
      "53  -----  13500  -----  13749\n",
      "time elapsed - 00:00:43.79\n",
      "54  -----  13750  -----  13999\n",
      "time elapsed - 00:00:42.30\n",
      "55  -----  14000  -----  14249\n",
      "time elapsed - 00:00:41.86\n",
      "56  -----  14250  -----  14499\n",
      "time elapsed - 00:00:40.96\n",
      "57  -----  14500  -----  14749\n",
      "time elapsed - 00:00:40.74\n",
      "58  -----  14750  -----  14999\n",
      "time elapsed - 00:00:42.59\n",
      "59  -----  15000  -----  15249\n",
      "time elapsed - 00:00:45.27\n",
      "60  -----  15250  -----  15499\n",
      "time elapsed - 00:00:42.18\n",
      "61  -----  15500  -----  15749\n",
      "time elapsed - 00:00:42.15\n",
      "62  -----  15750  -----  15999\n",
      "time elapsed - 00:00:42.74\n",
      "63  -----  16000  -----  16249\n",
      "time elapsed - 00:00:42.99\n",
      "64  -----  16250  -----  16499\n",
      "time elapsed - 00:00:42.56\n",
      "65  -----  16500  -----  16749\n",
      "time elapsed - 00:00:42.82\n",
      "66  -----  16750  -----  16999\n",
      "time elapsed - 00:00:42.32\n",
      "67  -----  17000  -----  17249\n",
      "time elapsed - 00:00:43.53\n",
      "68  -----  17250  -----  17499\n",
      "time elapsed - 00:00:43.85\n",
      "69  -----  17500  -----  17749\n",
      "time elapsed - 00:00:41.74\n",
      "70  -----  17750  -----  17999\n",
      "time elapsed - 00:00:41.28\n",
      "71  -----  18000  -----  18249\n",
      "time elapsed - 00:00:43.51\n",
      "72  -----  18250  -----  18499\n",
      "time elapsed - 00:00:42.04\n",
      "73  -----  18500  -----  18749\n",
      "time elapsed - 00:00:41.16\n",
      "74  -----  18750  -----  18999\n",
      "time elapsed - 00:00:40.78\n",
      "75  -----  19000  -----  19249\n",
      "time elapsed - 00:00:42.10\n",
      "76  -----  19250  -----  19499\n",
      "time elapsed - 00:00:41.26\n",
      "77  -----  19500  -----  19749\n",
      "time elapsed - 00:00:42.06\n",
      "78  -----  19750  -----  19999\n",
      "time elapsed - 00:00:42.63\n",
      "79  -----  20000  -----  20249\n",
      "time elapsed - 00:00:41.63\n",
      "80  -----  20250  -----  20499\n",
      "time elapsed - 00:00:42.54\n",
      "81  -----  20500  -----  20749\n",
      "time elapsed - 00:00:43.09\n",
      "82  -----  20750  -----  20999\n",
      "time elapsed - 00:00:43.58\n",
      "83  -----  21000  -----  21249\n",
      "time elapsed - 00:00:43.39\n",
      "84  -----  21250  -----  21499\n",
      "time elapsed - 00:00:42.45\n",
      "85  -----  21500  -----  21749\n",
      "time elapsed - 00:00:43.26\n",
      "86  -----  21750  -----  21999\n",
      "time elapsed - 00:00:42.12\n",
      "87  -----  22000  -----  22249\n",
      "time elapsed - 00:00:42.77\n",
      "88  -----  22250  -----  22499\n",
      "time elapsed - 00:00:44.67\n",
      "89  -----  22500  -----  22749\n",
      "time elapsed - 00:00:42.43\n",
      "90  -----  22750  -----  22999\n",
      "time elapsed - 00:00:41.69\n",
      "91  -----  23000  -----  23249\n",
      "time elapsed - 00:00:40.33\n",
      "92  -----  23250  -----  23499\n",
      "time elapsed - 00:00:42.04\n",
      "93  -----  23500  -----  23749\n",
      "time elapsed - 00:00:42.44\n",
      "94  -----  23750  -----  23999\n",
      "time elapsed - 00:00:42.51\n",
      "95  -----  24000  -----  24249\n",
      "time elapsed - 00:00:41.29\n",
      "96  -----  24250  -----  24499\n",
      "time elapsed - 00:00:41.98\n",
      "97  -----  24500  -----  24749\n",
      "time elapsed - 00:00:42.31\n",
      "98  -----  24750  -----  24999\n",
      "time elapsed - 00:00:43.27\n",
      "99  -----  25000  -----  25249\n",
      "time elapsed - 00:00:43.76\n",
      "100  -----  25250  -----  25499\n",
      "time elapsed - 00:00:43.44\n",
      "101  -----  25500  -----  25749\n",
      "time elapsed - 00:00:42.27\n",
      "102  -----  25750  -----  25999\n",
      "time elapsed - 00:00:41.80\n",
      "103  -----  26000  -----  26249\n",
      "time elapsed - 00:00:41.66\n",
      "104  -----  26250  -----  26499\n",
      "time elapsed - 00:00:43.95\n",
      "105  -----  26500  -----  26749\n",
      "time elapsed - 00:00:42.88\n",
      "106  -----  26750  -----  26999\n",
      "time elapsed - 00:00:42.34\n",
      "107  -----  27000  -----  27249\n",
      "time elapsed - 00:00:40.05\n",
      "108  -----  27250  -----  27499\n",
      "time elapsed - 00:00:41.87\n",
      "109  -----  27500  -----  27749\n",
      "time elapsed - 00:00:41.54\n",
      "110  -----  27750  -----  27999\n",
      "time elapsed - 00:00:41.97\n",
      "111  -----  28000  -----  28249\n",
      "time elapsed - 00:00:42.64\n",
      "112  -----  28250  -----  28499\n",
      "time elapsed - 00:00:41.79\n",
      "113  -----  28500  -----  28749\n",
      "time elapsed - 00:00:41.52\n",
      "114  -----  28750  -----  28999\n",
      "time elapsed - 00:00:44.11\n",
      "115  -----  29000  -----  29249\n",
      "time elapsed - 00:00:43.98\n",
      "116  -----  29250  -----  29499\n",
      "time elapsed - 00:00:42.95\n",
      "117  -----  29500  -----  29749\n",
      "time elapsed - 00:00:42.77\n",
      "118  -----  29750  -----  29999\n",
      "time elapsed - 00:00:40.78\n",
      "119  -----  30000  -----  30249\n",
      "time elapsed - 00:00:43.51\n",
      "120  -----  30250  -----  30499\n",
      "time elapsed - 00:00:43.38\n",
      "121  -----  30500  -----  30749\n",
      "time elapsed - 00:00:42.20\n",
      "122  -----  30750  -----  30999\n",
      "time elapsed - 00:00:40.90\n",
      "123  -----  31000  -----  31249\n",
      "time elapsed - 00:00:40.68\n",
      "124  -----  31250  -----  31499\n",
      "time elapsed - 00:00:41.26\n",
      "125  -----  31500  -----  31749\n",
      "time elapsed - 00:00:42.04\n",
      "126  -----  31750  -----  31999\n",
      "time elapsed - 00:00:41.83\n",
      "127  -----  32000  -----  32249\n",
      "time elapsed - 00:00:42.29\n",
      "128  -----  32250  -----  32499\n",
      "time elapsed - 00:00:41.56\n",
      "129  -----  32500  -----  32749\n",
      "time elapsed - 00:00:41.60\n",
      "130  -----  32750  -----  32999\n",
      "time elapsed - 00:00:41.34\n",
      "131  -----  33000  -----  33249\n",
      "time elapsed - 00:00:42.53\n",
      "132  -----  33250  -----  33499\n",
      "time elapsed - 00:00:41.65\n",
      "133  -----  33500  -----  33749\n",
      "time elapsed - 00:00:44.85\n",
      "134  -----  33750  -----  33999\n",
      "time elapsed - 00:00:44.80\n",
      "135  -----  34000  -----  34249\n",
      "time elapsed - 00:00:41.48\n",
      "136  -----  34250  -----  34499\n",
      "time elapsed - 00:00:39.53\n",
      "137  -----  34500  -----  34749\n",
      "time elapsed - 00:00:41.21\n",
      "138  -----  34750  -----  34999\n",
      "time elapsed - 00:00:40.67\n",
      "139  -----  35000  -----  35249\n",
      "time elapsed - 00:00:41.40\n",
      "140  -----  35250  -----  35499\n",
      "time elapsed - 00:00:42.26\n",
      "141  -----  35500  -----  35749\n",
      "time elapsed - 00:00:41.57\n",
      "142  -----  35750  -----  35999\n",
      "time elapsed - 00:00:39.87\n",
      "143  -----  36000  -----  36249\n"
     ]
    },
    {
     "name": "stdout",
     "output_type": "stream",
     "text": [
      "time elapsed - 00:00:44.48\n",
      "144  -----  36250  -----  36499\n",
      "time elapsed - 00:00:42.58\n",
      "145  -----  36500  -----  36749\n",
      "time elapsed - 00:00:41.57\n",
      "146  -----  36750  -----  36999\n",
      "time elapsed - 00:00:39.56\n",
      "147  -----  37000  -----  37249\n",
      "time elapsed - 00:00:41.84\n",
      "148  -----  37250  -----  37499\n",
      "time elapsed - 00:00:42.56\n",
      "149  -----  37500  -----  37749\n",
      "time elapsed - 00:00:41.62\n",
      "150  -----  37750  -----  37999\n",
      "time elapsed - 00:00:43.38\n",
      "151  -----  38000  -----  38249\n",
      "time elapsed - 00:00:43.40\n",
      "152  -----  38250  -----  38499\n",
      "time elapsed - 00:00:42.62\n",
      "153  -----  38500  -----  38749\n",
      "time elapsed - 00:00:42.79\n",
      "154  -----  38750  -----  38999\n",
      "time elapsed - 00:00:42.19\n",
      "155  -----  39000  -----  39249\n",
      "time elapsed - 00:00:43.64\n",
      "156  -----  39250  -----  39499\n",
      "time elapsed - 00:00:43.35\n",
      "157  -----  39500  -----  39749\n",
      "time elapsed - 00:00:41.64\n",
      "158  -----  39750  -----  39999\n",
      "time elapsed - 00:00:41.00\n",
      "159  -----  40000  -----  40249\n",
      "time elapsed - 00:00:44.31\n",
      "160  -----  40250  -----  40499\n",
      "time elapsed - 00:00:43.44\n",
      "161  -----  40500  -----  40749\n",
      "time elapsed - 00:00:40.62\n",
      "162  -----  40750  -----  40999\n",
      "time elapsed - 00:00:40.75\n",
      "163  -----  41000  -----  41249\n",
      "time elapsed - 00:00:42.58\n",
      "164  -----  41250  -----  41499\n",
      "time elapsed - 00:00:41.61\n",
      "165  -----  41500  -----  41749\n",
      "time elapsed - 00:00:41.87\n",
      "166  -----  41750  -----  41999\n",
      "time elapsed - 00:00:41.67\n",
      "167  -----  42000  -----  42249\n",
      "time elapsed - 00:00:41.22\n",
      "168  -----  42250  -----  42499\n",
      "time elapsed - 00:00:42.89\n",
      "169  -----  42500  -----  42749\n",
      "time elapsed - 00:00:43.44\n",
      "170  -----  42750  -----  42999\n",
      "time elapsed - 00:00:43.43\n",
      "171  -----  43000  -----  43249\n",
      "time elapsed - 00:00:43.49\n",
      "172  -----  43250  -----  43499\n",
      "time elapsed - 00:00:43.38\n",
      "173  -----  43500  -----  43749\n",
      "time elapsed - 00:00:41.54\n",
      "174  -----  43750  -----  43999\n",
      "time elapsed - 00:00:41.50\n",
      "175  -----  44000  -----  44249\n",
      "time elapsed - 00:00:43.67\n",
      "176  -----  44250  -----  44499\n",
      "time elapsed - 00:00:42.61\n",
      "177  -----  44500  -----  44749\n",
      "time elapsed - 00:00:41.28\n",
      "178  -----  44750  -----  44999\n",
      "time elapsed - 00:00:41.57\n",
      "179  -----  45000  -----  45249\n",
      "time elapsed - 00:00:42.22\n",
      "180  -----  45250  -----  45499\n",
      "time elapsed - 00:00:41.37\n",
      "181  -----  45500  -----  45749\n",
      "time elapsed - 00:00:42.15\n",
      "182  -----  45750  -----  45999\n",
      "time elapsed - 00:00:42.45\n",
      "183  -----  46000  -----  46249\n",
      "time elapsed - 00:00:42.44\n",
      "184  -----  46250  -----  46499\n",
      "time elapsed - 00:00:42.20\n",
      "185  -----  46500  -----  46749\n",
      "time elapsed - 00:00:43.08\n",
      "186  -----  46750  -----  46999\n",
      "time elapsed - 00:00:42.48\n",
      "187  -----  47000  -----  47249\n",
      "time elapsed - 00:00:42.40\n",
      "188  -----  47250  -----  47499\n",
      "time elapsed - 00:00:43.19\n",
      "189  -----  47500  -----  47749\n",
      "time elapsed - 00:00:43.06\n",
      "190  -----  47750  -----  47999\n",
      "time elapsed - 00:00:39.16\n",
      "191  -----  48000  -----  48249\n",
      "time elapsed - 00:00:43.67\n",
      "192  -----  48250  -----  48499\n",
      "time elapsed - 00:00:41.27\n",
      "193  -----  48500  -----  48749\n",
      "time elapsed - 00:00:42.42\n",
      "194  -----  48750  -----  48999\n",
      "time elapsed - 00:00:43.09\n",
      "195  -----  49000  -----  49249\n",
      "time elapsed - 00:00:41.13\n",
      "196  -----  49250  -----  49499\n",
      "time elapsed - 00:00:41.84\n",
      "197  -----  49500  -----  49749\n",
      "time elapsed - 00:00:41.53\n",
      "198  -----  49750  -----  49999\n",
      "time elapsed - 00:00:42.49\n",
      "199  -----  50000  -----  50249\n",
      "time elapsed - 00:00:42.10\n",
      "200  -----  50250  -----  50499\n",
      "time elapsed - 00:00:42.00\n",
      "201  -----  50500  -----  50749\n",
      "time elapsed - 00:00:42.73\n",
      "202  -----  50750  -----  50999\n",
      "time elapsed - 00:00:41.09\n",
      "203  -----  51000  -----  51249\n",
      "time elapsed - 00:00:41.79\n",
      "204  -----  51250  -----  51499\n",
      "time elapsed - 00:00:41.98\n",
      "205  -----  51500  -----  51749\n",
      "time elapsed - 00:00:39.67\n",
      "206  -----  51750  -----  51999\n",
      "time elapsed - 00:00:42.64\n",
      "207  -----  52000  -----  52249\n",
      "time elapsed - 00:00:41.94\n",
      "208  -----  52250  -----  52499\n",
      "time elapsed - 00:00:41.06\n",
      "209  -----  52500  -----  52749\n",
      "time elapsed - 00:00:41.44\n",
      "210  -----  52750  -----  52999\n",
      "time elapsed - 00:00:42.54\n",
      "211  -----  53000  -----  53249\n",
      "time elapsed - 00:00:43.20\n",
      "212  -----  53250  -----  53499\n",
      "time elapsed - 00:00:43.01\n",
      "213  -----  53500  -----  53749\n",
      "time elapsed - 00:00:44.63\n",
      "214  -----  53750  -----  53999\n",
      "time elapsed - 00:00:45.22\n",
      "215  -----  54000  -----  54249\n",
      "time elapsed - 00:00:44.26\n",
      "216  -----  54250  -----  54499\n",
      "time elapsed - 00:00:43.01\n",
      "217  -----  54500  -----  54749\n",
      "time elapsed - 00:00:43.92\n",
      "218  -----  54750  -----  54999\n",
      "time elapsed - 00:00:42.90\n",
      "219  -----  55000  -----  55249\n",
      "time elapsed - 00:00:41.71\n",
      "220  -----  55250  -----  55499\n",
      "time elapsed - 00:00:39.01\n",
      "221  -----  55500  -----  55749\n",
      "time elapsed - 00:00:45.97\n",
      "222  -----  55750  -----  55999\n",
      "time elapsed - 00:00:42.34\n",
      "223  -----  56000  -----  56249\n",
      "time elapsed - 00:00:41.50\n",
      "224  -----  56250  -----  56499\n",
      "time elapsed - 00:00:41.35\n",
      "225  -----  56500  -----  56749\n",
      "time elapsed - 00:00:41.59\n",
      "226  -----  56750  -----  56999\n",
      "time elapsed - 00:00:42.72\n",
      "227  -----  57000  -----  57249\n",
      "time elapsed - 00:00:42.55\n",
      "228  -----  57250  -----  57499\n",
      "time elapsed - 00:00:42.56\n",
      "229  -----  57500  -----  57749\n",
      "time elapsed - 00:00:43.54\n",
      "230  -----  57750  -----  57999\n",
      "time elapsed - 00:00:41.89\n",
      "231  -----  58000  -----  58249\n",
      "time elapsed - 00:00:40.59\n",
      "232  -----  58250  -----  58499\n",
      "time elapsed - 00:00:44.32\n",
      "233  -----  58500  -----  58749\n",
      "time elapsed - 00:00:43.17\n",
      "234  -----  58750  -----  58999\n",
      "time elapsed - 00:00:42.55\n",
      "235  -----  59000  -----  59249\n",
      "time elapsed - 00:00:43.13\n",
      "236  -----  59250  -----  59499\n",
      "time elapsed - 00:00:42.82\n",
      "237  -----  59500  -----  59749\n",
      "time elapsed - 00:00:43.28\n",
      "238  -----  59750  -----  59999\n",
      "time elapsed - 00:00:42.78\n",
      "239  -----  60000  -----  60249\n",
      "time elapsed - 00:00:43.43\n",
      "240  -----  60250  -----  60499\n",
      "time elapsed - 00:00:41.02\n",
      "241  -----  60500  -----  60749\n",
      "time elapsed - 00:00:43.08\n",
      "242  -----  60750  -----  60999\n",
      "time elapsed - 00:00:44.56\n",
      "243  -----  61000  -----  61249\n",
      "time elapsed - 00:00:43.41\n",
      "244  -----  61250  -----  61499\n",
      "time elapsed - 00:00:42.97\n",
      "245  -----  61500  -----  61749\n",
      "time elapsed - 00:00:42.51\n",
      "246  -----  61750  -----  61999\n",
      "time elapsed - 00:00:40.87\n",
      "247  -----  62000  -----  62249\n",
      "time elapsed - 00:00:40.98\n",
      "248  -----  62250  -----  62499\n",
      "time elapsed - 00:00:43.31\n",
      "249  -----  62500  -----  62749\n",
      "time elapsed - 00:00:42.21\n",
      "250  -----  62750  -----  62999\n",
      "time elapsed - 00:00:42.21\n",
      "251  -----  63000  -----  63249\n",
      "time elapsed - 00:00:42.41\n",
      "252  -----  63250  -----  63499\n",
      "time elapsed - 00:00:42.13\n",
      "253  -----  63500  -----  63749\n",
      "time elapsed - 00:00:43.30\n",
      "254  -----  63750  -----  63999\n",
      "time elapsed - 00:00:43.87\n",
      "255  -----  64000  -----  64249\n",
      "time elapsed - 00:00:43.46\n",
      "256  -----  64250  -----  64499\n",
      "time elapsed - 00:00:41.76\n",
      "257  -----  64500  -----  64749\n",
      "time elapsed - 00:00:41.67\n",
      "258  -----  64750  -----  64999\n",
      "time elapsed - 00:00:43.42\n",
      "259  -----  65000  -----  65249\n",
      "time elapsed - 00:00:43.80\n",
      "260  -----  65250  -----  65499\n",
      "time elapsed - 00:00:43.08\n",
      "261  -----  65500  -----  65749\n",
      "time elapsed - 00:00:42.10\n",
      "262  -----  65750  -----  65999\n",
      "time elapsed - 00:00:40.13\n",
      "263  -----  66000  -----  66249\n",
      "time elapsed - 00:00:43.40\n",
      "264  -----  66250  -----  66499\n",
      "time elapsed - 00:00:41.73\n",
      "265  -----  66500  -----  66749\n",
      "time elapsed - 00:00:42.32\n",
      "266  -----  66750  -----  66999\n",
      "time elapsed - 00:00:42.62\n",
      "267  -----  67000  -----  67249\n",
      "time elapsed - 00:00:42.25\n",
      "268  -----  67250  -----  67499\n",
      "time elapsed - 00:00:42.35\n",
      "269  -----  67500  -----  67749\n",
      "time elapsed - 00:00:43.28\n",
      "270  -----  67750  -----  67999\n",
      "time elapsed - 00:00:43.18\n",
      "271  -----  68000  -----  68249\n",
      "time elapsed - 00:00:44.17\n",
      "272  -----  68250  -----  68499\n",
      "time elapsed - 00:00:43.19\n",
      "273  -----  68500  -----  68749\n",
      "time elapsed - 00:00:41.94\n",
      "274  -----  68750  -----  68999\n",
      "time elapsed - 00:00:41.98\n",
      "275  -----  69000  -----  69249\n",
      "time elapsed - 00:00:44.67\n",
      "276  -----  69250  -----  69499\n",
      "time elapsed - 00:00:43.52\n",
      "277  -----  69500  -----  69749\n",
      "time elapsed - 00:00:42.00\n",
      "278  -----  69750  -----  69999\n",
      "time elapsed - 00:00:41.76\n",
      "279  -----  70000  -----  70249\n",
      "time elapsed - 00:00:40.85\n",
      "280  -----  70250  -----  70499\n",
      "time elapsed - 00:00:43.03\n",
      "281  -----  70500  -----  70749\n",
      "time elapsed - 00:00:42.22\n",
      "282  -----  70750  -----  70999\n"
     ]
    },
    {
     "name": "stdout",
     "output_type": "stream",
     "text": [
      "time elapsed - 00:00:42.64\n",
      "283  -----  71000  -----  71249\n",
      "time elapsed - 00:00:42.09\n",
      "284  -----  71250  -----  71499\n",
      "time elapsed - 00:00:42.23\n",
      "285  -----  71500  -----  71749\n",
      "time elapsed - 00:00:42.16\n",
      "286  -----  71750  -----  71999\n",
      "time elapsed - 00:00:42.82\n",
      "287  -----  72000  -----  72249\n",
      "time elapsed - 00:00:43.10\n",
      "288  -----  72250  -----  72499\n",
      "time elapsed - 00:00:42.39\n",
      "289  -----  72500  -----  72749\n",
      "time elapsed - 00:00:40.30\n",
      "290  -----  72750  -----  72999\n",
      "time elapsed - 00:00:43.47\n",
      "291  -----  73000  -----  73249\n",
      "time elapsed - 00:00:40.92\n",
      "292  -----  73250  -----  73499\n",
      "time elapsed - 00:00:40.92\n",
      "293  -----  73500  -----  73749\n",
      "time elapsed - 00:00:43.77\n",
      "294  -----  73750  -----  73999\n",
      "time elapsed - 00:00:42.70\n",
      "295  -----  74000  -----  74249\n",
      "time elapsed - 00:00:42.01\n",
      "296  -----  74250  -----  74499\n",
      "time elapsed - 00:00:42.13\n",
      "297  -----  74500  -----  74749\n",
      "time elapsed - 00:00:41.85\n",
      "298  -----  74750  -----  74999\n",
      "time elapsed - 00:00:42.39\n",
      "299  -----  75000  -----  75249\n",
      "time elapsed - 00:00:42.29\n",
      "300  -----  75250  -----  75499\n",
      "time elapsed - 00:00:42.86\n",
      "301  -----  75500  -----  75749\n",
      "time elapsed - 00:00:41.16\n",
      "302  -----  75750  -----  75999\n",
      "time elapsed - 00:00:41.60\n",
      "303  -----  76000  -----  76249\n",
      "time elapsed - 00:00:42.67\n",
      "304  -----  76250  -----  76499\n",
      "time elapsed - 00:00:39.70\n",
      "305  -----  76500  -----  76749\n",
      "time elapsed - 00:00:43.50\n",
      "306  -----  76750  -----  76999\n",
      "time elapsed - 00:00:41.99\n",
      "307  -----  77000  -----  77249\n",
      "time elapsed - 00:00:41.81\n",
      "308  -----  77250  -----  77499\n",
      "time elapsed - 00:00:42.50\n",
      "309  -----  77500  -----  77749\n",
      "time elapsed - 00:00:42.46\n",
      "310  -----  77750  -----  77999\n",
      "time elapsed - 00:00:42.99\n",
      "311  -----  78000  -----  78249\n",
      "time elapsed - 00:00:43.79\n",
      "312  -----  78250  -----  78499\n",
      "time elapsed - 00:00:43.91\n",
      "313  -----  78500  -----  78749\n",
      "time elapsed - 00:00:43.42\n",
      "314  -----  78750  -----  78999\n",
      "time elapsed - 00:00:43.47\n",
      "315  -----  79000  -----  79249\n",
      "time elapsed - 00:00:43.76\n",
      "316  -----  79250  -----  79499\n",
      "time elapsed - 00:00:43.73\n",
      "317  -----  79500  -----  79749\n",
      "time elapsed - 00:00:42.05\n",
      "318  -----  79750  -----  79999\n",
      "time elapsed - 00:00:40.57\n",
      "319  -----  80000  -----  80249\n",
      "time elapsed - 00:00:44.37\n",
      "320  -----  80250  -----  80499\n",
      "time elapsed - 00:00:40.44\n",
      "321  -----  80500  -----  80749\n",
      "time elapsed - 00:00:43.20\n",
      "322  -----  80750  -----  80999\n",
      "time elapsed - 00:00:42.97\n",
      "323  -----  81000  -----  81249\n",
      "time elapsed - 00:00:42.29\n",
      "324  -----  81250  -----  81499\n",
      "time elapsed - 00:00:41.90\n",
      "325  -----  81500  -----  81749\n",
      "time elapsed - 00:00:41.96\n",
      "326  -----  81750  -----  81999\n",
      "time elapsed - 00:00:42.89\n",
      "327  -----  82000  -----  82249\n",
      "time elapsed - 00:00:42.74\n",
      "328  -----  82250  -----  82499\n",
      "time elapsed - 00:00:42.51\n",
      "329  -----  82500  -----  82749\n",
      "time elapsed - 00:00:43.00\n",
      "330  -----  82750  -----  82999\n",
      "time elapsed - 00:00:44.50\n",
      "331  -----  83000  -----  83249\n",
      "time elapsed - 00:00:44.15\n",
      "332  -----  83250  -----  83499\n",
      "time elapsed - 00:00:42.68\n",
      "333  -----  83500  -----  83749\n",
      "time elapsed - 00:00:43.87\n",
      "334  -----  83750  -----  83999\n",
      "time elapsed - 00:00:41.72\n",
      "335  -----  84000  -----  84249\n",
      "time elapsed - 00:00:41.72\n",
      "336  -----  84250  -----  84499\n",
      "time elapsed - 00:00:44.12\n",
      "337  -----  84500  -----  84749\n",
      "time elapsed - 00:00:40.68\n",
      "338  -----  84750  -----  84999\n",
      "time elapsed - 00:00:42.24\n",
      "339  -----  85000  -----  85249\n",
      "time elapsed - 00:00:42.64\n",
      "340  -----  85250  -----  85499\n",
      "time elapsed - 00:00:41.35\n",
      "341  -----  85500  -----  85749\n",
      "time elapsed - 00:00:42.61\n",
      "342  -----  85750  -----  85999\n",
      "time elapsed - 00:00:42.12\n",
      "343  -----  86000  -----  86249\n",
      "time elapsed - 00:00:42.54\n",
      "344  -----  86250  -----  86499\n",
      "time elapsed - 00:00:42.50\n",
      "345  -----  86500  -----  86749\n",
      "time elapsed - 00:00:43.71\n",
      "346  -----  86750  -----  86999\n",
      "time elapsed - 00:00:43.25\n",
      "347  -----  87000  -----  87249\n",
      "time elapsed - 00:00:43.16\n",
      "348  -----  87250  -----  87499\n",
      "time elapsed - 00:00:43.43\n",
      "349  -----  87500  -----  87749\n",
      "time elapsed - 00:00:42.25\n",
      "350  -----  87750  -----  87999\n",
      "time elapsed - 00:00:42.43\n"
     ]
    }
   ],
   "source": [
    "documents_len = len(documents)\n",
    "\n",
    "while index+(index+1)*chunk_size < documents_len:\n",
    "    \n",
    "    time_start = time.time()\n",
    "    \n",
    "    print(index, ' ----- ', (index+1)*chunk_size, ' ----- ', ((index+1)*chunk_size)+chunk_size-1)\n",
    "    documents_sample = documents[(index+1)*chunk_size:((index+1)*chunk_size)+chunk_size-1]\n",
    "    \n",
    "    data_words = list(sent_to_words(documents_sample))\n",
    "    # Compute bigrams & trigrams\n",
    "    bi_tri_grams(data_words, 250)\n",
    "    # Categorizing and tagging words\n",
    "    data_words = list(map(tag_words, data_words))\n",
    "    # Create Corpus\n",
    "    texts = data_words\n",
    "    # Term Document Frequency\n",
    "    corpus = [id2word.doc2bow(text) for text in texts]\n",
    "    # Load LDA Model\n",
    "    temp_file = datapath(file_model)\n",
    "    lda_model = gensim.models.ldamodel.LdaModel.load(temp_file)\n",
    "    # Update LDA Model\n",
    "    lda_model.update(corpus)\n",
    "    \n",
    "    index = index + 1\n",
    "    indixes.append(index)\n",
    "    \n",
    "    # Evaluate LDA Model\n",
    "    # Compute Perplexity Score\n",
    "    perplexity = lda_model.log_perplexity(corpus)\n",
    "    perplexity_score.append(perplexity)\n",
    "\n",
    "    # Evaluate LDA Model\n",
    "    # Compute Coherence Score\n",
    "    coherence_lda_model = CoherenceModel(model=lda_model, texts=data_words, dictionary=id2word, coherence='c_v')\n",
    "    coherence = coherence_lda_model.get_coherence()\n",
    "    coherence_score.append(coherence)\n",
    "    \n",
    "    # Save LDA Model\n",
    "    temp_file = datapath(file_model)\n",
    "    lda_model.save(temp_file)\n",
    "    temp_file = datapath(file_model + '_' + str(index).zfill(5))\n",
    "    lda_model.save(temp_file)\n",
    "    \n",
    "    time_end = time.time()\n",
    "    hour, rem = divmod(time_end - time_start, 3600)\n",
    "    minute, second = divmod(rem, 60)\n",
    "    print('time elapsed - {:0>2}:{:0>2}:{:05.2f}'.format(int(hour), int(minute), second))"
   ]
  },
  {
   "cell_type": "markdown",
   "metadata": {},
   "source": [
    "### Topics in LDA model"
   ]
  },
  {
   "cell_type": "code",
   "execution_count": 16,
   "metadata": {},
   "outputs": [
    {
     "name": "stdout",
     "output_type": "stream",
     "text": [
      "[(0,\n",
      "  '0.036*\"music\" + 0.036*\"wait\" + 0.032*\"family\" + 0.029*\"design\" + '\n",
      "  '0.029*\"house\" + 0.023*\"trip\" + 0.019*\"dream\" + 0.019*\"repost\" + '\n",
      "  '0.016*\"support\" + 0.016*\"vacation\"'),\n",
      " (1,\n",
      "  '0.047*\"baby\" + 0.033*\"party\" + 0.020*\"wall\" + 0.017*\"film\" + 0.017*\"memory\" '\n",
      "  '+ 0.013*\"host\" + 0.013*\"partner\" + 0.013*\"smile\" + 0.013*\"miyake\" + '\n",
      "  '0.013*\"list\"'),\n",
      " (2,\n",
      "  '0.032*\"metabolism\" + 0.026*\"meal\" + 0.022*\"pic\" + 0.019*\"laura\" + '\n",
      "  '0.016*\"medium\" + 0.016*\"loss\" + 0.016*\"picture\" + 0.013*\"team\" + '\n",
      "  '0.013*\"hotel\" + 0.013*\"marketing\"'),\n",
      " (3,\n",
      "  '0.080*\"bikini\" + 0.032*\"miami\" + 0.024*\"child\" + 0.024*\"competitor\" + '\n",
      "  '0.020*\"plum\" + 0.020*\"drop\" + 0.020*\"amaze\" + 0.016*\"kind\" + 0.016*\"dinner\" '\n",
      "  '+ 0.016*\"service\"'),\n",
      " (4,\n",
      "  '0.041*\"cross\" + 0.025*\"month\" + 0.025*\"create\" + 0.025*\"jewellery\" + '\n",
      "  '0.022*\"birthday\" + 0.019*\"wedding\" + 0.016*\"kid\" + 0.016*\"code\" + '\n",
      "  '0.016*\"weight\" + 0.014*\"youtube\"'),\n",
      " (5,\n",
      "  '0.064*\"style\" + 0.060*\"fashion\" + 0.035*\"blogger\" + 0.028*\"life\" + '\n",
      "  '0.026*\"summer\" + 0.024*\"work\" + 0.022*\"time\" + 0.022*\"travel\" + '\n",
      "  '0.019*\"shop\" + 0.017*\"model\"'),\n",
      " (6,\n",
      "  '0.080*\"beauty\" + 0.028*\"woman\" + 0.022*\"sale\" + 0.022*\"brow\" + 0.020*\"face\" '\n",
      "  '+ 0.018*\"cream\" + 0.018*\"jewelry\" + 0.017*\"palette\" + 0.017*\"artist\" + '\n",
      "  '0.017*\"makeup\"'),\n",
      " (7,\n",
      "  '0.037*\"watch\" + 0.032*\"viktoria\" + 0.027*\"ticket\" + 0.021*\"motherhood\" + '\n",
      "  '0.021*\"talk\" + 0.016*\"spot\" + 0.016*\"road\" + 0.016*\"france\" + '\n",
      "  '0.016*\"nature\" + 0.016*\"meet\"'),\n",
      " (8,\n",
      "  '0.047*\"beach\" + 0.043*\"fitness\" + 0.030*\"inspire\" + 0.020*\"motivation\" + '\n",
      "  '0.020*\"event\" + 0.020*\"pool\" + 0.020*\"sunset\" + 0.017*\"heart\" + '\n",
      "  '0.014*\"police\" + 0.013*\"land\"'),\n",
      " (9,\n",
      "  '0.024*\"eyebrow\" + 0.020*\"business\" + 0.020*\"hope\" + 0.020*\"word\" + '\n",
      "  '0.020*\"edition\" + 0.020*\"skull\" + 0.016*\"micro\" + 0.016*\"hand\" + '\n",
      "  '0.016*\"hour\" + 0.016*\"training\"')]\n"
     ]
    },
    {
     "name": "stderr",
     "output_type": "stream",
     "text": [
      "C:\\Users\\minio\\anaconda3\\envs\\tfm-py-37\\lib\\site-packages\\ipykernel\\ipkernel.py:287: DeprecationWarning: `should_run_async` will not call `transform_cell` automatically in the future. Please pass the result to `transformed_cell` argument and any exception that happen during thetransform in `preprocessing_exc_tuple` in IPython 7.17 and above.\n",
      "  and should_run_async(code)\n"
     ]
    }
   ],
   "source": [
    "# Print the Keyword in the 10 topics\n",
    "pprint(lda_model.print_topics())\n",
    "doc_lda = lda_model[corpus]"
   ]
  },
  {
   "cell_type": "markdown",
   "metadata": {},
   "source": [
    "### Plot perplexity score progress along incremental learning iterations  \n",
    "\n",
    "Lower the perplexity score represents a better model.  "
   ]
  },
  {
   "cell_type": "code",
   "execution_count": 17,
   "metadata": {},
   "outputs": [
    {
     "name": "stderr",
     "output_type": "stream",
     "text": [
      "C:\\Users\\minio\\anaconda3\\envs\\tfm-py-37\\lib\\site-packages\\ipykernel\\ipkernel.py:287: DeprecationWarning: `should_run_async` will not call `transform_cell` automatically in the future. Please pass the result to `transformed_cell` argument and any exception that happen during thetransform in `preprocessing_exc_tuple` in IPython 7.17 and above.\n",
      "  and should_run_async(code)\n"
     ]
    },
    {
     "data": {
      "image/png": "[encoded data removed]",
      "text/plain": [
       "<Figure size 432x288 with 1 Axes>"
      ]
     },
     "metadata": {
      "needs_background": "light"
     },
     "output_type": "display_data"
    }
   ],
   "source": [
    "plt.title('Perplexity score progress')\n",
    "plt.xlabel('Index')\n",
    "plt.ylabel('Perplexity score')\n",
    "plt.plot(indixes, perplexity_score, 'go', perplexity_score, 'k')\n",
    "plt.show()"
   ]
  },
  {
   "cell_type": "markdown",
   "metadata": {},
   "source": [
    "### Plot coherence score progress along incremental learning iterations  \n",
    "\n",
    "Higher the coherence score represents a more human interpretable model.  "
   ]
  },
  {
   "cell_type": "code",
   "execution_count": 18,
   "metadata": {},
   "outputs": [
    {
     "name": "stderr",
     "output_type": "stream",
     "text": [
      "C:\\Users\\minio\\anaconda3\\envs\\tfm-py-37\\lib\\site-packages\\ipykernel\\ipkernel.py:287: DeprecationWarning: `should_run_async` will not call `transform_cell` automatically in the future. Please pass the result to `transformed_cell` argument and any exception that happen during thetransform in `preprocessing_exc_tuple` in IPython 7.17 and above.\n",
      "  and should_run_async(code)\n"
     ]
    },
    {
     "data": {
      "image/png": "[encoded data removed]",
      "text/plain": [
       "<Figure size 432x288 with 1 Axes>"
      ]
     },
     "metadata": {
      "needs_background": "light"
     },
     "output_type": "display_data"
    }
   ],
   "source": [
    "plt.title('Coherence score progress')\n",
    "plt.xlabel('Index')\n",
    "plt.ylabel('Coherence score')\n",
    "plt.plot(indixes, coherence_score, 'go', coherence_score, 'k') \n",
    "plt.show()"
   ]
  },
  {
   "cell_type": "markdown",
   "metadata": {},
   "source": [
    "### Visualize the topics-keywords"
   ]
  },
  {
   "cell_type": "code",
   "execution_count": 19,
   "metadata": {},
   "outputs": [
    {
     "name": "stderr",
     "output_type": "stream",
     "text": [
      "C:\\Users\\minio\\anaconda3\\envs\\tfm-py-37\\lib\\site-packages\\ipykernel\\ipkernel.py:287: DeprecationWarning: `should_run_async` will not call `transform_cell` automatically in the future. Please pass the result to `transformed_cell` argument and any exception that happen during thetransform in `preprocessing_exc_tuple` in IPython 7.17 and above.\n",
      "  and should_run_async(code)\n"
     ]
    },
    {
     "data": {
      "text/html": [
       "\n",
       "<link rel=\"stylesheet\" type=\"text/css\" href=\"https://cdn.rawgit.com/bmabey/pyLDAvis/files/ldavis.v1.0.0.css\">\n",
       "\n",
       "\n",
       "<div id=\"ldavis_el1302025548443208405611979640\"></div>\n",
       "<script type=\"text/javascript\">\n",
       "\n",
       "var ldavis_el1302025548443208405611979640_data = {\"mdsDat\": {\"x\": [-0.44010434820191713, -0.08892664305857563, 0.0814238575233966, 0.07558627386833472, 0.0636619762893818, 0.06979965490657913, 0.02888478946548289, 0.04415577503361328, 0.05614319639770034, 0.10937546777600346], \"y\": [0.13006974765946588, -0.34134667195042606, 0.22780843441231205, 0.021000471153636874, 0.0708387599891856, 0.03562370931135643, -0.024888222981205892, -0.15409308646831008, -0.06486831220635057, 0.09985517108033568], \"topics\": [1, 2, 3, 4, 5, 6, 7, 8, 9, 10], \"cluster\": [1, 1, 1, 1, 1, 1, 1, 1, 1, 1], \"Freq\": [28.917440037382796, 14.783509692089147, 9.112646957929426, 7.794816252280922, 7.494521204642165, 7.374427661637878, 7.3606372601234735, 6.246168995579737, 6.225548417611689, 4.690283520722764]}, \"tinfo\": {\"Term\": [\"style\", \"beauty\", \"fashion\", \"bikini\", \"blogger\", \"life\", \"summer\", \"baby\", \"beach\", \"work\", \"cross\", \"fitness\", \"time\", \"travel\", \"woman\", \"music\", \"wait\", \"shop\", \"party\", \"metabolism\", \"family\", \"model\", \"sale\", \"brow\", \"inspire\", \"design\", \"house\", \"hair\", \"face\", \"miami\", \"style\", \"fashion\", \"blogger\", \"life\", \"summer\", \"work\", \"time\", \"travel\", \"shop\", \"model\", \"hair\", \"love\", \"gram\", \"thing\", \"week\", \"weekend\", \"today\", \"friend\", \"year\", \"outfit\", \"story\", \"dress\", \"link\", \"day\", \"video\", \"people\", \"color\", \"inspiration\", \"food\", \"blog\", \"book\", \"beauty\", \"woman\", \"brow\", \"sale\", \"face\", \"cream\", \"jewelry\", \"palette\", \"makeup\", \"artist\", \"product\", \"lash\", \"huda\", \"foundation\", \"place\", \"skin\", \"morning\", \"haul\", \"feature\", \"revolution\", \"vibe\", \"lip\", \"care\", \"powder\", \"coffee\", \"sigma\", \"anastasia\", \"glam\", \"review\", \"geek\", \"body\", \"month\", \"jewellery\", \"create\", \"birthday\", \"wedding\", \"code\", \"weight\", \"kid\", \"youtube\", \"luxury\", \"bollywood\", \"view\", \"learn\", \"call\", \"plug\", \"water\", \"spirit\", \"class\", \"shoot\", \"space\", \"korsun\", \"gold\", \"bride\", \"custom\", \"discount\", \"masterclass\", \"mini\", \"dupe\", \"delhi\", \"wicca\", \"kill\", \"cross\", \"church\", \"person\", \"metabolism\", \"meal\", \"pic\", \"laura\", \"medium\", \"picture\", \"loss\", \"team\", \"hotel\", \"marketing\", \"copenhagen\", \"luke\", \"fruit\", \"plan\", \"calorie\", \"essence\", \"pepper\", \"rate\", \"china\", \"recipe\", \"foodie\", \"dubai\", \"plate\", \"murder\", \"kitchen\", \"desire\", \"redes\", \"press\", \"skywalker\", \"study\", \"daughter\", \"thermogenesis\", \"regain\", \"control\", \"photographer\", \"person\", \"tour\", \"music\", \"wait\", \"family\", \"design\", \"house\", \"trip\", \"dream\", \"repost\", \"sister\", \"dallas\", \"vacation\", \"support\", \"podcast\", \"architecture\", \"popup\", \"festival\", \"center\", \"client\", \"order\", \"magazine\", \"interieur\", \"relationship\", \"mature\", \"dark\", \"mujeres\", \"primark\", \"bird\", \"light\", \"rest\", \"wool\", \"card\", \"saint\", \"clip\", \"baby\", \"party\", \"wall\", \"film\", \"memory\", \"host\", \"smile\", \"partner\", \"list\", \"miyake\", \"yesterday\", \"news\", \"draw\", \"collaboration\", \"sunday\", \"scene\", \"asrar\", \"illustrator\", \"hommes\", \"question\", \"doctor\", \"chicago\", \"siempre\", \"izzy\", \"bow\", \"capsule\", \"bring\", \"clothing\", \"cinema\", \"hisham\", \"faisal\", \"pakistani\", \"marathi\", \"stag\", \"beach\", \"fitness\", \"inspire\", \"motivation\", \"sunset\", \"pool\", \"event\", \"heart\", \"jean\", \"land\", \"ceremony\", \"island\", \"area\", \"door\", \"enjoy\", \"couple\", \"passion\", \"hawaii\", \"antler\", \"bruges\", \"brugge\", \"mykonos\", \"passport\", \"health\", \"resort\", \"leica\", \"coast\", \"foot\", \"fiction\", \"exit\", \"trust\", \"police\", \"woodbine\", \"violent\", \"fence\", \"bikini\", \"miami\", \"child\", \"plum\", \"drop\", \"amaze\", \"dinner\", \"kind\", \"service\", \"deal\", \"forty\", \"crime\", \"number\", \"york\", \"bogo\", \"account\", \"surprise\", \"sugar\", \"jeff\", \"coconut\", \"season\", \"enter\", \"point\", \"janeiro\", \"entry\", \"south\", \"check\", \"state\", \"odor\", \"cleanse\", \"competitor\", \"purify\", \"emotion\", \"prep\", \"blush\", \"competition\", \"ifbb\", \"australia\", \"eyebrow\", \"business\", \"skull\", \"hope\", \"word\", \"edition\", \"training\", \"hour\", \"hand\", \"community\", \"success\", \"stage\", \"play\", \"pastel\", \"decor\", \"test\", \"fact\", \"minute\", \"member\", \"springer\", \"barbados\", \"runner\", \"barn\", \"session\", \"course\", \"push\", \"price\", \"owner\", \"absolute\", \"college\", \"lady\", \"micro\", \"pain\", \"song\", \"valley\", \"watch\", \"ticket\", \"viktoria\", \"motherhood\", \"talk\", \"spot\", \"road\", \"france\", \"discover\", \"meet\", \"nature\", \"toy\", \"potd\", \"autosport\", \"congratulation\", \"trade\", \"hacc\", \"parent\", \"mind\", \"winter\", \"orchard\", \"sort\", \"snuggle\", \"monaco\", \"race\", \"friday\", \"boy\", \"strength\", \"pressure\", \"master\", \"heuer\", \"pigment\", \"mommy\", \"emma\", \"church\", \"tower\", \"june\"], \"Freq\": [73.0, 46.0, 69.0, 19.0, 39.0, 32.0, 30.0, 13.0, 13.0, 27.0, 15.0, 12.0, 25.0, 25.0, 16.0, 10.0, 10.0, 21.0, 9.0, 9.0, 9.0, 19.0, 12.0, 12.0, 8.0, 8.0, 8.0, 18.0, 11.0, 7.0, 73.05051191989439, 69.261020908824, 39.84669448466044, 32.25759706906272, 30.359025213217755, 27.511087402603344, 25.615691012046128, 25.61352281800557, 21.82010302226129, 19.922777451179797, 18.025594861398226, 17.079114141218177, 17.07747945949075, 17.076208633160878, 17.077437845530326, 15.178321807125974, 15.179759089297542, 15.178441313884115, 15.17884144811896, 14.231133649618716, 12.333137987071934, 11.385727888442416, 11.384682204308683, 11.384346091551413, 11.383074198196914, 11.384322617009634, 11.382748755685904, 10.436482507455732, 9.491765578982887, 9.487843196456765, 9.488592247744398, 46.612987739028, 16.507213188974596, 12.62363542702882, 12.623857989693581, 11.65193774261134, 10.680882653338688, 10.680294607866596, 9.710645809157075, 9.709662824054375, 9.710125405279173, 8.739990568985577, 7.768142872968073, 7.768130326543345, 7.7680059532895065, 7.766743128365672, 6.797351804111464, 6.797291253974727, 6.796201897010191, 6.797994399256292, 6.796265720127293, 5.8264696373013845, 4.855165801521058, 4.854749587518083, 4.855645838641133, 4.854205727280907, 4.854479566638041, 3.8840921653596765, 3.884466648863008, 2.9132790038856085, 2.9131625403343175, 2.9139300542297106, 8.853296090615084, 8.852244980735986, 8.852349889975358, 7.8691990056511125, 6.886271389708097, 5.9018151923478115, 5.9016645534399945, 5.902018958370439, 4.916516022349363, 3.9361301017281978, 3.9350981579601383, 3.9345312445704517, 3.934587734160883, 3.934561843098602, 3.9342360192109354, 3.9336549834236405, 2.951065632528089, 2.9513427005192523, 2.9509143211251474, 2.9504667756200034, 2.950706520131775, 2.9489842601187415, 1.9676361670986509, 1.9675183123281377, 1.9674440016169155, 1.9674403028937324, 1.9676265840431313, 1.96738364517952, 1.9674890587902358, 1.9671790385379873, 1.9671790385379873, 14.686315704254062, 3.994779746498477, 2.545415564877999, 9.872637776207794, 7.899237810046863, 6.911820787996393, 5.924182873074297, 4.936725584094104, 4.93615897086871, 4.936354553098795, 3.9499056630872476, 3.949686783562108, 3.9491112540879896, 2.9622887444927937, 2.9622844301788946, 2.9622608452629136, 2.9629980176977795, 2.962299098846151, 2.96047155547856, 2.961838905363597, 2.9618656541097708, 2.961337869709467, 1.9752746793604847, 1.9752401648492932, 1.975142517544714, 1.9751042639614766, 1.97472417290698, 1.9746801669052108, 1.9746912403108847, 1.9746357294720518, 1.9744699160078691, 1.9746308399162995, 1.9746308399162995, 3.943398814864866, 1.9746308399162995, 1.9746308399162995, 1.9746308399162995, 2.5543390146669878, 2.664648830539727, 1.9767865587611368, 10.610040906771317, 10.609747774011375, 9.647548891874482, 8.68306689269412, 8.680709662839645, 6.75210350767832, 5.788594377412555, 5.78747272979527, 4.823075351958814, 4.8228159571203, 4.823075905039493, 4.823355763863136, 3.8586710606138697, 3.858526983096955, 3.858528918879332, 3.858595565101168, 3.8582626105323286, 3.857982751708686, 3.857923848616358, 2.8946707947050334, 2.8935906281386825, 2.8936061143976985, 2.8935184511100553, 2.893468120768254, 2.893428575499696, 2.892942970663415, 1.9299406005699087, 1.9293337327947278, 1.929515143257484, 1.9290089361659055, 1.929164075296403, 2.4996669340945035, 2.033991530465439, 13.61066618036497, 9.722218661577813, 5.833373863639126, 4.86090307216092, 4.8608530041034665, 3.8886665665385136, 3.888519355565241, 3.8886026209216578, 3.887582756360056, 3.8877337768594393, 2.91695142177524, 2.917026251752412, 2.916314414587751, 2.916462986106063, 2.9165829861785464, 2.916172645794636, 2.9161955029512994, 2.9158801286111458, 2.9158801286111458, 1.9449904265233307, 1.9442894737189853, 1.9442191335404437, 1.9441935552937013, 1.944183351205905, 1.9442034872724896, 1.9436866162119872, 1.9433832146681809, 1.943025527377299, 1.9442013104004263, 1.9442013104004263, 1.9442013104004263, 1.9442013104004263, 1.9441962763837803, 3.1733246378555364, 13.596906755175128, 12.62641204141461, 8.739623147612095, 5.827707705283024, 5.826739722327505, 5.826751129534052, 5.827659903655591, 4.855288432818016, 3.884700017003724, 3.8847198438151023, 3.884251605146383, 3.8840951634566023, 2.9138114830171964, 2.913472254422515, 1.9430072808790662, 1.9425531654184522, 1.9425820908350524, 1.9423104906791828, 1.942266763054088, 1.942266763054088, 1.942266763054088, 1.942258343449256, 1.9421900360100548, 1.9425364620088663, 1.941677254915773, 1.9422671704543217, 1.9422671704543217, 1.9419981504999329, 1.941683773319514, 1.9421794436039759, 2.8707859443251236, 4.153497530864844, 1.9420974203569032, 1.9420974203569032, 1.9420974203569032, 19.83086659899247, 7.933367377866836, 5.948662029154186, 4.957985386386178, 4.957378308937935, 4.956507104399454, 3.9661853968137892, 3.9663531843545337, 3.9656903313776364, 3.9656769636889506, 2.9748140951889073, 2.9746882545333486, 2.9749413187088125, 2.974363972844025, 2.974479902971765, 2.974479902971765, 2.9743904777440053, 2.9744093768900783, 1.98335221594931, 1.9831570015990208, 1.9835425902743855, 1.9830205589834702, 1.9830387666973697, 1.9830316218982444, 1.9830316218982444, 1.9827916949340754, 1.9829249108661502, 1.982891722121827, 1.9830445286321479, 1.9830445286321479, 5.9299209905716275, 1.9830445286321479, 1.9830611230043094, 1.983364200773649, 2.9787091630990488, 1.9830371533556317, 1.9830371533556317, 2.040940218807275, 5.844095583335556, 4.870829447476175, 4.870349799398238, 4.870793611700237, 4.870610297923324, 4.870490845336866, 3.8969609949212236, 3.8970459900308194, 3.8970666645169376, 3.8967753839791865, 3.8957540643649597, 3.894732744750733, 3.896246117134567, 2.9227332657408445, 2.9230390184188777, 2.9224553087608145, 2.922209052659498, 2.922119233503141, 2.9219552159132722, 2.9221716088679734, 2.9221716088679734, 2.922153920696517, 2.922547654798808, 2.9225492628143948, 1.9493534202078142, 1.9484745248312887, 1.948427892379267, 1.9482427408702552, 1.9481549891625103, 1.9481775013807274, 1.9481775013807274, 3.9764373950228293, 2.9811772813981454, 2.012539473831036, 1.9491287574586658, 6.901297159814592, 4.928936493237992, 5.91387853376794, 3.943988568437775, 3.943151271391666, 2.9584359483338982, 2.9584345637997167, 2.958272573300511, 2.957858597580318, 2.957879365593037, 2.957886634397488, 2.9575553845946247, 1.9718776372141176, 1.9718222558468677, 1.9717942190296973, 1.9718241595813668, 1.9718146409088708, 1.9715737319613336, 1.971481487371508, 1.9725401368198445, 1.9717699896815255, 1.9717699896815255, 1.9717019744398716, 1.9713570523619683, 0.9871975332445854, 0.9863934650188259, 0.9862640110728793, 0.986261328537903, 0.9862616746714484, 0.986261847738221, 2.920141117414773, 1.8068711033610825, 1.9263910165572746, 1.2826072842922813, 1.9578979955860614, 1.0256562583974158, 1.0288399947471945], \"Total\": [73.0, 46.0, 69.0, 19.0, 39.0, 32.0, 30.0, 13.0, 13.0, 27.0, 15.0, 12.0, 25.0, 25.0, 16.0, 10.0, 10.0, 21.0, 9.0, 9.0, 9.0, 19.0, 12.0, 12.0, 8.0, 8.0, 8.0, 18.0, 11.0, 7.0, 73.05301285661909, 69.26352178117105, 39.84919551259579, 32.26009856517867, 30.361526248089568, 27.513588463498845, 25.6181924772054, 25.61602416502637, 21.82260478257499, 19.92527895163676, 18.028096666812573, 17.08161586474522, 17.079981156453126, 17.07871025792423, 17.079939747576606, 15.180823099986595, 15.182260681202205, 15.180942944957973, 15.181343703741803, 14.233634492827642, 12.335639431521972, 11.388228964903341, 11.387183720282081, 11.386847570325198, 11.385575474570594, 11.386824292120693, 11.38525061013847, 10.438983510130075, 9.494266658294526, 9.490344552379366, 9.491094751585448, 46.61548243698101, 16.509708544079434, 12.626130071681475, 12.626352754599234, 11.654432434794437, 10.683377172472442, 10.682789923552766, 9.713140132743863, 9.712157484850385, 9.712620505090799, 8.742485071211274, 7.770637208154052, 7.770624670418129, 7.770500275695521, 7.76924135862291, 6.799846398796493, 6.799786913333106, 6.798697313604684, 6.800490528921377, 6.79876445924032, 5.828965455626838, 4.857660265861099, 4.857244379955201, 4.8581412143312015, 4.856701175853241, 4.857116830131864, 3.88658649390775, 3.88696133044452, 2.9157733402129162, 2.9156568589842378, 2.9164275694944473, 8.85578720338206, 8.854735830298454, 8.854841685685432, 7.871690148891493, 6.888762810851292, 5.904306519902133, 5.904156486222378, 5.904511169288969, 4.91900900115864, 3.938621333235389, 3.9375889004298057, 3.9370223967022837, 3.9370792245299886, 3.93705358453326, 3.936727758388255, 3.9361482495519877, 2.953556467130073, 2.953833973457226, 2.953406163080478, 2.952958883132072, 2.9532001202149654, 2.9514780250260744, 1.9701269397286068, 1.97000903927449, 1.9699347809049916, 1.9699311545112423, 1.9701176896767956, 1.9698744673905013, 1.969980117102308, 1.9696700174218176, 1.9696700174218176, 15.718717732014055, 6.858128341461636, 5.905168287673073, 9.87519687924068, 7.901727516681517, 6.914310871426636, 5.926672566155633, 4.93921647007525, 4.938650150093868, 4.938862861014811, 3.9523966865719196, 3.9521777839904755, 3.951605109471463, 2.9647784122457725, 2.9647741106828724, 2.964750533092646, 2.965488373953663, 2.9647888769120616, 2.962963636695418, 2.964333005605691, 2.9643611737164695, 2.964249206423944, 1.9777643789583923, 1.9777298639453043, 1.9776321769095175, 1.9775939912376785, 1.977213980353998, 1.9771702933844095, 1.9771814600576234, 1.977126118066123, 1.9769609223016131, 1.9771226720438027, 1.9771226720438027, 3.9515834784289408, 1.9771226720438027, 1.9771226720438027, 1.9771226720438027, 3.8979964689329254, 5.905168287673073, 2.9628450408433147, 10.612537631148204, 10.612244711777189, 9.650045980674115, 8.685564023729562, 8.683206260423612, 6.7546004367882775, 5.791090780665406, 5.78996959174343, 4.8255716727408355, 4.8253121602789255, 4.82557245719295, 4.825852803631964, 3.8611672292615435, 3.861023143456229, 3.8610251402752755, 3.8610923222085147, 3.8607592490502594, 3.860479699182997, 3.8604213385195476, 2.8971670830137257, 2.896086927768025, 2.8961028607329005, 2.896015213073869, 2.8959656621571415, 2.8959302266219367, 2.8958953150100064, 1.9324370958703938, 1.9318302405752903, 1.9320119636433748, 1.931505215067067, 1.931660859479897, 4.853928955557265, 2.9016723861272538, 13.613160506147006, 9.724713443257613, 5.83586787596348, 4.863397560882455, 4.863347991469745, 3.891160909953568, 3.8910137860570226, 3.891097885483945, 3.8900783583975005, 3.8906700072776155, 2.9194458575682045, 2.919520841607293, 2.9188085147646468, 2.918957236727737, 2.9190777310347302, 2.9186671368327426, 2.9187002333898873, 2.9186721214154425, 2.9186721214154425, 1.947484457970117, 1.9467838578177905, 1.9467137605495588, 1.946688252816364, 1.9466790252522503, 1.9466995003211578, 1.9461825468972156, 1.9458795640467261, 1.9455216517513079, 1.9466993181950292, 1.9466993181950292, 1.9466993181950292, 1.9466993181950292, 1.9467026428449468, 3.894249741646725, 13.599401664528498, 12.62890655550294, 8.742118608647047, 5.830202357765203, 5.829234278334842, 5.829245872653583, 5.830155613645063, 4.8577846168948975, 3.8871946400177166, 3.8872149912324683, 3.886746735169224, 3.8865904073483954, 2.9163057686676046, 2.9159668943279273, 1.9455015926035113, 1.9450474420990824, 1.9450765491930286, 1.944804765649229, 1.9447610649700229, 1.9447610649700229, 1.9447610649700229, 1.9447527561191478, 1.9446845680478702, 1.9450319948596877, 1.9441722464030238, 1.944763037236436, 1.944763059833367, 1.9444941626736307, 1.9441798268951043, 1.9446896275235408, 2.9155548602207477, 4.869383420318707, 1.9447004609607452, 1.9447004609607452, 1.9447004609607452, 19.83335544369768, 7.9358563000478295, 5.951151857482613, 4.960474243526068, 4.959867382892738, 4.958997787936696, 3.9686741841315656, 3.968842576398663, 3.9681813257612424, 3.968326321797782, 2.977302617454996, 2.977176960038053, 2.9774306308219805, 2.976853842758609, 2.976974222183578, 2.976974222183578, 2.9769814476186056, 2.9775550092308856, 1.9858407160913298, 1.9856455821934118, 1.9860319494757306, 1.9855092665992773, 1.9855280728316558, 1.9855210596251556, 1.9855210835165702, 1.9852809187069567, 1.985414581580474, 1.9853814359021018, 1.9855352166810718, 1.985535218651803, 5.951028992671996, 1.985535218651803, 1.9855557706668834, 1.9860305732439762, 5.8902954669428444, 1.9855749057303222, 1.9855749057303222, 2.9576222407844237, 5.846751150605009, 4.873322970715242, 4.872843294121574, 4.8732874307148295, 4.873104144225402, 4.872984985486571, 3.89945443269612, 3.899540088962529, 3.899560899378473, 3.8992697360067816, 3.898248386016173, 3.897230763952515, 3.8989929431526407, 2.925226706255397, 2.9255329909838066, 2.9249492965363166, 2.924703319291441, 2.9246139865401686, 2.924449987680771, 2.9246673371285663, 2.9246673371285663, 2.924710645449981, 2.925247531941492, 2.925336452580269, 1.9518469255436182, 1.9509680065774786, 1.9509215011755732, 1.9507362972140387, 1.9506488772164323, 1.950671720478615, 1.9506717219439504, 4.869730300658243, 3.915112431828967, 5.825004201297171, 2.9377823597454156, 6.903787933925272, 4.931736981814806, 5.917314450834945, 3.9464786618080105, 3.945642677482237, 2.960926040710786, 2.96092465681604, 2.960762660791472, 2.960348756564649, 2.9603702251979627, 2.9603776816161913, 2.9600953430170756, 1.974368013553822, 1.9743127050285638, 1.9742846638494824, 1.974314799879259, 1.9743056740997094, 1.9740647341747208, 1.973972522422137, 1.9750497516052425, 1.9742805178234544, 1.974280518208526, 1.9742699014557974, 1.9743103625185445, 0.9896876013876282, 0.9888835478363461, 0.9887540911919731, 0.9887514057754326, 0.9887517600005175, 0.988751933867168, 2.959617187233419, 1.9718299322024018, 2.9575455233057375, 1.9659857356740629, 6.858128341461636, 1.9795851310936992, 2.9607950021438723], \"Category\": [\"Default\", \"Default\", \"Default\", \"Default\", \"Default\", \"Default\", \"Default\", \"Default\", \"Default\", \"Default\", \"Default\", \"Default\", \"Default\", \"Default\", \"Default\", \"Default\", \"Default\", \"Default\", \"Default\", \"Default\", \"Default\", \"Default\", \"Default\", \"Default\", \"Default\", \"Default\", \"Default\", \"Default\", \"Default\", \"Default\", \"Topic1\", \"Topic1\", \"Topic1\", \"Topic1\", \"Topic1\", \"Topic1\", \"Topic1\", \"Topic1\", \"Topic1\", \"Topic1\", \"Topic1\", \"Topic1\", \"Topic1\", \"Topic1\", \"Topic1\", \"Topic1\", \"Topic1\", \"Topic1\", \"Topic1\", \"Topic1\", \"Topic1\", \"Topic1\", \"Topic1\", \"Topic1\", \"Topic1\", \"Topic1\", \"Topic1\", \"Topic1\", \"Topic1\", \"Topic1\", \"Topic1\", \"Topic2\", \"Topic2\", \"Topic2\", \"Topic2\", \"Topic2\", \"Topic2\", \"Topic2\", \"Topic2\", \"Topic2\", \"Topic2\", \"Topic2\", \"Topic2\", \"Topic2\", \"Topic2\", \"Topic2\", \"Topic2\", \"Topic2\", \"Topic2\", \"Topic2\", \"Topic2\", \"Topic2\", \"Topic2\", \"Topic2\", \"Topic2\", \"Topic2\", \"Topic2\", \"Topic2\", \"Topic2\", \"Topic2\", \"Topic2\", \"Topic2\", \"Topic3\", \"Topic3\", \"Topic3\", \"Topic3\", \"Topic3\", \"Topic3\", \"Topic3\", \"Topic3\", \"Topic3\", \"Topic3\", \"Topic3\", \"Topic3\", \"Topic3\", \"Topic3\", \"Topic3\", \"Topic3\", \"Topic3\", \"Topic3\", \"Topic3\", \"Topic3\", \"Topic3\", \"Topic3\", \"Topic3\", \"Topic3\", \"Topic3\", \"Topic3\", \"Topic3\", \"Topic3\", \"Topic3\", \"Topic3\", \"Topic3\", \"Topic3\", \"Topic3\", \"Topic3\", \"Topic4\", \"Topic4\", \"Topic4\", \"Topic4\", \"Topic4\", \"Topic4\", \"Topic4\", \"Topic4\", \"Topic4\", \"Topic4\", \"Topic4\", \"Topic4\", \"Topic4\", \"Topic4\", \"Topic4\", \"Topic4\", \"Topic4\", \"Topic4\", \"Topic4\", \"Topic4\", \"Topic4\", \"Topic4\", \"Topic4\", \"Topic4\", \"Topic4\", \"Topic4\", \"Topic4\", \"Topic4\", \"Topic4\", \"Topic4\", \"Topic4\", \"Topic4\", \"Topic4\", \"Topic4\", \"Topic4\", \"Topic4\", \"Topic4\", \"Topic5\", \"Topic5\", \"Topic5\", \"Topic5\", \"Topic5\", \"Topic5\", \"Topic5\", \"Topic5\", \"Topic5\", \"Topic5\", \"Topic5\", \"Topic5\", \"Topic5\", \"Topic5\", \"Topic5\", \"Topic5\", \"Topic5\", \"Topic5\", \"Topic5\", \"Topic5\", \"Topic5\", \"Topic5\", \"Topic5\", \"Topic5\", \"Topic5\", \"Topic5\", \"Topic5\", \"Topic5\", \"Topic5\", \"Topic5\", \"Topic5\", \"Topic5\", \"Topic5\", \"Topic6\", \"Topic6\", \"Topic6\", \"Topic6\", \"Topic6\", \"Topic6\", \"Topic6\", \"Topic6\", \"Topic6\", \"Topic6\", \"Topic6\", \"Topic6\", \"Topic6\", \"Topic6\", \"Topic6\", \"Topic6\", \"Topic6\", \"Topic6\", \"Topic6\", \"Topic6\", \"Topic6\", \"Topic6\", \"Topic6\", \"Topic6\", \"Topic6\", \"Topic6\", \"Topic6\", \"Topic6\", \"Topic6\", \"Topic6\", \"Topic6\", \"Topic6\", \"Topic6\", \"Topic6\", \"Topic7\", \"Topic7\", \"Topic7\", \"Topic7\", \"Topic7\", \"Topic7\", \"Topic7\", \"Topic7\", \"Topic7\", \"Topic7\", \"Topic7\", \"Topic7\", \"Topic7\", \"Topic7\", \"Topic7\", \"Topic7\", \"Topic7\", \"Topic7\", \"Topic7\", \"Topic7\", \"Topic7\", \"Topic7\", \"Topic7\", \"Topic7\", \"Topic7\", \"Topic7\", \"Topic7\", \"Topic7\", \"Topic7\", \"Topic7\", \"Topic7\", \"Topic7\", \"Topic7\", \"Topic7\", \"Topic7\", \"Topic8\", \"Topic8\", \"Topic8\", \"Topic8\", \"Topic8\", \"Topic8\", \"Topic8\", \"Topic8\", \"Topic8\", \"Topic8\", \"Topic8\", \"Topic8\", \"Topic8\", \"Topic8\", \"Topic8\", \"Topic8\", \"Topic8\", \"Topic8\", \"Topic8\", \"Topic8\", \"Topic8\", \"Topic8\", \"Topic8\", \"Topic8\", \"Topic8\", \"Topic8\", \"Topic8\", \"Topic8\", \"Topic8\", \"Topic8\", \"Topic8\", \"Topic8\", \"Topic8\", \"Topic8\", \"Topic8\", \"Topic8\", \"Topic8\", \"Topic8\", \"Topic9\", \"Topic9\", \"Topic9\", \"Topic9\", \"Topic9\", \"Topic9\", \"Topic9\", \"Topic9\", \"Topic9\", \"Topic9\", \"Topic9\", \"Topic9\", \"Topic9\", \"Topic9\", \"Topic9\", \"Topic9\", \"Topic9\", \"Topic9\", \"Topic9\", \"Topic9\", \"Topic9\", \"Topic9\", \"Topic9\", \"Topic9\", \"Topic9\", \"Topic9\", \"Topic9\", \"Topic9\", \"Topic9\", \"Topic9\", \"Topic9\", \"Topic9\", \"Topic9\", \"Topic9\", \"Topic9\", \"Topic10\", \"Topic10\", \"Topic10\", \"Topic10\", \"Topic10\", \"Topic10\", \"Topic10\", \"Topic10\", \"Topic10\", \"Topic10\", \"Topic10\", \"Topic10\", \"Topic10\", \"Topic10\", \"Topic10\", \"Topic10\", \"Topic10\", \"Topic10\", \"Topic10\", \"Topic10\", \"Topic10\", \"Topic10\", \"Topic10\", \"Topic10\", \"Topic10\", \"Topic10\", \"Topic10\", \"Topic10\", \"Topic10\", \"Topic10\", \"Topic10\", \"Topic10\", \"Topic10\", \"Topic10\", \"Topic10\", \"Topic10\", \"Topic10\"], \"logprob\": [30.0, 29.0, 28.0, 27.0, 26.0, 25.0, 24.0, 23.0, 22.0, 21.0, 20.0, 19.0, 18.0, 17.0, 16.0, 15.0, 14.0, 13.0, 12.0, 11.0, 10.0, 9.0, 8.0, 7.0, 6.0, 5.0, 4.0, 3.0, 2.0, 1.0, -2.7525999546051025, -2.8059000968933105, -3.3587000370025635, -3.569999933242798, -3.63070011138916, -3.7291998863220215, -3.800600051879883, -3.8006999492645264, -3.960900068283081, -4.0518999099731445, -4.1519999504089355, -4.205900192260742, -4.205999851226807, -4.206099987030029, -4.205999851226807, -4.32390022277832, -4.323800086975098, -4.32390022277832, -4.32390022277832, -4.388299942016602, -4.531499862670898, -4.611400127410889, -4.611499786376953, -4.611499786376953, -4.611700057983398, -4.611499786376953, -4.611700057983398, -4.698500156402588, -4.793399810791016, -4.793799877166748, -4.793700218200684, -2.5309998989105225, -3.569000005722046, -3.8373000621795654, -3.8373000621795654, -3.9173998832702637, -4.00439977645874, -4.00439977645874, -4.099599838256836, -4.099699974060059, -4.099699974060059, -4.204899787902832, -4.322800159454346, -4.322800159454346, -4.322800159454346, -4.322999954223633, -4.456299781799316, -4.456299781799316, -4.456500053405762, -4.456200122833252, -4.456500053405762, -4.610400199890137, -4.792799949645996, -4.792900085449219, -4.792699813842773, -4.793000221252441, -4.792900085449219, -5.015999794006348, -5.015900135040283, -5.303599834442139, -5.303599834442139, -5.303299903869629, -3.708199977874756, -3.7083001136779785, -3.7083001136779785, -3.8259999752044678, -3.9595000743865967, -4.113699913024902, -4.113800048828125, -4.113699913024902, -4.29640007019043, -4.518799781799316, -4.519100189208984, -4.519199848175049, -4.519199848175049, -4.519199848175049, -4.5192999839782715, -4.519400119781494, -4.80679988861084, -4.806700229644775, -4.8069000244140625, -4.807000160217285, -4.807000160217285, -4.807499885559082, -5.212200164794922, -5.212200164794922, -5.212299823760986, -5.212299823760986, -5.212200164794922, -5.212299823760986, -5.212200164794922, -5.212399959564209, -5.212399959564209, -3.2021000385284424, -4.504000186920166, -4.954699993133545, -3.443000078201294, -3.6659998893737793, -3.7995998859405518, -3.9537999629974365, -4.136099815368652, -4.136199951171875, -4.136199951171875, -4.359099864959717, -4.3592000007629395, -4.359300136566162, -4.6468000411987305, -4.6468000411987305, -4.6468000411987305, -4.646599769592285, -4.6468000411987305, -4.64739990234375, -4.646999835968018, -4.646999835968018, -4.647200107574463, -5.05210018157959, -5.05210018157959, -5.052199840545654, -5.052199840545654, -5.0524001121521, -5.0524001121521, -5.0524001121521, -5.0524001121521, -5.052499771118164, -5.0524001121521, -5.0524001121521, -4.360799789428711, -5.0524001121521, -5.0524001121521, -5.0524001121521, -4.795000076293945, -4.752699851989746, -5.051300048828125, -3.331700086593628, -3.331700086593628, -3.426800012588501, -3.532099962234497, -3.532399892807007, -3.7836999893188477, -3.9375998973846436, -3.9377999305725098, -4.120100021362305, -4.120100021362305, -4.120100021362305, -4.119999885559082, -4.343200206756592, -4.343200206756592, -4.343200206756592, -4.343200206756592, -4.343299865722656, -4.343400001525879, -4.343400001525879, -4.6305999755859375, -4.63100004196167, -4.63100004196167, -4.63100004196167, -4.631100177764893, -4.631100177764893, -4.631199836730957, -5.035999774932861, -5.036300182342529, -5.036200046539307, -5.036499977111816, -5.036399841308594, -4.777299880981445, -4.983500003814697, -3.066499948501587, -3.402899980545044, -3.913800001144409, -4.096099853515625, -4.096099853515625, -4.319300174713135, -4.319300174713135, -4.319300174713135, -4.3196001052856445, -4.319499969482422, -4.606800079345703, -4.606800079345703, -4.60699987411499, -4.60699987411499, -4.606900215148926, -4.607100009918213, -4.607100009918213, -4.6072001457214355, -4.6072001457214355, -5.0121002197265625, -5.012499809265137, -5.012499809265137, -5.012499809265137, -5.012499809265137, -5.012499809265137, -5.012800216674805, -5.012899875640869, -5.0131001472473145, -5.012499809265137, -5.012499809265137, -5.012499809265137, -5.012499809265137, -5.012499809265137, -4.522600173950195, -3.0655999183654785, -3.139699935913086, -3.5076000690460205, -3.912899971008301, -3.9130001068115234, -3.9130001068115234, -3.912899971008301, -4.095399856567383, -4.318399906158447, -4.318399906158447, -4.318600177764893, -4.318600177764893, -4.605999946594238, -4.606100082397461, -5.011199951171875, -5.011499881744385, -5.011499881744385, -5.011600017547607, -5.011600017547607, -5.011600017547607, -5.011600017547607, -5.011600017547607, -5.01170015335083, -5.011499881744385, -5.011899948120117, -5.011600017547607, -5.011600017547607, -5.0117998123168945, -5.011899948120117, -5.01170015335083, -4.6209001541137695, -4.251500129699707, -5.01170015335083, -5.01170015335083, -5.01170015335083, -2.5241000652313232, -3.440200090408325, -3.728100061416626, -3.9103000164031982, -3.910399913787842, -3.910599946975708, -4.133500099182129, -4.133500099182129, -4.133600234985352, -4.133600234985352, -4.42110013961792, -4.421199798583984, -4.42110013961792, -4.421299934387207, -4.421199798583984, -4.421199798583984, -4.421299934387207, -4.421299934387207, -4.826499938964844, -4.826600074768066, -4.826399803161621, -4.826700210571289, -4.826700210571289, -4.826700210571289, -4.826700210571289, -4.8267998695373535, -4.826700210571289, -4.826700210571289, -4.826700210571289, -4.826700210571289, -3.731300115585327, -4.826700210571289, -4.826700210571289, -4.826499938964844, -4.4197998046875, -4.826700210571289, -4.826700210571289, -4.797900199890137, -3.7425999641418457, -3.9247000217437744, -3.924799919128418, -3.9247000217437744, -3.924799919128418, -3.924799919128418, -4.147799968719482, -4.147799968719482, -4.147799968719482, -4.147799968719482, -4.148099899291992, -4.148399829864502, -4.1479997634887695, -4.435500144958496, -4.435400009155273, -4.4355998039245605, -4.435699939727783, -4.435699939727783, -4.435699939727783, -4.435699939727783, -4.435699939727783, -4.435699939727783, -4.435500144958496, -4.435500144958496, -4.8404998779296875, -4.84089994430542, -4.841000080108643, -4.841100215911865, -4.841100215911865, -4.841100215911865, -4.841100215911865, -4.127600193023682, -4.4156999588012695, -4.808599948883057, -4.84060001373291, -3.293100118637085, -3.629699945449829, -3.447499990463257, -3.85260009765625, -3.852799892425537, -4.140200138092041, -4.140200138092041, -4.140200138092041, -4.140399932861328, -4.140399932861328, -4.140399932861328, -4.140500068664551, -4.54580020904541, -4.545899868011475, -4.545899868011475, -4.545899868011475, -4.545899868011475, -4.546000003814697, -4.546000003814697, -4.545499801635742, -4.545899868011475, -4.545899868011475, -4.545899868011475, -4.54610013961792, -5.23769998550415, -5.238500118255615, -5.238699913024902, -5.238699913024902, -5.238699913024902, -5.238699913024902, -4.153200149536133, -4.633200168609619, -4.569200038909912, -4.975900173187256, -4.552999973297119, -5.19950008392334, -5.196400165557861], \"loglift\": [30.0, 29.0, 28.0, 27.0, 26.0, 25.0, 24.0, 23.0, 22.0, 21.0, 20.0, 19.0, 18.0, 17.0, 16.0, 15.0, 14.0, 13.0, 12.0, 11.0, 10.0, 9.0, 8.0, 7.0, 6.0, 5.0, 4.0, 3.0, 2.0, 1.0, 1.2407, 1.2407, 1.2407, 1.2406, 1.2406, 1.2406, 1.2406, 1.2406, 1.2406, 1.2406, 1.2406, 1.2406, 1.2406, 1.2406, 1.2406, 1.2406, 1.2406, 1.2406, 1.2406, 1.2405, 1.2405, 1.2405, 1.2405, 1.2405, 1.2405, 1.2405, 1.2405, 1.2405, 1.2405, 1.2405, 1.2405, 1.9116, 1.9115, 1.9115, 1.9115, 1.9114, 1.9114, 1.9114, 1.9114, 1.9114, 1.9114, 1.9114, 1.9113, 1.9113, 1.9113, 1.9113, 1.9113, 1.9113, 1.9113, 1.9113, 1.9113, 1.9112, 1.9111, 1.9111, 1.9111, 1.9111, 1.9111, 1.911, 1.911, 1.9108, 1.9108, 1.9108, 2.3952, 2.3952, 2.3952, 2.3952, 2.3951, 2.3951, 2.3951, 2.3951, 2.395, 2.3949, 2.3949, 2.3949, 2.3949, 2.3949, 2.3949, 2.3949, 2.3947, 2.3947, 2.3947, 2.3947, 2.3947, 2.3947, 2.3942, 2.3942, 2.3942, 2.3942, 2.3942, 2.3942, 2.3942, 2.3942, 2.3942, 2.3276, 1.8551, 1.554, 2.5515, 2.5514, 2.5514, 2.5513, 2.5512, 2.5512, 2.5512, 2.5511, 2.5511, 2.5511, 2.5509, 2.5509, 2.5509, 2.5509, 2.5509, 2.5509, 2.5509, 2.5509, 2.5507, 2.5505, 2.5505, 2.5505, 2.5505, 2.5505, 2.5505, 2.5505, 2.5505, 2.5505, 2.5505, 2.5505, 2.5496, 2.5505, 2.5505, 2.5505, 2.129, 1.756, 2.147, 2.5908, 2.5908, 2.5907, 2.5907, 2.5907, 2.5906, 2.5906, 2.5906, 2.5905, 2.5905, 2.5905, 2.5905, 2.5904, 2.5904, 2.5904, 2.5904, 2.5904, 2.5904, 2.5904, 2.5901, 2.5901, 2.5901, 2.5901, 2.5901, 2.5901, 2.59, 2.5897, 2.5897, 2.5897, 2.5897, 2.5897, 1.9274, 2.2357, 2.607, 2.6069, 2.6067, 2.6066, 2.6066, 2.6065, 2.6065, 2.6065, 2.6065, 2.6064, 2.6063, 2.6063, 2.6063, 2.6063, 2.6063, 2.6063, 2.6063, 2.6062, 2.6062, 2.6059, 2.6059, 2.6059, 2.6059, 2.6059, 2.6059, 2.6059, 2.6059, 2.6059, 2.6059, 2.6059, 2.6059, 2.6059, 2.6059, 2.4024, 2.6088, 2.6088, 2.6087, 2.6086, 2.6086, 2.6086, 2.6086, 2.6085, 2.6084, 2.6084, 2.6084, 2.6084, 2.6082, 2.6082, 2.6077, 2.6077, 2.6077, 2.6077, 2.6077, 2.6077, 2.6077, 2.6077, 2.6077, 2.6077, 2.6077, 2.6077, 2.6077, 2.6077, 2.6077, 2.6077, 2.5935, 2.45, 2.6077, 2.6077, 2.6077, 2.7731, 2.7729, 2.7728, 2.7727, 2.7727, 2.7727, 2.7726, 2.7726, 2.7726, 2.7725, 2.7724, 2.7724, 2.7724, 2.7724, 2.7724, 2.7724, 2.7723, 2.7721, 2.7719, 2.7719, 2.7719, 2.7719, 2.7719, 2.7719, 2.7719, 2.7719, 2.7719, 2.7719, 2.7719, 2.7719, 2.7696, 2.7719, 2.7719, 2.7719, 2.0914, 2.7719, 2.7719, 2.4022, 2.7761, 2.776, 2.776, 2.776, 2.776, 2.776, 2.7759, 2.7759, 2.7759, 2.7759, 2.7759, 2.7759, 2.7758, 2.7757, 2.7757, 2.7757, 2.7757, 2.7757, 2.7757, 2.7757, 2.7757, 2.7756, 2.7756, 2.7756, 2.7752, 2.7752, 2.7752, 2.7752, 2.7752, 2.7752, 2.7752, 2.5739, 2.504, 1.7137, 2.3662, 3.0593, 3.0591, 3.0591, 3.059, 3.059, 3.0588, 3.0588, 3.0588, 3.0588, 3.0588, 3.0588, 3.0588, 3.0584, 3.0584, 3.0584, 3.0584, 3.0584, 3.0584, 3.0584, 3.0584, 3.0584, 3.0584, 3.0584, 3.0582, 3.0572, 3.0572, 3.0572, 3.0572, 3.0572, 3.0572, 3.0462, 2.9723, 2.631, 2.6326, 1.8061, 2.4021, 2.0027]}, \"token.table\": {\"Topic\": [9, 8, 8, 2, 7, 5, 7, 2, 6, 2, 8, 10, 6, 9, 9, 7, 2, 8, 5, 3, 1, 1, 2, 8, 2, 8, 3, 1, 6, 10, 3, 6, 2, 7, 7, 9, 3, 4, 6, 5, 2, 5, 7, 8, 6, 8, 4, 1, 3, 10, 6, 3, 8, 5, 5, 7, 6, 7, 8, 3, 2, 6, 9, 1, 9, 8, 8, 10, 4, 4, 7, 9, 2, 3, 8, 3, 5, 3, 5, 5, 4, 1, 8, 9, 3, 5, 4, 8, 3, 10, 6, 7, 6, 5, 1, 8, 4, 3, 9, 9, 10, 8, 7, 8, 8, 4, 7, 7, 9, 2, 9, 6, 5, 1, 2, 7, 5, 7, 6, 7, 1, 4, 7, 8, 2, 10, 10, 1, 4, 2, 2, 3, 1, 10, 1, 9, 2, 7, 7, 7, 10, 6, 6, 9, 6, 4, 9, 5, 2, 8, 6, 1, 7, 5, 7, 6, 8, 7, 8, 3, 2, 3, 4, 10, 3, 3, 8, 4, 3, 9, 7, 2, 4, 3, 7, 1, 5, 1, 2, 6, 4, 1, 4, 3, 5, 2, 6, 4, 10, 3, 5, 4, 4, 10, 9, 6, 4, 8, 2, 9, 10, 3, 9, 6, 1, 3, 10, 10, 3, 2, 10, 7, 5, 4, 5, 7, 10, 6, 8, 8, 10, 5, 1, 9, 8, 9, 6, 2, 10, 6, 6, 7, 7, 9, 1, 4, 3, 4, 6, 1, 4, 4, 4, 10, 2, 4, 4, 9, 3, 8, 5, 8, 4, 7, 7, 5, 10, 2, 8, 4, 10, 9, 5, 2, 8, 9, 6, 10, 4, 4, 4, 4, 5, 5, 7, 5, 2, 2, 10, 9, 3, 5, 9, 2, 6, 8, 8, 9, 3, 1, 6, 2, 5, 2, 9, 4, 6, 10, 2, 5, 9, 10, 8, 3, 3, 10, 9, 6, 9, 8, 1, 10, 4, 1, 9, 8, 1, 6, 7, 5, 8, 10, 4, 9, 4, 1, 10, 1, 1, 4, 10, 8, 10, 10, 10, 9, 1, 5, 7, 5, 4, 9, 2, 1, 3, 10, 7, 5, 6, 10, 3, 3, 1, 1, 3, 3, 10, 2, 7, 5, 9, 1, 1, 6, 8, 3], \"Freq\": [1.0252998493783214, 1.0077346245207097, 1.0082682456852563, 1.0291807492950502, 1.0284039700428846, 1.03599482608109, 1.0286987161056962, 1.029588255276583, 1.0278547847017807, 0.33810944014769745, 0.6762188802953949, 1.013010753010914, 1.0284165821506561, 1.0257576859819535, 1.0255542367756123, 1.0294570559318348, 1.0082487092896404, 1.0084022371693677, 1.0349625373441587, 1.0163001653624, 0.948332270796593, 1.0037843797212052, 0.5093123115532008, 0.5093123115532008, 1.0286557538338041, 1.0077346245207097, 1.015850080124764, 0.9482573123081073, 1.027379931864188, 1.011373817724961, 1.0151630129353535, 1.0278128394753903, 1.0296108091866611, 1.0284039700428846, 1.0284039700428846, 1.0259939737312682, 1.015988203897967, 1.0118764352369711, 1.0276528289643667, 1.035378436222238, 1.029390248642609, 1.0360656394163903, 1.0291383186370247, 1.0073462835192413, 1.0273724060158687, 1.0082081828337095, 1.0120606572141706, 0.1458123776941269, 0.5832495107765076, 0.2916247553882538, 1.0273800279821288, 1.0156291880172061, 1.0072850792130592, 1.036140664292712, 0.6892576879326202, 0.3446288439663101, 1.0280019233914215, 1.0284029151455427, 1.0072290936183745, 1.0162074038289348, 1.0295053821427635, 1.0277642859074958, 1.0252878426459588, 0.9661623074159291, 1.0258331099957132, 1.0072649458995715, 1.0082289982771562, 1.013025141015064, 1.011571020999192, 1.0118800068189742, 1.0282525540053733, 1.0246705178701299, 1.0296369605243734, 1.0163931010250842, 1.0076660004656408, 0.9542763128476915, 0.06361842085651277, 1.015223768078016, 1.0362023914554321, 1.035923885149027, 1.0122524354693143, 0.9660268069862158, 1.0079816213773138, 1.025454168264618, 1.0152386730389182, 1.0362021367192018, 1.0115409437137406, 1.0078932697457725, 1.0152620378026913, 1.0133941122131045, 1.0273354137227444, 1.0288182646502373, 1.0278166535504643, 1.0360742435660093, 0.9659096277305453, 1.008091469793262, 1.0113104061269054, 1.0152931230432192, 1.0260651356184605, 0.5086506895011308, 0.5086506895011308, 1.0072746530450087, 1.0280125226335888, 1.0072982451628352, 1.0072922501823984, 1.01249976977304, 1.029132050259075, 1.028441748078275, 1.026210940990559, 1.0296511706716722, 1.0257450662471983, 1.0273800279821288, 1.0362644924207334, 0.996195374211499, 1.029337511791266, 1.0284360188879345, 1.0359762642795423, 1.0287114249066363, 1.0280878619128884, 1.0293844477244436, 0.9479405123024729, 1.0112604539480785, 1.0285451293153023, 1.0076234718002586, 1.0295347424441006, 1.013252443273531, 1.0112414168361648, 0.9880809152887259, 1.011889522074083, 1.028927663677524, 1.0290815009323884, 1.016439890306653, 0.9953172573364985, 1.013014360560964, 0.9984415067584869, 1.0257565154675583, 1.0296090084776233, 1.0283808613212366, 1.028260720278937, 1.0292757695782746, 1.0136446067892753, 1.0273800279821288, 1.0278646847612045, 1.0260014561190338, 1.0279708530603353, 1.0121002188219475, 1.0257619895540548, 1.036483498154394, 1.0295182613123854, 1.0072649458995715, 1.0278646847612045, 0.9579476766388143, 1.0294987294153017, 1.0358805087083693, 1.0291797130042777, 1.0273907377929652, 1.0072922623029634, 1.029019735420753, 1.0071301206556684, 1.0164052516625615, 1.029693561206129, 0.33774712510522115, 0.33774712510522115, 0.33774712510522115, 1.0161721822473122, 1.015398509552317, 1.0078505062878078, 1.0115466567002238, 1.0158471752268614, 1.0252878418757674, 1.0290143480671678, 1.0295166002094742, 1.0123724455882892, 1.0159815873345863, 1.0284029270949417, 0.9919374528675674, 1.0352876551950077, 0.9659982898499779, 1.0293021179639186, 1.0282569222198858, 1.012378788540127, 0.9952220056116783, 1.0118814749461684, 1.0155837948285806, 1.0354942997900225, 1.0296373401686092, 1.0273782733849703, 1.0122468944107146, 1.0113760244076986, 1.0152639067715126, 1.0359061604568576, 1.0124368352503952, 1.0123063101795626, 1.0133867630692668, 1.025833921810078, 1.0280983406431006, 1.0126380387434784, 1.0080827698394417, 0.20535018127489107, 0.8214007250995643, 1.0131853292192368, 1.015167779305665, 1.0257763977765193, 1.0281005565925354, 1.0037500628495393, 0.33811821056342356, 0.6762364211268471, 1.0130119549434387, 1.0162845824211837, 1.0294440236464342, 1.0135617959144037, 1.029123799109416, 1.0359365610474183, 1.011524306358547, 1.0365098699593376, 1.028408363843176, 1.0133842106126734, 1.0275658790462343, 1.0075801494565093, 1.007285080212834, 1.0130272683868147, 1.0361563283488584, 0.98358574593542, 1.0252539017479285, 0.25542050641259473, 0.7662615192377842, 1.0273800279821288, 1.0295331749913816, 1.013138001695837, 1.0279875031986019, 1.0283079350716755, 1.0282371667221828, 1.0284444237697927, 1.0255615380458223, 0.9660287818449642, 1.0120320471171294, 0.5080295520556871, 0.5080295520556871, 0.16934318401856238, 0.2565420487088716, 0.7696261461266147, 1.0123930106943084, 1.0124223923626106, 1.0142862563031154, 1.0297015668229919, 1.0116377546273518, 1.0113299336777912, 1.0259059347682962, 1.0160722929028878, 1.0079681406521799, 1.0359561662303367, 1.007288704383668, 0.2053648098088256, 0.8214592392353024, 1.0292926617056017, 1.035994290292245, 1.0129823752563947, 1.0292002186454203, 1.0070338427535916, 1.011653785079153, 1.0113762022527035, 1.025156572827176, 1.0359490498328439, 1.0294555754675194, 1.0072850792130592, 1.0251321360766632, 1.0269658337015026, 1.0104198522825918, 1.0120224305322585, 1.0112428059065957, 1.0115692578864166, 1.011571020999192, 1.0358748097920827, 1.0362748724200685, 1.0287154359395188, 1.0351902770976706, 1.028886559399344, 1.029598839901885, 1.013197006919446, 1.02574249684055, 0.20601867253435996, 0.4120373450687199, 0.20601867253435996, 1.0295926505985398, 1.0278664401777304, 1.0070331449239558, 1.0080184526932257, 1.025523063288626, 1.015776305169934, 1.0081289662344366, 1.0273858678227021, 1.0294172808407116, 1.0361466659472685, 1.029435018008485, 1.0260949712936231, 1.011571020999192, 1.0280097218708184, 1.013032715803057, 0.34334739184473373, 0.17167369592236686, 0.34334739184473373, 1.0130272681892298, 1.0074141050540244, 1.0159301631785789, 1.015724613152582, 1.0131965333655664, 1.0257576859819535, 0.77036661719888, 1.0263698103273868, 1.0073631010311406, 0.9727910795881166, 1.0113765645832338, 1.011571020999192, 0.9992743234735145, 1.0261018806161328, 1.0075380608249156, 0.9880926194178952, 1.0277218616362727, 1.0292947089637197, 1.036086305043737, 1.0077321786468665, 1.0137765446496156, 1.0120441638841087, 1.0256588049415274, 1.011571020999192, 0.9953913230720857, 1.0138415772043208, 1.014903765093276, 0.987995155330993, 0.6750268652020829, 0.33751343260104144, 0.5051563503346335, 0.5051563503346335, 1.0134808688095336, 1.013009678153814, 1.0257845216656019, 1.014989673358361, 1.0363307297756914, 1.0289636600330885, 1.0361464975097514, 0.34039281251816716, 0.6807856250363343, 1.0293421784148777, 0.9661347399231802, 1.0159962522312465, 1.0139734925111827, 1.0284360188879345, 1.036538479723568, 1.028124715556454, 1.0139361270936411, 1.0162218865753545, 1.0161476294369558, 0.9953196703994258, 0.9880887156911304, 1.0162332272190409, 1.015398509552317, 1.012632718935044, 1.0296971599838685, 1.0284360188879345, 1.035461869012119, 1.0260400459376533, 1.017678956605259, 0.9880548318198535, 1.0275922713973173, 1.007775375770529, 1.0164649015324596], \"Term\": [\"absolute\", \"account\", \"amaze\", \"anastasia\", \"antler\", \"architecture\", \"area\", \"artist\", \"asrar\", \"australia\", \"australia\", \"autosport\", \"baby\", \"barbados\", \"barn\", \"beach\", \"beauty\", \"bikini\", \"bird\", \"birthday\", \"blog\", \"blogger\", \"blush\", \"blush\", \"body\", \"bogo\", \"bollywood\", \"book\", \"bow\", \"boy\", \"bride\", \"bring\", \"brow\", \"bruges\", \"brugge\", \"business\", \"call\", \"calorie\", \"capsule\", \"card\", \"care\", \"center\", \"ceremony\", \"check\", \"chicago\", \"child\", \"china\", \"church\", \"church\", \"church\", \"cinema\", \"class\", \"cleanse\", \"client\", \"clip\", \"clip\", \"clothing\", \"coast\", \"coconut\", \"code\", \"coffee\", \"collaboration\", \"college\", \"color\", \"community\", \"competition\", \"competitor\", \"congratulation\", \"control\", \"copenhagen\", \"couple\", \"course\", \"cream\", \"create\", \"crime\", \"cross\", \"cross\", \"custom\", \"dallas\", \"dark\", \"daughter\", \"day\", \"deal\", \"decor\", \"delhi\", \"design\", \"desire\", \"dinner\", \"discount\", \"discover\", \"doctor\", \"door\", \"draw\", \"dream\", \"dress\", \"drop\", \"dubai\", \"dupe\", \"edition\", \"emma\", \"emma\", \"emotion\", \"enjoy\", \"enter\", \"entry\", \"essence\", \"event\", \"exit\", \"eyebrow\", \"face\", \"fact\", \"faisal\", \"family\", \"fashion\", \"feature\", \"fence\", \"festival\", \"fiction\", \"film\", \"fitness\", \"food\", \"foodie\", \"foot\", \"forty\", \"foundation\", \"france\", \"friday\", \"friend\", \"fruit\", \"geek\", \"glam\", \"gold\", \"gram\", \"hacc\", \"hair\", \"hand\", \"haul\", \"hawaii\", \"health\", \"heart\", \"heuer\", \"hisham\", \"hommes\", \"hope\", \"host\", \"hotel\", \"hour\", \"house\", \"huda\", \"ifbb\", \"illustrator\", \"inspiration\", \"inspire\", \"interieur\", \"island\", \"izzy\", \"janeiro\", \"jean\", \"jeff\", \"jewellery\", \"jewelry\", \"june\", \"june\", \"june\", \"kid\", \"kill\", \"kind\", \"kitchen\", \"korsun\", \"lady\", \"land\", \"lash\", \"laura\", \"learn\", \"leica\", \"life\", \"light\", \"link\", \"lip\", \"list\", \"loss\", \"love\", \"luke\", \"luxury\", \"magazine\", \"makeup\", \"marathi\", \"marketing\", \"master\", \"masterclass\", \"mature\", \"meal\", \"medium\", \"meet\", \"member\", \"memory\", \"metabolism\", \"miami\", \"micro\", \"micro\", \"mind\", \"mini\", \"minute\", \"miyake\", \"model\", \"mommy\", \"mommy\", \"monaco\", \"month\", \"morning\", \"motherhood\", \"motivation\", \"mujeres\", \"murder\", \"music\", \"mykonos\", \"nature\", \"news\", \"number\", \"odor\", \"orchard\", \"order\", \"outfit\", \"owner\", \"pain\", \"pain\", \"pakistani\", \"palette\", \"parent\", \"partner\", \"party\", \"passion\", \"passport\", \"pastel\", \"people\", \"pepper\", \"person\", \"person\", \"person\", \"photographer\", \"photographer\", \"pic\", \"picture\", \"pigment\", \"place\", \"plan\", \"plate\", \"play\", \"plug\", \"plum\", \"podcast\", \"point\", \"police\", \"police\", \"pool\", \"popup\", \"potd\", \"powder\", \"prep\", \"press\", \"pressure\", \"price\", \"primark\", \"product\", \"purify\", \"push\", \"question\", \"race\", \"rate\", \"recipe\", \"redes\", \"regain\", \"relationship\", \"repost\", \"resort\", \"rest\", \"review\", \"revolution\", \"road\", \"runner\", \"saint\", \"saint\", \"saint\", \"sale\", \"scene\", \"season\", \"service\", \"session\", \"shoot\", \"shop\", \"siempre\", \"sigma\", \"sister\", \"skin\", \"skull\", \"skywalker\", \"smile\", \"snuggle\", \"song\", \"song\", \"song\", \"sort\", \"south\", \"space\", \"spirit\", \"spot\", \"springer\", \"stag\", \"stage\", \"state\", \"story\", \"strength\", \"study\", \"style\", \"success\", \"sugar\", \"summer\", \"sunday\", \"sunset\", \"support\", \"surprise\", \"talk\", \"team\", \"test\", \"thermogenesis\", \"thing\", \"ticket\", \"time\", \"today\", \"tour\", \"tour\", \"tower\", \"tower\", \"toy\", \"trade\", \"training\", \"travel\", \"trip\", \"trust\", \"vacation\", \"valley\", \"valley\", \"vibe\", \"video\", \"view\", \"viktoria\", \"violent\", \"wait\", \"wall\", \"watch\", \"water\", \"wedding\", \"week\", \"weekend\", \"weight\", \"wicca\", \"winter\", \"woman\", \"woodbine\", \"wool\", \"word\", \"work\", \"year\", \"yesterday\", \"york\", \"youtube\"]}, \"R\": 30, \"lambda.step\": 0.01, \"plot.opts\": {\"xlab\": \"PC1\", \"ylab\": \"PC2\"}, \"topic.order\": [6, 7, 5, 3, 1, 2, 9, 4, 10, 8]};\n",
       "\n",
       "function LDAvis_load_lib(url, callback){\n",
       "  var s = document.createElement('script');\n",
       "  s.src = url;\n",
       "  s.async = true;\n",
       "  s.onreadystatechange = s.onload = callback;\n",
       "  s.onerror = function(){console.warn(\"failed to load library \" + url);};\n",
       "  document.getElementsByTagName(\"head\")[0].appendChild(s);\n",
       "}\n",
       "\n",
       "if(typeof(LDAvis) !== \"undefined\"){\n",
       "   // already loaded: just create the visualization\n",
       "   !function(LDAvis){\n",
       "       new LDAvis(\"#\" + \"ldavis_el1302025548443208405611979640\", ldavis_el1302025548443208405611979640_data);\n",
       "   }(LDAvis);\n",
       "}else if(typeof define === \"function\" && define.amd){\n",
       "   // require.js is available: use it to load d3/LDAvis\n",
       "   require.config({paths: {d3: \"https://cdnjs.cloudflare.com/ajax/libs/d3/3.5.5/d3.min\"}});\n",
       "   require([\"d3\"], function(d3){\n",
       "      window.d3 = d3;\n",
       "      LDAvis_load_lib(\"https://cdn.rawgit.com/bmabey/pyLDAvis/files/ldavis.v1.0.0.js\", function(){\n",
       "        new LDAvis(\"#\" + \"ldavis_el1302025548443208405611979640\", ldavis_el1302025548443208405611979640_data);\n",
       "      });\n",
       "    });\n",
       "}else{\n",
       "    // require.js not available: dynamically load d3 & LDAvis\n",
       "    LDAvis_load_lib(\"https://cdnjs.cloudflare.com/ajax/libs/d3/3.5.5/d3.min.js\", function(){\n",
       "         LDAvis_load_lib(\"https://cdn.rawgit.com/bmabey/pyLDAvis/files/ldavis.v1.0.0.js\", function(){\n",
       "                 new LDAvis(\"#\" + \"ldavis_el1302025548443208405611979640\", ldavis_el1302025548443208405611979640_data);\n",
       "            })\n",
       "         });\n",
       "}\n",
       "</script>"
      ],
      "text/plain": [
       "PreparedData(topic_coordinates=              x         y  topics  cluster       Freq\n",
       "topic                                                \n",
       "5     -0.440104  0.130070       1        1  28.917440\n",
       "6     -0.088927 -0.341347       2        1  14.783510\n",
       "4      0.081424  0.227808       3        1   9.112647\n",
       "2      0.075586  0.021000       4        1   7.794816\n",
       "0      0.063662  0.070839       5        1   7.494521\n",
       "1      0.069800  0.035624       6        1   7.374428\n",
       "8      0.028885 -0.024888       7        1   7.360637\n",
       "3      0.044156 -0.154093       8        1   6.246169\n",
       "9      0.056143 -0.064868       9        1   6.225548\n",
       "7      0.109375  0.099855      10        1   4.690284, topic_info=         Term       Freq      Total Category  logprob  loglift\n",
       "32      style  73.000000  73.000000  Default  30.0000  30.0000\n",
       "156    beauty  46.000000  46.000000  Default  29.0000  29.0000\n",
       "23    fashion  69.000000  69.000000  Default  28.0000  28.0000\n",
       "190    bikini  19.000000  19.000000  Default  27.0000  27.0000\n",
       "157   blogger  39.000000  39.000000  Default  26.0000  26.0000\n",
       "...       ...        ...        ...      ...      ...      ...\n",
       "704     mommy   1.926391   2.957546  Topic10  -4.5692   2.6310\n",
       "2425     emma   1.282607   1.965986  Topic10  -4.9759   2.6326\n",
       "3665   church   1.957898   6.858128  Topic10  -4.5530   1.8061\n",
       "2712    tower   1.025656   1.979585  Topic10  -5.1995   2.4021\n",
       "2209     june   1.028840   2.960795  Topic10  -5.1964   2.0027\n",
       "\n",
       "[375 rows x 6 columns], token_table=       Topic      Freq       Term\n",
       "term                             \n",
       "3865       9  1.025300   absolute\n",
       "621        8  1.007735    account\n",
       "2163       8  1.008268      amaze\n",
       "1064       2  1.029181  anastasia\n",
       "20596      7  1.028404     antler\n",
       "...      ...       ...        ...\n",
       "262        1  1.017679       work\n",
       "22         1  0.988055       year\n",
       "1240       6  1.027592  yesterday\n",
       "690        8  1.007775       york\n",
       "3196       3  1.016465    youtube\n",
       "\n",
       "[366 rows x 3 columns], R=30, lambda_step=0.01, plot_opts={'xlab': 'PC1', 'ylab': 'PC2'}, topic_order=[6, 7, 5, 3, 1, 2, 9, 4, 10, 8])"
      ]
     },
     "execution_count": 19,
     "metadata": {},
     "output_type": "execute_result"
    }
   ],
   "source": [
    "# Visualize the topics\n",
    "pyLDAvis.enable_notebook()\n",
    "vis = pyLDAvis.gensim.prepare(lda_model, corpus, id2word)\n",
    "vis"
   ]
  },
  {
   "cell_type": "markdown",
   "metadata": {},
   "source": [
    "### Save document-topic matrix (most significant topic per document)  \n",
    " https://github.com/Sim-Xuesi/content-based_movie_recommender/blob/master/Content%20Based%20Recommender%20System%20with%20LDA%20%26%20Cosine.ipynb  \n",
    " https://medium.com/@nicoleeesim97/building-a-simple-content-based-recommender-system-for-movies-and-tv-shows-73fec4f325ae  "
   ]
  },
  {
   "cell_type": "code",
   "execution_count": 20,
   "metadata": {},
   "outputs": [
    {
     "name": "stderr",
     "output_type": "stream",
     "text": [
      "C:\\Users\\minio\\anaconda3\\envs\\tfm-py-37\\lib\\site-packages\\ipykernel\\ipkernel.py:287: DeprecationWarning: `should_run_async` will not call `transform_cell` automatically in the future. Please pass the result to `transformed_cell` argument and any exception that happen during thetransform in `preprocessing_exc_tuple` in IPython 7.17 and above.\n",
      "  and should_run_async(code)\n"
     ]
    },
    {
     "name": "stdout",
     "output_type": "stream",
     "text": [
      "       Document  Topic  Probability\n",
      "0       2020349      5     0.600225\n",
      "1       2072327      5     0.731835\n",
      "2       2031394      2     0.255707\n",
      "3       3030792      7     0.100000\n",
      "4       1833599      9     0.525587\n",
      "...         ...    ...          ...\n",
      "88135   1813781      7     0.100000\n",
      "88136   2410730      0     0.254908\n",
      "88137   1641592      2     0.288736\n",
      "88138   1887257      5     0.616392\n",
      "88139   2203270      2     0.366874\n",
      "\n",
      "[88140 rows x 3 columns]\n"
     ]
    }
   ],
   "source": [
    "def Sort_Tuple(tup):  \n",
    "    return(sorted(tup, key = lambda x: x[1], reverse = True))\n",
    "\n",
    "doc_num, topic_num, prob = [], [], []\n",
    "\n",
    "document_topic_matrix = documents\n",
    "\n",
    "for n in range(len(documents)):\n",
    "    get_document_topics = lda_model.get_document_topics(corpus_total[n], minimum_probability=0)\n",
    "    doc_num.append(documents.index[n])\n",
    "    sorted_doc_topics = Sort_Tuple(get_document_topics)\n",
    "    topic_num.append(sorted_doc_topics[0][0])\n",
    "    prob.append(sorted_doc_topics[0][1])\n",
    "    \n",
    "data = {'Document': doc_num\n",
    "        ,'Topic': topic_num\n",
    "        ,'Probability': prob}\n",
    "df = pd.DataFrame(data) \n",
    "df.to_csv(file_model + '_document_topic_matrix.csv', index=False)\n",
    "print(df)"
   ]
  },
  {
   "cell_type": "markdown",
   "metadata": {},
   "source": [
    "### Save document-topic matrix (all topic's probability per document)  \n",
    "https://github.com/Sim-Xuesi/content-based_movie_recommender/blob/master/Content%20Based%20Recommender%20System%20with%20LDA%20%26%20Cosine.ipynb  \n",
    "https://medium.com/@nicoleeesim97/building-a-simple-content-based-recommender-system-for-movies-and-tv-shows-73fec4f325ae  "
   ]
  },
  {
   "cell_type": "code",
   "execution_count": 21,
   "metadata": {},
   "outputs": [
    {
     "name": "stderr",
     "output_type": "stream",
     "text": [
      "C:\\Users\\minio\\anaconda3\\envs\\tfm-py-37\\lib\\site-packages\\ipykernel\\ipkernel.py:287: DeprecationWarning: `should_run_async` will not call `transform_cell` automatically in the future. Please pass the result to `transformed_cell` argument and any exception that happen during thetransform in `preprocessing_exc_tuple` in IPython 7.17 and above.\n",
      "  and should_run_async(code)\n"
     ]
    },
    {
     "name": "stdout",
     "output_type": "stream",
     "text": [
      "       Document    Topic0    Topic1    Topic2    Topic3    Topic4    Topic5  \\\n",
      "0       2020349  0.157753  0.042315  0.099652  0.003844  0.042350  0.600222   \n",
      "1       2072327  0.004545  0.004545  0.004545  0.004545  0.049990  0.731835   \n",
      "2       2031394  0.006230  0.130970  0.255707  0.068602  0.130933  0.195628   \n",
      "3       3030792  0.100000  0.100000  0.100000  0.100000  0.100000  0.100000   \n",
      "4       1833599  0.024921  0.024921  0.024921  0.275042  0.024922  0.024921   \n",
      "...         ...       ...       ...       ...       ...       ...       ...   \n",
      "88135   1813781  0.100000  0.100000  0.100000  0.100000  0.100000  0.100000   \n",
      "88136   2410730  0.254910  0.090387  0.008218  0.185913  0.254881  0.090613   \n",
      "88137   1641592  0.078542  0.007139  0.288734  0.007139  0.082845  0.221271   \n",
      "88138   1887257  0.117109  0.061059  0.005557  0.061108  0.061038  0.616390   \n",
      "88139   2203270  0.033318  0.033318  0.366874  0.033318  0.033318  0.366584   \n",
      "\n",
      "         Topic6    Topic7    Topic8    Topic9  \n",
      "0      0.003844  0.042331  0.003844  0.003844  \n",
      "1      0.004545  0.004545  0.095436  0.095467  \n",
      "2      0.130886  0.006230  0.006230  0.068586  \n",
      "3      0.100000  0.100000  0.100000  0.100000  \n",
      "4      0.024921  0.024921  0.024921  0.525587  \n",
      "...         ...       ...       ...       ...  \n",
      "88135  0.100000  0.100000  0.100000  0.100000  \n",
      "88136  0.008218  0.008218  0.008218  0.090425  \n",
      "88137  0.078546  0.007139  0.078545  0.150102  \n",
      "88138  0.061086  0.005551  0.005551  0.005551  \n",
      "88139  0.033318  0.033318  0.033318  0.033318  \n",
      "\n",
      "[88140 rows x 11 columns]\n"
     ]
    }
   ],
   "source": [
    "doc_num = []\n",
    "prob0, prob1, prob2, prob3, prob4, prob5, prob6, prob7, prob8, prob9 = ([] for i in range(num_topics))\n",
    "\n",
    "document_topic_matrix = documents\n",
    "\n",
    "for n in range(len(documents)):\n",
    "    get_document_topics = lda_model.get_document_topics(corpus_total[n], minimum_probability=0)\n",
    "    doc_num.append(documents.index[n])\n",
    "    prob0.append(get_document_topics[0][1])\n",
    "    prob1.append(get_document_topics[1][1])\n",
    "    prob2.append(get_document_topics[2][1])\n",
    "    prob3.append(get_document_topics[3][1])\n",
    "    prob4.append(get_document_topics[4][1])\n",
    "    prob5.append(get_document_topics[5][1])\n",
    "    prob6.append(get_document_topics[6][1])\n",
    "    prob7.append(get_document_topics[7][1])\n",
    "    prob8.append(get_document_topics[8][1])\n",
    "    prob9.append(get_document_topics[9][1])\n",
    "    \n",
    "data = {'Document': doc_num\n",
    "        ,'Topic0': prob0\n",
    "        ,'Topic1': prob1\n",
    "        ,'Topic2': prob2\n",
    "        ,'Topic3': prob3\n",
    "        ,'Topic4': prob4\n",
    "        ,'Topic5': prob5\n",
    "        ,'Topic6': prob6\n",
    "        ,'Topic7': prob7\n",
    "        ,'Topic8': prob8\n",
    "        ,'Topic9': prob9}\n",
    "\n",
    "df = pd.DataFrame(data) \n",
    "df.to_csv(file_model + '_document_topic_matrix_full.csv', index=False)\n",
    "print(df)"
   ]
  },
  {
   "cell_type": "markdown",
   "metadata": {},
   "source": [
    "### Save topic-term matrix"
   ]
  },
  {
   "cell_type": "code",
   "execution_count": 22,
   "metadata": {},
   "outputs": [
    {
     "name": "stderr",
     "output_type": "stream",
     "text": [
      "C:\\Users\\minio\\anaconda3\\envs\\tfm-py-37\\lib\\site-packages\\ipykernel\\ipkernel.py:287: DeprecationWarning: `should_run_async` will not call `transform_cell` automatically in the future. Please pass the result to `transformed_cell` argument and any exception that happen during thetransform in `preprocessing_exc_tuple` in IPython 7.17 and above.\n",
      "  and should_run_async(code)\n"
     ]
    }
   ],
   "source": [
    "# get topic-term-matrix\n",
    "topic_term_matrix = lda_model.get_topics()\n",
    "# save topic-term matrix\n",
    "savetxt(file_model + '_topic_term_matrix.csv', topic_term_matrix, delimiter=',')"
   ]
  }
 ],
 "metadata": {
  "kernelspec": {
   "display_name": "Python 3",
   "language": "python",
   "name": "python3"
  },
  "language_info": {
   "codemirror_mode": {
    "name": "ipython",
    "version": 3
   },
   "file_extension": ".py",
   "mimetype": "text/x-python",
   "name": "python",
   "nbconvert_exporter": "python",
   "pygments_lexer": "ipython3",
   "version": "3.7.9"
  }
 },
 "nbformat": 4,
 "nbformat_minor": 4
}
