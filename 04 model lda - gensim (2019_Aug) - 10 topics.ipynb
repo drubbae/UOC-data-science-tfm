{
 "cells": [
  {
   "cell_type": "markdown",
   "metadata": {},
   "source": [
    "# <span style=\"color:blue\">LDA model (2019_Aug) - 10 topics</span>"
   ]
  },
  {
   "cell_type": "code",
   "execution_count": 1,
   "metadata": {},
   "outputs": [],
   "source": [
    "yyyy_MMM = '2019_Aug'"
   ]
  },
  {
   "cell_type": "markdown",
   "metadata": {},
   "source": [
    "### Load packages"
   ]
  },
  {
   "cell_type": "code",
   "execution_count": 2,
   "metadata": {},
   "outputs": [
    {
     "name": "stderr",
     "output_type": "stream",
     "text": [
      "C:\\Users\\minio\\anaconda3\\envs\\tfm-py-37\\lib\\site-packages\\botocore\\vendored\\requests\\packages\\urllib3\\_collections.py:1: DeprecationWarning: Using or importing the ABCs from 'collections' instead of from 'collections.abc' is deprecated since Python 3.3,and in 3.9 it will stop working\n",
      "  from collections import Mapping, MutableMapping\n",
      "C:\\Users\\minio\\anaconda3\\envs\\tfm-py-37\\lib\\site-packages\\botocore\\vendored\\requests\\packages\\urllib3\\_collections.py:1: DeprecationWarning: Using or importing the ABCs from 'collections' instead of from 'collections.abc' is deprecated since Python 3.3,and in 3.9 it will stop working\n",
      "  from collections import Mapping, MutableMapping\n",
      "C:\\Users\\minio\\anaconda3\\envs\\tfm-py-37\\lib\\site-packages\\scipy\\sparse\\sparsetools.py:21: DeprecationWarning: `scipy.sparse.sparsetools` is deprecated!\n",
      "scipy.sparse.sparsetools is a private module for scipy.sparse, and should not be used.\n",
      "  _deprecated()\n",
      "C:\\Users\\minio\\anaconda3\\envs\\tfm-py-37\\lib\\site-packages\\gensim\\models\\doc2vec.py:73: DeprecationWarning: Using or importing the ABCs from 'collections' instead of from 'collections.abc' is deprecated since Python 3.3,and in 3.9 it will stop working\n",
      "  from collections import namedtuple, defaultdict, Iterable\n",
      "[nltk_data] Downloading package stopwords to\n",
      "[nltk_data]     C:\\Users\\minio\\AppData\\Roaming\\nltk_data...\n",
      "[nltk_data]   Package stopwords is already up-to-date!\n",
      "[nltk_data] Downloading package averaged_perceptron_tagger to\n",
      "[nltk_data]     C:\\Users\\minio\\AppData\\Roaming\\nltk_data...\n",
      "[nltk_data]   Package averaged_perceptron_tagger is already up-to-\n",
      "[nltk_data]       date!\n"
     ]
    },
    {
     "data": {
      "text/plain": [
       "True"
      ]
     },
     "execution_count": 2,
     "metadata": {},
     "output_type": "execute_result"
    }
   ],
   "source": [
    "import csv, os, re, time\n",
    "import numpy as np\n",
    "from numpy import savetxt\n",
    "import pandas as  pd\n",
    "import matplotlib.pyplot as plt  \n",
    "import pyLDAvis\n",
    "import pyLDAvis.gensim\n",
    "import gensim\n",
    "import gensim.corpora as corpora\n",
    "from gensim.corpora.dictionary import Dictionary\n",
    "from gensim.models import CoherenceModel\n",
    "from gensim.test.utils import datapath\n",
    "from gensim.utils import simple_preprocess\n",
    "from pprint import pprint\n",
    "import nltk\n",
    "nltk.download('stopwords')\n",
    "nltk.download('averaged_perceptron_tagger')"
   ]
  },
  {
   "cell_type": "markdown",
   "metadata": {},
   "source": [
    "### Constants"
   ]
  },
  {
   "cell_type": "code",
   "execution_count": 3,
   "metadata": {},
   "outputs": [
    {
     "name": "stdout",
     "output_type": "stream",
     "text": [
      "D:\\master\\data science\\semestre 4\\M2.979 - tfm\\data\\bins\\doc\\2019_Aug\\2019_Aug_28_results.csv\n",
      "D:\\master\\data science\\semestre 4\\M2.979 - tfm\\data\\bins\\model\\2019_Aug\\model\n"
     ]
    },
    {
     "name": "stderr",
     "output_type": "stream",
     "text": [
      "C:\\Users\\minio\\anaconda3\\envs\\tfm-py-37\\lib\\site-packages\\ipykernel\\ipkernel.py:287: DeprecationWarning: `should_run_async` will not call `transform_cell` automatically in the future. Please pass the result to `transformed_cell` argument and any exception that happen during thetransform in `preprocessing_exc_tuple` in IPython 7.17 and above.\n",
      "  and should_run_async(code)\n"
     ]
    }
   ],
   "source": [
    "# for reproducible results\n",
    "random_state = 33\n",
    "# if the test is True, the process runs on a smaller subset of raw data (json files)\n",
    "test = False\n",
    "# if sample > 0, then we take a sample of the entire dataset (for debugging purpose)\n",
    "sample = 0\n",
    "# parameters to build the lda model\n",
    "num_topics = 10\n",
    "\n",
    "if test:\n",
    "    # path with the documents preprocessed\n",
    "    path_doc = r'D:\\master\\data science\\semestre 4\\M2.979 - tfm\\data\\bins_test\\doc'\n",
    "    # path where store all data/results related to the model\n",
    "    path_model = r'D:\\master\\data science\\semestre 4\\M2.979 - tfm\\data\\bins_test\\model'\n",
    "    # chunksize to build LDA model\n",
    "    chunksize = 250\n",
    "else:\n",
    "    # path with the documents preprocessed\n",
    "    path_doc = r'D:\\master\\data science\\semestre 4\\M2.979 - tfm\\data\\bins\\doc'\n",
    "    # path where store all data/results related to the model\n",
    "    path_model = r'D:\\master\\data science\\semestre 4\\M2.979 - tfm\\data\\bins\\model'\n",
    "    # chunksize to build LDA model\n",
    "    chunksize = 5000\n",
    "\n",
    "# path + name of the file that contains the documents preprocessed\n",
    "file_doc = os.path.join(path_doc, yyyy_MMM, yyyy_MMM) + '_28_results.csv'\n",
    "# path + name of the file that contains the model gotten at the end\n",
    "file_model = os.path.join(path_model, yyyy_MMM, 'model')\n",
    "print(file_doc)\n",
    "print(file_model)"
   ]
  },
  {
   "cell_type": "markdown",
   "metadata": {},
   "source": [
    "### Load data preprocessed"
   ]
  },
  {
   "cell_type": "code",
   "execution_count": 4,
   "metadata": {},
   "outputs": [
    {
     "name": "stderr",
     "output_type": "stream",
     "text": [
      "C:\\Users\\minio\\anaconda3\\envs\\tfm-py-37\\lib\\site-packages\\ipykernel\\ipkernel.py:287: DeprecationWarning: `should_run_async` will not call `transform_cell` automatically in the future. Please pass the result to `transformed_cell` argument and any exception that happen during thetransform in `preprocessing_exc_tuple` in IPython 7.17 and above.\n",
      "  and should_run_async(code)\n"
     ]
    },
    {
     "data": {
      "text/plain": [
       "id_doc\n",
       "1617711                       ['love', 'love', 'compassion']\n",
       "3083953    ['cosmetic', 'island', 'time', 'collection', '...\n",
       "2171404                         ['suit', 'tesa', 'boutique']\n",
       "2368485    ['excite', 'reveal', 'late', 'campaign', 'boy'...\n",
       "2597415    ['friend', 'swimwear', 'fama', 'summer', 'summ...\n",
       "2357037    ['breakfast', 'awesome', 'favorite', 'morning'...\n",
       "2236227    ['session', 'hour', 'pain', 'pain', 'bearable'...\n",
       "2687942    ['travel', 'paris', 'trip', 'culture', 'good',...\n",
       "2945152    ['beautiful', 'week', 'beckett', 'favourite', ...\n",
       "2144971    ['hello', 'august', 'dream', 'chic', 'fashion'...\n",
       "Name: content_preprocessed, dtype: object"
      ]
     },
     "execution_count": 4,
     "metadata": {},
     "output_type": "execute_result"
    }
   ],
   "source": [
    "df = pd.read_csv(file_doc, index_col='id_doc')\n",
    "documents = df.content_preprocessed\n",
    "documents.head(10)"
   ]
  },
  {
   "cell_type": "markdown",
   "metadata": {},
   "source": [
    "### Shuffle"
   ]
  },
  {
   "cell_type": "code",
   "execution_count": 5,
   "metadata": {},
   "outputs": [
    {
     "name": "stderr",
     "output_type": "stream",
     "text": [
      "C:\\Users\\minio\\anaconda3\\envs\\tfm-py-37\\lib\\site-packages\\ipykernel\\ipkernel.py:287: DeprecationWarning: `should_run_async` will not call `transform_cell` automatically in the future. Please pass the result to `transformed_cell` argument and any exception that happen during thetransform in `preprocessing_exc_tuple` in IPython 7.17 and above.\n",
      "  and should_run_async(code)\n"
     ]
    },
    {
     "data": {
      "text/plain": [
       "id_doc\n",
       "1797657    ['garrett', 'barlow', 'wear', 'chambray', 'wor...\n",
       "2389775                          ['friday', 'cest', 'movie']\n",
       "1762348    ['creative', 'love', 'life', 'creative', 'love...\n",
       "2627997    ['gram', 'reality', 'swipe', 'interruption', '...\n",
       "2005691    ['help', 'create', 'change', 'motto', 'school'...\n",
       "1973773    ['weekend', 'lake', 'life', 'family', 'chees',...\n",
       "2951699    ['giveaway', 'honor', 'year', 'anniversary', '...\n",
       "2629016    ['office', 'friday', 'change', 'couple', 'mont...\n",
       "1802030    ['napo', 'wildlife', 'center', 'note', 'transp...\n",
       "3083120    ['throwback', 'tune', 'nashville', 'exact', 'l...\n",
       "Name: content_preprocessed, dtype: object"
      ]
     },
     "execution_count": 5,
     "metadata": {},
     "output_type": "execute_result"
    }
   ],
   "source": [
    "documents = documents.sample(frac=1, random_state=random_state)\n",
    "documents.head(10)"
   ]
  },
  {
   "cell_type": "markdown",
   "metadata": {},
   "source": [
    "### Sample"
   ]
  },
  {
   "cell_type": "code",
   "execution_count": 6,
   "metadata": {},
   "outputs": [
    {
     "name": "stderr",
     "output_type": "stream",
     "text": [
      "C:\\Users\\minio\\anaconda3\\envs\\tfm-py-37\\lib\\site-packages\\ipykernel\\ipkernel.py:287: DeprecationWarning: `should_run_async` will not call `transform_cell` automatically in the future. Please pass the result to `transformed_cell` argument and any exception that happen during thetransform in `preprocessing_exc_tuple` in IPython 7.17 and above.\n",
      "  and should_run_async(code)\n"
     ]
    }
   ],
   "source": [
    "if sample > 0:\n",
    "    documents = documents.sample(n=sample, random_state=random_state)\n",
    "    print(documents.head(10))"
   ]
  },
  {
   "cell_type": "markdown",
   "metadata": {},
   "source": [
    "### Plot the number of words appearing in each document  \n",
    "\n",
    "https://neptune.ai/blog/exploratory-data-analysis-natural-language-processing-tools"
   ]
  },
  {
   "cell_type": "code",
   "execution_count": 7,
   "metadata": {},
   "outputs": [
    {
     "name": "stderr",
     "output_type": "stream",
     "text": [
      "C:\\Users\\minio\\anaconda3\\envs\\tfm-py-37\\lib\\site-packages\\ipykernel\\ipkernel.py:287: DeprecationWarning: `should_run_async` will not call `transform_cell` automatically in the future. Please pass the result to `transformed_cell` argument and any exception that happen during thetransform in `preprocessing_exc_tuple` in IPython 7.17 and above.\n",
      "  and should_run_async(code)\n"
     ]
    },
    {
     "name": "stdout",
     "output_type": "stream",
     "text": [
      "(103351,)\n"
     ]
    },
    {
     "data": {
      "text/plain": [
       "<AxesSubplot:>"
      ]
     },
     "execution_count": 7,
     "metadata": {},
     "output_type": "execute_result"
    },
    {
     "data": {
      "image/png": "[encoded data removed]",
      "text/plain": [
       "<Figure size 432x288 with 1 Axes>"
      ]
     },
     "metadata": {
      "needs_background": "light"
     },
     "output_type": "display_data"
    }
   ],
   "source": [
    "print(documents.shape)\n",
    "\n",
    "documents.str.split().\\\n",
    "    map(lambda x: len(x)).\\\n",
    "    hist()"
   ]
  },
  {
   "cell_type": "markdown",
   "metadata": {},
   "source": [
    "### Remove words that appear only once"
   ]
  },
  {
   "cell_type": "code",
   "execution_count": 8,
   "metadata": {},
   "outputs": [
    {
     "name": "stderr",
     "output_type": "stream",
     "text": [
      "C:\\Users\\minio\\anaconda3\\envs\\tfm-py-37\\lib\\site-packages\\ipykernel\\ipkernel.py:287: DeprecationWarning: `should_run_async` will not call `transform_cell` automatically in the future. Please pass the result to `transformed_cell` argument and any exception that happen during thetransform in `preprocessing_exc_tuple` in IPython 7.17 and above.\n",
      "  and should_run_async(code)\n"
     ]
    }
   ],
   "source": [
    "####################### PENDING"
   ]
  },
  {
   "cell_type": "markdown",
   "metadata": {},
   "source": [
    "### Tokenize words and Clean-up text"
   ]
  },
  {
   "cell_type": "code",
   "execution_count": 9,
   "metadata": {},
   "outputs": [
    {
     "name": "stderr",
     "output_type": "stream",
     "text": [
      "C:\\Users\\minio\\anaconda3\\envs\\tfm-py-37\\lib\\site-packages\\ipykernel\\ipkernel.py:287: DeprecationWarning: `should_run_async` will not call `transform_cell` automatically in the future. Please pass the result to `transformed_cell` argument and any exception that happen during thetransform in `preprocessing_exc_tuple` in IPython 7.17 and above.\n",
      "  and should_run_async(code)\n"
     ]
    }
   ],
   "source": [
    "# https://www.machinelearningplus.com/nlp/topic-modeling-gensim-python/#3importpackages\n",
    "def sent_to_words(sentences):\n",
    "    for sentence in sentences:\n",
    "        yield(gensim.utils.simple_preprocess(str(sentence), deacc=True))  # deacc=True removes punctuations"
   ]
  },
  {
   "cell_type": "markdown",
   "metadata": {},
   "source": [
    "### Compute bigrams & trigrams  \n",
    "\n",
    "https://radimrehurek.com/gensim/auto_examples/tutorials/run_lda.html#pre-process-and-vectorize-the-documents"
   ]
  },
  {
   "cell_type": "code",
   "execution_count": 10,
   "metadata": {},
   "outputs": [
    {
     "name": "stderr",
     "output_type": "stream",
     "text": [
      "C:\\Users\\minio\\anaconda3\\envs\\tfm-py-37\\lib\\site-packages\\ipykernel\\ipkernel.py:287: DeprecationWarning: `should_run_async` will not call `transform_cell` automatically in the future. Please pass the result to `transformed_cell` argument and any exception that happen during thetransform in `preprocessing_exc_tuple` in IPython 7.17 and above.\n",
      "  and should_run_async(code)\n"
     ]
    }
   ],
   "source": [
    "from gensim.models import Phrases\n",
    "\n",
    "# Add bigrams and trigrams to docs (only ones that appear min_count times or more).\n",
    "def bi_tri_grams(documents, min_count):\n",
    "    bigram = Phrases(documents, min_count=min_count)\n",
    "    for idx in range(len(documents)):\n",
    "        for token in bigram[documents[idx]]:\n",
    "            if '_' in token:\n",
    "                # Token is a bigram, add to document.\n",
    "                documents[idx].append(token)"
   ]
  },
  {
   "cell_type": "markdown",
   "metadata": {},
   "source": [
    "### Categorizing and tagging words"
   ]
  },
  {
   "cell_type": "code",
   "execution_count": 11,
   "metadata": {},
   "outputs": [
    {
     "name": "stderr",
     "output_type": "stream",
     "text": [
      "C:\\Users\\minio\\anaconda3\\envs\\tfm-py-37\\lib\\site-packages\\ipykernel\\ipkernel.py:287: DeprecationWarning: `should_run_async` will not call `transform_cell` automatically in the future. Please pass the result to `transformed_cell` argument and any exception that happen during thetransform in `preprocessing_exc_tuple` in IPython 7.17 and above.\n",
      "  and should_run_async(code)\n"
     ]
    }
   ],
   "source": [
    "# function to remove accented characters\n",
    "def tag_words(text):\n",
    "    tags = nltk.pos_tag(text)\n",
    "    nouns = [word for word, pos in tags if (pos == 'NN' or pos == 'NNP' or pos == 'NNS' or pos == 'NNPS')]\n",
    "    return nouns"
   ]
  },
  {
   "cell_type": "markdown",
   "metadata": {},
   "source": [
    "### Dictionary with the entire dataset"
   ]
  },
  {
   "cell_type": "code",
   "execution_count": 12,
   "metadata": {},
   "outputs": [
    {
     "name": "stderr",
     "output_type": "stream",
     "text": [
      "C:\\Users\\minio\\anaconda3\\envs\\tfm-py-37\\lib\\site-packages\\ipykernel\\ipkernel.py:287: DeprecationWarning: `should_run_async` will not call `transform_cell` automatically in the future. Please pass the result to `transformed_cell` argument and any exception that happen during thetransform in `preprocessing_exc_tuple` in IPython 7.17 and above.\n",
      "  and should_run_async(code)\n"
     ]
    }
   ],
   "source": [
    "data_words = list(sent_to_words(documents))\n",
    "# Compute bigrams & trigrams\n",
    "bi_tri_grams(data_words, 250)\n",
    "# Categorizing and tagging words\n",
    "data_words = list(map(tag_words, data_words))\n",
    "# Create Dictionary\n",
    "id2word = Dictionary(data_words)\n",
    "# Create Corpus\n",
    "texts = data_words\n",
    "# Term Document Frequency\n",
    "corpus_total = [id2word.doc2bow(text) for text in texts]"
   ]
  },
  {
   "cell_type": "markdown",
   "metadata": {},
   "source": [
    "### Save document-term matrix"
   ]
  },
  {
   "cell_type": "code",
   "execution_count": 13,
   "metadata": {},
   "outputs": [
    {
     "name": "stderr",
     "output_type": "stream",
     "text": [
      "C:\\Users\\minio\\anaconda3\\envs\\tfm-py-37\\lib\\site-packages\\ipykernel\\ipkernel.py:287: DeprecationWarning: `should_run_async` will not call `transform_cell` automatically in the future. Please pass the result to `transformed_cell` argument and any exception that happen during thetransform in `preprocessing_exc_tuple` in IPython 7.17 and above.\n",
      "  and should_run_async(code)\n",
      "C:\\Users\\minio\\anaconda3\\envs\\tfm-py-37\\lib\\site-packages\\numpy\\core\\_asarray.py:83: VisibleDeprecationWarning: Creating an ndarray from ragged nested sequences (which is a list-or-tuple of lists-or-tuples-or ndarrays with different lengths or shapes) is deprecated. If you meant to do this, you must specify 'dtype=object' when creating the ndarray\n",
      "  return array(a, dtype, copy=False, order=order)\n"
     ]
    }
   ],
   "source": [
    "# save document-term matrix\n",
    "savetxt(file_model + '_document_term_matrix.csv', corpus_total, delimiter=',', fmt='% s')"
   ]
  },
  {
   "cell_type": "markdown",
   "metadata": {},
   "source": [
    "### Build LDA model"
   ]
  },
  {
   "cell_type": "code",
   "execution_count": 14,
   "metadata": {},
   "outputs": [
    {
     "name": "stderr",
     "output_type": "stream",
     "text": [
      "C:\\Users\\minio\\anaconda3\\envs\\tfm-py-37\\lib\\site-packages\\ipykernel\\ipkernel.py:287: DeprecationWarning: `should_run_async` will not call `transform_cell` automatically in the future. Please pass the result to `transformed_cell` argument and any exception that happen during thetransform in `preprocessing_exc_tuple` in IPython 7.17 and above.\n",
      "  and should_run_async(code)\n"
     ]
    },
    {
     "name": "stdout",
     "output_type": "stream",
     "text": [
      "time elapsed - 00:00:38.06\n"
     ]
    }
   ],
   "source": [
    "perplexity_score = []\n",
    "coherence_score = []\n",
    "indixes = []\n",
    "\n",
    "index = 0\n",
    "chunk_size = 250\n",
    "documents_sample = documents[index:chunk_size-1]\n",
    "\n",
    "time_start = time.time()\n",
    "\n",
    "data_words = list(sent_to_words(documents_sample))\n",
    "# Compute bigrams & trigrams\n",
    "bi_tri_grams(data_words, 250)\n",
    "# Categorizing and tagging words\n",
    "data_words = list(map(tag_words, data_words))\n",
    "# # Create Dictionary\n",
    "# id2word = Dictionary(data_words)\n",
    "# Create Corpus\n",
    "texts = data_words\n",
    "# Term Document Frequency\n",
    "corpus = [id2word.doc2bow(text) for text in texts]\n",
    "# Build LDA Model\n",
    "lda_model = gensim.models.LdaMulticore(corpus=corpus\n",
    "                                       ,id2word=id2word\n",
    "                                       ,num_topics=num_topics\n",
    "                                       ,random_state=random_state\n",
    "                                       ,chunksize=chunksize\n",
    "                                       ,passes=50\n",
    "                                       ,per_word_topics=True)\n",
    "\n",
    "indixes.append(index)\n",
    "\n",
    "# Evaluate LDA Model\n",
    "# Compute Perplexity Score\n",
    "perplexity = lda_model.log_perplexity(corpus)\n",
    "perplexity_score.append(perplexity)\n",
    "\n",
    "# Evaluate LDA Model\n",
    "# Compute Coherence Score\n",
    "coherence_lda_model = CoherenceModel(model=lda_model, texts=data_words, dictionary=id2word, coherence='c_v')\n",
    "coherence = coherence_lda_model.get_coherence()\n",
    "coherence_score.append(coherence)\n",
    "\n",
    "# Save LDA Model\n",
    "temp_file = datapath(file_model)\n",
    "lda_model.save(temp_file)\n",
    "temp_file = datapath(file_model + '_' + str(index).zfill(5))\n",
    "lda_model.save(temp_file)\n",
    "\n",
    "time_end = time.time()\n",
    "hour, rem = divmod(time_end - time_start, 3600)\n",
    "minute, second = divmod(rem, 60)\n",
    "print('time elapsed - {:0>2}:{:0>2}:{:05.2f}'.format(int(hour), int(minute), second))"
   ]
  },
  {
   "cell_type": "markdown",
   "metadata": {},
   "source": [
    "### Incremental learning"
   ]
  },
  {
   "cell_type": "code",
   "execution_count": 15,
   "metadata": {},
   "outputs": [
    {
     "name": "stdout",
     "output_type": "stream",
     "text": [
      "0  -----  250  -----  499\n"
     ]
    },
    {
     "name": "stderr",
     "output_type": "stream",
     "text": [
      "C:\\Users\\minio\\anaconda3\\envs\\tfm-py-37\\lib\\site-packages\\ipykernel\\ipkernel.py:287: DeprecationWarning: `should_run_async` will not call `transform_cell` automatically in the future. Please pass the result to `transformed_cell` argument and any exception that happen during thetransform in `preprocessing_exc_tuple` in IPython 7.17 and above.\n",
      "  and should_run_async(code)\n"
     ]
    },
    {
     "name": "stdout",
     "output_type": "stream",
     "text": [
      "time elapsed - 00:00:36.39\n",
      "1  -----  500  -----  749\n",
      "time elapsed - 00:00:35.52\n",
      "2  -----  750  -----  999\n",
      "time elapsed - 00:00:38.31\n",
      "3  -----  1000  -----  1249\n",
      "time elapsed - 00:00:39.67\n",
      "4  -----  1250  -----  1499\n",
      "time elapsed - 00:00:38.99\n",
      "5  -----  1500  -----  1749\n",
      "time elapsed - 00:00:41.44\n",
      "6  -----  1750  -----  1999\n",
      "time elapsed - 00:00:41.67\n",
      "7  -----  2000  -----  2249\n",
      "time elapsed - 00:00:43.45\n",
      "8  -----  2250  -----  2499\n",
      "time elapsed - 00:00:43.34\n",
      "9  -----  2500  -----  2749\n",
      "time elapsed - 00:00:42.59\n",
      "10  -----  2750  -----  2999\n",
      "time elapsed - 00:00:43.48\n",
      "11  -----  3000  -----  3249\n",
      "time elapsed - 00:00:42.99\n",
      "12  -----  3250  -----  3499\n",
      "time elapsed - 00:00:43.75\n",
      "13  -----  3500  -----  3749\n",
      "time elapsed - 00:00:42.82\n",
      "14  -----  3750  -----  3999\n",
      "time elapsed - 00:00:42.80\n",
      "15  -----  4000  -----  4249\n",
      "time elapsed - 00:00:45.81\n",
      "16  -----  4250  -----  4499\n",
      "time elapsed - 00:00:43.13\n",
      "17  -----  4500  -----  4749\n",
      "time elapsed - 00:00:42.80\n",
      "18  -----  4750  -----  4999\n",
      "time elapsed - 00:00:43.39\n",
      "19  -----  5000  -----  5249\n",
      "time elapsed - 00:00:42.48\n",
      "20  -----  5250  -----  5499\n"
     ]
    },
    {
     "name": "stderr",
     "output_type": "stream",
     "text": [
      "C:\\Users\\minio\\anaconda3\\envs\\tfm-py-37\\lib\\site-packages\\gensim\\topic_coherence\\direct_confirmation_measure.py:204: RuntimeWarning: divide by zero encountered in double_scalars\n",
      "  m_lr_i = np.log(numerator / denominator)\n",
      "C:\\Users\\minio\\anaconda3\\envs\\tfm-py-37\\lib\\site-packages\\gensim\\topic_coherence\\indirect_confirmation_measure.py:323: RuntimeWarning: invalid value encountered in double_scalars\n",
      "  return cv1.T.dot(cv2)[0, 0] / (_magnitude(cv1) * _magnitude(cv2))\n"
     ]
    },
    {
     "name": "stdout",
     "output_type": "stream",
     "text": [
      "time elapsed - 00:00:43.71\n",
      "21  -----  5500  -----  5749\n",
      "time elapsed - 00:00:43.65\n",
      "22  -----  5750  -----  5999\n",
      "time elapsed - 00:00:42.32\n",
      "23  -----  6000  -----  6249\n",
      "time elapsed - 00:00:42.15\n",
      "24  -----  6250  -----  6499\n",
      "time elapsed - 00:00:42.80\n",
      "25  -----  6500  -----  6749\n",
      "time elapsed - 00:00:44.01\n",
      "26  -----  6750  -----  6999\n",
      "time elapsed - 00:00:44.59\n",
      "27  -----  7000  -----  7249\n",
      "time elapsed - 00:00:43.47\n",
      "28  -----  7250  -----  7499\n",
      "time elapsed - 00:00:42.58\n",
      "29  -----  7500  -----  7749\n",
      "time elapsed - 00:00:41.83\n",
      "30  -----  7750  -----  7999\n",
      "time elapsed - 00:00:42.51\n",
      "31  -----  8000  -----  8249\n",
      "time elapsed - 00:00:41.26\n",
      "32  -----  8250  -----  8499\n",
      "time elapsed - 00:00:42.35\n",
      "33  -----  8500  -----  8749\n",
      "time elapsed - 00:00:44.04\n",
      "34  -----  8750  -----  8999\n",
      "time elapsed - 00:00:43.12\n",
      "35  -----  9000  -----  9249\n",
      "time elapsed - 00:00:41.88\n",
      "36  -----  9250  -----  9499\n",
      "time elapsed - 00:00:42.18\n",
      "37  -----  9500  -----  9749\n",
      "time elapsed - 00:00:42.05\n",
      "38  -----  9750  -----  9999\n",
      "time elapsed - 00:00:42.10\n",
      "39  -----  10000  -----  10249\n",
      "time elapsed - 00:00:43.22\n",
      "40  -----  10250  -----  10499\n",
      "time elapsed - 00:00:42.88\n",
      "41  -----  10500  -----  10749\n",
      "time elapsed - 00:00:41.51\n",
      "42  -----  10750  -----  10999\n",
      "time elapsed - 00:00:41.85\n",
      "43  -----  11000  -----  11249\n",
      "time elapsed - 00:00:43.48\n",
      "44  -----  11250  -----  11499\n",
      "time elapsed - 00:00:43.92\n",
      "45  -----  11500  -----  11749\n",
      "time elapsed - 00:00:42.60\n",
      "46  -----  11750  -----  11999\n",
      "time elapsed - 00:00:42.20\n",
      "47  -----  12000  -----  12249\n",
      "time elapsed - 00:00:41.87\n",
      "48  -----  12250  -----  12499\n",
      "time elapsed - 00:00:41.27\n",
      "49  -----  12500  -----  12749\n",
      "time elapsed - 00:00:43.13\n",
      "50  -----  12750  -----  12999\n",
      "time elapsed - 00:00:42.61\n",
      "51  -----  13000  -----  13249\n",
      "time elapsed - 00:00:42.70\n",
      "52  -----  13250  -----  13499\n",
      "time elapsed - 00:00:42.06\n",
      "53  -----  13500  -----  13749\n",
      "time elapsed - 00:00:41.82\n",
      "54  -----  13750  -----  13999\n",
      "time elapsed - 00:00:42.68\n",
      "55  -----  14000  -----  14249\n",
      "time elapsed - 00:00:42.88\n",
      "56  -----  14250  -----  14499\n",
      "time elapsed - 00:00:44.75\n",
      "57  -----  14500  -----  14749\n",
      "time elapsed - 00:00:42.79\n",
      "58  -----  14750  -----  14999\n",
      "time elapsed - 00:00:41.47\n",
      "59  -----  15000  -----  15249\n",
      "time elapsed - 00:00:40.99\n",
      "60  -----  15250  -----  15499\n",
      "time elapsed - 00:00:43.12\n",
      "61  -----  15500  -----  15749\n",
      "time elapsed - 00:00:43.12\n",
      "62  -----  15750  -----  15999\n",
      "time elapsed - 00:00:43.40\n",
      "63  -----  16000  -----  16249\n",
      "time elapsed - 00:00:42.71\n",
      "64  -----  16250  -----  16499\n",
      "time elapsed - 00:00:40.45\n",
      "65  -----  16500  -----  16749\n",
      "time elapsed - 00:00:41.01\n",
      "66  -----  16750  -----  16999\n",
      "time elapsed - 00:00:41.93\n",
      "67  -----  17000  -----  17249\n",
      "time elapsed - 00:00:42.49\n",
      "68  -----  17250  -----  17499\n",
      "time elapsed - 00:00:42.64\n",
      "69  -----  17500  -----  17749\n",
      "time elapsed - 00:00:42.65\n",
      "70  -----  17750  -----  17999\n",
      "time elapsed - 00:00:43.16\n",
      "71  -----  18000  -----  18249\n",
      "time elapsed - 00:00:42.87\n",
      "72  -----  18250  -----  18499\n",
      "time elapsed - 00:00:42.58\n",
      "73  -----  18500  -----  18749\n",
      "time elapsed - 00:00:42.31\n",
      "74  -----  18750  -----  18999\n",
      "time elapsed - 00:00:43.01\n",
      "75  -----  19000  -----  19249\n",
      "time elapsed - 00:00:42.75\n",
      "76  -----  19250  -----  19499\n",
      "time elapsed - 00:00:43.59\n",
      "77  -----  19500  -----  19749\n",
      "time elapsed - 00:00:42.58\n",
      "78  -----  19750  -----  19999\n",
      "time elapsed - 00:00:41.33\n",
      "79  -----  20000  -----  20249\n",
      "time elapsed - 00:00:43.00\n",
      "80  -----  20250  -----  20499\n",
      "time elapsed - 00:00:43.18\n",
      "81  -----  20500  -----  20749\n",
      "time elapsed - 00:00:41.81\n",
      "82  -----  20750  -----  20999\n",
      "time elapsed - 00:00:40.73\n",
      "83  -----  21000  -----  21249\n",
      "time elapsed - 00:00:42.60\n",
      "84  -----  21250  -----  21499\n",
      "time elapsed - 00:00:42.65\n",
      "85  -----  21500  -----  21749\n",
      "time elapsed - 00:00:42.53\n",
      "86  -----  21750  -----  21999\n",
      "time elapsed - 00:00:42.57\n",
      "87  -----  22000  -----  22249\n",
      "time elapsed - 00:00:43.10\n",
      "88  -----  22250  -----  22499\n",
      "time elapsed - 00:00:41.78\n",
      "89  -----  22500  -----  22749\n",
      "time elapsed - 00:00:42.50\n",
      "90  -----  22750  -----  22999\n",
      "time elapsed - 00:00:42.89\n",
      "91  -----  23000  -----  23249\n",
      "time elapsed - 00:00:42.66\n",
      "92  -----  23250  -----  23499\n",
      "time elapsed - 00:00:42.80\n",
      "93  -----  23500  -----  23749\n",
      "time elapsed - 00:00:43.40\n",
      "94  -----  23750  -----  23999\n",
      "time elapsed - 00:00:42.43\n",
      "95  -----  24000  -----  24249\n",
      "time elapsed - 00:00:41.90\n",
      "96  -----  24250  -----  24499\n",
      "time elapsed - 00:00:43.04\n",
      "97  -----  24500  -----  24749\n",
      "time elapsed - 00:00:43.68\n",
      "98  -----  24750  -----  24999\n",
      "time elapsed - 00:00:43.35\n",
      "99  -----  25000  -----  25249\n",
      "time elapsed - 00:00:40.91\n",
      "100  -----  25250  -----  25499\n",
      "time elapsed - 00:00:40.87\n",
      "101  -----  25500  -----  25749\n",
      "time elapsed - 00:00:43.47\n",
      "102  -----  25750  -----  25999\n",
      "time elapsed - 00:00:42.72\n",
      "103  -----  26000  -----  26249\n",
      "time elapsed - 00:00:41.89\n",
      "104  -----  26250  -----  26499\n",
      "time elapsed - 00:00:42.02\n",
      "105  -----  26500  -----  26749\n",
      "time elapsed - 00:00:42.97\n",
      "106  -----  26750  -----  26999\n",
      "time elapsed - 00:00:42.44\n",
      "107  -----  27000  -----  27249\n",
      "time elapsed - 00:00:42.45\n",
      "108  -----  27250  -----  27499\n",
      "time elapsed - 00:00:42.97\n",
      "109  -----  27500  -----  27749\n",
      "time elapsed - 00:00:42.27\n",
      "110  -----  27750  -----  27999\n",
      "time elapsed - 00:00:41.92\n",
      "111  -----  28000  -----  28249\n",
      "time elapsed - 00:00:40.93\n",
      "112  -----  28250  -----  28499\n",
      "time elapsed - 00:00:44.33\n",
      "113  -----  28500  -----  28749\n",
      "time elapsed - 00:00:42.66\n",
      "114  -----  28750  -----  28999\n",
      "time elapsed - 00:00:41.95\n",
      "115  -----  29000  -----  29249\n",
      "time elapsed - 00:00:40.89\n",
      "116  -----  29250  -----  29499\n",
      "time elapsed - 00:00:42.66\n",
      "117  -----  29500  -----  29749\n",
      "time elapsed - 00:00:42.42\n",
      "118  -----  29750  -----  29999\n"
     ]
    },
    {
     "name": "stderr",
     "output_type": "stream",
     "text": [
      "C:\\Users\\minio\\anaconda3\\envs\\tfm-py-37\\lib\\site-packages\\gensim\\topic_coherence\\direct_confirmation_measure.py:204: RuntimeWarning: divide by zero encountered in double_scalars\n",
      "  m_lr_i = np.log(numerator / denominator)\n",
      "C:\\Users\\minio\\anaconda3\\envs\\tfm-py-37\\lib\\site-packages\\gensim\\topic_coherence\\indirect_confirmation_measure.py:323: RuntimeWarning: invalid value encountered in double_scalars\n",
      "  return cv1.T.dot(cv2)[0, 0] / (_magnitude(cv1) * _magnitude(cv2))\n"
     ]
    },
    {
     "name": "stdout",
     "output_type": "stream",
     "text": [
      "time elapsed - 00:00:41.65\n",
      "119  -----  30000  -----  30249\n",
      "time elapsed - 00:00:42.67\n",
      "120  -----  30250  -----  30499\n",
      "time elapsed - 00:00:42.90\n",
      "121  -----  30500  -----  30749\n",
      "time elapsed - 00:00:42.46\n",
      "122  -----  30750  -----  30999\n",
      "time elapsed - 00:00:42.99\n",
      "123  -----  31000  -----  31249\n",
      "time elapsed - 00:00:43.50\n",
      "124  -----  31250  -----  31499\n",
      "time elapsed - 00:00:43.08\n",
      "125  -----  31500  -----  31749\n",
      "time elapsed - 00:00:43.05\n",
      "126  -----  31750  -----  31999\n",
      "time elapsed - 00:00:43.99\n",
      "127  -----  32000  -----  32249\n",
      "time elapsed - 00:00:43.90\n",
      "128  -----  32250  -----  32499\n",
      "time elapsed - 00:00:43.84\n",
      "129  -----  32500  -----  32749\n",
      "time elapsed - 00:00:43.95\n",
      "130  -----  32750  -----  32999\n",
      "time elapsed - 00:00:44.35\n",
      "131  -----  33000  -----  33249\n",
      "time elapsed - 00:00:47.05\n",
      "132  -----  33250  -----  33499\n",
      "time elapsed - 00:00:43.83\n",
      "133  -----  33500  -----  33749\n",
      "time elapsed - 00:00:43.35\n",
      "134  -----  33750  -----  33999\n",
      "time elapsed - 00:00:43.83\n",
      "135  -----  34000  -----  34249\n",
      "time elapsed - 00:00:42.48\n",
      "136  -----  34250  -----  34499\n",
      "time elapsed - 00:00:41.06\n",
      "137  -----  34500  -----  34749\n",
      "time elapsed - 00:00:44.41\n",
      "138  -----  34750  -----  34999\n",
      "time elapsed - 00:00:42.82\n",
      "139  -----  35000  -----  35249\n",
      "time elapsed - 00:00:43.47\n",
      "140  -----  35250  -----  35499\n",
      "time elapsed - 00:00:44.00\n",
      "141  -----  35500  -----  35749\n",
      "time elapsed - 00:00:42.71\n",
      "142  -----  35750  -----  35999\n",
      "time elapsed - 00:00:41.98\n",
      "143  -----  36000  -----  36249\n",
      "time elapsed - 00:00:42.90\n",
      "144  -----  36250  -----  36499\n",
      "time elapsed - 00:00:42.32\n",
      "145  -----  36500  -----  36749\n",
      "time elapsed - 00:00:42.36\n",
      "146  -----  36750  -----  36999\n",
      "time elapsed - 00:00:41.16\n",
      "147  -----  37000  -----  37249\n",
      "time elapsed - 00:00:43.40\n",
      "148  -----  37250  -----  37499\n",
      "time elapsed - 00:00:43.31\n",
      "149  -----  37500  -----  37749\n",
      "time elapsed - 00:00:42.89\n",
      "150  -----  37750  -----  37999\n",
      "time elapsed - 00:00:42.86\n",
      "151  -----  38000  -----  38249\n",
      "time elapsed - 00:00:42.21\n",
      "152  -----  38250  -----  38499\n",
      "time elapsed - 00:00:40.63\n",
      "153  -----  38500  -----  38749\n",
      "time elapsed - 00:00:42.55\n",
      "154  -----  38750  -----  38999\n",
      "time elapsed - 00:00:42.01\n",
      "155  -----  39000  -----  39249\n",
      "time elapsed - 00:00:43.84\n",
      "156  -----  39250  -----  39499\n",
      "time elapsed - 00:00:43.69\n",
      "157  -----  39500  -----  39749\n",
      "time elapsed - 00:00:42.59\n",
      "158  -----  39750  -----  39999\n",
      "time elapsed - 00:00:42.87\n",
      "159  -----  40000  -----  40249\n",
      "time elapsed - 00:00:42.85\n",
      "160  -----  40250  -----  40499\n",
      "time elapsed - 00:00:42.70\n",
      "161  -----  40500  -----  40749\n",
      "time elapsed - 00:00:43.00\n",
      "162  -----  40750  -----  40999\n",
      "time elapsed - 00:00:43.59\n",
      "163  -----  41000  -----  41249\n",
      "time elapsed - 00:00:43.16\n",
      "164  -----  41250  -----  41499\n",
      "time elapsed - 00:00:43.66\n",
      "165  -----  41500  -----  41749\n",
      "time elapsed - 00:00:42.47\n",
      "166  -----  41750  -----  41999\n",
      "time elapsed - 00:00:41.88\n",
      "167  -----  42000  -----  42249\n",
      "time elapsed - 00:00:43.15\n",
      "168  -----  42250  -----  42499\n",
      "time elapsed - 00:00:43.52\n",
      "169  -----  42500  -----  42749\n",
      "time elapsed - 00:00:42.41\n",
      "170  -----  42750  -----  42999\n",
      "time elapsed - 00:00:40.46\n",
      "171  -----  43000  -----  43249\n"
     ]
    },
    {
     "name": "stderr",
     "output_type": "stream",
     "text": [
      "C:\\Users\\minio\\anaconda3\\envs\\tfm-py-37\\lib\\site-packages\\gensim\\topic_coherence\\direct_confirmation_measure.py:204: RuntimeWarning: divide by zero encountered in double_scalars\n",
      "  m_lr_i = np.log(numerator / denominator)\n",
      "C:\\Users\\minio\\anaconda3\\envs\\tfm-py-37\\lib\\site-packages\\gensim\\topic_coherence\\indirect_confirmation_measure.py:323: RuntimeWarning: invalid value encountered in double_scalars\n",
      "  return cv1.T.dot(cv2)[0, 0] / (_magnitude(cv1) * _magnitude(cv2))\n"
     ]
    },
    {
     "name": "stdout",
     "output_type": "stream",
     "text": [
      "time elapsed - 00:00:42.58\n",
      "172  -----  43250  -----  43499\n",
      "time elapsed - 00:00:41.65\n",
      "173  -----  43500  -----  43749\n",
      "time elapsed - 00:00:42.96\n",
      "174  -----  43750  -----  43999\n",
      "time elapsed - 00:00:42.69\n",
      "175  -----  44000  -----  44249\n",
      "time elapsed - 00:00:43.30\n",
      "176  -----  44250  -----  44499\n",
      "time elapsed - 00:00:42.55\n",
      "177  -----  44500  -----  44749\n",
      "time elapsed - 00:00:42.94\n",
      "178  -----  44750  -----  44999\n",
      "time elapsed - 00:00:42.50\n",
      "179  -----  45000  -----  45249\n",
      "time elapsed - 00:00:42.53\n",
      "180  -----  45250  -----  45499\n",
      "time elapsed - 00:00:43.10\n",
      "181  -----  45500  -----  45749\n",
      "time elapsed - 00:00:43.02\n",
      "182  -----  45750  -----  45999\n",
      "time elapsed - 00:00:43.08\n",
      "183  -----  46000  -----  46249\n",
      "time elapsed - 00:00:42.54\n",
      "184  -----  46250  -----  46499\n",
      "time elapsed - 00:00:41.05\n",
      "185  -----  46500  -----  46749\n",
      "time elapsed - 00:00:43.06\n",
      "186  -----  46750  -----  46999\n",
      "time elapsed - 00:00:44.41\n",
      "187  -----  47000  -----  47249\n",
      "time elapsed - 00:00:45.00\n",
      "188  -----  47250  -----  47499\n",
      "time elapsed - 00:00:41.50\n",
      "189  -----  47500  -----  47749\n",
      "time elapsed - 00:00:43.94\n",
      "190  -----  47750  -----  47999\n",
      "time elapsed - 00:00:44.52\n",
      "191  -----  48000  -----  48249\n"
     ]
    },
    {
     "name": "stderr",
     "output_type": "stream",
     "text": [
      "C:\\Users\\minio\\anaconda3\\envs\\tfm-py-37\\lib\\site-packages\\gensim\\topic_coherence\\direct_confirmation_measure.py:204: RuntimeWarning: divide by zero encountered in double_scalars\n",
      "  m_lr_i = np.log(numerator / denominator)\n",
      "C:\\Users\\minio\\anaconda3\\envs\\tfm-py-37\\lib\\site-packages\\gensim\\topic_coherence\\indirect_confirmation_measure.py:323: RuntimeWarning: invalid value encountered in double_scalars\n",
      "  return cv1.T.dot(cv2)[0, 0] / (_magnitude(cv1) * _magnitude(cv2))\n"
     ]
    },
    {
     "name": "stdout",
     "output_type": "stream",
     "text": [
      "time elapsed - 00:00:43.23\n",
      "192  -----  48250  -----  48499\n",
      "time elapsed - 00:00:41.89\n",
      "193  -----  48500  -----  48749\n",
      "time elapsed - 00:00:42.68\n",
      "194  -----  48750  -----  48999\n"
     ]
    },
    {
     "name": "stderr",
     "output_type": "stream",
     "text": [
      "C:\\Users\\minio\\anaconda3\\envs\\tfm-py-37\\lib\\site-packages\\gensim\\topic_coherence\\direct_confirmation_measure.py:204: RuntimeWarning: divide by zero encountered in double_scalars\n",
      "  m_lr_i = np.log(numerator / denominator)\n",
      "C:\\Users\\minio\\anaconda3\\envs\\tfm-py-37\\lib\\site-packages\\gensim\\topic_coherence\\indirect_confirmation_measure.py:323: RuntimeWarning: invalid value encountered in double_scalars\n",
      "  return cv1.T.dot(cv2)[0, 0] / (_magnitude(cv1) * _magnitude(cv2))\n"
     ]
    },
    {
     "name": "stdout",
     "output_type": "stream",
     "text": [
      "time elapsed - 00:00:44.07\n",
      "195  -----  49000  -----  49249\n",
      "time elapsed - 00:00:42.94\n",
      "196  -----  49250  -----  49499\n",
      "time elapsed - 00:00:43.47\n",
      "197  -----  49500  -----  49749\n",
      "time elapsed - 00:00:43.33\n",
      "198  -----  49750  -----  49999\n"
     ]
    },
    {
     "name": "stderr",
     "output_type": "stream",
     "text": [
      "C:\\Users\\minio\\anaconda3\\envs\\tfm-py-37\\lib\\site-packages\\gensim\\topic_coherence\\direct_confirmation_measure.py:204: RuntimeWarning: divide by zero encountered in double_scalars\n",
      "  m_lr_i = np.log(numerator / denominator)\n",
      "C:\\Users\\minio\\anaconda3\\envs\\tfm-py-37\\lib\\site-packages\\gensim\\topic_coherence\\indirect_confirmation_measure.py:323: RuntimeWarning: invalid value encountered in double_scalars\n",
      "  return cv1.T.dot(cv2)[0, 0] / (_magnitude(cv1) * _magnitude(cv2))\n"
     ]
    },
    {
     "name": "stdout",
     "output_type": "stream",
     "text": [
      "time elapsed - 00:00:44.52\n",
      "199  -----  50000  -----  50249\n",
      "time elapsed - 00:00:44.12\n",
      "200  -----  50250  -----  50499\n",
      "time elapsed - 00:00:43.84\n",
      "201  -----  50500  -----  50749\n",
      "time elapsed - 00:00:44.46\n",
      "202  -----  50750  -----  50999\n",
      "time elapsed - 00:00:43.62\n",
      "203  -----  51000  -----  51249\n",
      "time elapsed - 00:00:43.89\n",
      "204  -----  51250  -----  51499\n",
      "time elapsed - 00:00:43.02\n",
      "205  -----  51500  -----  51749\n",
      "time elapsed - 00:00:42.15\n",
      "206  -----  51750  -----  51999\n",
      "time elapsed - 00:00:43.06\n",
      "207  -----  52000  -----  52249\n",
      "time elapsed - 00:00:42.60\n",
      "208  -----  52250  -----  52499\n",
      "time elapsed - 00:00:40.81\n",
      "209  -----  52500  -----  52749\n",
      "time elapsed - 00:00:42.12\n",
      "210  -----  52750  -----  52999\n",
      "time elapsed - 00:00:43.75\n",
      "211  -----  53000  -----  53249\n",
      "time elapsed - 00:00:42.74\n",
      "212  -----  53250  -----  53499\n",
      "time elapsed - 00:00:42.49\n",
      "213  -----  53500  -----  53749\n",
      "time elapsed - 00:00:42.51\n",
      "214  -----  53750  -----  53999\n"
     ]
    },
    {
     "name": "stderr",
     "output_type": "stream",
     "text": [
      "C:\\Users\\minio\\anaconda3\\envs\\tfm-py-37\\lib\\site-packages\\gensim\\topic_coherence\\direct_confirmation_measure.py:204: RuntimeWarning: divide by zero encountered in double_scalars\n",
      "  m_lr_i = np.log(numerator / denominator)\n",
      "C:\\Users\\minio\\anaconda3\\envs\\tfm-py-37\\lib\\site-packages\\gensim\\topic_coherence\\indirect_confirmation_measure.py:323: RuntimeWarning: invalid value encountered in double_scalars\n",
      "  return cv1.T.dot(cv2)[0, 0] / (_magnitude(cv1) * _magnitude(cv2))\n"
     ]
    },
    {
     "name": "stdout",
     "output_type": "stream",
     "text": [
      "time elapsed - 00:00:43.18\n",
      "215  -----  54000  -----  54249\n"
     ]
    },
    {
     "name": "stderr",
     "output_type": "stream",
     "text": [
      "C:\\Users\\minio\\anaconda3\\envs\\tfm-py-37\\lib\\site-packages\\gensim\\topic_coherence\\direct_confirmation_measure.py:204: RuntimeWarning: divide by zero encountered in double_scalars\n",
      "  m_lr_i = np.log(numerator / denominator)\n",
      "C:\\Users\\minio\\anaconda3\\envs\\tfm-py-37\\lib\\site-packages\\gensim\\topic_coherence\\indirect_confirmation_measure.py:323: RuntimeWarning: invalid value encountered in double_scalars\n",
      "  return cv1.T.dot(cv2)[0, 0] / (_magnitude(cv1) * _magnitude(cv2))\n"
     ]
    },
    {
     "name": "stdout",
     "output_type": "stream",
     "text": [
      "time elapsed - 00:00:43.67\n",
      "216  -----  54250  -----  54499\n"
     ]
    },
    {
     "name": "stderr",
     "output_type": "stream",
     "text": [
      "C:\\Users\\minio\\anaconda3\\envs\\tfm-py-37\\lib\\site-packages\\gensim\\topic_coherence\\direct_confirmation_measure.py:204: RuntimeWarning: divide by zero encountered in double_scalars\n",
      "  m_lr_i = np.log(numerator / denominator)\n",
      "C:\\Users\\minio\\anaconda3\\envs\\tfm-py-37\\lib\\site-packages\\gensim\\topic_coherence\\indirect_confirmation_measure.py:323: RuntimeWarning: invalid value encountered in double_scalars\n",
      "  return cv1.T.dot(cv2)[0, 0] / (_magnitude(cv1) * _magnitude(cv2))\n"
     ]
    },
    {
     "name": "stdout",
     "output_type": "stream",
     "text": [
      "time elapsed - 00:00:45.56\n",
      "217  -----  54500  -----  54749\n",
      "time elapsed - 00:00:43.37\n",
      "218  -----  54750  -----  54999\n"
     ]
    },
    {
     "name": "stderr",
     "output_type": "stream",
     "text": [
      "C:\\Users\\minio\\anaconda3\\envs\\tfm-py-37\\lib\\site-packages\\gensim\\topic_coherence\\direct_confirmation_measure.py:204: RuntimeWarning: divide by zero encountered in double_scalars\n",
      "  m_lr_i = np.log(numerator / denominator)\n",
      "C:\\Users\\minio\\anaconda3\\envs\\tfm-py-37\\lib\\site-packages\\gensim\\topic_coherence\\indirect_confirmation_measure.py:323: RuntimeWarning: invalid value encountered in double_scalars\n",
      "  return cv1.T.dot(cv2)[0, 0] / (_magnitude(cv1) * _magnitude(cv2))\n"
     ]
    },
    {
     "name": "stdout",
     "output_type": "stream",
     "text": [
      "time elapsed - 00:00:43.88\n",
      "219  -----  55000  -----  55249\n",
      "time elapsed - 00:00:43.38\n",
      "220  -----  55250  -----  55499\n"
     ]
    },
    {
     "name": "stderr",
     "output_type": "stream",
     "text": [
      "C:\\Users\\minio\\anaconda3\\envs\\tfm-py-37\\lib\\site-packages\\gensim\\topic_coherence\\direct_confirmation_measure.py:204: RuntimeWarning: divide by zero encountered in double_scalars\n",
      "  m_lr_i = np.log(numerator / denominator)\n",
      "C:\\Users\\minio\\anaconda3\\envs\\tfm-py-37\\lib\\site-packages\\gensim\\topic_coherence\\indirect_confirmation_measure.py:323: RuntimeWarning: invalid value encountered in double_scalars\n",
      "  return cv1.T.dot(cv2)[0, 0] / (_magnitude(cv1) * _magnitude(cv2))\n"
     ]
    },
    {
     "name": "stdout",
     "output_type": "stream",
     "text": [
      "time elapsed - 00:00:43.38\n",
      "221  -----  55500  -----  55749\n",
      "time elapsed - 00:00:42.38\n",
      "222  -----  55750  -----  55999\n",
      "time elapsed - 00:00:43.36\n",
      "223  -----  56000  -----  56249\n",
      "time elapsed - 00:00:41.74\n",
      "224  -----  56250  -----  56499\n"
     ]
    },
    {
     "name": "stderr",
     "output_type": "stream",
     "text": [
      "C:\\Users\\minio\\anaconda3\\envs\\tfm-py-37\\lib\\site-packages\\gensim\\topic_coherence\\direct_confirmation_measure.py:204: RuntimeWarning: divide by zero encountered in double_scalars\n",
      "  m_lr_i = np.log(numerator / denominator)\n",
      "C:\\Users\\minio\\anaconda3\\envs\\tfm-py-37\\lib\\site-packages\\gensim\\topic_coherence\\indirect_confirmation_measure.py:323: RuntimeWarning: invalid value encountered in double_scalars\n",
      "  return cv1.T.dot(cv2)[0, 0] / (_magnitude(cv1) * _magnitude(cv2))\n"
     ]
    },
    {
     "name": "stdout",
     "output_type": "stream",
     "text": [
      "time elapsed - 00:00:42.73\n",
      "225  -----  56500  -----  56749\n"
     ]
    },
    {
     "name": "stderr",
     "output_type": "stream",
     "text": [
      "C:\\Users\\minio\\anaconda3\\envs\\tfm-py-37\\lib\\site-packages\\gensim\\topic_coherence\\direct_confirmation_measure.py:204: RuntimeWarning: divide by zero encountered in double_scalars\n",
      "  m_lr_i = np.log(numerator / denominator)\n",
      "C:\\Users\\minio\\anaconda3\\envs\\tfm-py-37\\lib\\site-packages\\gensim\\topic_coherence\\indirect_confirmation_measure.py:323: RuntimeWarning: invalid value encountered in double_scalars\n",
      "  return cv1.T.dot(cv2)[0, 0] / (_magnitude(cv1) * _magnitude(cv2))\n"
     ]
    },
    {
     "name": "stdout",
     "output_type": "stream",
     "text": [
      "time elapsed - 00:00:43.04\n",
      "226  -----  56750  -----  56999\n",
      "time elapsed - 00:00:42.97\n",
      "227  -----  57000  -----  57249\n",
      "time elapsed - 00:00:44.26\n",
      "228  -----  57250  -----  57499\n",
      "time elapsed - 00:00:42.17\n",
      "229  -----  57500  -----  57749\n"
     ]
    },
    {
     "name": "stderr",
     "output_type": "stream",
     "text": [
      "C:\\Users\\minio\\anaconda3\\envs\\tfm-py-37\\lib\\site-packages\\gensim\\topic_coherence\\direct_confirmation_measure.py:204: RuntimeWarning: divide by zero encountered in double_scalars\n",
      "  m_lr_i = np.log(numerator / denominator)\n",
      "C:\\Users\\minio\\anaconda3\\envs\\tfm-py-37\\lib\\site-packages\\gensim\\topic_coherence\\indirect_confirmation_measure.py:323: RuntimeWarning: invalid value encountered in double_scalars\n",
      "  return cv1.T.dot(cv2)[0, 0] / (_magnitude(cv1) * _magnitude(cv2))\n"
     ]
    },
    {
     "name": "stdout",
     "output_type": "stream",
     "text": [
      "time elapsed - 00:00:42.59\n",
      "230  -----  57750  -----  57999\n",
      "time elapsed - 00:00:41.03\n",
      "231  -----  58000  -----  58249\n",
      "time elapsed - 00:00:42.67\n",
      "232  -----  58250  -----  58499\n",
      "time elapsed - 00:00:43.86\n",
      "233  -----  58500  -----  58749\n"
     ]
    },
    {
     "name": "stderr",
     "output_type": "stream",
     "text": [
      "C:\\Users\\minio\\anaconda3\\envs\\tfm-py-37\\lib\\site-packages\\gensim\\topic_coherence\\direct_confirmation_measure.py:204: RuntimeWarning: divide by zero encountered in double_scalars\n",
      "  m_lr_i = np.log(numerator / denominator)\n",
      "C:\\Users\\minio\\anaconda3\\envs\\tfm-py-37\\lib\\site-packages\\gensim\\topic_coherence\\indirect_confirmation_measure.py:323: RuntimeWarning: invalid value encountered in double_scalars\n",
      "  return cv1.T.dot(cv2)[0, 0] / (_magnitude(cv1) * _magnitude(cv2))\n"
     ]
    },
    {
     "name": "stdout",
     "output_type": "stream",
     "text": [
      "time elapsed - 00:00:44.17\n",
      "234  -----  58750  -----  58999\n",
      "time elapsed - 00:00:43.39\n",
      "235  -----  59000  -----  59249\n",
      "time elapsed - 00:00:42.86\n",
      "236  -----  59250  -----  59499\n",
      "time elapsed - 00:00:42.96\n",
      "237  -----  59500  -----  59749\n"
     ]
    },
    {
     "name": "stderr",
     "output_type": "stream",
     "text": [
      "C:\\Users\\minio\\anaconda3\\envs\\tfm-py-37\\lib\\site-packages\\gensim\\topic_coherence\\direct_confirmation_measure.py:204: RuntimeWarning: divide by zero encountered in double_scalars\n",
      "  m_lr_i = np.log(numerator / denominator)\n",
      "C:\\Users\\minio\\anaconda3\\envs\\tfm-py-37\\lib\\site-packages\\gensim\\topic_coherence\\indirect_confirmation_measure.py:323: RuntimeWarning: invalid value encountered in double_scalars\n",
      "  return cv1.T.dot(cv2)[0, 0] / (_magnitude(cv1) * _magnitude(cv2))\n"
     ]
    },
    {
     "name": "stdout",
     "output_type": "stream",
     "text": [
      "time elapsed - 00:00:42.58\n",
      "238  -----  59750  -----  59999\n",
      "time elapsed - 00:00:40.91\n",
      "239  -----  60000  -----  60249\n",
      "time elapsed - 00:00:42.61\n",
      "240  -----  60250  -----  60499\n",
      "time elapsed - 00:00:41.96\n",
      "241  -----  60500  -----  60749\n"
     ]
    },
    {
     "name": "stderr",
     "output_type": "stream",
     "text": [
      "C:\\Users\\minio\\anaconda3\\envs\\tfm-py-37\\lib\\site-packages\\gensim\\topic_coherence\\direct_confirmation_measure.py:204: RuntimeWarning: divide by zero encountered in double_scalars\n",
      "  m_lr_i = np.log(numerator / denominator)\n",
      "C:\\Users\\minio\\anaconda3\\envs\\tfm-py-37\\lib\\site-packages\\gensim\\topic_coherence\\indirect_confirmation_measure.py:323: RuntimeWarning: invalid value encountered in double_scalars\n",
      "  return cv1.T.dot(cv2)[0, 0] / (_magnitude(cv1) * _magnitude(cv2))\n"
     ]
    },
    {
     "name": "stdout",
     "output_type": "stream",
     "text": [
      "time elapsed - 00:00:42.51\n",
      "242  -----  60750  -----  60999\n"
     ]
    },
    {
     "name": "stderr",
     "output_type": "stream",
     "text": [
      "C:\\Users\\minio\\anaconda3\\envs\\tfm-py-37\\lib\\site-packages\\gensim\\topic_coherence\\direct_confirmation_measure.py:204: RuntimeWarning: divide by zero encountered in double_scalars\n",
      "  m_lr_i = np.log(numerator / denominator)\n",
      "C:\\Users\\minio\\anaconda3\\envs\\tfm-py-37\\lib\\site-packages\\gensim\\topic_coherence\\indirect_confirmation_measure.py:323: RuntimeWarning: invalid value encountered in double_scalars\n",
      "  return cv1.T.dot(cv2)[0, 0] / (_magnitude(cv1) * _magnitude(cv2))\n"
     ]
    },
    {
     "name": "stdout",
     "output_type": "stream",
     "text": [
      "time elapsed - 00:00:42.54\n",
      "243  -----  61000  -----  61249\n",
      "time elapsed - 00:00:43.90\n",
      "244  -----  61250  -----  61499\n",
      "time elapsed - 00:00:41.68\n",
      "245  -----  61500  -----  61749\n"
     ]
    },
    {
     "name": "stderr",
     "output_type": "stream",
     "text": [
      "C:\\Users\\minio\\anaconda3\\envs\\tfm-py-37\\lib\\site-packages\\gensim\\topic_coherence\\direct_confirmation_measure.py:204: RuntimeWarning: divide by zero encountered in double_scalars\n",
      "  m_lr_i = np.log(numerator / denominator)\n",
      "C:\\Users\\minio\\anaconda3\\envs\\tfm-py-37\\lib\\site-packages\\gensim\\topic_coherence\\indirect_confirmation_measure.py:323: RuntimeWarning: invalid value encountered in double_scalars\n",
      "  return cv1.T.dot(cv2)[0, 0] / (_magnitude(cv1) * _magnitude(cv2))\n"
     ]
    },
    {
     "name": "stdout",
     "output_type": "stream",
     "text": [
      "time elapsed - 00:00:43.02\n",
      "246  -----  61750  -----  61999\n"
     ]
    },
    {
     "name": "stderr",
     "output_type": "stream",
     "text": [
      "C:\\Users\\minio\\anaconda3\\envs\\tfm-py-37\\lib\\site-packages\\gensim\\topic_coherence\\direct_confirmation_measure.py:204: RuntimeWarning: divide by zero encountered in double_scalars\n",
      "  m_lr_i = np.log(numerator / denominator)\n",
      "C:\\Users\\minio\\anaconda3\\envs\\tfm-py-37\\lib\\site-packages\\gensim\\topic_coherence\\indirect_confirmation_measure.py:323: RuntimeWarning: invalid value encountered in double_scalars\n",
      "  return cv1.T.dot(cv2)[0, 0] / (_magnitude(cv1) * _magnitude(cv2))\n"
     ]
    },
    {
     "name": "stdout",
     "output_type": "stream",
     "text": [
      "time elapsed - 00:00:43.18\n",
      "247  -----  62000  -----  62249\n",
      "time elapsed - 00:00:42.36\n",
      "248  -----  62250  -----  62499\n",
      "time elapsed - 00:00:41.59\n",
      "249  -----  62500  -----  62749\n",
      "time elapsed - 00:00:42.90\n",
      "250  -----  62750  -----  62999\n",
      "time elapsed - 00:00:43.34\n",
      "251  -----  63000  -----  63249\n",
      "time elapsed - 00:00:42.68\n",
      "252  -----  63250  -----  63499\n"
     ]
    },
    {
     "name": "stderr",
     "output_type": "stream",
     "text": [
      "C:\\Users\\minio\\anaconda3\\envs\\tfm-py-37\\lib\\site-packages\\gensim\\topic_coherence\\direct_confirmation_measure.py:204: RuntimeWarning: divide by zero encountered in double_scalars\n",
      "  m_lr_i = np.log(numerator / denominator)\n",
      "C:\\Users\\minio\\anaconda3\\envs\\tfm-py-37\\lib\\site-packages\\gensim\\topic_coherence\\indirect_confirmation_measure.py:323: RuntimeWarning: invalid value encountered in double_scalars\n",
      "  return cv1.T.dot(cv2)[0, 0] / (_magnitude(cv1) * _magnitude(cv2))\n"
     ]
    },
    {
     "name": "stdout",
     "output_type": "stream",
     "text": [
      "time elapsed - 00:00:42.59\n",
      "253  -----  63500  -----  63749\n",
      "time elapsed - 00:00:41.59\n",
      "254  -----  63750  -----  63999\n",
      "time elapsed - 00:00:42.78\n",
      "255  -----  64000  -----  64249\n",
      "time elapsed - 00:00:43.68\n",
      "256  -----  64250  -----  64499\n",
      "time elapsed - 00:00:42.62\n",
      "257  -----  64500  -----  64749\n",
      "time elapsed - 00:00:42.56\n",
      "258  -----  64750  -----  64999\n",
      "time elapsed - 00:00:43.41\n",
      "259  -----  65000  -----  65249\n"
     ]
    },
    {
     "name": "stderr",
     "output_type": "stream",
     "text": [
      "C:\\Users\\minio\\anaconda3\\envs\\tfm-py-37\\lib\\site-packages\\gensim\\topic_coherence\\direct_confirmation_measure.py:204: RuntimeWarning: divide by zero encountered in double_scalars\n",
      "  m_lr_i = np.log(numerator / denominator)\n",
      "C:\\Users\\minio\\anaconda3\\envs\\tfm-py-37\\lib\\site-packages\\gensim\\topic_coherence\\indirect_confirmation_measure.py:323: RuntimeWarning: invalid value encountered in double_scalars\n",
      "  return cv1.T.dot(cv2)[0, 0] / (_magnitude(cv1) * _magnitude(cv2))\n"
     ]
    },
    {
     "name": "stdout",
     "output_type": "stream",
     "text": [
      "time elapsed - 00:00:43.09\n",
      "260  -----  65250  -----  65499\n"
     ]
    },
    {
     "name": "stderr",
     "output_type": "stream",
     "text": [
      "C:\\Users\\minio\\anaconda3\\envs\\tfm-py-37\\lib\\site-packages\\gensim\\topic_coherence\\direct_confirmation_measure.py:204: RuntimeWarning: divide by zero encountered in double_scalars\n",
      "  m_lr_i = np.log(numerator / denominator)\n",
      "C:\\Users\\minio\\anaconda3\\envs\\tfm-py-37\\lib\\site-packages\\gensim\\topic_coherence\\indirect_confirmation_measure.py:323: RuntimeWarning: invalid value encountered in double_scalars\n",
      "  return cv1.T.dot(cv2)[0, 0] / (_magnitude(cv1) * _magnitude(cv2))\n"
     ]
    },
    {
     "name": "stdout",
     "output_type": "stream",
     "text": [
      "time elapsed - 00:00:42.38\n",
      "261  -----  65500  -----  65749\n"
     ]
    },
    {
     "name": "stderr",
     "output_type": "stream",
     "text": [
      "C:\\Users\\minio\\anaconda3\\envs\\tfm-py-37\\lib\\site-packages\\gensim\\topic_coherence\\direct_confirmation_measure.py:204: RuntimeWarning: divide by zero encountered in double_scalars\n",
      "  m_lr_i = np.log(numerator / denominator)\n",
      "C:\\Users\\minio\\anaconda3\\envs\\tfm-py-37\\lib\\site-packages\\gensim\\topic_coherence\\indirect_confirmation_measure.py:323: RuntimeWarning: invalid value encountered in double_scalars\n",
      "  return cv1.T.dot(cv2)[0, 0] / (_magnitude(cv1) * _magnitude(cv2))\n"
     ]
    },
    {
     "name": "stdout",
     "output_type": "stream",
     "text": [
      "time elapsed - 00:00:42.32\n",
      "262  -----  65750  -----  65999\n",
      "time elapsed - 00:00:42.93\n",
      "263  -----  66000  -----  66249\n"
     ]
    },
    {
     "name": "stderr",
     "output_type": "stream",
     "text": [
      "C:\\Users\\minio\\anaconda3\\envs\\tfm-py-37\\lib\\site-packages\\gensim\\topic_coherence\\direct_confirmation_measure.py:204: RuntimeWarning: divide by zero encountered in double_scalars\n",
      "  m_lr_i = np.log(numerator / denominator)\n",
      "C:\\Users\\minio\\anaconda3\\envs\\tfm-py-37\\lib\\site-packages\\gensim\\topic_coherence\\indirect_confirmation_measure.py:323: RuntimeWarning: invalid value encountered in double_scalars\n",
      "  return cv1.T.dot(cv2)[0, 0] / (_magnitude(cv1) * _magnitude(cv2))\n"
     ]
    },
    {
     "name": "stdout",
     "output_type": "stream",
     "text": [
      "time elapsed - 00:00:43.19\n",
      "264  -----  66250  -----  66499\n"
     ]
    },
    {
     "name": "stderr",
     "output_type": "stream",
     "text": [
      "C:\\Users\\minio\\anaconda3\\envs\\tfm-py-37\\lib\\site-packages\\gensim\\topic_coherence\\direct_confirmation_measure.py:204: RuntimeWarning: divide by zero encountered in double_scalars\n",
      "  m_lr_i = np.log(numerator / denominator)\n",
      "C:\\Users\\minio\\anaconda3\\envs\\tfm-py-37\\lib\\site-packages\\gensim\\topic_coherence\\indirect_confirmation_measure.py:323: RuntimeWarning: invalid value encountered in double_scalars\n",
      "  return cv1.T.dot(cv2)[0, 0] / (_magnitude(cv1) * _magnitude(cv2))\n"
     ]
    },
    {
     "name": "stdout",
     "output_type": "stream",
     "text": [
      "time elapsed - 00:00:41.91\n",
      "265  -----  66500  -----  66749\n"
     ]
    },
    {
     "name": "stderr",
     "output_type": "stream",
     "text": [
      "C:\\Users\\minio\\anaconda3\\envs\\tfm-py-37\\lib\\site-packages\\gensim\\topic_coherence\\direct_confirmation_measure.py:204: RuntimeWarning: divide by zero encountered in double_scalars\n",
      "  m_lr_i = np.log(numerator / denominator)\n",
      "C:\\Users\\minio\\anaconda3\\envs\\tfm-py-37\\lib\\site-packages\\gensim\\topic_coherence\\indirect_confirmation_measure.py:323: RuntimeWarning: invalid value encountered in double_scalars\n",
      "  return cv1.T.dot(cv2)[0, 0] / (_magnitude(cv1) * _magnitude(cv2))\n"
     ]
    },
    {
     "name": "stdout",
     "output_type": "stream",
     "text": [
      "time elapsed - 00:00:41.76\n",
      "266  -----  66750  -----  66999\n"
     ]
    },
    {
     "name": "stderr",
     "output_type": "stream",
     "text": [
      "C:\\Users\\minio\\anaconda3\\envs\\tfm-py-37\\lib\\site-packages\\gensim\\topic_coherence\\direct_confirmation_measure.py:204: RuntimeWarning: divide by zero encountered in double_scalars\n",
      "  m_lr_i = np.log(numerator / denominator)\n",
      "C:\\Users\\minio\\anaconda3\\envs\\tfm-py-37\\lib\\site-packages\\gensim\\topic_coherence\\indirect_confirmation_measure.py:323: RuntimeWarning: invalid value encountered in double_scalars\n",
      "  return cv1.T.dot(cv2)[0, 0] / (_magnitude(cv1) * _magnitude(cv2))\n"
     ]
    },
    {
     "name": "stdout",
     "output_type": "stream",
     "text": [
      "time elapsed - 00:00:43.34\n",
      "267  -----  67000  -----  67249\n"
     ]
    },
    {
     "name": "stderr",
     "output_type": "stream",
     "text": [
      "C:\\Users\\minio\\anaconda3\\envs\\tfm-py-37\\lib\\site-packages\\gensim\\topic_coherence\\direct_confirmation_measure.py:204: RuntimeWarning: divide by zero encountered in double_scalars\n",
      "  m_lr_i = np.log(numerator / denominator)\n",
      "C:\\Users\\minio\\anaconda3\\envs\\tfm-py-37\\lib\\site-packages\\gensim\\topic_coherence\\indirect_confirmation_measure.py:323: RuntimeWarning: invalid value encountered in double_scalars\n",
      "  return cv1.T.dot(cv2)[0, 0] / (_magnitude(cv1) * _magnitude(cv2))\n"
     ]
    },
    {
     "name": "stdout",
     "output_type": "stream",
     "text": [
      "time elapsed - 00:00:43.24\n",
      "268  -----  67250  -----  67499\n"
     ]
    },
    {
     "name": "stderr",
     "output_type": "stream",
     "text": [
      "C:\\Users\\minio\\anaconda3\\envs\\tfm-py-37\\lib\\site-packages\\gensim\\topic_coherence\\direct_confirmation_measure.py:204: RuntimeWarning: divide by zero encountered in double_scalars\n",
      "  m_lr_i = np.log(numerator / denominator)\n",
      "C:\\Users\\minio\\anaconda3\\envs\\tfm-py-37\\lib\\site-packages\\gensim\\topic_coherence\\indirect_confirmation_measure.py:323: RuntimeWarning: invalid value encountered in double_scalars\n",
      "  return cv1.T.dot(cv2)[0, 0] / (_magnitude(cv1) * _magnitude(cv2))\n"
     ]
    },
    {
     "name": "stdout",
     "output_type": "stream",
     "text": [
      "time elapsed - 00:00:42.95\n",
      "269  -----  67500  -----  67749\n",
      "time elapsed - 00:00:42.94\n",
      "270  -----  67750  -----  67999\n"
     ]
    },
    {
     "name": "stderr",
     "output_type": "stream",
     "text": [
      "C:\\Users\\minio\\anaconda3\\envs\\tfm-py-37\\lib\\site-packages\\gensim\\topic_coherence\\direct_confirmation_measure.py:204: RuntimeWarning: divide by zero encountered in double_scalars\n",
      "  m_lr_i = np.log(numerator / denominator)\n",
      "C:\\Users\\minio\\anaconda3\\envs\\tfm-py-37\\lib\\site-packages\\gensim\\topic_coherence\\indirect_confirmation_measure.py:323: RuntimeWarning: invalid value encountered in double_scalars\n",
      "  return cv1.T.dot(cv2)[0, 0] / (_magnitude(cv1) * _magnitude(cv2))\n"
     ]
    },
    {
     "name": "stdout",
     "output_type": "stream",
     "text": [
      "time elapsed - 00:00:43.79\n",
      "271  -----  68000  -----  68249\n",
      "time elapsed - 00:00:41.41\n",
      "272  -----  68250  -----  68499\n",
      "time elapsed - 00:00:42.21\n",
      "273  -----  68500  -----  68749\n"
     ]
    },
    {
     "name": "stderr",
     "output_type": "stream",
     "text": [
      "C:\\Users\\minio\\anaconda3\\envs\\tfm-py-37\\lib\\site-packages\\gensim\\topic_coherence\\direct_confirmation_measure.py:204: RuntimeWarning: divide by zero encountered in double_scalars\n",
      "  m_lr_i = np.log(numerator / denominator)\n",
      "C:\\Users\\minio\\anaconda3\\envs\\tfm-py-37\\lib\\site-packages\\gensim\\topic_coherence\\indirect_confirmation_measure.py:323: RuntimeWarning: invalid value encountered in double_scalars\n",
      "  return cv1.T.dot(cv2)[0, 0] / (_magnitude(cv1) * _magnitude(cv2))\n"
     ]
    },
    {
     "name": "stdout",
     "output_type": "stream",
     "text": [
      "time elapsed - 00:00:41.61\n",
      "274  -----  68750  -----  68999\n"
     ]
    },
    {
     "name": "stderr",
     "output_type": "stream",
     "text": [
      "C:\\Users\\minio\\anaconda3\\envs\\tfm-py-37\\lib\\site-packages\\gensim\\topic_coherence\\direct_confirmation_measure.py:204: RuntimeWarning: divide by zero encountered in double_scalars\n",
      "  m_lr_i = np.log(numerator / denominator)\n",
      "C:\\Users\\minio\\anaconda3\\envs\\tfm-py-37\\lib\\site-packages\\gensim\\topic_coherence\\indirect_confirmation_measure.py:323: RuntimeWarning: invalid value encountered in double_scalars\n",
      "  return cv1.T.dot(cv2)[0, 0] / (_magnitude(cv1) * _magnitude(cv2))\n"
     ]
    },
    {
     "name": "stdout",
     "output_type": "stream",
     "text": [
      "time elapsed - 00:00:42.68\n",
      "275  -----  69000  -----  69249\n"
     ]
    },
    {
     "name": "stderr",
     "output_type": "stream",
     "text": [
      "C:\\Users\\minio\\anaconda3\\envs\\tfm-py-37\\lib\\site-packages\\gensim\\topic_coherence\\direct_confirmation_measure.py:204: RuntimeWarning: divide by zero encountered in double_scalars\n",
      "  m_lr_i = np.log(numerator / denominator)\n",
      "C:\\Users\\minio\\anaconda3\\envs\\tfm-py-37\\lib\\site-packages\\gensim\\topic_coherence\\indirect_confirmation_measure.py:323: RuntimeWarning: invalid value encountered in double_scalars\n",
      "  return cv1.T.dot(cv2)[0, 0] / (_magnitude(cv1) * _magnitude(cv2))\n"
     ]
    },
    {
     "name": "stdout",
     "output_type": "stream",
     "text": [
      "time elapsed - 00:00:43.97\n",
      "276  -----  69250  -----  69499\n",
      "time elapsed - 00:00:42.93\n",
      "277  -----  69500  -----  69749\n"
     ]
    },
    {
     "name": "stderr",
     "output_type": "stream",
     "text": [
      "C:\\Users\\minio\\anaconda3\\envs\\tfm-py-37\\lib\\site-packages\\gensim\\topic_coherence\\direct_confirmation_measure.py:204: RuntimeWarning: divide by zero encountered in double_scalars\n",
      "  m_lr_i = np.log(numerator / denominator)\n",
      "C:\\Users\\minio\\anaconda3\\envs\\tfm-py-37\\lib\\site-packages\\gensim\\topic_coherence\\indirect_confirmation_measure.py:323: RuntimeWarning: invalid value encountered in double_scalars\n",
      "  return cv1.T.dot(cv2)[0, 0] / (_magnitude(cv1) * _magnitude(cv2))\n"
     ]
    },
    {
     "name": "stdout",
     "output_type": "stream",
     "text": [
      "time elapsed - 00:00:42.66\n",
      "278  -----  69750  -----  69999\n",
      "time elapsed - 00:00:42.42\n",
      "279  -----  70000  -----  70249\n"
     ]
    },
    {
     "name": "stderr",
     "output_type": "stream",
     "text": [
      "C:\\Users\\minio\\anaconda3\\envs\\tfm-py-37\\lib\\site-packages\\gensim\\topic_coherence\\direct_confirmation_measure.py:204: RuntimeWarning: divide by zero encountered in double_scalars\n",
      "  m_lr_i = np.log(numerator / denominator)\n",
      "C:\\Users\\minio\\anaconda3\\envs\\tfm-py-37\\lib\\site-packages\\gensim\\topic_coherence\\indirect_confirmation_measure.py:323: RuntimeWarning: invalid value encountered in double_scalars\n",
      "  return cv1.T.dot(cv2)[0, 0] / (_magnitude(cv1) * _magnitude(cv2))\n"
     ]
    },
    {
     "name": "stdout",
     "output_type": "stream",
     "text": [
      "time elapsed - 00:00:43.09\n",
      "280  -----  70250  -----  70499\n",
      "time elapsed - 00:00:42.79\n",
      "281  -----  70500  -----  70749\n"
     ]
    },
    {
     "name": "stderr",
     "output_type": "stream",
     "text": [
      "C:\\Users\\minio\\anaconda3\\envs\\tfm-py-37\\lib\\site-packages\\gensim\\topic_coherence\\direct_confirmation_measure.py:204: RuntimeWarning: divide by zero encountered in double_scalars\n",
      "  m_lr_i = np.log(numerator / denominator)\n",
      "C:\\Users\\minio\\anaconda3\\envs\\tfm-py-37\\lib\\site-packages\\gensim\\topic_coherence\\indirect_confirmation_measure.py:323: RuntimeWarning: invalid value encountered in double_scalars\n",
      "  return cv1.T.dot(cv2)[0, 0] / (_magnitude(cv1) * _magnitude(cv2))\n"
     ]
    },
    {
     "name": "stdout",
     "output_type": "stream",
     "text": [
      "time elapsed - 00:00:41.96\n",
      "282  -----  70750  -----  70999\n"
     ]
    },
    {
     "name": "stderr",
     "output_type": "stream",
     "text": [
      "C:\\Users\\minio\\anaconda3\\envs\\tfm-py-37\\lib\\site-packages\\gensim\\topic_coherence\\direct_confirmation_measure.py:204: RuntimeWarning: divide by zero encountered in double_scalars\n",
      "  m_lr_i = np.log(numerator / denominator)\n",
      "C:\\Users\\minio\\anaconda3\\envs\\tfm-py-37\\lib\\site-packages\\gensim\\topic_coherence\\indirect_confirmation_measure.py:323: RuntimeWarning: invalid value encountered in double_scalars\n",
      "  return cv1.T.dot(cv2)[0, 0] / (_magnitude(cv1) * _magnitude(cv2))\n"
     ]
    },
    {
     "name": "stdout",
     "output_type": "stream",
     "text": [
      "time elapsed - 00:00:42.48\n",
      "283  -----  71000  -----  71249\n",
      "time elapsed - 00:00:43.39\n",
      "284  -----  71250  -----  71499\n",
      "time elapsed - 00:00:43.64\n",
      "285  -----  71500  -----  71749\n"
     ]
    },
    {
     "name": "stderr",
     "output_type": "stream",
     "text": [
      "C:\\Users\\minio\\anaconda3\\envs\\tfm-py-37\\lib\\site-packages\\gensim\\topic_coherence\\direct_confirmation_measure.py:204: RuntimeWarning: divide by zero encountered in double_scalars\n",
      "  m_lr_i = np.log(numerator / denominator)\n",
      "C:\\Users\\minio\\anaconda3\\envs\\tfm-py-37\\lib\\site-packages\\gensim\\topic_coherence\\indirect_confirmation_measure.py:323: RuntimeWarning: invalid value encountered in double_scalars\n",
      "  return cv1.T.dot(cv2)[0, 0] / (_magnitude(cv1) * _magnitude(cv2))\n"
     ]
    },
    {
     "name": "stdout",
     "output_type": "stream",
     "text": [
      "time elapsed - 00:00:43.68\n",
      "286  -----  71750  -----  71999\n",
      "time elapsed - 00:00:43.21\n",
      "287  -----  72000  -----  72249\n",
      "time elapsed - 00:00:42.84\n",
      "288  -----  72250  -----  72499\n"
     ]
    },
    {
     "name": "stderr",
     "output_type": "stream",
     "text": [
      "C:\\Users\\minio\\anaconda3\\envs\\tfm-py-37\\lib\\site-packages\\gensim\\topic_coherence\\direct_confirmation_measure.py:204: RuntimeWarning: divide by zero encountered in double_scalars\n",
      "  m_lr_i = np.log(numerator / denominator)\n",
      "C:\\Users\\minio\\anaconda3\\envs\\tfm-py-37\\lib\\site-packages\\gensim\\topic_coherence\\indirect_confirmation_measure.py:323: RuntimeWarning: invalid value encountered in double_scalars\n",
      "  return cv1.T.dot(cv2)[0, 0] / (_magnitude(cv1) * _magnitude(cv2))\n"
     ]
    },
    {
     "name": "stdout",
     "output_type": "stream",
     "text": [
      "time elapsed - 00:00:43.52\n",
      "289  -----  72500  -----  72749\n"
     ]
    },
    {
     "name": "stderr",
     "output_type": "stream",
     "text": [
      "C:\\Users\\minio\\anaconda3\\envs\\tfm-py-37\\lib\\site-packages\\gensim\\topic_coherence\\direct_confirmation_measure.py:204: RuntimeWarning: divide by zero encountered in double_scalars\n",
      "  m_lr_i = np.log(numerator / denominator)\n",
      "C:\\Users\\minio\\anaconda3\\envs\\tfm-py-37\\lib\\site-packages\\gensim\\topic_coherence\\indirect_confirmation_measure.py:323: RuntimeWarning: invalid value encountered in double_scalars\n",
      "  return cv1.T.dot(cv2)[0, 0] / (_magnitude(cv1) * _magnitude(cv2))\n"
     ]
    },
    {
     "name": "stdout",
     "output_type": "stream",
     "text": [
      "time elapsed - 00:00:44.76\n",
      "290  -----  72750  -----  72999\n",
      "time elapsed - 00:00:42.79\n",
      "291  -----  73000  -----  73249\n"
     ]
    },
    {
     "name": "stderr",
     "output_type": "stream",
     "text": [
      "C:\\Users\\minio\\anaconda3\\envs\\tfm-py-37\\lib\\site-packages\\gensim\\topic_coherence\\direct_confirmation_measure.py:204: RuntimeWarning: divide by zero encountered in double_scalars\n",
      "  m_lr_i = np.log(numerator / denominator)\n",
      "C:\\Users\\minio\\anaconda3\\envs\\tfm-py-37\\lib\\site-packages\\gensim\\topic_coherence\\indirect_confirmation_measure.py:323: RuntimeWarning: invalid value encountered in double_scalars\n",
      "  return cv1.T.dot(cv2)[0, 0] / (_magnitude(cv1) * _magnitude(cv2))\n"
     ]
    },
    {
     "name": "stdout",
     "output_type": "stream",
     "text": [
      "time elapsed - 00:00:43.41\n",
      "292  -----  73250  -----  73499\n",
      "time elapsed - 00:00:43.40\n",
      "293  -----  73500  -----  73749\n"
     ]
    },
    {
     "name": "stderr",
     "output_type": "stream",
     "text": [
      "C:\\Users\\minio\\anaconda3\\envs\\tfm-py-37\\lib\\site-packages\\gensim\\topic_coherence\\direct_confirmation_measure.py:204: RuntimeWarning: divide by zero encountered in double_scalars\n",
      "  m_lr_i = np.log(numerator / denominator)\n",
      "C:\\Users\\minio\\anaconda3\\envs\\tfm-py-37\\lib\\site-packages\\gensim\\topic_coherence\\indirect_confirmation_measure.py:323: RuntimeWarning: invalid value encountered in double_scalars\n",
      "  return cv1.T.dot(cv2)[0, 0] / (_magnitude(cv1) * _magnitude(cv2))\n"
     ]
    },
    {
     "name": "stdout",
     "output_type": "stream",
     "text": [
      "time elapsed - 00:00:44.45\n",
      "294  -----  73750  -----  73999\n"
     ]
    },
    {
     "name": "stderr",
     "output_type": "stream",
     "text": [
      "C:\\Users\\minio\\anaconda3\\envs\\tfm-py-37\\lib\\site-packages\\gensim\\topic_coherence\\direct_confirmation_measure.py:204: RuntimeWarning: divide by zero encountered in double_scalars\n",
      "  m_lr_i = np.log(numerator / denominator)\n",
      "C:\\Users\\minio\\anaconda3\\envs\\tfm-py-37\\lib\\site-packages\\gensim\\topic_coherence\\indirect_confirmation_measure.py:323: RuntimeWarning: invalid value encountered in double_scalars\n",
      "  return cv1.T.dot(cv2)[0, 0] / (_magnitude(cv1) * _magnitude(cv2))\n"
     ]
    },
    {
     "name": "stdout",
     "output_type": "stream",
     "text": [
      "time elapsed - 00:00:43.91\n",
      "295  -----  74000  -----  74249\n"
     ]
    },
    {
     "name": "stderr",
     "output_type": "stream",
     "text": [
      "C:\\Users\\minio\\anaconda3\\envs\\tfm-py-37\\lib\\site-packages\\gensim\\topic_coherence\\direct_confirmation_measure.py:204: RuntimeWarning: divide by zero encountered in double_scalars\n",
      "  m_lr_i = np.log(numerator / denominator)\n",
      "C:\\Users\\minio\\anaconda3\\envs\\tfm-py-37\\lib\\site-packages\\gensim\\topic_coherence\\indirect_confirmation_measure.py:323: RuntimeWarning: invalid value encountered in double_scalars\n",
      "  return cv1.T.dot(cv2)[0, 0] / (_magnitude(cv1) * _magnitude(cv2))\n"
     ]
    },
    {
     "name": "stdout",
     "output_type": "stream",
     "text": [
      "time elapsed - 00:00:43.55\n",
      "296  -----  74250  -----  74499\n",
      "time elapsed - 00:00:44.81\n",
      "297  -----  74500  -----  74749\n"
     ]
    },
    {
     "name": "stderr",
     "output_type": "stream",
     "text": [
      "C:\\Users\\minio\\anaconda3\\envs\\tfm-py-37\\lib\\site-packages\\gensim\\topic_coherence\\direct_confirmation_measure.py:204: RuntimeWarning: divide by zero encountered in double_scalars\n",
      "  m_lr_i = np.log(numerator / denominator)\n",
      "C:\\Users\\minio\\anaconda3\\envs\\tfm-py-37\\lib\\site-packages\\gensim\\topic_coherence\\indirect_confirmation_measure.py:323: RuntimeWarning: invalid value encountered in double_scalars\n",
      "  return cv1.T.dot(cv2)[0, 0] / (_magnitude(cv1) * _magnitude(cv2))\n"
     ]
    },
    {
     "name": "stdout",
     "output_type": "stream",
     "text": [
      "time elapsed - 00:00:44.62\n",
      "298  -----  74750  -----  74999\n",
      "time elapsed - 00:00:44.20\n",
      "299  -----  75000  -----  75249\n"
     ]
    },
    {
     "name": "stderr",
     "output_type": "stream",
     "text": [
      "C:\\Users\\minio\\anaconda3\\envs\\tfm-py-37\\lib\\site-packages\\gensim\\topic_coherence\\direct_confirmation_measure.py:204: RuntimeWarning: divide by zero encountered in double_scalars\n",
      "  m_lr_i = np.log(numerator / denominator)\n",
      "C:\\Users\\minio\\anaconda3\\envs\\tfm-py-37\\lib\\site-packages\\gensim\\topic_coherence\\indirect_confirmation_measure.py:323: RuntimeWarning: invalid value encountered in double_scalars\n",
      "  return cv1.T.dot(cv2)[0, 0] / (_magnitude(cv1) * _magnitude(cv2))\n"
     ]
    },
    {
     "name": "stdout",
     "output_type": "stream",
     "text": [
      "time elapsed - 00:00:44.62\n",
      "300  -----  75250  -----  75499\n",
      "time elapsed - 00:00:43.59\n",
      "301  -----  75500  -----  75749\n"
     ]
    },
    {
     "name": "stderr",
     "output_type": "stream",
     "text": [
      "C:\\Users\\minio\\anaconda3\\envs\\tfm-py-37\\lib\\site-packages\\gensim\\topic_coherence\\direct_confirmation_measure.py:204: RuntimeWarning: divide by zero encountered in double_scalars\n",
      "  m_lr_i = np.log(numerator / denominator)\n",
      "C:\\Users\\minio\\anaconda3\\envs\\tfm-py-37\\lib\\site-packages\\gensim\\topic_coherence\\indirect_confirmation_measure.py:323: RuntimeWarning: invalid value encountered in double_scalars\n",
      "  return cv1.T.dot(cv2)[0, 0] / (_magnitude(cv1) * _magnitude(cv2))\n"
     ]
    },
    {
     "name": "stdout",
     "output_type": "stream",
     "text": [
      "time elapsed - 00:00:42.69\n",
      "302  -----  75750  -----  75999\n"
     ]
    },
    {
     "name": "stderr",
     "output_type": "stream",
     "text": [
      "C:\\Users\\minio\\anaconda3\\envs\\tfm-py-37\\lib\\site-packages\\gensim\\topic_coherence\\direct_confirmation_measure.py:204: RuntimeWarning: divide by zero encountered in double_scalars\n",
      "  m_lr_i = np.log(numerator / denominator)\n",
      "C:\\Users\\minio\\anaconda3\\envs\\tfm-py-37\\lib\\site-packages\\gensim\\topic_coherence\\indirect_confirmation_measure.py:323: RuntimeWarning: invalid value encountered in double_scalars\n",
      "  return cv1.T.dot(cv2)[0, 0] / (_magnitude(cv1) * _magnitude(cv2))\n"
     ]
    },
    {
     "name": "stdout",
     "output_type": "stream",
     "text": [
      "time elapsed - 00:00:43.62\n",
      "303  -----  76000  -----  76249\n"
     ]
    },
    {
     "name": "stderr",
     "output_type": "stream",
     "text": [
      "C:\\Users\\minio\\anaconda3\\envs\\tfm-py-37\\lib\\site-packages\\gensim\\topic_coherence\\direct_confirmation_measure.py:204: RuntimeWarning: divide by zero encountered in double_scalars\n",
      "  m_lr_i = np.log(numerator / denominator)\n",
      "C:\\Users\\minio\\anaconda3\\envs\\tfm-py-37\\lib\\site-packages\\gensim\\topic_coherence\\indirect_confirmation_measure.py:323: RuntimeWarning: invalid value encountered in double_scalars\n",
      "  return cv1.T.dot(cv2)[0, 0] / (_magnitude(cv1) * _magnitude(cv2))\n"
     ]
    },
    {
     "name": "stdout",
     "output_type": "stream",
     "text": [
      "time elapsed - 00:00:43.61\n",
      "304  -----  76250  -----  76499\n"
     ]
    },
    {
     "name": "stderr",
     "output_type": "stream",
     "text": [
      "C:\\Users\\minio\\anaconda3\\envs\\tfm-py-37\\lib\\site-packages\\gensim\\topic_coherence\\direct_confirmation_measure.py:204: RuntimeWarning: divide by zero encountered in double_scalars\n",
      "  m_lr_i = np.log(numerator / denominator)\n",
      "C:\\Users\\minio\\anaconda3\\envs\\tfm-py-37\\lib\\site-packages\\gensim\\topic_coherence\\indirect_confirmation_measure.py:323: RuntimeWarning: invalid value encountered in double_scalars\n",
      "  return cv1.T.dot(cv2)[0, 0] / (_magnitude(cv1) * _magnitude(cv2))\n"
     ]
    },
    {
     "name": "stdout",
     "output_type": "stream",
     "text": [
      "time elapsed - 00:00:41.88\n",
      "305  -----  76500  -----  76749\n",
      "time elapsed - 00:00:42.85\n",
      "306  -----  76750  -----  76999\n"
     ]
    },
    {
     "name": "stderr",
     "output_type": "stream",
     "text": [
      "C:\\Users\\minio\\anaconda3\\envs\\tfm-py-37\\lib\\site-packages\\gensim\\topic_coherence\\direct_confirmation_measure.py:204: RuntimeWarning: divide by zero encountered in double_scalars\n",
      "  m_lr_i = np.log(numerator / denominator)\n",
      "C:\\Users\\minio\\anaconda3\\envs\\tfm-py-37\\lib\\site-packages\\gensim\\topic_coherence\\indirect_confirmation_measure.py:323: RuntimeWarning: invalid value encountered in double_scalars\n",
      "  return cv1.T.dot(cv2)[0, 0] / (_magnitude(cv1) * _magnitude(cv2))\n"
     ]
    },
    {
     "name": "stdout",
     "output_type": "stream",
     "text": [
      "time elapsed - 00:00:44.33\n",
      "307  -----  77000  -----  77249\n"
     ]
    },
    {
     "name": "stderr",
     "output_type": "stream",
     "text": [
      "C:\\Users\\minio\\anaconda3\\envs\\tfm-py-37\\lib\\site-packages\\gensim\\topic_coherence\\direct_confirmation_measure.py:204: RuntimeWarning: divide by zero encountered in double_scalars\n",
      "  m_lr_i = np.log(numerator / denominator)\n",
      "C:\\Users\\minio\\anaconda3\\envs\\tfm-py-37\\lib\\site-packages\\gensim\\topic_coherence\\indirect_confirmation_measure.py:323: RuntimeWarning: invalid value encountered in double_scalars\n",
      "  return cv1.T.dot(cv2)[0, 0] / (_magnitude(cv1) * _magnitude(cv2))\n"
     ]
    },
    {
     "name": "stdout",
     "output_type": "stream",
     "text": [
      "time elapsed - 00:00:43.97\n",
      "308  -----  77250  -----  77499\n"
     ]
    },
    {
     "name": "stderr",
     "output_type": "stream",
     "text": [
      "C:\\Users\\minio\\anaconda3\\envs\\tfm-py-37\\lib\\site-packages\\gensim\\topic_coherence\\direct_confirmation_measure.py:204: RuntimeWarning: divide by zero encountered in double_scalars\n",
      "  m_lr_i = np.log(numerator / denominator)\n",
      "C:\\Users\\minio\\anaconda3\\envs\\tfm-py-37\\lib\\site-packages\\gensim\\topic_coherence\\indirect_confirmation_measure.py:323: RuntimeWarning: invalid value encountered in double_scalars\n",
      "  return cv1.T.dot(cv2)[0, 0] / (_magnitude(cv1) * _magnitude(cv2))\n"
     ]
    },
    {
     "name": "stdout",
     "output_type": "stream",
     "text": [
      "time elapsed - 00:00:42.48\n",
      "309  -----  77500  -----  77749\n"
     ]
    },
    {
     "name": "stderr",
     "output_type": "stream",
     "text": [
      "C:\\Users\\minio\\anaconda3\\envs\\tfm-py-37\\lib\\site-packages\\gensim\\topic_coherence\\direct_confirmation_measure.py:204: RuntimeWarning: divide by zero encountered in double_scalars\n",
      "  m_lr_i = np.log(numerator / denominator)\n",
      "C:\\Users\\minio\\anaconda3\\envs\\tfm-py-37\\lib\\site-packages\\gensim\\topic_coherence\\indirect_confirmation_measure.py:323: RuntimeWarning: invalid value encountered in double_scalars\n",
      "  return cv1.T.dot(cv2)[0, 0] / (_magnitude(cv1) * _magnitude(cv2))\n"
     ]
    },
    {
     "name": "stdout",
     "output_type": "stream",
     "text": [
      "time elapsed - 00:00:40.45\n",
      "310  -----  77750  -----  77999\n"
     ]
    },
    {
     "name": "stderr",
     "output_type": "stream",
     "text": [
      "C:\\Users\\minio\\anaconda3\\envs\\tfm-py-37\\lib\\site-packages\\gensim\\topic_coherence\\direct_confirmation_measure.py:204: RuntimeWarning: divide by zero encountered in double_scalars\n",
      "  m_lr_i = np.log(numerator / denominator)\n",
      "C:\\Users\\minio\\anaconda3\\envs\\tfm-py-37\\lib\\site-packages\\gensim\\topic_coherence\\indirect_confirmation_measure.py:323: RuntimeWarning: invalid value encountered in double_scalars\n",
      "  return cv1.T.dot(cv2)[0, 0] / (_magnitude(cv1) * _magnitude(cv2))\n"
     ]
    },
    {
     "name": "stdout",
     "output_type": "stream",
     "text": [
      "time elapsed - 00:00:42.63\n",
      "311  -----  78000  -----  78249\n",
      "time elapsed - 00:00:42.20\n",
      "312  -----  78250  -----  78499\n"
     ]
    },
    {
     "name": "stderr",
     "output_type": "stream",
     "text": [
      "C:\\Users\\minio\\anaconda3\\envs\\tfm-py-37\\lib\\site-packages\\gensim\\topic_coherence\\direct_confirmation_measure.py:204: RuntimeWarning: divide by zero encountered in double_scalars\n",
      "  m_lr_i = np.log(numerator / denominator)\n",
      "C:\\Users\\minio\\anaconda3\\envs\\tfm-py-37\\lib\\site-packages\\gensim\\topic_coherence\\indirect_confirmation_measure.py:323: RuntimeWarning: invalid value encountered in double_scalars\n",
      "  return cv1.T.dot(cv2)[0, 0] / (_magnitude(cv1) * _magnitude(cv2))\n"
     ]
    },
    {
     "name": "stdout",
     "output_type": "stream",
     "text": [
      "time elapsed - 00:00:43.03\n",
      "313  -----  78500  -----  78749\n"
     ]
    },
    {
     "name": "stderr",
     "output_type": "stream",
     "text": [
      "C:\\Users\\minio\\anaconda3\\envs\\tfm-py-37\\lib\\site-packages\\gensim\\topic_coherence\\direct_confirmation_measure.py:204: RuntimeWarning: divide by zero encountered in double_scalars\n",
      "  m_lr_i = np.log(numerator / denominator)\n",
      "C:\\Users\\minio\\anaconda3\\envs\\tfm-py-37\\lib\\site-packages\\gensim\\topic_coherence\\indirect_confirmation_measure.py:323: RuntimeWarning: invalid value encountered in double_scalars\n",
      "  return cv1.T.dot(cv2)[0, 0] / (_magnitude(cv1) * _magnitude(cv2))\n"
     ]
    },
    {
     "name": "stdout",
     "output_type": "stream",
     "text": [
      "time elapsed - 00:00:42.68\n",
      "314  -----  78750  -----  78999\n",
      "time elapsed - 00:00:43.15\n",
      "315  -----  79000  -----  79249\n"
     ]
    },
    {
     "name": "stderr",
     "output_type": "stream",
     "text": [
      "C:\\Users\\minio\\anaconda3\\envs\\tfm-py-37\\lib\\site-packages\\gensim\\topic_coherence\\direct_confirmation_measure.py:204: RuntimeWarning: divide by zero encountered in double_scalars\n",
      "  m_lr_i = np.log(numerator / denominator)\n",
      "C:\\Users\\minio\\anaconda3\\envs\\tfm-py-37\\lib\\site-packages\\gensim\\topic_coherence\\indirect_confirmation_measure.py:323: RuntimeWarning: invalid value encountered in double_scalars\n",
      "  return cv1.T.dot(cv2)[0, 0] / (_magnitude(cv1) * _magnitude(cv2))\n"
     ]
    },
    {
     "name": "stdout",
     "output_type": "stream",
     "text": [
      "time elapsed - 00:00:43.53\n",
      "316  -----  79250  -----  79499\n",
      "time elapsed - 00:00:43.53\n",
      "317  -----  79500  -----  79749\n"
     ]
    },
    {
     "name": "stderr",
     "output_type": "stream",
     "text": [
      "C:\\Users\\minio\\anaconda3\\envs\\tfm-py-37\\lib\\site-packages\\gensim\\topic_coherence\\direct_confirmation_measure.py:204: RuntimeWarning: divide by zero encountered in double_scalars\n",
      "  m_lr_i = np.log(numerator / denominator)\n",
      "C:\\Users\\minio\\anaconda3\\envs\\tfm-py-37\\lib\\site-packages\\gensim\\topic_coherence\\indirect_confirmation_measure.py:323: RuntimeWarning: invalid value encountered in double_scalars\n",
      "  return cv1.T.dot(cv2)[0, 0] / (_magnitude(cv1) * _magnitude(cv2))\n"
     ]
    },
    {
     "name": "stdout",
     "output_type": "stream",
     "text": [
      "time elapsed - 00:00:43.23\n",
      "318  -----  79750  -----  79999\n"
     ]
    },
    {
     "name": "stderr",
     "output_type": "stream",
     "text": [
      "C:\\Users\\minio\\anaconda3\\envs\\tfm-py-37\\lib\\site-packages\\gensim\\topic_coherence\\direct_confirmation_measure.py:204: RuntimeWarning: divide by zero encountered in double_scalars\n",
      "  m_lr_i = np.log(numerator / denominator)\n",
      "C:\\Users\\minio\\anaconda3\\envs\\tfm-py-37\\lib\\site-packages\\gensim\\topic_coherence\\indirect_confirmation_measure.py:323: RuntimeWarning: invalid value encountered in double_scalars\n",
      "  return cv1.T.dot(cv2)[0, 0] / (_magnitude(cv1) * _magnitude(cv2))\n"
     ]
    },
    {
     "name": "stdout",
     "output_type": "stream",
     "text": [
      "time elapsed - 00:00:43.20\n",
      "319  -----  80000  -----  80249\n"
     ]
    },
    {
     "name": "stderr",
     "output_type": "stream",
     "text": [
      "C:\\Users\\minio\\anaconda3\\envs\\tfm-py-37\\lib\\site-packages\\gensim\\topic_coherence\\direct_confirmation_measure.py:204: RuntimeWarning: divide by zero encountered in double_scalars\n",
      "  m_lr_i = np.log(numerator / denominator)\n",
      "C:\\Users\\minio\\anaconda3\\envs\\tfm-py-37\\lib\\site-packages\\gensim\\topic_coherence\\indirect_confirmation_measure.py:323: RuntimeWarning: invalid value encountered in double_scalars\n",
      "  return cv1.T.dot(cv2)[0, 0] / (_magnitude(cv1) * _magnitude(cv2))\n"
     ]
    },
    {
     "name": "stdout",
     "output_type": "stream",
     "text": [
      "time elapsed - 00:00:43.69\n",
      "320  -----  80250  -----  80499\n"
     ]
    },
    {
     "name": "stderr",
     "output_type": "stream",
     "text": [
      "C:\\Users\\minio\\anaconda3\\envs\\tfm-py-37\\lib\\site-packages\\gensim\\topic_coherence\\direct_confirmation_measure.py:204: RuntimeWarning: divide by zero encountered in double_scalars\n",
      "  m_lr_i = np.log(numerator / denominator)\n",
      "C:\\Users\\minio\\anaconda3\\envs\\tfm-py-37\\lib\\site-packages\\gensim\\topic_coherence\\indirect_confirmation_measure.py:323: RuntimeWarning: invalid value encountered in double_scalars\n",
      "  return cv1.T.dot(cv2)[0, 0] / (_magnitude(cv1) * _magnitude(cv2))\n"
     ]
    },
    {
     "name": "stdout",
     "output_type": "stream",
     "text": [
      "time elapsed - 00:00:42.96\n",
      "321  -----  80500  -----  80749\n"
     ]
    },
    {
     "name": "stderr",
     "output_type": "stream",
     "text": [
      "C:\\Users\\minio\\anaconda3\\envs\\tfm-py-37\\lib\\site-packages\\gensim\\topic_coherence\\direct_confirmation_measure.py:204: RuntimeWarning: divide by zero encountered in double_scalars\n",
      "  m_lr_i = np.log(numerator / denominator)\n",
      "C:\\Users\\minio\\anaconda3\\envs\\tfm-py-37\\lib\\site-packages\\gensim\\topic_coherence\\indirect_confirmation_measure.py:323: RuntimeWarning: invalid value encountered in double_scalars\n",
      "  return cv1.T.dot(cv2)[0, 0] / (_magnitude(cv1) * _magnitude(cv2))\n"
     ]
    },
    {
     "name": "stdout",
     "output_type": "stream",
     "text": [
      "time elapsed - 00:00:43.10\n",
      "322  -----  80750  -----  80999\n"
     ]
    },
    {
     "name": "stderr",
     "output_type": "stream",
     "text": [
      "C:\\Users\\minio\\anaconda3\\envs\\tfm-py-37\\lib\\site-packages\\gensim\\topic_coherence\\direct_confirmation_measure.py:204: RuntimeWarning: divide by zero encountered in double_scalars\n",
      "  m_lr_i = np.log(numerator / denominator)\n",
      "C:\\Users\\minio\\anaconda3\\envs\\tfm-py-37\\lib\\site-packages\\gensim\\topic_coherence\\indirect_confirmation_measure.py:323: RuntimeWarning: invalid value encountered in double_scalars\n",
      "  return cv1.T.dot(cv2)[0, 0] / (_magnitude(cv1) * _magnitude(cv2))\n"
     ]
    },
    {
     "name": "stdout",
     "output_type": "stream",
     "text": [
      "time elapsed - 00:00:43.31\n",
      "323  -----  81000  -----  81249\n"
     ]
    },
    {
     "name": "stderr",
     "output_type": "stream",
     "text": [
      "C:\\Users\\minio\\anaconda3\\envs\\tfm-py-37\\lib\\site-packages\\gensim\\topic_coherence\\direct_confirmation_measure.py:204: RuntimeWarning: divide by zero encountered in double_scalars\n",
      "  m_lr_i = np.log(numerator / denominator)\n",
      "C:\\Users\\minio\\anaconda3\\envs\\tfm-py-37\\lib\\site-packages\\gensim\\topic_coherence\\indirect_confirmation_measure.py:323: RuntimeWarning: invalid value encountered in double_scalars\n",
      "  return cv1.T.dot(cv2)[0, 0] / (_magnitude(cv1) * _magnitude(cv2))\n"
     ]
    },
    {
     "name": "stdout",
     "output_type": "stream",
     "text": [
      "time elapsed - 00:00:41.60\n",
      "324  -----  81250  -----  81499\n"
     ]
    },
    {
     "name": "stderr",
     "output_type": "stream",
     "text": [
      "C:\\Users\\minio\\anaconda3\\envs\\tfm-py-37\\lib\\site-packages\\gensim\\topic_coherence\\direct_confirmation_measure.py:204: RuntimeWarning: divide by zero encountered in double_scalars\n",
      "  m_lr_i = np.log(numerator / denominator)\n",
      "C:\\Users\\minio\\anaconda3\\envs\\tfm-py-37\\lib\\site-packages\\gensim\\topic_coherence\\indirect_confirmation_measure.py:323: RuntimeWarning: invalid value encountered in double_scalars\n",
      "  return cv1.T.dot(cv2)[0, 0] / (_magnitude(cv1) * _magnitude(cv2))\n"
     ]
    },
    {
     "name": "stdout",
     "output_type": "stream",
     "text": [
      "time elapsed - 00:00:42.68\n",
      "325  -----  81500  -----  81749\n",
      "time elapsed - 00:00:44.43\n",
      "326  -----  81750  -----  81999\n",
      "time elapsed - 00:00:41.45\n",
      "327  -----  82000  -----  82249\n",
      "time elapsed - 00:00:41.80\n",
      "328  -----  82250  -----  82499\n"
     ]
    },
    {
     "name": "stderr",
     "output_type": "stream",
     "text": [
      "C:\\Users\\minio\\anaconda3\\envs\\tfm-py-37\\lib\\site-packages\\gensim\\topic_coherence\\direct_confirmation_measure.py:204: RuntimeWarning: divide by zero encountered in double_scalars\n",
      "  m_lr_i = np.log(numerator / denominator)\n",
      "C:\\Users\\minio\\anaconda3\\envs\\tfm-py-37\\lib\\site-packages\\gensim\\topic_coherence\\indirect_confirmation_measure.py:323: RuntimeWarning: invalid value encountered in double_scalars\n",
      "  return cv1.T.dot(cv2)[0, 0] / (_magnitude(cv1) * _magnitude(cv2))\n"
     ]
    },
    {
     "name": "stdout",
     "output_type": "stream",
     "text": [
      "time elapsed - 00:00:42.96\n",
      "329  -----  82500  -----  82749\n",
      "time elapsed - 00:00:42.13\n",
      "330  -----  82750  -----  82999\n"
     ]
    },
    {
     "name": "stderr",
     "output_type": "stream",
     "text": [
      "C:\\Users\\minio\\anaconda3\\envs\\tfm-py-37\\lib\\site-packages\\gensim\\topic_coherence\\direct_confirmation_measure.py:204: RuntimeWarning: divide by zero encountered in double_scalars\n",
      "  m_lr_i = np.log(numerator / denominator)\n",
      "C:\\Users\\minio\\anaconda3\\envs\\tfm-py-37\\lib\\site-packages\\gensim\\topic_coherence\\indirect_confirmation_measure.py:323: RuntimeWarning: invalid value encountered in double_scalars\n",
      "  return cv1.T.dot(cv2)[0, 0] / (_magnitude(cv1) * _magnitude(cv2))\n"
     ]
    },
    {
     "name": "stdout",
     "output_type": "stream",
     "text": [
      "time elapsed - 00:00:43.21\n",
      "331  -----  83000  -----  83249\n",
      "time elapsed - 00:00:42.82\n",
      "332  -----  83250  -----  83499\n"
     ]
    },
    {
     "name": "stderr",
     "output_type": "stream",
     "text": [
      "C:\\Users\\minio\\anaconda3\\envs\\tfm-py-37\\lib\\site-packages\\gensim\\topic_coherence\\direct_confirmation_measure.py:204: RuntimeWarning: divide by zero encountered in double_scalars\n",
      "  m_lr_i = np.log(numerator / denominator)\n",
      "C:\\Users\\minio\\anaconda3\\envs\\tfm-py-37\\lib\\site-packages\\gensim\\topic_coherence\\indirect_confirmation_measure.py:323: RuntimeWarning: invalid value encountered in double_scalars\n",
      "  return cv1.T.dot(cv2)[0, 0] / (_magnitude(cv1) * _magnitude(cv2))\n"
     ]
    },
    {
     "name": "stdout",
     "output_type": "stream",
     "text": [
      "time elapsed - 00:00:41.93\n",
      "333  -----  83500  -----  83749\n"
     ]
    },
    {
     "name": "stderr",
     "output_type": "stream",
     "text": [
      "C:\\Users\\minio\\anaconda3\\envs\\tfm-py-37\\lib\\site-packages\\gensim\\topic_coherence\\direct_confirmation_measure.py:204: RuntimeWarning: divide by zero encountered in double_scalars\n",
      "  m_lr_i = np.log(numerator / denominator)\n",
      "C:\\Users\\minio\\anaconda3\\envs\\tfm-py-37\\lib\\site-packages\\gensim\\topic_coherence\\indirect_confirmation_measure.py:323: RuntimeWarning: invalid value encountered in double_scalars\n",
      "  return cv1.T.dot(cv2)[0, 0] / (_magnitude(cv1) * _magnitude(cv2))\n"
     ]
    },
    {
     "name": "stdout",
     "output_type": "stream",
     "text": [
      "time elapsed - 00:00:43.14\n",
      "334  -----  83750  -----  83999\n"
     ]
    },
    {
     "name": "stderr",
     "output_type": "stream",
     "text": [
      "C:\\Users\\minio\\anaconda3\\envs\\tfm-py-37\\lib\\site-packages\\gensim\\topic_coherence\\direct_confirmation_measure.py:204: RuntimeWarning: divide by zero encountered in double_scalars\n",
      "  m_lr_i = np.log(numerator / denominator)\n",
      "C:\\Users\\minio\\anaconda3\\envs\\tfm-py-37\\lib\\site-packages\\gensim\\topic_coherence\\indirect_confirmation_measure.py:323: RuntimeWarning: invalid value encountered in double_scalars\n",
      "  return cv1.T.dot(cv2)[0, 0] / (_magnitude(cv1) * _magnitude(cv2))\n"
     ]
    },
    {
     "name": "stdout",
     "output_type": "stream",
     "text": [
      "time elapsed - 00:00:43.19\n",
      "335  -----  84000  -----  84249\n"
     ]
    },
    {
     "name": "stderr",
     "output_type": "stream",
     "text": [
      "C:\\Users\\minio\\anaconda3\\envs\\tfm-py-37\\lib\\site-packages\\gensim\\topic_coherence\\direct_confirmation_measure.py:204: RuntimeWarning: divide by zero encountered in double_scalars\n",
      "  m_lr_i = np.log(numerator / denominator)\n",
      "C:\\Users\\minio\\anaconda3\\envs\\tfm-py-37\\lib\\site-packages\\gensim\\topic_coherence\\indirect_confirmation_measure.py:323: RuntimeWarning: invalid value encountered in double_scalars\n",
      "  return cv1.T.dot(cv2)[0, 0] / (_magnitude(cv1) * _magnitude(cv2))\n"
     ]
    },
    {
     "name": "stdout",
     "output_type": "stream",
     "text": [
      "time elapsed - 00:00:43.47\n",
      "336  -----  84250  -----  84499\n",
      "time elapsed - 00:00:44.08\n",
      "337  -----  84500  -----  84749\n"
     ]
    },
    {
     "name": "stderr",
     "output_type": "stream",
     "text": [
      "C:\\Users\\minio\\anaconda3\\envs\\tfm-py-37\\lib\\site-packages\\gensim\\topic_coherence\\direct_confirmation_measure.py:204: RuntimeWarning: divide by zero encountered in double_scalars\n",
      "  m_lr_i = np.log(numerator / denominator)\n",
      "C:\\Users\\minio\\anaconda3\\envs\\tfm-py-37\\lib\\site-packages\\gensim\\topic_coherence\\indirect_confirmation_measure.py:323: RuntimeWarning: invalid value encountered in double_scalars\n",
      "  return cv1.T.dot(cv2)[0, 0] / (_magnitude(cv1) * _magnitude(cv2))\n"
     ]
    },
    {
     "name": "stdout",
     "output_type": "stream",
     "text": [
      "time elapsed - 00:00:43.36\n",
      "338  -----  84750  -----  84999\n"
     ]
    },
    {
     "name": "stderr",
     "output_type": "stream",
     "text": [
      "C:\\Users\\minio\\anaconda3\\envs\\tfm-py-37\\lib\\site-packages\\gensim\\topic_coherence\\direct_confirmation_measure.py:204: RuntimeWarning: divide by zero encountered in double_scalars\n",
      "  m_lr_i = np.log(numerator / denominator)\n",
      "C:\\Users\\minio\\anaconda3\\envs\\tfm-py-37\\lib\\site-packages\\gensim\\topic_coherence\\indirect_confirmation_measure.py:323: RuntimeWarning: invalid value encountered in double_scalars\n",
      "  return cv1.T.dot(cv2)[0, 0] / (_magnitude(cv1) * _magnitude(cv2))\n"
     ]
    },
    {
     "name": "stdout",
     "output_type": "stream",
     "text": [
      "time elapsed - 00:00:44.11\n",
      "339  -----  85000  -----  85249\n"
     ]
    },
    {
     "name": "stderr",
     "output_type": "stream",
     "text": [
      "C:\\Users\\minio\\anaconda3\\envs\\tfm-py-37\\lib\\site-packages\\gensim\\topic_coherence\\direct_confirmation_measure.py:204: RuntimeWarning: divide by zero encountered in double_scalars\n",
      "  m_lr_i = np.log(numerator / denominator)\n",
      "C:\\Users\\minio\\anaconda3\\envs\\tfm-py-37\\lib\\site-packages\\gensim\\topic_coherence\\indirect_confirmation_measure.py:323: RuntimeWarning: invalid value encountered in double_scalars\n",
      "  return cv1.T.dot(cv2)[0, 0] / (_magnitude(cv1) * _magnitude(cv2))\n"
     ]
    },
    {
     "name": "stdout",
     "output_type": "stream",
     "text": [
      "time elapsed - 00:00:43.85\n",
      "340  -----  85250  -----  85499\n",
      "time elapsed - 00:00:44.01\n",
      "341  -----  85500  -----  85749\n"
     ]
    },
    {
     "name": "stderr",
     "output_type": "stream",
     "text": [
      "C:\\Users\\minio\\anaconda3\\envs\\tfm-py-37\\lib\\site-packages\\gensim\\topic_coherence\\direct_confirmation_measure.py:204: RuntimeWarning: divide by zero encountered in double_scalars\n",
      "  m_lr_i = np.log(numerator / denominator)\n",
      "C:\\Users\\minio\\anaconda3\\envs\\tfm-py-37\\lib\\site-packages\\gensim\\topic_coherence\\indirect_confirmation_measure.py:323: RuntimeWarning: invalid value encountered in double_scalars\n",
      "  return cv1.T.dot(cv2)[0, 0] / (_magnitude(cv1) * _magnitude(cv2))\n"
     ]
    },
    {
     "name": "stdout",
     "output_type": "stream",
     "text": [
      "time elapsed - 00:00:43.73\n",
      "342  -----  85750  -----  85999\n",
      "time elapsed - 00:00:43.69\n",
      "343  -----  86000  -----  86249\n"
     ]
    },
    {
     "name": "stderr",
     "output_type": "stream",
     "text": [
      "C:\\Users\\minio\\anaconda3\\envs\\tfm-py-37\\lib\\site-packages\\gensim\\topic_coherence\\direct_confirmation_measure.py:204: RuntimeWarning: divide by zero encountered in double_scalars\n",
      "  m_lr_i = np.log(numerator / denominator)\n",
      "C:\\Users\\minio\\anaconda3\\envs\\tfm-py-37\\lib\\site-packages\\gensim\\topic_coherence\\indirect_confirmation_measure.py:323: RuntimeWarning: invalid value encountered in double_scalars\n",
      "  return cv1.T.dot(cv2)[0, 0] / (_magnitude(cv1) * _magnitude(cv2))\n"
     ]
    },
    {
     "name": "stdout",
     "output_type": "stream",
     "text": [
      "time elapsed - 00:00:43.44\n",
      "344  -----  86250  -----  86499\n"
     ]
    },
    {
     "name": "stderr",
     "output_type": "stream",
     "text": [
      "C:\\Users\\minio\\anaconda3\\envs\\tfm-py-37\\lib\\site-packages\\gensim\\topic_coherence\\direct_confirmation_measure.py:204: RuntimeWarning: divide by zero encountered in double_scalars\n",
      "  m_lr_i = np.log(numerator / denominator)\n",
      "C:\\Users\\minio\\anaconda3\\envs\\tfm-py-37\\lib\\site-packages\\gensim\\topic_coherence\\indirect_confirmation_measure.py:323: RuntimeWarning: invalid value encountered in double_scalars\n",
      "  return cv1.T.dot(cv2)[0, 0] / (_magnitude(cv1) * _magnitude(cv2))\n"
     ]
    },
    {
     "name": "stdout",
     "output_type": "stream",
     "text": [
      "time elapsed - 00:00:44.36\n",
      "345  -----  86500  -----  86749\n"
     ]
    },
    {
     "name": "stderr",
     "output_type": "stream",
     "text": [
      "C:\\Users\\minio\\anaconda3\\envs\\tfm-py-37\\lib\\site-packages\\gensim\\topic_coherence\\direct_confirmation_measure.py:204: RuntimeWarning: divide by zero encountered in double_scalars\n",
      "  m_lr_i = np.log(numerator / denominator)\n",
      "C:\\Users\\minio\\anaconda3\\envs\\tfm-py-37\\lib\\site-packages\\gensim\\topic_coherence\\indirect_confirmation_measure.py:323: RuntimeWarning: invalid value encountered in double_scalars\n",
      "  return cv1.T.dot(cv2)[0, 0] / (_magnitude(cv1) * _magnitude(cv2))\n"
     ]
    },
    {
     "name": "stdout",
     "output_type": "stream",
     "text": [
      "time elapsed - 00:01:06.32\n",
      "346  -----  86750  -----  86999\n",
      "time elapsed - 00:00:46.00\n",
      "347  -----  87000  -----  87249\n"
     ]
    },
    {
     "name": "stderr",
     "output_type": "stream",
     "text": [
      "C:\\Users\\minio\\anaconda3\\envs\\tfm-py-37\\lib\\site-packages\\gensim\\topic_coherence\\direct_confirmation_measure.py:204: RuntimeWarning: divide by zero encountered in double_scalars\n",
      "  m_lr_i = np.log(numerator / denominator)\n",
      "C:\\Users\\minio\\anaconda3\\envs\\tfm-py-37\\lib\\site-packages\\gensim\\topic_coherence\\indirect_confirmation_measure.py:323: RuntimeWarning: invalid value encountered in double_scalars\n",
      "  return cv1.T.dot(cv2)[0, 0] / (_magnitude(cv1) * _magnitude(cv2))\n"
     ]
    },
    {
     "name": "stdout",
     "output_type": "stream",
     "text": [
      "time elapsed - 00:00:40.27\n",
      "348  -----  87250  -----  87499\n"
     ]
    },
    {
     "name": "stderr",
     "output_type": "stream",
     "text": [
      "C:\\Users\\minio\\anaconda3\\envs\\tfm-py-37\\lib\\site-packages\\gensim\\topic_coherence\\direct_confirmation_measure.py:204: RuntimeWarning: divide by zero encountered in double_scalars\n",
      "  m_lr_i = np.log(numerator / denominator)\n",
      "C:\\Users\\minio\\anaconda3\\envs\\tfm-py-37\\lib\\site-packages\\gensim\\topic_coherence\\indirect_confirmation_measure.py:323: RuntimeWarning: invalid value encountered in double_scalars\n",
      "  return cv1.T.dot(cv2)[0, 0] / (_magnitude(cv1) * _magnitude(cv2))\n"
     ]
    },
    {
     "name": "stdout",
     "output_type": "stream",
     "text": [
      "time elapsed - 00:00:47.55\n",
      "349  -----  87500  -----  87749\n"
     ]
    },
    {
     "name": "stderr",
     "output_type": "stream",
     "text": [
      "C:\\Users\\minio\\anaconda3\\envs\\tfm-py-37\\lib\\site-packages\\gensim\\topic_coherence\\direct_confirmation_measure.py:204: RuntimeWarning: divide by zero encountered in double_scalars\n",
      "  m_lr_i = np.log(numerator / denominator)\n",
      "C:\\Users\\minio\\anaconda3\\envs\\tfm-py-37\\lib\\site-packages\\gensim\\topic_coherence\\indirect_confirmation_measure.py:323: RuntimeWarning: invalid value encountered in double_scalars\n",
      "  return cv1.T.dot(cv2)[0, 0] / (_magnitude(cv1) * _magnitude(cv2))\n"
     ]
    },
    {
     "name": "stdout",
     "output_type": "stream",
     "text": [
      "time elapsed - 00:00:40.67\n",
      "350  -----  87750  -----  87999\n"
     ]
    },
    {
     "name": "stderr",
     "output_type": "stream",
     "text": [
      "C:\\Users\\minio\\anaconda3\\envs\\tfm-py-37\\lib\\site-packages\\gensim\\topic_coherence\\direct_confirmation_measure.py:204: RuntimeWarning: divide by zero encountered in double_scalars\n",
      "  m_lr_i = np.log(numerator / denominator)\n",
      "C:\\Users\\minio\\anaconda3\\envs\\tfm-py-37\\lib\\site-packages\\gensim\\topic_coherence\\indirect_confirmation_measure.py:323: RuntimeWarning: invalid value encountered in double_scalars\n",
      "  return cv1.T.dot(cv2)[0, 0] / (_magnitude(cv1) * _magnitude(cv2))\n"
     ]
    },
    {
     "name": "stdout",
     "output_type": "stream",
     "text": [
      "time elapsed - 00:00:40.46\n",
      "351  -----  88000  -----  88249\n"
     ]
    },
    {
     "name": "stderr",
     "output_type": "stream",
     "text": [
      "C:\\Users\\minio\\anaconda3\\envs\\tfm-py-37\\lib\\site-packages\\gensim\\topic_coherence\\direct_confirmation_measure.py:204: RuntimeWarning: divide by zero encountered in double_scalars\n",
      "  m_lr_i = np.log(numerator / denominator)\n",
      "C:\\Users\\minio\\anaconda3\\envs\\tfm-py-37\\lib\\site-packages\\gensim\\topic_coherence\\indirect_confirmation_measure.py:323: RuntimeWarning: invalid value encountered in double_scalars\n",
      "  return cv1.T.dot(cv2)[0, 0] / (_magnitude(cv1) * _magnitude(cv2))\n"
     ]
    },
    {
     "name": "stdout",
     "output_type": "stream",
     "text": [
      "time elapsed - 00:00:39.22\n",
      "352  -----  88250  -----  88499\n",
      "time elapsed - 00:00:39.03\n",
      "353  -----  88500  -----  88749\n"
     ]
    },
    {
     "name": "stderr",
     "output_type": "stream",
     "text": [
      "C:\\Users\\minio\\anaconda3\\envs\\tfm-py-37\\lib\\site-packages\\gensim\\topic_coherence\\direct_confirmation_measure.py:204: RuntimeWarning: divide by zero encountered in double_scalars\n",
      "  m_lr_i = np.log(numerator / denominator)\n",
      "C:\\Users\\minio\\anaconda3\\envs\\tfm-py-37\\lib\\site-packages\\gensim\\topic_coherence\\indirect_confirmation_measure.py:323: RuntimeWarning: invalid value encountered in double_scalars\n",
      "  return cv1.T.dot(cv2)[0, 0] / (_magnitude(cv1) * _magnitude(cv2))\n"
     ]
    },
    {
     "name": "stdout",
     "output_type": "stream",
     "text": [
      "time elapsed - 00:00:41.29\n",
      "354  -----  88750  -----  88999\n"
     ]
    },
    {
     "name": "stderr",
     "output_type": "stream",
     "text": [
      "C:\\Users\\minio\\anaconda3\\envs\\tfm-py-37\\lib\\site-packages\\gensim\\topic_coherence\\direct_confirmation_measure.py:204: RuntimeWarning: divide by zero encountered in double_scalars\n",
      "  m_lr_i = np.log(numerator / denominator)\n",
      "C:\\Users\\minio\\anaconda3\\envs\\tfm-py-37\\lib\\site-packages\\gensim\\topic_coherence\\indirect_confirmation_measure.py:323: RuntimeWarning: invalid value encountered in double_scalars\n",
      "  return cv1.T.dot(cv2)[0, 0] / (_magnitude(cv1) * _magnitude(cv2))\n"
     ]
    },
    {
     "name": "stdout",
     "output_type": "stream",
     "text": [
      "time elapsed - 00:00:39.79\n",
      "355  -----  89000  -----  89249\n"
     ]
    },
    {
     "name": "stderr",
     "output_type": "stream",
     "text": [
      "C:\\Users\\minio\\anaconda3\\envs\\tfm-py-37\\lib\\site-packages\\gensim\\topic_coherence\\direct_confirmation_measure.py:204: RuntimeWarning: divide by zero encountered in double_scalars\n",
      "  m_lr_i = np.log(numerator / denominator)\n",
      "C:\\Users\\minio\\anaconda3\\envs\\tfm-py-37\\lib\\site-packages\\gensim\\topic_coherence\\indirect_confirmation_measure.py:323: RuntimeWarning: invalid value encountered in double_scalars\n",
      "  return cv1.T.dot(cv2)[0, 0] / (_magnitude(cv1) * _magnitude(cv2))\n"
     ]
    },
    {
     "name": "stdout",
     "output_type": "stream",
     "text": [
      "time elapsed - 00:00:41.15\n",
      "356  -----  89250  -----  89499\n",
      "time elapsed - 00:00:45.34\n",
      "357  -----  89500  -----  89749\n"
     ]
    },
    {
     "name": "stderr",
     "output_type": "stream",
     "text": [
      "C:\\Users\\minio\\anaconda3\\envs\\tfm-py-37\\lib\\site-packages\\gensim\\topic_coherence\\direct_confirmation_measure.py:204: RuntimeWarning: divide by zero encountered in double_scalars\n",
      "  m_lr_i = np.log(numerator / denominator)\n",
      "C:\\Users\\minio\\anaconda3\\envs\\tfm-py-37\\lib\\site-packages\\gensim\\topic_coherence\\indirect_confirmation_measure.py:323: RuntimeWarning: invalid value encountered in double_scalars\n",
      "  return cv1.T.dot(cv2)[0, 0] / (_magnitude(cv1) * _magnitude(cv2))\n"
     ]
    },
    {
     "name": "stdout",
     "output_type": "stream",
     "text": [
      "time elapsed - 00:00:44.51\n",
      "358  -----  89750  -----  89999\n",
      "time elapsed - 00:00:40.17\n",
      "359  -----  90000  -----  90249\n",
      "time elapsed - 00:00:40.44\n",
      "360  -----  90250  -----  90499\n"
     ]
    },
    {
     "name": "stderr",
     "output_type": "stream",
     "text": [
      "C:\\Users\\minio\\anaconda3\\envs\\tfm-py-37\\lib\\site-packages\\gensim\\topic_coherence\\direct_confirmation_measure.py:204: RuntimeWarning: divide by zero encountered in double_scalars\n",
      "  m_lr_i = np.log(numerator / denominator)\n",
      "C:\\Users\\minio\\anaconda3\\envs\\tfm-py-37\\lib\\site-packages\\gensim\\topic_coherence\\indirect_confirmation_measure.py:323: RuntimeWarning: invalid value encountered in double_scalars\n",
      "  return cv1.T.dot(cv2)[0, 0] / (_magnitude(cv1) * _magnitude(cv2))\n"
     ]
    },
    {
     "name": "stdout",
     "output_type": "stream",
     "text": [
      "time elapsed - 00:00:46.54\n",
      "361  -----  90500  -----  90749\n"
     ]
    },
    {
     "name": "stderr",
     "output_type": "stream",
     "text": [
      "C:\\Users\\minio\\anaconda3\\envs\\tfm-py-37\\lib\\site-packages\\gensim\\topic_coherence\\direct_confirmation_measure.py:204: RuntimeWarning: divide by zero encountered in double_scalars\n",
      "  m_lr_i = np.log(numerator / denominator)\n",
      "C:\\Users\\minio\\anaconda3\\envs\\tfm-py-37\\lib\\site-packages\\gensim\\topic_coherence\\indirect_confirmation_measure.py:323: RuntimeWarning: invalid value encountered in double_scalars\n",
      "  return cv1.T.dot(cv2)[0, 0] / (_magnitude(cv1) * _magnitude(cv2))\n"
     ]
    },
    {
     "name": "stdout",
     "output_type": "stream",
     "text": [
      "time elapsed - 00:00:42.96\n",
      "362  -----  90750  -----  90999\n"
     ]
    },
    {
     "name": "stderr",
     "output_type": "stream",
     "text": [
      "C:\\Users\\minio\\anaconda3\\envs\\tfm-py-37\\lib\\site-packages\\gensim\\topic_coherence\\direct_confirmation_measure.py:204: RuntimeWarning: divide by zero encountered in double_scalars\n",
      "  m_lr_i = np.log(numerator / denominator)\n",
      "C:\\Users\\minio\\anaconda3\\envs\\tfm-py-37\\lib\\site-packages\\gensim\\topic_coherence\\indirect_confirmation_measure.py:323: RuntimeWarning: invalid value encountered in double_scalars\n",
      "  return cv1.T.dot(cv2)[0, 0] / (_magnitude(cv1) * _magnitude(cv2))\n"
     ]
    },
    {
     "name": "stdout",
     "output_type": "stream",
     "text": [
      "time elapsed - 00:00:42.14\n",
      "363  -----  91000  -----  91249\n"
     ]
    },
    {
     "name": "stderr",
     "output_type": "stream",
     "text": [
      "C:\\Users\\minio\\anaconda3\\envs\\tfm-py-37\\lib\\site-packages\\gensim\\topic_coherence\\direct_confirmation_measure.py:204: RuntimeWarning: divide by zero encountered in double_scalars\n",
      "  m_lr_i = np.log(numerator / denominator)\n",
      "C:\\Users\\minio\\anaconda3\\envs\\tfm-py-37\\lib\\site-packages\\gensim\\topic_coherence\\indirect_confirmation_measure.py:323: RuntimeWarning: invalid value encountered in double_scalars\n",
      "  return cv1.T.dot(cv2)[0, 0] / (_magnitude(cv1) * _magnitude(cv2))\n"
     ]
    },
    {
     "name": "stdout",
     "output_type": "stream",
     "text": [
      "time elapsed - 00:00:42.73\n",
      "364  -----  91250  -----  91499\n",
      "time elapsed - 00:00:40.22\n",
      "365  -----  91500  -----  91749\n"
     ]
    },
    {
     "name": "stderr",
     "output_type": "stream",
     "text": [
      "C:\\Users\\minio\\anaconda3\\envs\\tfm-py-37\\lib\\site-packages\\gensim\\topic_coherence\\direct_confirmation_measure.py:204: RuntimeWarning: divide by zero encountered in double_scalars\n",
      "  m_lr_i = np.log(numerator / denominator)\n",
      "C:\\Users\\minio\\anaconda3\\envs\\tfm-py-37\\lib\\site-packages\\gensim\\topic_coherence\\indirect_confirmation_measure.py:323: RuntimeWarning: invalid value encountered in double_scalars\n",
      "  return cv1.T.dot(cv2)[0, 0] / (_magnitude(cv1) * _magnitude(cv2))\n"
     ]
    },
    {
     "name": "stdout",
     "output_type": "stream",
     "text": [
      "time elapsed - 00:00:40.91\n",
      "366  -----  91750  -----  91999\n"
     ]
    },
    {
     "name": "stderr",
     "output_type": "stream",
     "text": [
      "C:\\Users\\minio\\anaconda3\\envs\\tfm-py-37\\lib\\site-packages\\gensim\\topic_coherence\\direct_confirmation_measure.py:204: RuntimeWarning: divide by zero encountered in double_scalars\n",
      "  m_lr_i = np.log(numerator / denominator)\n",
      "C:\\Users\\minio\\anaconda3\\envs\\tfm-py-37\\lib\\site-packages\\gensim\\topic_coherence\\indirect_confirmation_measure.py:323: RuntimeWarning: invalid value encountered in double_scalars\n",
      "  return cv1.T.dot(cv2)[0, 0] / (_magnitude(cv1) * _magnitude(cv2))\n"
     ]
    },
    {
     "name": "stdout",
     "output_type": "stream",
     "text": [
      "time elapsed - 00:00:40.02\n",
      "367  -----  92000  -----  92249\n",
      "time elapsed - 00:00:41.58\n",
      "368  -----  92250  -----  92499\n"
     ]
    },
    {
     "name": "stderr",
     "output_type": "stream",
     "text": [
      "C:\\Users\\minio\\anaconda3\\envs\\tfm-py-37\\lib\\site-packages\\gensim\\topic_coherence\\direct_confirmation_measure.py:204: RuntimeWarning: divide by zero encountered in double_scalars\n",
      "  m_lr_i = np.log(numerator / denominator)\n",
      "C:\\Users\\minio\\anaconda3\\envs\\tfm-py-37\\lib\\site-packages\\gensim\\topic_coherence\\indirect_confirmation_measure.py:323: RuntimeWarning: invalid value encountered in double_scalars\n",
      "  return cv1.T.dot(cv2)[0, 0] / (_magnitude(cv1) * _magnitude(cv2))\n"
     ]
    },
    {
     "name": "stdout",
     "output_type": "stream",
     "text": [
      "time elapsed - 00:00:43.22\n",
      "369  -----  92500  -----  92749\n"
     ]
    },
    {
     "name": "stderr",
     "output_type": "stream",
     "text": [
      "C:\\Users\\minio\\anaconda3\\envs\\tfm-py-37\\lib\\site-packages\\gensim\\topic_coherence\\direct_confirmation_measure.py:204: RuntimeWarning: divide by zero encountered in double_scalars\n",
      "  m_lr_i = np.log(numerator / denominator)\n",
      "C:\\Users\\minio\\anaconda3\\envs\\tfm-py-37\\lib\\site-packages\\gensim\\topic_coherence\\indirect_confirmation_measure.py:323: RuntimeWarning: invalid value encountered in double_scalars\n",
      "  return cv1.T.dot(cv2)[0, 0] / (_magnitude(cv1) * _magnitude(cv2))\n"
     ]
    },
    {
     "name": "stdout",
     "output_type": "stream",
     "text": [
      "time elapsed - 00:00:42.61\n",
      "370  -----  92750  -----  92999\n"
     ]
    },
    {
     "name": "stderr",
     "output_type": "stream",
     "text": [
      "C:\\Users\\minio\\anaconda3\\envs\\tfm-py-37\\lib\\site-packages\\gensim\\topic_coherence\\direct_confirmation_measure.py:204: RuntimeWarning: divide by zero encountered in double_scalars\n",
      "  m_lr_i = np.log(numerator / denominator)\n",
      "C:\\Users\\minio\\anaconda3\\envs\\tfm-py-37\\lib\\site-packages\\gensim\\topic_coherence\\indirect_confirmation_measure.py:323: RuntimeWarning: invalid value encountered in double_scalars\n",
      "  return cv1.T.dot(cv2)[0, 0] / (_magnitude(cv1) * _magnitude(cv2))\n"
     ]
    },
    {
     "name": "stdout",
     "output_type": "stream",
     "text": [
      "time elapsed - 00:00:46.58\n",
      "371  -----  93000  -----  93249\n",
      "time elapsed - 00:00:50.75\n",
      "372  -----  93250  -----  93499\n"
     ]
    },
    {
     "name": "stderr",
     "output_type": "stream",
     "text": [
      "C:\\Users\\minio\\anaconda3\\envs\\tfm-py-37\\lib\\site-packages\\gensim\\topic_coherence\\direct_confirmation_measure.py:204: RuntimeWarning: divide by zero encountered in double_scalars\n",
      "  m_lr_i = np.log(numerator / denominator)\n",
      "C:\\Users\\minio\\anaconda3\\envs\\tfm-py-37\\lib\\site-packages\\gensim\\topic_coherence\\indirect_confirmation_measure.py:323: RuntimeWarning: invalid value encountered in double_scalars\n",
      "  return cv1.T.dot(cv2)[0, 0] / (_magnitude(cv1) * _magnitude(cv2))\n"
     ]
    },
    {
     "name": "stdout",
     "output_type": "stream",
     "text": [
      "time elapsed - 00:00:50.71\n",
      "373  -----  93500  -----  93749\n"
     ]
    },
    {
     "name": "stderr",
     "output_type": "stream",
     "text": [
      "C:\\Users\\minio\\anaconda3\\envs\\tfm-py-37\\lib\\site-packages\\gensim\\topic_coherence\\direct_confirmation_measure.py:204: RuntimeWarning: divide by zero encountered in double_scalars\n",
      "  m_lr_i = np.log(numerator / denominator)\n",
      "C:\\Users\\minio\\anaconda3\\envs\\tfm-py-37\\lib\\site-packages\\gensim\\topic_coherence\\indirect_confirmation_measure.py:323: RuntimeWarning: invalid value encountered in double_scalars\n",
      "  return cv1.T.dot(cv2)[0, 0] / (_magnitude(cv1) * _magnitude(cv2))\n"
     ]
    },
    {
     "name": "stdout",
     "output_type": "stream",
     "text": [
      "time elapsed - 00:00:50.45\n",
      "374  -----  93750  -----  93999\n"
     ]
    },
    {
     "name": "stderr",
     "output_type": "stream",
     "text": [
      "C:\\Users\\minio\\anaconda3\\envs\\tfm-py-37\\lib\\site-packages\\gensim\\topic_coherence\\direct_confirmation_measure.py:204: RuntimeWarning: divide by zero encountered in double_scalars\n",
      "  m_lr_i = np.log(numerator / denominator)\n",
      "C:\\Users\\minio\\anaconda3\\envs\\tfm-py-37\\lib\\site-packages\\gensim\\topic_coherence\\indirect_confirmation_measure.py:323: RuntimeWarning: invalid value encountered in double_scalars\n",
      "  return cv1.T.dot(cv2)[0, 0] / (_magnitude(cv1) * _magnitude(cv2))\n"
     ]
    },
    {
     "name": "stdout",
     "output_type": "stream",
     "text": [
      "time elapsed - 00:00:49.19\n",
      "375  -----  94000  -----  94249\n"
     ]
    },
    {
     "name": "stderr",
     "output_type": "stream",
     "text": [
      "C:\\Users\\minio\\anaconda3\\envs\\tfm-py-37\\lib\\site-packages\\gensim\\topic_coherence\\direct_confirmation_measure.py:204: RuntimeWarning: divide by zero encountered in double_scalars\n",
      "  m_lr_i = np.log(numerator / denominator)\n",
      "C:\\Users\\minio\\anaconda3\\envs\\tfm-py-37\\lib\\site-packages\\gensim\\topic_coherence\\indirect_confirmation_measure.py:323: RuntimeWarning: invalid value encountered in double_scalars\n",
      "  return cv1.T.dot(cv2)[0, 0] / (_magnitude(cv1) * _magnitude(cv2))\n"
     ]
    },
    {
     "name": "stdout",
     "output_type": "stream",
     "text": [
      "time elapsed - 00:00:49.51\n",
      "376  -----  94250  -----  94499\n"
     ]
    },
    {
     "name": "stderr",
     "output_type": "stream",
     "text": [
      "C:\\Users\\minio\\anaconda3\\envs\\tfm-py-37\\lib\\site-packages\\gensim\\topic_coherence\\direct_confirmation_measure.py:204: RuntimeWarning: divide by zero encountered in double_scalars\n",
      "  m_lr_i = np.log(numerator / denominator)\n",
      "C:\\Users\\minio\\anaconda3\\envs\\tfm-py-37\\lib\\site-packages\\gensim\\topic_coherence\\indirect_confirmation_measure.py:323: RuntimeWarning: invalid value encountered in double_scalars\n",
      "  return cv1.T.dot(cv2)[0, 0] / (_magnitude(cv1) * _magnitude(cv2))\n"
     ]
    },
    {
     "name": "stdout",
     "output_type": "stream",
     "text": [
      "time elapsed - 00:00:47.77\n",
      "377  -----  94500  -----  94749\n",
      "time elapsed - 00:00:44.99\n",
      "378  -----  94750  -----  94999\n"
     ]
    },
    {
     "name": "stderr",
     "output_type": "stream",
     "text": [
      "C:\\Users\\minio\\anaconda3\\envs\\tfm-py-37\\lib\\site-packages\\gensim\\topic_coherence\\direct_confirmation_measure.py:204: RuntimeWarning: divide by zero encountered in double_scalars\n",
      "  m_lr_i = np.log(numerator / denominator)\n",
      "C:\\Users\\minio\\anaconda3\\envs\\tfm-py-37\\lib\\site-packages\\gensim\\topic_coherence\\indirect_confirmation_measure.py:323: RuntimeWarning: invalid value encountered in double_scalars\n",
      "  return cv1.T.dot(cv2)[0, 0] / (_magnitude(cv1) * _magnitude(cv2))\n"
     ]
    },
    {
     "name": "stdout",
     "output_type": "stream",
     "text": [
      "time elapsed - 00:00:47.56\n",
      "379  -----  95000  -----  95249\n"
     ]
    },
    {
     "name": "stderr",
     "output_type": "stream",
     "text": [
      "C:\\Users\\minio\\anaconda3\\envs\\tfm-py-37\\lib\\site-packages\\gensim\\topic_coherence\\direct_confirmation_measure.py:204: RuntimeWarning: divide by zero encountered in double_scalars\n",
      "  m_lr_i = np.log(numerator / denominator)\n",
      "C:\\Users\\minio\\anaconda3\\envs\\tfm-py-37\\lib\\site-packages\\gensim\\topic_coherence\\indirect_confirmation_measure.py:323: RuntimeWarning: invalid value encountered in double_scalars\n",
      "  return cv1.T.dot(cv2)[0, 0] / (_magnitude(cv1) * _magnitude(cv2))\n"
     ]
    },
    {
     "name": "stdout",
     "output_type": "stream",
     "text": [
      "time elapsed - 00:00:45.72\n",
      "380  -----  95250  -----  95499\n"
     ]
    },
    {
     "name": "stderr",
     "output_type": "stream",
     "text": [
      "C:\\Users\\minio\\anaconda3\\envs\\tfm-py-37\\lib\\site-packages\\gensim\\topic_coherence\\direct_confirmation_measure.py:204: RuntimeWarning: divide by zero encountered in double_scalars\n",
      "  m_lr_i = np.log(numerator / denominator)\n",
      "C:\\Users\\minio\\anaconda3\\envs\\tfm-py-37\\lib\\site-packages\\gensim\\topic_coherence\\indirect_confirmation_measure.py:323: RuntimeWarning: invalid value encountered in double_scalars\n",
      "  return cv1.T.dot(cv2)[0, 0] / (_magnitude(cv1) * _magnitude(cv2))\n"
     ]
    },
    {
     "name": "stdout",
     "output_type": "stream",
     "text": [
      "time elapsed - 00:00:45.53\n",
      "381  -----  95500  -----  95749\n"
     ]
    },
    {
     "name": "stderr",
     "output_type": "stream",
     "text": [
      "C:\\Users\\minio\\anaconda3\\envs\\tfm-py-37\\lib\\site-packages\\gensim\\topic_coherence\\direct_confirmation_measure.py:204: RuntimeWarning: divide by zero encountered in double_scalars\n",
      "  m_lr_i = np.log(numerator / denominator)\n",
      "C:\\Users\\minio\\anaconda3\\envs\\tfm-py-37\\lib\\site-packages\\gensim\\topic_coherence\\indirect_confirmation_measure.py:323: RuntimeWarning: invalid value encountered in double_scalars\n",
      "  return cv1.T.dot(cv2)[0, 0] / (_magnitude(cv1) * _magnitude(cv2))\n"
     ]
    },
    {
     "name": "stdout",
     "output_type": "stream",
     "text": [
      "time elapsed - 00:00:44.02\n",
      "382  -----  95750  -----  95999\n"
     ]
    },
    {
     "name": "stderr",
     "output_type": "stream",
     "text": [
      "C:\\Users\\minio\\anaconda3\\envs\\tfm-py-37\\lib\\site-packages\\gensim\\topic_coherence\\direct_confirmation_measure.py:204: RuntimeWarning: divide by zero encountered in double_scalars\n",
      "  m_lr_i = np.log(numerator / denominator)\n",
      "C:\\Users\\minio\\anaconda3\\envs\\tfm-py-37\\lib\\site-packages\\gensim\\topic_coherence\\indirect_confirmation_measure.py:323: RuntimeWarning: invalid value encountered in double_scalars\n",
      "  return cv1.T.dot(cv2)[0, 0] / (_magnitude(cv1) * _magnitude(cv2))\n"
     ]
    },
    {
     "name": "stdout",
     "output_type": "stream",
     "text": [
      "time elapsed - 00:00:42.82\n",
      "383  -----  96000  -----  96249\n"
     ]
    },
    {
     "name": "stderr",
     "output_type": "stream",
     "text": [
      "C:\\Users\\minio\\anaconda3\\envs\\tfm-py-37\\lib\\site-packages\\gensim\\topic_coherence\\direct_confirmation_measure.py:204: RuntimeWarning: divide by zero encountered in double_scalars\n",
      "  m_lr_i = np.log(numerator / denominator)\n",
      "C:\\Users\\minio\\anaconda3\\envs\\tfm-py-37\\lib\\site-packages\\gensim\\topic_coherence\\indirect_confirmation_measure.py:323: RuntimeWarning: invalid value encountered in double_scalars\n",
      "  return cv1.T.dot(cv2)[0, 0] / (_magnitude(cv1) * _magnitude(cv2))\n"
     ]
    },
    {
     "name": "stdout",
     "output_type": "stream",
     "text": [
      "time elapsed - 00:00:42.56\n",
      "384  -----  96250  -----  96499\n"
     ]
    },
    {
     "name": "stderr",
     "output_type": "stream",
     "text": [
      "C:\\Users\\minio\\anaconda3\\envs\\tfm-py-37\\lib\\site-packages\\gensim\\topic_coherence\\direct_confirmation_measure.py:204: RuntimeWarning: divide by zero encountered in double_scalars\n",
      "  m_lr_i = np.log(numerator / denominator)\n",
      "C:\\Users\\minio\\anaconda3\\envs\\tfm-py-37\\lib\\site-packages\\gensim\\topic_coherence\\indirect_confirmation_measure.py:323: RuntimeWarning: invalid value encountered in double_scalars\n",
      "  return cv1.T.dot(cv2)[0, 0] / (_magnitude(cv1) * _magnitude(cv2))\n"
     ]
    },
    {
     "name": "stdout",
     "output_type": "stream",
     "text": [
      "time elapsed - 00:00:41.49\n",
      "385  -----  96500  -----  96749\n",
      "time elapsed - 00:00:45.27\n",
      "386  -----  96750  -----  96999\n"
     ]
    },
    {
     "name": "stderr",
     "output_type": "stream",
     "text": [
      "C:\\Users\\minio\\anaconda3\\envs\\tfm-py-37\\lib\\site-packages\\gensim\\topic_coherence\\direct_confirmation_measure.py:204: RuntimeWarning: divide by zero encountered in double_scalars\n",
      "  m_lr_i = np.log(numerator / denominator)\n",
      "C:\\Users\\minio\\anaconda3\\envs\\tfm-py-37\\lib\\site-packages\\gensim\\topic_coherence\\indirect_confirmation_measure.py:323: RuntimeWarning: invalid value encountered in double_scalars\n",
      "  return cv1.T.dot(cv2)[0, 0] / (_magnitude(cv1) * _magnitude(cv2))\n"
     ]
    },
    {
     "name": "stdout",
     "output_type": "stream",
     "text": [
      "time elapsed - 00:00:44.95\n",
      "387  -----  97000  -----  97249\n"
     ]
    },
    {
     "name": "stderr",
     "output_type": "stream",
     "text": [
      "C:\\Users\\minio\\anaconda3\\envs\\tfm-py-37\\lib\\site-packages\\gensim\\topic_coherence\\direct_confirmation_measure.py:204: RuntimeWarning: divide by zero encountered in double_scalars\n",
      "  m_lr_i = np.log(numerator / denominator)\n",
      "C:\\Users\\minio\\anaconda3\\envs\\tfm-py-37\\lib\\site-packages\\gensim\\topic_coherence\\indirect_confirmation_measure.py:323: RuntimeWarning: invalid value encountered in double_scalars\n",
      "  return cv1.T.dot(cv2)[0, 0] / (_magnitude(cv1) * _magnitude(cv2))\n"
     ]
    },
    {
     "name": "stdout",
     "output_type": "stream",
     "text": [
      "time elapsed - 00:00:45.08\n",
      "388  -----  97250  -----  97499\n"
     ]
    },
    {
     "name": "stderr",
     "output_type": "stream",
     "text": [
      "C:\\Users\\minio\\anaconda3\\envs\\tfm-py-37\\lib\\site-packages\\gensim\\topic_coherence\\direct_confirmation_measure.py:204: RuntimeWarning: divide by zero encountered in double_scalars\n",
      "  m_lr_i = np.log(numerator / denominator)\n",
      "C:\\Users\\minio\\anaconda3\\envs\\tfm-py-37\\lib\\site-packages\\gensim\\topic_coherence\\indirect_confirmation_measure.py:323: RuntimeWarning: invalid value encountered in double_scalars\n",
      "  return cv1.T.dot(cv2)[0, 0] / (_magnitude(cv1) * _magnitude(cv2))\n"
     ]
    },
    {
     "name": "stdout",
     "output_type": "stream",
     "text": [
      "time elapsed - 00:00:45.78\n",
      "389  -----  97500  -----  97749\n",
      "time elapsed - 00:00:45.04\n",
      "390  -----  97750  -----  97999\n"
     ]
    },
    {
     "name": "stderr",
     "output_type": "stream",
     "text": [
      "C:\\Users\\minio\\anaconda3\\envs\\tfm-py-37\\lib\\site-packages\\gensim\\topic_coherence\\direct_confirmation_measure.py:204: RuntimeWarning: divide by zero encountered in double_scalars\n",
      "  m_lr_i = np.log(numerator / denominator)\n",
      "C:\\Users\\minio\\anaconda3\\envs\\tfm-py-37\\lib\\site-packages\\gensim\\topic_coherence\\indirect_confirmation_measure.py:323: RuntimeWarning: invalid value encountered in double_scalars\n",
      "  return cv1.T.dot(cv2)[0, 0] / (_magnitude(cv1) * _magnitude(cv2))\n"
     ]
    },
    {
     "name": "stdout",
     "output_type": "stream",
     "text": [
      "time elapsed - 00:00:59.05\n",
      "391  -----  98000  -----  98249\n"
     ]
    },
    {
     "name": "stderr",
     "output_type": "stream",
     "text": [
      "C:\\Users\\minio\\anaconda3\\envs\\tfm-py-37\\lib\\site-packages\\gensim\\topic_coherence\\direct_confirmation_measure.py:204: RuntimeWarning: divide by zero encountered in double_scalars\n",
      "  m_lr_i = np.log(numerator / denominator)\n",
      "C:\\Users\\minio\\anaconda3\\envs\\tfm-py-37\\lib\\site-packages\\gensim\\topic_coherence\\indirect_confirmation_measure.py:323: RuntimeWarning: invalid value encountered in double_scalars\n",
      "  return cv1.T.dot(cv2)[0, 0] / (_magnitude(cv1) * _magnitude(cv2))\n"
     ]
    },
    {
     "name": "stdout",
     "output_type": "stream",
     "text": [
      "time elapsed - 00:00:54.99\n",
      "392  -----  98250  -----  98499\n"
     ]
    },
    {
     "name": "stderr",
     "output_type": "stream",
     "text": [
      "C:\\Users\\minio\\anaconda3\\envs\\tfm-py-37\\lib\\site-packages\\gensim\\topic_coherence\\direct_confirmation_measure.py:204: RuntimeWarning: divide by zero encountered in double_scalars\n",
      "  m_lr_i = np.log(numerator / denominator)\n",
      "C:\\Users\\minio\\anaconda3\\envs\\tfm-py-37\\lib\\site-packages\\gensim\\topic_coherence\\indirect_confirmation_measure.py:323: RuntimeWarning: invalid value encountered in double_scalars\n",
      "  return cv1.T.dot(cv2)[0, 0] / (_magnitude(cv1) * _magnitude(cv2))\n"
     ]
    },
    {
     "name": "stdout",
     "output_type": "stream",
     "text": [
      "time elapsed - 00:00:45.95\n",
      "393  -----  98500  -----  98749\n"
     ]
    },
    {
     "name": "stderr",
     "output_type": "stream",
     "text": [
      "C:\\Users\\minio\\anaconda3\\envs\\tfm-py-37\\lib\\site-packages\\gensim\\topic_coherence\\direct_confirmation_measure.py:204: RuntimeWarning: divide by zero encountered in double_scalars\n",
      "  m_lr_i = np.log(numerator / denominator)\n",
      "C:\\Users\\minio\\anaconda3\\envs\\tfm-py-37\\lib\\site-packages\\gensim\\topic_coherence\\indirect_confirmation_measure.py:323: RuntimeWarning: invalid value encountered in double_scalars\n",
      "  return cv1.T.dot(cv2)[0, 0] / (_magnitude(cv1) * _magnitude(cv2))\n"
     ]
    },
    {
     "name": "stdout",
     "output_type": "stream",
     "text": [
      "time elapsed - 00:00:44.05\n",
      "394  -----  98750  -----  98999\n"
     ]
    },
    {
     "name": "stderr",
     "output_type": "stream",
     "text": [
      "C:\\Users\\minio\\anaconda3\\envs\\tfm-py-37\\lib\\site-packages\\gensim\\topic_coherence\\direct_confirmation_measure.py:204: RuntimeWarning: divide by zero encountered in double_scalars\n",
      "  m_lr_i = np.log(numerator / denominator)\n",
      "C:\\Users\\minio\\anaconda3\\envs\\tfm-py-37\\lib\\site-packages\\gensim\\topic_coherence\\indirect_confirmation_measure.py:323: RuntimeWarning: invalid value encountered in double_scalars\n",
      "  return cv1.T.dot(cv2)[0, 0] / (_magnitude(cv1) * _magnitude(cv2))\n"
     ]
    },
    {
     "name": "stdout",
     "output_type": "stream",
     "text": [
      "time elapsed - 00:00:43.19\n",
      "395  -----  99000  -----  99249\n",
      "time elapsed - 00:00:43.27\n",
      "396  -----  99250  -----  99499\n"
     ]
    },
    {
     "name": "stderr",
     "output_type": "stream",
     "text": [
      "C:\\Users\\minio\\anaconda3\\envs\\tfm-py-37\\lib\\site-packages\\gensim\\topic_coherence\\direct_confirmation_measure.py:204: RuntimeWarning: divide by zero encountered in double_scalars\n",
      "  m_lr_i = np.log(numerator / denominator)\n",
      "C:\\Users\\minio\\anaconda3\\envs\\tfm-py-37\\lib\\site-packages\\gensim\\topic_coherence\\indirect_confirmation_measure.py:323: RuntimeWarning: invalid value encountered in double_scalars\n",
      "  return cv1.T.dot(cv2)[0, 0] / (_magnitude(cv1) * _magnitude(cv2))\n"
     ]
    },
    {
     "name": "stdout",
     "output_type": "stream",
     "text": [
      "time elapsed - 00:00:41.81\n",
      "397  -----  99500  -----  99749\n"
     ]
    },
    {
     "name": "stderr",
     "output_type": "stream",
     "text": [
      "C:\\Users\\minio\\anaconda3\\envs\\tfm-py-37\\lib\\site-packages\\gensim\\topic_coherence\\direct_confirmation_measure.py:204: RuntimeWarning: divide by zero encountered in double_scalars\n",
      "  m_lr_i = np.log(numerator / denominator)\n",
      "C:\\Users\\minio\\anaconda3\\envs\\tfm-py-37\\lib\\site-packages\\gensim\\topic_coherence\\indirect_confirmation_measure.py:323: RuntimeWarning: invalid value encountered in double_scalars\n",
      "  return cv1.T.dot(cv2)[0, 0] / (_magnitude(cv1) * _magnitude(cv2))\n"
     ]
    },
    {
     "name": "stdout",
     "output_type": "stream",
     "text": [
      "time elapsed - 00:00:43.95\n",
      "398  -----  99750  -----  99999\n"
     ]
    },
    {
     "name": "stderr",
     "output_type": "stream",
     "text": [
      "C:\\Users\\minio\\anaconda3\\envs\\tfm-py-37\\lib\\site-packages\\gensim\\topic_coherence\\direct_confirmation_measure.py:204: RuntimeWarning: divide by zero encountered in double_scalars\n",
      "  m_lr_i = np.log(numerator / denominator)\n",
      "C:\\Users\\minio\\anaconda3\\envs\\tfm-py-37\\lib\\site-packages\\gensim\\topic_coherence\\indirect_confirmation_measure.py:323: RuntimeWarning: invalid value encountered in double_scalars\n",
      "  return cv1.T.dot(cv2)[0, 0] / (_magnitude(cv1) * _magnitude(cv2))\n"
     ]
    },
    {
     "name": "stdout",
     "output_type": "stream",
     "text": [
      "time elapsed - 00:00:47.18\n",
      "399  -----  100000  -----  100249\n"
     ]
    },
    {
     "name": "stderr",
     "output_type": "stream",
     "text": [
      "C:\\Users\\minio\\anaconda3\\envs\\tfm-py-37\\lib\\site-packages\\gensim\\topic_coherence\\direct_confirmation_measure.py:204: RuntimeWarning: divide by zero encountered in double_scalars\n",
      "  m_lr_i = np.log(numerator / denominator)\n",
      "C:\\Users\\minio\\anaconda3\\envs\\tfm-py-37\\lib\\site-packages\\gensim\\topic_coherence\\indirect_confirmation_measure.py:323: RuntimeWarning: invalid value encountered in double_scalars\n",
      "  return cv1.T.dot(cv2)[0, 0] / (_magnitude(cv1) * _magnitude(cv2))\n"
     ]
    },
    {
     "name": "stdout",
     "output_type": "stream",
     "text": [
      "time elapsed - 00:00:51.55\n",
      "400  -----  100250  -----  100499\n"
     ]
    },
    {
     "name": "stderr",
     "output_type": "stream",
     "text": [
      "C:\\Users\\minio\\anaconda3\\envs\\tfm-py-37\\lib\\site-packages\\gensim\\topic_coherence\\direct_confirmation_measure.py:204: RuntimeWarning: divide by zero encountered in double_scalars\n",
      "  m_lr_i = np.log(numerator / denominator)\n",
      "C:\\Users\\minio\\anaconda3\\envs\\tfm-py-37\\lib\\site-packages\\gensim\\topic_coherence\\indirect_confirmation_measure.py:323: RuntimeWarning: invalid value encountered in double_scalars\n",
      "  return cv1.T.dot(cv2)[0, 0] / (_magnitude(cv1) * _magnitude(cv2))\n"
     ]
    },
    {
     "name": "stdout",
     "output_type": "stream",
     "text": [
      "time elapsed - 00:00:47.06\n",
      "401  -----  100500  -----  100749\n"
     ]
    },
    {
     "name": "stderr",
     "output_type": "stream",
     "text": [
      "C:\\Users\\minio\\anaconda3\\envs\\tfm-py-37\\lib\\site-packages\\gensim\\topic_coherence\\direct_confirmation_measure.py:204: RuntimeWarning: divide by zero encountered in double_scalars\n",
      "  m_lr_i = np.log(numerator / denominator)\n",
      "C:\\Users\\minio\\anaconda3\\envs\\tfm-py-37\\lib\\site-packages\\gensim\\topic_coherence\\indirect_confirmation_measure.py:323: RuntimeWarning: invalid value encountered in double_scalars\n",
      "  return cv1.T.dot(cv2)[0, 0] / (_magnitude(cv1) * _magnitude(cv2))\n"
     ]
    },
    {
     "name": "stdout",
     "output_type": "stream",
     "text": [
      "time elapsed - 00:00:43.14\n",
      "402  -----  100750  -----  100999\n"
     ]
    },
    {
     "name": "stderr",
     "output_type": "stream",
     "text": [
      "C:\\Users\\minio\\anaconda3\\envs\\tfm-py-37\\lib\\site-packages\\gensim\\topic_coherence\\direct_confirmation_measure.py:204: RuntimeWarning: divide by zero encountered in double_scalars\n",
      "  m_lr_i = np.log(numerator / denominator)\n",
      "C:\\Users\\minio\\anaconda3\\envs\\tfm-py-37\\lib\\site-packages\\gensim\\topic_coherence\\indirect_confirmation_measure.py:323: RuntimeWarning: invalid value encountered in double_scalars\n",
      "  return cv1.T.dot(cv2)[0, 0] / (_magnitude(cv1) * _magnitude(cv2))\n"
     ]
    },
    {
     "name": "stdout",
     "output_type": "stream",
     "text": [
      "time elapsed - 00:00:43.62\n",
      "403  -----  101000  -----  101249\n",
      "time elapsed - 00:00:42.57\n",
      "404  -----  101250  -----  101499\n"
     ]
    },
    {
     "name": "stderr",
     "output_type": "stream",
     "text": [
      "C:\\Users\\minio\\anaconda3\\envs\\tfm-py-37\\lib\\site-packages\\gensim\\topic_coherence\\direct_confirmation_measure.py:204: RuntimeWarning: divide by zero encountered in double_scalars\n",
      "  m_lr_i = np.log(numerator / denominator)\n",
      "C:\\Users\\minio\\anaconda3\\envs\\tfm-py-37\\lib\\site-packages\\gensim\\topic_coherence\\indirect_confirmation_measure.py:323: RuntimeWarning: invalid value encountered in double_scalars\n",
      "  return cv1.T.dot(cv2)[0, 0] / (_magnitude(cv1) * _magnitude(cv2))\n"
     ]
    },
    {
     "name": "stdout",
     "output_type": "stream",
     "text": [
      "time elapsed - 00:00:42.80\n",
      "405  -----  101500  -----  101749\n"
     ]
    },
    {
     "name": "stderr",
     "output_type": "stream",
     "text": [
      "C:\\Users\\minio\\anaconda3\\envs\\tfm-py-37\\lib\\site-packages\\gensim\\topic_coherence\\direct_confirmation_measure.py:204: RuntimeWarning: divide by zero encountered in double_scalars\n",
      "  m_lr_i = np.log(numerator / denominator)\n",
      "C:\\Users\\minio\\anaconda3\\envs\\tfm-py-37\\lib\\site-packages\\gensim\\topic_coherence\\indirect_confirmation_measure.py:323: RuntimeWarning: invalid value encountered in double_scalars\n",
      "  return cv1.T.dot(cv2)[0, 0] / (_magnitude(cv1) * _magnitude(cv2))\n"
     ]
    },
    {
     "name": "stdout",
     "output_type": "stream",
     "text": [
      "time elapsed - 00:00:46.65\n",
      "406  -----  101750  -----  101999\n"
     ]
    },
    {
     "name": "stderr",
     "output_type": "stream",
     "text": [
      "C:\\Users\\minio\\anaconda3\\envs\\tfm-py-37\\lib\\site-packages\\gensim\\topic_coherence\\direct_confirmation_measure.py:204: RuntimeWarning: divide by zero encountered in double_scalars\n",
      "  m_lr_i = np.log(numerator / denominator)\n",
      "C:\\Users\\minio\\anaconda3\\envs\\tfm-py-37\\lib\\site-packages\\gensim\\topic_coherence\\indirect_confirmation_measure.py:323: RuntimeWarning: invalid value encountered in double_scalars\n",
      "  return cv1.T.dot(cv2)[0, 0] / (_magnitude(cv1) * _magnitude(cv2))\n"
     ]
    },
    {
     "name": "stdout",
     "output_type": "stream",
     "text": [
      "time elapsed - 00:00:43.69\n",
      "407  -----  102000  -----  102249\n"
     ]
    },
    {
     "name": "stderr",
     "output_type": "stream",
     "text": [
      "C:\\Users\\minio\\anaconda3\\envs\\tfm-py-37\\lib\\site-packages\\gensim\\topic_coherence\\direct_confirmation_measure.py:204: RuntimeWarning: divide by zero encountered in double_scalars\n",
      "  m_lr_i = np.log(numerator / denominator)\n",
      "C:\\Users\\minio\\anaconda3\\envs\\tfm-py-37\\lib\\site-packages\\gensim\\topic_coherence\\indirect_confirmation_measure.py:323: RuntimeWarning: invalid value encountered in double_scalars\n",
      "  return cv1.T.dot(cv2)[0, 0] / (_magnitude(cv1) * _magnitude(cv2))\n"
     ]
    },
    {
     "name": "stdout",
     "output_type": "stream",
     "text": [
      "time elapsed - 00:00:41.39\n",
      "408  -----  102250  -----  102499\n",
      "time elapsed - 00:00:41.96\n",
      "409  -----  102500  -----  102749\n"
     ]
    },
    {
     "name": "stderr",
     "output_type": "stream",
     "text": [
      "C:\\Users\\minio\\anaconda3\\envs\\tfm-py-37\\lib\\site-packages\\gensim\\topic_coherence\\direct_confirmation_measure.py:204: RuntimeWarning: divide by zero encountered in double_scalars\n",
      "  m_lr_i = np.log(numerator / denominator)\n",
      "C:\\Users\\minio\\anaconda3\\envs\\tfm-py-37\\lib\\site-packages\\gensim\\topic_coherence\\indirect_confirmation_measure.py:323: RuntimeWarning: invalid value encountered in double_scalars\n",
      "  return cv1.T.dot(cv2)[0, 0] / (_magnitude(cv1) * _magnitude(cv2))\n"
     ]
    },
    {
     "name": "stdout",
     "output_type": "stream",
     "text": [
      "time elapsed - 00:00:44.22\n",
      "410  -----  102750  -----  102999\n"
     ]
    },
    {
     "name": "stderr",
     "output_type": "stream",
     "text": [
      "C:\\Users\\minio\\anaconda3\\envs\\tfm-py-37\\lib\\site-packages\\gensim\\topic_coherence\\direct_confirmation_measure.py:204: RuntimeWarning: divide by zero encountered in double_scalars\n",
      "  m_lr_i = np.log(numerator / denominator)\n",
      "C:\\Users\\minio\\anaconda3\\envs\\tfm-py-37\\lib\\site-packages\\gensim\\topic_coherence\\indirect_confirmation_measure.py:323: RuntimeWarning: invalid value encountered in double_scalars\n",
      "  return cv1.T.dot(cv2)[0, 0] / (_magnitude(cv1) * _magnitude(cv2))\n"
     ]
    },
    {
     "name": "stdout",
     "output_type": "stream",
     "text": [
      "time elapsed - 00:00:43.49\n"
     ]
    }
   ],
   "source": [
    "documents_len = len(documents)\n",
    "\n",
    "while index+(index+1)*chunk_size < documents_len:\n",
    "    \n",
    "    time_start = time.time()\n",
    "    \n",
    "    print(index, ' ----- ', (index+1)*chunk_size, ' ----- ', ((index+1)*chunk_size)+chunk_size-1)\n",
    "    documents_sample = documents[(index+1)*chunk_size:((index+1)*chunk_size)+chunk_size-1]\n",
    "    \n",
    "    data_words = list(sent_to_words(documents_sample))\n",
    "    # Compute bigrams & trigrams\n",
    "    bi_tri_grams(data_words, 250)\n",
    "    # Categorizing and tagging words\n",
    "    data_words = list(map(tag_words, data_words))\n",
    "    # Create Corpus\n",
    "    texts = data_words\n",
    "    # Term Document Frequency\n",
    "    corpus = [id2word.doc2bow(text) for text in texts]\n",
    "    # Load LDA Model\n",
    "    temp_file = datapath(file_model)\n",
    "    lda_model = gensim.models.ldamodel.LdaModel.load(temp_file)\n",
    "    # Update LDA Model\n",
    "    lda_model.update(corpus)\n",
    "    \n",
    "    index = index + 1\n",
    "    indixes.append(index)\n",
    "    \n",
    "    # Evaluate LDA Model\n",
    "    # Compute Perplexity Score\n",
    "    perplexity = lda_model.log_perplexity(corpus)\n",
    "    perplexity_score.append(perplexity)\n",
    "\n",
    "    # Evaluate LDA Model\n",
    "    # Compute Coherence Score\n",
    "    coherence_lda_model = CoherenceModel(model=lda_model, texts=data_words, dictionary=id2word, coherence='c_v')\n",
    "    coherence = coherence_lda_model.get_coherence()\n",
    "    coherence_score.append(coherence)\n",
    "    \n",
    "    # Save LDA Model\n",
    "    temp_file = datapath(file_model)\n",
    "    lda_model.save(temp_file)\n",
    "    temp_file = datapath(file_model + '_' + str(index).zfill(5))\n",
    "    lda_model.save(temp_file)\n",
    "    \n",
    "    time_end = time.time()\n",
    "    hour, rem = divmod(time_end - time_start, 3600)\n",
    "    minute, second = divmod(rem, 60)\n",
    "    print('time elapsed - {:0>2}:{:0>2}:{:05.2f}'.format(int(hour), int(minute), second))"
   ]
  },
  {
   "cell_type": "markdown",
   "metadata": {},
   "source": [
    "### Topics in LDA model"
   ]
  },
  {
   "cell_type": "code",
   "execution_count": 16,
   "metadata": {},
   "outputs": [
    {
     "name": "stdout",
     "output_type": "stream",
     "text": [
      "[(0,\n",
      "  '0.033*\"hour\" + 0.030*\"goal\" + 0.020*\"check\" + 0.020*\"grace\" + 0.016*\"word\" '\n",
      "  '+ 0.016*\"call\" + 0.016*\"fujifilm\" + 0.016*\"museum\" + 0.013*\"size\" + '\n",
      "  '0.010*\"side\"'),\n",
      " (1,\n",
      "  '0.024*\"book\" + 0.021*\"news\" + 0.019*\"event\" + 0.019*\"target\" + 0.019*\"farm\" '\n",
      "  '+ 0.014*\"watch\" + 0.012*\"image\" + 0.012*\"porn\" + 0.012*\"salad\" + '\n",
      "  '0.012*\"bacon\"'),\n",
      " (2,\n",
      "  '0.058*\"street\" + 0.026*\"couture\" + 0.026*\"city\" + 0.023*\"wedding\" + '\n",
      "  '0.023*\"store\" + 0.023*\"lady\" + 0.019*\"model\" + 0.016*\"men\" + '\n",
      "  '0.014*\"perfection\" + 0.013*\"york\"'),\n",
      " (3,\n",
      "  '0.039*\"style\" + 0.033*\"beauty\" + 0.031*\"fashion\" + 0.031*\"blogger\" + '\n",
      "  '0.031*\"life\" + 0.025*\"travel\" + 0.021*\"summer\" + 0.019*\"time\" + '\n",
      "  '0.016*\"love\" + 0.015*\"today\"'),\n",
      " (4,\n",
      "  '0.000*\"photograph\" + 0.000*\"teraoka\" + 0.000*\"yuna\" + 0.000*\"jasmine\" + '\n",
      "  '0.000*\"eddie\" + 0.000*\"fischer\" + 0.000*\"rare\" + 0.000*\"theo\" + '\n",
      "  '0.000*\"jessi\" + 0.000*\"comb\"'),\n",
      " (5,\n",
      "  '0.035*\"garden\" + 0.031*\"kid\" + 0.031*\"wardrobe\" + 0.026*\"milk\" + '\n",
      "  '0.026*\"base\" + 0.026*\"nature\" + 0.022*\"stay\" + 0.022*\"sister\" + '\n",
      "  '0.021*\"honey\" + 0.017*\"hand\"'),\n",
      " (6,\n",
      "  '0.039*\"team\" + 0.027*\"country\" + 0.023*\"inspire\" + 0.019*\"guy\" + '\n",
      "  '0.019*\"vintage\" + 0.015*\"edit\" + 0.015*\"passion\" + 0.015*\"center\" + '\n",
      "  '0.015*\"communication\" + 0.012*\"support\"'),\n",
      " (7,\n",
      "  '0.040*\"jewelry\" + 0.033*\"move\" + 0.027*\"music\" + 0.027*\"jacket\" + '\n",
      "  '0.023*\"amazon\" + 0.023*\"party\" + 0.023*\"health\" + 0.023*\"toyah\" + '\n",
      "  '0.018*\"horse\" + 0.017*\"birthday\"'),\n",
      " (8,\n",
      "  '0.040*\"skin\" + 0.034*\"chanel\" + 0.027*\"community\" + 0.020*\"junkie\" + '\n",
      "  '0.017*\"brand\" + 0.017*\"skincare\" + 0.017*\"editor\" + 0.017*\"club\" + '\n",
      "  '0.013*\"mask\" + 0.013*\"celeste\"'),\n",
      " (9,\n",
      "  '0.035*\"video\" + 0.030*\"baby\" + 0.030*\"motherhood\" + 0.030*\"design\" + '\n",
      "  '0.027*\"shop\" + 0.022*\"brow\" + 0.022*\"palette\" + 0.019*\"gift\" + '\n",
      "  '0.016*\"color\" + 0.016*\"eye\"')]\n"
     ]
    },
    {
     "name": "stderr",
     "output_type": "stream",
     "text": [
      "C:\\Users\\minio\\anaconda3\\envs\\tfm-py-37\\lib\\site-packages\\ipykernel\\ipkernel.py:287: DeprecationWarning: `should_run_async` will not call `transform_cell` automatically in the future. Please pass the result to `transformed_cell` argument and any exception that happen during thetransform in `preprocessing_exc_tuple` in IPython 7.17 and above.\n",
      "  and should_run_async(code)\n"
     ]
    }
   ],
   "source": [
    "# Print the Keyword in the 10 topics\n",
    "pprint(lda_model.print_topics())\n",
    "doc_lda = lda_model[corpus]"
   ]
  },
  {
   "cell_type": "markdown",
   "metadata": {},
   "source": [
    "### Plot perplexity score progress along incremental learning iterations  \n",
    "\n",
    "Lower the perplexity score represents a better model.  "
   ]
  },
  {
   "cell_type": "code",
   "execution_count": 17,
   "metadata": {},
   "outputs": [
    {
     "name": "stderr",
     "output_type": "stream",
     "text": [
      "C:\\Users\\minio\\anaconda3\\envs\\tfm-py-37\\lib\\site-packages\\ipykernel\\ipkernel.py:287: DeprecationWarning: `should_run_async` will not call `transform_cell` automatically in the future. Please pass the result to `transformed_cell` argument and any exception that happen during thetransform in `preprocessing_exc_tuple` in IPython 7.17 and above.\n",
      "  and should_run_async(code)\n"
     ]
    },
    {
     "data": {
      "image/png": "[encoded data removed]",
      "text/plain": [
       "<Figure size 432x288 with 1 Axes>"
      ]
     },
     "metadata": {
      "needs_background": "light"
     },
     "output_type": "display_data"
    }
   ],
   "source": [
    "plt.title('Perplexity score progress')\n",
    "plt.xlabel('Index')\n",
    "plt.ylabel('Perplexity score')\n",
    "plt.plot(indixes, perplexity_score, 'go', perplexity_score, 'k')\n",
    "plt.show()"
   ]
  },
  {
   "cell_type": "markdown",
   "metadata": {},
   "source": [
    "### Plot coherence score progress along incremental learning iterations  \n",
    "\n",
    "Higher the coherence score represents a more human interpretable model.  "
   ]
  },
  {
   "cell_type": "code",
   "execution_count": 18,
   "metadata": {},
   "outputs": [
    {
     "name": "stderr",
     "output_type": "stream",
     "text": [
      "C:\\Users\\minio\\anaconda3\\envs\\tfm-py-37\\lib\\site-packages\\ipykernel\\ipkernel.py:287: DeprecationWarning: `should_run_async` will not call `transform_cell` automatically in the future. Please pass the result to `transformed_cell` argument and any exception that happen during thetransform in `preprocessing_exc_tuple` in IPython 7.17 and above.\n",
      "  and should_run_async(code)\n"
     ]
    },
    {
     "data": {
      "image/png": "[encoded data removed]",
      "text/plain": [
       "<Figure size 432x288 with 1 Axes>"
      ]
     },
     "metadata": {
      "needs_background": "light"
     },
     "output_type": "display_data"
    }
   ],
   "source": [
    "plt.title('Coherence score progress')\n",
    "plt.xlabel('Index')\n",
    "plt.ylabel('Coherence score')\n",
    "plt.plot(indixes, coherence_score, 'go', coherence_score, 'k') \n",
    "plt.show()"
   ]
  },
  {
   "cell_type": "markdown",
   "metadata": {},
   "source": [
    "### Visualize the topics-keywords"
   ]
  },
  {
   "cell_type": "code",
   "execution_count": 19,
   "metadata": {},
   "outputs": [
    {
     "name": "stderr",
     "output_type": "stream",
     "text": [
      "C:\\Users\\minio\\anaconda3\\envs\\tfm-py-37\\lib\\site-packages\\ipykernel\\ipkernel.py:287: DeprecationWarning: `should_run_async` will not call `transform_cell` automatically in the future. Please pass the result to `transformed_cell` argument and any exception that happen during thetransform in `preprocessing_exc_tuple` in IPython 7.17 and above.\n",
      "  and should_run_async(code)\n"
     ]
    },
    {
     "data": {
      "text/html": [
       "\n",
       "<link rel=\"stylesheet\" type=\"text/css\" href=\"https://cdn.rawgit.com/bmabey/pyLDAvis/files/ldavis.v1.0.0.css\">\n",
       "\n",
       "\n",
       "<div id=\"ldavis_el114022601883752405399299885\"></div>\n",
       "<script type=\"text/javascript\">\n",
       "\n",
       "var ldavis_el114022601883752405399299885_data = {\"mdsDat\": {\"x\": [-0.45528094195313085, 0.003869545708978748, -0.0010974954652979408, 0.017042551472836603, 0.0721957583267373, 0.03770819352861201, 0.05748361156241708, 0.03919810502576622, 0.1135053759407332, 0.11537529585234756], \"y\": [0.012773179935989086, 0.25129961557724795, -0.2903057194583197, -0.19655581632285024, 0.06457769102692325, -0.014970829665686294, 0.05919432889549397, 0.16896187872382226, -0.04997603386569436, -0.004998294846926077], \"topics\": [1, 2, 3, 4, 5, 6, 7, 8, 9, 10], \"cluster\": [1, 1, 1, 1, 1, 1, 1, 1, 1, 1], \"Freq\": [36.64971562156648, 10.571736685041849, 9.31160933876035, 7.76307400974639, 7.664824759510952, 7.569056818776873, 7.527611452666193, 6.600674777662219, 5.775602802879378, 0.56609373338932]}, \"tinfo\": {\"Term\": [\"style\", \"beauty\", \"street\", \"fashion\", \"blogger\", \"life\", \"travel\", \"skin\", \"jewelry\", \"video\", \"summer\", \"time\", \"team\", \"baby\", \"motherhood\", \"design\", \"move\", \"hour\", \"chanel\", \"shop\", \"love\", \"goal\", \"garden\", \"book\", \"today\", \"blog\", \"year\", \"community\", \"music\", \"jacket\", \"style\", \"beauty\", \"fashion\", \"blogger\", \"life\", \"travel\", \"summer\", \"time\", \"love\", \"blog\", \"today\", \"year\", \"post\", \"week\", \"people\", \"work\", \"outfit\", \"food\", \"story\", \"place\", \"hair\", \"thing\", \"sale\", \"link\", \"share\", \"woman\", \"dress\", \"start\", \"visit\", \"heart\", \"book\", \"news\", \"farm\", \"target\", \"event\", \"watch\", \"salad\", \"image\", \"porn\", \"repost\", \"bacon\", \"season\", \"sweet\", \"kitchen\", \"vegan\", \"raise\", \"walk\", \"tradewind\", \"flight\", \"recipe\", \"frame\", \"oxygen\", \"catch\", \"form\", \"coffee\", \"marketing\", \"treat\", \"weather\", \"yummy\", \"producer\", \"coconut\", \"pastry\", \"sport\", \"video\", \"baby\", \"motherhood\", \"design\", \"shop\", \"brow\", \"palette\", \"gift\", \"color\", \"eye\", \"labor\", \"rise\", \"drop\", \"denim\", \"toronto\", \"babe\", \"foundation\", \"makeup\", \"liner\", \"primer\", \"sunday\", \"water\", \"kylie\", \"pant\", \"drive\", \"london\", \"rider\", \"piece\", \"press\", \"fire\", \"madam\", \"street\", \"couture\", \"city\", \"wedding\", \"store\", \"lady\", \"model\", \"men\", \"york\", \"mike\", \"jewellery\", \"ruiz\", \"designer\", \"bridal\", \"kobra\", \"charles\", \"village\", \"shoot\", \"gold\", \"pleasure\", \"jouet\", \"glam\", \"insider\", \"bride\", \"flower\", \"boutique\", \"montreal\", \"centaur\", \"vieux\", \"groom\", \"photographer\", \"jones\", \"mark\", \"makeover\", \"perfection\", \"pressure\", \"hour\", \"goal\", \"grace\", \"check\", \"word\", \"call\", \"size\", \"side\", \"action\", \"bella\", \"rep\", \"pleat\", \"planner\", \"jump\", \"energy\", \"block\", \"gratitude\", \"toddler\", \"lunge\", \"squat\", \"knee\", \"voice\", \"skill\", \"bikini\", \"childhood\", \"exercise\", \"honor\", \"option\", \"period\", \"lifestyle\", \"fujifilm\", \"paper\", \"gomer\", \"wireless\", \"crazy\", \"museum\", \"skin\", \"junkie\", \"brand\", \"skincare\", \"editor\", \"club\", \"community\", \"mask\", \"celeste\", \"camera\", \"park\", \"deal\", \"plan\", \"balance\", \"barbie\", \"chocolate\", \"winner\", \"hash\", \"jean\", \"person\", \"haul\", \"pool\", \"mother\", \"hydra\", \"lacquer\", \"launch\", \"school\", \"movie\", \"sneak\", \"package\", \"hermes\", \"problem\", \"chanel\", \"follow\", \"lift\", \"jewelry\", \"move\", \"jacket\", \"music\", \"amazon\", \"party\", \"health\", \"toyah\", \"birthday\", \"song\", \"zumba\", \"anita\", \"winter\", \"light\", \"cash\", \"moscow\", \"willcox\", \"dance\", \"rain\", \"play\", \"estate\", \"september\", \"partner\", \"bangle\", \"thomas\", \"stranger\", \"sound\", \"dong\", \"jaipur\", \"host\", \"carbon\", \"tuesday\", \"horse\", \"profit\", \"priority\", \"team\", \"country\", \"inspire\", \"vintage\", \"guy\", \"edit\", \"center\", \"passion\", \"communication\", \"jordan\", \"scott\", \"price\", \"apple\", \"class\", \"support\", \"valley\", \"ange\", \"goth\", \"enter\", \"power\", \"remind\", \"writer\", \"jacob\", \"quality\", \"track\", \"veneta\", \"babil\", \"quote\", \"comms\", \"teamwork\", \"edition\", \"tone\", \"biennale\", \"garden\", \"kid\", \"wardrobe\", \"milk\", \"base\", \"nature\", \"stay\", \"sister\", \"hand\", \"stylist\", \"ireland\", \"phone\", \"monday\", \"forget\", \"relationship\", \"generation\", \"pain\", \"greece\", \"machine\", \"plastic\", \"manage\", \"tree\", \"purchase\", \"mauna\", \"movement\", \"joker\", \"foot\", \"laugh\", \"practice\", \"surfer\", \"honey\", \"chanel\", \"teraoka\", \"jasmine\", \"yuna\", \"eddie\", \"fischer\", \"rare\", \"theo\", \"photograph\", \"jessi\", \"comb\", \"heaven\", \"summerslam\", \"shoulda\", \"siamo\", \"parisi\", \"symbiotics\", \"heather\", \"colostrum\", \"kingston\", \"serve\", \"aloe\", \"filum\", \"enke\", \"grecia\", \"wenn\", \"pathway\", \"imerovigli\", \"romantic\", \"veracruz\", \"competi\", \"rina\", \"sonata\", \"egypt\", \"moji\", \"pleat\", \"tick\", \"fleurie\", \"virtuoso\", \"bovet\", \"amadeo\", \"tourbillon\", \"haha\", \"ice\"], \"Freq\": [55.0, 47.0, 17.0, 43.0, 43.0, 43.0, 35.0, 11.0, 11.0, 12.0, 29.0, 27.0, 9.0, 10.0, 10.0, 10.0, 9.0, 9.0, 11.0, 9.0, 22.0, 8.0, 7.0, 9.0, 21.0, 21.0, 20.0, 7.0, 7.0, 7.0, 55.87052505298563, 47.349280280819265, 43.56311492512275, 43.556185995060034, 43.55358963127412, 35.97451525532807, 29.349825565991736, 27.460884895610302, 22.723468487068118, 21.77543046749064, 21.77865144070925, 20.831668111211982, 18.936092288933217, 17.991648420243884, 15.148990019087655, 15.150130725297368, 14.201855830532491, 14.202880084136108, 13.25775734968624, 13.253779434528006, 12.311493909026659, 12.309864895866383, 12.307643033075074, 12.308807559136035, 12.307920931339622, 11.363398986471204, 11.363581605330763, 11.362262250236698, 11.36001921424428, 11.360195216478493, 9.746238562621139, 8.769329133617246, 7.795148222543449, 7.795278769987782, 7.795733014019232, 5.8473334018219605, 4.871721812907929, 4.872303932359999, 4.871778307123606, 4.871103811994551, 4.871327880268889, 3.897934834473171, 3.8977813839684283, 3.897773367897285, 3.897656562289198, 3.897240871742769, 3.8972794252277914, 3.8970080239619413, 3.8970080239619413, 2.923691512559757, 2.923681206182573, 2.9232361233752857, 2.9230187351602344, 2.9235636371391385, 2.923004611606315, 2.9230504177271337, 2.922877499621044, 2.922782261061508, 2.9228089812986524, 2.9226990466086877, 3.738968891066698, 2.922879599068248, 4.328189818733723, 12.667530756832626, 10.721059775799876, 10.717953123500235, 10.717748703089176, 9.745486899267581, 7.796871521225403, 7.795299366879827, 6.819750698027788, 5.848173433609014, 5.847110985419959, 5.8458185642684635, 5.845718371369623, 4.87177682351242, 4.872735380407038, 4.871371344868116, 4.872235424566176, 3.9002234305561196, 3.8996817837103706, 3.898753150198292, 3.8975827761014257, 3.8979963239724817, 3.8979408480385596, 2.9237663012588837, 2.923279121693713, 2.9231126938919463, 2.9231079868430077, 2.9229808965216586, 2.9231227804253868, 2.9223925154043027, 2.922878350098348, 2.9225024586188026, 17.454930329581277, 7.759408145195312, 7.75839961056255, 6.7894534659380055, 6.788994327603246, 6.787781731488367, 5.819905788427994, 4.848648815701032, 3.8799714828365826, 3.8790120014447123, 3.878424483770929, 3.8782411648021053, 2.9106343138060615, 2.909468248193973, 2.908901192729248, 2.9092860504420837, 2.9091733681401464, 2.9095279529957456, 2.9089272610229795, 2.9084829788126045, 2.9087229192366304, 1.9400804842492734, 1.9399501427806145, 1.9396816113247537, 1.9397233766555713, 1.939741736582877, 1.9393121703447698, 1.9393121703447698, 1.9393121703447698, 1.939488902164102, 1.9399692034685043, 1.9396730620456266, 1.9396289141288228, 2.844641727463438, 4.10850913063666, 2.311346665250785, 9.795457287731049, 8.81496084430419, 5.875929113617623, 5.876613809720727, 4.89731904393319, 4.896618295940846, 3.9180500165197794, 2.9387165047926973, 2.93847157510343, 2.938597499406952, 2.9380398346342136, 2.9378358649381795, 2.937854961151241, 2.9372508012510488, 1.9599964243156276, 1.959346046044692, 1.9591411077001695, 1.9590684590635226, 1.9587308158760581, 1.9587308158760581, 1.9587308158760581, 1.9586765715606949, 1.9587453456033874, 1.9591498255365671, 1.9586863964239367, 1.9581840829934056, 1.9583335316173653, 1.9585643467143696, 1.958410331604678, 1.9584745391616383, 4.888754530753458, 1.9586051683292476, 1.9586158234626225, 1.9585985261681826, 1.9586028158972038, 4.888520948089343, 11.821668904470597, 5.909941858413374, 4.928000652088692, 4.927314125548375, 4.924347740568838, 4.924177202128887, 7.879139385774551, 3.9404491683676652, 3.9401518192928786, 3.9400348474141937, 3.9395696928872757, 3.939837798992391, 3.9398541969193097, 3.9397344920528052, 3.9388998375726594, 2.954876094529342, 2.954829360437625, 2.9545366574421315, 2.9547484639981607, 2.9548531374316562, 2.954807496535067, 2.9544442824538244, 2.9541567721351885, 2.9544647798624726, 2.9542420413551644, 1.9712729583114819, 1.9720718106511894, 1.9707584733544172, 1.9703621901205561, 1.970159675723114, 2.947957535863691, 2.8344568250090068, 9.84831504923317, 3.543801627230168, 2.950494568456748, 11.688472976985786, 9.738673095333752, 7.790995446028777, 7.791218867518183, 6.818948885732913, 6.818389516602502, 6.817284912061204, 6.8155981069964175, 4.871245143407277, 4.86992527144553, 4.868778265745659, 3.896503663321313, 3.8956303625360795, 3.8950680035803846, 3.894978308821864, 3.8950492492217847, 3.894843223079486, 2.9224229346231185, 2.922100033492444, 2.9221312907567767, 2.9215132123298795, 2.921991040770726, 2.9220059898971464, 2.921315883861134, 1.9483374493846992, 1.9483261695893095, 1.9481213665573538, 1.9481144355987408, 1.9483389442973411, 1.9482129639319643, 1.9484476652167602, 2.897484530126777, 5.364950643721359, 2.633428053483164, 2.625617270829801, 9.907269303925936, 6.9346179479795325, 5.943856506961687, 4.953049782664852, 4.953908734967383, 3.962948047521981, 3.962165361794591, 3.9624494547869933, 3.9619277437464158, 2.9721715915221547, 2.972240946438924, 2.9720645799839094, 2.9721773115152903, 2.9720121467134994, 2.972589866020196, 2.9714539707166825, 2.971524278965641, 2.971088606155145, 1.9816103502640559, 1.9815656628176839, 1.981217577402077, 1.9811752732861783, 1.9810233359685137, 1.9809468310603247, 1.981076603404589, 1.9810764842380653, 1.9810764842380653, 1.9808162245503949, 1.981049314270671, 1.981049314270671, 1.9810764842380653, 1.9810592050921347, 1.9810410917805388, 7.817726441078733, 6.842755693371508, 6.841015620065481, 5.865010921800816, 5.864109186784606, 5.863297541853271, 4.886434068196201, 4.886164632109026, 3.9104122694987584, 3.9097403476157266, 3.908734341667947, 2.932643307071942, 2.932193899356879, 2.9318827548970767, 2.9320529250573975, 1.9549809095371897, 1.9549727764045275, 1.9547723676740514, 1.9548255458491517, 1.95462409440936, 1.9543173293286835, 1.954260814483773, 1.9538593713972316, 1.9544729015585847, 1.9544729015585847, 1.954334638303324, 1.9550144847771551, 1.9548657944287375, 2.929268682642637, 1.953380767821329, 4.759860418531823, 1.9544768638539844, 0.0003978707366387196, 0.0003978707366387196, 0.0003978707366387196, 0.0003978699381949934, 0.0003978699381949934, 0.00039786734325288314, 0.00039786734325288314, 0.0003978707366387196, 0.0003935931941420309, 0.0003935931941420309, 0.00039359191663206896, 0.00039359191663206896, 0.00039359191663206896, 0.00039359191663206896, 0.00039359191663206896, 0.00039359191663206896, 0.00039359191663206896, 0.00039359191663206896, 0.00039359191663206896, 0.00039359191663206896, 0.00039359191663206896, 0.00039359191663206896, 0.00039359091857741116, 0.00039359091857741116, 0.00039359091857741116, 0.00039359091857741116, 0.00039359091857741116, 0.00039359091857741116, 0.00039359091857741116, 0.00039359091857741116, 0.00039359091857741116, 0.00039359091857741116, 0.0003935927150757952, 0.0003935927150757952, 0.00039359211624300053, 0.0003935917569433237, 0.0003935917569433237, 0.0003935917569433237, 0.0003935917569433237, 0.0003935917569433237, 0.0003935917569433237, 0.0003935919964764416, 0.0003935916371767648], \"Total\": [55.0, 47.0, 17.0, 43.0, 43.0, 43.0, 35.0, 11.0, 11.0, 12.0, 29.0, 27.0, 9.0, 10.0, 10.0, 10.0, 9.0, 9.0, 11.0, 9.0, 22.0, 8.0, 7.0, 9.0, 21.0, 21.0, 20.0, 7.0, 7.0, 7.0, 55.872818599133254, 47.351574121387834, 43.56540847599717, 43.55847944131566, 43.55588339432567, 35.97680876312412, 29.35211938750568, 27.46317877125199, 22.725762451299147, 21.77772385620831, 21.78094525189878, 20.833961813365857, 18.938385786610205, 17.99394192236779, 15.151283787448422, 15.152424753866848, 14.20414928302087, 14.205173926409334, 13.260050917233979, 13.25607310796443, 12.313787570455581, 12.312158373945367, 12.309936568096154, 12.311101362675736, 12.310214746454712, 11.36569256283241, 11.365875219983085, 11.364555860040332, 11.362312990743074, 11.362489033517047, 9.748525682966719, 8.771616158022832, 7.797434882228522, 7.797565529832231, 7.798019939677479, 5.849621115361586, 4.8740083342461755, 4.874590741188087, 4.874065259955157, 4.873391421422557, 4.87363033679747, 3.900221345569581, 3.9000678203509933, 3.9000601490962787, 3.899943718351053, 3.8995280999716666, 3.8995669890218267, 3.89934096330909, 3.899340963465364, 2.9259779335599525, 2.925967654359541, 2.925522863922649, 2.9253053453948152, 2.925850809627952, 2.925291439609316, 2.925337415653375, 2.925164401448653, 2.9250694905730463, 2.925096423097051, 2.924986763884512, 3.8997905390905556, 2.925199427312339, 5.8485330346854605, 12.669817684647217, 10.723346564885134, 10.720239635258032, 10.720035659558611, 9.747773906349316, 7.799157962451128, 7.797585801690612, 6.82203811410478, 5.850459964145371, 5.849397768625293, 5.84810537182465, 5.8480056957039315, 4.8740637408113505, 4.87502277843286, 4.873658174865222, 4.874523119757977, 3.902509956005228, 3.901968366398079, 3.9010395853003716, 3.8998692409398554, 3.90028313645004, 3.900228234177111, 2.9260527367222267, 2.9255656312183427, 2.925399320266638, 2.925394911731814, 2.9252679014233993, 2.9254099663324764, 2.924679314824954, 2.9251658287090487, 2.9249345117700583, 17.45721817935205, 7.761696018720063, 7.760687352393139, 6.791741113767406, 6.791282013214143, 6.790069924849085, 5.822193925483449, 4.8509365908161675, 3.8822592274343704, 3.8812995787702516, 3.880713625883665, 3.8805706716601156, 2.912922160421456, 2.911755859736205, 2.9111887771293246, 2.911573949313621, 2.9114613313921267, 2.9118163443393987, 2.9112154212979866, 2.9107715275216792, 2.911017727727428, 1.9423680890920791, 1.9422376884223862, 1.9419691892134316, 1.9420111835811682, 1.9420297774163315, 1.9415997202691322, 1.9415997202691322, 1.9415997202691322, 1.9417767354049933, 1.9422578697673836, 1.9419611838334443, 1.9419173956369264, 2.911598893254002, 4.853862692394067, 2.896651336290119, 9.797742621116605, 8.817246596992089, 5.8782145847579494, 5.8788998031523185, 4.8996043453043, 4.898904345807213, 3.9203366146710636, 2.9410017008622527, 2.940757154329028, 2.940883205760649, 2.940325159098836, 2.9401216833221704, 2.9401497152302305, 2.939999148598799, 1.9622816679406376, 1.9616312554534399, 1.961426296712562, 1.961353719210231, 1.9610161005489213, 1.9610161005489213, 1.9610161005722193, 1.960961816164621, 1.9610306840487284, 1.9614361480256095, 1.9609722536340635, 1.9604696316118382, 1.9606193692310316, 1.9608505737398776, 1.9606964761115755, 1.9607611176886368, 4.898637332671836, 1.960893523704872, 1.9609043307007388, 1.9608910946673042, 1.960896188604831, 5.872832697725145, 11.823952959828272, 5.912225763099748, 4.930284573919048, 4.9295980771205405, 4.926632413953434, 4.926462446722584, 7.883160295453885, 3.942733033386986, 3.9424357240158265, 3.942318951758275, 3.94185374490998, 3.9421221687136603, 3.9421386496019895, 3.9420269231791054, 3.941451937574584, 2.9571601869881845, 2.9571135780512274, 2.9568209172242277, 2.957032904796616, 2.9571378196721394, 2.957092150714225, 2.9567289684081963, 2.956441629069288, 2.9567519229518706, 2.956687883392171, 1.9735568627364428, 1.974356896285912, 1.97304279492621, 1.9726460947764908, 1.9724435711931458, 2.9563460890313187, 2.951935804875958, 11.804919851998525, 3.9434995410534155, 3.9362357286309915, 11.690759680375248, 9.740960558747622, 7.793282245693075, 7.793505827358334, 6.821235862916984, 6.820676535913608, 6.819571892201353, 6.818748442014031, 4.873532117298058, 4.872211804946701, 4.871178762804906, 3.898790216953326, 3.8979176583344324, 3.8973557798088247, 3.897266109754018, 3.897366388289552, 3.8973824609560754, 2.92470948423933, 2.924386765122049, 2.924418298966943, 2.923799858217814, 2.9242780711263, 2.924293153113935, 2.9236198211247566, 1.9506239934329503, 1.95061271110957, 1.950407892547048, 1.9504009887700013, 1.9506257655570542, 1.950499705349152, 1.9507366956025236, 2.9231554330196263, 5.852985109307282, 2.9251731611359646, 2.9175265299113944, 9.909552243967845, 6.936900823124949, 5.946139578999163, 4.955332688857401, 4.956192136943435, 3.965230917480751, 3.9644486107224806, 3.9647342698587886, 3.9642506376942377, 2.9744540627363745, 2.9745235938254977, 2.974347157293476, 2.9744601308194247, 2.974294951912662, 2.9748733073474085, 2.9737373408055423, 2.9738448733226437, 2.9737716547451702, 1.983893102441108, 1.9838486515901248, 1.983500168186106, 1.9834581833091134, 1.9833062185551116, 1.9832298853991244, 1.9833603211126272, 1.9833602102415075, 1.9833602102415075, 1.9831001479417851, 1.983340339182824, 1.983340339182824, 1.9833757250202761, 1.983359890626981, 1.9833489517033416, 7.820012868743842, 6.845041685487477, 6.843301868787893, 5.867296632803308, 5.866395503424142, 5.865586027867782, 4.888720368910822, 4.888451067717493, 3.912698562421154, 3.912026322457245, 3.911058016239435, 2.9349294962321375, 2.9344800814079552, 2.93416894821624, 2.934339300654594, 1.9572666224549993, 1.9572585014737347, 1.957058156926076, 1.9571114621070658, 1.9569106084424865, 1.9566039412307041, 1.9565475757481068, 1.9561465758802175, 1.9567672115474881, 1.9567672698758232, 1.9567437910413754, 1.9574844776178109, 1.957434972463891, 2.9341454565940737, 1.9569016506526737, 5.8621961131686104, 11.804919851998525, 0.0025280879820559717, 0.0025280879820559717, 0.0025280879820559717, 0.002528087166503833, 0.002528087166503833, 0.0025280845715617228, 0.0025280845715617228, 0.0025282724981811927, 0.002522954931409688, 0.002522954931409688, 0.002522953483748462, 0.002522953483748462, 0.002522953483748462, 0.002522953483748462, 0.002522953483748462, 0.002522953483748462, 0.002522953483748462, 0.002522953483748462, 0.002522953483748462, 0.002522953483748462, 0.0025229535004292957, 0.0025229535039408, 0.002522952317708516, 0.002522952317708516, 0.002522952317708516, 0.002522952317708516, 0.002522952317708516, 0.002522952317708516, 0.002522952317708516, 0.002522952317708516, 0.002522952317708516, 0.002522952317708516, 0.9482443533347726, 0.9482443533347726, 2.9401216833221704, 0.9759961760975951, 0.9759961760975951, 0.9759961760975951, 0.9759961760975951, 0.9759961760975951, 0.9759961760975951, 1.895092893573356, 2.841797720066246], \"Category\": [\"Default\", \"Default\", \"Default\", \"Default\", \"Default\", \"Default\", \"Default\", \"Default\", \"Default\", \"Default\", \"Default\", \"Default\", \"Default\", \"Default\", \"Default\", \"Default\", \"Default\", \"Default\", \"Default\", \"Default\", \"Default\", \"Default\", \"Default\", \"Default\", \"Default\", \"Default\", \"Default\", \"Default\", \"Default\", \"Default\", \"Topic1\", \"Topic1\", \"Topic1\", \"Topic1\", \"Topic1\", \"Topic1\", \"Topic1\", \"Topic1\", \"Topic1\", \"Topic1\", \"Topic1\", \"Topic1\", \"Topic1\", \"Topic1\", \"Topic1\", \"Topic1\", \"Topic1\", \"Topic1\", \"Topic1\", \"Topic1\", \"Topic1\", \"Topic1\", \"Topic1\", \"Topic1\", \"Topic1\", \"Topic1\", \"Topic1\", \"Topic1\", \"Topic1\", \"Topic1\", \"Topic2\", \"Topic2\", \"Topic2\", \"Topic2\", \"Topic2\", \"Topic2\", \"Topic2\", \"Topic2\", \"Topic2\", \"Topic2\", \"Topic2\", \"Topic2\", \"Topic2\", \"Topic2\", \"Topic2\", \"Topic2\", \"Topic2\", \"Topic2\", \"Topic2\", \"Topic2\", \"Topic2\", \"Topic2\", \"Topic2\", \"Topic2\", \"Topic2\", \"Topic2\", \"Topic2\", \"Topic2\", \"Topic2\", \"Topic2\", \"Topic2\", \"Topic2\", \"Topic2\", \"Topic3\", \"Topic3\", \"Topic3\", \"Topic3\", \"Topic3\", \"Topic3\", \"Topic3\", \"Topic3\", \"Topic3\", \"Topic3\", \"Topic3\", \"Topic3\", \"Topic3\", \"Topic3\", \"Topic3\", \"Topic3\", \"Topic3\", \"Topic3\", \"Topic3\", \"Topic3\", \"Topic3\", \"Topic3\", \"Topic3\", \"Topic3\", \"Topic3\", \"Topic3\", \"Topic3\", \"Topic3\", \"Topic3\", \"Topic3\", \"Topic3\", \"Topic4\", \"Topic4\", \"Topic4\", \"Topic4\", \"Topic4\", \"Topic4\", \"Topic4\", \"Topic4\", \"Topic4\", \"Topic4\", \"Topic4\", \"Topic4\", \"Topic4\", \"Topic4\", \"Topic4\", \"Topic4\", \"Topic4\", \"Topic4\", \"Topic4\", \"Topic4\", \"Topic4\", \"Topic4\", \"Topic4\", \"Topic4\", \"Topic4\", \"Topic4\", \"Topic4\", \"Topic4\", \"Topic4\", \"Topic4\", \"Topic4\", \"Topic4\", \"Topic4\", \"Topic4\", \"Topic4\", \"Topic4\", \"Topic5\", \"Topic5\", \"Topic5\", \"Topic5\", \"Topic5\", \"Topic5\", \"Topic5\", \"Topic5\", \"Topic5\", \"Topic5\", \"Topic5\", \"Topic5\", \"Topic5\", \"Topic5\", \"Topic5\", \"Topic5\", \"Topic5\", \"Topic5\", \"Topic5\", \"Topic5\", \"Topic5\", \"Topic5\", \"Topic5\", \"Topic5\", \"Topic5\", \"Topic5\", \"Topic5\", \"Topic5\", \"Topic5\", \"Topic5\", \"Topic5\", \"Topic5\", \"Topic5\", \"Topic5\", \"Topic5\", \"Topic5\", \"Topic6\", \"Topic6\", \"Topic6\", \"Topic6\", \"Topic6\", \"Topic6\", \"Topic6\", \"Topic6\", \"Topic6\", \"Topic6\", \"Topic6\", \"Topic6\", \"Topic6\", \"Topic6\", \"Topic6\", \"Topic6\", \"Topic6\", \"Topic6\", \"Topic6\", \"Topic6\", \"Topic6\", \"Topic6\", \"Topic6\", \"Topic6\", \"Topic6\", \"Topic6\", \"Topic6\", \"Topic6\", \"Topic6\", \"Topic6\", \"Topic6\", \"Topic6\", \"Topic6\", \"Topic6\", \"Topic6\", \"Topic7\", \"Topic7\", \"Topic7\", \"Topic7\", \"Topic7\", \"Topic7\", \"Topic7\", \"Topic7\", \"Topic7\", \"Topic7\", \"Topic7\", \"Topic7\", \"Topic7\", \"Topic7\", \"Topic7\", \"Topic7\", \"Topic7\", \"Topic7\", \"Topic7\", \"Topic7\", \"Topic7\", \"Topic7\", \"Topic7\", \"Topic7\", \"Topic7\", \"Topic7\", \"Topic7\", \"Topic7\", \"Topic7\", \"Topic7\", \"Topic7\", \"Topic7\", \"Topic7\", \"Topic7\", \"Topic7\", \"Topic8\", \"Topic8\", \"Topic8\", \"Topic8\", \"Topic8\", \"Topic8\", \"Topic8\", \"Topic8\", \"Topic8\", \"Topic8\", \"Topic8\", \"Topic8\", \"Topic8\", \"Topic8\", \"Topic8\", \"Topic8\", \"Topic8\", \"Topic8\", \"Topic8\", \"Topic8\", \"Topic8\", \"Topic8\", \"Topic8\", \"Topic8\", \"Topic8\", \"Topic8\", \"Topic8\", \"Topic8\", \"Topic8\", \"Topic8\", \"Topic8\", \"Topic8\", \"Topic8\", \"Topic9\", \"Topic9\", \"Topic9\", \"Topic9\", \"Topic9\", \"Topic9\", \"Topic9\", \"Topic9\", \"Topic9\", \"Topic9\", \"Topic9\", \"Topic9\", \"Topic9\", \"Topic9\", \"Topic9\", \"Topic9\", \"Topic9\", \"Topic9\", \"Topic9\", \"Topic9\", \"Topic9\", \"Topic9\", \"Topic9\", \"Topic9\", \"Topic9\", \"Topic9\", \"Topic9\", \"Topic9\", \"Topic9\", \"Topic9\", \"Topic9\", \"Topic9\", \"Topic10\", \"Topic10\", \"Topic10\", \"Topic10\", \"Topic10\", \"Topic10\", \"Topic10\", \"Topic10\", \"Topic10\", \"Topic10\", \"Topic10\", \"Topic10\", \"Topic10\", \"Topic10\", \"Topic10\", \"Topic10\", \"Topic10\", \"Topic10\", \"Topic10\", \"Topic10\", \"Topic10\", \"Topic10\", \"Topic10\", \"Topic10\", \"Topic10\", \"Topic10\", \"Topic10\", \"Topic10\", \"Topic10\", \"Topic10\", \"Topic10\", \"Topic10\", \"Topic10\", \"Topic10\", \"Topic10\", \"Topic10\", \"Topic10\", \"Topic10\", \"Topic10\", \"Topic10\", \"Topic10\", \"Topic10\", \"Topic10\"], \"logprob\": [30.0, 29.0, 28.0, 27.0, 26.0, 25.0, 24.0, 23.0, 22.0, 21.0, 20.0, 19.0, 18.0, 17.0, 16.0, 15.0, 14.0, 13.0, 12.0, 11.0, 10.0, 9.0, 8.0, 7.0, 6.0, 5.0, 4.0, 3.0, 2.0, 1.0, -3.2360000610351562, -3.4014999866485596, -3.484800100326538, -3.484999895095825, -3.485100030899048, -3.6761999130249023, -3.8798000812530518, -3.9463000297546387, -4.135700225830078, -4.178299903869629, -4.178100109100342, -4.222599983215332, -4.317999839782715, -4.369100093841553, -4.541100025177002, -4.540999889373779, -4.6057000160217285, -4.605599880218506, -4.674499988555908, -4.674799919128418, -4.748499870300293, -4.748700141906738, -4.748799800872803, -4.748700141906738, -4.748799800872803, -4.828700065612793, -4.82859992980957, -4.828800201416016, -4.828999996185303, -4.82889986038208, -3.7388999462127686, -3.844599962234497, -3.9623000621795654, -3.9623000621795654, -3.9623000621795654, -4.249800205230713, -4.432400226593018, -4.432300090789795, -4.432400226593018, -4.432499885559082, -4.432499885559082, -4.655399799346924, -4.655399799346924, -4.655399799346924, -4.6554999351501465, -4.655600070953369, -4.655600070953369, -4.655600070953369, -4.655600070953369, -4.942999839782715, -4.942999839782715, -4.9430999755859375, -4.94320011138916, -4.942999839782715, -4.94320011138916, -4.94320011138916, -4.943299770355225, -4.943299770355225, -4.943299770355225, -4.943299770355225, -4.697000026702881, -4.943299770355225, -4.5507001876831055, -3.349900007247925, -3.516700029373169, -3.5169999599456787, -3.5169999599456787, -3.6120998859405518, -3.835200071334839, -3.835400104522705, -3.969099998474121, -4.122799873352051, -4.123000144958496, -4.123199939727783, -4.123199939727783, -4.3053998947143555, -4.305300235748291, -4.305500030517578, -4.3053998947143555, -4.527900218963623, -4.5279998779296875, -4.528299808502197, -4.528600215911865, -4.52839994430542, -4.528500080108643, -4.815999984741211, -4.816199779510498, -4.816299915313721, -4.816299915313721, -4.816299915313721, -4.816299915313721, -4.816500186920166, -4.816299915313721, -4.816500186920166, -2.847399950027466, -3.658099889755249, -3.6582000255584717, -3.7916998863220215, -3.7916998863220215, -3.7918999195098877, -3.94569993019104, -4.128300189971924, -4.351200103759766, -4.351399898529053, -4.351600170135498, -4.351600170135498, -4.638700008392334, -4.639100074768066, -4.639200210571289, -4.639100074768066, -4.639200210571289, -4.638999938964844, -4.639200210571289, -4.639400005340576, -4.6392998695373535, -5.044300079345703, -5.044400215148926, -5.04449987411499, -5.04449987411499, -5.04449987411499, -5.0447001457214355, -5.0447001457214355, -5.0447001457214355, -5.044600009918213, -5.044400215148926, -5.04449987411499, -5.04449987411499, -4.661600112915039, -4.294000148773193, -4.869200229644775, -3.412400007247925, -3.5178000926971436, -3.9233999252319336, -3.92330002784729, -4.105599880218506, -4.1057000160217285, -4.328700065612793, -4.616300106048584, -4.616399765014648, -4.616399765014648, -4.616499900817871, -4.616600036621094, -4.616600036621094, -4.616799831390381, -5.021299839019775, -5.021699905395508, -5.0218000411987305, -5.0218000411987305, -5.021999835968018, -5.021999835968018, -5.021999835968018, -5.021999835968018, -5.021999835968018, -5.0218000411987305, -5.021999835968018, -5.022299766540527, -5.022200107574463, -5.02209997177124, -5.022200107574463, -5.02209997177124, -4.107399940490723, -5.02209997177124, -5.02209997177124, -5.02209997177124, -5.02209997177124, -4.107399940490723, -3.2118000984191895, -3.905100107192993, -4.0868000984191895, -4.086900234222412, -4.087500095367432, -4.087600231170654, -3.617500066757202, -4.310400009155273, -4.310500144958496, -4.310500144958496, -4.3105998039245605, -4.3105998039245605, -4.3105998039245605, -4.3105998039245605, -4.310800075531006, -4.598299980163574, -4.598299980163574, -4.598400115966797, -4.598299980163574, -4.598299980163574, -4.598299980163574, -4.598400115966797, -4.598499774932861, -4.598400115966797, -4.598499774932861, -5.002999782562256, -5.002600193023682, -5.003300189971924, -5.003499984741211, -5.003600120544434, -4.600599765777588, -4.639900207519531, -3.394399881362915, -4.416500091552734, -4.599699974060059, -3.217600107192993, -3.400099992752075, -3.623300075531006, -3.623199939727783, -3.756500005722046, -3.7565999031066895, -3.7567999362945557, -3.756999969482422, -4.092899799346924, -4.093100070953369, -4.093400001525879, -4.316100120544434, -4.316400051116943, -4.316500186920166, -4.316500186920166, -4.316500186920166, -4.3165998458862305, -4.603799819946289, -4.603899955749512, -4.603899955749512, -4.604100227355957, -4.604000091552734, -4.604000091552734, -4.6041998863220215, -5.009200096130371, -5.009300231933594, -5.009399890899658, -5.009399890899658, -5.009200096130371, -5.009300231933594, -5.009200096130371, -4.612400054931641, -3.996299982070923, -4.707900047302246, -4.710899829864502, -3.2516000270843506, -3.608299970626831, -3.762500047683716, -3.9447999000549316, -3.9446001052856445, -4.167799949645996, -4.168000221252441, -4.168000221252441, -4.168099880218506, -4.45550012588501, -4.45550012588501, -4.455599784851074, -4.45550012588501, -4.455599784851074, -4.455399990081787, -4.4558000564575195, -4.455699920654297, -4.455900192260742, -4.860899925231934, -4.860899925231934, -4.861100196838379, -4.861100196838379, -4.861199855804443, -4.861199855804443, -4.861199855804443, -4.861199855804443, -4.861199855804443, -4.861299991607666, -4.861199855804443, -4.861199855804443, -4.861199855804443, -4.861199855804443, -4.861199855804443, -3.3548998832702637, -3.488100051879883, -3.4883999824523926, -3.6422998905181885, -3.642400026321411, -3.6426000595092773, -3.8248000144958496, -3.824899911880493, -4.047599792480469, -4.047800064086914, -4.048099994659424, -4.335400104522705, -4.3354997634887695, -4.335599899291992, -4.335599899291992, -4.740900039672852, -4.740900039672852, -4.741000175476074, -4.741000175476074, -4.741099834442139, -4.741199970245361, -4.741300106048584, -4.741499900817871, -4.741199970245361, -4.741199970245361, -4.741199970245361, -4.740900039672852, -4.741000175476074, -4.33650016784668, -4.741700172424316, -3.851099967956543, -4.741199970245361, -10.918000221252441, -10.918000221252441, -10.918000221252441, -10.918000221252441, -10.918000221252441, -10.918000221252441, -10.918000221252441, -10.918000221252441, -10.928799629211426, -10.928799629211426, -10.928799629211426, -10.928799629211426, -10.928799629211426, -10.928799629211426, -10.928799629211426, -10.928799629211426, -10.928799629211426, -10.928799629211426, -10.928799629211426, -10.928799629211426, -10.928799629211426, -10.928799629211426, -10.928799629211426, -10.928799629211426, -10.928799629211426, -10.928799629211426, -10.928799629211426, -10.928799629211426, -10.928799629211426, -10.928799629211426, -10.928799629211426, -10.928799629211426, -10.928799629211426, -10.928799629211426, -10.928799629211426, -10.928799629211426, -10.928799629211426, -10.928799629211426, -10.928799629211426, -10.928799629211426, -10.928799629211426, -10.928799629211426, -10.928799629211426], \"loglift\": [30.0, 29.0, 28.0, 27.0, 26.0, 25.0, 24.0, 23.0, 22.0, 21.0, 20.0, 19.0, 18.0, 17.0, 16.0, 15.0, 14.0, 13.0, 12.0, 11.0, 10.0, 9.0, 8.0, 7.0, 6.0, 5.0, 4.0, 3.0, 2.0, 1.0, 1.0037, 1.0037, 1.0037, 1.0037, 1.0037, 1.0037, 1.0037, 1.0037, 1.0037, 1.0037, 1.0037, 1.0037, 1.0036, 1.0036, 1.0036, 1.0036, 1.0036, 1.0036, 1.0036, 1.0036, 1.0036, 1.0036, 1.0036, 1.0036, 1.0036, 1.0036, 1.0036, 1.0036, 1.0036, 1.0036, 2.2468, 2.2467, 2.2467, 2.2467, 2.2467, 2.2466, 2.2465, 2.2465, 2.2465, 2.2465, 2.2465, 2.2464, 2.2464, 2.2464, 2.2464, 2.2464, 2.2464, 2.2464, 2.2464, 2.2462, 2.2462, 2.2462, 2.2462, 2.2462, 2.2462, 2.2462, 2.2462, 2.2462, 2.2462, 2.2462, 2.2049, 2.2462, 1.9459, 2.3737, 2.3737, 2.3737, 2.3737, 2.3737, 2.3736, 2.3736, 2.3736, 2.3735, 2.3735, 2.3735, 2.3735, 2.3734, 2.3734, 2.3734, 2.3734, 2.3733, 2.3733, 2.3733, 2.3733, 2.3733, 2.3733, 2.3731, 2.3731, 2.3731, 2.3731, 2.3731, 2.3731, 2.3731, 2.3731, 2.3731, 2.5557, 2.5555, 2.5555, 2.5555, 2.5555, 2.5555, 2.5554, 2.5553, 2.5552, 2.5552, 2.5552, 2.5552, 2.555, 2.555, 2.555, 2.555, 2.555, 2.555, 2.555, 2.555, 2.555, 2.5546, 2.5546, 2.5546, 2.5546, 2.5546, 2.5546, 2.5546, 2.5546, 2.5546, 2.5546, 2.5546, 2.5546, 2.5325, 2.3891, 2.3301, 2.5683, 2.5683, 2.5681, 2.5681, 2.5681, 2.5681, 2.5679, 2.5678, 2.5678, 2.5678, 2.5678, 2.5678, 2.5677, 2.5676, 2.5674, 2.5674, 2.5674, 2.5674, 2.5674, 2.5674, 2.5674, 2.5674, 2.5674, 2.5674, 2.5674, 2.5674, 2.5674, 2.5674, 2.5674, 2.5674, 2.5665, 2.5674, 2.5674, 2.5674, 2.5674, 2.3851, 2.5809, 2.5807, 2.5806, 2.5806, 2.5806, 2.5806, 2.5806, 2.5805, 2.5805, 2.5805, 2.5805, 2.5805, 2.5805, 2.5805, 2.5805, 2.5803, 2.5803, 2.5803, 2.5803, 2.5803, 2.5803, 2.5803, 2.5803, 2.5803, 2.5803, 2.5799, 2.5799, 2.5799, 2.5799, 2.5799, 2.5783, 2.5405, 2.3999, 2.4742, 2.2928, 2.5864, 2.5864, 2.5863, 2.5863, 2.5863, 2.5863, 2.5863, 2.5861, 2.5861, 2.5861, 2.5861, 2.586, 2.586, 2.586, 2.586, 2.586, 2.5859, 2.5858, 2.5858, 2.5858, 2.5858, 2.5858, 2.5858, 2.5858, 2.5854, 2.5854, 2.5854, 2.5854, 2.5854, 2.5854, 2.5854, 2.5778, 2.4995, 2.4815, 2.4812, 2.7178, 2.7177, 2.7176, 2.7175, 2.7175, 2.7174, 2.7174, 2.7174, 2.7174, 2.7172, 2.7172, 2.7172, 2.7172, 2.7172, 2.7172, 2.7172, 2.7172, 2.7171, 2.7168, 2.7168, 2.7168, 2.7168, 2.7168, 2.7168, 2.7168, 2.7168, 2.7168, 2.7168, 2.7168, 2.7168, 2.7168, 2.7168, 2.7168, 2.8512, 2.8512, 2.8512, 2.8511, 2.8511, 2.8511, 2.8511, 2.8511, 2.8509, 2.8509, 2.8509, 2.8507, 2.8507, 2.8507, 2.8507, 2.8504, 2.8504, 2.8504, 2.8504, 2.8504, 2.8504, 2.8504, 2.8504, 2.8504, 2.8504, 2.8503, 2.8503, 2.8502, 2.8499, 2.8497, 2.6432, 1.0531, 3.3251, 3.3251, 3.3251, 3.3251, 3.3251, 3.3251, 3.3251, 3.325, 3.3163, 3.3163, 3.3163, 3.3163, 3.3163, 3.3163, 3.3163, 3.3163, 3.3163, 3.3163, 3.3163, 3.3163, 3.3163, 3.3163, 3.3163, 3.3163, 3.3163, 3.3163, 3.3163, 3.3163, 3.3163, 3.3163, 3.3163, 3.3163, -2.6129, -2.6129, -3.7445, -2.6417, -2.6417, -2.6417, -2.6417, -2.6417, -2.6417, -3.3053, -3.7105]}, \"token.table\": {\"Topic\": [5, 7, 7, 8, 7, 8, 3, 8, 3, 2, 6, 7, 6, 9, 1, 5, 8, 5, 7, 5, 1, 1, 2, 4, 7, 6, 4, 4, 3, 5, 6, 7, 7, 2, 6, 4, 8, 6, 9, 4, 5, 5, 6, 4, 8, 6, 2, 2, 3, 8, 8, 6, 8, 4, 5, 7, 6, 3, 3, 4, 7, 1, 3, 3, 8, 8, 6, 1, 5, 8, 7, 2, 5, 3, 2, 1, 3, 7, 2, 4, 6, 1, 9, 9, 2, 3, 2, 5, 9, 9, 3, 4, 5, 4, 5, 8, 5, 5, 9, 4, 8, 1, 1, 9, 6, 6, 7, 1, 6, 3, 9, 5, 7, 7, 5, 6, 1, 2, 4, 8, 9, 7, 8, 7, 6, 4, 7, 9, 4, 8, 4, 5, 6, 9, 2, 5, 4, 3, 3, 6, 4, 9, 6, 1, 5, 5, 6, 7, 3, 1, 3, 1, 5, 9, 3, 4, 3, 9, 4, 2, 6, 9, 4, 4, 9, 4, 1, 9, 4, 7, 6, 3, 7, 9, 6, 3, 5, 7, 9, 2, 5, 1, 2, 6, 9, 3, 3, 5, 6, 7, 7, 8, 2, 1, 3, 4, 5, 6, 9, 4, 3, 1, 6, 5, 9, 7, 4, 5, 6, 2, 1, 8, 9, 3, 1, 4, 8, 3, 7, 6, 2, 7, 9, 8, 8, 7, 2, 2, 9, 8, 5, 2, 3, 3, 4, 2, 1, 6, 8, 2, 7, 1, 4, 3, 5, 9, 5, 5, 6, 6, 6, 7, 7, 2, 7, 5, 1, 9, 4, 1, 7, 4, 1, 9, 1, 3, 8, 9, 2, 2, 8, 8, 1, 7, 7, 1, 1, 5, 8, 3, 7, 7, 8, 2, 1, 2, 9, 7, 8, 2, 8, 3, 4, 4, 8, 7, 1, 5, 2, 9, 2, 3, 2, 4, 1, 7, 6, 7, 5, 1, 5, 1, 8, 1, 4, 2, 7], \"Freq\": [1.0201454396136593, 1.0245941782255554, 1.0262070012935414, 1.0087950541442108, 1.0259592790108527, 1.008586388136774, 1.0257413652903657, 1.0083896962702839, 1.0257991694515218, 1.0259292671929585, 1.014706413210933, 1.0261252090040418, 1.0148544402805644, 1.0227745463969953, 0.9925752389881156, 1.0201017143841524, 1.008395420423803, 1.0196610284832412, 1.025949943420514, 1.0195596111348109, 1.0102065828944893, 1.0101362711542579, 1.0257961383301963, 1.0298503263223862, 1.0245941782255554, 1.0141402438410438, 1.0303061604456734, 1.0298824569972054, 1.0257517591662872, 1.0206363805162497, 1.0146312484980444, 1.025253692365827, 1.0263605017858188, 1.0255339685215334, 1.0146011958124044, 1.0300784343555491, 1.0089675495304353, 0.8471044382657998, 0.16942088765315996, 1.0303705323051213, 1.0205991258403055, 1.0199022430295026, 1.0144868083914815, 1.0308365273255164, 1.0086424004689944, 1.01492705040842, 1.0256961136514817, 1.0255388435419144, 1.0255603895712622, 1.008399799312326, 1.0090179369502619, 1.014821429498712, 1.0090961624627388, 1.0307025656126165, 1.0199418060080943, 1.0257429040957387, 1.01468189690966, 1.0256362333567015, 1.0261159896601422, 1.0298936376542054, 1.0254301610364123, 0.967809322828055, 1.0255010244982767, 1.0258380410855452, 1.008768488706665, 1.0083818082323024, 1.0148920357522049, 1.0545804955054188, 1.0192216707089492, 1.0081188333882876, 1.0260620238994858, 1.0259014547134993, 1.020163723911225, 1.025746621674884, 1.025978430192877, 1.009975609989799, 1.0255828816802421, 1.0245941782255554, 1.0258143715765702, 1.029860186650366, 1.0143274922079721, 0.9855563946297139, 1.0217194684649193, 1.022436012699194, 1.0253427789715215, 1.0249813697066303, 1.0253018332346069, 1.0206920129914738, 1.0230162193179446, 1.0218331917863088, 1.0260863224330685, 1.0296709522935272, 1.020726810915128, 1.0304974266254843, 1.0199375709906715, 1.008819892143695, 1.0207180961984337, 1.0196661497564754, 1.0219420372981516, 1.029984530936747, 1.0088390162943888, 1.0553572369894928, 0.9745173799157905, 1.022312334105499, 1.0146032120255384, 1.0145101495316646, 1.0264573950756322, 0.9680977440376156, 1.0147661706897737, 0.17058453533371884, 0.8529226766685941, 1.020085811344613, 0.8542649445748829, 1.0253782630754036, 1.0206432631173104, 1.0146268872651827, 1.0556697891678464, 1.0257271359731313, 1.0297400837816777, 1.0090580485515448, 1.0227411568407478, 1.0265251209682758, 1.0084171477347812, 1.0253119974701275, 1.0145304758474911, 1.0307382573454316, 1.0264516873222413, 1.0221062201176596, 1.0298867024993705, 1.0085884457197245, 1.030567409955981, 1.0204084587676827, 1.0148462255024295, 1.0226380381058977, 1.0256252075822163, 1.0198794387340344, 1.0305068580809282, 1.0252720199980432, 1.0259733056294023, 1.0146488632943351, 1.0309172184490545, 1.021745308597675, 1.0133987207375887, 1.0101964779741373, 1.02001206672112, 0.2540498255036663, 0.7621494765109987, 1.026336887364235, 1.0253677032841513, 0.9747300137078784, 1.0255025699159435, 1.0120672540377265, 1.0198794387461514, 1.0219142030095514, 1.0256639893740784, 1.03036170502428, 1.0251236361745326, 1.0221792759662949, 1.029909925362208, 1.025522725668194, 1.0145246878568948, 1.0220939865495404, 1.0307287894601715, 1.030582648625994, 1.0226174634591958, 1.0305393596970898, 1.0545804955054188, 1.0223276071993674, 1.0300784343555491, 1.026334093714882, 1.014733377619373, 1.0260964655884983, 1.0265928025978663, 1.022093956082432, 1.0136627574136314, 0.170275581047516, 0.8513779052375801, 1.0264956718088012, 1.0229156935886046, 1.0260366890049424, 1.0199655327052555, 0.9856274896191846, 1.0254577180017281, 1.0139707057830734, 1.021837431537062, 1.0259585727502354, 1.025442727378042, 1.0199431921327584, 1.0147509925159204, 1.0258889389408339, 1.0262911550111167, 1.0088948534103062, 1.0255711019184723, 0.9900151175589657, 0.2060214850261392, 0.8240859401045568, 1.0200456951737735, 1.0144944818069428, 1.0221710619799897, 1.0297293841005428, 1.0254972925251347, 0.980682581796371, 1.0146776548318137, 1.0203562031075288, 1.0220190903823698, 1.0258450376472328, 1.0306545778789766, 1.0203659314570173, 1.0146347643135851, 1.025837721353366, 1.0032534036471765, 1.0081414216739413, 1.0224441986193724, 1.0257534851062993, 0.3452262229394678, 0.6904524458789356, 1.008624696899829, 1.0256754144495401, 1.0282682845359115, 1.0162822629965904, 1.0256456668596567, 1.0255803108883226, 1.0224182710337284, 1.008455961018105, 1.0085219357558692, 1.0258560993982597, 1.0257651432308088, 1.0252982312651917, 1.022376655395904, 1.0083185431887223, 1.0202953203037768, 1.0259795628196198, 1.025547095546441, 1.0259907927941532, 1.0307762281491428, 1.0258497025679194, 0.9748222449090906, 1.0129880791878747, 1.008564869422245, 1.0255828184068994, 1.0258942299712746, 0.9748002164995495, 1.030284758800819, 1.025875250705845, 1.0200606137427428, 1.022818870586464, 1.0203205472282182, 1.0198718542592184, 1.0148890172998697, 1.0142814732110133, 1.0138666055183145, 1.0262279638425318, 1.025426531364262, 0.6839321888544524, 0.1709830472136131, 1.0198794387461514, 0.9679216799556443, 1.022762527347002, 1.0307332233265742, 0.9803883922575295, 1.0253188593559082, 0.9738092189342723, 1.0022762660638123, 1.0224880075672642, 0.9880036128615787, 1.0255665704415295, 1.0084463068025562, 1.022023768712624, 1.0256231902244237, 1.0259612400041125, 1.0091273302572488, 1.008399799312326, 0.97464633214872, 1.025312928956724, 1.0245941782255554, 0.9831345535376685, 1.010057173624369, 1.0197038812587718, 1.0083898587702904, 1.0259234071413457, 1.0245941782255554, 1.0265813527991705, 1.0083896399006502, 1.0258143716176817, 1.0006446162868023, 1.0255833820876137, 1.02220872356517, 1.0262882247424636, 1.008831532911156, 1.025655827077231, 1.0083896962702839, 1.0260605419565654, 1.0300784343555491, 1.0304103879564626, 1.0090139883529996, 1.0245941782255554, 0.9681127433262706, 1.0199076715893085, 1.0257549136252602, 1.02289802995931, 1.025707457230607, 1.0255810070161033, 1.0256166595933671, 1.0306635489698563, 1.000336673179137, 1.0263298611496166, 1.0145027983595527, 1.0261889425620108, 1.019944455578922, 0.9678248764155137, 1.0204905636496786, 0.9899405701501373, 1.0083398867846505, 1.0079695925394094, 1.0303279007577864, 1.0256072163336216, 1.026445598379337], \"Term\": [\"action\", \"amadeo\", \"amazon\", \"ange\", \"anita\", \"apple\", \"babe\", \"babil\", \"baby\", \"bacon\", \"balance\", \"bangle\", \"barbie\", \"base\", \"beauty\", \"bella\", \"biennale\", \"bikini\", \"birthday\", \"block\", \"blog\", \"blogger\", \"book\", \"boutique\", \"bovet\", \"brand\", \"bridal\", \"bride\", \"brow\", \"call\", \"camera\", \"carbon\", \"cash\", \"catch\", \"celeste\", \"centaur\", \"center\", \"chanel\", \"chanel\", \"charles\", \"check\", \"childhood\", \"chocolate\", \"city\", \"class\", \"club\", \"coconut\", \"coffee\", \"color\", \"comms\", \"communication\", \"community\", \"country\", \"couture\", \"crazy\", \"dance\", \"deal\", \"denim\", \"design\", \"designer\", \"dong\", \"dress\", \"drive\", \"drop\", \"edit\", \"edition\", \"editor\", \"egypt\", \"energy\", \"enter\", \"estate\", \"event\", \"exercise\", \"eye\", \"farm\", \"fashion\", \"fire\", \"fleurie\", \"flight\", \"flower\", \"follow\", \"food\", \"foot\", \"forget\", \"form\", \"foundation\", \"frame\", \"fujifilm\", \"garden\", \"generation\", \"gift\", \"glam\", \"goal\", \"gold\", \"gomer\", \"goth\", \"grace\", \"gratitude\", \"greece\", \"groom\", \"guy\", \"haha\", \"hair\", \"hand\", \"hash\", \"haul\", \"health\", \"heart\", \"hermes\", \"honey\", \"honey\", \"honor\", \"horse\", \"host\", \"hour\", \"hydra\", \"ice\", \"image\", \"insider\", \"inspire\", \"ireland\", \"jacket\", \"jacob\", \"jaipur\", \"jean\", \"jewellery\", \"jewelry\", \"joker\", \"jones\", \"jordan\", \"jouet\", \"jump\", \"junkie\", \"kid\", \"kitchen\", \"knee\", \"kobra\", \"kylie\", \"labor\", \"lacquer\", \"lady\", \"laugh\", \"launch\", \"life\", \"lifestyle\", \"lift\", \"lift\", \"light\", \"liner\", \"link\", \"london\", \"love\", \"lunge\", \"machine\", \"madam\", \"makeover\", \"makeup\", \"manage\", \"mark\", \"marketing\", \"mask\", \"mauna\", \"men\", \"mike\", \"milk\", \"model\", \"moji\", \"monday\", \"montreal\", \"moscow\", \"mother\", \"motherhood\", \"move\", \"movement\", \"movie\", \"museum\", \"museum\", \"music\", \"nature\", \"news\", \"option\", \"outfit\", \"oxygen\", \"package\", \"pain\", \"palette\", \"pant\", \"paper\", \"park\", \"partner\", \"party\", \"passion\", \"pastry\", \"people\", \"perfection\", \"perfection\", \"period\", \"person\", \"phone\", \"photographer\", \"piece\", \"place\", \"plan\", \"planner\", \"plastic\", \"play\", \"pleasure\", \"pleat\", \"pool\", \"porn\", \"post\", \"power\", \"practice\", \"press\", \"pressure\", \"pressure\", \"price\", \"primer\", \"priority\", \"problem\", \"producer\", \"profit\", \"purchase\", \"quality\", \"quote\", \"rain\", \"raise\", \"recipe\", \"relationship\", \"remind\", \"rep\", \"repost\", \"rider\", \"rise\", \"ruiz\", \"salad\", \"sale\", \"school\", \"scott\", \"season\", \"september\", \"share\", \"shoot\", \"shop\", \"side\", \"sister\", \"size\", \"skill\", \"skin\", \"skincare\", \"sneak\", \"song\", \"sound\", \"sport\", \"sport\", \"squat\", \"start\", \"stay\", \"store\", \"story\", \"stranger\", \"street\", \"style\", \"stylist\", \"summer\", \"sunday\", \"support\", \"surfer\", \"sweet\", \"target\", \"team\", \"teamwork\", \"thing\", \"thomas\", \"tick\", \"time\", \"today\", \"toddler\", \"tone\", \"toronto\", \"tourbillon\", \"toyah\", \"track\", \"tradewind\", \"travel\", \"treat\", \"tree\", \"tuesday\", \"valley\", \"vegan\", \"veneta\", \"video\", \"vieux\", \"village\", \"vintage\", \"virtuoso\", \"visit\", \"voice\", \"walk\", \"wardrobe\", \"watch\", \"water\", \"weather\", \"wedding\", \"week\", \"willcox\", \"winner\", \"winter\", \"wireless\", \"woman\", \"word\", \"work\", \"writer\", \"year\", \"york\", \"yummy\", \"zumba\"]}, \"R\": 30, \"lambda.step\": 0.01, \"plot.opts\": {\"xlab\": \"PC1\", \"ylab\": \"PC2\"}, \"topic.order\": [4, 2, 10, 3, 1, 9, 8, 7, 6, 5]};\n",
       "\n",
       "function LDAvis_load_lib(url, callback){\n",
       "  var s = document.createElement('script');\n",
       "  s.src = url;\n",
       "  s.async = true;\n",
       "  s.onreadystatechange = s.onload = callback;\n",
       "  s.onerror = function(){console.warn(\"failed to load library \" + url);};\n",
       "  document.getElementsByTagName(\"head\")[0].appendChild(s);\n",
       "}\n",
       "\n",
       "if(typeof(LDAvis) !== \"undefined\"){\n",
       "   // already loaded: just create the visualization\n",
       "   !function(LDAvis){\n",
       "       new LDAvis(\"#\" + \"ldavis_el114022601883752405399299885\", ldavis_el114022601883752405399299885_data);\n",
       "   }(LDAvis);\n",
       "}else if(typeof define === \"function\" && define.amd){\n",
       "   // require.js is available: use it to load d3/LDAvis\n",
       "   require.config({paths: {d3: \"https://cdnjs.cloudflare.com/ajax/libs/d3/3.5.5/d3.min\"}});\n",
       "   require([\"d3\"], function(d3){\n",
       "      window.d3 = d3;\n",
       "      LDAvis_load_lib(\"https://cdn.rawgit.com/bmabey/pyLDAvis/files/ldavis.v1.0.0.js\", function(){\n",
       "        new LDAvis(\"#\" + \"ldavis_el114022601883752405399299885\", ldavis_el114022601883752405399299885_data);\n",
       "      });\n",
       "    });\n",
       "}else{\n",
       "    // require.js not available: dynamically load d3 & LDAvis\n",
       "    LDAvis_load_lib(\"https://cdnjs.cloudflare.com/ajax/libs/d3/3.5.5/d3.min.js\", function(){\n",
       "         LDAvis_load_lib(\"https://cdn.rawgit.com/bmabey/pyLDAvis/files/ldavis.v1.0.0.js\", function(){\n",
       "                 new LDAvis(\"#\" + \"ldavis_el114022601883752405399299885\", ldavis_el114022601883752405399299885_data);\n",
       "            })\n",
       "         });\n",
       "}\n",
       "</script>"
      ],
      "text/plain": [
       "PreparedData(topic_coordinates=              x         y  topics  cluster       Freq\n",
       "topic                                                \n",
       "3     -0.455281  0.012773       1        1  36.649716\n",
       "1      0.003870  0.251300       2        1  10.571737\n",
       "9     -0.001097 -0.290306       3        1   9.311609\n",
       "2      0.017043 -0.196556       4        1   7.763074\n",
       "0      0.072196  0.064578       5        1   7.664825\n",
       "8      0.037708 -0.014971       6        1   7.569057\n",
       "7      0.057484  0.059194       7        1   7.527611\n",
       "6      0.039198  0.168962       8        1   6.600675\n",
       "5      0.113505 -0.049976       9        1   5.775603\n",
       "4      0.115375 -0.004998      10        1   0.566094, topic_info=             Term       Freq      Total Category  logprob  loglift\n",
       "197         style  55.000000  55.000000  Default  30.0000  30.0000\n",
       "129        beauty  47.000000  47.000000  Default  29.0000  29.0000\n",
       "347        street  17.000000  17.000000  Default  28.0000  28.0000\n",
       "190       fashion  43.000000  43.000000  Default  27.0000  27.0000\n",
       "131       blogger  43.000000  43.000000  Default  26.0000  26.0000\n",
       "...           ...        ...        ...      ...      ...      ...\n",
       "55672       bovet   0.000394   0.975996  Topic10 -10.9288  -2.6417\n",
       "55671      amadeo   0.000394   0.975996  Topic10 -10.9288  -2.6417\n",
       "20937  tourbillon   0.000394   0.975996  Topic10 -10.9288  -2.6417\n",
       "338          haha   0.000394   1.895093  Topic10 -10.9288  -3.3053\n",
       "9299          ice   0.000394   2.841798  Topic10 -10.9288  -3.7105\n",
       "\n",
       "[374 rows x 6 columns], token_table=       Topic      Freq    Term\n",
       "term                          \n",
       "1981       5  1.020145  action\n",
       "55671      7  1.024594  amadeo\n",
       "626        7  1.026207  amazon\n",
       "6608       8  1.008795    ange\n",
       "7943       7  1.025959   anita\n",
       "...      ...       ...     ...\n",
       "529        8  1.008340  writer\n",
       "66         1  1.007970    year\n",
       "598        4  1.030328    york\n",
       "4586       2  1.025607   yummy\n",
       "14191      7  1.026446   zumba\n",
       "\n",
       "[317 rows x 3 columns], R=30, lambda_step=0.01, plot_opts={'xlab': 'PC1', 'ylab': 'PC2'}, topic_order=[4, 2, 10, 3, 1, 9, 8, 7, 6, 5])"
      ]
     },
     "execution_count": 19,
     "metadata": {},
     "output_type": "execute_result"
    }
   ],
   "source": [
    "# Visualize the topics\n",
    "pyLDAvis.enable_notebook()\n",
    "vis = pyLDAvis.gensim.prepare(lda_model, corpus, id2word)\n",
    "vis"
   ]
  },
  {
   "cell_type": "markdown",
   "metadata": {},
   "source": [
    "### Save document-topic matrix (most significant topic per document)  \n",
    " https://github.com/Sim-Xuesi/content-based_movie_recommender/blob/master/Content%20Based%20Recommender%20System%20with%20LDA%20%26%20Cosine.ipynb  \n",
    " https://medium.com/@nicoleeesim97/building-a-simple-content-based-recommender-system-for-movies-and-tv-shows-73fec4f325ae  "
   ]
  },
  {
   "cell_type": "code",
   "execution_count": 20,
   "metadata": {},
   "outputs": [
    {
     "name": "stderr",
     "output_type": "stream",
     "text": [
      "C:\\Users\\minio\\anaconda3\\envs\\tfm-py-37\\lib\\site-packages\\ipykernel\\ipkernel.py:287: DeprecationWarning: `should_run_async` will not call `transform_cell` automatically in the future. Please pass the result to `transformed_cell` argument and any exception that happen during thetransform in `preprocessing_exc_tuple` in IPython 7.17 and above.\n",
      "  and should_run_async(code)\n"
     ]
    },
    {
     "name": "stdout",
     "output_type": "stream",
     "text": [
      "        Document  Topic  Probability\n",
      "0        1797657      8     0.300168\n",
      "1        2389775      8     0.549991\n",
      "2        1762348      3     0.645359\n",
      "3        2627997      3     0.718317\n",
      "4        2005691      3     0.499609\n",
      "...          ...    ...          ...\n",
      "103346   2407448      3     0.764554\n",
      "103347   1608998      9     0.820414\n",
      "103348   2282108      3     0.686804\n",
      "103349   1702303      3     0.419910\n",
      "103350   2864876      1     0.366679\n",
      "\n",
      "[103351 rows x 3 columns]\n"
     ]
    }
   ],
   "source": [
    "def Sort_Tuple(tup):  \n",
    "    return(sorted(tup, key = lambda x: x[1], reverse = True))\n",
    "\n",
    "doc_num, topic_num, prob = [], [], []\n",
    "\n",
    "document_topic_matrix = documents\n",
    "\n",
    "for n in range(len(documents)):\n",
    "    get_document_topics = lda_model.get_document_topics(corpus_total[n], minimum_probability=0)\n",
    "    doc_num.append(documents.index[n])\n",
    "    sorted_doc_topics = Sort_Tuple(get_document_topics)\n",
    "    topic_num.append(sorted_doc_topics[0][0])\n",
    "    prob.append(sorted_doc_topics[0][1])\n",
    "    \n",
    "data = {'Document': doc_num\n",
    "        ,'Topic': topic_num\n",
    "        ,'Probability': prob}\n",
    "df = pd.DataFrame(data) \n",
    "df.to_csv(file_model + '_document_topic_matrix.csv', index=False)\n",
    "print(df)"
   ]
  },
  {
   "cell_type": "markdown",
   "metadata": {},
   "source": [
    "### Save document-topic matrix (all topic's probability per document)  \n",
    "https://github.com/Sim-Xuesi/content-based_movie_recommender/blob/master/Content%20Based%20Recommender%20System%20with%20LDA%20%26%20Cosine.ipynb  \n",
    "https://medium.com/@nicoleeesim97/building-a-simple-content-based-recommender-system-for-movies-and-tv-shows-73fec4f325ae  "
   ]
  },
  {
   "cell_type": "code",
   "execution_count": 21,
   "metadata": {},
   "outputs": [
    {
     "name": "stderr",
     "output_type": "stream",
     "text": [
      "C:\\Users\\minio\\anaconda3\\envs\\tfm-py-37\\lib\\site-packages\\ipykernel\\ipkernel.py:287: DeprecationWarning: `should_run_async` will not call `transform_cell` automatically in the future. Please pass the result to `transformed_cell` argument and any exception that happen during thetransform in `preprocessing_exc_tuple` in IPython 7.17 and above.\n",
      "  and should_run_async(code)\n"
     ]
    },
    {
     "name": "stdout",
     "output_type": "stream",
     "text": [
      "        Document    Topic0    Topic1    Topic2    Topic3    Topic4    Topic5  \\\n",
      "0        1797657  0.157154  0.014278  0.014278  0.299891  0.014279  0.014278   \n",
      "1        2389775  0.050001  0.050001  0.050001  0.050001  0.050001  0.050001   \n",
      "2        1762348  0.009088  0.009088  0.009088  0.645359  0.009088  0.100027   \n",
      "3        2627997  0.031298  0.031298  0.031298  0.718318  0.031298  0.031298   \n",
      "4        2005691  0.046850  0.061395  0.004263  0.499611  0.004263  0.047216   \n",
      "...          ...       ...       ...       ...       ...       ...       ...   \n",
      "103346   2407448  0.005953  0.005953  0.005953  0.764553  0.005954  0.005954   \n",
      "103347   1608998  0.019953  0.019953  0.019957  0.019953  0.019954  0.019957   \n",
      "103348   2282108  0.008028  0.008027  0.008027  0.686804  0.008027  0.088361   \n",
      "103349   1702303  0.020000  0.020000  0.020000  0.419907  0.020000  0.220067   \n",
      "103350   2864876  0.033336  0.366679  0.033336  0.033336  0.033336  0.033336   \n",
      "\n",
      "          Topic6    Topic7    Topic8    Topic9  \n",
      "0       0.014278  0.014278  0.300168  0.157117  \n",
      "1       0.050001  0.050001  0.549991  0.050001  \n",
      "2       0.009097  0.190988  0.009088  0.009088  \n",
      "3       0.031298  0.031298  0.031298  0.031298  \n",
      "4       0.046902  0.153057  0.132181  0.004263  \n",
      "...          ...       ...       ...       ...  \n",
      "103346  0.005959  0.005953  0.125189  0.068578  \n",
      "103347  0.019953  0.019953  0.019953  0.820413  \n",
      "103348  0.008027  0.008027  0.008027  0.168643  \n",
      "103349  0.020019  0.020000  0.220008  0.020000  \n",
      "103350  0.033336  0.033336  0.033336  0.366636  \n",
      "\n",
      "[103351 rows x 11 columns]\n"
     ]
    }
   ],
   "source": [
    "doc_num = []\n",
    "prob0, prob1, prob2, prob3, prob4, prob5, prob6, prob7, prob8, prob9 = ([] for i in range(num_topics))\n",
    "\n",
    "document_topic_matrix = documents\n",
    "\n",
    "for n in range(len(documents)):\n",
    "    get_document_topics = lda_model.get_document_topics(corpus_total[n], minimum_probability=0)\n",
    "    doc_num.append(documents.index[n])\n",
    "    prob0.append(get_document_topics[0][1])\n",
    "    prob1.append(get_document_topics[1][1])\n",
    "    prob2.append(get_document_topics[2][1])\n",
    "    prob3.append(get_document_topics[3][1])\n",
    "    prob4.append(get_document_topics[4][1])\n",
    "    prob5.append(get_document_topics[5][1])\n",
    "    prob6.append(get_document_topics[6][1])\n",
    "    prob7.append(get_document_topics[7][1])\n",
    "    prob8.append(get_document_topics[8][1])\n",
    "    prob9.append(get_document_topics[9][1])\n",
    "    \n",
    "data = {'Document': doc_num\n",
    "        ,'Topic0': prob0\n",
    "        ,'Topic1': prob1\n",
    "        ,'Topic2': prob2\n",
    "        ,'Topic3': prob3\n",
    "        ,'Topic4': prob4\n",
    "        ,'Topic5': prob5\n",
    "        ,'Topic6': prob6\n",
    "        ,'Topic7': prob7\n",
    "        ,'Topic8': prob8\n",
    "        ,'Topic9': prob9}\n",
    "\n",
    "df = pd.DataFrame(data) \n",
    "df.to_csv(file_model + '_document_topic_matrix_full.csv', index=False)\n",
    "print(df)"
   ]
  },
  {
   "cell_type": "markdown",
   "metadata": {},
   "source": [
    "### Save topic-term matrix"
   ]
  },
  {
   "cell_type": "code",
   "execution_count": 22,
   "metadata": {},
   "outputs": [
    {
     "name": "stderr",
     "output_type": "stream",
     "text": [
      "C:\\Users\\minio\\anaconda3\\envs\\tfm-py-37\\lib\\site-packages\\ipykernel\\ipkernel.py:287: DeprecationWarning: `should_run_async` will not call `transform_cell` automatically in the future. Please pass the result to `transformed_cell` argument and any exception that happen during thetransform in `preprocessing_exc_tuple` in IPython 7.17 and above.\n",
      "  and should_run_async(code)\n"
     ]
    }
   ],
   "source": [
    "# get topic-term-matrix\n",
    "topic_term_matrix = lda_model.get_topics()\n",
    "# save topic-term matrix\n",
    "savetxt(file_model + '_topic_term_matrix.csv', topic_term_matrix, delimiter=',')"
   ]
  }
 ],
 "metadata": {
  "kernelspec": {
   "display_name": "Python 3",
   "language": "python",
   "name": "python3"
  },
  "language_info": {
   "codemirror_mode": {
    "name": "ipython",
    "version": 3
   },
   "file_extension": ".py",
   "mimetype": "text/x-python",
   "name": "python",
   "nbconvert_exporter": "python",
   "pygments_lexer": "ipython3",
   "version": "3.7.9"
  }
 },
 "nbformat": 4,
 "nbformat_minor": 4
}
