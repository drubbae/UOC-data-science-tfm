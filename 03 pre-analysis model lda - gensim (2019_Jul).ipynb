{
 "cells": [
  {
   "cell_type": "markdown",
   "metadata": {},
   "source": [
    "# <span style=\"color:blue\">Pre-analysis to find the optimal number of topics and hyperparameters values (2019_Jul)</span>"
   ]
  },
  {
   "cell_type": "code",
   "execution_count": 1,
   "metadata": {},
   "outputs": [],
   "source": [
    "yyyy_MMM = '2019_Jul'"
   ]
  },
  {
   "cell_type": "markdown",
   "metadata": {},
   "source": [
    "### Load packages"
   ]
  },
  {
   "cell_type": "code",
   "execution_count": 2,
   "metadata": {},
   "outputs": [
    {
     "name": "stderr",
     "output_type": "stream",
     "text": [
      "C:\\Users\\minio\\anaconda3\\envs\\tfm-py-37\\lib\\site-packages\\botocore\\vendored\\requests\\packages\\urllib3\\_collections.py:1: DeprecationWarning: Using or importing the ABCs from 'collections' instead of from 'collections.abc' is deprecated since Python 3.3,and in 3.9 it will stop working\n",
      "  from collections import Mapping, MutableMapping\n",
      "C:\\Users\\minio\\anaconda3\\envs\\tfm-py-37\\lib\\site-packages\\botocore\\vendored\\requests\\packages\\urllib3\\_collections.py:1: DeprecationWarning: Using or importing the ABCs from 'collections' instead of from 'collections.abc' is deprecated since Python 3.3,and in 3.9 it will stop working\n",
      "  from collections import Mapping, MutableMapping\n",
      "C:\\Users\\minio\\anaconda3\\envs\\tfm-py-37\\lib\\site-packages\\scipy\\sparse\\sparsetools.py:21: DeprecationWarning: `scipy.sparse.sparsetools` is deprecated!\n",
      "scipy.sparse.sparsetools is a private module for scipy.sparse, and should not be used.\n",
      "  _deprecated()\n",
      "C:\\Users\\minio\\anaconda3\\envs\\tfm-py-37\\lib\\site-packages\\gensim\\models\\doc2vec.py:73: DeprecationWarning: Using or importing the ABCs from 'collections' instead of from 'collections.abc' is deprecated since Python 3.3,and in 3.9 it will stop working\n",
      "  from collections import namedtuple, defaultdict, Iterable\n",
      "[nltk_data] Downloading package stopwords to\n",
      "[nltk_data]     C:\\Users\\minio\\AppData\\Roaming\\nltk_data...\n",
      "[nltk_data]   Package stopwords is already up-to-date!\n"
     ]
    },
    {
     "data": {
      "text/plain": [
       "True"
      ]
     },
     "execution_count": 2,
     "metadata": {},
     "output_type": "execute_result"
    }
   ],
   "source": [
    "import csv, os, re, time\n",
    "import numpy as np\n",
    "import pandas as  pd\n",
    "import matplotlib.pyplot as plt  \n",
    "import pyLDAvis\n",
    "import pyLDAvis.gensim\n",
    "import gensim\n",
    "import gensim.corpora as corpora\n",
    "from gensim.corpora.dictionary import Dictionary\n",
    "from gensim.models import CoherenceModel\n",
    "from gensim.models import Phrases\n",
    "from gensim.test.utils import datapath\n",
    "from gensim.utils import simple_preprocess\n",
    "from pprint import pprint\n",
    "import nltk\n",
    "nltk.download('stopwords')"
   ]
  },
  {
   "cell_type": "markdown",
   "metadata": {},
   "source": [
    "### Constants"
   ]
  },
  {
   "cell_type": "code",
   "execution_count": 3,
   "metadata": {},
   "outputs": [
    {
     "name": "stdout",
     "output_type": "stream",
     "text": [
      "D:\\master\\data science\\semestre 4\\M2.979 - tfm\\data\\bins_test\\doc\\2019_Jul\\2019_Jul_28_results.csv\n",
      "D:\\master\\data science\\semestre 4\\M2.979 - tfm\\data\\bins_test\\model_hyperparameter\\2019_Jul\\model\n"
     ]
    },
    {
     "name": "stderr",
     "output_type": "stream",
     "text": [
      "C:\\Users\\minio\\anaconda3\\envs\\tfm-py-37\\lib\\site-packages\\ipykernel\\ipkernel.py:287: DeprecationWarning: `should_run_async` will not call `transform_cell` automatically in the future. Please pass the result to `transformed_cell` argument and any exception that happen during thetransform in `preprocessing_exc_tuple` in IPython 7.17 and above.\n",
      "  and should_run_async(code)\n"
     ]
    }
   ],
   "source": [
    "# for reproducible results\n",
    "random_state = 33\n",
    "# if debug is True, messages during the process are generated\n",
    "debug = False\n",
    "# for debugging purposes sample may be used to work with a smaller amount of data (when 0 it is not applied)\n",
    "sample = 0\n",
    "# if the test is True, the process runs on a smaller subset of raw data (json files)\n",
    "test = True\n",
    "\n",
    "if test:\n",
    "    # path where the doc files are stored\n",
    "    path_doc = r'D:\\master\\data science\\semestre 4\\M2.979 - tfm\\data\\bins_test\\doc'\n",
    "    # path where the model files are stored\n",
    "    path_model = r'D:\\master\\data science\\semestre 4\\M2.979 - tfm\\data\\bins_test\\model_hyperparameter'\n",
    "    # LDA chunksize\n",
    "    chunksize = 250\n",
    "else:\n",
    "    # path where the doc files are stored\n",
    "    path_doc = r'D:\\master\\data science\\semestre 4\\M2.979 - tfm\\data\\bins\\doc'\n",
    "    # path where the model files are stored\n",
    "    path_model = r'D:\\master\\data science\\semestre 4\\M2.979 - tfm\\data\\bins\\model_hyperparameter'\n",
    "    # LDA chunksize\n",
    "    chunksize = 5000\n",
    "\n",
    "file_doc = os.path.join(path_doc, yyyy_MMM, yyyy_MMM) + '_28_results.csv'\n",
    "file_model = os.path.join(path_model, yyyy_MMM, 'model')\n",
    "print(file_doc)\n",
    "print(file_model)"
   ]
  },
  {
   "cell_type": "markdown",
   "metadata": {},
   "source": [
    "### Load data preprocessed"
   ]
  },
  {
   "cell_type": "code",
   "execution_count": 4,
   "metadata": {},
   "outputs": [
    {
     "name": "stderr",
     "output_type": "stream",
     "text": [
      "C:\\Users\\minio\\anaconda3\\envs\\tfm-py-37\\lib\\site-packages\\ipykernel\\ipkernel.py:287: DeprecationWarning: `should_run_async` will not call `transform_cell` automatically in the future. Please pass the result to `transformed_cell` argument and any exception that happen during thetransform in `preprocessing_exc_tuple` in IPython 7.17 and above.\n",
      "  and should_run_async(code)\n"
     ]
    },
    {
     "data": {
      "text/plain": [
       "0    ['desiree', 'feres', 'ifbb', 'battle', 'desert...\n",
       "1    ['thierry', 'photog', 'model', 'sierra', 'kuhn...\n",
       "2    ['brought', 'meaning', 'milk', 'cooky', 'comin...\n",
       "3    ['clean', 'salt', 'pepper', 'shaker', 'yesterd...\n",
       "4    ['crush', 'ruben', 'blog', 'gossip', 'inspira'...\n",
       "5    ['thick', 'thigh', 'lie', 'hannah', 'xoxo', 'f...\n",
       "6    ['land', 'rome', 'love', 'close', 'appear', 'v...\n",
       "7    ['ifbb', 'patriot', 'challenge', 'bikini', 've...\n",
       "8           ['today', 'mood', 'blac', 'young', 'star']\n",
       "9    ['private', 'boeing', 'dreamliner', 'chui', 'b...\n",
       "Name: content_preprocessed, dtype: object"
      ]
     },
     "execution_count": 4,
     "metadata": {},
     "output_type": "execute_result"
    }
   ],
   "source": [
    "df = pd.read_csv(file_doc)\n",
    "documents = df.content_preprocessed\n",
    "documents.head(10)"
   ]
  },
  {
   "cell_type": "markdown",
   "metadata": {},
   "source": [
    "### Shuffle"
   ]
  },
  {
   "cell_type": "code",
   "execution_count": 5,
   "metadata": {},
   "outputs": [
    {
     "name": "stderr",
     "output_type": "stream",
     "text": [
      "C:\\Users\\minio\\anaconda3\\envs\\tfm-py-37\\lib\\site-packages\\ipykernel\\ipkernel.py:287: DeprecationWarning: `should_run_async` will not call `transform_cell` automatically in the future. Please pass the result to `transformed_cell` argument and any exception that happen during thetransform in `preprocessing_exc_tuple` in IPython 7.17 and above.\n",
      "  and should_run_async(code)\n"
     ]
    },
    {
     "data": {
      "text/plain": [
       "2222    ['diva', 'ballerina', 'dress', 'heiress', 'cou...\n",
       "762     ['beautiful', 'bride', 'barbara', 'focus', 'bl...\n",
       "1103    ['view', 'municipal', 'parking', 'lot', 'corto...\n",
       "536     ['trisha', 'khalid', 'promo', 'code', 'trisha'...\n",
       "1079    ['stephanie', 'cole', 'casual', 'weekend', 'ha...\n",
       "856     ['book', 'shoot', 'david', 'cruz', 'lion', 'ta...\n",
       "1964    ['internet', 'black', 'bond', 'female', 'bond'...\n",
       "456     ['luxury', 'season', 'feature', 'fashion', 'bu...\n",
       "1972    ['lift', 'momma', 'winner', 'master', 'class',...\n",
       "2140                                   ['stay', 'humble']\n",
       "Name: content_preprocessed, dtype: object"
      ]
     },
     "execution_count": 5,
     "metadata": {},
     "output_type": "execute_result"
    }
   ],
   "source": [
    "documents = documents.sample(frac=1, random_state=random_state)\n",
    "documents.head(10)"
   ]
  },
  {
   "cell_type": "markdown",
   "metadata": {},
   "source": [
    "### Sample"
   ]
  },
  {
   "cell_type": "code",
   "execution_count": 6,
   "metadata": {},
   "outputs": [
    {
     "name": "stderr",
     "output_type": "stream",
     "text": [
      "C:\\Users\\minio\\anaconda3\\envs\\tfm-py-37\\lib\\site-packages\\ipykernel\\ipkernel.py:287: DeprecationWarning: `should_run_async` will not call `transform_cell` automatically in the future. Please pass the result to `transformed_cell` argument and any exception that happen during thetransform in `preprocessing_exc_tuple` in IPython 7.17 and above.\n",
      "  and should_run_async(code)\n"
     ]
    }
   ],
   "source": [
    "if sample > 0:\n",
    "    documents = documents.sample(n=sample, random_state=random_state)\n",
    "    print(documents.head(10))"
   ]
  },
  {
   "cell_type": "markdown",
   "metadata": {},
   "source": [
    "### Tokenize words and Clean-up text  \n",
    "https://www.machinelearningplus.com/nlp/topic-modeling-gensim-python/#3importpackages"
   ]
  },
  {
   "cell_type": "code",
   "execution_count": 7,
   "metadata": {},
   "outputs": [
    {
     "name": "stderr",
     "output_type": "stream",
     "text": [
      "C:\\Users\\minio\\anaconda3\\envs\\tfm-py-37\\lib\\site-packages\\ipykernel\\ipkernel.py:287: DeprecationWarning: `should_run_async` will not call `transform_cell` automatically in the future. Please pass the result to `transformed_cell` argument and any exception that happen during thetransform in `preprocessing_exc_tuple` in IPython 7.17 and above.\n",
      "  and should_run_async(code)\n"
     ]
    }
   ],
   "source": [
    "def sent_to_words(sentences):\n",
    "    for sentence in sentences:\n",
    "        yield(gensim.utils.simple_preprocess(str(sentence), deacc=True))  # deacc=True removes punctuations"
   ]
  },
  {
   "cell_type": "markdown",
   "metadata": {},
   "source": [
    "### Function to compute bigrams & trigrams  \n",
    "https://radimrehurek.com/gensim/auto_examples/tutorials/run_lda.html#pre-process-and-vectorize-the-documents"
   ]
  },
  {
   "cell_type": "code",
   "execution_count": 8,
   "metadata": {},
   "outputs": [
    {
     "name": "stderr",
     "output_type": "stream",
     "text": [
      "C:\\Users\\minio\\anaconda3\\envs\\tfm-py-37\\lib\\site-packages\\ipykernel\\ipkernel.py:287: DeprecationWarning: `should_run_async` will not call `transform_cell` automatically in the future. Please pass the result to `transformed_cell` argument and any exception that happen during thetransform in `preprocessing_exc_tuple` in IPython 7.17 and above.\n",
      "  and should_run_async(code)\n"
     ]
    }
   ],
   "source": [
    "# Add bigrams and trigrams to docs (only ones that appear min_count times or more).\n",
    "def bi_tri_grams(documents, min_count):\n",
    "    bigram = Phrases(documents, min_count=min_count)\n",
    "    for idx in range(len(documents)):\n",
    "        for token in bigram[documents[idx]]:\n",
    "            if '_' in token:\n",
    "                # Token is a bigram, add to document.\n",
    "                documents[idx].append(token)"
   ]
  },
  {
   "cell_type": "markdown",
   "metadata": {},
   "source": [
    "### Function for categorizing and tagging words"
   ]
  },
  {
   "cell_type": "code",
   "execution_count": 9,
   "metadata": {},
   "outputs": [
    {
     "name": "stderr",
     "output_type": "stream",
     "text": [
      "C:\\Users\\minio\\anaconda3\\envs\\tfm-py-37\\lib\\site-packages\\ipykernel\\ipkernel.py:287: DeprecationWarning: `should_run_async` will not call `transform_cell` automatically in the future. Please pass the result to `transformed_cell` argument and any exception that happen during thetransform in `preprocessing_exc_tuple` in IPython 7.17 and above.\n",
      "  and should_run_async(code)\n"
     ]
    }
   ],
   "source": [
    "def tag_words(text):\n",
    "    tags = nltk.pos_tag(text)\n",
    "    nouns = [word for word, pos in tags if (pos == 'NN' or pos == 'NNP' or pos == 'NNS' or pos == 'NNPS')]\n",
    "    return nouns"
   ]
  },
  {
   "cell_type": "markdown",
   "metadata": {},
   "source": [
    "### Analysis to get the optimal number of topics  \n",
    "https://towardsdatascience.com/discover-what-singaporeans-generally-talk-on-sms-d4b592a682fd"
   ]
  },
  {
   "cell_type": "code",
   "execution_count": 10,
   "metadata": {},
   "outputs": [
    {
     "name": "stderr",
     "output_type": "stream",
     "text": [
      "C:\\Users\\minio\\anaconda3\\envs\\tfm-py-37\\lib\\site-packages\\ipykernel\\ipkernel.py:287: DeprecationWarning: `should_run_async` will not call `transform_cell` automatically in the future. Please pass the result to `transformed_cell` argument and any exception that happen during thetransform in `preprocessing_exc_tuple` in IPython 7.17 and above.\n",
      "  and should_run_async(code)\n"
     ]
    }
   ],
   "source": [
    "data_words = list(sent_to_words(documents))\n",
    "# Compute bigrams & trigrams\n",
    "bi_tri_grams(data_words, 250)\n",
    "# Categorizing and tagging words\n",
    "data_words = list(map(tag_words, data_words))\n",
    "# Create Dictionary\n",
    "id2word = Dictionary(data_words)\n",
    "# Create Corpus\n",
    "texts = data_words\n",
    "# Term Document Frequency\n",
    "corpus = [id2word.doc2bow(text) for text in texts]"
   ]
  },
  {
   "cell_type": "code",
   "execution_count": 11,
   "metadata": {},
   "outputs": [
    {
     "name": "stderr",
     "output_type": "stream",
     "text": [
      "C:\\Users\\minio\\anaconda3\\envs\\tfm-py-37\\lib\\site-packages\\ipykernel\\ipkernel.py:287: DeprecationWarning: `should_run_async` will not call `transform_cell` automatically in the future. Please pass the result to `transformed_cell` argument and any exception that happen during thetransform in `preprocessing_exc_tuple` in IPython 7.17 and above.\n",
      "  and should_run_async(code)\n"
     ]
    },
    {
     "name": "stdout",
     "output_type": "stream",
     "text": [
      "# Topics: 8 Score: 0.6226353096900377\n",
      "time elapsed - 00:00:21.33\n",
      "# Topics: 10 Score: 0.6287959576603215\n",
      "time elapsed - 00:00:21.83\n",
      "# Topics: 12 Score: 0.5921797520705928\n",
      "time elapsed - 00:00:21.99\n",
      "# Topics: 14 Score: 0.5790146867261479\n",
      "time elapsed - 00:00:21.85\n",
      "# Topics: 16 Score: 0.5550035029758942\n",
      "time elapsed - 00:00:22.25\n",
      "# Topics: 18 Score: 0.5366641763202799\n",
      "time elapsed - 00:00:22.21\n",
      "# Topics: 20 Score: 0.5713763822288792\n",
      "time elapsed - 00:00:22.87\n",
      "# Topics: 22 Score: 0.5288640786894935\n",
      "time elapsed - 00:00:22.77\n",
      "# Topics: 24 Score: 0.5104803161274566\n",
      "time elapsed - 00:00:21.43\n"
     ]
    }
   ],
   "source": [
    "model_list = []\n",
    "coherence_score = []\n",
    "model_topics = []\n",
    "\n",
    "for num_topics in range(8, 25, 2):\n",
    "    \n",
    "    time_start = time.time()\n",
    "\n",
    "    lda_x = gensim.models.LdaMulticore(corpus=corpus\n",
    "                                       ,id2word=id2word\n",
    "                                       ,num_topics=num_topics\n",
    "                                       ,random_state=random_state\n",
    "                                       ,chunksize=chunksize\n",
    "                                       ,passes=10)\n",
    "    coherence_lda_model = CoherenceModel(model=lda_x, texts=data_words, dictionary=id2word, coherence='c_v')\n",
    "    coherence = coherence_lda_model.get_coherence()\n",
    "    coherence_score.append(coherence)\n",
    "    model_topics.append(num_topics)\n",
    "    model_list.append(lda_x)\n",
    "    \n",
    "    print(\"# Topics: \" + str(num_topics) + \" Score: \" + str(coherence))\n",
    "    \n",
    "    time_end = time.time()\n",
    "    hour, rem = divmod(time_end - time_start, 3600)\n",
    "    minute, second = divmod(rem, 60)\n",
    "    print('time elapsed - {:0>2}:{:0>2}:{:05.2f}'.format(int(hour), int(minute), second))"
   ]
  },
  {
   "cell_type": "code",
   "execution_count": 12,
   "metadata": {},
   "outputs": [
    {
     "name": "stderr",
     "output_type": "stream",
     "text": [
      "C:\\Users\\minio\\anaconda3\\envs\\tfm-py-37\\lib\\site-packages\\ipykernel\\ipkernel.py:287: DeprecationWarning: `should_run_async` will not call `transform_cell` automatically in the future. Please pass the result to `transformed_cell` argument and any exception that happen during thetransform in `preprocessing_exc_tuple` in IPython 7.17 and above.\n",
      "  and should_run_async(code)\n"
     ]
    },
    {
     "data": {
      "image/png": "[encoded data removed]",
      "text/plain": [
       "<Figure size 432x288 with 1 Axes>"
      ]
     },
     "metadata": {
      "needs_background": "light"
     },
     "output_type": "display_data"
    }
   ],
   "source": [
    "limit=25; start=8; step=2;\n",
    "x = range(start, limit, step)\n",
    "plt.plot(x, coherence_score)\n",
    "plt.xlabel(\"Number of topics\")\n",
    "plt.ylabel(\"Coherence score\")\n",
    "plt.legend((\"coherence_values\"), loc='best')\n",
    "plt.show()"
   ]
  },
  {
   "cell_type": "markdown",
   "metadata": {},
   "source": [
    "### Hyperparameter tuning  \n",
    "\n",
    "https://medium.com/analytics-vidhya/analyzing-amazon-tv-reviews-with-latent-dirichlet-allocation-97d19c3bb878  \n",
    "https://github.com/Georgebob256/Machine-learning-with-Python/blob/master/Amazon%20TV%20reviews..ipynb"
   ]
  },
  {
   "cell_type": "code",
   "execution_count": 13,
   "metadata": {},
   "outputs": [
    {
     "name": "stderr",
     "output_type": "stream",
     "text": [
      "C:\\Users\\minio\\anaconda3\\envs\\tfm-py-37\\lib\\site-packages\\ipykernel\\ipkernel.py:287: DeprecationWarning: `should_run_async` will not call `transform_cell` automatically in the future. Please pass the result to `transformed_cell` argument and any exception that happen during thetransform in `preprocessing_exc_tuple` in IPython 7.17 and above.\n",
      "  and should_run_async(code)\n"
     ]
    },
    {
     "name": "stdout",
     "output_type": "stream",
     "text": [
      "Iteration num -  1  Topics -  8  Alpha -  0.01  Beta -  0.01  Coherence -  0.616859724718887\n",
      "Iteration num -  2  Topics -  8  Alpha -  0.01  Beta -  0.31  Coherence -  0.6280556798368359\n",
      "Iteration num -  3  Topics -  8  Alpha -  0.01  Beta -  0.61  Coherence -  0.6337469069986388\n",
      "Iteration num -  4  Topics -  8  Alpha -  0.01  Beta -  0.91  Coherence -  0.6226476335870267\n",
      "Iteration num -  5  Topics -  8  Alpha -  0.01  Beta -  symmetric  Coherence -  0.6290007016165957\n",
      "Iteration num -  6  Topics -  8  Alpha -  0.31  Beta -  0.01  Coherence -  0.6348566313893447\n",
      "Iteration num -  7  Topics -  8  Alpha -  0.31  Beta -  0.31  Coherence -  0.6327497695078967\n",
      "Iteration num -  8  Topics -  8  Alpha -  0.31  Beta -  0.61  Coherence -  0.6546848770012339\n",
      "Iteration num -  9  Topics -  8  Alpha -  0.31  Beta -  0.91  Coherence -  0.6453265598237283\n",
      "Iteration num -  10  Topics -  8  Alpha -  0.31  Beta -  symmetric  Coherence -  0.6288031923539258\n",
      "Iteration num -  11  Topics -  8  Alpha -  0.61  Beta -  0.01  Coherence -  0.6223831867262866\n",
      "Iteration num -  12  Topics -  8  Alpha -  0.61  Beta -  0.31  Coherence -  0.6488040879336614\n",
      "Iteration num -  13  Topics -  8  Alpha -  0.61  Beta -  0.61  Coherence -  0.6623371448698572\n",
      "Iteration num -  14  Topics -  8  Alpha -  0.61  Beta -  0.91  Coherence -  0.6627126129144381\n",
      "Iteration num -  15  Topics -  8  Alpha -  0.61  Beta -  symmetric  Coherence -  0.6277188555004849\n",
      "Iteration num -  16  Topics -  8  Alpha -  0.91  Beta -  0.01  Coherence -  0.6509382323825269\n",
      "Iteration num -  17  Topics -  8  Alpha -  0.91  Beta -  0.31  Coherence -  0.6722566750865235\n",
      "Iteration num -  18  Topics -  8  Alpha -  0.91  Beta -  0.61  Coherence -  0.6779374353545338\n",
      "Iteration num -  19  Topics -  8  Alpha -  0.91  Beta -  0.91  Coherence -  0.666423856634414\n",
      "Iteration num -  20  Topics -  8  Alpha -  0.91  Beta -  symmetric  Coherence -  0.6497450243965979\n",
      "Iteration num -  21  Topics -  8  Alpha -  symmetric  Beta -  0.01  Coherence -  0.623342297251538\n",
      "Iteration num -  22  Topics -  8  Alpha -  symmetric  Beta -  0.31  Coherence -  0.6324939384394458\n",
      "Iteration num -  23  Topics -  8  Alpha -  symmetric  Beta -  0.61  Coherence -  0.6418775414211826\n",
      "Iteration num -  24  Topics -  8  Alpha -  symmetric  Beta -  0.91  Coherence -  0.6638541426812277\n",
      "Iteration num -  25  Topics -  8  Alpha -  symmetric  Beta -  symmetric  Coherence -  0.6226353096900377\n",
      "Iteration num -  26  Topics -  8  Alpha -  asymmetric  Beta -  0.01  Coherence -  0.6185944778396119\n",
      "Iteration num -  27  Topics -  8  Alpha -  asymmetric  Beta -  0.31  Coherence -  0.6288741580645032\n",
      "Iteration num -  28  Topics -  8  Alpha -  asymmetric  Beta -  0.61  Coherence -  0.6695056929600336\n",
      "Iteration num -  29  Topics -  8  Alpha -  asymmetric  Beta -  0.91  Coherence -  0.6796297457072266\n",
      "Iteration num -  30  Topics -  8  Alpha -  asymmetric  Beta -  symmetric  Coherence -  0.6140380083926482\n",
      "Iteration num -  31  Topics -  10  Alpha -  0.01  Beta -  0.01  Coherence -  0.6206047889317906\n",
      "Iteration num -  32  Topics -  10  Alpha -  0.01  Beta -  0.31  Coherence -  0.6259200663726797\n",
      "Iteration num -  33  Topics -  10  Alpha -  0.01  Beta -  0.61  Coherence -  0.6159066009767041\n",
      "Iteration num -  34  Topics -  10  Alpha -  0.01  Beta -  0.91  Coherence -  0.5917838038182125\n",
      "Iteration num -  35  Topics -  10  Alpha -  0.01  Beta -  symmetric  Coherence -  0.6162436051264518\n",
      "Iteration num -  36  Topics -  10  Alpha -  0.31  Beta -  0.01  Coherence -  0.6338058331265392\n",
      "Iteration num -  37  Topics -  10  Alpha -  0.31  Beta -  0.31  Coherence -  0.6318743538893905\n",
      "Iteration num -  38  Topics -  10  Alpha -  0.31  Beta -  0.61  Coherence -  0.6066471559718825\n",
      "Iteration num -  39  Topics -  10  Alpha -  0.31  Beta -  0.91  Coherence -  0.5802692555680699\n",
      "Iteration num -  40  Topics -  10  Alpha -  0.31  Beta -  symmetric  Coherence -  0.6433370955302937\n",
      "Iteration num -  41  Topics -  10  Alpha -  0.61  Beta -  0.01  Coherence -  0.6358662095794734\n",
      "Iteration num -  42  Topics -  10  Alpha -  0.61  Beta -  0.31  Coherence -  0.6282828450414465\n",
      "Iteration num -  43  Topics -  10  Alpha -  0.61  Beta -  0.61  Coherence -  0.6161931730102033\n",
      "Iteration num -  44  Topics -  10  Alpha -  0.61  Beta -  0.91  Coherence -  0.6158739851314332\n",
      "Iteration num -  45  Topics -  10  Alpha -  0.61  Beta -  symmetric  Coherence -  0.6522088215179318\n",
      "Iteration num -  46  Topics -  10  Alpha -  0.91  Beta -  0.01  Coherence -  0.6367505559693348\n",
      "Iteration num -  47  Topics -  10  Alpha -  0.91  Beta -  0.31  Coherence -  0.6395254357543249\n",
      "Iteration num -  48  Topics -  10  Alpha -  0.91  Beta -  0.61  Coherence -  0.6431793148093966\n",
      "Iteration num -  49  Topics -  10  Alpha -  0.91  Beta -  0.91  Coherence -  0.6200350121210332\n",
      "Iteration num -  50  Topics -  10  Alpha -  0.91  Beta -  symmetric  Coherence -  0.6314375519951672\n",
      "Iteration num -  51  Topics -  10  Alpha -  symmetric  Beta -  0.01  Coherence -  0.6224936931305008\n",
      "Iteration num -  52  Topics -  10  Alpha -  symmetric  Beta -  0.31  Coherence -  0.616047737556257\n",
      "Iteration num -  53  Topics -  10  Alpha -  symmetric  Beta -  0.61  Coherence -  0.593183946106877\n",
      "Iteration num -  54  Topics -  10  Alpha -  symmetric  Beta -  0.91  Coherence -  0.62488103575931\n",
      "Iteration num -  55  Topics -  10  Alpha -  symmetric  Beta -  symmetric  Coherence -  0.6160952599081423\n",
      "Iteration num -  56  Topics -  10  Alpha -  asymmetric  Beta -  0.01  Coherence -  0.6023152735419031\n",
      "Iteration num -  57  Topics -  10  Alpha -  asymmetric  Beta -  0.31  Coherence -  0.6249931971666701\n",
      "Iteration num -  58  Topics -  10  Alpha -  asymmetric  Beta -  0.61  Coherence -  0.6517977528062013\n",
      "Iteration num -  59  Topics -  10  Alpha -  asymmetric  Beta -  0.91  Coherence -  0.5973025859679992\n",
      "Iteration num -  60  Topics -  10  Alpha -  asymmetric  Beta -  symmetric  Coherence -  0.5948790224779638\n",
      "Iteration num -  61  Topics -  12  Alpha -  0.01  Beta -  0.01  Coherence -  0.6054060687395992\n",
      "Iteration num -  62  Topics -  12  Alpha -  0.01  Beta -  0.31  Coherence -  0.6298528096289078\n",
      "Iteration num -  63  Topics -  12  Alpha -  0.01  Beta -  0.61  Coherence -  0.6026452515733044\n",
      "Iteration num -  64  Topics -  12  Alpha -  0.01  Beta -  0.91  Coherence -  0.5343674747230933\n",
      "Iteration num -  65  Topics -  12  Alpha -  0.01  Beta -  symmetric  Coherence -  0.6138383171716003\n",
      "Iteration num -  66  Topics -  12  Alpha -  0.31  Beta -  0.01  Coherence -  0.600163379873463\n",
      "Iteration num -  67  Topics -  12  Alpha -  0.31  Beta -  0.31  Coherence -  0.6085798336051663\n",
      "Iteration num -  68  Topics -  12  Alpha -  0.31  Beta -  0.61  Coherence -  0.5657797878712024\n",
      "Iteration num -  69  Topics -  12  Alpha -  0.31  Beta -  0.91  Coherence -  0.5670869672079294\n",
      "Iteration num -  70  Topics -  12  Alpha -  0.31  Beta -  symmetric  Coherence -  0.6026472130658723\n",
      "Iteration num -  71  Topics -  12  Alpha -  0.61  Beta -  0.01  Coherence -  0.608876216585664\n",
      "Iteration num -  72  Topics -  12  Alpha -  0.61  Beta -  0.31  Coherence -  0.6219054232343906\n",
      "Iteration num -  73  Topics -  12  Alpha -  0.61  Beta -  0.61  Coherence -  0.6058183665661563\n",
      "Iteration num -  74  Topics -  12  Alpha -  0.61  Beta -  0.91  Coherence -  0.5856625712311327\n",
      "Iteration num -  75  Topics -  12  Alpha -  0.61  Beta -  symmetric  Coherence -  0.6093603215298496\n",
      "Iteration num -  76  Topics -  12  Alpha -  0.91  Beta -  0.01  Coherence -  0.6103485164517024\n",
      "Iteration num -  77  Topics -  12  Alpha -  0.91  Beta -  0.31  Coherence -  0.6151187085191717\n",
      "Iteration num -  78  Topics -  12  Alpha -  0.91  Beta -  0.61  Coherence -  0.6066755914398209\n",
      "Iteration num -  79  Topics -  12  Alpha -  0.91  Beta -  0.91  Coherence -  0.5921911479504784\n",
      "Iteration num -  80  Topics -  12  Alpha -  0.91  Beta -  symmetric  Coherence -  0.5997246770353946\n",
      "Iteration num -  81  Topics -  12  Alpha -  symmetric  Beta -  0.01  Coherence -  0.5974519361009903\n",
      "Iteration num -  82  Topics -  12  Alpha -  symmetric  Beta -  0.31  Coherence -  0.646066706923717\n",
      "Iteration num -  83  Topics -  12  Alpha -  symmetric  Beta -  0.61  Coherence -  0.584248509628717\n",
      "Iteration num -  84  Topics -  12  Alpha -  symmetric  Beta -  0.91  Coherence -  0.5578553477105029\n"
     ]
    },
    {
     "name": "stdout",
     "output_type": "stream",
     "text": [
      "Iteration num -  85  Topics -  12  Alpha -  symmetric  Beta -  symmetric  Coherence -  0.6011448692714305\n",
      "Iteration num -  86  Topics -  12  Alpha -  asymmetric  Beta -  0.01  Coherence -  0.5786801218203877\n",
      "Iteration num -  87  Topics -  12  Alpha -  asymmetric  Beta -  0.31  Coherence -  0.6168045896621145\n",
      "Iteration num -  88  Topics -  12  Alpha -  asymmetric  Beta -  0.61  Coherence -  0.5777797395814047\n",
      "Iteration num -  89  Topics -  12  Alpha -  asymmetric  Beta -  0.91  Coherence -  0.5715802888399929\n",
      "Iteration num -  90  Topics -  12  Alpha -  asymmetric  Beta -  symmetric  Coherence -  0.5825141447081796\n",
      "Iteration num -  91  Topics -  14  Alpha -  0.01  Beta -  0.01  Coherence -  0.5815259841064796\n",
      "Iteration num -  92  Topics -  14  Alpha -  0.01  Beta -  0.31  Coherence -  0.5907883154513429\n",
      "Iteration num -  93  Topics -  14  Alpha -  0.01  Beta -  0.61  Coherence -  0.5716162163436669\n",
      "Iteration num -  94  Topics -  14  Alpha -  0.01  Beta -  0.91  Coherence -  0.5814505818670019\n",
      "Iteration num -  95  Topics -  14  Alpha -  0.01  Beta -  symmetric  Coherence -  0.5749765020383817\n",
      "Iteration num -  96  Topics -  14  Alpha -  0.31  Beta -  0.01  Coherence -  0.6056518280479827\n",
      "Iteration num -  97  Topics -  14  Alpha -  0.31  Beta -  0.31  Coherence -  0.5873476227850969\n",
      "Iteration num -  98  Topics -  14  Alpha -  0.31  Beta -  0.61  Coherence -  0.5984607452802774\n",
      "Iteration num -  99  Topics -  14  Alpha -  0.31  Beta -  0.91  Coherence -  0.5833854713590861\n",
      "Iteration num -  100  Topics -  14  Alpha -  0.31  Beta -  symmetric  Coherence -  0.6037874576738415\n",
      "Iteration num -  101  Topics -  14  Alpha -  0.61  Beta -  0.01  Coherence -  0.5906150666969044\n",
      "Iteration num -  102  Topics -  14  Alpha -  0.61  Beta -  0.31  Coherence -  0.5917393764817865\n",
      "Iteration num -  103  Topics -  14  Alpha -  0.61  Beta -  0.61  Coherence -  0.5771940858992451\n",
      "Iteration num -  104  Topics -  14  Alpha -  0.61  Beta -  0.91  Coherence -  0.567456903179797\n",
      "Iteration num -  105  Topics -  14  Alpha -  0.61  Beta -  symmetric  Coherence -  0.5888943063678933\n",
      "Iteration num -  106  Topics -  14  Alpha -  0.91  Beta -  0.01  Coherence -  0.6029895572760572\n",
      "Iteration num -  107  Topics -  14  Alpha -  0.91  Beta -  0.31  Coherence -  0.6050584706806569\n",
      "Iteration num -  108  Topics -  14  Alpha -  0.91  Beta -  0.61  Coherence -  0.5790130655476294\n",
      "Iteration num -  109  Topics -  14  Alpha -  0.91  Beta -  0.91  Coherence -  0.5855488138051549\n",
      "Iteration num -  110  Topics -  14  Alpha -  0.91  Beta -  symmetric  Coherence -  0.596916879380499\n",
      "Iteration num -  111  Topics -  14  Alpha -  symmetric  Beta -  0.01  Coherence -  0.5785772734329225\n",
      "Iteration num -  112  Topics -  14  Alpha -  symmetric  Beta -  0.31  Coherence -  0.5878555766575992\n",
      "Iteration num -  113  Topics -  14  Alpha -  symmetric  Beta -  0.61  Coherence -  0.5678435774827647\n",
      "Iteration num -  114  Topics -  14  Alpha -  symmetric  Beta -  0.91  Coherence -  0.5780290962827987\n",
      "Iteration num -  115  Topics -  14  Alpha -  symmetric  Beta -  symmetric  Coherence -  0.5792129764820836\n",
      "Iteration num -  116  Topics -  14  Alpha -  asymmetric  Beta -  0.01  Coherence -  0.5747590416272631\n",
      "Iteration num -  117  Topics -  14  Alpha -  asymmetric  Beta -  0.31  Coherence -  0.5957505096183516\n",
      "Iteration num -  118  Topics -  14  Alpha -  asymmetric  Beta -  0.61  Coherence -  0.6124983482429568\n",
      "Iteration num -  119  Topics -  14  Alpha -  asymmetric  Beta -  0.91  Coherence -  0.5638717563652835\n",
      "Iteration num -  120  Topics -  14  Alpha -  asymmetric  Beta -  symmetric  Coherence -  0.5692172255312913\n",
      "Iteration num -  121  Topics -  16  Alpha -  0.01  Beta -  0.01  Coherence -  0.5489473296146405\n",
      "Iteration num -  122  Topics -  16  Alpha -  0.01  Beta -  0.31  Coherence -  0.549099294121273\n",
      "Iteration num -  123  Topics -  16  Alpha -  0.01  Beta -  0.61  Coherence -  0.5544349287995731\n",
      "Iteration num -  124  Topics -  16  Alpha -  0.01  Beta -  0.91  Coherence -  0.5455342786676429\n",
      "Iteration num -  125  Topics -  16  Alpha -  0.01  Beta -  symmetric  Coherence -  0.5463257115200939\n",
      "Iteration num -  126  Topics -  16  Alpha -  0.31  Beta -  0.01  Coherence -  0.5791192460454502\n",
      "Iteration num -  127  Topics -  16  Alpha -  0.31  Beta -  0.31  Coherence -  0.5812359703680556\n",
      "Iteration num -  128  Topics -  16  Alpha -  0.31  Beta -  0.61  Coherence -  0.5082264899713074\n",
      "Iteration num -  129  Topics -  16  Alpha -  0.31  Beta -  0.91  Coherence -  0.4952903250976768\n",
      "Iteration num -  130  Topics -  16  Alpha -  0.31  Beta -  symmetric  Coherence -  0.5813164353840896\n",
      "Iteration num -  131  Topics -  16  Alpha -  0.61  Beta -  0.01  Coherence -  0.5681345113435207\n",
      "Iteration num -  132  Topics -  16  Alpha -  0.61  Beta -  0.31  Coherence -  0.6083915265098339\n",
      "Iteration num -  133  Topics -  16  Alpha -  0.61  Beta -  0.61  Coherence -  0.5208288965623016\n",
      "Iteration num -  134  Topics -  16  Alpha -  0.61  Beta -  0.91  Coherence -  0.5081019867366126\n",
      "Iteration num -  135  Topics -  16  Alpha -  0.61  Beta -  symmetric  Coherence -  0.5812639370207877\n",
      "Iteration num -  136  Topics -  16  Alpha -  0.91  Beta -  0.01  Coherence -  0.5763867807100833\n",
      "Iteration num -  137  Topics -  16  Alpha -  0.91  Beta -  0.31  Coherence -  0.5916048370572966\n",
      "Iteration num -  138  Topics -  16  Alpha -  0.91  Beta -  0.61  Coherence -  0.5771057688252906\n",
      "Iteration num -  139  Topics -  16  Alpha -  0.91  Beta -  0.91  Coherence -  0.5030584665674911\n",
      "Iteration num -  140  Topics -  16  Alpha -  0.91  Beta -  symmetric  Coherence -  0.5757151810968393\n",
      "Iteration num -  141  Topics -  16  Alpha -  symmetric  Beta -  0.01  Coherence -  0.5746392363049446\n",
      "Iteration num -  142  Topics -  16  Alpha -  symmetric  Beta -  0.31  Coherence -  0.5491829587283908\n",
      "Iteration num -  143  Topics -  16  Alpha -  symmetric  Beta -  0.61  Coherence -  0.5511432872799817\n",
      "Iteration num -  144  Topics -  16  Alpha -  symmetric  Beta -  0.91  Coherence -  0.5454468853588316\n",
      "Iteration num -  145  Topics -  16  Alpha -  symmetric  Beta -  symmetric  Coherence -  0.5599939432904179\n",
      "Iteration num -  146  Topics -  16  Alpha -  asymmetric  Beta -  0.01  Coherence -  0.5427048957593048\n",
      "Iteration num -  147  Topics -  16  Alpha -  asymmetric  Beta -  0.31  Coherence -  0.5418215064042271\n",
      "Iteration num -  148  Topics -  16  Alpha -  asymmetric  Beta -  0.61  Coherence -  0.5601840053211913\n",
      "Iteration num -  149  Topics -  16  Alpha -  asymmetric  Beta -  0.91  Coherence -  0.5821798042452323\n",
      "Iteration num -  150  Topics -  16  Alpha -  asymmetric  Beta -  symmetric  Coherence -  0.5348828522046587\n",
      "Iteration num -  151  Topics -  18  Alpha -  0.01  Beta -  0.01  Coherence -  0.5421263871499756\n",
      "Iteration num -  152  Topics -  18  Alpha -  0.01  Beta -  0.31  Coherence -  0.4933407508614155\n",
      "Iteration num -  153  Topics -  18  Alpha -  0.01  Beta -  0.61  Coherence -  0.4994398687098711\n",
      "Iteration num -  154  Topics -  18  Alpha -  0.01  Beta -  0.91  Coherence -  0.505247485778103\n",
      "Iteration num -  155  Topics -  18  Alpha -  0.01  Beta -  symmetric  Coherence -  0.5461780509147984\n",
      "Iteration num -  156  Topics -  18  Alpha -  0.31  Beta -  0.01  Coherence -  0.5465398183250869\n",
      "Iteration num -  157  Topics -  18  Alpha -  0.31  Beta -  0.31  Coherence -  0.5187231830177264\n",
      "Iteration num -  158  Topics -  18  Alpha -  0.31  Beta -  0.61  Coherence -  0.5093293695893496\n",
      "Iteration num -  159  Topics -  18  Alpha -  0.31  Beta -  0.91  Coherence -  0.5041464914377178\n",
      "Iteration num -  160  Topics -  18  Alpha -  0.31  Beta -  symmetric  Coherence -  0.5418106098692963\n",
      "Iteration num -  161  Topics -  18  Alpha -  0.61  Beta -  0.01  Coherence -  0.5654210121424454\n",
      "Iteration num -  162  Topics -  18  Alpha -  0.61  Beta -  0.31  Coherence -  0.5197672357277887\n",
      "Iteration num -  163  Topics -  18  Alpha -  0.61  Beta -  0.61  Coherence -  0.49968404037963715\n",
      "Iteration num -  164  Topics -  18  Alpha -  0.61  Beta -  0.91  Coherence -  0.5254615692938223\n",
      "Iteration num -  165  Topics -  18  Alpha -  0.61  Beta -  symmetric  Coherence -  0.572986879969529\n",
      "Iteration num -  166  Topics -  18  Alpha -  0.91  Beta -  0.01  Coherence -  0.5768829904341038\n",
      "Iteration num -  167  Topics -  18  Alpha -  0.91  Beta -  0.31  Coherence -  0.5546346523900492\n"
     ]
    },
    {
     "name": "stdout",
     "output_type": "stream",
     "text": [
      "Iteration num -  168  Topics -  18  Alpha -  0.91  Beta -  0.61  Coherence -  0.506740011729072\n",
      "Iteration num -  169  Topics -  18  Alpha -  0.91  Beta -  0.91  Coherence -  0.48517372885665566\n",
      "Iteration num -  170  Topics -  18  Alpha -  0.91  Beta -  symmetric  Coherence -  0.5571056819866453\n",
      "Iteration num -  171  Topics -  18  Alpha -  symmetric  Beta -  0.01  Coherence -  0.5344004710304657\n",
      "Iteration num -  172  Topics -  18  Alpha -  symmetric  Beta -  0.31  Coherence -  0.5137864217586218\n",
      "Iteration num -  173  Topics -  18  Alpha -  symmetric  Beta -  0.61  Coherence -  0.5240461349549664\n",
      "Iteration num -  174  Topics -  18  Alpha -  symmetric  Beta -  0.91  Coherence -  0.5174396179749211\n",
      "Iteration num -  175  Topics -  18  Alpha -  symmetric  Beta -  symmetric  Coherence -  0.532067068165905\n",
      "Iteration num -  176  Topics -  18  Alpha -  asymmetric  Beta -  0.01  Coherence -  0.5550189669068685\n",
      "Iteration num -  177  Topics -  18  Alpha -  asymmetric  Beta -  0.31  Coherence -  0.5198318050589591\n",
      "Iteration num -  178  Topics -  18  Alpha -  asymmetric  Beta -  0.61  Coherence -  0.5343898827171932\n",
      "Iteration num -  179  Topics -  18  Alpha -  asymmetric  Beta -  0.91  Coherence -  0.5407595003803077\n",
      "Iteration num -  180  Topics -  18  Alpha -  asymmetric  Beta -  symmetric  Coherence -  0.5433490472048935\n",
      "Iteration num -  181  Topics -  20  Alpha -  0.01  Beta -  0.01  Coherence -  0.577839687472695\n",
      "Iteration num -  182  Topics -  20  Alpha -  0.01  Beta -  0.31  Coherence -  0.5377037335591958\n",
      "Iteration num -  183  Topics -  20  Alpha -  0.01  Beta -  0.61  Coherence -  0.5128735715358419\n",
      "Iteration num -  184  Topics -  20  Alpha -  0.01  Beta -  0.91  Coherence -  0.4924862683986494\n",
      "Iteration num -  185  Topics -  20  Alpha -  0.01  Beta -  symmetric  Coherence -  0.5758715337247463\n",
      "Iteration num -  186  Topics -  20  Alpha -  0.31  Beta -  0.01  Coherence -  0.5755832524734934\n",
      "Iteration num -  187  Topics -  20  Alpha -  0.31  Beta -  0.31  Coherence -  0.5442208058304632\n",
      "Iteration num -  188  Topics -  20  Alpha -  0.31  Beta -  0.61  Coherence -  0.5036630017944015\n",
      "Iteration num -  189  Topics -  20  Alpha -  0.31  Beta -  0.91  Coherence -  0.4894332587814569\n",
      "Iteration num -  190  Topics -  20  Alpha -  0.31  Beta -  symmetric  Coherence -  0.5718667158833134\n",
      "Iteration num -  191  Topics -  20  Alpha -  0.61  Beta -  0.01  Coherence -  0.5599762788885136\n",
      "Iteration num -  192  Topics -  20  Alpha -  0.61  Beta -  0.31  Coherence -  0.5214042642527763\n",
      "Iteration num -  193  Topics -  20  Alpha -  0.61  Beta -  0.61  Coherence -  0.4949712074452819\n",
      "Iteration num -  194  Topics -  20  Alpha -  0.61  Beta -  0.91  Coherence -  0.5187621078730648\n",
      "Iteration num -  195  Topics -  20  Alpha -  0.61  Beta -  symmetric  Coherence -  0.5638391070510828\n",
      "Iteration num -  196  Topics -  20  Alpha -  0.91  Beta -  0.01  Coherence -  0.5590810210471273\n",
      "Iteration num -  197  Topics -  20  Alpha -  0.91  Beta -  0.31  Coherence -  0.5499644004102657\n",
      "Iteration num -  198  Topics -  20  Alpha -  0.91  Beta -  0.61  Coherence -  0.5192037302806444\n",
      "Iteration num -  199  Topics -  20  Alpha -  0.91  Beta -  0.91  Coherence -  0.503860353155199\n",
      "Iteration num -  200  Topics -  20  Alpha -  0.91  Beta -  symmetric  Coherence -  0.5679869876244131\n",
      "Iteration num -  201  Topics -  20  Alpha -  symmetric  Beta -  0.01  Coherence -  0.582692820598597\n",
      "Iteration num -  202  Topics -  20  Alpha -  symmetric  Beta -  0.31  Coherence -  0.5309515356807705\n",
      "Iteration num -  203  Topics -  20  Alpha -  symmetric  Beta -  0.61  Coherence -  0.5167971441554748\n",
      "Iteration num -  204  Topics -  20  Alpha -  symmetric  Beta -  0.91  Coherence -  0.501751531164602\n",
      "Iteration num -  205  Topics -  20  Alpha -  symmetric  Beta -  symmetric  Coherence -  0.5654122310560962\n",
      "Iteration num -  206  Topics -  20  Alpha -  asymmetric  Beta -  0.01  Coherence -  0.5807045961789793\n",
      "Iteration num -  207  Topics -  20  Alpha -  asymmetric  Beta -  0.31  Coherence -  0.5264659085500893\n",
      "Iteration num -  208  Topics -  20  Alpha -  asymmetric  Beta -  0.61  Coherence -  0.5386310107238622\n",
      "Iteration num -  209  Topics -  20  Alpha -  asymmetric  Beta -  0.91  Coherence -  0.5297961248668243\n",
      "Iteration num -  210  Topics -  20  Alpha -  asymmetric  Beta -  symmetric  Coherence -  0.5735945583701744\n",
      "Iteration num -  211  Topics -  22  Alpha -  0.01  Beta -  0.01  Coherence -  0.5352666187555073\n",
      "Iteration num -  212  Topics -  22  Alpha -  0.01  Beta -  0.31  Coherence -  0.5220240823229484\n",
      "Iteration num -  213  Topics -  22  Alpha -  0.01  Beta -  0.61  Coherence -  0.5207846402817267\n",
      "Iteration num -  214  Topics -  22  Alpha -  0.01  Beta -  0.91  Coherence -  0.4912502390900493\n",
      "Iteration num -  215  Topics -  22  Alpha -  0.01  Beta -  symmetric  Coherence -  0.5321339486203572\n",
      "Iteration num -  216  Topics -  22  Alpha -  0.31  Beta -  0.01  Coherence -  0.527060873993389\n",
      "Iteration num -  217  Topics -  22  Alpha -  0.31  Beta -  0.31  Coherence -  0.5392858349179656\n",
      "Iteration num -  218  Topics -  22  Alpha -  0.31  Beta -  0.61  Coherence -  0.536266532279585\n",
      "Iteration num -  219  Topics -  22  Alpha -  0.31  Beta -  0.91  Coherence -  0.5314913108099156\n",
      "Iteration num -  220  Topics -  22  Alpha -  0.31  Beta -  symmetric  Coherence -  0.526026089479355\n",
      "Iteration num -  221  Topics -  22  Alpha -  0.61  Beta -  0.01  Coherence -  0.5418131320532612\n",
      "Iteration num -  222  Topics -  22  Alpha -  0.61  Beta -  0.31  Coherence -  0.516958155463056\n",
      "Iteration num -  223  Topics -  22  Alpha -  0.61  Beta -  0.61  Coherence -  0.4914217206911742\n",
      "Iteration num -  224  Topics -  22  Alpha -  0.61  Beta -  0.91  Coherence -  0.48506055228888734\n",
      "Iteration num -  225  Topics -  22  Alpha -  0.61  Beta -  symmetric  Coherence -  0.5430483218599871\n",
      "Iteration num -  226  Topics -  22  Alpha -  0.91  Beta -  0.01  Coherence -  0.5419174836603454\n",
      "Iteration num -  227  Topics -  22  Alpha -  0.91  Beta -  0.31  Coherence -  0.5051211047461158\n",
      "Iteration num -  228  Topics -  22  Alpha -  0.91  Beta -  0.61  Coherence -  0.5091426705838569\n",
      "Iteration num -  229  Topics -  22  Alpha -  0.91  Beta -  0.91  Coherence -  0.4780981734308181\n",
      "Iteration num -  230  Topics -  22  Alpha -  0.91  Beta -  symmetric  Coherence -  0.5503824403889606\n",
      "Iteration num -  231  Topics -  22  Alpha -  symmetric  Beta -  0.01  Coherence -  0.5296851591316637\n",
      "Iteration num -  232  Topics -  22  Alpha -  symmetric  Beta -  0.31  Coherence -  0.5417282367020205\n",
      "Iteration num -  233  Topics -  22  Alpha -  symmetric  Beta -  0.61  Coherence -  0.504770741854342\n",
      "Iteration num -  234  Topics -  22  Alpha -  symmetric  Beta -  0.91  Coherence -  0.47456183115051115\n",
      "Iteration num -  235  Topics -  22  Alpha -  symmetric  Beta -  symmetric  Coherence -  0.5319869356663899\n",
      "Iteration num -  236  Topics -  22  Alpha -  asymmetric  Beta -  0.01  Coherence -  0.5202574922386518\n",
      "Iteration num -  237  Topics -  22  Alpha -  asymmetric  Beta -  0.31  Coherence -  0.5075437936464233\n",
      "Iteration num -  238  Topics -  22  Alpha -  asymmetric  Beta -  0.61  Coherence -  0.514162832656262\n",
      "Iteration num -  239  Topics -  22  Alpha -  asymmetric  Beta -  0.91  Coherence -  0.5151034090287179\n",
      "Iteration num -  240  Topics -  22  Alpha -  asymmetric  Beta -  symmetric  Coherence -  0.5132146028012515\n",
      "Iteration num -  241  Topics -  24  Alpha -  0.01  Beta -  0.01  Coherence -  0.49811276822702416\n",
      "Iteration num -  242  Topics -  24  Alpha -  0.01  Beta -  0.31  Coherence -  0.5061093307444895\n",
      "Iteration num -  243  Topics -  24  Alpha -  0.01  Beta -  0.61  Coherence -  0.4996548438915614\n",
      "Iteration num -  244  Topics -  24  Alpha -  0.01  Beta -  0.91  Coherence -  0.5031932802270149\n",
      "Iteration num -  245  Topics -  24  Alpha -  0.01  Beta -  symmetric  Coherence -  0.4953621723295976\n",
      "Iteration num -  246  Topics -  24  Alpha -  0.31  Beta -  0.01  Coherence -  0.5071529879173617\n",
      "Iteration num -  247  Topics -  24  Alpha -  0.31  Beta -  0.31  Coherence -  0.5254596843761136\n",
      "Iteration num -  248  Topics -  24  Alpha -  0.31  Beta -  0.61  Coherence -  0.5301670092370535\n",
      "Iteration num -  249  Topics -  24  Alpha -  0.31  Beta -  0.91  Coherence -  0.51690917650982\n",
      "Iteration num -  250  Topics -  24  Alpha -  0.31  Beta -  symmetric  Coherence -  0.51552125435785\n"
     ]
    },
    {
     "name": "stdout",
     "output_type": "stream",
     "text": [
      "Iteration num -  251  Topics -  24  Alpha -  0.61  Beta -  0.01  Coherence -  0.5545842040696325\n",
      "Iteration num -  252  Topics -  24  Alpha -  0.61  Beta -  0.31  Coherence -  0.5243311455889068\n",
      "Iteration num -  253  Topics -  24  Alpha -  0.61  Beta -  0.61  Coherence -  0.5165347459283474\n",
      "Iteration num -  254  Topics -  24  Alpha -  0.61  Beta -  0.91  Coherence -  0.5226347415300182\n",
      "Iteration num -  255  Topics -  24  Alpha -  0.61  Beta -  symmetric  Coherence -  0.5414642764424861\n",
      "Iteration num -  256  Topics -  24  Alpha -  0.91  Beta -  0.01  Coherence -  0.5250364480600268\n",
      "Iteration num -  257  Topics -  24  Alpha -  0.91  Beta -  0.31  Coherence -  0.5027936215436551\n",
      "Iteration num -  258  Topics -  24  Alpha -  0.91  Beta -  0.61  Coherence -  0.4842236406693646\n",
      "Iteration num -  259  Topics -  24  Alpha -  0.91  Beta -  0.91  Coherence -  0.48714795344097056\n",
      "Iteration num -  260  Topics -  24  Alpha -  0.91  Beta -  symmetric  Coherence -  0.539422844051097\n",
      "Iteration num -  261  Topics -  24  Alpha -  symmetric  Beta -  0.01  Coherence -  0.4984538712575069\n",
      "Iteration num -  262  Topics -  24  Alpha -  symmetric  Beta -  0.31  Coherence -  0.5065590351873485\n",
      "Iteration num -  263  Topics -  24  Alpha -  symmetric  Beta -  0.61  Coherence -  0.49769460199385457\n",
      "Iteration num -  264  Topics -  24  Alpha -  symmetric  Beta -  0.91  Coherence -  0.5049305412680142\n",
      "Iteration num -  265  Topics -  24  Alpha -  symmetric  Beta -  symmetric  Coherence -  0.520376354214384\n",
      "Iteration num -  266  Topics -  24  Alpha -  asymmetric  Beta -  0.01  Coherence -  0.5214730943371592\n",
      "Iteration num -  267  Topics -  24  Alpha -  asymmetric  Beta -  0.31  Coherence -  0.5144808243495865\n",
      "Iteration num -  268  Topics -  24  Alpha -  asymmetric  Beta -  0.61  Coherence -  0.5205542586944603\n",
      "Iteration num -  269  Topics -  24  Alpha -  asymmetric  Beta -  0.91  Coherence -  0.5268300728368974\n",
      "Iteration num -  270  Topics -  24  Alpha -  asymmetric  Beta -  symmetric  Coherence -  0.5317711875454284\n"
     ]
    }
   ],
   "source": [
    "# LDA model and its corresponding Coherence Score\n",
    "def compute_coherence_values(bow_corpus, id2word, n, a, b):\n",
    "    lda_model = gensim.models.LdaMulticore(corpus=bow_corpus\n",
    "                                           ,id2word=id2word\n",
    "                                           ,num_topics=n\n",
    "                                           ,random_state=random_state\n",
    "                                           ,chunksize=chunksize\n",
    "                                           ,passes=10\n",
    "                                           ,alpha=a\n",
    "                                           ,eta=b)\n",
    "    coherence_model_lda = CoherenceModel(model=lda_model, texts=data_words, dictionary=id2word, coherence='c_v')\n",
    "    return coherence_model_lda.get_coherence()\n",
    "\n",
    "grid = {}\n",
    "grid['Validation_Set'] = {}\n",
    "\n",
    "# Topics range\n",
    "min_topics = 8\n",
    "max_topics = 25\n",
    "step_size = 2\n",
    "topics_range = range(min_topics, max_topics, step_size)\n",
    "\n",
    "# Alpha parameter\n",
    "alpha = [0.01, 0.31, 0.61, 0.91, 'symmetric', 'asymmetric']\n",
    "\n",
    "# Beta parameter\n",
    "beta = [0.01, 0.31, 0.61, 0.91, 'symmetric']\n",
    "\n",
    "model_results = {'Topics': []\n",
    "                 ,'Alpha': []\n",
    "                 ,'Beta': []\n",
    "                 ,'Coherence': []\n",
    "                }\n",
    "\n",
    "# iterate through number of topics\n",
    "iter = 0\n",
    "for k in topics_range:\n",
    "    # iterate through alpha values\n",
    "    for a in alpha:\n",
    "        # iterare through beta values\n",
    "        for b in beta:\n",
    "            iter += 1\n",
    "            # get the coherence score for the given parameters\n",
    "            cv = compute_coherence_values(bow_corpus=corpus\n",
    "                                          ,id2word=id2word\n",
    "                                          ,n=k\n",
    "                                          ,a=a\n",
    "                                          ,b=b)\n",
    "            # Save the model results\n",
    "            model_results['Topics'].append(k)\n",
    "            model_results['Alpha'].append(a)\n",
    "            model_results['Beta'].append(b)\n",
    "            model_results['Coherence'].append(cv)\n",
    "            print('Iteration num - ', iter, ' Topics - ', k, ' Alpha - ', a, ' Beta - ', b, ' Coherence - ', cv)\n",
    "\n",
    "pd.DataFrame(model_results).to_csv(file_model + '_lda_tuning_results.csv', index=False)"
   ]
  },
  {
   "cell_type": "code",
   "execution_count": 14,
   "metadata": {},
   "outputs": [
    {
     "name": "stderr",
     "output_type": "stream",
     "text": [
      "C:\\Users\\minio\\anaconda3\\envs\\tfm-py-37\\lib\\site-packages\\ipykernel\\ipkernel.py:287: DeprecationWarning: `should_run_async` will not call `transform_cell` automatically in the future. Please pass the result to `transformed_cell` argument and any exception that happen during thetransform in `preprocessing_exc_tuple` in IPython 7.17 and above.\n",
      "  and should_run_async(code)\n"
     ]
    },
    {
     "data": {
      "text/html": [
       "<div>\n",
       "<style scoped>\n",
       "    .dataframe tbody tr th:only-of-type {\n",
       "        vertical-align: middle;\n",
       "    }\n",
       "\n",
       "    .dataframe tbody tr th {\n",
       "        vertical-align: top;\n",
       "    }\n",
       "\n",
       "    .dataframe thead th {\n",
       "        text-align: right;\n",
       "    }\n",
       "</style>\n",
       "<table border=\"1\" class=\"dataframe\">\n",
       "  <thead>\n",
       "    <tr style=\"text-align: right;\">\n",
       "      <th></th>\n",
       "      <th>Topics</th>\n",
       "      <th>Alpha</th>\n",
       "      <th>Beta</th>\n",
       "      <th>Coherence</th>\n",
       "    </tr>\n",
       "  </thead>\n",
       "  <tbody>\n",
       "    <tr>\n",
       "      <th>28</th>\n",
       "      <td>8</td>\n",
       "      <td>asymmetric</td>\n",
       "      <td>0.91</td>\n",
       "      <td>0.679630</td>\n",
       "    </tr>\n",
       "    <tr>\n",
       "      <th>17</th>\n",
       "      <td>8</td>\n",
       "      <td>0.91</td>\n",
       "      <td>0.61</td>\n",
       "      <td>0.677937</td>\n",
       "    </tr>\n",
       "    <tr>\n",
       "      <th>16</th>\n",
       "      <td>8</td>\n",
       "      <td>0.91</td>\n",
       "      <td>0.31</td>\n",
       "      <td>0.672257</td>\n",
       "    </tr>\n",
       "    <tr>\n",
       "      <th>27</th>\n",
       "      <td>8</td>\n",
       "      <td>asymmetric</td>\n",
       "      <td>0.61</td>\n",
       "      <td>0.669506</td>\n",
       "    </tr>\n",
       "    <tr>\n",
       "      <th>18</th>\n",
       "      <td>8</td>\n",
       "      <td>0.91</td>\n",
       "      <td>0.91</td>\n",
       "      <td>0.666424</td>\n",
       "    </tr>\n",
       "    <tr>\n",
       "      <th>...</th>\n",
       "      <td>...</td>\n",
       "      <td>...</td>\n",
       "      <td>...</td>\n",
       "      <td>...</td>\n",
       "    </tr>\n",
       "    <tr>\n",
       "      <th>168</th>\n",
       "      <td>18</td>\n",
       "      <td>0.91</td>\n",
       "      <td>0.91</td>\n",
       "      <td>0.485174</td>\n",
       "    </tr>\n",
       "    <tr>\n",
       "      <th>223</th>\n",
       "      <td>22</td>\n",
       "      <td>0.61</td>\n",
       "      <td>0.91</td>\n",
       "      <td>0.485061</td>\n",
       "    </tr>\n",
       "    <tr>\n",
       "      <th>257</th>\n",
       "      <td>24</td>\n",
       "      <td>0.91</td>\n",
       "      <td>0.61</td>\n",
       "      <td>0.484224</td>\n",
       "    </tr>\n",
       "    <tr>\n",
       "      <th>228</th>\n",
       "      <td>22</td>\n",
       "      <td>0.91</td>\n",
       "      <td>0.91</td>\n",
       "      <td>0.478098</td>\n",
       "    </tr>\n",
       "    <tr>\n",
       "      <th>233</th>\n",
       "      <td>22</td>\n",
       "      <td>symmetric</td>\n",
       "      <td>0.91</td>\n",
       "      <td>0.474562</td>\n",
       "    </tr>\n",
       "  </tbody>\n",
       "</table>\n",
       "<p>270 rows × 4 columns</p>\n",
       "</div>"
      ],
      "text/plain": [
       "     Topics       Alpha  Beta  Coherence\n",
       "28        8  asymmetric  0.91   0.679630\n",
       "17        8        0.91  0.61   0.677937\n",
       "16        8        0.91  0.31   0.672257\n",
       "27        8  asymmetric  0.61   0.669506\n",
       "18        8        0.91  0.91   0.666424\n",
       "..      ...         ...   ...        ...\n",
       "168      18        0.91  0.91   0.485174\n",
       "223      22        0.61  0.91   0.485061\n",
       "257      24        0.91  0.61   0.484224\n",
       "228      22        0.91  0.91   0.478098\n",
       "233      22   symmetric  0.91   0.474562\n",
       "\n",
       "[270 rows x 4 columns]"
      ]
     },
     "execution_count": 14,
     "metadata": {},
     "output_type": "execute_result"
    }
   ],
   "source": [
    "pd.DataFrame(model_results).sort_values(by=['Coherence'], ascending=False)"
   ]
  },
  {
   "cell_type": "code",
   "execution_count": null,
   "metadata": {},
   "outputs": [],
   "source": []
  }
 ],
 "metadata": {
  "kernelspec": {
   "display_name": "Python 3",
   "language": "python",
   "name": "python3"
  },
  "language_info": {
   "codemirror_mode": {
    "name": "ipython",
    "version": 3
   },
   "file_extension": ".py",
   "mimetype": "text/x-python",
   "name": "python",
   "nbconvert_exporter": "python",
   "pygments_lexer": "ipython3",
   "version": "3.7.9"
  }
 },
 "nbformat": 4,
 "nbformat_minor": 4
}
