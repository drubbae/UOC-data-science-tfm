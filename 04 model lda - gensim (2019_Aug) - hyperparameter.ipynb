{
 "cells": [
  {
   "cell_type": "markdown",
   "metadata": {},
   "source": [
    "# <span style=\"color:blue\">LDA model (2019_Aug) - with hyperparameter tuning</span>"
   ]
  },
  {
   "cell_type": "code",
   "execution_count": 1,
   "metadata": {},
   "outputs": [],
   "source": [
    "yyyy_MMM = '2019_Aug'"
   ]
  },
  {
   "cell_type": "markdown",
   "metadata": {},
   "source": [
    "### Load packages"
   ]
  },
  {
   "cell_type": "code",
   "execution_count": 2,
   "metadata": {},
   "outputs": [
    {
     "name": "stderr",
     "output_type": "stream",
     "text": [
      "C:\\Users\\minio\\anaconda3\\envs\\tfm-py-37\\lib\\site-packages\\botocore\\vendored\\requests\\packages\\urllib3\\_collections.py:1: DeprecationWarning: Using or importing the ABCs from 'collections' instead of from 'collections.abc' is deprecated since Python 3.3,and in 3.9 it will stop working\n",
      "  from collections import Mapping, MutableMapping\n",
      "C:\\Users\\minio\\anaconda3\\envs\\tfm-py-37\\lib\\site-packages\\botocore\\vendored\\requests\\packages\\urllib3\\_collections.py:1: DeprecationWarning: Using or importing the ABCs from 'collections' instead of from 'collections.abc' is deprecated since Python 3.3,and in 3.9 it will stop working\n",
      "  from collections import Mapping, MutableMapping\n",
      "C:\\Users\\minio\\anaconda3\\envs\\tfm-py-37\\lib\\site-packages\\scipy\\sparse\\sparsetools.py:21: DeprecationWarning: `scipy.sparse.sparsetools` is deprecated!\n",
      "scipy.sparse.sparsetools is a private module for scipy.sparse, and should not be used.\n",
      "  _deprecated()\n",
      "C:\\Users\\minio\\anaconda3\\envs\\tfm-py-37\\lib\\site-packages\\gensim\\models\\doc2vec.py:73: DeprecationWarning: Using or importing the ABCs from 'collections' instead of from 'collections.abc' is deprecated since Python 3.3,and in 3.9 it will stop working\n",
      "  from collections import namedtuple, defaultdict, Iterable\n",
      "[nltk_data] Downloading package stopwords to\n",
      "[nltk_data]     C:\\Users\\minio\\AppData\\Roaming\\nltk_data...\n",
      "[nltk_data]   Package stopwords is already up-to-date!\n",
      "[nltk_data] Downloading package averaged_perceptron_tagger to\n",
      "[nltk_data]     C:\\Users\\minio\\AppData\\Roaming\\nltk_data...\n",
      "[nltk_data]   Package averaged_perceptron_tagger is already up-to-\n",
      "[nltk_data]       date!\n"
     ]
    },
    {
     "data": {
      "text/plain": [
       "True"
      ]
     },
     "execution_count": 2,
     "metadata": {},
     "output_type": "execute_result"
    }
   ],
   "source": [
    "import csv, os, re, time\n",
    "import numpy as np\n",
    "from numpy import savetxt\n",
    "import pandas as  pd\n",
    "import matplotlib.pyplot as plt  \n",
    "import pyLDAvis\n",
    "import pyLDAvis.gensim\n",
    "import gensim\n",
    "import gensim.corpora as corpora\n",
    "from gensim.corpora.dictionary import Dictionary\n",
    "from gensim.models import CoherenceModel\n",
    "from gensim.test.utils import datapath\n",
    "from gensim.utils import simple_preprocess\n",
    "from pprint import pprint\n",
    "import nltk\n",
    "nltk.download('stopwords')\n",
    "nltk.download('averaged_perceptron_tagger')"
   ]
  },
  {
   "cell_type": "markdown",
   "metadata": {},
   "source": [
    "### Constants"
   ]
  },
  {
   "cell_type": "code",
   "execution_count": 3,
   "metadata": {},
   "outputs": [
    {
     "name": "stdout",
     "output_type": "stream",
     "text": [
      "D:\\master\\data science\\semestre 4\\M2.979 - tfm\\data\\bins_test\\doc\\2019_Aug\\2019_Aug_28_results.csv\n",
      "D:\\master\\data science\\semestre 4\\M2.979 - tfm\\data\\bins_test\\model_hyperparameter\\2019_Aug\\model\n"
     ]
    },
    {
     "name": "stderr",
     "output_type": "stream",
     "text": [
      "C:\\Users\\minio\\anaconda3\\envs\\tfm-py-37\\lib\\site-packages\\ipykernel\\ipkernel.py:287: DeprecationWarning: `should_run_async` will not call `transform_cell` automatically in the future. Please pass the result to `transformed_cell` argument and any exception that happen during thetransform in `preprocessing_exc_tuple` in IPython 7.17 and above.\n",
      "  and should_run_async(code)\n"
     ]
    }
   ],
   "source": [
    "# for reproducible results\n",
    "random_state = 33\n",
    "# if the test is True, the process runs on a smaller subset of raw data (json files)\n",
    "test = True\n",
    "# if sample > 0, then we take a sample of the entire dataset (for debugging purpose)\n",
    "sample = 0\n",
    "# parameters to build the lda model\n",
    "num_topics = 10\n",
    "alpha = 'asymmetric'\n",
    "eta = 0.91\n",
    "\n",
    "if test:\n",
    "    # path with the documents preprocessed\n",
    "    path_doc = r'D:\\master\\data science\\semestre 4\\M2.979 - tfm\\data\\bins_test\\doc'\n",
    "    # path where store all data/results related to the model\n",
    "    path_model = r'D:\\master\\data science\\semestre 4\\M2.979 - tfm\\data\\bins_test\\model_hyperparameter'\n",
    "    # chunksize to build LDA model\n",
    "    chunksize = 250\n",
    "else:\n",
    "    # path with the documents preprocessed\n",
    "    path_doc = r'D:\\master\\data science\\semestre 4\\M2.979 - tfm\\data\\bins\\doc'\n",
    "    # path where store all data/results related to the model\n",
    "    path_model = r'D:\\master\\data science\\semestre 4\\M2.979 - tfm\\data\\bins\\model_hyperparameter'\n",
    "    # chunksize to build LDA model\n",
    "    chunksize = 5000\n",
    "\n",
    "# path + name of the file that contains the documents preprocessed\n",
    "file_doc = os.path.join(path_doc, yyyy_MMM, yyyy_MMM) + '_28_results.csv'\n",
    "# path + name of the file that contains the model gotten at the end\n",
    "file_model = os.path.join(path_model, yyyy_MMM, 'model')\n",
    "print(file_doc)\n",
    "print(file_model)"
   ]
  },
  {
   "cell_type": "markdown",
   "metadata": {},
   "source": [
    "### Load data preprocessed"
   ]
  },
  {
   "cell_type": "code",
   "execution_count": 4,
   "metadata": {},
   "outputs": [
    {
     "name": "stderr",
     "output_type": "stream",
     "text": [
      "C:\\Users\\minio\\anaconda3\\envs\\tfm-py-37\\lib\\site-packages\\ipykernel\\ipkernel.py:287: DeprecationWarning: `should_run_async` will not call `transform_cell` automatically in the future. Please pass the result to `transformed_cell` argument and any exception that happen during thetransform in `preprocessing_exc_tuple` in IPython 7.17 and above.\n",
      "  and should_run_async(code)\n"
     ]
    },
    {
     "data": {
      "text/plain": [
       "id_doc\n",
       "74241    ['sophie', 'chou', 'pose', 'shutterbug', 'mani...\n",
       "86215    ['francis', 'sunshine', 'mixed', 'hurricane', ...\n",
       "83924    ['permanent', 'mood', 'transcendent', 'nationa...\n",
       "72607    ['love', 'story', 'write', 'torn', 'chapter', ...\n",
       "69966    ['medium', 'calendar', 'credit', 'intro', 'ran...\n",
       "78393                        ['legendary', 'shot', 'star']\n",
       "83982    ['leg', 'day', 'hotshot', 'werker', 'knee', 'l...\n",
       "78212    ['gerald', 'huston', 'gettin', 'number', 'guid...\n",
       "68271    ['barba', 'cabelo', 'david', 'habibi', 'blog',...\n",
       "98718    ['garnier', 'hydra', 'bomb', 'aqua', 'bomb', '...\n",
       "Name: content_preprocessed, dtype: object"
      ]
     },
     "execution_count": 4,
     "metadata": {},
     "output_type": "execute_result"
    }
   ],
   "source": [
    "df = pd.read_csv(file_doc, index_col='id_doc')\n",
    "documents = df.content_preprocessed\n",
    "documents.head(10)"
   ]
  },
  {
   "cell_type": "markdown",
   "metadata": {},
   "source": [
    "### Shuffle"
   ]
  },
  {
   "cell_type": "code",
   "execution_count": 5,
   "metadata": {},
   "outputs": [
    {
     "name": "stderr",
     "output_type": "stream",
     "text": [
      "C:\\Users\\minio\\anaconda3\\envs\\tfm-py-37\\lib\\site-packages\\ipykernel\\ipkernel.py:287: DeprecationWarning: `should_run_async` will not call `transform_cell` automatically in the future. Please pass the result to `transformed_cell` argument and any exception that happen during thetransform in `preprocessing_exc_tuple` in IPython 7.17 and above.\n",
      "  and should_run_async(code)\n"
     ]
    },
    {
     "data": {
      "text/plain": [
       "id_doc\n",
       "111122    ['erie', 'bistrot', 'dans', 'ignoble', 'entre'...\n",
       "83763     ['feel', 'mama', 'special', 'juicy', 'couture'...\n",
       "83949     ['sound', 'card', 'braid', 'hotshot', 'card', ...\n",
       "74127     ['stylish', 'karan', 'wahi', 'kareena', 'kapoo...\n",
       "74034     ['ranbir', 'kapoor', 'snap', 'mumbai', 'today'...\n",
       "86081     ['connie', 'tag', 'repost', 'connie', 'fashion...\n",
       "86001     ['cowgirl', 'rodeo', 'chance', 'inno', 'beukes...\n",
       "89057     ['urvashi', 'walk', 'ramp', 'pink', 'peacock',...\n",
       "86780     ['perfectly', 'flawless', 'exclusively', 'bayo...\n",
       "86216                         ['cassi', 'bagley', 'follow']\n",
       "Name: content_preprocessed, dtype: object"
      ]
     },
     "execution_count": 5,
     "metadata": {},
     "output_type": "execute_result"
    }
   ],
   "source": [
    "documents = documents.sample(frac=1, random_state=random_state)\n",
    "documents.head(10)"
   ]
  },
  {
   "cell_type": "markdown",
   "metadata": {},
   "source": [
    "### Sample"
   ]
  },
  {
   "cell_type": "code",
   "execution_count": 6,
   "metadata": {},
   "outputs": [
    {
     "name": "stderr",
     "output_type": "stream",
     "text": [
      "C:\\Users\\minio\\anaconda3\\envs\\tfm-py-37\\lib\\site-packages\\ipykernel\\ipkernel.py:287: DeprecationWarning: `should_run_async` will not call `transform_cell` automatically in the future. Please pass the result to `transformed_cell` argument and any exception that happen during thetransform in `preprocessing_exc_tuple` in IPython 7.17 and above.\n",
      "  and should_run_async(code)\n"
     ]
    }
   ],
   "source": [
    "if sample > 0:\n",
    "    documents = documents.sample(n=sample, random_state=random_state)\n",
    "    print(documents.head(10))"
   ]
  },
  {
   "cell_type": "markdown",
   "metadata": {},
   "source": [
    "### Plot the number of words appearing in each document  \n",
    "\n",
    "https://neptune.ai/blog/exploratory-data-analysis-natural-language-processing-tools"
   ]
  },
  {
   "cell_type": "code",
   "execution_count": 7,
   "metadata": {},
   "outputs": [
    {
     "name": "stdout",
     "output_type": "stream",
     "text": [
      "(2345,)\n"
     ]
    },
    {
     "name": "stderr",
     "output_type": "stream",
     "text": [
      "C:\\Users\\minio\\anaconda3\\envs\\tfm-py-37\\lib\\site-packages\\ipykernel\\ipkernel.py:287: DeprecationWarning: `should_run_async` will not call `transform_cell` automatically in the future. Please pass the result to `transformed_cell` argument and any exception that happen during thetransform in `preprocessing_exc_tuple` in IPython 7.17 and above.\n",
      "  and should_run_async(code)\n"
     ]
    },
    {
     "data": {
      "text/plain": [
       "<AxesSubplot:>"
      ]
     },
     "execution_count": 7,
     "metadata": {},
     "output_type": "execute_result"
    },
    {
     "data": {
      "image/png": "[encoded data removed]",
      "text/plain": [
       "<Figure size 432x288 with 1 Axes>"
      ]
     },
     "metadata": {
      "needs_background": "light"
     },
     "output_type": "display_data"
    }
   ],
   "source": [
    "print(documents.shape)\n",
    "\n",
    "documents.str.split().\\\n",
    "    map(lambda x: len(x)).\\\n",
    "    hist()"
   ]
  },
  {
   "cell_type": "markdown",
   "metadata": {},
   "source": [
    "### Remove words that appear only once"
   ]
  },
  {
   "cell_type": "code",
   "execution_count": 8,
   "metadata": {},
   "outputs": [
    {
     "name": "stderr",
     "output_type": "stream",
     "text": [
      "C:\\Users\\minio\\anaconda3\\envs\\tfm-py-37\\lib\\site-packages\\ipykernel\\ipkernel.py:287: DeprecationWarning: `should_run_async` will not call `transform_cell` automatically in the future. Please pass the result to `transformed_cell` argument and any exception that happen during thetransform in `preprocessing_exc_tuple` in IPython 7.17 and above.\n",
      "  and should_run_async(code)\n"
     ]
    }
   ],
   "source": [
    "####################### PENDING"
   ]
  },
  {
   "cell_type": "markdown",
   "metadata": {},
   "source": [
    "### Tokenize words and Clean-up text"
   ]
  },
  {
   "cell_type": "code",
   "execution_count": 9,
   "metadata": {},
   "outputs": [
    {
     "name": "stderr",
     "output_type": "stream",
     "text": [
      "C:\\Users\\minio\\anaconda3\\envs\\tfm-py-37\\lib\\site-packages\\ipykernel\\ipkernel.py:287: DeprecationWarning: `should_run_async` will not call `transform_cell` automatically in the future. Please pass the result to `transformed_cell` argument and any exception that happen during thetransform in `preprocessing_exc_tuple` in IPython 7.17 and above.\n",
      "  and should_run_async(code)\n"
     ]
    }
   ],
   "source": [
    "# https://www.machinelearningplus.com/nlp/topic-modeling-gensim-python/#3importpackages\n",
    "def sent_to_words(sentences):\n",
    "    for sentence in sentences:\n",
    "        yield(gensim.utils.simple_preprocess(str(sentence), deacc=True))  # deacc=True removes punctuations"
   ]
  },
  {
   "cell_type": "markdown",
   "metadata": {},
   "source": [
    "### Compute bigrams & trigrams  \n",
    "\n",
    "https://radimrehurek.com/gensim/auto_examples/tutorials/run_lda.html#pre-process-and-vectorize-the-documents"
   ]
  },
  {
   "cell_type": "code",
   "execution_count": 10,
   "metadata": {},
   "outputs": [
    {
     "name": "stderr",
     "output_type": "stream",
     "text": [
      "C:\\Users\\minio\\anaconda3\\envs\\tfm-py-37\\lib\\site-packages\\ipykernel\\ipkernel.py:287: DeprecationWarning: `should_run_async` will not call `transform_cell` automatically in the future. Please pass the result to `transformed_cell` argument and any exception that happen during thetransform in `preprocessing_exc_tuple` in IPython 7.17 and above.\n",
      "  and should_run_async(code)\n"
     ]
    }
   ],
   "source": [
    "from gensim.models import Phrases\n",
    "\n",
    "# Add bigrams and trigrams to docs (only ones that appear min_count times or more).\n",
    "def bi_tri_grams(documents, min_count):\n",
    "    bigram = Phrases(documents, min_count=min_count)\n",
    "    for idx in range(len(documents)):\n",
    "        for token in bigram[documents[idx]]:\n",
    "            if '_' in token:\n",
    "                # Token is a bigram, add to document.\n",
    "                documents[idx].append(token)"
   ]
  },
  {
   "cell_type": "markdown",
   "metadata": {},
   "source": [
    "### Categorizing and tagging words"
   ]
  },
  {
   "cell_type": "code",
   "execution_count": 11,
   "metadata": {},
   "outputs": [
    {
     "name": "stderr",
     "output_type": "stream",
     "text": [
      "C:\\Users\\minio\\anaconda3\\envs\\tfm-py-37\\lib\\site-packages\\ipykernel\\ipkernel.py:287: DeprecationWarning: `should_run_async` will not call `transform_cell` automatically in the future. Please pass the result to `transformed_cell` argument and any exception that happen during thetransform in `preprocessing_exc_tuple` in IPython 7.17 and above.\n",
      "  and should_run_async(code)\n"
     ]
    }
   ],
   "source": [
    "# function to remove accented characters\n",
    "def tag_words(text):\n",
    "    tags = nltk.pos_tag(text)\n",
    "    nouns = [word for word, pos in tags if (pos == 'NN' or pos == 'NNP' or pos == 'NNS' or pos == 'NNPS')]\n",
    "    return nouns"
   ]
  },
  {
   "cell_type": "markdown",
   "metadata": {},
   "source": [
    "### Dictionary with the entire dataset"
   ]
  },
  {
   "cell_type": "code",
   "execution_count": 12,
   "metadata": {},
   "outputs": [
    {
     "name": "stderr",
     "output_type": "stream",
     "text": [
      "C:\\Users\\minio\\anaconda3\\envs\\tfm-py-37\\lib\\site-packages\\ipykernel\\ipkernel.py:287: DeprecationWarning: `should_run_async` will not call `transform_cell` automatically in the future. Please pass the result to `transformed_cell` argument and any exception that happen during thetransform in `preprocessing_exc_tuple` in IPython 7.17 and above.\n",
      "  and should_run_async(code)\n"
     ]
    }
   ],
   "source": [
    "data_words = list(sent_to_words(documents))\n",
    "# Compute bigrams & trigrams\n",
    "bi_tri_grams(data_words, 250)\n",
    "# Categorizing and tagging words\n",
    "data_words = list(map(tag_words, data_words))\n",
    "# Create Dictionary\n",
    "id2word = Dictionary(data_words)\n",
    "# Create Corpus\n",
    "texts = data_words\n",
    "# Term Document Frequency\n",
    "corpus_total = [id2word.doc2bow(text) for text in texts]"
   ]
  },
  {
   "cell_type": "markdown",
   "metadata": {},
   "source": [
    "### Build LDA model"
   ]
  },
  {
   "cell_type": "code",
   "execution_count": 13,
   "metadata": {},
   "outputs": [
    {
     "name": "stderr",
     "output_type": "stream",
     "text": [
      "C:\\Users\\minio\\anaconda3\\envs\\tfm-py-37\\lib\\site-packages\\ipykernel\\ipkernel.py:287: DeprecationWarning: `should_run_async` will not call `transform_cell` automatically in the future. Please pass the result to `transformed_cell` argument and any exception that happen during thetransform in `preprocessing_exc_tuple` in IPython 7.17 and above.\n",
      "  and should_run_async(code)\n"
     ]
    },
    {
     "name": "stdout",
     "output_type": "stream",
     "text": [
      "time elapsed - 00:00:23.74\n"
     ]
    }
   ],
   "source": [
    "perplexity_score = []\n",
    "coherence_score = []\n",
    "indixes = []\n",
    "\n",
    "index = 0\n",
    "chunk_size = 250\n",
    "documents_sample = documents[index:chunk_size-1]\n",
    "\n",
    "time_start = time.time()\n",
    "\n",
    "data_words = list(sent_to_words(documents_sample))\n",
    "# Compute bigrams & trigrams\n",
    "bi_tri_grams(data_words, 250)\n",
    "# Categorizing and tagging words\n",
    "data_words = list(map(tag_words, data_words))\n",
    "# # Create Dictionary\n",
    "# id2word = Dictionary(data_words)\n",
    "# Create Corpus\n",
    "texts = data_words\n",
    "# Term Document Frequency\n",
    "corpus = [id2word.doc2bow(text) for text in texts]\n",
    "# Build LDA Model\n",
    "lda_model = gensim.models.LdaMulticore(corpus=corpus\n",
    "                                       ,id2word=id2word\n",
    "                                       ,num_topics=num_topics\n",
    "                                       ,random_state=random_state\n",
    "                                       ,chunksize=chunksize\n",
    "                                       ,passes=50\n",
    "                                       ,per_word_topics=True\n",
    "                                       ,alpha=alpha\n",
    "                                       ,eta=eta)\n",
    "\n",
    "indixes.append(index)\n",
    "\n",
    "# Evaluate LDA Model\n",
    "# Compute Perplexity Score\n",
    "perplexity = lda_model.log_perplexity(corpus)\n",
    "perplexity_score.append(perplexity)\n",
    "\n",
    "# Evaluate LDA Model\n",
    "# Compute Coherence Score\n",
    "coherence_lda_model = CoherenceModel(model=lda_model, texts=data_words, dictionary=id2word, coherence='c_v')\n",
    "coherence = coherence_lda_model.get_coherence()\n",
    "coherence_score.append(coherence)\n",
    "\n",
    "# Save LDA Model\n",
    "temp_file = datapath(file_model)\n",
    "lda_model.save(temp_file)\n",
    "temp_file = datapath(file_model + '_' + str(index).zfill(5))\n",
    "lda_model.save(temp_file)\n",
    "\n",
    "time_end = time.time()\n",
    "hour, rem = divmod(time_end - time_start, 3600)\n",
    "minute, second = divmod(rem, 60)\n",
    "print('time elapsed - {:0>2}:{:0>2}:{:05.2f}'.format(int(hour), int(minute), second))"
   ]
  },
  {
   "cell_type": "markdown",
   "metadata": {},
   "source": [
    "### Incremental learning"
   ]
  },
  {
   "cell_type": "code",
   "execution_count": 14,
   "metadata": {},
   "outputs": [
    {
     "name": "stdout",
     "output_type": "stream",
     "text": [
      "0  -----  250  -----  499\n"
     ]
    },
    {
     "name": "stderr",
     "output_type": "stream",
     "text": [
      "C:\\Users\\minio\\anaconda3\\envs\\tfm-py-37\\lib\\site-packages\\ipykernel\\ipkernel.py:287: DeprecationWarning: `should_run_async` will not call `transform_cell` automatically in the future. Please pass the result to `transformed_cell` argument and any exception that happen during thetransform in `preprocessing_exc_tuple` in IPython 7.17 and above.\n",
      "  and should_run_async(code)\n"
     ]
    },
    {
     "name": "stdout",
     "output_type": "stream",
     "text": [
      "time elapsed - 00:00:23.69\n",
      "1  -----  500  -----  749\n"
     ]
    },
    {
     "name": "stderr",
     "output_type": "stream",
     "text": [
      "C:\\Users\\minio\\anaconda3\\envs\\tfm-py-37\\lib\\site-packages\\gensim\\topic_coherence\\direct_confirmation_measure.py:204: RuntimeWarning: divide by zero encountered in double_scalars\n",
      "  m_lr_i = np.log(numerator / denominator)\n",
      "C:\\Users\\minio\\anaconda3\\envs\\tfm-py-37\\lib\\site-packages\\gensim\\topic_coherence\\indirect_confirmation_measure.py:323: RuntimeWarning: invalid value encountered in double_scalars\n",
      "  return cv1.T.dot(cv2)[0, 0] / (_magnitude(cv1) * _magnitude(cv2))\n"
     ]
    },
    {
     "name": "stdout",
     "output_type": "stream",
     "text": [
      "time elapsed - 00:00:28.24\n",
      "2  -----  750  -----  999\n"
     ]
    },
    {
     "name": "stderr",
     "output_type": "stream",
     "text": [
      "C:\\Users\\minio\\anaconda3\\envs\\tfm-py-37\\lib\\site-packages\\gensim\\topic_coherence\\direct_confirmation_measure.py:204: RuntimeWarning: divide by zero encountered in double_scalars\n",
      "  m_lr_i = np.log(numerator / denominator)\n",
      "C:\\Users\\minio\\anaconda3\\envs\\tfm-py-37\\lib\\site-packages\\gensim\\topic_coherence\\indirect_confirmation_measure.py:323: RuntimeWarning: invalid value encountered in double_scalars\n",
      "  return cv1.T.dot(cv2)[0, 0] / (_magnitude(cv1) * _magnitude(cv2))\n"
     ]
    },
    {
     "name": "stdout",
     "output_type": "stream",
     "text": [
      "time elapsed - 00:00:23.95\n",
      "3  -----  1000  -----  1249\n",
      "time elapsed - 00:00:26.01\n",
      "4  -----  1250  -----  1499\n"
     ]
    },
    {
     "name": "stderr",
     "output_type": "stream",
     "text": [
      "C:\\Users\\minio\\anaconda3\\envs\\tfm-py-37\\lib\\site-packages\\gensim\\topic_coherence\\direct_confirmation_measure.py:204: RuntimeWarning: divide by zero encountered in double_scalars\n",
      "  m_lr_i = np.log(numerator / denominator)\n",
      "C:\\Users\\minio\\anaconda3\\envs\\tfm-py-37\\lib\\site-packages\\gensim\\topic_coherence\\indirect_confirmation_measure.py:323: RuntimeWarning: invalid value encountered in double_scalars\n",
      "  return cv1.T.dot(cv2)[0, 0] / (_magnitude(cv1) * _magnitude(cv2))\n"
     ]
    },
    {
     "name": "stdout",
     "output_type": "stream",
     "text": [
      "time elapsed - 00:00:24.02\n",
      "5  -----  1500  -----  1749\n"
     ]
    },
    {
     "name": "stderr",
     "output_type": "stream",
     "text": [
      "C:\\Users\\minio\\anaconda3\\envs\\tfm-py-37\\lib\\site-packages\\gensim\\topic_coherence\\direct_confirmation_measure.py:204: RuntimeWarning: divide by zero encountered in double_scalars\n",
      "  m_lr_i = np.log(numerator / denominator)\n",
      "C:\\Users\\minio\\anaconda3\\envs\\tfm-py-37\\lib\\site-packages\\gensim\\topic_coherence\\indirect_confirmation_measure.py:323: RuntimeWarning: invalid value encountered in double_scalars\n",
      "  return cv1.T.dot(cv2)[0, 0] / (_magnitude(cv1) * _magnitude(cv2))\n"
     ]
    },
    {
     "name": "stdout",
     "output_type": "stream",
     "text": [
      "time elapsed - 00:00:25.78\n",
      "6  -----  1750  -----  1999\n",
      "time elapsed - 00:00:23.45\n",
      "7  -----  2000  -----  2249\n",
      "time elapsed - 00:00:22.46\n",
      "8  -----  2250  -----  2499\n",
      "time elapsed - 00:00:22.40\n"
     ]
    }
   ],
   "source": [
    "documents_len = len(documents)\n",
    "\n",
    "while index+(index+1)*chunk_size < documents_len:\n",
    "    \n",
    "    time_start = time.time()\n",
    "    \n",
    "    print(index, ' ----- ', (index+1)*chunk_size, ' ----- ', ((index+1)*chunk_size)+chunk_size-1)\n",
    "    documents_sample = documents[(index+1)*chunk_size:((index+1)*chunk_size)+chunk_size-1]\n",
    "    \n",
    "    data_words = list(sent_to_words(documents_sample))\n",
    "    # Compute bigrams & trigrams\n",
    "    bi_tri_grams(data_words, 250)\n",
    "    # Categorizing and tagging words\n",
    "    data_words = list(map(tag_words, data_words))\n",
    "    # Create Corpus\n",
    "    texts = data_words\n",
    "    # Term Document Frequency\n",
    "    corpus = [id2word.doc2bow(text) for text in texts]\n",
    "    # Load LDA Model\n",
    "    temp_file = datapath(file_model)\n",
    "    lda_model = gensim.models.ldamodel.LdaModel.load(temp_file)\n",
    "    # Update LDA Model\n",
    "    lda_model.update(corpus)\n",
    "    \n",
    "    index = index + 1\n",
    "    indixes.append(index)\n",
    "    \n",
    "    # Evaluate LDA Model\n",
    "    # Compute Perplexity Score\n",
    "    perplexity = lda_model.log_perplexity(corpus)\n",
    "    perplexity_score.append(perplexity)\n",
    "\n",
    "    # Evaluate LDA Model\n",
    "    # Compute Coherence Score\n",
    "    coherence_lda_model = CoherenceModel(model=lda_model, texts=data_words, dictionary=id2word, coherence='c_v')\n",
    "    coherence = coherence_lda_model.get_coherence()\n",
    "    coherence_score.append(coherence)\n",
    "    \n",
    "    # Save LDA Model\n",
    "    temp_file = datapath(file_model)\n",
    "    lda_model.save(temp_file)\n",
    "    temp_file = datapath(file_model + '_' + str(index).zfill(5))\n",
    "    lda_model.save(temp_file)\n",
    "    \n",
    "    time_end = time.time()\n",
    "    hour, rem = divmod(time_end - time_start, 3600)\n",
    "    minute, second = divmod(rem, 60)\n",
    "    print('time elapsed - {:0>2}:{:0>2}:{:05.2f}'.format(int(hour), int(minute), second))"
   ]
  },
  {
   "cell_type": "markdown",
   "metadata": {},
   "source": [
    "### Topics in LDA model"
   ]
  },
  {
   "cell_type": "code",
   "execution_count": 15,
   "metadata": {},
   "outputs": [
    {
     "name": "stdout",
     "output_type": "stream",
     "text": [
      "[(0,\n",
      "  '0.034*\"star\" + 0.007*\"friend\" + 0.005*\"year\" + 0.005*\"today\" + 0.005*\"feel\" '\n",
      "  '+ 0.005*\"hotshot\" + 0.005*\"song\" + 0.005*\"watch\" + 0.005*\"meek\" + '\n",
      "  '0.005*\"mill\"'),\n",
      " (1,\n",
      "  '0.015*\"picture\" + 0.013*\"cire\" + 0.011*\"kanye\" + 0.011*\"moment\" + '\n",
      "  '0.011*\"glan\" + 0.011*\"navman\" + 0.009*\"account\" + 0.009*\"today\" + '\n",
      "  '0.007*\"graphy\" + 0.007*\"join\"'),\n",
      " (2,\n",
      "  '0.044*\"book\" + 0.027*\"romance\" + 0.012*\"life\" + 0.010*\"time\" + '\n",
      "  '0.010*\"release\" + 0.009*\"author\" + 0.009*\"woman\" + 0.007*\"reader\" + '\n",
      "  '0.007*\"kayla\" + 0.007*\"press\"'),\n",
      " (3,\n",
      "  '0.074*\"beauty\" + 0.050*\"blogger\" + 0.034*\"news\" + 0.023*\"junkie\" + '\n",
      "  '0.015*\"life\" + 0.015*\"launch\" + 0.010*\"foil\" + 0.010*\"eyeshadow\" + '\n",
      "  '0.008*\"celeste\" + 0.008*\"blog\"'),\n",
      " (4,\n",
      "  '0.010*\"follow\" + 0.007*\"connie\" + 0.007*\"circle\" + 0.007*\"jenna\" + '\n",
      "  '0.007*\"moody\" + 0.003*\"field\" + 0.003*\"mansion\" + 0.003*\"quantity\" + '\n",
      "  '0.003*\"michi\" + 0.003*\"quality\"'),\n",
      " (5,\n",
      "  '0.033*\"chyna\" + 0.017*\"blac\" + 0.017*\"treasure\" + 0.011*\"money\" + '\n",
      "  '0.008*\"life\" + 0.006*\"james\" + 0.006*\"challenge\" + 0.006*\"report\" + '\n",
      "  '0.006*\"medium\" + 0.006*\"word\"'),\n",
      " (6,\n",
      "  '0.018*\"masculina\" + 0.015*\"fashion\" + 0.012*\"moda\" + 0.012*\"style\" + '\n",
      "  '0.012*\"street\" + 0.012*\"inspira\" + 0.012*\"tver\" + 0.009*\"crush\" + '\n",
      "  '0.009*\"estilo\" + 0.009*\"tipo\"'),\n",
      " (7,\n",
      "  '0.025*\"fitness\" + 0.011*\"jones\" + 0.007*\"motivation\" + 0.006*\"habit\" + '\n",
      "  '0.006*\"breezy\" + 0.006*\"justin\" + 0.006*\"male\" + 0.006*\"journey\" + '\n",
      "  '0.006*\"tour\" + 0.006*\"guy\"'),\n",
      " (8,\n",
      "  '0.086*\"food\" + 0.015*\"dinner\" + 0.015*\"sweet\" + 0.015*\"pic\" + 0.015*\"lunch\" '\n",
      "  '+ 0.015*\"gourmand\" + 0.015*\"tasty\" + 0.015*\"breakfast\" + 0.015*\"ephoto\" + '\n",
      "  '0.015*\"bretagne\"'),\n",
      " (9,\n",
      "  '0.055*\"fashion\" + 0.040*\"style\" + 0.028*\"pride\" + 0.024*\"jones\" + '\n",
      "  '0.024*\"bollywood\" + 0.009*\"matter\" + 0.009*\"ballroom\" + 0.009*\"life\" + '\n",
      "  '0.007*\"beauty\" + 0.007*\"delhi\"')]\n"
     ]
    },
    {
     "name": "stderr",
     "output_type": "stream",
     "text": [
      "C:\\Users\\minio\\anaconda3\\envs\\tfm-py-37\\lib\\site-packages\\ipykernel\\ipkernel.py:287: DeprecationWarning: `should_run_async` will not call `transform_cell` automatically in the future. Please pass the result to `transformed_cell` argument and any exception that happen during thetransform in `preprocessing_exc_tuple` in IPython 7.17 and above.\n",
      "  and should_run_async(code)\n"
     ]
    }
   ],
   "source": [
    "# Print the Keyword in the 10 topics\n",
    "pprint(lda_model.print_topics())\n",
    "doc_lda = lda_model[corpus]"
   ]
  },
  {
   "cell_type": "markdown",
   "metadata": {},
   "source": [
    "### Plot perplexity score progress along incremental learning iterations  \n",
    "\n",
    "Lower the perplexity score represents a better model.  "
   ]
  },
  {
   "cell_type": "code",
   "execution_count": 16,
   "metadata": {},
   "outputs": [
    {
     "name": "stderr",
     "output_type": "stream",
     "text": [
      "C:\\Users\\minio\\anaconda3\\envs\\tfm-py-37\\lib\\site-packages\\ipykernel\\ipkernel.py:287: DeprecationWarning: `should_run_async` will not call `transform_cell` automatically in the future. Please pass the result to `transformed_cell` argument and any exception that happen during thetransform in `preprocessing_exc_tuple` in IPython 7.17 and above.\n",
      "  and should_run_async(code)\n"
     ]
    },
    {
     "data": {
      "image/png": "[encoded data removed]",
      "text/plain": [
       "<Figure size 432x288 with 1 Axes>"
      ]
     },
     "metadata": {
      "needs_background": "light"
     },
     "output_type": "display_data"
    }
   ],
   "source": [
    "plt.title('Perplexity score progress')\n",
    "plt.xlabel('Index')\n",
    "plt.ylabel('Perplexity score')\n",
    "plt.plot(indixes, perplexity_score, 'go', perplexity_score, 'k')\n",
    "plt.show()"
   ]
  },
  {
   "cell_type": "markdown",
   "metadata": {},
   "source": [
    "### Plot coherence score progress along incremental learning iterations  \n",
    "\n",
    "Higher the coherence score represents a more human interpretable model.  "
   ]
  },
  {
   "cell_type": "code",
   "execution_count": 17,
   "metadata": {},
   "outputs": [
    {
     "name": "stderr",
     "output_type": "stream",
     "text": [
      "C:\\Users\\minio\\anaconda3\\envs\\tfm-py-37\\lib\\site-packages\\ipykernel\\ipkernel.py:287: DeprecationWarning: `should_run_async` will not call `transform_cell` automatically in the future. Please pass the result to `transformed_cell` argument and any exception that happen during thetransform in `preprocessing_exc_tuple` in IPython 7.17 and above.\n",
      "  and should_run_async(code)\n"
     ]
    },
    {
     "data": {
      "image/png": "[encoded data removed]",
      "text/plain": [
       "<Figure size 432x288 with 1 Axes>"
      ]
     },
     "metadata": {
      "needs_background": "light"
     },
     "output_type": "display_data"
    }
   ],
   "source": [
    "plt.title('Coherence score progress')\n",
    "plt.xlabel('Index')\n",
    "plt.ylabel('Coherence score')\n",
    "plt.plot(indixes, coherence_score, 'go', coherence_score, 'k') \n",
    "plt.show()"
   ]
  },
  {
   "cell_type": "markdown",
   "metadata": {},
   "source": [
    "### Visualize the topics-keywords"
   ]
  },
  {
   "cell_type": "code",
   "execution_count": 18,
   "metadata": {},
   "outputs": [
    {
     "name": "stderr",
     "output_type": "stream",
     "text": [
      "C:\\Users\\minio\\anaconda3\\envs\\tfm-py-37\\lib\\site-packages\\ipykernel\\ipkernel.py:287: DeprecationWarning: `should_run_async` will not call `transform_cell` automatically in the future. Please pass the result to `transformed_cell` argument and any exception that happen during thetransform in `preprocessing_exc_tuple` in IPython 7.17 and above.\n",
      "  and should_run_async(code)\n"
     ]
    },
    {
     "data": {
      "text/html": [
       "\n",
       "<link rel=\"stylesheet\" type=\"text/css\" href=\"https://cdn.rawgit.com/bmabey/pyLDAvis/files/ldavis.v1.0.0.css\">\n",
       "\n",
       "\n",
       "<div id=\"ldavis_el1353223857383138004052160469\"></div>\n",
       "<script type=\"text/javascript\">\n",
       "\n",
       "var ldavis_el1353223857383138004052160469_data = {\"mdsDat\": {\"x\": [0.2502235890538069, -0.03270728870819137, -0.07566952111185986, -0.03406833188040885, -0.03944083213090179, 0.0006556911974633488, -0.012677971050834404, -0.006628664536600379, -0.0267885022760042, -0.022898168556469232], \"y\": [-0.006513849829257784, -0.21173068651512084, -0.010153394781135968, 0.05984272198497744, 0.0732869487341472, 0.032865485931909494, 0.016908253390984996, 0.01009946132236524, 0.016461223220244722, 0.018933836540885735], \"topics\": [1, 2, 3, 4, 5, 6, 7, 8, 9, 10], \"cluster\": [1, 1, 1, 1, 1, 1, 1, 1, 1, 1], \"Freq\": [27.257358083049933, 16.45360790654307, 15.039675425355128, 9.810150705907365, 9.262126681233775, 7.138275422283222, 4.867515097735653, 4.811486466430218, 3.2769628402425726, 2.0828413712190676]}, \"tinfo\": {\"Term\": [\"food\", \"beauty\", \"fashion\", \"book\", \"blogger\", \"style\", \"news\", \"romance\", \"pride\", \"star\", \"jones\", \"junkie\", \"bollywood\", \"chyna\", \"fitness\", \"launch\", \"sweet\", \"dinner\", \"picture\", \"tasty\", \"breakfast\", \"ephoto\", \"gourmand\", \"lunch\", \"pic\", \"bretagne\", \"wine\", \"blog\", \"life\", \"cire\", \"romance\", \"author\", \"woman\", \"book\", \"reader\", \"kayla\", \"press\", \"amazon\", \"series\", \"heart\", \"adult\", \"security\", \"stefan\", \"hope\", \"link\", \"sale\", \"zara\", \"family\", \"colin\", \"preorder\", \"comedy\", \"fiction\", \"humor\", \"brit\", \"chance\", \"purchase\", \"kindle\", \"blurb\", \"escape\", \"faber\", \"risk\", \"time\", \"release\", \"story\", \"gram\", \"life\", \"year\", \"star\", \"journey\", \"tour\", \"junkie\", \"launch\", \"news\", \"eyeshadow\", \"foil\", \"celeste\", \"notification\", \"hash\", \"sneak\", \"restocks\", \"cream\", \"haul\", \"sugar\", \"jackie\", \"formula\", \"coconut\", \"shade\", \"pill\", \"aina\", \"palette\", \"beauty\", \"housewife\", \"silver\", \"delivers\", \"milk\", \"melt\", \"swatch\", \"indie\", \"size\", \"texture\", \"blogger\", \"lover\", \"info\", \"share\", \"talk\", \"blog\", \"guy\", \"life\", \"introduce\", \"love\", \"pride\", \"ballroom\", \"matter\", \"delhi\", \"fashionistas\", \"celebrity\", \"celeb\", \"file\", \"event\", \"photographer\", \"fashion\", \"keywords\", \"venue\", \"location\", \"jewelry\", \"jasmin\", \"anita\", \"style\", \"beach\", \"pioneer\", \"legend\", \"schomburg\", \"harlem\", \"brooklyn\", \"coney\", \"frankie\", \"paradise\", \"icon\", \"lakme\", \"center\", \"bollywood\", \"jones\", \"house\", \"culture\", \"bikini\", \"day\", \"life\", \"year\", \"blogger\", \"beauty\", \"director\", \"model\", \"shoot\", \"picture\", \"cire\", \"kanye\", \"moment\", \"glan\", \"navman\", \"account\", \"graphy\", \"sohum\", \"gauri\", \"join\", \"mumbai\", \"tiger\", \"content\", \"karan\", \"lisbon\", \"snap\", \"synn\", \"madi\", \"dwivedi\", \"dance\", \"kumar\", \"mar\", \"india\", \"row\", \"billboard\", \"swift\", \"mission\", \"stage\", \"president\", \"today\", \"foto\", \"taylor\", \"follow\", \"people\", \"food\", \"breakfast\", \"tasty\", \"pic\", \"ephoto\", \"lunch\", \"gourmand\", \"bretagne\", \"wine\", \"bordeaux\", \"joseph\", \"yummy\", \"delice\", \"alsace\", \"gourmet\", \"vilaine\", \"haute\", \"jude\", \"peyron\", \"michelin\", \"sweet\", \"dinner\", \"porn\", \"deli\", \"cuisine\", \"pierre\", \"chez\", \"avec\", \"sauce\", \"soja\", \"saintmalo\", \"vinaigrette\", \"restaurant\", \"stag\", \"song\", \"mill\", \"meek\", \"hello\", \"watch\", \"swimwear\", \"swim\", \"collection\", \"track\", \"yesterday\", \"court\", \"favorite\", \"performance\", \"shook\", \"album\", \"photoworks\", \"shut\", \"baby\", \"church\", \"throne\", \"basketball\", \"cole\", \"wire\", \"boon\", \"gabbana\", \"jazzy\", \"fruit\", \"gallery\", \"luca\", \"bleed\", \"star\", \"hotshot\", \"wear\", \"friend\", \"feel\", \"image\", \"roll\", \"today\", \"year\", \"people\", \"feature\", \"video\", \"model\", \"face\", \"release\", \"time\", \"history\", \"culture\", \"morning\", \"night\", \"forget\", \"love\", \"award\", \"habit\", \"breezy\", \"justin\", \"rock\", \"indigo\", \"boom\", \"focus\", \"opinion\", \"transformation\", \"tunnel\", \"physique\", \"advice\", \"lifefitness\", \"cito\", \"loera\", \"olga\", \"wednesday\", \"chris\", \"shoe\", \"bella\", \"sideshow\", \"supplement\", \"lending\", \"blackstone\", \"lab\", \"thread\", \"spread\", \"vision\", \"cook\", \"battle\", \"fitness\", \"motivation\", \"male\", \"jones\", \"model\", \"journey\", \"tour\", \"guy\", \"face\", \"body\", \"spot\", \"foot\", \"tuesday\", \"bos\", \"chyna\", \"blac\", \"treasure\", \"challenge\", \"report\", \"busta\", \"rhyme\", \"derek\", \"wesley\", \"messy\", \"whiskey\", \"neat\", \"tire\", \"argument\", \"blast\", \"boot\", \"behavior\", \"quit\", \"departure\", \"portrayal\", \"blow\", \"response\", \"staff\", \"tax\", \"camp\", \"fill\", \"incident\", \"toni\", \"lebron\", \"taco\", \"money\", \"james\", \"word\", \"medium\", \"life\", \"masculina\", \"moda\", \"inspira\", \"street\", \"tver\", \"estilo\", \"crush\", \"tipo\", \"gossip\", \"desejo\", \"muso\", \"lucas\", \"peri\", \"river\", \"ruben\", \"pronto\", \"fashionista\", \"region\", \"oblast\", \"venezuela\", \"fotos\", \"checkout\", \"gene\", \"hand\", \"blog\", \"model\", \"people\", \"story\", \"style\", \"fashion\", \"fitness\", \"life\", \"connie\", \"circle\", \"jenna\", \"moody\", \"quantity\", \"motivate\", \"quality\", \"mansion\", \"fanpage\", \"xoxo\", \"michi\", \"field\", \"blondie\", \"sherwin\", \"income\", \"diego\", \"poison\", \"promoter\", \"tease\", \"jeff\", \"victoria\", \"bombshell\", \"limit\", \"bryce\", \"outfit\", \"forget\", \"entertainment\", \"inspire\", \"store\", \"morning\", \"follow\", \"party\", \"shoot\", \"model\"], \"Freq\": [16.0, 27.0, 18.0, 25.0, 19.0, 13.0, 11.0, 15.0, 8.0, 8.0, 8.0, 8.0, 8.0, 3.0, 3.0, 5.0, 3.0, 3.0, 3.0, 3.0, 3.0, 3.0, 3.0, 3.0, 3.0, 3.0, 3.0, 4.0, 16.0, 2.0, 15.013525899895395, 4.794269921510958, 4.794181845111986, 24.551922650309685, 4.1128798899174175, 4.1128488807710335, 4.112561720440658, 3.431616761301094, 3.431615458395784, 3.4316068592207363, 2.7502910932298796, 2.75030516460723, 2.7502671197721713, 2.750301255891299, 2.7502921355541274, 2.750327574578566, 2.7502436674765867, 2.750301255891299, 2.749620878738294, 2.0690237953165633, 2.069016108175233, 2.068998128081952, 2.068998128081952, 2.0689858807720354, 2.0690415148287826, 2.068985099028849, 1.3877481588092617, 1.3877304392970427, 1.387722752155712, 1.387721709831464, 1.387721709831464, 5.4755043862104555, 5.475108302996144, 2.7503695281295557, 2.0690429480246237, 6.8382625605883245, 2.7485366009391154, 2.6444878857689598, 2.0690252285124044, 2.069017411080543, 7.933268548326447, 5.107389643500321, 11.32431027285114, 3.411831659163565, 3.411831659163565, 2.8467515776477934, 2.846729870672079, 2.846729870672079, 2.846729870672079, 2.846729870672079, 2.8466798502497808, 2.2815631185503755, 2.2815112105649717, 2.2814862003538225, 1.7163677383882374, 1.7163526378833927, 1.7163524805864672, 1.7163521659926162, 1.7163493346479577, 1.7163806367361256, 24.895646135624958, 1.1512069635497015, 1.1511937506079624, 1.1511935146625742, 1.1511931214202606, 1.1511928068264097, 1.1511917057479315, 1.1512075927374035, 1.1511999638365185, 1.1512010649149966, 16.97605424037395, 2.846726095545868, 2.846707534508663, 2.8467367917367996, 2.846678591874377, 2.846743083613818, 2.281444516668574, 5.107420159103862, 1.716359873541964, 2.2836842675902878, 8.558981442426871, 2.6882325414917747, 2.688239155357683, 2.1545719226170243, 2.1545584073258204, 2.1545448920346164, 2.1545448920346164, 2.15456545253081, 2.1545551003928662, 2.1545460422721656, 16.971764241626747, 1.620838982556363, 1.620832224910761, 1.62085968683225, 1.6207972864452014, 1.6207701120830993, 1.6207668051501452, 12.295166371575707, 1.0871381053673876, 1.0871319228405603, 1.0871319228405603, 1.0871254527543455, 1.0871254527543455, 1.0871250933051113, 1.0871115061240604, 1.0870979908328562, 1.0870979908328562, 1.0871389680455497, 1.0871250214152646, 1.0871254527543455, 7.4916599171179845, 7.4923339563218665, 2.1545320956418803, 2.154422391735617, 1.620200888275896, 1.08714213119881, 2.688206661146916, 1.6206155489124139, 2.154545754712778, 2.1545888886208764, 1.1392299916096402, 1.08794981362795, 1.087231634058114, 3.056609964131108, 2.622219903445343, 2.18786960772654, 2.18777225858572, 2.1876563399556113, 2.187650525267046, 1.7534909888473058, 1.3191321586662539, 1.319129157536672, 1.3191280321130785, 1.3191321586662539, 0.8848042776340176, 0.8847801748120613, 0.8847699522144222, 0.8847695770732245, 0.884769483287925, 0.8847873962801183, 0.8847689205761283, 0.8847689205761283, 0.8847655443053485, 0.8847752041911909, 0.8847640437405574, 0.8847632934581618, 0.8847644188817552, 0.8847397533480023, 0.8847397533480023, 0.8847397533480023, 0.8847399409186011, 0.8845384900954019, 0.8845384900954019, 1.7530213120677054, 1.3190065801503026, 0.8850158572695564, 0.8849080041751993, 0.8847734222705015, 16.292956697845973, 2.937013059003995, 2.937013059003995, 2.937013059003995, 2.937013059003995, 2.937013059003995, 2.937013059003995, 2.9369751612409605, 2.936936909293225, 1.2675211445663075, 1.2674998049380568, 0.850182831784521, 0.850161934887147, 0.85015148643846, 0.8501776961063527, 0.8501493613302524, 0.8501493613302524, 0.8501397983433185, 0.8501397983433185, 0.8501508666152328, 2.937022621990929, 2.9370236845450326, 0.43280259238872343, 0.43279727961820463, 0.4327965712488021, 0.43279130275137095, 0.4327912142051956, 0.43279099283975736, 0.432786521257904, 0.432786521257904, 0.4327901959241795, 0.432786521257904, 0.43279139129754624, 0.4327967483411527, 0.7300507237923576, 0.7300380307615209, 0.7300380307615209, 0.7300312747934949, 0.730038576698331, 0.7297758446084319, 0.7297361277054913, 0.7291669203387774, 0.3716586647451191, 0.3716529324086122, 0.3716520452612957, 0.3716494179403967, 0.37164955442459924, 0.3716447092354089, 0.3716677409445883, 0.3716432761512822, 0.3716419454303073, 0.3716520452612957, 0.37163972756201596, 0.37163972756201596, 0.37163822623578796, 0.3716432761512822, 0.3716374073305727, 0.3716374073305727, 0.3716374073305727, 0.37163737320952206, 0.37163737320952206, 0.37163611073064856, 0.37163611073064856, 0.3716360766095979, 5.052448095027519, 0.7301033384524387, 0.7298616931718328, 1.088804500097391, 0.7302527886542255, 0.7299909437116429, 0.37164037586197807, 0.7304807172724757, 0.7311675740217833, 0.3767379243428314, 0.37400864974453896, 0.37314760503173316, 0.37209592600902264, 0.37206272622675357, 0.37205658443763906, 0.37197029230058, 0.3719442238178939, 0.3718896983789772, 0.37187502632720354, 0.37184827542350474, 0.3718284852141357, 0.3718157580622484, 0.37181203886772907, 0.5616292775442342, 0.5616174114831982, 0.5616116413201846, 0.28590834323949865, 0.2859034106807935, 0.2859042482851019, 0.2859042482851019, 0.2859042482851019, 0.2859042482851019, 0.2859042482851019, 0.2859042482851019, 0.2859042482851019, 0.2859042482851019, 0.2859042482851019, 0.28589994392962803, 0.28589994392962803, 0.28589994392962803, 0.2859066214973091, 0.2859034106807935, 0.28589871078995177, 0.28589871078995177, 0.28589871078995177, 0.28589871078995177, 0.28589871078995177, 0.28589871078995177, 0.28589871078995177, 0.28589871078995177, 0.28590168893860396, 0.2858976870513526, 0.2858976870513526, 2.482536507667106, 0.6986651116215666, 0.5616114551858938, 1.1126820324188702, 0.5615339302537921, 0.5616073136979244, 0.5616015435349109, 0.5615907477460467, 0.5615013102193362, 0.3501963585206305, 0.3432244427255429, 0.28591392726822146, 0.2859042017515292, 0.28590380621616135, 3.3055847408080536, 1.6578694387532398, 1.65786355101724, 0.559368774450365, 0.5593212585809303, 0.5590082886141979, 0.5590082886141979, 0.2847694132175825, 0.2847694132175825, 0.2847694132175825, 0.2847694132175825, 0.2847694132175825, 0.28476982719901994, 0.28476982719901994, 0.28476982719901994, 0.28476982719901994, 0.28476982719901994, 0.28476982719901994, 0.28476982719901994, 0.28476982719901994, 0.28476982719901994, 0.28476982719901994, 0.28476982719901994, 0.28476982719901994, 0.28476982719901994, 0.28476982719901994, 0.28476982719901994, 0.28476982719901994, 0.28476676833617637, 0.28476676833617637, 1.1085509376584313, 0.5594101265961753, 0.5591230074703165, 0.5593012034801814, 0.8338772897565904, 1.2359690655589342, 0.8264998279769858, 0.826491933358492, 0.8264968831589762, 0.8264697532398666, 0.6217678720533608, 0.6217678720533608, 0.6217678720533608, 0.6217653031695651, 0.21229869712711485, 0.2122964258579053, 0.21229365334307715, 0.21229352803167248, 0.21229352803167248, 0.2122934183841934, 0.21229254120436075, 0.21229254120436075, 0.21229254120436075, 0.21229254120436075, 0.21229431122795162, 0.21228849991156037, 0.21228849991156037, 0.21228849991156037, 0.21229365334307715, 0.6217622330401509, 0.2119970099203878, 0.21216649359519502, 0.21226641377648844, 0.8264979483059158, 1.031212172665781, 0.21229106879535597, 0.21223311227069916, 0.2878501694952575, 0.2878485765337828, 0.2878311933416907, 0.28782629498515616, 0.14653570966036, 0.14653570966036, 0.14653570966036, 0.14653676499733695, 0.14653465432338303, 0.14653465432338303, 0.14653570966036, 0.146537501742019, 0.1465327626816319, 0.14653092081992683, 0.14653092081992683, 0.14652716740445218, 0.14652716740445218, 0.14652716740445218, 0.14652460871008352, 0.14649812572556745, 0.14635991640562307, 0.1463562028141853, 0.1463562028141853, 0.1463562028141853, 0.1463553465973927, 0.146463946745927, 0.1464499585529777, 0.14653534128801898, 0.14653237439727246, 0.14646339916542006, 0.4260039747322452, 0.14653111994011117, 0.14647566496877487, 0.14645280597161364], \"Total\": [16.0, 27.0, 18.0, 25.0, 19.0, 13.0, 11.0, 15.0, 8.0, 8.0, 8.0, 8.0, 8.0, 3.0, 3.0, 5.0, 3.0, 3.0, 3.0, 3.0, 3.0, 3.0, 3.0, 3.0, 3.0, 3.0, 3.0, 4.0, 16.0, 2.0, 15.132154398922696, 4.912908088833566, 4.912882152209194, 25.204088556463475, 4.231508056275832, 4.231478883515455, 4.2313579826379755, 3.550251782302113, 3.5502601835054035, 3.5502526863814716, 2.868920034340813, 2.8689351577225537, 2.868902136447752, 2.8689387888424123, 2.8689293916443326, 2.8689675108378827, 2.868905500147063, 2.868988129700719, 2.8685976287156176, 2.187652378620162, 2.187644306231159, 2.187626453013637, 2.187626453013637, 2.1876192151259266, 2.1876802820612973, 2.187632459800184, 1.5063765761157621, 1.5063589177294694, 1.506350830479184, 1.506350229099474, 1.506350229099474, 6.386951707954621, 6.38668596488694, 3.3483798428896514, 2.4623048856704566, 16.174854696062454, 5.185932454170593, 8.24442155712902, 2.7390733797051396, 2.7390700432057375, 8.056193901762095, 5.230315205433177, 11.72187029115517, 3.5347566993576254, 3.5347566993576254, 2.969676951473869, 2.9696552444981545, 2.9696552444981545, 2.9696552444981545, 2.9696552444981545, 2.9696048883112756, 2.4044884129473028, 2.404437759385102, 2.4044371521821826, 1.8392928724435162, 1.8392779716925571, 1.8392780743309713, 1.8392783950970113, 1.8392772347419057, 1.8393121658419849, 27.426773164828568, 1.274132673008725, 1.2741187854706082, 1.2741186944310117, 1.2741184505651815, 1.2741183147643933, 1.274118237138384, 1.2741418832231735, 1.2741346108339153, 1.2741367985641203, 19.91505298425425, 3.3869907022263592, 3.5032665198621276, 3.9255399796073673, 4.009167914892921, 4.265098940820086, 3.3142241247830992, 16.174854696062454, 2.520499659032879, 5.083576334417614, 8.68308095934132, 2.812323308404237, 2.812359709527965, 2.2786631980717726, 2.2786496827805687, 2.27863616895476, 2.27863616895476, 2.278666682003514, 2.278667771225106, 2.2786625588530973, 18.204642648404633, 1.7449297274417195, 1.7449229697961173, 1.744955034860594, 1.7448884600723211, 1.7448610413952692, 1.7448605095760383, 13.23818159240446, 1.2112294155483434, 1.2112227097443382, 1.2112227097443382, 1.211216103994092, 1.211216103994092, 1.211215875943758, 1.211202288762707, 1.2111886420726028, 1.2111886420726028, 1.211234358092315, 1.2112197604974213, 1.2112216739616417, 8.484284967006802, 8.718910577877796, 2.5532818691819026, 3.071287815971461, 2.103211647692169, 1.2112621221262725, 16.174854696062454, 5.185932454170593, 19.91505298425425, 27.426773164828568, 1.5867017061039896, 2.4678574142798424, 1.7870429820920133, 3.184379407463349, 2.7499891848965845, 2.315639018973192, 2.31563161726255, 2.315598556312723, 2.3155927547117248, 1.8812636484546115, 1.4469014188886145, 1.4469000259194642, 1.4468997997469262, 1.4469061754795536, 1.0125762570489873, 1.0125497950857851, 1.0125389954210229, 1.012538823433908, 1.0125387360463058, 1.0125593743036065, 1.0125385451149835, 1.0125385451149835, 1.0125372906135397, 1.0125512823506586, 1.0125398872913347, 1.0125442280206616, 1.0125547141760285, 1.0125351613949372, 1.0125351613949372, 1.0125351613949372, 1.0125685086923295, 1.0125087641125738, 1.0125088301253333, 2.5980961036740027, 1.8052789149979591, 2.258684745114375, 3.460987999305481, 2.528423473117403, 16.421353122800017, 3.0654094527106373, 3.0654094527106373, 3.0654094527106373, 3.0654094527106373, 3.0654094527106373, 3.0654094527106373, 3.065372122660919, 3.065334131154253, 1.3959173396592606, 1.3958959308253507, 0.9785789833936575, 0.9785578563563115, 0.9785472108042507, 0.9785775655993485, 0.9785464458344572, 0.9785464458344572, 0.9785359898383107, 0.9785359898383107, 0.9785507397061894, 3.746619265850194, 3.7466256441585095, 0.5611983000588228, 0.5611929883545869, 0.5611927438187612, 0.5611874019473155, 0.5611873867751547, 0.5611873298680763, 0.5611822299942862, 0.5611822299942862, 0.5611870878704207, 0.5611822299942862, 0.5611912176090617, 0.5612053050877535, 0.860629371834356, 0.860616163822103, 0.860616163822103, 0.8606103903175732, 0.8606220668095447, 0.8607509137969785, 0.8607831973432412, 0.861085365086547, 0.5022358519273086, 0.5022309096166822, 0.5022301665987154, 0.5022266173373234, 0.502226826126691, 0.502222183058774, 0.5022537653507649, 0.5022218116749628, 0.5022204343563338, 0.5022344411588875, 0.5022178408800301, 0.5022178408800301, 0.5022163505039983, 0.5022236230463897, 0.5022158991873898, 0.5022158991873898, 0.5022158991873898, 0.5022158650663392, 0.5022158650663392, 0.5022151719377325, 0.5022151719377325, 0.5022151398524713, 8.24442155712902, 1.1364568722266157, 1.1364962390762914, 2.1746974715733867, 1.29497664596623, 1.2950614039258384, 0.5022243132120756, 2.5980961036740027, 5.185932454170593, 2.528423473117403, 1.7150718928093498, 1.6002064814240393, 2.4678574142798424, 4.196166337770599, 6.38668596488694, 6.386951707954621, 2.052010258480693, 3.071287815971461, 0.9193716680009391, 1.617725005228582, 0.643650854916769, 5.083576334417614, 2.2507142015252697, 0.6952672129133939, 0.6952608769947689, 0.6952708368566347, 0.4195513003353056, 0.4195447965054885, 0.41954693214833716, 0.41954693214833716, 0.41954693214833716, 0.41954693214833716, 0.41954693214833716, 0.41954693214833716, 0.41954693214833716, 0.41954693214833716, 0.41954693214833716, 0.4195447372042043, 0.4195447372042043, 0.41954473827048716, 0.41955861619761187, 0.4195584780419634, 0.41955233187100727, 0.41955233390679686, 0.41955233390679686, 0.41955233390679686, 0.41955233390679686, 0.41955233390679686, 0.41955233390679686, 0.41955233390679686, 0.4195599806982024, 0.4195565542190039, 0.41955655625479343, 3.9025966151039384, 1.8434518380408746, 1.3765001467102431, 8.718910577877796, 2.4678574142798424, 2.7390733797051396, 2.7390700432057375, 3.3142241247830992, 4.196166337770599, 1.498155726374118, 1.5021423549865403, 1.1007583637572982, 0.6941580836625459, 0.8368912930898131, 3.4393458054414903, 1.7915855128769984, 1.7915893624589296, 0.6930666424631898, 0.6931239971972075, 0.69319358806037, 0.69319358806037, 0.41845336483029194, 0.41845336483029194, 0.41845336483029194, 0.41845336483029194, 0.41845336483029194, 0.4184555227067499, 0.4184555227067499, 0.4184555227067499, 0.4184555227067499, 0.4184555227067499, 0.4184555227067499, 0.4184555227067499, 0.4184555227067499, 0.4184555227067499, 0.4184555227067499, 0.4184555227067499, 0.4184555227067499, 0.4184555227067499, 0.4184555247425395, 0.4184555259055984, 0.4184555259055984, 0.41845143240407084, 0.41845143240407084, 1.8074789829560622, 1.3742959200379532, 1.3741526915326365, 1.8086327135892843, 16.174854696062454, 1.3722352073453636, 0.9627660218572084, 0.9627580819417311, 0.9627680213926925, 0.9627430611132135, 0.7580340059766981, 0.7580340059766981, 0.7580340059766981, 0.7580314370929024, 0.34856503428830654, 0.3485622697686599, 0.3485598098104744, 0.3485596743683539, 0.3485596743683539, 0.34855975914334614, 0.3485606393287247, 0.3485606393287247, 0.3485606393287247, 0.3485606393287247, 0.34856680617686947, 0.34856242957283895, 0.34856242957283895, 0.3485624310382343, 0.3485829183204383, 4.265098940820086, 2.4678574142798424, 2.528423473117403, 3.3483798428896514, 13.23818159240446, 18.204642648404633, 3.9025966151039384, 16.174854696062454, 0.4264653228891297, 0.42646311895909467, 0.4265003211620816, 0.4264957060344096, 0.28515021636817134, 0.28515021636817134, 0.28515021636817134, 0.28515425154926977, 0.28515228391376424, 0.28515228391376424, 0.28515705595613394, 0.28516535442418456, 0.28515674454909945, 0.28515491561384293, 0.28515491561384293, 0.2851688864700305, 0.2851688864700305, 0.2851689029230216, 0.2851701626704212, 0.28528941013253495, 0.28567884806183397, 0.2856826397258404, 0.28568264176162994, 0.28569137691260227, 0.28571220370773115, 0.643650854916769, 0.6437480878645494, 0.8502745067416322, 0.850291770772029, 0.9193716680009391, 3.460987999305481, 1.3525302920914097, 1.7870429820920133, 2.4678574142798424], \"Category\": [\"Default\", \"Default\", \"Default\", \"Default\", \"Default\", \"Default\", \"Default\", \"Default\", \"Default\", \"Default\", \"Default\", \"Default\", \"Default\", \"Default\", \"Default\", \"Default\", \"Default\", \"Default\", \"Default\", \"Default\", \"Default\", \"Default\", \"Default\", \"Default\", \"Default\", \"Default\", \"Default\", \"Default\", \"Default\", \"Default\", \"Topic1\", \"Topic1\", \"Topic1\", \"Topic1\", \"Topic1\", \"Topic1\", \"Topic1\", \"Topic1\", \"Topic1\", \"Topic1\", \"Topic1\", \"Topic1\", \"Topic1\", \"Topic1\", \"Topic1\", \"Topic1\", \"Topic1\", \"Topic1\", \"Topic1\", \"Topic1\", \"Topic1\", \"Topic1\", \"Topic1\", \"Topic1\", \"Topic1\", \"Topic1\", \"Topic1\", \"Topic1\", \"Topic1\", \"Topic1\", \"Topic1\", \"Topic1\", \"Topic1\", \"Topic1\", \"Topic1\", \"Topic1\", \"Topic1\", \"Topic1\", \"Topic1\", \"Topic1\", \"Topic2\", \"Topic2\", \"Topic2\", \"Topic2\", \"Topic2\", \"Topic2\", \"Topic2\", \"Topic2\", \"Topic2\", \"Topic2\", \"Topic2\", \"Topic2\", \"Topic2\", \"Topic2\", \"Topic2\", \"Topic2\", \"Topic2\", \"Topic2\", \"Topic2\", \"Topic2\", \"Topic2\", \"Topic2\", \"Topic2\", \"Topic2\", \"Topic2\", \"Topic2\", \"Topic2\", \"Topic2\", \"Topic2\", \"Topic2\", \"Topic2\", \"Topic2\", \"Topic2\", \"Topic2\", \"Topic2\", \"Topic2\", \"Topic2\", \"Topic2\", \"Topic2\", \"Topic2\", \"Topic3\", \"Topic3\", \"Topic3\", \"Topic3\", \"Topic3\", \"Topic3\", \"Topic3\", \"Topic3\", \"Topic3\", \"Topic3\", \"Topic3\", \"Topic3\", \"Topic3\", \"Topic3\", \"Topic3\", \"Topic3\", \"Topic3\", \"Topic3\", \"Topic3\", \"Topic3\", \"Topic3\", \"Topic3\", \"Topic3\", \"Topic3\", \"Topic3\", \"Topic3\", \"Topic3\", \"Topic3\", \"Topic3\", \"Topic3\", \"Topic3\", \"Topic3\", \"Topic3\", \"Topic3\", \"Topic3\", \"Topic3\", \"Topic3\", \"Topic3\", \"Topic3\", \"Topic3\", \"Topic3\", \"Topic3\", \"Topic3\", \"Topic4\", \"Topic4\", \"Topic4\", \"Topic4\", \"Topic4\", \"Topic4\", \"Topic4\", \"Topic4\", \"Topic4\", \"Topic4\", \"Topic4\", \"Topic4\", \"Topic4\", \"Topic4\", \"Topic4\", \"Topic4\", \"Topic4\", \"Topic4\", \"Topic4\", \"Topic4\", \"Topic4\", \"Topic4\", \"Topic4\", \"Topic4\", \"Topic4\", \"Topic4\", \"Topic4\", \"Topic4\", \"Topic4\", \"Topic4\", \"Topic4\", \"Topic4\", \"Topic4\", \"Topic4\", \"Topic4\", \"Topic5\", \"Topic5\", \"Topic5\", \"Topic5\", \"Topic5\", \"Topic5\", \"Topic5\", \"Topic5\", \"Topic5\", \"Topic5\", \"Topic5\", \"Topic5\", \"Topic5\", \"Topic5\", \"Topic5\", \"Topic5\", \"Topic5\", \"Topic5\", \"Topic5\", \"Topic5\", \"Topic5\", \"Topic5\", \"Topic5\", \"Topic5\", \"Topic5\", \"Topic5\", \"Topic5\", \"Topic5\", \"Topic5\", \"Topic5\", \"Topic5\", \"Topic5\", \"Topic5\", \"Topic5\", \"Topic6\", \"Topic6\", \"Topic6\", \"Topic6\", \"Topic6\", \"Topic6\", \"Topic6\", \"Topic6\", \"Topic6\", \"Topic6\", \"Topic6\", \"Topic6\", \"Topic6\", \"Topic6\", \"Topic6\", \"Topic6\", \"Topic6\", \"Topic6\", \"Topic6\", \"Topic6\", \"Topic6\", \"Topic6\", \"Topic6\", \"Topic6\", \"Topic6\", \"Topic6\", \"Topic6\", \"Topic6\", \"Topic6\", \"Topic6\", \"Topic6\", \"Topic6\", \"Topic6\", \"Topic6\", \"Topic6\", \"Topic6\", \"Topic6\", \"Topic6\", \"Topic6\", \"Topic6\", \"Topic6\", \"Topic6\", \"Topic6\", \"Topic6\", \"Topic6\", \"Topic6\", \"Topic6\", \"Topic6\", \"Topic6\", \"Topic6\", \"Topic6\", \"Topic6\", \"Topic6\", \"Topic7\", \"Topic7\", \"Topic7\", \"Topic7\", \"Topic7\", \"Topic7\", \"Topic7\", \"Topic7\", \"Topic7\", \"Topic7\", \"Topic7\", \"Topic7\", \"Topic7\", \"Topic7\", \"Topic7\", \"Topic7\", \"Topic7\", \"Topic7\", \"Topic7\", \"Topic7\", \"Topic7\", \"Topic7\", \"Topic7\", \"Topic7\", \"Topic7\", \"Topic7\", \"Topic7\", \"Topic7\", \"Topic7\", \"Topic7\", \"Topic7\", \"Topic7\", \"Topic7\", \"Topic7\", \"Topic7\", \"Topic7\", \"Topic7\", \"Topic7\", \"Topic7\", \"Topic7\", \"Topic7\", \"Topic7\", \"Topic7\", \"Topic7\", \"Topic8\", \"Topic8\", \"Topic8\", \"Topic8\", \"Topic8\", \"Topic8\", \"Topic8\", \"Topic8\", \"Topic8\", \"Topic8\", \"Topic8\", \"Topic8\", \"Topic8\", \"Topic8\", \"Topic8\", \"Topic8\", \"Topic8\", \"Topic8\", \"Topic8\", \"Topic8\", \"Topic8\", \"Topic8\", \"Topic8\", \"Topic8\", \"Topic8\", \"Topic8\", \"Topic8\", \"Topic8\", \"Topic8\", \"Topic8\", \"Topic8\", \"Topic8\", \"Topic8\", \"Topic8\", \"Topic8\", \"Topic9\", \"Topic9\", \"Topic9\", \"Topic9\", \"Topic9\", \"Topic9\", \"Topic9\", \"Topic9\", \"Topic9\", \"Topic9\", \"Topic9\", \"Topic9\", \"Topic9\", \"Topic9\", \"Topic9\", \"Topic9\", \"Topic9\", \"Topic9\", \"Topic9\", \"Topic9\", \"Topic9\", \"Topic9\", \"Topic9\", \"Topic9\", \"Topic9\", \"Topic9\", \"Topic9\", \"Topic9\", \"Topic9\", \"Topic9\", \"Topic9\", \"Topic9\", \"Topic10\", \"Topic10\", \"Topic10\", \"Topic10\", \"Topic10\", \"Topic10\", \"Topic10\", \"Topic10\", \"Topic10\", \"Topic10\", \"Topic10\", \"Topic10\", \"Topic10\", \"Topic10\", \"Topic10\", \"Topic10\", \"Topic10\", \"Topic10\", \"Topic10\", \"Topic10\", \"Topic10\", \"Topic10\", \"Topic10\", \"Topic10\", \"Topic10\", \"Topic10\", \"Topic10\", \"Topic10\", \"Topic10\", \"Topic10\", \"Topic10\", \"Topic10\", \"Topic10\", \"Topic10\"], \"logprob\": [30.0, 29.0, 28.0, 27.0, 26.0, 25.0, 24.0, 23.0, 22.0, 21.0, 20.0, 19.0, 18.0, 17.0, 16.0, 15.0, 14.0, 13.0, 12.0, 11.0, 10.0, 9.0, 8.0, 7.0, 6.0, 5.0, 4.0, 3.0, 2.0, 1.0, -3.618299961090088, -4.759799957275391, -4.759799957275391, -3.1263999938964844, -4.913099765777588, -4.913099765777588, -4.9131999015808105, -5.094200134277344, -5.094200134277344, -5.094200134277344, -5.315499782562256, -5.315499782562256, -5.315499782562256, -5.315499782562256, -5.315499782562256, -5.315499782562256, -5.315499782562256, -5.315499782562256, -5.315700054168701, -5.600100040435791, -5.600100040435791, -5.600100040435791, -5.600100040435791, -5.600200176239014, -5.600100040435791, -5.600200176239014, -5.999499797821045, -5.999499797821045, -5.999499797821045, -5.999499797821045, -5.999499797821045, -4.6269001960754395, -4.626999855041504, -5.315499782562256, -5.600100040435791, -4.404699802398682, -5.316100120544434, -5.354700088500977, -5.600100040435791, -5.600100040435791, -3.7513999938964844, -4.191699981689453, -3.3954999446868896, -4.595200061798096, -4.595200061798096, -4.776299953460693, -4.776299953460693, -4.776299953460693, -4.776299953460693, -4.776299953460693, -4.776299953460693, -4.997600078582764, -4.997600078582764, -4.997600078582764, -5.282199859619141, -5.282199859619141, -5.282199859619141, -5.282199859619141, -5.282199859619141, -5.282199859619141, -2.6077001094818115, -5.681600093841553, -5.681600093841553, -5.681600093841553, -5.681600093841553, -5.681600093841553, -5.681600093841553, -5.681600093841553, -5.681600093841553, -5.681600093841553, -2.990600109100342, -4.776299953460693, -4.776299953460693, -4.776299953460693, -4.776299953460693, -4.776299953460693, -4.997600078582764, -4.191699981689453, -5.282199859619141, -4.996600151062012, -3.585599899291992, -4.74370002746582, -4.74370002746582, -4.965000152587891, -4.965000152587891, -4.965000152587891, -4.965000152587891, -4.965000152587891, -4.965000152587891, -4.965000152587891, -2.9010000228881836, -5.249599933624268, -5.249599933624268, -5.249599933624268, -5.24970006942749, -5.24970006942749, -5.24970006942749, -3.223400115966797, -5.64900016784668, -5.64900016784668, -5.64900016784668, -5.64900016784668, -5.64900016784668, -5.64900016784668, -5.649099826812744, -5.649099826812744, -5.649099826812744, -5.64900016784668, -5.64900016784668, -5.64900016784668, -3.7188000679016113, -3.7186999320983887, -4.965000152587891, -4.965099811553955, -5.25, -5.64900016784668, -4.74370002746582, -5.249800205230713, -4.965000152587891, -4.965000152587891, -5.602200031280518, -5.6483001708984375, -5.648900032043457, -4.188000202178955, -4.341300010681152, -4.52239990234375, -4.52239990234375, -4.522500038146973, -4.522500038146973, -4.74370002746582, -5.028299808502197, -5.028299808502197, -5.028299808502197, -5.028299808502197, -5.427700042724609, -5.427700042724609, -5.427700042724609, -5.427700042724609, -5.427700042724609, -5.427700042724609, -5.427700042724609, -5.427700042724609, -5.427700042724609, -5.427700042724609, -5.427700042724609, -5.427700042724609, -5.427700042724609, -5.427800178527832, -5.427800178527832, -5.427800178527832, -5.427800178527832, -5.427999973297119, -5.427999973297119, -4.74399995803833, -5.02839994430542, -5.427499771118164, -5.427599906921387, -5.427700042724609, -2.4570999145507812, -4.170400142669678, -4.170400142669678, -4.170400142669678, -4.170400142669678, -4.170400142669678, -4.170400142669678, -4.170400142669678, -4.170499801635742, -5.010799884796143, -5.010799884796143, -5.410099983215332, -5.410099983215332, -5.410200119018555, -5.410099983215332, -5.410200119018555, -5.410200119018555, -5.410200119018555, -5.410200119018555, -5.410200119018555, -4.170400142669678, -4.170400142669678, -6.085299968719482, -6.085299968719482, -6.085299968719482, -6.085299968719482, -6.085299968719482, -6.085299968719482, -6.085299968719482, -6.085299968719482, -6.085299968719482, -6.085299968719482, -6.085299968719482, -6.085299968719482, -5.302000045776367, -5.302000045776367, -5.302000045776367, -5.302000045776367, -5.302000045776367, -5.3024001121521, -5.3024001121521, -5.303199768066406, -5.977099895477295, -5.977200031280518, -5.977200031280518, -5.977200031280518, -5.977200031280518, -5.977200031280518, -5.977099895477295, -5.977200031280518, -5.977200031280518, -5.977200031280518, -5.977200031280518, -5.977200031280518, -5.977200031280518, -5.977200031280518, -5.977200031280518, -5.977200031280518, -5.977200031280518, -5.977200031280518, -5.977200031280518, -5.977200031280518, -5.977200031280518, -5.977200031280518, -3.367500066757202, -5.3018999099731445, -5.302299976348877, -4.902299880981445, -5.301700115203857, -5.30210018157959, -5.977200031280518, -5.301400184631348, -5.30049991607666, -5.963600158691406, -5.970799922943115, -5.973100185394287, -5.97599983215332, -5.976099967956543, -5.976099967956543, -5.97629976272583, -5.976399898529053, -5.976500034332275, -5.976600170135498, -5.976600170135498, -5.9766998291015625, -5.9766998291015625, -5.9766998291015625, -5.181399822235107, -5.181399822235107, -5.181399822235107, -5.856599807739258, -5.856599807739258, -5.856599807739258, -5.856599807739258, -5.856599807739258, -5.856599807739258, -5.856599807739258, -5.856599807739258, -5.856599807739258, -5.856599807739258, -5.856599807739258, -5.856599807739258, -5.856599807739258, -5.856599807739258, -5.856599807739258, -5.856599807739258, -5.856599807739258, -5.856599807739258, -5.856599807739258, -5.856599807739258, -5.856599807739258, -5.856599807739258, -5.856599807739258, -5.856599807739258, -5.856599807739258, -5.856599807739258, -5.856599807739258, -3.695199966430664, -4.963099956512451, -5.181399822235107, -4.497700214385986, -5.181600093841553, -5.181399822235107, -5.181399822235107, -5.18149995803833, -5.181600093841553, -5.65369987487793, -5.673799991607666, -5.856500148773193, -5.856599807739258, -5.856599807739258, -3.3973000049591064, -4.087399959564209, -4.087399959564209, -5.173799991607666, -5.173900127410889, -5.174499988555908, -5.174499988555908, -5.848999977111816, -5.848999977111816, -5.848999977111816, -5.848999977111816, -5.848999977111816, -5.848999977111816, -5.848999977111816, -5.848999977111816, -5.848999977111816, -5.848999977111816, -5.848999977111816, -5.848999977111816, -5.848999977111816, -5.848999977111816, -5.848999977111816, -5.848999977111816, -5.848999977111816, -5.848999977111816, -5.848999977111816, -5.848999977111816, -5.848999977111816, -5.848999977111816, -5.848999977111816, -4.489799976348877, -5.173799991607666, -5.174300193786621, -5.173999786376953, -4.774600028991699, -3.9969000816345215, -4.399400234222412, -4.399400234222412, -4.399400234222412, -4.399400234222412, -4.684000015258789, -4.684000015258789, -4.684000015258789, -4.684000015258789, -5.758600234985352, -5.758600234985352, -5.758600234985352, -5.758600234985352, -5.758600234985352, -5.758600234985352, -5.758600234985352, -5.758600234985352, -5.758600234985352, -5.758600234985352, -5.758600234985352, -5.758600234985352, -5.758600234985352, -5.758600234985352, -5.758600234985352, -4.684000015258789, -5.760000228881836, -5.759200096130371, -5.758699893951416, -4.399400234222412, -4.178100109100342, -5.758600234985352, -5.758900165557861, -5.000899791717529, -5.000899791717529, -5.000999927520752, -5.000999927520752, -5.67609977722168, -5.67609977722168, -5.67609977722168, -5.67609977722168, -5.67609977722168, -5.67609977722168, -5.67609977722168, -5.67609977722168, -5.67609977722168, -5.67609977722168, -5.67609977722168, -5.676199913024902, -5.676199913024902, -5.676199913024902, -5.676199913024902, -5.676400184631348, -5.677299976348877, -5.677299976348877, -5.677299976348877, -5.677299976348877, -5.677299976348877, -5.676599979400635, -5.676700115203857, -5.67609977722168, -5.67609977722168, -5.676599979400635, -4.60890007019043, -5.67609977722168, -5.676499843597412, -5.676700115203857], \"loglift\": [30.0, 29.0, 28.0, 27.0, 26.0, 25.0, 24.0, 23.0, 22.0, 21.0, 20.0, 19.0, 18.0, 17.0, 16.0, 15.0, 14.0, 13.0, 12.0, 11.0, 10.0, 9.0, 8.0, 7.0, 6.0, 5.0, 4.0, 3.0, 2.0, 1.0, 1.292, 1.2754, 1.2754, 1.2736, 1.2714, 1.2714, 1.2714, 1.2659, 1.2659, 1.2659, 1.2576, 1.2576, 1.2576, 1.2576, 1.2576, 1.2576, 1.2576, 1.2576, 1.2575, 1.2441, 1.2441, 1.2441, 1.2441, 1.2441, 1.2441, 1.2441, 1.2178, 1.2178, 1.2178, 1.2178, 1.2178, 1.1459, 1.1458, 1.1031, 1.1258, 0.4389, 0.665, 0.1628, 1.0193, 1.0193, 1.7892, 1.7808, 1.7701, 1.7692, 1.7692, 1.7624, 1.7624, 1.7624, 1.7624, 1.7624, 1.7623, 1.7521, 1.7521, 1.7521, 1.7355, 1.7355, 1.7355, 1.7355, 1.7355, 1.7355, 1.7078, 1.7032, 1.7032, 1.7032, 1.7032, 1.7032, 1.7032, 1.7032, 1.7032, 1.7032, 1.645, 1.6309, 1.5971, 1.4833, 1.4622, 1.4003, 1.4312, 0.6519, 1.4204, 1.0044, 1.8801, 1.8494, 1.8493, 1.8385, 1.8385, 1.8385, 1.8385, 1.8385, 1.8385, 1.8385, 1.8244, 1.8207, 1.8207, 1.8207, 1.8207, 1.8207, 1.8207, 1.8206, 1.7864, 1.7864, 1.7864, 1.7864, 1.7864, 1.7864, 1.7864, 1.7864, 1.7864, 1.7864, 1.7864, 1.7864, 1.7701, 1.7429, 1.7247, 1.5399, 1.6336, 1.7864, 0.0999, 0.7313, -0.3294, -0.6494, 1.5632, 1.0754, 1.3976, 2.2808, 2.2742, 2.265, 2.265, 2.2649, 2.2649, 2.2514, 2.2293, 2.2293, 2.2293, 2.2293, 2.1869, 2.1869, 2.1869, 2.1869, 2.1869, 2.1869, 2.1869, 2.1869, 2.1869, 2.1869, 2.1869, 2.1869, 2.1868, 2.1868, 2.1868, 2.1868, 2.1868, 2.1866, 2.1866, 1.9283, 2.0079, 1.3848, 0.9579, 1.2717, 2.3714, 2.3364, 2.3364, 2.3364, 2.3364, 2.3364, 2.3364, 2.3364, 2.3364, 2.2827, 2.2827, 2.2386, 2.2386, 2.2386, 2.2386, 2.2386, 2.2386, 2.2386, 2.2386, 2.2386, 2.1358, 2.1358, 2.1194, 2.1194, 2.1194, 2.1194, 2.1194, 2.1194, 2.1194, 2.1194, 2.1194, 2.1194, 2.1194, 2.1194, 2.4751, 2.4751, 2.4751, 2.4751, 2.4751, 2.4746, 2.4745, 2.4734, 2.3386, 2.3386, 2.3386, 2.3386, 2.3386, 2.3386, 2.3386, 2.3386, 2.3386, 2.3386, 2.3386, 2.3386, 2.3386, 2.3386, 2.3386, 2.3386, 2.3386, 2.3386, 2.3386, 2.3386, 2.3386, 2.3386, 2.15, 2.1972, 2.1968, 1.9479, 2.0668, 2.0664, 2.3386, 1.3709, 0.6806, 0.7359, 1.1168, 1.1838, 0.7477, 0.2168, -0.2032, -0.2035, 0.9319, 0.5284, 1.7346, 1.1694, 2.091, 0.0243, 0.8391, 2.8091, 2.8091, 2.8091, 2.6391, 2.6391, 2.6391, 2.6391, 2.6391, 2.6391, 2.6391, 2.6391, 2.6391, 2.6391, 2.6391, 2.6391, 2.6391, 2.6391, 2.639, 2.639, 2.639, 2.639, 2.639, 2.639, 2.639, 2.639, 2.639, 2.639, 2.639, 2.639, 2.639, 2.5702, 2.0524, 2.1261, 0.9639, 1.5422, 1.438, 1.438, 1.2474, 1.0113, 1.5691, 1.5463, 1.6745, 2.1355, 1.9485, 2.9945, 2.9566, 2.9566, 2.8198, 2.8197, 2.819, 2.819, 2.6493, 2.6493, 2.6493, 2.6493, 2.6493, 2.6493, 2.6493, 2.6493, 2.6493, 2.6493, 2.6493, 2.6493, 2.6493, 2.6493, 2.6493, 2.6493, 2.6493, 2.6493, 2.6493, 2.6493, 2.6493, 2.6493, 2.6493, 2.5453, 2.1354, 2.1349, 1.8605, 0.069, 3.3137, 3.2656, 3.2656, 3.2656, 3.2656, 3.2201, 3.2201, 3.2201, 3.2201, 2.9224, 2.9224, 2.9224, 2.9224, 2.9224, 2.9224, 2.9224, 2.9224, 2.9224, 2.9224, 2.9224, 2.9224, 2.9224, 2.9224, 2.9223, 1.4926, 0.9637, 0.9403, 0.6599, 0.6446, 0.5473, 0.5068, -0.9153, 3.4783, 3.4783, 3.4782, 3.4782, 3.2057, 3.2057, 3.2057, 3.2057, 3.2057, 3.2057, 3.2057, 3.2056, 3.2056, 3.2056, 3.2056, 3.2056, 3.2056, 3.2056, 3.2055, 3.2049, 3.2026, 3.2026, 3.2026, 3.2026, 3.2025, 2.3911, 2.3908, 2.1131, 2.1131, 2.0345, 1.7766, 1.6489, 1.37, 1.047]}, \"token.table\": {\"Topic\": [4, 1, 2, 5, 1, 3, 1, 1, 3, 3, 3, 2, 3, 3, 4, 8, 1, 2, 9, 1, 2, 3, 1, 1, 3, 4, 1, 3, 5, 5, 7, 5, 1, 3, 8, 3, 3, 2, 3, 8, 1, 8, 4, 2, 1, 6, 1, 3, 4, 2, 9, 3, 4, 3, 3, 5, 2, 1, 5, 3, 4, 5, 1, 9, 3, 2, 1, 1, 2, 3, 7, 1, 3, 9, 3, 1, 3, 6, 1, 3, 3, 7, 2, 2, 3, 4, 5, 1, 2, 4, 3, 1, 6, 4, 4, 9, 5, 5, 1, 4, 2, 7, 7, 3, 2, 2, 5, 1, 6, 1, 4, 1, 6, 3, 2, 1, 3, 6, 4, 2, 2, 3, 9, 2, 1, 2, 2, 1, 8, 3, 3, 4, 3, 7, 5, 1, 7, 5, 2, 7, 4, 4, 1, 3, 1, 4, 3, 2, 3, 1, 2, 3, 8, 1, 4, 3, 1, 2, 2, 5, 4, 1, 7, 4, 9, 3, 1, 8, 6, 2, 5, 2, 6, 4, 9, 3, 7, 4, 2, 8, 4, 7, 4, 4, 2, 1, 2, 2, 3, 3, 1, 4, 5, 3, 5, 4, 2, 3, 1, 4, 1, 3, 1, 1, 1, 8, 2, 8, 1, 1, 4, 1, 3, 1, 1, 2, 1, 2, 3, 2, 2, 4, 2, 4, 6, 1, 4, 1, 6, 1, 2, 1, 9, 3, 9, 2, 2, 1, 5, 4, 6, 6, 4, 1, 2, 5, 1, 2, 4, 2, 4, 1, 9, 4, 6, 1, 7, 8, 9, 3, 2, 3, 5, 6, 6, 5, 1, 1, 8, 1, 3, 6, 5, 1], \"Freq\": [1.063115210695176, 1.045689654674988, 1.0873836538734996, 1.0219231008569507, 0.8450104905108139, 1.1462234310557895, 1.0177271606941687, 0.44430341236675785, 0.44430341236675785, 1.066733682800593, 0.8256074259452192, 0.9115180940082079, 0.07292144752065663, 0.9509266469661186, 0.9876200236072119, 1.1163296340727389, 0.23446114940717452, 0.7033834482215235, 0.23446114940717452, 0.05021327338624937, 0.8536256475662393, 0.10042654677249874, 0.6638524114208433, 0.6674873528803513, 0.8250547956865187, 0.11786497081235983, 0.9919025615226568, 0.03967610246090627, 0.7163747964074271, 0.9786620829224632, 1.4383090334702149, 0.9786740010527099, 0.9142358899443446, 0.8256166550168588, 1.4425984562236174, 0.8777180083634967, 0.8777180083634967, 1.0102108912927656, 0.8256127028582788, 1.4428626898647947, 0.9142103699520209, 0.8722589032058398, 1.0909133812149219, 1.087383218187266, 1.045807181170688, 1.161325044584274, 0.9142254041497132, 0.8256259167257198, 0.9876162839379741, 1.010235405999082, 1.319202030668186, 0.6511926331356841, 0.9876042995851819, 0.825585132840265, 0.8777075970211042, 1.0219119835423212, 0.7848562338586312, 0.2669068369718586, 0.8007205109155758, 0.6302381828626217, 0.9876179467859966, 0.9786620829224632, 0.663855975491374, 1.319202030668186, 0.8777058355131416, 0.8487147080151776, 0.6638562405223782, 0.47662552887800663, 0.23831276443900332, 0.23831276443900332, 0.23831276443900332, 1.04566483525777, 0.9338277234181138, 0.054931042554006694, 0.8777128029436536, 0.5830659368814936, 0.5830659368814936, 0.7722146983228898, 0.9142328651424168, 0.8777062550638179, 0.2562396523713909, 0.5124793047427818, 0.8487147080151776, 0.2889348360065596, 0.2889348360065596, 0.2889348360065596, 0.9743411447492111, 0.908464593979216, 1.0873744089178048, 0.553931025113164, 0.8256352192081211, 0.45983407488697875, 0.45983407488697875, 0.6911328622582625, 0.8637075690635811, 1.319206501296387, 0.9786620829224632, 1.021891401513513, 0.8122470989027923, 0.6911320888524073, 0.6034594899736574, 0.3017297449868287, 1.4382959262665034, 0.8256164995680058, 1.010218275524765, 0.8317777657944706, 1.02192389973605, 0.8450102753271046, 1.1619659851317745, 0.48732699842368205, 0.48732699842368205, 1.0456828189110545, 0.8799278040712085, 0.7833056052839243, 0.7848476231589049, 0.9142328651424168, 0.8256040569844736, 0.772164159142268, 0.9876009523236036, 0.7848419498386775, 0.8563436389984015, 0.28544787966613383, 1.0386825296580817, 1.176090770770179, 0.39674673091751267, 0.7934934618350253, 0.8317954986616599, 0.7276453239942555, 0.7276453239942555, 1.1462230816963568, 1.1462050702754405, 0.6911298168096948, 0.8028525969472458, 0.11469322813532082, 0.7163857834363988, 0.7301739394127876, 0.3650869697063938, 1.0219348193470492, 0.9930247580374395, 1.4382884294716947, 0.8636924769417845, 0.9876164516918136, 0.9452959851891911, 1.1461779626691584, 0.6638446294608021, 0.987615414020992, 0.8256140071470779, 0.9559653297388407, 0.8256119968317613, 0.43277050282894064, 0.3091217877349576, 0.18547307264097457, 0.06182435754699152, 1.0456862440523655, 0.987616536928487, 1.146161339429461, 0.39342381591858683, 0.39342381591858683, 0.8857420240415836, 0.9786620829224632, 0.9876167231603419, 0.7264801259846888, 0.7264801259846888, 0.9876111801603144, 0.7287380433377267, 1.0667198757812986, 0.5529038552086514, 0.5529038552086514, 1.1619581900006108, 0.784856467733075, 1.0219194155432867, 0.7848563840798426, 1.1619581900006108, 0.9875874979476095, 1.0386739636604188, 0.40520979624417036, 0.40520979624417036, 0.8636952376580185, 0.5532567788780252, 0.5532567788780252, 0.5424606053515064, 0.5424606053515064, 0.9875799408079752, 0.8637097330393859, 0.9384167992628392, 0.6181520324949799, 1.010218275524765, 1.0873630029432535, 0.8256352192081211, 0.7393549747811606, 0.3955033682577929, 0.3955033682577929, 1.0219348193470492, 0.8777078432388188, 0.9786620829224632, 0.9420987941853876, 1.0873829678701312, 0.8256119968317613, 0.9142220306781457, 0.9876457076193746, 0.9453229947484285, 1.0364984551154894, 0.9142303548479428, 0.9452894681524999, 0.7828786365087096, 1.4427432956349946, 1.010218275524765, 1.4425984562236174, 0.6638562405223782, 0.9912666501121543, 0.9876200236072119, 1.0456723503027223, 0.8256164995680058, 1.045684142398495, 0.845008490909504, 1.0873831575073227, 0.25474202407690677, 0.7642260722307203, 0.5595836306238945, 0.7848561777783067, 0.7848464294879366, 0.9875964070628013, 1.010218275524765, 0.691132754223657, 1.1619403575183447, 0.6657158668620061, 0.9876457720111319, 0.3638824117873831, 0.6064706863123052, 1.0456961782999583, 1.1760668918294273, 0.8959556982074651, 1.0386718064788334, 0.9064689070956029, 0.07553907559130024, 0.831795288604796, 0.7848565155506745, 0.2669072913585942, 0.8007218740757827, 0.9876200236072119, 1.1617327139823868, 1.161776286229846, 0.9876167231603419, 0.24942831560765608, 0.7482849468229682, 0.9786620829224632, 0.4427355354318658, 0.4427355354318658, 0.4427355354318658, 0.7848450818836274, 0.9876057502093298, 0.7828460631341171, 1.319202030668186, 0.7697944649436844, 0.3848972324718422, 0.7301748288478418, 0.3650874144239209, 1.116327235419075, 1.038698735302965, 1.1461824015266913, 0.6249193536012242, 0.6249193536012242, 1.02192389973605, 1.161950220155463, 0.8798973244405708, 0.9786861306601995, 1.0177325335906198, 0.7277211667683509, 0.7277211667683509, 0.578488059092895, 0.38565870606193003, 0.19282935303096502, 1.0218899209668857, 1.045694952254864], \"Term\": [\"account\", \"adult\", \"aina\", \"alsace\", \"amazon\", \"anita\", \"author\", \"award\", \"award\", \"ballroom\", \"beach\", \"beauty\", \"beauty\", \"bikini\", \"billboard\", \"blac\", \"blog\", \"blog\", \"blog\", \"blogger\", \"blogger\", \"blogger\", \"blurb\", \"body\", \"bollywood\", \"bollywood\", \"book\", \"book\", \"bordeaux\", \"breakfast\", \"breezy\", \"bretagne\", \"brit\", \"brooklyn\", \"busta\", \"celeb\", \"celebrity\", \"celeste\", \"center\", \"challenge\", \"chance\", \"chyna\", \"cire\", \"coconut\", \"colin\", \"collection\", \"comedy\", \"coney\", \"content\", \"cream\", \"crush\", \"culture\", \"dance\", \"day\", \"delhi\", \"delice\", \"delivers\", \"dinner\", \"dinner\", \"director\", \"dwivedi\", \"ephoto\", \"escape\", \"estilo\", \"event\", \"eyeshadow\", \"faber\", \"face\", \"face\", \"face\", \"face\", \"family\", \"fashion\", \"fashion\", \"fashionistas\", \"feature\", \"feature\", \"feel\", \"fiction\", \"file\", \"fitness\", \"fitness\", \"foil\", \"follow\", \"follow\", \"follow\", \"food\", \"foot\", \"formula\", \"foto\", \"frankie\", \"friend\", \"friend\", \"gauri\", \"glan\", \"gossip\", \"gourmand\", \"gourmet\", \"gram\", \"graphy\", \"guy\", \"guy\", \"habit\", \"harlem\", \"hash\", \"haul\", \"haute\", \"heart\", \"hello\", \"history\", \"history\", \"hope\", \"hotshot\", \"house\", \"housewife\", \"humor\", \"icon\", \"image\", \"india\", \"indie\", \"info\", \"info\", \"inspira\", \"inspire\", \"introduce\", \"introduce\", \"jackie\", \"james\", \"james\", \"jasmin\", \"jewelry\", \"join\", \"jones\", \"jones\", \"joseph\", \"journey\", \"journey\", \"jude\", \"junkie\", \"justin\", \"kanye\", \"karan\", \"kayla\", \"keywords\", \"kindle\", \"kumar\", \"lakme\", \"launch\", \"legend\", \"life\", \"life\", \"life\", \"life\", \"link\", \"lisbon\", \"location\", \"love\", \"love\", \"lover\", \"lunch\", \"madi\", \"male\", \"male\", \"mar\", \"masculina\", \"matter\", \"medium\", \"medium\", \"meek\", \"melt\", \"michelin\", \"milk\", \"mill\", \"mission\", \"moda\", \"model\", \"model\", \"moment\", \"money\", \"money\", \"motivation\", \"motivation\", \"mumbai\", \"navman\", \"news\", \"night\", \"notification\", \"palette\", \"paradise\", \"party\", \"people\", \"people\", \"peyron\", \"photographer\", \"pic\", \"picture\", \"pill\", \"pioneer\", \"preorder\", \"president\", \"press\", \"pride\", \"purchase\", \"reader\", \"release\", \"report\", \"restocks\", \"rhyme\", \"risk\", \"romance\", \"row\", \"sale\", \"schomburg\", \"security\", \"series\", \"shade\", \"share\", \"share\", \"shoot\", \"silver\", \"size\", \"snap\", \"sneak\", \"sohum\", \"song\", \"spot\", \"stage\", \"star\", \"star\", \"stefan\", \"store\", \"story\", \"street\", \"style\", \"style\", \"sugar\", \"swatch\", \"sweet\", \"sweet\", \"swift\", \"swim\", \"swimwear\", \"synn\", \"talk\", \"talk\", \"tasty\", \"taylor\", \"taylor\", \"taylor\", \"texture\", \"tiger\", \"time\", \"tipo\", \"today\", \"today\", \"tour\", \"tour\", \"treasure\", \"tver\", \"venue\", \"video\", \"video\", \"vilaine\", \"watch\", \"wear\", \"wine\", \"woman\", \"word\", \"word\", \"year\", \"year\", \"year\", \"yummy\", \"zara\"]}, \"R\": 30, \"lambda.step\": 0.01, \"plot.opts\": {\"xlab\": \"PC1\", \"ylab\": \"PC2\"}, \"topic.order\": [3, 4, 10, 2, 9, 1, 8, 6, 7, 5]};\n",
       "\n",
       "function LDAvis_load_lib(url, callback){\n",
       "  var s = document.createElement('script');\n",
       "  s.src = url;\n",
       "  s.async = true;\n",
       "  s.onreadystatechange = s.onload = callback;\n",
       "  s.onerror = function(){console.warn(\"failed to load library \" + url);};\n",
       "  document.getElementsByTagName(\"head\")[0].appendChild(s);\n",
       "}\n",
       "\n",
       "if(typeof(LDAvis) !== \"undefined\"){\n",
       "   // already loaded: just create the visualization\n",
       "   !function(LDAvis){\n",
       "       new LDAvis(\"#\" + \"ldavis_el1353223857383138004052160469\", ldavis_el1353223857383138004052160469_data);\n",
       "   }(LDAvis);\n",
       "}else if(typeof define === \"function\" && define.amd){\n",
       "   // require.js is available: use it to load d3/LDAvis\n",
       "   require.config({paths: {d3: \"https://cdnjs.cloudflare.com/ajax/libs/d3/3.5.5/d3.min\"}});\n",
       "   require([\"d3\"], function(d3){\n",
       "      window.d3 = d3;\n",
       "      LDAvis_load_lib(\"https://cdn.rawgit.com/bmabey/pyLDAvis/files/ldavis.v1.0.0.js\", function(){\n",
       "        new LDAvis(\"#\" + \"ldavis_el1353223857383138004052160469\", ldavis_el1353223857383138004052160469_data);\n",
       "      });\n",
       "    });\n",
       "}else{\n",
       "    // require.js not available: dynamically load d3 & LDAvis\n",
       "    LDAvis_load_lib(\"https://cdnjs.cloudflare.com/ajax/libs/d3/3.5.5/d3.min.js\", function(){\n",
       "         LDAvis_load_lib(\"https://cdn.rawgit.com/bmabey/pyLDAvis/files/ldavis.v1.0.0.js\", function(){\n",
       "                 new LDAvis(\"#\" + \"ldavis_el1353223857383138004052160469\", ldavis_el1353223857383138004052160469_data);\n",
       "            })\n",
       "         });\n",
       "}\n",
       "</script>"
      ],
      "text/plain": [
       "PreparedData(topic_coordinates=              x         y  topics  cluster       Freq\n",
       "topic                                                \n",
       "2      0.250224 -0.006514       1        1  27.257358\n",
       "3     -0.032707 -0.211731       2        1  16.453608\n",
       "9     -0.075670 -0.010153       3        1  15.039675\n",
       "1     -0.034068  0.059843       4        1   9.810151\n",
       "8     -0.039441  0.073287       5        1   9.262127\n",
       "0      0.000656  0.032865       6        1   7.138275\n",
       "7     -0.012678  0.016908       7        1   4.867515\n",
       "5     -0.006629  0.010099       8        1   4.811486\n",
       "6     -0.026789  0.016461       9        1   3.276963\n",
       "4     -0.022898  0.018934      10        1   2.082841, topic_info=        Term       Freq      Total Category  logprob  loglift\n",
       "7       food  16.000000  16.000000  Default  30.0000  30.0000\n",
       "62    beauty  27.000000  27.000000  Default  29.0000  29.0000\n",
       "52   fashion  18.000000  18.000000  Default  28.0000  28.0000\n",
       "91      book  25.000000  25.000000  Default  27.0000  27.0000\n",
       "63   blogger  19.000000  19.000000  Default  26.0000  26.0000\n",
       "..       ...        ...        ...      ...      ...      ...\n",
       "651  morning   0.146463   0.919372  Topic10  -5.6766   2.0345\n",
       "88    follow   0.426004   3.460988  Topic10  -4.6089   1.7766\n",
       "381    party   0.146531   1.352530  Topic10  -5.6761   1.6489\n",
       "249    shoot   0.146476   1.787043  Topic10  -5.6765   1.3700\n",
       "82     model   0.146453   2.467857  Topic10  -5.6767   1.0470\n",
       "\n",
       "[420 rows x 6 columns], token_table=      Topic      Freq     Term\n",
       "term                          \n",
       "1401      4  1.063115  account\n",
       "451       1  1.045690    adult\n",
       "4095      2  1.087384     aina\n",
       "1396      5  1.021923   alsace\n",
       "120       1  0.845010   amazon\n",
       "...     ...       ...      ...\n",
       "187       1  0.578488     year\n",
       "187       3  0.385659     year\n",
       "187       6  0.192829     year\n",
       "15        5  1.021890    yummy\n",
       "2101      1  1.045695     zara\n",
       "\n",
       "[274 rows x 3 columns], R=30, lambda_step=0.01, plot_opts={'xlab': 'PC1', 'ylab': 'PC2'}, topic_order=[3, 4, 10, 2, 9, 1, 8, 6, 7, 5])"
      ]
     },
     "execution_count": 18,
     "metadata": {},
     "output_type": "execute_result"
    }
   ],
   "source": [
    "# Visualize the topics\n",
    "pyLDAvis.enable_notebook()\n",
    "vis = pyLDAvis.gensim.prepare(lda_model, corpus, id2word)\n",
    "vis"
   ]
  },
  {
   "cell_type": "markdown",
   "metadata": {},
   "source": [
    "### Save document-topic matrix (most significant topic per document)  \n",
    "https://github.com/Sim-Xuesi/content-based_movie_recommender/blob/master/Content%20Based%20Recommender%20System%20with%20LDA%20%26%20Cosine.ipynb  \n",
    "https://medium.com/@nicoleeesim97/building-a-simple-content-based-recommender-system-for-movies-and-tv-shows-73fec4f325ae  "
   ]
  },
  {
   "cell_type": "code",
   "execution_count": 19,
   "metadata": {},
   "outputs": [
    {
     "name": "stderr",
     "output_type": "stream",
     "text": [
      "C:\\Users\\minio\\anaconda3\\envs\\tfm-py-37\\lib\\site-packages\\ipykernel\\ipkernel.py:287: DeprecationWarning: `should_run_async` will not call `transform_cell` automatically in the future. Please pass the result to `transformed_cell` argument and any exception that happen during thetransform in `preprocessing_exc_tuple` in IPython 7.17 and above.\n",
      "  and should_run_async(code)\n"
     ]
    },
    {
     "name": "stdout",
     "output_type": "stream",
     "text": [
      "      Document  Topic  Probability\n",
      "0       111122      8     0.960640\n",
      "1        83763      0     0.783885\n",
      "2        83949      0     0.745628\n",
      "3        74127      1     0.905927\n",
      "4        74034      1     0.834090\n",
      "...        ...    ...          ...\n",
      "2340    111021      8     0.967502\n",
      "2341     72464      2     0.987484\n",
      "2342    101991      3     0.984280\n",
      "2343     70303      9     0.978460\n",
      "2344     74118      1     0.929484\n",
      "\n",
      "[2345 rows x 3 columns]\n"
     ]
    }
   ],
   "source": [
    "def Sort_Tuple(tup):  \n",
    "    return(sorted(tup, key = lambda x: x[1], reverse = True))\n",
    "\n",
    "doc_num, topic_num, prob = [], [], []\n",
    "\n",
    "document_topic_matrix = documents\n",
    "\n",
    "for n in range(len(documents)):\n",
    "    get_document_topics = lda_model.get_document_topics(corpus_total[n], minimum_probability=0)\n",
    "    doc_num.append(documents.index[n])\n",
    "    sorted_doc_topics = Sort_Tuple(get_document_topics)\n",
    "    topic_num.append(sorted_doc_topics[0][0])\n",
    "    prob.append(sorted_doc_topics[0][1])\n",
    "    \n",
    "data = {'Document': doc_num\n",
    "        ,'Topic': topic_num\n",
    "        ,'Probability': prob}\n",
    "df = pd.DataFrame(data) \n",
    "df.to_csv(file_model + '_document_topic_matrix.csv', index=False)\n",
    "print(df)"
   ]
  },
  {
   "cell_type": "markdown",
   "metadata": {},
   "source": [
    "### Save document-topic matrix (all topic's probability per document)  \n",
    "https://github.com/Sim-Xuesi/content-based_movie_recommender/blob/master/Content%20Based%20Recommender%20System%20with%20LDA%20%26%20Cosine.ipynb  \n",
    "https://medium.com/@nicoleeesim97/building-a-simple-content-based-recommender-system-for-movies-and-tv-shows-73fec4f325ae  "
   ]
  },
  {
   "cell_type": "code",
   "execution_count": 20,
   "metadata": {},
   "outputs": [
    {
     "name": "stderr",
     "output_type": "stream",
     "text": [
      "C:\\Users\\minio\\anaconda3\\envs\\tfm-py-37\\lib\\site-packages\\ipykernel\\ipkernel.py:287: DeprecationWarning: `should_run_async` will not call `transform_cell` automatically in the future. Please pass the result to `transformed_cell` argument and any exception that happen during thetransform in `preprocessing_exc_tuple` in IPython 7.17 and above.\n",
      "  and should_run_async(code)\n"
     ]
    },
    {
     "name": "stdout",
     "output_type": "stream",
     "text": [
      "      Document    Topic0    Topic1    Topic2    Topic3    Topic4    Topic5  \\\n",
      "0       111122  0.008544  0.006456  0.005198  0.004354  0.003746  0.003287   \n",
      "1        83763  0.784024  0.009715  0.007805  0.006534  0.005621  0.081597   \n",
      "2        83949  0.745568  0.022226  0.158201  0.014943  0.012856  0.011280   \n",
      "3        74127  0.022721  0.905927  0.013858  0.011608  0.009987  0.008763   \n",
      "4        74034  0.018929  0.834134  0.011354  0.098042  0.008171  0.007170   \n",
      "...        ...       ...       ...       ...       ...       ...       ...   \n",
      "2340    111021  0.007019  0.005332  0.004299  0.003601  0.003098  0.002719   \n",
      "2341     72464  0.002917  0.002209  0.987484  0.001492  0.001284  0.001126   \n",
      "2342    101991  0.003577  0.002714  0.002187  0.984280  0.001576  0.001383   \n",
      "2343     70303  0.004638  0.003516  0.002834  0.002374  0.002042  0.001792   \n",
      "2344     74118  0.017014  0.929484  0.010396  0.008703  0.007488  0.006570   \n",
      "\n",
      "        Topic6    Topic7    Topic8    Topic9  \n",
      "0     0.002928  0.002640  0.960640  0.002206  \n",
      "1     0.093827  0.003961  0.003606  0.003310  \n",
      "2     0.010049  0.009060  0.008248  0.007570  \n",
      "3     0.007807  0.007039  0.006408  0.005881  \n",
      "4     0.006387  0.005759  0.005243  0.004812  \n",
      "...        ...       ...       ...       ...  \n",
      "2340  0.002422  0.002184  0.967502  0.001825  \n",
      "2341  0.001003  0.000905  0.000824  0.000756  \n",
      "2342  0.001232  0.001111  0.001011  0.000928  \n",
      "2343  0.001596  0.001439  0.001310  0.978460  \n",
      "2344  0.005853  0.005277  0.004804  0.004409  \n",
      "\n",
      "[2345 rows x 11 columns]\n"
     ]
    }
   ],
   "source": [
    "doc_num = []\n",
    "prob0, prob1, prob2, prob3, prob4, prob5, prob6, prob7, prob8, prob9 = ([] for i in range(num_topics))\n",
    "\n",
    "document_topic_matrix = documents\n",
    "\n",
    "for n in range(len(documents)):\n",
    "    get_document_topics = lda_model.get_document_topics(corpus_total[n], minimum_probability=0)\n",
    "    doc_num.append(documents.index[n])\n",
    "    prob0.append(get_document_topics[0][1])\n",
    "    prob1.append(get_document_topics[1][1])\n",
    "    prob2.append(get_document_topics[2][1])\n",
    "    prob3.append(get_document_topics[3][1])\n",
    "    prob4.append(get_document_topics[4][1])\n",
    "    prob5.append(get_document_topics[5][1])\n",
    "    prob6.append(get_document_topics[6][1])\n",
    "    prob7.append(get_document_topics[7][1])\n",
    "    prob8.append(get_document_topics[8][1])\n",
    "    prob9.append(get_document_topics[9][1])\n",
    "    \n",
    "data = {'Document': doc_num\n",
    "        ,'Topic0': prob0\n",
    "        ,'Topic1': prob1\n",
    "        ,'Topic2': prob2\n",
    "        ,'Topic3': prob3\n",
    "        ,'Topic4': prob4\n",
    "        ,'Topic5': prob5\n",
    "        ,'Topic6': prob6\n",
    "        ,'Topic7': prob7\n",
    "        ,'Topic8': prob8\n",
    "        ,'Topic9': prob9}\n",
    "\n",
    "df = pd.DataFrame(data) \n",
    "df.to_csv(file_model + '_document_topic_matrix_full.csv', index=False)\n",
    "print(df)"
   ]
  },
  {
   "cell_type": "markdown",
   "metadata": {},
   "source": [
    "### Save topic-term matrix"
   ]
  },
  {
   "cell_type": "code",
   "execution_count": 21,
   "metadata": {},
   "outputs": [
    {
     "name": "stderr",
     "output_type": "stream",
     "text": [
      "C:\\Users\\minio\\anaconda3\\envs\\tfm-py-37\\lib\\site-packages\\ipykernel\\ipkernel.py:287: DeprecationWarning: `should_run_async` will not call `transform_cell` automatically in the future. Please pass the result to `transformed_cell` argument and any exception that happen during thetransform in `preprocessing_exc_tuple` in IPython 7.17 and above.\n",
      "  and should_run_async(code)\n"
     ]
    }
   ],
   "source": [
    "# get topic-term-matrix\n",
    "topic_term_matrix = lda_model.get_topics()\n",
    "# save topic-term matrix\n",
    "savetxt(file_model + '_topic_term_matrix.csv', topic_term_matrix, delimiter=',')"
   ]
  }
 ],
 "metadata": {
  "kernelspec": {
   "display_name": "Python 3",
   "language": "python",
   "name": "python3"
  },
  "language_info": {
   "codemirror_mode": {
    "name": "ipython",
    "version": 3
   },
   "file_extension": ".py",
   "mimetype": "text/x-python",
   "name": "python",
   "nbconvert_exporter": "python",
   "pygments_lexer": "ipython3",
   "version": "3.7.9"
  }
 },
 "nbformat": 4,
 "nbformat_minor": 4
}
