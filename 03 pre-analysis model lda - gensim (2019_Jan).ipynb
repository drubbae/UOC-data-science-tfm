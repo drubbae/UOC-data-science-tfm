{
 "cells": [
  {
   "cell_type": "markdown",
   "metadata": {},
   "source": [
    "# <span style=\"color:blue\">Pre-analysis to find the optimal number of topics and hyperparameters values (2019_Jan)</span>"
   ]
  },
  {
   "cell_type": "code",
   "execution_count": 1,
   "metadata": {},
   "outputs": [],
   "source": [
    "yyyy_MMM = '2019_Jan'"
   ]
  },
  {
   "cell_type": "markdown",
   "metadata": {},
   "source": [
    "### Load packages"
   ]
  },
  {
   "cell_type": "code",
   "execution_count": 2,
   "metadata": {},
   "outputs": [
    {
     "name": "stderr",
     "output_type": "stream",
     "text": [
      "C:\\Users\\minio\\anaconda3\\envs\\tfm-py-37\\lib\\site-packages\\botocore\\vendored\\requests\\packages\\urllib3\\_collections.py:1: DeprecationWarning: Using or importing the ABCs from 'collections' instead of from 'collections.abc' is deprecated since Python 3.3,and in 3.9 it will stop working\n",
      "  from collections import Mapping, MutableMapping\n",
      "C:\\Users\\minio\\anaconda3\\envs\\tfm-py-37\\lib\\site-packages\\botocore\\vendored\\requests\\packages\\urllib3\\_collections.py:1: DeprecationWarning: Using or importing the ABCs from 'collections' instead of from 'collections.abc' is deprecated since Python 3.3,and in 3.9 it will stop working\n",
      "  from collections import Mapping, MutableMapping\n",
      "C:\\Users\\minio\\anaconda3\\envs\\tfm-py-37\\lib\\site-packages\\scipy\\sparse\\sparsetools.py:21: DeprecationWarning: `scipy.sparse.sparsetools` is deprecated!\n",
      "scipy.sparse.sparsetools is a private module for scipy.sparse, and should not be used.\n",
      "  _deprecated()\n",
      "C:\\Users\\minio\\anaconda3\\envs\\tfm-py-37\\lib\\site-packages\\gensim\\models\\doc2vec.py:73: DeprecationWarning: Using or importing the ABCs from 'collections' instead of from 'collections.abc' is deprecated since Python 3.3,and in 3.9 it will stop working\n",
      "  from collections import namedtuple, defaultdict, Iterable\n",
      "[nltk_data] Downloading package stopwords to\n",
      "[nltk_data]     C:\\Users\\minio\\AppData\\Roaming\\nltk_data...\n",
      "[nltk_data]   Package stopwords is already up-to-date!\n"
     ]
    },
    {
     "data": {
      "text/plain": [
       "True"
      ]
     },
     "execution_count": 2,
     "metadata": {},
     "output_type": "execute_result"
    }
   ],
   "source": [
    "import csv, os, re, time\n",
    "import numpy as np\n",
    "import pandas as  pd\n",
    "import matplotlib.pyplot as plt  \n",
    "import pyLDAvis\n",
    "import pyLDAvis.gensim\n",
    "import gensim\n",
    "import gensim.corpora as corpora\n",
    "from gensim.corpora.dictionary import Dictionary\n",
    "from gensim.models import CoherenceModel\n",
    "from gensim.models import Phrases\n",
    "from gensim.test.utils import datapath\n",
    "from gensim.utils import simple_preprocess\n",
    "from pprint import pprint\n",
    "import nltk\n",
    "nltk.download('stopwords')"
   ]
  },
  {
   "cell_type": "markdown",
   "metadata": {},
   "source": [
    "### Constants"
   ]
  },
  {
   "cell_type": "code",
   "execution_count": 3,
   "metadata": {},
   "outputs": [
    {
     "name": "stdout",
     "output_type": "stream",
     "text": [
      "D:\\master\\data science\\semestre 4\\M2.979 - tfm\\data\\bins\\doc\\2019_Jan\\2019_Jan_28_results.csv\n",
      "D:\\master\\data science\\semestre 4\\M2.979 - tfm\\data\\bins\\model_hyperparameter\\2019_Jan\\model\n"
     ]
    },
    {
     "name": "stderr",
     "output_type": "stream",
     "text": [
      "C:\\Users\\minio\\anaconda3\\envs\\tfm-py-37\\lib\\site-packages\\ipykernel\\ipkernel.py:287: DeprecationWarning: `should_run_async` will not call `transform_cell` automatically in the future. Please pass the result to `transformed_cell` argument and any exception that happen during thetransform in `preprocessing_exc_tuple` in IPython 7.17 and above.\n",
      "  and should_run_async(code)\n"
     ]
    }
   ],
   "source": [
    "# for reproducible results\n",
    "random_state = 33\n",
    "# if debug is True, messages during the process are generated\n",
    "debug = False\n",
    "# for debugging purposes sample may be used to work with a smaller amount of data (when 0 it is not applied)\n",
    "sample = 0\n",
    "# if the test is True, the process runs on a smaller subset of raw data (json files)\n",
    "test = False\n",
    "\n",
    "if test:\n",
    "    # path where the doc files are stored\n",
    "    path_doc = r'D:\\master\\data science\\semestre 4\\M2.979 - tfm\\data\\bins_test\\doc'\n",
    "    # path where the model files are stored\n",
    "    path_model = r'D:\\master\\data science\\semestre 4\\M2.979 - tfm\\data\\bins_test\\model_hyperparameter'\n",
    "    # LDA chunksize\n",
    "    chunksize = 250\n",
    "else:\n",
    "    # path where the doc files are stored\n",
    "    path_doc = r'D:\\master\\data science\\semestre 4\\M2.979 - tfm\\data\\bins\\doc'\n",
    "    # path where the model files are stored\n",
    "    path_model = r'D:\\master\\data science\\semestre 4\\M2.979 - tfm\\data\\bins\\model_hyperparameter'\n",
    "    # LDA chunksize\n",
    "    chunksize = 5000\n",
    "\n",
    "file_doc = os.path.join(path_doc, yyyy_MMM, yyyy_MMM) + '_28_results.csv'\n",
    "file_model = os.path.join(path_model, yyyy_MMM, 'model')\n",
    "print(file_doc)\n",
    "print(file_model)"
   ]
  },
  {
   "cell_type": "markdown",
   "metadata": {},
   "source": [
    "### Load data preprocessed"
   ]
  },
  {
   "cell_type": "code",
   "execution_count": 4,
   "metadata": {},
   "outputs": [
    {
     "name": "stderr",
     "output_type": "stream",
     "text": [
      "C:\\Users\\minio\\anaconda3\\envs\\tfm-py-37\\lib\\site-packages\\ipykernel\\ipkernel.py:287: DeprecationWarning: `should_run_async` will not call `transform_cell` automatically in the future. Please pass the result to `transformed_cell` argument and any exception that happen during thetransform in `preprocessing_exc_tuple` in IPython 7.17 and above.\n",
      "  and should_run_async(code)\n"
     ]
    },
    {
     "data": {
      "text/plain": [
       "0    ['work', 'william', 'georgia', 'handy', 'tool'...\n",
       "1    ['shark', 'tank', 'pitch', 'hour', 'real', 'li...\n",
       "2    ['friend', 'vikki', 'curl', 'leave', 'bristol'...\n",
       "3    ['bulgari', 'story', 'dream', 'exhibition', 'p...\n",
       "4    ['classic', 'stardust', 'bandeau', 'black', 'w...\n",
       "5    ['kimpton', 'interior', 'yummi', 'ness', 'inte...\n",
       "6    ['cheer', 'start', 'week', 'glad', 'boutin', '...\n",
       "7                            ['eat', 'case', 'hungry']\n",
       "8    ['tomorrow', 'thrill', 'attend', 'inaugural', ...\n",
       "9    ['night', 'glam', 'benefit', 'cosmetic', 'brow...\n",
       "Name: content_preprocessed, dtype: object"
      ]
     },
     "execution_count": 4,
     "metadata": {},
     "output_type": "execute_result"
    }
   ],
   "source": [
    "df = pd.read_csv(file_doc)\n",
    "documents = df.content_preprocessed\n",
    "documents.head(10)"
   ]
  },
  {
   "cell_type": "markdown",
   "metadata": {},
   "source": [
    "### Shuffle"
   ]
  },
  {
   "cell_type": "code",
   "execution_count": 5,
   "metadata": {},
   "outputs": [
    {
     "name": "stderr",
     "output_type": "stream",
     "text": [
      "C:\\Users\\minio\\anaconda3\\envs\\tfm-py-37\\lib\\site-packages\\ipykernel\\ipkernel.py:287: DeprecationWarning: `should_run_async` will not call `transform_cell` automatically in the future. Please pass the result to `transformed_cell` argument and any exception that happen during thetransform in `preprocessing_exc_tuple` in IPython 7.17 and above.\n",
      "  and should_run_async(code)\n"
     ]
    },
    {
     "data": {
      "text/plain": [
       "58846              ['definitely', 'effort', 'york', 'cow']\n",
       "14325                 ['place', 'change', 'club', 'tasty']\n",
       "30114    ['ridin', 'tractor', 'adder', 'music', 'vibe',...\n",
       "25069    ['currently', 'head', 'best', 'josh', 'aves', ...\n",
       "32416    ['vintage', 'black', 'white', 'number', 'atom'...\n",
       "6209                  ['purest', 'thing', 'life', 'lucky']\n",
       "78266    ['happiness', 'consists', 'living', 'life', 'v...\n",
       "63225    ['life', 'angel', 'love', 'story', 'touch', 'w...\n",
       "33670    ['today', 'para', 'design', 'landmark', 'equit...\n",
       "87723    ['love', 'victoria', 'exceptionally', 'intelli...\n",
       "Name: content_preprocessed, dtype: object"
      ]
     },
     "execution_count": 5,
     "metadata": {},
     "output_type": "execute_result"
    }
   ],
   "source": [
    "documents = documents.sample(frac=1, random_state=random_state)\n",
    "documents.head(10)"
   ]
  },
  {
   "cell_type": "markdown",
   "metadata": {},
   "source": [
    "### Sample"
   ]
  },
  {
   "cell_type": "code",
   "execution_count": 6,
   "metadata": {},
   "outputs": [
    {
     "name": "stderr",
     "output_type": "stream",
     "text": [
      "C:\\Users\\minio\\anaconda3\\envs\\tfm-py-37\\lib\\site-packages\\ipykernel\\ipkernel.py:287: DeprecationWarning: `should_run_async` will not call `transform_cell` automatically in the future. Please pass the result to `transformed_cell` argument and any exception that happen during thetransform in `preprocessing_exc_tuple` in IPython 7.17 and above.\n",
      "  and should_run_async(code)\n"
     ]
    }
   ],
   "source": [
    "if sample > 0:\n",
    "    documents = documents.sample(n=sample, random_state=random_state)\n",
    "    print(documents.head(10))"
   ]
  },
  {
   "cell_type": "markdown",
   "metadata": {},
   "source": [
    "### Tokenize words and Clean-up text  \n",
    "https://www.machinelearningplus.com/nlp/topic-modeling-gensim-python/#3importpackages"
   ]
  },
  {
   "cell_type": "code",
   "execution_count": 7,
   "metadata": {},
   "outputs": [
    {
     "name": "stderr",
     "output_type": "stream",
     "text": [
      "C:\\Users\\minio\\anaconda3\\envs\\tfm-py-37\\lib\\site-packages\\ipykernel\\ipkernel.py:287: DeprecationWarning: `should_run_async` will not call `transform_cell` automatically in the future. Please pass the result to `transformed_cell` argument and any exception that happen during thetransform in `preprocessing_exc_tuple` in IPython 7.17 and above.\n",
      "  and should_run_async(code)\n"
     ]
    }
   ],
   "source": [
    "def sent_to_words(sentences):\n",
    "    for sentence in sentences:\n",
    "        yield(gensim.utils.simple_preprocess(str(sentence), deacc=True))  # deacc=True removes punctuations"
   ]
  },
  {
   "cell_type": "markdown",
   "metadata": {},
   "source": [
    "### Function to compute bigrams & trigrams  \n",
    "https://radimrehurek.com/gensim/auto_examples/tutorials/run_lda.html#pre-process-and-vectorize-the-documents"
   ]
  },
  {
   "cell_type": "code",
   "execution_count": 8,
   "metadata": {},
   "outputs": [
    {
     "name": "stderr",
     "output_type": "stream",
     "text": [
      "C:\\Users\\minio\\anaconda3\\envs\\tfm-py-37\\lib\\site-packages\\ipykernel\\ipkernel.py:287: DeprecationWarning: `should_run_async` will not call `transform_cell` automatically in the future. Please pass the result to `transformed_cell` argument and any exception that happen during thetransform in `preprocessing_exc_tuple` in IPython 7.17 and above.\n",
      "  and should_run_async(code)\n"
     ]
    }
   ],
   "source": [
    "# Add bigrams and trigrams to docs (only ones that appear min_count times or more).\n",
    "def bi_tri_grams(documents, min_count):\n",
    "    bigram = Phrases(documents, min_count=min_count)\n",
    "    for idx in range(len(documents)):\n",
    "        for token in bigram[documents[idx]]:\n",
    "            if '_' in token:\n",
    "                # Token is a bigram, add to document.\n",
    "                documents[idx].append(token)"
   ]
  },
  {
   "cell_type": "markdown",
   "metadata": {},
   "source": [
    "### Function for categorizing and tagging words"
   ]
  },
  {
   "cell_type": "code",
   "execution_count": 9,
   "metadata": {},
   "outputs": [
    {
     "name": "stderr",
     "output_type": "stream",
     "text": [
      "C:\\Users\\minio\\anaconda3\\envs\\tfm-py-37\\lib\\site-packages\\ipykernel\\ipkernel.py:287: DeprecationWarning: `should_run_async` will not call `transform_cell` automatically in the future. Please pass the result to `transformed_cell` argument and any exception that happen during thetransform in `preprocessing_exc_tuple` in IPython 7.17 and above.\n",
      "  and should_run_async(code)\n"
     ]
    }
   ],
   "source": [
    "def tag_words(text):\n",
    "    tags = nltk.pos_tag(text)\n",
    "    nouns = [word for word, pos in tags if (pos == 'NN' or pos == 'NNP' or pos == 'NNS' or pos == 'NNPS')]\n",
    "    return nouns"
   ]
  },
  {
   "cell_type": "markdown",
   "metadata": {},
   "source": [
    "### Analysis to get the optimal number of topics  \n",
    "https://towardsdatascience.com/discover-what-singaporeans-generally-talk-on-sms-d4b592a682fd"
   ]
  },
  {
   "cell_type": "code",
   "execution_count": 10,
   "metadata": {},
   "outputs": [
    {
     "name": "stderr",
     "output_type": "stream",
     "text": [
      "C:\\Users\\minio\\anaconda3\\envs\\tfm-py-37\\lib\\site-packages\\ipykernel\\ipkernel.py:287: DeprecationWarning: `should_run_async` will not call `transform_cell` automatically in the future. Please pass the result to `transformed_cell` argument and any exception that happen during thetransform in `preprocessing_exc_tuple` in IPython 7.17 and above.\n",
      "  and should_run_async(code)\n"
     ]
    }
   ],
   "source": [
    "data_words = list(sent_to_words(documents))\n",
    "# Compute bigrams & trigrams\n",
    "bi_tri_grams(data_words, 250)\n",
    "# Categorizing and tagging words\n",
    "data_words = list(map(tag_words, data_words))\n",
    "# Create Dictionary\n",
    "id2word = Dictionary(data_words)\n",
    "# Create Corpus\n",
    "texts = data_words\n",
    "# Term Document Frequency\n",
    "corpus = [id2word.doc2bow(text) for text in texts]"
   ]
  },
  {
   "cell_type": "code",
   "execution_count": 11,
   "metadata": {},
   "outputs": [
    {
     "name": "stderr",
     "output_type": "stream",
     "text": [
      "C:\\Users\\minio\\anaconda3\\envs\\tfm-py-37\\lib\\site-packages\\ipykernel\\ipkernel.py:287: DeprecationWarning: `should_run_async` will not call `transform_cell` automatically in the future. Please pass the result to `transformed_cell` argument and any exception that happen during thetransform in `preprocessing_exc_tuple` in IPython 7.17 and above.\n",
      "  and should_run_async(code)\n"
     ]
    },
    {
     "name": "stdout",
     "output_type": "stream",
     "text": [
      "# Topics: 8 Score: 0.5592160312050772\n",
      "time elapsed - 00:03:18.45\n",
      "# Topics: 9 Score: 0.5424934969865687\n",
      "time elapsed - 00:04:19.91\n",
      "# Topics: 10 Score: 0.5404026715567837\n",
      "time elapsed - 00:04:26.02\n",
      "# Topics: 11 Score: 0.5590573713093979\n",
      "time elapsed - 00:04:28.63\n"
     ]
    }
   ],
   "source": [
    "model_list = []\n",
    "coherence_score = []\n",
    "model_topics = []\n",
    "\n",
    "for num_topics in range(8, 12, 1):\n",
    "    \n",
    "    time_start = time.time()\n",
    "\n",
    "    lda_x = gensim.models.LdaMulticore(corpus=corpus\n",
    "                                       ,id2word=id2word\n",
    "                                       ,num_topics=num_topics\n",
    "                                       ,random_state=random_state\n",
    "                                       ,chunksize=chunksize\n",
    "                                       ,passes=10)\n",
    "    coherence_lda_model = CoherenceModel(model=lda_x, texts=data_words, dictionary=id2word, coherence='c_v')\n",
    "    coherence = coherence_lda_model.get_coherence()\n",
    "    coherence_score.append(coherence)\n",
    "    model_topics.append(num_topics)\n",
    "    model_list.append(lda_x)\n",
    "    \n",
    "    print(\"# Topics: \" + str(num_topics) + \" Score: \" + str(coherence))\n",
    "    \n",
    "    time_end = time.time()\n",
    "    hour, rem = divmod(time_end - time_start, 3600)\n",
    "    minute, second = divmod(rem, 60)\n",
    "    print('time elapsed - {:0>2}:{:0>2}:{:05.2f}'.format(int(hour), int(minute), second))"
   ]
  },
  {
   "cell_type": "code",
   "execution_count": 12,
   "metadata": {},
   "outputs": [
    {
     "name": "stderr",
     "output_type": "stream",
     "text": [
      "C:\\Users\\minio\\anaconda3\\envs\\tfm-py-37\\lib\\site-packages\\ipykernel\\ipkernel.py:287: DeprecationWarning: `should_run_async` will not call `transform_cell` automatically in the future. Please pass the result to `transformed_cell` argument and any exception that happen during thetransform in `preprocessing_exc_tuple` in IPython 7.17 and above.\n",
      "  and should_run_async(code)\n"
     ]
    },
    {
     "data": {
      "image/png": "[encoded data removed]",
      "text/plain": [
       "<Figure size 432x288 with 1 Axes>"
      ]
     },
     "metadata": {
      "needs_background": "light"
     },
     "output_type": "display_data"
    }
   ],
   "source": [
    "limit=12; start=8; step=1;\n",
    "x = range(start, limit, step)\n",
    "plt.plot(x, coherence_score)\n",
    "plt.xlabel(\"Number of topics\")\n",
    "plt.ylabel(\"Coherence score\")\n",
    "plt.legend((\"coherence_values\"), loc='best')\n",
    "plt.show()"
   ]
  },
  {
   "cell_type": "markdown",
   "metadata": {},
   "source": [
    "### Hyperparameter tuning  \n",
    "\n",
    "https://medium.com/analytics-vidhya/analyzing-amazon-tv-reviews-with-latent-dirichlet-allocation-97d19c3bb878  \n",
    "https://github.com/Georgebob256/Machine-learning-with-Python/blob/master/Amazon%20TV%20reviews..ipynb"
   ]
  },
  {
   "cell_type": "code",
   "execution_count": 13,
   "metadata": {},
   "outputs": [
    {
     "name": "stderr",
     "output_type": "stream",
     "text": [
      "C:\\Users\\minio\\anaconda3\\envs\\tfm-py-37\\lib\\site-packages\\ipykernel\\ipkernel.py:287: DeprecationWarning: `should_run_async` will not call `transform_cell` automatically in the future. Please pass the result to `transformed_cell` argument and any exception that happen during thetransform in `preprocessing_exc_tuple` in IPython 7.17 and above.\n",
      "  and should_run_async(code)\n"
     ]
    },
    {
     "name": "stdout",
     "output_type": "stream",
     "text": [
      "Iteration num -  1  Topics -  8  Alpha -  0.01  Beta -  0.01  Coherence -  0.5556695240090197\n",
      "Iteration num -  2  Topics -  8  Alpha -  0.01  Beta -  0.31  Coherence -  0.5537729492166699\n",
      "Iteration num -  3  Topics -  8  Alpha -  0.01  Beta -  0.61  Coherence -  0.5509135067440778\n",
      "Iteration num -  4  Topics -  8  Alpha -  0.01  Beta -  0.91  Coherence -  0.5497921818121724\n",
      "Iteration num -  5  Topics -  8  Alpha -  0.01  Beta -  symmetric  Coherence -  0.5649710073517675\n",
      "Iteration num -  6  Topics -  8  Alpha -  0.31  Beta -  0.01  Coherence -  0.5609275614768413\n",
      "Iteration num -  7  Topics -  8  Alpha -  0.31  Beta -  0.31  Coherence -  0.5426171059069349\n",
      "Iteration num -  8  Topics -  8  Alpha -  0.31  Beta -  0.61  Coherence -  0.5515272486728883\n",
      "Iteration num -  9  Topics -  8  Alpha -  0.31  Beta -  0.91  Coherence -  0.5513875924931062\n",
      "Iteration num -  10  Topics -  8  Alpha -  0.31  Beta -  symmetric  Coherence -  0.5554848628471402\n",
      "Iteration num -  11  Topics -  8  Alpha -  0.61  Beta -  0.01  Coherence -  0.5718664495815373\n",
      "Iteration num -  12  Topics -  8  Alpha -  0.61  Beta -  0.31  Coherence -  0.5629012108250342\n",
      "Iteration num -  13  Topics -  8  Alpha -  0.61  Beta -  0.61  Coherence -  0.5557150268558535\n",
      "Iteration num -  14  Topics -  8  Alpha -  0.61  Beta -  0.91  Coherence -  0.5582060890714604\n",
      "Iteration num -  15  Topics -  8  Alpha -  0.61  Beta -  symmetric  Coherence -  0.567025382774105\n",
      "Iteration num -  16  Topics -  8  Alpha -  0.91  Beta -  0.01  Coherence -  0.5624646317732851\n",
      "Iteration num -  17  Topics -  8  Alpha -  0.91  Beta -  0.31  Coherence -  0.5604268337454967\n",
      "Iteration num -  18  Topics -  8  Alpha -  0.91  Beta -  0.61  Coherence -  0.5507523808252095\n",
      "Iteration num -  19  Topics -  8  Alpha -  0.91  Beta -  0.91  Coherence -  0.5573583341655454\n",
      "Iteration num -  20  Topics -  8  Alpha -  0.91  Beta -  symmetric  Coherence -  0.5590174923883298\n",
      "Iteration num -  21  Topics -  8  Alpha -  symmetric  Beta -  0.01  Coherence -  0.5552362770282864\n",
      "Iteration num -  22  Topics -  8  Alpha -  symmetric  Beta -  0.31  Coherence -  0.5490250799847888\n",
      "Iteration num -  23  Topics -  8  Alpha -  symmetric  Beta -  0.61  Coherence -  0.5487757202727368\n",
      "Iteration num -  24  Topics -  8  Alpha -  symmetric  Beta -  0.91  Coherence -  0.5505338842875812\n",
      "Iteration num -  25  Topics -  8  Alpha -  symmetric  Beta -  symmetric  Coherence -  0.5591412202093025\n",
      "Iteration num -  26  Topics -  8  Alpha -  asymmetric  Beta -  0.01  Coherence -  0.5575494259924543\n",
      "Iteration num -  27  Topics -  8  Alpha -  asymmetric  Beta -  0.31  Coherence -  0.5632519432585607\n",
      "Iteration num -  28  Topics -  8  Alpha -  asymmetric  Beta -  0.61  Coherence -  0.5875921659423914\n",
      "Iteration num -  29  Topics -  8  Alpha -  asymmetric  Beta -  0.91  Coherence -  0.5597554939875083\n",
      "Iteration num -  30  Topics -  8  Alpha -  asymmetric  Beta -  symmetric  Coherence -  0.554419119475914\n",
      "Iteration num -  31  Topics -  9  Alpha -  0.01  Beta -  0.01  Coherence -  0.5398927391414672\n",
      "Iteration num -  32  Topics -  9  Alpha -  0.01  Beta -  0.31  Coherence -  0.5356237401676311\n",
      "Iteration num -  33  Topics -  9  Alpha -  0.01  Beta -  0.61  Coherence -  0.5360333121341675\n",
      "Iteration num -  34  Topics -  9  Alpha -  0.01  Beta -  0.91  Coherence -  0.534151486090052\n",
      "Iteration num -  35  Topics -  9  Alpha -  0.01  Beta -  symmetric  Coherence -  0.5346577070086275\n",
      "Iteration num -  36  Topics -  9  Alpha -  0.31  Beta -  0.01  Coherence -  0.5491936805000467\n",
      "Iteration num -  37  Topics -  9  Alpha -  0.31  Beta -  0.31  Coherence -  0.5418078427377543\n",
      "Iteration num -  38  Topics -  9  Alpha -  0.31  Beta -  0.61  Coherence -  0.5375591082046625\n",
      "Iteration num -  39  Topics -  9  Alpha -  0.31  Beta -  0.91  Coherence -  0.5442551340421118\n",
      "Iteration num -  40  Topics -  9  Alpha -  0.31  Beta -  symmetric  Coherence -  0.543111527667352\n",
      "Iteration num -  41  Topics -  9  Alpha -  0.61  Beta -  0.01  Coherence -  0.5429906878302989\n",
      "Iteration num -  42  Topics -  9  Alpha -  0.61  Beta -  0.31  Coherence -  0.5463316097525247\n",
      "Iteration num -  43  Topics -  9  Alpha -  0.61  Beta -  0.61  Coherence -  0.5578138207786965\n",
      "Iteration num -  44  Topics -  9  Alpha -  0.61  Beta -  0.91  Coherence -  0.5510640306515278\n",
      "Iteration num -  45  Topics -  9  Alpha -  0.61  Beta -  symmetric  Coherence -  0.538762958459436\n",
      "Iteration num -  46  Topics -  9  Alpha -  0.91  Beta -  0.01  Coherence -  0.5528520943140904\n",
      "Iteration num -  47  Topics -  9  Alpha -  0.91  Beta -  0.31  Coherence -  0.5206801163293835\n",
      "Iteration num -  48  Topics -  9  Alpha -  0.91  Beta -  0.61  Coherence -  0.5352177443757112\n",
      "Iteration num -  49  Topics -  9  Alpha -  0.91  Beta -  0.91  Coherence -  0.541241264064033\n",
      "Iteration num -  50  Topics -  9  Alpha -  0.91  Beta -  symmetric  Coherence -  0.5476393742484134\n",
      "Iteration num -  51  Topics -  9  Alpha -  symmetric  Beta -  0.01  Coherence -  0.5340201481767779\n",
      "Iteration num -  52  Topics -  9  Alpha -  symmetric  Beta -  0.31  Coherence -  0.5381337492852696\n",
      "Iteration num -  53  Topics -  9  Alpha -  symmetric  Beta -  0.61  Coherence -  0.5350793575516438\n",
      "Iteration num -  54  Topics -  9  Alpha -  symmetric  Beta -  0.91  Coherence -  0.5316023560694902\n",
      "Iteration num -  55  Topics -  9  Alpha -  symmetric  Beta -  symmetric  Coherence -  0.5453737905229245\n",
      "Iteration num -  56  Topics -  9  Alpha -  asymmetric  Beta -  0.01  Coherence -  0.5694947748739498\n",
      "Iteration num -  57  Topics -  9  Alpha -  asymmetric  Beta -  0.31  Coherence -  0.5434817885948613\n",
      "Iteration num -  58  Topics -  9  Alpha -  asymmetric  Beta -  0.61  Coherence -  0.5718366775722633\n",
      "Iteration num -  59  Topics -  9  Alpha -  asymmetric  Beta -  0.91  Coherence -  0.5380408071628163\n",
      "Iteration num -  60  Topics -  9  Alpha -  asymmetric  Beta -  symmetric  Coherence -  0.5642919334303969\n",
      "Iteration num -  61  Topics -  10  Alpha -  0.01  Beta -  0.01  Coherence -  0.5551149023249486\n",
      "Iteration num -  62  Topics -  10  Alpha -  0.01  Beta -  0.31  Coherence -  0.5499585749082022\n",
      "Iteration num -  63  Topics -  10  Alpha -  0.01  Beta -  0.61  Coherence -  0.5438460150918277\n",
      "Iteration num -  64  Topics -  10  Alpha -  0.01  Beta -  0.91  Coherence -  0.5106384803441265\n",
      "Iteration num -  65  Topics -  10  Alpha -  0.01  Beta -  symmetric  Coherence -  0.5497626076843394\n",
      "Iteration num -  66  Topics -  10  Alpha -  0.31  Beta -  0.01  Coherence -  0.5459611235726426\n",
      "Iteration num -  67  Topics -  10  Alpha -  0.31  Beta -  0.31  Coherence -  0.5611455917241567\n",
      "Iteration num -  68  Topics -  10  Alpha -  0.31  Beta -  0.61  Coherence -  0.5423811083537248\n",
      "Iteration num -  69  Topics -  10  Alpha -  0.31  Beta -  0.91  Coherence -  0.5284858604567753\n",
      "Iteration num -  70  Topics -  10  Alpha -  0.31  Beta -  symmetric  Coherence -  0.5496699361379208\n",
      "Iteration num -  71  Topics -  10  Alpha -  0.61  Beta -  0.01  Coherence -  0.5414268772454629\n",
      "Iteration num -  72  Topics -  10  Alpha -  0.61  Beta -  0.31  Coherence -  0.5762373924981404\n",
      "Iteration num -  73  Topics -  10  Alpha -  0.61  Beta -  0.61  Coherence -  0.5622735445553599\n",
      "Iteration num -  74  Topics -  10  Alpha -  0.61  Beta -  0.91  Coherence -  0.5383066428040905\n",
      "Iteration num -  75  Topics -  10  Alpha -  0.61  Beta -  symmetric  Coherence -  0.5536012967373252\n",
      "Iteration num -  76  Topics -  10  Alpha -  0.91  Beta -  0.01  Coherence -  0.5628054519512857\n",
      "Iteration num -  77  Topics -  10  Alpha -  0.91  Beta -  0.31  Coherence -  0.5533888967643064\n",
      "Iteration num -  78  Topics -  10  Alpha -  0.91  Beta -  0.61  Coherence -  0.5633355142983683\n",
      "Iteration num -  79  Topics -  10  Alpha -  0.91  Beta -  0.91  Coherence -  0.5579014507106252\n",
      "Iteration num -  80  Topics -  10  Alpha -  0.91  Beta -  symmetric  Coherence -  0.5600816982537755\n",
      "Iteration num -  81  Topics -  10  Alpha -  symmetric  Beta -  0.01  Coherence -  0.5448707603634376\n",
      "Iteration num -  82  Topics -  10  Alpha -  symmetric  Beta -  0.31  Coherence -  0.5470967399697579\n",
      "Iteration num -  83  Topics -  10  Alpha -  symmetric  Beta -  0.61  Coherence -  0.5421276319557478\n",
      "Iteration num -  84  Topics -  10  Alpha -  symmetric  Beta -  0.91  Coherence -  0.5304717586786463\n"
     ]
    },
    {
     "name": "stdout",
     "output_type": "stream",
     "text": [
      "Iteration num -  85  Topics -  10  Alpha -  symmetric  Beta -  symmetric  Coherence -  0.5596171432140553\n",
      "Iteration num -  86  Topics -  10  Alpha -  asymmetric  Beta -  0.01  Coherence -  0.5753319436413247\n",
      "Iteration num -  87  Topics -  10  Alpha -  asymmetric  Beta -  0.31  Coherence -  0.5306541424642977\n",
      "Iteration num -  88  Topics -  10  Alpha -  asymmetric  Beta -  0.61  Coherence -  0.5113771360417733\n",
      "Iteration num -  89  Topics -  10  Alpha -  asymmetric  Beta -  0.91  Coherence -  0.523161055969577\n",
      "Iteration num -  90  Topics -  10  Alpha -  asymmetric  Beta -  symmetric  Coherence -  0.5607987264901683\n",
      "Iteration num -  91  Topics -  11  Alpha -  0.01  Beta -  0.01  Coherence -  0.5529328271024533\n",
      "Iteration num -  92  Topics -  11  Alpha -  0.01  Beta -  0.31  Coherence -  0.5440904768987328\n",
      "Iteration num -  93  Topics -  11  Alpha -  0.01  Beta -  0.61  Coherence -  0.5466491711411708\n",
      "Iteration num -  94  Topics -  11  Alpha -  0.01  Beta -  0.91  Coherence -  0.5398928261458568\n",
      "Iteration num -  95  Topics -  11  Alpha -  0.01  Beta -  symmetric  Coherence -  0.5498375296781589\n",
      "Iteration num -  96  Topics -  11  Alpha -  0.31  Beta -  0.01  Coherence -  0.5595480909856074\n",
      "Iteration num -  97  Topics -  11  Alpha -  0.31  Beta -  0.31  Coherence -  0.5428981167546553\n",
      "Iteration num -  98  Topics -  11  Alpha -  0.31  Beta -  0.61  Coherence -  0.5428231910379133\n",
      "Iteration num -  99  Topics -  11  Alpha -  0.31  Beta -  0.91  Coherence -  0.5345311720548748\n",
      "Iteration num -  100  Topics -  11  Alpha -  0.31  Beta -  symmetric  Coherence -  0.5441895756071217\n",
      "Iteration num -  101  Topics -  11  Alpha -  0.61  Beta -  0.01  Coherence -  0.5522349888869612\n",
      "Iteration num -  102  Topics -  11  Alpha -  0.61  Beta -  0.31  Coherence -  0.5516313571101403\n",
      "Iteration num -  103  Topics -  11  Alpha -  0.61  Beta -  0.61  Coherence -  0.5429900287900526\n",
      "Iteration num -  104  Topics -  11  Alpha -  0.61  Beta -  0.91  Coherence -  0.5348560645790255\n",
      "Iteration num -  105  Topics -  11  Alpha -  0.61  Beta -  symmetric  Coherence -  0.5525422137195344\n",
      "Iteration num -  106  Topics -  11  Alpha -  0.91  Beta -  0.01  Coherence -  0.5512667284520876\n",
      "Iteration num -  107  Topics -  11  Alpha -  0.91  Beta -  0.31  Coherence -  0.5528809295281703\n",
      "Iteration num -  108  Topics -  11  Alpha -  0.91  Beta -  0.61  Coherence -  0.5463991392910023\n",
      "Iteration num -  109  Topics -  11  Alpha -  0.91  Beta -  0.91  Coherence -  0.5376005417855333\n",
      "Iteration num -  110  Topics -  11  Alpha -  0.91  Beta -  symmetric  Coherence -  0.5602109721664866\n",
      "Iteration num -  111  Topics -  11  Alpha -  symmetric  Beta -  0.01  Coherence -  0.5709989853780074\n",
      "Iteration num -  112  Topics -  11  Alpha -  symmetric  Beta -  0.31  Coherence -  0.5458551308310068\n",
      "Iteration num -  113  Topics -  11  Alpha -  symmetric  Beta -  0.61  Coherence -  0.5441433418131102\n",
      "Iteration num -  114  Topics -  11  Alpha -  symmetric  Beta -  0.91  Coherence -  0.53348330739573\n",
      "Iteration num -  115  Topics -  11  Alpha -  symmetric  Beta -  symmetric  Coherence -  0.550655765665542\n",
      "Iteration num -  116  Topics -  11  Alpha -  asymmetric  Beta -  0.01  Coherence -  0.5856202380887366\n",
      "Iteration num -  117  Topics -  11  Alpha -  asymmetric  Beta -  0.31  Coherence -  0.563543008231408\n",
      "Iteration num -  118  Topics -  11  Alpha -  asymmetric  Beta -  0.61  Coherence -  0.5499970574199776\n",
      "Iteration num -  119  Topics -  11  Alpha -  asymmetric  Beta -  0.91  Coherence -  0.5469389384085818\n",
      "Iteration num -  120  Topics -  11  Alpha -  asymmetric  Beta -  symmetric  Coherence -  0.5944916606730319\n"
     ]
    }
   ],
   "source": [
    "# LDA model and its corresponding Coherence Score\n",
    "def compute_coherence_values(bow_corpus, id2word, n, a, b):\n",
    "    lda_model = gensim.models.LdaMulticore(corpus=bow_corpus\n",
    "                                           ,id2word=id2word\n",
    "                                           ,num_topics=n\n",
    "                                           ,random_state=random_state\n",
    "                                           ,chunksize=chunksize\n",
    "                                           ,passes=10\n",
    "                                           ,alpha=a\n",
    "                                           ,eta=b)\n",
    "    coherence_model_lda = CoherenceModel(model=lda_model, texts=data_words, dictionary=id2word, coherence='c_v')\n",
    "    return coherence_model_lda.get_coherence()\n",
    "\n",
    "grid = {}\n",
    "grid['Validation_Set'] = {}\n",
    "\n",
    "# Topics range\n",
    "min_topics = 8\n",
    "max_topics = 12\n",
    "step_size = 1\n",
    "topics_range = range(min_topics, max_topics, step_size)\n",
    "\n",
    "# Alpha parameter\n",
    "alpha = [0.01, 0.31, 0.61, 0.91, 'symmetric', 'asymmetric']\n",
    "\n",
    "# Beta parameter\n",
    "beta = [0.01, 0.31, 0.61, 0.91, 'symmetric']\n",
    "\n",
    "model_results = {'Topics': []\n",
    "                 ,'Alpha': []\n",
    "                 ,'Beta': []\n",
    "                 ,'Coherence': []\n",
    "                }\n",
    "\n",
    "# iterate through number of topics\n",
    "iter = 0\n",
    "for k in topics_range:\n",
    "    # iterate through alpha values\n",
    "    for a in alpha:\n",
    "        # iterare through beta values\n",
    "        for b in beta:\n",
    "            iter += 1\n",
    "            # get the coherence score for the given parameters\n",
    "            cv = compute_coherence_values(bow_corpus=corpus\n",
    "                                          ,id2word=id2word\n",
    "                                          ,n=k\n",
    "                                          ,a=a\n",
    "                                          ,b=b)\n",
    "            # Save the model results\n",
    "            model_results['Topics'].append(k)\n",
    "            model_results['Alpha'].append(a)\n",
    "            model_results['Beta'].append(b)\n",
    "            model_results['Coherence'].append(cv)\n",
    "            print('Iteration num - ', iter, ' Topics - ', k, ' Alpha - ', a, ' Beta - ', b, ' Coherence - ', cv)\n",
    "\n",
    "pd.DataFrame(model_results).to_csv(file_model + '_lda_tuning_results.csv', index=False)"
   ]
  },
  {
   "cell_type": "code",
   "execution_count": 14,
   "metadata": {},
   "outputs": [
    {
     "name": "stderr",
     "output_type": "stream",
     "text": [
      "C:\\Users\\minio\\anaconda3\\envs\\tfm-py-37\\lib\\site-packages\\ipykernel\\ipkernel.py:287: DeprecationWarning: `should_run_async` will not call `transform_cell` automatically in the future. Please pass the result to `transformed_cell` argument and any exception that happen during thetransform in `preprocessing_exc_tuple` in IPython 7.17 and above.\n",
      "  and should_run_async(code)\n"
     ]
    },
    {
     "data": {
      "text/html": [
       "<div>\n",
       "<style scoped>\n",
       "    .dataframe tbody tr th:only-of-type {\n",
       "        vertical-align: middle;\n",
       "    }\n",
       "\n",
       "    .dataframe tbody tr th {\n",
       "        vertical-align: top;\n",
       "    }\n",
       "\n",
       "    .dataframe thead th {\n",
       "        text-align: right;\n",
       "    }\n",
       "</style>\n",
       "<table border=\"1\" class=\"dataframe\">\n",
       "  <thead>\n",
       "    <tr style=\"text-align: right;\">\n",
       "      <th></th>\n",
       "      <th>Topics</th>\n",
       "      <th>Alpha</th>\n",
       "      <th>Beta</th>\n",
       "      <th>Coherence</th>\n",
       "    </tr>\n",
       "  </thead>\n",
       "  <tbody>\n",
       "    <tr>\n",
       "      <th>119</th>\n",
       "      <td>11</td>\n",
       "      <td>asymmetric</td>\n",
       "      <td>symmetric</td>\n",
       "      <td>0.594492</td>\n",
       "    </tr>\n",
       "    <tr>\n",
       "      <th>27</th>\n",
       "      <td>8</td>\n",
       "      <td>asymmetric</td>\n",
       "      <td>0.61</td>\n",
       "      <td>0.587592</td>\n",
       "    </tr>\n",
       "    <tr>\n",
       "      <th>115</th>\n",
       "      <td>11</td>\n",
       "      <td>asymmetric</td>\n",
       "      <td>0.01</td>\n",
       "      <td>0.585620</td>\n",
       "    </tr>\n",
       "    <tr>\n",
       "      <th>71</th>\n",
       "      <td>10</td>\n",
       "      <td>0.61</td>\n",
       "      <td>0.31</td>\n",
       "      <td>0.576237</td>\n",
       "    </tr>\n",
       "    <tr>\n",
       "      <th>85</th>\n",
       "      <td>10</td>\n",
       "      <td>asymmetric</td>\n",
       "      <td>0.01</td>\n",
       "      <td>0.575332</td>\n",
       "    </tr>\n",
       "    <tr>\n",
       "      <th>...</th>\n",
       "      <td>...</td>\n",
       "      <td>...</td>\n",
       "      <td>...</td>\n",
       "      <td>...</td>\n",
       "    </tr>\n",
       "    <tr>\n",
       "      <th>68</th>\n",
       "      <td>10</td>\n",
       "      <td>0.31</td>\n",
       "      <td>0.91</td>\n",
       "      <td>0.528486</td>\n",
       "    </tr>\n",
       "    <tr>\n",
       "      <th>88</th>\n",
       "      <td>10</td>\n",
       "      <td>asymmetric</td>\n",
       "      <td>0.91</td>\n",
       "      <td>0.523161</td>\n",
       "    </tr>\n",
       "    <tr>\n",
       "      <th>46</th>\n",
       "      <td>9</td>\n",
       "      <td>0.91</td>\n",
       "      <td>0.31</td>\n",
       "      <td>0.520680</td>\n",
       "    </tr>\n",
       "    <tr>\n",
       "      <th>87</th>\n",
       "      <td>10</td>\n",
       "      <td>asymmetric</td>\n",
       "      <td>0.61</td>\n",
       "      <td>0.511377</td>\n",
       "    </tr>\n",
       "    <tr>\n",
       "      <th>63</th>\n",
       "      <td>10</td>\n",
       "      <td>0.01</td>\n",
       "      <td>0.91</td>\n",
       "      <td>0.510638</td>\n",
       "    </tr>\n",
       "  </tbody>\n",
       "</table>\n",
       "<p>120 rows × 4 columns</p>\n",
       "</div>"
      ],
      "text/plain": [
       "     Topics       Alpha       Beta  Coherence\n",
       "119      11  asymmetric  symmetric   0.594492\n",
       "27        8  asymmetric       0.61   0.587592\n",
       "115      11  asymmetric       0.01   0.585620\n",
       "71       10        0.61       0.31   0.576237\n",
       "85       10  asymmetric       0.01   0.575332\n",
       "..      ...         ...        ...        ...\n",
       "68       10        0.31       0.91   0.528486\n",
       "88       10  asymmetric       0.91   0.523161\n",
       "46        9        0.91       0.31   0.520680\n",
       "87       10  asymmetric       0.61   0.511377\n",
       "63       10        0.01       0.91   0.510638\n",
       "\n",
       "[120 rows x 4 columns]"
      ]
     },
     "execution_count": 14,
     "metadata": {},
     "output_type": "execute_result"
    }
   ],
   "source": [
    "pd.DataFrame(model_results).sort_values(by=['Coherence'], ascending=False)"
   ]
  },
  {
   "cell_type": "code",
   "execution_count": null,
   "metadata": {},
   "outputs": [],
   "source": []
  }
 ],
 "metadata": {
  "kernelspec": {
   "display_name": "Python 3",
   "language": "python",
   "name": "python3"
  },
  "language_info": {
   "codemirror_mode": {
    "name": "ipython",
    "version": 3
   },
   "file_extension": ".py",
   "mimetype": "text/x-python",
   "name": "python",
   "nbconvert_exporter": "python",
   "pygments_lexer": "ipython3",
   "version": "3.7.9"
  }
 },
 "nbformat": 4,
 "nbformat_minor": 4
}
