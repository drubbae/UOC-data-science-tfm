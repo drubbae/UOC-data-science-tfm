{
 "cells": [
  {
   "cell_type": "markdown",
   "metadata": {},
   "source": [
    "# <span style=\"color:blue\">LDA model (2019_Nov) - with hyperparameter tuning</span>"
   ]
  },
  {
   "cell_type": "code",
   "execution_count": 1,
   "metadata": {},
   "outputs": [],
   "source": [
    "yyyy_MMM = '2019_Nov'"
   ]
  },
  {
   "cell_type": "markdown",
   "metadata": {},
   "source": [
    "### Load packages"
   ]
  },
  {
   "cell_type": "code",
   "execution_count": 2,
   "metadata": {},
   "outputs": [
    {
     "name": "stderr",
     "output_type": "stream",
     "text": [
      "C:\\Users\\minio\\anaconda3\\envs\\tfm-py-37\\lib\\site-packages\\botocore\\vendored\\requests\\packages\\urllib3\\_collections.py:1: DeprecationWarning: Using or importing the ABCs from 'collections' instead of from 'collections.abc' is deprecated since Python 3.3,and in 3.9 it will stop working\n",
      "  from collections import Mapping, MutableMapping\n",
      "C:\\Users\\minio\\anaconda3\\envs\\tfm-py-37\\lib\\site-packages\\botocore\\vendored\\requests\\packages\\urllib3\\_collections.py:1: DeprecationWarning: Using or importing the ABCs from 'collections' instead of from 'collections.abc' is deprecated since Python 3.3,and in 3.9 it will stop working\n",
      "  from collections import Mapping, MutableMapping\n",
      "C:\\Users\\minio\\anaconda3\\envs\\tfm-py-37\\lib\\site-packages\\scipy\\sparse\\sparsetools.py:21: DeprecationWarning: `scipy.sparse.sparsetools` is deprecated!\n",
      "scipy.sparse.sparsetools is a private module for scipy.sparse, and should not be used.\n",
      "  _deprecated()\n",
      "C:\\Users\\minio\\anaconda3\\envs\\tfm-py-37\\lib\\site-packages\\gensim\\models\\doc2vec.py:73: DeprecationWarning: Using or importing the ABCs from 'collections' instead of from 'collections.abc' is deprecated since Python 3.3,and in 3.9 it will stop working\n",
      "  from collections import namedtuple, defaultdict, Iterable\n",
      "[nltk_data] Downloading package stopwords to\n",
      "[nltk_data]     C:\\Users\\minio\\AppData\\Roaming\\nltk_data...\n",
      "[nltk_data]   Package stopwords is already up-to-date!\n",
      "[nltk_data] Downloading package averaged_perceptron_tagger to\n",
      "[nltk_data]     C:\\Users\\minio\\AppData\\Roaming\\nltk_data...\n",
      "[nltk_data]   Package averaged_perceptron_tagger is already up-to-\n",
      "[nltk_data]       date!\n"
     ]
    },
    {
     "data": {
      "text/plain": [
       "True"
      ]
     },
     "execution_count": 2,
     "metadata": {},
     "output_type": "execute_result"
    }
   ],
   "source": [
    "import csv, os, re, time\n",
    "import numpy as np\n",
    "from numpy import savetxt\n",
    "import pandas as  pd\n",
    "import matplotlib.pyplot as plt  \n",
    "import pyLDAvis\n",
    "import pyLDAvis.gensim\n",
    "import gensim\n",
    "import gensim.corpora as corpora\n",
    "from gensim.corpora.dictionary import Dictionary\n",
    "from gensim.models import CoherenceModel\n",
    "from gensim.test.utils import datapath\n",
    "from gensim.utils import simple_preprocess\n",
    "from pprint import pprint\n",
    "import nltk\n",
    "nltk.download('stopwords')\n",
    "nltk.download('averaged_perceptron_tagger')"
   ]
  },
  {
   "cell_type": "markdown",
   "metadata": {},
   "source": [
    "### Constants"
   ]
  },
  {
   "cell_type": "code",
   "execution_count": 3,
   "metadata": {},
   "outputs": [
    {
     "name": "stdout",
     "output_type": "stream",
     "text": [
      "D:\\master\\data science\\semestre 4\\M2.979 - tfm\\data\\bins_test\\doc\\2019_Nov\\2019_Nov_28_results.csv\n",
      "D:\\master\\data science\\semestre 4\\M2.979 - tfm\\data\\bins_test\\model_hyperparameter\\2019_Nov\\model\n"
     ]
    },
    {
     "name": "stderr",
     "output_type": "stream",
     "text": [
      "C:\\Users\\minio\\anaconda3\\envs\\tfm-py-37\\lib\\site-packages\\ipykernel\\ipkernel.py:287: DeprecationWarning: `should_run_async` will not call `transform_cell` automatically in the future. Please pass the result to `transformed_cell` argument and any exception that happen during thetransform in `preprocessing_exc_tuple` in IPython 7.17 and above.\n",
      "  and should_run_async(code)\n"
     ]
    }
   ],
   "source": [
    "# for reproducible results\n",
    "random_state = 33\n",
    "# if the test is True, the process runs on a smaller subset of raw data (json files)\n",
    "test = True\n",
    "# if sample > 0, then we take a sample of the entire dataset (for debugging purpose)\n",
    "sample = 0\n",
    "# parameters to build the lda model\n",
    "num_topics = 10\n",
    "alpha = 0.91\n",
    "eta = 0.31\n",
    "\n",
    "if test:\n",
    "    # path with the documents preprocessed\n",
    "    path_doc = r'D:\\master\\data science\\semestre 4\\M2.979 - tfm\\data\\bins_test\\doc'\n",
    "    # path where store all data/results related to the model\n",
    "    path_model = r'D:\\master\\data science\\semestre 4\\M2.979 - tfm\\data\\bins_test\\model_hyperparameter'\n",
    "    # chunksize to build LDA model\n",
    "    chunksize = 250\n",
    "else:\n",
    "    # path with the documents preprocessed\n",
    "    path_doc = r'D:\\master\\data science\\semestre 4\\M2.979 - tfm\\data\\bins\\doc'\n",
    "    # path where store all data/results related to the model\n",
    "    path_model = r'D:\\master\\data science\\semestre 4\\M2.979 - tfm\\data\\bins\\model_hyperparameter'\n",
    "    # chunksize to build LDA model\n",
    "    chunksize = 5000\n",
    "\n",
    "# path + name of the file that contains the documents preprocessed\n",
    "file_doc = os.path.join(path_doc, yyyy_MMM, yyyy_MMM) + '_28_results.csv'\n",
    "# path + name of the file that contains the model gotten at the end\n",
    "file_model = os.path.join(path_model, yyyy_MMM, 'model')\n",
    "print(file_doc)\n",
    "print(file_model)"
   ]
  },
  {
   "cell_type": "markdown",
   "metadata": {},
   "source": [
    "### Load data preprocessed"
   ]
  },
  {
   "cell_type": "code",
   "execution_count": 4,
   "metadata": {},
   "outputs": [
    {
     "name": "stderr",
     "output_type": "stream",
     "text": [
      "C:\\Users\\minio\\anaconda3\\envs\\tfm-py-37\\lib\\site-packages\\ipykernel\\ipkernel.py:287: DeprecationWarning: `should_run_async` will not call `transform_cell` automatically in the future. Please pass the result to `transformed_cell` argument and any exception that happen during thetransform in `preprocessing_exc_tuple` in IPython 7.17 and above.\n",
      "  and should_run_async(code)\n"
     ]
    },
    {
     "data": {
      "text/plain": [
       "id_doc\n",
       "36858                ['nancy', 'teddy', 'dubai', 'couple']\n",
       "32911                              ['add', 'jest', 'year']\n",
       "38326    ['follow', 'beautiful', 'karishma', 'shah', 'n...\n",
       "47316    ['pico', 'minha', 'garota', 'zoey', 'grossman'...\n",
       "29580    ['model', 'sherri', 'gulley', 'slingshot', 'sa...\n",
       "21255                        ['weather', 'kilian', 'bron']\n",
       "36817    ['bellas', 'aksar', 'elit', 'check', 'story', ...\n",
       "42759    ['lifestyle', 'lifestyle', 'hotell', 'hotell',...\n",
       "26997    ['splash', 'color', 'hotshot', 'free', 'kesha'...\n",
       "21443    ['crazy', 'reveal', 'john', 'wick', 'portrait'...\n",
       "Name: content_preprocessed, dtype: object"
      ]
     },
     "execution_count": 4,
     "metadata": {},
     "output_type": "execute_result"
    }
   ],
   "source": [
    "df = pd.read_csv(file_doc, index_col='id_doc')\n",
    "documents = df.content_preprocessed\n",
    "documents.head(10)"
   ]
  },
  {
   "cell_type": "markdown",
   "metadata": {},
   "source": [
    "### Shuffle"
   ]
  },
  {
   "cell_type": "code",
   "execution_count": 5,
   "metadata": {},
   "outputs": [
    {
     "name": "stderr",
     "output_type": "stream",
     "text": [
      "C:\\Users\\minio\\anaconda3\\envs\\tfm-py-37\\lib\\site-packages\\ipykernel\\ipkernel.py:287: DeprecationWarning: `should_run_async` will not call `transform_cell` automatically in the future. Please pass the result to `transformed_cell` argument and any exception that happen during thetransform in `preprocessing_exc_tuple` in IPython 7.17 and above.\n",
      "  and should_run_async(code)\n"
     ]
    },
    {
     "data": {
      "text/plain": [
       "id_doc\n",
       "32127    ['emerald', 'diamond', 'best', 'combination', ...\n",
       "36647    ['wedding', 'guest', 'mosh', 'store', 'fabric'...\n",
       "18207    ['kapoor', 'movie', 'screen', 'mumbai', 'tonig...\n",
       "53299    ['pastilla', 'caille', 'cuisine', 'marocaine',...\n",
       "29713    ['cameron', 'strong', 'woman', 'built', 'model...\n",
       "41398    ['mohd', 'tuesday', 'highness', 'sheikh', 'moh...\n",
       "21182                                            ['gomez']\n",
       "5422     ['suara', 'mayo', 'place', 'ifbb', 'iowa', 'bi...\n",
       "18026    ['vijay', 'arakon', 'snap', 'hyderabad', 'airp...\n",
       "18333    ['iconic', 'dialogue', 'birthday', 'shahrukh',...\n",
       "Name: content_preprocessed, dtype: object"
      ]
     },
     "execution_count": 5,
     "metadata": {},
     "output_type": "execute_result"
    }
   ],
   "source": [
    "documents = documents.sample(frac=1, random_state=random_state)\n",
    "documents.head(10)"
   ]
  },
  {
   "cell_type": "markdown",
   "metadata": {},
   "source": [
    "### Sample"
   ]
  },
  {
   "cell_type": "code",
   "execution_count": 6,
   "metadata": {},
   "outputs": [
    {
     "name": "stderr",
     "output_type": "stream",
     "text": [
      "C:\\Users\\minio\\anaconda3\\envs\\tfm-py-37\\lib\\site-packages\\ipykernel\\ipkernel.py:287: DeprecationWarning: `should_run_async` will not call `transform_cell` automatically in the future. Please pass the result to `transformed_cell` argument and any exception that happen during thetransform in `preprocessing_exc_tuple` in IPython 7.17 and above.\n",
      "  and should_run_async(code)\n"
     ]
    }
   ],
   "source": [
    "if sample > 0:\n",
    "    documents = documents.sample(n=sample, random_state=random_state)\n",
    "    print(documents.head(10))"
   ]
  },
  {
   "cell_type": "markdown",
   "metadata": {},
   "source": [
    "### Plot the number of words appearing in each document  \n",
    "\n",
    "https://neptune.ai/blog/exploratory-data-analysis-natural-language-processing-tools"
   ]
  },
  {
   "cell_type": "code",
   "execution_count": 7,
   "metadata": {},
   "outputs": [
    {
     "name": "stdout",
     "output_type": "stream",
     "text": [
      "(4050,)\n"
     ]
    },
    {
     "name": "stderr",
     "output_type": "stream",
     "text": [
      "C:\\Users\\minio\\anaconda3\\envs\\tfm-py-37\\lib\\site-packages\\ipykernel\\ipkernel.py:287: DeprecationWarning: `should_run_async` will not call `transform_cell` automatically in the future. Please pass the result to `transformed_cell` argument and any exception that happen during thetransform in `preprocessing_exc_tuple` in IPython 7.17 and above.\n",
      "  and should_run_async(code)\n"
     ]
    },
    {
     "data": {
      "text/plain": [
       "<AxesSubplot:>"
      ]
     },
     "execution_count": 7,
     "metadata": {},
     "output_type": "execute_result"
    },
    {
     "data": {
      "image/png": "[encoded data removed]",
      "text/plain": [
       "<Figure size 432x288 with 1 Axes>"
      ]
     },
     "metadata": {
      "needs_background": "light"
     },
     "output_type": "display_data"
    }
   ],
   "source": [
    "print(documents.shape)\n",
    "\n",
    "documents.str.split().\\\n",
    "    map(lambda x: len(x)).\\\n",
    "    hist()"
   ]
  },
  {
   "cell_type": "markdown",
   "metadata": {},
   "source": [
    "### Remove words that appear only once"
   ]
  },
  {
   "cell_type": "code",
   "execution_count": 8,
   "metadata": {},
   "outputs": [
    {
     "name": "stderr",
     "output_type": "stream",
     "text": [
      "C:\\Users\\minio\\anaconda3\\envs\\tfm-py-37\\lib\\site-packages\\ipykernel\\ipkernel.py:287: DeprecationWarning: `should_run_async` will not call `transform_cell` automatically in the future. Please pass the result to `transformed_cell` argument and any exception that happen during thetransform in `preprocessing_exc_tuple` in IPython 7.17 and above.\n",
      "  and should_run_async(code)\n"
     ]
    }
   ],
   "source": [
    "####################### PENDING"
   ]
  },
  {
   "cell_type": "markdown",
   "metadata": {},
   "source": [
    "### Tokenize words and Clean-up text"
   ]
  },
  {
   "cell_type": "code",
   "execution_count": 9,
   "metadata": {},
   "outputs": [
    {
     "name": "stderr",
     "output_type": "stream",
     "text": [
      "C:\\Users\\minio\\anaconda3\\envs\\tfm-py-37\\lib\\site-packages\\ipykernel\\ipkernel.py:287: DeprecationWarning: `should_run_async` will not call `transform_cell` automatically in the future. Please pass the result to `transformed_cell` argument and any exception that happen during thetransform in `preprocessing_exc_tuple` in IPython 7.17 and above.\n",
      "  and should_run_async(code)\n"
     ]
    }
   ],
   "source": [
    "# https://www.machinelearningplus.com/nlp/topic-modeling-gensim-python/#3importpackages\n",
    "def sent_to_words(sentences):\n",
    "    for sentence in sentences:\n",
    "        yield(gensim.utils.simple_preprocess(str(sentence), deacc=True))  # deacc=True removes punctuations"
   ]
  },
  {
   "cell_type": "markdown",
   "metadata": {},
   "source": [
    "### Compute bigrams & trigrams  \n",
    "\n",
    "https://radimrehurek.com/gensim/auto_examples/tutorials/run_lda.html#pre-process-and-vectorize-the-documents"
   ]
  },
  {
   "cell_type": "code",
   "execution_count": 10,
   "metadata": {},
   "outputs": [
    {
     "name": "stderr",
     "output_type": "stream",
     "text": [
      "C:\\Users\\minio\\anaconda3\\envs\\tfm-py-37\\lib\\site-packages\\ipykernel\\ipkernel.py:287: DeprecationWarning: `should_run_async` will not call `transform_cell` automatically in the future. Please pass the result to `transformed_cell` argument and any exception that happen during thetransform in `preprocessing_exc_tuple` in IPython 7.17 and above.\n",
      "  and should_run_async(code)\n"
     ]
    }
   ],
   "source": [
    "from gensim.models import Phrases\n",
    "\n",
    "# Add bigrams and trigrams to docs (only ones that appear min_count times or more).\n",
    "def bi_tri_grams(documents, min_count):\n",
    "    bigram = Phrases(documents, min_count=min_count)\n",
    "    for idx in range(len(documents)):\n",
    "        for token in bigram[documents[idx]]:\n",
    "            if '_' in token:\n",
    "                # Token is a bigram, add to document.\n",
    "                documents[idx].append(token)"
   ]
  },
  {
   "cell_type": "markdown",
   "metadata": {},
   "source": [
    "### Categorizing and tagging words"
   ]
  },
  {
   "cell_type": "code",
   "execution_count": 11,
   "metadata": {},
   "outputs": [
    {
     "name": "stderr",
     "output_type": "stream",
     "text": [
      "C:\\Users\\minio\\anaconda3\\envs\\tfm-py-37\\lib\\site-packages\\ipykernel\\ipkernel.py:287: DeprecationWarning: `should_run_async` will not call `transform_cell` automatically in the future. Please pass the result to `transformed_cell` argument and any exception that happen during thetransform in `preprocessing_exc_tuple` in IPython 7.17 and above.\n",
      "  and should_run_async(code)\n"
     ]
    }
   ],
   "source": [
    "# function to remove accented characters\n",
    "def tag_words(text):\n",
    "    tags = nltk.pos_tag(text)\n",
    "    nouns = [word for word, pos in tags if (pos == 'NN' or pos == 'NNP' or pos == 'NNS' or pos == 'NNPS')]\n",
    "    return nouns"
   ]
  },
  {
   "cell_type": "markdown",
   "metadata": {},
   "source": [
    "### Dictionary with the entire dataset"
   ]
  },
  {
   "cell_type": "code",
   "execution_count": 12,
   "metadata": {},
   "outputs": [
    {
     "name": "stderr",
     "output_type": "stream",
     "text": [
      "C:\\Users\\minio\\anaconda3\\envs\\tfm-py-37\\lib\\site-packages\\ipykernel\\ipkernel.py:287: DeprecationWarning: `should_run_async` will not call `transform_cell` automatically in the future. Please pass the result to `transformed_cell` argument and any exception that happen during thetransform in `preprocessing_exc_tuple` in IPython 7.17 and above.\n",
      "  and should_run_async(code)\n"
     ]
    }
   ],
   "source": [
    "data_words = list(sent_to_words(documents))\n",
    "# Compute bigrams & trigrams\n",
    "bi_tri_grams(data_words, 250)\n",
    "# Categorizing and tagging words\n",
    "data_words = list(map(tag_words, data_words))\n",
    "# Create Dictionary\n",
    "id2word = Dictionary(data_words)\n",
    "# Create Corpus\n",
    "texts = data_words\n",
    "# Term Document Frequency\n",
    "corpus_total = [id2word.doc2bow(text) for text in texts]"
   ]
  },
  {
   "cell_type": "markdown",
   "metadata": {},
   "source": [
    "### Build LDA model"
   ]
  },
  {
   "cell_type": "code",
   "execution_count": 13,
   "metadata": {},
   "outputs": [
    {
     "name": "stderr",
     "output_type": "stream",
     "text": [
      "C:\\Users\\minio\\anaconda3\\envs\\tfm-py-37\\lib\\site-packages\\ipykernel\\ipkernel.py:287: DeprecationWarning: `should_run_async` will not call `transform_cell` automatically in the future. Please pass the result to `transformed_cell` argument and any exception that happen during thetransform in `preprocessing_exc_tuple` in IPython 7.17 and above.\n",
      "  and should_run_async(code)\n"
     ]
    },
    {
     "name": "stdout",
     "output_type": "stream",
     "text": [
      "time elapsed - 00:00:23.32\n"
     ]
    }
   ],
   "source": [
    "perplexity_score = []\n",
    "coherence_score = []\n",
    "indixes = []\n",
    "\n",
    "index = 0\n",
    "chunk_size = 250\n",
    "documents_sample = documents[index:chunk_size-1]\n",
    "\n",
    "time_start = time.time()\n",
    "\n",
    "data_words = list(sent_to_words(documents_sample))\n",
    "# Compute bigrams & trigrams\n",
    "bi_tri_grams(data_words, 250)\n",
    "# Categorizing and tagging words\n",
    "data_words = list(map(tag_words, data_words))\n",
    "# # Create Dictionary\n",
    "# id2word = Dictionary(data_words)\n",
    "# Create Corpus\n",
    "texts = data_words\n",
    "# Term Document Frequency\n",
    "corpus = [id2word.doc2bow(text) for text in texts]\n",
    "# Build LDA Model\n",
    "lda_model = gensim.models.LdaMulticore(corpus=corpus\n",
    "                                       ,id2word=id2word\n",
    "                                       ,num_topics=num_topics\n",
    "                                       ,random_state=random_state\n",
    "                                       ,chunksize=chunksize\n",
    "                                       ,passes=50\n",
    "                                       ,per_word_topics=True\n",
    "                                       ,alpha=alpha\n",
    "                                       ,eta=eta)\n",
    "\n",
    "indixes.append(index)\n",
    "\n",
    "# Evaluate LDA Model\n",
    "# Compute Perplexity Score\n",
    "perplexity = lda_model.log_perplexity(corpus)\n",
    "perplexity_score.append(perplexity)\n",
    "\n",
    "# Evaluate LDA Model\n",
    "# Compute Coherence Score\n",
    "coherence_lda_model = CoherenceModel(model=lda_model, texts=data_words, dictionary=id2word, coherence='c_v')\n",
    "coherence = coherence_lda_model.get_coherence()\n",
    "coherence_score.append(coherence)\n",
    "\n",
    "# Save LDA Model\n",
    "temp_file = datapath(file_model)\n",
    "lda_model.save(temp_file)\n",
    "temp_file = datapath(file_model + '_' + str(index).zfill(5))\n",
    "lda_model.save(temp_file)\n",
    "\n",
    "time_end = time.time()\n",
    "hour, rem = divmod(time_end - time_start, 3600)\n",
    "minute, second = divmod(rem, 60)\n",
    "print('time elapsed - {:0>2}:{:0>2}:{:05.2f}'.format(int(hour), int(minute), second))"
   ]
  },
  {
   "cell_type": "markdown",
   "metadata": {},
   "source": [
    "### Incremental learning"
   ]
  },
  {
   "cell_type": "code",
   "execution_count": 14,
   "metadata": {},
   "outputs": [
    {
     "name": "stdout",
     "output_type": "stream",
     "text": [
      "0  -----  250  -----  499\n"
     ]
    },
    {
     "name": "stderr",
     "output_type": "stream",
     "text": [
      "C:\\Users\\minio\\anaconda3\\envs\\tfm-py-37\\lib\\site-packages\\ipykernel\\ipkernel.py:287: DeprecationWarning: `should_run_async` will not call `transform_cell` automatically in the future. Please pass the result to `transformed_cell` argument and any exception that happen during thetransform in `preprocessing_exc_tuple` in IPython 7.17 and above.\n",
      "  and should_run_async(code)\n"
     ]
    },
    {
     "name": "stdout",
     "output_type": "stream",
     "text": [
      "time elapsed - 00:00:23.09\n",
      "1  -----  500  -----  749\n",
      "time elapsed - 00:00:23.66\n",
      "2  -----  750  -----  999\n",
      "time elapsed - 00:00:22.88\n",
      "3  -----  1000  -----  1249\n",
      "time elapsed - 00:00:26.25\n",
      "4  -----  1250  -----  1499\n",
      "time elapsed - 00:00:22.51\n",
      "5  -----  1500  -----  1749\n",
      "time elapsed - 00:00:22.09\n",
      "6  -----  1750  -----  1999\n",
      "time elapsed - 00:00:23.07\n",
      "7  -----  2000  -----  2249\n",
      "time elapsed - 00:00:21.91\n",
      "8  -----  2250  -----  2499\n",
      "time elapsed - 00:00:23.53\n",
      "9  -----  2500  -----  2749\n",
      "time elapsed - 00:00:21.77\n",
      "10  -----  2750  -----  2999\n",
      "time elapsed - 00:00:22.03\n",
      "11  -----  3000  -----  3249\n",
      "time elapsed - 00:00:26.37\n",
      "12  -----  3250  -----  3499\n",
      "time elapsed - 00:00:26.53\n",
      "13  -----  3500  -----  3749\n",
      "time elapsed - 00:00:25.71\n",
      "14  -----  3750  -----  3999\n",
      "time elapsed - 00:00:21.87\n",
      "15  -----  4000  -----  4249\n",
      "time elapsed - 00:00:18.10\n"
     ]
    }
   ],
   "source": [
    "documents_len = len(documents)\n",
    "\n",
    "while index+(index+1)*chunk_size < documents_len:\n",
    "    \n",
    "    time_start = time.time()\n",
    "    \n",
    "    print(index, ' ----- ', (index+1)*chunk_size, ' ----- ', ((index+1)*chunk_size)+chunk_size-1)\n",
    "    documents_sample = documents[(index+1)*chunk_size:((index+1)*chunk_size)+chunk_size-1]\n",
    "    \n",
    "    data_words = list(sent_to_words(documents_sample))\n",
    "    # Compute bigrams & trigrams\n",
    "    bi_tri_grams(data_words, 250)\n",
    "    # Categorizing and tagging words\n",
    "    data_words = list(map(tag_words, data_words))\n",
    "    # Create Corpus\n",
    "    texts = data_words\n",
    "    # Term Document Frequency\n",
    "    corpus = [id2word.doc2bow(text) for text in texts]\n",
    "    # Load LDA Model\n",
    "    temp_file = datapath(file_model)\n",
    "    lda_model = gensim.models.ldamodel.LdaModel.load(temp_file)\n",
    "    # Update LDA Model\n",
    "    lda_model.update(corpus)\n",
    "    \n",
    "    index = index + 1\n",
    "    indixes.append(index)\n",
    "    \n",
    "    # Evaluate LDA Model\n",
    "    # Compute Perplexity Score\n",
    "    perplexity = lda_model.log_perplexity(corpus)\n",
    "    perplexity_score.append(perplexity)\n",
    "\n",
    "    # Evaluate LDA Model\n",
    "    # Compute Coherence Score\n",
    "    coherence_lda_model = CoherenceModel(model=lda_model, texts=data_words, dictionary=id2word, coherence='c_v')\n",
    "    coherence = coherence_lda_model.get_coherence()\n",
    "    coherence_score.append(coherence)\n",
    "    \n",
    "    # Save LDA Model\n",
    "    temp_file = datapath(file_model)\n",
    "    lda_model.save(temp_file)\n",
    "    temp_file = datapath(file_model + '_' + str(index).zfill(5))\n",
    "    lda_model.save(temp_file)\n",
    "    \n",
    "    time_end = time.time()\n",
    "    hour, rem = divmod(time_end - time_start, 3600)\n",
    "    minute, second = divmod(rem, 60)\n",
    "    print('time elapsed - {:0>2}:{:0>2}:{:05.2f}'.format(int(hour), int(minute), second))"
   ]
  },
  {
   "cell_type": "markdown",
   "metadata": {},
   "source": [
    "### Topics in LDA model"
   ]
  },
  {
   "cell_type": "code",
   "execution_count": 15,
   "metadata": {},
   "outputs": [
    {
     "name": "stdout",
     "output_type": "stream",
     "text": [
      "[(0,\n",
      "  '0.054*\"shoot\" + 0.043*\"vanity\" + 0.023*\"video\" + 0.022*\"tygar\" + '\n",
      "  '0.011*\"movie\" + 0.011*\"artist\" + 0.011*\"medium\" + 0.011*\"wear\" + '\n",
      "  '0.011*\"week\" + 0.011*\"suit\"'),\n",
      " (1,\n",
      "  '0.102*\"fashion\" + 0.094*\"model\" + 0.079*\"book\" + 0.063*\"style\" + '\n",
      "  '0.018*\"event\" + 0.018*\"print\" + 0.018*\"agency\" + 0.018*\"blog\" + '\n",
      "  '0.018*\"liberty\" + 0.018*\"history\"'),\n",
      " (2,\n",
      "  '0.045*\"mariah\" + 0.035*\"time\" + 0.029*\"promotion\" + 0.027*\"kapoor\" + '\n",
      "  '0.027*\"carey\" + 0.019*\"lamb\" + 0.018*\"glan\" + 0.018*\"navman\" + '\n",
      "  '0.018*\"christmas\" + 0.018*\"samrat\"'),\n",
      " (3,\n",
      "  '0.029*\"winter\" + 0.029*\"collection\" + 0.025*\"night\" + 0.022*\"design\" + '\n",
      "  '0.022*\"henna\" + 0.016*\"year\" + 0.015*\"people\" + 0.014*\"edition\" + '\n",
      "  '0.014*\"stitch\" + 0.014*\"elan\"'),\n",
      " (4,\n",
      "  '0.051*\"kitchen\" + 0.032*\"gram\" + 0.031*\"love\" + 0.030*\"mana\" + 0.030*\"trip\" '\n",
      "  '+ 0.020*\"birthday\" + 0.020*\"island\" + 0.020*\"dish\" + 0.020*\"grammer\" + '\n",
      "  '0.020*\"paparazzo\"'),\n",
      " (5,\n",
      "  '0.078*\"heuer\" + 0.047*\"monaco\" + 0.032*\"luxury\" + 0.031*\"shanghai\" + '\n",
      "  '0.031*\"hilt\" + 0.031*\"watch\" + 0.025*\"card\" + 0.016*\"space\" + '\n",
      "  '0.016*\"trinity\" + 0.016*\"occasion\"'),\n",
      " (6,\n",
      "  '0.184*\"food\" + 0.041*\"saint\" + 0.041*\"emilion\" + 0.034*\"lunch\" + '\n",
      "  '0.027*\"porn\" + 0.027*\"tasty\" + 0.027*\"gourmand\" + 0.027*\"ephoto\" + '\n",
      "  '0.027*\"pic\" + 0.027*\"yummy\"'),\n",
      " (7,\n",
      "  '0.039*\"die\" + 0.039*\"boosie\" + 0.039*\"slide\" + 0.029*\"badazz\" + '\n",
      "  '0.022*\"gram\" + 0.019*\"clip\" + 0.019*\"post\" + 0.019*\"sleep\" + 0.019*\"video\" '\n",
      "  '+ 0.017*\"year\"'),\n",
      " (8,\n",
      "  '0.165*\"bikini\" + 0.145*\"fitness\" + 0.124*\"ifbb\" + 0.055*\"competitor\" + '\n",
      "  '0.028*\"motivation\" + 0.021*\"body\" + 0.017*\"model\" + 0.014*\"lifestyle\" + '\n",
      "  '0.014*\"prep\" + 0.014*\"hardbody\"'),\n",
      " (9,\n",
      "  '0.048*\"hailey\" + 0.045*\"music\" + 0.034*\"story\" + 0.029*\"bieber\" + '\n",
      "  '0.019*\"baldwin\" + 0.019*\"mika\" + 0.019*\"lilo\" + 0.019*\"bos\" + 0.019*\"feliz\" '\n",
      "  '+ 0.019*\"khadra\"')]\n"
     ]
    },
    {
     "name": "stderr",
     "output_type": "stream",
     "text": [
      "C:\\Users\\minio\\anaconda3\\envs\\tfm-py-37\\lib\\site-packages\\ipykernel\\ipkernel.py:287: DeprecationWarning: `should_run_async` will not call `transform_cell` automatically in the future. Please pass the result to `transformed_cell` argument and any exception that happen during thetransform in `preprocessing_exc_tuple` in IPython 7.17 and above.\n",
      "  and should_run_async(code)\n"
     ]
    }
   ],
   "source": [
    "# Print the Keyword in the 10 topics\n",
    "pprint(lda_model.print_topics())\n",
    "doc_lda = lda_model[corpus]"
   ]
  },
  {
   "cell_type": "markdown",
   "metadata": {},
   "source": [
    "### Plot perplexity score progress along incremental learning iterations  \n",
    "\n",
    "Lower the perplexity score represents a better model.  "
   ]
  },
  {
   "cell_type": "code",
   "execution_count": 16,
   "metadata": {},
   "outputs": [
    {
     "name": "stderr",
     "output_type": "stream",
     "text": [
      "C:\\Users\\minio\\anaconda3\\envs\\tfm-py-37\\lib\\site-packages\\ipykernel\\ipkernel.py:287: DeprecationWarning: `should_run_async` will not call `transform_cell` automatically in the future. Please pass the result to `transformed_cell` argument and any exception that happen during thetransform in `preprocessing_exc_tuple` in IPython 7.17 and above.\n",
      "  and should_run_async(code)\n"
     ]
    },
    {
     "data": {
      "image/png": "[encoded data removed]",
      "text/plain": [
       "<Figure size 432x288 with 1 Axes>"
      ]
     },
     "metadata": {
      "needs_background": "light"
     },
     "output_type": "display_data"
    }
   ],
   "source": [
    "plt.title('Perplexity score progress')\n",
    "plt.xlabel('Index')\n",
    "plt.ylabel('Perplexity score')\n",
    "plt.plot(indixes, perplexity_score, 'go', perplexity_score, 'k')\n",
    "plt.show()"
   ]
  },
  {
   "cell_type": "markdown",
   "metadata": {},
   "source": [
    "### Plot coherence score progress along incremental learning iterations  \n",
    "\n",
    "Higher the coherence score represents a more human interpretable model.  "
   ]
  },
  {
   "cell_type": "code",
   "execution_count": 17,
   "metadata": {},
   "outputs": [
    {
     "name": "stderr",
     "output_type": "stream",
     "text": [
      "C:\\Users\\minio\\anaconda3\\envs\\tfm-py-37\\lib\\site-packages\\ipykernel\\ipkernel.py:287: DeprecationWarning: `should_run_async` will not call `transform_cell` automatically in the future. Please pass the result to `transformed_cell` argument and any exception that happen during thetransform in `preprocessing_exc_tuple` in IPython 7.17 and above.\n",
      "  and should_run_async(code)\n"
     ]
    },
    {
     "data": {
      "image/png": "[encoded data removed]",
      "text/plain": [
       "<Figure size 432x288 with 1 Axes>"
      ]
     },
     "metadata": {
      "needs_background": "light"
     },
     "output_type": "display_data"
    }
   ],
   "source": [
    "plt.title('Coherence score progress')\n",
    "plt.xlabel('Index')\n",
    "plt.ylabel('Coherence score')\n",
    "plt.plot(indixes, coherence_score, 'go', coherence_score, 'k') \n",
    "plt.show()"
   ]
  },
  {
   "cell_type": "markdown",
   "metadata": {},
   "source": [
    "### Visualize the topics-keywords"
   ]
  },
  {
   "cell_type": "code",
   "execution_count": 18,
   "metadata": {},
   "outputs": [
    {
     "name": "stderr",
     "output_type": "stream",
     "text": [
      "C:\\Users\\minio\\anaconda3\\envs\\tfm-py-37\\lib\\site-packages\\ipykernel\\ipkernel.py:287: DeprecationWarning: `should_run_async` will not call `transform_cell` automatically in the future. Please pass the result to `transformed_cell` argument and any exception that happen during thetransform in `preprocessing_exc_tuple` in IPython 7.17 and above.\n",
      "  and should_run_async(code)\n"
     ]
    },
    {
     "data": {
      "text/html": [
       "\n",
       "<link rel=\"stylesheet\" type=\"text/css\" href=\"https://cdn.rawgit.com/bmabey/pyLDAvis/files/ldavis.v1.0.0.css\">\n",
       "\n",
       "\n",
       "<div id=\"ldavis_el162002240087328456829544026\"></div>\n",
       "<script type=\"text/javascript\">\n",
       "\n",
       "var ldavis_el162002240087328456829544026_data = {\"mdsDat\": {\"x\": [0.24995809971986307, 0.22267300812348054, -0.09858104220255656, 0.013546854701911443, -0.10378535673487625, -0.09428612505413903, -0.07089871896472068, -0.0439885267494676, -0.04580951457072997, -0.02882867826876518], \"y\": [0.2310482077884766, -0.2814404977731563, 0.03036975878223905, 0.09732851668362945, -0.01098753210468224, -0.029629507136215, -0.04105164181583472, 0.027012764587364506, -0.01666546173862976, -0.005984607273191886], \"topics\": [1, 2, 3, 4, 5, 6, 7, 8, 9, 10], \"cluster\": [1, 1, 1, 1, 1, 1, 1, 1, 1, 1], \"Freq\": [14.47765822920143, 13.604421684522494, 13.505958571772023, 10.509012237316803, 9.189182464921545, 9.058391082073088, 8.310410659560167, 8.307669927052219, 7.772687109736549, 5.264608033843682]}, \"tinfo\": {\"Term\": [\"food\", \"bikini\", \"fitness\", \"ifbb\", \"fashion\", \"model\", \"book\", \"competitor\", \"style\", \"heuer\", \"saint\", \"emilion\", \"shoot\", \"kitchen\", \"hailey\", \"mariah\", \"lunch\", \"music\", \"vanity\", \"boosie\", \"die\", \"slide\", \"gram\", \"winter\", \"collection\", \"story\", \"motivation\", \"love\", \"time\", \"monaco\", \"bikini\", \"fitness\", \"ifbb\", \"competitor\", \"motivation\", \"body\", \"hardbody\", \"prep\", \"figure\", \"romania\", \"wellness\", \"lifestyle\", \"addict\", \"league\", \"bucharest\", \"roxana\", \"biagini\", \"matilde\", \"spain\", \"jennifer\", \"lab\", \"muscle\", \"transformation\", \"slimfit\", \"matos\", \"brickell\", \"entrenamiento\", \"este\", \"duro\", \"piernas\", \"michell\", \"model\", \"food\", \"saint\", \"emilion\", \"lunch\", \"porn\", \"tasty\", \"ephoto\", \"gourmand\", \"pic\", \"yummy\", \"sweet\", \"tourisme\", \"aquitaine\", \"martini\", \"dinner\", \"foodie\", \"wine\", \"lover\", \"service\", \"chateau\", \"dene\", \"delice\", \"cuisine\", \"terrasse\", \"rouge\", \"sebastien\", \"chev\", \"riot\", \"paroxysm\", \"charme\", \"italienne\", \"trattoria\", \"breakfast\", \"winter\", \"collection\", \"henna\", \"exhibition\", \"stitch\", \"elan\", \"conference\", \"vote\", \"december\", \"store\", \"registration\", \"sale\", \"ticket\", \"shawl\", \"karachi\", \"online\", \"cozy\", \"patas\", \"pashmina\", \"plush\", \"warm\", \"cold\", \"allure\", \"silk\", \"textile\", \"mail\", \"center\", \"comedy\", \"hall\", \"cocktail\", \"breathtaking\", \"dialogue\", \"night\", \"networking\", \"ries\", \"promo\", \"design\", \"edition\", \"people\", \"year\", \"call\", \"maison\", \"sound\", \"book\", \"award\", \"link\", \"music\", \"site\", \"style\", \"agency\", \"blog\", \"print\", \"liberty\", \"history\", \"portrait\", \"couture\", \"rite\", \"catalog\", \"file\", \"headshot\", \"session\", \"consideration\", \"contact\", \"fash\", \"alert\", \"beach\", \"glamour\", \"street\", \"shot\", \"rawalpindi\", \"epic\", \"mission\", \"ghafoor\", \"journey\", \"solution\", \"life\", \"woman\", \"fashion\", \"book\", \"model\", \"event\", \"work\", \"blogger\", \"miami\", \"designer\", \"mariah\", \"kapoor\", \"carey\", \"christmas\", \"samrat\", \"glan\", \"navman\", \"legend\", \"zaitsev\", \"time\", \"nail\", \"boney\", \"pick\", \"quality\", \"vignes\", \"fiance\", \"thara\", \"cinema\", \"khushi\", \"reveals\", \"illustration\", \"sketch\", \"fanart\", \"artwork\", \"arte\", \"nature\", \"kollwitz\", \"riah\", \"mimi\", \"dip\", \"snap\", \"promotion\", \"lamb\", \"movie\", \"love\", \"gram\", \"head\", \"dance\", \"hotshot\", \"boosie\", \"die\", \"slide\", \"badazz\", \"clip\", \"sleep\", \"post\", \"speak\", \"attempt\", \"dont\", \"mind\", \"case\", \"pass\", \"jail\", \"rapper\", \"manner\", \"booboo\", \"outta\", \"death\", \"badass\", \"lord\", \"praise\", \"jesus\", \"homie\", \"move\", \"doctor\", \"robbery\", \"place\", \"drop\", \"song\", \"video\", \"gram\", \"year\", \"story\", \"chile\", \"celebrate\", \"hailey\", \"bieber\", \"feliz\", \"baldwin\", \"mika\", \"lilo\", \"khadra\", \"bos\", \"insecure\", \"ivers\", \"muito\", \"katanga\", \"minha\", \"youtube\", \"para\", \"moambiquebawito\", \"esse\", \"assist\", \"sempre\", \"caesar\", \"daniel\", \"tempo\", \"enjoy\", \"warner\", \"dare\", \"wipe\", \"enter\", \"pageant\", \"rochelle\", \"barry\", \"music\", \"story\", \"follow\", \"dawn\", \"kitchen\", \"mana\", \"trip\", \"island\", \"birthday\", \"dish\", \"grammer\", \"paparazzo\", \"picture\", \"bollywood\", \"actor\", \"neha\", \"recipe\", \"bangkok\", \"closet\", \"thailand\", \"pattaya\", \"mode\", \"beachwear\", \"goodnight\", \"exploration\", \"eat\", \"ceats\", \"eats\", \"meat\", \"series\", \"holiday\", \"meatball\", \"meatless\", \"mood\", \"love\", \"gram\", \"blogger\", \"model\", \"season\", \"shoot\", \"vanity\", \"tygar\", \"suit\", \"medium\", \"mahir\", \"unhcr\", \"goodwill\", \"cannes\", \"appoint\", \"glow\", \"mask\", \"sania\", \"tography\", \"announcement\", \"wear\", \"week\", \"educator\", \"adamu\", \"abdalla\", \"publisher\", \"professorship\", \"professor\", \"scholar\", \"email\", \"nees\", \"hour\", \"person\", \"doubt\", \"mazhar\", \"conflict\", \"contemplate\", \"shift\", \"image\", \"video\", \"movie\", \"artist\", \"heuer\", \"monaco\", \"shanghai\", \"hilt\", \"watch\", \"space\", \"trinity\", \"occasion\", \"slay\", \"party\", \"aura\", \"mamm\", \"launch\", \"lance\", \"bush\", \"living\", \"sponsor\", \"piece\", \"card\", \"luxury\", \"head\", \"edition\", \"step\", \"club\", \"hotel\", \"roll\", \"power\", \"royce\", \"theory\", \"exchange\", \"hair\", \"country\", \"hanif\", \"jeweller\", \"gehn\", \"thing\", \"insecure\"], \"Freq\": [19.0, 19.0, 16.0, 14.0, 9.0, 10.0, 7.0, 6.0, 5.0, 3.0, 4.0, 4.0, 3.0, 3.0, 3.0, 3.0, 3.0, 4.0, 2.0, 2.0, 2.0, 2.0, 5.0, 3.0, 3.0, 3.0, 3.0, 3.0, 2.0, 1.0, 19.107130414266834, 16.72007676200767, 14.33112251119676, 6.371413624552814, 3.187041449076442, 2.390849899887256, 1.5951024047188493, 1.5951024047188493, 1.5950410742628658, 1.5949611294755046, 1.5949092675811467, 1.5951431840922137, 1.5950829296091422, 0.7990615993346334, 0.7989802557824868, 0.798955508405511, 0.798955508405511, 0.798955508405511, 0.7989530336678133, 0.7989530336678133, 0.7989530336678133, 0.7990218959341808, 0.7988915418158931, 0.7988915418158931, 0.7988915418158931, 0.7988468351413998, 0.7988468351413998, 0.7988468351413998, 0.7988468351413998, 0.7988468351413998, 0.7988468351413998, 1.9082254781319912, 19.961212649601652, 4.437936650838556, 4.437918451499843, 3.6987005426599864, 2.9597722055205424, 2.9597722055205424, 2.9597536017520802, 2.9597536017520802, 2.9597347957687434, 2.959248873425104, 2.2205047540364116, 2.2202976860048316, 2.2202976860048316, 2.2202315617408406, 2.2204831170448305, 2.2187123213880473, 1.481161370866872, 1.4811828056435787, 0.7419305202750419, 0.7419654023409086, 0.7419247065973974, 0.7420881973235033, 0.7420693913401665, 0.7419036762504401, 0.7419036762504401, 0.7419036762504401, 0.7419036762504401, 0.7419036762504401, 0.7419011485645077, 0.7419011485645077, 0.7419562521178334, 0.7419183368288478, 1.5227038891654219, 3.1097376422019396, 3.10919220084397, 2.3328167535482844, 1.556300378820396, 1.5563342054191511, 1.5563342054191511, 1.556279500682292, 1.556189463711718, 1.5560391009671029, 1.5561256247894382, 1.555882916433978, 0.7797658862851626, 0.7796469913111996, 0.7796602910866746, 0.7796205423237457, 0.7796007683179451, 0.7795674435975097, 0.7795671926583498, 0.7795671926583498, 0.7795671926583498, 0.7795671926583498, 0.7795671926583498, 0.7795671926583498, 0.7795671926583498, 0.7795671926583498, 0.7795628765047995, 0.7795628765047995, 0.7795628765047995, 0.7795628765047995, 0.7795628765047995, 0.7795628765047995, 0.7795628765047995, 2.7215209099872117, 0.7795628765047995, 0.7795628765047995, 0.7796430264724731, 2.421356520718556, 1.5625323022931419, 1.57091949202248, 1.7713893665847646, 0.7796466901842077, 0.7795955487834191, 0.8526083550589024, 1.0019085228953022, 0.8216047214769705, 0.8058673230026856, 0.8487638667534932, 0.7966228247274478, 5.320929386425, 1.5224185347096906, 1.5224185347096906, 1.5224538370380694, 1.5221567351417142, 1.5221567351417142, 1.515977890445491, 0.7628230992382267, 0.7626677533728612, 0.7626486182612401, 0.7626486182612401, 0.7626486182612401, 0.7626486182612401, 0.7626486182612401, 0.7626486182612401, 0.7626486182612401, 0.7626486182612401, 0.7626486182612401, 0.7626513518486145, 0.762759992421125, 0.7626659570154437, 0.7624821037388876, 0.7624821037388876, 0.7624821037388876, 0.7624821037388876, 0.7624821037388876, 0.7624820256363912, 0.7628029487941521, 0.7626842329996044, 8.556254695675804, 6.62266181968017, 7.897666953842847, 1.5450818485038298, 0.8809435965582916, 0.8441919982561868, 0.7732909425249687, 0.7711728028222488, 3.3119956089387554, 1.9885263584718187, 1.9881930857909451, 1.3265533886366598, 1.3264310065374538, 1.326591223281169, 1.3265573496644243, 1.3262910046940541, 1.3256199519558856, 2.58628205349191, 0.664601862986295, 0.6645222326695125, 0.6644949835302362, 0.6644441048115373, 0.6644441048115373, 0.6644441048115373, 0.6644441048115373, 0.6644441048115373, 0.6644441048115373, 0.6644441048115373, 0.6644931396035182, 0.6644931396035182, 0.6644931396035182, 0.6644931396035182, 0.6644931396035182, 0.6645089837145761, 0.6644067482221032, 0.6643872845511916, 0.6643872845511916, 0.6643872845511916, 0.6644238216176398, 2.0977999143463553, 1.3611694932062737, 1.2844434292981424, 1.2810969071858138, 1.2149664559605027, 0.7476648200881911, 0.6914253283651155, 0.6855390362263516, 2.808376481998918, 2.808376481998918, 2.808375943426545, 2.1069476330226338, 1.4056410399749648, 1.405517706901604, 1.4055796427244707, 0.7041761066497059, 0.7041761066497059, 0.7041581317967652, 0.7041402242653712, 0.7041402242653712, 0.7041402242653712, 0.7041402242653712, 0.7041861375601485, 0.7040879827452139, 0.7040879827452139, 0.7040879827452139, 0.7040879827452139, 0.7040879827452139, 0.7040879827452139, 0.7040879827452139, 0.7040879827452139, 0.7039326719372208, 0.7039124754732424, 0.7039124754732424, 0.7039216312035793, 0.7039170533384109, 0.7038813055971693, 0.703914225833454, 1.342033084533867, 1.559941082267527, 1.2055230302150441, 1.0366690120504392, 0.7303919920736455, 0.7171639813833247, 3.171745940324058, 1.9039981151663226, 1.27001512985274, 1.27008553920584, 1.2700206884858796, 1.2700190826585283, 1.2699794310754666, 1.2700153769031017, 1.2677396724957977, 0.6361869833533874, 0.6361612901157649, 0.6362069326700991, 0.6361906891088137, 0.6361745073101188, 0.636165675259686, 0.6361473935329162, 0.6361473935329162, 0.6361473935329162, 0.6361408466983297, 0.6361408466983297, 0.6361408466983297, 0.6360891514101326, 0.6360515997551458, 0.6360509821292414, 0.6360509821292414, 0.6360509821292414, 0.6360509821292414, 0.6360509821292414, 0.6360509821292414, 0.6360509821292414, 3.0088068388330265, 2.235690401361923, 0.6362037210153964, 0.6713688695075734, 3.359647905625624, 2.0166656804949388, 2.0156147044015778, 1.3453370734564276, 1.3454373428240471, 1.3452966940436055, 1.3452450775464813, 1.3448593121469208, 1.3448007805209952, 1.3361374824617867, 1.3356276151971307, 1.3324182545266514, 1.3266817847326104, 0.6740092073245738, 0.6739919812447919, 0.6739578377963352, 0.6739234473789929, 0.6739234473789929, 0.6739234473789929, 0.6738971451926592, 0.673851147237686, 0.673842873780013, 0.6738258946691168, 0.6738258946691168, 0.6738208935491801, 0.6738089155582206, 0.6738872664372287, 0.6737684126609557, 0.6737684126609557, 0.6736835171064749, 2.062599917495617, 2.1398120229714164, 1.2673361493595034, 0.8128905549351738, 0.6776885497846586, 3.3498872346914768, 2.676492844526927, 1.3413807036570804, 0.6719538153296125, 0.6719864532629568, 0.6719346946996356, 0.6719346946996356, 0.6719346946996356, 0.6719346946996356, 0.6719346946996356, 0.6719346946996356, 0.6719346946996356, 0.6719346946996356, 0.6719346946996356, 0.6719346946996356, 0.6719652530478465, 0.6719539886283736, 0.6718779682384957, 0.6718779682384957, 0.6718779682384957, 0.6718779682384957, 0.6718779682384957, 0.6718771595109438, 0.6718771595109438, 0.6718075511752273, 0.67180385413499, 0.6718285203253228, 0.6717187066770264, 0.6714421796205325, 0.6714418330230103, 0.6714418330230103, 0.6714418330230103, 0.6714418330230103, 0.6714901256111091, 1.4020650774360013, 0.701904693616464, 0.6871667315420265, 3.2588378841463044, 1.9562874618398198, 1.305011468160074, 1.3048554323752708, 1.304102015857676, 0.653789820945998, 0.6537358657435799, 0.6536586695040071, 0.6536410626576777, 0.6534917957271301, 0.6532694016948281, 0.6532515209642225, 0.6533032459661056, 0.6517579908795926, 0.6517412448124172, 0.6516964451700903, 0.647705677381083, 0.6221353327096382, 1.0322493349320094, 1.3446545738393056, 0.569204692242583, 0.6485601571966082, 0.08489655468865587, 0.08236455324435919, 0.0026199782091532627, 0.0026025180865433374, 0.002601130936046071, 0.0025859129352733975, 0.0025856433304389794, 0.002569272631445682, 0.0025762630996523763, 0.013051312044966948, 0.008175830184003132, 0.008175830184003132, 0.008175830184003132, 0.004865115218838587, 0.004394272995434357], \"Total\": [19.0, 19.0, 16.0, 14.0, 9.0, 10.0, 7.0, 6.0, 5.0, 3.0, 4.0, 4.0, 3.0, 3.0, 3.0, 3.0, 3.0, 4.0, 2.0, 2.0, 2.0, 2.0, 5.0, 3.0, 3.0, 3.0, 3.0, 3.0, 2.0, 1.0, 19.132073381644993, 16.744194020688756, 14.355236471133248, 6.395527475735047, 3.2111909799907075, 2.415073991225893, 1.6192162903958556, 1.6192162903958556, 1.6191551268253528, 1.6190742325847594, 1.6190304283214205, 1.619274255510133, 1.6194153562486189, 0.8231747004396989, 0.8230934033027444, 0.8230715671789519, 0.8230715671789519, 0.8230715671789519, 0.8230710205984958, 0.8230710205984958, 0.8230710403119031, 0.823151222594359, 0.8230774028286674, 0.8230774028286674, 0.8230774028286674, 0.8230527016729013, 0.8230527016729013, 0.8230527016729013, 0.8230527016729013, 0.8230527016729013, 0.8230527016729013, 10.64319006886512, 19.98633321532216, 4.462297427291692, 4.462279232658619, 3.7232661178996973, 2.9841349688838608, 2.9841349748699373, 2.984116365105787, 2.984116365105787, 2.9840976561337245, 2.983875653787236, 2.244865518881588, 2.244658512100537, 2.244658512100537, 2.244600594543046, 2.244862865319654, 2.244738505398571, 1.505520919572679, 1.505682693611826, 0.7662889270625778, 0.7663262813478448, 0.7662882081019357, 0.7664570907642924, 0.7664383125367016, 0.7662684098339284, 0.7662684098339284, 0.7662684098339284, 0.7662684098339284, 0.7662684195072541, 0.7662681725865701, 0.7662681725865701, 0.7663252796439455, 0.7662874273039628, 2.145270378261983, 3.1340229991748814, 3.1340464114169495, 2.357116213206876, 1.5804831520807077, 1.5805384871808767, 1.5805384926175343, 1.5804964120052598, 1.5804493800859405, 1.5804805810432232, 1.580607915680223, 1.5804065146983128, 0.8039479696712439, 0.8038291442580824, 0.8038645966889173, 0.8038248943752618, 0.8038051576143646, 0.8037832147566202, 0.8037831415756165, 0.8037831415756165, 0.8037831415756165, 0.8037831415756165, 0.8037831415756165, 0.8037831415756165, 0.8037831415756165, 0.8037831415756165, 0.8037828337134215, 0.8037828337134215, 0.803782833939071, 0.803782833939071, 0.803782833939071, 0.803782833939071, 0.803782833939071, 3.063802098662887, 0.803782833939071, 0.803782833939071, 0.8038784051628394, 3.0323205183166193, 2.2328499242217763, 2.2540019389992567, 3.0041580506147256, 0.8039168204475929, 0.8039006575393717, 1.4524370614333504, 7.646206123849397, 1.4455120474691414, 1.4770048082436236, 4.666932563913258, 1.4756477280757125, 5.345692880718521, 1.5466597741882957, 1.5466597741882957, 1.5466984499185492, 1.5465234495279554, 1.5465237140351091, 1.5457805266382456, 0.7870643485394587, 0.7869092667797682, 0.7868898883692832, 0.7868898883692832, 0.7868898883692832, 0.7868898883692832, 0.7868898883692832, 0.7868898883692832, 0.7868898883692832, 0.7868898883692832, 0.7868898924862539, 0.7869095622870889, 0.7870226153792735, 0.7869448291124893, 0.7868167809512209, 0.7868167809512209, 0.7868167809512209, 0.7868167809512209, 0.7868168349764104, 0.7868168039669666, 0.7871814243426627, 0.7872195053425758, 9.157037388184278, 7.646206123849397, 10.64319006886512, 2.3229027136110365, 1.4404428811231462, 2.1392218527046754, 1.4503400874242223, 1.563374827179573, 3.3373724171077277, 2.0133037790789405, 2.013273165605463, 1.3512493424382186, 1.3512268460931194, 1.351431142294879, 1.351397322584447, 1.351223920421785, 1.3512889431815553, 2.6792687218100566, 0.6892521746151227, 0.6891853675366796, 0.6892113588748637, 0.689172625697786, 0.689172625697786, 0.689172625697786, 0.689172625697786, 0.689172625697786, 0.689172625697786, 0.689172625697786, 0.6892378544249059, 0.6892378544249059, 0.6892378544249059, 0.6892378544249059, 0.6892378544249059, 0.6892548321712936, 0.6891705251086451, 0.6891745737320798, 0.6891745737320798, 0.6891745737320798, 0.6892187136940526, 2.683133113759532, 2.105753272275219, 2.0212824716943474, 3.3665113932388016, 5.41951412743139, 1.3423809327377936, 1.3890465052663215, 1.3317893423967182, 2.832979685982095, 2.832979685982095, 2.8329803618433487, 2.13151621019259, 1.4301072948237612, 1.4300518691774013, 1.4301880606121606, 0.7286423182941522, 0.7286423188801102, 0.7286244109001973, 0.7286065743493872, 0.7286065743493872, 0.728606581641179, 0.7286065899120192, 0.7286808552936063, 0.7285877139246548, 0.7285877139246548, 0.7285877139246548, 0.7285877139246548, 0.7285877139246548, 0.7285877139246548, 0.7285877139246548, 0.7285877674926353, 0.7285975762912568, 0.7285929947277634, 0.7285929978036437, 0.7286297139143606, 0.7286387974844601, 0.7286558988843354, 0.7286919884332561, 2.766286947616113, 5.41951412743139, 3.0041580506147256, 3.2963319229175756, 1.3921141293014334, 1.3914213427003506, 3.1965475013961266, 1.9287937482041309, 1.2948035138159875, 1.2948849515742236, 1.294820180645376, 1.2948204957559797, 1.2947877595322148, 1.2948371143547994, 1.2948811405581242, 0.6609754283331003, 0.660959342817396, 0.661008382362615, 0.6609921757736086, 0.6609760434635588, 0.6609764989286083, 0.6609601162294707, 0.6609601162294707, 0.6609601511899382, 0.6609604499986118, 0.6609604499986118, 0.6609604499986118, 0.660985697544741, 0.6609812897406988, 0.6609815089813907, 0.6609815089813907, 0.6609815089813907, 0.6609815089813907, 0.6609815089813907, 0.6609815089813907, 0.6609815089813907, 4.666932563913258, 3.2963319229175756, 0.661239099068899, 1.3285190493366543, 3.384384415511774, 2.04142133325558, 2.041426497097186, 1.3699540584937118, 1.3701061140428161, 1.3700062981182946, 1.3699547839069943, 1.369994448186226, 1.3699945967940401, 1.3699802730840756, 1.36994506940252, 1.3698847688703688, 1.3717774131363125, 0.6986261448675611, 0.6986089516845064, 0.6985748329733656, 0.6985405066307674, 0.6985405066307674, 0.6985405068409184, 0.6985231084246326, 0.6985577298429148, 0.698559586064159, 0.6985426383387106, 0.6985426389311369, 0.6985429927891648, 0.6985403135019055, 0.6986422267536914, 0.6985280891316226, 0.6985280891316226, 0.6985479236921996, 3.3665113932388016, 5.41951412743139, 2.1392218527046754, 10.64319006886512, 1.474727022342973, 3.37473156154348, 2.705146482397719, 1.3661722986302456, 0.6966456539232769, 0.696681414307275, 0.6966313022915168, 0.6966313022915168, 0.6966313022915168, 0.6966313022915168, 0.6966313022915168, 0.6966313022915168, 0.6966313022915168, 0.6966313022915168, 0.6966313022915168, 0.6966313022915168, 0.6966640843930204, 0.6967080258215572, 0.6966345344552912, 0.6966345344552912, 0.6966345344552912, 0.6966345344552912, 0.6966345344552912, 0.6966344863730707, 0.6966344867494707, 0.6966382038445998, 0.6966386215859763, 0.6966860705136048, 0.6966585313758656, 0.6966489612609564, 0.6966487626771618, 0.6966487626771618, 0.6966487626771618, 0.6966487626771618, 0.6967199674654558, 2.766286947616113, 2.0212824716943474, 1.3590466514403874, 3.283715781468011, 1.9810817807530685, 1.3297642338606368, 1.3297996462263857, 1.3298447291274298, 0.6784617758129098, 0.6784474024060771, 0.678487408528801, 0.6784709785587355, 0.678571545055792, 0.6784948776785036, 0.6784783403519056, 0.6785879126270336, 0.6784534609738435, 0.6784532908194251, 0.67859302683921, 0.679547978501326, 0.6844368140646936, 1.3375788118327874, 2.0992699050415284, 1.3423809327377936, 2.2328499242217763, 0.6634100810109709, 0.6631227030078485, 0.027270321382333963, 0.027234082150152487, 0.02726995893703231, 0.027217475973517122, 0.027217512183802403, 0.027200869117136164, 0.027286236721677782, 0.7277809112529718, 0.8024063592235708, 0.8024063592235708, 0.8024063592235708, 0.7284716059329701, 1.2948811405581242], \"Category\": [\"Default\", \"Default\", \"Default\", \"Default\", \"Default\", \"Default\", \"Default\", \"Default\", \"Default\", \"Default\", \"Default\", \"Default\", \"Default\", \"Default\", \"Default\", \"Default\", \"Default\", \"Default\", \"Default\", \"Default\", \"Default\", \"Default\", \"Default\", \"Default\", \"Default\", \"Default\", \"Default\", \"Default\", \"Default\", \"Default\", \"Topic1\", \"Topic1\", \"Topic1\", \"Topic1\", \"Topic1\", \"Topic1\", \"Topic1\", \"Topic1\", \"Topic1\", \"Topic1\", \"Topic1\", \"Topic1\", \"Topic1\", \"Topic1\", \"Topic1\", \"Topic1\", \"Topic1\", \"Topic1\", \"Topic1\", \"Topic1\", \"Topic1\", \"Topic1\", \"Topic1\", \"Topic1\", \"Topic1\", \"Topic1\", \"Topic1\", \"Topic1\", \"Topic1\", \"Topic1\", \"Topic1\", \"Topic1\", \"Topic2\", \"Topic2\", \"Topic2\", \"Topic2\", \"Topic2\", \"Topic2\", \"Topic2\", \"Topic2\", \"Topic2\", \"Topic2\", \"Topic2\", \"Topic2\", \"Topic2\", \"Topic2\", \"Topic2\", \"Topic2\", \"Topic2\", \"Topic2\", \"Topic2\", \"Topic2\", \"Topic2\", \"Topic2\", \"Topic2\", \"Topic2\", \"Topic2\", \"Topic2\", \"Topic2\", \"Topic2\", \"Topic2\", \"Topic2\", \"Topic2\", \"Topic2\", \"Topic2\", \"Topic3\", \"Topic3\", \"Topic3\", \"Topic3\", \"Topic3\", \"Topic3\", \"Topic3\", \"Topic3\", \"Topic3\", \"Topic3\", \"Topic3\", \"Topic3\", \"Topic3\", \"Topic3\", \"Topic3\", \"Topic3\", \"Topic3\", \"Topic3\", \"Topic3\", \"Topic3\", \"Topic3\", \"Topic3\", \"Topic3\", \"Topic3\", \"Topic3\", \"Topic3\", \"Topic3\", \"Topic3\", \"Topic3\", \"Topic3\", \"Topic3\", \"Topic3\", \"Topic3\", \"Topic3\", \"Topic3\", \"Topic3\", \"Topic3\", \"Topic3\", \"Topic3\", \"Topic3\", \"Topic3\", \"Topic3\", \"Topic3\", \"Topic3\", \"Topic3\", \"Topic3\", \"Topic3\", \"Topic3\", \"Topic4\", \"Topic4\", \"Topic4\", \"Topic4\", \"Topic4\", \"Topic4\", \"Topic4\", \"Topic4\", \"Topic4\", \"Topic4\", \"Topic4\", \"Topic4\", \"Topic4\", \"Topic4\", \"Topic4\", \"Topic4\", \"Topic4\", \"Topic4\", \"Topic4\", \"Topic4\", \"Topic4\", \"Topic4\", \"Topic4\", \"Topic4\", \"Topic4\", \"Topic4\", \"Topic4\", \"Topic4\", \"Topic4\", \"Topic4\", \"Topic4\", \"Topic4\", \"Topic4\", \"Topic4\", \"Topic4\", \"Topic4\", \"Topic4\", \"Topic5\", \"Topic5\", \"Topic5\", \"Topic5\", \"Topic5\", \"Topic5\", \"Topic5\", \"Topic5\", \"Topic5\", \"Topic5\", \"Topic5\", \"Topic5\", \"Topic5\", \"Topic5\", \"Topic5\", \"Topic5\", \"Topic5\", \"Topic5\", \"Topic5\", \"Topic5\", \"Topic5\", \"Topic5\", \"Topic5\", \"Topic5\", \"Topic5\", \"Topic5\", \"Topic5\", \"Topic5\", \"Topic5\", \"Topic5\", \"Topic5\", \"Topic5\", \"Topic5\", \"Topic5\", \"Topic5\", \"Topic5\", \"Topic5\", \"Topic5\", \"Topic5\", \"Topic6\", \"Topic6\", \"Topic6\", \"Topic6\", \"Topic6\", \"Topic6\", \"Topic6\", \"Topic6\", \"Topic6\", \"Topic6\", \"Topic6\", \"Topic6\", \"Topic6\", \"Topic6\", \"Topic6\", \"Topic6\", \"Topic6\", \"Topic6\", \"Topic6\", \"Topic6\", \"Topic6\", \"Topic6\", \"Topic6\", \"Topic6\", \"Topic6\", \"Topic6\", \"Topic6\", \"Topic6\", \"Topic6\", \"Topic6\", \"Topic6\", \"Topic6\", \"Topic6\", \"Topic6\", \"Topic6\", \"Topic6\", \"Topic7\", \"Topic7\", \"Topic7\", \"Topic7\", \"Topic7\", \"Topic7\", \"Topic7\", \"Topic7\", \"Topic7\", \"Topic7\", \"Topic7\", \"Topic7\", \"Topic7\", \"Topic7\", \"Topic7\", \"Topic7\", \"Topic7\", \"Topic7\", \"Topic7\", \"Topic7\", \"Topic7\", \"Topic7\", \"Topic7\", \"Topic7\", \"Topic7\", \"Topic7\", \"Topic7\", \"Topic7\", \"Topic7\", \"Topic7\", \"Topic7\", \"Topic7\", \"Topic7\", \"Topic7\", \"Topic8\", \"Topic8\", \"Topic8\", \"Topic8\", \"Topic8\", \"Topic8\", \"Topic8\", \"Topic8\", \"Topic8\", \"Topic8\", \"Topic8\", \"Topic8\", \"Topic8\", \"Topic8\", \"Topic8\", \"Topic8\", \"Topic8\", \"Topic8\", \"Topic8\", \"Topic8\", \"Topic8\", \"Topic8\", \"Topic8\", \"Topic8\", \"Topic8\", \"Topic8\", \"Topic8\", \"Topic8\", \"Topic8\", \"Topic8\", \"Topic8\", \"Topic8\", \"Topic8\", \"Topic8\", \"Topic8\", \"Topic9\", \"Topic9\", \"Topic9\", \"Topic9\", \"Topic9\", \"Topic9\", \"Topic9\", \"Topic9\", \"Topic9\", \"Topic9\", \"Topic9\", \"Topic9\", \"Topic9\", \"Topic9\", \"Topic9\", \"Topic9\", \"Topic9\", \"Topic9\", \"Topic9\", \"Topic9\", \"Topic9\", \"Topic9\", \"Topic9\", \"Topic9\", \"Topic9\", \"Topic9\", \"Topic9\", \"Topic9\", \"Topic9\", \"Topic9\", \"Topic9\", \"Topic9\", \"Topic9\", \"Topic9\", \"Topic9\", \"Topic9\", \"Topic9\", \"Topic10\", \"Topic10\", \"Topic10\", \"Topic10\", \"Topic10\", \"Topic10\", \"Topic10\", \"Topic10\", \"Topic10\", \"Topic10\", \"Topic10\", \"Topic10\", \"Topic10\", \"Topic10\", \"Topic10\", \"Topic10\", \"Topic10\", \"Topic10\", \"Topic10\", \"Topic10\", \"Topic10\", \"Topic10\", \"Topic10\", \"Topic10\", \"Topic10\", \"Topic10\", \"Topic10\", \"Topic10\", \"Topic10\", \"Topic10\", \"Topic10\", \"Topic10\", \"Topic10\", \"Topic10\", \"Topic10\", \"Topic10\", \"Topic10\"], \"logprob\": [30.0, 29.0, 28.0, 27.0, 26.0, 25.0, 24.0, 23.0, 22.0, 21.0, 20.0, 19.0, 18.0, 17.0, 16.0, 15.0, 14.0, 13.0, 12.0, 11.0, 10.0, 9.0, 8.0, 7.0, 6.0, 5.0, 4.0, 3.0, 2.0, 1.0, -1.7994999885559082, -1.9328999519348145, -2.087100028991699, -2.897700071334839, -3.5905001163482666, -3.8778998851776123, -4.282599925994873, -4.282599925994873, -4.282599925994873, -4.282700061798096, -4.282700061798096, -4.282599925994873, -4.282599925994873, -4.973899841308594, -4.973999977111816, -4.973999977111816, -4.973999977111816, -4.973999977111816, -4.973999977111816, -4.973999977111816, -4.973999977111816, -4.973899841308594, -4.974100112915039, -4.974100112915039, -4.974100112915039, -4.974100112915039, -4.974100112915039, -4.974100112915039, -4.974100112915039, -4.974100112915039, -4.974100112915039, -4.103400230407715, -1.69350004196167, -3.1970999240875244, -3.1970999240875244, -3.3794000148773193, -3.6022000312805176, -3.6022000312805176, -3.6022000312805176, -3.6022000312805176, -3.6022000312805176, -3.602400064468384, -3.8896000385284424, -3.889699935913086, -3.889699935913086, -3.889699935913086, -3.8896000385284424, -3.890399932861328, -4.29449987411499, -4.29449987411499, -4.985799789428711, -4.985799789428711, -4.985799789428711, -4.985599994659424, -4.985599994659424, -4.985899925231934, -4.985899925231934, -4.985899925231934, -4.985899925231934, -4.985899925231934, -4.985899925231934, -4.985899925231934, -4.985799789428711, -4.985799789428711, -4.2667999267578125, -3.5455000400543213, -3.5457000732421875, -3.8329999446868896, -4.237800121307373, -4.23769998550415, -4.23769998550415, -4.237800121307373, -4.237800121307373, -4.2378997802734375, -4.2378997802734375, -4.23799991607666, -4.928800106048584, -4.928999900817871, -4.928999900817871, -4.928999900817871, -4.928999900817871, -4.929100036621094, -4.929100036621094, -4.929100036621094, -4.929100036621094, -4.929100036621094, -4.929100036621094, -4.929100036621094, -4.929100036621094, -4.929100036621094, -4.929100036621094, -4.929100036621094, -4.929100036621094, -4.929100036621094, -4.929100036621094, -4.929100036621094, -4.929100036621094, -3.6789000034332275, -4.929100036621094, -4.929100036621094, -4.928999900817871, -3.7957000732421875, -4.233799934387207, -4.228400230407715, -4.10830020904541, -4.928999900817871, -4.928999900817871, -4.8394999504089355, -4.678199768066406, -4.8765997886657715, -4.895899772644043, -4.843999862670898, -4.907400131225586, -2.757499933242798, -4.008900165557861, -4.008900165557861, -4.008800029754639, -4.008999824523926, -4.008999824523926, -4.0131001472473145, -4.699900150299072, -4.700099945068359, -4.700099945068359, -4.700099945068359, -4.700099945068359, -4.700099945068359, -4.700099945068359, -4.700099945068359, -4.700099945068359, -4.700099945068359, -4.700099945068359, -4.700099945068359, -4.699999809265137, -4.700099945068359, -4.700300216674805, -4.700300216674805, -4.700300216674805, -4.700300216674805, -4.700300216674805, -4.700300216674805, -4.699900150299072, -4.700099945068359, -2.2825000286102295, -2.5387001037597656, -2.362600088119507, -3.9941000938415527, -4.5559000968933105, -4.598499774932861, -4.686299800872803, -4.689000129699707, -3.097399950027466, -3.607599973678589, -3.6077001094818115, -4.012400150299072, -4.012499809265137, -4.012400150299072, -4.012400150299072, -4.012599945068359, -4.0131001472473145, -3.3447000980377197, -4.703499794006348, -4.703700065612793, -4.703700065612793, -4.703800201416016, -4.703800201416016, -4.703800201416016, -4.703800201416016, -4.703800201416016, -4.703800201416016, -4.703800201416016, -4.703700065612793, -4.703700065612793, -4.703700065612793, -4.703700065612793, -4.703700065612793, -4.703700065612793, -4.703800201416016, -4.70389986038208, -4.70389986038208, -4.70389986038208, -4.703800201416016, -3.5541000366210938, -3.986599922180176, -4.044600009918213, -4.0472002029418945, -4.100200176239014, -4.5858001708984375, -4.664000034332275, -4.672500133514404, -3.247999906539917, -3.247999906539917, -3.247999906539917, -3.535399913787842, -3.9400999546051025, -3.940200090408325, -3.940200090408325, -4.631400108337402, -4.631400108337402, -4.631400108337402, -4.631400108337402, -4.631400108337402, -4.631400108337402, -4.631400108337402, -4.63129997253418, -4.631499767303467, -4.631499767303467, -4.631499767303467, -4.631499767303467, -4.631499767303467, -4.631499767303467, -4.631499767303467, -4.631499767303467, -4.631700038909912, -4.631700038909912, -4.631700038909912, -4.631700038909912, -4.631700038909912, -4.631800174713135, -4.631700038909912, -3.9863998889923096, -3.8359999656677246, -4.093699932098389, -4.24459981918335, -4.594799995422363, -4.613100051879883, -3.0401999950408936, -3.55049991607666, -3.955399990081787, -3.955399990081787, -3.955399990081787, -3.955399990081787, -3.955399990081787, -3.955399990081787, -3.957200050354004, -4.646699905395508, -4.6468000411987305, -4.646699905395508, -4.646699905395508, -4.646699905395508, -4.646699905395508, -4.6468000411987305, -4.6468000411987305, -4.6468000411987305, -4.6468000411987305, -4.6468000411987305, -4.6468000411987305, -4.646900177001953, -4.646900177001953, -4.646900177001953, -4.646900177001953, -4.646900177001953, -4.646900177001953, -4.646900177001953, -4.646900177001953, -4.646900177001953, -3.092900037765503, -3.389899969100952, -4.646699905395508, -4.592899799346924, -2.982300043106079, -3.4927000999450684, -3.4932000637054443, -3.8975000381469727, -3.89739990234375, -3.8975000381469727, -3.8975000381469727, -3.8977999687194824, -3.897900104522705, -3.9042999744415283, -3.9047000408172607, -3.907099962234497, -3.911400079727173, -4.588600158691406, -4.588699817657471, -4.588699817657471, -4.588799953460693, -4.588799953460693, -4.588799953460693, -4.588799953460693, -4.588900089263916, -4.588900089263916, -4.588900089263916, -4.588900089263916, -4.588900089263916, -4.588900089263916, -4.588799953460693, -4.589000225067139, -4.589000225067139, -4.589099884033203, -3.4702000617980957, -3.4333999156951904, -3.957200050354004, -4.401299953460693, -4.583199977874756, -2.918600082397461, -3.1429998874664307, -3.833899974822998, -4.525100231170654, -4.525100231170654, -4.525100231170654, -4.525100231170654, -4.525100231170654, -4.525100231170654, -4.525100231170654, -4.525100231170654, -4.525100231170654, -4.525100231170654, -4.525100231170654, -4.525100231170654, -4.525100231170654, -4.525100231170654, -4.525199890136719, -4.525199890136719, -4.525199890136719, -4.525199890136719, -4.525199890136719, -4.525199890136719, -4.525199890136719, -4.525300025939941, -4.525300025939941, -4.525300025939941, -4.5254998207092285, -4.525899887084961, -4.525899887084961, -4.525899887084961, -4.525899887084961, -4.525899887084961, -4.5258002281188965, -3.789599895477295, -4.481500148773193, -4.502699851989746, -2.5566000938415527, -3.0669000148773193, -3.4716999530792236, -3.47189998626709, -3.472399950027466, -4.162899971008301, -4.163000106811523, -4.163099765777588, -4.163099765777588, -4.163400173187256, -4.163700103759766, -4.163700103759766, -4.163700103759766, -4.165999889373779, -4.166100025177002, -4.166100025177002, -4.172299861907959, -4.212500095367432, -3.706199884414673, -3.441800117492676, -4.301499843597412, -4.170899868011475, -6.2042999267578125, -6.234499931335449, -9.682499885559082, -9.689200401306152, -9.689800262451172, -9.695599555969238, -9.695699691772461, -9.702099800109863, -9.699399948120117, -8.076800346374512, -8.544500350952148, -8.544500350952148, -8.544500350952148, -9.063599586486816, -9.165399551391602], \"loglift\": [30.0, 29.0, 28.0, 27.0, 26.0, 25.0, 24.0, 23.0, 22.0, 21.0, 20.0, 19.0, 18.0, 17.0, 16.0, 15.0, 14.0, 13.0, 12.0, 11.0, 10.0, 9.0, 8.0, 7.0, 6.0, 5.0, 4.0, 3.0, 2.0, 1.0, 1.9313, 1.9311, 1.9309, 1.9288, 1.925, 1.9225, 1.9176, 1.9176, 1.9176, 1.9176, 1.9176, 1.9175, 1.9174, 1.9028, 1.9028, 1.9028, 1.9028, 1.9028, 1.9028, 1.9028, 1.9028, 1.9028, 1.9027, 1.9027, 1.9027, 1.9027, 1.9027, 1.9027, 1.9027, 1.9027, 1.9027, 0.2138, 1.9935, 1.9893, 1.9893, 1.9882, 1.9866, 1.9866, 1.9866, 1.9866, 1.9866, 1.9865, 1.9839, 1.9839, 1.9839, 1.9839, 1.9839, 1.9831, 1.9785, 1.9784, 1.9625, 1.9625, 1.9625, 1.9625, 1.9625, 1.9625, 1.9625, 1.9625, 1.9625, 1.9625, 1.9625, 1.9625, 1.9625, 1.9625, 1.652, 1.9943, 1.9941, 1.9917, 1.9866, 1.9866, 1.9866, 1.9866, 1.9866, 1.9865, 1.9864, 1.9864, 1.9715, 1.9715, 1.9715, 1.9715, 1.9715, 1.9714, 1.9714, 1.9714, 1.9714, 1.9714, 1.9714, 1.9714, 1.9714, 1.9714, 1.9714, 1.9714, 1.9714, 1.9714, 1.9714, 1.9714, 1.9714, 1.8836, 1.9714, 1.9714, 1.9714, 1.777, 1.6451, 1.641, 1.4738, 1.9714, 1.9713, 1.4693, -0.0303, 1.4371, 1.3962, 0.2976, 1.3856, 2.2483, 2.2371, 2.2371, 2.2371, 2.2371, 2.2371, 2.2335, 2.2217, 2.2216, 2.2216, 2.2216, 2.2216, 2.2216, 2.2216, 2.2216, 2.2216, 2.2216, 2.2216, 2.2216, 2.2216, 2.2216, 2.2215, 2.2215, 2.2215, 2.2215, 2.2215, 2.2215, 2.2215, 2.2213, 2.1851, 2.1092, 1.9546, 1.8452, 1.7612, 1.3231, 1.624, 1.5462, 2.3795, 2.3748, 2.3746, 2.3687, 2.3686, 2.3686, 2.3686, 2.3685, 2.368, 2.3518, 2.3507, 2.3507, 2.3506, 2.3506, 2.3506, 2.3506, 2.3506, 2.3506, 2.3506, 2.3506, 2.3506, 2.3506, 2.3506, 2.3506, 2.3506, 2.3506, 2.3505, 2.3505, 2.3505, 2.3505, 2.3505, 2.141, 1.9508, 1.9337, 1.421, 0.8919, 1.8019, 1.6895, 1.7231, 2.3928, 2.3928, 2.3928, 2.3899, 2.3842, 2.3842, 2.3841, 2.3673, 2.3673, 2.3673, 2.3673, 2.3673, 2.3673, 2.3673, 2.3673, 2.3673, 2.3673, 2.3673, 2.3673, 2.3673, 2.3673, 2.3673, 2.3673, 2.367, 2.367, 2.367, 2.367, 2.367, 2.3669, 2.3669, 1.6782, 1.1561, 1.4884, 1.2447, 1.7565, 1.7387, 2.4799, 2.4747, 2.4683, 2.4683, 2.4683, 2.4683, 2.4683, 2.4683, 2.4665, 2.4494, 2.4494, 2.4494, 2.4494, 2.4494, 2.4494, 2.4494, 2.4494, 2.4494, 2.4494, 2.4494, 2.4494, 2.4493, 2.4492, 2.4492, 2.4492, 2.4492, 2.4492, 2.4492, 2.4492, 2.4492, 2.0487, 2.0994, 2.4491, 1.8052, 2.4807, 2.4758, 2.4753, 2.4699, 2.4698, 2.4698, 2.4698, 2.4695, 2.4694, 2.463, 2.4626, 2.4603, 2.4546, 2.4521, 2.4521, 2.4521, 2.4521, 2.4521, 2.4521, 2.4521, 2.452, 2.452, 2.452, 2.452, 2.452, 2.4519, 2.4519, 2.4519, 2.4519, 2.4517, 1.9981, 1.5587, 1.9645, -0.0841, 1.7105, 2.5472, 2.5439, 2.5362, 2.5185, 2.5185, 2.5185, 2.5185, 2.5185, 2.5185, 2.5185, 2.5185, 2.5185, 2.5185, 2.5185, 2.5185, 2.5185, 2.5184, 2.5184, 2.5184, 2.5184, 2.5184, 2.5184, 2.5184, 2.5184, 2.5183, 2.5183, 2.5182, 2.5181, 2.5177, 2.5177, 2.5177, 2.5177, 2.5177, 2.5177, 1.875, 1.4969, 1.8726, 2.9366, 2.9316, 2.9254, 2.9252, 2.9246, 2.9071, 2.9071, 2.9069, 2.9069, 2.9065, 2.9063, 2.9063, 2.9062, 2.904, 2.904, 2.9037, 2.8962, 2.8487, 2.685, 2.4987, 2.0862, 1.7079, 0.8882, 0.8584, 0.6015, 0.5962, 0.5943, 0.5904, 0.5903, 0.5845, 0.5841, -1.0769, -1.6423, -1.6423, -1.6423, -2.0647, -2.7417]}, \"token.table\": {\"Topic\": [9, 8, 9, 1, 4, 4, 3, 9, 9, 2, 5, 5, 9, 5, 7, 6, 10, 3, 7, 6, 6, 7, 8, 7, 4, 8, 1, 7, 1, 8, 4, 4, 8, 1, 8, 5, 6, 3, 4, 6, 7, 2, 7, 3, 1, 1, 10, 7, 3, 9, 10, 5, 6, 4, 8, 5, 6, 3, 2, 2, 2, 5, 6, 5, 5, 6, 8, 7, 3, 3, 3, 3, 1, 3, 9, 4, 4, 9, 6, 4, 3, 2, 5, 6, 7, 7, 7, 9, 6, 3, 2, 2, 3, 5, 3, 4, 3, 6, 2, 5, 8, 6, 6, 9, 6, 1, 8, 8, 3, 10, 9, 3, 9, 2, 7, 7, 1, 2, 4, 7, 1, 3, 4, 3, 8, 5, 4, 3, 4, 7, 5, 1, 4, 1, 7, 2, 2, 3, 4, 4, 5, 9, 8, 9, 2, 5, 6, 8, 8, 7, 3, 3, 1, 5, 10, 4, 3, 10, 10, 4, 8, 6, 5, 7, 9, 1, 5, 9, 7, 8, 2, 7, 6, 1, 6, 3, 4, 5, 3, 7, 7, 5, 8, 5, 1, 4, 5, 10, 10, 1, 5, 4, 4, 1, 7, 3, 9, 10, 6, 5, 8, 2, 2, 3, 10, 9, 3, 3, 10, 8, 6, 5, 2, 9, 1, 1, 9, 8, 8, 8, 9, 4, 5, 1, 7, 5, 6, 7, 4, 7, 8, 1, 4, 8, 10, 8, 1, 6, 5, 9, 7, 1, 3, 5, 7, 5, 5, 5, 9, 8, 3, 3, 10, 3, 6, 7, 8, 7, 2, 10, 3, 6, 3, 8, 3, 8, 9, 2, 5, 8, 10, 1, 6, 3, 2, 4, 6, 6, 1, 4, 9, 9, 3, 5, 8, 9, 5, 6, 4, 8, 3, 5, 5, 3, 2, 4, 6, 7, 1, 2, 1, 2, 3, 5, 9, 9, 3, 8, 2, 7, 8, 2, 4, 10, 3, 9, 9, 4, 3, 3, 9, 5, 10, 6, 6, 1, 5, 4, 6, 3, 7, 10, 1, 6, 10, 7, 3, 3, 6, 7, 4, 4, 9, 2, 2, 7, 2, 3, 8, 5, 6, 3, 5, 9, 2, 1, 2, 10, 8, 9, 9, 9, 6, 9, 5, 3, 3, 7, 10, 9, 9, 1, 2, 3, 7, 4, 4, 7, 3, 6, 7, 2, 5], \"Freq\": [1.4354729065820928, 0.7299562751345456, 1.4354729065820928, 1.235013606782763, 1.2931092108150433, 1.2708258357117246, 1.2441166631583604, 1.4354795667529932, 1.4354795667529932, 0.8910041278966808, 1.4508779423242668, 0.7358099142072486, 0.7358099142072486, 1.4508779423242668, 1.512950513279329, 1.3724154829998814, 1.4738504783139095, 0.6917963788339494, 0.6917963788339494, 1.3725183404662964, 0.9382992212005242, 0.7722693809857589, 1.4313807282285012, 1.5129016264631299, 1.270825829062824, 1.431556209277545, 1.2149611769818072, 1.036917504456953, 0.9930967554320745, 0.7298704748125442, 1.2931092108150433, 0.46745969742954585, 0.46745969742954585, 0.8281319774326247, 0.7299375178219301, 1.450988438095036, 1.3725183404662964, 0.13078381406445283, 0.9154866984511697, 1.0589557047812028, 0.7722979121573041, 0.9322834176363002, 0.4661417088181501, 1.2441171393264698, 1.2149890255720481, 1.2149289448650666, 1.4739408202917197, 1.5129498293008308, 1.2439097858945591, 1.4354795667529932, 0.7476194981212153, 0.993407171052483, 1.3724828119935026, 1.2708258357117246, 1.4315518410990944, 0.7186895653471048, 0.7186895653471048, 1.2441171396757364, 1.3050261459045838, 1.3049271887702465, 1.3050257418503364, 0.7183319089662589, 0.7183319089662589, 0.7400558642978372, 1.4510152648438435, 0.69924823376503, 1.4314159553621102, 1.5080165336884332, 1.2441171393264698, 1.2441166631583604, 0.9572289641504239, 1.2441171393264698, 0.9381556130849725, 1.265425207427389, 1.4354435887563846, 1.2708258357117246, 1.2708258357117246, 1.4354435887563846, 1.3740398855451796, 1.2705441452858106, 1.2441165498868907, 1.3047364460295219, 0.7199183009414579, 0.7199183009414579, 1.5129498293008308, 1.5129016264631299, 0.7527178481176556, 0.7527178481176556, 1.3725183404662964, 1.2654378826216681, 1.3047044799374539, 1.3049920244459443, 0.6595608834617167, 0.32978044173085835, 0.6396418712997082, 0.6396418712997082, 1.2441171393264698, 1.0589557047812028, 0.8909230184602892, 1.451011163375791, 0.7299236517186098, 1.372508386732397, 1.3724492139434705, 1.4354431795749307, 1.3723899052092035, 1.2149890255720481, 1.4315171102786288, 1.4315518398850111, 0.8957162674948105, 0.44785813374740524, 1.4354729065820928, 1.2653915164620853, 1.4354653455426507, 0.8964028899681399, 1.5129021282770307, 1.5129016264631299, 1.2149890255720481, 1.0053227263788855, 1.270943915038329, 1.5129505933045166, 1.2149890255720481, 0.43049585940061336, 0.8609917188012267, 1.265435824081388, 1.4315209141338552, 1.4508779423242668, 1.2708258357117246, 0.10920562596919646, 0.9828506337227682, 0.7723179535193293, 1.4510152648438435, 1.2352120972629488, 1.2708258357117246, 1.0152772942666082, 1.5123122655755163, 1.0006838065057058, 0.8909723761542926, 1.2462513394929047, 1.270943915038329, 1.2707940631622026, 0.7399563090590688, 1.4354795667529932, 1.4315918656653794, 1.4354795667529932, 1.0053227263788855, 0.18451838605575435, 0.3690367721115087, 0.3690367721115087, 0.7299510989319554, 0.9385125666644145, 1.2441171393264698, 1.2462513394929047, 1.2351654388994895, 0.7449450268639426, 0.7449450268639426, 1.2708258357117246, 0.8484944394315558, 0.9135991662039722, 0.7519929809259097, 1.2932229760523388, 1.4313477796018668, 1.3724997619265344, 0.7508695017789956, 0.7508695017789956, 1.4353667201395153, 0.9752538753473279, 1.4508779423242668, 1.4352968864059161, 0.7722716538824378, 0.7299514854531088, 1.3049288945089033, 1.5129155444127151, 1.3724827826780321, 1.2149619838065133, 1.372518239554589, 1.2462513394929047, 1.2709438277715308, 0.9933920657095141, 1.2440520404350088, 1.5128401192519543, 0.7723273506704167, 1.4510152648438435, 0.8864241267185812, 1.4510196875328554, 1.2149619547069104, 0.47488944368089364, 0.47488944368089364, 1.473940450631076, 1.4736484122280873, 1.214808957886886, 0.7400697877579384, 1.293223197236653, 1.270355179982876, 1.23512122371755, 0.7723078243491589, 0.6770458663497159, 0.6770458663497159, 1.473637306085885, 1.3725183404662964, 0.2970434028556592, 0.5940868057113184, 0.6641505572473598, 1.0743255715109639, 0.47635608818019887, 0.47635608818019887, 1.4354795667529932, 1.2441171396757364, 1.2439347954520414, 1.4738864021529872, 0.9797095618720105, 1.3725183404662964, 0.8989107672316339, 0.891027118527142, 1.4354795667529932, 1.2149611769818072, 1.2149525628614068, 1.4354435887563846, 1.4315511147097304, 1.4315816580019756, 1.4315816580019756, 1.435376313281331, 0.6894934565147282, 0.6894934565147282, 1.2149890255720481, 0.7723080122998784, 1.451011163375791, 1.3724828119935026, 1.5128772119422218, 1.270943915038329, 1.5129505933045166, 1.4315562097082184, 0.18791358484244933, 0.7516543393697973, 0.09395679242122466, 1.0095494388120314, 1.4315410096911674, 0.9342328185066967, 1.3725083925266768, 0.4947354038853097, 0.4947354038853097, 1.512952363661907, 1.2148436065590227, 0.2142735054139056, 0.2142735054139056, 0.6428205162417169, 1.4508477982799233, 1.4508422042538254, 0.7399748270091097, 1.4354644847616793, 0.7299884068530944, 1.2441171393264698, 0.9791755157127375, 1.4738667032426604, 1.2440825870885521, 1.3725183404662964, 1.5129016264631299, 0.7299299652811936, 1.5129130939162323, 1.3050261459045838, 1.4736839575520078, 1.2441166631583604, 1.3724827982578884, 1.2441166631583604, 1.4315562097082184, 0.8873106830103129, 0.44365534150515645, 1.435423460651591, 1.0053290293075994, 1.450933718841341, 0.7299298861032926, 1.461055249295049, 1.2149890255720481, 1.3724221156660645, 1.2441166631583604, 1.0053164589676964, 1.2938447376805737, 0.6992087457169597, 1.3725183404662964, 1.2351654388994895, 1.2930768761715137, 1.4354730056594802, 1.4354729065820928, 1.2439692291490687, 0.7453972334595265, 0.37269861672976323, 1.4354729065820928, 1.4510152648438435, 1.3723429025688778, 1.270943915038329, 0.7289812402681912, 1.2654971878433343, 1.4510152648438435, 1.451011163375791, 1.2441171393264698, 1.305025725375771, 1.2707945403823404, 1.3724392251693633, 1.5129016264631299, 1.2352738124966107, 1.3050257418503364, 1.2149611769818072, 0.8963992349626334, 1.2438615902082906, 0.7400681853615905, 1.4354795667529932, 1.4354730048838769, 0.6780915958339528, 0.6780915958339528, 1.3050257418503364, 1.5129498293008308, 1.4315566054975755, 1.3049908000541115, 1.2708258357117246, 0.752013006919844, 1.2439905975694858, 1.4354435887563846, 0.8889595943530124, 1.2707371126992382, 1.2441166631583604, 0.6776685119178335, 0.6776685119178335, 1.4508779423242668, 1.4739023946525807, 0.6992753350794352, 1.0589554521472135, 1.2149525628614068, 1.450918235577545, 1.270943877861032, 1.3723219355685206, 0.6884979917912182, 0.6884979917912182, 1.473922386860828, 1.2149619838065133, 1.3724154841035476, 1.471566440688115, 1.5073632864850344, 1.265391520814716, 1.2653359382546743, 0.30336750769773885, 0.6067350153954777, 1.2706115179651993, 0.9353324464326398, 1.4354499943670533, 0.8909219653373348, 1.0053164569510646, 1.51289203944131, 1.3050257418503364, 1.2441166631583604, 1.4314858663654817, 1.4510152648438435, 1.3727371003284023, 1.2440454630728515, 1.119708514334189, 1.4354795667529932, 0.8910041278966808, 1.2149525628614068, 1.3049933541495136, 1.4739536129898263, 0.9797070836711033, 0.731972095322546, 1.4354795667529932, 1.1089972463675741, 0.36149539759849, 0.36149539759849, 1.4510152648438435, 1.2654628646766564, 1.2441166631583604, 1.5129016264631299, 0.7519674877052334, 1.4354120190812847, 1.435321487535329, 1.2353072338940296, 0.6642219227905753, 0.9572361149837871, 1.5129016264631299, 1.270293727751103, 0.6942309293238182, 0.6942309293238182, 0.6657439343415205, 0.33287196717076023, 1.512914136433649, 1.0054038264604954, 0.7400341762921113], \"Term\": [\"abdalla\", \"actor\", \"adamu\", \"addict\", \"agency\", \"alert\", \"allure\", \"announcement\", \"appoint\", \"aquitaine\", \"arte\", \"artist\", \"artist\", \"artwork\", \"assist\", \"attempt\", \"aura\", \"award\", \"award\", \"badass\", \"badazz\", \"baldwin\", \"bangkok\", \"barry\", \"beach\", \"beachwear\", \"biagini\", \"bieber\", \"bikini\", \"birthday\", \"blog\", \"blogger\", \"blogger\", \"body\", \"bollywood\", \"boney\", \"booboo\", \"book\", \"book\", \"boosie\", \"bos\", \"breakfast\", \"breakfast\", \"breathtaking\", \"brickell\", \"bucharest\", \"bush\", \"caesar\", \"call\", \"cannes\", \"card\", \"carey\", \"case\", \"catalog\", \"ceats\", \"celebrate\", \"celebrate\", \"center\", \"charme\", \"chateau\", \"chev\", \"chile\", \"chile\", \"christmas\", \"cinema\", \"clip\", \"closet\", \"club\", \"cocktail\", \"cold\", \"collection\", \"comedy\", \"competitor\", \"conference\", \"conflict\", \"consideration\", \"contact\", \"contemplate\", \"country\", \"couture\", \"cozy\", \"cuisine\", \"dance\", \"dance\", \"daniel\", \"dare\", \"dawn\", \"dawn\", \"death\", \"december\", \"delice\", \"dene\", \"design\", \"design\", \"designer\", \"designer\", \"dialogue\", \"die\", \"dinner\", \"dip\", \"dish\", \"doctor\", \"dont\", \"doubt\", \"drop\", \"duro\", \"eat\", \"eats\", \"edition\", \"edition\", \"educator\", \"elan\", \"email\", \"emilion\", \"enjoy\", \"enter\", \"entrenamiento\", \"ephoto\", \"epic\", \"esse\", \"este\", \"event\", \"event\", \"exhibition\", \"exploration\", \"fanart\", \"fash\", \"fashion\", \"fashion\", \"feliz\", \"fiance\", \"figure\", \"file\", \"fitness\", \"follow\", \"food\", \"foodie\", \"gehn\", \"ghafoor\", \"glamour\", \"glan\", \"glow\", \"goodnight\", \"goodwill\", \"gourmand\", \"gram\", \"gram\", \"gram\", \"grammer\", \"hailey\", \"hall\", \"hanif\", \"hardbody\", \"head\", \"head\", \"headshot\", \"henna\", \"heuer\", \"hilt\", \"history\", \"holiday\", \"homie\", \"hotshot\", \"hotshot\", \"hour\", \"ifbb\", \"illustration\", \"image\", \"insecure\", \"island\", \"italienne\", \"ivers\", \"jail\", \"jennifer\", \"jesus\", \"jeweller\", \"journey\", \"kapoor\", \"karachi\", \"katanga\", \"khadra\", \"khushi\", \"kitchen\", \"kollwitz\", \"lab\", \"lamb\", \"lamb\", \"lance\", \"launch\", \"league\", \"legend\", \"liberty\", \"life\", \"lifestyle\", \"lilo\", \"link\", \"link\", \"living\", \"lord\", \"love\", \"love\", \"lover\", \"lunch\", \"luxury\", \"luxury\", \"mahir\", \"mail\", \"maison\", \"mamm\", \"mana\", \"manner\", \"mariah\", \"martini\", \"mask\", \"matilde\", \"matos\", \"mazhar\", \"meat\", \"meatball\", \"meatless\", \"medium\", \"miami\", \"miami\", \"michell\", \"mika\", \"mimi\", \"mind\", \"minha\", \"mission\", \"moambiquebawito\", \"mode\", \"model\", \"model\", \"model\", \"monaco\", \"mood\", \"motivation\", \"move\", \"movie\", \"movie\", \"muito\", \"muscle\", \"music\", \"music\", \"music\", \"nail\", \"nature\", \"navman\", \"nees\", \"neha\", \"networking\", \"night\", \"occasion\", \"online\", \"outta\", \"pageant\", \"paparazzo\", \"para\", \"paroxysm\", \"party\", \"pashmina\", \"pass\", \"patas\", \"pattaya\", \"people\", \"people\", \"person\", \"pic\", \"pick\", \"picture\", \"piece\", \"piernas\", \"place\", \"plush\", \"porn\", \"portrait\", \"post\", \"praise\", \"prep\", \"print\", \"professor\", \"professorship\", \"promo\", \"promotion\", \"promotion\", \"publisher\", \"quality\", \"rapper\", \"rawalpindi\", \"recipe\", \"registration\", \"reveals\", \"riah\", \"ries\", \"riot\", \"rite\", \"robbery\", \"rochelle\", \"romania\", \"rouge\", \"roxana\", \"saint\", \"sale\", \"samrat\", \"sania\", \"scholar\", \"season\", \"season\", \"sebastien\", \"sempre\", \"series\", \"service\", \"session\", \"shanghai\", \"shawl\", \"shift\", \"shoot\", \"shot\", \"silk\", \"site\", \"site\", \"sketch\", \"slay\", \"sleep\", \"slide\", \"slimfit\", \"snap\", \"solution\", \"song\", \"sound\", \"sound\", \"space\", \"spain\", \"speak\", \"sponsor\", \"step\", \"stitch\", \"store\", \"story\", \"story\", \"street\", \"style\", \"suit\", \"sweet\", \"tasty\", \"tempo\", \"terrasse\", \"textile\", \"thailand\", \"thara\", \"thing\", \"ticket\", \"time\", \"tography\", \"tourisme\", \"transformation\", \"trattoria\", \"trinity\", \"trip\", \"tygar\", \"unhcr\", \"vanity\", \"video\", \"video\", \"vignes\", \"vote\", \"warm\", \"warner\", \"watch\", \"wear\", \"week\", \"wellness\", \"wine\", \"winter\", \"wipe\", \"woman\", \"work\", \"work\", \"year\", \"year\", \"youtube\", \"yummy\", \"zaitsev\"]}, \"R\": 30, \"lambda.step\": 0.01, \"plot.opts\": {\"xlab\": \"PC1\", \"ylab\": \"PC2\"}, \"topic.order\": [9, 7, 4, 2, 3, 8, 10, 5, 1, 6]};\n",
       "\n",
       "function LDAvis_load_lib(url, callback){\n",
       "  var s = document.createElement('script');\n",
       "  s.src = url;\n",
       "  s.async = true;\n",
       "  s.onreadystatechange = s.onload = callback;\n",
       "  s.onerror = function(){console.warn(\"failed to load library \" + url);};\n",
       "  document.getElementsByTagName(\"head\")[0].appendChild(s);\n",
       "}\n",
       "\n",
       "if(typeof(LDAvis) !== \"undefined\"){\n",
       "   // already loaded: just create the visualization\n",
       "   !function(LDAvis){\n",
       "       new LDAvis(\"#\" + \"ldavis_el162002240087328456829544026\", ldavis_el162002240087328456829544026_data);\n",
       "   }(LDAvis);\n",
       "}else if(typeof define === \"function\" && define.amd){\n",
       "   // require.js is available: use it to load d3/LDAvis\n",
       "   require.config({paths: {d3: \"https://cdnjs.cloudflare.com/ajax/libs/d3/3.5.5/d3.min\"}});\n",
       "   require([\"d3\"], function(d3){\n",
       "      window.d3 = d3;\n",
       "      LDAvis_load_lib(\"https://cdn.rawgit.com/bmabey/pyLDAvis/files/ldavis.v1.0.0.js\", function(){\n",
       "        new LDAvis(\"#\" + \"ldavis_el162002240087328456829544026\", ldavis_el162002240087328456829544026_data);\n",
       "      });\n",
       "    });\n",
       "}else{\n",
       "    // require.js not available: dynamically load d3 & LDAvis\n",
       "    LDAvis_load_lib(\"https://cdnjs.cloudflare.com/ajax/libs/d3/3.5.5/d3.min.js\", function(){\n",
       "         LDAvis_load_lib(\"https://cdn.rawgit.com/bmabey/pyLDAvis/files/ldavis.v1.0.0.js\", function(){\n",
       "                 new LDAvis(\"#\" + \"ldavis_el162002240087328456829544026\", ldavis_el162002240087328456829544026_data);\n",
       "            })\n",
       "         });\n",
       "}\n",
       "</script>"
      ],
      "text/plain": [
       "PreparedData(topic_coordinates=              x         y  topics  cluster       Freq\n",
       "topic                                                \n",
       "8      0.249958  0.231048       1        1  14.477658\n",
       "6      0.222673 -0.281440       2        1  13.604422\n",
       "3     -0.098581  0.030370       3        1  13.505959\n",
       "1      0.013547  0.097329       4        1  10.509012\n",
       "2     -0.103785 -0.010988       5        1   9.189182\n",
       "7     -0.094286 -0.029630       6        1   9.058391\n",
       "9     -0.070899 -0.041052       7        1   8.310411\n",
       "4     -0.043989  0.027013       8        1   8.307670\n",
       "0     -0.045810 -0.016665       9        1   7.772687\n",
       "5     -0.028829 -0.005985      10        1   5.264608, topic_info=          Term       Freq      Total Category  logprob  loglift\n",
       "32        food  19.000000  19.000000  Default  30.0000  30.0000\n",
       "65      bikini  19.000000  19.000000  Default  29.0000  29.0000\n",
       "68     fitness  16.000000  16.000000  Default  28.0000  28.0000\n",
       "70        ifbb  14.000000  14.000000  Default  27.0000  27.0000\n",
       "155    fashion   9.000000   9.000000  Default  26.0000  26.0000\n",
       "...        ...        ...        ...      ...      ...      ...\n",
       "3928     hanif   0.008176   0.802406  Topic10  -8.5445  -1.6423\n",
       "2413  jeweller   0.008176   0.802406  Topic10  -8.5445  -1.6423\n",
       "8258      gehn   0.008176   0.802406  Topic10  -8.5445  -1.6423\n",
       "396      thing   0.004865   0.728472  Topic10  -9.0636  -2.0647\n",
       "2968  insecure   0.004394   1.294881  Topic10  -9.1654  -2.7417\n",
       "\n",
       "[398 rows x 6 columns], token_table=      Topic      Freq     Term\n",
       "term                          \n",
       "8243      9  1.435473  abdalla\n",
       "175       8  0.729956    actor\n",
       "8244      9  1.435473    adamu\n",
       "64        1  1.235014   addict\n",
       "304       4  1.293109   agency\n",
       "...     ...       ...      ...\n",
       "140       3  0.665744     year\n",
       "140       6  0.332872     year\n",
       "1108      7  1.512914  youtube\n",
       "332       2  1.005404    yummy\n",
       "8217      5  0.740034  zaitsev\n",
       "\n",
       "[383 rows x 3 columns], R=30, lambda_step=0.01, plot_opts={'xlab': 'PC1', 'ylab': 'PC2'}, topic_order=[9, 7, 4, 2, 3, 8, 10, 5, 1, 6])"
      ]
     },
     "execution_count": 18,
     "metadata": {},
     "output_type": "execute_result"
    }
   ],
   "source": [
    "# Visualize the topics\n",
    "pyLDAvis.enable_notebook()\n",
    "vis = pyLDAvis.gensim.prepare(lda_model, corpus, id2word)\n",
    "vis"
   ]
  },
  {
   "cell_type": "markdown",
   "metadata": {},
   "source": [
    "### Save document-topic matrix (most significant topic per document)  \n",
    "https://github.com/Sim-Xuesi/content-based_movie_recommender/blob/master/Content%20Based%20Recommender%20System%20with%20LDA%20%26%20Cosine.ipynb  \n",
    "https://medium.com/@nicoleeesim97/building-a-simple-content-based-recommender-system-for-movies-and-tv-shows-73fec4f325ae  "
   ]
  },
  {
   "cell_type": "code",
   "execution_count": 19,
   "metadata": {},
   "outputs": [
    {
     "name": "stderr",
     "output_type": "stream",
     "text": [
      "C:\\Users\\minio\\anaconda3\\envs\\tfm-py-37\\lib\\site-packages\\ipykernel\\ipkernel.py:287: DeprecationWarning: `should_run_async` will not call `transform_cell` automatically in the future. Please pass the result to `transformed_cell` argument and any exception that happen during thetransform in `preprocessing_exc_tuple` in IPython 7.17 and above.\n",
      "  and should_run_async(code)\n"
     ]
    },
    {
     "name": "stdout",
     "output_type": "stream",
     "text": [
      "      Document  Topic  Probability\n",
      "0        32127      5     0.576737\n",
      "1        36647      3     0.306880\n",
      "2        18207      2     0.313548\n",
      "3        53299      6     0.679599\n",
      "4        29713      1     0.268472\n",
      "...        ...    ...          ...\n",
      "4045     29507      9     0.542107\n",
      "4046     18225      2     0.488602\n",
      "4047     35061      4     0.530228\n",
      "4048     40708      3     0.435037\n",
      "4049      5253      8     0.850103\n",
      "\n",
      "[4050 rows x 3 columns]\n"
     ]
    }
   ],
   "source": [
    "def Sort_Tuple(tup):  \n",
    "    return(sorted(tup, key = lambda x: x[1], reverse = True))\n",
    "\n",
    "doc_num, topic_num, prob = [], [], []\n",
    "\n",
    "document_topic_matrix = documents\n",
    "\n",
    "for n in range(len(documents)):\n",
    "    get_document_topics = lda_model.get_document_topics(corpus_total[n], minimum_probability=0)\n",
    "    doc_num.append(documents.index[n])\n",
    "    sorted_doc_topics = Sort_Tuple(get_document_topics)\n",
    "    topic_num.append(sorted_doc_topics[0][0])\n",
    "    prob.append(sorted_doc_topics[0][1])\n",
    "    \n",
    "data = {'Document': doc_num\n",
    "        ,'Topic': topic_num\n",
    "        ,'Probability': prob}\n",
    "df = pd.DataFrame(data) \n",
    "df.to_csv(file_model + '_document_topic_matrix.csv', index=False)\n",
    "print(df)"
   ]
  },
  {
   "cell_type": "markdown",
   "metadata": {},
   "source": [
    "### Save document-topic matrix (all topic's probability per document)  \n",
    "https://github.com/Sim-Xuesi/content-based_movie_recommender/blob/master/Content%20Based%20Recommender%20System%20with%20LDA%20%26%20Cosine.ipynb  \n",
    "https://medium.com/@nicoleeesim97/building-a-simple-content-based-recommender-system-for-movies-and-tv-shows-73fec4f325ae  "
   ]
  },
  {
   "cell_type": "code",
   "execution_count": 20,
   "metadata": {},
   "outputs": [
    {
     "name": "stderr",
     "output_type": "stream",
     "text": [
      "C:\\Users\\minio\\anaconda3\\envs\\tfm-py-37\\lib\\site-packages\\ipykernel\\ipkernel.py:287: DeprecationWarning: `should_run_async` will not call `transform_cell` automatically in the future. Please pass the result to `transformed_cell` argument and any exception that happen during thetransform in `preprocessing_exc_tuple` in IPython 7.17 and above.\n",
      "  and should_run_async(code)\n"
     ]
    },
    {
     "name": "stdout",
     "output_type": "stream",
     "text": [
      "      Document    Topic0    Topic1    Topic2    Topic3    Topic4    Topic5  \\\n",
      "0        32127  0.038065  0.083395  0.044216  0.036761  0.061808  0.576734   \n",
      "1        36647  0.076736  0.068157  0.067288  0.306868  0.072728  0.149192   \n",
      "2        18207  0.076540  0.068273  0.313535  0.067494  0.068830  0.071243   \n",
      "3        53299  0.036279  0.034831  0.034806  0.033478  0.035699  0.041462   \n",
      "4        29713  0.082243  0.268461  0.079712  0.077363  0.083866  0.090430   \n",
      "...        ...       ...       ...       ...       ...       ...       ...   \n",
      "4045     29507  0.034893  0.098667  0.033587  0.033586  0.035411  0.033593   \n",
      "4046     18225  0.056530  0.056529  0.488605  0.056528  0.059058  0.056535   \n",
      "4047     35061  0.034873  0.034872  0.036414  0.034871  0.530231  0.034876   \n",
      "4048     40708  0.053238  0.085514  0.053234  0.435035  0.053236  0.106177   \n",
      "4049      5253  0.016517  0.017633  0.016516  0.016516  0.016648  0.016517   \n",
      "\n",
      "        Topic6    Topic7    Topic8    Topic9  \n",
      "0     0.035146  0.048725  0.035198  0.039952  \n",
      "1     0.059310  0.070480  0.059493  0.069749  \n",
      "2     0.067330  0.130904  0.067363  0.068488  \n",
      "3     0.679610  0.035346  0.033263  0.035226  \n",
      "4     0.076880  0.080647  0.079957  0.080440  \n",
      "...        ...       ...       ...       ...  \n",
      "4045  0.033585  0.034124  0.120439  0.542115  \n",
      "4046  0.056527  0.056631  0.056527  0.056529  \n",
      "4047  0.188036  0.035786  0.034870  0.035172  \n",
      "4048  0.053230  0.053235  0.053230  0.053870  \n",
      "4049  0.016516  0.016517  0.850103  0.016517  \n",
      "\n",
      "[4050 rows x 11 columns]\n"
     ]
    }
   ],
   "source": [
    "doc_num = []\n",
    "prob0, prob1, prob2, prob3, prob4, prob5, prob6, prob7, prob8, prob9 = ([] for i in range(num_topics))\n",
    "\n",
    "document_topic_matrix = documents\n",
    "\n",
    "for n in range(len(documents)):\n",
    "    get_document_topics = lda_model.get_document_topics(corpus_total[n], minimum_probability=0)\n",
    "    doc_num.append(documents.index[n])\n",
    "    prob0.append(get_document_topics[0][1])\n",
    "    prob1.append(get_document_topics[1][1])\n",
    "    prob2.append(get_document_topics[2][1])\n",
    "    prob3.append(get_document_topics[3][1])\n",
    "    prob4.append(get_document_topics[4][1])\n",
    "    prob5.append(get_document_topics[5][1])\n",
    "    prob6.append(get_document_topics[6][1])\n",
    "    prob7.append(get_document_topics[7][1])\n",
    "    prob8.append(get_document_topics[8][1])\n",
    "    prob9.append(get_document_topics[9][1])\n",
    "    \n",
    "data = {'Document': doc_num\n",
    "        ,'Topic0': prob0\n",
    "        ,'Topic1': prob1\n",
    "        ,'Topic2': prob2\n",
    "        ,'Topic3': prob3\n",
    "        ,'Topic4': prob4\n",
    "        ,'Topic5': prob5\n",
    "        ,'Topic6': prob6\n",
    "        ,'Topic7': prob7\n",
    "        ,'Topic8': prob8\n",
    "        ,'Topic9': prob9}\n",
    "\n",
    "df = pd.DataFrame(data) \n",
    "df.to_csv(file_model + '_document_topic_matrix_full.csv', index=False)\n",
    "print(df)"
   ]
  },
  {
   "cell_type": "markdown",
   "metadata": {},
   "source": [
    "### Save topic-term matrix"
   ]
  },
  {
   "cell_type": "code",
   "execution_count": 21,
   "metadata": {},
   "outputs": [
    {
     "name": "stderr",
     "output_type": "stream",
     "text": [
      "C:\\Users\\minio\\anaconda3\\envs\\tfm-py-37\\lib\\site-packages\\ipykernel\\ipkernel.py:287: DeprecationWarning: `should_run_async` will not call `transform_cell` automatically in the future. Please pass the result to `transformed_cell` argument and any exception that happen during thetransform in `preprocessing_exc_tuple` in IPython 7.17 and above.\n",
      "  and should_run_async(code)\n"
     ]
    }
   ],
   "source": [
    "# get topic-term-matrix\n",
    "topic_term_matrix = lda_model.get_topics()\n",
    "# save topic-term matrix\n",
    "savetxt(file_model + '_topic_term_matrix.csv', topic_term_matrix, delimiter=',')"
   ]
  }
 ],
 "metadata": {
  "kernelspec": {
   "display_name": "Python 3",
   "language": "python",
   "name": "python3"
  },
  "language_info": {
   "codemirror_mode": {
    "name": "ipython",
    "version": 3
   },
   "file_extension": ".py",
   "mimetype": "text/x-python",
   "name": "python",
   "nbconvert_exporter": "python",
   "pygments_lexer": "ipython3",
   "version": "3.7.9"
  }
 },
 "nbformat": 4,
 "nbformat_minor": 4
}
