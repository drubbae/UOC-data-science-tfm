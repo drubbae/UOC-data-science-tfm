{
 "cells": [
  {
   "cell_type": "markdown",
   "metadata": {},
   "source": [
    "# <span style=\"color:blue\">Pre-analysis to find the optimal number of topics and hyperparameters values (2019_Sep)</span>"
   ]
  },
  {
   "cell_type": "code",
   "execution_count": 1,
   "metadata": {},
   "outputs": [],
   "source": [
    "yyyy_MMM = '2019_Sep'"
   ]
  },
  {
   "cell_type": "markdown",
   "metadata": {},
   "source": [
    "### Load packages"
   ]
  },
  {
   "cell_type": "code",
   "execution_count": 2,
   "metadata": {},
   "outputs": [
    {
     "name": "stderr",
     "output_type": "stream",
     "text": [
      "C:\\Users\\minio\\anaconda3\\envs\\tfm-py-37\\lib\\site-packages\\botocore\\vendored\\requests\\packages\\urllib3\\_collections.py:1: DeprecationWarning: Using or importing the ABCs from 'collections' instead of from 'collections.abc' is deprecated since Python 3.3,and in 3.9 it will stop working\n",
      "  from collections import Mapping, MutableMapping\n",
      "C:\\Users\\minio\\anaconda3\\envs\\tfm-py-37\\lib\\site-packages\\botocore\\vendored\\requests\\packages\\urllib3\\_collections.py:1: DeprecationWarning: Using or importing the ABCs from 'collections' instead of from 'collections.abc' is deprecated since Python 3.3,and in 3.9 it will stop working\n",
      "  from collections import Mapping, MutableMapping\n",
      "C:\\Users\\minio\\anaconda3\\envs\\tfm-py-37\\lib\\site-packages\\scipy\\sparse\\sparsetools.py:21: DeprecationWarning: `scipy.sparse.sparsetools` is deprecated!\n",
      "scipy.sparse.sparsetools is a private module for scipy.sparse, and should not be used.\n",
      "  _deprecated()\n",
      "C:\\Users\\minio\\anaconda3\\envs\\tfm-py-37\\lib\\site-packages\\gensim\\models\\doc2vec.py:73: DeprecationWarning: Using or importing the ABCs from 'collections' instead of from 'collections.abc' is deprecated since Python 3.3,and in 3.9 it will stop working\n",
      "  from collections import namedtuple, defaultdict, Iterable\n",
      "[nltk_data] Downloading package stopwords to\n",
      "[nltk_data]     C:\\Users\\minio\\AppData\\Roaming\\nltk_data...\n",
      "[nltk_data]   Package stopwords is already up-to-date!\n"
     ]
    },
    {
     "data": {
      "text/plain": [
       "True"
      ]
     },
     "execution_count": 2,
     "metadata": {},
     "output_type": "execute_result"
    }
   ],
   "source": [
    "import csv, os, re, time\n",
    "import numpy as np\n",
    "import pandas as  pd\n",
    "import matplotlib.pyplot as plt  \n",
    "import pyLDAvis\n",
    "import pyLDAvis.gensim\n",
    "import gensim\n",
    "import gensim.corpora as corpora\n",
    "from gensim.corpora.dictionary import Dictionary\n",
    "from gensim.models import CoherenceModel\n",
    "from gensim.models import Phrases\n",
    "from gensim.test.utils import datapath\n",
    "from gensim.utils import simple_preprocess\n",
    "from pprint import pprint\n",
    "import nltk\n",
    "nltk.download('stopwords')"
   ]
  },
  {
   "cell_type": "markdown",
   "metadata": {},
   "source": [
    "### Constants"
   ]
  },
  {
   "cell_type": "code",
   "execution_count": 3,
   "metadata": {},
   "outputs": [
    {
     "name": "stdout",
     "output_type": "stream",
     "text": [
      "D:\\master\\data science\\semestre 4\\M2.979 - tfm\\data\\bins_test\\doc\\2019_Sep\\2019_Sep_28_results.csv\n",
      "D:\\master\\data science\\semestre 4\\M2.979 - tfm\\data\\bins_test\\model_hyperparameter\\2019_Sep\\model\n"
     ]
    },
    {
     "name": "stderr",
     "output_type": "stream",
     "text": [
      "C:\\Users\\minio\\anaconda3\\envs\\tfm-py-37\\lib\\site-packages\\ipykernel\\ipkernel.py:287: DeprecationWarning: `should_run_async` will not call `transform_cell` automatically in the future. Please pass the result to `transformed_cell` argument and any exception that happen during thetransform in `preprocessing_exc_tuple` in IPython 7.17 and above.\n",
      "  and should_run_async(code)\n"
     ]
    }
   ],
   "source": [
    "# for reproducible results\n",
    "random_state = 33\n",
    "# if debug is True, messages during the process are generated\n",
    "debug = False\n",
    "# for debugging purposes sample may be used to work with a smaller amount of data (when 0 it is not applied)\n",
    "sample = 0\n",
    "# if the test is True, the process runs on a smaller subset of raw data (json files)\n",
    "test = True\n",
    "\n",
    "if test:\n",
    "    # path where the doc files are stored\n",
    "    path_doc = r'D:\\master\\data science\\semestre 4\\M2.979 - tfm\\data\\bins_test\\doc'\n",
    "    # path where the model files are stored\n",
    "    path_model = r'D:\\master\\data science\\semestre 4\\M2.979 - tfm\\data\\bins_test\\model_hyperparameter'\n",
    "    # LDA chunksize\n",
    "    chunksize = 250\n",
    "else:\n",
    "    # path where the doc files are stored\n",
    "    path_doc = r'D:\\master\\data science\\semestre 4\\M2.979 - tfm\\data\\bins\\doc'\n",
    "    # path where the model files are stored\n",
    "    path_model = r'D:\\master\\data science\\semestre 4\\M2.979 - tfm\\data\\bins\\model_hyperparameter'\n",
    "    # LDA chunksize\n",
    "    chunksize = 5000\n",
    "\n",
    "file_doc = os.path.join(path_doc, yyyy_MMM, yyyy_MMM) + '_28_results.csv'\n",
    "file_model = os.path.join(path_model, yyyy_MMM, 'model')\n",
    "print(file_doc)\n",
    "print(file_model)"
   ]
  },
  {
   "cell_type": "markdown",
   "metadata": {},
   "source": [
    "### Load data preprocessed"
   ]
  },
  {
   "cell_type": "code",
   "execution_count": 4,
   "metadata": {},
   "outputs": [
    {
     "name": "stderr",
     "output_type": "stream",
     "text": [
      "C:\\Users\\minio\\anaconda3\\envs\\tfm-py-37\\lib\\site-packages\\ipykernel\\ipkernel.py:287: DeprecationWarning: `should_run_async` will not call `transform_cell` automatically in the future. Please pass the result to `transformed_cell` argument and any exception that happen during thetransform in `preprocessing_exc_tuple` in IPython 7.17 and above.\n",
      "  and should_run_async(code)\n"
     ]
    },
    {
     "data": {
      "text/plain": [
       "0      ['anthony', 'anderson', 'wife', 'emmy', 'emmy']\n",
       "1    ['definitely', 'arrogant', 'egotistical', 'fel...\n",
       "2    ['dejeuner', 'domaine', 'chass', 'domaine', 's...\n",
       "3    ['dolly', 'castro', 'start', 'cked', 'goal', '...\n",
       "4    ['follow', 'account', 'catal', 'kitty', 'cally...\n",
       "5    ['malaika', 'arora', 'snap', 'post', 'rehearsa...\n",
       "6    ['champagne', 'dimanche', 'pero', 'pour', 'lou...\n",
       "7    ['family', 'empire', 'building', 'people', 'sp...\n",
       "8    ['inner', 'gate', 'imperial', 'palace', 'east'...\n",
       "9                             ['leave', 'trip', 'pic']\n",
       "Name: content_preprocessed, dtype: object"
      ]
     },
     "execution_count": 4,
     "metadata": {},
     "output_type": "execute_result"
    }
   ],
   "source": [
    "df = pd.read_csv(file_doc)\n",
    "documents = df.content_preprocessed\n",
    "documents.head(10)"
   ]
  },
  {
   "cell_type": "markdown",
   "metadata": {},
   "source": [
    "### Shuffle"
   ]
  },
  {
   "cell_type": "code",
   "execution_count": 5,
   "metadata": {},
   "outputs": [
    {
     "name": "stderr",
     "output_type": "stream",
     "text": [
      "C:\\Users\\minio\\anaconda3\\envs\\tfm-py-37\\lib\\site-packages\\ipykernel\\ipkernel.py:287: DeprecationWarning: `should_run_async` will not call `transform_cell` automatically in the future. Please pass the result to `transformed_cell` argument and any exception that happen during thetransform in `preprocessing_exc_tuple` in IPython 7.17 and above.\n",
      "  and should_run_async(code)\n"
     ]
    },
    {
     "data": {
      "text/plain": [
       "347     ['melanie', 'photograph', 'carp', 'shino', 'pa...\n",
       "1295    ['beignet', 'mozzarella', 'sauce', 'pimentdaro...\n",
       "1444    ['color', 'well', 'skin', 'olga', 'loera', 'be...\n",
       "2200    ['cast', 'chhabra', 'sanjana', 'sanghi', 'paye...\n",
       "2540    ['terracotta', 'monkey', 'tomb', 'object', 'ce...\n",
       "2848                                            ['agree']\n",
       "1273    ['quand', 'catherine', 'manoel', 'confiture', ...\n",
       "656     ['tout', 'avec', 'hiroyuki', 'kanazawa', 'jacq...\n",
       "339     ['helo', 'moreno', 'costa', 'rica', 'day', 'ib...\n",
       "3068    ['kiss', 'beauty', 'sugar', 'scrub', 'peach', ...\n",
       "Name: content_preprocessed, dtype: object"
      ]
     },
     "execution_count": 5,
     "metadata": {},
     "output_type": "execute_result"
    }
   ],
   "source": [
    "documents = documents.sample(frac=1, random_state=random_state)\n",
    "documents.head(10)"
   ]
  },
  {
   "cell_type": "markdown",
   "metadata": {},
   "source": [
    "### Sample"
   ]
  },
  {
   "cell_type": "code",
   "execution_count": 6,
   "metadata": {},
   "outputs": [
    {
     "name": "stderr",
     "output_type": "stream",
     "text": [
      "C:\\Users\\minio\\anaconda3\\envs\\tfm-py-37\\lib\\site-packages\\ipykernel\\ipkernel.py:287: DeprecationWarning: `should_run_async` will not call `transform_cell` automatically in the future. Please pass the result to `transformed_cell` argument and any exception that happen during thetransform in `preprocessing_exc_tuple` in IPython 7.17 and above.\n",
      "  and should_run_async(code)\n"
     ]
    }
   ],
   "source": [
    "if sample > 0:\n",
    "    documents = documents.sample(n=sample, random_state=random_state)\n",
    "    print(documents.head(10))"
   ]
  },
  {
   "cell_type": "markdown",
   "metadata": {},
   "source": [
    "### Tokenize words and Clean-up text  \n",
    "https://www.machinelearningplus.com/nlp/topic-modeling-gensim-python/#3importpackages"
   ]
  },
  {
   "cell_type": "code",
   "execution_count": 7,
   "metadata": {},
   "outputs": [
    {
     "name": "stderr",
     "output_type": "stream",
     "text": [
      "C:\\Users\\minio\\anaconda3\\envs\\tfm-py-37\\lib\\site-packages\\ipykernel\\ipkernel.py:287: DeprecationWarning: `should_run_async` will not call `transform_cell` automatically in the future. Please pass the result to `transformed_cell` argument and any exception that happen during thetransform in `preprocessing_exc_tuple` in IPython 7.17 and above.\n",
      "  and should_run_async(code)\n"
     ]
    }
   ],
   "source": [
    "def sent_to_words(sentences):\n",
    "    for sentence in sentences:\n",
    "        yield(gensim.utils.simple_preprocess(str(sentence), deacc=True))  # deacc=True removes punctuations"
   ]
  },
  {
   "cell_type": "markdown",
   "metadata": {},
   "source": [
    "### Function to compute bigrams & trigrams  \n",
    "https://radimrehurek.com/gensim/auto_examples/tutorials/run_lda.html#pre-process-and-vectorize-the-documents"
   ]
  },
  {
   "cell_type": "code",
   "execution_count": 8,
   "metadata": {},
   "outputs": [
    {
     "name": "stderr",
     "output_type": "stream",
     "text": [
      "C:\\Users\\minio\\anaconda3\\envs\\tfm-py-37\\lib\\site-packages\\ipykernel\\ipkernel.py:287: DeprecationWarning: `should_run_async` will not call `transform_cell` automatically in the future. Please pass the result to `transformed_cell` argument and any exception that happen during thetransform in `preprocessing_exc_tuple` in IPython 7.17 and above.\n",
      "  and should_run_async(code)\n"
     ]
    }
   ],
   "source": [
    "# Add bigrams and trigrams to docs (only ones that appear min_count times or more).\n",
    "def bi_tri_grams(documents, min_count):\n",
    "    bigram = Phrases(documents, min_count=min_count)\n",
    "    for idx in range(len(documents)):\n",
    "        for token in bigram[documents[idx]]:\n",
    "            if '_' in token:\n",
    "                # Token is a bigram, add to document.\n",
    "                documents[idx].append(token)"
   ]
  },
  {
   "cell_type": "markdown",
   "metadata": {},
   "source": [
    "### Function for categorizing and tagging words"
   ]
  },
  {
   "cell_type": "code",
   "execution_count": 9,
   "metadata": {},
   "outputs": [
    {
     "name": "stderr",
     "output_type": "stream",
     "text": [
      "C:\\Users\\minio\\anaconda3\\envs\\tfm-py-37\\lib\\site-packages\\ipykernel\\ipkernel.py:287: DeprecationWarning: `should_run_async` will not call `transform_cell` automatically in the future. Please pass the result to `transformed_cell` argument and any exception that happen during thetransform in `preprocessing_exc_tuple` in IPython 7.17 and above.\n",
      "  and should_run_async(code)\n"
     ]
    }
   ],
   "source": [
    "def tag_words(text):\n",
    "    tags = nltk.pos_tag(text)\n",
    "    nouns = [word for word, pos in tags if (pos == 'NN' or pos == 'NNP' or pos == 'NNS' or pos == 'NNPS')]\n",
    "    return nouns"
   ]
  },
  {
   "cell_type": "markdown",
   "metadata": {},
   "source": [
    "### Analysis to get the optimal number of topics  \n",
    "https://towardsdatascience.com/discover-what-singaporeans-generally-talk-on-sms-d4b592a682fd"
   ]
  },
  {
   "cell_type": "code",
   "execution_count": 10,
   "metadata": {},
   "outputs": [
    {
     "name": "stderr",
     "output_type": "stream",
     "text": [
      "C:\\Users\\minio\\anaconda3\\envs\\tfm-py-37\\lib\\site-packages\\ipykernel\\ipkernel.py:287: DeprecationWarning: `should_run_async` will not call `transform_cell` automatically in the future. Please pass the result to `transformed_cell` argument and any exception that happen during thetransform in `preprocessing_exc_tuple` in IPython 7.17 and above.\n",
      "  and should_run_async(code)\n"
     ]
    }
   ],
   "source": [
    "data_words = list(sent_to_words(documents))\n",
    "# Compute bigrams & trigrams\n",
    "bi_tri_grams(data_words, 250)\n",
    "# Categorizing and tagging words\n",
    "data_words = list(map(tag_words, data_words))\n",
    "# Create Dictionary\n",
    "id2word = Dictionary(data_words)\n",
    "# Create Corpus\n",
    "texts = data_words\n",
    "# Term Document Frequency\n",
    "corpus = [id2word.doc2bow(text) for text in texts]"
   ]
  },
  {
   "cell_type": "code",
   "execution_count": 11,
   "metadata": {},
   "outputs": [
    {
     "name": "stderr",
     "output_type": "stream",
     "text": [
      "C:\\Users\\minio\\anaconda3\\envs\\tfm-py-37\\lib\\site-packages\\ipykernel\\ipkernel.py:287: DeprecationWarning: `should_run_async` will not call `transform_cell` automatically in the future. Please pass the result to `transformed_cell` argument and any exception that happen during thetransform in `preprocessing_exc_tuple` in IPython 7.17 and above.\n",
      "  and should_run_async(code)\n"
     ]
    },
    {
     "name": "stdout",
     "output_type": "stream",
     "text": [
      "# Topics: 8 Score: 0.6502956918506257\n",
      "time elapsed - 00:00:24.71\n",
      "# Topics: 10 Score: 0.5710484785972681\n",
      "time elapsed - 00:00:24.64\n",
      "# Topics: 12 Score: 0.5813196588767865\n",
      "time elapsed - 00:00:25.66\n",
      "# Topics: 14 Score: 0.5601048703838857\n",
      "time elapsed - 00:00:25.84\n",
      "# Topics: 16 Score: 0.6208967897850908\n",
      "time elapsed - 00:00:25.84\n",
      "# Topics: 18 Score: 0.5776548360389698\n",
      "time elapsed - 00:00:26.96\n",
      "# Topics: 20 Score: 0.6325219915537691\n",
      "time elapsed - 00:00:26.39\n",
      "# Topics: 22 Score: 0.6117638561247446\n",
      "time elapsed - 00:00:26.38\n",
      "# Topics: 24 Score: 0.5932223256011011\n",
      "time elapsed - 00:00:26.62\n"
     ]
    }
   ],
   "source": [
    "model_list = []\n",
    "coherence_score = []\n",
    "model_topics = []\n",
    "\n",
    "for num_topics in range(8, 25, 2):\n",
    "    \n",
    "    time_start = time.time()\n",
    "\n",
    "    lda_x = gensim.models.LdaMulticore(corpus=corpus\n",
    "                                       ,id2word=id2word\n",
    "                                       ,num_topics=num_topics\n",
    "                                       ,random_state=random_state\n",
    "                                       ,chunksize=chunksize\n",
    "                                       ,passes=10)\n",
    "    coherence_lda_model = CoherenceModel(model=lda_x, texts=data_words, dictionary=id2word, coherence='c_v')\n",
    "    coherence = coherence_lda_model.get_coherence()\n",
    "    coherence_score.append(coherence)\n",
    "    model_topics.append(num_topics)\n",
    "    model_list.append(lda_x)\n",
    "    \n",
    "    print(\"# Topics: \" + str(num_topics) + \" Score: \" + str(coherence))\n",
    "    \n",
    "    time_end = time.time()\n",
    "    hour, rem = divmod(time_end - time_start, 3600)\n",
    "    minute, second = divmod(rem, 60)\n",
    "    print('time elapsed - {:0>2}:{:0>2}:{:05.2f}'.format(int(hour), int(minute), second))"
   ]
  },
  {
   "cell_type": "code",
   "execution_count": 12,
   "metadata": {},
   "outputs": [
    {
     "name": "stderr",
     "output_type": "stream",
     "text": [
      "C:\\Users\\minio\\anaconda3\\envs\\tfm-py-37\\lib\\site-packages\\ipykernel\\ipkernel.py:287: DeprecationWarning: `should_run_async` will not call `transform_cell` automatically in the future. Please pass the result to `transformed_cell` argument and any exception that happen during thetransform in `preprocessing_exc_tuple` in IPython 7.17 and above.\n",
      "  and should_run_async(code)\n"
     ]
    },
    {
     "data": {
      "image/png": "[encoded data removed]",
      "text/plain": [
       "<Figure size 432x288 with 1 Axes>"
      ]
     },
     "metadata": {
      "needs_background": "light"
     },
     "output_type": "display_data"
    }
   ],
   "source": [
    "limit=25; start=8; step=2;\n",
    "x = range(start, limit, step)\n",
    "plt.plot(x, coherence_score)\n",
    "plt.xlabel(\"Number of topics\")\n",
    "plt.ylabel(\"Coherence score\")\n",
    "plt.legend((\"coherence_values\"), loc='best')\n",
    "plt.show()"
   ]
  },
  {
   "cell_type": "markdown",
   "metadata": {},
   "source": [
    "### Hyperparameter tuning  \n",
    "\n",
    "https://medium.com/analytics-vidhya/analyzing-amazon-tv-reviews-with-latent-dirichlet-allocation-97d19c3bb878  \n",
    "https://github.com/Georgebob256/Machine-learning-with-Python/blob/master/Amazon%20TV%20reviews..ipynb"
   ]
  },
  {
   "cell_type": "code",
   "execution_count": 13,
   "metadata": {},
   "outputs": [
    {
     "name": "stderr",
     "output_type": "stream",
     "text": [
      "C:\\Users\\minio\\anaconda3\\envs\\tfm-py-37\\lib\\site-packages\\ipykernel\\ipkernel.py:287: DeprecationWarning: `should_run_async` will not call `transform_cell` automatically in the future. Please pass the result to `transformed_cell` argument and any exception that happen during thetransform in `preprocessing_exc_tuple` in IPython 7.17 and above.\n",
      "  and should_run_async(code)\n"
     ]
    },
    {
     "name": "stdout",
     "output_type": "stream",
     "text": [
      "Iteration num -  1  Topics -  8  Alpha -  0.01  Beta -  0.01  Coherence -  0.6654268635016243\n",
      "Iteration num -  2  Topics -  8  Alpha -  0.01  Beta -  0.31  Coherence -  0.644928609720639\n",
      "Iteration num -  3  Topics -  8  Alpha -  0.01  Beta -  0.61  Coherence -  0.6407721340219532\n",
      "Iteration num -  4  Topics -  8  Alpha -  0.01  Beta -  0.91  Coherence -  0.6245645224693531\n",
      "Iteration num -  5  Topics -  8  Alpha -  0.01  Beta -  symmetric  Coherence -  0.6407378519726413\n",
      "Iteration num -  6  Topics -  8  Alpha -  0.31  Beta -  0.01  Coherence -  0.6541914217262401\n",
      "Iteration num -  7  Topics -  8  Alpha -  0.31  Beta -  0.31  Coherence -  0.662977767641518\n",
      "Iteration num -  8  Topics -  8  Alpha -  0.31  Beta -  0.61  Coherence -  0.5814222244229923\n",
      "Iteration num -  9  Topics -  8  Alpha -  0.31  Beta -  0.91  Coherence -  0.6006557702673925\n",
      "Iteration num -  10  Topics -  8  Alpha -  0.31  Beta -  symmetric  Coherence -  0.6734404097162763\n",
      "Iteration num -  11  Topics -  8  Alpha -  0.61  Beta -  0.01  Coherence -  0.6807107706792828\n",
      "Iteration num -  12  Topics -  8  Alpha -  0.61  Beta -  0.31  Coherence -  0.6579441314396282\n",
      "Iteration num -  13  Topics -  8  Alpha -  0.61  Beta -  0.61  Coherence -  0.619433137804468\n",
      "Iteration num -  14  Topics -  8  Alpha -  0.61  Beta -  0.91  Coherence -  0.604102567600417\n",
      "Iteration num -  15  Topics -  8  Alpha -  0.61  Beta -  symmetric  Coherence -  0.6742804522667619\n",
      "Iteration num -  16  Topics -  8  Alpha -  0.91  Beta -  0.01  Coherence -  0.6571513168865258\n",
      "Iteration num -  17  Topics -  8  Alpha -  0.91  Beta -  0.31  Coherence -  0.6145347859076863\n",
      "Iteration num -  18  Topics -  8  Alpha -  0.91  Beta -  0.61  Coherence -  0.6040691259930828\n",
      "Iteration num -  19  Topics -  8  Alpha -  0.91  Beta -  0.91  Coherence -  0.6176589595510211\n",
      "Iteration num -  20  Topics -  8  Alpha -  0.91  Beta -  symmetric  Coherence -  0.652120027299484\n",
      "Iteration num -  21  Topics -  8  Alpha -  symmetric  Beta -  0.01  Coherence -  0.6289628270079024\n",
      "Iteration num -  22  Topics -  8  Alpha -  symmetric  Beta -  0.31  Coherence -  0.6433885584370929\n",
      "Iteration num -  23  Topics -  8  Alpha -  symmetric  Beta -  0.61  Coherence -  0.6308719849796818\n",
      "Iteration num -  24  Topics -  8  Alpha -  symmetric  Beta -  0.91  Coherence -  0.6080499086174149\n",
      "Iteration num -  25  Topics -  8  Alpha -  symmetric  Beta -  symmetric  Coherence -  0.6319478056057727\n",
      "Iteration num -  26  Topics -  8  Alpha -  asymmetric  Beta -  0.01  Coherence -  0.6101720216076697\n",
      "Iteration num -  27  Topics -  8  Alpha -  asymmetric  Beta -  0.31  Coherence -  0.6310215387694995\n",
      "Iteration num -  28  Topics -  8  Alpha -  asymmetric  Beta -  0.61  Coherence -  0.6494172318830396\n",
      "Iteration num -  29  Topics -  8  Alpha -  asymmetric  Beta -  0.91  Coherence -  0.6576678402570975\n",
      "Iteration num -  30  Topics -  8  Alpha -  asymmetric  Beta -  symmetric  Coherence -  0.6367165121589621\n",
      "Iteration num -  31  Topics -  10  Alpha -  0.01  Beta -  0.01  Coherence -  0.5562647102363446\n",
      "Iteration num -  32  Topics -  10  Alpha -  0.01  Beta -  0.31  Coherence -  0.5237216468722463\n",
      "Iteration num -  33  Topics -  10  Alpha -  0.01  Beta -  0.61  Coherence -  0.5303435531333663\n",
      "Iteration num -  34  Topics -  10  Alpha -  0.01  Beta -  0.91  Coherence -  0.5697133046694604\n",
      "Iteration num -  35  Topics -  10  Alpha -  0.01  Beta -  symmetric  Coherence -  0.5646858505480336\n",
      "Iteration num -  36  Topics -  10  Alpha -  0.31  Beta -  0.01  Coherence -  0.5466379066340475\n",
      "Iteration num -  37  Topics -  10  Alpha -  0.31  Beta -  0.31  Coherence -  0.5559016004458186\n",
      "Iteration num -  38  Topics -  10  Alpha -  0.31  Beta -  0.61  Coherence -  0.5492847544046512\n",
      "Iteration num -  39  Topics -  10  Alpha -  0.31  Beta -  0.91  Coherence -  0.5749305491425509\n",
      "Iteration num -  40  Topics -  10  Alpha -  0.31  Beta -  symmetric  Coherence -  0.536625872272378\n",
      "Iteration num -  41  Topics -  10  Alpha -  0.61  Beta -  0.01  Coherence -  0.5518020057530514\n",
      "Iteration num -  42  Topics -  10  Alpha -  0.61  Beta -  0.31  Coherence -  0.5527813523605173\n",
      "Iteration num -  43  Topics -  10  Alpha -  0.61  Beta -  0.61  Coherence -  0.5529353906719404\n",
      "Iteration num -  44  Topics -  10  Alpha -  0.61  Beta -  0.91  Coherence -  0.5550554207693851\n",
      "Iteration num -  45  Topics -  10  Alpha -  0.61  Beta -  symmetric  Coherence -  0.5350235217319659\n",
      "Iteration num -  46  Topics -  10  Alpha -  0.91  Beta -  0.01  Coherence -  0.5458187359171596\n",
      "Iteration num -  47  Topics -  10  Alpha -  0.91  Beta -  0.31  Coherence -  0.5600066313015916\n",
      "Iteration num -  48  Topics -  10  Alpha -  0.91  Beta -  0.61  Coherence -  0.5712265925509665\n",
      "Iteration num -  49  Topics -  10  Alpha -  0.91  Beta -  0.91  Coherence -  0.57884983379675\n",
      "Iteration num -  50  Topics -  10  Alpha -  0.91  Beta -  symmetric  Coherence -  0.5519273124452477\n",
      "Iteration num -  51  Topics -  10  Alpha -  symmetric  Beta -  0.01  Coherence -  0.5547581127799676\n",
      "Iteration num -  52  Topics -  10  Alpha -  symmetric  Beta -  0.31  Coherence -  0.5378700456801707\n",
      "Iteration num -  53  Topics -  10  Alpha -  symmetric  Beta -  0.61  Coherence -  0.5464778658549572\n",
      "Iteration num -  54  Topics -  10  Alpha -  symmetric  Beta -  0.91  Coherence -  0.5553111164151043\n",
      "Iteration num -  55  Topics -  10  Alpha -  symmetric  Beta -  symmetric  Coherence -  0.5680606448462251\n",
      "Iteration num -  56  Topics -  10  Alpha -  asymmetric  Beta -  0.01  Coherence -  0.5611139997063395\n",
      "Iteration num -  57  Topics -  10  Alpha -  asymmetric  Beta -  0.31  Coherence -  0.5137702794083572\n",
      "Iteration num -  58  Topics -  10  Alpha -  asymmetric  Beta -  0.61  Coherence -  0.515156593745212\n",
      "Iteration num -  59  Topics -  10  Alpha -  asymmetric  Beta -  0.91  Coherence -  0.5311869715980934\n",
      "Iteration num -  60  Topics -  10  Alpha -  asymmetric  Beta -  symmetric  Coherence -  0.4943808679628314\n",
      "Iteration num -  61  Topics -  12  Alpha -  0.01  Beta -  0.01  Coherence -  0.5914099058004393\n",
      "Iteration num -  62  Topics -  12  Alpha -  0.01  Beta -  0.31  Coherence -  0.5970946127960389\n",
      "Iteration num -  63  Topics -  12  Alpha -  0.01  Beta -  0.61  Coherence -  0.5766561150630073\n",
      "Iteration num -  64  Topics -  12  Alpha -  0.01  Beta -  0.91  Coherence -  0.5804539331267405\n",
      "Iteration num -  65  Topics -  12  Alpha -  0.01  Beta -  symmetric  Coherence -  0.5864188509367017\n",
      "Iteration num -  66  Topics -  12  Alpha -  0.31  Beta -  0.01  Coherence -  0.5822680333504434\n",
      "Iteration num -  67  Topics -  12  Alpha -  0.31  Beta -  0.31  Coherence -  0.5689750683361189\n",
      "Iteration num -  68  Topics -  12  Alpha -  0.31  Beta -  0.61  Coherence -  0.5594949922661892\n",
      "Iteration num -  69  Topics -  12  Alpha -  0.31  Beta -  0.91  Coherence -  0.5617642840115761\n",
      "Iteration num -  70  Topics -  12  Alpha -  0.31  Beta -  symmetric  Coherence -  0.571474500184996\n",
      "Iteration num -  71  Topics -  12  Alpha -  0.61  Beta -  0.01  Coherence -  0.5632797072179222\n",
      "Iteration num -  72  Topics -  12  Alpha -  0.61  Beta -  0.31  Coherence -  0.5419964572154635\n",
      "Iteration num -  73  Topics -  12  Alpha -  0.61  Beta -  0.61  Coherence -  0.503554034097529\n",
      "Iteration num -  74  Topics -  12  Alpha -  0.61  Beta -  0.91  Coherence -  0.5005206263895129\n",
      "Iteration num -  75  Topics -  12  Alpha -  0.61  Beta -  symmetric  Coherence -  0.5562202959197945\n",
      "Iteration num -  76  Topics -  12  Alpha -  0.91  Beta -  0.01  Coherence -  0.5632606826939637\n",
      "Iteration num -  77  Topics -  12  Alpha -  0.91  Beta -  0.31  Coherence -  0.5250067518904663\n",
      "Iteration num -  78  Topics -  12  Alpha -  0.91  Beta -  0.61  Coherence -  0.5224241795739764\n",
      "Iteration num -  79  Topics -  12  Alpha -  0.91  Beta -  0.91  Coherence -  0.5300558002507888\n",
      "Iteration num -  80  Topics -  12  Alpha -  0.91  Beta -  symmetric  Coherence -  0.5646948194268872\n",
      "Iteration num -  81  Topics -  12  Alpha -  symmetric  Beta -  0.01  Coherence -  0.5855127793189928\n",
      "Iteration num -  82  Topics -  12  Alpha -  symmetric  Beta -  0.31  Coherence -  0.6014318001673613\n",
      "Iteration num -  83  Topics -  12  Alpha -  symmetric  Beta -  0.61  Coherence -  0.5588888524161525\n",
      "Iteration num -  84  Topics -  12  Alpha -  symmetric  Beta -  0.91  Coherence -  0.5648832145528333\n"
     ]
    },
    {
     "name": "stdout",
     "output_type": "stream",
     "text": [
      "Iteration num -  85  Topics -  12  Alpha -  symmetric  Beta -  symmetric  Coherence -  0.5841557328913006\n",
      "Iteration num -  86  Topics -  12  Alpha -  asymmetric  Beta -  0.01  Coherence -  0.5516118722604489\n",
      "Iteration num -  87  Topics -  12  Alpha -  asymmetric  Beta -  0.31  Coherence -  0.5045377031988117\n",
      "Iteration num -  88  Topics -  12  Alpha -  asymmetric  Beta -  0.61  Coherence -  0.5711196038622898\n",
      "Iteration num -  89  Topics -  12  Alpha -  asymmetric  Beta -  0.91  Coherence -  0.5737303053446828\n",
      "Iteration num -  90  Topics -  12  Alpha -  asymmetric  Beta -  symmetric  Coherence -  0.5669775726592229\n",
      "Iteration num -  91  Topics -  14  Alpha -  0.01  Beta -  0.01  Coherence -  0.6111724510117538\n",
      "Iteration num -  92  Topics -  14  Alpha -  0.01  Beta -  0.31  Coherence -  0.5613056915311604\n",
      "Iteration num -  93  Topics -  14  Alpha -  0.01  Beta -  0.61  Coherence -  0.521606025265237\n",
      "Iteration num -  94  Topics -  14  Alpha -  0.01  Beta -  0.91  Coherence -  0.5172852429402314\n",
      "Iteration num -  95  Topics -  14  Alpha -  0.01  Beta -  symmetric  Coherence -  0.5492757015228543\n",
      "Iteration num -  96  Topics -  14  Alpha -  0.31  Beta -  0.01  Coherence -  0.5322759136494559\n",
      "Iteration num -  97  Topics -  14  Alpha -  0.31  Beta -  0.31  Coherence -  0.5286739533804393\n",
      "Iteration num -  98  Topics -  14  Alpha -  0.31  Beta -  0.61  Coherence -  0.5328690574840564\n",
      "Iteration num -  99  Topics -  14  Alpha -  0.31  Beta -  0.91  Coherence -  0.5401130494818357\n",
      "Iteration num -  100  Topics -  14  Alpha -  0.31  Beta -  symmetric  Coherence -  0.4981934729946787\n",
      "Iteration num -  101  Topics -  14  Alpha -  0.61  Beta -  0.01  Coherence -  0.5355925627206071\n",
      "Iteration num -  102  Topics -  14  Alpha -  0.61  Beta -  0.31  Coherence -  0.5124262213395145\n",
      "Iteration num -  103  Topics -  14  Alpha -  0.61  Beta -  0.61  Coherence -  0.4819179142775915\n",
      "Iteration num -  104  Topics -  14  Alpha -  0.61  Beta -  0.91  Coherence -  0.487238170344669\n",
      "Iteration num -  105  Topics -  14  Alpha -  0.61  Beta -  symmetric  Coherence -  0.5408300052897779\n",
      "Iteration num -  106  Topics -  14  Alpha -  0.91  Beta -  0.01  Coherence -  0.5464960473131144\n",
      "Iteration num -  107  Topics -  14  Alpha -  0.91  Beta -  0.31  Coherence -  0.5166139827785705\n",
      "Iteration num -  108  Topics -  14  Alpha -  0.91  Beta -  0.61  Coherence -  0.5172297726559691\n",
      "Iteration num -  109  Topics -  14  Alpha -  0.91  Beta -  0.91  Coherence -  0.48668617428950506\n",
      "Iteration num -  110  Topics -  14  Alpha -  0.91  Beta -  symmetric  Coherence -  0.5131246178209772\n",
      "Iteration num -  111  Topics -  14  Alpha -  symmetric  Beta -  0.01  Coherence -  0.610912595058705\n",
      "Iteration num -  112  Topics -  14  Alpha -  symmetric  Beta -  0.31  Coherence -  0.5730135509710527\n",
      "Iteration num -  113  Topics -  14  Alpha -  symmetric  Beta -  0.61  Coherence -  0.5469800923159368\n",
      "Iteration num -  114  Topics -  14  Alpha -  symmetric  Beta -  0.91  Coherence -  0.4921955997564173\n",
      "Iteration num -  115  Topics -  14  Alpha -  symmetric  Beta -  symmetric  Coherence -  0.5762169651857356\n",
      "Iteration num -  116  Topics -  14  Alpha -  asymmetric  Beta -  0.01  Coherence -  0.512626675513672\n",
      "Iteration num -  117  Topics -  14  Alpha -  asymmetric  Beta -  0.31  Coherence -  0.5277613595000303\n",
      "Iteration num -  118  Topics -  14  Alpha -  asymmetric  Beta -  0.61  Coherence -  0.5334557234282357\n",
      "Iteration num -  119  Topics -  14  Alpha -  asymmetric  Beta -  0.91  Coherence -  0.4970776751694827\n",
      "Iteration num -  120  Topics -  14  Alpha -  asymmetric  Beta -  symmetric  Coherence -  0.5124069447468137\n",
      "Iteration num -  121  Topics -  16  Alpha -  0.01  Beta -  0.01  Coherence -  0.6422964163968676\n",
      "Iteration num -  122  Topics -  16  Alpha -  0.01  Beta -  0.31  Coherence -  0.5311988143787363\n",
      "Iteration num -  123  Topics -  16  Alpha -  0.01  Beta -  0.61  Coherence -  0.5402999949138765\n",
      "Iteration num -  124  Topics -  16  Alpha -  0.01  Beta -  0.91  Coherence -  0.5182705227817856\n",
      "Iteration num -  125  Topics -  16  Alpha -  0.01  Beta -  symmetric  Coherence -  0.6288269661496116\n",
      "Iteration num -  126  Topics -  16  Alpha -  0.31  Beta -  0.01  Coherence -  0.626019750062329\n",
      "Iteration num -  127  Topics -  16  Alpha -  0.31  Beta -  0.31  Coherence -  0.5405088525857664\n",
      "Iteration num -  128  Topics -  16  Alpha -  0.31  Beta -  0.61  Coherence -  0.5265325107819027\n",
      "Iteration num -  129  Topics -  16  Alpha -  0.31  Beta -  0.91  Coherence -  0.5279316619862676\n",
      "Iteration num -  130  Topics -  16  Alpha -  0.31  Beta -  symmetric  Coherence -  0.6271093876884964\n",
      "Iteration num -  131  Topics -  16  Alpha -  0.61  Beta -  0.01  Coherence -  0.5564147718504439\n",
      "Iteration num -  132  Topics -  16  Alpha -  0.61  Beta -  0.31  Coherence -  0.49140736721656686\n",
      "Iteration num -  133  Topics -  16  Alpha -  0.61  Beta -  0.61  Coherence -  0.4804205745224447\n",
      "Iteration num -  134  Topics -  16  Alpha -  0.61  Beta -  0.91  Coherence -  0.49929141167039015\n",
      "Iteration num -  135  Topics -  16  Alpha -  0.61  Beta -  symmetric  Coherence -  0.5602582919518233\n",
      "Iteration num -  136  Topics -  16  Alpha -  0.91  Beta -  0.01  Coherence -  0.556664943237162\n",
      "Iteration num -  137  Topics -  16  Alpha -  0.91  Beta -  0.31  Coherence -  0.49231881876632\n",
      "Iteration num -  138  Topics -  16  Alpha -  0.91  Beta -  0.61  Coherence -  0.5005955128919289\n",
      "Iteration num -  139  Topics -  16  Alpha -  0.91  Beta -  0.91  Coherence -  0.4701760495224964\n",
      "Iteration num -  140  Topics -  16  Alpha -  0.91  Beta -  symmetric  Coherence -  0.5086701070694828\n",
      "Iteration num -  141  Topics -  16  Alpha -  symmetric  Beta -  0.01  Coherence -  0.6428739395175335\n",
      "Iteration num -  142  Topics -  16  Alpha -  symmetric  Beta -  0.31  Coherence -  0.5306883762071536\n",
      "Iteration num -  143  Topics -  16  Alpha -  symmetric  Beta -  0.61  Coherence -  0.5400121501420255\n",
      "Iteration num -  144  Topics -  16  Alpha -  symmetric  Beta -  0.91  Coherence -  0.5383601997406626\n",
      "Iteration num -  145  Topics -  16  Alpha -  symmetric  Beta -  symmetric  Coherence -  0.631676759526729\n",
      "Iteration num -  146  Topics -  16  Alpha -  asymmetric  Beta -  0.01  Coherence -  0.644808225827251\n",
      "Iteration num -  147  Topics -  16  Alpha -  asymmetric  Beta -  0.31  Coherence -  0.5634847922525494\n",
      "Iteration num -  148  Topics -  16  Alpha -  asymmetric  Beta -  0.61  Coherence -  0.5028188018779092\n",
      "Iteration num -  149  Topics -  16  Alpha -  asymmetric  Beta -  0.91  Coherence -  0.5081943233321977\n",
      "Iteration num -  150  Topics -  16  Alpha -  asymmetric  Beta -  symmetric  Coherence -  0.6226997003154452\n",
      "Iteration num -  151  Topics -  18  Alpha -  0.01  Beta -  0.01  Coherence -  0.576801020724122\n",
      "Iteration num -  152  Topics -  18  Alpha -  0.01  Beta -  0.31  Coherence -  0.5543858632765448\n",
      "Iteration num -  153  Topics -  18  Alpha -  0.01  Beta -  0.61  Coherence -  0.5424573959885919\n",
      "Iteration num -  154  Topics -  18  Alpha -  0.01  Beta -  0.91  Coherence -  0.5478566214467734\n",
      "Iteration num -  155  Topics -  18  Alpha -  0.01  Beta -  symmetric  Coherence -  0.57249640085461\n",
      "Iteration num -  156  Topics -  18  Alpha -  0.31  Beta -  0.01  Coherence -  0.5822007770352914\n",
      "Iteration num -  157  Topics -  18  Alpha -  0.31  Beta -  0.31  Coherence -  0.5539240512768299\n",
      "Iteration num -  158  Topics -  18  Alpha -  0.31  Beta -  0.61  Coherence -  0.5566966418992165\n",
      "Iteration num -  159  Topics -  18  Alpha -  0.31  Beta -  0.91  Coherence -  0.549402632466248\n",
      "Iteration num -  160  Topics -  18  Alpha -  0.31  Beta -  symmetric  Coherence -  0.5618323361378179\n",
      "Iteration num -  161  Topics -  18  Alpha -  0.61  Beta -  0.01  Coherence -  0.576062558121244\n",
      "Iteration num -  162  Topics -  18  Alpha -  0.61  Beta -  0.31  Coherence -  0.5291302636452229\n",
      "Iteration num -  163  Topics -  18  Alpha -  0.61  Beta -  0.61  Coherence -  0.505940540422641\n",
      "Iteration num -  164  Topics -  18  Alpha -  0.61  Beta -  0.91  Coherence -  0.5097118764154701\n",
      "Iteration num -  165  Topics -  18  Alpha -  0.61  Beta -  symmetric  Coherence -  0.5740275705916562\n",
      "Iteration num -  166  Topics -  18  Alpha -  0.91  Beta -  0.01  Coherence -  0.582766879031839\n",
      "Iteration num -  167  Topics -  18  Alpha -  0.91  Beta -  0.31  Coherence -  0.5300346026102987\n"
     ]
    },
    {
     "name": "stdout",
     "output_type": "stream",
     "text": [
      "Iteration num -  168  Topics -  18  Alpha -  0.91  Beta -  0.61  Coherence -  0.4923205827928835\n",
      "Iteration num -  169  Topics -  18  Alpha -  0.91  Beta -  0.91  Coherence -  0.4835213163261199\n",
      "Iteration num -  170  Topics -  18  Alpha -  0.91  Beta -  symmetric  Coherence -  0.541492966447167\n",
      "Iteration num -  171  Topics -  18  Alpha -  symmetric  Beta -  0.01  Coherence -  0.5951321175848486\n",
      "Iteration num -  172  Topics -  18  Alpha -  symmetric  Beta -  0.31  Coherence -  0.5633446354406035\n",
      "Iteration num -  173  Topics -  18  Alpha -  symmetric  Beta -  0.61  Coherence -  0.5422047917370061\n",
      "Iteration num -  174  Topics -  18  Alpha -  symmetric  Beta -  0.91  Coherence -  0.5615069093191996\n",
      "Iteration num -  175  Topics -  18  Alpha -  symmetric  Beta -  symmetric  Coherence -  0.5807039777274372\n",
      "Iteration num -  176  Topics -  18  Alpha -  asymmetric  Beta -  0.01  Coherence -  0.574935038794027\n",
      "Iteration num -  177  Topics -  18  Alpha -  asymmetric  Beta -  0.31  Coherence -  0.5848382094415195\n",
      "Iteration num -  178  Topics -  18  Alpha -  asymmetric  Beta -  0.61  Coherence -  0.553639578915746\n",
      "Iteration num -  179  Topics -  18  Alpha -  asymmetric  Beta -  0.91  Coherence -  0.5384745270257518\n",
      "Iteration num -  180  Topics -  18  Alpha -  asymmetric  Beta -  symmetric  Coherence -  0.5855751664811293\n",
      "Iteration num -  181  Topics -  20  Alpha -  0.01  Beta -  0.01  Coherence -  0.6131545242919461\n",
      "Iteration num -  182  Topics -  20  Alpha -  0.01  Beta -  0.31  Coherence -  0.6158169033335709\n",
      "Iteration num -  183  Topics -  20  Alpha -  0.01  Beta -  0.61  Coherence -  0.6029902729508048\n",
      "Iteration num -  184  Topics -  20  Alpha -  0.01  Beta -  0.91  Coherence -  0.5972344852875665\n",
      "Iteration num -  185  Topics -  20  Alpha -  0.01  Beta -  symmetric  Coherence -  0.6317790421515399\n",
      "Iteration num -  186  Topics -  20  Alpha -  0.31  Beta -  0.01  Coherence -  0.6162061389874007\n",
      "Iteration num -  187  Topics -  20  Alpha -  0.31  Beta -  0.31  Coherence -  0.5795029243153402\n",
      "Iteration num -  188  Topics -  20  Alpha -  0.31  Beta -  0.61  Coherence -  0.5705207134490968\n",
      "Iteration num -  189  Topics -  20  Alpha -  0.31  Beta -  0.91  Coherence -  0.5582782498831593\n",
      "Iteration num -  190  Topics -  20  Alpha -  0.31  Beta -  symmetric  Coherence -  0.6033065704125377\n",
      "Iteration num -  191  Topics -  20  Alpha -  0.61  Beta -  0.01  Coherence -  0.5826167951744597\n",
      "Iteration num -  192  Topics -  20  Alpha -  0.61  Beta -  0.31  Coherence -  0.5319464281528322\n",
      "Iteration num -  193  Topics -  20  Alpha -  0.61  Beta -  0.61  Coherence -  0.5178723657492513\n",
      "Iteration num -  194  Topics -  20  Alpha -  0.61  Beta -  0.91  Coherence -  0.5081375184990424\n",
      "Iteration num -  195  Topics -  20  Alpha -  0.61  Beta -  symmetric  Coherence -  0.5978900976902226\n",
      "Iteration num -  196  Topics -  20  Alpha -  0.91  Beta -  0.01  Coherence -  0.5918610629400087\n",
      "Iteration num -  197  Topics -  20  Alpha -  0.91  Beta -  0.31  Coherence -  0.5179574441205955\n",
      "Iteration num -  198  Topics -  20  Alpha -  0.91  Beta -  0.61  Coherence -  0.5094081003198999\n",
      "Iteration num -  199  Topics -  20  Alpha -  0.91  Beta -  0.91  Coherence -  0.505807934292623\n",
      "Iteration num -  200  Topics -  20  Alpha -  0.91  Beta -  symmetric  Coherence -  0.5667525492503034\n",
      "Iteration num -  201  Topics -  20  Alpha -  symmetric  Beta -  0.01  Coherence -  0.6316427766460055\n",
      "Iteration num -  202  Topics -  20  Alpha -  symmetric  Beta -  0.31  Coherence -  0.6056761844765912\n",
      "Iteration num -  203  Topics -  20  Alpha -  symmetric  Beta -  0.61  Coherence -  0.5906915599894746\n",
      "Iteration num -  204  Topics -  20  Alpha -  symmetric  Beta -  0.91  Coherence -  0.5959812273255489\n",
      "Iteration num -  205  Topics -  20  Alpha -  symmetric  Beta -  symmetric  Coherence -  0.6367702346816267\n",
      "Iteration num -  206  Topics -  20  Alpha -  asymmetric  Beta -  0.01  Coherence -  0.6336015441765868\n",
      "Iteration num -  207  Topics -  20  Alpha -  asymmetric  Beta -  0.31  Coherence -  0.6002001106089464\n",
      "Iteration num -  208  Topics -  20  Alpha -  asymmetric  Beta -  0.61  Coherence -  0.5663101476569408\n",
      "Iteration num -  209  Topics -  20  Alpha -  asymmetric  Beta -  0.91  Coherence -  0.5613517716563408\n",
      "Iteration num -  210  Topics -  20  Alpha -  asymmetric  Beta -  symmetric  Coherence -  0.6315811793508489\n",
      "Iteration num -  211  Topics -  22  Alpha -  0.01  Beta -  0.01  Coherence -  0.625382786329003\n",
      "Iteration num -  212  Topics -  22  Alpha -  0.01  Beta -  0.31  Coherence -  0.5886427131239974\n",
      "Iteration num -  213  Topics -  22  Alpha -  0.01  Beta -  0.61  Coherence -  0.5626489402256941\n",
      "Iteration num -  214  Topics -  22  Alpha -  0.01  Beta -  0.91  Coherence -  0.5749442166935003\n",
      "Iteration num -  215  Topics -  22  Alpha -  0.01  Beta -  symmetric  Coherence -  0.6185095858984582\n",
      "Iteration num -  216  Topics -  22  Alpha -  0.31  Beta -  0.01  Coherence -  0.6112416548805629\n",
      "Iteration num -  217  Topics -  22  Alpha -  0.31  Beta -  0.31  Coherence -  0.5820627067777571\n",
      "Iteration num -  218  Topics -  22  Alpha -  0.31  Beta -  0.61  Coherence -  0.5766884300129109\n",
      "Iteration num -  219  Topics -  22  Alpha -  0.31  Beta -  0.91  Coherence -  0.563314404081268\n",
      "Iteration num -  220  Topics -  22  Alpha -  0.31  Beta -  symmetric  Coherence -  0.6070257881651486\n",
      "Iteration num -  221  Topics -  22  Alpha -  0.61  Beta -  0.01  Coherence -  0.5975836110117263\n",
      "Iteration num -  222  Topics -  22  Alpha -  0.61  Beta -  0.31  Coherence -  0.5475497631808615\n",
      "Iteration num -  223  Topics -  22  Alpha -  0.61  Beta -  0.61  Coherence -  0.523515703975906\n",
      "Iteration num -  224  Topics -  22  Alpha -  0.61  Beta -  0.91  Coherence -  0.4993706581634068\n",
      "Iteration num -  225  Topics -  22  Alpha -  0.61  Beta -  symmetric  Coherence -  0.59186684824838\n",
      "Iteration num -  226  Topics -  22  Alpha -  0.91  Beta -  0.01  Coherence -  0.598082225637975\n",
      "Iteration num -  227  Topics -  22  Alpha -  0.91  Beta -  0.31  Coherence -  0.5505822897423897\n",
      "Iteration num -  228  Topics -  22  Alpha -  0.91  Beta -  0.61  Coherence -  0.5218821645855571\n",
      "Iteration num -  229  Topics -  22  Alpha -  0.91  Beta -  0.91  Coherence -  0.4975676042349209\n",
      "Iteration num -  230  Topics -  22  Alpha -  0.91  Beta -  symmetric  Coherence -  0.6025399448832437\n",
      "Iteration num -  231  Topics -  22  Alpha -  symmetric  Beta -  0.01  Coherence -  0.6129117568865501\n",
      "Iteration num -  232  Topics -  22  Alpha -  symmetric  Beta -  0.31  Coherence -  0.5909402938953625\n",
      "Iteration num -  233  Topics -  22  Alpha -  symmetric  Beta -  0.61  Coherence -  0.5599433318428197\n",
      "Iteration num -  234  Topics -  22  Alpha -  symmetric  Beta -  0.91  Coherence -  0.5772372030657462\n",
      "Iteration num -  235  Topics -  22  Alpha -  symmetric  Beta -  symmetric  Coherence -  0.6132279322207285\n",
      "Iteration num -  236  Topics -  22  Alpha -  asymmetric  Beta -  0.01  Coherence -  0.624030068204096\n",
      "Iteration num -  237  Topics -  22  Alpha -  asymmetric  Beta -  0.31  Coherence -  0.6021956940407059\n",
      "Iteration num -  238  Topics -  22  Alpha -  asymmetric  Beta -  0.61  Coherence -  0.5953582530724514\n",
      "Iteration num -  239  Topics -  22  Alpha -  asymmetric  Beta -  0.91  Coherence -  0.5731614529806298\n",
      "Iteration num -  240  Topics -  22  Alpha -  asymmetric  Beta -  symmetric  Coherence -  0.6166556391502229\n",
      "Iteration num -  241  Topics -  24  Alpha -  0.01  Beta -  0.01  Coherence -  0.594471743787651\n",
      "Iteration num -  242  Topics -  24  Alpha -  0.01  Beta -  0.31  Coherence -  0.5696983546108014\n",
      "Iteration num -  243  Topics -  24  Alpha -  0.01  Beta -  0.61  Coherence -  0.5564335629750531\n",
      "Iteration num -  244  Topics -  24  Alpha -  0.01  Beta -  0.91  Coherence -  0.5441278718901525\n",
      "Iteration num -  245  Topics -  24  Alpha -  0.01  Beta -  symmetric  Coherence -  0.594048625605342\n",
      "Iteration num -  246  Topics -  24  Alpha -  0.31  Beta -  0.01  Coherence -  0.5980316223086212\n",
      "Iteration num -  247  Topics -  24  Alpha -  0.31  Beta -  0.31  Coherence -  0.5741673822017174\n",
      "Iteration num -  248  Topics -  24  Alpha -  0.31  Beta -  0.61  Coherence -  0.5825403808152266\n",
      "Iteration num -  249  Topics -  24  Alpha -  0.31  Beta -  0.91  Coherence -  0.5580540808305097\n",
      "Iteration num -  250  Topics -  24  Alpha -  0.31  Beta -  symmetric  Coherence -  0.591759903295829\n"
     ]
    },
    {
     "name": "stdout",
     "output_type": "stream",
     "text": [
      "Iteration num -  251  Topics -  24  Alpha -  0.61  Beta -  0.01  Coherence -  0.5815340237857353\n",
      "Iteration num -  252  Topics -  24  Alpha -  0.61  Beta -  0.31  Coherence -  0.5288152068227724\n",
      "Iteration num -  253  Topics -  24  Alpha -  0.61  Beta -  0.61  Coherence -  0.4785673664720315\n",
      "Iteration num -  254  Topics -  24  Alpha -  0.61  Beta -  0.91  Coherence -  0.44065874255068493\n",
      "Iteration num -  255  Topics -  24  Alpha -  0.61  Beta -  symmetric  Coherence -  0.5820710847565307\n",
      "Iteration num -  256  Topics -  24  Alpha -  0.91  Beta -  0.01  Coherence -  0.5925790647318908\n",
      "Iteration num -  257  Topics -  24  Alpha -  0.91  Beta -  0.31  Coherence -  0.5334855833702074\n",
      "Iteration num -  258  Topics -  24  Alpha -  0.91  Beta -  0.61  Coherence -  0.4918956907071448\n",
      "Iteration num -  259  Topics -  24  Alpha -  0.91  Beta -  0.91  Coherence -  0.4718692266107087\n",
      "Iteration num -  260  Topics -  24  Alpha -  0.91  Beta -  symmetric  Coherence -  0.584508079799756\n",
      "Iteration num -  261  Topics -  24  Alpha -  symmetric  Beta -  0.01  Coherence -  0.5897136741360932\n",
      "Iteration num -  262  Topics -  24  Alpha -  symmetric  Beta -  0.31  Coherence -  0.5756308101063939\n",
      "Iteration num -  263  Topics -  24  Alpha -  symmetric  Beta -  0.61  Coherence -  0.5724026008061721\n",
      "Iteration num -  264  Topics -  24  Alpha -  symmetric  Beta -  0.91  Coherence -  0.5606014810812375\n",
      "Iteration num -  265  Topics -  24  Alpha -  symmetric  Beta -  symmetric  Coherence -  0.5904102484719668\n",
      "Iteration num -  266  Topics -  24  Alpha -  asymmetric  Beta -  0.01  Coherence -  0.6040845823878446\n",
      "Iteration num -  267  Topics -  24  Alpha -  asymmetric  Beta -  0.31  Coherence -  0.5720693025542937\n",
      "Iteration num -  268  Topics -  24  Alpha -  asymmetric  Beta -  0.61  Coherence -  0.5924700841055629\n",
      "Iteration num -  269  Topics -  24  Alpha -  asymmetric  Beta -  0.91  Coherence -  0.5869421210509764\n",
      "Iteration num -  270  Topics -  24  Alpha -  asymmetric  Beta -  symmetric  Coherence -  0.6063817278139392\n"
     ]
    }
   ],
   "source": [
    "# LDA model and its corresponding Coherence Score\n",
    "def compute_coherence_values(bow_corpus, id2word, n, a, b):\n",
    "    lda_model = gensim.models.LdaMulticore(corpus=bow_corpus\n",
    "                                           ,id2word=id2word\n",
    "                                           ,num_topics=n\n",
    "                                           ,random_state=random_state\n",
    "                                           ,chunksize=chunksize\n",
    "                                           ,passes=10\n",
    "                                           ,alpha=a\n",
    "                                           ,eta=b)\n",
    "    coherence_model_lda = CoherenceModel(model=lda_model, texts=data_words, dictionary=id2word, coherence='c_v')\n",
    "    return coherence_model_lda.get_coherence()\n",
    "\n",
    "grid = {}\n",
    "grid['Validation_Set'] = {}\n",
    "\n",
    "# Topics range\n",
    "min_topics = 8\n",
    "max_topics = 25\n",
    "step_size = 2\n",
    "topics_range = range(min_topics, max_topics, step_size)\n",
    "\n",
    "# Alpha parameter\n",
    "alpha = [0.01, 0.31, 0.61, 0.91, 'symmetric', 'asymmetric']\n",
    "\n",
    "# Beta parameter\n",
    "beta = [0.01, 0.31, 0.61, 0.91, 'symmetric']\n",
    "\n",
    "model_results = {'Topics': []\n",
    "                 ,'Alpha': []\n",
    "                 ,'Beta': []\n",
    "                 ,'Coherence': []\n",
    "                }\n",
    "\n",
    "# iterate through number of topics\n",
    "iter = 0\n",
    "for k in topics_range:\n",
    "    # iterate through alpha values\n",
    "    for a in alpha:\n",
    "        # iterare through beta values\n",
    "        for b in beta:\n",
    "            iter += 1\n",
    "            # get the coherence score for the given parameters\n",
    "            cv = compute_coherence_values(bow_corpus=corpus\n",
    "                                          ,id2word=id2word\n",
    "                                          ,n=k\n",
    "                                          ,a=a\n",
    "                                          ,b=b)\n",
    "            # Save the model results\n",
    "            model_results['Topics'].append(k)\n",
    "            model_results['Alpha'].append(a)\n",
    "            model_results['Beta'].append(b)\n",
    "            model_results['Coherence'].append(cv)\n",
    "            print('Iteration num - ', iter, ' Topics - ', k, ' Alpha - ', a, ' Beta - ', b, ' Coherence - ', cv)\n",
    "\n",
    "pd.DataFrame(model_results).to_csv(file_model + '_lda_tuning_results.csv', index=False)"
   ]
  },
  {
   "cell_type": "code",
   "execution_count": 14,
   "metadata": {},
   "outputs": [
    {
     "name": "stderr",
     "output_type": "stream",
     "text": [
      "C:\\Users\\minio\\anaconda3\\envs\\tfm-py-37\\lib\\site-packages\\ipykernel\\ipkernel.py:287: DeprecationWarning: `should_run_async` will not call `transform_cell` automatically in the future. Please pass the result to `transformed_cell` argument and any exception that happen during thetransform in `preprocessing_exc_tuple` in IPython 7.17 and above.\n",
      "  and should_run_async(code)\n"
     ]
    },
    {
     "data": {
      "text/html": [
       "<div>\n",
       "<style scoped>\n",
       "    .dataframe tbody tr th:only-of-type {\n",
       "        vertical-align: middle;\n",
       "    }\n",
       "\n",
       "    .dataframe tbody tr th {\n",
       "        vertical-align: top;\n",
       "    }\n",
       "\n",
       "    .dataframe thead th {\n",
       "        text-align: right;\n",
       "    }\n",
       "</style>\n",
       "<table border=\"1\" class=\"dataframe\">\n",
       "  <thead>\n",
       "    <tr style=\"text-align: right;\">\n",
       "      <th></th>\n",
       "      <th>Topics</th>\n",
       "      <th>Alpha</th>\n",
       "      <th>Beta</th>\n",
       "      <th>Coherence</th>\n",
       "    </tr>\n",
       "  </thead>\n",
       "  <tbody>\n",
       "    <tr>\n",
       "      <th>10</th>\n",
       "      <td>8</td>\n",
       "      <td>0.61</td>\n",
       "      <td>0.01</td>\n",
       "      <td>0.680711</td>\n",
       "    </tr>\n",
       "    <tr>\n",
       "      <th>14</th>\n",
       "      <td>8</td>\n",
       "      <td>0.61</td>\n",
       "      <td>symmetric</td>\n",
       "      <td>0.674280</td>\n",
       "    </tr>\n",
       "    <tr>\n",
       "      <th>9</th>\n",
       "      <td>8</td>\n",
       "      <td>0.31</td>\n",
       "      <td>symmetric</td>\n",
       "      <td>0.673440</td>\n",
       "    </tr>\n",
       "    <tr>\n",
       "      <th>0</th>\n",
       "      <td>8</td>\n",
       "      <td>0.01</td>\n",
       "      <td>0.01</td>\n",
       "      <td>0.665427</td>\n",
       "    </tr>\n",
       "    <tr>\n",
       "      <th>6</th>\n",
       "      <td>8</td>\n",
       "      <td>0.31</td>\n",
       "      <td>0.31</td>\n",
       "      <td>0.662978</td>\n",
       "    </tr>\n",
       "    <tr>\n",
       "      <th>...</th>\n",
       "      <td>...</td>\n",
       "      <td>...</td>\n",
       "      <td>...</td>\n",
       "      <td>...</td>\n",
       "    </tr>\n",
       "    <tr>\n",
       "      <th>132</th>\n",
       "      <td>16</td>\n",
       "      <td>0.61</td>\n",
       "      <td>0.61</td>\n",
       "      <td>0.480421</td>\n",
       "    </tr>\n",
       "    <tr>\n",
       "      <th>252</th>\n",
       "      <td>24</td>\n",
       "      <td>0.61</td>\n",
       "      <td>0.61</td>\n",
       "      <td>0.478567</td>\n",
       "    </tr>\n",
       "    <tr>\n",
       "      <th>258</th>\n",
       "      <td>24</td>\n",
       "      <td>0.91</td>\n",
       "      <td>0.91</td>\n",
       "      <td>0.471869</td>\n",
       "    </tr>\n",
       "    <tr>\n",
       "      <th>138</th>\n",
       "      <td>16</td>\n",
       "      <td>0.91</td>\n",
       "      <td>0.91</td>\n",
       "      <td>0.470176</td>\n",
       "    </tr>\n",
       "    <tr>\n",
       "      <th>253</th>\n",
       "      <td>24</td>\n",
       "      <td>0.61</td>\n",
       "      <td>0.91</td>\n",
       "      <td>0.440659</td>\n",
       "    </tr>\n",
       "  </tbody>\n",
       "</table>\n",
       "<p>270 rows × 4 columns</p>\n",
       "</div>"
      ],
      "text/plain": [
       "     Topics Alpha       Beta  Coherence\n",
       "10        8  0.61       0.01   0.680711\n",
       "14        8  0.61  symmetric   0.674280\n",
       "9         8  0.31  symmetric   0.673440\n",
       "0         8  0.01       0.01   0.665427\n",
       "6         8  0.31       0.31   0.662978\n",
       "..      ...   ...        ...        ...\n",
       "132      16  0.61       0.61   0.480421\n",
       "252      24  0.61       0.61   0.478567\n",
       "258      24  0.91       0.91   0.471869\n",
       "138      16  0.91       0.91   0.470176\n",
       "253      24  0.61       0.91   0.440659\n",
       "\n",
       "[270 rows x 4 columns]"
      ]
     },
     "execution_count": 14,
     "metadata": {},
     "output_type": "execute_result"
    }
   ],
   "source": [
    "pd.DataFrame(model_results).sort_values(by=['Coherence'], ascending=False)"
   ]
  },
  {
   "cell_type": "code",
   "execution_count": null,
   "metadata": {},
   "outputs": [],
   "source": []
  }
 ],
 "metadata": {
  "kernelspec": {
   "display_name": "Python 3",
   "language": "python",
   "name": "python3"
  },
  "language_info": {
   "codemirror_mode": {
    "name": "ipython",
    "version": 3
   },
   "file_extension": ".py",
   "mimetype": "text/x-python",
   "name": "python",
   "nbconvert_exporter": "python",
   "pygments_lexer": "ipython3",
   "version": "3.7.9"
  }
 },
 "nbformat": 4,
 "nbformat_minor": 4
}
