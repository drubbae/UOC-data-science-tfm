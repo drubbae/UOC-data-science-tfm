{
 "cells": [
  {
   "cell_type": "markdown",
   "metadata": {},
   "source": [
    "# <span style=\"color:blue\">LDA model (2019_Dec) - with hyperparameter tuning</span>"
   ]
  },
  {
   "cell_type": "code",
   "execution_count": 1,
   "metadata": {},
   "outputs": [],
   "source": [
    "yyyy_MMM = '2019_Dec'"
   ]
  },
  {
   "cell_type": "markdown",
   "metadata": {},
   "source": [
    "### Load packages"
   ]
  },
  {
   "cell_type": "code",
   "execution_count": 2,
   "metadata": {},
   "outputs": [
    {
     "name": "stderr",
     "output_type": "stream",
     "text": [
      "C:\\Users\\minio\\anaconda3\\envs\\tfm-py-37\\lib\\site-packages\\botocore\\vendored\\requests\\packages\\urllib3\\_collections.py:1: DeprecationWarning: Using or importing the ABCs from 'collections' instead of from 'collections.abc' is deprecated since Python 3.3,and in 3.9 it will stop working\n",
      "  from collections import Mapping, MutableMapping\n",
      "C:\\Users\\minio\\anaconda3\\envs\\tfm-py-37\\lib\\site-packages\\botocore\\vendored\\requests\\packages\\urllib3\\_collections.py:1: DeprecationWarning: Using or importing the ABCs from 'collections' instead of from 'collections.abc' is deprecated since Python 3.3,and in 3.9 it will stop working\n",
      "  from collections import Mapping, MutableMapping\n",
      "C:\\Users\\minio\\anaconda3\\envs\\tfm-py-37\\lib\\site-packages\\scipy\\sparse\\sparsetools.py:21: DeprecationWarning: `scipy.sparse.sparsetools` is deprecated!\n",
      "scipy.sparse.sparsetools is a private module for scipy.sparse, and should not be used.\n",
      "  _deprecated()\n",
      "C:\\Users\\minio\\anaconda3\\envs\\tfm-py-37\\lib\\site-packages\\gensim\\models\\doc2vec.py:73: DeprecationWarning: Using or importing the ABCs from 'collections' instead of from 'collections.abc' is deprecated since Python 3.3,and in 3.9 it will stop working\n",
      "  from collections import namedtuple, defaultdict, Iterable\n",
      "[nltk_data] Downloading package stopwords to\n",
      "[nltk_data]     C:\\Users\\minio\\AppData\\Roaming\\nltk_data...\n",
      "[nltk_data]   Package stopwords is already up-to-date!\n",
      "[nltk_data] Downloading package averaged_perceptron_tagger to\n",
      "[nltk_data]     C:\\Users\\minio\\AppData\\Roaming\\nltk_data...\n",
      "[nltk_data]   Package averaged_perceptron_tagger is already up-to-\n",
      "[nltk_data]       date!\n"
     ]
    },
    {
     "data": {
      "text/plain": [
       "True"
      ]
     },
     "execution_count": 2,
     "metadata": {},
     "output_type": "execute_result"
    }
   ],
   "source": [
    "import csv, os, re, time\n",
    "import numpy as np\n",
    "from numpy import savetxt\n",
    "import pandas as  pd\n",
    "import matplotlib.pyplot as plt  \n",
    "import pyLDAvis\n",
    "import pyLDAvis.gensim\n",
    "import gensim\n",
    "import gensim.corpora as corpora\n",
    "from gensim.corpora.dictionary import Dictionary\n",
    "from gensim.models import CoherenceModel\n",
    "from gensim.test.utils import datapath\n",
    "from gensim.utils import simple_preprocess\n",
    "from pprint import pprint\n",
    "import nltk\n",
    "nltk.download('stopwords')\n",
    "nltk.download('averaged_perceptron_tagger')"
   ]
  },
  {
   "cell_type": "markdown",
   "metadata": {},
   "source": [
    "### Constants"
   ]
  },
  {
   "cell_type": "code",
   "execution_count": 3,
   "metadata": {},
   "outputs": [
    {
     "name": "stdout",
     "output_type": "stream",
     "text": [
      "D:\\master\\data science\\semestre 4\\M2.979 - tfm\\data\\bins_test\\doc\\2019_Dec\\2019_Dec_28_results.csv\n",
      "D:\\master\\data science\\semestre 4\\M2.979 - tfm\\data\\bins_test\\model_hyperparameter\\2019_Dec\\model\n"
     ]
    },
    {
     "name": "stderr",
     "output_type": "stream",
     "text": [
      "C:\\Users\\minio\\anaconda3\\envs\\tfm-py-37\\lib\\site-packages\\ipykernel\\ipkernel.py:287: DeprecationWarning: `should_run_async` will not call `transform_cell` automatically in the future. Please pass the result to `transformed_cell` argument and any exception that happen during thetransform in `preprocessing_exc_tuple` in IPython 7.17 and above.\n",
      "  and should_run_async(code)\n"
     ]
    }
   ],
   "source": [
    "# for reproducible results\n",
    "random_state = 33\n",
    "# if the test is True, the process runs on a smaller subset of raw data (json files)\n",
    "test = True\n",
    "# if sample > 0, then we take a sample of the entire dataset (for debugging purpose)\n",
    "sample = 0\n",
    "# parameters to build the lda model\n",
    "num_topics = 10\n",
    "alpha = 0.61\n",
    "eta = 0.91\n",
    "\n",
    "if test:\n",
    "    # path with the documents preprocessed\n",
    "    path_doc = r'D:\\master\\data science\\semestre 4\\M2.979 - tfm\\data\\bins_test\\doc'\n",
    "    # path where store all data/results related to the model\n",
    "    path_model = r'D:\\master\\data science\\semestre 4\\M2.979 - tfm\\data\\bins_test\\model_hyperparameter'\n",
    "    # chunksize to build LDA model\n",
    "    chunksize = 250\n",
    "else:\n",
    "    # path with the documents preprocessed\n",
    "    path_doc = r'D:\\master\\data science\\semestre 4\\M2.979 - tfm\\data\\bins\\doc'\n",
    "    # path where store all data/results related to the model\n",
    "    path_model = r'D:\\master\\data science\\semestre 4\\M2.979 - tfm\\data\\bins\\model_hyperparameter'\n",
    "    # chunksize to build LDA model\n",
    "    chunksize = 5000\n",
    "\n",
    "# path + name of the file that contains the documents preprocessed\n",
    "file_doc = os.path.join(path_doc, yyyy_MMM, yyyy_MMM) + '_28_results.csv'\n",
    "# path + name of the file that contains the model gotten at the end\n",
    "file_model = os.path.join(path_model, yyyy_MMM, 'model')\n",
    "print(file_doc)\n",
    "print(file_model)"
   ]
  },
  {
   "cell_type": "markdown",
   "metadata": {},
   "source": [
    "### Load data preprocessed"
   ]
  },
  {
   "cell_type": "code",
   "execution_count": 4,
   "metadata": {},
   "outputs": [
    {
     "name": "stderr",
     "output_type": "stream",
     "text": [
      "C:\\Users\\minio\\anaconda3\\envs\\tfm-py-37\\lib\\site-packages\\ipykernel\\ipkernel.py:287: DeprecationWarning: `should_run_async` will not call `transform_cell` automatically in the future. Please pass the result to `transformed_cell` argument and any exception that happen during thetransform in `preprocessing_exc_tuple` in IPython 7.17 and above.\n",
      "  and should_run_async(code)\n"
     ]
    },
    {
     "data": {
      "text/plain": [
       "id_doc\n",
       "27653    ['zeal', 'bank', 'retire', 'pull', 'nicki', 'z...\n",
       "15867    ['series', 'blitz', 'king', 'brier', 'quintupl...\n",
       "19296    ['hanak', 'umra', 'drop', 'dead', 'gorgeous', ...\n",
       "41342               ['studio', 'hootirfanahsonirfanahson']\n",
       "49679    ['adorable', 'jalal', 'love', 'face', 'jalal',...\n",
       "54138    ['chateau', 'estournel', 'blanc', 'jerome', 'b...\n",
       "30518    ['linny', 'hill', 'ready', 'dance', 'content',...\n",
       "30946    ['jessica', 'guerra', 'fearless', 'vision', 's...\n",
       "27655                     ['type', 'hitstubbzthakoolkidd']\n",
       "42542    ['nomo', 'forno', 'tokyo', 'wagyu', 'steak', '...\n",
       "Name: content_preprocessed, dtype: object"
      ]
     },
     "execution_count": 4,
     "metadata": {},
     "output_type": "execute_result"
    }
   ],
   "source": [
    "df = pd.read_csv(file_doc, index_col='id_doc')\n",
    "documents = df.content_preprocessed\n",
    "documents.head(10)"
   ]
  },
  {
   "cell_type": "markdown",
   "metadata": {},
   "source": [
    "### Shuffle"
   ]
  },
  {
   "cell_type": "code",
   "execution_count": 5,
   "metadata": {},
   "outputs": [
    {
     "name": "stderr",
     "output_type": "stream",
     "text": [
      "C:\\Users\\minio\\anaconda3\\envs\\tfm-py-37\\lib\\site-packages\\ipykernel\\ipkernel.py:287: DeprecationWarning: `should_run_async` will not call `transform_cell` automatically in the future. Please pass the result to `transformed_cell` argument and any exception that happen during thetransform in `preprocessing_exc_tuple` in IPython 7.17 and above.\n",
      "  and should_run_async(code)\n"
     ]
    },
    {
     "data": {
      "text/plain": [
       "id_doc\n",
       "30878    ['damn', 'square', 'format', 'post', 'pic', 'b...\n",
       "30727    ['heather', 'pitbull', 'calle', 'ocho', 'quinn...\n",
       "9691     ['showstopper', 'wear', 'outfit', 'massive', '...\n",
       "40158    ['henbane', 'toxic', 'herb', 'history', 'inext...\n",
       "9742     ['imazharhaniaairuzairjasw', 'alright', 'atten...\n",
       "22195    ['star', 'marketplace', 'urban', 'offering', '...\n",
       "54045    ['avec', 'fumiko', 'anthony', 'aubert', 'blois...\n",
       "8261     ['ricardo', 'asco', 'artist', 'draw', 'artwork...\n",
       "49797    ['crush', 'zeen', 'woman', 'luxury', 'pret', '...\n",
       "12349    ['celebrate', 'felt', 'depth', 'soul', 'nigeri...\n",
       "Name: content_preprocessed, dtype: object"
      ]
     },
     "execution_count": 5,
     "metadata": {},
     "output_type": "execute_result"
    }
   ],
   "source": [
    "documents = documents.sample(frac=1, random_state=random_state)\n",
    "documents.head(10)"
   ]
  },
  {
   "cell_type": "markdown",
   "metadata": {},
   "source": [
    "### Sample"
   ]
  },
  {
   "cell_type": "code",
   "execution_count": 6,
   "metadata": {},
   "outputs": [
    {
     "name": "stderr",
     "output_type": "stream",
     "text": [
      "C:\\Users\\minio\\anaconda3\\envs\\tfm-py-37\\lib\\site-packages\\ipykernel\\ipkernel.py:287: DeprecationWarning: `should_run_async` will not call `transform_cell` automatically in the future. Please pass the result to `transformed_cell` argument and any exception that happen during thetransform in `preprocessing_exc_tuple` in IPython 7.17 and above.\n",
      "  and should_run_async(code)\n"
     ]
    }
   ],
   "source": [
    "if sample > 0:\n",
    "    documents = documents.sample(n=sample, random_state=random_state)\n",
    "    print(documents.head(10))"
   ]
  },
  {
   "cell_type": "markdown",
   "metadata": {},
   "source": [
    "### Plot the number of words appearing in each document  \n",
    "\n",
    "https://neptune.ai/blog/exploratory-data-analysis-natural-language-processing-tools"
   ]
  },
  {
   "cell_type": "code",
   "execution_count": 7,
   "metadata": {},
   "outputs": [
    {
     "name": "stdout",
     "output_type": "stream",
     "text": [
      "(4269,)\n"
     ]
    },
    {
     "name": "stderr",
     "output_type": "stream",
     "text": [
      "C:\\Users\\minio\\anaconda3\\envs\\tfm-py-37\\lib\\site-packages\\ipykernel\\ipkernel.py:287: DeprecationWarning: `should_run_async` will not call `transform_cell` automatically in the future. Please pass the result to `transformed_cell` argument and any exception that happen during thetransform in `preprocessing_exc_tuple` in IPython 7.17 and above.\n",
      "  and should_run_async(code)\n"
     ]
    },
    {
     "data": {
      "text/plain": [
       "<AxesSubplot:>"
      ]
     },
     "execution_count": 7,
     "metadata": {},
     "output_type": "execute_result"
    },
    {
     "data": {
      "image/png": "[encoded data removed]",
      "text/plain": [
       "<Figure size 432x288 with 1 Axes>"
      ]
     },
     "metadata": {
      "needs_background": "light"
     },
     "output_type": "display_data"
    }
   ],
   "source": [
    "print(documents.shape)\n",
    "\n",
    "documents.str.split().\\\n",
    "    map(lambda x: len(x)).\\\n",
    "    hist()"
   ]
  },
  {
   "cell_type": "markdown",
   "metadata": {},
   "source": [
    "### Remove words that appear only once"
   ]
  },
  {
   "cell_type": "code",
   "execution_count": 8,
   "metadata": {},
   "outputs": [
    {
     "name": "stderr",
     "output_type": "stream",
     "text": [
      "C:\\Users\\minio\\anaconda3\\envs\\tfm-py-37\\lib\\site-packages\\ipykernel\\ipkernel.py:287: DeprecationWarning: `should_run_async` will not call `transform_cell` automatically in the future. Please pass the result to `transformed_cell` argument and any exception that happen during thetransform in `preprocessing_exc_tuple` in IPython 7.17 and above.\n",
      "  and should_run_async(code)\n"
     ]
    }
   ],
   "source": [
    "####################### PENDING"
   ]
  },
  {
   "cell_type": "markdown",
   "metadata": {},
   "source": [
    "### Tokenize words and Clean-up text"
   ]
  },
  {
   "cell_type": "code",
   "execution_count": 9,
   "metadata": {},
   "outputs": [
    {
     "name": "stderr",
     "output_type": "stream",
     "text": [
      "C:\\Users\\minio\\anaconda3\\envs\\tfm-py-37\\lib\\site-packages\\ipykernel\\ipkernel.py:287: DeprecationWarning: `should_run_async` will not call `transform_cell` automatically in the future. Please pass the result to `transformed_cell` argument and any exception that happen during thetransform in `preprocessing_exc_tuple` in IPython 7.17 and above.\n",
      "  and should_run_async(code)\n"
     ]
    }
   ],
   "source": [
    "# https://www.machinelearningplus.com/nlp/topic-modeling-gensim-python/#3importpackages\n",
    "def sent_to_words(sentences):\n",
    "    for sentence in sentences:\n",
    "        yield(gensim.utils.simple_preprocess(str(sentence), deacc=True))  # deacc=True removes punctuations"
   ]
  },
  {
   "cell_type": "markdown",
   "metadata": {},
   "source": [
    "### Compute bigrams & trigrams  \n",
    "\n",
    "https://radimrehurek.com/gensim/auto_examples/tutorials/run_lda.html#pre-process-and-vectorize-the-documents"
   ]
  },
  {
   "cell_type": "code",
   "execution_count": 10,
   "metadata": {},
   "outputs": [
    {
     "name": "stderr",
     "output_type": "stream",
     "text": [
      "C:\\Users\\minio\\anaconda3\\envs\\tfm-py-37\\lib\\site-packages\\ipykernel\\ipkernel.py:287: DeprecationWarning: `should_run_async` will not call `transform_cell` automatically in the future. Please pass the result to `transformed_cell` argument and any exception that happen during thetransform in `preprocessing_exc_tuple` in IPython 7.17 and above.\n",
      "  and should_run_async(code)\n"
     ]
    }
   ],
   "source": [
    "from gensim.models import Phrases\n",
    "\n",
    "# Add bigrams and trigrams to docs (only ones that appear min_count times or more).\n",
    "def bi_tri_grams(documents, min_count):\n",
    "    bigram = Phrases(documents, min_count=min_count)\n",
    "    for idx in range(len(documents)):\n",
    "        for token in bigram[documents[idx]]:\n",
    "            if '_' in token:\n",
    "                # Token is a bigram, add to document.\n",
    "                documents[idx].append(token)"
   ]
  },
  {
   "cell_type": "markdown",
   "metadata": {},
   "source": [
    "### Categorizing and tagging words"
   ]
  },
  {
   "cell_type": "code",
   "execution_count": 11,
   "metadata": {},
   "outputs": [
    {
     "name": "stderr",
     "output_type": "stream",
     "text": [
      "C:\\Users\\minio\\anaconda3\\envs\\tfm-py-37\\lib\\site-packages\\ipykernel\\ipkernel.py:287: DeprecationWarning: `should_run_async` will not call `transform_cell` automatically in the future. Please pass the result to `transformed_cell` argument and any exception that happen during thetransform in `preprocessing_exc_tuple` in IPython 7.17 and above.\n",
      "  and should_run_async(code)\n"
     ]
    }
   ],
   "source": [
    "# function to remove accented characters\n",
    "def tag_words(text):\n",
    "    tags = nltk.pos_tag(text)\n",
    "    nouns = [word for word, pos in tags if (pos == 'NN' or pos == 'NNP' or pos == 'NNS' or pos == 'NNPS')]\n",
    "    return nouns"
   ]
  },
  {
   "cell_type": "markdown",
   "metadata": {},
   "source": [
    "### Dictionary with the entire dataset"
   ]
  },
  {
   "cell_type": "code",
   "execution_count": 12,
   "metadata": {},
   "outputs": [
    {
     "name": "stderr",
     "output_type": "stream",
     "text": [
      "C:\\Users\\minio\\anaconda3\\envs\\tfm-py-37\\lib\\site-packages\\ipykernel\\ipkernel.py:287: DeprecationWarning: `should_run_async` will not call `transform_cell` automatically in the future. Please pass the result to `transformed_cell` argument and any exception that happen during thetransform in `preprocessing_exc_tuple` in IPython 7.17 and above.\n",
      "  and should_run_async(code)\n"
     ]
    }
   ],
   "source": [
    "data_words = list(sent_to_words(documents))\n",
    "# Compute bigrams & trigrams\n",
    "bi_tri_grams(data_words, 250)\n",
    "# Categorizing and tagging words\n",
    "data_words = list(map(tag_words, data_words))\n",
    "# Create Dictionary\n",
    "id2word = Dictionary(data_words)\n",
    "# Create Corpus\n",
    "texts = data_words\n",
    "# Term Document Frequency\n",
    "corpus_total = [id2word.doc2bow(text) for text in texts]"
   ]
  },
  {
   "cell_type": "markdown",
   "metadata": {},
   "source": [
    "### Build LDA model"
   ]
  },
  {
   "cell_type": "code",
   "execution_count": 13,
   "metadata": {},
   "outputs": [
    {
     "name": "stderr",
     "output_type": "stream",
     "text": [
      "C:\\Users\\minio\\anaconda3\\envs\\tfm-py-37\\lib\\site-packages\\ipykernel\\ipkernel.py:287: DeprecationWarning: `should_run_async` will not call `transform_cell` automatically in the future. Please pass the result to `transformed_cell` argument and any exception that happen during thetransform in `preprocessing_exc_tuple` in IPython 7.17 and above.\n",
      "  and should_run_async(code)\n"
     ]
    },
    {
     "name": "stdout",
     "output_type": "stream",
     "text": [
      "time elapsed - 00:00:23.58\n"
     ]
    }
   ],
   "source": [
    "perplexity_score = []\n",
    "coherence_score = []\n",
    "indixes = []\n",
    "\n",
    "index = 0\n",
    "chunk_size = 250\n",
    "documents_sample = documents[index:chunk_size-1]\n",
    "\n",
    "time_start = time.time()\n",
    "\n",
    "data_words = list(sent_to_words(documents_sample))\n",
    "# Compute bigrams & trigrams\n",
    "bi_tri_grams(data_words, 250)\n",
    "# Categorizing and tagging words\n",
    "data_words = list(map(tag_words, data_words))\n",
    "# # Create Dictionary\n",
    "# id2word = Dictionary(data_words)\n",
    "# Create Corpus\n",
    "texts = data_words\n",
    "# Term Document Frequency\n",
    "corpus = [id2word.doc2bow(text) for text in texts]\n",
    "# Build LDA Model\n",
    "lda_model = gensim.models.LdaMulticore(corpus=corpus\n",
    "                                       ,id2word=id2word\n",
    "                                       ,num_topics=num_topics\n",
    "                                       ,random_state=random_state\n",
    "                                       ,chunksize=chunksize\n",
    "                                       ,passes=50\n",
    "                                       ,per_word_topics=True\n",
    "                                       ,alpha=alpha\n",
    "                                       ,eta=eta)\n",
    "\n",
    "indixes.append(index)\n",
    "\n",
    "# Evaluate LDA Model\n",
    "# Compute Perplexity Score\n",
    "perplexity = lda_model.log_perplexity(corpus)\n",
    "perplexity_score.append(perplexity)\n",
    "\n",
    "# Evaluate LDA Model\n",
    "# Compute Coherence Score\n",
    "coherence_lda_model = CoherenceModel(model=lda_model, texts=data_words, dictionary=id2word, coherence='c_v')\n",
    "coherence = coherence_lda_model.get_coherence()\n",
    "coherence_score.append(coherence)\n",
    "\n",
    "# Save LDA Model\n",
    "temp_file = datapath(file_model)\n",
    "lda_model.save(temp_file)\n",
    "temp_file = datapath(file_model + '_' + str(index).zfill(5))\n",
    "lda_model.save(temp_file)\n",
    "\n",
    "time_end = time.time()\n",
    "hour, rem = divmod(time_end - time_start, 3600)\n",
    "minute, second = divmod(rem, 60)\n",
    "print('time elapsed - {:0>2}:{:0>2}:{:05.2f}'.format(int(hour), int(minute), second))"
   ]
  },
  {
   "cell_type": "markdown",
   "metadata": {},
   "source": [
    "### Incremental learning"
   ]
  },
  {
   "cell_type": "code",
   "execution_count": 14,
   "metadata": {},
   "outputs": [
    {
     "name": "stdout",
     "output_type": "stream",
     "text": [
      "0  -----  250  -----  499\n"
     ]
    },
    {
     "name": "stderr",
     "output_type": "stream",
     "text": [
      "C:\\Users\\minio\\anaconda3\\envs\\tfm-py-37\\lib\\site-packages\\ipykernel\\ipkernel.py:287: DeprecationWarning: `should_run_async` will not call `transform_cell` automatically in the future. Please pass the result to `transformed_cell` argument and any exception that happen during thetransform in `preprocessing_exc_tuple` in IPython 7.17 and above.\n",
      "  and should_run_async(code)\n"
     ]
    },
    {
     "name": "stdout",
     "output_type": "stream",
     "text": [
      "time elapsed - 00:00:23.08\n",
      "1  -----  500  -----  749\n",
      "time elapsed - 00:00:22.42\n",
      "2  -----  750  -----  999\n",
      "time elapsed - 00:00:22.21\n",
      "3  -----  1000  -----  1249\n",
      "time elapsed - 00:00:22.21\n",
      "4  -----  1250  -----  1499\n",
      "time elapsed - 00:00:21.81\n",
      "5  -----  1500  -----  1749\n",
      "time elapsed - 00:00:22.37\n",
      "6  -----  1750  -----  1999\n",
      "time elapsed - 00:00:22.51\n",
      "7  -----  2000  -----  2249\n",
      "time elapsed - 00:00:22.16\n",
      "8  -----  2250  -----  2499\n",
      "time elapsed - 00:00:22.13\n",
      "9  -----  2500  -----  2749\n",
      "time elapsed - 00:00:22.48\n",
      "10  -----  2750  -----  2999\n",
      "time elapsed - 00:00:22.05\n",
      "11  -----  3000  -----  3249\n",
      "time elapsed - 00:00:22.24\n",
      "12  -----  3250  -----  3499\n",
      "time elapsed - 00:00:22.03\n",
      "13  -----  3500  -----  3749\n",
      "time elapsed - 00:00:22.26\n",
      "14  -----  3750  -----  3999\n",
      "time elapsed - 00:00:22.97\n",
      "15  -----  4000  -----  4249\n",
      "time elapsed - 00:00:22.20\n",
      "16  -----  4250  -----  4499\n"
     ]
    },
    {
     "name": "stderr",
     "output_type": "stream",
     "text": [
      "C:\\Users\\minio\\anaconda3\\envs\\tfm-py-37\\lib\\site-packages\\gensim\\topic_coherence\\direct_confirmation_measure.py:204: RuntimeWarning: divide by zero encountered in double_scalars\n",
      "  m_lr_i = np.log(numerator / denominator)\n",
      "C:\\Users\\minio\\anaconda3\\envs\\tfm-py-37\\lib\\site-packages\\gensim\\topic_coherence\\indirect_confirmation_measure.py:323: RuntimeWarning: invalid value encountered in double_scalars\n",
      "  return cv1.T.dot(cv2)[0, 0] / (_magnitude(cv1) * _magnitude(cv2))\n"
     ]
    },
    {
     "name": "stdout",
     "output_type": "stream",
     "text": [
      "time elapsed - 00:00:16.93\n"
     ]
    }
   ],
   "source": [
    "documents_len = len(documents)\n",
    "\n",
    "while index+(index+1)*chunk_size < documents_len:\n",
    "    \n",
    "    time_start = time.time()\n",
    "    \n",
    "    print(index, ' ----- ', (index+1)*chunk_size, ' ----- ', ((index+1)*chunk_size)+chunk_size-1)\n",
    "    documents_sample = documents[(index+1)*chunk_size:((index+1)*chunk_size)+chunk_size-1]\n",
    "    \n",
    "    data_words = list(sent_to_words(documents_sample))\n",
    "    # Compute bigrams & trigrams\n",
    "    bi_tri_grams(data_words, 250)\n",
    "    # Categorizing and tagging words\n",
    "    data_words = list(map(tag_words, data_words))\n",
    "    # Create Corpus\n",
    "    texts = data_words\n",
    "    # Term Document Frequency\n",
    "    corpus = [id2word.doc2bow(text) for text in texts]\n",
    "    # Load LDA Model\n",
    "    temp_file = datapath(file_model)\n",
    "    lda_model = gensim.models.ldamodel.LdaModel.load(temp_file)\n",
    "    # Update LDA Model\n",
    "    lda_model.update(corpus)\n",
    "    \n",
    "    index = index + 1\n",
    "    indixes.append(index)\n",
    "    \n",
    "    # Evaluate LDA Model\n",
    "    # Compute Perplexity Score\n",
    "    perplexity = lda_model.log_perplexity(corpus)\n",
    "    perplexity_score.append(perplexity)\n",
    "\n",
    "    # Evaluate LDA Model\n",
    "    # Compute Coherence Score\n",
    "    coherence_lda_model = CoherenceModel(model=lda_model, texts=data_words, dictionary=id2word, coherence='c_v')\n",
    "    coherence = coherence_lda_model.get_coherence()\n",
    "    coherence_score.append(coherence)\n",
    "    \n",
    "    # Save LDA Model\n",
    "    temp_file = datapath(file_model)\n",
    "    lda_model.save(temp_file)\n",
    "    temp_file = datapath(file_model + '_' + str(index).zfill(5))\n",
    "    lda_model.save(temp_file)\n",
    "    \n",
    "    time_end = time.time()\n",
    "    hour, rem = divmod(time_end - time_start, 3600)\n",
    "    minute, second = divmod(rem, 60)\n",
    "    print('time elapsed - {:0>2}:{:0>2}:{:05.2f}'.format(int(hour), int(minute), second))"
   ]
  },
  {
   "cell_type": "markdown",
   "metadata": {},
   "source": [
    "### Topics in LDA model"
   ]
  },
  {
   "cell_type": "code",
   "execution_count": 15,
   "metadata": {},
   "outputs": [
    {
     "name": "stdout",
     "output_type": "stream",
     "text": [
      "[(0,\n",
      "  '0.037*\"life\" + 0.036*\"birthday\" + 0.019*\"bethany\" + 0.019*\"woman\" + '\n",
      "  '0.018*\"damn\" + 0.018*\"smooth\" + 0.018*\"shape\" + 0.018*\"babe\" + 0.018*\"mama\" '\n",
      "  '+ 0.018*\"mother\"'),\n",
      " (1,\n",
      "  '0.039*\"lizzie\" + 0.039*\"merry\" + 0.020*\"christmas\" + 0.020*\"follow\" + '\n",
      "  '0.020*\"model\" + 0.020*\"day\" + 0.020*\"lingerie\" + 0.020*\"chance\" + '\n",
      "  '0.020*\"roll\" + 0.020*\"coal\"'),\n",
      " (2,\n",
      "  '0.000*\"food\" + 0.000*\"beauty\" + 0.000*\"sister\" + 0.000*\"michelle\" + '\n",
      "  '0.000*\"birthday\" + 0.000*\"nicki\" + 0.000*\"groo\" + 0.000*\"life\" + '\n",
      "  '0.000*\"pakistani\" + 0.000*\"kitchen\"'),\n",
      " (3,\n",
      "  '0.046*\"sweden\" + 0.031*\"india\" + 0.016*\"navman\" + 0.016*\"glan\" + '\n",
      "  '0.015*\"museum\" + 0.015*\"gustaf\" + 0.015*\"majesty\" + 0.015*\"consul\" + '\n",
      "  '0.015*\"graha\" + 0.015*\"chhatrapati\"'),\n",
      " (4,\n",
      "  '0.026*\"movie\" + 0.026*\"winter\" + 0.026*\"afzal\" + 0.013*\"impact\" + '\n",
      "  '0.013*\"malnutrition\" + 0.013*\"grace\" + 0.013*\"headquarters\" + '\n",
      "  '0.013*\"weekly\" + 0.013*\"stunt\" + 0.013*\"tala\"'),\n",
      " (5,\n",
      "  '0.054*\"skincare\" + 0.036*\"product\" + 0.019*\"skin\" + 0.018*\"today\" + '\n",
      "  '0.018*\"xmas\" + 0.018*\"price\" + 0.018*\"slash\" + 0.018*\"pride\" + '\n",
      "  '0.018*\"ingredient\" + 0.018*\"care\"'),\n",
      " (6,\n",
      "  '0.044*\"travel\" + 0.033*\"luxury\" + 0.033*\"time\" + 0.023*\"dream\" + '\n",
      "  '0.022*\"gallery\" + 0.022*\"weekend\" + 0.022*\"vibe\" + 0.012*\"beauty\" + '\n",
      "  '0.011*\"design\" + 0.011*\"ravel\"'),\n",
      " (7,\n",
      "  '0.041*\"collection\" + 0.040*\"acropora\" + 0.020*\"salman\" + 0.020*\"bajaj\" + '\n",
      "  '0.020*\"inspire\" + 0.020*\"boutique\" + 0.020*\"ocean\" + 0.020*\"year\" + '\n",
      "  '0.020*\"celebration\" + 0.000*\"luxury\"'),\n",
      " (8,\n",
      "  '0.048*\"fashion\" + 0.047*\"bollywood\" + 0.038*\"style\" + 0.019*\"birthday\" + '\n",
      "  '0.019*\"celeb\" + 0.019*\"celebrity\" + 0.019*\"outfit\" + 0.019*\"actor\" + '\n",
      "  '0.019*\"iqra\" + 0.019*\"faiza\"'),\n",
      " (9,\n",
      "  '0.019*\"wedding\" + 0.018*\"child\" + 0.018*\"people\" + 0.018*\"daughter\" + '\n",
      "  '0.018*\"fine\" + 0.018*\"arrival\" + 0.018*\"husband\" + 0.018*\"trainer\" + '\n",
      "  '0.018*\"angeles\" + 0.018*\"anticipate\"')]\n"
     ]
    },
    {
     "name": "stderr",
     "output_type": "stream",
     "text": [
      "C:\\Users\\minio\\anaconda3\\envs\\tfm-py-37\\lib\\site-packages\\ipykernel\\ipkernel.py:287: DeprecationWarning: `should_run_async` will not call `transform_cell` automatically in the future. Please pass the result to `transformed_cell` argument and any exception that happen during thetransform in `preprocessing_exc_tuple` in IPython 7.17 and above.\n",
      "  and should_run_async(code)\n"
     ]
    }
   ],
   "source": [
    "# Print the Keyword in the 10 topics\n",
    "pprint(lda_model.print_topics())\n",
    "doc_lda = lda_model[corpus]"
   ]
  },
  {
   "cell_type": "markdown",
   "metadata": {},
   "source": [
    "### Plot perplexity score progress along incremental learning iterations  \n",
    "\n",
    "Lower the perplexity score represents a better model.  "
   ]
  },
  {
   "cell_type": "code",
   "execution_count": 16,
   "metadata": {},
   "outputs": [
    {
     "name": "stderr",
     "output_type": "stream",
     "text": [
      "C:\\Users\\minio\\anaconda3\\envs\\tfm-py-37\\lib\\site-packages\\ipykernel\\ipkernel.py:287: DeprecationWarning: `should_run_async` will not call `transform_cell` automatically in the future. Please pass the result to `transformed_cell` argument and any exception that happen during thetransform in `preprocessing_exc_tuple` in IPython 7.17 and above.\n",
      "  and should_run_async(code)\n"
     ]
    },
    {
     "data": {
      "image/png": "[encoded data removed]",
      "text/plain": [
       "<Figure size 432x288 with 1 Axes>"
      ]
     },
     "metadata": {
      "needs_background": "light"
     },
     "output_type": "display_data"
    }
   ],
   "source": [
    "plt.title('Perplexity score progress')\n",
    "plt.xlabel('Index')\n",
    "plt.ylabel('Perplexity score')\n",
    "plt.plot(indixes, perplexity_score, 'go', perplexity_score, 'k')\n",
    "plt.show()"
   ]
  },
  {
   "cell_type": "markdown",
   "metadata": {},
   "source": [
    "### Plot coherence score progress along incremental learning iterations  \n",
    "\n",
    "Higher the coherence score represents a more human interpretable model.  "
   ]
  },
  {
   "cell_type": "code",
   "execution_count": 17,
   "metadata": {},
   "outputs": [
    {
     "name": "stderr",
     "output_type": "stream",
     "text": [
      "C:\\Users\\minio\\anaconda3\\envs\\tfm-py-37\\lib\\site-packages\\ipykernel\\ipkernel.py:287: DeprecationWarning: `should_run_async` will not call `transform_cell` automatically in the future. Please pass the result to `transformed_cell` argument and any exception that happen during thetransform in `preprocessing_exc_tuple` in IPython 7.17 and above.\n",
      "  and should_run_async(code)\n"
     ]
    },
    {
     "data": {
      "image/png": "[encoded data removed]",
      "text/plain": [
       "<Figure size 432x288 with 1 Axes>"
      ]
     },
     "metadata": {
      "needs_background": "light"
     },
     "output_type": "display_data"
    }
   ],
   "source": [
    "plt.title('Coherence score progress')\n",
    "plt.xlabel('Index')\n",
    "plt.ylabel('Coherence score')\n",
    "plt.plot(indixes, coherence_score, 'go', coherence_score, 'k') \n",
    "plt.show()"
   ]
  },
  {
   "cell_type": "markdown",
   "metadata": {},
   "source": [
    "### Visualize the topics-keywords"
   ]
  },
  {
   "cell_type": "code",
   "execution_count": 18,
   "metadata": {},
   "outputs": [
    {
     "name": "stderr",
     "output_type": "stream",
     "text": [
      "C:\\Users\\minio\\anaconda3\\envs\\tfm-py-37\\lib\\site-packages\\ipykernel\\ipkernel.py:287: DeprecationWarning: `should_run_async` will not call `transform_cell` automatically in the future. Please pass the result to `transformed_cell` argument and any exception that happen during thetransform in `preprocessing_exc_tuple` in IPython 7.17 and above.\n",
      "  and should_run_async(code)\n"
     ]
    },
    {
     "data": {
      "text/html": [
       "\n",
       "<link rel=\"stylesheet\" type=\"text/css\" href=\"https://cdn.rawgit.com/bmabey/pyLDAvis/files/ldavis.v1.0.0.css\">\n",
       "\n",
       "\n",
       "<div id=\"ldavis_el1260826587296305369647471714\"></div>\n",
       "<script type=\"text/javascript\">\n",
       "\n",
       "var ldavis_el1260826587296305369647471714_data = {\"mdsDat\": {\"x\": [-0.24168416782892913, -0.08008385362309359, 0.09922329751764922, 0.03855660177357662, 0.042409871457005296, 0.03314485127025556, 0.031895229230689486, 0.03086912232475357, 0.021437347342106255, 0.024231700535986767], \"y\": [0.10721092032191748, -0.21850154506241898, 0.06771266818928796, 0.027083603778738, 0.012927468674784918, -0.016566002562719808, 0.007966181830161926, 0.014451886492759313, -0.0020789635841936627, -0.00020621807831731288], \"topics\": [1, 2, 3, 4, 5, 6, 7, 8, 9, 10], \"cluster\": [1, 1, 1, 1, 1, 1, 1, 1, 1, 1], \"Freq\": [22.22327886177358, 19.023122136952882, 13.482206409675971, 11.120912305688309, 7.38529375489828, 6.870953028883885, 5.959521993700933, 5.623306819037081, 5.493298381592059, 2.8181063077970228]}, \"tinfo\": {\"Term\": [\"bollywood\", \"travel\", \"fashion\", \"sweden\", \"birthday\", \"style\", \"time\", \"luxury\", \"skincare\", \"life\", \"collection\", \"salman\", \"india\", \"dream\", \"movie\", \"winter\", \"afzal\", \"lizzie\", \"merry\", \"product\", \"gallery\", \"weekend\", \"vibe\", \"acropora\", \"celeb\", \"celebrity\", \"outfit\", \"actor\", \"iqra\", \"faiza\", \"bollywood\", \"celeb\", \"celebrity\", \"outfit\", \"actor\", \"iqra\", \"faiza\", \"hungama\", \"actress\", \"varun\", \"dhawan\", \"kid\", \"spot\", \"trend\", \"choice\", \"mehndi\", \"aziz\", \"night\", \"celebs\", \"paki\", \"saqlain\", \"courtesy\", \"cake\", \"glow\", \"desire\", \"breast\", \"stretchmark\", \"guy\", \"estate\", \"customise\", \"fashion\", \"style\", \"salman\", \"birthday\", \"dream\", \"pakistani\", \"travel\", \"time\", \"luxury\", \"gallery\", \"weekend\", \"vibe\", \"design\", \"breakfast\", \"client\", \"viewpoint\", \"ravel\", \"honeymoon\", \"holic\", \"view\", \"trip\", \"agent\", \"place\", \"sketchbook\", \"abstract\", \"blackandwhite\", \"watercolor\", \"artsy\", \"graffiti\", \"architecture\", \"paint\", \"art\", \"isabel\", \"resort\", \"photographer\", \"color\", \"dream\", \"beauty\", \"movie\", \"winter\", \"afzal\", \"weekly\", \"tala\", \"stunt\", \"grace\", \"malnutrition\", \"headquarters\", \"recreation\", \"impact\", \"staff\", \"development\", \"club\", \"council\", \"piece\", \"base\", \"opportunity\", \"york\", \"pakistan\", \"tone\", \"fusion\", \"beautiful\", \"hue\", \"release\", \"silhouette\", \"store\", \"stylish\", \"root\", \"shop\", \"sweden\", \"india\", \"museum\", \"carl\", \"consul\", \"gustaf\", \"maharaj\", \"chhatrapati\", \"majesty\", \"samband\", \"shivaji\", \"graha\", \"gabriella\", \"vastus\", \"wale\", \"demetriades\", \"arjun\", \"prince\", \"reception\", \"host\", \"mumbai\", \"navman\", \"glan\", \"card\", \"body\", \"bardi\", \"posh\", \"motivation\", \"massage\", \"connect\", \"africa\", \"love\", \"sister\", \"nicki\", \"michelle\", \"beauty\", \"groo\", \"birthday\", \"pakistani\", \"daughter\", \"trainer\", \"anticipate\", \"fine\", \"frankie\", \"angeles\", \"arrival\", \"cassie\", \"husband\", \"comment\", \"singer\", \"report\", \"couple\", \"people\", \"child\", \"wedding\", \"talk\", \"wood\", \"share\", \"story\", \"cooper\", \"williams\", \"curry\", \"harvey\", \"work\", \"thompson\", \"cheat\", \"thing\", \"dash\", \"episode\", \"baby\", \"skin\", \"skincare\", \"sister\", \"nicki\", \"michelle\", \"birthday\", \"weekend\", \"ingredient\", \"slash\", \"pride\", \"care\", \"beauty\", \"product\", \"price\", \"skincare\", \"product\", \"xmas\", \"price\", \"pride\", \"slash\", \"ingredient\", \"care\", \"michelle\", \"sister\", \"people\", \"skin\", \"today\", \"beauty\", \"groo\", \"sapp\", \"telegram\", \"candle\", \"event\", \"decor\", \"ella\", \"boudoir\", \"kiev\", \"holiday\", \"santa\", \"image\", \"float\", \"lavilla\", \"villa\", \"wonder\", \"bank\", \"vibe\", \"christmas\", \"life\", \"merry\", \"nicki\", \"birthday\", \"mama\", \"mother\", \"pakistani\", \"dream\", \"afzal\", \"twitter\", \"khan\", \"root\", \"lizzie\", \"merry\", \"lingerie\", \"roll\", \"chance\", \"follow\", \"day\", \"coal\", \"model\", \"christmas\", \"shoot\", \"drop\", \"song\", \"michi\", \"bikini\", \"mall\", \"gauri\", \"check\", \"fan\", \"power\", \"youtube\", \"track\", \"channel\", \"jessica\", \"guerra\", \"zoey\", \"volve\", \"jeff\", \"madison\", \"vision\", \"feature\", \"bank\", \"hill\", \"beauty\", \"sister\", \"groo\", \"michelle\", \"nicki\", \"birthday\", \"celebration\", \"mother\", \"photographer\", \"mama\", \"pakistani\", \"life\", \"skin\", \"comment\", \"dream\", \"ocean\", \"afzal\", \"twitter\", \"khan\", \"acropora\", \"bajaj\", \"inspire\", \"boutique\", \"ocean\", \"year\", \"celebration\", \"collection\", \"salman\", \"dress\", \"couture\", \"jewellery\", \"diamond\", \"jewelry\", \"haute\", \"designer\", \"party\", \"vuitton\", \"detail\", \"kind\", \"gold\", \"crystal\", \"shoe\", \"stylist\", \"ruby\", \"difference\", \"shine\", \"love\", \"sapphire\", \"area\", \"luxury\", \"season\", \"time\", \"shop\", \"christmas\", \"product\", \"sister\", \"shape\", \"today\", \"fashion\", \"wedding\", \"michelle\", \"nicki\", \"beauty\", \"family\", \"birthday\", \"winter\", \"groo\", \"bethany\", \"smooth\", \"damn\", \"woman\", \"shape\", \"babe\", \"mama\", \"mother\", \"nicki\", \"bank\", \"groo\", \"life\", \"sister\", \"birthday\", \"baby\", \"book\", \"fairytale\", \"period\", \"sign\", \"play\", \"thing\", \"city\", \"hart\", \"romance\", \"hunt\", \"problem\", \"help\", \"wife\", \"football\", \"amazon\", \"cover\", \"sale\", \"butt\", \"time\", \"release\", \"michelle\", \"report\", \"beauty\", \"resort\", \"york\", \"opportunity\", \"today\", \"child\", \"family\", \"stretchmark\", \"desire\", \"breast\", \"food\", \"kitchen\", \"foodie\", \"pic\", \"tasty\", \"ephoto\", \"gourmand\", \"lunch\", \"porn\", \"delice\", \"aviv\", \"pastry\", \"mana\", \"dish\", \"coffee\", \"starbucks\", \"ttys\", \"yummy\", \"chef\", \"abuja\", \"pierre\", \"doorstep\", \"tokyo\", \"paris\", \"lover\", \"pour\", \"agneau\", \"matin\", \"monceau\", \"grill\", \"delivery\", \"love\", \"sister\", \"beauty\", \"michelle\", \"lifestyle\", \"nicki\", \"groo\", \"birthday\", \"life\", \"bank\", \"mama\", \"mother\", \"pakistani\", \"christmas\", \"skin\", \"afzal\", \"twitter\", \"khan\", \"root\", \"dream\", \"salman\"], \"Freq\": [2.0, 2.0, 3.0, 1.0, 1.0, 2.0, 1.0, 1.0, 0.0, 1.0, 1.0, 1.0, 0.0, 2.0, 0.0, 0.0, 0.0, 0.0, 0.0, 0.0, 1.0, 1.0, 1.0, 0.0, 1.0, 1.0, 1.0, 1.0, 1.0, 1.0, 2.6668292332655326, 1.067940183626756, 1.067919996560326, 1.0678901365245654, 1.0678880337051455, 1.0678518652111255, 1.0678165378448734, 0.5349660396610675, 0.5349599940552356, 0.5349598889142646, 0.5349495325286222, 0.5349495325286222, 0.5349561564097945, 0.5349629905729087, 0.5349277683476276, 0.5348839771332109, 0.5348838719922399, 0.5348717282100907, 0.5348573238970653, 0.5348573238970653, 0.5348573238970653, 0.5348573238970653, 0.5347787835917368, 0.5346943028215474, 0.5345799094451118, 0.5345799094451118, 0.5345799094451118, 0.5345799094451118, 0.5345397981646797, 0.5345397981646797, 2.6813166076580512, 2.152276891397242, 1.0538725319904234, 1.0855421490028703, 1.0445389577138235, 0.5440965341522028, 2.147437818449346, 1.6100300798799447, 1.6100322398955338, 1.0745932655350616, 1.0745099249335774, 1.0740100613259709, 0.5383815005972193, 0.5383029300301613, 0.5383049100444514, 0.5383049100444514, 0.5383049100444514, 0.5383049100444514, 0.5383049100444514, 0.5383049100444514, 0.5383048650441266, 0.5383048650441266, 0.5383048650441266, 0.5382931199593601, 0.5382931199593601, 0.5382931199593601, 0.5382931199593601, 0.5382931199593601, 0.5382931199593601, 0.5382931199593601, 0.5382931199593601, 0.5382931199593601, 0.5382930749590353, 0.5382276444868117, 0.5382419545900904, 0.5382570746992149, 1.0979790343144087, 0.5841376058273536, 0.8801455430201338, 0.8799858868640219, 0.8797031876695001, 0.4408671613495467, 0.4408671613495467, 0.4408671613495467, 0.4408671613495467, 0.4408671613495467, 0.4408671613495467, 0.4408671613495467, 0.4408671613495467, 0.44086712945658696, 0.44086712945658696, 0.44086693809882893, 0.4408598259688224, 0.44084017990566515, 0.4408295276571351, 0.44079195775064295, 0.4407917663928849, 0.44085089594011456, 0.4407800297837261, 0.4407800297837261, 0.4407800297837261, 0.4407800297837261, 0.44077145057757466, 0.4407826131134594, 0.44078203904018537, 0.4407720246508487, 0.44058436647614585, 0.4405223346695862, 1.3032402494022852, 0.8693870004510962, 0.43553401457169005, 0.43553390934297687, 0.43553390934297687, 0.43553390934297687, 0.43553390934297687, 0.43553390934297687, 0.43553390934297687, 0.43553390934297687, 0.43553390934297687, 0.43553390934297687, 0.43553390934297687, 0.43553390934297687, 0.43553390934297687, 0.43553390934297687, 0.43553383042144206, 0.43551773042833286, 0.4355157047756051, 0.4354877928594468, 0.435464852999984, 0.4474291735328456, 0.4474145467417203, 0.001783781036735163, 0.0017829640755345775, 0.0017741382227454603, 0.0017737991067754062, 0.0017742531111256182, 0.0017696884046438566, 0.001769319898623064, 0.0017702034498686785, 0.0017709754011314203, 0.001900950948034523, 0.001882201739862295, 0.0018802106153060002, 0.0018764447838397545, 0.0018476698689189079, 0.0018698647008717185, 0.001828843177885643, 0.34177855288567194, 0.34175276664785315, 0.34175276664785315, 0.34175276664785315, 0.34175276664785315, 0.34175276664785315, 0.34175276664785315, 0.34175276664785315, 0.34175276664785315, 0.3417487135264616, 0.3417186295823397, 0.3416967567031059, 0.34172069108373715, 0.34373404419429654, 0.34411416408756257, 0.34886547057952905, 0.0014236972416675707, 0.001418721603860136, 0.0014134896432491798, 0.0014107139047746275, 0.001407370652872471, 0.0014073702434111235, 0.001403586957047544, 0.001403586957047544, 0.0014028582523361493, 0.0013998036706839646, 0.001399895935974263, 0.0013996963918109255, 0.001396022022165775, 0.0013960209302688485, 0.001396716741585329, 0.002619091392796153, 0.0016351025448317277, 0.0015335074047568731, 0.0014823884758052336, 0.0014828134966839157, 0.0015026184596258398, 0.0014957599820555859, 0.001476475717460538, 0.001476475717460538, 0.001476475717460538, 0.0014764736701538004, 0.0014896356686813599, 0.0014794133296544597, 0.0014689855775182415, 0.9395285593191803, 0.6266985105524197, 0.3139981008765482, 0.31398282244808334, 0.31396104256069723, 0.31396104256069723, 0.31396104256069723, 0.31396104256069723, 0.31331622786489, 0.17506727117990184, 0.3122306792688128, 0.32527796956840305, 0.3148260616701664, 0.2863419023517837, 0.06552773311126954, 0.0013026399283541036, 0.0013002220713361529, 0.001293275668820005, 0.0012937602306802277, 0.0012897904043080734, 0.0012863217743883035, 0.001282837271766089, 0.001282837271766089, 0.0012827540988052805, 0.0012826784177600256, 0.001280840358816964, 0.0012793680069382214, 0.0012793631816366783, 0.0012793626737102, 0.0012793575944454179, 0.008943055406916168, 0.0017299335860838433, 0.0014895956017333283, 0.0014654574117088405, 0.0014125458216012411, 0.0013633812051234767, 0.001355887765790285, 0.0013219742767291986, 0.0013218843737425536, 0.0013266371687808852, 0.0013232129824279596, 0.0013120789800621202, 0.0013100844797637665, 0.0013082677537327903, 0.001308198167805274, 0.5935127550322494, 0.593411308680488, 0.29732704848879105, 0.2973256669236892, 0.2973259206805447, 0.29735092982840805, 0.2973315879169827, 0.2973123869815882, 0.29734368366042513, 0.3101535552844147, 0.001229802862732456, 0.0012210807417895586, 0.0012200062401048278, 0.0012178251867158642, 0.0012176793646340085, 0.0012145314139213206, 0.001214521281269107, 0.0012144487006407515, 0.0012140989038643363, 0.0012122558625367135, 0.0012117603538159666, 0.001211237310714205, 0.0012112356586513441, 0.0012112309227378095, 0.001211230041637617, 0.001211229931500093, 0.001211229931500093, 0.0012112297112250449, 0.0012112294909499967, 0.0012112281692997079, 0.0012116514278046712, 0.0015273246255527832, 0.0012112572456060599, 0.0014031727623811001, 0.0013307073378756144, 0.0013273067316827325, 0.0013263844400562526, 0.0013002944025317352, 0.0013062255284774233, 0.001277501882477579, 0.0012656266343583633, 0.0012718647135836073, 0.0012566691495265495, 0.0012615898738265099, 0.0012533187660446392, 0.001250700797097729, 0.001250530524485532, 0.0012469033654056581, 0.0012464512508693912, 0.0012453467917781158, 0.0012436893321785343, 0.001242189589513407, 0.5706797208362576, 0.28588671657847353, 0.285882034180798, 0.28587083367272187, 0.28586561918440134, 0.2858626128722574, 0.2858286654891098, 0.5869139128317322, 0.2918461051973523, 0.0012500101024564107, 0.0012445413122202647, 0.0012248349402736115, 0.0012089923570161188, 0.0012058362904543204, 0.0012026224421740471, 0.0011935784600692525, 0.0011918427221880197, 0.0011899899659344802, 0.0011899792617672087, 0.0011899753126569533, 0.0011840671319429093, 0.0011773261046607775, 0.0011771179449807326, 0.0011771151390339723, 0.0011741727401217855, 0.001174146966981171, 0.0011740786889433328, 0.0011763449586102016, 0.0011710084635676138, 0.0011710026438261846, 0.0017969403605803823, 0.0014754506732833845, 0.0014766698051888294, 0.001370397793278799, 0.0013882575404852038, 0.0013035126481975058, 0.0012786324221964178, 0.0012690559337508595, 0.0012794511351067492, 0.0013082064775079931, 0.0012715459516908867, 0.0012469043350883924, 0.0012418998770791262, 0.001255937820873824, 0.0012378737591736755, 0.0012479369234962435, 0.0012318527170454884, 0.001227573336463917, 0.2581586337739352, 0.25812645883868146, 0.25812645883868146, 0.2581456910293824, 0.2580726606836125, 0.25805233693614205, 0.25795154986109026, 0.25794996450482977, 0.2576672772909725, 0.2514554616206897, 0.20499464719866617, 0.5172553306440333, 0.11466403626263598, 0.5065674824825703, 0.0010680569288949889, 0.0010637128334553025, 0.0010605165375725473, 0.0010605065884874087, 0.0010603756260401734, 0.0010606025260941042, 0.0010605868918174574, 0.0010582062178735303, 0.0010580361697346782, 0.0010576643988185733, 0.0010576603379674962, 0.0010576556679887576, 0.0010576487645419265, 0.0010576477493291574, 0.001057645617382342, 0.001054803021628399, 0.001055137229672041, 0.0013509888090296439, 0.0013458246247149447, 0.0012900207137777975, 0.0011326572523927129, 0.001120638656023765, 0.0011191761405083614, 0.0011294024802544482, 0.001123793531225534, 0.0011191009132421588, 0.0011189411187522763, 0.0011218291960382824, 0.0011153375195064922, 0.0011087544738254678, 0.0011038910970543022, 0.0011038910970543022, 0.0011038910970543022, 0.000987407256010204, 0.000790179898725887, 0.0007858488234209124, 0.0007837818234605489, 0.0007817726857496302, 0.0007777029019887279, 0.0007777029019887279, 0.0007777029019887279, 0.0007777029019887279, 0.0007756657966558903, 0.0007695598971055702, 0.0007634469145076134, 0.0007598743502745683, 0.0007597333663778563, 0.0007573401295763388, 0.0007573350256155417, 0.0007553032325684317, 0.0007553023992687097, 0.0007532671688602466, 0.0007533440407595989, 0.0007512320426142486, 0.000751231573883155, 0.0007512289698215238, 0.0007512271990596146, 0.0007512237616982615, 0.0007491964997183898, 0.0007491964476371571, 0.0007491962393122267, 0.0007491960309872961, 0.0007491957184999003, 0.0007491957184999003, 0.0007494201886125079, 0.0008497116120824015, 0.0008519470948303023, 0.000823910673603159, 0.0007492147802310406, 0.0008175873349066357, 0.0008048597753593246, 0.0008189300932461361, 0.0008047171769444013, 0.0007890723392329146, 0.0007880545157037525, 0.0007880142569109344, 0.0007923825702972349, 0.0007781434571354905, 0.0007780617937627368, 0.0007771249044690717, 0.000776478211803585, 0.000775955264146812, 0.0007758494350821209, 0.0007752106066827604, 0.0007740794543914095], \"Total\": [2.0, 2.0, 3.0, 1.0, 1.0, 2.0, 1.0, 1.0, 0.0, 1.0, 1.0, 1.0, 0.0, 2.0, 0.0, 0.0, 0.0, 0.0, 0.0, 0.0, 1.0, 1.0, 1.0, 0.0, 1.0, 1.0, 1.0, 1.0, 1.0, 1.0, 2.6794980898292238, 1.0805886767283415, 1.0805947056659106, 1.080564921114105, 1.08056802243894, 1.080553037628413, 1.0805288148290515, 0.5476143973389341, 0.5476084214668656, 0.5476083533405329, 0.5476010834683871, 0.5476010849697454, 0.5476234722221908, 0.5476351316519694, 0.5476034194538897, 0.5475848303544418, 0.5475847821379874, 0.5475728272014376, 0.5475638292878445, 0.5475638292878445, 0.5475638292878445, 0.5475638292878445, 0.5475376860558396, 0.5475019959013269, 0.547446175758894, 0.547446175758894, 0.547446175758894, 0.5474461785258861, 0.5474898123950325, 0.5474898126649239, 3.2159397766631983, 2.6829529806311774, 1.3596846682707076, 1.6043574066132766, 2.153216890113455, 0.9883529611548044, 2.1600538979166006, 1.6232448340672883, 1.6232727463591028, 1.0873081869269654, 1.08726277814627, 1.0870690406710124, 0.5510253455846118, 0.5509616765828641, 0.5509651824514595, 0.5509651824514595, 0.5509651824514595, 0.5509651824514595, 0.5509651824514595, 0.5509651838189236, 0.5509651433674968, 0.5509651538221697, 0.5509651610563687, 0.5509693418377568, 0.5509693418377568, 0.5509693418377568, 0.5509693418377568, 0.5509693418377568, 0.5509693418377568, 0.5509693423396973, 0.5509693425450508, 0.5509693451885278, 0.5509693897894643, 0.5509192725341778, 0.5509431092229552, 0.5509587669062502, 2.153216890113455, 0.8831418754191455, 0.8931684400216364, 0.8931513328451881, 0.8930926557528911, 0.4539092399717751, 0.4539092399717751, 0.4539092399717751, 0.4539092399717751, 0.4539092399717751, 0.4539092399717751, 0.4539092399717751, 0.4539092425133513, 0.45390922278909307, 0.4539092256378526, 0.45390910538391005, 0.4539090294682305, 0.453916113971706, 0.45390574968509784, 0.4538776490653449, 0.45387757120903655, 0.4539398308777022, 0.4538831674509463, 0.4538831674509463, 0.4538831684833567, 0.4538831693147384, 0.4538752843742397, 0.4538896239577749, 0.4538894771243056, 0.4538813206755602, 0.45383920887829726, 0.4538019760551213, 1.316290707607873, 0.8824226756297475, 0.4485547014885434, 0.44855469406153226, 0.44855469406153226, 0.44855469406153226, 0.44855469406153226, 0.44855469406153226, 0.44855469406153226, 0.44855469406153226, 0.44855469406153226, 0.44855469406153226, 0.44855469406153226, 0.44855469406153226, 0.44855469406153226, 0.44855469406153226, 0.44855463614334323, 0.4485522803408349, 0.4485599507724073, 0.4485832504537735, 0.4486148270003215, 0.978741624353436, 0.9787568243570498, 0.014730451966317943, 0.014736532771627906, 0.014720808541808777, 0.014720722002690674, 0.014738541687842582, 0.014719021979970727, 0.01471599001224115, 0.014727629325653979, 0.014785164594579821, 0.3030988209940542, 0.2721785820909896, 0.3276463216601853, 0.8831418754191455, 0.2835309520095796, 1.6043574066132766, 0.9883529611548044, 0.35518954930221597, 0.35517771157320815, 0.35517771157320815, 0.35517771157320815, 0.35517771157320815, 0.35517771157320815, 0.35517771157320815, 0.35517771157320815, 0.35517772187408353, 0.35519585518109165, 0.35516963791280504, 0.35517256335854586, 0.3552451829362348, 0.6682169263012255, 0.7936861255049289, 0.8840097800429829, 0.014755253298783475, 0.014745220837937445, 0.014750534640978847, 0.014747574019457468, 0.01473386942746171, 0.014733869274643308, 0.014730085731636785, 0.014730085731636785, 0.014742320663770653, 0.014726301906078819, 0.014729185315826785, 0.014740582815747744, 0.014722519698951027, 0.014722519428467936, 0.01475295806602332, 0.8518085625517501, 0.953349209711701, 0.3030988209940542, 0.2721785820909896, 0.3276463216601853, 1.6043574066132766, 1.08726277814627, 0.3275929674849599, 0.3275929674849599, 0.3275929674849599, 0.3275929677083709, 0.8831418754191455, 0.6404548067931406, 0.32760359821896334, 0.953349209711701, 0.6404548067931406, 0.3276055677545832, 0.32760359821896334, 0.3275929674849599, 0.3275929674849599, 0.3275929674849599, 0.3275929677083709, 0.3276463216601853, 0.3030988209940542, 0.6682169263012255, 0.8518085625517501, 0.8632505607475554, 0.8831418754191455, 0.2835309520095796, 0.01475711184562511, 0.014738985401868607, 0.014732030399999424, 0.014769372334304955, 0.014728556150409737, 0.014725076505567723, 0.014721600654379776, 0.014721600654379776, 0.014721609985830856, 0.014721628569744386, 0.014727900115294203, 0.01471812240818231, 0.014718124753672061, 0.014718124245745583, 0.014718123240060626, 0.27347523132328805, 1.0870690406710124, 0.8332688208856737, 1.0634619757924382, 0.6071607804151726, 0.2721785820909896, 1.6043574066132766, 0.2720771626103106, 0.27208385867927376, 0.9883529611548044, 2.153216890113455, 0.8930926557528911, 0.45384011645537436, 0.45390802000802644, 0.45383920887829726, 0.6071481882400582, 0.6071607804151726, 0.3109367868611415, 0.31093832839376473, 0.31093946728488964, 0.3109709398779595, 0.31095387145869435, 0.31093468338546365, 0.3110790069150412, 0.8332688208856737, 0.014773783097024498, 0.014727641923514069, 0.014730369583010931, 0.014724340432302413, 0.014724331690331757, 0.01472104499943514, 0.014721048181068976, 0.014729480831624186, 0.014730936662683746, 0.014726018383341742, 0.014721474876094199, 0.01471775791690823, 0.014717756092011206, 0.014717757574181761, 0.01471775751047658, 0.014717757436451331, 0.014717757436451331, 0.014717762986254991, 0.014717762240122499, 0.014717759749226674, 0.014727429302050234, 0.27347523132328805, 0.014723607400783994, 0.8831418754191455, 0.3030988209940542, 0.2835309520095796, 0.3276463216601853, 0.2721785820909896, 1.6043574066132766, 0.2995545444331637, 0.27208385867927376, 0.5509431092229552, 0.2720771626103106, 0.9883529611548044, 1.0634619757924382, 0.8518085625517501, 0.35519585518109165, 2.153216890113455, 0.2995594610327002, 0.8930926557528911, 0.45384011645537436, 0.45390802000802644, 0.5843748442013379, 0.2995520292055753, 0.2995599929627436, 0.299550725011044, 0.2995594610327002, 0.2995835558714699, 0.2995545444331637, 1.0148571980397263, 1.3596846682707076, 0.014803021562211895, 0.0148315354996207, 0.014777659348383114, 0.01476182164157896, 0.014758661709151525, 0.014755520954850635, 0.014761535844408187, 0.01475355947704216, 0.014742823380037252, 0.014742837145732168, 0.01474283668507908, 0.014741155354903182, 0.014730162940153498, 0.014730342146637041, 0.01474219170239775, 0.014726996737729375, 0.014727012393646136, 0.014726998691367498, 0.014785164594579821, 0.014723832871677117, 0.01472383205456624, 1.6232727463591028, 0.45376859075228243, 1.6232448340672883, 0.4538019760551213, 0.8332688208856737, 0.6404548067931406, 0.3030988209940542, 0.27202841197778777, 0.8632505607475554, 3.2159397766631983, 0.8840097800429829, 0.3276463216601853, 0.2721785820909896, 0.8831418754191455, 0.5508981411696525, 1.6043574066132766, 0.8931513328451881, 0.2835309520095796, 0.27201526384035574, 0.2720291029219814, 0.2720291045604504, 0.27207827929737166, 0.27202841197778777, 0.27212265137151004, 0.2720771626103106, 0.27208385867927376, 0.2721785820909896, 0.27347523132328805, 0.2835309520095796, 1.0634619757924382, 0.3030988209940542, 1.6043574066132766, 0.01475295806602332, 0.01476907181012019, 0.014725464334651293, 0.014725470898522702, 0.014727563465097293, 0.014734522836303925, 0.014740582815747744, 0.014726223455940322, 0.014727211925784675, 0.014722608122244206, 0.014722603888874058, 0.014722607767033541, 0.014722610932054646, 0.014722611058605414, 0.014722611195507175, 0.014719745839871783, 0.01472926493521233, 0.5471984007230406, 0.5472037547688484, 1.6232448340672883, 0.4538752843742397, 0.3276463216601853, 0.35517256335854586, 0.8831418754191455, 0.5509192725341778, 0.45387757120903655, 0.4538776490653449, 0.8632505607475554, 0.7936861255049289, 0.5508981411696525, 0.547446175758894, 0.547446175758894, 0.547446175758894, 0.01495352271737605, 0.014773341424192819, 0.014751903733443384, 0.014749884276839716, 0.014747831910828266, 0.014743756829174655, 0.014743756829174655, 0.014743756829174655, 0.014743756829174655, 0.014741719899624334, 0.014735611402675205, 0.014729499420390457, 0.014742338664545912, 0.014742609721112895, 0.014723396741069563, 0.01472339544393839, 0.014721353541965805, 0.014721362801447148, 0.01471932443790377, 0.014722152995188665, 0.014717281165658035, 0.01471728112139081, 0.014717285598125213, 0.014723620462450786, 0.014726788277336323, 0.014715244605948734, 0.014715244678449374, 0.01471524499405288, 0.014715245043893559, 0.014715244885062697, 0.014715244885062697, 0.014785164594579821, 0.3030988209940542, 0.8831418754191455, 0.3276463216601853, 0.014725815119355291, 0.2721785820909896, 0.2835309520095796, 1.6043574066132766, 1.0634619757924382, 0.27347523132328805, 0.2720771626103106, 0.27208385867927376, 0.9883529611548044, 0.8332688208856737, 0.8518085625517501, 0.8930926557528911, 0.45384011645537436, 0.45390802000802644, 0.45383920887829726, 2.153216890113455, 1.3596846682707076], \"Category\": [\"Default\", \"Default\", \"Default\", \"Default\", \"Default\", \"Default\", \"Default\", \"Default\", \"Default\", \"Default\", \"Default\", \"Default\", \"Default\", \"Default\", \"Default\", \"Default\", \"Default\", \"Default\", \"Default\", \"Default\", \"Default\", \"Default\", \"Default\", \"Default\", \"Default\", \"Default\", \"Default\", \"Default\", \"Default\", \"Default\", \"Topic1\", \"Topic1\", \"Topic1\", \"Topic1\", \"Topic1\", \"Topic1\", \"Topic1\", \"Topic1\", \"Topic1\", \"Topic1\", \"Topic1\", \"Topic1\", \"Topic1\", \"Topic1\", \"Topic1\", \"Topic1\", \"Topic1\", \"Topic1\", \"Topic1\", \"Topic1\", \"Topic1\", \"Topic1\", \"Topic1\", \"Topic1\", \"Topic1\", \"Topic1\", \"Topic1\", \"Topic1\", \"Topic1\", \"Topic1\", \"Topic1\", \"Topic1\", \"Topic1\", \"Topic1\", \"Topic1\", \"Topic1\", \"Topic2\", \"Topic2\", \"Topic2\", \"Topic2\", \"Topic2\", \"Topic2\", \"Topic2\", \"Topic2\", \"Topic2\", \"Topic2\", \"Topic2\", \"Topic2\", \"Topic2\", \"Topic2\", \"Topic2\", \"Topic2\", \"Topic2\", \"Topic2\", \"Topic2\", \"Topic2\", \"Topic2\", \"Topic2\", \"Topic2\", \"Topic2\", \"Topic2\", \"Topic2\", \"Topic2\", \"Topic2\", \"Topic2\", \"Topic2\", \"Topic2\", \"Topic2\", \"Topic3\", \"Topic3\", \"Topic3\", \"Topic3\", \"Topic3\", \"Topic3\", \"Topic3\", \"Topic3\", \"Topic3\", \"Topic3\", \"Topic3\", \"Topic3\", \"Topic3\", \"Topic3\", \"Topic3\", \"Topic3\", \"Topic3\", \"Topic3\", \"Topic3\", \"Topic3\", \"Topic3\", \"Topic3\", \"Topic3\", \"Topic3\", \"Topic3\", \"Topic3\", \"Topic3\", \"Topic3\", \"Topic3\", \"Topic3\", \"Topic4\", \"Topic4\", \"Topic4\", \"Topic4\", \"Topic4\", \"Topic4\", \"Topic4\", \"Topic4\", \"Topic4\", \"Topic4\", \"Topic4\", \"Topic4\", \"Topic4\", \"Topic4\", \"Topic4\", \"Topic4\", \"Topic4\", \"Topic4\", \"Topic4\", \"Topic4\", \"Topic4\", \"Topic4\", \"Topic4\", \"Topic4\", \"Topic4\", \"Topic4\", \"Topic4\", \"Topic4\", \"Topic4\", \"Topic4\", \"Topic4\", \"Topic4\", \"Topic4\", \"Topic4\", \"Topic4\", \"Topic4\", \"Topic4\", \"Topic4\", \"Topic4\", \"Topic5\", \"Topic5\", \"Topic5\", \"Topic5\", \"Topic5\", \"Topic5\", \"Topic5\", \"Topic5\", \"Topic5\", \"Topic5\", \"Topic5\", \"Topic5\", \"Topic5\", \"Topic5\", \"Topic5\", \"Topic5\", \"Topic5\", \"Topic5\", \"Topic5\", \"Topic5\", \"Topic5\", \"Topic5\", \"Topic5\", \"Topic5\", \"Topic5\", \"Topic5\", \"Topic5\", \"Topic5\", \"Topic5\", \"Topic5\", \"Topic5\", \"Topic5\", \"Topic5\", \"Topic5\", \"Topic5\", \"Topic5\", \"Topic5\", \"Topic5\", \"Topic5\", \"Topic5\", \"Topic5\", \"Topic5\", \"Topic5\", \"Topic5\", \"Topic5\", \"Topic6\", \"Topic6\", \"Topic6\", \"Topic6\", \"Topic6\", \"Topic6\", \"Topic6\", \"Topic6\", \"Topic6\", \"Topic6\", \"Topic6\", \"Topic6\", \"Topic6\", \"Topic6\", \"Topic6\", \"Topic6\", \"Topic6\", \"Topic6\", \"Topic6\", \"Topic6\", \"Topic6\", \"Topic6\", \"Topic6\", \"Topic6\", \"Topic6\", \"Topic6\", \"Topic6\", \"Topic6\", \"Topic6\", \"Topic6\", \"Topic6\", \"Topic6\", \"Topic6\", \"Topic6\", \"Topic6\", \"Topic6\", \"Topic6\", \"Topic6\", \"Topic6\", \"Topic6\", \"Topic6\", \"Topic6\", \"Topic6\", \"Topic6\", \"Topic6\", \"Topic7\", \"Topic7\", \"Topic7\", \"Topic7\", \"Topic7\", \"Topic7\", \"Topic7\", \"Topic7\", \"Topic7\", \"Topic7\", \"Topic7\", \"Topic7\", \"Topic7\", \"Topic7\", \"Topic7\", \"Topic7\", \"Topic7\", \"Topic7\", \"Topic7\", \"Topic7\", \"Topic7\", \"Topic7\", \"Topic7\", \"Topic7\", \"Topic7\", \"Topic7\", \"Topic7\", \"Topic7\", \"Topic7\", \"Topic7\", \"Topic7\", \"Topic7\", \"Topic7\", \"Topic7\", \"Topic7\", \"Topic7\", \"Topic7\", \"Topic7\", \"Topic7\", \"Topic7\", \"Topic7\", \"Topic7\", \"Topic7\", \"Topic7\", \"Topic7\", \"Topic7\", \"Topic7\", \"Topic7\", \"Topic7\", \"Topic7\", \"Topic7\", \"Topic7\", \"Topic8\", \"Topic8\", \"Topic8\", \"Topic8\", \"Topic8\", \"Topic8\", \"Topic8\", \"Topic8\", \"Topic8\", \"Topic8\", \"Topic8\", \"Topic8\", \"Topic8\", \"Topic8\", \"Topic8\", \"Topic8\", \"Topic8\", \"Topic8\", \"Topic8\", \"Topic8\", \"Topic8\", \"Topic8\", \"Topic8\", \"Topic8\", \"Topic8\", \"Topic8\", \"Topic8\", \"Topic8\", \"Topic8\", \"Topic8\", \"Topic8\", \"Topic8\", \"Topic8\", \"Topic8\", \"Topic8\", \"Topic8\", \"Topic8\", \"Topic8\", \"Topic8\", \"Topic8\", \"Topic8\", \"Topic8\", \"Topic8\", \"Topic8\", \"Topic8\", \"Topic8\", \"Topic8\", \"Topic8\", \"Topic9\", \"Topic9\", \"Topic9\", \"Topic9\", \"Topic9\", \"Topic9\", \"Topic9\", \"Topic9\", \"Topic9\", \"Topic9\", \"Topic9\", \"Topic9\", \"Topic9\", \"Topic9\", \"Topic9\", \"Topic9\", \"Topic9\", \"Topic9\", \"Topic9\", \"Topic9\", \"Topic9\", \"Topic9\", \"Topic9\", \"Topic9\", \"Topic9\", \"Topic9\", \"Topic9\", \"Topic9\", \"Topic9\", \"Topic9\", \"Topic9\", \"Topic9\", \"Topic9\", \"Topic9\", \"Topic9\", \"Topic9\", \"Topic9\", \"Topic9\", \"Topic9\", \"Topic9\", \"Topic9\", \"Topic9\", \"Topic9\", \"Topic9\", \"Topic9\", \"Topic9\", \"Topic9\", \"Topic10\", \"Topic10\", \"Topic10\", \"Topic10\", \"Topic10\", \"Topic10\", \"Topic10\", \"Topic10\", \"Topic10\", \"Topic10\", \"Topic10\", \"Topic10\", \"Topic10\", \"Topic10\", \"Topic10\", \"Topic10\", \"Topic10\", \"Topic10\", \"Topic10\", \"Topic10\", \"Topic10\", \"Topic10\", \"Topic10\", \"Topic10\", \"Topic10\", \"Topic10\", \"Topic10\", \"Topic10\", \"Topic10\", \"Topic10\", \"Topic10\", \"Topic10\", \"Topic10\", \"Topic10\", \"Topic10\", \"Topic10\", \"Topic10\", \"Topic10\", \"Topic10\", \"Topic10\", \"Topic10\", \"Topic10\", \"Topic10\", \"Topic10\", \"Topic10\", \"Topic10\", \"Topic10\", \"Topic10\", \"Topic10\", \"Topic10\", \"Topic10\", \"Topic10\"], \"logprob\": [30.0, 29.0, 28.0, 27.0, 26.0, 25.0, 24.0, 23.0, 22.0, 21.0, 20.0, 19.0, 18.0, 17.0, 16.0, 15.0, 14.0, 13.0, 12.0, 11.0, 10.0, 9.0, 8.0, 7.0, 6.0, 5.0, 4.0, 3.0, 2.0, 1.0, -3.0524001121520996, -3.967600107192993, -3.967600107192993, -3.967600107192993, -3.967600107192993, -3.9677000045776367, -3.9677000045776367, -4.658899784088135, -4.658899784088135, -4.658899784088135, -4.658899784088135, -4.658899784088135, -4.658899784088135, -4.658899784088135, -4.658899784088135, -4.658999919891357, -4.658999919891357, -4.658999919891357, -4.65910005569458, -4.65910005569458, -4.65910005569458, -4.65910005569458, -4.659200191497803, -4.65939998626709, -4.659599781036377, -4.659599781036377, -4.659599781036377, -4.659599781036377, -4.6596999168396, -4.6596999168396, -3.046999931335449, -3.2667999267578125, -3.980799913406372, -3.951200008392334, -3.9897000789642334, -4.641900062561035, -3.1135001182556152, -3.401599884033203, -3.401599884033203, -3.8059000968933105, -3.805999994277954, -3.8064000606536865, -4.497000217437744, -4.497200012207031, -4.497099876403809, -4.497099876403809, -4.497099876403809, -4.497099876403809, -4.497099876403809, -4.497099876403809, -4.497099876403809, -4.497099876403809, -4.497099876403809, -4.497200012207031, -4.497200012207031, -4.497200012207031, -4.497200012207031, -4.497200012207031, -4.497200012207031, -4.497200012207031, -4.497200012207031, -4.497200012207031, -4.497200012207031, -4.497300148010254, -4.497300148010254, -4.497200012207031, -3.7843000888824463, -4.41540002822876, -3.6612000465393066, -3.661400079727173, -3.6617000102996826, -4.352499961853027, -4.352499961853027, -4.352499961853027, -4.352499961853027, -4.352499961853027, -4.352499961853027, -4.352499961853027, -4.352499961853027, -4.352499961853027, -4.352499961853027, -4.352499961853027, -4.35260009765625, -4.35260009765625, -4.35260009765625, -4.352700233459473, -4.352700233459473, -4.35260009765625, -4.352700233459473, -4.352700233459473, -4.352700233459473, -4.352700233459473, -4.352799892425537, -4.352700233459473, -4.352700233459473, -4.352799892425537, -4.3531999588012695, -4.353300094604492, -3.0761001110076904, -3.4809999465942383, -4.1722002029418945, -4.1722002029418945, -4.1722002029418945, -4.1722002029418945, -4.1722002029418945, -4.1722002029418945, -4.1722002029418945, -4.1722002029418945, -4.1722002029418945, -4.1722002029418945, -4.1722002029418945, -4.1722002029418945, -4.1722002029418945, -4.1722002029418945, -4.1722002029418945, -4.1722002029418945, -4.1722002029418945, -4.172299861907959, -4.172299861907959, -4.145199775695801, -4.145299911499023, -9.670000076293945, -9.670499801635742, -9.675399780273438, -9.675600051879883, -9.675399780273438, -9.677900314331055, -9.678199768066406, -9.67770004272461, -9.677200317382812, -9.606399536132812, -9.616299629211426, -9.617400169372559, -9.619400024414062, -9.63479995727539, -9.622900009155273, -9.645099639892578, -4.005199909210205, -4.005300045013428, -4.005300045013428, -4.005300045013428, -4.005300045013428, -4.005300045013428, -4.005300045013428, -4.005300045013428, -4.005300045013428, -4.005300045013428, -4.00540018081665, -4.005499839782715, -4.00540018081665, -3.999500036239624, -3.9983999729156494, -3.9846999645233154, -9.486200332641602, -9.489700317382812, -9.493300437927246, -9.49530029296875, -9.497699737548828, -9.497699737548828, -9.500399589538574, -9.500399589538574, -9.500900268554688, -9.503100395202637, -9.503000259399414, -9.503199577331543, -9.505800247192383, -9.505800247192383, -9.50529956817627, -8.87660026550293, -9.347700119018555, -9.41189956665039, -9.445799827575684, -9.445500373840332, -9.43220043182373, -9.436800003051758, -9.449799537658691, -9.449799537658691, -9.449799537658691, -9.449799537658691, -9.440899848937988, -9.447799682617188, -9.45479965209961, -2.921799898147583, -3.3268001079559326, -4.0177998542785645, -4.017899990081787, -4.01800012588501, -4.01800012588501, -4.01800012588501, -4.01800012588501, -4.019999980926514, -4.602099895477295, -4.023499965667725, -3.9825000762939453, -4.015200138092041, -4.110000133514404, -5.584700107574463, -9.502799987792969, -9.50469970703125, -9.510000228881836, -9.509699821472168, -9.512700080871582, -9.515399932861328, -9.518099784851074, -9.518099784851074, -9.518199920654297, -9.51830005645752, -9.519700050354004, -9.520899772644043, -9.520899772644043, -9.520899772644043, -9.520899772644043, -7.576300144195557, -9.219099998474121, -9.36870002746582, -9.385100364685059, -9.421799659729004, -9.457300186157227, -9.462800025939941, -9.488100051879883, -9.488200187683105, -9.484600067138672, -9.487199783325195, -9.495599746704102, -9.497099876403809, -9.498499870300293, -9.498600006103516, -3.2388999462127686, -3.239000082015991, -3.9300999641418457, -3.9300999641418457, -3.9300999641418457, -3.930000066757202, -3.9300999641418457, -3.9300999641418457, -3.930000066757202, -3.8877999782562256, -9.418100357055664, -9.425200462341309, -9.42609977722168, -9.427800178527832, -9.428000450134277, -9.4306001663208, -9.4306001663208, -9.4306001663208, -9.430899620056152, -9.43239974975586, -9.43280029296875, -9.433300018310547, -9.433300018310547, -9.433300018310547, -9.433300018310547, -9.433300018310547, -9.433300018310547, -9.433300018310547, -9.433300018310547, -9.433300018310547, -9.432900428771973, -9.201399803161621, -9.433300018310547, -9.286199569702148, -9.339200019836426, -9.34179973602295, -9.342499732971191, -9.362299919128418, -9.357799530029297, -9.380000114440918, -9.389300346374512, -9.384400367736816, -9.396400451660156, -9.392499923706055, -9.399100303649902, -9.401200294494629, -9.401300430297852, -9.404199600219727, -9.404600143432617, -9.405500411987305, -9.406800270080566, -9.407999992370605, -3.2200000286102295, -3.9112000465393066, -3.91129994392395, -3.91129994392395, -3.91129994392395, -3.91129994392395, -3.911400079727173, -3.191999912261963, -3.8905999660491943, -9.343700408935547, -9.348099708557129, -9.36400032043457, -9.377099990844727, -9.37969970703125, -9.38230037689209, -9.389900207519531, -9.391300201416016, -9.392900466918945, -9.392900466918945, -9.392900466918945, -9.397899627685547, -9.403599739074707, -9.403800010681152, -9.403800010681152, -9.406299591064453, -9.406299591064453, -9.406399726867676, -9.404399871826172, -9.409000396728516, -9.409000396728516, -8.980799674987793, -9.177900314331055, -9.177000045776367, -9.251700401306152, -9.238800048828125, -9.301799774169922, -9.321000099182129, -9.32859992980957, -9.32040023803711, -9.298199653625488, -9.326600074768066, -9.346199989318848, -9.350199699401855, -9.33899974822998, -9.353400230407715, -9.34529972076416, -9.35830020904541, -9.361800193786621, -3.9899001121520996, -3.990000009536743, -3.990000009536743, -3.9899001121520996, -3.9902000427246094, -3.990299940109253, -3.9907000064849854, -3.9907000064849854, -3.99180006980896, -4.016200065612793, -4.2204999923706055, -3.2948999404907227, -4.801400184631348, -3.3157999515533447, -9.47760009765625, -9.48169994354248, -9.484700202941895, -9.484700202941895, -9.484800338745117, -9.484600067138672, -9.484600067138672, -9.486900329589844, -9.487000465393066, -9.48740005493164, -9.48740005493164, -9.48740005493164, -9.48740005493164, -9.48740005493164, -9.48740005493164, -9.490099906921387, -9.489800453186035, -9.242600440979004, -9.246399879455566, -9.288800239562988, -9.418899536132812, -9.429499626159668, -9.430899620056152, -9.421799659729004, -9.4266996383667, -9.430899620056152, -9.431099891662598, -9.428500175476074, -9.434300422668457, -9.440199851989746, -9.444600105285645, -9.444600105285645, -9.444600105285645, -8.888699531555176, -9.111499786376953, -9.116999626159668, -9.119600296020508, -9.122200012207031, -9.127400398254395, -9.127400398254395, -9.127400398254395, -9.127400398254395, -9.130000114440918, -9.137900352478027, -9.145899772644043, -9.15060043334961, -9.150799751281738, -9.153900146484375, -9.153900146484375, -9.156599998474121, -9.156599998474121, -9.159299850463867, -9.159199714660645, -9.161999702453613, -9.161999702453613, -9.161999702453613, -9.161999702453613, -9.161999702453613, -9.16469955444336, -9.16469955444336, -9.16469955444336, -9.16469955444336, -9.16469955444336, -9.16469955444336, -9.164400100708008, -9.038800239562988, -9.036199569702148, -9.069700241088867, -9.16469955444336, -9.077400207519531, -9.093099594116211, -9.075699806213379, -9.093199729919434, -9.112899780273438, -9.1141996383667, -9.1141996383667, -9.108699798583984, -9.126799583435059, -9.126899719238281, -9.128100395202637, -9.128999710083008, -9.129599571228027, -9.129799842834473, -9.130599975585938, -9.132100105285645], \"loglift\": [30.0, 29.0, 28.0, 27.0, 26.0, 25.0, 24.0, 23.0, 22.0, 21.0, 20.0, 19.0, 18.0, 17.0, 16.0, 15.0, 14.0, 13.0, 12.0, 11.0, 10.0, 9.0, 8.0, 7.0, 6.0, 5.0, 4.0, 3.0, 2.0, 1.0, 1.4993, 1.4923, 1.4922, 1.4922, 1.4922, 1.4922, 1.4922, 1.4807, 1.4807, 1.4807, 1.4807, 1.4807, 1.4806, 1.4806, 1.4806, 1.4806, 1.4806, 1.4806, 1.4806, 1.4806, 1.4806, 1.4806, 1.4805, 1.4804, 1.4802, 1.4802, 1.4802, 1.4802, 1.4801, 1.4801, 1.3222, 1.2836, 1.2492, 1.1134, 0.7806, 0.9071, 1.6537, 1.6513, 1.6513, 1.6478, 1.6477, 1.6474, 1.6363, 1.6363, 1.6363, 1.6363, 1.6363, 1.6363, 1.6363, 1.6363, 1.6363, 1.6363, 1.6363, 1.6362, 1.6362, 1.6362, 1.6362, 1.6362, 1.6362, 1.6362, 1.6362, 1.6362, 1.6362, 1.6362, 1.6362, 1.6362, 0.986, 1.2462, 1.9891, 1.9889, 1.9887, 1.9746, 1.9746, 1.9746, 1.9746, 1.9746, 1.9746, 1.9746, 1.9746, 1.9746, 1.9746, 1.9746, 1.9746, 1.9746, 1.9746, 1.9745, 1.9745, 1.9745, 1.9745, 1.9745, 1.9745, 1.9745, 1.9745, 1.9745, 1.9745, 1.9745, 1.9742, 1.9741, 2.1864, 2.1815, 2.1669, 2.1669, 2.1669, 2.1669, 2.1669, 2.1669, 2.1669, 2.1669, 2.1669, 2.1669, 2.1669, 2.1669, 2.1669, 2.1669, 2.1669, 2.1669, 2.1668, 2.1667, 2.1666, 1.4136, 1.4135, 0.0852, 0.0843, 0.0804, 0.0802, 0.0793, 0.078, 0.078, 0.0777, 0.0742, -2.8754, -2.7777, -2.9642, -3.9578, -2.8371, -4.5583, -4.096, 2.5672, 2.5671, 2.5671, 2.5671, 2.5671, 2.5671, 2.5671, 2.5671, 2.5671, 2.5671, 2.5671, 2.567, 2.5669, 1.9409, 1.77, 1.6759, 0.2673, 0.2645, 0.2605, 0.2587, 0.2573, 0.2573, 0.2548, 0.2548, 0.2535, 0.2524, 0.2522, 0.2513, 0.2499, 0.2499, 0.2484, -3.1789, -3.7626, -2.6808, -2.6071, -2.7923, -4.3676, -3.9831, -2.7964, -2.7964, -2.7964, -2.7964, -3.7793, -3.4649, -2.8016, 2.6633, 2.6562, 2.6354, 2.6354, 2.6354, 2.6354, 2.6354, 2.6354, 2.6331, 2.129, 1.917, 1.7152, 1.6692, 1.5516, 1.213, 0.2505, 0.2499, 0.245, 0.2429, 0.2426, 0.2401, 0.2376, 0.2376, 0.2376, 0.2375, 0.2356, 0.2352, 0.2352, 0.2351, 0.2351, -0.7425, -3.7653, -3.649, -3.9093, -3.3855, -2.6186, -4.3982, -2.6491, -2.6492, -3.9355, -4.7168, -3.8452, -3.1698, -3.1713, -3.1712, 2.7975, 2.7973, 2.7754, 2.7754, 2.7754, 2.7754, 2.7754, 2.7754, 2.775, 1.8319, 0.3342, 0.3302, 0.3291, 0.3277, 0.3276, 0.3253, 0.3253, 0.3246, 0.3242, 0.323, 0.3229, 0.3228, 0.3228, 0.3228, 0.3228, 0.3228, 0.3228, 0.3228, 0.3228, 0.3228, 0.3225, -2.3675, 0.3224, -3.6246, -2.6082, -2.544, -2.6893, -2.5237, -4.2932, -2.6372, -2.5504, -3.251, -2.5574, -3.8435, -3.9233, -3.7035, -2.8289, -4.6339, -2.6618, -3.7551, -3.0795, -3.0808, 2.8545, 2.8316, 2.8315, 2.8315, 2.8315, 2.8314, 2.8313, 2.3306, 1.3395, 0.4066, 0.4003, 0.3879, 0.376, 0.3736, 0.3711, 0.3632, 0.3623, 0.3614, 0.3614, 0.3614, 0.3566, 0.3516, 0.3514, 0.3506, 0.3491, 0.3491, 0.3491, 0.347, 0.3466, 0.3466, -3.9279, -2.8504, -4.1241, -2.9243, -3.5191, -3.3189, -2.59, -2.4894, -3.636, -4.929, -3.666, -2.693, -2.5116, -3.6774, -3.2199, -4.2807, -3.708, -2.564, 2.8494, 2.8492, 2.8492, 2.8491, 2.849, 2.8486, 2.8483, 2.8483, 2.8469, 2.8177, 2.5773, 2.1809, 1.9296, 1.7488, 0.276, 0.2709, 0.2708, 0.2708, 0.2705, 0.2703, 0.2699, 0.2686, 0.2684, 0.2683, 0.2683, 0.2683, 0.2683, 0.2683, 0.2683, 0.2658, 0.2655, -3.1023, -3.1062, -4.2359, -3.0916, -2.7764, -2.8584, -3.7602, -3.2932, -3.1037, -3.1038, -3.7441, -3.6659, -3.3067, -3.3048, -3.3048, -3.3048, 0.8515, 0.6408, 0.6367, 0.6342, 0.6318, 0.6269, 0.6269, 0.6269, 0.6269, 0.6244, 0.6169, 0.6093, 0.6038, 0.6036, 0.6017, 0.6017, 0.5992, 0.5992, 0.5966, 0.5965, 0.594, 0.594, 0.594, 0.5936, 0.5934, 0.5915, 0.5915, 0.5915, 0.5915, 0.5915, 0.5915, 0.587, -2.3078, -3.3746, -2.4165, 0.5908, -2.2388, -2.2953, -4.0111, -3.6174, -2.279, -2.2752, -2.2752, -3.5596, -3.4071, -3.4292, -3.4777, -2.8016, -2.8024, -2.8024, -4.3602, -3.902]}, \"token.table\": {\"Topic\": [2, 8, 1, 1, 3, 2, 2, 2, 2, 1, 2, 1, 9, 2, 1, 2, 1, 1, 1, 1, 1, 1, 1, 1, 2, 8, 2, 1, 1, 2, 1, 1, 1, 2, 1, 1, 2, 1, 2, 2, 1, 1, 2, 1, 2, 2, 1, 4, 1, 2, 1, 2, 9, 7, 2, 1, 7, 3, 1, 1, 1, 2, 1, 1, 2, 2, 6, 2, 2, 1, 1, 1, 2, 1, 6, 1, 1, 1, 2, 4, 2, 2, 2, 1, 2, 1, 2, 2, 2, 2, 1, 2, 3], \"Freq\": [1.8149830200433705, 1.7112304027506435, 0.9254391942331491, 1.8261223911080913, 1.1197046505292156, 1.8149968161557481, 1.8149830183898965, 1.8149830090053836, 1.8149830200433705, 1.8262012251246367, 1.1323208963739748, 0.6233025109479522, 0.6233025109479522, 1.8149830200433705, 1.1196126660389607, 1.8150082709965054, 1.8266635959485076, 1.827472840390913, 1.8263583045825578, 0.9254215054591014, 0.9254163422758539, 1.8262711057824783, 1.8261390715881092, 1.2000929051168736, 1.8149967218447616, 0.9853603067816594, 1.815017856263929, 1.8262711057824783, 1.8265180042939402, 1.8147985533025661, 1.8266635959485076, 1.8261468616282053, 0.4644213987877966, 0.4644213987877966, 1.8265180051943435, 0.9254727743269004, 1.8152175969895745, 0.9328532896572915, 0.31095109655243053, 0.9197024468529732, 1.0217042426824507, 1.8264773598747286, 1.8149830200433705, 1.8266635867158856, 1.8149967218447616, 1.8149967218447616, 1.826102463447599, 1.1332437703806089, 0.9254520279678173, 1.8149828620826263, 1.8261468566214571, 0.9403251105944342, 0.9403251105944342, 1.6470443614411536, 1.2320788385598616, 1.8262010643222493, 1.647010202661981, 1.119609644935255, 1.0217201099019442, 1.8262410958389765, 0.9254418503322878, 1.8149830177134285, 1.8262711057824783, 1.0117842909395314, 1.8150694386765092, 1.8149967923247528, 1.5613904203594935, 1.8149967218447616, 1.8151479714987864, 1.827490721242332, 0.7354646436308159, 1.8262711057824783, 1.8149830200433705, 1.1739727022751627, 1.0489335804897835, 1.826072202387745, 1.8266635959485076, 0.7454472793367741, 0.37272363966838706, 0.7597105975300276, 1.2321000246085454, 1.1584122217470936, 0.9259028221143117, 1.8260333243841549, 1.8149968505956728, 1.826122618290567, 0.9199047738336219, 1.8149967173400436, 1.8149967218447616, 1.8149830200433705, 1.13120920444045, 0.919740857591898, 1.1196310896323012], \"Term\": [\"abstract\", \"acropora\", \"actor\", \"actress\", \"afzal\", \"agent\", \"architecture\", \"art\", \"artsy\", \"aziz\", \"beauty\", \"birthday\", \"birthday\", \"blackandwhite\", \"bollywood\", \"breakfast\", \"breast\", \"butt\", \"cake\", \"celeb\", \"celebrity\", \"celebs\", \"choice\", \"christmas\", \"client\", \"collection\", \"color\", \"courtesy\", \"customise\", \"design\", \"desire\", \"dhawan\", \"dream\", \"dream\", \"estate\", \"faiza\", \"family\", \"fashion\", \"fashion\", \"gallery\", \"glan\", \"glow\", \"graffiti\", \"guy\", \"holic\", \"honeymoon\", \"hungama\", \"india\", \"iqra\", \"isabel\", \"kid\", \"life\", \"life\", \"lizzie\", \"luxury\", \"mehndi\", \"merry\", \"movie\", \"navman\", \"night\", \"outfit\", \"paint\", \"paki\", \"pakistani\", \"photographer\", \"place\", \"product\", \"ravel\", \"resort\", \"sale\", \"salman\", \"saqlain\", \"sketchbook\", \"skin\", \"skincare\", \"spot\", \"stretchmark\", \"style\", \"style\", \"sweden\", \"time\", \"today\", \"travel\", \"trend\", \"trip\", \"varun\", \"vibe\", \"view\", \"viewpoint\", \"watercolor\", \"wedding\", \"weekend\", \"winter\"]}, \"R\": 30, \"lambda.step\": 0.01, \"plot.opts\": {\"xlab\": \"PC1\", \"ylab\": \"PC2\"}, \"topic.order\": [9, 7, 5, 4, 10, 6, 2, 8, 1, 3]};\n",
       "\n",
       "function LDAvis_load_lib(url, callback){\n",
       "  var s = document.createElement('script');\n",
       "  s.src = url;\n",
       "  s.async = true;\n",
       "  s.onreadystatechange = s.onload = callback;\n",
       "  s.onerror = function(){console.warn(\"failed to load library \" + url);};\n",
       "  document.getElementsByTagName(\"head\")[0].appendChild(s);\n",
       "}\n",
       "\n",
       "if(typeof(LDAvis) !== \"undefined\"){\n",
       "   // already loaded: just create the visualization\n",
       "   !function(LDAvis){\n",
       "       new LDAvis(\"#\" + \"ldavis_el1260826587296305369647471714\", ldavis_el1260826587296305369647471714_data);\n",
       "   }(LDAvis);\n",
       "}else if(typeof define === \"function\" && define.amd){\n",
       "   // require.js is available: use it to load d3/LDAvis\n",
       "   require.config({paths: {d3: \"https://cdnjs.cloudflare.com/ajax/libs/d3/3.5.5/d3.min\"}});\n",
       "   require([\"d3\"], function(d3){\n",
       "      window.d3 = d3;\n",
       "      LDAvis_load_lib(\"https://cdn.rawgit.com/bmabey/pyLDAvis/files/ldavis.v1.0.0.js\", function(){\n",
       "        new LDAvis(\"#\" + \"ldavis_el1260826587296305369647471714\", ldavis_el1260826587296305369647471714_data);\n",
       "      });\n",
       "    });\n",
       "}else{\n",
       "    // require.js not available: dynamically load d3 & LDAvis\n",
       "    LDAvis_load_lib(\"https://cdnjs.cloudflare.com/ajax/libs/d3/3.5.5/d3.min.js\", function(){\n",
       "         LDAvis_load_lib(\"https://cdn.rawgit.com/bmabey/pyLDAvis/files/ldavis.v1.0.0.js\", function(){\n",
       "                 new LDAvis(\"#\" + \"ldavis_el1260826587296305369647471714\", ldavis_el1260826587296305369647471714_data);\n",
       "            })\n",
       "         });\n",
       "}\n",
       "</script>"
      ],
      "text/plain": [
       "PreparedData(topic_coordinates=              x         y  topics  cluster       Freq\n",
       "topic                                                \n",
       "8     -0.241684  0.107211       1        1  22.223279\n",
       "6     -0.080084 -0.218502       2        1  19.023122\n",
       "4      0.099223  0.067713       3        1  13.482206\n",
       "3      0.038557  0.027084       4        1  11.120912\n",
       "9      0.042410  0.012927       5        1   7.385294\n",
       "5      0.033145 -0.016566       6        1   6.870953\n",
       "1      0.031895  0.007966       7        1   5.959522\n",
       "7      0.030869  0.014452       8        1   5.623307\n",
       "0      0.021437 -0.002079       9        1   5.493298\n",
       "2      0.024232 -0.000206      10        1   2.818106, topic_info=           Term      Freq     Total Category  logprob  loglift\n",
       "448   bollywood  2.000000  2.000000  Default  30.0000  30.0000\n",
       "741      travel  2.000000  2.000000  Default  29.0000  29.0000\n",
       "111     fashion  3.000000  3.000000  Default  28.0000  28.0000\n",
       "767      sweden  1.000000  1.000000  Default  27.0000  27.0000\n",
       "169    birthday  1.000000  1.000000  Default  26.0000  26.0000\n",
       "...         ...       ...       ...      ...      ...      ...\n",
       "351     twitter  0.000776  0.453840  Topic10  -9.1290  -2.8016\n",
       "285        khan  0.000776  0.453908  Topic10  -9.1296  -2.8024\n",
       "3344       root  0.000776  0.453839  Topic10  -9.1298  -2.8024\n",
       "243       dream  0.000775  2.153217  Topic10  -9.1306  -4.3602\n",
       "691      salman  0.000774  1.359685  Topic10  -9.1321  -3.9020\n",
       "\n",
       "[456 rows x 6 columns], token_table=      Topic      Freq        Term\n",
       "term                             \n",
       "6130      2  1.814983    abstract\n",
       "8312      8  1.711230    acropora\n",
       "790       1  0.925439       actor\n",
       "476       1  1.826122     actress\n",
       "9590      3  1.119705       afzal\n",
       "...     ...       ...         ...\n",
       "5225      2  1.814997   viewpoint\n",
       "6133      2  1.814983  watercolor\n",
       "131       1  1.131209     wedding\n",
       "279       2  0.919741     weekend\n",
       "605       3  1.119631      winter\n",
       "\n",
       "[93 rows x 3 columns], R=30, lambda_step=0.01, plot_opts={'xlab': 'PC1', 'ylab': 'PC2'}, topic_order=[9, 7, 5, 4, 10, 6, 2, 8, 1, 3])"
      ]
     },
     "execution_count": 18,
     "metadata": {},
     "output_type": "execute_result"
    }
   ],
   "source": [
    "# Visualize the topics\n",
    "pyLDAvis.enable_notebook()\n",
    "vis = pyLDAvis.gensim.prepare(lda_model, corpus, id2word)\n",
    "vis"
   ]
  },
  {
   "cell_type": "markdown",
   "metadata": {},
   "source": [
    "### Save document-topic matrix (most significant topic per document)  \n",
    "https://github.com/Sim-Xuesi/content-based_movie_recommender/blob/master/Content%20Based%20Recommender%20System%20with%20LDA%20%26%20Cosine.ipynb  \n",
    "https://medium.com/@nicoleeesim97/building-a-simple-content-based-recommender-system-for-movies-and-tv-shows-73fec4f325ae  "
   ]
  },
  {
   "cell_type": "code",
   "execution_count": 19,
   "metadata": {},
   "outputs": [
    {
     "name": "stderr",
     "output_type": "stream",
     "text": [
      "C:\\Users\\minio\\anaconda3\\envs\\tfm-py-37\\lib\\site-packages\\ipykernel\\ipkernel.py:287: DeprecationWarning: `should_run_async` will not call `transform_cell` automatically in the future. Please pass the result to `transformed_cell` argument and any exception that happen during thetransform in `preprocessing_exc_tuple` in IPython 7.17 and above.\n",
      "  and should_run_async(code)\n"
     ]
    },
    {
     "name": "stdout",
     "output_type": "stream",
     "text": [
      "      Document  Topic  Probability\n",
      "0        30878      2     0.290700\n",
      "1        30727      2     0.356081\n",
      "2         9691      2     0.430620\n",
      "3        40158      2     0.660704\n",
      "4         9742      8     0.194125\n",
      "...        ...    ...          ...\n",
      "4264     49656      8     0.759921\n",
      "4265     26403      0     0.313601\n",
      "4266     19337      3     0.828520\n",
      "4267     37525      0     0.443363\n",
      "4268     47824      8     0.822733\n",
      "\n",
      "[4269 rows x 3 columns]\n"
     ]
    }
   ],
   "source": [
    "def Sort_Tuple(tup):  \n",
    "    return(sorted(tup, key = lambda x: x[1], reverse = True))\n",
    "\n",
    "doc_num, topic_num, prob = [], [], []\n",
    "\n",
    "document_topic_matrix = documents\n",
    "\n",
    "for n in range(len(documents)):\n",
    "    get_document_topics = lda_model.get_document_topics(corpus_total[n], minimum_probability=0)\n",
    "    doc_num.append(documents.index[n])\n",
    "    sorted_doc_topics = Sort_Tuple(get_document_topics)\n",
    "    topic_num.append(sorted_doc_topics[0][0])\n",
    "    prob.append(sorted_doc_topics[0][1])\n",
    "    \n",
    "data = {'Document': doc_num\n",
    "        ,'Topic': topic_num\n",
    "        ,'Probability': prob}\n",
    "df = pd.DataFrame(data) \n",
    "df.to_csv(file_model + '_document_topic_matrix.csv', index=False)\n",
    "print(df)"
   ]
  },
  {
   "cell_type": "markdown",
   "metadata": {},
   "source": [
    "### Save document-topic matrix (all topic's probability per document)  \n",
    "https://github.com/Sim-Xuesi/content-based_movie_recommender/blob/master/Content%20Based%20Recommender%20System%20with%20LDA%20%26%20Cosine.ipynb  \n",
    "https://medium.com/@nicoleeesim97/building-a-simple-content-based-recommender-system-for-movies-and-tv-shows-73fec4f325ae  "
   ]
  },
  {
   "cell_type": "code",
   "execution_count": 20,
   "metadata": {},
   "outputs": [
    {
     "name": "stderr",
     "output_type": "stream",
     "text": [
      "C:\\Users\\minio\\anaconda3\\envs\\tfm-py-37\\lib\\site-packages\\ipykernel\\ipkernel.py:287: DeprecationWarning: `should_run_async` will not call `transform_cell` automatically in the future. Please pass the result to `transformed_cell` argument and any exception that happen during thetransform in `preprocessing_exc_tuple` in IPython 7.17 and above.\n",
      "  and should_run_async(code)\n"
     ]
    },
    {
     "name": "stdout",
     "output_type": "stream",
     "text": [
      "      Document    Topic0    Topic1    Topic2    Topic3    Topic4    Topic5  \\\n",
      "0        30878  0.257755  0.066859  0.290733  0.053624  0.049121  0.060376   \n",
      "1        30727  0.053629  0.260614  0.356096  0.045773  0.041744  0.051990   \n",
      "2         9691  0.048814  0.052905  0.430578  0.041556  0.126540  0.047227   \n",
      "3        40158  0.062543  0.016439  0.660702  0.012780  0.011895  0.014598   \n",
      "4         9742  0.084469  0.089385  0.163892  0.074902  0.069489  0.082554   \n",
      "...        ...       ...       ...       ...       ...       ...       ...   \n",
      "4264     49656  0.026438  0.026440  0.026450  0.026433  0.027202  0.026437   \n",
      "4265     26403  0.313581  0.075360  0.075377  0.075348  0.075341  0.075355   \n",
      "4266     19337  0.019019  0.019020  0.019025  0.828520  0.019014  0.019019   \n",
      "4267     37525  0.443395  0.060471  0.060489  0.060448  0.060439  0.071257   \n",
      "4268     47824  0.019630  0.019631  0.019636  0.019627  0.019625  0.019630   \n",
      "\n",
      "        Topic6    Topic7    Topic8    Topic9  \n",
      "0     0.046783  0.068721  0.044904  0.061124  \n",
      "1     0.039669  0.059803  0.038017  0.052666  \n",
      "2     0.113899  0.056097  0.034483  0.047900  \n",
      "3     0.034430  0.161263  0.010547  0.014804  \n",
      "4     0.066566  0.091266  0.194107  0.083371  \n",
      "...        ...       ...       ...       ...  \n",
      "4264  0.026586  0.026441  0.759922  0.027651  \n",
      "4265  0.075336  0.075360  0.083586  0.075356  \n",
      "4266  0.019013  0.019020  0.019330  0.019019  \n",
      "4267  0.062147  0.060466  0.060428  0.060459  \n",
      "4268  0.020226  0.019632  0.822732  0.019630  \n",
      "\n",
      "[4269 rows x 11 columns]\n"
     ]
    }
   ],
   "source": [
    "doc_num = []\n",
    "prob0, prob1, prob2, prob3, prob4, prob5, prob6, prob7, prob8, prob9 = ([] for i in range(num_topics))\n",
    "\n",
    "document_topic_matrix = documents\n",
    "\n",
    "for n in range(len(documents)):\n",
    "    get_document_topics = lda_model.get_document_topics(corpus_total[n], minimum_probability=0)\n",
    "    doc_num.append(documents.index[n])\n",
    "    prob0.append(get_document_topics[0][1])\n",
    "    prob1.append(get_document_topics[1][1])\n",
    "    prob2.append(get_document_topics[2][1])\n",
    "    prob3.append(get_document_topics[3][1])\n",
    "    prob4.append(get_document_topics[4][1])\n",
    "    prob5.append(get_document_topics[5][1])\n",
    "    prob6.append(get_document_topics[6][1])\n",
    "    prob7.append(get_document_topics[7][1])\n",
    "    prob8.append(get_document_topics[8][1])\n",
    "    prob9.append(get_document_topics[9][1])\n",
    "    \n",
    "data = {'Document': doc_num\n",
    "        ,'Topic0': prob0\n",
    "        ,'Topic1': prob1\n",
    "        ,'Topic2': prob2\n",
    "        ,'Topic3': prob3\n",
    "        ,'Topic4': prob4\n",
    "        ,'Topic5': prob5\n",
    "        ,'Topic6': prob6\n",
    "        ,'Topic7': prob7\n",
    "        ,'Topic8': prob8\n",
    "        ,'Topic9': prob9}\n",
    "\n",
    "df = pd.DataFrame(data) \n",
    "df.to_csv(file_model + '_document_topic_matrix_full.csv', index=False)\n",
    "print(df)"
   ]
  },
  {
   "cell_type": "markdown",
   "metadata": {},
   "source": [
    "### Save topic-term matrix"
   ]
  },
  {
   "cell_type": "code",
   "execution_count": 21,
   "metadata": {},
   "outputs": [
    {
     "name": "stderr",
     "output_type": "stream",
     "text": [
      "C:\\Users\\minio\\anaconda3\\envs\\tfm-py-37\\lib\\site-packages\\ipykernel\\ipkernel.py:287: DeprecationWarning: `should_run_async` will not call `transform_cell` automatically in the future. Please pass the result to `transformed_cell` argument and any exception that happen during thetransform in `preprocessing_exc_tuple` in IPython 7.17 and above.\n",
      "  and should_run_async(code)\n"
     ]
    }
   ],
   "source": [
    "# get topic-term-matrix\n",
    "topic_term_matrix = lda_model.get_topics()\n",
    "# save topic-term matrix\n",
    "savetxt(file_model + '_topic_term_matrix.csv', topic_term_matrix, delimiter=',')"
   ]
  }
 ],
 "metadata": {
  "kernelspec": {
   "display_name": "Python 3",
   "language": "python",
   "name": "python3"
  },
  "language_info": {
   "codemirror_mode": {
    "name": "ipython",
    "version": 3
   },
   "file_extension": ".py",
   "mimetype": "text/x-python",
   "name": "python",
   "nbconvert_exporter": "python",
   "pygments_lexer": "ipython3",
   "version": "3.7.9"
  }
 },
 "nbformat": 4,
 "nbformat_minor": 4
}
