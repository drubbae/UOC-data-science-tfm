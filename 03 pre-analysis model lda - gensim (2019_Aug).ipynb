{
 "cells": [
  {
   "cell_type": "markdown",
   "metadata": {},
   "source": [
    "# <span style=\"color:blue\">Pre-analysis to find the optimal number of topics and hyperparameters values (2019_Aug)</span>"
   ]
  },
  {
   "cell_type": "code",
   "execution_count": 1,
   "metadata": {},
   "outputs": [],
   "source": [
    "yyyy_MMM = '2019_Aug'"
   ]
  },
  {
   "cell_type": "markdown",
   "metadata": {},
   "source": [
    "### Load packages"
   ]
  },
  {
   "cell_type": "code",
   "execution_count": 2,
   "metadata": {},
   "outputs": [
    {
     "name": "stderr",
     "output_type": "stream",
     "text": [
      "C:\\Users\\minio\\anaconda3\\envs\\tfm-py-37\\lib\\site-packages\\botocore\\vendored\\requests\\packages\\urllib3\\_collections.py:1: DeprecationWarning: Using or importing the ABCs from 'collections' instead of from 'collections.abc' is deprecated since Python 3.3,and in 3.9 it will stop working\n",
      "  from collections import Mapping, MutableMapping\n",
      "C:\\Users\\minio\\anaconda3\\envs\\tfm-py-37\\lib\\site-packages\\botocore\\vendored\\requests\\packages\\urllib3\\_collections.py:1: DeprecationWarning: Using or importing the ABCs from 'collections' instead of from 'collections.abc' is deprecated since Python 3.3,and in 3.9 it will stop working\n",
      "  from collections import Mapping, MutableMapping\n",
      "C:\\Users\\minio\\anaconda3\\envs\\tfm-py-37\\lib\\site-packages\\scipy\\sparse\\sparsetools.py:21: DeprecationWarning: `scipy.sparse.sparsetools` is deprecated!\n",
      "scipy.sparse.sparsetools is a private module for scipy.sparse, and should not be used.\n",
      "  _deprecated()\n",
      "C:\\Users\\minio\\anaconda3\\envs\\tfm-py-37\\lib\\site-packages\\gensim\\models\\doc2vec.py:73: DeprecationWarning: Using or importing the ABCs from 'collections' instead of from 'collections.abc' is deprecated since Python 3.3,and in 3.9 it will stop working\n",
      "  from collections import namedtuple, defaultdict, Iterable\n",
      "[nltk_data] Downloading package stopwords to\n",
      "[nltk_data]     C:\\Users\\minio\\AppData\\Roaming\\nltk_data...\n",
      "[nltk_data]   Package stopwords is already up-to-date!\n"
     ]
    },
    {
     "data": {
      "text/plain": [
       "True"
      ]
     },
     "execution_count": 2,
     "metadata": {},
     "output_type": "execute_result"
    }
   ],
   "source": [
    "import csv, os, re, time\n",
    "import numpy as np\n",
    "import pandas as  pd\n",
    "import matplotlib.pyplot as plt  \n",
    "import pyLDAvis\n",
    "import pyLDAvis.gensim\n",
    "import gensim\n",
    "import gensim.corpora as corpora\n",
    "from gensim.corpora.dictionary import Dictionary\n",
    "from gensim.models import CoherenceModel\n",
    "from gensim.models import Phrases\n",
    "from gensim.test.utils import datapath\n",
    "from gensim.utils import simple_preprocess\n",
    "from pprint import pprint\n",
    "import nltk\n",
    "nltk.download('stopwords')"
   ]
  },
  {
   "cell_type": "markdown",
   "metadata": {},
   "source": [
    "### Constants"
   ]
  },
  {
   "cell_type": "code",
   "execution_count": 3,
   "metadata": {},
   "outputs": [
    {
     "name": "stdout",
     "output_type": "stream",
     "text": [
      "D:\\master\\data science\\semestre 4\\M2.979 - tfm\\data\\bins_test\\doc\\2019_Aug\\2019_Aug_28_results.csv\n",
      "D:\\master\\data science\\semestre 4\\M2.979 - tfm\\data\\bins_test\\model_hyperparameter\\2019_Aug\\model\n"
     ]
    },
    {
     "name": "stderr",
     "output_type": "stream",
     "text": [
      "C:\\Users\\minio\\anaconda3\\envs\\tfm-py-37\\lib\\site-packages\\ipykernel\\ipkernel.py:287: DeprecationWarning: `should_run_async` will not call `transform_cell` automatically in the future. Please pass the result to `transformed_cell` argument and any exception that happen during thetransform in `preprocessing_exc_tuple` in IPython 7.17 and above.\n",
      "  and should_run_async(code)\n"
     ]
    }
   ],
   "source": [
    "# for reproducible results\n",
    "random_state = 33\n",
    "# if debug is True, messages during the process are generated\n",
    "debug = False\n",
    "# for debugging purposes sample may be used to work with a smaller amount of data (when 0 it is not applied)\n",
    "sample = 0\n",
    "# if the test is True, the process runs on a smaller subset of raw data (json files)\n",
    "test = True\n",
    "\n",
    "if test:\n",
    "    # path where the doc files are stored\n",
    "    path_doc = r'D:\\master\\data science\\semestre 4\\M2.979 - tfm\\data\\bins_test\\doc'\n",
    "    # path where the model files are stored\n",
    "    path_model = r'D:\\master\\data science\\semestre 4\\M2.979 - tfm\\data\\bins_test\\model_hyperparameter'\n",
    "    # LDA chunksize\n",
    "    chunksize = 250\n",
    "else:\n",
    "    # path where the doc files are stored\n",
    "    path_doc = r'D:\\master\\data science\\semestre 4\\M2.979 - tfm\\data\\bins\\doc'\n",
    "    # path where the model files are stored\n",
    "    path_model = r'D:\\master\\data science\\semestre 4\\M2.979 - tfm\\data\\bins\\model_hyperparameter'\n",
    "    # LDA chunksize\n",
    "    chunksize = 5000\n",
    "\n",
    "file_doc = os.path.join(path_doc, yyyy_MMM, yyyy_MMM) + '_28_results.csv'\n",
    "file_model = os.path.join(path_model, yyyy_MMM, 'model')\n",
    "print(file_doc)\n",
    "print(file_model)"
   ]
  },
  {
   "cell_type": "markdown",
   "metadata": {},
   "source": [
    "### Load data preprocessed"
   ]
  },
  {
   "cell_type": "code",
   "execution_count": 4,
   "metadata": {},
   "outputs": [
    {
     "name": "stderr",
     "output_type": "stream",
     "text": [
      "C:\\Users\\minio\\anaconda3\\envs\\tfm-py-37\\lib\\site-packages\\ipykernel\\ipkernel.py:287: DeprecationWarning: `should_run_async` will not call `transform_cell` automatically in the future. Please pass the result to `transformed_cell` argument and any exception that happen during thetransform in `preprocessing_exc_tuple` in IPython 7.17 and above.\n",
      "  and should_run_async(code)\n"
     ]
    },
    {
     "data": {
      "text/plain": [
       "0    ['sophie', 'chou', 'pose', 'shutterbug', 'mani...\n",
       "1    ['francis', 'sunshine', 'mixed', 'hurricane', ...\n",
       "2    ['permanent', 'mood', 'transcendent', 'nationa...\n",
       "3    ['love', 'story', 'write', 'torn', 'chapter', ...\n",
       "4    ['medium', 'calendar', 'credit', 'intro', 'ran...\n",
       "5                        ['legendary', 'shot', 'star']\n",
       "6    ['leg', 'day', 'hotshot', 'werker', 'knee', 'l...\n",
       "7    ['gerald', 'huston', 'gettin', 'number', 'guid...\n",
       "8    ['barba', 'cabelo', 'david', 'habibi', 'blog',...\n",
       "9    ['garnier', 'hydra', 'bomb', 'aqua', 'bomb', '...\n",
       "Name: content_preprocessed, dtype: object"
      ]
     },
     "execution_count": 4,
     "metadata": {},
     "output_type": "execute_result"
    }
   ],
   "source": [
    "df = pd.read_csv(file_doc)\n",
    "documents = df.content_preprocessed\n",
    "documents.head(10)"
   ]
  },
  {
   "cell_type": "markdown",
   "metadata": {},
   "source": [
    "### Shuffle"
   ]
  },
  {
   "cell_type": "code",
   "execution_count": 5,
   "metadata": {},
   "outputs": [
    {
     "name": "stderr",
     "output_type": "stream",
     "text": [
      "C:\\Users\\minio\\anaconda3\\envs\\tfm-py-37\\lib\\site-packages\\ipykernel\\ipkernel.py:287: DeprecationWarning: `should_run_async` will not call `transform_cell` automatically in the future. Please pass the result to `transformed_cell` argument and any exception that happen during thetransform in `preprocessing_exc_tuple` in IPython 7.17 and above.\n",
      "  and should_run_async(code)\n"
     ]
    },
    {
     "data": {
      "text/plain": [
       "1805    ['erie', 'bistrot', 'dans', 'ignoble', 'entre'...\n",
       "1852    ['feel', 'mama', 'special', 'juicy', 'couture'...\n",
       "1205    ['sound', 'card', 'braid', 'hotshot', 'card', ...\n",
       "863     ['stylish', 'karan', 'wahi', 'kareena', 'kapoo...\n",
       "1765    ['ranbir', 'kapoor', 'snap', 'mumbai', 'today'...\n",
       "1377    ['connie', 'tag', 'repost', 'connie', 'fashion...\n",
       "1275    ['cowgirl', 'rodeo', 'chance', 'inno', 'beukes...\n",
       "1725    ['urvashi', 'walk', 'ramp', 'pink', 'peacock',...\n",
       "760     ['perfectly', 'flawless', 'exclusively', 'bayo...\n",
       "520                         ['cassi', 'bagley', 'follow']\n",
       "Name: content_preprocessed, dtype: object"
      ]
     },
     "execution_count": 5,
     "metadata": {},
     "output_type": "execute_result"
    }
   ],
   "source": [
    "documents = documents.sample(frac=1, random_state=random_state)\n",
    "documents.head(10)"
   ]
  },
  {
   "cell_type": "markdown",
   "metadata": {},
   "source": [
    "### Sample"
   ]
  },
  {
   "cell_type": "code",
   "execution_count": 6,
   "metadata": {},
   "outputs": [
    {
     "name": "stderr",
     "output_type": "stream",
     "text": [
      "C:\\Users\\minio\\anaconda3\\envs\\tfm-py-37\\lib\\site-packages\\ipykernel\\ipkernel.py:287: DeprecationWarning: `should_run_async` will not call `transform_cell` automatically in the future. Please pass the result to `transformed_cell` argument and any exception that happen during thetransform in `preprocessing_exc_tuple` in IPython 7.17 and above.\n",
      "  and should_run_async(code)\n"
     ]
    }
   ],
   "source": [
    "if sample > 0:\n",
    "    documents = documents.sample(n=sample, random_state=random_state)\n",
    "    print(documents.head(10))"
   ]
  },
  {
   "cell_type": "markdown",
   "metadata": {},
   "source": [
    "### Tokenize words and Clean-up text  \n",
    "https://www.machinelearningplus.com/nlp/topic-modeling-gensim-python/#3importpackages"
   ]
  },
  {
   "cell_type": "code",
   "execution_count": 7,
   "metadata": {},
   "outputs": [
    {
     "name": "stderr",
     "output_type": "stream",
     "text": [
      "C:\\Users\\minio\\anaconda3\\envs\\tfm-py-37\\lib\\site-packages\\ipykernel\\ipkernel.py:287: DeprecationWarning: `should_run_async` will not call `transform_cell` automatically in the future. Please pass the result to `transformed_cell` argument and any exception that happen during thetransform in `preprocessing_exc_tuple` in IPython 7.17 and above.\n",
      "  and should_run_async(code)\n"
     ]
    }
   ],
   "source": [
    "def sent_to_words(sentences):\n",
    "    for sentence in sentences:\n",
    "        yield(gensim.utils.simple_preprocess(str(sentence), deacc=True))  # deacc=True removes punctuations"
   ]
  },
  {
   "cell_type": "markdown",
   "metadata": {},
   "source": [
    "### Function to compute bigrams & trigrams  \n",
    "https://radimrehurek.com/gensim/auto_examples/tutorials/run_lda.html#pre-process-and-vectorize-the-documents"
   ]
  },
  {
   "cell_type": "code",
   "execution_count": 8,
   "metadata": {},
   "outputs": [
    {
     "name": "stderr",
     "output_type": "stream",
     "text": [
      "C:\\Users\\minio\\anaconda3\\envs\\tfm-py-37\\lib\\site-packages\\ipykernel\\ipkernel.py:287: DeprecationWarning: `should_run_async` will not call `transform_cell` automatically in the future. Please pass the result to `transformed_cell` argument and any exception that happen during thetransform in `preprocessing_exc_tuple` in IPython 7.17 and above.\n",
      "  and should_run_async(code)\n"
     ]
    }
   ],
   "source": [
    "# Add bigrams and trigrams to docs (only ones that appear min_count times or more).\n",
    "def bi_tri_grams(documents, min_count):\n",
    "    bigram = Phrases(documents, min_count=min_count)\n",
    "    for idx in range(len(documents)):\n",
    "        for token in bigram[documents[idx]]:\n",
    "            if '_' in token:\n",
    "                # Token is a bigram, add to document.\n",
    "                documents[idx].append(token)"
   ]
  },
  {
   "cell_type": "markdown",
   "metadata": {},
   "source": [
    "### Function for categorizing and tagging words"
   ]
  },
  {
   "cell_type": "code",
   "execution_count": 9,
   "metadata": {},
   "outputs": [
    {
     "name": "stderr",
     "output_type": "stream",
     "text": [
      "C:\\Users\\minio\\anaconda3\\envs\\tfm-py-37\\lib\\site-packages\\ipykernel\\ipkernel.py:287: DeprecationWarning: `should_run_async` will not call `transform_cell` automatically in the future. Please pass the result to `transformed_cell` argument and any exception that happen during thetransform in `preprocessing_exc_tuple` in IPython 7.17 and above.\n",
      "  and should_run_async(code)\n"
     ]
    }
   ],
   "source": [
    "def tag_words(text):\n",
    "    tags = nltk.pos_tag(text)\n",
    "    nouns = [word for word, pos in tags if (pos == 'NN' or pos == 'NNP' or pos == 'NNS' or pos == 'NNPS')]\n",
    "    return nouns"
   ]
  },
  {
   "cell_type": "markdown",
   "metadata": {},
   "source": [
    "### Analysis to get the optimal number of topics  \n",
    "https://towardsdatascience.com/discover-what-singaporeans-generally-talk-on-sms-d4b592a682fd"
   ]
  },
  {
   "cell_type": "code",
   "execution_count": 10,
   "metadata": {},
   "outputs": [
    {
     "name": "stderr",
     "output_type": "stream",
     "text": [
      "C:\\Users\\minio\\anaconda3\\envs\\tfm-py-37\\lib\\site-packages\\ipykernel\\ipkernel.py:287: DeprecationWarning: `should_run_async` will not call `transform_cell` automatically in the future. Please pass the result to `transformed_cell` argument and any exception that happen during thetransform in `preprocessing_exc_tuple` in IPython 7.17 and above.\n",
      "  and should_run_async(code)\n"
     ]
    }
   ],
   "source": [
    "data_words = list(sent_to_words(documents))\n",
    "# Compute bigrams & trigrams\n",
    "bi_tri_grams(data_words, 250)\n",
    "# Categorizing and tagging words\n",
    "data_words = list(map(tag_words, data_words))\n",
    "# Create Dictionary\n",
    "id2word = Dictionary(data_words)\n",
    "# Create Corpus\n",
    "texts = data_words\n",
    "# Term Document Frequency\n",
    "corpus = [id2word.doc2bow(text) for text in texts]"
   ]
  },
  {
   "cell_type": "code",
   "execution_count": 11,
   "metadata": {},
   "outputs": [
    {
     "name": "stderr",
     "output_type": "stream",
     "text": [
      "C:\\Users\\minio\\anaconda3\\envs\\tfm-py-37\\lib\\site-packages\\ipykernel\\ipkernel.py:287: DeprecationWarning: `should_run_async` will not call `transform_cell` automatically in the future. Please pass the result to `transformed_cell` argument and any exception that happen during thetransform in `preprocessing_exc_tuple` in IPython 7.17 and above.\n",
      "  and should_run_async(code)\n"
     ]
    },
    {
     "name": "stdout",
     "output_type": "stream",
     "text": [
      "# Topics: 8 Score: 0.5768505554173666\n",
      "time elapsed - 00:00:21.33\n",
      "# Topics: 10 Score: 0.5949623249537482\n",
      "time elapsed - 00:00:21.11\n",
      "# Topics: 12 Score: 0.5576386481765631\n",
      "time elapsed - 00:00:20.79\n",
      "# Topics: 14 Score: 0.5552797327190007\n",
      "time elapsed - 00:00:20.60\n",
      "# Topics: 16 Score: 0.581861990927572\n",
      "time elapsed - 00:00:21.44\n",
      "# Topics: 18 Score: 0.5721607090910447\n",
      "time elapsed - 00:00:20.99\n",
      "# Topics: 20 Score: 0.5458402328592625\n",
      "time elapsed - 00:00:22.12\n",
      "# Topics: 22 Score: 0.5533640986638939\n",
      "time elapsed - 00:00:20.84\n",
      "# Topics: 24 Score: 0.5698133102726146\n",
      "time elapsed - 00:00:20.42\n"
     ]
    }
   ],
   "source": [
    "model_list = []\n",
    "coherence_score = []\n",
    "model_topics = []\n",
    "\n",
    "for num_topics in range(8, 25, 2):\n",
    "    \n",
    "    time_start = time.time()\n",
    "\n",
    "    lda_x = gensim.models.LdaMulticore(corpus=corpus\n",
    "                                       ,id2word=id2word\n",
    "                                       ,num_topics=num_topics\n",
    "                                       ,random_state=random_state\n",
    "                                       ,chunksize=chunksize\n",
    "                                       ,passes=10)\n",
    "    coherence_lda_model = CoherenceModel(model=lda_x, texts=data_words, dictionary=id2word, coherence='c_v')\n",
    "    coherence = coherence_lda_model.get_coherence()\n",
    "    coherence_score.append(coherence)\n",
    "    model_topics.append(num_topics)\n",
    "    model_list.append(lda_x)\n",
    "    \n",
    "    print(\"# Topics: \" + str(num_topics) + \" Score: \" + str(coherence))\n",
    "    \n",
    "    time_end = time.time()\n",
    "    hour, rem = divmod(time_end - time_start, 3600)\n",
    "    minute, second = divmod(rem, 60)\n",
    "    print('time elapsed - {:0>2}:{:0>2}:{:05.2f}'.format(int(hour), int(minute), second))"
   ]
  },
  {
   "cell_type": "code",
   "execution_count": 12,
   "metadata": {},
   "outputs": [
    {
     "name": "stderr",
     "output_type": "stream",
     "text": [
      "C:\\Users\\minio\\anaconda3\\envs\\tfm-py-37\\lib\\site-packages\\ipykernel\\ipkernel.py:287: DeprecationWarning: `should_run_async` will not call `transform_cell` automatically in the future. Please pass the result to `transformed_cell` argument and any exception that happen during thetransform in `preprocessing_exc_tuple` in IPython 7.17 and above.\n",
      "  and should_run_async(code)\n"
     ]
    },
    {
     "data": {
      "image/png": "[encoded data removed]",
      "text/plain": [
       "<Figure size 432x288 with 1 Axes>"
      ]
     },
     "metadata": {
      "needs_background": "light"
     },
     "output_type": "display_data"
    }
   ],
   "source": [
    "limit=25; start=8; step=2;\n",
    "x = range(start, limit, step)\n",
    "plt.plot(x, coherence_score)\n",
    "plt.xlabel(\"Number of topics\")\n",
    "plt.ylabel(\"Coherence score\")\n",
    "plt.legend((\"coherence_values\"), loc='best')\n",
    "plt.show()"
   ]
  },
  {
   "cell_type": "markdown",
   "metadata": {},
   "source": [
    "### Hyperparameter tuning  \n",
    "\n",
    "https://medium.com/analytics-vidhya/analyzing-amazon-tv-reviews-with-latent-dirichlet-allocation-97d19c3bb878  \n",
    "https://github.com/Georgebob256/Machine-learning-with-Python/blob/master/Amazon%20TV%20reviews..ipynb"
   ]
  },
  {
   "cell_type": "code",
   "execution_count": 13,
   "metadata": {},
   "outputs": [
    {
     "name": "stderr",
     "output_type": "stream",
     "text": [
      "C:\\Users\\minio\\anaconda3\\envs\\tfm-py-37\\lib\\site-packages\\ipykernel\\ipkernel.py:287: DeprecationWarning: `should_run_async` will not call `transform_cell` automatically in the future. Please pass the result to `transformed_cell` argument and any exception that happen during thetransform in `preprocessing_exc_tuple` in IPython 7.17 and above.\n",
      "  and should_run_async(code)\n"
     ]
    },
    {
     "name": "stdout",
     "output_type": "stream",
     "text": [
      "Iteration num -  1  Topics -  8  Alpha -  0.01  Beta -  0.01  Coherence -  0.5680892076184201\n",
      "Iteration num -  2  Topics -  8  Alpha -  0.01  Beta -  0.31  Coherence -  0.6056567935793973\n",
      "Iteration num -  3  Topics -  8  Alpha -  0.01  Beta -  0.61  Coherence -  0.6116895604864563\n",
      "Iteration num -  4  Topics -  8  Alpha -  0.01  Beta -  0.91  Coherence -  0.6400878818859519\n",
      "Iteration num -  5  Topics -  8  Alpha -  0.01  Beta -  symmetric  Coherence -  0.5643792501486404\n",
      "Iteration num -  6  Topics -  8  Alpha -  0.31  Beta -  0.01  Coherence -  0.5826735034775188\n",
      "Iteration num -  7  Topics -  8  Alpha -  0.31  Beta -  0.31  Coherence -  0.575187597067656\n",
      "Iteration num -  8  Topics -  8  Alpha -  0.31  Beta -  0.61  Coherence -  0.5773172316086446\n",
      "Iteration num -  9  Topics -  8  Alpha -  0.31  Beta -  0.91  Coherence -  0.6074151190605588\n",
      "Iteration num -  10  Topics -  8  Alpha -  0.31  Beta -  symmetric  Coherence -  0.5675234801331654\n",
      "Iteration num -  11  Topics -  8  Alpha -  0.61  Beta -  0.01  Coherence -  0.5596594729408745\n",
      "Iteration num -  12  Topics -  8  Alpha -  0.61  Beta -  0.31  Coherence -  0.581531334671852\n",
      "Iteration num -  13  Topics -  8  Alpha -  0.61  Beta -  0.61  Coherence -  0.5814778602043238\n",
      "Iteration num -  14  Topics -  8  Alpha -  0.61  Beta -  0.91  Coherence -  0.6305464834309682\n",
      "Iteration num -  15  Topics -  8  Alpha -  0.61  Beta -  symmetric  Coherence -  0.5623057160306366\n",
      "Iteration num -  16  Topics -  8  Alpha -  0.91  Beta -  0.01  Coherence -  0.5846284633310204\n",
      "Iteration num -  17  Topics -  8  Alpha -  0.91  Beta -  0.31  Coherence -  0.6138658996804894\n",
      "Iteration num -  18  Topics -  8  Alpha -  0.91  Beta -  0.61  Coherence -  0.6417037450721822\n",
      "Iteration num -  19  Topics -  8  Alpha -  0.91  Beta -  0.91  Coherence -  0.6462231909718046\n",
      "Iteration num -  20  Topics -  8  Alpha -  0.91  Beta -  symmetric  Coherence -  0.6076473298746004\n",
      "Iteration num -  21  Topics -  8  Alpha -  symmetric  Beta -  0.01  Coherence -  0.5864137254143404\n",
      "Iteration num -  22  Topics -  8  Alpha -  symmetric  Beta -  0.31  Coherence -  0.6126897896352138\n",
      "Iteration num -  23  Topics -  8  Alpha -  symmetric  Beta -  0.61  Coherence -  0.598612400840002\n",
      "Iteration num -  24  Topics -  8  Alpha -  symmetric  Beta -  0.91  Coherence -  0.5794423903526627\n",
      "Iteration num -  25  Topics -  8  Alpha -  symmetric  Beta -  symmetric  Coherence -  0.5822702692926608\n",
      "Iteration num -  26  Topics -  8  Alpha -  asymmetric  Beta -  0.01  Coherence -  0.644919272305879\n",
      "Iteration num -  27  Topics -  8  Alpha -  asymmetric  Beta -  0.31  Coherence -  0.6549720324594269\n",
      "Iteration num -  28  Topics -  8  Alpha -  asymmetric  Beta -  0.61  Coherence -  0.664020736631299\n",
      "Iteration num -  29  Topics -  8  Alpha -  asymmetric  Beta -  0.91  Coherence -  0.6854979843430384\n",
      "Iteration num -  30  Topics -  8  Alpha -  asymmetric  Beta -  symmetric  Coherence -  0.6544838776704947\n",
      "Iteration num -  31  Topics -  10  Alpha -  0.01  Beta -  0.01  Coherence -  0.5974497929134327\n",
      "Iteration num -  32  Topics -  10  Alpha -  0.01  Beta -  0.31  Coherence -  0.5774817571596417\n",
      "Iteration num -  33  Topics -  10  Alpha -  0.01  Beta -  0.61  Coherence -  0.562864715578294\n",
      "Iteration num -  34  Topics -  10  Alpha -  0.01  Beta -  0.91  Coherence -  0.5741523002567396\n",
      "Iteration num -  35  Topics -  10  Alpha -  0.01  Beta -  symmetric  Coherence -  0.5892491205467308\n",
      "Iteration num -  36  Topics -  10  Alpha -  0.31  Beta -  0.01  Coherence -  0.5995789022998013\n",
      "Iteration num -  37  Topics -  10  Alpha -  0.31  Beta -  0.31  Coherence -  0.5972518400891508\n",
      "Iteration num -  38  Topics -  10  Alpha -  0.31  Beta -  0.61  Coherence -  0.5834381945562235\n",
      "Iteration num -  39  Topics -  10  Alpha -  0.31  Beta -  0.91  Coherence -  0.5849322281423874\n",
      "Iteration num -  40  Topics -  10  Alpha -  0.31  Beta -  symmetric  Coherence -  0.5876984651951771\n",
      "Iteration num -  41  Topics -  10  Alpha -  0.61  Beta -  0.01  Coherence -  0.6057918817318988\n",
      "Iteration num -  42  Topics -  10  Alpha -  0.61  Beta -  0.31  Coherence -  0.5933619092089926\n",
      "Iteration num -  43  Topics -  10  Alpha -  0.61  Beta -  0.61  Coherence -  0.5770888851469106\n",
      "Iteration num -  44  Topics -  10  Alpha -  0.61  Beta -  0.91  Coherence -  0.5874738211372063\n",
      "Iteration num -  45  Topics -  10  Alpha -  0.61  Beta -  symmetric  Coherence -  0.590535161626779\n",
      "Iteration num -  46  Topics -  10  Alpha -  0.91  Beta -  0.01  Coherence -  0.6045393983835735\n",
      "Iteration num -  47  Topics -  10  Alpha -  0.91  Beta -  0.31  Coherence -  0.6061513049963277\n",
      "Iteration num -  48  Topics -  10  Alpha -  0.91  Beta -  0.61  Coherence -  0.5778294801026819\n",
      "Iteration num -  49  Topics -  10  Alpha -  0.91  Beta -  0.91  Coherence -  0.5737896681768385\n",
      "Iteration num -  50  Topics -  10  Alpha -  0.91  Beta -  symmetric  Coherence -  0.5975471038268265\n",
      "Iteration num -  51  Topics -  10  Alpha -  symmetric  Beta -  0.01  Coherence -  0.6076086765986131\n",
      "Iteration num -  52  Topics -  10  Alpha -  symmetric  Beta -  0.31  Coherence -  0.5939334794971293\n",
      "Iteration num -  53  Topics -  10  Alpha -  symmetric  Beta -  0.61  Coherence -  0.5571504037353048\n",
      "Iteration num -  54  Topics -  10  Alpha -  symmetric  Beta -  0.91  Coherence -  0.5747909243439069\n",
      "Iteration num -  55  Topics -  10  Alpha -  symmetric  Beta -  symmetric  Coherence -  0.5980289431756484\n",
      "Iteration num -  56  Topics -  10  Alpha -  asymmetric  Beta -  0.01  Coherence -  0.6125723638027729\n",
      "Iteration num -  57  Topics -  10  Alpha -  asymmetric  Beta -  0.31  Coherence -  0.5910189950179804\n",
      "Iteration num -  58  Topics -  10  Alpha -  asymmetric  Beta -  0.61  Coherence -  0.5899247773422232\n",
      "Iteration num -  59  Topics -  10  Alpha -  asymmetric  Beta -  0.91  Coherence -  0.6228380077438126\n",
      "Iteration num -  60  Topics -  10  Alpha -  asymmetric  Beta -  symmetric  Coherence -  0.586556014517803\n",
      "Iteration num -  61  Topics -  12  Alpha -  0.01  Beta -  0.01  Coherence -  0.6079822584686878\n",
      "Iteration num -  62  Topics -  12  Alpha -  0.01  Beta -  0.31  Coherence -  0.5660158731956881\n",
      "Iteration num -  63  Topics -  12  Alpha -  0.01  Beta -  0.61  Coherence -  0.576513253893676\n",
      "Iteration num -  64  Topics -  12  Alpha -  0.01  Beta -  0.91  Coherence -  0.5717814139237637\n",
      "Iteration num -  65  Topics -  12  Alpha -  0.01  Beta -  symmetric  Coherence -  0.5754033650035184\n",
      "Iteration num -  66  Topics -  12  Alpha -  0.31  Beta -  0.01  Coherence -  0.5712781908508007\n",
      "Iteration num -  67  Topics -  12  Alpha -  0.31  Beta -  0.31  Coherence -  0.5548610373288738\n",
      "Iteration num -  68  Topics -  12  Alpha -  0.31  Beta -  0.61  Coherence -  0.5669466943905187\n",
      "Iteration num -  69  Topics -  12  Alpha -  0.31  Beta -  0.91  Coherence -  0.5807694793498809\n",
      "Iteration num -  70  Topics -  12  Alpha -  0.31  Beta -  symmetric  Coherence -  0.5560946644702955\n",
      "Iteration num -  71  Topics -  12  Alpha -  0.61  Beta -  0.01  Coherence -  0.588269358480798\n",
      "Iteration num -  72  Topics -  12  Alpha -  0.61  Beta -  0.31  Coherence -  0.5855787997530074\n",
      "Iteration num -  73  Topics -  12  Alpha -  0.61  Beta -  0.61  Coherence -  0.5906687115982509\n",
      "Iteration num -  74  Topics -  12  Alpha -  0.61  Beta -  0.91  Coherence -  0.6064346244529407\n",
      "Iteration num -  75  Topics -  12  Alpha -  0.61  Beta -  symmetric  Coherence -  0.5929246126295232\n",
      "Iteration num -  76  Topics -  12  Alpha -  0.91  Beta -  0.01  Coherence -  0.5784772006107269\n",
      "Iteration num -  77  Topics -  12  Alpha -  0.91  Beta -  0.31  Coherence -  0.6104360851545824\n",
      "Iteration num -  78  Topics -  12  Alpha -  0.91  Beta -  0.61  Coherence -  0.6060760253397716\n",
      "Iteration num -  79  Topics -  12  Alpha -  0.91  Beta -  0.91  Coherence -  0.5911532137136273\n",
      "Iteration num -  80  Topics -  12  Alpha -  0.91  Beta -  symmetric  Coherence -  0.5771417041569038\n",
      "Iteration num -  81  Topics -  12  Alpha -  symmetric  Beta -  0.01  Coherence -  0.6238939934773652\n",
      "Iteration num -  82  Topics -  12  Alpha -  symmetric  Beta -  0.31  Coherence -  0.578559560288158\n",
      "Iteration num -  83  Topics -  12  Alpha -  symmetric  Beta -  0.61  Coherence -  0.5728805101049658\n",
      "Iteration num -  84  Topics -  12  Alpha -  symmetric  Beta -  0.91  Coherence -  0.5789219925078989\n"
     ]
    },
    {
     "name": "stdout",
     "output_type": "stream",
     "text": [
      "Iteration num -  85  Topics -  12  Alpha -  symmetric  Beta -  symmetric  Coherence -  0.607891484175565\n",
      "Iteration num -  86  Topics -  12  Alpha -  asymmetric  Beta -  0.01  Coherence -  0.5971741355667471\n",
      "Iteration num -  87  Topics -  12  Alpha -  asymmetric  Beta -  0.31  Coherence -  0.5859623566157798\n",
      "Iteration num -  88  Topics -  12  Alpha -  asymmetric  Beta -  0.61  Coherence -  0.5627293999906975\n",
      "Iteration num -  89  Topics -  12  Alpha -  asymmetric  Beta -  0.91  Coherence -  0.5448422341314528\n",
      "Iteration num -  90  Topics -  12  Alpha -  asymmetric  Beta -  symmetric  Coherence -  0.5860887251046412\n",
      "Iteration num -  91  Topics -  14  Alpha -  0.01  Beta -  0.01  Coherence -  0.5486587011058248\n",
      "Iteration num -  92  Topics -  14  Alpha -  0.01  Beta -  0.31  Coherence -  0.5292848882816186\n",
      "Iteration num -  93  Topics -  14  Alpha -  0.01  Beta -  0.61  Coherence -  0.5390702001713751\n",
      "Iteration num -  94  Topics -  14  Alpha -  0.01  Beta -  0.91  Coherence -  0.5588350172003919\n",
      "Iteration num -  95  Topics -  14  Alpha -  0.01  Beta -  symmetric  Coherence -  0.5483945370219728\n",
      "Iteration num -  96  Topics -  14  Alpha -  0.31  Beta -  0.01  Coherence -  0.5508440775905401\n",
      "Iteration num -  97  Topics -  14  Alpha -  0.31  Beta -  0.31  Coherence -  0.5600771994855697\n",
      "Iteration num -  98  Topics -  14  Alpha -  0.31  Beta -  0.61  Coherence -  0.577424238219004\n",
      "Iteration num -  99  Topics -  14  Alpha -  0.31  Beta -  0.91  Coherence -  0.6057615721125886\n",
      "Iteration num -  100  Topics -  14  Alpha -  0.31  Beta -  symmetric  Coherence -  0.5458473639423359\n",
      "Iteration num -  101  Topics -  14  Alpha -  0.61  Beta -  0.01  Coherence -  0.6077497750783671\n",
      "Iteration num -  102  Topics -  14  Alpha -  0.61  Beta -  0.31  Coherence -  0.5767621573297809\n",
      "Iteration num -  103  Topics -  14  Alpha -  0.61  Beta -  0.61  Coherence -  0.5838213004467188\n",
      "Iteration num -  104  Topics -  14  Alpha -  0.61  Beta -  0.91  Coherence -  0.6104152165643975\n",
      "Iteration num -  105  Topics -  14  Alpha -  0.61  Beta -  symmetric  Coherence -  0.6007933396283311\n",
      "Iteration num -  106  Topics -  14  Alpha -  0.91  Beta -  0.01  Coherence -  0.5906187435483254\n",
      "Iteration num -  107  Topics -  14  Alpha -  0.91  Beta -  0.31  Coherence -  0.5860507214633229\n",
      "Iteration num -  108  Topics -  14  Alpha -  0.91  Beta -  0.61  Coherence -  0.6088896770510239\n",
      "Iteration num -  109  Topics -  14  Alpha -  0.91  Beta -  0.91  Coherence -  0.6055027422096596\n",
      "Iteration num -  110  Topics -  14  Alpha -  0.91  Beta -  symmetric  Coherence -  0.5904820463079655\n",
      "Iteration num -  111  Topics -  14  Alpha -  symmetric  Beta -  0.01  Coherence -  0.5704187766759581\n",
      "Iteration num -  112  Topics -  14  Alpha -  symmetric  Beta -  0.31  Coherence -  0.5552858256024819\n",
      "Iteration num -  113  Topics -  14  Alpha -  symmetric  Beta -  0.61  Coherence -  0.571322743392156\n",
      "Iteration num -  114  Topics -  14  Alpha -  symmetric  Beta -  0.91  Coherence -  0.5667180088948902\n",
      "Iteration num -  115  Topics -  14  Alpha -  symmetric  Beta -  symmetric  Coherence -  0.5525535697153988\n",
      "Iteration num -  116  Topics -  14  Alpha -  asymmetric  Beta -  0.01  Coherence -  0.5888218245881082\n",
      "Iteration num -  117  Topics -  14  Alpha -  asymmetric  Beta -  0.31  Coherence -  0.5796506084579199\n",
      "Iteration num -  118  Topics -  14  Alpha -  asymmetric  Beta -  0.61  Coherence -  0.5941288112763993\n",
      "Iteration num -  119  Topics -  14  Alpha -  asymmetric  Beta -  0.91  Coherence -  0.6211018963508561\n",
      "Iteration num -  120  Topics -  14  Alpha -  asymmetric  Beta -  symmetric  Coherence -  0.584176466719428\n",
      "Iteration num -  121  Topics -  16  Alpha -  0.01  Beta -  0.01  Coherence -  0.6070996771915573\n",
      "Iteration num -  122  Topics -  16  Alpha -  0.01  Beta -  0.31  Coherence -  0.5748554261144823\n",
      "Iteration num -  123  Topics -  16  Alpha -  0.01  Beta -  0.61  Coherence -  0.563029308413721\n",
      "Iteration num -  124  Topics -  16  Alpha -  0.01  Beta -  0.91  Coherence -  0.5626804496488571\n",
      "Iteration num -  125  Topics -  16  Alpha -  0.01  Beta -  symmetric  Coherence -  0.5832094948782927\n",
      "Iteration num -  126  Topics -  16  Alpha -  0.31  Beta -  0.01  Coherence -  0.5767250079959063\n",
      "Iteration num -  127  Topics -  16  Alpha -  0.31  Beta -  0.31  Coherence -  0.5667283102920868\n",
      "Iteration num -  128  Topics -  16  Alpha -  0.31  Beta -  0.61  Coherence -  0.5872906935426239\n",
      "Iteration num -  129  Topics -  16  Alpha -  0.31  Beta -  0.91  Coherence -  0.577466854718365\n",
      "Iteration num -  130  Topics -  16  Alpha -  0.31  Beta -  symmetric  Coherence -  0.5778286770245651\n",
      "Iteration num -  131  Topics -  16  Alpha -  0.61  Beta -  0.01  Coherence -  0.6112160071771527\n",
      "Iteration num -  132  Topics -  16  Alpha -  0.61  Beta -  0.31  Coherence -  0.5485027250346239\n",
      "Iteration num -  133  Topics -  16  Alpha -  0.61  Beta -  0.61  Coherence -  0.5696619732358211\n",
      "Iteration num -  134  Topics -  16  Alpha -  0.61  Beta -  0.91  Coherence -  0.5900237055031502\n",
      "Iteration num -  135  Topics -  16  Alpha -  0.61  Beta -  symmetric  Coherence -  0.5895756209414278\n",
      "Iteration num -  136  Topics -  16  Alpha -  0.91  Beta -  0.01  Coherence -  0.5872406911934105\n",
      "Iteration num -  137  Topics -  16  Alpha -  0.91  Beta -  0.31  Coherence -  0.5718059904745321\n",
      "Iteration num -  138  Topics -  16  Alpha -  0.91  Beta -  0.61  Coherence -  0.585026536383057\n",
      "Iteration num -  139  Topics -  16  Alpha -  0.91  Beta -  0.91  Coherence -  0.5618750904017688\n",
      "Iteration num -  140  Topics -  16  Alpha -  0.91  Beta -  symmetric  Coherence -  0.5654317097391159\n",
      "Iteration num -  141  Topics -  16  Alpha -  symmetric  Beta -  0.01  Coherence -  0.5842508562112397\n",
      "Iteration num -  142  Topics -  16  Alpha -  symmetric  Beta -  0.31  Coherence -  0.5653126433894974\n",
      "Iteration num -  143  Topics -  16  Alpha -  symmetric  Beta -  0.61  Coherence -  0.5461928655156036\n",
      "Iteration num -  144  Topics -  16  Alpha -  symmetric  Beta -  0.91  Coherence -  0.5639534121985964\n",
      "Iteration num -  145  Topics -  16  Alpha -  symmetric  Beta -  symmetric  Coherence -  0.5683930380867499\n",
      "Iteration num -  146  Topics -  16  Alpha -  asymmetric  Beta -  0.01  Coherence -  0.5845825333044513\n",
      "Iteration num -  147  Topics -  16  Alpha -  asymmetric  Beta -  0.31  Coherence -  0.5380801222729799\n",
      "Iteration num -  148  Topics -  16  Alpha -  asymmetric  Beta -  0.61  Coherence -  0.5613832092193642\n",
      "Iteration num -  149  Topics -  16  Alpha -  asymmetric  Beta -  0.91  Coherence -  0.5641894769437606\n",
      "Iteration num -  150  Topics -  16  Alpha -  asymmetric  Beta -  symmetric  Coherence -  0.5925054336671848\n",
      "Iteration num -  151  Topics -  18  Alpha -  0.01  Beta -  0.01  Coherence -  0.5686971417174154\n",
      "Iteration num -  152  Topics -  18  Alpha -  0.01  Beta -  0.31  Coherence -  0.5533417234237628\n",
      "Iteration num -  153  Topics -  18  Alpha -  0.01  Beta -  0.61  Coherence -  0.547678840119733\n",
      "Iteration num -  154  Topics -  18  Alpha -  0.01  Beta -  0.91  Coherence -  0.5454600593619968\n",
      "Iteration num -  155  Topics -  18  Alpha -  0.01  Beta -  symmetric  Coherence -  0.5603575798760434\n",
      "Iteration num -  156  Topics -  18  Alpha -  0.31  Beta -  0.01  Coherence -  0.5920995546711562\n",
      "Iteration num -  157  Topics -  18  Alpha -  0.31  Beta -  0.31  Coherence -  0.5540165391867165\n",
      "Iteration num -  158  Topics -  18  Alpha -  0.31  Beta -  0.61  Coherence -  0.5687966120952567\n",
      "Iteration num -  159  Topics -  18  Alpha -  0.31  Beta -  0.91  Coherence -  0.5686923855450504\n",
      "Iteration num -  160  Topics -  18  Alpha -  0.31  Beta -  symmetric  Coherence -  0.5704452993295722\n",
      "Iteration num -  161  Topics -  18  Alpha -  0.61  Beta -  0.01  Coherence -  0.603754678146491\n",
      "Iteration num -  162  Topics -  18  Alpha -  0.61  Beta -  0.31  Coherence -  0.5410440850835605\n",
      "Iteration num -  163  Topics -  18  Alpha -  0.61  Beta -  0.61  Coherence -  0.5512639502059188\n",
      "Iteration num -  164  Topics -  18  Alpha -  0.61  Beta -  0.91  Coherence -  0.584210111907284\n",
      "Iteration num -  165  Topics -  18  Alpha -  0.61  Beta -  symmetric  Coherence -  0.5742240633831305\n",
      "Iteration num -  166  Topics -  18  Alpha -  0.91  Beta -  0.01  Coherence -  0.5900197554734795\n",
      "Iteration num -  167  Topics -  18  Alpha -  0.91  Beta -  0.31  Coherence -  0.5915779932481812\n"
     ]
    },
    {
     "name": "stdout",
     "output_type": "stream",
     "text": [
      "Iteration num -  168  Topics -  18  Alpha -  0.91  Beta -  0.61  Coherence -  0.5833162892107535\n",
      "Iteration num -  169  Topics -  18  Alpha -  0.91  Beta -  0.91  Coherence -  0.5500170363464246\n",
      "Iteration num -  170  Topics -  18  Alpha -  0.91  Beta -  symmetric  Coherence -  0.5540928154098181\n",
      "Iteration num -  171  Topics -  18  Alpha -  symmetric  Beta -  0.01  Coherence -  0.586879573179676\n",
      "Iteration num -  172  Topics -  18  Alpha -  symmetric  Beta -  0.31  Coherence -  0.5448263234585574\n",
      "Iteration num -  173  Topics -  18  Alpha -  symmetric  Beta -  0.61  Coherence -  0.5832932039628065\n",
      "Iteration num -  174  Topics -  18  Alpha -  symmetric  Beta -  0.91  Coherence -  0.5559954163191567\n",
      "Iteration num -  175  Topics -  18  Alpha -  symmetric  Beta -  symmetric  Coherence -  0.564411434871246\n",
      "Iteration num -  176  Topics -  18  Alpha -  asymmetric  Beta -  0.01  Coherence -  0.5757430569132046\n",
      "Iteration num -  177  Topics -  18  Alpha -  asymmetric  Beta -  0.31  Coherence -  0.5531695954641411\n",
      "Iteration num -  178  Topics -  18  Alpha -  asymmetric  Beta -  0.61  Coherence -  0.5512728419233945\n",
      "Iteration num -  179  Topics -  18  Alpha -  asymmetric  Beta -  0.91  Coherence -  0.5799953439298047\n",
      "Iteration num -  180  Topics -  18  Alpha -  asymmetric  Beta -  symmetric  Coherence -  0.5600970318823121\n",
      "Iteration num -  181  Topics -  20  Alpha -  0.01  Beta -  0.01  Coherence -  0.5317545767845911\n",
      "Iteration num -  182  Topics -  20  Alpha -  0.01  Beta -  0.31  Coherence -  0.5361171430191664\n",
      "Iteration num -  183  Topics -  20  Alpha -  0.01  Beta -  0.61  Coherence -  0.5473115566224078\n",
      "Iteration num -  184  Topics -  20  Alpha -  0.01  Beta -  0.91  Coherence -  0.545311459316036\n",
      "Iteration num -  185  Topics -  20  Alpha -  0.01  Beta -  symmetric  Coherence -  0.5159766969734674\n",
      "Iteration num -  186  Topics -  20  Alpha -  0.31  Beta -  0.01  Coherence -  0.5808717418855586\n",
      "Iteration num -  187  Topics -  20  Alpha -  0.31  Beta -  0.31  Coherence -  0.5452699421464601\n",
      "Iteration num -  188  Topics -  20  Alpha -  0.31  Beta -  0.61  Coherence -  0.567953024354044\n",
      "Iteration num -  189  Topics -  20  Alpha -  0.31  Beta -  0.91  Coherence -  0.5464438435839674\n",
      "Iteration num -  190  Topics -  20  Alpha -  0.31  Beta -  symmetric  Coherence -  0.5673008054282012\n",
      "Iteration num -  191  Topics -  20  Alpha -  0.61  Beta -  0.01  Coherence -  0.6042289417409402\n",
      "Iteration num -  192  Topics -  20  Alpha -  0.61  Beta -  0.31  Coherence -  0.5382963280391294\n",
      "Iteration num -  193  Topics -  20  Alpha -  0.61  Beta -  0.61  Coherence -  0.5157383100855746\n",
      "Iteration num -  194  Topics -  20  Alpha -  0.61  Beta -  0.91  Coherence -  0.5830033256932593\n",
      "Iteration num -  195  Topics -  20  Alpha -  0.61  Beta -  symmetric  Coherence -  0.6027627212553882\n",
      "Iteration num -  196  Topics -  20  Alpha -  0.91  Beta -  0.01  Coherence -  0.6066555673421691\n",
      "Iteration num -  197  Topics -  20  Alpha -  0.91  Beta -  0.31  Coherence -  0.5719468025926784\n",
      "Iteration num -  198  Topics -  20  Alpha -  0.91  Beta -  0.61  Coherence -  0.5443678090608319\n",
      "Iteration num -  199  Topics -  20  Alpha -  0.91  Beta -  0.91  Coherence -  0.5295149332301285\n",
      "Iteration num -  200  Topics -  20  Alpha -  0.91  Beta -  symmetric  Coherence -  0.5803627309654293\n",
      "Iteration num -  201  Topics -  20  Alpha -  symmetric  Beta -  0.01  Coherence -  0.5717843786676532\n",
      "Iteration num -  202  Topics -  20  Alpha -  symmetric  Beta -  0.31  Coherence -  0.5199147614324287\n",
      "Iteration num -  203  Topics -  20  Alpha -  symmetric  Beta -  0.61  Coherence -  0.5397100709952382\n",
      "Iteration num -  204  Topics -  20  Alpha -  symmetric  Beta -  0.91  Coherence -  0.5531941963938294\n",
      "Iteration num -  205  Topics -  20  Alpha -  symmetric  Beta -  symmetric  Coherence -  0.5388000749604842\n",
      "Iteration num -  206  Topics -  20  Alpha -  asymmetric  Beta -  0.01  Coherence -  0.5683485868417721\n",
      "Iteration num -  207  Topics -  20  Alpha -  asymmetric  Beta -  0.31  Coherence -  0.4998080271816582\n",
      "Iteration num -  208  Topics -  20  Alpha -  asymmetric  Beta -  0.61  Coherence -  0.5257266752640176\n",
      "Iteration num -  209  Topics -  20  Alpha -  asymmetric  Beta -  0.91  Coherence -  0.5543914675717608\n",
      "Iteration num -  210  Topics -  20  Alpha -  asymmetric  Beta -  symmetric  Coherence -  0.5728813459654485\n",
      "Iteration num -  211  Topics -  22  Alpha -  0.01  Beta -  0.01  Coherence -  0.55595995874342\n",
      "Iteration num -  212  Topics -  22  Alpha -  0.01  Beta -  0.31  Coherence -  0.5768516133299814\n",
      "Iteration num -  213  Topics -  22  Alpha -  0.01  Beta -  0.61  Coherence -  0.5639663186582221\n",
      "Iteration num -  214  Topics -  22  Alpha -  0.01  Beta -  0.91  Coherence -  0.5544503779736624\n",
      "Iteration num -  215  Topics -  22  Alpha -  0.01  Beta -  symmetric  Coherence -  0.5762905729349538\n",
      "Iteration num -  216  Topics -  22  Alpha -  0.31  Beta -  0.01  Coherence -  0.5951966239164704\n",
      "Iteration num -  217  Topics -  22  Alpha -  0.31  Beta -  0.31  Coherence -  0.5612648454228977\n",
      "Iteration num -  218  Topics -  22  Alpha -  0.31  Beta -  0.61  Coherence -  0.5470150827775009\n",
      "Iteration num -  219  Topics -  22  Alpha -  0.31  Beta -  0.91  Coherence -  0.5479772038244316\n",
      "Iteration num -  220  Topics -  22  Alpha -  0.31  Beta -  symmetric  Coherence -  0.5869039670071639\n",
      "Iteration num -  221  Topics -  22  Alpha -  0.61  Beta -  0.01  Coherence -  0.5796511372940011\n",
      "Iteration num -  222  Topics -  22  Alpha -  0.61  Beta -  0.31  Coherence -  0.5370368298247039\n",
      "Iteration num -  223  Topics -  22  Alpha -  0.61  Beta -  0.61  Coherence -  0.5145067143214441\n",
      "Iteration num -  224  Topics -  22  Alpha -  0.61  Beta -  0.91  Coherence -  0.5712232585880946\n",
      "Iteration num -  225  Topics -  22  Alpha -  0.61  Beta -  symmetric  Coherence -  0.5854110161250125\n",
      "Iteration num -  226  Topics -  22  Alpha -  0.91  Beta -  0.01  Coherence -  0.6180625960244669\n",
      "Iteration num -  227  Topics -  22  Alpha -  0.91  Beta -  0.31  Coherence -  0.5375287299955915\n",
      "Iteration num -  228  Topics -  22  Alpha -  0.91  Beta -  0.61  Coherence -  0.5302241828830409\n",
      "Iteration num -  229  Topics -  22  Alpha -  0.91  Beta -  0.91  Coherence -  0.5411814319812529\n",
      "Iteration num -  230  Topics -  22  Alpha -  0.91  Beta -  symmetric  Coherence -  0.5992050070472792\n",
      "Iteration num -  231  Topics -  22  Alpha -  symmetric  Beta -  0.01  Coherence -  0.5778015721547486\n",
      "Iteration num -  232  Topics -  22  Alpha -  symmetric  Beta -  0.31  Coherence -  0.5478578721984042\n",
      "Iteration num -  233  Topics -  22  Alpha -  symmetric  Beta -  0.61  Coherence -  0.5364499984432417\n",
      "Iteration num -  234  Topics -  22  Alpha -  symmetric  Beta -  0.91  Coherence -  0.5655580991801223\n",
      "Iteration num -  235  Topics -  22  Alpha -  symmetric  Beta -  symmetric  Coherence -  0.5566871155959171\n",
      "Iteration num -  236  Topics -  22  Alpha -  asymmetric  Beta -  0.01  Coherence -  0.5609687384003083\n",
      "Iteration num -  237  Topics -  22  Alpha -  asymmetric  Beta -  0.31  Coherence -  0.5203165976913037\n",
      "Iteration num -  238  Topics -  22  Alpha -  asymmetric  Beta -  0.61  Coherence -  0.5123200482876841\n",
      "Iteration num -  239  Topics -  22  Alpha -  asymmetric  Beta -  0.91  Coherence -  0.5433204720603104\n",
      "Iteration num -  240  Topics -  22  Alpha -  asymmetric  Beta -  symmetric  Coherence -  0.5633578291970717\n",
      "Iteration num -  241  Topics -  24  Alpha -  0.01  Beta -  0.01  Coherence -  0.5727369572667407\n",
      "Iteration num -  242  Topics -  24  Alpha -  0.01  Beta -  0.31  Coherence -  0.5362370868404825\n",
      "Iteration num -  243  Topics -  24  Alpha -  0.01  Beta -  0.61  Coherence -  0.5368761253227322\n",
      "Iteration num -  244  Topics -  24  Alpha -  0.01  Beta -  0.91  Coherence -  0.5199045639611904\n",
      "Iteration num -  245  Topics -  24  Alpha -  0.01  Beta -  symmetric  Coherence -  0.5972245708803082\n",
      "Iteration num -  246  Topics -  24  Alpha -  0.31  Beta -  0.01  Coherence -  0.5957363028201561\n",
      "Iteration num -  247  Topics -  24  Alpha -  0.31  Beta -  0.31  Coherence -  0.555814961818061\n",
      "Iteration num -  248  Topics -  24  Alpha -  0.31  Beta -  0.61  Coherence -  0.5596436259765324\n",
      "Iteration num -  249  Topics -  24  Alpha -  0.31  Beta -  0.91  Coherence -  0.5549543736964487\n",
      "Iteration num -  250  Topics -  24  Alpha -  0.31  Beta -  symmetric  Coherence -  0.5849113027148211\n"
     ]
    },
    {
     "name": "stdout",
     "output_type": "stream",
     "text": [
      "Iteration num -  251  Topics -  24  Alpha -  0.61  Beta -  0.01  Coherence -  0.5997828224457513\n",
      "Iteration num -  252  Topics -  24  Alpha -  0.61  Beta -  0.31  Coherence -  0.5322959487829201\n",
      "Iteration num -  253  Topics -  24  Alpha -  0.61  Beta -  0.61  Coherence -  0.5254782196820011\n",
      "Iteration num -  254  Topics -  24  Alpha -  0.61  Beta -  0.91  Coherence -  0.5832287575155045\n",
      "Iteration num -  255  Topics -  24  Alpha -  0.61  Beta -  symmetric  Coherence -  0.589076683235514\n",
      "Iteration num -  256  Topics -  24  Alpha -  0.91  Beta -  0.01  Coherence -  0.5724313663650896\n",
      "Iteration num -  257  Topics -  24  Alpha -  0.91  Beta -  0.31  Coherence -  0.5370023192353158\n",
      "Iteration num -  258  Topics -  24  Alpha -  0.91  Beta -  0.61  Coherence -  0.565227038874552\n",
      "Iteration num -  259  Topics -  24  Alpha -  0.91  Beta -  0.91  Coherence -  0.5510067298300347\n",
      "Iteration num -  260  Topics -  24  Alpha -  0.91  Beta -  symmetric  Coherence -  0.5644936685369782\n",
      "Iteration num -  261  Topics -  24  Alpha -  symmetric  Beta -  0.01  Coherence -  0.5968913203480094\n",
      "Iteration num -  262  Topics -  24  Alpha -  symmetric  Beta -  0.31  Coherence -  0.5345882665443722\n",
      "Iteration num -  263  Topics -  24  Alpha -  symmetric  Beta -  0.61  Coherence -  0.5371729553381361\n",
      "Iteration num -  264  Topics -  24  Alpha -  symmetric  Beta -  0.91  Coherence -  0.5320208116931666\n",
      "Iteration num -  265  Topics -  24  Alpha -  symmetric  Beta -  symmetric  Coherence -  0.5876165242520407\n",
      "Iteration num -  266  Topics -  24  Alpha -  asymmetric  Beta -  0.01  Coherence -  0.5759116923423361\n",
      "Iteration num -  267  Topics -  24  Alpha -  asymmetric  Beta -  0.31  Coherence -  0.5298733979227932\n",
      "Iteration num -  268  Topics -  24  Alpha -  asymmetric  Beta -  0.61  Coherence -  0.5320846859291112\n",
      "Iteration num -  269  Topics -  24  Alpha -  asymmetric  Beta -  0.91  Coherence -  0.5524522427958205\n",
      "Iteration num -  270  Topics -  24  Alpha -  asymmetric  Beta -  symmetric  Coherence -  0.5670825220882593\n"
     ]
    }
   ],
   "source": [
    "# LDA model and its corresponding Coherence Score\n",
    "def compute_coherence_values(bow_corpus, id2word, n, a, b):\n",
    "    lda_model = gensim.models.LdaMulticore(corpus=bow_corpus\n",
    "                                           ,id2word=id2word\n",
    "                                           ,num_topics=n\n",
    "                                           ,random_state=random_state\n",
    "                                           ,chunksize=chunksize\n",
    "                                           ,passes=10\n",
    "                                           ,alpha=a\n",
    "                                           ,eta=b)\n",
    "    coherence_model_lda = CoherenceModel(model=lda_model, texts=data_words, dictionary=id2word, coherence='c_v')\n",
    "    return coherence_model_lda.get_coherence()\n",
    "\n",
    "grid = {}\n",
    "grid['Validation_Set'] = {}\n",
    "\n",
    "# Topics range\n",
    "min_topics = 8\n",
    "max_topics = 25\n",
    "step_size = 2\n",
    "topics_range = range(min_topics, max_topics, step_size)\n",
    "\n",
    "# Alpha parameter\n",
    "alpha = [0.01, 0.31, 0.61, 0.91, 'symmetric', 'asymmetric']\n",
    "\n",
    "# Beta parameter\n",
    "beta = [0.01, 0.31, 0.61, 0.91, 'symmetric']\n",
    "\n",
    "model_results = {'Topics': []\n",
    "                 ,'Alpha': []\n",
    "                 ,'Beta': []\n",
    "                 ,'Coherence': []\n",
    "                }\n",
    "\n",
    "# iterate through number of topics\n",
    "iter = 0\n",
    "for k in topics_range:\n",
    "    # iterate through alpha values\n",
    "    for a in alpha:\n",
    "        # iterare through beta values\n",
    "        for b in beta:\n",
    "            iter += 1\n",
    "            # get the coherence score for the given parameters\n",
    "            cv = compute_coherence_values(bow_corpus=corpus\n",
    "                                          ,id2word=id2word\n",
    "                                          ,n=k\n",
    "                                          ,a=a\n",
    "                                          ,b=b)\n",
    "            # Save the model results\n",
    "            model_results['Topics'].append(k)\n",
    "            model_results['Alpha'].append(a)\n",
    "            model_results['Beta'].append(b)\n",
    "            model_results['Coherence'].append(cv)\n",
    "            print('Iteration num - ', iter, ' Topics - ', k, ' Alpha - ', a, ' Beta - ', b, ' Coherence - ', cv)\n",
    "\n",
    "pd.DataFrame(model_results).to_csv(file_model + '_lda_tuning_results.csv', index=False)"
   ]
  },
  {
   "cell_type": "code",
   "execution_count": 14,
   "metadata": {},
   "outputs": [
    {
     "name": "stderr",
     "output_type": "stream",
     "text": [
      "C:\\Users\\minio\\anaconda3\\envs\\tfm-py-37\\lib\\site-packages\\ipykernel\\ipkernel.py:287: DeprecationWarning: `should_run_async` will not call `transform_cell` automatically in the future. Please pass the result to `transformed_cell` argument and any exception that happen during thetransform in `preprocessing_exc_tuple` in IPython 7.17 and above.\n",
      "  and should_run_async(code)\n"
     ]
    },
    {
     "data": {
      "text/html": [
       "<div>\n",
       "<style scoped>\n",
       "    .dataframe tbody tr th:only-of-type {\n",
       "        vertical-align: middle;\n",
       "    }\n",
       "\n",
       "    .dataframe tbody tr th {\n",
       "        vertical-align: top;\n",
       "    }\n",
       "\n",
       "    .dataframe thead th {\n",
       "        text-align: right;\n",
       "    }\n",
       "</style>\n",
       "<table border=\"1\" class=\"dataframe\">\n",
       "  <thead>\n",
       "    <tr style=\"text-align: right;\">\n",
       "      <th></th>\n",
       "      <th>Topics</th>\n",
       "      <th>Alpha</th>\n",
       "      <th>Beta</th>\n",
       "      <th>Coherence</th>\n",
       "    </tr>\n",
       "  </thead>\n",
       "  <tbody>\n",
       "    <tr>\n",
       "      <th>28</th>\n",
       "      <td>8</td>\n",
       "      <td>asymmetric</td>\n",
       "      <td>0.91</td>\n",
       "      <td>0.685498</td>\n",
       "    </tr>\n",
       "    <tr>\n",
       "      <th>27</th>\n",
       "      <td>8</td>\n",
       "      <td>asymmetric</td>\n",
       "      <td>0.61</td>\n",
       "      <td>0.664021</td>\n",
       "    </tr>\n",
       "    <tr>\n",
       "      <th>26</th>\n",
       "      <td>8</td>\n",
       "      <td>asymmetric</td>\n",
       "      <td>0.31</td>\n",
       "      <td>0.654972</td>\n",
       "    </tr>\n",
       "    <tr>\n",
       "      <th>29</th>\n",
       "      <td>8</td>\n",
       "      <td>asymmetric</td>\n",
       "      <td>symmetric</td>\n",
       "      <td>0.654484</td>\n",
       "    </tr>\n",
       "    <tr>\n",
       "      <th>18</th>\n",
       "      <td>8</td>\n",
       "      <td>0.91</td>\n",
       "      <td>0.91</td>\n",
       "      <td>0.646223</td>\n",
       "    </tr>\n",
       "    <tr>\n",
       "      <th>...</th>\n",
       "      <td>...</td>\n",
       "      <td>...</td>\n",
       "      <td>...</td>\n",
       "      <td>...</td>\n",
       "    </tr>\n",
       "    <tr>\n",
       "      <th>184</th>\n",
       "      <td>20</td>\n",
       "      <td>0.01</td>\n",
       "      <td>symmetric</td>\n",
       "      <td>0.515977</td>\n",
       "    </tr>\n",
       "    <tr>\n",
       "      <th>192</th>\n",
       "      <td>20</td>\n",
       "      <td>0.61</td>\n",
       "      <td>0.61</td>\n",
       "      <td>0.515738</td>\n",
       "    </tr>\n",
       "    <tr>\n",
       "      <th>222</th>\n",
       "      <td>22</td>\n",
       "      <td>0.61</td>\n",
       "      <td>0.61</td>\n",
       "      <td>0.514507</td>\n",
       "    </tr>\n",
       "    <tr>\n",
       "      <th>237</th>\n",
       "      <td>22</td>\n",
       "      <td>asymmetric</td>\n",
       "      <td>0.61</td>\n",
       "      <td>0.512320</td>\n",
       "    </tr>\n",
       "    <tr>\n",
       "      <th>206</th>\n",
       "      <td>20</td>\n",
       "      <td>asymmetric</td>\n",
       "      <td>0.31</td>\n",
       "      <td>0.499808</td>\n",
       "    </tr>\n",
       "  </tbody>\n",
       "</table>\n",
       "<p>270 rows × 4 columns</p>\n",
       "</div>"
      ],
      "text/plain": [
       "     Topics       Alpha       Beta  Coherence\n",
       "28        8  asymmetric       0.91   0.685498\n",
       "27        8  asymmetric       0.61   0.664021\n",
       "26        8  asymmetric       0.31   0.654972\n",
       "29        8  asymmetric  symmetric   0.654484\n",
       "18        8        0.91       0.91   0.646223\n",
       "..      ...         ...        ...        ...\n",
       "184      20        0.01  symmetric   0.515977\n",
       "192      20        0.61       0.61   0.515738\n",
       "222      22        0.61       0.61   0.514507\n",
       "237      22  asymmetric       0.61   0.512320\n",
       "206      20  asymmetric       0.31   0.499808\n",
       "\n",
       "[270 rows x 4 columns]"
      ]
     },
     "execution_count": 14,
     "metadata": {},
     "output_type": "execute_result"
    }
   ],
   "source": [
    "pd.DataFrame(model_results).sort_values(by=['Coherence'], ascending=False)"
   ]
  },
  {
   "cell_type": "code",
   "execution_count": null,
   "metadata": {},
   "outputs": [],
   "source": []
  }
 ],
 "metadata": {
  "kernelspec": {
   "display_name": "Python 3",
   "language": "python",
   "name": "python3"
  },
  "language_info": {
   "codemirror_mode": {
    "name": "ipython",
    "version": 3
   },
   "file_extension": ".py",
   "mimetype": "text/x-python",
   "name": "python",
   "nbconvert_exporter": "python",
   "pygments_lexer": "ipython3",
   "version": "3.7.9"
  }
 },
 "nbformat": 4,
 "nbformat_minor": 4
}
