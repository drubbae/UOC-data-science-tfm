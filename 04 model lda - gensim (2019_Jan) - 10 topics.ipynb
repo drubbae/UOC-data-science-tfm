{
 "cells": [
  {
   "cell_type": "markdown",
   "metadata": {},
   "source": [
    "# <span style=\"color:blue\">LDA model (2019_Jan) - 10 topics</span>"
   ]
  },
  {
   "cell_type": "code",
   "execution_count": 1,
   "metadata": {},
   "outputs": [],
   "source": [
    "yyyy_MMM = '2019_Jan'"
   ]
  },
  {
   "cell_type": "markdown",
   "metadata": {},
   "source": [
    "### Load packages"
   ]
  },
  {
   "cell_type": "code",
   "execution_count": 2,
   "metadata": {},
   "outputs": [
    {
     "name": "stderr",
     "output_type": "stream",
     "text": [
      "C:\\Users\\minio\\anaconda3\\envs\\tfm-py-37\\lib\\site-packages\\botocore\\vendored\\requests\\packages\\urllib3\\_collections.py:1: DeprecationWarning: Using or importing the ABCs from 'collections' instead of from 'collections.abc' is deprecated since Python 3.3,and in 3.9 it will stop working\n",
      "  from collections import Mapping, MutableMapping\n",
      "C:\\Users\\minio\\anaconda3\\envs\\tfm-py-37\\lib\\site-packages\\botocore\\vendored\\requests\\packages\\urllib3\\_collections.py:1: DeprecationWarning: Using or importing the ABCs from 'collections' instead of from 'collections.abc' is deprecated since Python 3.3,and in 3.9 it will stop working\n",
      "  from collections import Mapping, MutableMapping\n",
      "C:\\Users\\minio\\anaconda3\\envs\\tfm-py-37\\lib\\site-packages\\scipy\\sparse\\sparsetools.py:21: DeprecationWarning: `scipy.sparse.sparsetools` is deprecated!\n",
      "scipy.sparse.sparsetools is a private module for scipy.sparse, and should not be used.\n",
      "  _deprecated()\n",
      "C:\\Users\\minio\\anaconda3\\envs\\tfm-py-37\\lib\\site-packages\\gensim\\models\\doc2vec.py:73: DeprecationWarning: Using or importing the ABCs from 'collections' instead of from 'collections.abc' is deprecated since Python 3.3,and in 3.9 it will stop working\n",
      "  from collections import namedtuple, defaultdict, Iterable\n",
      "[nltk_data] Downloading package stopwords to\n",
      "[nltk_data]     C:\\Users\\minio\\AppData\\Roaming\\nltk_data...\n",
      "[nltk_data]   Package stopwords is already up-to-date!\n",
      "[nltk_data] Downloading package averaged_perceptron_tagger to\n",
      "[nltk_data]     C:\\Users\\minio\\AppData\\Roaming\\nltk_data...\n",
      "[nltk_data]   Package averaged_perceptron_tagger is already up-to-\n",
      "[nltk_data]       date!\n"
     ]
    },
    {
     "data": {
      "text/plain": [
       "True"
      ]
     },
     "execution_count": 2,
     "metadata": {},
     "output_type": "execute_result"
    }
   ],
   "source": [
    "import csv, os, re, time\n",
    "import numpy as np\n",
    "from numpy import savetxt\n",
    "import pandas as  pd\n",
    "import matplotlib.pyplot as plt  \n",
    "import pyLDAvis\n",
    "import pyLDAvis.gensim\n",
    "import gensim\n",
    "import gensim.corpora as corpora\n",
    "from gensim.corpora.dictionary import Dictionary\n",
    "from gensim.models import CoherenceModel\n",
    "from gensim.test.utils import datapath\n",
    "from gensim.utils import simple_preprocess\n",
    "from pprint import pprint\n",
    "import nltk\n",
    "nltk.download('stopwords')\n",
    "nltk.download('averaged_perceptron_tagger')"
   ]
  },
  {
   "cell_type": "markdown",
   "metadata": {},
   "source": [
    "### Constants"
   ]
  },
  {
   "cell_type": "code",
   "execution_count": 3,
   "metadata": {},
   "outputs": [
    {
     "name": "stdout",
     "output_type": "stream",
     "text": [
      "D:\\master\\data science\\semestre 4\\M2.979 - tfm\\data\\bins\\doc\\2019_Jan\\2019_Jan_28_results.csv\n",
      "D:\\master\\data science\\semestre 4\\M2.979 - tfm\\data\\bins\\model\\2019_Jan\\model\n"
     ]
    },
    {
     "name": "stderr",
     "output_type": "stream",
     "text": [
      "C:\\Users\\minio\\anaconda3\\envs\\tfm-py-37\\lib\\site-packages\\ipykernel\\ipkernel.py:287: DeprecationWarning: `should_run_async` will not call `transform_cell` automatically in the future. Please pass the result to `transformed_cell` argument and any exception that happen during thetransform in `preprocessing_exc_tuple` in IPython 7.17 and above.\n",
      "  and should_run_async(code)\n"
     ]
    }
   ],
   "source": [
    "# for reproducible results\n",
    "random_state = 33\n",
    "# if the test is True, the process runs on a smaller subset of raw data (json files)\n",
    "test = False\n",
    "# if sample > 0, then we take a sample of the entire dataset (for debugging purpose)\n",
    "sample = 0\n",
    "# parameters to build the lda model\n",
    "num_topics = 10\n",
    "\n",
    "if test:\n",
    "    # path with the documents preprocessed\n",
    "    path_doc = r'D:\\master\\data science\\semestre 4\\M2.979 - tfm\\data\\bins_test\\doc'\n",
    "    # path where store all data/results related to the model\n",
    "    path_model = r'D:\\master\\data science\\semestre 4\\M2.979 - tfm\\data\\bins_test\\model'\n",
    "    # chunksize to build LDA model\n",
    "    chunksize = 250\n",
    "else:\n",
    "    # path with the documents preprocessed\n",
    "    path_doc = r'D:\\master\\data science\\semestre 4\\M2.979 - tfm\\data\\bins\\doc'\n",
    "    # path where store all data/results related to the model\n",
    "    path_model = r'D:\\master\\data science\\semestre 4\\M2.979 - tfm\\data\\bins\\model'\n",
    "    # chunksize to build LDA model\n",
    "    chunksize = 5000\n",
    "\n",
    "# path + name of the file that contains the documents preprocessed\n",
    "file_doc = os.path.join(path_doc, yyyy_MMM, yyyy_MMM) + '_28_results.csv'\n",
    "# path + name of the file that contains the model gotten at the end\n",
    "file_model = os.path.join(path_model, yyyy_MMM, 'model')\n",
    "print(file_doc)\n",
    "print(file_model)"
   ]
  },
  {
   "cell_type": "markdown",
   "metadata": {},
   "source": [
    "### Load data preprocessed"
   ]
  },
  {
   "cell_type": "code",
   "execution_count": 4,
   "metadata": {},
   "outputs": [
    {
     "name": "stderr",
     "output_type": "stream",
     "text": [
      "C:\\Users\\minio\\anaconda3\\envs\\tfm-py-37\\lib\\site-packages\\ipykernel\\ipkernel.py:287: DeprecationWarning: `should_run_async` will not call `transform_cell` automatically in the future. Please pass the result to `transformed_cell` argument and any exception that happen during thetransform in `preprocessing_exc_tuple` in IPython 7.17 and above.\n",
      "  and should_run_async(code)\n"
     ]
    },
    {
     "data": {
      "text/plain": [
       "id_doc\n",
       "2529915    ['work', 'william', 'georgia', 'handy', 'tool'...\n",
       "1673661    ['shark', 'tank', 'pitch', 'hour', 'real', 'li...\n",
       "2018189    ['friend', 'vikki', 'curl', 'leave', 'bristol'...\n",
       "2074255    ['bulgari', 'story', 'dream', 'exhibition', 'p...\n",
       "1954001    ['classic', 'stardust', 'bandeau', 'black', 'w...\n",
       "2978437    ['kimpton', 'interior', 'yummi', 'ness', 'inte...\n",
       "2227502    ['cheer', 'start', 'week', 'glad', 'boutin', '...\n",
       "2636161                            ['eat', 'case', 'hungry']\n",
       "1944684    ['tomorrow', 'thrill', 'attend', 'inaugural', ...\n",
       "3085418    ['night', 'glam', 'benefit', 'cosmetic', 'brow...\n",
       "Name: content_preprocessed, dtype: object"
      ]
     },
     "execution_count": 4,
     "metadata": {},
     "output_type": "execute_result"
    }
   ],
   "source": [
    "df = pd.read_csv(file_doc, index_col='id_doc')\n",
    "documents = df.content_preprocessed\n",
    "documents.head(10)"
   ]
  },
  {
   "cell_type": "markdown",
   "metadata": {},
   "source": [
    "### Shuffle"
   ]
  },
  {
   "cell_type": "code",
   "execution_count": 5,
   "metadata": {},
   "outputs": [
    {
     "name": "stderr",
     "output_type": "stream",
     "text": [
      "C:\\Users\\minio\\anaconda3\\envs\\tfm-py-37\\lib\\site-packages\\ipykernel\\ipkernel.py:287: DeprecationWarning: `should_run_async` will not call `transform_cell` automatically in the future. Please pass the result to `transformed_cell` argument and any exception that happen during thetransform in `preprocessing_exc_tuple` in IPython 7.17 and above.\n",
      "  and should_run_async(code)\n"
     ]
    },
    {
     "data": {
      "text/plain": [
       "id_doc\n",
       "2538294              ['definitely', 'effort', 'york', 'cow']\n",
       "3046304                 ['place', 'change', 'club', 'tasty']\n",
       "3085900    ['ridin', 'tractor', 'adder', 'music', 'vibe',...\n",
       "2514929    ['currently', 'head', 'best', 'josh', 'aves', ...\n",
       "2395245    ['vintage', 'black', 'white', 'number', 'atom'...\n",
       "2541752                 ['purest', 'thing', 'life', 'lucky']\n",
       "2337708    ['happiness', 'consists', 'living', 'life', 'v...\n",
       "1976747    ['life', 'angel', 'love', 'story', 'touch', 'w...\n",
       "1621121    ['today', 'para', 'design', 'landmark', 'equit...\n",
       "2124200    ['love', 'victoria', 'exceptionally', 'intelli...\n",
       "Name: content_preprocessed, dtype: object"
      ]
     },
     "execution_count": 5,
     "metadata": {},
     "output_type": "execute_result"
    }
   ],
   "source": [
    "documents = documents.sample(frac=1, random_state=random_state)\n",
    "documents.head(10)"
   ]
  },
  {
   "cell_type": "markdown",
   "metadata": {},
   "source": [
    "### Sample"
   ]
  },
  {
   "cell_type": "code",
   "execution_count": 6,
   "metadata": {},
   "outputs": [
    {
     "name": "stderr",
     "output_type": "stream",
     "text": [
      "C:\\Users\\minio\\anaconda3\\envs\\tfm-py-37\\lib\\site-packages\\ipykernel\\ipkernel.py:287: DeprecationWarning: `should_run_async` will not call `transform_cell` automatically in the future. Please pass the result to `transformed_cell` argument and any exception that happen during thetransform in `preprocessing_exc_tuple` in IPython 7.17 and above.\n",
      "  and should_run_async(code)\n"
     ]
    }
   ],
   "source": [
    "if sample > 0:\n",
    "    documents = documents.sample(n=sample, random_state=random_state)\n",
    "    print(documents.head(10))"
   ]
  },
  {
   "cell_type": "markdown",
   "metadata": {},
   "source": [
    "### Plot the number of words appearing in each document  \n",
    "\n",
    "https://neptune.ai/blog/exploratory-data-analysis-natural-language-processing-tools"
   ]
  },
  {
   "cell_type": "code",
   "execution_count": 7,
   "metadata": {},
   "outputs": [
    {
     "name": "stderr",
     "output_type": "stream",
     "text": [
      "C:\\Users\\minio\\anaconda3\\envs\\tfm-py-37\\lib\\site-packages\\ipykernel\\ipkernel.py:287: DeprecationWarning: `should_run_async` will not call `transform_cell` automatically in the future. Please pass the result to `transformed_cell` argument and any exception that happen during thetransform in `preprocessing_exc_tuple` in IPython 7.17 and above.\n",
      "  and should_run_async(code)\n"
     ]
    },
    {
     "name": "stdout",
     "output_type": "stream",
     "text": [
      "(88097,)\n"
     ]
    },
    {
     "data": {
      "text/plain": [
       "<AxesSubplot:>"
      ]
     },
     "execution_count": 7,
     "metadata": {},
     "output_type": "execute_result"
    },
    {
     "data": {
      "image/png": "[encoded data removed]",
      "text/plain": [
       "<Figure size 432x288 with 1 Axes>"
      ]
     },
     "metadata": {
      "needs_background": "light"
     },
     "output_type": "display_data"
    }
   ],
   "source": [
    "print(documents.shape)\n",
    "\n",
    "documents.str.split().\\\n",
    "    map(lambda x: len(x)).\\\n",
    "    hist()"
   ]
  },
  {
   "cell_type": "markdown",
   "metadata": {},
   "source": [
    "### Remove words that appear only once"
   ]
  },
  {
   "cell_type": "code",
   "execution_count": 8,
   "metadata": {},
   "outputs": [
    {
     "name": "stderr",
     "output_type": "stream",
     "text": [
      "C:\\Users\\minio\\anaconda3\\envs\\tfm-py-37\\lib\\site-packages\\ipykernel\\ipkernel.py:287: DeprecationWarning: `should_run_async` will not call `transform_cell` automatically in the future. Please pass the result to `transformed_cell` argument and any exception that happen during thetransform in `preprocessing_exc_tuple` in IPython 7.17 and above.\n",
      "  and should_run_async(code)\n"
     ]
    }
   ],
   "source": [
    "####################### PENDING"
   ]
  },
  {
   "cell_type": "markdown",
   "metadata": {},
   "source": [
    "### Tokenize words and Clean-up text"
   ]
  },
  {
   "cell_type": "code",
   "execution_count": 9,
   "metadata": {},
   "outputs": [
    {
     "name": "stderr",
     "output_type": "stream",
     "text": [
      "C:\\Users\\minio\\anaconda3\\envs\\tfm-py-37\\lib\\site-packages\\ipykernel\\ipkernel.py:287: DeprecationWarning: `should_run_async` will not call `transform_cell` automatically in the future. Please pass the result to `transformed_cell` argument and any exception that happen during thetransform in `preprocessing_exc_tuple` in IPython 7.17 and above.\n",
      "  and should_run_async(code)\n"
     ]
    }
   ],
   "source": [
    "# https://www.machinelearningplus.com/nlp/topic-modeling-gensim-python/#3importpackages\n",
    "def sent_to_words(sentences):\n",
    "    for sentence in sentences:\n",
    "        yield(gensim.utils.simple_preprocess(str(sentence), deacc=True))  # deacc=True removes punctuations"
   ]
  },
  {
   "cell_type": "markdown",
   "metadata": {},
   "source": [
    "### Compute bigrams & trigrams  \n",
    "\n",
    "https://radimrehurek.com/gensim/auto_examples/tutorials/run_lda.html#pre-process-and-vectorize-the-documents"
   ]
  },
  {
   "cell_type": "code",
   "execution_count": 10,
   "metadata": {},
   "outputs": [
    {
     "name": "stderr",
     "output_type": "stream",
     "text": [
      "C:\\Users\\minio\\anaconda3\\envs\\tfm-py-37\\lib\\site-packages\\ipykernel\\ipkernel.py:287: DeprecationWarning: `should_run_async` will not call `transform_cell` automatically in the future. Please pass the result to `transformed_cell` argument and any exception that happen during thetransform in `preprocessing_exc_tuple` in IPython 7.17 and above.\n",
      "  and should_run_async(code)\n"
     ]
    }
   ],
   "source": [
    "from gensim.models import Phrases\n",
    "\n",
    "# Add bigrams and trigrams to docs (only ones that appear min_count times or more).\n",
    "def bi_tri_grams(documents, min_count):\n",
    "    bigram = Phrases(documents, min_count=min_count)\n",
    "    for idx in range(len(documents)):\n",
    "        for token in bigram[documents[idx]]:\n",
    "            if '_' in token:\n",
    "                # Token is a bigram, add to document.\n",
    "                documents[idx].append(token)"
   ]
  },
  {
   "cell_type": "markdown",
   "metadata": {},
   "source": [
    "### Categorizing and tagging words"
   ]
  },
  {
   "cell_type": "code",
   "execution_count": 11,
   "metadata": {},
   "outputs": [
    {
     "name": "stderr",
     "output_type": "stream",
     "text": [
      "C:\\Users\\minio\\anaconda3\\envs\\tfm-py-37\\lib\\site-packages\\ipykernel\\ipkernel.py:287: DeprecationWarning: `should_run_async` will not call `transform_cell` automatically in the future. Please pass the result to `transformed_cell` argument and any exception that happen during thetransform in `preprocessing_exc_tuple` in IPython 7.17 and above.\n",
      "  and should_run_async(code)\n"
     ]
    }
   ],
   "source": [
    "# function to remove accented characters\n",
    "def tag_words(text):\n",
    "    tags = nltk.pos_tag(text)\n",
    "    nouns = [word for word, pos in tags if (pos == 'NN' or pos == 'NNP' or pos == 'NNS' or pos == 'NNPS')]\n",
    "    return nouns"
   ]
  },
  {
   "cell_type": "markdown",
   "metadata": {},
   "source": [
    "### Dictionary with the entire dataset"
   ]
  },
  {
   "cell_type": "code",
   "execution_count": 12,
   "metadata": {},
   "outputs": [
    {
     "name": "stderr",
     "output_type": "stream",
     "text": [
      "C:\\Users\\minio\\anaconda3\\envs\\tfm-py-37\\lib\\site-packages\\ipykernel\\ipkernel.py:287: DeprecationWarning: `should_run_async` will not call `transform_cell` automatically in the future. Please pass the result to `transformed_cell` argument and any exception that happen during thetransform in `preprocessing_exc_tuple` in IPython 7.17 and above.\n",
      "  and should_run_async(code)\n"
     ]
    }
   ],
   "source": [
    "data_words = list(sent_to_words(documents))\n",
    "# Compute bigrams & trigrams\n",
    "bi_tri_grams(data_words, 250)\n",
    "# Categorizing and tagging words\n",
    "data_words = list(map(tag_words, data_words))\n",
    "# Create Dictionary\n",
    "id2word = Dictionary(data_words)\n",
    "# Create Corpus\n",
    "texts = data_words\n",
    "# Term Document Frequency\n",
    "corpus_total = [id2word.doc2bow(text) for text in texts]"
   ]
  },
  {
   "cell_type": "markdown",
   "metadata": {},
   "source": [
    "### Save document-term matrix"
   ]
  },
  {
   "cell_type": "code",
   "execution_count": 13,
   "metadata": {},
   "outputs": [
    {
     "name": "stderr",
     "output_type": "stream",
     "text": [
      "C:\\Users\\minio\\anaconda3\\envs\\tfm-py-37\\lib\\site-packages\\ipykernel\\ipkernel.py:287: DeprecationWarning: `should_run_async` will not call `transform_cell` automatically in the future. Please pass the result to `transformed_cell` argument and any exception that happen during thetransform in `preprocessing_exc_tuple` in IPython 7.17 and above.\n",
      "  and should_run_async(code)\n",
      "C:\\Users\\minio\\anaconda3\\envs\\tfm-py-37\\lib\\site-packages\\numpy\\core\\_asarray.py:83: VisibleDeprecationWarning: Creating an ndarray from ragged nested sequences (which is a list-or-tuple of lists-or-tuples-or ndarrays with different lengths or shapes) is deprecated. If you meant to do this, you must specify 'dtype=object' when creating the ndarray\n",
      "  return array(a, dtype, copy=False, order=order)\n"
     ]
    }
   ],
   "source": [
    "# save document-term matrix\n",
    "savetxt(file_model + '_document_term_matrix.csv', corpus_total, delimiter=',', fmt='% s')"
   ]
  },
  {
   "cell_type": "markdown",
   "metadata": {},
   "source": [
    "### Build LDA model"
   ]
  },
  {
   "cell_type": "code",
   "execution_count": 14,
   "metadata": {},
   "outputs": [
    {
     "name": "stderr",
     "output_type": "stream",
     "text": [
      "C:\\Users\\minio\\anaconda3\\envs\\tfm-py-37\\lib\\site-packages\\ipykernel\\ipkernel.py:287: DeprecationWarning: `should_run_async` will not call `transform_cell` automatically in the future. Please pass the result to `transformed_cell` argument and any exception that happen during thetransform in `preprocessing_exc_tuple` in IPython 7.17 and above.\n",
      "  and should_run_async(code)\n"
     ]
    },
    {
     "name": "stdout",
     "output_type": "stream",
     "text": [
      "time elapsed - 00:00:34.06\n"
     ]
    }
   ],
   "source": [
    "perplexity_score = []\n",
    "coherence_score = []\n",
    "indixes = []\n",
    "\n",
    "index = 0\n",
    "chunk_size = 250\n",
    "documents_sample = documents[index:chunk_size-1]\n",
    "\n",
    "time_start = time.time()\n",
    "\n",
    "data_words = list(sent_to_words(documents_sample))\n",
    "# Compute bigrams & trigrams\n",
    "bi_tri_grams(data_words, 250)\n",
    "# Categorizing and tagging words\n",
    "data_words = list(map(tag_words, data_words))\n",
    "# # Create Dictionary\n",
    "# id2word = Dictionary(data_words)\n",
    "# Create Corpus\n",
    "texts = data_words\n",
    "# Term Document Frequency\n",
    "corpus = [id2word.doc2bow(text) for text in texts]\n",
    "# Build LDA Model\n",
    "lda_model = gensim.models.LdaMulticore(corpus=corpus\n",
    "                                       ,id2word=id2word\n",
    "                                       ,num_topics=num_topics\n",
    "                                       ,random_state=random_state\n",
    "                                       ,chunksize=chunksize\n",
    "                                       ,passes=50\n",
    "                                       ,per_word_topics=True)\n",
    "\n",
    "indixes.append(index)\n",
    "\n",
    "# Evaluate LDA Model\n",
    "# Compute Perplexity Score\n",
    "perplexity = lda_model.log_perplexity(corpus)\n",
    "perplexity_score.append(perplexity)\n",
    "\n",
    "# Evaluate LDA Model\n",
    "# Compute Coherence Score\n",
    "coherence_lda_model = CoherenceModel(model=lda_model, texts=data_words, dictionary=id2word, coherence='c_v')\n",
    "coherence = coherence_lda_model.get_coherence()\n",
    "coherence_score.append(coherence)\n",
    "\n",
    "# Save LDA Model\n",
    "temp_file = datapath(file_model)\n",
    "lda_model.save(temp_file)\n",
    "temp_file = datapath(file_model + '_' + str(index).zfill(5))\n",
    "lda_model.save(temp_file)\n",
    "\n",
    "time_end = time.time()\n",
    "hour, rem = divmod(time_end - time_start, 3600)\n",
    "minute, second = divmod(rem, 60)\n",
    "print('time elapsed - {:0>2}:{:0>2}:{:05.2f}'.format(int(hour), int(minute), second))"
   ]
  },
  {
   "cell_type": "markdown",
   "metadata": {},
   "source": [
    "### Incremental learning"
   ]
  },
  {
   "cell_type": "code",
   "execution_count": 15,
   "metadata": {},
   "outputs": [
    {
     "name": "stdout",
     "output_type": "stream",
     "text": [
      "0  -----  250  -----  499\n"
     ]
    },
    {
     "name": "stderr",
     "output_type": "stream",
     "text": [
      "C:\\Users\\minio\\anaconda3\\envs\\tfm-py-37\\lib\\site-packages\\ipykernel\\ipkernel.py:287: DeprecationWarning: `should_run_async` will not call `transform_cell` automatically in the future. Please pass the result to `transformed_cell` argument and any exception that happen during thetransform in `preprocessing_exc_tuple` in IPython 7.17 and above.\n",
      "  and should_run_async(code)\n"
     ]
    },
    {
     "name": "stdout",
     "output_type": "stream",
     "text": [
      "time elapsed - 00:00:32.15\n",
      "1  -----  500  -----  749\n",
      "time elapsed - 00:00:34.31\n",
      "2  -----  750  -----  999\n",
      "time elapsed - 00:00:34.67\n",
      "3  -----  1000  -----  1249\n",
      "time elapsed - 00:00:37.64\n",
      "4  -----  1250  -----  1499\n",
      "time elapsed - 00:00:37.27\n",
      "5  -----  1500  -----  1749\n",
      "time elapsed - 00:00:42.16\n",
      "6  -----  1750  -----  1999\n",
      "time elapsed - 00:00:40.64\n",
      "7  -----  2000  -----  2249\n",
      "time elapsed - 00:00:41.52\n",
      "8  -----  2250  -----  2499\n"
     ]
    },
    {
     "name": "stderr",
     "output_type": "stream",
     "text": [
      "C:\\Users\\minio\\anaconda3\\envs\\tfm-py-37\\lib\\site-packages\\gensim\\topic_coherence\\direct_confirmation_measure.py:204: RuntimeWarning: divide by zero encountered in double_scalars\n",
      "  m_lr_i = np.log(numerator / denominator)\n",
      "C:\\Users\\minio\\anaconda3\\envs\\tfm-py-37\\lib\\site-packages\\gensim\\topic_coherence\\indirect_confirmation_measure.py:323: RuntimeWarning: invalid value encountered in double_scalars\n",
      "  return cv1.T.dot(cv2)[0, 0] / (_magnitude(cv1) * _magnitude(cv2))\n"
     ]
    },
    {
     "name": "stdout",
     "output_type": "stream",
     "text": [
      "time elapsed - 00:00:38.99\n",
      "9  -----  2500  -----  2749\n",
      "time elapsed - 00:00:39.12\n",
      "10  -----  2750  -----  2999\n",
      "time elapsed - 00:00:40.04\n",
      "11  -----  3000  -----  3249\n",
      "time elapsed - 00:00:38.27\n",
      "12  -----  3250  -----  3499\n",
      "time elapsed - 00:00:37.50\n",
      "13  -----  3500  -----  3749\n",
      "time elapsed - 00:00:40.33\n",
      "14  -----  3750  -----  3999\n",
      "time elapsed - 00:00:38.91\n",
      "15  -----  4000  -----  4249\n",
      "time elapsed - 00:00:36.44\n",
      "16  -----  4250  -----  4499\n",
      "time elapsed - 00:00:38.44\n",
      "17  -----  4500  -----  4749\n",
      "time elapsed - 00:00:39.06\n",
      "18  -----  4750  -----  4999\n",
      "time elapsed - 00:00:40.68\n",
      "19  -----  5000  -----  5249\n",
      "time elapsed - 00:00:38.63\n",
      "20  -----  5250  -----  5499\n",
      "time elapsed - 00:00:40.70\n",
      "21  -----  5500  -----  5749\n",
      "time elapsed - 00:00:40.95\n",
      "22  -----  5750  -----  5999\n",
      "time elapsed - 00:00:38.45\n",
      "23  -----  6000  -----  6249\n",
      "time elapsed - 00:00:39.76\n",
      "24  -----  6250  -----  6499\n",
      "time elapsed - 00:00:36.97\n",
      "25  -----  6500  -----  6749\n",
      "time elapsed - 00:00:38.43\n",
      "26  -----  6750  -----  6999\n",
      "time elapsed - 00:00:38.19\n",
      "27  -----  7000  -----  7249\n",
      "time elapsed - 00:00:36.68\n",
      "28  -----  7250  -----  7499\n",
      "time elapsed - 00:00:39.42\n",
      "29  -----  7500  -----  7749\n",
      "time elapsed - 00:00:39.19\n",
      "30  -----  7750  -----  7999\n",
      "time elapsed - 00:00:42.21\n",
      "31  -----  8000  -----  8249\n",
      "time elapsed - 00:00:44.17\n",
      "32  -----  8250  -----  8499\n",
      "time elapsed - 00:00:39.12\n",
      "33  -----  8500  -----  8749\n",
      "time elapsed - 00:00:39.08\n",
      "34  -----  8750  -----  8999\n",
      "time elapsed - 00:00:40.91\n",
      "35  -----  9000  -----  9249\n",
      "time elapsed - 00:00:36.73\n",
      "36  -----  9250  -----  9499\n",
      "time elapsed - 00:00:35.78\n",
      "37  -----  9500  -----  9749\n",
      "time elapsed - 00:00:38.65\n",
      "38  -----  9750  -----  9999\n",
      "time elapsed - 00:00:39.40\n",
      "39  -----  10000  -----  10249\n",
      "time elapsed - 00:00:37.36\n",
      "40  -----  10250  -----  10499\n",
      "time elapsed - 00:00:38.30\n",
      "41  -----  10500  -----  10749\n",
      "time elapsed - 00:00:39.02\n",
      "42  -----  10750  -----  10999\n",
      "time elapsed - 00:00:39.41\n",
      "43  -----  11000  -----  11249\n",
      "time elapsed - 00:00:42.68\n",
      "44  -----  11250  -----  11499\n",
      "time elapsed - 00:00:39.82\n",
      "45  -----  11500  -----  11749\n",
      "time elapsed - 00:00:40.61\n",
      "46  -----  11750  -----  11999\n",
      "time elapsed - 00:00:39.87\n",
      "47  -----  12000  -----  12249\n",
      "time elapsed - 00:00:40.30\n",
      "48  -----  12250  -----  12499\n",
      "time elapsed - 00:00:39.55\n",
      "49  -----  12500  -----  12749\n",
      "time elapsed - 00:00:40.62\n",
      "50  -----  12750  -----  12999\n",
      "time elapsed - 00:00:40.14\n",
      "51  -----  13000  -----  13249\n",
      "time elapsed - 00:00:37.37\n",
      "52  -----  13250  -----  13499\n",
      "time elapsed - 00:00:38.44\n",
      "53  -----  13500  -----  13749\n",
      "time elapsed - 00:00:41.13\n",
      "54  -----  13750  -----  13999\n",
      "time elapsed - 00:00:37.87\n",
      "55  -----  14000  -----  14249\n",
      "time elapsed - 00:00:39.55\n",
      "56  -----  14250  -----  14499\n",
      "time elapsed - 00:00:40.07\n",
      "57  -----  14500  -----  14749\n",
      "time elapsed - 00:00:39.04\n",
      "58  -----  14750  -----  14999\n",
      "time elapsed - 00:00:37.47\n",
      "59  -----  15000  -----  15249\n",
      "time elapsed - 00:00:39.04\n",
      "60  -----  15250  -----  15499\n",
      "time elapsed - 00:00:39.74\n",
      "61  -----  15500  -----  15749\n",
      "time elapsed - 00:00:36.97\n",
      "62  -----  15750  -----  15999\n",
      "time elapsed - 00:00:37.31\n",
      "63  -----  16000  -----  16249\n",
      "time elapsed - 00:00:37.72\n",
      "64  -----  16250  -----  16499\n",
      "time elapsed - 00:00:37.09\n",
      "65  -----  16500  -----  16749\n",
      "time elapsed - 00:00:38.15\n",
      "66  -----  16750  -----  16999\n",
      "time elapsed - 00:00:39.38\n",
      "67  -----  17000  -----  17249\n",
      "time elapsed - 00:00:39.16\n",
      "68  -----  17250  -----  17499\n",
      "time elapsed - 00:00:39.34\n",
      "69  -----  17500  -----  17749\n",
      "time elapsed - 00:00:37.05\n",
      "70  -----  17750  -----  17999\n",
      "time elapsed - 00:00:41.84\n",
      "71  -----  18000  -----  18249\n",
      "time elapsed - 00:00:37.75\n",
      "72  -----  18250  -----  18499\n",
      "time elapsed - 00:00:40.88\n",
      "73  -----  18500  -----  18749\n",
      "time elapsed - 00:00:36.60\n",
      "74  -----  18750  -----  18999\n",
      "time elapsed - 00:00:36.33\n",
      "75  -----  19000  -----  19249\n",
      "time elapsed - 00:00:39.76\n",
      "76  -----  19250  -----  19499\n",
      "time elapsed - 00:00:39.77\n",
      "77  -----  19500  -----  19749\n",
      "time elapsed - 00:00:40.90\n",
      "78  -----  19750  -----  19999\n",
      "time elapsed - 00:00:41.09\n",
      "79  -----  20000  -----  20249\n",
      "time elapsed - 00:00:40.61\n",
      "80  -----  20250  -----  20499\n",
      "time elapsed - 00:00:37.46\n",
      "81  -----  20500  -----  20749\n",
      "time elapsed - 00:00:37.96\n",
      "82  -----  20750  -----  20999\n",
      "time elapsed - 00:00:37.27\n",
      "83  -----  21000  -----  21249\n",
      "time elapsed - 00:00:37.82\n",
      "84  -----  21250  -----  21499\n",
      "time elapsed - 00:00:39.23\n",
      "85  -----  21500  -----  21749\n",
      "time elapsed - 00:00:37.82\n",
      "86  -----  21750  -----  21999\n",
      "time elapsed - 00:00:37.09\n",
      "87  -----  22000  -----  22249\n",
      "time elapsed - 00:00:38.98\n",
      "88  -----  22250  -----  22499\n",
      "time elapsed - 00:00:38.26\n",
      "89  -----  22500  -----  22749\n",
      "time elapsed - 00:00:39.25\n",
      "90  -----  22750  -----  22999\n",
      "time elapsed - 00:00:39.14\n",
      "91  -----  23000  -----  23249\n",
      "time elapsed - 00:00:41.13\n",
      "92  -----  23250  -----  23499\n",
      "time elapsed - 00:00:39.21\n",
      "93  -----  23500  -----  23749\n",
      "time elapsed - 00:00:38.93\n",
      "94  -----  23750  -----  23999\n",
      "time elapsed - 00:00:42.00\n",
      "95  -----  24000  -----  24249\n",
      "time elapsed - 00:00:40.79\n",
      "96  -----  24250  -----  24499\n",
      "time elapsed - 00:00:38.93\n",
      "97  -----  24500  -----  24749\n",
      "time elapsed - 00:00:39.41\n",
      "98  -----  24750  -----  24999\n",
      "time elapsed - 00:00:38.72\n",
      "99  -----  25000  -----  25249\n",
      "time elapsed - 00:00:38.52\n",
      "100  -----  25250  -----  25499\n",
      "time elapsed - 00:00:40.38\n",
      "101  -----  25500  -----  25749\n",
      "time elapsed - 00:00:35.69\n",
      "102  -----  25750  -----  25999\n",
      "time elapsed - 00:00:40.53\n",
      "103  -----  26000  -----  26249\n",
      "time elapsed - 00:00:37.43\n",
      "104  -----  26250  -----  26499\n",
      "time elapsed - 00:00:38.11\n",
      "105  -----  26500  -----  26749\n",
      "time elapsed - 00:00:37.48\n",
      "106  -----  26750  -----  26999\n",
      "time elapsed - 00:00:36.58\n",
      "107  -----  27000  -----  27249\n",
      "time elapsed - 00:00:38.31\n",
      "108  -----  27250  -----  27499\n",
      "time elapsed - 00:00:38.31\n",
      "109  -----  27500  -----  27749\n",
      "time elapsed - 00:00:37.64\n",
      "110  -----  27750  -----  27999\n",
      "time elapsed - 00:00:38.30\n",
      "111  -----  28000  -----  28249\n",
      "time elapsed - 00:00:39.17\n",
      "112  -----  28250  -----  28499\n",
      "time elapsed - 00:00:40.86\n",
      "113  -----  28500  -----  28749\n",
      "time elapsed - 00:00:40.04\n",
      "114  -----  28750  -----  28999\n",
      "time elapsed - 00:00:39.51\n",
      "115  -----  29000  -----  29249\n",
      "time elapsed - 00:00:37.21\n",
      "116  -----  29250  -----  29499\n",
      "time elapsed - 00:00:39.49\n",
      "117  -----  29500  -----  29749\n",
      "time elapsed - 00:00:41.28\n",
      "118  -----  29750  -----  29999\n",
      "time elapsed - 00:00:37.92\n",
      "119  -----  30000  -----  30249\n",
      "time elapsed - 00:00:35.19\n",
      "120  -----  30250  -----  30499\n",
      "time elapsed - 00:00:37.29\n",
      "121  -----  30500  -----  30749\n",
      "time elapsed - 00:00:36.59\n",
      "122  -----  30750  -----  30999\n",
      "time elapsed - 00:00:37.14\n",
      "123  -----  31000  -----  31249\n",
      "time elapsed - 00:00:36.98\n",
      "124  -----  31250  -----  31499\n",
      "time elapsed - 00:00:37.26\n",
      "125  -----  31500  -----  31749\n",
      "time elapsed - 00:00:36.41\n",
      "126  -----  31750  -----  31999\n",
      "time elapsed - 00:00:36.49\n",
      "127  -----  32000  -----  32249\n",
      "time elapsed - 00:00:36.56\n",
      "128  -----  32250  -----  32499\n",
      "time elapsed - 00:00:36.70\n",
      "129  -----  32500  -----  32749\n",
      "time elapsed - 00:00:37.05\n",
      "130  -----  32750  -----  32999\n",
      "time elapsed - 00:00:37.15\n",
      "131  -----  33000  -----  33249\n",
      "time elapsed - 00:00:36.57\n",
      "132  -----  33250  -----  33499\n"
     ]
    },
    {
     "name": "stderr",
     "output_type": "stream",
     "text": [
      "C:\\Users\\minio\\anaconda3\\envs\\tfm-py-37\\lib\\site-packages\\gensim\\topic_coherence\\direct_confirmation_measure.py:204: RuntimeWarning: divide by zero encountered in double_scalars\n",
      "  m_lr_i = np.log(numerator / denominator)\n",
      "C:\\Users\\minio\\anaconda3\\envs\\tfm-py-37\\lib\\site-packages\\gensim\\topic_coherence\\indirect_confirmation_measure.py:323: RuntimeWarning: invalid value encountered in double_scalars\n",
      "  return cv1.T.dot(cv2)[0, 0] / (_magnitude(cv1) * _magnitude(cv2))\n"
     ]
    },
    {
     "name": "stdout",
     "output_type": "stream",
     "text": [
      "time elapsed - 00:00:35.44\n",
      "133  -----  33500  -----  33749\n",
      "time elapsed - 00:00:37.68\n",
      "134  -----  33750  -----  33999\n",
      "time elapsed - 00:00:37.40\n",
      "135  -----  34000  -----  34249\n",
      "time elapsed - 00:00:36.53\n",
      "136  -----  34250  -----  34499\n",
      "time elapsed - 00:00:36.39\n",
      "137  -----  34500  -----  34749\n",
      "time elapsed - 00:00:36.80\n",
      "138  -----  34750  -----  34999\n",
      "time elapsed - 00:00:36.62\n",
      "139  -----  35000  -----  35249\n",
      "time elapsed - 00:00:36.37\n",
      "140  -----  35250  -----  35499\n",
      "time elapsed - 00:00:37.00\n",
      "141  -----  35500  -----  35749\n",
      "time elapsed - 00:00:37.30\n",
      "142  -----  35750  -----  35999\n",
      "time elapsed - 00:00:37.37\n",
      "143  -----  36000  -----  36249\n",
      "time elapsed - 00:00:37.10\n",
      "144  -----  36250  -----  36499\n"
     ]
    },
    {
     "name": "stderr",
     "output_type": "stream",
     "text": [
      "C:\\Users\\minio\\anaconda3\\envs\\tfm-py-37\\lib\\site-packages\\gensim\\topic_coherence\\direct_confirmation_measure.py:204: RuntimeWarning: divide by zero encountered in double_scalars\n",
      "  m_lr_i = np.log(numerator / denominator)\n",
      "C:\\Users\\minio\\anaconda3\\envs\\tfm-py-37\\lib\\site-packages\\gensim\\topic_coherence\\indirect_confirmation_measure.py:323: RuntimeWarning: invalid value encountered in double_scalars\n",
      "  return cv1.T.dot(cv2)[0, 0] / (_magnitude(cv1) * _magnitude(cv2))\n"
     ]
    },
    {
     "name": "stdout",
     "output_type": "stream",
     "text": [
      "time elapsed - 00:00:36.80\n",
      "145  -----  36500  -----  36749\n",
      "time elapsed - 00:00:37.24\n",
      "146  -----  36750  -----  36999\n",
      "time elapsed - 00:00:37.34\n",
      "147  -----  37000  -----  37249\n",
      "time elapsed - 00:00:37.57\n",
      "148  -----  37250  -----  37499\n",
      "time elapsed - 00:00:38.54\n",
      "149  -----  37500  -----  37749\n",
      "time elapsed - 00:00:36.02\n",
      "150  -----  37750  -----  37999\n",
      "time elapsed - 00:00:36.07\n",
      "151  -----  38000  -----  38249\n",
      "time elapsed - 00:00:40.37\n",
      "152  -----  38250  -----  38499\n",
      "time elapsed - 00:00:37.14\n",
      "153  -----  38500  -----  38749\n",
      "time elapsed - 00:00:36.66\n",
      "154  -----  38750  -----  38999\n"
     ]
    },
    {
     "name": "stderr",
     "output_type": "stream",
     "text": [
      "C:\\Users\\minio\\anaconda3\\envs\\tfm-py-37\\lib\\site-packages\\gensim\\topic_coherence\\direct_confirmation_measure.py:204: RuntimeWarning: divide by zero encountered in double_scalars\n",
      "  m_lr_i = np.log(numerator / denominator)\n",
      "C:\\Users\\minio\\anaconda3\\envs\\tfm-py-37\\lib\\site-packages\\gensim\\topic_coherence\\indirect_confirmation_measure.py:323: RuntimeWarning: invalid value encountered in double_scalars\n",
      "  return cv1.T.dot(cv2)[0, 0] / (_magnitude(cv1) * _magnitude(cv2))\n"
     ]
    },
    {
     "name": "stdout",
     "output_type": "stream",
     "text": [
      "time elapsed - 00:00:38.12\n",
      "155  -----  39000  -----  39249\n",
      "time elapsed - 00:00:41.22\n",
      "156  -----  39250  -----  39499\n",
      "time elapsed - 00:00:37.40\n",
      "157  -----  39500  -----  39749\n",
      "time elapsed - 00:00:43.84\n",
      "158  -----  39750  -----  39999\n",
      "time elapsed - 00:00:41.87\n",
      "159  -----  40000  -----  40249\n",
      "time elapsed - 00:00:40.90\n",
      "160  -----  40250  -----  40499\n",
      "time elapsed - 00:00:38.24\n",
      "161  -----  40500  -----  40749\n",
      "time elapsed - 00:00:37.52\n",
      "162  -----  40750  -----  40999\n",
      "time elapsed - 00:00:41.42\n",
      "163  -----  41000  -----  41249\n",
      "time elapsed - 00:00:37.13\n",
      "164  -----  41250  -----  41499\n",
      "time elapsed - 00:00:35.43\n",
      "165  -----  41500  -----  41749\n",
      "time elapsed - 00:00:35.75\n",
      "166  -----  41750  -----  41999\n",
      "time elapsed - 00:00:37.77\n",
      "167  -----  42000  -----  42249\n",
      "time elapsed - 00:00:39.99\n",
      "168  -----  42250  -----  42499\n",
      "time elapsed - 00:00:40.75\n",
      "169  -----  42500  -----  42749\n",
      "time elapsed - 00:00:43.81\n",
      "170  -----  42750  -----  42999\n",
      "time elapsed - 00:00:39.29\n",
      "171  -----  43000  -----  43249\n",
      "time elapsed - 00:00:38.57\n",
      "172  -----  43250  -----  43499\n",
      "time elapsed - 00:00:37.89\n",
      "173  -----  43500  -----  43749\n",
      "time elapsed - 00:00:38.01\n",
      "174  -----  43750  -----  43999\n",
      "time elapsed - 00:00:40.84\n",
      "175  -----  44000  -----  44249\n",
      "time elapsed - 00:00:41.49\n",
      "176  -----  44250  -----  44499\n",
      "time elapsed - 00:00:40.77\n",
      "177  -----  44500  -----  44749\n",
      "time elapsed - 00:00:41.16\n",
      "178  -----  44750  -----  44999\n"
     ]
    },
    {
     "name": "stderr",
     "output_type": "stream",
     "text": [
      "C:\\Users\\minio\\anaconda3\\envs\\tfm-py-37\\lib\\site-packages\\gensim\\topic_coherence\\direct_confirmation_measure.py:204: RuntimeWarning: divide by zero encountered in double_scalars\n",
      "  m_lr_i = np.log(numerator / denominator)\n",
      "C:\\Users\\minio\\anaconda3\\envs\\tfm-py-37\\lib\\site-packages\\gensim\\topic_coherence\\indirect_confirmation_measure.py:323: RuntimeWarning: invalid value encountered in double_scalars\n",
      "  return cv1.T.dot(cv2)[0, 0] / (_magnitude(cv1) * _magnitude(cv2))\n"
     ]
    },
    {
     "name": "stdout",
     "output_type": "stream",
     "text": [
      "time elapsed - 00:00:39.54\n",
      "179  -----  45000  -----  45249\n",
      "time elapsed - 00:00:41.23\n",
      "180  -----  45250  -----  45499\n",
      "time elapsed - 00:00:41.27\n",
      "181  -----  45500  -----  45749\n",
      "time elapsed - 00:00:41.69\n",
      "182  -----  45750  -----  45999\n",
      "time elapsed - 00:00:40.04\n",
      "183  -----  46000  -----  46249\n",
      "time elapsed - 00:00:43.11\n",
      "184  -----  46250  -----  46499\n",
      "time elapsed - 00:00:42.37\n",
      "185  -----  46500  -----  46749\n",
      "time elapsed - 00:00:43.13\n",
      "186  -----  46750  -----  46999\n",
      "time elapsed - 00:00:40.21\n",
      "187  -----  47000  -----  47249\n"
     ]
    },
    {
     "name": "stderr",
     "output_type": "stream",
     "text": [
      "C:\\Users\\minio\\anaconda3\\envs\\tfm-py-37\\lib\\site-packages\\gensim\\topic_coherence\\direct_confirmation_measure.py:204: RuntimeWarning: divide by zero encountered in double_scalars\n",
      "  m_lr_i = np.log(numerator / denominator)\n",
      "C:\\Users\\minio\\anaconda3\\envs\\tfm-py-37\\lib\\site-packages\\gensim\\topic_coherence\\indirect_confirmation_measure.py:323: RuntimeWarning: invalid value encountered in double_scalars\n",
      "  return cv1.T.dot(cv2)[0, 0] / (_magnitude(cv1) * _magnitude(cv2))\n"
     ]
    },
    {
     "name": "stdout",
     "output_type": "stream",
     "text": [
      "time elapsed - 00:00:40.38\n",
      "188  -----  47250  -----  47499\n"
     ]
    },
    {
     "name": "stderr",
     "output_type": "stream",
     "text": [
      "C:\\Users\\minio\\anaconda3\\envs\\tfm-py-37\\lib\\site-packages\\gensim\\topic_coherence\\direct_confirmation_measure.py:204: RuntimeWarning: divide by zero encountered in double_scalars\n",
      "  m_lr_i = np.log(numerator / denominator)\n",
      "C:\\Users\\minio\\anaconda3\\envs\\tfm-py-37\\lib\\site-packages\\gensim\\topic_coherence\\indirect_confirmation_measure.py:323: RuntimeWarning: invalid value encountered in double_scalars\n",
      "  return cv1.T.dot(cv2)[0, 0] / (_magnitude(cv1) * _magnitude(cv2))\n"
     ]
    },
    {
     "name": "stdout",
     "output_type": "stream",
     "text": [
      "time elapsed - 00:00:38.95\n",
      "189  -----  47500  -----  47749\n"
     ]
    },
    {
     "name": "stderr",
     "output_type": "stream",
     "text": [
      "C:\\Users\\minio\\anaconda3\\envs\\tfm-py-37\\lib\\site-packages\\gensim\\topic_coherence\\direct_confirmation_measure.py:204: RuntimeWarning: divide by zero encountered in double_scalars\n",
      "  m_lr_i = np.log(numerator / denominator)\n",
      "C:\\Users\\minio\\anaconda3\\envs\\tfm-py-37\\lib\\site-packages\\gensim\\topic_coherence\\indirect_confirmation_measure.py:323: RuntimeWarning: invalid value encountered in double_scalars\n",
      "  return cv1.T.dot(cv2)[0, 0] / (_magnitude(cv1) * _magnitude(cv2))\n"
     ]
    },
    {
     "name": "stdout",
     "output_type": "stream",
     "text": [
      "time elapsed - 00:00:42.52\n",
      "190  -----  47750  -----  47999\n",
      "time elapsed - 00:00:40.28\n",
      "191  -----  48000  -----  48249\n",
      "time elapsed - 00:00:42.28\n",
      "192  -----  48250  -----  48499\n"
     ]
    },
    {
     "name": "stderr",
     "output_type": "stream",
     "text": [
      "C:\\Users\\minio\\anaconda3\\envs\\tfm-py-37\\lib\\site-packages\\gensim\\topic_coherence\\direct_confirmation_measure.py:204: RuntimeWarning: divide by zero encountered in double_scalars\n",
      "  m_lr_i = np.log(numerator / denominator)\n",
      "C:\\Users\\minio\\anaconda3\\envs\\tfm-py-37\\lib\\site-packages\\gensim\\topic_coherence\\indirect_confirmation_measure.py:323: RuntimeWarning: invalid value encountered in double_scalars\n",
      "  return cv1.T.dot(cv2)[0, 0] / (_magnitude(cv1) * _magnitude(cv2))\n"
     ]
    },
    {
     "name": "stdout",
     "output_type": "stream",
     "text": [
      "time elapsed - 00:00:41.94\n",
      "193  -----  48500  -----  48749\n"
     ]
    },
    {
     "name": "stderr",
     "output_type": "stream",
     "text": [
      "C:\\Users\\minio\\anaconda3\\envs\\tfm-py-37\\lib\\site-packages\\gensim\\topic_coherence\\direct_confirmation_measure.py:204: RuntimeWarning: divide by zero encountered in double_scalars\n",
      "  m_lr_i = np.log(numerator / denominator)\n",
      "C:\\Users\\minio\\anaconda3\\envs\\tfm-py-37\\lib\\site-packages\\gensim\\topic_coherence\\indirect_confirmation_measure.py:323: RuntimeWarning: invalid value encountered in double_scalars\n",
      "  return cv1.T.dot(cv2)[0, 0] / (_magnitude(cv1) * _magnitude(cv2))\n"
     ]
    },
    {
     "name": "stdout",
     "output_type": "stream",
     "text": [
      "time elapsed - 00:00:41.97\n",
      "194  -----  48750  -----  48999\n",
      "time elapsed - 00:00:41.05\n",
      "195  -----  49000  -----  49249\n",
      "time elapsed - 00:00:42.99\n",
      "196  -----  49250  -----  49499\n",
      "time elapsed - 00:00:41.92\n",
      "197  -----  49500  -----  49749\n",
      "time elapsed - 00:00:42.67\n",
      "198  -----  49750  -----  49999\n"
     ]
    },
    {
     "name": "stderr",
     "output_type": "stream",
     "text": [
      "C:\\Users\\minio\\anaconda3\\envs\\tfm-py-37\\lib\\site-packages\\gensim\\topic_coherence\\direct_confirmation_measure.py:204: RuntimeWarning: divide by zero encountered in double_scalars\n",
      "  m_lr_i = np.log(numerator / denominator)\n",
      "C:\\Users\\minio\\anaconda3\\envs\\tfm-py-37\\lib\\site-packages\\gensim\\topic_coherence\\indirect_confirmation_measure.py:323: RuntimeWarning: invalid value encountered in double_scalars\n",
      "  return cv1.T.dot(cv2)[0, 0] / (_magnitude(cv1) * _magnitude(cv2))\n"
     ]
    },
    {
     "name": "stdout",
     "output_type": "stream",
     "text": [
      "time elapsed - 00:00:45.20\n",
      "199  -----  50000  -----  50249\n"
     ]
    },
    {
     "name": "stderr",
     "output_type": "stream",
     "text": [
      "C:\\Users\\minio\\anaconda3\\envs\\tfm-py-37\\lib\\site-packages\\gensim\\topic_coherence\\direct_confirmation_measure.py:204: RuntimeWarning: divide by zero encountered in double_scalars\n",
      "  m_lr_i = np.log(numerator / denominator)\n",
      "C:\\Users\\minio\\anaconda3\\envs\\tfm-py-37\\lib\\site-packages\\gensim\\topic_coherence\\indirect_confirmation_measure.py:323: RuntimeWarning: invalid value encountered in double_scalars\n",
      "  return cv1.T.dot(cv2)[0, 0] / (_magnitude(cv1) * _magnitude(cv2))\n"
     ]
    },
    {
     "name": "stdout",
     "output_type": "stream",
     "text": [
      "time elapsed - 00:00:44.07\n",
      "200  -----  50250  -----  50499\n",
      "time elapsed - 00:00:44.19\n",
      "201  -----  50500  -----  50749\n",
      "time elapsed - 00:00:42.33\n",
      "202  -----  50750  -----  50999\n",
      "time elapsed - 00:00:44.07\n",
      "203  -----  51000  -----  51249\n",
      "time elapsed - 00:00:43.06\n",
      "204  -----  51250  -----  51499\n",
      "time elapsed - 00:00:39.24\n",
      "205  -----  51500  -----  51749\n",
      "time elapsed - 00:00:42.24\n",
      "206  -----  51750  -----  51999\n"
     ]
    },
    {
     "name": "stderr",
     "output_type": "stream",
     "text": [
      "C:\\Users\\minio\\anaconda3\\envs\\tfm-py-37\\lib\\site-packages\\gensim\\topic_coherence\\direct_confirmation_measure.py:204: RuntimeWarning: divide by zero encountered in double_scalars\n",
      "  m_lr_i = np.log(numerator / denominator)\n",
      "C:\\Users\\minio\\anaconda3\\envs\\tfm-py-37\\lib\\site-packages\\gensim\\topic_coherence\\indirect_confirmation_measure.py:323: RuntimeWarning: invalid value encountered in double_scalars\n",
      "  return cv1.T.dot(cv2)[0, 0] / (_magnitude(cv1) * _magnitude(cv2))\n"
     ]
    },
    {
     "name": "stdout",
     "output_type": "stream",
     "text": [
      "time elapsed - 00:00:42.63\n",
      "207  -----  52000  -----  52249\n",
      "time elapsed - 00:00:42.45\n",
      "208  -----  52250  -----  52499\n",
      "time elapsed - 00:00:42.36\n",
      "209  -----  52500  -----  52749\n"
     ]
    },
    {
     "name": "stderr",
     "output_type": "stream",
     "text": [
      "C:\\Users\\minio\\anaconda3\\envs\\tfm-py-37\\lib\\site-packages\\gensim\\topic_coherence\\direct_confirmation_measure.py:204: RuntimeWarning: divide by zero encountered in double_scalars\n",
      "  m_lr_i = np.log(numerator / denominator)\n",
      "C:\\Users\\minio\\anaconda3\\envs\\tfm-py-37\\lib\\site-packages\\gensim\\topic_coherence\\indirect_confirmation_measure.py:323: RuntimeWarning: invalid value encountered in double_scalars\n",
      "  return cv1.T.dot(cv2)[0, 0] / (_magnitude(cv1) * _magnitude(cv2))\n"
     ]
    },
    {
     "name": "stdout",
     "output_type": "stream",
     "text": [
      "time elapsed - 00:00:44.22\n",
      "210  -----  52750  -----  52999\n",
      "time elapsed - 00:00:42.35\n",
      "211  -----  53000  -----  53249\n"
     ]
    },
    {
     "name": "stderr",
     "output_type": "stream",
     "text": [
      "C:\\Users\\minio\\anaconda3\\envs\\tfm-py-37\\lib\\site-packages\\gensim\\topic_coherence\\direct_confirmation_measure.py:204: RuntimeWarning: divide by zero encountered in double_scalars\n",
      "  m_lr_i = np.log(numerator / denominator)\n",
      "C:\\Users\\minio\\anaconda3\\envs\\tfm-py-37\\lib\\site-packages\\gensim\\topic_coherence\\indirect_confirmation_measure.py:323: RuntimeWarning: invalid value encountered in double_scalars\n",
      "  return cv1.T.dot(cv2)[0, 0] / (_magnitude(cv1) * _magnitude(cv2))\n"
     ]
    },
    {
     "name": "stdout",
     "output_type": "stream",
     "text": [
      "time elapsed - 00:00:41.37\n",
      "212  -----  53250  -----  53499\n",
      "time elapsed - 00:00:44.61\n",
      "213  -----  53500  -----  53749\n",
      "time elapsed - 00:00:44.74\n",
      "214  -----  53750  -----  53999\n",
      "time elapsed - 00:00:41.35\n",
      "215  -----  54000  -----  54249\n"
     ]
    },
    {
     "name": "stderr",
     "output_type": "stream",
     "text": [
      "C:\\Users\\minio\\anaconda3\\envs\\tfm-py-37\\lib\\site-packages\\gensim\\topic_coherence\\direct_confirmation_measure.py:204: RuntimeWarning: divide by zero encountered in double_scalars\n",
      "  m_lr_i = np.log(numerator / denominator)\n",
      "C:\\Users\\minio\\anaconda3\\envs\\tfm-py-37\\lib\\site-packages\\gensim\\topic_coherence\\indirect_confirmation_measure.py:323: RuntimeWarning: invalid value encountered in double_scalars\n",
      "  return cv1.T.dot(cv2)[0, 0] / (_magnitude(cv1) * _magnitude(cv2))\n"
     ]
    },
    {
     "name": "stdout",
     "output_type": "stream",
     "text": [
      "time elapsed - 00:00:41.07\n",
      "216  -----  54250  -----  54499\n",
      "time elapsed - 00:00:41.11\n",
      "217  -----  54500  -----  54749\n",
      "time elapsed - 00:00:42.81\n",
      "218  -----  54750  -----  54999\n",
      "time elapsed - 00:00:40.70\n",
      "219  -----  55000  -----  55249\n",
      "time elapsed - 00:00:44.22\n",
      "220  -----  55250  -----  55499\n",
      "time elapsed - 00:00:41.13\n",
      "221  -----  55500  -----  55749\n"
     ]
    },
    {
     "name": "stderr",
     "output_type": "stream",
     "text": [
      "C:\\Users\\minio\\anaconda3\\envs\\tfm-py-37\\lib\\site-packages\\gensim\\topic_coherence\\direct_confirmation_measure.py:204: RuntimeWarning: divide by zero encountered in double_scalars\n",
      "  m_lr_i = np.log(numerator / denominator)\n",
      "C:\\Users\\minio\\anaconda3\\envs\\tfm-py-37\\lib\\site-packages\\gensim\\topic_coherence\\indirect_confirmation_measure.py:323: RuntimeWarning: invalid value encountered in double_scalars\n",
      "  return cv1.T.dot(cv2)[0, 0] / (_magnitude(cv1) * _magnitude(cv2))\n"
     ]
    },
    {
     "name": "stdout",
     "output_type": "stream",
     "text": [
      "time elapsed - 00:00:42.24\n",
      "222  -----  55750  -----  55999\n",
      "time elapsed - 00:00:41.71\n",
      "223  -----  56000  -----  56249\n",
      "time elapsed - 00:00:44.17\n",
      "224  -----  56250  -----  56499\n",
      "time elapsed - 00:00:39.83\n",
      "225  -----  56500  -----  56749\n",
      "time elapsed - 00:00:38.24\n",
      "226  -----  56750  -----  56999\n",
      "time elapsed - 00:00:40.98\n",
      "227  -----  57000  -----  57249\n"
     ]
    },
    {
     "name": "stderr",
     "output_type": "stream",
     "text": [
      "C:\\Users\\minio\\anaconda3\\envs\\tfm-py-37\\lib\\site-packages\\gensim\\topic_coherence\\direct_confirmation_measure.py:204: RuntimeWarning: divide by zero encountered in double_scalars\n",
      "  m_lr_i = np.log(numerator / denominator)\n",
      "C:\\Users\\minio\\anaconda3\\envs\\tfm-py-37\\lib\\site-packages\\gensim\\topic_coherence\\indirect_confirmation_measure.py:323: RuntimeWarning: invalid value encountered in double_scalars\n",
      "  return cv1.T.dot(cv2)[0, 0] / (_magnitude(cv1) * _magnitude(cv2))\n"
     ]
    },
    {
     "name": "stdout",
     "output_type": "stream",
     "text": [
      "time elapsed - 00:00:37.86\n",
      "228  -----  57250  -----  57499\n",
      "time elapsed - 00:00:37.19\n",
      "229  -----  57500  -----  57749\n",
      "time elapsed - 00:00:41.68\n",
      "230  -----  57750  -----  57999\n",
      "time elapsed - 00:00:38.73\n",
      "231  -----  58000  -----  58249\n",
      "time elapsed - 00:00:39.85\n",
      "232  -----  58250  -----  58499\n",
      "time elapsed - 00:00:40.25\n",
      "233  -----  58500  -----  58749\n",
      "time elapsed - 00:00:40.72\n",
      "234  -----  58750  -----  58999\n"
     ]
    },
    {
     "name": "stderr",
     "output_type": "stream",
     "text": [
      "C:\\Users\\minio\\anaconda3\\envs\\tfm-py-37\\lib\\site-packages\\gensim\\topic_coherence\\direct_confirmation_measure.py:204: RuntimeWarning: divide by zero encountered in double_scalars\n",
      "  m_lr_i = np.log(numerator / denominator)\n",
      "C:\\Users\\minio\\anaconda3\\envs\\tfm-py-37\\lib\\site-packages\\gensim\\topic_coherence\\indirect_confirmation_measure.py:323: RuntimeWarning: invalid value encountered in double_scalars\n",
      "  return cv1.T.dot(cv2)[0, 0] / (_magnitude(cv1) * _magnitude(cv2))\n"
     ]
    },
    {
     "name": "stdout",
     "output_type": "stream",
     "text": [
      "time elapsed - 00:00:41.08\n",
      "235  -----  59000  -----  59249\n"
     ]
    },
    {
     "name": "stderr",
     "output_type": "stream",
     "text": [
      "C:\\Users\\minio\\anaconda3\\envs\\tfm-py-37\\lib\\site-packages\\gensim\\topic_coherence\\direct_confirmation_measure.py:204: RuntimeWarning: divide by zero encountered in double_scalars\n",
      "  m_lr_i = np.log(numerator / denominator)\n",
      "C:\\Users\\minio\\anaconda3\\envs\\tfm-py-37\\lib\\site-packages\\gensim\\topic_coherence\\indirect_confirmation_measure.py:323: RuntimeWarning: invalid value encountered in double_scalars\n",
      "  return cv1.T.dot(cv2)[0, 0] / (_magnitude(cv1) * _magnitude(cv2))\n"
     ]
    },
    {
     "name": "stdout",
     "output_type": "stream",
     "text": [
      "time elapsed - 00:00:37.25\n",
      "236  -----  59250  -----  59499\n",
      "time elapsed - 00:00:39.13\n",
      "237  -----  59500  -----  59749\n",
      "time elapsed - 00:00:40.44\n",
      "238  -----  59750  -----  59999\n",
      "time elapsed - 00:00:40.26\n",
      "239  -----  60000  -----  60249\n"
     ]
    },
    {
     "name": "stderr",
     "output_type": "stream",
     "text": [
      "C:\\Users\\minio\\anaconda3\\envs\\tfm-py-37\\lib\\site-packages\\gensim\\topic_coherence\\direct_confirmation_measure.py:204: RuntimeWarning: divide by zero encountered in double_scalars\n",
      "  m_lr_i = np.log(numerator / denominator)\n",
      "C:\\Users\\minio\\anaconda3\\envs\\tfm-py-37\\lib\\site-packages\\gensim\\topic_coherence\\indirect_confirmation_measure.py:323: RuntimeWarning: invalid value encountered in double_scalars\n",
      "  return cv1.T.dot(cv2)[0, 0] / (_magnitude(cv1) * _magnitude(cv2))\n"
     ]
    },
    {
     "name": "stdout",
     "output_type": "stream",
     "text": [
      "time elapsed - 00:00:38.73\n",
      "240  -----  60250  -----  60499\n",
      "time elapsed - 00:00:40.95\n",
      "241  -----  60500  -----  60749\n",
      "time elapsed - 00:00:37.99\n",
      "242  -----  60750  -----  60999\n",
      "time elapsed - 00:00:39.87\n",
      "243  -----  61000  -----  61249\n",
      "time elapsed - 00:00:40.19\n",
      "244  -----  61250  -----  61499\n"
     ]
    },
    {
     "name": "stderr",
     "output_type": "stream",
     "text": [
      "C:\\Users\\minio\\anaconda3\\envs\\tfm-py-37\\lib\\site-packages\\gensim\\topic_coherence\\direct_confirmation_measure.py:204: RuntimeWarning: divide by zero encountered in double_scalars\n",
      "  m_lr_i = np.log(numerator / denominator)\n",
      "C:\\Users\\minio\\anaconda3\\envs\\tfm-py-37\\lib\\site-packages\\gensim\\topic_coherence\\indirect_confirmation_measure.py:323: RuntimeWarning: invalid value encountered in double_scalars\n",
      "  return cv1.T.dot(cv2)[0, 0] / (_magnitude(cv1) * _magnitude(cv2))\n"
     ]
    },
    {
     "name": "stdout",
     "output_type": "stream",
     "text": [
      "time elapsed - 00:00:41.04\n",
      "245  -----  61500  -----  61749\n",
      "time elapsed - 00:00:37.21\n",
      "246  -----  61750  -----  61999\n"
     ]
    },
    {
     "name": "stderr",
     "output_type": "stream",
     "text": [
      "C:\\Users\\minio\\anaconda3\\envs\\tfm-py-37\\lib\\site-packages\\gensim\\topic_coherence\\direct_confirmation_measure.py:204: RuntimeWarning: divide by zero encountered in double_scalars\n",
      "  m_lr_i = np.log(numerator / denominator)\n",
      "C:\\Users\\minio\\anaconda3\\envs\\tfm-py-37\\lib\\site-packages\\gensim\\topic_coherence\\indirect_confirmation_measure.py:323: RuntimeWarning: invalid value encountered in double_scalars\n",
      "  return cv1.T.dot(cv2)[0, 0] / (_magnitude(cv1) * _magnitude(cv2))\n"
     ]
    },
    {
     "name": "stdout",
     "output_type": "stream",
     "text": [
      "time elapsed - 00:00:40.02\n",
      "247  -----  62000  -----  62249\n",
      "time elapsed - 00:00:40.36\n",
      "248  -----  62250  -----  62499\n",
      "time elapsed - 00:00:40.41\n",
      "249  -----  62500  -----  62749\n",
      "time elapsed - 00:00:39.68\n",
      "250  -----  62750  -----  62999\n"
     ]
    },
    {
     "name": "stderr",
     "output_type": "stream",
     "text": [
      "C:\\Users\\minio\\anaconda3\\envs\\tfm-py-37\\lib\\site-packages\\gensim\\topic_coherence\\direct_confirmation_measure.py:204: RuntimeWarning: divide by zero encountered in double_scalars\n",
      "  m_lr_i = np.log(numerator / denominator)\n",
      "C:\\Users\\minio\\anaconda3\\envs\\tfm-py-37\\lib\\site-packages\\gensim\\topic_coherence\\indirect_confirmation_measure.py:323: RuntimeWarning: invalid value encountered in double_scalars\n",
      "  return cv1.T.dot(cv2)[0, 0] / (_magnitude(cv1) * _magnitude(cv2))\n"
     ]
    },
    {
     "name": "stdout",
     "output_type": "stream",
     "text": [
      "time elapsed - 00:00:40.42\n",
      "251  -----  63000  -----  63249\n",
      "time elapsed - 00:00:39.49\n",
      "252  -----  63250  -----  63499\n"
     ]
    },
    {
     "name": "stderr",
     "output_type": "stream",
     "text": [
      "C:\\Users\\minio\\anaconda3\\envs\\tfm-py-37\\lib\\site-packages\\gensim\\topic_coherence\\direct_confirmation_measure.py:204: RuntimeWarning: divide by zero encountered in double_scalars\n",
      "  m_lr_i = np.log(numerator / denominator)\n",
      "C:\\Users\\minio\\anaconda3\\envs\\tfm-py-37\\lib\\site-packages\\gensim\\topic_coherence\\indirect_confirmation_measure.py:323: RuntimeWarning: invalid value encountered in double_scalars\n",
      "  return cv1.T.dot(cv2)[0, 0] / (_magnitude(cv1) * _magnitude(cv2))\n"
     ]
    },
    {
     "name": "stdout",
     "output_type": "stream",
     "text": [
      "time elapsed - 00:00:36.72\n",
      "253  -----  63500  -----  63749\n",
      "time elapsed - 00:00:34.82\n",
      "254  -----  63750  -----  63999\n",
      "time elapsed - 00:00:36.25\n",
      "255  -----  64000  -----  64249\n"
     ]
    },
    {
     "name": "stderr",
     "output_type": "stream",
     "text": [
      "C:\\Users\\minio\\anaconda3\\envs\\tfm-py-37\\lib\\site-packages\\gensim\\topic_coherence\\direct_confirmation_measure.py:204: RuntimeWarning: divide by zero encountered in double_scalars\n",
      "  m_lr_i = np.log(numerator / denominator)\n",
      "C:\\Users\\minio\\anaconda3\\envs\\tfm-py-37\\lib\\site-packages\\gensim\\topic_coherence\\indirect_confirmation_measure.py:323: RuntimeWarning: invalid value encountered in double_scalars\n",
      "  return cv1.T.dot(cv2)[0, 0] / (_magnitude(cv1) * _magnitude(cv2))\n"
     ]
    },
    {
     "name": "stdout",
     "output_type": "stream",
     "text": [
      "time elapsed - 00:00:38.82\n",
      "256  -----  64250  -----  64499\n",
      "time elapsed - 00:00:38.12\n",
      "257  -----  64500  -----  64749\n"
     ]
    },
    {
     "name": "stderr",
     "output_type": "stream",
     "text": [
      "C:\\Users\\minio\\anaconda3\\envs\\tfm-py-37\\lib\\site-packages\\gensim\\topic_coherence\\direct_confirmation_measure.py:204: RuntimeWarning: divide by zero encountered in double_scalars\n",
      "  m_lr_i = np.log(numerator / denominator)\n",
      "C:\\Users\\minio\\anaconda3\\envs\\tfm-py-37\\lib\\site-packages\\gensim\\topic_coherence\\indirect_confirmation_measure.py:323: RuntimeWarning: invalid value encountered in double_scalars\n",
      "  return cv1.T.dot(cv2)[0, 0] / (_magnitude(cv1) * _magnitude(cv2))\n"
     ]
    },
    {
     "name": "stdout",
     "output_type": "stream",
     "text": [
      "time elapsed - 00:00:38.96\n",
      "258  -----  64750  -----  64999\n",
      "time elapsed - 00:00:36.71\n",
      "259  -----  65000  -----  65249\n",
      "time elapsed - 00:00:39.18\n",
      "260  -----  65250  -----  65499\n"
     ]
    },
    {
     "name": "stderr",
     "output_type": "stream",
     "text": [
      "C:\\Users\\minio\\anaconda3\\envs\\tfm-py-37\\lib\\site-packages\\gensim\\topic_coherence\\direct_confirmation_measure.py:204: RuntimeWarning: divide by zero encountered in double_scalars\n",
      "  m_lr_i = np.log(numerator / denominator)\n",
      "C:\\Users\\minio\\anaconda3\\envs\\tfm-py-37\\lib\\site-packages\\gensim\\topic_coherence\\indirect_confirmation_measure.py:323: RuntimeWarning: invalid value encountered in double_scalars\n",
      "  return cv1.T.dot(cv2)[0, 0] / (_magnitude(cv1) * _magnitude(cv2))\n"
     ]
    },
    {
     "name": "stdout",
     "output_type": "stream",
     "text": [
      "time elapsed - 00:00:41.94\n",
      "261  -----  65500  -----  65749\n",
      "time elapsed - 00:00:39.30\n",
      "262  -----  65750  -----  65999\n"
     ]
    },
    {
     "name": "stderr",
     "output_type": "stream",
     "text": [
      "C:\\Users\\minio\\anaconda3\\envs\\tfm-py-37\\lib\\site-packages\\gensim\\topic_coherence\\direct_confirmation_measure.py:204: RuntimeWarning: divide by zero encountered in double_scalars\n",
      "  m_lr_i = np.log(numerator / denominator)\n",
      "C:\\Users\\minio\\anaconda3\\envs\\tfm-py-37\\lib\\site-packages\\gensim\\topic_coherence\\indirect_confirmation_measure.py:323: RuntimeWarning: invalid value encountered in double_scalars\n",
      "  return cv1.T.dot(cv2)[0, 0] / (_magnitude(cv1) * _magnitude(cv2))\n"
     ]
    },
    {
     "name": "stdout",
     "output_type": "stream",
     "text": [
      "time elapsed - 00:00:40.89\n",
      "263  -----  66000  -----  66249\n",
      "time elapsed - 00:00:39.07\n",
      "264  -----  66250  -----  66499\n"
     ]
    },
    {
     "name": "stderr",
     "output_type": "stream",
     "text": [
      "C:\\Users\\minio\\anaconda3\\envs\\tfm-py-37\\lib\\site-packages\\gensim\\topic_coherence\\direct_confirmation_measure.py:204: RuntimeWarning: divide by zero encountered in double_scalars\n",
      "  m_lr_i = np.log(numerator / denominator)\n",
      "C:\\Users\\minio\\anaconda3\\envs\\tfm-py-37\\lib\\site-packages\\gensim\\topic_coherence\\indirect_confirmation_measure.py:323: RuntimeWarning: invalid value encountered in double_scalars\n",
      "  return cv1.T.dot(cv2)[0, 0] / (_magnitude(cv1) * _magnitude(cv2))\n"
     ]
    },
    {
     "name": "stdout",
     "output_type": "stream",
     "text": [
      "time elapsed - 00:00:36.69\n",
      "265  -----  66500  -----  66749\n",
      "time elapsed - 00:00:39.90\n",
      "266  -----  66750  -----  66999\n"
     ]
    },
    {
     "name": "stderr",
     "output_type": "stream",
     "text": [
      "C:\\Users\\minio\\anaconda3\\envs\\tfm-py-37\\lib\\site-packages\\gensim\\topic_coherence\\direct_confirmation_measure.py:204: RuntimeWarning: divide by zero encountered in double_scalars\n",
      "  m_lr_i = np.log(numerator / denominator)\n",
      "C:\\Users\\minio\\anaconda3\\envs\\tfm-py-37\\lib\\site-packages\\gensim\\topic_coherence\\indirect_confirmation_measure.py:323: RuntimeWarning: invalid value encountered in double_scalars\n",
      "  return cv1.T.dot(cv2)[0, 0] / (_magnitude(cv1) * _magnitude(cv2))\n"
     ]
    },
    {
     "name": "stdout",
     "output_type": "stream",
     "text": [
      "time elapsed - 00:00:39.53\n",
      "267  -----  67000  -----  67249\n",
      "time elapsed - 00:00:40.49\n",
      "268  -----  67250  -----  67499\n",
      "time elapsed - 00:00:37.50\n",
      "269  -----  67500  -----  67749\n"
     ]
    },
    {
     "name": "stderr",
     "output_type": "stream",
     "text": [
      "C:\\Users\\minio\\anaconda3\\envs\\tfm-py-37\\lib\\site-packages\\gensim\\topic_coherence\\direct_confirmation_measure.py:204: RuntimeWarning: divide by zero encountered in double_scalars\n",
      "  m_lr_i = np.log(numerator / denominator)\n",
      "C:\\Users\\minio\\anaconda3\\envs\\tfm-py-37\\lib\\site-packages\\gensim\\topic_coherence\\indirect_confirmation_measure.py:323: RuntimeWarning: invalid value encountered in double_scalars\n",
      "  return cv1.T.dot(cv2)[0, 0] / (_magnitude(cv1) * _magnitude(cv2))\n"
     ]
    },
    {
     "name": "stdout",
     "output_type": "stream",
     "text": [
      "time elapsed - 00:00:39.60\n",
      "270  -----  67750  -----  67999\n",
      "time elapsed - 00:00:38.43\n",
      "271  -----  68000  -----  68249\n",
      "time elapsed - 00:00:37.99\n",
      "272  -----  68250  -----  68499\n"
     ]
    },
    {
     "name": "stderr",
     "output_type": "stream",
     "text": [
      "C:\\Users\\minio\\anaconda3\\envs\\tfm-py-37\\lib\\site-packages\\gensim\\topic_coherence\\direct_confirmation_measure.py:204: RuntimeWarning: divide by zero encountered in double_scalars\n",
      "  m_lr_i = np.log(numerator / denominator)\n",
      "C:\\Users\\minio\\anaconda3\\envs\\tfm-py-37\\lib\\site-packages\\gensim\\topic_coherence\\indirect_confirmation_measure.py:323: RuntimeWarning: invalid value encountered in double_scalars\n",
      "  return cv1.T.dot(cv2)[0, 0] / (_magnitude(cv1) * _magnitude(cv2))\n"
     ]
    },
    {
     "name": "stdout",
     "output_type": "stream",
     "text": [
      "time elapsed - 00:00:40.67\n",
      "273  -----  68500  -----  68749\n"
     ]
    },
    {
     "name": "stderr",
     "output_type": "stream",
     "text": [
      "C:\\Users\\minio\\anaconda3\\envs\\tfm-py-37\\lib\\site-packages\\gensim\\topic_coherence\\direct_confirmation_measure.py:204: RuntimeWarning: divide by zero encountered in double_scalars\n",
      "  m_lr_i = np.log(numerator / denominator)\n",
      "C:\\Users\\minio\\anaconda3\\envs\\tfm-py-37\\lib\\site-packages\\gensim\\topic_coherence\\indirect_confirmation_measure.py:323: RuntimeWarning: invalid value encountered in double_scalars\n",
      "  return cv1.T.dot(cv2)[0, 0] / (_magnitude(cv1) * _magnitude(cv2))\n"
     ]
    },
    {
     "name": "stdout",
     "output_type": "stream",
     "text": [
      "time elapsed - 00:00:43.31\n",
      "274  -----  68750  -----  68999\n"
     ]
    },
    {
     "name": "stderr",
     "output_type": "stream",
     "text": [
      "C:\\Users\\minio\\anaconda3\\envs\\tfm-py-37\\lib\\site-packages\\gensim\\topic_coherence\\direct_confirmation_measure.py:204: RuntimeWarning: divide by zero encountered in double_scalars\n",
      "  m_lr_i = np.log(numerator / denominator)\n",
      "C:\\Users\\minio\\anaconda3\\envs\\tfm-py-37\\lib\\site-packages\\gensim\\topic_coherence\\indirect_confirmation_measure.py:323: RuntimeWarning: invalid value encountered in double_scalars\n",
      "  return cv1.T.dot(cv2)[0, 0] / (_magnitude(cv1) * _magnitude(cv2))\n"
     ]
    },
    {
     "name": "stdout",
     "output_type": "stream",
     "text": [
      "time elapsed - 00:00:39.96\n",
      "275  -----  69000  -----  69249\n"
     ]
    },
    {
     "name": "stderr",
     "output_type": "stream",
     "text": [
      "C:\\Users\\minio\\anaconda3\\envs\\tfm-py-37\\lib\\site-packages\\gensim\\topic_coherence\\direct_confirmation_measure.py:204: RuntimeWarning: divide by zero encountered in double_scalars\n",
      "  m_lr_i = np.log(numerator / denominator)\n",
      "C:\\Users\\minio\\anaconda3\\envs\\tfm-py-37\\lib\\site-packages\\gensim\\topic_coherence\\indirect_confirmation_measure.py:323: RuntimeWarning: invalid value encountered in double_scalars\n",
      "  return cv1.T.dot(cv2)[0, 0] / (_magnitude(cv1) * _magnitude(cv2))\n"
     ]
    },
    {
     "name": "stdout",
     "output_type": "stream",
     "text": [
      "time elapsed - 00:00:37.51\n",
      "276  -----  69250  -----  69499\n",
      "time elapsed - 00:00:37.76\n",
      "277  -----  69500  -----  69749\n"
     ]
    },
    {
     "name": "stderr",
     "output_type": "stream",
     "text": [
      "C:\\Users\\minio\\anaconda3\\envs\\tfm-py-37\\lib\\site-packages\\gensim\\topic_coherence\\direct_confirmation_measure.py:204: RuntimeWarning: divide by zero encountered in double_scalars\n",
      "  m_lr_i = np.log(numerator / denominator)\n",
      "C:\\Users\\minio\\anaconda3\\envs\\tfm-py-37\\lib\\site-packages\\gensim\\topic_coherence\\indirect_confirmation_measure.py:323: RuntimeWarning: invalid value encountered in double_scalars\n",
      "  return cv1.T.dot(cv2)[0, 0] / (_magnitude(cv1) * _magnitude(cv2))\n"
     ]
    },
    {
     "name": "stdout",
     "output_type": "stream",
     "text": [
      "time elapsed - 00:00:40.82\n",
      "278  -----  69750  -----  69999\n",
      "time elapsed - 00:00:40.45\n",
      "279  -----  70000  -----  70249\n",
      "time elapsed - 00:00:40.48\n",
      "280  -----  70250  -----  70499\n"
     ]
    },
    {
     "name": "stderr",
     "output_type": "stream",
     "text": [
      "C:\\Users\\minio\\anaconda3\\envs\\tfm-py-37\\lib\\site-packages\\gensim\\topic_coherence\\direct_confirmation_measure.py:204: RuntimeWarning: divide by zero encountered in double_scalars\n",
      "  m_lr_i = np.log(numerator / denominator)\n",
      "C:\\Users\\minio\\anaconda3\\envs\\tfm-py-37\\lib\\site-packages\\gensim\\topic_coherence\\indirect_confirmation_measure.py:323: RuntimeWarning: invalid value encountered in double_scalars\n",
      "  return cv1.T.dot(cv2)[0, 0] / (_magnitude(cv1) * _magnitude(cv2))\n"
     ]
    },
    {
     "name": "stdout",
     "output_type": "stream",
     "text": [
      "time elapsed - 00:00:38.80\n",
      "281  -----  70500  -----  70749\n"
     ]
    },
    {
     "name": "stderr",
     "output_type": "stream",
     "text": [
      "C:\\Users\\minio\\anaconda3\\envs\\tfm-py-37\\lib\\site-packages\\gensim\\topic_coherence\\direct_confirmation_measure.py:204: RuntimeWarning: divide by zero encountered in double_scalars\n",
      "  m_lr_i = np.log(numerator / denominator)\n",
      "C:\\Users\\minio\\anaconda3\\envs\\tfm-py-37\\lib\\site-packages\\gensim\\topic_coherence\\indirect_confirmation_measure.py:323: RuntimeWarning: invalid value encountered in double_scalars\n",
      "  return cv1.T.dot(cv2)[0, 0] / (_magnitude(cv1) * _magnitude(cv2))\n"
     ]
    },
    {
     "name": "stdout",
     "output_type": "stream",
     "text": [
      "time elapsed - 00:00:38.77\n",
      "282  -----  70750  -----  70999\n"
     ]
    },
    {
     "name": "stderr",
     "output_type": "stream",
     "text": [
      "C:\\Users\\minio\\anaconda3\\envs\\tfm-py-37\\lib\\site-packages\\gensim\\topic_coherence\\direct_confirmation_measure.py:204: RuntimeWarning: divide by zero encountered in double_scalars\n",
      "  m_lr_i = np.log(numerator / denominator)\n",
      "C:\\Users\\minio\\anaconda3\\envs\\tfm-py-37\\lib\\site-packages\\gensim\\topic_coherence\\indirect_confirmation_measure.py:323: RuntimeWarning: invalid value encountered in double_scalars\n",
      "  return cv1.T.dot(cv2)[0, 0] / (_magnitude(cv1) * _magnitude(cv2))\n"
     ]
    },
    {
     "name": "stdout",
     "output_type": "stream",
     "text": [
      "time elapsed - 00:00:42.96\n",
      "283  -----  71000  -----  71249\n"
     ]
    },
    {
     "name": "stderr",
     "output_type": "stream",
     "text": [
      "C:\\Users\\minio\\anaconda3\\envs\\tfm-py-37\\lib\\site-packages\\gensim\\topic_coherence\\direct_confirmation_measure.py:204: RuntimeWarning: divide by zero encountered in double_scalars\n",
      "  m_lr_i = np.log(numerator / denominator)\n",
      "C:\\Users\\minio\\anaconda3\\envs\\tfm-py-37\\lib\\site-packages\\gensim\\topic_coherence\\indirect_confirmation_measure.py:323: RuntimeWarning: invalid value encountered in double_scalars\n",
      "  return cv1.T.dot(cv2)[0, 0] / (_magnitude(cv1) * _magnitude(cv2))\n"
     ]
    },
    {
     "name": "stdout",
     "output_type": "stream",
     "text": [
      "time elapsed - 00:00:36.70\n",
      "284  -----  71250  -----  71499\n"
     ]
    },
    {
     "name": "stderr",
     "output_type": "stream",
     "text": [
      "C:\\Users\\minio\\anaconda3\\envs\\tfm-py-37\\lib\\site-packages\\gensim\\topic_coherence\\direct_confirmation_measure.py:204: RuntimeWarning: divide by zero encountered in double_scalars\n",
      "  m_lr_i = np.log(numerator / denominator)\n",
      "C:\\Users\\minio\\anaconda3\\envs\\tfm-py-37\\lib\\site-packages\\gensim\\topic_coherence\\indirect_confirmation_measure.py:323: RuntimeWarning: invalid value encountered in double_scalars\n",
      "  return cv1.T.dot(cv2)[0, 0] / (_magnitude(cv1) * _magnitude(cv2))\n"
     ]
    },
    {
     "name": "stdout",
     "output_type": "stream",
     "text": [
      "time elapsed - 00:00:37.14\n",
      "285  -----  71500  -----  71749\n",
      "time elapsed - 00:00:36.75\n",
      "286  -----  71750  -----  71999\n",
      "time elapsed - 00:00:35.89\n",
      "287  -----  72000  -----  72249\n",
      "time elapsed - 00:00:38.92\n",
      "288  -----  72250  -----  72499\n"
     ]
    },
    {
     "name": "stderr",
     "output_type": "stream",
     "text": [
      "C:\\Users\\minio\\anaconda3\\envs\\tfm-py-37\\lib\\site-packages\\gensim\\topic_coherence\\direct_confirmation_measure.py:204: RuntimeWarning: divide by zero encountered in double_scalars\n",
      "  m_lr_i = np.log(numerator / denominator)\n",
      "C:\\Users\\minio\\anaconda3\\envs\\tfm-py-37\\lib\\site-packages\\gensim\\topic_coherence\\indirect_confirmation_measure.py:323: RuntimeWarning: invalid value encountered in double_scalars\n",
      "  return cv1.T.dot(cv2)[0, 0] / (_magnitude(cv1) * _magnitude(cv2))\n"
     ]
    },
    {
     "name": "stdout",
     "output_type": "stream",
     "text": [
      "time elapsed - 00:00:42.04\n",
      "289  -----  72500  -----  72749\n"
     ]
    },
    {
     "name": "stderr",
     "output_type": "stream",
     "text": [
      "C:\\Users\\minio\\anaconda3\\envs\\tfm-py-37\\lib\\site-packages\\gensim\\topic_coherence\\direct_confirmation_measure.py:204: RuntimeWarning: divide by zero encountered in double_scalars\n",
      "  m_lr_i = np.log(numerator / denominator)\n",
      "C:\\Users\\minio\\anaconda3\\envs\\tfm-py-37\\lib\\site-packages\\gensim\\topic_coherence\\indirect_confirmation_measure.py:323: RuntimeWarning: invalid value encountered in double_scalars\n",
      "  return cv1.T.dot(cv2)[0, 0] / (_magnitude(cv1) * _magnitude(cv2))\n"
     ]
    },
    {
     "name": "stdout",
     "output_type": "stream",
     "text": [
      "time elapsed - 00:00:40.96\n",
      "290  -----  72750  -----  72999\n"
     ]
    },
    {
     "name": "stderr",
     "output_type": "stream",
     "text": [
      "C:\\Users\\minio\\anaconda3\\envs\\tfm-py-37\\lib\\site-packages\\gensim\\topic_coherence\\direct_confirmation_measure.py:204: RuntimeWarning: divide by zero encountered in double_scalars\n",
      "  m_lr_i = np.log(numerator / denominator)\n",
      "C:\\Users\\minio\\anaconda3\\envs\\tfm-py-37\\lib\\site-packages\\gensim\\topic_coherence\\indirect_confirmation_measure.py:323: RuntimeWarning: invalid value encountered in double_scalars\n",
      "  return cv1.T.dot(cv2)[0, 0] / (_magnitude(cv1) * _magnitude(cv2))\n"
     ]
    },
    {
     "name": "stdout",
     "output_type": "stream",
     "text": [
      "time elapsed - 00:00:41.32\n",
      "291  -----  73000  -----  73249\n"
     ]
    },
    {
     "name": "stderr",
     "output_type": "stream",
     "text": [
      "C:\\Users\\minio\\anaconda3\\envs\\tfm-py-37\\lib\\site-packages\\gensim\\topic_coherence\\direct_confirmation_measure.py:204: RuntimeWarning: divide by zero encountered in double_scalars\n",
      "  m_lr_i = np.log(numerator / denominator)\n",
      "C:\\Users\\minio\\anaconda3\\envs\\tfm-py-37\\lib\\site-packages\\gensim\\topic_coherence\\indirect_confirmation_measure.py:323: RuntimeWarning: invalid value encountered in double_scalars\n",
      "  return cv1.T.dot(cv2)[0, 0] / (_magnitude(cv1) * _magnitude(cv2))\n"
     ]
    },
    {
     "name": "stdout",
     "output_type": "stream",
     "text": [
      "time elapsed - 00:00:39.79\n",
      "292  -----  73250  -----  73499\n"
     ]
    },
    {
     "name": "stderr",
     "output_type": "stream",
     "text": [
      "C:\\Users\\minio\\anaconda3\\envs\\tfm-py-37\\lib\\site-packages\\gensim\\topic_coherence\\direct_confirmation_measure.py:204: RuntimeWarning: divide by zero encountered in double_scalars\n",
      "  m_lr_i = np.log(numerator / denominator)\n",
      "C:\\Users\\minio\\anaconda3\\envs\\tfm-py-37\\lib\\site-packages\\gensim\\topic_coherence\\indirect_confirmation_measure.py:323: RuntimeWarning: invalid value encountered in double_scalars\n",
      "  return cv1.T.dot(cv2)[0, 0] / (_magnitude(cv1) * _magnitude(cv2))\n"
     ]
    },
    {
     "name": "stdout",
     "output_type": "stream",
     "text": [
      "time elapsed - 00:00:40.31\n",
      "293  -----  73500  -----  73749\n",
      "time elapsed - 00:00:40.91\n",
      "294  -----  73750  -----  73999\n"
     ]
    },
    {
     "name": "stderr",
     "output_type": "stream",
     "text": [
      "C:\\Users\\minio\\anaconda3\\envs\\tfm-py-37\\lib\\site-packages\\gensim\\topic_coherence\\direct_confirmation_measure.py:204: RuntimeWarning: divide by zero encountered in double_scalars\n",
      "  m_lr_i = np.log(numerator / denominator)\n",
      "C:\\Users\\minio\\anaconda3\\envs\\tfm-py-37\\lib\\site-packages\\gensim\\topic_coherence\\indirect_confirmation_measure.py:323: RuntimeWarning: invalid value encountered in double_scalars\n",
      "  return cv1.T.dot(cv2)[0, 0] / (_magnitude(cv1) * _magnitude(cv2))\n"
     ]
    },
    {
     "name": "stdout",
     "output_type": "stream",
     "text": [
      "time elapsed - 00:00:41.36\n",
      "295  -----  74000  -----  74249\n"
     ]
    },
    {
     "name": "stderr",
     "output_type": "stream",
     "text": [
      "C:\\Users\\minio\\anaconda3\\envs\\tfm-py-37\\lib\\site-packages\\gensim\\topic_coherence\\direct_confirmation_measure.py:204: RuntimeWarning: divide by zero encountered in double_scalars\n",
      "  m_lr_i = np.log(numerator / denominator)\n",
      "C:\\Users\\minio\\anaconda3\\envs\\tfm-py-37\\lib\\site-packages\\gensim\\topic_coherence\\indirect_confirmation_measure.py:323: RuntimeWarning: invalid value encountered in double_scalars\n",
      "  return cv1.T.dot(cv2)[0, 0] / (_magnitude(cv1) * _magnitude(cv2))\n"
     ]
    },
    {
     "name": "stdout",
     "output_type": "stream",
     "text": [
      "time elapsed - 00:00:40.90\n",
      "296  -----  74250  -----  74499\n"
     ]
    },
    {
     "name": "stderr",
     "output_type": "stream",
     "text": [
      "C:\\Users\\minio\\anaconda3\\envs\\tfm-py-37\\lib\\site-packages\\gensim\\topic_coherence\\direct_confirmation_measure.py:204: RuntimeWarning: divide by zero encountered in double_scalars\n",
      "  m_lr_i = np.log(numerator / denominator)\n",
      "C:\\Users\\minio\\anaconda3\\envs\\tfm-py-37\\lib\\site-packages\\gensim\\topic_coherence\\indirect_confirmation_measure.py:323: RuntimeWarning: invalid value encountered in double_scalars\n",
      "  return cv1.T.dot(cv2)[0, 0] / (_magnitude(cv1) * _magnitude(cv2))\n"
     ]
    },
    {
     "name": "stdout",
     "output_type": "stream",
     "text": [
      "time elapsed - 00:00:43.20\n",
      "297  -----  74500  -----  74749\n",
      "time elapsed - 00:00:41.08\n",
      "298  -----  74750  -----  74999\n"
     ]
    },
    {
     "name": "stderr",
     "output_type": "stream",
     "text": [
      "C:\\Users\\minio\\anaconda3\\envs\\tfm-py-37\\lib\\site-packages\\gensim\\topic_coherence\\direct_confirmation_measure.py:204: RuntimeWarning: divide by zero encountered in double_scalars\n",
      "  m_lr_i = np.log(numerator / denominator)\n",
      "C:\\Users\\minio\\anaconda3\\envs\\tfm-py-37\\lib\\site-packages\\gensim\\topic_coherence\\indirect_confirmation_measure.py:323: RuntimeWarning: invalid value encountered in double_scalars\n",
      "  return cv1.T.dot(cv2)[0, 0] / (_magnitude(cv1) * _magnitude(cv2))\n"
     ]
    },
    {
     "name": "stdout",
     "output_type": "stream",
     "text": [
      "time elapsed - 00:00:41.60\n",
      "299  -----  75000  -----  75249\n"
     ]
    },
    {
     "name": "stderr",
     "output_type": "stream",
     "text": [
      "C:\\Users\\minio\\anaconda3\\envs\\tfm-py-37\\lib\\site-packages\\gensim\\topic_coherence\\direct_confirmation_measure.py:204: RuntimeWarning: divide by zero encountered in double_scalars\n",
      "  m_lr_i = np.log(numerator / denominator)\n",
      "C:\\Users\\minio\\anaconda3\\envs\\tfm-py-37\\lib\\site-packages\\gensim\\topic_coherence\\indirect_confirmation_measure.py:323: RuntimeWarning: invalid value encountered in double_scalars\n",
      "  return cv1.T.dot(cv2)[0, 0] / (_magnitude(cv1) * _magnitude(cv2))\n"
     ]
    },
    {
     "name": "stdout",
     "output_type": "stream",
     "text": [
      "time elapsed - 00:00:40.42\n",
      "300  -----  75250  -----  75499\n"
     ]
    },
    {
     "name": "stderr",
     "output_type": "stream",
     "text": [
      "C:\\Users\\minio\\anaconda3\\envs\\tfm-py-37\\lib\\site-packages\\gensim\\topic_coherence\\direct_confirmation_measure.py:204: RuntimeWarning: divide by zero encountered in double_scalars\n",
      "  m_lr_i = np.log(numerator / denominator)\n",
      "C:\\Users\\minio\\anaconda3\\envs\\tfm-py-37\\lib\\site-packages\\gensim\\topic_coherence\\indirect_confirmation_measure.py:323: RuntimeWarning: invalid value encountered in double_scalars\n",
      "  return cv1.T.dot(cv2)[0, 0] / (_magnitude(cv1) * _magnitude(cv2))\n"
     ]
    },
    {
     "name": "stdout",
     "output_type": "stream",
     "text": [
      "time elapsed - 00:00:37.05\n",
      "301  -----  75500  -----  75749\n",
      "time elapsed - 00:00:37.66\n",
      "302  -----  75750  -----  75999\n"
     ]
    },
    {
     "name": "stderr",
     "output_type": "stream",
     "text": [
      "C:\\Users\\minio\\anaconda3\\envs\\tfm-py-37\\lib\\site-packages\\gensim\\topic_coherence\\direct_confirmation_measure.py:204: RuntimeWarning: divide by zero encountered in double_scalars\n",
      "  m_lr_i = np.log(numerator / denominator)\n",
      "C:\\Users\\minio\\anaconda3\\envs\\tfm-py-37\\lib\\site-packages\\gensim\\topic_coherence\\indirect_confirmation_measure.py:323: RuntimeWarning: invalid value encountered in double_scalars\n",
      "  return cv1.T.dot(cv2)[0, 0] / (_magnitude(cv1) * _magnitude(cv2))\n"
     ]
    },
    {
     "name": "stdout",
     "output_type": "stream",
     "text": [
      "time elapsed - 00:00:35.90\n",
      "303  -----  76000  -----  76249\n",
      "time elapsed - 00:00:39.05\n",
      "304  -----  76250  -----  76499\n",
      "time elapsed - 00:00:39.79\n",
      "305  -----  76500  -----  76749\n",
      "time elapsed - 00:00:38.72\n",
      "306  -----  76750  -----  76999\n",
      "time elapsed - 00:00:37.38\n",
      "307  -----  77000  -----  77249\n"
     ]
    },
    {
     "name": "stderr",
     "output_type": "stream",
     "text": [
      "C:\\Users\\minio\\anaconda3\\envs\\tfm-py-37\\lib\\site-packages\\gensim\\topic_coherence\\direct_confirmation_measure.py:204: RuntimeWarning: divide by zero encountered in double_scalars\n",
      "  m_lr_i = np.log(numerator / denominator)\n",
      "C:\\Users\\minio\\anaconda3\\envs\\tfm-py-37\\lib\\site-packages\\gensim\\topic_coherence\\indirect_confirmation_measure.py:323: RuntimeWarning: invalid value encountered in double_scalars\n",
      "  return cv1.T.dot(cv2)[0, 0] / (_magnitude(cv1) * _magnitude(cv2))\n"
     ]
    },
    {
     "name": "stdout",
     "output_type": "stream",
     "text": [
      "time elapsed - 00:00:37.38\n",
      "308  -----  77250  -----  77499\n"
     ]
    },
    {
     "name": "stderr",
     "output_type": "stream",
     "text": [
      "C:\\Users\\minio\\anaconda3\\envs\\tfm-py-37\\lib\\site-packages\\gensim\\topic_coherence\\direct_confirmation_measure.py:204: RuntimeWarning: divide by zero encountered in double_scalars\n",
      "  m_lr_i = np.log(numerator / denominator)\n",
      "C:\\Users\\minio\\anaconda3\\envs\\tfm-py-37\\lib\\site-packages\\gensim\\topic_coherence\\indirect_confirmation_measure.py:323: RuntimeWarning: invalid value encountered in double_scalars\n",
      "  return cv1.T.dot(cv2)[0, 0] / (_magnitude(cv1) * _magnitude(cv2))\n"
     ]
    },
    {
     "name": "stdout",
     "output_type": "stream",
     "text": [
      "time elapsed - 00:00:37.32\n",
      "309  -----  77500  -----  77749\n"
     ]
    },
    {
     "name": "stderr",
     "output_type": "stream",
     "text": [
      "C:\\Users\\minio\\anaconda3\\envs\\tfm-py-37\\lib\\site-packages\\gensim\\topic_coherence\\direct_confirmation_measure.py:204: RuntimeWarning: divide by zero encountered in double_scalars\n",
      "  m_lr_i = np.log(numerator / denominator)\n",
      "C:\\Users\\minio\\anaconda3\\envs\\tfm-py-37\\lib\\site-packages\\gensim\\topic_coherence\\indirect_confirmation_measure.py:323: RuntimeWarning: invalid value encountered in double_scalars\n",
      "  return cv1.T.dot(cv2)[0, 0] / (_magnitude(cv1) * _magnitude(cv2))\n"
     ]
    },
    {
     "name": "stdout",
     "output_type": "stream",
     "text": [
      "time elapsed - 00:00:36.93\n",
      "310  -----  77750  -----  77999\n",
      "time elapsed - 00:00:37.92\n",
      "311  -----  78000  -----  78249\n"
     ]
    },
    {
     "name": "stderr",
     "output_type": "stream",
     "text": [
      "C:\\Users\\minio\\anaconda3\\envs\\tfm-py-37\\lib\\site-packages\\gensim\\topic_coherence\\direct_confirmation_measure.py:204: RuntimeWarning: divide by zero encountered in double_scalars\n",
      "  m_lr_i = np.log(numerator / denominator)\n",
      "C:\\Users\\minio\\anaconda3\\envs\\tfm-py-37\\lib\\site-packages\\gensim\\topic_coherence\\indirect_confirmation_measure.py:323: RuntimeWarning: invalid value encountered in double_scalars\n",
      "  return cv1.T.dot(cv2)[0, 0] / (_magnitude(cv1) * _magnitude(cv2))\n"
     ]
    },
    {
     "name": "stdout",
     "output_type": "stream",
     "text": [
      "time elapsed - 00:00:37.50\n",
      "312  -----  78250  -----  78499\n"
     ]
    },
    {
     "name": "stderr",
     "output_type": "stream",
     "text": [
      "C:\\Users\\minio\\anaconda3\\envs\\tfm-py-37\\lib\\site-packages\\gensim\\topic_coherence\\direct_confirmation_measure.py:204: RuntimeWarning: divide by zero encountered in double_scalars\n",
      "  m_lr_i = np.log(numerator / denominator)\n",
      "C:\\Users\\minio\\anaconda3\\envs\\tfm-py-37\\lib\\site-packages\\gensim\\topic_coherence\\indirect_confirmation_measure.py:323: RuntimeWarning: invalid value encountered in double_scalars\n",
      "  return cv1.T.dot(cv2)[0, 0] / (_magnitude(cv1) * _magnitude(cv2))\n"
     ]
    },
    {
     "name": "stdout",
     "output_type": "stream",
     "text": [
      "time elapsed - 00:00:37.41\n",
      "313  -----  78500  -----  78749\n",
      "time elapsed - 00:00:40.58\n",
      "314  -----  78750  -----  78999\n"
     ]
    },
    {
     "name": "stderr",
     "output_type": "stream",
     "text": [
      "C:\\Users\\minio\\anaconda3\\envs\\tfm-py-37\\lib\\site-packages\\gensim\\topic_coherence\\direct_confirmation_measure.py:204: RuntimeWarning: divide by zero encountered in double_scalars\n",
      "  m_lr_i = np.log(numerator / denominator)\n",
      "C:\\Users\\minio\\anaconda3\\envs\\tfm-py-37\\lib\\site-packages\\gensim\\topic_coherence\\indirect_confirmation_measure.py:323: RuntimeWarning: invalid value encountered in double_scalars\n",
      "  return cv1.T.dot(cv2)[0, 0] / (_magnitude(cv1) * _magnitude(cv2))\n"
     ]
    },
    {
     "name": "stdout",
     "output_type": "stream",
     "text": [
      "time elapsed - 00:00:41.12\n",
      "315  -----  79000  -----  79249\n"
     ]
    },
    {
     "name": "stderr",
     "output_type": "stream",
     "text": [
      "C:\\Users\\minio\\anaconda3\\envs\\tfm-py-37\\lib\\site-packages\\gensim\\topic_coherence\\direct_confirmation_measure.py:204: RuntimeWarning: divide by zero encountered in double_scalars\n",
      "  m_lr_i = np.log(numerator / denominator)\n",
      "C:\\Users\\minio\\anaconda3\\envs\\tfm-py-37\\lib\\site-packages\\gensim\\topic_coherence\\indirect_confirmation_measure.py:323: RuntimeWarning: invalid value encountered in double_scalars\n",
      "  return cv1.T.dot(cv2)[0, 0] / (_magnitude(cv1) * _magnitude(cv2))\n"
     ]
    },
    {
     "name": "stdout",
     "output_type": "stream",
     "text": [
      "time elapsed - 00:00:42.41\n",
      "316  -----  79250  -----  79499\n"
     ]
    },
    {
     "name": "stderr",
     "output_type": "stream",
     "text": [
      "C:\\Users\\minio\\anaconda3\\envs\\tfm-py-37\\lib\\site-packages\\gensim\\topic_coherence\\direct_confirmation_measure.py:204: RuntimeWarning: divide by zero encountered in double_scalars\n",
      "  m_lr_i = np.log(numerator / denominator)\n",
      "C:\\Users\\minio\\anaconda3\\envs\\tfm-py-37\\lib\\site-packages\\gensim\\topic_coherence\\indirect_confirmation_measure.py:323: RuntimeWarning: invalid value encountered in double_scalars\n",
      "  return cv1.T.dot(cv2)[0, 0] / (_magnitude(cv1) * _magnitude(cv2))\n"
     ]
    },
    {
     "name": "stdout",
     "output_type": "stream",
     "text": [
      "time elapsed - 00:00:43.48\n",
      "317  -----  79500  -----  79749\n"
     ]
    },
    {
     "name": "stderr",
     "output_type": "stream",
     "text": [
      "C:\\Users\\minio\\anaconda3\\envs\\tfm-py-37\\lib\\site-packages\\gensim\\topic_coherence\\direct_confirmation_measure.py:204: RuntimeWarning: divide by zero encountered in double_scalars\n",
      "  m_lr_i = np.log(numerator / denominator)\n",
      "C:\\Users\\minio\\anaconda3\\envs\\tfm-py-37\\lib\\site-packages\\gensim\\topic_coherence\\indirect_confirmation_measure.py:323: RuntimeWarning: invalid value encountered in double_scalars\n",
      "  return cv1.T.dot(cv2)[0, 0] / (_magnitude(cv1) * _magnitude(cv2))\n"
     ]
    },
    {
     "name": "stdout",
     "output_type": "stream",
     "text": [
      "time elapsed - 00:00:43.84\n",
      "318  -----  79750  -----  79999\n"
     ]
    },
    {
     "name": "stderr",
     "output_type": "stream",
     "text": [
      "C:\\Users\\minio\\anaconda3\\envs\\tfm-py-37\\lib\\site-packages\\gensim\\topic_coherence\\direct_confirmation_measure.py:204: RuntimeWarning: divide by zero encountered in double_scalars\n",
      "  m_lr_i = np.log(numerator / denominator)\n",
      "C:\\Users\\minio\\anaconda3\\envs\\tfm-py-37\\lib\\site-packages\\gensim\\topic_coherence\\indirect_confirmation_measure.py:323: RuntimeWarning: invalid value encountered in double_scalars\n",
      "  return cv1.T.dot(cv2)[0, 0] / (_magnitude(cv1) * _magnitude(cv2))\n"
     ]
    },
    {
     "name": "stdout",
     "output_type": "stream",
     "text": [
      "time elapsed - 00:00:44.98\n",
      "319  -----  80000  -----  80249\n"
     ]
    },
    {
     "name": "stderr",
     "output_type": "stream",
     "text": [
      "C:\\Users\\minio\\anaconda3\\envs\\tfm-py-37\\lib\\site-packages\\gensim\\topic_coherence\\direct_confirmation_measure.py:204: RuntimeWarning: divide by zero encountered in double_scalars\n",
      "  m_lr_i = np.log(numerator / denominator)\n",
      "C:\\Users\\minio\\anaconda3\\envs\\tfm-py-37\\lib\\site-packages\\gensim\\topic_coherence\\indirect_confirmation_measure.py:323: RuntimeWarning: invalid value encountered in double_scalars\n",
      "  return cv1.T.dot(cv2)[0, 0] / (_magnitude(cv1) * _magnitude(cv2))\n"
     ]
    },
    {
     "name": "stdout",
     "output_type": "stream",
     "text": [
      "time elapsed - 00:00:44.66\n",
      "320  -----  80250  -----  80499\n"
     ]
    },
    {
     "name": "stderr",
     "output_type": "stream",
     "text": [
      "C:\\Users\\minio\\anaconda3\\envs\\tfm-py-37\\lib\\site-packages\\gensim\\topic_coherence\\direct_confirmation_measure.py:204: RuntimeWarning: divide by zero encountered in double_scalars\n",
      "  m_lr_i = np.log(numerator / denominator)\n",
      "C:\\Users\\minio\\anaconda3\\envs\\tfm-py-37\\lib\\site-packages\\gensim\\topic_coherence\\indirect_confirmation_measure.py:323: RuntimeWarning: invalid value encountered in double_scalars\n",
      "  return cv1.T.dot(cv2)[0, 0] / (_magnitude(cv1) * _magnitude(cv2))\n"
     ]
    },
    {
     "name": "stdout",
     "output_type": "stream",
     "text": [
      "time elapsed - 00:00:43.33\n",
      "321  -----  80500  -----  80749\n"
     ]
    },
    {
     "name": "stderr",
     "output_type": "stream",
     "text": [
      "C:\\Users\\minio\\anaconda3\\envs\\tfm-py-37\\lib\\site-packages\\gensim\\topic_coherence\\direct_confirmation_measure.py:204: RuntimeWarning: divide by zero encountered in double_scalars\n",
      "  m_lr_i = np.log(numerator / denominator)\n",
      "C:\\Users\\minio\\anaconda3\\envs\\tfm-py-37\\lib\\site-packages\\gensim\\topic_coherence\\indirect_confirmation_measure.py:323: RuntimeWarning: invalid value encountered in double_scalars\n",
      "  return cv1.T.dot(cv2)[0, 0] / (_magnitude(cv1) * _magnitude(cv2))\n"
     ]
    },
    {
     "name": "stdout",
     "output_type": "stream",
     "text": [
      "time elapsed - 00:00:43.16\n",
      "322  -----  80750  -----  80999\n",
      "time elapsed - 00:00:45.17\n",
      "323  -----  81000  -----  81249\n"
     ]
    },
    {
     "name": "stderr",
     "output_type": "stream",
     "text": [
      "C:\\Users\\minio\\anaconda3\\envs\\tfm-py-37\\lib\\site-packages\\gensim\\topic_coherence\\direct_confirmation_measure.py:204: RuntimeWarning: divide by zero encountered in double_scalars\n",
      "  m_lr_i = np.log(numerator / denominator)\n",
      "C:\\Users\\minio\\anaconda3\\envs\\tfm-py-37\\lib\\site-packages\\gensim\\topic_coherence\\indirect_confirmation_measure.py:323: RuntimeWarning: invalid value encountered in double_scalars\n",
      "  return cv1.T.dot(cv2)[0, 0] / (_magnitude(cv1) * _magnitude(cv2))\n"
     ]
    },
    {
     "name": "stdout",
     "output_type": "stream",
     "text": [
      "time elapsed - 00:00:44.55\n",
      "324  -----  81250  -----  81499\n"
     ]
    },
    {
     "name": "stderr",
     "output_type": "stream",
     "text": [
      "C:\\Users\\minio\\anaconda3\\envs\\tfm-py-37\\lib\\site-packages\\gensim\\topic_coherence\\direct_confirmation_measure.py:204: RuntimeWarning: divide by zero encountered in double_scalars\n",
      "  m_lr_i = np.log(numerator / denominator)\n",
      "C:\\Users\\minio\\anaconda3\\envs\\tfm-py-37\\lib\\site-packages\\gensim\\topic_coherence\\indirect_confirmation_measure.py:323: RuntimeWarning: invalid value encountered in double_scalars\n",
      "  return cv1.T.dot(cv2)[0, 0] / (_magnitude(cv1) * _magnitude(cv2))\n"
     ]
    },
    {
     "name": "stdout",
     "output_type": "stream",
     "text": [
      "time elapsed - 00:00:44.48\n",
      "325  -----  81500  -----  81749\n",
      "time elapsed - 00:00:45.59\n",
      "326  -----  81750  -----  81999\n"
     ]
    },
    {
     "name": "stderr",
     "output_type": "stream",
     "text": [
      "C:\\Users\\minio\\anaconda3\\envs\\tfm-py-37\\lib\\site-packages\\gensim\\topic_coherence\\direct_confirmation_measure.py:204: RuntimeWarning: divide by zero encountered in double_scalars\n",
      "  m_lr_i = np.log(numerator / denominator)\n",
      "C:\\Users\\minio\\anaconda3\\envs\\tfm-py-37\\lib\\site-packages\\gensim\\topic_coherence\\indirect_confirmation_measure.py:323: RuntimeWarning: invalid value encountered in double_scalars\n",
      "  return cv1.T.dot(cv2)[0, 0] / (_magnitude(cv1) * _magnitude(cv2))\n"
     ]
    },
    {
     "name": "stdout",
     "output_type": "stream",
     "text": [
      "time elapsed - 00:00:43.13\n",
      "327  -----  82000  -----  82249\n",
      "time elapsed - 00:00:43.08\n",
      "328  -----  82250  -----  82499\n"
     ]
    },
    {
     "name": "stderr",
     "output_type": "stream",
     "text": [
      "C:\\Users\\minio\\anaconda3\\envs\\tfm-py-37\\lib\\site-packages\\gensim\\topic_coherence\\direct_confirmation_measure.py:204: RuntimeWarning: divide by zero encountered in double_scalars\n",
      "  m_lr_i = np.log(numerator / denominator)\n",
      "C:\\Users\\minio\\anaconda3\\envs\\tfm-py-37\\lib\\site-packages\\gensim\\topic_coherence\\indirect_confirmation_measure.py:323: RuntimeWarning: invalid value encountered in double_scalars\n",
      "  return cv1.T.dot(cv2)[0, 0] / (_magnitude(cv1) * _magnitude(cv2))\n"
     ]
    },
    {
     "name": "stdout",
     "output_type": "stream",
     "text": [
      "time elapsed - 00:00:43.18\n",
      "329  -----  82500  -----  82749\n"
     ]
    },
    {
     "name": "stderr",
     "output_type": "stream",
     "text": [
      "C:\\Users\\minio\\anaconda3\\envs\\tfm-py-37\\lib\\site-packages\\gensim\\topic_coherence\\direct_confirmation_measure.py:204: RuntimeWarning: divide by zero encountered in double_scalars\n",
      "  m_lr_i = np.log(numerator / denominator)\n",
      "C:\\Users\\minio\\anaconda3\\envs\\tfm-py-37\\lib\\site-packages\\gensim\\topic_coherence\\indirect_confirmation_measure.py:323: RuntimeWarning: invalid value encountered in double_scalars\n",
      "  return cv1.T.dot(cv2)[0, 0] / (_magnitude(cv1) * _magnitude(cv2))\n"
     ]
    },
    {
     "name": "stdout",
     "output_type": "stream",
     "text": [
      "time elapsed - 00:00:42.11\n",
      "330  -----  82750  -----  82999\n"
     ]
    },
    {
     "name": "stderr",
     "output_type": "stream",
     "text": [
      "C:\\Users\\minio\\anaconda3\\envs\\tfm-py-37\\lib\\site-packages\\gensim\\topic_coherence\\direct_confirmation_measure.py:204: RuntimeWarning: divide by zero encountered in double_scalars\n",
      "  m_lr_i = np.log(numerator / denominator)\n",
      "C:\\Users\\minio\\anaconda3\\envs\\tfm-py-37\\lib\\site-packages\\gensim\\topic_coherence\\indirect_confirmation_measure.py:323: RuntimeWarning: invalid value encountered in double_scalars\n",
      "  return cv1.T.dot(cv2)[0, 0] / (_magnitude(cv1) * _magnitude(cv2))\n"
     ]
    },
    {
     "name": "stdout",
     "output_type": "stream",
     "text": [
      "time elapsed - 00:00:41.70\n",
      "331  -----  83000  -----  83249\n"
     ]
    },
    {
     "name": "stderr",
     "output_type": "stream",
     "text": [
      "C:\\Users\\minio\\anaconda3\\envs\\tfm-py-37\\lib\\site-packages\\gensim\\topic_coherence\\direct_confirmation_measure.py:204: RuntimeWarning: divide by zero encountered in double_scalars\n",
      "  m_lr_i = np.log(numerator / denominator)\n",
      "C:\\Users\\minio\\anaconda3\\envs\\tfm-py-37\\lib\\site-packages\\gensim\\topic_coherence\\indirect_confirmation_measure.py:323: RuntimeWarning: invalid value encountered in double_scalars\n",
      "  return cv1.T.dot(cv2)[0, 0] / (_magnitude(cv1) * _magnitude(cv2))\n"
     ]
    },
    {
     "name": "stdout",
     "output_type": "stream",
     "text": [
      "time elapsed - 00:00:37.94\n",
      "332  -----  83250  -----  83499\n"
     ]
    },
    {
     "name": "stderr",
     "output_type": "stream",
     "text": [
      "C:\\Users\\minio\\anaconda3\\envs\\tfm-py-37\\lib\\site-packages\\gensim\\topic_coherence\\direct_confirmation_measure.py:204: RuntimeWarning: divide by zero encountered in double_scalars\n",
      "  m_lr_i = np.log(numerator / denominator)\n",
      "C:\\Users\\minio\\anaconda3\\envs\\tfm-py-37\\lib\\site-packages\\gensim\\topic_coherence\\indirect_confirmation_measure.py:323: RuntimeWarning: invalid value encountered in double_scalars\n",
      "  return cv1.T.dot(cv2)[0, 0] / (_magnitude(cv1) * _magnitude(cv2))\n"
     ]
    },
    {
     "name": "stdout",
     "output_type": "stream",
     "text": [
      "time elapsed - 00:00:36.97\n",
      "333  -----  83500  -----  83749\n",
      "time elapsed - 00:00:40.35\n",
      "334  -----  83750  -----  83999\n",
      "time elapsed - 00:00:55.64\n",
      "335  -----  84000  -----  84249\n"
     ]
    },
    {
     "name": "stderr",
     "output_type": "stream",
     "text": [
      "C:\\Users\\minio\\anaconda3\\envs\\tfm-py-37\\lib\\site-packages\\gensim\\topic_coherence\\direct_confirmation_measure.py:204: RuntimeWarning: divide by zero encountered in double_scalars\n",
      "  m_lr_i = np.log(numerator / denominator)\n",
      "C:\\Users\\minio\\anaconda3\\envs\\tfm-py-37\\lib\\site-packages\\gensim\\topic_coherence\\indirect_confirmation_measure.py:323: RuntimeWarning: invalid value encountered in double_scalars\n",
      "  return cv1.T.dot(cv2)[0, 0] / (_magnitude(cv1) * _magnitude(cv2))\n"
     ]
    },
    {
     "name": "stdout",
     "output_type": "stream",
     "text": [
      "time elapsed - 00:00:47.63\n",
      "336  -----  84250  -----  84499\n"
     ]
    },
    {
     "name": "stderr",
     "output_type": "stream",
     "text": [
      "C:\\Users\\minio\\anaconda3\\envs\\tfm-py-37\\lib\\site-packages\\gensim\\topic_coherence\\direct_confirmation_measure.py:204: RuntimeWarning: divide by zero encountered in double_scalars\n",
      "  m_lr_i = np.log(numerator / denominator)\n",
      "C:\\Users\\minio\\anaconda3\\envs\\tfm-py-37\\lib\\site-packages\\gensim\\topic_coherence\\indirect_confirmation_measure.py:323: RuntimeWarning: invalid value encountered in double_scalars\n",
      "  return cv1.T.dot(cv2)[0, 0] / (_magnitude(cv1) * _magnitude(cv2))\n"
     ]
    },
    {
     "name": "stdout",
     "output_type": "stream",
     "text": [
      "time elapsed - 00:00:42.10\n",
      "337  -----  84500  -----  84749\n"
     ]
    },
    {
     "name": "stderr",
     "output_type": "stream",
     "text": [
      "C:\\Users\\minio\\anaconda3\\envs\\tfm-py-37\\lib\\site-packages\\gensim\\topic_coherence\\direct_confirmation_measure.py:204: RuntimeWarning: divide by zero encountered in double_scalars\n",
      "  m_lr_i = np.log(numerator / denominator)\n",
      "C:\\Users\\minio\\anaconda3\\envs\\tfm-py-37\\lib\\site-packages\\gensim\\topic_coherence\\indirect_confirmation_measure.py:323: RuntimeWarning: invalid value encountered in double_scalars\n",
      "  return cv1.T.dot(cv2)[0, 0] / (_magnitude(cv1) * _magnitude(cv2))\n"
     ]
    },
    {
     "name": "stdout",
     "output_type": "stream",
     "text": [
      "time elapsed - 00:00:44.01\n",
      "338  -----  84750  -----  84999\n"
     ]
    },
    {
     "name": "stderr",
     "output_type": "stream",
     "text": [
      "C:\\Users\\minio\\anaconda3\\envs\\tfm-py-37\\lib\\site-packages\\gensim\\topic_coherence\\direct_confirmation_measure.py:204: RuntimeWarning: divide by zero encountered in double_scalars\n",
      "  m_lr_i = np.log(numerator / denominator)\n",
      "C:\\Users\\minio\\anaconda3\\envs\\tfm-py-37\\lib\\site-packages\\gensim\\topic_coherence\\indirect_confirmation_measure.py:323: RuntimeWarning: invalid value encountered in double_scalars\n",
      "  return cv1.T.dot(cv2)[0, 0] / (_magnitude(cv1) * _magnitude(cv2))\n"
     ]
    },
    {
     "name": "stdout",
     "output_type": "stream",
     "text": [
      "time elapsed - 00:00:41.93\n",
      "339  -----  85000  -----  85249\n"
     ]
    },
    {
     "name": "stderr",
     "output_type": "stream",
     "text": [
      "C:\\Users\\minio\\anaconda3\\envs\\tfm-py-37\\lib\\site-packages\\gensim\\topic_coherence\\direct_confirmation_measure.py:204: RuntimeWarning: divide by zero encountered in double_scalars\n",
      "  m_lr_i = np.log(numerator / denominator)\n",
      "C:\\Users\\minio\\anaconda3\\envs\\tfm-py-37\\lib\\site-packages\\gensim\\topic_coherence\\indirect_confirmation_measure.py:323: RuntimeWarning: invalid value encountered in double_scalars\n",
      "  return cv1.T.dot(cv2)[0, 0] / (_magnitude(cv1) * _magnitude(cv2))\n"
     ]
    },
    {
     "name": "stdout",
     "output_type": "stream",
     "text": [
      "time elapsed - 00:00:42.37\n",
      "340  -----  85250  -----  85499\n"
     ]
    },
    {
     "name": "stderr",
     "output_type": "stream",
     "text": [
      "C:\\Users\\minio\\anaconda3\\envs\\tfm-py-37\\lib\\site-packages\\gensim\\topic_coherence\\direct_confirmation_measure.py:204: RuntimeWarning: divide by zero encountered in double_scalars\n",
      "  m_lr_i = np.log(numerator / denominator)\n",
      "C:\\Users\\minio\\anaconda3\\envs\\tfm-py-37\\lib\\site-packages\\gensim\\topic_coherence\\indirect_confirmation_measure.py:323: RuntimeWarning: invalid value encountered in double_scalars\n",
      "  return cv1.T.dot(cv2)[0, 0] / (_magnitude(cv1) * _magnitude(cv2))\n"
     ]
    },
    {
     "name": "stdout",
     "output_type": "stream",
     "text": [
      "time elapsed - 00:00:43.47\n",
      "341  -----  85500  -----  85749\n"
     ]
    },
    {
     "name": "stderr",
     "output_type": "stream",
     "text": [
      "C:\\Users\\minio\\anaconda3\\envs\\tfm-py-37\\lib\\site-packages\\gensim\\topic_coherence\\direct_confirmation_measure.py:204: RuntimeWarning: divide by zero encountered in double_scalars\n",
      "  m_lr_i = np.log(numerator / denominator)\n",
      "C:\\Users\\minio\\anaconda3\\envs\\tfm-py-37\\lib\\site-packages\\gensim\\topic_coherence\\indirect_confirmation_measure.py:323: RuntimeWarning: invalid value encountered in double_scalars\n",
      "  return cv1.T.dot(cv2)[0, 0] / (_magnitude(cv1) * _magnitude(cv2))\n"
     ]
    },
    {
     "name": "stdout",
     "output_type": "stream",
     "text": [
      "time elapsed - 00:00:44.23\n",
      "342  -----  85750  -----  85999\n"
     ]
    },
    {
     "name": "stderr",
     "output_type": "stream",
     "text": [
      "C:\\Users\\minio\\anaconda3\\envs\\tfm-py-37\\lib\\site-packages\\gensim\\topic_coherence\\direct_confirmation_measure.py:204: RuntimeWarning: divide by zero encountered in double_scalars\n",
      "  m_lr_i = np.log(numerator / denominator)\n",
      "C:\\Users\\minio\\anaconda3\\envs\\tfm-py-37\\lib\\site-packages\\gensim\\topic_coherence\\indirect_confirmation_measure.py:323: RuntimeWarning: invalid value encountered in double_scalars\n",
      "  return cv1.T.dot(cv2)[0, 0] / (_magnitude(cv1) * _magnitude(cv2))\n"
     ]
    },
    {
     "name": "stdout",
     "output_type": "stream",
     "text": [
      "time elapsed - 00:00:42.32\n",
      "343  -----  86000  -----  86249\n"
     ]
    },
    {
     "name": "stderr",
     "output_type": "stream",
     "text": [
      "C:\\Users\\minio\\anaconda3\\envs\\tfm-py-37\\lib\\site-packages\\gensim\\topic_coherence\\direct_confirmation_measure.py:204: RuntimeWarning: divide by zero encountered in double_scalars\n",
      "  m_lr_i = np.log(numerator / denominator)\n",
      "C:\\Users\\minio\\anaconda3\\envs\\tfm-py-37\\lib\\site-packages\\gensim\\topic_coherence\\indirect_confirmation_measure.py:323: RuntimeWarning: invalid value encountered in double_scalars\n",
      "  return cv1.T.dot(cv2)[0, 0] / (_magnitude(cv1) * _magnitude(cv2))\n"
     ]
    },
    {
     "name": "stdout",
     "output_type": "stream",
     "text": [
      "time elapsed - 00:00:42.93\n",
      "344  -----  86250  -----  86499\n"
     ]
    },
    {
     "name": "stderr",
     "output_type": "stream",
     "text": [
      "C:\\Users\\minio\\anaconda3\\envs\\tfm-py-37\\lib\\site-packages\\gensim\\topic_coherence\\direct_confirmation_measure.py:204: RuntimeWarning: divide by zero encountered in double_scalars\n",
      "  m_lr_i = np.log(numerator / denominator)\n",
      "C:\\Users\\minio\\anaconda3\\envs\\tfm-py-37\\lib\\site-packages\\gensim\\topic_coherence\\indirect_confirmation_measure.py:323: RuntimeWarning: invalid value encountered in double_scalars\n",
      "  return cv1.T.dot(cv2)[0, 0] / (_magnitude(cv1) * _magnitude(cv2))\n"
     ]
    },
    {
     "name": "stdout",
     "output_type": "stream",
     "text": [
      "time elapsed - 00:00:40.37\n",
      "345  -----  86500  -----  86749\n"
     ]
    },
    {
     "name": "stderr",
     "output_type": "stream",
     "text": [
      "C:\\Users\\minio\\anaconda3\\envs\\tfm-py-37\\lib\\site-packages\\gensim\\topic_coherence\\direct_confirmation_measure.py:204: RuntimeWarning: divide by zero encountered in double_scalars\n",
      "  m_lr_i = np.log(numerator / denominator)\n",
      "C:\\Users\\minio\\anaconda3\\envs\\tfm-py-37\\lib\\site-packages\\gensim\\topic_coherence\\indirect_confirmation_measure.py:323: RuntimeWarning: invalid value encountered in double_scalars\n",
      "  return cv1.T.dot(cv2)[0, 0] / (_magnitude(cv1) * _magnitude(cv2))\n"
     ]
    },
    {
     "name": "stdout",
     "output_type": "stream",
     "text": [
      "time elapsed - 00:00:39.79\n",
      "346  -----  86750  -----  86999\n",
      "time elapsed - 00:00:39.70\n",
      "347  -----  87000  -----  87249\n"
     ]
    },
    {
     "name": "stderr",
     "output_type": "stream",
     "text": [
      "C:\\Users\\minio\\anaconda3\\envs\\tfm-py-37\\lib\\site-packages\\gensim\\topic_coherence\\direct_confirmation_measure.py:204: RuntimeWarning: divide by zero encountered in double_scalars\n",
      "  m_lr_i = np.log(numerator / denominator)\n",
      "C:\\Users\\minio\\anaconda3\\envs\\tfm-py-37\\lib\\site-packages\\gensim\\topic_coherence\\indirect_confirmation_measure.py:323: RuntimeWarning: invalid value encountered in double_scalars\n",
      "  return cv1.T.dot(cv2)[0, 0] / (_magnitude(cv1) * _magnitude(cv2))\n"
     ]
    },
    {
     "name": "stdout",
     "output_type": "stream",
     "text": [
      "time elapsed - 00:00:40.46\n",
      "348  -----  87250  -----  87499\n"
     ]
    },
    {
     "name": "stderr",
     "output_type": "stream",
     "text": [
      "C:\\Users\\minio\\anaconda3\\envs\\tfm-py-37\\lib\\site-packages\\gensim\\topic_coherence\\direct_confirmation_measure.py:204: RuntimeWarning: divide by zero encountered in double_scalars\n",
      "  m_lr_i = np.log(numerator / denominator)\n",
      "C:\\Users\\minio\\anaconda3\\envs\\tfm-py-37\\lib\\site-packages\\gensim\\topic_coherence\\indirect_confirmation_measure.py:323: RuntimeWarning: invalid value encountered in double_scalars\n",
      "  return cv1.T.dot(cv2)[0, 0] / (_magnitude(cv1) * _magnitude(cv2))\n"
     ]
    },
    {
     "name": "stdout",
     "output_type": "stream",
     "text": [
      "time elapsed - 00:00:39.81\n",
      "349  -----  87500  -----  87749\n",
      "time elapsed - 00:00:41.38\n"
     ]
    }
   ],
   "source": [
    "documents_len = len(documents)\n",
    "\n",
    "while index+(index+1)*chunk_size < documents_len:\n",
    "    \n",
    "    time_start = time.time()\n",
    "    \n",
    "    print(index, ' ----- ', (index+1)*chunk_size, ' ----- ', ((index+1)*chunk_size)+chunk_size-1)\n",
    "    documents_sample = documents[(index+1)*chunk_size:((index+1)*chunk_size)+chunk_size-1]\n",
    "    \n",
    "    data_words = list(sent_to_words(documents_sample))\n",
    "    # Compute bigrams & trigrams\n",
    "    bi_tri_grams(data_words, 250)\n",
    "    # Categorizing and tagging words\n",
    "    data_words = list(map(tag_words, data_words))\n",
    "    # Create Corpus\n",
    "    texts = data_words\n",
    "    # Term Document Frequency\n",
    "    corpus = [id2word.doc2bow(text) for text in texts]\n",
    "    # Load LDA Model\n",
    "    temp_file = datapath(file_model)\n",
    "    lda_model = gensim.models.ldamodel.LdaModel.load(temp_file)\n",
    "    # Update LDA Model\n",
    "    lda_model.update(corpus)\n",
    "    \n",
    "    index = index + 1\n",
    "    indixes.append(index)\n",
    "    \n",
    "    # Evaluate LDA Model\n",
    "    # Compute Perplexity Score\n",
    "    perplexity = lda_model.log_perplexity(corpus)\n",
    "    perplexity_score.append(perplexity)\n",
    "\n",
    "    # Evaluate LDA Model\n",
    "    # Compute Coherence Score\n",
    "    coherence_lda_model = CoherenceModel(model=lda_model, texts=data_words, dictionary=id2word, coherence='c_v')\n",
    "    coherence = coherence_lda_model.get_coherence()\n",
    "    coherence_score.append(coherence)\n",
    "    \n",
    "    # Save LDA Model\n",
    "    temp_file = datapath(file_model)\n",
    "    lda_model.save(temp_file)\n",
    "    temp_file = datapath(file_model + '_' + str(index).zfill(5))\n",
    "    lda_model.save(temp_file)\n",
    "    \n",
    "    time_end = time.time()\n",
    "    hour, rem = divmod(time_end - time_start, 3600)\n",
    "    minute, second = divmod(rem, 60)\n",
    "    print('time elapsed - {:0>2}:{:0>2}:{:05.2f}'.format(int(hour), int(minute), second))"
   ]
  },
  {
   "cell_type": "markdown",
   "metadata": {},
   "source": [
    "### Topics in LDA model"
   ]
  },
  {
   "cell_type": "code",
   "execution_count": 16,
   "metadata": {},
   "outputs": [
    {
     "name": "stdout",
     "output_type": "stream",
     "text": [
      "[(0,\n",
      "  '0.031*\"power\" + 0.020*\"team\" + 0.017*\"roka\" + 0.014*\"experience\" + '\n",
      "  '0.014*\"tomorrow\" + 0.014*\"minute\" + 0.011*\"host\" + 0.011*\"race\" + '\n",
      "  '0.011*\"gift\" + 0.011*\"space\"'),\n",
      " (1,\n",
      "  '0.037*\"miami\" + 0.031*\"france\" + 0.022*\"york\" + 0.022*\"groom\" + '\n",
      "  '0.019*\"birthday\" + 0.019*\"guy\" + 0.019*\"santorini\" + 0.019*\"dapper\" + '\n",
      "  '0.016*\"season\" + 0.016*\"luxury\"'),\n",
      " (2,\n",
      "  '0.037*\"model\" + 0.034*\"thing\" + 0.034*\"photographer\" + 0.022*\"quote\" + '\n",
      "  '0.022*\"chocolate\" + 0.022*\"movie\" + 0.018*\"body\" + 0.015*\"inspire\" + '\n",
      "  '0.015*\"magazine\" + 0.012*\"nature\"'),\n",
      " (3,\n",
      "  '0.061*\"japonesque\" + 0.027*\"skin\" + 0.020*\"brush\" + 0.017*\"face\" + '\n",
      "  '0.017*\"repost\" + 0.017*\"course\" + 0.017*\"cone\" + 0.014*\"makeup\" + '\n",
      "  '0.014*\"star\" + 0.014*\"butter\"'),\n",
      " (4,\n",
      "  '0.048*\"talk\" + 0.032*\"game\" + 0.022*\"yoga\" + 0.019*\"land\" + 0.019*\"start\" + '\n",
      "  '0.019*\"focus\" + 0.016*\"launch\" + 0.016*\"earth\" + 0.016*\"lake\" + '\n",
      "  '0.016*\"challenge\"'),\n",
      " (5,\n",
      "  '0.000*\"kellogg\" + 0.000*\"arcachon\" + 0.000*\"cereal\" + 0.000*\"loop\" + '\n",
      "  '0.000*\"froot\" + 0.000*\"introduce\" + 0.000*\"paraguay\" + 0.000*\"ruiz\" + '\n",
      "  '0.000*\"talent\" + 0.000*\"diaz\"'),\n",
      " (6,\n",
      "  '0.055*\"food\" + 0.039*\"design\" + 0.031*\"health\" + 0.029*\"story\" + '\n",
      "  '0.026*\"wait\" + 0.026*\"breakfast\" + 0.024*\"party\" + 0.024*\"video\" + '\n",
      "  '0.024*\"carob\" + 0.013*\"plant\"'),\n",
      " (7,\n",
      "  '0.057*\"fashion\" + 0.054*\"style\" + 0.025*\"blogger\" + 0.024*\"hair\" + '\n",
      "  '0.020*\"summer\" + 0.020*\"beauty\" + 0.020*\"life\" + 0.018*\"week\" + '\n",
      "  '0.018*\"street\" + 0.018*\"love\"'),\n",
      " (8,\n",
      "  '0.022*\"society\" + 0.022*\"dance\" + 0.022*\"egg\" + 0.017*\"band\" + '\n",
      "  '0.017*\"image\" + 0.013*\"community\" + 0.013*\"music\" + 0.013*\"club\" + '\n",
      "  '0.013*\"masterclass\" + 0.013*\"balance\"'),\n",
      " (9,\n",
      "  '0.000*\"kellogg\" + 0.000*\"arcachon\" + 0.000*\"froot\" + 0.000*\"cereal\" + '\n",
      "  '0.000*\"loop\" + 0.000*\"introduce\" + 0.000*\"ruiz\" + 0.000*\"diaz\" + '\n",
      "  '0.000*\"paraguay\" + 0.000*\"talent\"')]\n"
     ]
    },
    {
     "name": "stderr",
     "output_type": "stream",
     "text": [
      "C:\\Users\\minio\\anaconda3\\envs\\tfm-py-37\\lib\\site-packages\\ipykernel\\ipkernel.py:287: DeprecationWarning: `should_run_async` will not call `transform_cell` automatically in the future. Please pass the result to `transformed_cell` argument and any exception that happen during thetransform in `preprocessing_exc_tuple` in IPython 7.17 and above.\n",
      "  and should_run_async(code)\n"
     ]
    }
   ],
   "source": [
    "# Print the Keyword in the 10 topics\n",
    "pprint(lda_model.print_topics())\n",
    "doc_lda = lda_model[corpus]"
   ]
  },
  {
   "cell_type": "markdown",
   "metadata": {},
   "source": [
    "### Plot perplexity score progress along incremental learning iterations  \n",
    "\n",
    "Lower the perplexity score represents a better model.  "
   ]
  },
  {
   "cell_type": "code",
   "execution_count": 17,
   "metadata": {},
   "outputs": [
    {
     "name": "stderr",
     "output_type": "stream",
     "text": [
      "C:\\Users\\minio\\anaconda3\\envs\\tfm-py-37\\lib\\site-packages\\ipykernel\\ipkernel.py:287: DeprecationWarning: `should_run_async` will not call `transform_cell` automatically in the future. Please pass the result to `transformed_cell` argument and any exception that happen during thetransform in `preprocessing_exc_tuple` in IPython 7.17 and above.\n",
      "  and should_run_async(code)\n"
     ]
    },
    {
     "data": {
      "image/png": "[encoded data removed]",
      "text/plain": [
       "<Figure size 432x288 with 1 Axes>"
      ]
     },
     "metadata": {
      "needs_background": "light"
     },
     "output_type": "display_data"
    }
   ],
   "source": [
    "plt.title('Perplexity score progress')\n",
    "plt.xlabel('Index')\n",
    "plt.ylabel('Perplexity score')\n",
    "plt.plot(indixes, perplexity_score, 'go', perplexity_score, 'k')\n",
    "plt.show()"
   ]
  },
  {
   "cell_type": "markdown",
   "metadata": {},
   "source": [
    "### Plot coherence score progress along incremental learning iterations  \n",
    "\n",
    "Higher the coherence score represents a more human interpretable model.  "
   ]
  },
  {
   "cell_type": "code",
   "execution_count": 18,
   "metadata": {},
   "outputs": [
    {
     "name": "stderr",
     "output_type": "stream",
     "text": [
      "C:\\Users\\minio\\anaconda3\\envs\\tfm-py-37\\lib\\site-packages\\ipykernel\\ipkernel.py:287: DeprecationWarning: `should_run_async` will not call `transform_cell` automatically in the future. Please pass the result to `transformed_cell` argument and any exception that happen during thetransform in `preprocessing_exc_tuple` in IPython 7.17 and above.\n",
      "  and should_run_async(code)\n"
     ]
    },
    {
     "data": {
      "image/png": "[encoded data removed]",
      "text/plain": [
       "<Figure size 432x288 with 1 Axes>"
      ]
     },
     "metadata": {
      "needs_background": "light"
     },
     "output_type": "display_data"
    }
   ],
   "source": [
    "plt.title('Coherence score progress')\n",
    "plt.xlabel('Index')\n",
    "plt.ylabel('Coherence score')\n",
    "plt.plot(indixes, coherence_score, 'go', coherence_score, 'k') \n",
    "plt.show()"
   ]
  },
  {
   "cell_type": "markdown",
   "metadata": {},
   "source": [
    "### Visualize the topics-keywords"
   ]
  },
  {
   "cell_type": "code",
   "execution_count": 19,
   "metadata": {},
   "outputs": [
    {
     "name": "stderr",
     "output_type": "stream",
     "text": [
      "C:\\Users\\minio\\anaconda3\\envs\\tfm-py-37\\lib\\site-packages\\ipykernel\\ipkernel.py:287: DeprecationWarning: `should_run_async` will not call `transform_cell` automatically in the future. Please pass the result to `transformed_cell` argument and any exception that happen during thetransform in `preprocessing_exc_tuple` in IPython 7.17 and above.\n",
      "  and should_run_async(code)\n"
     ]
    },
    {
     "data": {
      "text/html": [
       "\n",
       "<link rel=\"stylesheet\" type=\"text/css\" href=\"https://cdn.rawgit.com/bmabey/pyLDAvis/files/ldavis.v1.0.0.css\">\n",
       "\n",
       "\n",
       "<div id=\"ldavis_el1418817233403802325771769042\"></div>\n",
       "<script type=\"text/javascript\">\n",
       "\n",
       "var ldavis_el1418817233403802325771769042_data = {\"mdsDat\": {\"x\": [-0.33882730995421345, -0.09481577477319134, -0.050405027923743045, -0.03729321457670199, -0.030799791973738316, -0.03726931255874492, -0.007733421384367696, 0.0456530195393396, 0.2757454168026798, 0.27574541680267994], \"y\": [0.07467433843095103, 0.0026506269312407795, -0.2930918864221788, -0.13442176372669717, 0.21332935590505847, 0.03018402732665516, 0.19268356661527952, -0.1680569561008055, 0.041024345520248084, 0.04102434552024816], \"topics\": [1, 2, 3, 4, 5, 6, 7, 8, 9, 10], \"cluster\": [1, 1, 1, 1, 1, 1, 1, 1, 1, 1], \"Freq\": [38.89648457671137, 10.24928261901138, 9.476294404652144, 8.724712762289533, 8.669353983377269, 8.45190979516355, 8.055124405603202, 6.208882018550901, 0.6339777193864877, 0.6339777152541635]}, \"tinfo\": {\"Term\": [\"fashion\", \"style\", \"food\", \"japonesque\", \"talk\", \"design\", \"blogger\", \"hair\", \"miami\", \"model\", \"summer\", \"health\", \"thing\", \"photographer\", \"beauty\", \"life\", \"power\", \"story\", \"game\", \"week\", \"street\", \"france\", \"love\", \"time\", \"wait\", \"breakfast\", \"party\", \"video\", \"skin\", \"carob\", \"fashion\", \"style\", \"blogger\", \"hair\", \"summer\", \"life\", \"beauty\", \"street\", \"week\", \"love\", \"time\", \"travel\", \"woman\", \"today\", \"gram\", \"shop\", \"weekend\", \"year\", \"product\", \"work\", \"check\", \"link\", \"family\", \"place\", \"mood\", \"day\", \"blog\", \"inspiration\", \"post\", \"beach\", \"watch\", \"food\", \"design\", \"health\", \"story\", \"breakfast\", \"wait\", \"party\", \"video\", \"plant\", \"taste\", \"feed\", \"tonight\", \"room\", \"progress\", \"wine\", \"carob\", \"base\", \"architecture\", \"tokyo\", \"tomato\", \"blue\", \"dinner\", \"recipe\", \"george\", \"bonne\", \"tour\", \"jordan\", \"smoothie\", \"yogurt\", \"slide\", \"yummy\", \"wholefood\", \"power\", \"team\", \"roka\", \"experience\", \"tomorrow\", \"host\", \"gift\", \"comment\", \"matter\", \"race\", \"space\", \"brand\", \"advertising\", \"porter\", \"camera\", \"planet\", \"eats\", \"chill\", \"child\", \"kabul\", \"wynter\", \"leica\", \"bikini\", \"change\", \"parent\", \"anxiety\", \"episode\", \"cover\", \"stock\", \"cruise\", \"stuff\", \"minute\", \"pride\", \"kit\", \"weight\", \"model\", \"photographer\", \"thing\", \"quote\", \"chocolate\", \"movie\", \"body\", \"magazine\", \"inspire\", \"nature\", \"mountain\", \"heart\", \"create\", \"treat\", \"foto\", \"monday\", \"picture\", \"lola\", \"banana\", \"dream\", \"mind\", \"daze\", \"issue\", \"milan\", \"birkenstock\", \"fotos\", \"turn\", \"park\", \"country\", \"boot\", \"online\", \"planner\", \"weight\", \"boom\", \"miami\", \"france\", \"york\", \"groom\", \"birthday\", \"santorini\", \"dapper\", \"guy\", \"luxury\", \"season\", \"shoe\", \"flower\", \"yesterday\", \"curator\", \"class\", \"moda\", \"greece\", \"front\", \"bracelet\", \"pack\", \"sunday\", \"jacket\", \"suit\", \"sense\", \"meet\", \"porch\", \"sit\", \"stallone\", \"downton\", \"pippa\", \"jameson\", \"talk\", \"game\", \"yoga\", \"land\", \"start\", \"focus\", \"launch\", \"earth\", \"lake\", \"fitness\", \"energy\", \"prep\", \"couple\", \"tuesday\", \"swim\", \"throwback\", \"wellness\", \"culture\", \"step\", \"pregnancy\", \"wheel\", \"point\", \"edition\", \"champion\", \"men\", \"badass\", \"habit\", \"motivation\", \"entrepreneur\", \"hope\", \"challenge\", \"business\", \"japonesque\", \"skin\", \"brush\", \"face\", \"course\", \"repost\", \"cone\", \"makeup\", \"star\", \"butter\", \"wedding\", \"independence\", \"goddess\", \"light\", \"session\", \"hand\", \"lash\", \"artist\", \"skincare\", \"crease\", \"lipstick\", \"nail\", \"colour\", \"rise\", \"babe\", \"palette\", \"concealer\", \"eye\", \"scream\", \"sponge\", \"support\", \"reception\", \"interview\", \"society\", \"dance\", \"egg\", \"band\", \"image\", \"community\", \"club\", \"music\", \"masterclass\", \"balance\", \"vision\", \"rock\", \"word\", \"dirt\", \"sempre\", \"glory\", \"result\", \"partner\", \"palm\", \"wall\", \"program\", \"order\", \"performance\", \"sunglass\", \"hate\", \"abstraction\", \"blogg\", \"storm\", \"mash\", \"tuner\", \"court\", \"spray\", \"italy\", \"kellogg\", \"arcachon\", \"froot\", \"introduce\", \"loop\", \"cereal\", \"paraguay\", \"diaz\", \"ruiz\", \"slot\", \"deet\", \"seashell\", \"telephon\", \"talent\", \"vega\", \"ottawa\", \"mert\", \"fond\", \"raven\", \"avenue\", \"arlington\", \"yellow\", \"renew\", \"cocoon\", \"lifeline\", \"herramientas\", \"tener\", \"jacey\", \"nannie\", \"exitos\", \"converse\", \"bathing\", \"mindfulness\", \"freestyle\", \"watermelon\", \"appearance\", \"hairline\", \"kellogg\", \"arcachon\", \"froot\", \"introduce\", \"loop\", \"cereal\", \"paraguay\", \"diaz\", \"ruiz\", \"slot\", \"deet\", \"telephon\", \"seashell\", \"talent\", \"vega\", \"ottawa\", \"mert\", \"fond\", \"raven\", \"avenue\", \"arlington\", \"yellow\", \"renew\", \"cocoon\", \"lifeline\", \"herramientas\", \"tener\", \"jacey\", \"nannie\", \"exitos\", \"converse\", \"bathing\", \"mindfulness\", \"freestyle\", \"watermelon\", \"appearance\", \"hairline\"], \"Freq\": [80.0, 75.0, 20.0, 17.0, 14.0, 14.0, 34.0, 33.0, 11.0, 11.0, 28.0, 11.0, 10.0, 10.0, 27.0, 27.0, 10.0, 10.0, 9.0, 25.0, 25.0, 9.0, 24.0, 23.0, 9.0, 9.0, 8.0, 8.0, 7.0, 8.0, 80.24920818016453, 75.52929538096144, 34.932680155506226, 33.04091010408448, 28.326350439416064, 27.3808834232345, 27.382341231467954, 25.4891107592532, 25.489842275929487, 24.548004104974204, 23.602103403905986, 18.88160147252253, 16.993568687548738, 16.05027662719934, 14.162509017020701, 13.217524018077617, 13.216690611578564, 12.274950411606715, 12.272964866342512, 12.274303803116071, 11.329108493128555, 11.328493235352607, 10.386493738844612, 10.385211625241444, 10.384636862138649, 10.384717198345061, 10.384567629310357, 10.384099981149445, 9.441791549473697, 9.440455878399588, 9.440945733316743, 20.323899443475096, 14.515938689352236, 11.612008566469147, 10.645274445031935, 9.676818601676496, 9.677010669015635, 8.710237996427914, 8.709200557431204, 4.839217153965413, 4.83874524657839, 4.83859551666347, 4.838067503584189, 4.8383056946212575, 3.8708187931290343, 3.8703227912729434, 8.704745145893911, 2.904257119249006, 2.9039631667263817, 2.90285344432247, 2.9029319234502897, 1.935759110572698, 1.9359790586546146, 1.936188852638853, 1.9353730827575653, 1.9353042414173722, 1.935247791518414, 1.9352536430323304, 1.9352457262782081, 1.9352457262782081, 1.9350700087573653, 1.9352832448086135, 1.9352682718171215, 10.693069305375115, 6.8046694730676345, 5.832005262957918, 4.86182910834329, 4.860713015912838, 3.88880814328218, 3.8884921239541392, 3.888256302884574, 3.888367052860564, 3.8886388358476203, 3.8883883754134128, 3.8882381628023, 3.8879596966270373, 3.8877907074395353, 2.9164854122650996, 2.9165137362532123, 2.9164730006298596, 2.916151571101842, 2.9158645122560287, 2.9158680129736605, 2.9159036566440943, 2.9157378499271664, 1.9469264978183822, 1.9456286863181302, 1.9445627177992253, 1.9443827490882413, 1.94438911402939, 1.944254972894678, 1.9440985544659448, 1.9441297426775743, 2.914052413510949, 4.828893720368526, 1.9450340416912981, 2.915958076890917, 2.635811398041567, 11.609897297579948, 10.642853374436443, 10.643740597577523, 6.7722498314836335, 6.771832004469374, 6.771292286825429, 5.805217042580341, 4.837288240346328, 4.837365887021488, 3.871189848601852, 3.8695809508912635, 3.8699729933492435, 3.869411300231196, 3.8693409787140696, 3.869806858765032, 2.902905922706351, 2.9026621414469793, 2.9024661202179893, 2.902454399965135, 2.9033401580746068, 2.9025402508172933, 2.902505969077694, 2.902394333669256, 2.902170476839737, 2.902010495388274, 2.9015003713827863, 1.9354509116939775, 1.935486804968344, 1.9348893650790908, 1.9349847386366934, 1.9349097290184252, 1.9351249421614642, 2.2141189687183798, 2.065048047141059, 11.649500928831772, 9.70713464297451, 6.79588935297312, 6.794491846507916, 5.825344404663598, 5.824731830996351, 5.824564712514887, 5.824805200085773, 4.8544570672701015, 4.854727543000554, 4.854372634587828, 3.883183668715592, 3.8831737697114637, 3.8827731511914383, 3.882116614299973, 2.912635226639907, 2.912502463525713, 2.9122072402849386, 2.912187733423862, 2.912436664262976, 2.9125286667719354, 2.9121827839217973, 2.912008095613647, 2.912111452862636, 2.91173296152831, 2.9120340077126894, 2.9111331983369935, 2.9119725756576567, 2.9119842215448664, 2.911491018221522, 2.911491018221522, 14.628884096729779, 9.752019816232034, 6.826169651429786, 5.851917754602637, 5.851512424449444, 5.850862420212182, 4.876193271756747, 4.875917374761716, 4.875702220520736, 3.9044596446208613, 3.901120212371344, 3.900916411916168, 2.9271249111033595, 2.9261737476976535, 2.926402242636953, 2.926006847046339, 2.926080646654063, 2.92640650030663, 2.925933615127905, 2.925725557003052, 2.9258186580466425, 2.925929641302874, 2.9253650743037842, 2.925128631714422, 2.9250588059317293, 2.92513913396629, 2.9247499829578683, 1.951434347692558, 1.9514163235575948, 1.951213516558676, 4.864999006643576, 1.9516520565353443, 17.672551197338244, 7.856118508166606, 5.892407146970969, 4.912070431715581, 4.909291117391781, 4.9094772346056, 4.908980020304729, 3.929461084609479, 3.9290458376280664, 3.927893425809944, 3.927856364678704, 3.9276550983893417, 3.927763847110207, 3.92754120980356, 3.927497656211373, 3.926378788774811, 2.947991975957223, 2.9464565089432178, 2.9460788641314575, 2.946080216727488, 2.9457304353939593, 2.945819706731983, 2.945911412742862, 2.9457179915104774, 2.945622498230713, 1.9652273508268008, 1.9650045782605512, 1.9647800473194617, 1.9640877886709698, 1.9640852187385116, 1.9641697559904279, 3.8927013117650264, 2.3469283275638095, 4.862172596159772, 4.862152578629564, 4.862000361993601, 3.8899032215520397, 3.8897268170670753, 2.918243964583793, 2.917719755511453, 2.9177360197547473, 2.91720972552301, 2.917149464416444, 2.9165554025043128, 1.9454814497787316, 1.945336531200658, 1.9451826464371786, 1.945033974572191, 1.944852357188735, 1.9449712112743491, 1.9449999864740242, 1.9448192031543268, 1.9447161962801278, 1.9446302877129822, 1.944655935173562, 1.944856736023468, 1.94449725454347, 1.9444655601206395, 1.9448244160528187, 1.944806275166067, 1.944806275166067, 1.944806275166067, 1.9447330860712415, 2.2902671433804227, 2.056465518281815, 1.9448415143598718, 0.0004624000576066778, 0.00045470221279219285, 0.0004491263756218534, 0.0004491263756218534, 0.0004491263756218534, 0.0004491263756218534, 0.00044912080331935256, 0.00044912080331935256, 0.00044912080331935256, 0.0004491180587524492, 0.0004491180587524492, 0.0004491171438968147, 0.0004491171438968147, 0.00044912080331935256, 0.0004491171854811617, 0.0004446922366989814, 0.0004446922366989814, 0.0004446922366989814, 0.0004446922366989814, 0.0004446922366989814, 0.0004446922366989814, 0.0004446922366989814, 0.0004446922366989814, 0.0004446922366989814, 0.0004446922366989814, 0.000444691571349429, 0.000444691571349429, 0.000444691571349429, 0.000444691571349429, 0.000444691571349429, 0.00044469319313896285, 0.0004446929852172278, 0.0004446929852172278, 0.00044469231986767543, 0.0004446924446207165, 0.0004446924030363695, 0.0004446924446207165, 0.0004624000545927123, 0.0004547022098284026, 0.00044912637269440696, 0.00044912637269440696, 0.00044912637269440696, 0.00044912637269440696, 0.00044912080039194246, 0.00044912080039194246, 0.00044912080039194246, 0.00044911805582505696, 0.00044911805582505696, 0.0004491172241381219, 0.00044911709938508167, 0.00044912080039194246, 0.0004491171409694284, 0.0004446922338004371, 0.0004446922338004371, 0.0004446922338004371, 0.0004446922338004371, 0.0004446922338004371, 0.0004446922338004371, 0.0004446922338004371, 0.0004446922338004371, 0.0004446922338004371, 0.0004446922338004371, 0.00044469156845088905, 0.00044469156845088905, 0.00044469156845088905, 0.00044469156845088905, 0.00044469156845088905, 0.0004446931902404123, 0.0004446929823186786, 0.0004446929823186786, 0.0004446923169691306, 0.00044469244172217083, 0.0004446924001378241, 0.00044469244172217083], \"Total\": [80.0, 75.0, 20.0, 17.0, 14.0, 14.0, 34.0, 33.0, 11.0, 11.0, 28.0, 11.0, 10.0, 10.0, 27.0, 27.0, 10.0, 10.0, 9.0, 25.0, 25.0, 9.0, 24.0, 23.0, 9.0, 9.0, 8.0, 8.0, 7.0, 8.0, 80.25203754579931, 75.5321247328058, 34.935509510593285, 33.04373972475915, 28.329179942301604, 27.383713267399397, 27.385171266118036, 25.49193999496052, 25.492672059043095, 24.55083373136582, 23.60493361023064, 18.88443084837174, 16.99639853503595, 16.053106259251223, 14.165338847580633, 13.220353466845745, 13.219520556286433, 12.277779967881129, 12.27579436043179, 12.277133829082967, 11.331938578203571, 11.331323717843375, 10.389323145417809, 10.388041259697912, 10.387466492904075, 10.38754691457022, 10.387397345210559, 10.386930429026943, 9.444621309617235, 9.443285301394122, 9.443775662760112, 20.326721847147276, 14.51876140002304, 11.614831175969838, 10.648097525453862, 9.679641004710113, 9.679833428937084, 8.713060905628549, 8.712023777532997, 4.842039545730549, 4.841567617177444, 4.841417890508368, 4.840890578060755, 4.841128915643823, 3.873641671471425, 3.873146402141672, 8.711110062664456, 2.9070795321843277, 2.906785529986843, 2.905675798159436, 2.905754506937033, 1.9385814577616078, 1.9388018520928856, 1.9390124933502706, 1.9381955857882398, 1.9381266876023338, 1.9380701908052202, 1.9380766159985099, 1.9380687116328905, 1.9380687129284868, 1.9378927554408478, 1.9381065627197531, 1.93809928942169, 10.695891291874162, 6.807491922077635, 5.834901989580763, 4.864650732449331, 4.863534534312041, 3.891629373325004, 3.891313335085301, 3.891077559463293, 3.8911884377664365, 3.891460520513963, 3.891210668655642, 3.8910603592176454, 3.8908267594958654, 3.890823196119623, 2.9193065305624244, 2.9193349099372767, 2.9192944883124268, 2.918973175211702, 2.9186870434712078, 2.9188260568132667, 2.9188690075148016, 2.9188619583873288, 1.9497480972146892, 1.9484498047622527, 1.9473838277171518, 1.9472041443091683, 1.9472105894170821, 1.9470763501161248, 1.946919819110126, 1.9469510823890694, 2.919281425427079, 4.862726221165057, 1.9479785815483275, 3.891112977977438, 4.852477871343462, 11.612720491406659, 10.645675865233407, 10.646563865438369, 6.775072330280123, 6.7746548718482, 6.774116482902035, 5.80803999372911, 4.840110815958537, 4.84018909573852, 3.8740125302029638, 3.8724039822159204, 3.87279644187205, 3.872235068332966, 3.8721650969747543, 3.8731396705561782, 2.905728364766455, 2.905484747339949, 2.905288573476483, 2.9052769051706293, 2.906163533321779, 2.9053628501668896, 2.905328590548668, 2.905216924324786, 2.9050026014034, 2.904853002689876, 2.9048400256461475, 1.9382734627727323, 1.9383097519097294, 1.9377117906314905, 1.9378075644565462, 1.937733078453968, 1.9380997542630487, 4.852477871343462, 3.881413729061472, 11.65232243525361, 9.709956469633688, 6.798710909728854, 6.7973140966542624, 5.828166031751386, 5.827553300712073, 5.82738618259656, 5.827626971392315, 4.857278580936601, 4.857549338879884, 4.857194323235552, 3.8860052965554557, 3.8859954080006025, 3.8855950705686855, 3.8849399725408884, 2.9154567024570808, 2.915323978374643, 2.9150287498276177, 2.9150092419463363, 2.9152584543212794, 2.915350775234181, 2.9150047076207986, 2.914830070918102, 2.9149335345293483, 2.914555572053069, 2.9148579748623136, 2.913957105660973, 2.9148107875689844, 2.9148256639579704, 2.914803747266839, 2.914803747266839, 14.631705065876451, 9.75484097912873, 6.828990708083528, 5.854738055306793, 5.854333327455204, 5.85368372148535, 4.879013725303846, 4.878738077930122, 4.878685543549417, 3.9072798440427494, 3.9039407750215576, 3.903740519080885, 2.9299455769819547, 2.9289939665771176, 2.929222707851197, 2.928827056862067, 2.9289009999435325, 2.929227285033331, 2.92875399041476, 2.9285458791339494, 2.928639496675911, 2.928751071410941, 2.9281863207270735, 2.9279500238129272, 2.927880324157962, 2.928517374262332, 2.9285513307577657, 1.95425453408891, 1.9542365327353017, 1.9540337585375305, 4.879338699266998, 1.9544736298330674, 17.67546180166918, 7.858936986371068, 5.895225440694837, 4.9148890376196475, 4.912110009481522, 4.91229671815026, 4.911817062985607, 3.932279379396209, 3.9318642828869774, 3.9307117917892516, 3.9306747864232854, 3.9304735539284024, 3.9305824057533516, 3.93036017441054, 3.930316869709742, 3.9291995306158003, 2.9508104384759526, 2.9492749896402946, 2.9488971530507535, 2.9488985174606333, 2.948548864786488, 2.948638368540414, 2.9487301713911727, 2.948536764425278, 2.948441727488324, 1.9680457369120654, 1.9678228717928796, 1.9675983643815194, 1.9669060700476935, 1.9669035123767742, 1.9669888351163112, 3.9297414090572937, 3.9073378205340488, 4.864993925436906, 4.86497415270865, 4.864822192715247, 3.892724340510157, 3.892548681245378, 2.9210650786907015, 2.9205407488781874, 2.92055751500461, 2.920031297702696, 2.919971927028689, 2.91937753616211, 1.9483025962910936, 1.948157689109633, 1.9480036413988664, 1.9478552447718267, 1.9476735447345397, 1.9477926969047492, 1.947821655236714, 1.9476409042323282, 1.9475379294794914, 1.947451951278539, 1.9474778637690697, 1.9476790797273715, 1.947319398446995, 1.947288077463354, 1.9476499828890277, 1.947635701797834, 1.947635701797834, 1.947635701797834, 1.947699164898546, 2.91966091683943, 2.919512818361952, 2.8914228469389998, 0.0031360462483248667, 0.003119782864885007, 0.0031077711090922427, 0.0031077711090922427, 0.0031077960692649, 0.003107796194971521, 0.0031077599644872777, 0.0031077599644872777, 0.0031077599644872777, 0.0031077544753534887, 0.0031077544952857364, 0.003107752604057879, 0.0031077527288109193, 0.0031077849246599347, 0.0031077783953685494, 0.0030980503932202803, 0.0030980503932202803, 0.0030980503932202803, 0.0030980503932202803, 0.0030980503932202803, 0.0030980503932202803, 0.0030980503932202803, 0.0030980503932202803, 0.0030980503932202803, 0.0030980503932202803, 0.003098048943656203, 0.003098048943656203, 0.003098048943656203, 0.003098048943656203, 0.003098048943656203, 0.9753494389080937, 0.9463445037614173, 0.9463445037614173, 0.9465579157631917, 0.9702893705023605, 0.970478364661659, 0.9702893705023605, 0.0031360462483248667, 0.003119782864885007, 0.0031077711090922427, 0.0031077711090922427, 0.0031077960692649, 0.003107796194971521, 0.0031077599644872777, 0.0031077599644872777, 0.0031077599644872777, 0.0031077544753534887, 0.0031077544952857364, 0.0031077527288109193, 0.003107752604057879, 0.0031077849246599347, 0.0031077783953685494, 0.0030980503932202803, 0.0030980503932202803, 0.0030980503932202803, 0.0030980503932202803, 0.0030980503932202803, 0.0030980503932202803, 0.0030980503932202803, 0.0030980503932202803, 0.0030980503932202803, 0.0030980503932202803, 0.003098048943656203, 0.003098048943656203, 0.003098048943656203, 0.003098048943656203, 0.003098048943656203, 0.9753494389080937, 0.9463445037614173, 0.9463445037614173, 0.9465579157631917, 0.9702893705023605, 0.970478364661659, 0.9702893705023605], \"Category\": [\"Default\", \"Default\", \"Default\", \"Default\", \"Default\", \"Default\", \"Default\", \"Default\", \"Default\", \"Default\", \"Default\", \"Default\", \"Default\", \"Default\", \"Default\", \"Default\", \"Default\", \"Default\", \"Default\", \"Default\", \"Default\", \"Default\", \"Default\", \"Default\", \"Default\", \"Default\", \"Default\", \"Default\", \"Default\", \"Default\", \"Topic1\", \"Topic1\", \"Topic1\", \"Topic1\", \"Topic1\", \"Topic1\", \"Topic1\", \"Topic1\", \"Topic1\", \"Topic1\", \"Topic1\", \"Topic1\", \"Topic1\", \"Topic1\", \"Topic1\", \"Topic1\", \"Topic1\", \"Topic1\", \"Topic1\", \"Topic1\", \"Topic1\", \"Topic1\", \"Topic1\", \"Topic1\", \"Topic1\", \"Topic1\", \"Topic1\", \"Topic1\", \"Topic1\", \"Topic1\", \"Topic1\", \"Topic2\", \"Topic2\", \"Topic2\", \"Topic2\", \"Topic2\", \"Topic2\", \"Topic2\", \"Topic2\", \"Topic2\", \"Topic2\", \"Topic2\", \"Topic2\", \"Topic2\", \"Topic2\", \"Topic2\", \"Topic2\", \"Topic2\", \"Topic2\", \"Topic2\", \"Topic2\", \"Topic2\", \"Topic2\", \"Topic2\", \"Topic2\", \"Topic2\", \"Topic2\", \"Topic2\", \"Topic2\", \"Topic2\", \"Topic2\", \"Topic2\", \"Topic2\", \"Topic3\", \"Topic3\", \"Topic3\", \"Topic3\", \"Topic3\", \"Topic3\", \"Topic3\", \"Topic3\", \"Topic3\", \"Topic3\", \"Topic3\", \"Topic3\", \"Topic3\", \"Topic3\", \"Topic3\", \"Topic3\", \"Topic3\", \"Topic3\", \"Topic3\", \"Topic3\", \"Topic3\", \"Topic3\", \"Topic3\", \"Topic3\", \"Topic3\", \"Topic3\", \"Topic3\", \"Topic3\", \"Topic3\", \"Topic3\", \"Topic3\", \"Topic3\", \"Topic3\", \"Topic3\", \"Topic3\", \"Topic4\", \"Topic4\", \"Topic4\", \"Topic4\", \"Topic4\", \"Topic4\", \"Topic4\", \"Topic4\", \"Topic4\", \"Topic4\", \"Topic4\", \"Topic4\", \"Topic4\", \"Topic4\", \"Topic4\", \"Topic4\", \"Topic4\", \"Topic4\", \"Topic4\", \"Topic4\", \"Topic4\", \"Topic4\", \"Topic4\", \"Topic4\", \"Topic4\", \"Topic4\", \"Topic4\", \"Topic4\", \"Topic4\", \"Topic4\", \"Topic4\", \"Topic4\", \"Topic4\", \"Topic4\", \"Topic5\", \"Topic5\", \"Topic5\", \"Topic5\", \"Topic5\", \"Topic5\", \"Topic5\", \"Topic5\", \"Topic5\", \"Topic5\", \"Topic5\", \"Topic5\", \"Topic5\", \"Topic5\", \"Topic5\", \"Topic5\", \"Topic5\", \"Topic5\", \"Topic5\", \"Topic5\", \"Topic5\", \"Topic5\", \"Topic5\", \"Topic5\", \"Topic5\", \"Topic5\", \"Topic5\", \"Topic5\", \"Topic5\", \"Topic5\", \"Topic5\", \"Topic6\", \"Topic6\", \"Topic6\", \"Topic6\", \"Topic6\", \"Topic6\", \"Topic6\", \"Topic6\", \"Topic6\", \"Topic6\", \"Topic6\", \"Topic6\", \"Topic6\", \"Topic6\", \"Topic6\", \"Topic6\", \"Topic6\", \"Topic6\", \"Topic6\", \"Topic6\", \"Topic6\", \"Topic6\", \"Topic6\", \"Topic6\", \"Topic6\", \"Topic6\", \"Topic6\", \"Topic6\", \"Topic6\", \"Topic6\", \"Topic6\", \"Topic6\", \"Topic7\", \"Topic7\", \"Topic7\", \"Topic7\", \"Topic7\", \"Topic7\", \"Topic7\", \"Topic7\", \"Topic7\", \"Topic7\", \"Topic7\", \"Topic7\", \"Topic7\", \"Topic7\", \"Topic7\", \"Topic7\", \"Topic7\", \"Topic7\", \"Topic7\", \"Topic7\", \"Topic7\", \"Topic7\", \"Topic7\", \"Topic7\", \"Topic7\", \"Topic7\", \"Topic7\", \"Topic7\", \"Topic7\", \"Topic7\", \"Topic7\", \"Topic7\", \"Topic7\", \"Topic8\", \"Topic8\", \"Topic8\", \"Topic8\", \"Topic8\", \"Topic8\", \"Topic8\", \"Topic8\", \"Topic8\", \"Topic8\", \"Topic8\", \"Topic8\", \"Topic8\", \"Topic8\", \"Topic8\", \"Topic8\", \"Topic8\", \"Topic8\", \"Topic8\", \"Topic8\", \"Topic8\", \"Topic8\", \"Topic8\", \"Topic8\", \"Topic8\", \"Topic8\", \"Topic8\", \"Topic8\", \"Topic8\", \"Topic8\", \"Topic8\", \"Topic8\", \"Topic8\", \"Topic9\", \"Topic9\", \"Topic9\", \"Topic9\", \"Topic9\", \"Topic9\", \"Topic9\", \"Topic9\", \"Topic9\", \"Topic9\", \"Topic9\", \"Topic9\", \"Topic9\", \"Topic9\", \"Topic9\", \"Topic9\", \"Topic9\", \"Topic9\", \"Topic9\", \"Topic9\", \"Topic9\", \"Topic9\", \"Topic9\", \"Topic9\", \"Topic9\", \"Topic9\", \"Topic9\", \"Topic9\", \"Topic9\", \"Topic9\", \"Topic9\", \"Topic9\", \"Topic9\", \"Topic9\", \"Topic9\", \"Topic9\", \"Topic9\", \"Topic10\", \"Topic10\", \"Topic10\", \"Topic10\", \"Topic10\", \"Topic10\", \"Topic10\", \"Topic10\", \"Topic10\", \"Topic10\", \"Topic10\", \"Topic10\", \"Topic10\", \"Topic10\", \"Topic10\", \"Topic10\", \"Topic10\", \"Topic10\", \"Topic10\", \"Topic10\", \"Topic10\", \"Topic10\", \"Topic10\", \"Topic10\", \"Topic10\", \"Topic10\", \"Topic10\", \"Topic10\", \"Topic10\", \"Topic10\", \"Topic10\", \"Topic10\", \"Topic10\", \"Topic10\", \"Topic10\", \"Topic10\", \"Topic10\"], \"logprob\": [30.0, 29.0, 28.0, 27.0, 26.0, 25.0, 24.0, 23.0, 22.0, 21.0, 20.0, 19.0, 18.0, 17.0, 16.0, 15.0, 14.0, 13.0, 12.0, 11.0, 10.0, 9.0, 8.0, 7.0, 6.0, 5.0, 4.0, 3.0, 2.0, 1.0, -2.8610000610351562, -2.921600103378296, -3.692699909210205, -3.748300075531006, -3.9022998809814453, -3.936199903488159, -3.936199903488159, -4.007800102233887, -4.007800102233887, -4.045499801635742, -4.084799766540527, -4.3078999519348145, -4.413300037384033, -4.470399856567383, -4.5954999923706055, -4.6645002365112305, -4.664599895477295, -4.738500118255615, -4.738699913024902, -4.73859977722168, -4.818699836730957, -4.81879997253418, -4.905600070953369, -4.905700206756592, -4.905799865722656, -4.905799865722656, -4.905799865722656, -4.905799865722656, -5.000899791717529, -5.001100063323975, -5.000999927520752, -2.900599956512451, -3.2370998859405518, -3.460400104522705, -3.547300100326538, -3.642699956893921, -3.6426000595092773, -3.7479000091552734, -3.747999906539917, -4.335599899291992, -4.335700035095215, -4.3358001708984375, -4.335899829864502, -4.3358001708984375, -4.558899879455566, -4.559100151062012, -3.748500108718872, -4.846199989318848, -4.84630012512207, -4.846700191497803, -4.846700191497803, -5.2519001960754395, -5.251800060272217, -5.251699924468994, -5.252099990844727, -5.252099990844727, -5.252200126647949, -5.252200126647949, -5.252200126647949, -5.252200126647949, -5.252200126647949, -5.252099990844727, -5.252099990844727, -3.464400053024292, -3.9163999557495117, -4.0706000328063965, -4.252600193023682, -4.252799987792969, -4.475900173187256, -4.47599983215332, -4.47599983215332, -4.47599983215332, -4.475900173187256, -4.47599983215332, -4.47599983215332, -4.476099967956543, -4.476099967956543, -4.763599872589111, -4.763599872589111, -4.763599872589111, -4.763700008392334, -4.763800144195557, -4.763800144195557, -4.763800144195557, -4.763899803161621, -5.167699813842773, -5.168399810791016, -5.168900012969971, -5.169000148773193, -5.169000148773193, -5.169099807739258, -5.1691999435424805, -5.1691999435424805, -4.764400005340576, -4.259399890899658, -5.168700218200684, -4.763800144195557, -4.864799976348877, -3.299499988555908, -3.3864998817443848, -3.386399984359741, -3.8385000228881836, -3.838599920272827, -3.83870005607605, -3.9925999641418457, -4.175000190734863, -4.175000190734863, -4.397799968719482, -4.398200035095215, -4.398099899291992, -4.398200035095215, -4.3983001708984375, -4.398099899291992, -4.6855998039245605, -4.685699939727783, -4.685800075531006, -4.685800075531006, -4.685500144958496, -4.685800075531006, -4.685800075531006, -4.685800075531006, -4.6859002113342285, -4.6859002113342285, -4.686100006103516, -5.091000080108643, -5.091000080108643, -5.091300010681152, -5.09119987487793, -5.091300010681152, -5.09119987487793, -4.956500053405762, -5.026199817657471, -3.2897000312805176, -3.472100019454956, -3.828700065612793, -3.828900098800659, -3.982800006866455, -3.9828999042510986, -3.9828999042510986, -3.9828999042510986, -4.16510009765625, -4.164999961853027, -4.16510009765625, -4.388299942016602, -4.388299942016602, -4.388400077819824, -4.388599872589111, -4.675899982452393, -4.676000118255615, -4.67609977722168, -4.67609977722168, -4.676000118255615, -4.676000118255615, -4.67609977722168, -4.67609977722168, -4.67609977722168, -4.676199913024902, -4.67609977722168, -4.676400184631348, -4.67609977722168, -4.67609977722168, -4.676300048828125, -4.676300048828125, -3.036600112915039, -3.4421000480651855, -3.798799991607666, -3.9528000354766846, -3.952899932861328, -3.953000068664551, -4.135200023651123, -4.135300159454346, -4.135300159454346, -4.357500076293945, -4.35830020904541, -4.358399868011475, -4.645599842071533, -4.645899772644043, -4.6458001136779785, -4.645899772644043, -4.645899772644043, -4.6458001136779785, -4.645999908447266, -4.645999908447266, -4.645999908447266, -4.645999908447266, -4.646200180053711, -4.646200180053711, -4.646299839019775, -4.646200180053711, -4.646399974822998, -5.051000118255615, -5.051000118255615, -5.05109977722168, -4.137499809265137, -5.050899982452393, -2.799499988555908, -3.6101999282836914, -3.8977999687194824, -4.079800128936768, -4.080399990081787, -4.0802998542785645, -4.080399990081787, -4.302999973297119, -4.303100109100342, -4.303400039672852, -4.303400039672852, -4.303400039672852, -4.303400039672852, -4.303500175476074, -4.303500175476074, -4.303800106048584, -4.590400218963623, -4.59089994430542, -4.591000080108643, -4.591000080108643, -4.591100215911865, -4.591100215911865, -4.591100215911865, -4.591100215911865, -4.59119987487793, -4.9959001541137695, -4.995999813079834, -4.996099948883057, -4.996500015258789, -4.996500015258789, -4.996399879455566, -4.312399864196777, -4.818399906158447, -3.829699993133545, -3.829699993133545, -3.829699993133545, -4.052800178527832, -4.052800178527832, -4.340199947357178, -4.340400218963623, -4.340400218963623, -4.3404998779296875, -4.34060001373291, -4.340799808502197, -4.745699882507324, -4.745699882507324, -4.745800018310547, -4.7459001541137695, -4.745999813079834, -4.7459001541137695, -4.7459001541137695, -4.745999813079834, -4.745999813079834, -4.746099948883057, -4.746099948883057, -4.745999813079834, -4.746200084686279, -4.746200084686279, -4.745999813079834, -4.745999813079834, -4.745999813079834, -4.745999813079834, -4.745999813079834, -4.582499980926514, -4.690199851989746, -4.745999813079834, -10.808500289916992, -10.825300216674805, -10.837599754333496, -10.837599754333496, -10.837599754333496, -10.837599754333496, -10.837699890136719, -10.837699890136719, -10.837699890136719, -10.837699890136719, -10.837699890136719, -10.837699890136719, -10.837699890136719, -10.837699890136719, -10.837699890136719, -10.847599983215332, -10.847599983215332, -10.847599983215332, -10.847599983215332, -10.847599983215332, -10.847599983215332, -10.847599983215332, -10.847599983215332, -10.847599983215332, -10.847599983215332, -10.847599983215332, -10.847599983215332, -10.847599983215332, -10.847599983215332, -10.847599983215332, -10.847599983215332, -10.847599983215332, -10.847599983215332, -10.847599983215332, -10.847599983215332, -10.847599983215332, -10.847599983215332, -10.808500289916992, -10.825300216674805, -10.837599754333496, -10.837599754333496, -10.837599754333496, -10.837599754333496, -10.837699890136719, -10.837699890136719, -10.837699890136719, -10.837699890136719, -10.837699890136719, -10.837699890136719, -10.837699890136719, -10.837699890136719, -10.837699890136719, -10.847599983215332, -10.847599983215332, -10.847599983215332, -10.847599983215332, -10.847599983215332, -10.847599983215332, -10.847599983215332, -10.847599983215332, -10.847599983215332, -10.847599983215332, -10.847599983215332, -10.847599983215332, -10.847599983215332, -10.847599983215332, -10.847599983215332, -10.847599983215332, -10.847599983215332, -10.847599983215332, -10.847599983215332, -10.847599983215332, -10.847599983215332, -10.847599983215332], \"loglift\": [30.0, 29.0, 28.0, 27.0, 26.0, 25.0, 24.0, 23.0, 22.0, 21.0, 20.0, 19.0, 18.0, 17.0, 16.0, 15.0, 14.0, 13.0, 12.0, 11.0, 10.0, 9.0, 8.0, 7.0, 6.0, 5.0, 4.0, 3.0, 2.0, 1.0, 0.9442, 0.9442, 0.9442, 0.9442, 0.9442, 0.9442, 0.9442, 0.9442, 0.9442, 0.9442, 0.9441, 0.9441, 0.9441, 0.9441, 0.9441, 0.9441, 0.9441, 0.944, 0.944, 0.944, 0.944, 0.944, 0.944, 0.944, 0.944, 0.944, 0.944, 0.944, 0.944, 0.944, 0.944, 2.2778, 2.2778, 2.2777, 2.2777, 2.2777, 2.2777, 2.2776, 2.2776, 2.2774, 2.2774, 2.2774, 2.2774, 2.2774, 2.2772, 2.2772, 2.2772, 2.277, 2.277, 2.277, 2.277, 2.2765, 2.2765, 2.2765, 2.2765, 2.2765, 2.2765, 2.2765, 2.2765, 2.2765, 2.2765, 2.2765, 2.2765, 2.3561, 2.356, 2.3559, 2.3558, 2.3558, 2.3557, 2.3557, 2.3557, 2.3557, 2.3557, 2.3557, 2.3557, 2.3556, 2.3556, 2.3554, 2.3554, 2.3554, 2.3554, 2.3554, 2.3554, 2.3554, 2.3553, 2.3549, 2.3549, 2.3549, 2.3549, 2.3549, 2.3549, 2.3549, 2.3549, 2.3546, 2.3494, 2.3549, 2.0679, 1.7461, 2.4388, 2.4387, 2.4387, 2.4386, 2.4386, 2.4386, 2.4385, 2.4384, 2.4384, 2.4383, 2.4383, 2.4383, 2.4383, 2.4383, 2.4381, 2.438, 2.438, 2.438, 2.438, 2.438, 2.438, 2.438, 2.438, 2.438, 2.438, 2.4379, 2.4376, 2.4376, 2.4376, 2.4376, 2.4376, 2.4375, 1.6544, 1.808, 2.4451, 2.4451, 2.445, 2.445, 2.4449, 2.4449, 2.4449, 2.4449, 2.4448, 2.4448, 2.4448, 2.4446, 2.4446, 2.4446, 2.4446, 2.4444, 2.4444, 2.4444, 2.4444, 2.4444, 2.4444, 2.4444, 2.4444, 2.4444, 2.4444, 2.4444, 2.4444, 2.4444, 2.4444, 2.4442, 2.4442, 2.4706, 2.4705, 2.4704, 2.4703, 2.4703, 2.4703, 2.4702, 2.4702, 2.4702, 2.4701, 2.4701, 2.4701, 2.4698, 2.4698, 2.4698, 2.4698, 2.4698, 2.4698, 2.4698, 2.4698, 2.4698, 2.4698, 2.4698, 2.4698, 2.4698, 2.4696, 2.4695, 2.4693, 2.4693, 2.4693, 2.4678, 2.4693, 2.5187, 2.5185, 2.5184, 2.5183, 2.5183, 2.5183, 2.5183, 2.5181, 2.5181, 2.5181, 2.5181, 2.5181, 2.5181, 2.5181, 2.5181, 2.5181, 2.5179, 2.5179, 2.5179, 2.5179, 2.5179, 2.5179, 2.5179, 2.5179, 2.5179, 2.5174, 2.5174, 2.5174, 2.5174, 2.5174, 2.5174, 2.5094, 2.0091, 2.7786, 2.7786, 2.7786, 2.7785, 2.7785, 2.7782, 2.7782, 2.7782, 2.7782, 2.7782, 2.7782, 2.7777, 2.7777, 2.7777, 2.7777, 2.7777, 2.7777, 2.7777, 2.7777, 2.7777, 2.7777, 2.7777, 2.7777, 2.7777, 2.7777, 2.7777, 2.7777, 2.7777, 2.7777, 2.7777, 2.5364, 2.4288, 2.3826, 3.1466, 3.135, 3.1266, 3.1266, 3.1265, 3.1265, 3.1265, 3.1265, 3.1265, 3.1265, 3.1265, 3.1265, 3.1265, 3.1265, 3.1265, 3.1198, 3.1198, 3.1198, 3.1198, 3.1198, 3.1198, 3.1198, 3.1198, 3.1198, 3.1198, 3.1198, 3.1198, 3.1198, 3.1198, 3.1198, -2.6323, -2.6021, -2.6021, -2.6023, -2.6271, -2.6272, -2.6271, 3.1466, 3.135, 3.1266, 3.1266, 3.1265, 3.1265, 3.1265, 3.1265, 3.1265, 3.1265, 3.1265, 3.1265, 3.1265, 3.1265, 3.1265, 3.1198, 3.1198, 3.1198, 3.1198, 3.1198, 3.1198, 3.1198, 3.1198, 3.1198, 3.1198, 3.1198, 3.1198, 3.1198, 3.1198, 3.1198, -2.6323, -2.6021, -2.6021, -2.6023, -2.6271, -2.6272, -2.6271]}, \"token.table\": {\"Topic\": [8, 3, 3, 2, 2, 7, 7, 6, 8, 4, 8, 2, 1, 1, 1, 3, 4, 5, 1, 8, 1, 2, 4, 2, 4, 8, 4, 5, 3, 2, 7, 6, 7, 3, 2, 6, 6, 3, 1, 3, 3, 4, 5, 8, 7, 3, 8, 7, 7, 8, 4, 6, 7, 3, 8, 3, 7, 4, 3, 6, 5, 8, 5, 1, 4, 2, 2, 8, 5, 4, 6, 3, 6, 8, 6, 6, 3, 3, 7, 7, 1, 1, 2, 6, 5, 6, 2, 4, 4, 5, 1, 5, 6, 2, 3, 8, 7, 1, 5, 5, 5, 6, 1, 2, 7, 8, 2, 4, 6, 3, 8, 7, 1, 4, 4, 7, 4, 1, 8, 5, 5, 7, 2, 3, 3, 8, 6, 6, 7, 6, 3, 1, 7, 1, 7, 4, 1, 5, 4, 7, 8, 8, 3, 5, 6, 5, 4, 4, 1, 3, 5, 4, 4, 1, 6, 4, 4, 8, 7, 4, 4, 8, 5, 7, 8, 3, 4, 8, 2, 8, 4, 4, 5, 1, 3, 4, 2, 6, 5, 3, 1, 3, 6, 6, 3, 1, 8, 2, 4, 3, 7, 2, 7, 8, 7, 8, 3, 2, 5, 7, 5, 8, 5, 7, 5, 1, 5, 7, 7, 2, 2, 8, 3, 7, 3, 8, 5, 7, 6, 6, 3, 8, 2, 1, 3, 1, 5, 1, 5, 8, 7, 6, 6, 2, 3, 4, 6, 1, 1, 2, 2, 3, 2, 2, 1, 4, 6, 8, 4, 2, 8, 2, 8, 1, 2, 7, 1, 1, 3, 4, 6, 6, 2, 2, 1, 8, 1, 3, 1, 5, 6, 2, 5, 2], \"Freq\": [1.0268785549615642, 1.028059136849948, 1.027113672618832, 1.0304196738570603, 1.0320678870358828, 1.0171991457350988, 1.0174866174328623, 1.0244091520050052, 1.0274071377983234, 1.0326038095235563, 1.027557990267501, 1.031963510728533, 1.0566976360356288, 0.9530581479595158, 0.9859350426413223, 1.0257735360055475, 1.032754496431323, 1.029483368749702, 0.9627050614955843, 1.0268860845762013, 1.001845986799968, 1.0316822086544195, 1.0330507376805511, 1.031924286886638, 0.5152761698721566, 0.5152761698721566, 1.032094226838719, 1.0291562568072394, 1.0279974173426234, 1.0330961649439272, 1.017772782459158, 1.0232934174562494, 1.0176273947012555, 1.0276413143302323, 1.0331633896549783, 1.0247290274706957, 1.0246076523168404, 1.0264570301537932, 0.9707076970182279, 1.027859429708533, 1.027758674000977, 1.0332629679909175, 1.0296169382982405, 1.0272070338865615, 1.0173870871964656, 1.0279928731494448, 1.0270226507054334, 1.0163516384875657, 1.0179532209533861, 1.0252735687421963, 1.0321452393847539, 1.023909803502291, 1.017892512657255, 0.34250552666318274, 0.6850110533263655, 1.027181086083614, 1.0173290068263765, 1.032995138314792, 1.0272471753865717, 1.0241608820620636, 1.02944334840701, 1.027754689552908, 1.0296211392200074, 0.9626911995914431, 1.0325854396502026, 1.0331459817210162, 1.031564931630869, 1.026692125977647, 1.0292210738690881, 1.0322887771463312, 1.0248551818386047, 1.0276455534070588, 1.0245249691812968, 1.0277867930069826, 1.0246057075437862, 1.0234175681899897, 1.0271102729565171, 1.0278230185463946, 1.0164676065019325, 1.017316965190647, 0.9625266112172554, 0.9968594249628182, 1.032755302904658, 1.0237301037187334, 1.0293346752629464, 1.0249955900380492, 0.9839264860510142, 1.0327538741781561, 1.0327591101450364, 1.029870734361516, 1.0564593918098704, 1.0291493695139051, 1.025132036636559, 1.0318876044631096, 1.0279305868110764, 1.0268661323695252, 1.0176608927331072, 0.9883279285190645, 1.0290451497855706, 1.0298185283868966, 1.029578596820603, 1.0243972740009126, 0.9986763082773474, 1.0306203802709464, 1.01801905676526, 1.0270694013621813, 1.0331618099475304, 1.0328454025501175, 1.0235237703860718, 1.027847108827428, 1.0276043609351198, 1.0176890761679613, 0.9627483372810853, 1.0330174918996828, 0.5118574568826616, 0.5118574568826616, 1.0326251285684092, 0.34585048709103494, 0.6917009741820699, 1.0291578576724063, 1.0292288126818308, 1.0183609459244891, 1.031950947393061, 1.0278104764061746, 0.7709876369509503, 0.2569958789836501, 1.024866217625152, 1.024811006627622, 1.0166698480128236, 1.0247972810711081, 1.0277978344880345, 0.9859875370570648, 1.0177184335529514, 0.9707603695655044, 1.0174496464440441, 1.0325996623496112, 1.0182953570354856, 1.0293830005187552, 1.0330341990340977, 1.0172217215690786, 1.0268860845762013, 1.0273862483461114, 1.027963580786137, 1.0293164518001428, 1.0246320436142755, 1.029837619640056, 1.0327013127460565, 1.0325732635521496, 1.0566976360356288, 1.0282297979757646, 1.0289983032406786, 1.033349593566807, 1.0324433750851043, 0.9626986529228506, 1.0234081411162834, 1.0329500791678932, 1.033345089011696, 1.0272011369703378, 1.0174187625066449, 1.0325211828342835, 1.0321339002974095, 1.0269693110294362, 1.0290682788529808, 1.0162365449585902, 1.0268833416128675, 1.0270189017357345, 1.031826826455106, 1.0267880504475368, 1.0329320657205658, 1.0268632141800036, 1.033283385597315, 1.0325299428078507, 1.0292288126818308, 0.9626453871334357, 1.0276313244459014, 1.0319386273079059, 1.0326227104875116, 1.0243274101662503, 1.029209665058109, 1.028060078388877, 0.9529233311700399, 1.028432292347331, 1.0243991809638924, 1.0246582682554368, 1.0267053339007064, 0.9775334815545013, 1.02698297572218, 1.0326200354202038, 1.0331993016096077, 1.0278917077312921, 1.017878680459934, 1.031452869364629, 1.0178538241645072, 1.0268033159679744, 1.0174538219077465, 1.0265345864689195, 1.0282949072176446, 1.0328169497496327, 1.029591612532631, 1.0168253738479256, 1.0293256231038024, 1.0267703441352396, 1.0291829863230095, 1.017729646896232, 1.029400857215307, 0.9833322560248974, 1.0295278520647646, 1.0179493758346152, 1.0173294775290411, 1.032048855327406, 1.0319551561796434, 1.0277505124635833, 1.027957707923828, 1.0168266960809036, 0.3425229009821813, 0.6850458019643626, 1.0292263267291066, 1.0173291121490577, 1.0248818549264456, 1.0243263892489483, 1.027263670732026, 1.0268860845762013, 1.0330483895085416, 0.9807021358493009, 1.0276501518044332, 1.0061943877369968, 1.0292195177796666, 0.9883801810369361, 1.0290356911713374, 1.0270528818205265, 1.0167825888456234, 1.0241624824084214, 1.0251710195404686, 1.032723364692967, 1.028278855138709, 1.0331972023113467, 1.024300835029224, 1.0167366024532318, 0.9966918390501142, 1.0324620530274962, 1.0324340865128043, 1.0280589075137023, 1.0328677997103137, 1.0319543685716819, 1.0061198112114789, 1.033013804893061, 1.0242424648985746, 1.0268526249043077, 1.031846144732832, 1.0330550317378209, 1.027616319862445, 1.03307562815139, 1.0269376373760946, 0.9530086610898579, 1.0306203802709464, 1.017636975161661, 0.9806739733715624, 0.983394211964666, 0.618240840976657, 0.4121605606511046, 1.0242749755139686, 1.024366434791679, 1.031938874812126, 1.0327520792367115, 1.0002118957705437, 1.0266109418042337, 0.9774268299962267, 1.0277953523355525, 0.9773753912671668, 1.0293372945744304, 1.025041664167744, 1.0319551554897828, 1.0296069494561249, 1.031935002166956], \"Term\": [\"abstraction\", \"advertising\", \"anxiety\", \"appearance\", \"architecture\", \"artist\", \"babe\", \"badass\", \"balance\", \"banana\", \"band\", \"base\", \"bathing\", \"beach\", \"beauty\", \"bikini\", \"birkenstock\", \"birthday\", \"blog\", \"blogg\", \"blogger\", \"blue\", \"body\", \"bonne\", \"boom\", \"boom\", \"boot\", \"bracelet\", \"brand\", \"breakfast\", \"brush\", \"business\", \"butter\", \"camera\", \"carob\", \"challenge\", \"champion\", \"change\", \"check\", \"child\", \"chill\", \"chocolate\", \"class\", \"club\", \"colour\", \"comment\", \"community\", \"concealer\", \"cone\", \"converse\", \"country\", \"couple\", \"course\", \"court\", \"court\", \"cover\", \"crease\", \"create\", \"cruise\", \"culture\", \"curator\", \"dance\", \"dapper\", \"day\", \"daze\", \"design\", \"dinner\", \"dirt\", \"downton\", \"dream\", \"earth\", \"eats\", \"edition\", \"egg\", \"energy\", \"entrepreneur\", \"episode\", \"experience\", \"eye\", \"face\", \"family\", \"fashion\", \"feed\", \"fitness\", \"flower\", \"focus\", \"food\", \"foto\", \"fotos\", \"france\", \"freestyle\", \"front\", \"game\", \"george\", \"gift\", \"glory\", \"goddess\", \"gram\", \"greece\", \"groom\", \"guy\", \"habit\", \"hair\", \"hairline\", \"hand\", \"hate\", \"health\", \"heart\", \"hope\", \"host\", \"image\", \"independence\", \"inspiration\", \"inspire\", \"interview\", \"interview\", \"issue\", \"italy\", \"italy\", \"jacket\", \"jameson\", \"japonesque\", \"jordan\", \"kabul\", \"kit\", \"kit\", \"lake\", \"land\", \"lash\", \"launch\", \"leica\", \"life\", \"light\", \"link\", \"lipstick\", \"lola\", \"love\", \"luxury\", \"magazine\", \"makeup\", \"mash\", \"masterclass\", \"matter\", \"meet\", \"men\", \"miami\", \"milan\", \"mind\", \"mindfulness\", \"minute\", \"moda\", \"model\", \"monday\", \"mood\", \"motivation\", \"mountain\", \"movie\", \"music\", \"nail\", \"nature\", \"online\", \"order\", \"pack\", \"palette\", \"palm\", \"parent\", \"park\", \"partner\", \"party\", \"performance\", \"photographer\", \"picture\", \"pippa\", \"place\", \"planet\", \"planner\", \"plant\", \"point\", \"porch\", \"porter\", \"post\", \"power\", \"pregnancy\", \"prep\", \"pride\", \"product\", \"program\", \"progress\", \"quote\", \"race\", \"reception\", \"recipe\", \"repost\", \"result\", \"rise\", \"rock\", \"roka\", \"room\", \"santorini\", \"scream\", \"season\", \"sempre\", \"sense\", \"session\", \"shoe\", \"shop\", \"sit\", \"skin\", \"skincare\", \"slide\", \"smoothie\", \"society\", \"space\", \"sponge\", \"spray\", \"spray\", \"stallone\", \"star\", \"start\", \"step\", \"stock\", \"storm\", \"story\", \"street\", \"stuff\", \"style\", \"suit\", \"summer\", \"sunday\", \"sunglass\", \"support\", \"swim\", \"talk\", \"taste\", \"team\", \"thing\", \"throwback\", \"time\", \"today\", \"tokyo\", \"tomato\", \"tomorrow\", \"tonight\", \"tour\", \"travel\", \"treat\", \"tuesday\", \"tuner\", \"turn\", \"video\", \"vision\", \"wait\", \"wall\", \"watch\", \"watermelon\", \"wedding\", \"week\", \"weekend\", \"weight\", \"weight\", \"wellness\", \"wheel\", \"wholefood\", \"wine\", \"woman\", \"word\", \"work\", \"wynter\", \"year\", \"yesterday\", \"yoga\", \"yogurt\", \"york\", \"yummy\"]}, \"R\": 30, \"lambda.step\": 0.01, \"plot.opts\": {\"xlab\": \"PC1\", \"ylab\": \"PC2\"}, \"topic.order\": [8, 7, 1, 3, 2, 5, 4, 9, 6, 10]};\n",
       "\n",
       "function LDAvis_load_lib(url, callback){\n",
       "  var s = document.createElement('script');\n",
       "  s.src = url;\n",
       "  s.async = true;\n",
       "  s.onreadystatechange = s.onload = callback;\n",
       "  s.onerror = function(){console.warn(\"failed to load library \" + url);};\n",
       "  document.getElementsByTagName(\"head\")[0].appendChild(s);\n",
       "}\n",
       "\n",
       "if(typeof(LDAvis) !== \"undefined\"){\n",
       "   // already loaded: just create the visualization\n",
       "   !function(LDAvis){\n",
       "       new LDAvis(\"#\" + \"ldavis_el1418817233403802325771769042\", ldavis_el1418817233403802325771769042_data);\n",
       "   }(LDAvis);\n",
       "}else if(typeof define === \"function\" && define.amd){\n",
       "   // require.js is available: use it to load d3/LDAvis\n",
       "   require.config({paths: {d3: \"https://cdnjs.cloudflare.com/ajax/libs/d3/3.5.5/d3.min\"}});\n",
       "   require([\"d3\"], function(d3){\n",
       "      window.d3 = d3;\n",
       "      LDAvis_load_lib(\"https://cdn.rawgit.com/bmabey/pyLDAvis/files/ldavis.v1.0.0.js\", function(){\n",
       "        new LDAvis(\"#\" + \"ldavis_el1418817233403802325771769042\", ldavis_el1418817233403802325771769042_data);\n",
       "      });\n",
       "    });\n",
       "}else{\n",
       "    // require.js not available: dynamically load d3 & LDAvis\n",
       "    LDAvis_load_lib(\"https://cdnjs.cloudflare.com/ajax/libs/d3/3.5.5/d3.min.js\", function(){\n",
       "         LDAvis_load_lib(\"https://cdn.rawgit.com/bmabey/pyLDAvis/files/ldavis.v1.0.0.js\", function(){\n",
       "                 new LDAvis(\"#\" + \"ldavis_el1418817233403802325771769042\", ldavis_el1418817233403802325771769042_data);\n",
       "            })\n",
       "         });\n",
       "}\n",
       "</script>"
      ],
      "text/plain": [
       "PreparedData(topic_coordinates=              x         y  topics  cluster       Freq\n",
       "topic                                                \n",
       "7     -0.338827  0.074674       1        1  38.896485\n",
       "6     -0.094816  0.002651       2        1  10.249283\n",
       "0     -0.050405 -0.293092       3        1   9.476294\n",
       "2     -0.037293 -0.134422       4        1   8.724713\n",
       "1     -0.030800  0.213329       5        1   8.669354\n",
       "4     -0.037269  0.030184       6        1   8.451910\n",
       "3     -0.007733  0.192684       7        1   8.055124\n",
       "8      0.045653 -0.168057       8        1   6.208882\n",
       "5      0.275745  0.041024       9        1   0.633978\n",
       "9      0.275745  0.041024      10        1   0.633978, topic_info=              Term       Freq      Total Category  logprob  loglift\n",
       "51         fashion  80.000000  80.000000  Default  30.0000  30.0000\n",
       "176          style  75.000000  75.000000  Default  29.0000  29.0000\n",
       "157           food  20.000000  20.000000  Default  28.0000  28.0000\n",
       "35297   japonesque  17.000000  17.000000  Default  27.0000  27.0000\n",
       "127           talk  14.000000  14.000000  Default  26.0000  26.0000\n",
       "...            ...        ...        ...      ...      ...      ...\n",
       "9166   mindfulness   0.000445   0.946345  Topic10 -10.8476  -2.6021\n",
       "15226    freestyle   0.000445   0.946558  Topic10 -10.8476  -2.6023\n",
       "1424    watermelon   0.000445   0.970289  Topic10 -10.8476  -2.6271\n",
       "5369    appearance   0.000445   0.970478  Topic10 -10.8476  -2.6272\n",
       "18542     hairline   0.000445   0.970289  Topic10 -10.8476  -2.6271\n",
       "\n",
       "[365 rows x 6 columns], token_table=      Topic      Freq          Term\n",
       "term                               \n",
       "5219      8  1.026879   abstraction\n",
       "9004      3  1.028059   advertising\n",
       "2544      3  1.027114       anxiety\n",
       "5369      2  1.030420    appearance\n",
       "1304      2  1.032068  architecture\n",
       "...     ...       ...           ...\n",
       "70        5  1.029337     yesterday\n",
       "613       6  1.025042          yoga\n",
       "7195      2  1.031955        yogurt\n",
       "2         5  1.029607          york\n",
       "1664      2  1.031935         yummy\n",
       "\n",
       "[274 rows x 3 columns], R=30, lambda_step=0.01, plot_opts={'xlab': 'PC1', 'ylab': 'PC2'}, topic_order=[8, 7, 1, 3, 2, 5, 4, 9, 6, 10])"
      ]
     },
     "execution_count": 19,
     "metadata": {},
     "output_type": "execute_result"
    }
   ],
   "source": [
    "# Visualize the topics\n",
    "pyLDAvis.enable_notebook()\n",
    "vis = pyLDAvis.gensim.prepare(lda_model, corpus, id2word)\n",
    "vis"
   ]
  },
  {
   "cell_type": "markdown",
   "metadata": {},
   "source": [
    "### Save document-topic matrix (most significant topic per document)  \n",
    " https://github.com/Sim-Xuesi/content-based_movie_recommender/blob/master/Content%20Based%20Recommender%20System%20with%20LDA%20%26%20Cosine.ipynb  \n",
    " https://medium.com/@nicoleeesim97/building-a-simple-content-based-recommender-system-for-movies-and-tv-shows-73fec4f325ae  "
   ]
  },
  {
   "cell_type": "code",
   "execution_count": 20,
   "metadata": {},
   "outputs": [
    {
     "name": "stderr",
     "output_type": "stream",
     "text": [
      "C:\\Users\\minio\\anaconda3\\envs\\tfm-py-37\\lib\\site-packages\\ipykernel\\ipkernel.py:287: DeprecationWarning: `should_run_async` will not call `transform_cell` automatically in the future. Please pass the result to `transformed_cell` argument and any exception that happen during thetransform in `preprocessing_exc_tuple` in IPython 7.17 and above.\n",
      "  and should_run_async(code)\n"
     ]
    },
    {
     "name": "stdout",
     "output_type": "stream",
     "text": [
      "       Document  Topic  Probability\n",
      "0       2538294      1     0.550421\n",
      "1       3046304      8     0.275077\n",
      "2       3085900      8     0.350666\n",
      "3       2514929      7     0.827299\n",
      "4       2395245      7     0.535274\n",
      "...         ...    ...          ...\n",
      "88092   2577872      0     0.549978\n",
      "88093   2652281      6     0.516239\n",
      "88094   2230411      7     0.693778\n",
      "88095   2761582      7     0.337469\n",
      "88096   2001788      7     0.918217\n",
      "\n",
      "[88097 rows x 3 columns]\n"
     ]
    }
   ],
   "source": [
    "def Sort_Tuple(tup):  \n",
    "    return(sorted(tup, key = lambda x: x[1], reverse = True))\n",
    "\n",
    "doc_num, topic_num, prob = [], [], []\n",
    "\n",
    "document_topic_matrix = documents\n",
    "\n",
    "for n in range(len(documents)):\n",
    "    get_document_topics = lda_model.get_document_topics(corpus_total[n], minimum_probability=0)\n",
    "    doc_num.append(documents.index[n])\n",
    "    sorted_doc_topics = Sort_Tuple(get_document_topics)\n",
    "    topic_num.append(sorted_doc_topics[0][0])\n",
    "    prob.append(sorted_doc_topics[0][1])\n",
    "    \n",
    "data = {'Document': doc_num\n",
    "        ,'Topic': topic_num\n",
    "        ,'Probability': prob}\n",
    "df = pd.DataFrame(data) \n",
    "df.to_csv(file_model + '_document_topic_matrix.csv', index=False)\n",
    "print(df)"
   ]
  },
  {
   "cell_type": "markdown",
   "metadata": {},
   "source": [
    "### Save document-topic matrix (all topic's probability per document)  \n",
    "https://github.com/Sim-Xuesi/content-based_movie_recommender/blob/master/Content%20Based%20Recommender%20System%20with%20LDA%20%26%20Cosine.ipynb  \n",
    "https://medium.com/@nicoleeesim97/building-a-simple-content-based-recommender-system-for-movies-and-tv-shows-73fec4f325ae  "
   ]
  },
  {
   "cell_type": "code",
   "execution_count": 21,
   "metadata": {},
   "outputs": [
    {
     "name": "stderr",
     "output_type": "stream",
     "text": [
      "C:\\Users\\minio\\anaconda3\\envs\\tfm-py-37\\lib\\site-packages\\ipykernel\\ipkernel.py:287: DeprecationWarning: `should_run_async` will not call `transform_cell` automatically in the future. Please pass the result to `transformed_cell` argument and any exception that happen during thetransform in `preprocessing_exc_tuple` in IPython 7.17 and above.\n",
      "  and should_run_async(code)\n"
     ]
    },
    {
     "name": "stdout",
     "output_type": "stream",
     "text": [
      "       Document    Topic0    Topic1    Topic2    Topic3    Topic4    Topic5  \\\n",
      "0       2538294  0.049953  0.550421  0.049953  0.049953  0.049953  0.049954   \n",
      "1       3046304  0.275011  0.024995  0.024995  0.024995  0.024995  0.024995   \n",
      "2       3085900  0.016645  0.016642  0.016642  0.016642  0.016642  0.016642   \n",
      "3       2514929  0.009088  0.009088  0.009088  0.009088  0.099999  0.009088   \n",
      "4       2395245  0.300022  0.005883  0.005883  0.123526  0.005883  0.005883   \n",
      "...         ...       ...       ...       ...       ...       ...       ...   \n",
      "88092   2577872  0.549978  0.050002  0.050002  0.050002  0.050002  0.050002   \n",
      "88093   2652281  0.016625  0.184697  0.016625  0.016625  0.016625  0.016626   \n",
      "88094   2230411  0.006250  0.006250  0.006250  0.131233  0.068733  0.006250   \n",
      "88095   2761582  0.004162  0.129085  0.087414  0.087455  0.045789  0.004162   \n",
      "88096   2001788  0.009087  0.009087  0.009087  0.009087  0.009087  0.009087   \n",
      "\n",
      "         Topic6    Topic7    Topic8    Topic9  \n",
      "0      0.049953  0.049953  0.049953  0.049954  \n",
      "1      0.024995  0.274946  0.275077  0.024995  \n",
      "2      0.183288  0.349550  0.350666  0.016642  \n",
      "3      0.009088  0.827299  0.009088  0.009088  \n",
      "4      0.005883  0.535274  0.005883  0.005883  \n",
      "...         ...       ...       ...       ...  \n",
      "88092  0.050002  0.050002  0.050002  0.050002  \n",
      "88093  0.516239  0.182686  0.016625  0.016626  \n",
      "88094  0.068753  0.693778  0.006250  0.006250  \n",
      "88095  0.170659  0.337469  0.129642  0.004162  \n",
      "88096  0.009087  0.918217  0.009087  0.009087  \n",
      "\n",
      "[88097 rows x 11 columns]\n"
     ]
    }
   ],
   "source": [
    "doc_num = []\n",
    "prob0, prob1, prob2, prob3, prob4, prob5, prob6, prob7, prob8, prob9 = ([] for i in range(num_topics))\n",
    "\n",
    "document_topic_matrix = documents\n",
    "\n",
    "for n in range(len(documents)):\n",
    "    get_document_topics = lda_model.get_document_topics(corpus_total[n], minimum_probability=0)\n",
    "    doc_num.append(documents.index[n])\n",
    "    prob0.append(get_document_topics[0][1])\n",
    "    prob1.append(get_document_topics[1][1])\n",
    "    prob2.append(get_document_topics[2][1])\n",
    "    prob3.append(get_document_topics[3][1])\n",
    "    prob4.append(get_document_topics[4][1])\n",
    "    prob5.append(get_document_topics[5][1])\n",
    "    prob6.append(get_document_topics[6][1])\n",
    "    prob7.append(get_document_topics[7][1])\n",
    "    prob8.append(get_document_topics[8][1])\n",
    "    prob9.append(get_document_topics[9][1])\n",
    "    \n",
    "data = {'Document': doc_num\n",
    "        ,'Topic0': prob0\n",
    "        ,'Topic1': prob1\n",
    "        ,'Topic2': prob2\n",
    "        ,'Topic3': prob3\n",
    "        ,'Topic4': prob4\n",
    "        ,'Topic5': prob5\n",
    "        ,'Topic6': prob6\n",
    "        ,'Topic7': prob7\n",
    "        ,'Topic8': prob8\n",
    "        ,'Topic9': prob9}\n",
    "\n",
    "df = pd.DataFrame(data) \n",
    "df.to_csv(file_model + '_document_topic_matrix_full.csv', index=False)\n",
    "print(df)"
   ]
  },
  {
   "cell_type": "markdown",
   "metadata": {},
   "source": [
    "### Save topic-term matrix"
   ]
  },
  {
   "cell_type": "code",
   "execution_count": 22,
   "metadata": {},
   "outputs": [
    {
     "name": "stderr",
     "output_type": "stream",
     "text": [
      "C:\\Users\\minio\\anaconda3\\envs\\tfm-py-37\\lib\\site-packages\\ipykernel\\ipkernel.py:287: DeprecationWarning: `should_run_async` will not call `transform_cell` automatically in the future. Please pass the result to `transformed_cell` argument and any exception that happen during thetransform in `preprocessing_exc_tuple` in IPython 7.17 and above.\n",
      "  and should_run_async(code)\n"
     ]
    }
   ],
   "source": [
    "# get topic-term-matrix\n",
    "topic_term_matrix = lda_model.get_topics()\n",
    "# save topic-term matrix\n",
    "savetxt(file_model + '_topic_term_matrix.csv', topic_term_matrix, delimiter=',')"
   ]
  }
 ],
 "metadata": {
  "kernelspec": {
   "display_name": "Python 3",
   "language": "python",
   "name": "python3"
  },
  "language_info": {
   "codemirror_mode": {
    "name": "ipython",
    "version": 3
   },
   "file_extension": ".py",
   "mimetype": "text/x-python",
   "name": "python",
   "nbconvert_exporter": "python",
   "pygments_lexer": "ipython3",
   "version": "3.7.9"
  }
 },
 "nbformat": 4,
 "nbformat_minor": 4
}
