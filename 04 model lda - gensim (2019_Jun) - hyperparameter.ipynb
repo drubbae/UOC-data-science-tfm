{
 "cells": [
  {
   "cell_type": "markdown",
   "metadata": {},
   "source": [
    "# <span style=\"color:blue\">LDA model (2019_Jun) - with hyperparameter tuning</span>"
   ]
  },
  {
   "cell_type": "code",
   "execution_count": 1,
   "metadata": {},
   "outputs": [],
   "source": [
    "yyyy_MMM = '2019_Jun'"
   ]
  },
  {
   "cell_type": "markdown",
   "metadata": {},
   "source": [
    "### Load packages"
   ]
  },
  {
   "cell_type": "code",
   "execution_count": 2,
   "metadata": {},
   "outputs": [
    {
     "name": "stderr",
     "output_type": "stream",
     "text": [
      "C:\\Users\\minio\\anaconda3\\envs\\tfm-py-37\\lib\\site-packages\\botocore\\vendored\\requests\\packages\\urllib3\\_collections.py:1: DeprecationWarning: Using or importing the ABCs from 'collections' instead of from 'collections.abc' is deprecated since Python 3.3,and in 3.9 it will stop working\n",
      "  from collections import Mapping, MutableMapping\n",
      "C:\\Users\\minio\\anaconda3\\envs\\tfm-py-37\\lib\\site-packages\\botocore\\vendored\\requests\\packages\\urllib3\\_collections.py:1: DeprecationWarning: Using or importing the ABCs from 'collections' instead of from 'collections.abc' is deprecated since Python 3.3,and in 3.9 it will stop working\n",
      "  from collections import Mapping, MutableMapping\n",
      "C:\\Users\\minio\\anaconda3\\envs\\tfm-py-37\\lib\\site-packages\\scipy\\sparse\\sparsetools.py:21: DeprecationWarning: `scipy.sparse.sparsetools` is deprecated!\n",
      "scipy.sparse.sparsetools is a private module for scipy.sparse, and should not be used.\n",
      "  _deprecated()\n",
      "C:\\Users\\minio\\anaconda3\\envs\\tfm-py-37\\lib\\site-packages\\gensim\\models\\doc2vec.py:73: DeprecationWarning: Using or importing the ABCs from 'collections' instead of from 'collections.abc' is deprecated since Python 3.3,and in 3.9 it will stop working\n",
      "  from collections import namedtuple, defaultdict, Iterable\n",
      "[nltk_data] Downloading package stopwords to\n",
      "[nltk_data]     C:\\Users\\minio\\AppData\\Roaming\\nltk_data...\n",
      "[nltk_data]   Package stopwords is already up-to-date!\n",
      "[nltk_data] Downloading package averaged_perceptron_tagger to\n",
      "[nltk_data]     C:\\Users\\minio\\AppData\\Roaming\\nltk_data...\n",
      "[nltk_data]   Package averaged_perceptron_tagger is already up-to-\n",
      "[nltk_data]       date!\n"
     ]
    },
    {
     "data": {
      "text/plain": [
       "True"
      ]
     },
     "execution_count": 2,
     "metadata": {},
     "output_type": "execute_result"
    }
   ],
   "source": [
    "import csv, os, re, time\n",
    "import numpy as np\n",
    "from numpy import savetxt\n",
    "import pandas as  pd\n",
    "import matplotlib.pyplot as plt  \n",
    "import pyLDAvis\n",
    "import pyLDAvis.gensim\n",
    "import gensim\n",
    "import gensim.corpora as corpora\n",
    "from gensim.corpora.dictionary import Dictionary\n",
    "from gensim.models import CoherenceModel\n",
    "from gensim.test.utils import datapath\n",
    "from gensim.utils import simple_preprocess\n",
    "from pprint import pprint\n",
    "import nltk\n",
    "nltk.download('stopwords')\n",
    "nltk.download('averaged_perceptron_tagger')"
   ]
  },
  {
   "cell_type": "markdown",
   "metadata": {},
   "source": [
    "### Constants"
   ]
  },
  {
   "cell_type": "code",
   "execution_count": 3,
   "metadata": {},
   "outputs": [
    {
     "name": "stdout",
     "output_type": "stream",
     "text": [
      "D:\\master\\data science\\semestre 4\\M2.979 - tfm\\data\\bins_test\\doc\\2019_Jun\\2019_Jun_28_results.csv\n",
      "D:\\master\\data science\\semestre 4\\M2.979 - tfm\\data\\bins_test\\model_hyperparameter\\2019_Jun\\model\n"
     ]
    },
    {
     "name": "stderr",
     "output_type": "stream",
     "text": [
      "C:\\Users\\minio\\anaconda3\\envs\\tfm-py-37\\lib\\site-packages\\ipykernel\\ipkernel.py:287: DeprecationWarning: `should_run_async` will not call `transform_cell` automatically in the future. Please pass the result to `transformed_cell` argument and any exception that happen during thetransform in `preprocessing_exc_tuple` in IPython 7.17 and above.\n",
      "  and should_run_async(code)\n"
     ]
    }
   ],
   "source": [
    "# for reproducible results\n",
    "random_state = 33\n",
    "# if the test is True, the process runs on a smaller subset of raw data (json files)\n",
    "test = True\n",
    "# if sample > 0, then we take a sample of the entire dataset (for debugging purpose)\n",
    "sample = 0\n",
    "# parameters to build the lda model\n",
    "num_topics = 10\n",
    "alpha = 'asymmetric'\n",
    "eta = 0.91\n",
    "\n",
    "if test:\n",
    "    # path with the documents preprocessed\n",
    "    path_doc = r'D:\\master\\data science\\semestre 4\\M2.979 - tfm\\data\\bins_test\\doc'\n",
    "    # path where store all data/results related to the model\n",
    "    path_model = r'D:\\master\\data science\\semestre 4\\M2.979 - tfm\\data\\bins_test\\model_hyperparameter'\n",
    "    # chunksize to build LDA model\n",
    "    chunksize = 250\n",
    "else:\n",
    "    # path with the documents preprocessed\n",
    "    path_doc = r'D:\\master\\data science\\semestre 4\\M2.979 - tfm\\data\\bins\\doc'\n",
    "    # path where store all data/results related to the model\n",
    "    path_model = r'D:\\master\\data science\\semestre 4\\M2.979 - tfm\\data\\bins\\model_hyperparameter'\n",
    "    # chunksize to build LDA model\n",
    "    chunksize = 5000\n",
    "\n",
    "# path + name of the file that contains the documents preprocessed\n",
    "file_doc = os.path.join(path_doc, yyyy_MMM, yyyy_MMM) + '_28_results.csv'\n",
    "# path + name of the file that contains the model gotten at the end\n",
    "file_model = os.path.join(path_model, yyyy_MMM, 'model')\n",
    "print(file_doc)\n",
    "print(file_model)"
   ]
  },
  {
   "cell_type": "markdown",
   "metadata": {},
   "source": [
    "### Load data preprocessed"
   ]
  },
  {
   "cell_type": "code",
   "execution_count": 4,
   "metadata": {},
   "outputs": [
    {
     "name": "stderr",
     "output_type": "stream",
     "text": [
      "C:\\Users\\minio\\anaconda3\\envs\\tfm-py-37\\lib\\site-packages\\ipykernel\\ipkernel.py:287: DeprecationWarning: `should_run_async` will not call `transform_cell` automatically in the future. Please pass the result to `transformed_cell` argument and any exception that happen during thetransform in `preprocessing_exc_tuple` in IPython 7.17 and above.\n",
      "  and should_run_async(code)\n"
     ]
    },
    {
     "data": {
      "text/plain": [
       "id_doc\n",
       "49183    ['repost', 'rizmanruzaini', 'bridegroom', 'far...\n",
       "30570                                           ['follow']\n",
       "53766    ['avec', 'petite', 'grappa', 'grappa', 'ogre',...\n",
       "22432    ['roddy', 'drop', 'debut', 'album', 'excuse', ...\n",
       "53966    ['gilles', 'chel', 'vins', 'touraine', 'land',...\n",
       "48106    ['prime', 'minister', 'imran', 'khan', 'twitte...\n",
       "26255    ['silence', 'gold', 'ready', 'reunion', 'tempt...\n",
       "15847    ['cover', 'reveal', 'tangle', 'lie', 'cassandr...\n",
       "47736    ['raveena', 'tandon', 'spends', 'christmas', '...\n",
       "54128    ['douceur', 'dans', 'monde', 'jerome', 'banc',...\n",
       "Name: content_preprocessed, dtype: object"
      ]
     },
     "execution_count": 4,
     "metadata": {},
     "output_type": "execute_result"
    }
   ],
   "source": [
    "df = pd.read_csv(file_doc, index_col='id_doc')\n",
    "documents = df.content_preprocessed\n",
    "documents.head(10)"
   ]
  },
  {
   "cell_type": "markdown",
   "metadata": {},
   "source": [
    "### Shuffle"
   ]
  },
  {
   "cell_type": "code",
   "execution_count": 5,
   "metadata": {},
   "outputs": [
    {
     "name": "stderr",
     "output_type": "stream",
     "text": [
      "C:\\Users\\minio\\anaconda3\\envs\\tfm-py-37\\lib\\site-packages\\ipykernel\\ipkernel.py:287: DeprecationWarning: `should_run_async` will not call `transform_cell` automatically in the future. Please pass the result to `transformed_cell` argument and any exception that happen during thetransform in `preprocessing_exc_tuple` in IPython 7.17 and above.\n",
      "  and should_run_async(code)\n"
     ]
    },
    {
     "data": {
      "text/plain": [
       "id_doc\n",
       "12252    ['kansa', 'plead', 'guilty', 'kill', 'girlfrie...\n",
       "48260    ['adorable', 'animate', 'card', 'wedding', 'ya...\n",
       "31121    ['outstanding', 'absolutely', 'gorgeous', 'sha...\n",
       "30554    ['megan', 'pugh', 'fuck', 'outfit', 'vincent',...\n",
       "19240    ['actress', 'arora', 'leaf', 'chandigarh', 'pr...\n",
       "40200    ['rite', 'obsolete', 'term', 'lilac', 'lavende...\n",
       "18496    ['sharma', 'sharma', 'snap', 'hospital', 'toda...\n",
       "19477         ['cutie', 'nayak', 'sunday', 'soha', 'khan']\n",
       "8315     ['pulcinella', 'artist', 'draw', 'artwork', 'l...\n",
       "40171    ['earlier', 'version', 'ascribed', 'poet', 'ni...\n",
       "Name: content_preprocessed, dtype: object"
      ]
     },
     "execution_count": 5,
     "metadata": {},
     "output_type": "execute_result"
    }
   ],
   "source": [
    "documents = documents.sample(frac=1, random_state=random_state)\n",
    "documents.head(10)"
   ]
  },
  {
   "cell_type": "markdown",
   "metadata": {},
   "source": [
    "### Sample"
   ]
  },
  {
   "cell_type": "code",
   "execution_count": 6,
   "metadata": {},
   "outputs": [
    {
     "name": "stderr",
     "output_type": "stream",
     "text": [
      "C:\\Users\\minio\\anaconda3\\envs\\tfm-py-37\\lib\\site-packages\\ipykernel\\ipkernel.py:287: DeprecationWarning: `should_run_async` will not call `transform_cell` automatically in the future. Please pass the result to `transformed_cell` argument and any exception that happen during thetransform in `preprocessing_exc_tuple` in IPython 7.17 and above.\n",
      "  and should_run_async(code)\n"
     ]
    }
   ],
   "source": [
    "if sample > 0:\n",
    "    documents = documents.sample(n=sample, random_state=random_state)\n",
    "    print(documents.head(10))"
   ]
  },
  {
   "cell_type": "markdown",
   "metadata": {},
   "source": [
    "### Plot the number of words appearing in each document  \n",
    "\n",
    "https://neptune.ai/blog/exploratory-data-analysis-natural-language-processing-tools"
   ]
  },
  {
   "cell_type": "code",
   "execution_count": 7,
   "metadata": {},
   "outputs": [
    {
     "name": "stdout",
     "output_type": "stream",
     "text": [
      "(4270,)\n"
     ]
    },
    {
     "name": "stderr",
     "output_type": "stream",
     "text": [
      "C:\\Users\\minio\\anaconda3\\envs\\tfm-py-37\\lib\\site-packages\\ipykernel\\ipkernel.py:287: DeprecationWarning: `should_run_async` will not call `transform_cell` automatically in the future. Please pass the result to `transformed_cell` argument and any exception that happen during thetransform in `preprocessing_exc_tuple` in IPython 7.17 and above.\n",
      "  and should_run_async(code)\n"
     ]
    },
    {
     "data": {
      "text/plain": [
       "<AxesSubplot:>"
      ]
     },
     "execution_count": 7,
     "metadata": {},
     "output_type": "execute_result"
    },
    {
     "data": {
      "image/png": "[encoded data removed]",
      "text/plain": [
       "<Figure size 432x288 with 1 Axes>"
      ]
     },
     "metadata": {
      "needs_background": "light"
     },
     "output_type": "display_data"
    }
   ],
   "source": [
    "print(documents.shape)\n",
    "\n",
    "documents.str.split().\\\n",
    "    map(lambda x: len(x)).\\\n",
    "    hist()"
   ]
  },
  {
   "cell_type": "markdown",
   "metadata": {},
   "source": [
    "### Remove words that appear only once"
   ]
  },
  {
   "cell_type": "code",
   "execution_count": 8,
   "metadata": {},
   "outputs": [
    {
     "name": "stderr",
     "output_type": "stream",
     "text": [
      "C:\\Users\\minio\\anaconda3\\envs\\tfm-py-37\\lib\\site-packages\\ipykernel\\ipkernel.py:287: DeprecationWarning: `should_run_async` will not call `transform_cell` automatically in the future. Please pass the result to `transformed_cell` argument and any exception that happen during thetransform in `preprocessing_exc_tuple` in IPython 7.17 and above.\n",
      "  and should_run_async(code)\n"
     ]
    }
   ],
   "source": [
    "####################### PENDING"
   ]
  },
  {
   "cell_type": "markdown",
   "metadata": {},
   "source": [
    "### Tokenize words and Clean-up text"
   ]
  },
  {
   "cell_type": "code",
   "execution_count": 9,
   "metadata": {},
   "outputs": [
    {
     "name": "stderr",
     "output_type": "stream",
     "text": [
      "C:\\Users\\minio\\anaconda3\\envs\\tfm-py-37\\lib\\site-packages\\ipykernel\\ipkernel.py:287: DeprecationWarning: `should_run_async` will not call `transform_cell` automatically in the future. Please pass the result to `transformed_cell` argument and any exception that happen during thetransform in `preprocessing_exc_tuple` in IPython 7.17 and above.\n",
      "  and should_run_async(code)\n"
     ]
    }
   ],
   "source": [
    "# https://www.machinelearningplus.com/nlp/topic-modeling-gensim-python/#3importpackages\n",
    "def sent_to_words(sentences):\n",
    "    for sentence in sentences:\n",
    "        yield(gensim.utils.simple_preprocess(str(sentence), deacc=True))  # deacc=True removes punctuations"
   ]
  },
  {
   "cell_type": "markdown",
   "metadata": {},
   "source": [
    "### Compute bigrams & trigrams  \n",
    "\n",
    "https://radimrehurek.com/gensim/auto_examples/tutorials/run_lda.html#pre-process-and-vectorize-the-documents"
   ]
  },
  {
   "cell_type": "code",
   "execution_count": 10,
   "metadata": {},
   "outputs": [
    {
     "name": "stderr",
     "output_type": "stream",
     "text": [
      "C:\\Users\\minio\\anaconda3\\envs\\tfm-py-37\\lib\\site-packages\\ipykernel\\ipkernel.py:287: DeprecationWarning: `should_run_async` will not call `transform_cell` automatically in the future. Please pass the result to `transformed_cell` argument and any exception that happen during thetransform in `preprocessing_exc_tuple` in IPython 7.17 and above.\n",
      "  and should_run_async(code)\n"
     ]
    }
   ],
   "source": [
    "from gensim.models import Phrases\n",
    "\n",
    "# Add bigrams and trigrams to docs (only ones that appear min_count times or more).\n",
    "def bi_tri_grams(documents, min_count):\n",
    "    bigram = Phrases(documents, min_count=min_count)\n",
    "    for idx in range(len(documents)):\n",
    "        for token in bigram[documents[idx]]:\n",
    "            if '_' in token:\n",
    "                # Token is a bigram, add to document.\n",
    "                documents[idx].append(token)"
   ]
  },
  {
   "cell_type": "markdown",
   "metadata": {},
   "source": [
    "### Categorizing and tagging words"
   ]
  },
  {
   "cell_type": "code",
   "execution_count": 11,
   "metadata": {},
   "outputs": [
    {
     "name": "stderr",
     "output_type": "stream",
     "text": [
      "C:\\Users\\minio\\anaconda3\\envs\\tfm-py-37\\lib\\site-packages\\ipykernel\\ipkernel.py:287: DeprecationWarning: `should_run_async` will not call `transform_cell` automatically in the future. Please pass the result to `transformed_cell` argument and any exception that happen during thetransform in `preprocessing_exc_tuple` in IPython 7.17 and above.\n",
      "  and should_run_async(code)\n"
     ]
    }
   ],
   "source": [
    "# function to remove accented characters\n",
    "def tag_words(text):\n",
    "    tags = nltk.pos_tag(text)\n",
    "    nouns = [word for word, pos in tags if (pos == 'NN' or pos == 'NNP' or pos == 'NNS' or pos == 'NNPS')]\n",
    "    return nouns"
   ]
  },
  {
   "cell_type": "markdown",
   "metadata": {},
   "source": [
    "### Dictionary with the entire dataset"
   ]
  },
  {
   "cell_type": "code",
   "execution_count": 12,
   "metadata": {},
   "outputs": [
    {
     "name": "stderr",
     "output_type": "stream",
     "text": [
      "C:\\Users\\minio\\anaconda3\\envs\\tfm-py-37\\lib\\site-packages\\ipykernel\\ipkernel.py:287: DeprecationWarning: `should_run_async` will not call `transform_cell` automatically in the future. Please pass the result to `transformed_cell` argument and any exception that happen during thetransform in `preprocessing_exc_tuple` in IPython 7.17 and above.\n",
      "  and should_run_async(code)\n"
     ]
    }
   ],
   "source": [
    "data_words = list(sent_to_words(documents))\n",
    "# Compute bigrams & trigrams\n",
    "bi_tri_grams(data_words, 250)\n",
    "# Categorizing and tagging words\n",
    "data_words = list(map(tag_words, data_words))\n",
    "# Create Dictionary\n",
    "id2word = Dictionary(data_words)\n",
    "# Create Corpus\n",
    "texts = data_words\n",
    "# Term Document Frequency\n",
    "corpus_total = [id2word.doc2bow(text) for text in texts]"
   ]
  },
  {
   "cell_type": "markdown",
   "metadata": {},
   "source": [
    "### Build LDA model"
   ]
  },
  {
   "cell_type": "code",
   "execution_count": 13,
   "metadata": {},
   "outputs": [
    {
     "name": "stderr",
     "output_type": "stream",
     "text": [
      "C:\\Users\\minio\\anaconda3\\envs\\tfm-py-37\\lib\\site-packages\\ipykernel\\ipkernel.py:287: DeprecationWarning: `should_run_async` will not call `transform_cell` automatically in the future. Please pass the result to `transformed_cell` argument and any exception that happen during thetransform in `preprocessing_exc_tuple` in IPython 7.17 and above.\n",
      "  and should_run_async(code)\n"
     ]
    },
    {
     "name": "stdout",
     "output_type": "stream",
     "text": [
      "time elapsed - 00:00:24.22\n"
     ]
    }
   ],
   "source": [
    "perplexity_score = []\n",
    "coherence_score = []\n",
    "indixes = []\n",
    "\n",
    "index = 0\n",
    "chunk_size = 250\n",
    "documents_sample = documents[index:chunk_size-1]\n",
    "\n",
    "time_start = time.time()\n",
    "\n",
    "data_words = list(sent_to_words(documents_sample))\n",
    "# Compute bigrams & trigrams\n",
    "bi_tri_grams(data_words, 250)\n",
    "# Categorizing and tagging words\n",
    "data_words = list(map(tag_words, data_words))\n",
    "# # Create Dictionary\n",
    "# id2word = Dictionary(data_words)\n",
    "# Create Corpus\n",
    "texts = data_words\n",
    "# Term Document Frequency\n",
    "corpus = [id2word.doc2bow(text) for text in texts]\n",
    "# Build LDA Model\n",
    "lda_model = gensim.models.LdaMulticore(corpus=corpus\n",
    "                                       ,id2word=id2word\n",
    "                                       ,num_topics=num_topics\n",
    "                                       ,random_state=random_state\n",
    "                                       ,chunksize=chunksize\n",
    "                                       ,passes=50\n",
    "                                       ,per_word_topics=True\n",
    "                                       ,alpha=alpha\n",
    "                                       ,eta=eta)\n",
    "\n",
    "indixes.append(index)\n",
    "\n",
    "# Evaluate LDA Model\n",
    "# Compute Perplexity Score\n",
    "perplexity = lda_model.log_perplexity(corpus)\n",
    "perplexity_score.append(perplexity)\n",
    "\n",
    "# Evaluate LDA Model\n",
    "# Compute Coherence Score\n",
    "coherence_lda_model = CoherenceModel(model=lda_model, texts=data_words, dictionary=id2word, coherence='c_v')\n",
    "coherence = coherence_lda_model.get_coherence()\n",
    "coherence_score.append(coherence)\n",
    "\n",
    "# Save LDA Model\n",
    "temp_file = datapath(file_model)\n",
    "lda_model.save(temp_file)\n",
    "temp_file = datapath(file_model + '_' + str(index).zfill(5))\n",
    "lda_model.save(temp_file)\n",
    "\n",
    "time_end = time.time()\n",
    "hour, rem = divmod(time_end - time_start, 3600)\n",
    "minute, second = divmod(rem, 60)\n",
    "print('time elapsed - {:0>2}:{:0>2}:{:05.2f}'.format(int(hour), int(minute), second))"
   ]
  },
  {
   "cell_type": "markdown",
   "metadata": {},
   "source": [
    "### Incremental learning"
   ]
  },
  {
   "cell_type": "code",
   "execution_count": 14,
   "metadata": {},
   "outputs": [
    {
     "name": "stdout",
     "output_type": "stream",
     "text": [
      "0  -----  250  -----  499\n"
     ]
    },
    {
     "name": "stderr",
     "output_type": "stream",
     "text": [
      "C:\\Users\\minio\\anaconda3\\envs\\tfm-py-37\\lib\\site-packages\\ipykernel\\ipkernel.py:287: DeprecationWarning: `should_run_async` will not call `transform_cell` automatically in the future. Please pass the result to `transformed_cell` argument and any exception that happen during thetransform in `preprocessing_exc_tuple` in IPython 7.17 and above.\n",
      "  and should_run_async(code)\n"
     ]
    },
    {
     "name": "stdout",
     "output_type": "stream",
     "text": [
      "time elapsed - 00:00:23.66\n",
      "1  -----  500  -----  749\n"
     ]
    },
    {
     "name": "stderr",
     "output_type": "stream",
     "text": [
      "C:\\Users\\minio\\anaconda3\\envs\\tfm-py-37\\lib\\site-packages\\gensim\\topic_coherence\\direct_confirmation_measure.py:204: RuntimeWarning: divide by zero encountered in double_scalars\n",
      "  m_lr_i = np.log(numerator / denominator)\n",
      "C:\\Users\\minio\\anaconda3\\envs\\tfm-py-37\\lib\\site-packages\\gensim\\topic_coherence\\indirect_confirmation_measure.py:323: RuntimeWarning: invalid value encountered in double_scalars\n",
      "  return cv1.T.dot(cv2)[0, 0] / (_magnitude(cv1) * _magnitude(cv2))\n"
     ]
    },
    {
     "name": "stdout",
     "output_type": "stream",
     "text": [
      "time elapsed - 00:00:23.39\n",
      "2  -----  750  -----  999\n"
     ]
    },
    {
     "name": "stderr",
     "output_type": "stream",
     "text": [
      "C:\\Users\\minio\\anaconda3\\envs\\tfm-py-37\\lib\\site-packages\\gensim\\topic_coherence\\direct_confirmation_measure.py:204: RuntimeWarning: divide by zero encountered in double_scalars\n",
      "  m_lr_i = np.log(numerator / denominator)\n",
      "C:\\Users\\minio\\anaconda3\\envs\\tfm-py-37\\lib\\site-packages\\gensim\\topic_coherence\\indirect_confirmation_measure.py:323: RuntimeWarning: invalid value encountered in double_scalars\n",
      "  return cv1.T.dot(cv2)[0, 0] / (_magnitude(cv1) * _magnitude(cv2))\n"
     ]
    },
    {
     "name": "stdout",
     "output_type": "stream",
     "text": [
      "time elapsed - 00:00:25.34\n",
      "3  -----  1000  -----  1249\n"
     ]
    },
    {
     "name": "stderr",
     "output_type": "stream",
     "text": [
      "C:\\Users\\minio\\anaconda3\\envs\\tfm-py-37\\lib\\site-packages\\gensim\\topic_coherence\\direct_confirmation_measure.py:204: RuntimeWarning: divide by zero encountered in double_scalars\n",
      "  m_lr_i = np.log(numerator / denominator)\n",
      "C:\\Users\\minio\\anaconda3\\envs\\tfm-py-37\\lib\\site-packages\\gensim\\topic_coherence\\indirect_confirmation_measure.py:323: RuntimeWarning: invalid value encountered in double_scalars\n",
      "  return cv1.T.dot(cv2)[0, 0] / (_magnitude(cv1) * _magnitude(cv2))\n"
     ]
    },
    {
     "name": "stdout",
     "output_type": "stream",
     "text": [
      "time elapsed - 00:00:23.05\n",
      "4  -----  1250  -----  1499\n"
     ]
    },
    {
     "name": "stderr",
     "output_type": "stream",
     "text": [
      "C:\\Users\\minio\\anaconda3\\envs\\tfm-py-37\\lib\\site-packages\\gensim\\topic_coherence\\direct_confirmation_measure.py:204: RuntimeWarning: divide by zero encountered in double_scalars\n",
      "  m_lr_i = np.log(numerator / denominator)\n",
      "C:\\Users\\minio\\anaconda3\\envs\\tfm-py-37\\lib\\site-packages\\gensim\\topic_coherence\\indirect_confirmation_measure.py:323: RuntimeWarning: invalid value encountered in double_scalars\n",
      "  return cv1.T.dot(cv2)[0, 0] / (_magnitude(cv1) * _magnitude(cv2))\n"
     ]
    },
    {
     "name": "stdout",
     "output_type": "stream",
     "text": [
      "time elapsed - 00:00:25.02\n",
      "5  -----  1500  -----  1749\n"
     ]
    },
    {
     "name": "stderr",
     "output_type": "stream",
     "text": [
      "C:\\Users\\minio\\anaconda3\\envs\\tfm-py-37\\lib\\site-packages\\gensim\\topic_coherence\\direct_confirmation_measure.py:204: RuntimeWarning: divide by zero encountered in double_scalars\n",
      "  m_lr_i = np.log(numerator / denominator)\n",
      "C:\\Users\\minio\\anaconda3\\envs\\tfm-py-37\\lib\\site-packages\\gensim\\topic_coherence\\indirect_confirmation_measure.py:323: RuntimeWarning: invalid value encountered in double_scalars\n",
      "  return cv1.T.dot(cv2)[0, 0] / (_magnitude(cv1) * _magnitude(cv2))\n"
     ]
    },
    {
     "name": "stdout",
     "output_type": "stream",
     "text": [
      "time elapsed - 00:00:23.38\n",
      "6  -----  1750  -----  1999\n"
     ]
    },
    {
     "name": "stderr",
     "output_type": "stream",
     "text": [
      "C:\\Users\\minio\\anaconda3\\envs\\tfm-py-37\\lib\\site-packages\\gensim\\topic_coherence\\direct_confirmation_measure.py:204: RuntimeWarning: divide by zero encountered in double_scalars\n",
      "  m_lr_i = np.log(numerator / denominator)\n",
      "C:\\Users\\minio\\anaconda3\\envs\\tfm-py-37\\lib\\site-packages\\gensim\\topic_coherence\\indirect_confirmation_measure.py:323: RuntimeWarning: invalid value encountered in double_scalars\n",
      "  return cv1.T.dot(cv2)[0, 0] / (_magnitude(cv1) * _magnitude(cv2))\n"
     ]
    },
    {
     "name": "stdout",
     "output_type": "stream",
     "text": [
      "time elapsed - 00:00:24.73\n",
      "7  -----  2000  -----  2249\n",
      "time elapsed - 00:00:24.47\n",
      "8  -----  2250  -----  2499\n",
      "time elapsed - 00:00:23.65\n",
      "9  -----  2500  -----  2749\n",
      "time elapsed - 00:00:22.86\n",
      "10  -----  2750  -----  2999\n",
      "time elapsed - 00:00:22.94\n",
      "11  -----  3000  -----  3249\n",
      "time elapsed - 00:00:24.49\n",
      "12  -----  3250  -----  3499\n",
      "time elapsed - 00:00:24.88\n",
      "13  -----  3500  -----  3749\n",
      "time elapsed - 00:00:24.62\n",
      "14  -----  3750  -----  3999\n",
      "time elapsed - 00:00:25.10\n",
      "15  -----  4000  -----  4249\n",
      "time elapsed - 00:00:26.68\n",
      "16  -----  4250  -----  4499\n"
     ]
    },
    {
     "name": "stderr",
     "output_type": "stream",
     "text": [
      "C:\\Users\\minio\\anaconda3\\envs\\tfm-py-37\\lib\\site-packages\\gensim\\topic_coherence\\direct_confirmation_measure.py:204: RuntimeWarning: divide by zero encountered in double_scalars\n",
      "  m_lr_i = np.log(numerator / denominator)\n",
      "C:\\Users\\minio\\anaconda3\\envs\\tfm-py-37\\lib\\site-packages\\gensim\\topic_coherence\\indirect_confirmation_measure.py:323: RuntimeWarning: invalid value encountered in double_scalars\n",
      "  return cv1.T.dot(cv2)[0, 0] / (_magnitude(cv1) * _magnitude(cv2))\n"
     ]
    },
    {
     "name": "stdout",
     "output_type": "stream",
     "text": [
      "time elapsed - 00:00:18.93\n"
     ]
    }
   ],
   "source": [
    "documents_len = len(documents)\n",
    "\n",
    "while index+(index+1)*chunk_size < documents_len:\n",
    "    \n",
    "    time_start = time.time()\n",
    "    \n",
    "    print(index, ' ----- ', (index+1)*chunk_size, ' ----- ', ((index+1)*chunk_size)+chunk_size-1)\n",
    "    documents_sample = documents[(index+1)*chunk_size:((index+1)*chunk_size)+chunk_size-1]\n",
    "    \n",
    "    data_words = list(sent_to_words(documents_sample))\n",
    "    # Compute bigrams & trigrams\n",
    "    bi_tri_grams(data_words, 250)\n",
    "    # Categorizing and tagging words\n",
    "    data_words = list(map(tag_words, data_words))\n",
    "    # Create Corpus\n",
    "    texts = data_words\n",
    "    # Term Document Frequency\n",
    "    corpus = [id2word.doc2bow(text) for text in texts]\n",
    "    # Load LDA Model\n",
    "    temp_file = datapath(file_model)\n",
    "    lda_model = gensim.models.ldamodel.LdaModel.load(temp_file)\n",
    "    # Update LDA Model\n",
    "    lda_model.update(corpus)\n",
    "    \n",
    "    index = index + 1\n",
    "    indixes.append(index)\n",
    "    \n",
    "    # Evaluate LDA Model\n",
    "    # Compute Perplexity Score\n",
    "    perplexity = lda_model.log_perplexity(corpus)\n",
    "    perplexity_score.append(perplexity)\n",
    "\n",
    "    # Evaluate LDA Model\n",
    "    # Compute Coherence Score\n",
    "    coherence_lda_model = CoherenceModel(model=lda_model, texts=data_words, dictionary=id2word, coherence='c_v')\n",
    "    coherence = coherence_lda_model.get_coherence()\n",
    "    coherence_score.append(coherence)\n",
    "    \n",
    "    # Save LDA Model\n",
    "    temp_file = datapath(file_model)\n",
    "    lda_model.save(temp_file)\n",
    "    temp_file = datapath(file_model + '_' + str(index).zfill(5))\n",
    "    lda_model.save(temp_file)\n",
    "    \n",
    "    time_end = time.time()\n",
    "    hour, rem = divmod(time_end - time_start, 3600)\n",
    "    minute, second = divmod(rem, 60)\n",
    "    print('time elapsed - {:0>2}:{:0>2}:{:05.2f}'.format(int(hour), int(minute), second))"
   ]
  },
  {
   "cell_type": "markdown",
   "metadata": {},
   "source": [
    "### Topics in LDA model"
   ]
  },
  {
   "cell_type": "code",
   "execution_count": 15,
   "metadata": {},
   "outputs": [
    {
     "name": "stdout",
     "output_type": "stream",
     "text": [
      "[(0,\n",
      "  '0.052*\"pakistani\" + 0.042*\"fashion\" + 0.031*\"shoot\" + 0.021*\"desi\" + '\n",
      "  '0.021*\"bridal\" + 0.021*\"studio\" + 0.021*\"mehndi\" + 0.010*\"style\" + '\n",
      "  '0.010*\"navman\" + 0.010*\"glan\"'),\n",
      " (1,\n",
      "  '0.032*\"gram\" + 0.032*\"artist\" + 0.016*\"follow\" + 0.016*\"fashion\" + '\n",
      "  '0.016*\"music\" + 0.016*\"design\" + 0.016*\"sketch\" + 0.016*\"arte\" + '\n",
      "  '0.016*\"draw\" + 0.016*\"nature\"'),\n",
      " (2,\n",
      "  '0.000*\"masculina\" + 0.000*\"winter\" + 0.000*\"collection\" + 0.000*\"crush\" + '\n",
      "  '0.000*\"khan\" + 0.000*\"street\" + 0.000*\"estilo\" + 0.000*\"tipo\" + '\n",
      "  '0.000*\"deus\" + 0.000*\"efeitos\"'),\n",
      " (3,\n",
      "  '0.050*\"book\" + 0.040*\"stigma\" + 0.030*\"novella\" + 0.020*\"reveal\" + '\n",
      "  '0.020*\"standalone\" + 0.020*\"story\" + 0.020*\"club\" + 0.020*\"mystery\" + '\n",
      "  '0.020*\"favor\" + 0.020*\"play\"'),\n",
      " (4,\n",
      "  '0.058*\"chef\" + 0.058*\"gram\" + 0.043*\"food\" + 0.043*\"kitchen\" + '\n",
      "  '0.029*\"recipe\" + 0.029*\"mana\" + 0.029*\"dish\" + 0.015*\"lunch\" + '\n",
      "  '0.015*\"tasty\" + 0.015*\"foodie\"'),\n",
      " (5,\n",
      "  '0.030*\"check\" + 0.015*\"repost\" + 0.015*\"corrie\" + 0.015*\"stream\" + '\n",
      "  '0.015*\"amir\" + 0.015*\"yunus\" + 0.015*\"liveupdate\" + 0.015*\"farah\" + '\n",
      "  '0.015*\"youtube\" + 0.015*\"channel\"'),\n",
      " (6,\n",
      "  '0.000*\"romance\" + 0.000*\"yasir\" + 0.000*\"hussain\" + 0.000*\"aziz\" + '\n",
      "  '0.000*\"faber\" + 0.000*\"iqra\" + 0.000*\"elise\" + 0.000*\"isha\" + 0.000*\"share\" '\n",
      "  '+ 0.000*\"rapper\"'),\n",
      " (7,\n",
      "  '0.000*\"grace\" + 0.000*\"analy\" + 0.000*\"jewellery\" + 0.000*\"designer\" + '\n",
      "  '0.000*\"jewelry\" + 0.000*\"diamond\" + 0.000*\"pearl\" + 0.000*\"kind\" + '\n",
      "  '0.000*\"gold\" + 0.000*\"collection\"'),\n",
      " (8,\n",
      "  '0.019*\"beauty\" + 0.019*\"challenge\" + 0.019*\"cannon\" + 0.019*\"kaka\" + '\n",
      "  '0.019*\"brow\" + 0.019*\"eminem\" + 0.019*\"nollywood\" + 0.019*\"statia\" + '\n",
      "  '0.019*\"lagos\" + 0.019*\"kaine\"'),\n",
      " (9,\n",
      "  '0.022*\"kashi\" + 0.022*\"concept\" + 0.022*\"wack\" + 0.022*\"fiction\" + '\n",
      "  '0.022*\"hollywood\" + 0.022*\"speaker\" + 0.000*\"guy\" + 0.000*\"check\" + '\n",
      "  '0.000*\"song\" + 0.000*\"year\"')]\n"
     ]
    },
    {
     "name": "stderr",
     "output_type": "stream",
     "text": [
      "C:\\Users\\minio\\anaconda3\\envs\\tfm-py-37\\lib\\site-packages\\ipykernel\\ipkernel.py:287: DeprecationWarning: `should_run_async` will not call `transform_cell` automatically in the future. Please pass the result to `transformed_cell` argument and any exception that happen during thetransform in `preprocessing_exc_tuple` in IPython 7.17 and above.\n",
      "  and should_run_async(code)\n"
     ]
    }
   ],
   "source": [
    "# Print the Keyword in the 10 topics\n",
    "pprint(lda_model.print_topics())\n",
    "doc_lda = lda_model[corpus]"
   ]
  },
  {
   "cell_type": "markdown",
   "metadata": {},
   "source": [
    "### Plot perplexity score progress along incremental learning iterations  \n",
    "\n",
    "Lower the perplexity score represents a better model.  "
   ]
  },
  {
   "cell_type": "code",
   "execution_count": 16,
   "metadata": {},
   "outputs": [
    {
     "name": "stderr",
     "output_type": "stream",
     "text": [
      "C:\\Users\\minio\\anaconda3\\envs\\tfm-py-37\\lib\\site-packages\\ipykernel\\ipkernel.py:287: DeprecationWarning: `should_run_async` will not call `transform_cell` automatically in the future. Please pass the result to `transformed_cell` argument and any exception that happen during thetransform in `preprocessing_exc_tuple` in IPython 7.17 and above.\n",
      "  and should_run_async(code)\n"
     ]
    },
    {
     "data": {
      "image/png": "[encoded data removed]",
      "text/plain": [
       "<Figure size 432x288 with 1 Axes>"
      ]
     },
     "metadata": {
      "needs_background": "light"
     },
     "output_type": "display_data"
    }
   ],
   "source": [
    "plt.title('Perplexity score progress')\n",
    "plt.xlabel('Index')\n",
    "plt.ylabel('Perplexity score')\n",
    "plt.plot(indixes, perplexity_score, 'go', perplexity_score, 'k')\n",
    "plt.show()"
   ]
  },
  {
   "cell_type": "markdown",
   "metadata": {},
   "source": [
    "### Plot coherence score progress along incremental learning iterations  \n",
    "\n",
    "Higher the coherence score represents a more human interpretable model.  "
   ]
  },
  {
   "cell_type": "code",
   "execution_count": 17,
   "metadata": {},
   "outputs": [
    {
     "name": "stderr",
     "output_type": "stream",
     "text": [
      "C:\\Users\\minio\\anaconda3\\envs\\tfm-py-37\\lib\\site-packages\\ipykernel\\ipkernel.py:287: DeprecationWarning: `should_run_async` will not call `transform_cell` automatically in the future. Please pass the result to `transformed_cell` argument and any exception that happen during thetransform in `preprocessing_exc_tuple` in IPython 7.17 and above.\n",
      "  and should_run_async(code)\n"
     ]
    },
    {
     "data": {
      "image/png": "[encoded data removed]",
      "text/plain": [
       "<Figure size 432x288 with 1 Axes>"
      ]
     },
     "metadata": {
      "needs_background": "light"
     },
     "output_type": "display_data"
    }
   ],
   "source": [
    "plt.title('Coherence score progress')\n",
    "plt.xlabel('Index')\n",
    "plt.ylabel('Coherence score')\n",
    "plt.plot(indixes, coherence_score, 'go', coherence_score, 'k') \n",
    "plt.show()"
   ]
  },
  {
   "cell_type": "markdown",
   "metadata": {},
   "source": [
    "### Visualize the topics-keywords"
   ]
  },
  {
   "cell_type": "code",
   "execution_count": 18,
   "metadata": {},
   "outputs": [
    {
     "name": "stderr",
     "output_type": "stream",
     "text": [
      "C:\\Users\\minio\\anaconda3\\envs\\tfm-py-37\\lib\\site-packages\\ipykernel\\ipkernel.py:287: DeprecationWarning: `should_run_async` will not call `transform_cell` automatically in the future. Please pass the result to `transformed_cell` argument and any exception that happen during thetransform in `preprocessing_exc_tuple` in IPython 7.17 and above.\n",
      "  and should_run_async(code)\n"
     ]
    },
    {
     "data": {
      "text/html": [
       "\n",
       "<link rel=\"stylesheet\" type=\"text/css\" href=\"https://cdn.rawgit.com/bmabey/pyLDAvis/files/ldavis.v1.0.0.css\">\n",
       "\n",
       "\n",
       "<div id=\"ldavis_el318820975841714645789882286\"></div>\n",
       "<script type=\"text/javascript\">\n",
       "\n",
       "var ldavis_el318820975841714645789882286_data = {\"mdsDat\": {\"x\": [-0.23182816269558235, 0.1680684253534904, 0.018070978882419896, -0.008856435509098787, 0.0363273260054567, 0.006803130828291593, 0.00412149962457897, 0.00241369337200874, 0.002417810617817756, 0.002461733520617367], \"y\": [0.11838792901441328, 0.18609277820312414, -0.1103162764470121, -0.038253938687381334, -0.04616113482605459, -0.04371422241869347, -0.024310655025986005, -0.013918755074043963, -0.013929918651247548, -0.013875806087118105], \"topics\": [1, 2, 3, 4, 5, 6, 7, 8, 9, 10], \"cluster\": [1, 1, 1, 1, 1, 1, 1, 1, 1, 1], \"Freq\": [27.944181661451108, 25.68370650211223, 13.602811201527892, 11.776974987449776, 10.39918189109418, 6.087562026815386, 2.4920820274347606, 0.9720458669264471, 0.5476732886857998, 0.49378054650242575]}, \"tinfo\": {\"Term\": [\"pakistani\", \"book\", \"gram\", \"chef\", \"stigma\", \"fashion\", \"food\", \"kitchen\", \"shoot\", \"novella\", \"check\", \"recipe\", \"mana\", \"dish\", \"artist\", \"desi\", \"studio\", \"mehndi\", \"bridal\", \"standalone\", \"club\", \"mystery\", \"favor\", \"reveal\", \"story\", \"play\", \"beauty\", \"follow\", \"music\", \"night\", \"book\", \"stigma\", \"novella\", \"standalone\", \"club\", \"reveal\", \"mystery\", \"favor\", \"story\", \"play\", \"series\", \"head\", \"blurb\", \"success\", \"length\", \"steamy\", \"power\", \"stock\", \"chemistry\", \"interest\", \"standalones\", \"addiction\", \"streetcar\", \"novelist\", \"poignant\", \"bondage\", \"download\", \"emerson\", \"henley\", \"glimpse\", \"love\", \"spot\", \"check\", \"night\", \"novel\", \"pakistani\", \"shoot\", \"studio\", \"desi\", \"mehndi\", \"bridal\", \"style\", \"glan\", \"navman\", \"mumbai\", \"celebrity\", \"irfan\", \"signature\", \"lahore\", \"nikah\", \"salman\", \"muzaffar\", \"dance\", \"teacher\", \"jonathan\", \"choreographer\", \"bachata\", \"performs\", \"blast\", \"reporter\", \"beach\", \"photographer\", \"street\", \"screen\", \"party\", \"fashion\", \"lima\", \"bride\", \"couple\", \"today\", \"chef\", \"food\", \"kitchen\", \"recipe\", \"mana\", \"dish\", \"tasty\", \"lunch\", \"foodie\", \"yummy\", \"tag\", \"afternoon\", \"cook\", \"exploration\", \"year\", \"gram\", \"beauty\", \"porn\", \"gourmand\", \"ephoto\", \"pic\", \"pastry\", \"delice\", \"aviv\", \"paris\", \"cuisine\", \"giraud\", \"remy\", \"lover\", \"italienne\", \"life\", \"repost\", \"rajasthani\", \"dich\", \"choudhary\", \"choo\", \"akan\", \"groove\", \"channel\", \"youtube\", \"stream\", \"corrie\", \"amir\", \"farah\", \"yunus\", \"liveupdate\", \"guy\", \"song\", \"sharma\", \"michi\", \"bikini\", \"link\", \"bollywood\", \"check\", \"music\", \"night\", \"follow\", \"body\", \"kid\", \"cont\", \"eolos\", \"hair\", \"jessica\", \"type\", \"artist\", \"illustration\", \"arte\", \"artwork\", \"draw\", \"fanart\", \"sketch\", \"comment\", \"nature\", \"trick\", \"nail\", \"yuli\", \"personality\", \"type\", \"design\", \"perfect\", \"jessica\", \"music\", \"gram\", \"follow\", \"fashion\", \"christmas\", \"image\", \"merry\", \"morg\", \"chill\", \"intimate\", \"amaze\", \"ferreira\", \"marino\", \"time\", \"year\", \"exploration\", \"morning\", \"thing\", \"kitchen\", \"dish\", \"mana\", \"cook\", \"beauty\", \"challenge\", \"kaka\", \"brow\", \"lagos\", \"statia\", \"nollywood\", \"naija\", \"kaine\", \"cannon\", \"eminem\", \"catch\", \"cent\", \"designer\", \"beauty\", \"cross\", \"stitch\", \"ceylon\", \"prince\", \"event\", \"hand\", \"post\", \"rizvi\", \"breast\", \"island\", \"cancer\", \"bhatt\", \"wisdom\", \"factory\", \"team\", \"riyal\", \"squad\", \"weekend\", \"hold\", \"coworkers\", \"kashi\", \"concept\", \"wack\", \"fiction\", \"hollywood\", \"speaker\", \"card\", \"rapper\", \"proof\", \"bone\", \"deel\", \"people\", \"museum\", \"raymond\", \"case\", \"crayon\", \"camera\", \"swipe\", \"hell\", \"count\", \"prosecutor\", \"dinosaur\", \"ghana\", \"supa\", \"flavor\", \"izzo\", \"rikishi\", \"lakers\", \"park\", \"caption\", \"time\", \"guy\", \"check\", \"song\", \"year\", \"story\", \"medium\", \"today\", \"cent\", \"share\", \"reveal\", \"love\", \"stream\", \"masculina\", \"winter\", \"collection\", \"crush\", \"khan\", \"estilo\", \"tipo\", \"deus\", \"efeitos\", \"elan\", \"inspira\", \"brand\", \"store\", \"season\", \"velvet\", \"mall\", \"moda\", \"gossip\", \"karachi\", \"saira\", \"spencer\", \"jeweller\", \"sharif\", \"kayseri\", \"jemima\", \"ayesha\", \"shawl\", \"dantas\", \"faust\", \"marcelo\", \"magnani\", \"luxury\", \"visit\", \"street\", \"spark\", \"share\", \"bridal\", \"shop\", \"yasir\", \"hussain\", \"aziz\", \"faber\", \"iqra\", \"elise\", \"isha\", \"romance\", \"wood\", \"kraus\", \"rebecca\", \"ravo\", \"spider\", \"spin\", \"decade\", \"lack\", \"hint\", \"wonder\", \"wizard\", \"akademiks\", \"hear\", \"congratulate\", \"niche\", \"architecture\", \"creation\", \"figure\", \"fund\", \"jaisalmer\", \"quantity\", \"india\", \"sport\", \"caption\", \"pin\", \"confidence\", \"share\", \"thing\", \"pakistan\", \"rapper\", \"story\", \"jewellery\", \"jewelry\", \"pearl\", \"diamond\", \"kind\", \"gold\", \"collection\", \"south\", \"ruby\", \"color\", \"bird\", \"emerald\", \"goldsmith\", \"stylee\", \"addict\", \"poetry\", \"sapphire\", \"fancy\", \"flamingo\", \"gem\", \"maker\", \"jade\", \"gemstone\", \"affa\", \"champagne\", \"azure\", \"luxury\", \"excellency\", \"chan\", \"heat\", \"haute\", \"couture\", \"grace\", \"analy\", \"designer\", \"year\", \"morning\"], \"Freq\": [2.0, 3.0, 2.0, 1.0, 2.0, 2.0, 1.0, 1.0, 1.0, 1.0, 1.0, 0.0, 0.0, 0.0, 0.0, 1.0, 1.0, 1.0, 1.0, 1.0, 1.0, 1.0, 1.0, 1.0, 1.0, 1.0, 0.0, 1.0, 0.0, 1.0, 3.043845093384005, 2.4354601906703652, 1.8272442436075427, 1.2190706205593307, 1.2190489479405893, 1.2190706205593307, 1.219027956137096, 1.219027956137096, 1.219061429553477, 1.2189907382368488, 0.6108545032926961, 0.6108402061724792, 0.6108330576123707, 0.6108258523176583, 0.6108258523176583, 0.6108258523176583, 0.6108588718572069, 0.6108119523396696, 0.6108119523396696, 0.6108119523396696, 0.6108119523396696, 0.6108119523396696, 0.6108119523396696, 0.6108119523396696, 0.6108119523396696, 0.6108119523396696, 0.6108119523396696, 0.6108119523396696, 0.6108119523396696, 0.6108119523396696, 0.6108508722780379, 0.6108257388484502, 0.6109711496385929, 0.6108356674041564, 0.6108119523396696, 2.9143918446772763, 1.749633812519072, 1.1672590202011035, 1.1672722650816942, 1.1672523456156088, 1.1672651733346062, 0.5853340323712305, 0.5849593691151479, 0.5849593691151479, 0.5848990371197008, 0.584926882656061, 0.5848858965295083, 0.5848722866325233, 0.5848722866325233, 0.5848654556114312, 0.5848717651805315, 0.5848585202999407, 0.5848646212882443, 0.5848575816863555, 0.5848575816863555, 0.5848575816863555, 0.5848575816863555, 0.5848534622156206, 0.5848534622156206, 0.5848534622156206, 0.5848714523093365, 0.584873381681706, 0.5848808384451882, 0.5848499163420766, 0.5848716087449339, 2.3325021070020466, 0.5848725473585191, 0.5848873044498861, 0.5848715565997348, 0.5848966384405386, 1.717498813687873, 1.289110581883365, 1.2880615564930233, 0.8596431663132456, 0.8594343223262573, 0.8594342118560182, 0.43083083926089416, 0.43083572756897365, 0.4308246253099457, 0.4307705225103543, 0.4307357520026026, 0.4307255611230471, 0.4305341990513939, 0.42976192922751744, 0.42973447737310505, 1.7140988711395848, 0.43061213580506763, 0.0019260637217824884, 0.0019210442302941093, 0.0019210442302941093, 0.0019210446618184807, 0.001916020423562016, 0.0019110043842686083, 0.0018708467262640897, 0.0018658285293488247, 0.0018608096851470029, 0.001855789977896438, 0.0018557893306098809, 0.0018557904094208095, 0.0018507704864080589, 0.0018557880360367666, 0.3898050826041333, 0.38979171658148165, 0.38979171658148165, 0.38979171658148165, 0.38979171658148165, 0.38979171658148165, 0.38979171658148165, 0.38979171658148165, 0.38979171658148165, 0.38979618786276227, 0.3898016394784413, 0.3897932946807572, 0.3897932946807572, 0.3897932946807572, 0.3897932946807572, 0.3897658453176013, 0.38976572576462587, 0.38978368262153357, 0.3897434650006031, 0.38974336935822274, 0.3896595388118599, 0.38961867560486213, 0.7778140969479721, 0.3897770354761004, 0.3897250299317937, 0.38857724963599893, 0.0016884896361741043, 0.0016748662010222142, 0.0016703231879563432, 0.0016703231879563432, 0.001672205400113075, 0.0017317685604813925, 0.0016733252752499951, 0.7306927842068015, 0.36612500782152474, 0.36612500782152474, 0.36612500782152474, 0.36612500782152474, 0.36612500782152474, 0.36612500782152474, 0.3661067659434278, 0.36612500782152474, 0.36610499242750166, 0.3661006430908258, 0.36609599816816224, 0.36609050871410526, 0.36609050871410526, 0.3661288504393646, 0.36608417472865495, 0.3660452840579899, 0.3661605625931859, 0.7335863176667899, 0.37174675772124816, 0.3662370349108562, 0.0016444248490306277, 0.001585819813599006, 0.0015815151777058495, 0.001577306211384599, 0.001577306211384599, 0.0015730403381628182, 0.0015730403381628182, 0.0015730284619400988, 0.0015730284619400988, 0.001577209057284853, 0.002432227155323115, 0.0024049525851104047, 0.0021284490481778477, 0.0020392548217620485, 0.002021402714696852, 0.001764849912352526, 0.001764722078010755, 0.0017357962179974395, 0.001686965478811393, 0.25075380427079297, 0.2507508627156877, 0.2507508627156877, 0.25074641330460407, 0.25074641330460407, 0.25074641330460407, 0.2507463885856536, 0.2507463885856536, 0.2507531615780809, 0.2507501705850747, 0.2507455234223873, 0.2507375144824368, 0.2507243640007896, 0.2507650761122049, 0.0010861480763396704, 0.0010855928655382184, 0.0010832332679112477, 0.0010803123763036089, 0.0010854772851331162, 0.0010773051614861445, 0.0010770807597639577, 0.0010744688550371271, 0.0010744688550371271, 0.0010744688550371271, 0.0010744688550371271, 0.001074468758478727, 0.0010744685653619264, 0.0010744683722451259, 0.001074468468803526, 0.0010744678894531246, 0.0011110232582959233, 0.0010793676489155384, 0.0010789930023225587, 0.0010789930023225587, 0.12083363511991621, 0.12083003266164424, 0.12082787725823994, 0.12082787725823994, 0.12081166619601608, 0.12067527874492164, 0.000526210150079326, 0.0005248075251087039, 0.0005233994056935175, 0.0005233988918246015, 0.0005233986941827107, 0.0005234010263570221, 0.0005219910095796841, 0.0005219908909945497, 0.0005205834435617921, 0.0005205830878063887, 0.0005205815461996404, 0.000519176114714169, 0.0005191755217884966, 0.000519175363674984, 0.000519175363674984, 0.0005191752846182277, 0.0005191752450898495, 0.0005191752450898495, 0.0005191752055614714, 0.0005191749683912024, 0.0005191749683912024, 0.0005191749683912024, 0.0005191745335790427, 0.0005191762728276817, 0.0005219978875174839, 0.0005273452865149407, 0.0005269367211982811, 0.000526866439741913, 0.0005262219690643957, 0.0005234068765569898, 0.0005228707926923867, 0.000521090790295473, 0.0005210810663144457, 0.0005205898866874321, 0.0005205847479982714, 0.0005204850179001742, 0.0005193506720321227, 0.00023861331111770914, 0.0002379776653585122, 0.00023658248867565947, 0.00023608000983188653, 0.00023604772413999146, 0.0002354466151285715, 0.00023544646094666178, 0.00023544646094666178, 0.00023544636843751595, 0.00023418070455882685, 0.00023417959444907687, 0.00023418121335912892, 0.00023418068914063587, 0.00023391023865279847, 0.00023354789574676877, 0.00023354780323762292, 0.00023354658520053614, 0.00023354658520053614, 0.0002335478186558139, 0.00023348372523594388, 0.00023291454729802664, 0.00023291445478888082, 0.00023291445478888082, 0.00023291445478888082, 0.00023291443937068984, 0.000232914362279735, 0.00023291428518878012, 0.00023291325216998502, 0.00023291314424264822, 0.00023291314424264822, 0.00023291314424264822, 0.00023331501939032978, 0.00023291465522536347, 0.0002359211870466854, 0.000234185561288983, 0.00023375813819886105, 0.00023343939793689977, 0.0002329143006069711, 0.0001315945957846559, 0.0001315945957846559, 0.00013159454366284783, 0.00013159444810619965, 0.00013123767432982183, 0.00013123759614710968, 0.0001312367969460523, 0.00013159469134130407, 0.00013088079630982783, 0.00013088074418801974, 0.00013088074418801974, 0.00013088074418801974, 0.00013088074418801974, 0.00013088074418801974, 0.00013088074418801974, 0.00013088074418801974, 0.0001308807268140837, 0.0001308807268140837, 0.00013088070944014768, 0.00013088070944014768, 0.00013088070944014768, 0.00013088069206621165, 0.00013088069206621165, 0.0001308799623608984, 0.0001308799623608984, 0.0001308799623608984, 0.0001308799623608984, 0.0001308799623608984, 0.0001308799623608984, 0.0001308799623608984, 0.00013088074418801974, 0.0001308805530747234, 0.00013088074418801974, 0.00013088074418801974, 0.00013123502480457723, 0.00013088074418801974, 0.0001308807789358918, 0.0001308808397446679, 0.00013088081368376386, 0.00012442527797222082, 0.00012217298062022853, 0.00012120707368513492, 0.0001212071520065704, 0.00012056418784635569, 0.00011959882916131039, 0.00011959500707525939, 0.00011927695155795391, 0.00011895573968679892, 0.00011895552038677961, 0.000118955254093899, 0.00011895536374390865, 0.0001186336741119973, 0.0001186336741119973, 0.0001186336741119973, 0.00011863362711913603, 0.00011863363495127957, 0.00011863358012627474, 0.00011863355662984409, 0.00011863611774078401, 0.00011863372110485859, 0.00011831197664794241, 0.00011831197664794241, 0.00011831182783721501, 0.00011831182783721501, 0.00011831141273360702, 0.00011892575824130051, 0.00011831174951577953, 0.00011831182783721501, 0.00011831186699793274, 0.00011863240530474267, 0.00011862927244732382, 0.00015194801780760877, 0.00012468387968786004, 0.00012314642207741447, 0.00011863354879770055, 0.0001183184068377946], \"Total\": [2.0, 3.0, 2.0, 1.0, 2.0, 2.0, 1.0, 1.0, 1.0, 1.0, 1.0, 0.0, 0.0, 0.0, 0.0, 1.0, 1.0, 1.0, 1.0, 1.0, 1.0, 1.0, 1.0, 1.0, 1.0, 1.0, 0.0, 1.0, 0.0, 1.0, 3.053514176533252, 2.445085339005044, 1.8368664340269998, 1.2286839938727625, 1.2286624829585857, 1.2286896266097003, 1.2286471889712274, 1.2286471889712274, 1.2286848044528642, 1.228642604516347, 0.6204678441290505, 0.6204535608475521, 0.6204464308597382, 0.6204392781325185, 0.6204392781720469, 0.6204392781894209, 0.6204735878880019, 0.6204282274081095, 0.6204282274081095, 0.6204282274081095, 0.6204282274081095, 0.6204282274081095, 0.6204282274081095, 0.6204282274081095, 0.6204282274081095, 0.6204282274081095, 0.6204282274081095, 0.6204282274081095, 0.6204282274081095, 0.6204282274081095, 0.6204906841474013, 0.6204815297327442, 1.3967539875080048, 1.008641264072567, 0.6204282274602314, 2.9241156879872956, 1.7593630652068253, 1.176982863444852, 1.176996248064851, 1.1769761886097534, 1.1769945687557903, 0.5950591409588537, 0.5946837577962998, 0.5946837749977314, 0.5946229854647959, 0.5946513548171362, 0.5946097391134665, 0.5945961303245794, 0.5945961497247473, 0.5945892983603369, 0.5945957236707516, 0.5945823644713534, 0.5945886351795785, 0.5945815999268017, 0.5945815999268017, 0.5945815999268017, 0.5945815999268017, 0.594578344871209, 0.594578344871209, 0.594578344871209, 0.5945968746231394, 0.594599565255889, 0.5946089526946412, 0.5945779241554962, 0.5946002942534239, 2.7069033800183027, 0.5946032186489074, 0.5946238844800186, 0.5946086689823922, 0.5946523230096588, 1.7278901534161655, 1.2994923757634569, 1.2989036759509913, 0.8700340223963186, 0.8700197776150234, 0.8700197949791261, 0.4412120400192397, 0.44121714682808805, 0.44120681764779157, 0.4411518296767101, 0.4411252149655387, 0.4411193978044853, 0.44109068438971055, 0.44098757182922416, 0.4410468075664259, 2.4565289952917424, 0.6908308490459591, 0.012306668896196178, 0.012301649404707798, 0.012301649404707798, 0.01230591653419164, 0.012296625597975707, 0.012291609558682299, 0.01225145190067778, 0.012246435536992175, 0.012241414859560694, 0.012236395152310129, 0.012236394505023571, 0.012257469777848456, 0.012231375660821749, 0.59469041674759, 0.4003644970532536, 0.4003510312839995, 0.4003510312839995, 0.4003510312839995, 0.4003510312839995, 0.4003510312839995, 0.4003510312839995, 0.4003510317667915, 0.4003510317667915, 0.40035614068993014, 0.40036237767685406, 0.40036039097130327, 0.40036039097130327, 0.40036039097130327, 0.40036039097130327, 0.40033384096184643, 0.40034256477863045, 0.4003739883799209, 0.4003758303570378, 0.4003758079444263, 0.4004588360509263, 0.4006727237083435, 1.3967539875080048, 0.7649332554651022, 1.008641264072567, 1.3445759523971086, 0.012253587214981404, 0.012243555226396072, 0.012225402236482516, 0.012225402236482516, 0.012263933757623443, 0.3767870608665828, 0.37676133621608776, 0.7413560534708425, 0.3767814429415021, 0.3767814429415021, 0.3767814429415021, 0.3767814429415021, 0.3767814429415021, 0.3767814429415021, 0.37676431903776864, 0.37678438122786734, 0.37676397798362105, 0.3767596406732031, 0.37675905210534716, 0.37676133621608776, 0.37676133621608776, 0.376809988719925, 0.37677365241503497, 0.3767870608665828, 0.7649332554651022, 2.4565289952917424, 1.3445759523971086, 2.7069033800183027, 0.012336274171772547, 0.012241900047259268, 0.012237610171010797, 0.012233380671119542, 0.012233380671119542, 0.012229114978038007, 0.012229116445817518, 0.012229122459241739, 0.012229122459241739, 0.012329462020239915, 0.4410468075664259, 0.44098757182922416, 0.5942696766122658, 0.5943499693958872, 1.2989036759509913, 0.8700197949791261, 0.8700197776150234, 0.44109068438971055, 0.6908308490459591, 0.2619020141556541, 0.26189909852597476, 0.26189909852597476, 0.26189479328727483, 0.2618947939295106, 0.2618947944243532, 0.2618947698527959, 0.2618947698527959, 0.2619022292698067, 0.26189925214755816, 0.2618954360749531, 0.2618927046464672, 0.2619226835040131, 0.6908308490459591, 0.012235266202065213, 0.01225074503742837, 0.012230925876510267, 0.012228004932042286, 0.01231074614127506, 0.012230987117166641, 0.012251493007477413, 0.01222216120708362, 0.012222161246611999, 0.012222161246611999, 0.012222161246611999, 0.01222216111052522, 0.01222216111505031, 0.012222161154604104, 0.012222163418833847, 0.012222162647061184, 0.6203782339049922, 0.6204366245741845, 0.6204121624753077, 0.6204121624753077, 0.1325364826637743, 0.13254247034872807, 0.1325446433958971, 0.1325446451688535, 0.13262753970655314, 0.13317716923638445, 0.012234706574098439, 0.012226531826362562, 0.012224765795807313, 0.0122247662985461, 0.012224766607130589, 0.01223188212091039, 0.012223358194681634, 0.012223358582322881, 0.012221949833675588, 0.012221950213206169, 0.012221958352432146, 0.01222054260907158, 0.012220541911902291, 0.012220541975408325, 0.012220541975408325, 0.012220542061299107, 0.012220541826212088, 0.012220542043624716, 0.012220542357092306, 0.012220543353080923, 0.012220543353080923, 0.012220543353080923, 0.012220547129040154, 0.012220900122464058, 0.012329462020239915, 0.40033384096184643, 1.3967539875080048, 0.40034256477863045, 0.4410468075664259, 1.2286848044528642, 0.5945653532780372, 0.5946523230096588, 0.2618927046464672, 0.620433010246569, 1.2286896266097003, 0.6204906841474013, 0.40035614068993014, 0.012223299379346513, 0.012234743441393055, 0.01223623321912436, 0.01222076452393085, 0.012225056641406473, 0.012220132072280822, 0.012220132936559835, 0.012220132936559835, 0.012220132844050689, 0.01221885553097285, 0.012218867292215354, 0.012221669364782434, 0.01222177688493576, 0.012235422139411511, 0.012218218279677383, 0.012218218187168237, 0.012218231838660602, 0.012218233146271271, 0.012221140992255974, 0.012218843403518172, 0.012217584931228641, 0.01221758502552102, 0.01221758502552102, 0.01221758506033904, 0.01221758504492085, 0.012217585615235952, 0.012217586502349052, 0.012217596672400393, 0.012217597582933979, 0.012217597582933979, 0.012217597582933979, 0.012282751523943501, 0.012218994816578987, 0.5946089526946412, 0.6204129890998505, 0.620433010246569, 1.1769945687557903, 0.012233233264316164, 0.012217388942662362, 0.012217390050760097, 0.012217390210120856, 0.012217388794983906, 0.01221703284594522, 0.012217031943024816, 0.012217047235506318, 0.012260081084524647, 0.012216675982902773, 0.012216675091065726, 0.012216675091065726, 0.012216675091065726, 0.012216675091065726, 0.012216675091065726, 0.012216675091065726, 0.012216675091065726, 0.012216675113220169, 0.012216675113220169, 0.012216675087154233, 0.012216675087154233, 0.012216675087154233, 0.012216676193576682, 0.012216676193576682, 0.012216689993536794, 0.012216689993536794, 0.012216689993536794, 0.012216689993536794, 0.012216689993536794, 0.012216689993536794, 0.012216689993536794, 0.012219596368906967, 0.012220900122464058, 0.012223790987568005, 0.012223791073100775, 0.620433010246569, 0.5943499693958872, 0.012234463875682427, 0.012226531826362562, 1.2286848044528642, 0.012223075078902081, 0.01222082278155009, 0.012219860541074311, 0.012226680838751797, 0.01221921408128536, 0.012218250290465025, 0.01223623321912436, 0.012217926752487814, 0.012217605540616659, 0.012217606429414374, 0.01221760505502376, 0.01222056416832221, 0.012217283475041857, 0.012217283475041857, 0.012217285356551524, 0.012217283428048996, 0.012217284298929883, 0.012217283578698026, 0.012217283357559705, 0.012224046462266994, 0.012224401720265237, 0.012216961777577803, 0.012216961777577803, 0.01221696183245926, 0.01221696183245926, 0.012216970011955772, 0.012282751523943501, 0.012221227660053959, 0.012221512814263279, 0.01222407770490941, 0.01226502052500406, 0.012387388806596488, 0.5938907892150724, 0.5944050828025116, 0.2619226835040131, 0.4410468075664259, 0.5942696766122658], \"Category\": [\"Default\", \"Default\", \"Default\", \"Default\", \"Default\", \"Default\", \"Default\", \"Default\", \"Default\", \"Default\", \"Default\", \"Default\", \"Default\", \"Default\", \"Default\", \"Default\", \"Default\", \"Default\", \"Default\", \"Default\", \"Default\", \"Default\", \"Default\", \"Default\", \"Default\", \"Default\", \"Default\", \"Default\", \"Default\", \"Default\", \"Topic1\", \"Topic1\", \"Topic1\", \"Topic1\", \"Topic1\", \"Topic1\", \"Topic1\", \"Topic1\", \"Topic1\", \"Topic1\", \"Topic1\", \"Topic1\", \"Topic1\", \"Topic1\", \"Topic1\", \"Topic1\", \"Topic1\", \"Topic1\", \"Topic1\", \"Topic1\", \"Topic1\", \"Topic1\", \"Topic1\", \"Topic1\", \"Topic1\", \"Topic1\", \"Topic1\", \"Topic1\", \"Topic1\", \"Topic1\", \"Topic1\", \"Topic1\", \"Topic1\", \"Topic1\", \"Topic1\", \"Topic2\", \"Topic2\", \"Topic2\", \"Topic2\", \"Topic2\", \"Topic2\", \"Topic2\", \"Topic2\", \"Topic2\", \"Topic2\", \"Topic2\", \"Topic2\", \"Topic2\", \"Topic2\", \"Topic2\", \"Topic2\", \"Topic2\", \"Topic2\", \"Topic2\", \"Topic2\", \"Topic2\", \"Topic2\", \"Topic2\", \"Topic2\", \"Topic2\", \"Topic2\", \"Topic2\", \"Topic2\", \"Topic2\", \"Topic2\", \"Topic2\", \"Topic2\", \"Topic2\", \"Topic2\", \"Topic2\", \"Topic3\", \"Topic3\", \"Topic3\", \"Topic3\", \"Topic3\", \"Topic3\", \"Topic3\", \"Topic3\", \"Topic3\", \"Topic3\", \"Topic3\", \"Topic3\", \"Topic3\", \"Topic3\", \"Topic3\", \"Topic3\", \"Topic3\", \"Topic3\", \"Topic3\", \"Topic3\", \"Topic3\", \"Topic3\", \"Topic3\", \"Topic3\", \"Topic3\", \"Topic3\", \"Topic3\", \"Topic3\", \"Topic3\", \"Topic3\", \"Topic3\", \"Topic4\", \"Topic4\", \"Topic4\", \"Topic4\", \"Topic4\", \"Topic4\", \"Topic4\", \"Topic4\", \"Topic4\", \"Topic4\", \"Topic4\", \"Topic4\", \"Topic4\", \"Topic4\", \"Topic4\", \"Topic4\", \"Topic4\", \"Topic4\", \"Topic4\", \"Topic4\", \"Topic4\", \"Topic4\", \"Topic4\", \"Topic4\", \"Topic4\", \"Topic4\", \"Topic4\", \"Topic4\", \"Topic4\", \"Topic4\", \"Topic4\", \"Topic4\", \"Topic4\", \"Topic5\", \"Topic5\", \"Topic5\", \"Topic5\", \"Topic5\", \"Topic5\", \"Topic5\", \"Topic5\", \"Topic5\", \"Topic5\", \"Topic5\", \"Topic5\", \"Topic5\", \"Topic5\", \"Topic5\", \"Topic5\", \"Topic5\", \"Topic5\", \"Topic5\", \"Topic5\", \"Topic5\", \"Topic5\", \"Topic5\", \"Topic5\", \"Topic5\", \"Topic5\", \"Topic5\", \"Topic5\", \"Topic5\", \"Topic5\", \"Topic5\", \"Topic5\", \"Topic5\", \"Topic5\", \"Topic5\", \"Topic5\", \"Topic5\", \"Topic5\", \"Topic5\", \"Topic5\", \"Topic6\", \"Topic6\", \"Topic6\", \"Topic6\", \"Topic6\", \"Topic6\", \"Topic6\", \"Topic6\", \"Topic6\", \"Topic6\", \"Topic6\", \"Topic6\", \"Topic6\", \"Topic6\", \"Topic6\", \"Topic6\", \"Topic6\", \"Topic6\", \"Topic6\", \"Topic6\", \"Topic6\", \"Topic6\", \"Topic6\", \"Topic6\", \"Topic6\", \"Topic6\", \"Topic6\", \"Topic6\", \"Topic6\", \"Topic6\", \"Topic6\", \"Topic6\", \"Topic6\", \"Topic6\", \"Topic7\", \"Topic7\", \"Topic7\", \"Topic7\", \"Topic7\", \"Topic7\", \"Topic7\", \"Topic7\", \"Topic7\", \"Topic7\", \"Topic7\", \"Topic7\", \"Topic7\", \"Topic7\", \"Topic7\", \"Topic7\", \"Topic7\", \"Topic7\", \"Topic7\", \"Topic7\", \"Topic7\", \"Topic7\", \"Topic7\", \"Topic7\", \"Topic7\", \"Topic7\", \"Topic7\", \"Topic7\", \"Topic7\", \"Topic7\", \"Topic7\", \"Topic7\", \"Topic7\", \"Topic7\", \"Topic7\", \"Topic7\", \"Topic7\", \"Topic7\", \"Topic7\", \"Topic7\", \"Topic7\", \"Topic7\", \"Topic7\", \"Topic8\", \"Topic8\", \"Topic8\", \"Topic8\", \"Topic8\", \"Topic8\", \"Topic8\", \"Topic8\", \"Topic8\", \"Topic8\", \"Topic8\", \"Topic8\", \"Topic8\", \"Topic8\", \"Topic8\", \"Topic8\", \"Topic8\", \"Topic8\", \"Topic8\", \"Topic8\", \"Topic8\", \"Topic8\", \"Topic8\", \"Topic8\", \"Topic8\", \"Topic8\", \"Topic8\", \"Topic8\", \"Topic8\", \"Topic8\", \"Topic8\", \"Topic8\", \"Topic8\", \"Topic8\", \"Topic8\", \"Topic8\", \"Topic8\", \"Topic8\", \"Topic9\", \"Topic9\", \"Topic9\", \"Topic9\", \"Topic9\", \"Topic9\", \"Topic9\", \"Topic9\", \"Topic9\", \"Topic9\", \"Topic9\", \"Topic9\", \"Topic9\", \"Topic9\", \"Topic9\", \"Topic9\", \"Topic9\", \"Topic9\", \"Topic9\", \"Topic9\", \"Topic9\", \"Topic9\", \"Topic9\", \"Topic9\", \"Topic9\", \"Topic9\", \"Topic9\", \"Topic9\", \"Topic9\", \"Topic9\", \"Topic9\", \"Topic9\", \"Topic9\", \"Topic9\", \"Topic9\", \"Topic9\", \"Topic9\", \"Topic9\", \"Topic9\", \"Topic10\", \"Topic10\", \"Topic10\", \"Topic10\", \"Topic10\", \"Topic10\", \"Topic10\", \"Topic10\", \"Topic10\", \"Topic10\", \"Topic10\", \"Topic10\", \"Topic10\", \"Topic10\", \"Topic10\", \"Topic10\", \"Topic10\", \"Topic10\", \"Topic10\", \"Topic10\", \"Topic10\", \"Topic10\", \"Topic10\", \"Topic10\", \"Topic10\", \"Topic10\", \"Topic10\", \"Topic10\", \"Topic10\", \"Topic10\", \"Topic10\", \"Topic10\", \"Topic10\", \"Topic10\", \"Topic10\", \"Topic10\", \"Topic10\"], \"logprob\": [30.0, 29.0, 28.0, 27.0, 26.0, 25.0, 24.0, 23.0, 22.0, 21.0, 20.0, 19.0, 18.0, 17.0, 16.0, 15.0, 14.0, 13.0, 12.0, 11.0, 10.0, 9.0, 8.0, 7.0, 6.0, 5.0, 4.0, 3.0, 2.0, 1.0, -2.9964001178741455, -3.219399929046631, -3.506700038909912, -3.911400079727173, -3.9114999771118164, -3.911400079727173, -3.9114999771118164, -3.9114999771118164, -3.9114999771118164, -3.9114999771118164, -4.602399826049805, -4.602499961853027, -4.602499961853027, -4.602499961853027, -4.602499961853027, -4.602499961853027, -4.602399826049805, -4.602499961853027, -4.602499961853027, -4.602499961853027, -4.602499961853027, -4.602499961853027, -4.602499961853027, -4.602499961853027, -4.602499961853027, -4.602499961853027, -4.602499961853027, -4.602499961853027, -4.602499961853027, -4.602499961853027, -4.602399826049805, -4.602499961853027, -4.602200031280518, -4.602499961853027, -4.602499961853027, -2.9554998874664307, -3.4658000469207764, -3.870500087738037, -3.870500087738037, -3.870500087738037, -3.870500087738037, -4.560800075531006, -4.561399936676025, -4.561399936676025, -4.561500072479248, -4.561399936676025, -4.561500072479248, -4.561500072479248, -4.561500072479248, -4.561600208282471, -4.561500072479248, -4.561600208282471, -4.561600208282471, -4.561600208282471, -4.561600208282471, -4.561600208282471, -4.561600208282471, -4.561600208282471, -4.561600208282471, -4.561600208282471, -4.561500072479248, -4.561500072479248, -4.561500072479248, -4.561600208282471, -4.561500072479248, -3.1782000064849854, -4.561500072479248, -4.561500072479248, -4.561500072479248, -4.561500072479248, -2.8487000465393066, -3.1356000900268555, -3.1364998817443848, -3.540800094604492, -3.541100025177002, -3.541100025177002, -4.231599807739258, -4.231599807739258, -4.2316999435424805, -4.231800079345703, -4.231900215148926, -4.231900215148926, -4.2322998046875, -4.234099864959717, -4.2342000007629395, -2.8506999015808105, -4.232100009918213, -9.641900062561035, -9.644499778747559, -9.644499778747559, -9.644499778747559, -9.647100448608398, -9.649700164794922, -9.670999526977539, -9.673700332641602, -9.676300048828125, -9.678999900817871, -9.678999900817871, -9.678999900817871, -9.68179988861084, -9.678999900817871, -4.187600135803223, -4.187600135803223, -4.187600135803223, -4.187600135803223, -4.187600135803223, -4.187600135803223, -4.187600135803223, -4.187600135803223, -4.187600135803223, -4.187600135803223, -4.187600135803223, -4.187600135803223, -4.187600135803223, -4.187600135803223, -4.187600135803223, -4.187699794769287, -4.187699794769287, -4.187600135803223, -4.187699794769287, -4.187699794769287, -4.188000202178955, -4.1880998611450195, -3.4967000484466553, -4.187699794769287, -4.18779993057251, -4.190700054168701, -9.629400253295898, -9.637499809265137, -9.640199661254883, -9.640199661254883, -9.639100074768066, -9.604100227355957, -9.638400077819824, -3.434799909591675, -4.125800132751465, -4.125800132751465, -4.125800132751465, -4.125800132751465, -4.125800132751465, -4.125800132751465, -4.125899791717529, -4.125800132751465, -4.125899791717529, -4.125899791717529, -4.125899791717529, -4.125899791717529, -4.125899791717529, -4.125800132751465, -4.125899791717529, -4.126100063323975, -4.125699996948242, -3.4309000968933105, -4.110599994659424, -4.125500202178955, -9.531399726867676, -9.567700386047363, -9.57040023803711, -9.573100090026855, -9.573100090026855, -9.575799942016602, -9.575799942016602, -9.575799942016602, -9.575799942016602, -9.573200225830078, -9.140000343322754, -9.151300430297852, -9.27340030670166, -9.316200256347656, -9.324999809265137, -9.460700035095215, -9.460800170898438, -9.477299690246582, -9.505900382995605, -3.968899965286255, -3.968899965286255, -3.968899965286255, -3.968899965286255, -3.968899965286255, -3.968899965286255, -3.968899965286255, -3.968899965286255, -3.968899965286255, -3.968899965286255, -3.968899965286255, -3.968899965286255, -3.9690001010894775, -3.9688000679016113, -9.410699844360352, -9.411199569702148, -9.413399696350098, -9.416099548339844, -9.411299705505371, -9.418899536132812, -9.419099807739258, -9.421500205993652, -9.421500205993652, -9.421500205993652, -9.421500205993652, -9.421500205993652, -9.421500205993652, -9.421500205993652, -9.421500205993652, -9.421500205993652, -9.387999534606934, -9.416999816894531, -9.4173002243042, -9.4173002243042, -3.805799961090088, -3.805799961090088, -3.805799961090088, -3.805799961090088, -3.805999994277954, -3.8071000576019287, -9.242300033569336, -9.24489974975586, -9.247599601745605, -9.247599601745605, -9.247599601745605, -9.247599601745605, -9.250300407409668, -9.250300407409668, -9.253000259399414, -9.253000259399414, -9.253000259399414, -9.25570011138916, -9.25570011138916, -9.25570011138916, -9.25570011138916, -9.25570011138916, -9.25570011138916, -9.25570011138916, -9.25570011138916, -9.25570011138916, -9.25570011138916, -9.25570011138916, -9.25570011138916, -9.25570011138916, -9.250300407409668, -9.240099906921387, -9.240900039672852, -9.241000175476074, -9.242199897766113, -9.247599601745605, -9.248600006103516, -9.251999855041504, -9.251999855041504, -9.253000259399414, -9.253000259399414, -9.253199577331543, -9.255399703979492, -9.09160041809082, -9.094300270080566, -9.100199699401855, -9.102299690246582, -9.102399826049805, -9.104999542236328, -9.104999542236328, -9.104999542236328, -9.104999542236328, -9.110400199890137, -9.110400199890137, -9.110400199890137, -9.110400199890137, -9.111499786376953, -9.113100051879883, -9.113100051879883, -9.113100051879883, -9.113100051879883, -9.113100051879883, -9.11340045928955, -9.115799903869629, -9.115799903869629, -9.115799903869629, -9.115799903869629, -9.115799903869629, -9.115799903869629, -9.115799903869629, -9.115799903869629, -9.115799903869629, -9.115799903869629, -9.115799903869629, -9.114100456237793, -9.115799903869629, -9.102999687194824, -9.110400199890137, -9.112199783325195, -9.11359977722168, -9.115799903869629, -9.11299991607666, -9.11299991607666, -9.11299991607666, -9.11299991607666, -9.115699768066406, -9.115699768066406, -9.115799903869629, -9.11299991607666, -9.118499755859375, -9.118499755859375, -9.118499755859375, -9.118499755859375, -9.118499755859375, -9.118499755859375, -9.118499755859375, -9.118499755859375, -9.118499755859375, -9.118499755859375, -9.118499755859375, -9.118499755859375, -9.118499755859375, -9.118499755859375, -9.118499755859375, -9.118499755859375, -9.118499755859375, -9.118499755859375, -9.118499755859375, -9.118499755859375, -9.118499755859375, -9.118499755859375, -9.118499755859375, -9.118499755859375, -9.118499755859375, -9.118499755859375, -9.115799903869629, -9.118499755859375, -9.118499755859375, -9.118499755859375, -9.118499755859375, -9.065500259399414, -9.083700180053711, -9.091699600219727, -9.091699600219727, -9.097000122070312, -9.104999542236328, -9.10509967803955, -9.10770034790039, -9.110400199890137, -9.110400199890137, -9.110400199890137, -9.110400199890137, -9.113100051879883, -9.113100051879883, -9.113100051879883, -9.113100051879883, -9.113100051879883, -9.113100051879883, -9.113100051879883, -9.113100051879883, -9.113100051879883, -9.115799903869629, -9.115799903869629, -9.115799903869629, -9.115799903869629, -9.115900039672852, -9.110699653625488, -9.115799903869629, -9.115799903869629, -9.115799903869629, -9.113100051879883, -9.113200187683105, -8.865599632263184, -9.063400268554688, -9.075799942016602, -9.113100051879883, -9.115799903869629], \"loglift\": [30.0, 29.0, 28.0, 27.0, 26.0, 25.0, 24.0, 23.0, 22.0, 21.0, 20.0, 19.0, 18.0, 17.0, 16.0, 15.0, 14.0, 13.0, 12.0, 11.0, 10.0, 9.0, 8.0, 7.0, 6.0, 5.0, 4.0, 3.0, 2.0, 1.0, 1.2718, 1.271, 1.2697, 1.2671, 1.2671, 1.2671, 1.2671, 1.2671, 1.2671, 1.2671, 1.2593, 1.2593, 1.2593, 1.2593, 1.2593, 1.2593, 1.2593, 1.2593, 1.2593, 1.2593, 1.2593, 1.2593, 1.2593, 1.2593, 1.2593, 1.2593, 1.2593, 1.2593, 1.2593, 1.2593, 1.2593, 1.2593, 0.4481, 0.7734, 1.2593, 1.356, 1.3538, 1.351, 1.351, 1.351, 1.351, 1.3428, 1.3428, 1.3428, 1.3428, 1.3428, 1.3428, 1.3428, 1.3428, 1.3428, 1.3428, 1.3428, 1.3428, 1.3428, 1.3428, 1.3428, 1.3428, 1.3428, 1.3428, 1.3428, 1.3428, 1.3428, 1.3428, 1.3428, 1.3428, 1.2104, 1.3428, 1.3428, 1.3428, 1.3428, 1.9889, 1.9869, 1.9865, 1.9829, 1.9827, 1.9827, 1.9711, 1.9711, 1.9711, 1.9711, 1.9711, 1.971, 1.9707, 1.9691, 1.9689, 1.635, 1.5222, 0.1402, 0.138, 0.138, 0.1377, 0.1358, 0.1336, 0.1156, 0.1134, 0.1111, 0.1088, 0.1088, 0.1071, 0.1065, -3.7748, 2.1123, 2.1123, 2.1123, 2.1123, 2.1123, 2.1123, 2.1123, 2.1123, 2.1123, 2.1123, 2.1123, 2.1123, 2.1123, 2.1123, 2.1123, 2.1123, 2.1122, 2.1122, 2.1121, 2.1121, 2.1117, 2.111, 1.5536, 1.4648, 1.1881, 0.8977, 0.157, 0.1498, 0.1485, 0.1485, 0.1465, -3.2435, -3.2778, 2.249, 2.2348, 2.2348, 2.2348, 2.2348, 2.2348, 2.2348, 2.2347, 2.2347, 2.2347, 2.2347, 2.2347, 2.2347, 2.2347, 2.2347, 2.2347, 2.2345, 1.5267, 1.0549, 0.9778, 0.2632, 0.2483, 0.2197, 0.2173, 0.215, 0.215, 0.2126, 0.2126, 0.2126, 0.2126, 0.2071, -2.9369, -2.948, -3.3685, -3.4114, -4.202, -3.937, -3.9371, -3.2743, -3.7515, 2.7554, 2.7554, 2.7554, 2.7554, 2.7554, 2.7554, 2.7554, 2.7554, 2.7554, 2.7554, 2.7554, 2.7554, 2.7552, 1.7855, 0.3772, 0.3755, 0.3749, 0.3724, 0.3705, 0.3694, 0.3675, 0.3675, 0.3675, 0.3675, 0.3675, 0.3675, 0.3675, 0.3675, 0.3675, 0.3675, -3.5261, -3.5551, -3.5554, -3.5554, 3.5996, 3.5995, 3.5995, 3.5995, 3.5987, 3.5935, 0.5457, 0.5437, 0.5412, 0.5412, 0.5412, 0.5406, 0.5386, 0.5386, 0.536, 0.536, 0.536, 0.5334, 0.5334, 0.5334, 0.5334, 0.5334, 0.5334, 0.5334, 0.5334, 0.5334, 0.5334, 0.5334, 0.5334, 0.5334, 0.53, -2.9401, -4.1905, -2.9411, -3.0391, -4.069, -3.3442, -3.3478, -2.5277, -3.3912, -4.0745, -3.3915, -2.9555, 0.6973, 0.6937, 0.6877, 0.6868, 0.6863, 0.6842, 0.6842, 0.6842, 0.6842, 0.6789, 0.6789, 0.6787, 0.6786, 0.6764, 0.6762, 0.6762, 0.6762, 0.6762, 0.676, 0.6759, 0.6736, 0.6736, 0.6736, 0.6736, 0.6736, 0.6736, 0.6736, 0.6736, 0.6736, 0.6736, 0.6736, 0.67, 0.6734, -3.1986, -3.2485, -3.2504, -3.892, 0.6723, 0.6764, 0.6764, 0.6764, 0.6764, 0.6737, 0.6737, 0.6737, 0.6729, 0.671, 0.671, 0.671, 0.671, 0.671, 0.671, 0.671, 0.671, 0.671, 0.671, 0.671, 0.671, 0.671, 0.671, 0.671, 0.671, 0.671, 0.671, 0.671, 0.671, 0.671, 0.671, 0.6707, 0.6706, 0.6704, 0.6704, -3.2539, -3.2137, 0.6695, 0.6702, -3.9399, 0.7235, 0.7054, 0.6975, 0.697, 0.6923, 0.6843, 0.6828, 0.6816, 0.679, 0.679, 0.6789, 0.6787, 0.6763, 0.6763, 0.6763, 0.6763, 0.6763, 0.6763, 0.6763, 0.6757, 0.6757, 0.6736, 0.6736, 0.6736, 0.6736, 0.6736, 0.6734, 0.6732, 0.6732, 0.673, 0.6724, 0.6624, -2.9601, -3.1587, -2.3516, -2.91, -3.2109]}, \"token.table\": {\"Topic\": [1, 2, 5, 2, 2, 2, 1, 1, 1, 2, 2, 2, 1, 4, 3, 1, 2, 1, 2, 1, 2, 2, 3, 1, 1, 2, 1, 2, 3, 2, 1, 2, 3, 5, 1, 1, 1, 1, 2, 2, 3, 2, 1, 2, 2, 1, 3, 2, 2, 2, 2, 2, 1, 2, 1, 2, 1, 1, 1, 2, 2, 2, 2, 1, 1, 1, 3, 2, 1, 2, 2, 1, 1, 2, 2, 1, 1, 1, 1, 1, 1, 1, 1, 1, 2, 1, 2, 2, 1, 2, 2, 2, 1], \"Freq\": [1.6117899796042212, 1.682354389173764, 1.3488795232982203, 1.6818549382004235, 1.6818117327539077, 1.6818641456183694, 1.6117426908465302, 1.6117899796042212, 0.9824745609683043, 0.8496215926103273, 1.6817353390950165, 1.681657650149497, 0.7159456918996403, 0.7159456918996403, 1.1574809868820963, 1.6117899796042212, 1.6818549382004235, 0.8138931674645321, 1.6817783731801133, 1.6118317152426873, 1.6818350382663783, 0.8496203803913072, 1.1493991352507014, 1.6117899796042212, 1.6117899796042212, 0.7388516393911618, 0.8139032986656825, 0.743728904430576, 0.769531255935608, 1.68156602041002, 1.6117899796042212, 1.6838112632150262, 0.81415688714982, 0.40707844357491, 1.6117241693866335, 1.6117899796042212, 1.6118317152426873, 1.6117899796042212, 1.6817753464498415, 1.6818549382004235, 0.7698800292237612, 1.681813783124771, 1.611761271701276, 1.6815471913421454, 1.681793788927445, 1.611627741638171, 1.149399158190737, 1.6819008953122923, 0.8496348606518557, 1.682737718842846, 1.681737881724056, 1.6818527755849364, 0.8139032986656825, 1.6815659717701477, 0.9914327676445871, 1.6818331624158722, 1.6117899794688155, 1.6117899796042212, 1.0888107937251372, 1.0259512003319322, 1.6818020604170627, 1.6818641456183694, 1.6818041223586244, 0.8139063355967933, 1.6117899796042212, 1.6116721477280742, 1.149380339455828, 1.6818641456183694, 0.8138751873077018, 1.681814988218339, 1.6818653356838664, 1.611687067206034, 1.6117775545220998, 1.1367750293000984, 1.6818138379981011, 1.6118295676737644, 1.611651519152751, 1.611919866539265, 0.8138789184093139, 1.6117899796042212, 1.6117612716561422, 0.8179673601142451, 1.6117899796042212, 0.8138783814823054, 1.6817775707348719, 1.6117899796042212, 0.8496300422532493, 1.680505232452427, 1.6117612718039618, 1.6818549382004235, 1.6825103920109998, 1.6816549121321727, 1.6117681651793458], \"Term\": [\"addiction\", \"analy\", \"artist\", \"bachata\", \"beach\", \"blast\", \"blurb\", \"bondage\", \"book\", \"bridal\", \"bride\", \"celebrity\", \"check\", \"check\", \"chef\", \"chemistry\", \"choreographer\", \"club\", \"couple\", \"coworkers\", \"dance\", \"desi\", \"dish\", \"download\", \"emerson\", \"fashion\", \"favor\", \"follow\", \"food\", \"glan\", \"glimpse\", \"grace\", \"gram\", \"gram\", \"head\", \"henley\", \"hold\", \"interest\", \"irfan\", \"jonathan\", \"kitchen\", \"lahore\", \"length\", \"life\", \"lima\", \"love\", \"mana\", \"medium\", \"mehndi\", \"morning\", \"mumbai\", \"muzaffar\", \"mystery\", \"navman\", \"night\", \"nikah\", \"novel\", \"novelist\", \"novella\", \"pakistani\", \"party\", \"performs\", \"photographer\", \"play\", \"poignant\", \"power\", \"recipe\", \"reporter\", \"reveal\", \"salman\", \"screen\", \"series\", \"share\", \"shoot\", \"signature\", \"spark\", \"spot\", \"squad\", \"standalone\", \"standalones\", \"steamy\", \"stigma\", \"stock\", \"story\", \"street\", \"streetcar\", \"studio\", \"style\", \"success\", \"teacher\", \"thing\", \"today\", \"weekend\"]}, \"R\": 30, \"lambda.step\": 0.01, \"plot.opts\": {\"xlab\": \"PC1\", \"ylab\": \"PC2\"}, \"topic.order\": [4, 1, 5, 6, 2, 9, 10, 3, 7, 8]};\n",
       "\n",
       "function LDAvis_load_lib(url, callback){\n",
       "  var s = document.createElement('script');\n",
       "  s.src = url;\n",
       "  s.async = true;\n",
       "  s.onreadystatechange = s.onload = callback;\n",
       "  s.onerror = function(){console.warn(\"failed to load library \" + url);};\n",
       "  document.getElementsByTagName(\"head\")[0].appendChild(s);\n",
       "}\n",
       "\n",
       "if(typeof(LDAvis) !== \"undefined\"){\n",
       "   // already loaded: just create the visualization\n",
       "   !function(LDAvis){\n",
       "       new LDAvis(\"#\" + \"ldavis_el318820975841714645789882286\", ldavis_el318820975841714645789882286_data);\n",
       "   }(LDAvis);\n",
       "}else if(typeof define === \"function\" && define.amd){\n",
       "   // require.js is available: use it to load d3/LDAvis\n",
       "   require.config({paths: {d3: \"https://cdnjs.cloudflare.com/ajax/libs/d3/3.5.5/d3.min\"}});\n",
       "   require([\"d3\"], function(d3){\n",
       "      window.d3 = d3;\n",
       "      LDAvis_load_lib(\"https://cdn.rawgit.com/bmabey/pyLDAvis/files/ldavis.v1.0.0.js\", function(){\n",
       "        new LDAvis(\"#\" + \"ldavis_el318820975841714645789882286\", ldavis_el318820975841714645789882286_data);\n",
       "      });\n",
       "    });\n",
       "}else{\n",
       "    // require.js not available: dynamically load d3 & LDAvis\n",
       "    LDAvis_load_lib(\"https://cdnjs.cloudflare.com/ajax/libs/d3/3.5.5/d3.min.js\", function(){\n",
       "         LDAvis_load_lib(\"https://cdn.rawgit.com/bmabey/pyLDAvis/files/ldavis.v1.0.0.js\", function(){\n",
       "                 new LDAvis(\"#\" + \"ldavis_el318820975841714645789882286\", ldavis_el318820975841714645789882286_data);\n",
       "            })\n",
       "         });\n",
       "}\n",
       "</script>"
      ],
      "text/plain": [
       "PreparedData(topic_coordinates=              x         y  topics  cluster       Freq\n",
       "topic                                                \n",
       "3     -0.231828  0.118388       1        1  27.944182\n",
       "0      0.168068  0.186093       2        1  25.683707\n",
       "4      0.018071 -0.110316       3        1  13.602811\n",
       "5     -0.008856 -0.038254       4        1  11.776975\n",
       "1      0.036327 -0.046161       5        1  10.399182\n",
       "8      0.006803 -0.043714       6        1   6.087562\n",
       "9      0.004121 -0.024311       7        1   2.492082\n",
       "2      0.002414 -0.013919       8        1   0.972046\n",
       "6      0.002418 -0.013930       9        1   0.547673\n",
       "7      0.002462 -0.013876      10        1   0.493781, topic_info=           Term      Freq     Total Category  logprob  loglift\n",
       "267   pakistani  2.000000  2.000000  Default  30.0000  30.0000\n",
       "205        book  3.000000  3.000000  Default  29.0000  29.0000\n",
       "153        gram  2.000000  2.000000  Default  28.0000  28.0000\n",
       "406        chef  1.000000  1.000000  Default  27.0000  27.0000\n",
       "9145     stigma  2.000000  2.000000  Default  26.0000  26.0000\n",
       "...         ...       ...       ...      ...      ...      ...\n",
       "3278      grace  0.000152  0.593891  Topic10  -8.8656  -2.9601\n",
       "7054      analy  0.000125  0.594405  Topic10  -9.0634  -3.1587\n",
       "96     designer  0.000123  0.261923  Topic10  -9.0758  -2.3516\n",
       "52         year  0.000119  0.441047  Topic10  -9.1131  -2.9100\n",
       "749     morning  0.000118  0.594270  Topic10  -9.1158  -3.2109\n",
       "\n",
       "[395 rows x 6 columns], token_table=      Topic      Freq       Term\n",
       "term                            \n",
       "547       1  1.611790  addiction\n",
       "7054      2  1.682354      analy\n",
       "147       5  1.348880     artist\n",
       "9133      2  1.681855    bachata\n",
       "4         2  1.681812      beach\n",
       "...     ...       ...        ...\n",
       "2123      1  1.611761    success\n",
       "2481      2  1.681855    teacher\n",
       "331       2  1.682510      thing\n",
       "142       2  1.681655      today\n",
       "995       1  1.611768    weekend\n",
       "\n",
       "[93 rows x 3 columns], R=30, lambda_step=0.01, plot_opts={'xlab': 'PC1', 'ylab': 'PC2'}, topic_order=[4, 1, 5, 6, 2, 9, 10, 3, 7, 8])"
      ]
     },
     "execution_count": 18,
     "metadata": {},
     "output_type": "execute_result"
    }
   ],
   "source": [
    "# Visualize the topics\n",
    "pyLDAvis.enable_notebook()\n",
    "vis = pyLDAvis.gensim.prepare(lda_model, corpus, id2word)\n",
    "vis"
   ]
  },
  {
   "cell_type": "markdown",
   "metadata": {},
   "source": [
    "### Save document-topic matrix (most significant topic per document)  \n",
    "https://github.com/Sim-Xuesi/content-based_movie_recommender/blob/master/Content%20Based%20Recommender%20System%20with%20LDA%20%26%20Cosine.ipynb  \n",
    "https://medium.com/@nicoleeesim97/building-a-simple-content-based-recommender-system-for-movies-and-tv-shows-73fec4f325ae  "
   ]
  },
  {
   "cell_type": "code",
   "execution_count": 19,
   "metadata": {},
   "outputs": [
    {
     "name": "stderr",
     "output_type": "stream",
     "text": [
      "C:\\Users\\minio\\anaconda3\\envs\\tfm-py-37\\lib\\site-packages\\ipykernel\\ipkernel.py:287: DeprecationWarning: `should_run_async` will not call `transform_cell` automatically in the future. Please pass the result to `transformed_cell` argument and any exception that happen during thetransform in `preprocessing_exc_tuple` in IPython 7.17 and above.\n",
      "  and should_run_async(code)\n"
     ]
    },
    {
     "name": "stdout",
     "output_type": "stream",
     "text": [
      "      Document  Topic  Probability\n",
      "0        12252      2     0.433042\n",
      "1        48260      2     0.902174\n",
      "2        31121      6     0.776750\n",
      "3        30554      6     0.883081\n",
      "4        19240      6     0.779037\n",
      "...        ...    ...          ...\n",
      "4265     15865      3     0.983716\n",
      "4266     30532      0     0.911460\n",
      "4267     19016      0     0.927589\n",
      "4268     35254      4     0.949429\n",
      "4269     41249      0     0.971552\n",
      "\n",
      "[4270 rows x 3 columns]\n"
     ]
    }
   ],
   "source": [
    "def Sort_Tuple(tup):  \n",
    "    return(sorted(tup, key = lambda x: x[1], reverse = True))\n",
    "\n",
    "doc_num, topic_num, prob = [], [], []\n",
    "\n",
    "document_topic_matrix = documents\n",
    "\n",
    "for n in range(len(documents)):\n",
    "    get_document_topics = lda_model.get_document_topics(corpus_total[n], minimum_probability=0)\n",
    "    doc_num.append(documents.index[n])\n",
    "    sorted_doc_topics = Sort_Tuple(get_document_topics)\n",
    "    topic_num.append(sorted_doc_topics[0][0])\n",
    "    prob.append(sorted_doc_topics[0][1])\n",
    "    \n",
    "data = {'Document': doc_num\n",
    "        ,'Topic': topic_num\n",
    "        ,'Probability': prob}\n",
    "df = pd.DataFrame(data) \n",
    "df.to_csv(file_model + '_document_topic_matrix.csv', index=False)\n",
    "print(df)"
   ]
  },
  {
   "cell_type": "markdown",
   "metadata": {},
   "source": [
    "### Save document-topic matrix (all topic's probability per document)  \n",
    "https://github.com/Sim-Xuesi/content-based_movie_recommender/blob/master/Content%20Based%20Recommender%20System%20with%20LDA%20%26%20Cosine.ipynb  \n",
    "https://medium.com/@nicoleeesim97/building-a-simple-content-based-recommender-system-for-movies-and-tv-shows-73fec4f325ae  "
   ]
  },
  {
   "cell_type": "code",
   "execution_count": 20,
   "metadata": {},
   "outputs": [
    {
     "name": "stderr",
     "output_type": "stream",
     "text": [
      "C:\\Users\\minio\\anaconda3\\envs\\tfm-py-37\\lib\\site-packages\\ipykernel\\ipkernel.py:287: DeprecationWarning: `should_run_async` will not call `transform_cell` automatically in the future. Please pass the result to `transformed_cell` argument and any exception that happen during thetransform in `preprocessing_exc_tuple` in IPython 7.17 and above.\n",
      "  and should_run_async(code)\n"
     ]
    },
    {
     "name": "stdout",
     "output_type": "stream",
     "text": [
      "      Document    Topic0    Topic1    Topic2    Topic3    Topic4    Topic5  \\\n",
      "0        12252  0.041653  0.002162  0.390898  0.001455  0.054851  0.001097   \n",
      "1        48260  0.022939  0.017298  0.013906  0.011629  0.010004  0.008778   \n",
      "2        31121  0.154273  0.014153  0.011378  0.009515  0.008186  0.007182   \n",
      "3        30554  0.025816  0.019460  0.889933  0.013083  0.011255  0.009875   \n",
      "4        19240  0.098651  0.009159  0.151064  0.088597  0.005297  0.004648   \n",
      "...        ...       ...       ...       ...       ...       ...       ...   \n",
      "4265     15865  0.003700  0.002811  0.002267  0.983716  0.001634  0.001433   \n",
      "4266     30532  0.911460  0.017217  0.013851  0.011603  0.009983  0.008760   \n",
      "4267     19016  0.927589  0.014056  0.011333  0.009494  0.008168  0.007167   \n",
      "4268     35254  0.011306  0.008596  0.006925  0.005802  0.949429  0.004380   \n",
      "4269     41249  0.971552  0.005523  0.004452  0.003730  0.003209  0.002816   \n",
      "\n",
      "        Topic6    Topic7    Topic8    Topic9  \n",
      "0     0.339700  0.166645  0.000802  0.000736  \n",
      "1     0.896086  0.007051  0.006419  0.005891  \n",
      "2     0.006398  0.778843  0.005252  0.004820  \n",
      "3     0.008797  0.007932  0.007221  0.006627  \n",
      "4     0.004140  0.631926  0.003398  0.003119  \n",
      "...        ...       ...       ...       ...  \n",
      "4265  0.001277  0.001151  0.001048  0.000962  \n",
      "4266  0.007804  0.007036  0.006406  0.005879  \n",
      "4267  0.006385  0.005757  0.005241  0.004810  \n",
      "4268  0.003902  0.003518  0.003203  0.002940  \n",
      "4269  0.002508  0.002262  0.002059  0.001890  \n",
      "\n",
      "[4270 rows x 11 columns]\n"
     ]
    }
   ],
   "source": [
    "doc_num = []\n",
    "prob0, prob1, prob2, prob3, prob4, prob5, prob6, prob7, prob8, prob9 = ([] for i in range(num_topics))\n",
    "\n",
    "document_topic_matrix = documents\n",
    "\n",
    "for n in range(len(documents)):\n",
    "    get_document_topics = lda_model.get_document_topics(corpus_total[n], minimum_probability=0)\n",
    "    doc_num.append(documents.index[n])\n",
    "    prob0.append(get_document_topics[0][1])\n",
    "    prob1.append(get_document_topics[1][1])\n",
    "    prob2.append(get_document_topics[2][1])\n",
    "    prob3.append(get_document_topics[3][1])\n",
    "    prob4.append(get_document_topics[4][1])\n",
    "    prob5.append(get_document_topics[5][1])\n",
    "    prob6.append(get_document_topics[6][1])\n",
    "    prob7.append(get_document_topics[7][1])\n",
    "    prob8.append(get_document_topics[8][1])\n",
    "    prob9.append(get_document_topics[9][1])\n",
    "    \n",
    "data = {'Document': doc_num\n",
    "        ,'Topic0': prob0\n",
    "        ,'Topic1': prob1\n",
    "        ,'Topic2': prob2\n",
    "        ,'Topic3': prob3\n",
    "        ,'Topic4': prob4\n",
    "        ,'Topic5': prob5\n",
    "        ,'Topic6': prob6\n",
    "        ,'Topic7': prob7\n",
    "        ,'Topic8': prob8\n",
    "        ,'Topic9': prob9}\n",
    "\n",
    "df = pd.DataFrame(data) \n",
    "df.to_csv(file_model + '_document_topic_matrix_full.csv', index=False)\n",
    "print(df)"
   ]
  },
  {
   "cell_type": "markdown",
   "metadata": {},
   "source": [
    "### Save topic-term matrix"
   ]
  },
  {
   "cell_type": "code",
   "execution_count": 21,
   "metadata": {},
   "outputs": [
    {
     "name": "stderr",
     "output_type": "stream",
     "text": [
      "C:\\Users\\minio\\anaconda3\\envs\\tfm-py-37\\lib\\site-packages\\ipykernel\\ipkernel.py:287: DeprecationWarning: `should_run_async` will not call `transform_cell` automatically in the future. Please pass the result to `transformed_cell` argument and any exception that happen during thetransform in `preprocessing_exc_tuple` in IPython 7.17 and above.\n",
      "  and should_run_async(code)\n"
     ]
    }
   ],
   "source": [
    "# get topic-term-matrix\n",
    "topic_term_matrix = lda_model.get_topics()\n",
    "# save topic-term matrix\n",
    "savetxt(file_model + '_topic_term_matrix.csv', topic_term_matrix, delimiter=',')"
   ]
  }
 ],
 "metadata": {
  "kernelspec": {
   "display_name": "Python 3",
   "language": "python",
   "name": "python3"
  },
  "language_info": {
   "codemirror_mode": {
    "name": "ipython",
    "version": 3
   },
   "file_extension": ".py",
   "mimetype": "text/x-python",
   "name": "python",
   "nbconvert_exporter": "python",
   "pygments_lexer": "ipython3",
   "version": "3.7.9"
  }
 },
 "nbformat": 4,
 "nbformat_minor": 4
}
