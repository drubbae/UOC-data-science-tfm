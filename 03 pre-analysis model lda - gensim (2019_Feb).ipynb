{
 "cells": [
  {
   "cell_type": "markdown",
   "metadata": {},
   "source": [
    "# <span style=\"color:blue\">Pre-analysis to find the optimal number of topics and hyperparameters values (2019_Feb)</span>"
   ]
  },
  {
   "cell_type": "code",
   "execution_count": 1,
   "metadata": {},
   "outputs": [],
   "source": [
    "yyyy_MMM = '2019_Feb'"
   ]
  },
  {
   "cell_type": "markdown",
   "metadata": {},
   "source": [
    "### Load packages"
   ]
  },
  {
   "cell_type": "code",
   "execution_count": 2,
   "metadata": {},
   "outputs": [
    {
     "name": "stderr",
     "output_type": "stream",
     "text": [
      "C:\\Users\\minio\\anaconda3\\envs\\tfm-py-37\\lib\\site-packages\\botocore\\vendored\\requests\\packages\\urllib3\\_collections.py:1: DeprecationWarning: Using or importing the ABCs from 'collections' instead of from 'collections.abc' is deprecated since Python 3.3,and in 3.9 it will stop working\n",
      "  from collections import Mapping, MutableMapping\n",
      "C:\\Users\\minio\\anaconda3\\envs\\tfm-py-37\\lib\\site-packages\\botocore\\vendored\\requests\\packages\\urllib3\\_collections.py:1: DeprecationWarning: Using or importing the ABCs from 'collections' instead of from 'collections.abc' is deprecated since Python 3.3,and in 3.9 it will stop working\n",
      "  from collections import Mapping, MutableMapping\n",
      "C:\\Users\\minio\\anaconda3\\envs\\tfm-py-37\\lib\\site-packages\\scipy\\sparse\\sparsetools.py:21: DeprecationWarning: `scipy.sparse.sparsetools` is deprecated!\n",
      "scipy.sparse.sparsetools is a private module for scipy.sparse, and should not be used.\n",
      "  _deprecated()\n",
      "C:\\Users\\minio\\anaconda3\\envs\\tfm-py-37\\lib\\site-packages\\gensim\\models\\doc2vec.py:73: DeprecationWarning: Using or importing the ABCs from 'collections' instead of from 'collections.abc' is deprecated since Python 3.3,and in 3.9 it will stop working\n",
      "  from collections import namedtuple, defaultdict, Iterable\n",
      "[nltk_data] Downloading package stopwords to\n",
      "[nltk_data]     C:\\Users\\minio\\AppData\\Roaming\\nltk_data...\n",
      "[nltk_data]   Package stopwords is already up-to-date!\n"
     ]
    },
    {
     "data": {
      "text/plain": [
       "True"
      ]
     },
     "execution_count": 2,
     "metadata": {},
     "output_type": "execute_result"
    }
   ],
   "source": [
    "import csv, os, re, time\n",
    "import numpy as np\n",
    "import pandas as  pd\n",
    "import matplotlib.pyplot as plt  \n",
    "import pyLDAvis\n",
    "import pyLDAvis.gensim\n",
    "import gensim\n",
    "import gensim.corpora as corpora\n",
    "from gensim.corpora.dictionary import Dictionary\n",
    "from gensim.models import CoherenceModel\n",
    "from gensim.models import Phrases\n",
    "from gensim.test.utils import datapath\n",
    "from gensim.utils import simple_preprocess\n",
    "from pprint import pprint\n",
    "import nltk\n",
    "nltk.download('stopwords')"
   ]
  },
  {
   "cell_type": "markdown",
   "metadata": {},
   "source": [
    "### Constants"
   ]
  },
  {
   "cell_type": "code",
   "execution_count": 3,
   "metadata": {},
   "outputs": [
    {
     "name": "stdout",
     "output_type": "stream",
     "text": [
      "D:\\master\\data science\\semestre 4\\M2.979 - tfm\\data\\bins\\doc\\2019_Feb\\2019_Feb_28_results.csv\n",
      "D:\\master\\data science\\semestre 4\\M2.979 - tfm\\data\\bins\\model_hyperparameter\\2019_Feb\\model\n"
     ]
    },
    {
     "name": "stderr",
     "output_type": "stream",
     "text": [
      "C:\\Users\\minio\\anaconda3\\envs\\tfm-py-37\\lib\\site-packages\\ipykernel\\ipkernel.py:287: DeprecationWarning: `should_run_async` will not call `transform_cell` automatically in the future. Please pass the result to `transformed_cell` argument and any exception that happen during thetransform in `preprocessing_exc_tuple` in IPython 7.17 and above.\n",
      "  and should_run_async(code)\n"
     ]
    }
   ],
   "source": [
    "# for reproducible results\n",
    "random_state = 33\n",
    "# if debug is True, messages during the process are generated\n",
    "debug = False\n",
    "# for debugging purposes sample may be used to work with a smaller amount of data (when 0 it is not applied)\n",
    "sample = 0\n",
    "# if the test is True, the process runs on a smaller subset of raw data (json files)\n",
    "test = False\n",
    "\n",
    "if test:\n",
    "    # path where the doc files are stored\n",
    "    path_doc = r'D:\\master\\data science\\semestre 4\\M2.979 - tfm\\data\\bins_test\\doc'\n",
    "    # path where the model files are stored\n",
    "    path_model = r'D:\\master\\data science\\semestre 4\\M2.979 - tfm\\data\\bins_test\\model_hyperparameter'\n",
    "    # LDA chunksize\n",
    "    chunksize = 250\n",
    "else:\n",
    "    # path where the doc files are stored\n",
    "    path_doc = r'D:\\master\\data science\\semestre 4\\M2.979 - tfm\\data\\bins\\doc'\n",
    "    # path where the model files are stored\n",
    "    path_model = r'D:\\master\\data science\\semestre 4\\M2.979 - tfm\\data\\bins\\model_hyperparameter'\n",
    "    # LDA chunksize\n",
    "    chunksize = 5000\n",
    "\n",
    "file_doc = os.path.join(path_doc, yyyy_MMM, yyyy_MMM) + '_28_results.csv'\n",
    "file_model = os.path.join(path_model, yyyy_MMM, 'model')\n",
    "print(file_doc)\n",
    "print(file_model)"
   ]
  },
  {
   "cell_type": "markdown",
   "metadata": {},
   "source": [
    "### Load data preprocessed"
   ]
  },
  {
   "cell_type": "code",
   "execution_count": 4,
   "metadata": {},
   "outputs": [
    {
     "name": "stderr",
     "output_type": "stream",
     "text": [
      "C:\\Users\\minio\\anaconda3\\envs\\tfm-py-37\\lib\\site-packages\\ipykernel\\ipkernel.py:287: DeprecationWarning: `should_run_async` will not call `transform_cell` automatically in the future. Please pass the result to `transformed_cell` argument and any exception that happen during thetransform in `preprocessing_exc_tuple` in IPython 7.17 and above.\n",
      "  and should_run_async(code)\n"
     ]
    },
    {
     "data": {
      "text/plain": [
       "0    ['steppin', 'season', 'hair', 'attitude', 'eee...\n",
       "1    ['comfortable', 'express', 'boundary', 'uncomf...\n",
       "2                         ['random', 'fabric', 'fold']\n",
       "3    ['aiya', 'veggie', 'harder', 'expect', 'live',...\n",
       "4                                          ['clothes']\n",
       "5                     ['throwback', 'omega', 'choice']\n",
       "6                                ['everyday', 'cheat']\n",
       "7    ['island', 'hour', 'place', 'guess', 'healthy'...\n",
       "8    ['post', 'workout', 'video', 'record', 'year',...\n",
       "9               ['finally', 'visit', 'nova', 'scotia']\n",
       "Name: content_preprocessed, dtype: object"
      ]
     },
     "execution_count": 4,
     "metadata": {},
     "output_type": "execute_result"
    }
   ],
   "source": [
    "df = pd.read_csv(file_doc)\n",
    "documents = df.content_preprocessed\n",
    "documents.head(10)"
   ]
  },
  {
   "cell_type": "markdown",
   "metadata": {},
   "source": [
    "### Shuffle"
   ]
  },
  {
   "cell_type": "code",
   "execution_count": 5,
   "metadata": {},
   "outputs": [
    {
     "name": "stderr",
     "output_type": "stream",
     "text": [
      "C:\\Users\\minio\\anaconda3\\envs\\tfm-py-37\\lib\\site-packages\\ipykernel\\ipkernel.py:287: DeprecationWarning: `should_run_async` will not call `transform_cell` automatically in the future. Please pass the result to `transformed_cell` argument and any exception that happen during thetransform in `preprocessing_exc_tuple` in IPython 7.17 and above.\n",
      "  and should_run_async(code)\n"
     ]
    },
    {
     "data": {
      "text/plain": [
       "76615    ['fourth', 'strong', 'cafe', 'open', 'door', '...\n",
       "85882    ['forward', 'summer', 'chicken', 'fulk', 'desi...\n",
       "85773    ['initial', 'clean', 'clear', 'design', 'leath...\n",
       "31374    ['beauty', 'cosmetic', 'green', 'dragon', 'leg...\n",
       "54501    ['panas', 'bookshop', 'fauve', 'dream', 'virgi...\n",
       "18776    ['find', 'anna', 'karin', 'karlsson', 'collect...\n",
       "91211    ['hola', 'chicas', 'hola', 'ibiza', 'good', 'v...\n",
       "83732    ['maternity', 'dress', 'peony', 'pregnant', 't...\n",
       "26964    ['anniversary', 'vogue', 'talent', 'vogue', 't...\n",
       "7364     ['diary', 'beauty', 'addict', 'food', 'food', ...\n",
       "Name: content_preprocessed, dtype: object"
      ]
     },
     "execution_count": 5,
     "metadata": {},
     "output_type": "execute_result"
    }
   ],
   "source": [
    "documents = documents.sample(frac=1, random_state=random_state)\n",
    "documents.head(10)"
   ]
  },
  {
   "cell_type": "markdown",
   "metadata": {},
   "source": [
    "### Sample"
   ]
  },
  {
   "cell_type": "code",
   "execution_count": 6,
   "metadata": {},
   "outputs": [
    {
     "name": "stderr",
     "output_type": "stream",
     "text": [
      "C:\\Users\\minio\\anaconda3\\envs\\tfm-py-37\\lib\\site-packages\\ipykernel\\ipkernel.py:287: DeprecationWarning: `should_run_async` will not call `transform_cell` automatically in the future. Please pass the result to `transformed_cell` argument and any exception that happen during thetransform in `preprocessing_exc_tuple` in IPython 7.17 and above.\n",
      "  and should_run_async(code)\n"
     ]
    }
   ],
   "source": [
    "if sample > 0:\n",
    "    documents = documents.sample(n=sample, random_state=random_state)\n",
    "    print(documents.head(10))"
   ]
  },
  {
   "cell_type": "markdown",
   "metadata": {},
   "source": [
    "### Tokenize words and Clean-up text  \n",
    "https://www.machinelearningplus.com/nlp/topic-modeling-gensim-python/#3importpackages"
   ]
  },
  {
   "cell_type": "code",
   "execution_count": 7,
   "metadata": {},
   "outputs": [
    {
     "name": "stderr",
     "output_type": "stream",
     "text": [
      "C:\\Users\\minio\\anaconda3\\envs\\tfm-py-37\\lib\\site-packages\\ipykernel\\ipkernel.py:287: DeprecationWarning: `should_run_async` will not call `transform_cell` automatically in the future. Please pass the result to `transformed_cell` argument and any exception that happen during thetransform in `preprocessing_exc_tuple` in IPython 7.17 and above.\n",
      "  and should_run_async(code)\n"
     ]
    }
   ],
   "source": [
    "def sent_to_words(sentences):\n",
    "    for sentence in sentences:\n",
    "        yield(gensim.utils.simple_preprocess(str(sentence), deacc=True))  # deacc=True removes punctuations"
   ]
  },
  {
   "cell_type": "markdown",
   "metadata": {},
   "source": [
    "### Function to compute bigrams & trigrams  \n",
    "https://radimrehurek.com/gensim/auto_examples/tutorials/run_lda.html#pre-process-and-vectorize-the-documents"
   ]
  },
  {
   "cell_type": "code",
   "execution_count": 8,
   "metadata": {},
   "outputs": [
    {
     "name": "stderr",
     "output_type": "stream",
     "text": [
      "C:\\Users\\minio\\anaconda3\\envs\\tfm-py-37\\lib\\site-packages\\ipykernel\\ipkernel.py:287: DeprecationWarning: `should_run_async` will not call `transform_cell` automatically in the future. Please pass the result to `transformed_cell` argument and any exception that happen during thetransform in `preprocessing_exc_tuple` in IPython 7.17 and above.\n",
      "  and should_run_async(code)\n"
     ]
    }
   ],
   "source": [
    "# Add bigrams and trigrams to docs (only ones that appear min_count times or more).\n",
    "def bi_tri_grams(documents, min_count):\n",
    "    bigram = Phrases(documents, min_count=min_count)\n",
    "    for idx in range(len(documents)):\n",
    "        for token in bigram[documents[idx]]:\n",
    "            if '_' in token:\n",
    "                # Token is a bigram, add to document.\n",
    "                documents[idx].append(token)"
   ]
  },
  {
   "cell_type": "markdown",
   "metadata": {},
   "source": [
    "### Function for categorizing and tagging words"
   ]
  },
  {
   "cell_type": "code",
   "execution_count": 9,
   "metadata": {},
   "outputs": [
    {
     "name": "stderr",
     "output_type": "stream",
     "text": [
      "C:\\Users\\minio\\anaconda3\\envs\\tfm-py-37\\lib\\site-packages\\ipykernel\\ipkernel.py:287: DeprecationWarning: `should_run_async` will not call `transform_cell` automatically in the future. Please pass the result to `transformed_cell` argument and any exception that happen during thetransform in `preprocessing_exc_tuple` in IPython 7.17 and above.\n",
      "  and should_run_async(code)\n"
     ]
    }
   ],
   "source": [
    "def tag_words(text):\n",
    "    tags = nltk.pos_tag(text)\n",
    "    nouns = [word for word, pos in tags if (pos == 'NN' or pos == 'NNP' or pos == 'NNS' or pos == 'NNPS')]\n",
    "    return nouns"
   ]
  },
  {
   "cell_type": "markdown",
   "metadata": {},
   "source": [
    "### Analysis to get the optimal number of topics  \n",
    "https://towardsdatascience.com/discover-what-singaporeans-generally-talk-on-sms-d4b592a682fd"
   ]
  },
  {
   "cell_type": "code",
   "execution_count": 10,
   "metadata": {},
   "outputs": [
    {
     "name": "stderr",
     "output_type": "stream",
     "text": [
      "C:\\Users\\minio\\anaconda3\\envs\\tfm-py-37\\lib\\site-packages\\ipykernel\\ipkernel.py:287: DeprecationWarning: `should_run_async` will not call `transform_cell` automatically in the future. Please pass the result to `transformed_cell` argument and any exception that happen during thetransform in `preprocessing_exc_tuple` in IPython 7.17 and above.\n",
      "  and should_run_async(code)\n"
     ]
    }
   ],
   "source": [
    "data_words = list(sent_to_words(documents))\n",
    "# Compute bigrams & trigrams\n",
    "bi_tri_grams(data_words, 250)\n",
    "# Categorizing and tagging words\n",
    "data_words = list(map(tag_words, data_words))\n",
    "# Create Dictionary\n",
    "id2word = Dictionary(data_words)\n",
    "# Create Corpus\n",
    "texts = data_words\n",
    "# Term Document Frequency\n",
    "corpus = [id2word.doc2bow(text) for text in texts]"
   ]
  },
  {
   "cell_type": "code",
   "execution_count": 11,
   "metadata": {},
   "outputs": [
    {
     "name": "stderr",
     "output_type": "stream",
     "text": [
      "C:\\Users\\minio\\anaconda3\\envs\\tfm-py-37\\lib\\site-packages\\ipykernel\\ipkernel.py:287: DeprecationWarning: `should_run_async` will not call `transform_cell` automatically in the future. Please pass the result to `transformed_cell` argument and any exception that happen during thetransform in `preprocessing_exc_tuple` in IPython 7.17 and above.\n",
      "  and should_run_async(code)\n"
     ]
    },
    {
     "name": "stdout",
     "output_type": "stream",
     "text": [
      "# Topics: 8 Score: 0.5053786045826911\n",
      "time elapsed - 00:04:23.74\n",
      "# Topics: 9 Score: 0.5259571435897294\n",
      "time elapsed - 00:04:49.84\n",
      "# Topics: 10 Score: 0.5205753088576273\n",
      "time elapsed - 00:04:51.70\n",
      "# Topics: 11 Score: 0.5132523449731102\n",
      "time elapsed - 00:04:58.87\n"
     ]
    }
   ],
   "source": [
    "model_list = []\n",
    "coherence_score = []\n",
    "model_topics = []\n",
    "\n",
    "for num_topics in range(8, 12, 1):\n",
    "    \n",
    "    time_start = time.time()\n",
    "\n",
    "    lda_x = gensim.models.LdaMulticore(corpus=corpus\n",
    "                                       ,id2word=id2word\n",
    "                                       ,num_topics=num_topics\n",
    "                                       ,random_state=random_state\n",
    "                                       ,chunksize=chunksize\n",
    "                                       ,passes=10)\n",
    "    coherence_lda_model = CoherenceModel(model=lda_x, texts=data_words, dictionary=id2word, coherence='c_v')\n",
    "    coherence = coherence_lda_model.get_coherence()\n",
    "    coherence_score.append(coherence)\n",
    "    model_topics.append(num_topics)\n",
    "    model_list.append(lda_x)\n",
    "    \n",
    "    print(\"# Topics: \" + str(num_topics) + \" Score: \" + str(coherence))\n",
    "    \n",
    "    time_end = time.time()\n",
    "    hour, rem = divmod(time_end - time_start, 3600)\n",
    "    minute, second = divmod(rem, 60)\n",
    "    print('time elapsed - {:0>2}:{:0>2}:{:05.2f}'.format(int(hour), int(minute), second))"
   ]
  },
  {
   "cell_type": "code",
   "execution_count": 12,
   "metadata": {},
   "outputs": [
    {
     "name": "stderr",
     "output_type": "stream",
     "text": [
      "C:\\Users\\minio\\anaconda3\\envs\\tfm-py-37\\lib\\site-packages\\ipykernel\\ipkernel.py:287: DeprecationWarning: `should_run_async` will not call `transform_cell` automatically in the future. Please pass the result to `transformed_cell` argument and any exception that happen during thetransform in `preprocessing_exc_tuple` in IPython 7.17 and above.\n",
      "  and should_run_async(code)\n"
     ]
    },
    {
     "data": {
      "image/png": "[encoded data removed]",
      "text/plain": [
       "<Figure size 432x288 with 1 Axes>"
      ]
     },
     "metadata": {
      "needs_background": "light"
     },
     "output_type": "display_data"
    }
   ],
   "source": [
    "limit=12; start=8; step=1;\n",
    "x = range(start, limit, step)\n",
    "plt.plot(x, coherence_score)\n",
    "plt.xlabel(\"Number of topics\")\n",
    "plt.ylabel(\"Coherence score\")\n",
    "plt.legend((\"coherence_values\"), loc='best')\n",
    "plt.show()"
   ]
  },
  {
   "cell_type": "markdown",
   "metadata": {},
   "source": [
    "### Hyperparameter tuning  \n",
    "\n",
    "https://medium.com/analytics-vidhya/analyzing-amazon-tv-reviews-with-latent-dirichlet-allocation-97d19c3bb878  \n",
    "https://github.com/Georgebob256/Machine-learning-with-Python/blob/master/Amazon%20TV%20reviews..ipynb"
   ]
  },
  {
   "cell_type": "code",
   "execution_count": 13,
   "metadata": {},
   "outputs": [
    {
     "name": "stderr",
     "output_type": "stream",
     "text": [
      "C:\\Users\\minio\\anaconda3\\envs\\tfm-py-37\\lib\\site-packages\\ipykernel\\ipkernel.py:287: DeprecationWarning: `should_run_async` will not call `transform_cell` automatically in the future. Please pass the result to `transformed_cell` argument and any exception that happen during thetransform in `preprocessing_exc_tuple` in IPython 7.17 and above.\n",
      "  and should_run_async(code)\n"
     ]
    },
    {
     "name": "stdout",
     "output_type": "stream",
     "text": [
      "Iteration num -  1  Topics -  8  Alpha -  0.01  Beta -  0.01  Coherence -  0.5118314319114352\n",
      "Iteration num -  2  Topics -  8  Alpha -  0.01  Beta -  0.31  Coherence -  0.5101637159228043\n",
      "Iteration num -  3  Topics -  8  Alpha -  0.01  Beta -  0.61  Coherence -  0.5106773646087\n",
      "Iteration num -  4  Topics -  8  Alpha -  0.01  Beta -  0.91  Coherence -  0.505178682033726\n",
      "Iteration num -  5  Topics -  8  Alpha -  0.01  Beta -  symmetric  Coherence -  0.5045608299645946\n",
      "Iteration num -  6  Topics -  8  Alpha -  0.31  Beta -  0.01  Coherence -  0.516538312604259\n",
      "Iteration num -  7  Topics -  8  Alpha -  0.31  Beta -  0.31  Coherence -  0.5213026218007858\n",
      "Iteration num -  8  Topics -  8  Alpha -  0.31  Beta -  0.61  Coherence -  0.514435169639383\n",
      "Iteration num -  9  Topics -  8  Alpha -  0.31  Beta -  0.91  Coherence -  0.5140010907180992\n",
      "Iteration num -  10  Topics -  8  Alpha -  0.31  Beta -  symmetric  Coherence -  0.5097410496257981\n",
      "Iteration num -  11  Topics -  8  Alpha -  0.61  Beta -  0.01  Coherence -  0.5225104503235273\n",
      "Iteration num -  12  Topics -  8  Alpha -  0.61  Beta -  0.31  Coherence -  0.5201011921023699\n",
      "Iteration num -  13  Topics -  8  Alpha -  0.61  Beta -  0.61  Coherence -  0.5250274139950895\n",
      "Iteration num -  14  Topics -  8  Alpha -  0.61  Beta -  0.91  Coherence -  0.526787184349858\n",
      "Iteration num -  15  Topics -  8  Alpha -  0.61  Beta -  symmetric  Coherence -  0.5229097615420064\n",
      "Iteration num -  16  Topics -  8  Alpha -  0.91  Beta -  0.01  Coherence -  0.5255672539200735\n",
      "Iteration num -  17  Topics -  8  Alpha -  0.91  Beta -  0.31  Coherence -  0.5271695900146032\n",
      "Iteration num -  18  Topics -  8  Alpha -  0.91  Beta -  0.61  Coherence -  0.5242042484637878\n",
      "Iteration num -  19  Topics -  8  Alpha -  0.91  Beta -  0.91  Coherence -  0.520518868716295\n",
      "Iteration num -  20  Topics -  8  Alpha -  0.91  Beta -  symmetric  Coherence -  0.5252543682218425\n",
      "Iteration num -  21  Topics -  8  Alpha -  symmetric  Beta -  0.01  Coherence -  0.5087734989735593\n",
      "Iteration num -  22  Topics -  8  Alpha -  symmetric  Beta -  0.31  Coherence -  0.5078524519616123\n",
      "Iteration num -  23  Topics -  8  Alpha -  symmetric  Beta -  0.61  Coherence -  0.5106568436667481\n",
      "Iteration num -  24  Topics -  8  Alpha -  symmetric  Beta -  0.91  Coherence -  0.5031406951031905\n",
      "Iteration num -  25  Topics -  8  Alpha -  symmetric  Beta -  symmetric  Coherence -  0.50477732585402\n",
      "Iteration num -  26  Topics -  8  Alpha -  asymmetric  Beta -  0.01  Coherence -  0.5344970125015268\n",
      "Iteration num -  27  Topics -  8  Alpha -  asymmetric  Beta -  0.31  Coherence -  0.5466564357716528\n",
      "Iteration num -  28  Topics -  8  Alpha -  asymmetric  Beta -  0.61  Coherence -  0.5616310254484732\n",
      "Iteration num -  29  Topics -  8  Alpha -  asymmetric  Beta -  0.91  Coherence -  0.5646375263547303\n",
      "Iteration num -  30  Topics -  8  Alpha -  asymmetric  Beta -  symmetric  Coherence -  0.5418663108282176\n",
      "Iteration num -  31  Topics -  9  Alpha -  0.01  Beta -  0.01  Coherence -  0.530132702374011\n",
      "Iteration num -  32  Topics -  9  Alpha -  0.01  Beta -  0.31  Coherence -  0.5199149758255823\n",
      "Iteration num -  33  Topics -  9  Alpha -  0.01  Beta -  0.61  Coherence -  0.5213953123911808\n",
      "Iteration num -  34  Topics -  9  Alpha -  0.01  Beta -  0.91  Coherence -  0.5078523019984441\n",
      "Iteration num -  35  Topics -  9  Alpha -  0.01  Beta -  symmetric  Coherence -  0.521809977365622\n",
      "Iteration num -  36  Topics -  9  Alpha -  0.31  Beta -  0.01  Coherence -  0.5212011527998482\n",
      "Iteration num -  37  Topics -  9  Alpha -  0.31  Beta -  0.31  Coherence -  0.5250528858394681\n",
      "Iteration num -  38  Topics -  9  Alpha -  0.31  Beta -  0.61  Coherence -  0.5257192880355829\n",
      "Iteration num -  39  Topics -  9  Alpha -  0.31  Beta -  0.91  Coherence -  0.5080552500594661\n",
      "Iteration num -  40  Topics -  9  Alpha -  0.31  Beta -  symmetric  Coherence -  0.5217806695980722\n",
      "Iteration num -  41  Topics -  9  Alpha -  0.61  Beta -  0.01  Coherence -  0.5558736009404069\n",
      "Iteration num -  42  Topics -  9  Alpha -  0.61  Beta -  0.31  Coherence -  0.5447709775534318\n",
      "Iteration num -  43  Topics -  9  Alpha -  0.61  Beta -  0.61  Coherence -  0.5361954314597391\n",
      "Iteration num -  44  Topics -  9  Alpha -  0.61  Beta -  0.91  Coherence -  0.5365591010365696\n",
      "Iteration num -  45  Topics -  9  Alpha -  0.61  Beta -  symmetric  Coherence -  0.5404718454660817\n",
      "Iteration num -  46  Topics -  9  Alpha -  0.91  Beta -  0.01  Coherence -  0.5394086321042683\n",
      "Iteration num -  47  Topics -  9  Alpha -  0.91  Beta -  0.31  Coherence -  0.5407785913051263\n",
      "Iteration num -  48  Topics -  9  Alpha -  0.91  Beta -  0.61  Coherence -  0.5409682879667034\n",
      "Iteration num -  49  Topics -  9  Alpha -  0.91  Beta -  0.91  Coherence -  0.5423380040542995\n",
      "Iteration num -  50  Topics -  9  Alpha -  0.91  Beta -  symmetric  Coherence -  0.5419654712052444\n",
      "Iteration num -  51  Topics -  9  Alpha -  symmetric  Beta -  0.01  Coherence -  0.5263321716249866\n",
      "Iteration num -  52  Topics -  9  Alpha -  symmetric  Beta -  0.31  Coherence -  0.5198692549408522\n",
      "Iteration num -  53  Topics -  9  Alpha -  symmetric  Beta -  0.61  Coherence -  0.5188863610298229\n",
      "Iteration num -  54  Topics -  9  Alpha -  symmetric  Beta -  0.91  Coherence -  0.5090748328450688\n",
      "Iteration num -  55  Topics -  9  Alpha -  symmetric  Beta -  symmetric  Coherence -  0.5267989851494481\n",
      "Iteration num -  56  Topics -  9  Alpha -  asymmetric  Beta -  0.01  Coherence -  0.5366690293748746\n",
      "Iteration num -  57  Topics -  9  Alpha -  asymmetric  Beta -  0.31  Coherence -  0.5495575678312287\n",
      "Iteration num -  58  Topics -  9  Alpha -  asymmetric  Beta -  0.61  Coherence -  0.5502840115522534\n",
      "Iteration num -  59  Topics -  9  Alpha -  asymmetric  Beta -  0.91  Coherence -  0.5625942094119932\n",
      "Iteration num -  60  Topics -  9  Alpha -  asymmetric  Beta -  symmetric  Coherence -  0.5490836893464733\n",
      "Iteration num -  61  Topics -  10  Alpha -  0.01  Beta -  0.01  Coherence -  0.5226680918464967\n",
      "Iteration num -  62  Topics -  10  Alpha -  0.01  Beta -  0.31  Coherence -  0.5147654624214268\n",
      "Iteration num -  63  Topics -  10  Alpha -  0.01  Beta -  0.61  Coherence -  0.4990104471376286\n",
      "Iteration num -  64  Topics -  10  Alpha -  0.01  Beta -  0.91  Coherence -  0.47891251588830064\n",
      "Iteration num -  65  Topics -  10  Alpha -  0.01  Beta -  symmetric  Coherence -  0.5181357646649138\n",
      "Iteration num -  66  Topics -  10  Alpha -  0.31  Beta -  0.01  Coherence -  0.5210300931756366\n",
      "Iteration num -  67  Topics -  10  Alpha -  0.31  Beta -  0.31  Coherence -  0.5179914786961503\n",
      "Iteration num -  68  Topics -  10  Alpha -  0.31  Beta -  0.61  Coherence -  0.5027828799439267\n",
      "Iteration num -  69  Topics -  10  Alpha -  0.31  Beta -  0.91  Coherence -  0.5006437823176414\n",
      "Iteration num -  70  Topics -  10  Alpha -  0.31  Beta -  symmetric  Coherence -  0.524070499029954\n",
      "Iteration num -  71  Topics -  10  Alpha -  0.61  Beta -  0.01  Coherence -  0.5429842177428645\n",
      "Iteration num -  72  Topics -  10  Alpha -  0.61  Beta -  0.31  Coherence -  0.5290401315580575\n",
      "Iteration num -  73  Topics -  10  Alpha -  0.61  Beta -  0.61  Coherence -  0.5324116108803337\n",
      "Iteration num -  74  Topics -  10  Alpha -  0.61  Beta -  0.91  Coherence -  0.5201584438273876\n",
      "Iteration num -  75  Topics -  10  Alpha -  0.61  Beta -  symmetric  Coherence -  0.5412691803450592\n",
      "Iteration num -  76  Topics -  10  Alpha -  0.91  Beta -  0.01  Coherence -  0.542637304719863\n",
      "Iteration num -  77  Topics -  10  Alpha -  0.91  Beta -  0.31  Coherence -  0.54664151804684\n",
      "Iteration num -  78  Topics -  10  Alpha -  0.91  Beta -  0.61  Coherence -  0.5253644138523355\n",
      "Iteration num -  79  Topics -  10  Alpha -  0.91  Beta -  0.91  Coherence -  0.5318711664682128\n",
      "Iteration num -  80  Topics -  10  Alpha -  0.91  Beta -  symmetric  Coherence -  0.5398158375912974\n",
      "Iteration num -  81  Topics -  10  Alpha -  symmetric  Beta -  0.01  Coherence -  0.5263654400687218\n",
      "Iteration num -  82  Topics -  10  Alpha -  symmetric  Beta -  0.31  Coherence -  0.518788038955243\n",
      "Iteration num -  83  Topics -  10  Alpha -  symmetric  Beta -  0.61  Coherence -  0.4974804366960119\n",
      "Iteration num -  84  Topics -  10  Alpha -  symmetric  Beta -  0.91  Coherence -  0.4811249708908699\n",
      "Iteration num -  85  Topics -  10  Alpha -  symmetric  Beta -  symmetric  Coherence -  0.5223005571655344\n"
     ]
    },
    {
     "name": "stdout",
     "output_type": "stream",
     "text": [
      "Iteration num -  86  Topics -  10  Alpha -  asymmetric  Beta -  0.01  Coherence -  0.5439752409740977\n",
      "Iteration num -  87  Topics -  10  Alpha -  asymmetric  Beta -  0.31  Coherence -  0.556630750600901\n",
      "Iteration num -  88  Topics -  10  Alpha -  asymmetric  Beta -  0.61  Coherence -  0.5466317848157389\n",
      "Iteration num -  89  Topics -  10  Alpha -  asymmetric  Beta -  0.91  Coherence -  0.549396180726367\n",
      "Iteration num -  90  Topics -  10  Alpha -  asymmetric  Beta -  symmetric  Coherence -  0.5473116924016315\n",
      "Iteration num -  91  Topics -  11  Alpha -  0.01  Beta -  0.01  Coherence -  0.5267444926310698\n",
      "Iteration num -  92  Topics -  11  Alpha -  0.01  Beta -  0.31  Coherence -  0.5141143019112879\n",
      "Iteration num -  93  Topics -  11  Alpha -  0.01  Beta -  0.61  Coherence -  0.4953906212613992\n",
      "Iteration num -  94  Topics -  11  Alpha -  0.01  Beta -  0.91  Coherence -  0.49555504682795254\n",
      "Iteration num -  95  Topics -  11  Alpha -  0.01  Beta -  symmetric  Coherence -  0.5199060432272241\n",
      "Iteration num -  96  Topics -  11  Alpha -  0.31  Beta -  0.01  Coherence -  0.5232450301393389\n",
      "Iteration num -  97  Topics -  11  Alpha -  0.31  Beta -  0.31  Coherence -  0.5162602482159812\n",
      "Iteration num -  98  Topics -  11  Alpha -  0.31  Beta -  0.61  Coherence -  0.49867302201519514\n",
      "Iteration num -  99  Topics -  11  Alpha -  0.31  Beta -  0.91  Coherence -  0.49179805523631565\n",
      "Iteration num -  100  Topics -  11  Alpha -  0.31  Beta -  symmetric  Coherence -  0.5170550688288256\n",
      "Iteration num -  101  Topics -  11  Alpha -  0.61  Beta -  0.01  Coherence -  0.5279435185955806\n",
      "Iteration num -  102  Topics -  11  Alpha -  0.61  Beta -  0.31  Coherence -  0.5295940088277274\n",
      "Iteration num -  103  Topics -  11  Alpha -  0.61  Beta -  0.61  Coherence -  0.5150982568216915\n",
      "Iteration num -  104  Topics -  11  Alpha -  0.61  Beta -  0.91  Coherence -  0.5174726801870609\n",
      "Iteration num -  105  Topics -  11  Alpha -  0.61  Beta -  symmetric  Coherence -  0.5275846758748347\n",
      "Iteration num -  106  Topics -  11  Alpha -  0.91  Beta -  0.01  Coherence -  0.5370031747605336\n",
      "Iteration num -  107  Topics -  11  Alpha -  0.91  Beta -  0.31  Coherence -  0.5317845857390016\n",
      "Iteration num -  108  Topics -  11  Alpha -  0.91  Beta -  0.61  Coherence -  0.5349501004990744\n",
      "Iteration num -  109  Topics -  11  Alpha -  0.91  Beta -  0.91  Coherence -  0.5357939116424456\n",
      "Iteration num -  110  Topics -  11  Alpha -  0.91  Beta -  symmetric  Coherence -  0.5329346367165276\n",
      "Iteration num -  111  Topics -  11  Alpha -  symmetric  Beta -  0.01  Coherence -  0.5237431410312122\n",
      "Iteration num -  112  Topics -  11  Alpha -  symmetric  Beta -  0.31  Coherence -  0.5145771900833469\n",
      "Iteration num -  113  Topics -  11  Alpha -  symmetric  Beta -  0.61  Coherence -  0.4924780460055882\n",
      "Iteration num -  114  Topics -  11  Alpha -  symmetric  Beta -  0.91  Coherence -  0.4926997015721987\n",
      "Iteration num -  115  Topics -  11  Alpha -  symmetric  Beta -  symmetric  Coherence -  0.5216348742577286\n",
      "Iteration num -  116  Topics -  11  Alpha -  asymmetric  Beta -  0.01  Coherence -  0.560236268930586\n",
      "Iteration num -  117  Topics -  11  Alpha -  asymmetric  Beta -  0.31  Coherence -  0.5459919631318414\n",
      "Iteration num -  118  Topics -  11  Alpha -  asymmetric  Beta -  0.61  Coherence -  0.5489317359612769\n",
      "Iteration num -  119  Topics -  11  Alpha -  asymmetric  Beta -  0.91  Coherence -  0.5247116102024554\n",
      "Iteration num -  120  Topics -  11  Alpha -  asymmetric  Beta -  symmetric  Coherence -  0.5670749330762922\n"
     ]
    }
   ],
   "source": [
    "# LDA model and its corresponding Coherence Score\n",
    "def compute_coherence_values(bow_corpus, id2word, n, a, b):\n",
    "    lda_model = gensim.models.LdaMulticore(corpus=bow_corpus\n",
    "                                           ,id2word=id2word\n",
    "                                           ,num_topics=n\n",
    "                                           ,random_state=random_state\n",
    "                                           ,chunksize=chunksize\n",
    "                                           ,passes=10\n",
    "                                           ,alpha=a\n",
    "                                           ,eta=b)\n",
    "    coherence_model_lda = CoherenceModel(model=lda_model, texts=data_words, dictionary=id2word, coherence='c_v')\n",
    "    return coherence_model_lda.get_coherence()\n",
    "\n",
    "grid = {}\n",
    "grid['Validation_Set'] = {}\n",
    "\n",
    "# Topics range\n",
    "min_topics = 8\n",
    "max_topics = 12\n",
    "step_size = 1\n",
    "topics_range = range(min_topics, max_topics, step_size)\n",
    "\n",
    "# Alpha parameter\n",
    "alpha = [0.01, 0.31, 0.61, 0.91, 'symmetric', 'asymmetric']\n",
    "\n",
    "# Beta parameter\n",
    "beta = [0.01, 0.31, 0.61, 0.91, 'symmetric']\n",
    "\n",
    "model_results = {'Topics': []\n",
    "                 ,'Alpha': []\n",
    "                 ,'Beta': []\n",
    "                 ,'Coherence': []\n",
    "                }\n",
    "\n",
    "# iterate through number of topics\n",
    "iter = 0\n",
    "for k in topics_range:\n",
    "    # iterate through alpha values\n",
    "    for a in alpha:\n",
    "        # iterare through beta values\n",
    "        for b in beta:\n",
    "            iter += 1\n",
    "            # get the coherence score for the given parameters\n",
    "            cv = compute_coherence_values(bow_corpus=corpus\n",
    "                                          ,id2word=id2word\n",
    "                                          ,n=k\n",
    "                                          ,a=a\n",
    "                                          ,b=b)\n",
    "            # Save the model results\n",
    "            model_results['Topics'].append(k)\n",
    "            model_results['Alpha'].append(a)\n",
    "            model_results['Beta'].append(b)\n",
    "            model_results['Coherence'].append(cv)\n",
    "            print('Iteration num - ', iter, ' Topics - ', k, ' Alpha - ', a, ' Beta - ', b, ' Coherence - ', cv)\n",
    "\n",
    "pd.DataFrame(model_results).to_csv(file_model + '_lda_tuning_results.csv', index=False)"
   ]
  },
  {
   "cell_type": "code",
   "execution_count": 14,
   "metadata": {},
   "outputs": [
    {
     "name": "stderr",
     "output_type": "stream",
     "text": [
      "C:\\Users\\minio\\anaconda3\\envs\\tfm-py-37\\lib\\site-packages\\ipykernel\\ipkernel.py:287: DeprecationWarning: `should_run_async` will not call `transform_cell` automatically in the future. Please pass the result to `transformed_cell` argument and any exception that happen during thetransform in `preprocessing_exc_tuple` in IPython 7.17 and above.\n",
      "  and should_run_async(code)\n"
     ]
    },
    {
     "data": {
      "text/html": [
       "<div>\n",
       "<style scoped>\n",
       "    .dataframe tbody tr th:only-of-type {\n",
       "        vertical-align: middle;\n",
       "    }\n",
       "\n",
       "    .dataframe tbody tr th {\n",
       "        vertical-align: top;\n",
       "    }\n",
       "\n",
       "    .dataframe thead th {\n",
       "        text-align: right;\n",
       "    }\n",
       "</style>\n",
       "<table border=\"1\" class=\"dataframe\">\n",
       "  <thead>\n",
       "    <tr style=\"text-align: right;\">\n",
       "      <th></th>\n",
       "      <th>Topics</th>\n",
       "      <th>Alpha</th>\n",
       "      <th>Beta</th>\n",
       "      <th>Coherence</th>\n",
       "    </tr>\n",
       "  </thead>\n",
       "  <tbody>\n",
       "    <tr>\n",
       "      <th>119</th>\n",
       "      <td>11</td>\n",
       "      <td>asymmetric</td>\n",
       "      <td>symmetric</td>\n",
       "      <td>0.567075</td>\n",
       "    </tr>\n",
       "    <tr>\n",
       "      <th>28</th>\n",
       "      <td>8</td>\n",
       "      <td>asymmetric</td>\n",
       "      <td>0.91</td>\n",
       "      <td>0.564638</td>\n",
       "    </tr>\n",
       "    <tr>\n",
       "      <th>58</th>\n",
       "      <td>9</td>\n",
       "      <td>asymmetric</td>\n",
       "      <td>0.91</td>\n",
       "      <td>0.562594</td>\n",
       "    </tr>\n",
       "    <tr>\n",
       "      <th>27</th>\n",
       "      <td>8</td>\n",
       "      <td>asymmetric</td>\n",
       "      <td>0.61</td>\n",
       "      <td>0.561631</td>\n",
       "    </tr>\n",
       "    <tr>\n",
       "      <th>115</th>\n",
       "      <td>11</td>\n",
       "      <td>asymmetric</td>\n",
       "      <td>0.01</td>\n",
       "      <td>0.560236</td>\n",
       "    </tr>\n",
       "    <tr>\n",
       "      <th>...</th>\n",
       "      <td>...</td>\n",
       "      <td>...</td>\n",
       "      <td>...</td>\n",
       "      <td>...</td>\n",
       "    </tr>\n",
       "    <tr>\n",
       "      <th>113</th>\n",
       "      <td>11</td>\n",
       "      <td>symmetric</td>\n",
       "      <td>0.91</td>\n",
       "      <td>0.492700</td>\n",
       "    </tr>\n",
       "    <tr>\n",
       "      <th>112</th>\n",
       "      <td>11</td>\n",
       "      <td>symmetric</td>\n",
       "      <td>0.61</td>\n",
       "      <td>0.492478</td>\n",
       "    </tr>\n",
       "    <tr>\n",
       "      <th>98</th>\n",
       "      <td>11</td>\n",
       "      <td>0.31</td>\n",
       "      <td>0.91</td>\n",
       "      <td>0.491798</td>\n",
       "    </tr>\n",
       "    <tr>\n",
       "      <th>83</th>\n",
       "      <td>10</td>\n",
       "      <td>symmetric</td>\n",
       "      <td>0.91</td>\n",
       "      <td>0.481125</td>\n",
       "    </tr>\n",
       "    <tr>\n",
       "      <th>63</th>\n",
       "      <td>10</td>\n",
       "      <td>0.01</td>\n",
       "      <td>0.91</td>\n",
       "      <td>0.478913</td>\n",
       "    </tr>\n",
       "  </tbody>\n",
       "</table>\n",
       "<p>120 rows × 4 columns</p>\n",
       "</div>"
      ],
      "text/plain": [
       "     Topics       Alpha       Beta  Coherence\n",
       "119      11  asymmetric  symmetric   0.567075\n",
       "28        8  asymmetric       0.91   0.564638\n",
       "58        9  asymmetric       0.91   0.562594\n",
       "27        8  asymmetric       0.61   0.561631\n",
       "115      11  asymmetric       0.01   0.560236\n",
       "..      ...         ...        ...        ...\n",
       "113      11   symmetric       0.91   0.492700\n",
       "112      11   symmetric       0.61   0.492478\n",
       "98       11        0.31       0.91   0.491798\n",
       "83       10   symmetric       0.91   0.481125\n",
       "63       10        0.01       0.91   0.478913\n",
       "\n",
       "[120 rows x 4 columns]"
      ]
     },
     "execution_count": 14,
     "metadata": {},
     "output_type": "execute_result"
    }
   ],
   "source": [
    "pd.DataFrame(model_results).sort_values(by=['Coherence'], ascending=False)"
   ]
  },
  {
   "cell_type": "code",
   "execution_count": null,
   "metadata": {},
   "outputs": [],
   "source": []
  }
 ],
 "metadata": {
  "kernelspec": {
   "display_name": "Python 3",
   "language": "python",
   "name": "python3"
  },
  "language_info": {
   "codemirror_mode": {
    "name": "ipython",
    "version": 3
   },
   "file_extension": ".py",
   "mimetype": "text/x-python",
   "name": "python",
   "nbconvert_exporter": "python",
   "pygments_lexer": "ipython3",
   "version": "3.7.9"
  }
 },
 "nbformat": 4,
 "nbformat_minor": 4
}
