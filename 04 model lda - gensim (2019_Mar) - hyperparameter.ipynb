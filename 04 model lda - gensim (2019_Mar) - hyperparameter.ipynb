{
 "cells": [
  {
   "cell_type": "markdown",
   "metadata": {},
   "source": [
    "# <span style=\"color:blue\">LDA model (2019_Mar) - with hyperparameter tuning</span>"
   ]
  },
  {
   "cell_type": "code",
   "execution_count": 1,
   "metadata": {},
   "outputs": [],
   "source": [
    "yyyy_MMM = '2019_Mar'"
   ]
  },
  {
   "cell_type": "markdown",
   "metadata": {},
   "source": [
    "### Load packages"
   ]
  },
  {
   "cell_type": "code",
   "execution_count": 2,
   "metadata": {},
   "outputs": [
    {
     "name": "stderr",
     "output_type": "stream",
     "text": [
      "C:\\Users\\minio\\anaconda3\\envs\\tfm-py-37\\lib\\site-packages\\botocore\\vendored\\requests\\packages\\urllib3\\_collections.py:1: DeprecationWarning: Using or importing the ABCs from 'collections' instead of from 'collections.abc' is deprecated since Python 3.3,and in 3.9 it will stop working\n",
      "  from collections import Mapping, MutableMapping\n",
      "C:\\Users\\minio\\anaconda3\\envs\\tfm-py-37\\lib\\site-packages\\botocore\\vendored\\requests\\packages\\urllib3\\_collections.py:1: DeprecationWarning: Using or importing the ABCs from 'collections' instead of from 'collections.abc' is deprecated since Python 3.3,and in 3.9 it will stop working\n",
      "  from collections import Mapping, MutableMapping\n",
      "C:\\Users\\minio\\anaconda3\\envs\\tfm-py-37\\lib\\site-packages\\scipy\\sparse\\sparsetools.py:21: DeprecationWarning: `scipy.sparse.sparsetools` is deprecated!\n",
      "scipy.sparse.sparsetools is a private module for scipy.sparse, and should not be used.\n",
      "  _deprecated()\n",
      "C:\\Users\\minio\\anaconda3\\envs\\tfm-py-37\\lib\\site-packages\\gensim\\models\\doc2vec.py:73: DeprecationWarning: Using or importing the ABCs from 'collections' instead of from 'collections.abc' is deprecated since Python 3.3,and in 3.9 it will stop working\n",
      "  from collections import namedtuple, defaultdict, Iterable\n",
      "[nltk_data] Downloading package stopwords to\n",
      "[nltk_data]     C:\\Users\\minio\\AppData\\Roaming\\nltk_data...\n",
      "[nltk_data]   Package stopwords is already up-to-date!\n",
      "[nltk_data] Downloading package averaged_perceptron_tagger to\n",
      "[nltk_data]     C:\\Users\\minio\\AppData\\Roaming\\nltk_data...\n",
      "[nltk_data]   Package averaged_perceptron_tagger is already up-to-\n",
      "[nltk_data]       date!\n"
     ]
    },
    {
     "data": {
      "text/plain": [
       "True"
      ]
     },
     "execution_count": 2,
     "metadata": {},
     "output_type": "execute_result"
    }
   ],
   "source": [
    "import csv, os, re, time\n",
    "import numpy as np\n",
    "from numpy import savetxt\n",
    "import pandas as  pd\n",
    "import matplotlib.pyplot as plt  \n",
    "import pyLDAvis\n",
    "import pyLDAvis.gensim\n",
    "import gensim\n",
    "import gensim.corpora as corpora\n",
    "from gensim.corpora.dictionary import Dictionary\n",
    "from gensim.models import CoherenceModel\n",
    "from gensim.test.utils import datapath\n",
    "from gensim.utils import simple_preprocess\n",
    "from pprint import pprint\n",
    "import nltk\n",
    "nltk.download('stopwords')\n",
    "nltk.download('averaged_perceptron_tagger')"
   ]
  },
  {
   "cell_type": "markdown",
   "metadata": {},
   "source": [
    "### Constants"
   ]
  },
  {
   "cell_type": "code",
   "execution_count": 3,
   "metadata": {},
   "outputs": [
    {
     "name": "stdout",
     "output_type": "stream",
     "text": [
      "D:\\master\\data science\\semestre 4\\M2.979 - tfm\\data\\bins_test\\doc\\2019_Mar\\2019_Mar_28_results.csv\n",
      "D:\\master\\data science\\semestre 4\\M2.979 - tfm\\data\\bins_test\\model_hyperparameter\\2019_Mar\\model\n"
     ]
    },
    {
     "name": "stderr",
     "output_type": "stream",
     "text": [
      "C:\\Users\\minio\\anaconda3\\envs\\tfm-py-37\\lib\\site-packages\\ipykernel\\ipkernel.py:287: DeprecationWarning: `should_run_async` will not call `transform_cell` automatically in the future. Please pass the result to `transformed_cell` argument and any exception that happen during thetransform in `preprocessing_exc_tuple` in IPython 7.17 and above.\n",
      "  and should_run_async(code)\n"
     ]
    }
   ],
   "source": [
    "# for reproducible results\n",
    "random_state = 33\n",
    "# if the test is True, the process runs on a smaller subset of raw data (json files)\n",
    "test = True\n",
    "# if sample > 0, then we take a sample of the entire dataset (for debugging purpose)\n",
    "sample = 0\n",
    "# parameters to build the lda model\n",
    "num_topics = 10\n",
    "alpha = 'symmetric'\n",
    "eta = 0.01\n",
    "\n",
    "if test:\n",
    "    # path with the documents preprocessed\n",
    "    path_doc = r'D:\\master\\data science\\semestre 4\\M2.979 - tfm\\data\\bins_test\\doc'\n",
    "    # path where store all data/results related to the model\n",
    "    path_model = r'D:\\master\\data science\\semestre 4\\M2.979 - tfm\\data\\bins_test\\model_hyperparameter'\n",
    "    # chunksize to build LDA model\n",
    "    chunksize = 250\n",
    "else:\n",
    "    # path with the documents preprocessed\n",
    "    path_doc = r'D:\\master\\data science\\semestre 4\\M2.979 - tfm\\data\\bins\\doc'\n",
    "    # path where store all data/results related to the model\n",
    "    path_model = r'D:\\master\\data science\\semestre 4\\M2.979 - tfm\\data\\bins\\model_hyperparameter'\n",
    "    # chunksize to build LDA model\n",
    "    chunksize = 5000\n",
    "\n",
    "# path + name of the file that contains the documents preprocessed\n",
    "file_doc = os.path.join(path_doc, yyyy_MMM, yyyy_MMM) + '_28_results.csv'\n",
    "# path + name of the file that contains the model gotten at the end\n",
    "file_model = os.path.join(path_model, yyyy_MMM, 'model')\n",
    "print(file_doc)\n",
    "print(file_model)"
   ]
  },
  {
   "cell_type": "markdown",
   "metadata": {},
   "source": [
    "### Load data preprocessed"
   ]
  },
  {
   "cell_type": "code",
   "execution_count": 4,
   "metadata": {},
   "outputs": [
    {
     "name": "stderr",
     "output_type": "stream",
     "text": [
      "C:\\Users\\minio\\anaconda3\\envs\\tfm-py-37\\lib\\site-packages\\ipykernel\\ipkernel.py:287: DeprecationWarning: `should_run_async` will not call `transform_cell` automatically in the future. Please pass the result to `transformed_cell` argument and any exception that happen during thetransform in `preprocessing_exc_tuple` in IPython 7.17 and above.\n",
      "  and should_run_async(code)\n"
     ]
    },
    {
     "data": {
      "text/plain": [
       "id_doc\n",
       "110281    ['honey', 'walnut', 'doughnut', 'tully', 'coff...\n",
       "111557    ['salade', 'fruit', 'creuse', 'tourisme', 'mai...\n",
       "87581     ['holt', 'curve', 'day', 'holt', 'holly', 'fol...\n",
       "90597     ['juju', 'brown', 'skin', 'skin', 'pearl', 'sw...\n",
       "79384                                           ['comment']\n",
       "84400     ['hotshot', 'today', 'episode', 'internet', 'c...\n",
       "78896                                    ['gucci', 'berry']\n",
       "90528     ['autry', 'insert', 'drake', 'lyric', 'jumpsui...\n",
       "110672    ['front', 'entrance', 'classic', 'house', 'aka...\n",
       "86928        ['fule', 'smiley', 'sunday', 'fule', 'follow']\n",
       "Name: content_preprocessed, dtype: object"
      ]
     },
     "execution_count": 4,
     "metadata": {},
     "output_type": "execute_result"
    }
   ],
   "source": [
    "df = pd.read_csv(file_doc, index_col='id_doc')\n",
    "documents = df.content_preprocessed\n",
    "documents.head(10)"
   ]
  },
  {
   "cell_type": "markdown",
   "metadata": {},
   "source": [
    "### Shuffle"
   ]
  },
  {
   "cell_type": "code",
   "execution_count": 5,
   "metadata": {},
   "outputs": [
    {
     "name": "stderr",
     "output_type": "stream",
     "text": [
      "C:\\Users\\minio\\anaconda3\\envs\\tfm-py-37\\lib\\site-packages\\ipykernel\\ipkernel.py:287: DeprecationWarning: `should_run_async` will not call `transform_cell` automatically in the future. Please pass the result to `transformed_cell` argument and any exception that happen during thetransform in `preprocessing_exc_tuple` in IPython 7.17 and above.\n",
      "  and should_run_async(code)\n"
     ]
    },
    {
     "data": {
      "text/plain": [
       "id_doc\n",
       "75384     ['cutest', 'click', 'kartika', 'aryan', 'ganpa...\n",
       "111674    ['paramour', 'chardonnay', 'champ', 'litte', '...\n",
       "110580    ['train', 'signage', 'okubo', 'station', 'trai...\n",
       "70393     ['augustus', 'cole', 'gear', 'nice', 'family',...\n",
       "111972    ['accueil', 'charme', 'chez', 'boutique', 'dra...\n",
       "79201     ['remote', 'control', 'green', 'baylen', 'levi...\n",
       "87979     ['mike', 'prado', 'foto', 'midweek', 'hump', '...\n",
       "97848     ['fashion', 'fashion', 'bora', 'aksu', 'fashio...\n",
       "111914    ['travers', 'jarret', 'porc', 'noir', 'orregum...\n",
       "60797     ['nomi', 'ansari', 'roam', 'istanbul', 'cobble...\n",
       "Name: content_preprocessed, dtype: object"
      ]
     },
     "execution_count": 5,
     "metadata": {},
     "output_type": "execute_result"
    }
   ],
   "source": [
    "documents = documents.sample(frac=1, random_state=random_state)\n",
    "documents.head(10)"
   ]
  },
  {
   "cell_type": "markdown",
   "metadata": {},
   "source": [
    "### Sample"
   ]
  },
  {
   "cell_type": "code",
   "execution_count": 6,
   "metadata": {},
   "outputs": [
    {
     "name": "stderr",
     "output_type": "stream",
     "text": [
      "C:\\Users\\minio\\anaconda3\\envs\\tfm-py-37\\lib\\site-packages\\ipykernel\\ipkernel.py:287: DeprecationWarning: `should_run_async` will not call `transform_cell` automatically in the future. Please pass the result to `transformed_cell` argument and any exception that happen during thetransform in `preprocessing_exc_tuple` in IPython 7.17 and above.\n",
      "  and should_run_async(code)\n"
     ]
    }
   ],
   "source": [
    "if sample > 0:\n",
    "    documents = documents.sample(n=sample, random_state=random_state)\n",
    "    print(documents.head(10))"
   ]
  },
  {
   "cell_type": "markdown",
   "metadata": {},
   "source": [
    "### Plot the number of words appearing in each document  \n",
    "\n",
    "https://neptune.ai/blog/exploratory-data-analysis-natural-language-processing-tools"
   ]
  },
  {
   "cell_type": "code",
   "execution_count": 7,
   "metadata": {},
   "outputs": [
    {
     "name": "stderr",
     "output_type": "stream",
     "text": [
      "C:\\Users\\minio\\anaconda3\\envs\\tfm-py-37\\lib\\site-packages\\ipykernel\\ipkernel.py:287: DeprecationWarning: `should_run_async` will not call `transform_cell` automatically in the future. Please pass the result to `transformed_cell` argument and any exception that happen during thetransform in `preprocessing_exc_tuple` in IPython 7.17 and above.\n",
      "  and should_run_async(code)\n"
     ]
    },
    {
     "name": "stdout",
     "output_type": "stream",
     "text": [
      "(3456,)\n"
     ]
    },
    {
     "data": {
      "text/plain": [
       "<AxesSubplot:>"
      ]
     },
     "execution_count": 7,
     "metadata": {},
     "output_type": "execute_result"
    },
    {
     "data": {
      "image/png": "[encoded data removed]",
      "text/plain": [
       "<Figure size 432x288 with 1 Axes>"
      ]
     },
     "metadata": {
      "needs_background": "light"
     },
     "output_type": "display_data"
    }
   ],
   "source": [
    "print(documents.shape)\n",
    "\n",
    "documents.str.split().\\\n",
    "    map(lambda x: len(x)).\\\n",
    "    hist()"
   ]
  },
  {
   "cell_type": "markdown",
   "metadata": {},
   "source": [
    "### Remove words that appear only once"
   ]
  },
  {
   "cell_type": "code",
   "execution_count": 8,
   "metadata": {},
   "outputs": [
    {
     "name": "stderr",
     "output_type": "stream",
     "text": [
      "C:\\Users\\minio\\anaconda3\\envs\\tfm-py-37\\lib\\site-packages\\ipykernel\\ipkernel.py:287: DeprecationWarning: `should_run_async` will not call `transform_cell` automatically in the future. Please pass the result to `transformed_cell` argument and any exception that happen during thetransform in `preprocessing_exc_tuple` in IPython 7.17 and above.\n",
      "  and should_run_async(code)\n"
     ]
    }
   ],
   "source": [
    "####################### PENDING"
   ]
  },
  {
   "cell_type": "markdown",
   "metadata": {},
   "source": [
    "### Tokenize words and Clean-up text"
   ]
  },
  {
   "cell_type": "code",
   "execution_count": 9,
   "metadata": {},
   "outputs": [
    {
     "name": "stderr",
     "output_type": "stream",
     "text": [
      "C:\\Users\\minio\\anaconda3\\envs\\tfm-py-37\\lib\\site-packages\\ipykernel\\ipkernel.py:287: DeprecationWarning: `should_run_async` will not call `transform_cell` automatically in the future. Please pass the result to `transformed_cell` argument and any exception that happen during thetransform in `preprocessing_exc_tuple` in IPython 7.17 and above.\n",
      "  and should_run_async(code)\n"
     ]
    }
   ],
   "source": [
    "# https://www.machinelearningplus.com/nlp/topic-modeling-gensim-python/#3importpackages\n",
    "def sent_to_words(sentences):\n",
    "    for sentence in sentences:\n",
    "        yield(gensim.utils.simple_preprocess(str(sentence), deacc=True))  # deacc=True removes punctuations"
   ]
  },
  {
   "cell_type": "markdown",
   "metadata": {},
   "source": [
    "### Compute bigrams & trigrams  \n",
    "\n",
    "https://radimrehurek.com/gensim/auto_examples/tutorials/run_lda.html#pre-process-and-vectorize-the-documents"
   ]
  },
  {
   "cell_type": "code",
   "execution_count": 10,
   "metadata": {},
   "outputs": [
    {
     "name": "stderr",
     "output_type": "stream",
     "text": [
      "C:\\Users\\minio\\anaconda3\\envs\\tfm-py-37\\lib\\site-packages\\ipykernel\\ipkernel.py:287: DeprecationWarning: `should_run_async` will not call `transform_cell` automatically in the future. Please pass the result to `transformed_cell` argument and any exception that happen during thetransform in `preprocessing_exc_tuple` in IPython 7.17 and above.\n",
      "  and should_run_async(code)\n"
     ]
    }
   ],
   "source": [
    "from gensim.models import Phrases\n",
    "\n",
    "# Add bigrams and trigrams to docs (only ones that appear min_count times or more).\n",
    "def bi_tri_grams(documents, min_count):\n",
    "    bigram = Phrases(documents, min_count=min_count)\n",
    "    for idx in range(len(documents)):\n",
    "        for token in bigram[documents[idx]]:\n",
    "            if '_' in token:\n",
    "                # Token is a bigram, add to document.\n",
    "                documents[idx].append(token)"
   ]
  },
  {
   "cell_type": "markdown",
   "metadata": {},
   "source": [
    "### Categorizing and tagging words"
   ]
  },
  {
   "cell_type": "code",
   "execution_count": 11,
   "metadata": {},
   "outputs": [
    {
     "name": "stderr",
     "output_type": "stream",
     "text": [
      "C:\\Users\\minio\\anaconda3\\envs\\tfm-py-37\\lib\\site-packages\\ipykernel\\ipkernel.py:287: DeprecationWarning: `should_run_async` will not call `transform_cell` automatically in the future. Please pass the result to `transformed_cell` argument and any exception that happen during thetransform in `preprocessing_exc_tuple` in IPython 7.17 and above.\n",
      "  and should_run_async(code)\n"
     ]
    }
   ],
   "source": [
    "# function to remove accented characters\n",
    "def tag_words(text):\n",
    "    tags = nltk.pos_tag(text)\n",
    "    nouns = [word for word, pos in tags if (pos == 'NN' or pos == 'NNP' or pos == 'NNS' or pos == 'NNPS')]\n",
    "    return nouns"
   ]
  },
  {
   "cell_type": "markdown",
   "metadata": {},
   "source": [
    "### Dictionary with the entire dataset"
   ]
  },
  {
   "cell_type": "code",
   "execution_count": 12,
   "metadata": {},
   "outputs": [
    {
     "name": "stderr",
     "output_type": "stream",
     "text": [
      "C:\\Users\\minio\\anaconda3\\envs\\tfm-py-37\\lib\\site-packages\\ipykernel\\ipkernel.py:287: DeprecationWarning: `should_run_async` will not call `transform_cell` automatically in the future. Please pass the result to `transformed_cell` argument and any exception that happen during thetransform in `preprocessing_exc_tuple` in IPython 7.17 and above.\n",
      "  and should_run_async(code)\n"
     ]
    }
   ],
   "source": [
    "data_words = list(sent_to_words(documents))\n",
    "# Compute bigrams & trigrams\n",
    "bi_tri_grams(data_words, 250)\n",
    "# Categorizing and tagging words\n",
    "data_words = list(map(tag_words, data_words))\n",
    "# Create Dictionary\n",
    "id2word = Dictionary(data_words)\n",
    "# Create Corpus\n",
    "texts = data_words\n",
    "# Term Document Frequency\n",
    "corpus_total = [id2word.doc2bow(text) for text in texts]"
   ]
  },
  {
   "cell_type": "markdown",
   "metadata": {},
   "source": [
    "### Build LDA model"
   ]
  },
  {
   "cell_type": "code",
   "execution_count": 13,
   "metadata": {},
   "outputs": [
    {
     "name": "stderr",
     "output_type": "stream",
     "text": [
      "C:\\Users\\minio\\anaconda3\\envs\\tfm-py-37\\lib\\site-packages\\ipykernel\\ipkernel.py:287: DeprecationWarning: `should_run_async` will not call `transform_cell` automatically in the future. Please pass the result to `transformed_cell` argument and any exception that happen during thetransform in `preprocessing_exc_tuple` in IPython 7.17 and above.\n",
      "  and should_run_async(code)\n"
     ]
    },
    {
     "name": "stdout",
     "output_type": "stream",
     "text": [
      "time elapsed - 00:00:22.20\n"
     ]
    }
   ],
   "source": [
    "perplexity_score = []\n",
    "coherence_score = []\n",
    "indixes = []\n",
    "\n",
    "index = 0\n",
    "chunk_size = 250\n",
    "documents_sample = documents[index:chunk_size-1]\n",
    "\n",
    "time_start = time.time()\n",
    "\n",
    "data_words = list(sent_to_words(documents_sample))\n",
    "# Compute bigrams & trigrams\n",
    "bi_tri_grams(data_words, 250)\n",
    "# Categorizing and tagging words\n",
    "data_words = list(map(tag_words, data_words))\n",
    "# # Create Dictionary\n",
    "# id2word = Dictionary(data_words)\n",
    "# Create Corpus\n",
    "texts = data_words\n",
    "# Term Document Frequency\n",
    "corpus = [id2word.doc2bow(text) for text in texts]\n",
    "# Build LDA Model\n",
    "lda_model = gensim.models.LdaMulticore(corpus=corpus\n",
    "                                       ,id2word=id2word\n",
    "                                       ,num_topics=num_topics\n",
    "                                       ,random_state=random_state\n",
    "                                       ,chunksize=chunksize\n",
    "                                       ,passes=50\n",
    "                                       ,per_word_topics=True\n",
    "                                       ,alpha=alpha\n",
    "                                       ,eta=eta)\n",
    "\n",
    "indixes.append(index)\n",
    "\n",
    "# Evaluate LDA Model\n",
    "# Compute Perplexity Score\n",
    "perplexity = lda_model.log_perplexity(corpus)\n",
    "perplexity_score.append(perplexity)\n",
    "\n",
    "# Evaluate LDA Model\n",
    "# Compute Coherence Score\n",
    "coherence_lda_model = CoherenceModel(model=lda_model, texts=data_words, dictionary=id2word, coherence='c_v')\n",
    "coherence = coherence_lda_model.get_coherence()\n",
    "coherence_score.append(coherence)\n",
    "\n",
    "# Save LDA Model\n",
    "temp_file = datapath(file_model)\n",
    "lda_model.save(temp_file)\n",
    "temp_file = datapath(file_model + '_' + str(index).zfill(5))\n",
    "lda_model.save(temp_file)\n",
    "\n",
    "time_end = time.time()\n",
    "hour, rem = divmod(time_end - time_start, 3600)\n",
    "minute, second = divmod(rem, 60)\n",
    "print('time elapsed - {:0>2}:{:0>2}:{:05.2f}'.format(int(hour), int(minute), second))"
   ]
  },
  {
   "cell_type": "markdown",
   "metadata": {},
   "source": [
    "### Incremental learning"
   ]
  },
  {
   "cell_type": "code",
   "execution_count": 14,
   "metadata": {},
   "outputs": [
    {
     "name": "stdout",
     "output_type": "stream",
     "text": [
      "0  -----  250  -----  499\n"
     ]
    },
    {
     "name": "stderr",
     "output_type": "stream",
     "text": [
      "C:\\Users\\minio\\anaconda3\\envs\\tfm-py-37\\lib\\site-packages\\ipykernel\\ipkernel.py:287: DeprecationWarning: `should_run_async` will not call `transform_cell` automatically in the future. Please pass the result to `transformed_cell` argument and any exception that happen during thetransform in `preprocessing_exc_tuple` in IPython 7.17 and above.\n",
      "  and should_run_async(code)\n"
     ]
    },
    {
     "name": "stdout",
     "output_type": "stream",
     "text": [
      "time elapsed - 00:00:21.49\n",
      "1  -----  500  -----  749\n",
      "time elapsed - 00:00:21.06\n",
      "2  -----  750  -----  999\n"
     ]
    },
    {
     "name": "stderr",
     "output_type": "stream",
     "text": [
      "C:\\Users\\minio\\anaconda3\\envs\\tfm-py-37\\lib\\site-packages\\gensim\\topic_coherence\\direct_confirmation_measure.py:204: RuntimeWarning: divide by zero encountered in double_scalars\n",
      "  m_lr_i = np.log(numerator / denominator)\n",
      "C:\\Users\\minio\\anaconda3\\envs\\tfm-py-37\\lib\\site-packages\\gensim\\topic_coherence\\indirect_confirmation_measure.py:323: RuntimeWarning: invalid value encountered in double_scalars\n",
      "  return cv1.T.dot(cv2)[0, 0] / (_magnitude(cv1) * _magnitude(cv2))\n"
     ]
    },
    {
     "name": "stdout",
     "output_type": "stream",
     "text": [
      "time elapsed - 00:00:21.07\n",
      "3  -----  1000  -----  1249\n"
     ]
    },
    {
     "name": "stderr",
     "output_type": "stream",
     "text": [
      "C:\\Users\\minio\\anaconda3\\envs\\tfm-py-37\\lib\\site-packages\\gensim\\topic_coherence\\direct_confirmation_measure.py:204: RuntimeWarning: divide by zero encountered in double_scalars\n",
      "  m_lr_i = np.log(numerator / denominator)\n",
      "C:\\Users\\minio\\anaconda3\\envs\\tfm-py-37\\lib\\site-packages\\gensim\\topic_coherence\\indirect_confirmation_measure.py:323: RuntimeWarning: invalid value encountered in double_scalars\n",
      "  return cv1.T.dot(cv2)[0, 0] / (_magnitude(cv1) * _magnitude(cv2))\n"
     ]
    },
    {
     "name": "stdout",
     "output_type": "stream",
     "text": [
      "time elapsed - 00:00:20.74\n",
      "4  -----  1250  -----  1499\n"
     ]
    },
    {
     "name": "stderr",
     "output_type": "stream",
     "text": [
      "C:\\Users\\minio\\anaconda3\\envs\\tfm-py-37\\lib\\site-packages\\gensim\\topic_coherence\\direct_confirmation_measure.py:204: RuntimeWarning: divide by zero encountered in double_scalars\n",
      "  m_lr_i = np.log(numerator / denominator)\n",
      "C:\\Users\\minio\\anaconda3\\envs\\tfm-py-37\\lib\\site-packages\\gensim\\topic_coherence\\indirect_confirmation_measure.py:323: RuntimeWarning: invalid value encountered in double_scalars\n",
      "  return cv1.T.dot(cv2)[0, 0] / (_magnitude(cv1) * _magnitude(cv2))\n"
     ]
    },
    {
     "name": "stdout",
     "output_type": "stream",
     "text": [
      "time elapsed - 00:00:20.98\n",
      "5  -----  1500  -----  1749\n"
     ]
    },
    {
     "name": "stderr",
     "output_type": "stream",
     "text": [
      "C:\\Users\\minio\\anaconda3\\envs\\tfm-py-37\\lib\\site-packages\\gensim\\topic_coherence\\direct_confirmation_measure.py:204: RuntimeWarning: divide by zero encountered in double_scalars\n",
      "  m_lr_i = np.log(numerator / denominator)\n",
      "C:\\Users\\minio\\anaconda3\\envs\\tfm-py-37\\lib\\site-packages\\gensim\\topic_coherence\\indirect_confirmation_measure.py:323: RuntimeWarning: invalid value encountered in double_scalars\n",
      "  return cv1.T.dot(cv2)[0, 0] / (_magnitude(cv1) * _magnitude(cv2))\n"
     ]
    },
    {
     "name": "stdout",
     "output_type": "stream",
     "text": [
      "time elapsed - 00:00:20.72\n",
      "6  -----  1750  -----  1999\n"
     ]
    },
    {
     "name": "stderr",
     "output_type": "stream",
     "text": [
      "C:\\Users\\minio\\anaconda3\\envs\\tfm-py-37\\lib\\site-packages\\gensim\\topic_coherence\\direct_confirmation_measure.py:204: RuntimeWarning: divide by zero encountered in double_scalars\n",
      "  m_lr_i = np.log(numerator / denominator)\n",
      "C:\\Users\\minio\\anaconda3\\envs\\tfm-py-37\\lib\\site-packages\\gensim\\topic_coherence\\indirect_confirmation_measure.py:323: RuntimeWarning: invalid value encountered in double_scalars\n",
      "  return cv1.T.dot(cv2)[0, 0] / (_magnitude(cv1) * _magnitude(cv2))\n"
     ]
    },
    {
     "name": "stdout",
     "output_type": "stream",
     "text": [
      "time elapsed - 00:00:21.23\n",
      "7  -----  2000  -----  2249\n"
     ]
    },
    {
     "name": "stderr",
     "output_type": "stream",
     "text": [
      "C:\\Users\\minio\\anaconda3\\envs\\tfm-py-37\\lib\\site-packages\\gensim\\topic_coherence\\direct_confirmation_measure.py:204: RuntimeWarning: divide by zero encountered in double_scalars\n",
      "  m_lr_i = np.log(numerator / denominator)\n",
      "C:\\Users\\minio\\anaconda3\\envs\\tfm-py-37\\lib\\site-packages\\gensim\\topic_coherence\\indirect_confirmation_measure.py:323: RuntimeWarning: invalid value encountered in double_scalars\n",
      "  return cv1.T.dot(cv2)[0, 0] / (_magnitude(cv1) * _magnitude(cv2))\n"
     ]
    },
    {
     "name": "stdout",
     "output_type": "stream",
     "text": [
      "time elapsed - 00:00:20.77\n",
      "8  -----  2250  -----  2499\n"
     ]
    },
    {
     "name": "stderr",
     "output_type": "stream",
     "text": [
      "C:\\Users\\minio\\anaconda3\\envs\\tfm-py-37\\lib\\site-packages\\gensim\\topic_coherence\\direct_confirmation_measure.py:204: RuntimeWarning: divide by zero encountered in double_scalars\n",
      "  m_lr_i = np.log(numerator / denominator)\n",
      "C:\\Users\\minio\\anaconda3\\envs\\tfm-py-37\\lib\\site-packages\\gensim\\topic_coherence\\indirect_confirmation_measure.py:323: RuntimeWarning: invalid value encountered in double_scalars\n",
      "  return cv1.T.dot(cv2)[0, 0] / (_magnitude(cv1) * _magnitude(cv2))\n"
     ]
    },
    {
     "name": "stdout",
     "output_type": "stream",
     "text": [
      "time elapsed - 00:00:20.68\n",
      "9  -----  2500  -----  2749\n"
     ]
    },
    {
     "name": "stderr",
     "output_type": "stream",
     "text": [
      "C:\\Users\\minio\\anaconda3\\envs\\tfm-py-37\\lib\\site-packages\\gensim\\topic_coherence\\direct_confirmation_measure.py:204: RuntimeWarning: divide by zero encountered in double_scalars\n",
      "  m_lr_i = np.log(numerator / denominator)\n",
      "C:\\Users\\minio\\anaconda3\\envs\\tfm-py-37\\lib\\site-packages\\gensim\\topic_coherence\\indirect_confirmation_measure.py:323: RuntimeWarning: invalid value encountered in double_scalars\n",
      "  return cv1.T.dot(cv2)[0, 0] / (_magnitude(cv1) * _magnitude(cv2))\n"
     ]
    },
    {
     "name": "stdout",
     "output_type": "stream",
     "text": [
      "time elapsed - 00:00:21.40\n",
      "10  -----  2750  -----  2999\n"
     ]
    },
    {
     "name": "stderr",
     "output_type": "stream",
     "text": [
      "C:\\Users\\minio\\anaconda3\\envs\\tfm-py-37\\lib\\site-packages\\gensim\\topic_coherence\\direct_confirmation_measure.py:204: RuntimeWarning: divide by zero encountered in double_scalars\n",
      "  m_lr_i = np.log(numerator / denominator)\n",
      "C:\\Users\\minio\\anaconda3\\envs\\tfm-py-37\\lib\\site-packages\\gensim\\topic_coherence\\indirect_confirmation_measure.py:323: RuntimeWarning: invalid value encountered in double_scalars\n",
      "  return cv1.T.dot(cv2)[0, 0] / (_magnitude(cv1) * _magnitude(cv2))\n"
     ]
    },
    {
     "name": "stdout",
     "output_type": "stream",
     "text": [
      "time elapsed - 00:00:20.45\n",
      "11  -----  3000  -----  3249\n"
     ]
    },
    {
     "name": "stderr",
     "output_type": "stream",
     "text": [
      "C:\\Users\\minio\\anaconda3\\envs\\tfm-py-37\\lib\\site-packages\\gensim\\topic_coherence\\direct_confirmation_measure.py:204: RuntimeWarning: divide by zero encountered in double_scalars\n",
      "  m_lr_i = np.log(numerator / denominator)\n",
      "C:\\Users\\minio\\anaconda3\\envs\\tfm-py-37\\lib\\site-packages\\gensim\\topic_coherence\\indirect_confirmation_measure.py:323: RuntimeWarning: invalid value encountered in double_scalars\n",
      "  return cv1.T.dot(cv2)[0, 0] / (_magnitude(cv1) * _magnitude(cv2))\n"
     ]
    },
    {
     "name": "stdout",
     "output_type": "stream",
     "text": [
      "time elapsed - 00:00:20.48\n",
      "12  -----  3250  -----  3499\n"
     ]
    },
    {
     "name": "stderr",
     "output_type": "stream",
     "text": [
      "C:\\Users\\minio\\anaconda3\\envs\\tfm-py-37\\lib\\site-packages\\gensim\\topic_coherence\\direct_confirmation_measure.py:204: RuntimeWarning: divide by zero encountered in double_scalars\n",
      "  m_lr_i = np.log(numerator / denominator)\n",
      "C:\\Users\\minio\\anaconda3\\envs\\tfm-py-37\\lib\\site-packages\\gensim\\topic_coherence\\indirect_confirmation_measure.py:323: RuntimeWarning: invalid value encountered in double_scalars\n",
      "  return cv1.T.dot(cv2)[0, 0] / (_magnitude(cv1) * _magnitude(cv2))\n"
     ]
    },
    {
     "name": "stdout",
     "output_type": "stream",
     "text": [
      "time elapsed - 00:00:20.06\n"
     ]
    }
   ],
   "source": [
    "documents_len = len(documents)\n",
    "\n",
    "while index+(index+1)*chunk_size < documents_len:\n",
    "    \n",
    "    time_start = time.time()\n",
    "    \n",
    "    print(index, ' ----- ', (index+1)*chunk_size, ' ----- ', ((index+1)*chunk_size)+chunk_size-1)\n",
    "    documents_sample = documents[(index+1)*chunk_size:((index+1)*chunk_size)+chunk_size-1]\n",
    "    \n",
    "    data_words = list(sent_to_words(documents_sample))\n",
    "    # Compute bigrams & trigrams\n",
    "    bi_tri_grams(data_words, 250)\n",
    "    # Categorizing and tagging words\n",
    "    data_words = list(map(tag_words, data_words))\n",
    "    # Create Corpus\n",
    "    texts = data_words\n",
    "    # Term Document Frequency\n",
    "    corpus = [id2word.doc2bow(text) for text in texts]\n",
    "    # Load LDA Model\n",
    "    temp_file = datapath(file_model)\n",
    "    lda_model = gensim.models.ldamodel.LdaModel.load(temp_file)\n",
    "    # Update LDA Model\n",
    "    lda_model.update(corpus)\n",
    "    \n",
    "    index = index + 1\n",
    "    indixes.append(index)\n",
    "    \n",
    "    # Evaluate LDA Model\n",
    "    # Compute Perplexity Score\n",
    "    perplexity = lda_model.log_perplexity(corpus)\n",
    "    perplexity_score.append(perplexity)\n",
    "\n",
    "    # Evaluate LDA Model\n",
    "    # Compute Coherence Score\n",
    "    coherence_lda_model = CoherenceModel(model=lda_model, texts=data_words, dictionary=id2word, coherence='c_v')\n",
    "    coherence = coherence_lda_model.get_coherence()\n",
    "    coherence_score.append(coherence)\n",
    "    \n",
    "    # Save LDA Model\n",
    "    temp_file = datapath(file_model)\n",
    "    lda_model.save(temp_file)\n",
    "    temp_file = datapath(file_model + '_' + str(index).zfill(5))\n",
    "    lda_model.save(temp_file)\n",
    "    \n",
    "    time_end = time.time()\n",
    "    hour, rem = divmod(time_end - time_start, 3600)\n",
    "    minute, second = divmod(rem, 60)\n",
    "    print('time elapsed - {:0>2}:{:0>2}:{:05.2f}'.format(int(hour), int(minute), second))"
   ]
  },
  {
   "cell_type": "markdown",
   "metadata": {},
   "source": [
    "### Topics in LDA model"
   ]
  },
  {
   "cell_type": "code",
   "execution_count": 15,
   "metadata": {},
   "outputs": [
    {
     "name": "stdout",
     "output_type": "stream",
     "text": [
      "[(0,\n",
      "  '0.213*\"shoot\" + 0.171*\"love\" + 0.100*\"time\" + 0.085*\"team\" + 0.071*\"outfit\" '\n",
      "  '+ 0.071*\"kapoor\" + 0.071*\"season\" + 0.043*\"call\" + 0.043*\"khan\" + '\n",
      "  '0.043*\"release\"'),\n",
      " (1,\n",
      "  '0.223*\"video\" + 0.120*\"fan\" + 0.120*\"song\" + 0.120*\"hair\" + 0.069*\"tokyo\" + '\n",
      "  '0.069*\"eats\" + 0.034*\"artist\" + 0.034*\"city\" + 0.034*\"gourmet\" + '\n",
      "  '0.034*\"restaurant\"'),\n",
      " (2,\n",
      "  '0.299*\"model\" + 0.134*\"follow\" + 0.067*\"blogger\" + 0.060*\"punjabi\" + '\n",
      "  '0.054*\"bikini\" + 0.047*\"entertainment\" + 0.040*\"bollywood\" + 0.040*\"print\" '\n",
      "  '+ 0.040*\"jeff\" + 0.034*\"actress\"'),\n",
      " (3,\n",
      "  '0.113*\"life\" + 0.104*\"photographer\" + 0.069*\"work\" + 0.069*\"comment\" + '\n",
      "  '0.061*\"year\" + 0.061*\"story\" + 0.061*\"studio\" + 0.052*\"contact\" + '\n",
      "  '0.052*\"rite\" + 0.043*\"share\"'),\n",
      " (4,\n",
      "  '0.279*\"champagne\" + 0.105*\"movie\" + 0.105*\"shot\" + 0.087*\"airport\" + '\n",
      "  '0.087*\"beach\" + 0.070*\"collection\" + 0.052*\"night\" + 0.035*\"spot\" + '\n",
      "  '0.035*\"snap\" + 0.035*\"paparazzo\"'),\n",
      " (5,\n",
      "  '0.169*\"glan\" + 0.169*\"beauty\" + 0.144*\"today\" + 0.144*\"navman\" + '\n",
      "  '0.127*\"mumbai\" + 0.051*\"film\" + 0.051*\"picture\" + 0.051*\"bag\" + '\n",
      "  '0.025*\"friend\" + 0.017*\"house\"'),\n",
      " (6,\n",
      "  '0.156*\"event\" + 0.128*\"jones\" + 0.076*\"post\" + 0.060*\"book\" + '\n",
      "  '0.056*\"medium\" + 0.048*\"location\" + 0.040*\"week\" + 0.040*\"hollywood\" + '\n",
      "  '0.036*\"image\" + 0.032*\"keywords\"'),\n",
      " (7,\n",
      "  '0.616*\"fashion\" + 0.215*\"style\" + 0.032*\"accessory\" + 0.032*\"face\" + '\n",
      "  '0.024*\"street\" + 0.024*\"sponsor\" + 0.016*\"moda\" + 0.008*\"dress\" + '\n",
      "  '0.000*\"gaga\" + 0.000*\"denis\"'),\n",
      " (8,\n",
      "  '0.248*\"star\" + 0.220*\"baby\" + 0.193*\"miami\" + 0.083*\"family\" + 0.083*\"vibe\" '\n",
      "  '+ 0.055*\"swipe\" + 0.000*\"morning\" + 0.000*\"haus\" + 0.000*\"laboratory\" + '\n",
      "  '0.000*\"kehl\"'),\n",
      " (9,\n",
      "  '0.337*\"food\" + 0.084*\"foodie\" + 0.051*\"dinner\" + 0.051*\"sweet\" + '\n",
      "  '0.051*\"pic\" + 0.049*\"gourmand\" + 0.049*\"lunch\" + 0.049*\"breakfast\" + '\n",
      "  '0.047*\"ephoto\" + 0.047*\"tasty\"')]\n"
     ]
    },
    {
     "name": "stderr",
     "output_type": "stream",
     "text": [
      "C:\\Users\\minio\\anaconda3\\envs\\tfm-py-37\\lib\\site-packages\\ipykernel\\ipkernel.py:287: DeprecationWarning: `should_run_async` will not call `transform_cell` automatically in the future. Please pass the result to `transformed_cell` argument and any exception that happen during thetransform in `preprocessing_exc_tuple` in IPython 7.17 and above.\n",
      "  and should_run_async(code)\n"
     ]
    }
   ],
   "source": [
    "# Print the Keyword in the 10 topics\n",
    "pprint(lda_model.print_topics())\n",
    "doc_lda = lda_model[corpus]"
   ]
  },
  {
   "cell_type": "markdown",
   "metadata": {},
   "source": [
    "### Plot perplexity score progress along incremental learning iterations  \n",
    "\n",
    "Lower the perplexity score represents a better model.  "
   ]
  },
  {
   "cell_type": "code",
   "execution_count": 16,
   "metadata": {},
   "outputs": [
    {
     "name": "stderr",
     "output_type": "stream",
     "text": [
      "C:\\Users\\minio\\anaconda3\\envs\\tfm-py-37\\lib\\site-packages\\ipykernel\\ipkernel.py:287: DeprecationWarning: `should_run_async` will not call `transform_cell` automatically in the future. Please pass the result to `transformed_cell` argument and any exception that happen during thetransform in `preprocessing_exc_tuple` in IPython 7.17 and above.\n",
      "  and should_run_async(code)\n"
     ]
    },
    {
     "data": {
      "image/png": "[encoded data removed]",
      "text/plain": [
       "<Figure size 432x288 with 1 Axes>"
      ]
     },
     "metadata": {
      "needs_background": "light"
     },
     "output_type": "display_data"
    }
   ],
   "source": [
    "plt.title('Perplexity score progress')\n",
    "plt.xlabel('Index')\n",
    "plt.ylabel('Perplexity score')\n",
    "plt.plot(indixes, perplexity_score, 'go', perplexity_score, 'k')\n",
    "plt.show()"
   ]
  },
  {
   "cell_type": "markdown",
   "metadata": {},
   "source": [
    "### Plot coherence score progress along incremental learning iterations  \n",
    "\n",
    "Higher the coherence score represents a more human interpretable model.  "
   ]
  },
  {
   "cell_type": "code",
   "execution_count": 17,
   "metadata": {},
   "outputs": [
    {
     "name": "stderr",
     "output_type": "stream",
     "text": [
      "C:\\Users\\minio\\anaconda3\\envs\\tfm-py-37\\lib\\site-packages\\ipykernel\\ipkernel.py:287: DeprecationWarning: `should_run_async` will not call `transform_cell` automatically in the future. Please pass the result to `transformed_cell` argument and any exception that happen during thetransform in `preprocessing_exc_tuple` in IPython 7.17 and above.\n",
      "  and should_run_async(code)\n"
     ]
    },
    {
     "data": {
      "image/png": "[encoded data removed]",
      "text/plain": [
       "<Figure size 432x288 with 1 Axes>"
      ]
     },
     "metadata": {
      "needs_background": "light"
     },
     "output_type": "display_data"
    }
   ],
   "source": [
    "plt.title('Coherence score progress')\n",
    "plt.xlabel('Index')\n",
    "plt.ylabel('Coherence score')\n",
    "plt.plot(indixes, coherence_score, 'go', coherence_score, 'k') \n",
    "plt.show()"
   ]
  },
  {
   "cell_type": "markdown",
   "metadata": {},
   "source": [
    "### Visualize the topics-keywords"
   ]
  },
  {
   "cell_type": "code",
   "execution_count": 18,
   "metadata": {},
   "outputs": [
    {
     "name": "stderr",
     "output_type": "stream",
     "text": [
      "C:\\Users\\minio\\anaconda3\\envs\\tfm-py-37\\lib\\site-packages\\ipykernel\\ipkernel.py:287: DeprecationWarning: `should_run_async` will not call `transform_cell` automatically in the future. Please pass the result to `transformed_cell` argument and any exception that happen during thetransform in `preprocessing_exc_tuple` in IPython 7.17 and above.\n",
      "  and should_run_async(code)\n"
     ]
    },
    {
     "data": {
      "text/html": [
       "\n",
       "<link rel=\"stylesheet\" type=\"text/css\" href=\"https://cdn.rawgit.com/bmabey/pyLDAvis/files/ldavis.v1.0.0.css\">\n",
       "\n",
       "\n",
       "<div id=\"ldavis_el1273628996171712729598819956\"></div>\n",
       "<script type=\"text/javascript\">\n",
       "\n",
       "var ldavis_el1273628996171712729598819956_data = {\"mdsDat\": {\"x\": [-0.013681007102222208, 0.33234236933682937, -0.10056952830246163, 0.20463712860306255, 0.17838342511448368, -0.09699518797350844, -0.12087765480676942, -0.1261715944661531, -0.12649622289768273, -0.1305717275055775], \"y\": [-0.4589692176565124, 0.04883275097718076, 0.0007785159255549621, 0.06506313747278028, 0.0265375288327818, -0.009182900655885114, 0.06522477643075782, 0.08066311488437974, 0.08170232396191611, 0.09934996982704633], \"topics\": [1, 2, 3, 4, 5, 6, 7, 8, 9, 10], \"cluster\": [1, 1, 1, 1, 1, 1, 1, 1, 1, 1], \"Freq\": [22.585133410966943, 15.659303268425667, 11.475586230524726, 10.706495788747947, 9.971617473213882, 8.692324479088393, 6.331807105049301, 5.648247671554415, 4.9091805696581945, 4.020304002770529]}, \"tinfo\": {\"Term\": [\"fashion\", \"food\", \"model\", \"style\", \"event\", \"champagne\", \"shoot\", \"jones\", \"video\", \"glan\", \"beauty\", \"star\", \"follow\", \"today\", \"navman\", \"love\", \"baby\", \"foodie\", \"life\", \"mumbai\", \"photographer\", \"miami\", \"post\", \"fan\", \"song\", \"hair\", \"time\", \"book\", \"work\", \"comment\", \"food\", \"foodie\", \"dinner\", \"sweet\", \"pic\", \"gourmand\", \"breakfast\", \"lunch\", \"ephoto\", \"tasty\", \"yummy\", \"vaucluse\", \"provence\", \"tourisme\", \"luberon\", \"coeur\", \"guide\", \"paris\", \"lorraine\", \"delice\", \"mystery\", \"chai\", \"beaujolais\", \"stripper\", \"strip\", \"bread\", \"santana\", \"comedian\", \"club\", \"singlet\", \"lovebird\", \"nancy\", \"corruption\", \"bambam\", \"impeach\", \"joseph\", \"lead\", \"sentence\", \"dalal\", \"contender\", \"event\", \"jones\", \"post\", \"book\", \"medium\", \"location\", \"week\", \"hollywood\", \"image\", \"keywords\", \"place\", \"runway\", \"influencer\", \"venue\", \"award\", \"birthday\", \"carpet\", \"eventdate\", \"hour\", \"york\", \"game\", \"management\", \"weekend\", \"model\", \"rosario\", \"outdoor\", \"stripper\", \"youth\", \"beaujolais\", \"mystery\", \"fashion\", \"chai\", \"fuse\", \"firewood\", \"anny\", \"bread\", \"storch\", \"tomorrow\", \"vice\", \"contender\", \"corruption\", \"impeach\", \"life\", \"photographer\", \"work\", \"comment\", \"year\", \"story\", \"studio\", \"contact\", \"rite\", \"share\", \"fitness\", \"party\", \"people\", \"discount\", \"center\", \"woman\", \"body\", \"feature\", \"stay\", \"thing\", \"day\", \"pink\", \"help\", \"clip\", \"celebration\", \"santana\", \"comedian\", \"stripper\", \"beaujolais\", \"strip\", \"nytimes\", \"bambam\", \"lovebird\", \"contender\", \"corruption\", \"style\", \"accessory\", \"face\", \"street\", \"sponsor\", \"moda\", \"dress\", \"fashion\", \"outdoor\", \"stripper\", \"beaujolais\", \"mystery\", \"bread\", \"moore\", \"chai\", \"firewood\", \"fuse\", \"masala\", \"paige\", \"ginn\", \"pita\", \"rampage\", \"strip\", \"spice\", \"tender\", \"veggie\", \"website\", \"cheese\", \"fatboy\", \"bite\", \"lead\", \"dalal\", \"bambam\", \"jenny\", \"lovebird\", \"contender\", \"igbo\", \"corruption\", \"impeach\", \"joseph\", \"introduction\", \"gele\", \"nancy\", \"eugene\", \"sentence\", \"nytimes\", \"mister\", \"pelosi\", \"pressure\", \"speaker\", \"vice\", \"bellezza\", \"follow\", \"blogger\", \"punjabi\", \"bikini\", \"entertainment\", \"bollywood\", \"print\", \"jeff\", \"actress\", \"actor\", \"power\", \"malik\", \"promo\", \"session\", \"celebrity\", \"model\", \"interscope\", \"masala\", \"outdoor\", \"fuse\", \"firewood\", \"outdoors\", \"chai\", \"singlet\", \"pita\", \"rampage\", \"spice\", \"mystery\", \"tender\", \"veggie\", \"joseph\", \"impeach\", \"corruption\", \"contender\", \"lovebird\", \"lead\", \"dalal\", \"nancy\", \"nytimes\", \"pelosi\", \"pressure\", \"speaker\", \"glan\", \"beauty\", \"today\", \"navman\", \"mumbai\", \"film\", \"picture\", \"bag\", \"friend\", \"house\", \"ganesha\", \"masala\", \"fuse\", \"mystery\", \"firewood\", \"chai\", \"bread\", \"outdoors\", \"beaujolais\", \"outdoor\", \"tender\", \"pita\", \"rampage\", \"spice\", \"veggie\", \"website\", \"cheese\", \"fatboy\", \"bite\", \"ginn\", \"singlet\", \"bambam\", \"contender\", \"lovebird\", \"sentence\", \"dalal\", \"kill\", \"justice\", \"corruption\", \"nancy\", \"impeach\", \"joseph\", \"lead\", \"forq\", \"nytimes\", \"pelosi\", \"pressure\", \"speaker\", \"vice\", \"shoot\", \"love\", \"time\", \"team\", \"outfit\", \"kapoor\", \"season\", \"call\", \"khan\", \"release\", \"card\", \"bite\", \"outdoor\", \"stripper\", \"beaujolais\", \"mystery\", \"bread\", \"chai\", \"firewood\", \"fuse\", \"masala\", \"outdoors\", \"pita\", \"rampage\", \"strip\", \"tender\", \"veggie\", \"paige\", \"website\", \"cheese\", \"kill\", \"joseph\", \"sentence\", \"dalal\", \"bambam\", \"lovebird\", \"contender\", \"corruption\", \"impeach\", \"pelosi\", \"lead\", \"nancy\", \"nytimes\", \"honour\", \"pressure\", \"speaker\", \"vice\", \"bellezza\", \"gele\", \"video\", \"fan\", \"song\", \"hair\", \"tokyo\", \"eats\", \"artist\", \"city\", \"gourmet\", \"restaurant\", \"gram\", \"repost\", \"bread\", \"stripper\", \"mystery\", \"beaujolais\", \"strip\", \"chai\", \"singlet\", \"firewood\", \"santana\", \"masala\", \"outdoor\", \"outdoors\", \"pita\", \"rampage\", \"spice\", \"tender\", \"veggie\", \"website\", \"corruption\", \"contender\", \"bambam\", \"lovebird\", \"joseph\", \"dalal\", \"sentence\", \"impeach\", \"lead\", \"justice\", \"nancy\", \"nytimes\", \"pelosi\", \"pressure\", \"speaker\", \"vice\", \"bellezza\", \"champagne\", \"movie\", \"shot\", \"airport\", \"beach\", \"collection\", \"night\", \"spot\", \"snap\", \"paparazzo\", \"luxury\", \"stripper\", \"beaujolais\", \"outdoor\", \"mystery\", \"bread\", \"chai\", \"firewood\", \"fuse\", \"masala\", \"spice\", \"outdoors\", \"pita\", \"rampage\", \"santana\", \"tender\", \"veggie\", \"website\", \"cheese\", \"fatboy\", \"sentence\", \"impeach\", \"dalal\", \"kill\", \"bambam\", \"lovebird\", \"contender\", \"corruption\", \"lead\", \"joseph\", \"honour\", \"nancy\", \"nytimes\", \"pelosi\", \"pressure\", \"speaker\", \"vice\", \"bellezza\", \"gele\", \"star\", \"baby\", \"miami\", \"family\", \"vibe\", \"swipe\", \"morning\", \"stripper\", \"beaujolais\", \"mystery\", \"bread\", \"chai\", \"firewood\", \"fuse\", \"masala\", \"outdoor\", \"outdoors\", \"santana\", \"pita\", \"rampage\", \"spice\", \"tender\", \"veggie\", \"website\", \"cheese\", \"fatboy\", \"bite\", \"ginn\", \"paige\", \"moore\", \"sentence\", \"dalal\", \"impeach\", \"bambam\", \"lovebird\", \"kill\", \"contender\", \"justice\", \"corruption\", \"singlet\", \"nancy\", \"joseph\", \"lead\", \"forq\", \"nytimes\", \"pelosi\", \"pressure\", \"speaker\", \"vice\", \"bellezza\", \"gele\", \"introduction\", \"mister\"], \"Freq\": [208.0, 224.0, 101.0, 67.0, 72.0, 40.0, 39.0, 59.0, 37.0, 43.0, 43.0, 29.0, 39.0, 36.0, 36.0, 31.0, 26.0, 55.0, 38.0, 32.0, 35.0, 22.0, 35.0, 20.0, 20.0, 20.0, 18.0, 27.0, 23.0, 23.0, 224.96966471425935, 55.90196348480359, 34.08682746034313, 34.08666093970186, 34.08663857125751, 32.723520484909436, 32.72333656658923, 32.72333656658923, 31.35989786587215, 31.35989786587215, 24.542522929349243, 21.81537213581748, 19.08840526060592, 12.271582079043629, 12.27130620156332, 9.54461333979504, 8.181360421435192, 6.817760792187931, 2.7275145914252787, 0.0008158198950686618, 0.0008157818194424977, 0.0008157818194424977, 0.0008157818194424977, 0.0008157818194424977, 0.0008157818194424977, 0.0008157818194424977, 0.0008157818194424977, 0.0008157818194424977, 0.0008157818194424977, 0.0008157818194424977, 0.0008157818194424977, 0.0008157818194424977, 0.0008157818194424977, 0.0008157818194424977, 0.0008157818194424977, 0.0008157818194424977, 0.0008157818194424977, 0.0008157818194424977, 0.0008157818194424977, 0.0008157818194424977, 72.07222114685061, 59.13873801900254, 35.112900865497835, 27.72176918163998, 25.872897610624403, 22.177229236557697, 18.48190206187385, 18.480945669664326, 16.63319419763288, 14.785210089658571, 12.93734919257252, 12.937327652207442, 11.089359914910595, 11.089231534334722, 11.088662868696627, 9.241585179284863, 9.241299984851212, 9.24117505073375, 9.240807141298195, 7.393865586993732, 7.392914364471826, 3.6975186914270255, 1.8492877308689102, 13.8617556831838, 0.0011057400379320364, 0.0011057400379320364, 0.0011057400379320364, 0.0011057400379320364, 0.0011057400379320364, 0.0011057400379320364, 13.829757040051064, 0.0011057400379320364, 0.0011057400379320364, 0.0011057400379320364, 0.0011057400379320364, 0.0011057400379320364, 0.0011057400379320364, 0.0011057400379320364, 0.0011057400379320364, 0.0011057400379320364, 0.0011057400379320364, 0.0011057400379320364, 38.21198551687795, 35.27298203079554, 23.516493261727824, 23.515957821065765, 20.57895213481207, 20.577994908345463, 20.576927815516594, 17.63777657811941, 17.637766475465412, 14.69906733183478, 11.75958902101431, 11.758580018445949, 8.821520030427, 8.819665562001918, 8.819538647411028, 5.882711020434104, 5.88227092356918, 5.88059830291612, 5.880577466192242, 5.880532004249237, 5.880125372425692, 2.941581557100327, 2.9413817139758676, 2.941062217543082, 0.0017587159649852155, 0.0017587022452555082, 0.0017587022452555082, 0.0017587022452555082, 0.0017587022452555082, 0.0017587022452555082, 0.0017587022452555082, 0.0017587022452555082, 0.0017587022452555082, 0.0017587022452555082, 0.0017587022452555082, 67.85988045432978, 10.054206514445161, 10.054118149660065, 7.541702892185106, 7.5406949445364475, 5.028438743674661, 2.5160935889292113, 194.81506586814558, 0.0015036868932833958, 0.0015036868932833958, 0.0015036868932833958, 0.0015036868932833958, 0.0015036868932833958, 0.0015036868932833958, 0.0015036868932833958, 0.0015036868932833958, 0.0015036868932833958, 0.0015036868932833958, 0.0015036868932833958, 0.0015036868932833958, 0.0015036868932833958, 0.0015036868932833958, 0.0015036868932833958, 0.0015036868932833958, 0.0015036868932833958, 0.0015036868932833958, 0.0015036868932833958, 0.0015036868932833958, 0.0015036868932833958, 0.0015036868932833958, 0.0015036868932833958, 0.0015036868932833958, 0.0015036868932833958, 0.0015036868932833958, 0.0015036868932833958, 0.0015036868932833958, 0.0015036868932833958, 0.0015036868932833958, 0.0015036868932833958, 0.0015036868932833958, 0.0015036868932833958, 0.0015036868932833958, 0.0015036868932833958, 0.0015036868932833958, 0.0015036868932833958, 0.0015036868932833958, 0.0015036868932833958, 0.0015036868932833958, 0.0015036868932833958, 0.0015036868932833958, 0.0015036868932833958, 0.0015036868932833958, 39.585879480181454, 19.793802239423265, 17.814609877930977, 15.834358595502431, 13.855584315747672, 11.87690879545847, 11.876537898798931, 11.876069340001228, 9.897845918598803, 9.897682416816934, 9.897061329511315, 7.918621734612056, 7.9178360481971755, 5.939193996393523, 3.959324583898467, 88.07676390110831, 0.0015858084716961396, 0.0011842376804629706, 0.0011842376804629706, 0.0011842376804629706, 0.0011842376804629706, 0.0011842376804629706, 0.0011842376804629706, 0.0011842376804629706, 0.0011842376804629706, 0.0011842376804629706, 0.0011842376804629706, 0.0011842376804629706, 0.0011842376804629706, 0.0011842376804629706, 0.0011842376804629706, 0.0011842376804629706, 0.0011842376804629706, 0.0011842376804629706, 0.0011842376804629706, 0.0011842376804629706, 0.0011842376804629706, 0.0011842376804629706, 0.0011842376804629706, 0.0011842376804629706, 0.0011842376804629706, 0.0011842376804629706, 43.40235188809056, 43.40146038581935, 36.89289309417168, 36.89206281094056, 32.55123877148971, 13.021765229749102, 13.020918685210455, 13.020606850725033, 6.511536893365437, 4.341753803622113, 4.341500318534269, 0.0012983984519796838, 0.0012983984519796838, 0.0012983984519796838, 0.0012983984519796838, 0.0012983984519796838, 0.0012983984519796838, 0.0012983984519796838, 0.0012983984519796838, 0.0012983984519796838, 0.0012983984519796838, 0.0012983984519796838, 0.0012983984519796838, 0.0012983984519796838, 0.0012983984519796838, 0.0012983984519796838, 0.0012983984519796838, 0.0012983984519796838, 0.0012983984519796838, 0.0012983984519796838, 0.0012983984519796838, 0.0012983984519796838, 0.0012983984519796838, 0.0012983984519796838, 0.0012983984519796838, 0.0012983984519796838, 0.0012983984519796838, 0.0012983984519796838, 0.0012983984519796838, 0.0012983984519796838, 0.0012983984519796838, 0.0012983984519796838, 0.0012983984519796838, 0.0012983984519796838, 0.0012983984519796838, 0.0012983984519796838, 0.0012983984519796838, 0.0012983984519796838, 0.0012983984519796838, 39.8967561842366, 31.917501382321074, 18.62135957149784, 15.958991778490024, 13.299415302944418, 13.29912683429006, 13.298761719374884, 7.9805529108601325, 7.980148776030357, 7.979955766809929, 5.321285110710373, 0.0015913162758146404, 0.0015913162758146404, 0.0015913162758146404, 0.0015913162758146404, 0.0015913162758146404, 0.0015913162758146404, 0.0015913162758146404, 0.0015913162758146404, 0.0015913162758146404, 0.0015913162758146404, 0.0015913162758146404, 0.0015913162758146404, 0.0015913162758146404, 0.0015913162758146404, 0.0015913162758146404, 0.0015913162758146404, 0.0015913162758146404, 0.0015913162758146404, 0.0015913162758146404, 0.0015913162758146404, 0.0015913162758146404, 0.0015913162758146404, 0.0015913162758146404, 0.0015913162758146404, 0.0015913162758146404, 0.0015913162758146404, 0.0015913162758146404, 0.0015913162758146404, 0.0015913162758146404, 0.0015913162758146404, 0.0015913162758146404, 0.0015913162758146404, 0.0015913162758146404, 0.0015913162758146404, 0.0015913162758146404, 0.0015913162758146404, 0.0015913162758146404, 0.0015913162758146404, 37.189104027381745, 20.026782154093862, 20.025607402216302, 20.025536544166542, 11.444949930662744, 11.444179193981169, 5.723379337808543, 5.723317181624545, 5.723310966006145, 5.723212137673588, 5.723033749425515, 5.722566956483689, 0.0017115891937090103, 0.0017115891937090103, 0.0017115891937090103, 0.0017115891937090103, 0.0017115891937090103, 0.0017115891937090103, 0.0017115891937090103, 0.0017115891937090103, 0.0017115891937090103, 0.0017115891937090103, 0.0017115891937090103, 0.0017115891937090103, 0.0017115891937090103, 0.0017115891937090103, 0.0017115891937090103, 0.0017115891937090103, 0.0017115891937090103, 0.0017115891937090103, 0.0017115891937090103, 0.0017115891937090103, 0.0017115891937090103, 0.0017115891937090103, 0.0017115891937090103, 0.0017115891937090103, 0.0017115891937090103, 0.0017115891937090103, 0.0017115891937090103, 0.0017115891937090103, 0.0017115891937090103, 0.0017115891937090103, 0.0017115891937090103, 0.0017115891937090103, 0.0017115891937090103, 0.0017115891937090103, 0.0017115891937090103, 40.47424704979975, 15.18082039774695, 15.179990602708006, 12.650160540963576, 12.649628953516753, 10.120612479876911, 7.591084407342617, 5.061233276583526, 5.061220311036043, 5.060868080329407, 5.060840528541005, 0.001513574014088216, 0.001513574014088216, 0.001513574014088216, 0.001513574014088216, 0.001513574014088216, 0.001513574014088216, 0.001513574014088216, 0.001513574014088216, 0.001513574014088216, 0.001513574014088216, 0.001513574014088216, 0.001513574014088216, 0.001513574014088216, 0.001513574014088216, 0.001513574014088216, 0.001513574014088216, 0.001513574014088216, 0.001513574014088216, 0.001513574014088216, 0.001513574014088216, 0.001513574014088216, 0.001513574014088216, 0.001513574014088216, 0.001513574014088216, 0.001513574014088216, 0.001513574014088216, 0.001513574014088216, 0.001513574014088216, 0.001513574014088216, 0.001513574014088216, 0.001513574014088216, 0.001513574014088216, 0.001513574014088216, 0.001513574014088216, 0.001513574014088216, 0.001513574014088216, 0.001513574014088216, 0.001513574014088216, 29.425480148647857, 26.155669518034344, 22.88600576908678, 9.812116463975965, 9.809727424831053, 6.5399782898547905, 0.001956141588107715, 0.001956095791278042, 0.001956095791278042, 0.001956095791278042, 0.001956095791278042, 0.001956095791278042, 0.001956095791278042, 0.001956095791278042, 0.001956095791278042, 0.001956095791278042, 0.001956095791278042, 0.001956095791278042, 0.001956095791278042, 0.001956095791278042, 0.001956095791278042, 0.001956095791278042, 0.001956095791278042, 0.001956095791278042, 0.001956095791278042, 0.001956095791278042, 0.001956095791278042, 0.001956095791278042, 0.001956095791278042, 0.001956095791278042, 0.001956095791278042, 0.001956095791278042, 0.001956095791278042, 0.001956095791278042, 0.001956095791278042, 0.001956095791278042, 0.001956095791278042, 0.001956095791278042, 0.001956095791278042, 0.001956095791278042, 0.001956095791278042, 0.001956095791278042, 0.001956095791278042, 0.001956095791278042, 0.001956095791278042, 0.001956095791278042, 0.001956095791278042, 0.001956095791278042, 0.001956095791278042, 0.001956095791278042, 0.001956095791278042, 0.001956095791278042, 0.001956095791278042], \"Total\": [208.0, 224.0, 101.0, 67.0, 72.0, 40.0, 39.0, 59.0, 37.0, 43.0, 43.0, 29.0, 39.0, 36.0, 36.0, 31.0, 26.0, 55.0, 38.0, 32.0, 35.0, 22.0, 35.0, 20.0, 20.0, 20.0, 18.0, 27.0, 23.0, 23.0, 224.98328805484317, 55.91558682538739, 34.100450800926936, 34.10028428028566, 34.100261911841315, 32.73714382549324, 32.73695990717304, 32.73695990717304, 31.373521206455948, 31.373521206455948, 24.55614626993304, 21.82899547640128, 19.10202860118972, 12.285205419627433, 12.284929542147124, 9.558236680378844, 8.194983762018996, 6.831384132771735, 2.7411379320090825, 0.014439160478872164, 0.014439122403246001, 0.014439122403246001, 0.014439122403246001, 0.014439122403246001, 0.014439122403246001, 0.014439122403246001, 0.014439122403246001, 0.014439122403246001, 0.014439122403246001, 0.014439122403246001, 0.014439122403246001, 0.014439122403246001, 0.014439122403246001, 0.014439122403246001, 0.014439122403246001, 0.014439122403246001, 0.014439122403246001, 0.014439122403246001, 0.014439122403246001, 0.014439122403246001, 72.08555452921591, 59.152071401367856, 35.12623424786315, 27.73510256400529, 25.886230992989713, 22.190562618923007, 18.49523544423916, 18.494279052029636, 16.64652757999819, 14.798543472023885, 12.950682574937835, 12.950661034572756, 11.10269329727591, 11.102564916700036, 11.10199625106194, 9.254918561650177, 9.254633367216526, 9.254508433099064, 9.254140523663509, 7.407198969359046, 7.40624774683714, 3.7108520737923394, 1.8626211132342239, 101.95066872897695, 0.014439122403246001, 0.014439122403246001, 0.014439122403246001, 0.014439122403246001, 0.014439122403246001, 0.014439122403246001, 208.6566526036687, 0.014439122403246001, 0.014439122403246001, 0.014439122403246001, 0.014439122403246001, 0.014439122403246001, 0.014439122403246001, 0.014439122403246001, 0.014439122403246001, 0.014439122403246001, 0.014439122403246001, 0.014439122403246001, 38.22466593703595, 35.28566245095354, 23.529173681885812, 23.528638241223753, 20.591632554970058, 20.59067532850345, 20.589608235674582, 17.6504569982774, 17.6504468956234, 14.71174775199277, 11.7722694411723, 11.771260438603939, 8.834200450584989, 8.832345982159907, 8.832219067569017, 5.895391440592094, 5.894951343727171, 5.89327872307411, 5.8932578863502325, 5.893212424407228, 5.892805792583682, 2.9542619772583176, 2.954062134133858, 2.9537426377010725, 0.014439136122975708, 0.014439122403246001, 0.014439122403246001, 0.014439122403246001, 0.014439122403246001, 0.014439122403246001, 0.014439122403246001, 0.014439122403246001, 0.014439122403246001, 0.014439122403246001, 0.014439122403246001, 67.87281588983973, 10.067141949955124, 10.067053585170028, 7.554638327695069, 7.55363038004641, 5.041374179184624, 2.529029024439174, 208.6566526036687, 0.014439122403246001, 0.014439122403246001, 0.014439122403246001, 0.014439122403246001, 0.014439122403246001, 0.014439122403246001, 0.014439122403246001, 0.014439122403246001, 0.014439122403246001, 0.014439122403246001, 0.014439122403246001, 0.014439122403246001, 0.014439122403246001, 0.014439122403246001, 0.014439122403246001, 0.014439122403246001, 0.014439122403246001, 0.014439122403246001, 0.014439122403246001, 0.014439122403246001, 0.014439122403246001, 0.014439122403246001, 0.014439122403246001, 0.014439122403246001, 0.014439122403246001, 0.014439122403246001, 0.014439122403246001, 0.014439122403246001, 0.014439122403246001, 0.014439122403246001, 0.014439122403246001, 0.014439122403246001, 0.014439122403246001, 0.014439122403246001, 0.014439122403246001, 0.014439122403246001, 0.014439122403246001, 0.014439122403246001, 0.014439122403246001, 0.014439122403246001, 0.014439122403246001, 0.014439122403246001, 0.014439122403246001, 0.014439122403246001, 39.59913436490424, 19.807057124146045, 17.827864762653757, 15.847613480225215, 13.868839200470456, 11.890163680181253, 11.889792783521715, 11.889324224724012, 9.911100803321586, 9.910937301539718, 9.910316214234099, 7.931876619334839, 7.931090932919958, 5.952448881116306, 3.9725794686212503, 101.95066872897695, 0.014840693194479171, 0.014439122403246001, 0.014439122403246001, 0.014439122403246001, 0.014439122403246001, 0.014439122403246001, 0.014439122403246001, 0.014439122403246001, 0.014439122403246001, 0.014439122403246001, 0.014439122403246001, 0.014439122403246001, 0.014439122403246001, 0.014439122403246001, 0.014439122403246001, 0.014439122403246001, 0.014439122403246001, 0.014439122403246001, 0.014439122403246001, 0.014439122403246001, 0.014439122403246001, 0.014439122403246001, 0.014439122403246001, 0.014439122403246001, 0.014439122403246001, 0.014439122403246001, 43.41549261204183, 43.41460110977062, 36.90603381812296, 36.90520353489183, 32.56437949544098, 13.034905953700369, 13.034059409161722, 13.0337475746763, 6.524677617316703, 4.354894527573379, 4.354641042485535, 0.014439122403246001, 0.014439122403246001, 0.014439122403246001, 0.014439122403246001, 0.014439122403246001, 0.014439122403246001, 0.014439122403246001, 0.014439122403246001, 0.014439122403246001, 0.014439122403246001, 0.014439122403246001, 0.014439122403246001, 0.014439122403246001, 0.014439122403246001, 0.014439122403246001, 0.014439122403246001, 0.014439122403246001, 0.014439122403246001, 0.014439122403246001, 0.014439122403246001, 0.014439122403246001, 0.014439122403246001, 0.014439122403246001, 0.014439122403246001, 0.014439122403246001, 0.014439122403246001, 0.014439122403246001, 0.014439122403246001, 0.014439122403246001, 0.014439122403246001, 0.014439122403246001, 0.014439122403246001, 0.014439122403246001, 0.014439122403246001, 0.014439122403246001, 0.014439122403246001, 0.014439122403246001, 0.014439122403246001, 39.90960399036404, 31.930349188448503, 18.63420737762527, 15.971839584617456, 13.31226310907185, 13.311974640417493, 13.311609525502316, 7.993400716987564, 7.992996582157788, 7.99280357293736, 5.334132916837804, 0.014439122403246001, 0.014439122403246001, 0.014439122403246001, 0.014439122403246001, 0.014439122403246001, 0.014439122403246001, 0.014439122403246001, 0.014439122403246001, 0.014439122403246001, 0.014439122403246001, 0.014439122403246001, 0.014439122403246001, 0.014439122403246001, 0.014439122403246001, 0.014439122403246001, 0.014439122403246001, 0.014439122403246001, 0.014439122403246001, 0.014439122403246001, 0.014439122403246001, 0.014439122403246001, 0.014439122403246001, 0.014439122403246001, 0.014439122403246001, 0.014439122403246001, 0.014439122403246001, 0.014439122403246001, 0.014439122403246001, 0.014439122403246001, 0.014439122403246001, 0.014439122403246001, 0.014439122403246001, 0.014439122403246001, 0.014439122403246001, 0.014439122403246001, 0.014439122403246001, 0.014439122403246001, 0.014439122403246001, 37.20183156059129, 20.039509687303397, 20.038334935425837, 20.038264077376077, 11.457677463872283, 11.456906727190708, 5.73610687101808, 5.736044714834082, 5.736038499215682, 5.735939670883125, 5.7357612826350515, 5.735294489693226, 0.014439122403246001, 0.014439122403246001, 0.014439122403246001, 0.014439122403246001, 0.014439122403246001, 0.014439122403246001, 0.014439122403246001, 0.014439122403246001, 0.014439122403246001, 0.014439122403246001, 0.014439122403246001, 0.014439122403246001, 0.014439122403246001, 0.014439122403246001, 0.014439122403246001, 0.014439122403246001, 0.014439122403246001, 0.014439122403246001, 0.014439122403246001, 0.014439122403246001, 0.014439122403246001, 0.014439122403246001, 0.014439122403246001, 0.014439122403246001, 0.014439122403246001, 0.014439122403246001, 0.014439122403246001, 0.014439122403246001, 0.014439122403246001, 0.014439122403246001, 0.014439122403246001, 0.014439122403246001, 0.014439122403246001, 0.014439122403246001, 0.014439122403246001, 40.487172598188906, 15.19374594613611, 15.192916151097165, 12.663086089352735, 12.662554501905912, 10.13353802826607, 7.604009955731774, 5.074158824972684, 5.0741458594252, 5.0737936287185645, 5.073766076930163, 0.014439122403246001, 0.014439122403246001, 0.014439122403246001, 0.014439122403246001, 0.014439122403246001, 0.014439122403246001, 0.014439122403246001, 0.014439122403246001, 0.014439122403246001, 0.014439122403246001, 0.014439122403246001, 0.014439122403246001, 0.014439122403246001, 0.014439122403246001, 0.014439122403246001, 0.014439122403246001, 0.014439122403246001, 0.014439122403246001, 0.014439122403246001, 0.014439122403246001, 0.014439122403246001, 0.014439122403246001, 0.014439122403246001, 0.014439122403246001, 0.014439122403246001, 0.014439122403246001, 0.014439122403246001, 0.014439122403246001, 0.014439122403246001, 0.014439122403246001, 0.014439122403246001, 0.014439122403246001, 0.014439122403246001, 0.014439122403246001, 0.014439122403246001, 0.014439122403246001, 0.014439122403246001, 0.014439122403246001, 29.437963175259824, 26.16815254464631, 22.898488795698746, 9.824599490587932, 9.82221045144302, 6.552461316466759, 0.014439168200075675, 0.014439122403246001, 0.014439122403246001, 0.014439122403246001, 0.014439122403246001, 0.014439122403246001, 0.014439122403246001, 0.014439122403246001, 0.014439122403246001, 0.014439122403246001, 0.014439122403246001, 0.014439122403246001, 0.014439122403246001, 0.014439122403246001, 0.014439122403246001, 0.014439122403246001, 0.014439122403246001, 0.014439122403246001, 0.014439122403246001, 0.014439122403246001, 0.014439122403246001, 0.014439122403246001, 0.014439122403246001, 0.014439122403246001, 0.014439122403246001, 0.014439122403246001, 0.014439122403246001, 0.014439122403246001, 0.014439122403246001, 0.014439122403246001, 0.014439122403246001, 0.014439122403246001, 0.014439122403246001, 0.014439122403246001, 0.014439122403246001, 0.014439122403246001, 0.014439122403246001, 0.014439122403246001, 0.014439122403246001, 0.014439122403246001, 0.014439122403246001, 0.014439122403246001, 0.014439122403246001, 0.014439122403246001, 0.014439122403246001, 0.014439122403246001, 0.014439122403246001], \"Category\": [\"Default\", \"Default\", \"Default\", \"Default\", \"Default\", \"Default\", \"Default\", \"Default\", \"Default\", \"Default\", \"Default\", \"Default\", \"Default\", \"Default\", \"Default\", \"Default\", \"Default\", \"Default\", \"Default\", \"Default\", \"Default\", \"Default\", \"Default\", \"Default\", \"Default\", \"Default\", \"Default\", \"Default\", \"Default\", \"Default\", \"Topic1\", \"Topic1\", \"Topic1\", \"Topic1\", \"Topic1\", \"Topic1\", \"Topic1\", \"Topic1\", \"Topic1\", \"Topic1\", \"Topic1\", \"Topic1\", \"Topic1\", \"Topic1\", \"Topic1\", \"Topic1\", \"Topic1\", \"Topic1\", \"Topic1\", \"Topic1\", \"Topic1\", \"Topic1\", \"Topic1\", \"Topic1\", \"Topic1\", \"Topic1\", \"Topic1\", \"Topic1\", \"Topic1\", \"Topic1\", \"Topic1\", \"Topic1\", \"Topic1\", \"Topic1\", \"Topic1\", \"Topic1\", \"Topic1\", \"Topic1\", \"Topic1\", \"Topic1\", \"Topic2\", \"Topic2\", \"Topic2\", \"Topic2\", \"Topic2\", \"Topic2\", \"Topic2\", \"Topic2\", \"Topic2\", \"Topic2\", \"Topic2\", \"Topic2\", \"Topic2\", \"Topic2\", \"Topic2\", \"Topic2\", \"Topic2\", \"Topic2\", \"Topic2\", \"Topic2\", \"Topic2\", \"Topic2\", \"Topic2\", \"Topic2\", \"Topic2\", \"Topic2\", \"Topic2\", \"Topic2\", \"Topic2\", \"Topic2\", \"Topic2\", \"Topic2\", \"Topic2\", \"Topic2\", \"Topic2\", \"Topic2\", \"Topic2\", \"Topic2\", \"Topic2\", \"Topic2\", \"Topic2\", \"Topic2\", \"Topic3\", \"Topic3\", \"Topic3\", \"Topic3\", \"Topic3\", \"Topic3\", \"Topic3\", \"Topic3\", \"Topic3\", \"Topic3\", \"Topic3\", \"Topic3\", \"Topic3\", \"Topic3\", \"Topic3\", \"Topic3\", \"Topic3\", \"Topic3\", \"Topic3\", \"Topic3\", \"Topic3\", \"Topic3\", \"Topic3\", \"Topic3\", \"Topic3\", \"Topic3\", \"Topic3\", \"Topic3\", \"Topic3\", \"Topic3\", \"Topic3\", \"Topic3\", \"Topic3\", \"Topic3\", \"Topic3\", \"Topic4\", \"Topic4\", \"Topic4\", \"Topic4\", \"Topic4\", \"Topic4\", \"Topic4\", \"Topic4\", \"Topic4\", \"Topic4\", \"Topic4\", \"Topic4\", \"Topic4\", \"Topic4\", \"Topic4\", \"Topic4\", \"Topic4\", \"Topic4\", \"Topic4\", \"Topic4\", \"Topic4\", \"Topic4\", \"Topic4\", \"Topic4\", \"Topic4\", \"Topic4\", \"Topic4\", \"Topic4\", \"Topic4\", \"Topic4\", \"Topic4\", \"Topic4\", \"Topic4\", \"Topic4\", \"Topic4\", \"Topic4\", \"Topic4\", \"Topic4\", \"Topic4\", \"Topic4\", \"Topic4\", \"Topic4\", \"Topic4\", \"Topic4\", \"Topic4\", \"Topic4\", \"Topic4\", \"Topic4\", \"Topic4\", \"Topic4\", \"Topic4\", \"Topic4\", \"Topic5\", \"Topic5\", \"Topic5\", \"Topic5\", \"Topic5\", \"Topic5\", \"Topic5\", \"Topic5\", \"Topic5\", \"Topic5\", \"Topic5\", \"Topic5\", \"Topic5\", \"Topic5\", \"Topic5\", \"Topic5\", \"Topic5\", \"Topic5\", \"Topic5\", \"Topic5\", \"Topic5\", \"Topic5\", \"Topic5\", \"Topic5\", \"Topic5\", \"Topic5\", \"Topic5\", \"Topic5\", \"Topic5\", \"Topic5\", \"Topic5\", \"Topic5\", \"Topic5\", \"Topic5\", \"Topic5\", \"Topic5\", \"Topic5\", \"Topic5\", \"Topic5\", \"Topic5\", \"Topic5\", \"Topic5\", \"Topic6\", \"Topic6\", \"Topic6\", \"Topic6\", \"Topic6\", \"Topic6\", \"Topic6\", \"Topic6\", \"Topic6\", \"Topic6\", \"Topic6\", \"Topic6\", \"Topic6\", \"Topic6\", \"Topic6\", \"Topic6\", \"Topic6\", \"Topic6\", \"Topic6\", \"Topic6\", \"Topic6\", \"Topic6\", \"Topic6\", \"Topic6\", \"Topic6\", \"Topic6\", \"Topic6\", \"Topic6\", \"Topic6\", \"Topic6\", \"Topic6\", \"Topic6\", \"Topic6\", \"Topic6\", \"Topic6\", \"Topic6\", \"Topic6\", \"Topic6\", \"Topic6\", \"Topic6\", \"Topic6\", \"Topic6\", \"Topic6\", \"Topic6\", \"Topic6\", \"Topic6\", \"Topic6\", \"Topic6\", \"Topic6\", \"Topic7\", \"Topic7\", \"Topic7\", \"Topic7\", \"Topic7\", \"Topic7\", \"Topic7\", \"Topic7\", \"Topic7\", \"Topic7\", \"Topic7\", \"Topic7\", \"Topic7\", \"Topic7\", \"Topic7\", \"Topic7\", \"Topic7\", \"Topic7\", \"Topic7\", \"Topic7\", \"Topic7\", \"Topic7\", \"Topic7\", \"Topic7\", \"Topic7\", \"Topic7\", \"Topic7\", \"Topic7\", \"Topic7\", \"Topic7\", \"Topic7\", \"Topic7\", \"Topic7\", \"Topic7\", \"Topic7\", \"Topic7\", \"Topic7\", \"Topic7\", \"Topic7\", \"Topic7\", \"Topic7\", \"Topic7\", \"Topic7\", \"Topic7\", \"Topic7\", \"Topic7\", \"Topic7\", \"Topic7\", \"Topic7\", \"Topic8\", \"Topic8\", \"Topic8\", \"Topic8\", \"Topic8\", \"Topic8\", \"Topic8\", \"Topic8\", \"Topic8\", \"Topic8\", \"Topic8\", \"Topic8\", \"Topic8\", \"Topic8\", \"Topic8\", \"Topic8\", \"Topic8\", \"Topic8\", \"Topic8\", \"Topic8\", \"Topic8\", \"Topic8\", \"Topic8\", \"Topic8\", \"Topic8\", \"Topic8\", \"Topic8\", \"Topic8\", \"Topic8\", \"Topic8\", \"Topic8\", \"Topic8\", \"Topic8\", \"Topic8\", \"Topic8\", \"Topic8\", \"Topic8\", \"Topic8\", \"Topic8\", \"Topic8\", \"Topic8\", \"Topic8\", \"Topic8\", \"Topic8\", \"Topic8\", \"Topic8\", \"Topic8\", \"Topic9\", \"Topic9\", \"Topic9\", \"Topic9\", \"Topic9\", \"Topic9\", \"Topic9\", \"Topic9\", \"Topic9\", \"Topic9\", \"Topic9\", \"Topic9\", \"Topic9\", \"Topic9\", \"Topic9\", \"Topic9\", \"Topic9\", \"Topic9\", \"Topic9\", \"Topic9\", \"Topic9\", \"Topic9\", \"Topic9\", \"Topic9\", \"Topic9\", \"Topic9\", \"Topic9\", \"Topic9\", \"Topic9\", \"Topic9\", \"Topic9\", \"Topic9\", \"Topic9\", \"Topic9\", \"Topic9\", \"Topic9\", \"Topic9\", \"Topic9\", \"Topic9\", \"Topic9\", \"Topic9\", \"Topic9\", \"Topic9\", \"Topic9\", \"Topic9\", \"Topic9\", \"Topic9\", \"Topic9\", \"Topic9\", \"Topic10\", \"Topic10\", \"Topic10\", \"Topic10\", \"Topic10\", \"Topic10\", \"Topic10\", \"Topic10\", \"Topic10\", \"Topic10\", \"Topic10\", \"Topic10\", \"Topic10\", \"Topic10\", \"Topic10\", \"Topic10\", \"Topic10\", \"Topic10\", \"Topic10\", \"Topic10\", \"Topic10\", \"Topic10\", \"Topic10\", \"Topic10\", \"Topic10\", \"Topic10\", \"Topic10\", \"Topic10\", \"Topic10\", \"Topic10\", \"Topic10\", \"Topic10\", \"Topic10\", \"Topic10\", \"Topic10\", \"Topic10\", \"Topic10\", \"Topic10\", \"Topic10\", \"Topic10\", \"Topic10\", \"Topic10\", \"Topic10\", \"Topic10\", \"Topic10\", \"Topic10\", \"Topic10\", \"Topic10\", \"Topic10\", \"Topic10\", \"Topic10\", \"Topic10\", \"Topic10\"], \"logprob\": [30.0, 29.0, 28.0, 27.0, 26.0, 25.0, 24.0, 23.0, 22.0, 21.0, 20.0, 19.0, 18.0, 17.0, 16.0, 15.0, 14.0, 13.0, 12.0, 11.0, 10.0, 9.0, 8.0, 7.0, 6.0, 5.0, 4.0, 3.0, 2.0, 1.0, -1.0871000289916992, -2.4793999195098877, -2.974100112915039, -2.974100112915039, -2.974100112915039, -3.014899969100952, -3.014899969100952, -3.014899969100952, -3.057499885559082, -3.057499885559082, -3.3025999069213867, -3.4203999042510986, -3.553999900817871, -3.995800018310547, -3.995800018310547, -4.247099876403809, -4.401199817657471, -4.583499908447266, -5.499599933624268, -13.614399909973145, -13.614399909973145, -13.614399909973145, -13.614399909973145, -13.614399909973145, -13.614399909973145, -13.614399909973145, -13.614399909973145, -13.614399909973145, -13.614399909973145, -13.614399909973145, -13.614399909973145, -13.614399909973145, -13.614399909973145, -13.614399909973145, -13.614399909973145, -13.614399909973145, -13.614399909973145, -13.614399909973145, -13.614399909973145, -13.614399909973145, -1.8590999841690063, -2.0569000244140625, -2.578200101852417, -2.8145999908447266, -2.8835999965667725, -3.0376999378204346, -3.2200000286102295, -3.220099925994873, -3.3254001140594482, -3.44320011138916, -3.57669997215271, -3.57669997215271, -3.730799913406372, -3.730799913406372, -3.7309000492095947, -3.913100004196167, -3.913100004196167, -3.913100004196167, -3.9131999015808105, -4.136199951171875, -4.136300086975098, -4.829100131988525, -5.521999835968018, -3.507699966430664, -12.944100379943848, -12.944100379943848, -12.944100379943848, -12.944100379943848, -12.944100379943848, -12.944100379943848, -3.509999990463257, -12.944100379943848, -12.944100379943848, -12.944100379943848, -12.944100379943848, -12.944100379943848, -12.944100379943848, -12.944100379943848, -12.944100379943848, -12.944100379943848, -12.944100379943848, -12.944100379943848, -2.182800054550171, -2.2627999782562256, -2.668299913406372, -2.668299913406372, -2.8017001152038574, -2.8017001152038574, -2.801800012588501, -2.955899953842163, -2.955899953842163, -3.138200044631958, -3.361299991607666, -3.3613998889923096, -3.6487998962402344, -3.6489999294281006, -3.6489999294281006, -4.053899765014648, -4.053999900817871, -4.054299831390381, -4.054299831390381, -4.054299831390381, -4.0543999671936035, -4.747000217437744, -4.747099876403809, -4.747200012207031, -12.169099807739258, -12.169099807739258, -12.169099807739258, -12.169099807739258, -12.169099807739258, -12.169099807739258, -12.169099807739258, -12.169099807739258, -12.169099807739258, -12.169099807739258, -12.169099807739258, -1.539199948310852, -3.4486000537872314, -3.4486000537872314, -3.7360999584198, -3.736299991607666, -4.141499996185303, -4.833899974822998, -0.484499990940094, -12.256400108337402, -12.256400108337402, -12.256400108337402, -12.256400108337402, -12.256400108337402, -12.256400108337402, -12.256400108337402, -12.256400108337402, -12.256400108337402, -12.256400108337402, -12.256400108337402, -12.256400108337402, -12.256400108337402, -12.256400108337402, -12.256400108337402, -12.256400108337402, -12.256400108337402, -12.256400108337402, -12.256400108337402, -12.256400108337402, -12.256400108337402, -12.256400108337402, -12.256400108337402, -12.256400108337402, -12.256400108337402, -12.256400108337402, -12.256400108337402, -12.256400108337402, -12.256400108337402, -12.256400108337402, -12.256400108337402, -12.256400108337402, -12.256400108337402, -12.256400108337402, -12.256400108337402, -12.256400108337402, -12.256400108337402, -12.256400108337402, -12.256400108337402, -12.256400108337402, -12.256400108337402, -12.256400108337402, -12.256400108337402, -12.256400108337402, -2.006999969482422, -2.7000999450683594, -2.805500030517578, -2.92330002784729, -3.05679988861084, -3.210900068283081, -3.210900068283081, -3.2109999656677246, -3.393199920654297, -3.393199920654297, -3.3933000564575195, -3.616300106048584, -3.6164000034332275, -3.903899908065796, -4.3094000816345215, -1.2072999477386475, -12.132100105285645, -12.424099922180176, -12.424099922180176, -12.424099922180176, -12.424099922180176, -12.424099922180176, -12.424099922180176, -12.424099922180176, -12.424099922180176, -12.424099922180176, -12.424099922180176, -12.424099922180176, -12.424099922180176, -12.424099922180176, -12.424099922180176, -12.424099922180176, -12.424099922180176, -12.424099922180176, -12.424099922180176, -12.424099922180176, -12.424099922180176, -12.424099922180176, -12.424099922180176, -12.424099922180176, -12.424099922180176, -12.424099922180176, -1.7776999473571777, -1.7776999473571777, -1.9401999711990356, -1.9401999711990356, -2.0653998851776123, -2.981600046157837, -2.981600046157837, -2.9816999435424805, -3.6745998859405518, -4.079899787902832, -4.079999923706055, -12.19480037689209, -12.19480037689209, -12.19480037689209, -12.19480037689209, -12.19480037689209, -12.19480037689209, -12.19480037689209, -12.19480037689209, -12.19480037689209, -12.19480037689209, -12.19480037689209, -12.19480037689209, -12.19480037689209, -12.19480037689209, -12.19480037689209, -12.19480037689209, -12.19480037689209, -12.19480037689209, -12.19480037689209, -12.19480037689209, -12.19480037689209, -12.19480037689209, -12.19480037689209, -12.19480037689209, -12.19480037689209, -12.19480037689209, -12.19480037689209, -12.19480037689209, -12.19480037689209, -12.19480037689209, -12.19480037689209, -12.19480037689209, -12.19480037689209, -12.19480037689209, -12.19480037689209, -12.19480037689209, -12.19480037689209, -12.19480037689209, -1.5449999570846558, -1.7682000398635864, -2.306999921798706, -2.4612998962402344, -2.6435999870300293, -2.6435999870300293, -2.643699884414673, -3.1542999744415283, -3.154400110244751, -3.154400110244751, -3.5596001148223877, -11.674500465393066, -11.674500465393066, -11.674500465393066, -11.674500465393066, -11.674500465393066, -11.674500465393066, -11.674500465393066, -11.674500465393066, -11.674500465393066, -11.674500465393066, -11.674500465393066, -11.674500465393066, -11.674500465393066, -11.674500465393066, -11.674500465393066, -11.674500465393066, -11.674500465393066, -11.674500465393066, -11.674500465393066, -11.674500465393066, -11.674500465393066, -11.674500465393066, -11.674500465393066, -11.674500465393066, -11.674500465393066, -11.674500465393066, -11.674500465393066, -11.674500465393066, -11.674500465393066, -11.674500465393066, -11.674500465393066, -11.674500465393066, -11.674500465393066, -11.674500465393066, -11.674500465393066, -11.674500465393066, -11.674500465393066, -11.674500465393066, -1.501099944114685, -2.119999885559082, -2.1201000213623047, -2.1201000213623047, -2.679500102996826, -2.6796000003814697, -3.372499942779541, -3.372499942779541, -3.372499942779541, -3.3726000785827637, -3.3726000785827637, -3.3726999759674072, -11.48740005493164, -11.48740005493164, -11.48740005493164, -11.48740005493164, -11.48740005493164, -11.48740005493164, -11.48740005493164, -11.48740005493164, -11.48740005493164, -11.48740005493164, -11.48740005493164, -11.48740005493164, -11.48740005493164, -11.48740005493164, -11.48740005493164, -11.48740005493164, -11.48740005493164, -11.48740005493164, -11.48740005493164, -11.48740005493164, -11.48740005493164, -11.48740005493164, -11.48740005493164, -11.48740005493164, -11.48740005493164, -11.48740005493164, -11.48740005493164, -11.48740005493164, -11.48740005493164, -11.48740005493164, -11.48740005493164, -11.48740005493164, -11.48740005493164, -11.48740005493164, -11.48740005493164, -1.2762000560760498, -2.2567999362945557, -2.2569000720977783, -2.439199924468994, -2.439199924468994, -2.6623001098632812, -2.949899911880493, -3.3552000522613525, -3.3552000522613525, -3.355299949645996, -3.355299949645996, -11.470100402832031, -11.470100402832031, -11.470100402832031, -11.470100402832031, -11.470100402832031, -11.470100402832031, -11.470100402832031, -11.470100402832031, -11.470100402832031, -11.470100402832031, -11.470100402832031, -11.470100402832031, -11.470100402832031, -11.470100402832031, -11.470100402832031, -11.470100402832031, -11.470100402832031, -11.470100402832031, -11.470100402832031, -11.470100402832031, -11.470100402832031, -11.470100402832031, -11.470100402832031, -11.470100402832031, -11.470100402832031, -11.470100402832031, -11.470100402832031, -11.470100402832031, -11.470100402832031, -11.470100402832031, -11.470100402832031, -11.470100402832031, -11.470100402832031, -11.470100402832031, -11.470100402832031, -11.470100402832031, -11.470100402832031, -11.470100402832031, -1.3952000141143799, -1.5130000114440918, -1.6466000080108643, -2.493499994277954, -2.4937000274658203, -2.899199962615967, -11.013899803161621, -11.013899803161621, -11.013899803161621, -11.013899803161621, -11.013899803161621, -11.013899803161621, -11.013899803161621, -11.013899803161621, -11.013899803161621, -11.013899803161621, -11.013899803161621, -11.013899803161621, -11.013899803161621, -11.013899803161621, -11.013899803161621, -11.013899803161621, -11.013899803161621, -11.013899803161621, -11.013899803161621, -11.013899803161621, -11.013899803161621, -11.013899803161621, -11.013899803161621, -11.013899803161621, -11.013899803161621, -11.013899803161621, -11.013899803161621, -11.013899803161621, -11.013899803161621, -11.013899803161621, -11.013899803161621, -11.013899803161621, -11.013899803161621, -11.013899803161621, -11.013899803161621, -11.013899803161621, -11.013899803161621, -11.013899803161621, -11.013899803161621, -11.013899803161621, -11.013899803161621, -11.013899803161621, -11.013899803161621, -11.013899803161621, -11.013899803161621, -11.013899803161621, -11.013899803161621], \"loglift\": [30.0, 29.0, 28.0, 27.0, 26.0, 25.0, 24.0, 23.0, 22.0, 21.0, 20.0, 19.0, 18.0, 17.0, 16.0, 15.0, 14.0, 13.0, 12.0, 11.0, 10.0, 9.0, 8.0, 7.0, 6.0, 5.0, 4.0, 3.0, 2.0, 1.0, 1.4878, 1.4876, 1.4875, 1.4875, 1.4875, 1.4875, 1.4875, 1.4875, 1.4874, 1.4874, 1.4873, 1.4873, 1.4872, 1.4868, 1.4868, 1.4865, 1.4862, 1.4859, 1.4829, -1.3856, -1.3857, -1.3857, -1.3857, -1.3857, -1.3857, -1.3857, -1.3857, -1.3857, -1.3857, -1.3857, -1.3857, -1.3857, -1.3857, -1.3857, -1.3857, -1.3857, -1.3857, -1.3857, -1.3857, -1.3857, 1.8539, 1.8539, 1.8537, 1.8536, 1.8536, 1.8535, 1.8534, 1.8534, 1.8533, 1.8532, 1.8531, 1.8531, 1.8529, 1.8529, 1.8529, 1.8527, 1.8527, 1.8527, 1.8527, 1.8523, 1.8523, 1.8505, 1.8469, -0.1413, -0.7153, -0.7153, -0.7153, -0.7153, -0.7153, -0.7153, -0.8598, -0.7153, -0.7153, -0.7153, -0.7153, -0.7153, -0.7153, -0.7153, -0.7153, -0.7153, -0.7153, -0.7153, 2.1646, 2.1646, 2.1644, 2.1644, 2.1643, 2.1643, 2.1643, 2.1642, 2.1642, 2.1641, 2.1639, 2.1639, 2.1635, 2.1635, 2.1635, 2.1628, 2.1628, 2.1628, 2.1628, 2.1628, 2.1628, 2.1606, 2.1606, 2.1606, 0.0596, 0.0596, 0.0596, 0.0596, 0.0596, 0.0596, 0.0596, 0.0596, 0.0596, 0.0596, 0.0596, 2.2341, 2.233, 2.233, 2.2326, 2.2326, 2.2318, 2.2292, 2.1657, -0.0277, -0.0277, -0.0277, -0.0277, -0.0277, -0.0277, -0.0277, -0.0277, -0.0277, -0.0277, -0.0277, -0.0277, -0.0277, -0.0277, -0.0277, -0.0277, -0.0277, -0.0277, -0.0277, -0.0277, -0.0277, -0.0277, -0.0277, -0.0277, -0.0277, -0.0277, -0.0277, -0.0277, -0.0277, -0.0277, -0.0277, -0.0277, -0.0277, -0.0277, -0.0277, -0.0277, -0.0277, -0.0277, -0.0277, -0.0277, -0.0277, -0.0277, -0.0277, -0.0277, 2.3051, 2.3048, 2.3047, 2.3046, 2.3045, 2.3043, 2.3043, 2.3043, 2.3041, 2.3041, 2.3041, 2.3038, 2.3038, 2.3032, 2.3021, 2.1591, 0.0691, -0.1954, -0.1954, -0.1954, -0.1954, -0.1954, -0.1954, -0.1954, -0.1954, -0.1954, -0.1954, -0.1954, -0.1954, -0.1954, -0.1954, -0.1954, -0.1954, -0.1954, -0.1954, -0.1954, -0.1954, -0.1954, -0.1954, -0.1954, -0.1954, -0.1954, 2.4424, 2.4424, 2.4424, 2.4424, 2.4423, 2.4417, 2.4417, 2.4417, 2.4407, 2.4397, 2.4397, 0.0339, 0.0339, 0.0339, 0.0339, 0.0339, 0.0339, 0.0339, 0.0339, 0.0339, 0.0339, 0.0339, 0.0339, 0.0339, 0.0339, 0.0339, 0.0339, 0.0339, 0.0339, 0.0339, 0.0339, 0.0339, 0.0339, 0.0339, 0.0339, 0.0339, 0.0339, 0.0339, 0.0339, 0.0339, 0.0339, 0.0339, 0.0339, 0.0339, 0.0339, 0.0339, 0.0339, 0.0339, 0.0339, 2.7593, 2.7592, 2.7589, 2.7588, 2.7586, 2.7586, 2.7586, 2.758, 2.758, 2.758, 2.7572, 0.5542, 0.5542, 0.5542, 0.5542, 0.5542, 0.5542, 0.5542, 0.5542, 0.5542, 0.5542, 0.5542, 0.5542, 0.5542, 0.5542, 0.5542, 0.5542, 0.5542, 0.5542, 0.5542, 0.5542, 0.5542, 0.5542, 0.5542, 0.5542, 0.5542, 0.5542, 0.5542, 0.5542, 0.5542, 0.5542, 0.5542, 0.5542, 0.5542, 0.5542, 0.5542, 0.5542, 0.5542, 0.5542, 2.8735, 2.8732, 2.8732, 2.8732, 2.8727, 2.8727, 2.8716, 2.8716, 2.8716, 2.8716, 2.8716, 2.8716, 0.7413, 0.7413, 0.7413, 0.7413, 0.7413, 0.7413, 0.7413, 0.7413, 0.7413, 0.7413, 0.7413, 0.7413, 0.7413, 0.7413, 0.7413, 0.7413, 0.7413, 0.7413, 0.7413, 0.7413, 0.7413, 0.7413, 0.7413, 0.7413, 0.7413, 0.7413, 0.7413, 0.7413, 0.7413, 0.7413, 0.7413, 0.7413, 0.7413, 0.7413, 0.7413, 3.0137, 3.0132, 3.0132, 3.013, 3.013, 3.0128, 3.0124, 3.0115, 3.0115, 3.0115, 3.0115, 0.7586, 0.7586, 0.7586, 0.7586, 0.7586, 0.7586, 0.7586, 0.7586, 0.7586, 0.7586, 0.7586, 0.7586, 0.7586, 0.7586, 0.7586, 0.7586, 0.7586, 0.7586, 0.7586, 0.7586, 0.7586, 0.7586, 0.7586, 0.7586, 0.7586, 0.7586, 0.7586, 0.7586, 0.7586, 0.7586, 0.7586, 0.7586, 0.7586, 0.7586, 0.7586, 0.7586, 0.7586, 0.7586, 3.2134, 3.2133, 3.2133, 3.2125, 3.2125, 3.2119, 1.2148, 1.2148, 1.2148, 1.2148, 1.2148, 1.2148, 1.2148, 1.2148, 1.2148, 1.2148, 1.2148, 1.2148, 1.2148, 1.2148, 1.2148, 1.2148, 1.2148, 1.2148, 1.2148, 1.2148, 1.2148, 1.2148, 1.2148, 1.2148, 1.2148, 1.2148, 1.2148, 1.2148, 1.2148, 1.2148, 1.2148, 1.2148, 1.2148, 1.2148, 1.2148, 1.2148, 1.2148, 1.2148, 1.2148, 1.2148, 1.2148, 1.2148, 1.2148, 1.2148, 1.2148, 1.2148, 1.2148]}, \"token.table\": {\"Topic\": [4, 5, 5, 9, 8, 2, 10, 6, 9, 6, 5, 2, 5, 3, 5, 2, 1, 7, 7, 2, 5, 3, 9, 8, 3, 1, 9, 3, 3, 3, 1, 3, 4, 8, 5, 1, 2, 2, 4, 10, 8, 2, 4, 3, 6, 3, 5, 1, 1, 6, 2, 6, 6, 1, 8, 8, 1, 8, 3, 2, 2, 6, 2, 2, 5, 2, 7, 2, 7, 3, 2, 1, 7, 1, 1, 9, 5, 2, 2, 10, 4, 2, 5, 9, 6, 6, 9, 7, 9, 1, 3, 3, 3, 1, 6, 3, 2, 2, 5, 5, 5, 1, 5, 7, 8, 8, 3, 2, 7, 5, 3, 7, 9, 9, 8, 4, 9, 10, 3, 3, 4, 3, 4, 1, 10, 1, 7, 3, 7, 6, 8, 1, 1, 2, 10, 8, 2, 2, 3, 3, 3, 2, 1], \"Freq\": [0.9933305847589222, 1.008986304297016, 1.0089696592177348, 1.0266059875349458, 1.046005615815014, 0.9908128008012808, 0.9935741529953472, 0.9974107543142949, 1.0266490855414123, 0.9904501918899973, 1.0096157393013738, 0.9724558827879384, 1.0097411177563953, 1.017820105739229, 1.0092375784533416, 1.009550980941332, 1.0080349578449808, 1.00082559141548, 0.9373594692807382, 0.972485850372146, 1.0069024500567805, 1.0189964640989326, 0.9879672358693998, 1.046016950405442, 1.0156605933463891, 1.0462180770777532, 0.9868221712995418, 1.0200335333453505, 1.0198036233144963, 1.0181906906810378, 0.9970542676543089, 1.0189818218374518, 1.1862260065066932, 0.960119538539462, 1.00945722981092, 0.9880943804809807, 0.9988131529295341, 0.9724989787476117, 0.9933393038387314, 1.01785319692473, 0.9980284104791032, 0.06709587173619713, 0.9345496420398887, 1.0181089817639273, 0.9973221169508738, 1.0193446607695908, 1.0101230908585477, 1.00007428082904, 1.0015096537370913, 1.0728499414931667, 0.9451479668620821, 0.9185602121907358, 0.9904298537907966, 1.0080292946723735, 1.0460180838779953, 1.0460686392519383, 0.9762069373556687, 0.9980904494906184, 1.0155507446290093, 0.9732739486281629, 0.9725376416087855, 0.9185067456108674, 1.0212340032059617, 0.9907505958665809, 1.0093088364976905, 0.9974291449518987, 0.9765643603714296, 1.0136132673027558, 1.0008761942746034, 0.9941224878876372, 0.991412447615884, 1.0944359876852996, 1.0021813357298546, 0.9768065790552899, 1.0080349578449808, 0.9854612775181795, 1.0085885577820388, 1.0779195506740216, 1.0043949622114203, 1.0044330962277441, 0.9917930751191899, 0.1373213160299835, 0.8631625579027534, 0.987248309480561, 1.0133772088186113, 1.0025686476710132, 1.0520764763031032, 0.9765431988150044, 0.9854559262519311, 1.0246825334297007, 1.0194320364067309, 1.0187679179731577, 0.9919042911168069, 0.9970597905640572, 0.9973868916741486, 1.0154820469862762, 1.003808094652679, 0.9964062686887414, 1.009049538261664, 1.0092690611589987, 1.0086884727035492, 0.994658755710199, 1.0096554040339614, 1.0009003633076892, 1.0461537782902814, 1.0460361064216388, 1.0198042070234083, 1.003809764250298, 0.9765911458786907, 1.007988496807515, 1.0195933381177085, 1.0022650189577873, 0.9873022302513508, 0.9853875191058068, 0.9980869201183944, 1.0590933892043108, 0.9853850012325771, 0.9851225041402356, 1.018112581480101, 1.019879128050255, 1.058952083870415, 1.0199319850882036, 1.001873859342549, 0.9970591365320776, 1.068300850919722, 0.9880943804809807, 1.0017631291144238, 1.0181204354946554, 1.0196301680539388, 1.0025460926617074, 0.9600549530814245, 0.976784643814602, 1.0078338246844016, 0.9907620520600819, 1.0181007675854532, 0.9945746875321835, 0.9732236204436416, 1.07375567998756, 1.0177441244507759, 1.0200103209946831, 1.019831717759133, 0.9450265922323022, 1.01807505645177], \"Term\": [\"accessory\", \"actor\", \"actress\", \"airport\", \"artist\", \"award\", \"baby\", \"bag\", \"beach\", \"beauty\", \"bikini\", \"birthday\", \"blogger\", \"body\", \"bollywood\", \"book\", \"breakfast\", \"call\", \"card\", \"carpet\", \"celebrity\", \"center\", \"champagne\", \"city\", \"clip\", \"coeur\", \"collection\", \"comment\", \"contact\", \"day\", \"dinner\", \"discount\", \"dress\", \"eats\", \"entertainment\", \"ephoto\", \"event\", \"eventdate\", \"face\", \"family\", \"fan\", \"fashion\", \"fashion\", \"feature\", \"film\", \"fitness\", \"follow\", \"food\", \"foodie\", \"friend\", \"game\", \"ganesha\", \"glan\", \"gourmand\", \"gourmet\", \"gram\", \"guide\", \"hair\", \"help\", \"hollywood\", \"hour\", \"house\", \"image\", \"influencer\", \"jeff\", \"jones\", \"kapoor\", \"keywords\", \"khan\", \"life\", \"location\", \"lorraine\", \"love\", \"luberon\", \"lunch\", \"luxury\", \"malik\", \"management\", \"medium\", \"miami\", \"moda\", \"model\", \"model\", \"movie\", \"mumbai\", \"navman\", \"night\", \"outfit\", \"paparazzo\", \"paris\", \"party\", \"people\", \"photographer\", \"pic\", \"picture\", \"pink\", \"place\", \"post\", \"power\", \"print\", \"promo\", \"provence\", \"punjabi\", \"release\", \"repost\", \"restaurant\", \"rite\", \"runway\", \"season\", \"session\", \"share\", \"shoot\", \"shot\", \"snap\", \"song\", \"sponsor\", \"spot\", \"star\", \"stay\", \"story\", \"street\", \"studio\", \"style\", \"sweet\", \"swipe\", \"tasty\", \"team\", \"thing\", \"time\", \"today\", \"tokyo\", \"tourisme\", \"vaucluse\", \"venue\", \"vibe\", \"video\", \"week\", \"weekend\", \"woman\", \"work\", \"year\", \"york\", \"yummy\"]}, \"R\": 30, \"lambda.step\": 0.01, \"plot.opts\": {\"xlab\": \"PC1\", \"ylab\": \"PC2\"}, \"topic.order\": [10, 7, 4, 8, 3, 6, 1, 2, 5, 9]};\n",
       "\n",
       "function LDAvis_load_lib(url, callback){\n",
       "  var s = document.createElement('script');\n",
       "  s.src = url;\n",
       "  s.async = true;\n",
       "  s.onreadystatechange = s.onload = callback;\n",
       "  s.onerror = function(){console.warn(\"failed to load library \" + url);};\n",
       "  document.getElementsByTagName(\"head\")[0].appendChild(s);\n",
       "}\n",
       "\n",
       "if(typeof(LDAvis) !== \"undefined\"){\n",
       "   // already loaded: just create the visualization\n",
       "   !function(LDAvis){\n",
       "       new LDAvis(\"#\" + \"ldavis_el1273628996171712729598819956\", ldavis_el1273628996171712729598819956_data);\n",
       "   }(LDAvis);\n",
       "}else if(typeof define === \"function\" && define.amd){\n",
       "   // require.js is available: use it to load d3/LDAvis\n",
       "   require.config({paths: {d3: \"https://cdnjs.cloudflare.com/ajax/libs/d3/3.5.5/d3.min\"}});\n",
       "   require([\"d3\"], function(d3){\n",
       "      window.d3 = d3;\n",
       "      LDAvis_load_lib(\"https://cdn.rawgit.com/bmabey/pyLDAvis/files/ldavis.v1.0.0.js\", function(){\n",
       "        new LDAvis(\"#\" + \"ldavis_el1273628996171712729598819956\", ldavis_el1273628996171712729598819956_data);\n",
       "      });\n",
       "    });\n",
       "}else{\n",
       "    // require.js not available: dynamically load d3 & LDAvis\n",
       "    LDAvis_load_lib(\"https://cdnjs.cloudflare.com/ajax/libs/d3/3.5.5/d3.min.js\", function(){\n",
       "         LDAvis_load_lib(\"https://cdn.rawgit.com/bmabey/pyLDAvis/files/ldavis.v1.0.0.js\", function(){\n",
       "                 new LDAvis(\"#\" + \"ldavis_el1273628996171712729598819956\", ldavis_el1273628996171712729598819956_data);\n",
       "            })\n",
       "         });\n",
       "}\n",
       "</script>"
      ],
      "text/plain": [
       "PreparedData(topic_coordinates=              x         y  topics  cluster       Freq\n",
       "topic                                                \n",
       "9     -0.013681 -0.458969       1        1  22.585133\n",
       "6      0.332342  0.048833       2        1  15.659303\n",
       "3     -0.100570  0.000779       3        1  11.475586\n",
       "7      0.204637  0.065063       4        1  10.706496\n",
       "2      0.178383  0.026538       5        1   9.971617\n",
       "5     -0.096995 -0.009183       6        1   8.692324\n",
       "0     -0.120878  0.065225       7        1   6.331807\n",
       "1     -0.126172  0.080663       8        1   5.648248\n",
       "4     -0.126496  0.081702       9        1   4.909181\n",
       "8     -0.130572  0.099350      10        1   4.020304, topic_info=              Term        Freq       Total Category  logprob  loglift\n",
       "47         fashion  208.000000  208.000000  Default  30.0000  30.0000\n",
       "16            food  224.000000  224.000000  Default  29.0000  29.0000\n",
       "222          model  101.000000  101.000000  Default  28.0000  28.0000\n",
       "203          style   67.000000   67.000000  Default  27.0000  27.0000\n",
       "44           event   72.000000   72.000000  Default  26.0000  26.0000\n",
       "...            ...         ...         ...      ...      ...      ...\n",
       "2423          vice    0.001956    0.014439  Topic10 -11.0139   1.2148\n",
       "2424      bellezza    0.001956    0.014439  Topic10 -11.0139   1.2148\n",
       "2425          gele    0.001956    0.014439  Topic10 -11.0139   1.2148\n",
       "2426  introduction    0.001956    0.014439  Topic10 -11.0139   1.2148\n",
       "2427        mister    0.001956    0.014439  Topic10 -11.0139   1.2148\n",
       "\n",
       "[488 rows x 6 columns], token_table=      Topic      Freq       Term\n",
       "term                            \n",
       "153       4  0.993331  accessory\n",
       "215       5  1.008986      actor\n",
       "188       5  1.008970    actress\n",
       "373       9  1.026606    airport\n",
       "529       8  1.046006     artist\n",
       "...     ...       ...        ...\n",
       "502       3  1.017744      woman\n",
       "214       3  1.020010       work\n",
       "605       3  1.019832       year\n",
       "283       2  0.945027       york\n",
       "28        1  1.018075      yummy\n",
       "\n",
       "[143 rows x 3 columns], R=30, lambda_step=0.01, plot_opts={'xlab': 'PC1', 'ylab': 'PC2'}, topic_order=[10, 7, 4, 8, 3, 6, 1, 2, 5, 9])"
      ]
     },
     "execution_count": 18,
     "metadata": {},
     "output_type": "execute_result"
    }
   ],
   "source": [
    "# Visualize the topics\n",
    "pyLDAvis.enable_notebook()\n",
    "vis = pyLDAvis.gensim.prepare(lda_model, corpus, id2word)\n",
    "vis"
   ]
  },
  {
   "cell_type": "markdown",
   "metadata": {},
   "source": [
    "### Save document-topic matrix (most significant topic per document)  \n",
    "https://github.com/Sim-Xuesi/content-based_movie_recommender/blob/master/Content%20Based%20Recommender%20System%20with%20LDA%20%26%20Cosine.ipynb  \n",
    "https://medium.com/@nicoleeesim97/building-a-simple-content-based-recommender-system-for-movies-and-tv-shows-73fec4f325ae  "
   ]
  },
  {
   "cell_type": "code",
   "execution_count": 19,
   "metadata": {},
   "outputs": [
    {
     "name": "stderr",
     "output_type": "stream",
     "text": [
      "C:\\Users\\minio\\anaconda3\\envs\\tfm-py-37\\lib\\site-packages\\ipykernel\\ipkernel.py:287: DeprecationWarning: `should_run_async` will not call `transform_cell` automatically in the future. Please pass the result to `transformed_cell` argument and any exception that happen during thetransform in `preprocessing_exc_tuple` in IPython 7.17 and above.\n",
      "  and should_run_async(code)\n"
     ]
    },
    {
     "name": "stdout",
     "output_type": "stream",
     "text": [
      "      Document  Topic  Probability\n",
      "0        75384      5     0.775000\n",
      "1       111674      9     0.952632\n",
      "2       110580      0     0.100000\n",
      "3        70393      6     0.855559\n",
      "4       111972      9     0.950000\n",
      "...        ...    ...          ...\n",
      "3451     60816      3     0.549999\n",
      "3452     68762      7     0.819999\n",
      "3453     74777      5     0.683336\n",
      "3454    111468      9     0.905001\n",
      "3455     79494      3     0.549996\n",
      "\n",
      "[3456 rows x 3 columns]\n"
     ]
    }
   ],
   "source": [
    "def Sort_Tuple(tup):  \n",
    "    return(sorted(tup, key = lambda x: x[1], reverse = True))\n",
    "\n",
    "doc_num, topic_num, prob = [], [], []\n",
    "\n",
    "document_topic_matrix = documents\n",
    "\n",
    "for n in range(len(documents)):\n",
    "    get_document_topics = lda_model.get_document_topics(corpus_total[n], minimum_probability=0)\n",
    "    doc_num.append(documents.index[n])\n",
    "    sorted_doc_topics = Sort_Tuple(get_document_topics)\n",
    "    topic_num.append(sorted_doc_topics[0][0])\n",
    "    prob.append(sorted_doc_topics[0][1])\n",
    "    \n",
    "data = {'Document': doc_num\n",
    "        ,'Topic': topic_num\n",
    "        ,'Probability': prob}\n",
    "df = pd.DataFrame(data) \n",
    "df.to_csv(file_model + '_document_topic_matrix.csv', index=False)\n",
    "print(df)"
   ]
  },
  {
   "cell_type": "markdown",
   "metadata": {},
   "source": [
    "### Save document-topic matrix (all topic's probability per document)  \n",
    "https://github.com/Sim-Xuesi/content-based_movie_recommender/blob/master/Content%20Based%20Recommender%20System%20with%20LDA%20%26%20Cosine.ipynb  \n",
    "https://medium.com/@nicoleeesim97/building-a-simple-content-based-recommender-system-for-movies-and-tv-shows-73fec4f325ae  "
   ]
  },
  {
   "cell_type": "code",
   "execution_count": 20,
   "metadata": {},
   "outputs": [
    {
     "name": "stderr",
     "output_type": "stream",
     "text": [
      "C:\\Users\\minio\\anaconda3\\envs\\tfm-py-37\\lib\\site-packages\\ipykernel\\ipkernel.py:287: DeprecationWarning: `should_run_async` will not call `transform_cell` automatically in the future. Please pass the result to `transformed_cell` argument and any exception that happen during thetransform in `preprocessing_exc_tuple` in IPython 7.17 and above.\n",
      "  and should_run_async(code)\n"
     ]
    },
    {
     "name": "stdout",
     "output_type": "stream",
     "text": [
      "      Document    Topic0    Topic1    Topic2    Topic3    Topic4    Topic5  \\\n",
      "0        75384  0.025000  0.025000  0.025000  0.025000  0.025000  0.775000   \n",
      "1       111674  0.005263  0.005263  0.005263  0.005263  0.005263  0.005263   \n",
      "2       110580  0.100000  0.100000  0.100000  0.100000  0.100000  0.100000   \n",
      "3        70393  0.003704  0.040740  0.003704  0.003704  0.003704  0.040738   \n",
      "4       111972  0.005556  0.005556  0.005556  0.005556  0.005556  0.005556   \n",
      "...        ...       ...       ...       ...       ...       ...       ...   \n",
      "3451     60816  0.050000  0.050000  0.050000  0.549999  0.050000  0.050000   \n",
      "3452     68762  0.020000  0.020000  0.020000  0.020000  0.020000  0.020000   \n",
      "3453     74777  0.016667  0.016667  0.016667  0.016667  0.183330  0.683336   \n",
      "3454    111468  0.005000  0.005000  0.005000  0.005000  0.005000  0.005000   \n",
      "3455     79494  0.050000  0.050000  0.050000  0.549996  0.050000  0.050000   \n",
      "\n",
      "        Topic6    Topic7    Topic8    Topic9  \n",
      "0     0.025000  0.025000  0.025000  0.025000  \n",
      "1     0.005263  0.005263  0.005263  0.952632  \n",
      "2     0.100000  0.100000  0.100000  0.100000  \n",
      "3     0.855559  0.003705  0.040739  0.003704  \n",
      "4     0.005556  0.005556  0.005556  0.950000  \n",
      "...        ...       ...       ...       ...  \n",
      "3451  0.050000  0.050000  0.050000  0.050000  \n",
      "3452  0.020000  0.819999  0.020000  0.020000  \n",
      "3453  0.016667  0.016667  0.016667  0.016667  \n",
      "3454  0.005000  0.005000  0.054999  0.905001  \n",
      "3455  0.050000  0.050000  0.050000  0.050000  \n",
      "\n",
      "[3456 rows x 11 columns]\n"
     ]
    }
   ],
   "source": [
    "doc_num = []\n",
    "prob0, prob1, prob2, prob3, prob4, prob5, prob6, prob7, prob8, prob9 = ([] for i in range(num_topics))\n",
    "\n",
    "document_topic_matrix = documents\n",
    "\n",
    "for n in range(len(documents)):\n",
    "    get_document_topics = lda_model.get_document_topics(corpus_total[n], minimum_probability=0)\n",
    "    doc_num.append(documents.index[n])\n",
    "    prob0.append(get_document_topics[0][1])\n",
    "    prob1.append(get_document_topics[1][1])\n",
    "    prob2.append(get_document_topics[2][1])\n",
    "    prob3.append(get_document_topics[3][1])\n",
    "    prob4.append(get_document_topics[4][1])\n",
    "    prob5.append(get_document_topics[5][1])\n",
    "    prob6.append(get_document_topics[6][1])\n",
    "    prob7.append(get_document_topics[7][1])\n",
    "    prob8.append(get_document_topics[8][1])\n",
    "    prob9.append(get_document_topics[9][1])\n",
    "    \n",
    "data = {'Document': doc_num\n",
    "        ,'Topic0': prob0\n",
    "        ,'Topic1': prob1\n",
    "        ,'Topic2': prob2\n",
    "        ,'Topic3': prob3\n",
    "        ,'Topic4': prob4\n",
    "        ,'Topic5': prob5\n",
    "        ,'Topic6': prob6\n",
    "        ,'Topic7': prob7\n",
    "        ,'Topic8': prob8\n",
    "        ,'Topic9': prob9}\n",
    "\n",
    "df = pd.DataFrame(data) \n",
    "df.to_csv(file_model + '_document_topic_matrix_full.csv', index=False)\n",
    "print(df)"
   ]
  },
  {
   "cell_type": "markdown",
   "metadata": {},
   "source": [
    "### Save topic-term matrix"
   ]
  },
  {
   "cell_type": "code",
   "execution_count": 21,
   "metadata": {},
   "outputs": [
    {
     "name": "stderr",
     "output_type": "stream",
     "text": [
      "C:\\Users\\minio\\anaconda3\\envs\\tfm-py-37\\lib\\site-packages\\ipykernel\\ipkernel.py:287: DeprecationWarning: `should_run_async` will not call `transform_cell` automatically in the future. Please pass the result to `transformed_cell` argument and any exception that happen during thetransform in `preprocessing_exc_tuple` in IPython 7.17 and above.\n",
      "  and should_run_async(code)\n"
     ]
    }
   ],
   "source": [
    "# get topic-term-matrix\n",
    "topic_term_matrix = lda_model.get_topics()\n",
    "# save topic-term matrix\n",
    "savetxt(file_model + '_topic_term_matrix.csv', topic_term_matrix, delimiter=',')"
   ]
  },
  {
   "cell_type": "code",
   "execution_count": null,
   "metadata": {},
   "outputs": [],
   "source": []
  }
 ],
 "metadata": {
  "kernelspec": {
   "display_name": "Python 3",
   "language": "python",
   "name": "python3"
  },
  "language_info": {
   "codemirror_mode": {
    "name": "ipython",
    "version": 3
   },
   "file_extension": ".py",
   "mimetype": "text/x-python",
   "name": "python",
   "nbconvert_exporter": "python",
   "pygments_lexer": "ipython3",
   "version": "3.7.9"
  }
 },
 "nbformat": 4,
 "nbformat_minor": 4
}
