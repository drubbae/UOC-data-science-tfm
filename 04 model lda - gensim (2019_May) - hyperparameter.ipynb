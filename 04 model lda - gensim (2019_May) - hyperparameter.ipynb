{
 "cells": [
  {
   "cell_type": "markdown",
   "metadata": {},
   "source": [
    "# <span style=\"color:blue\">LDA model (2019_May) - with hyperparameter tuning</span>"
   ]
  },
  {
   "cell_type": "code",
   "execution_count": 1,
   "metadata": {},
   "outputs": [],
   "source": [
    "yyyy_MMM = '2019_May'"
   ]
  },
  {
   "cell_type": "markdown",
   "metadata": {},
   "source": [
    "### Load packages"
   ]
  },
  {
   "cell_type": "code",
   "execution_count": 2,
   "metadata": {},
   "outputs": [
    {
     "name": "stderr",
     "output_type": "stream",
     "text": [
      "C:\\Users\\minio\\anaconda3\\envs\\tfm-py-37\\lib\\site-packages\\botocore\\vendored\\requests\\packages\\urllib3\\_collections.py:1: DeprecationWarning: Using or importing the ABCs from 'collections' instead of from 'collections.abc' is deprecated since Python 3.3,and in 3.9 it will stop working\n",
      "  from collections import Mapping, MutableMapping\n",
      "C:\\Users\\minio\\anaconda3\\envs\\tfm-py-37\\lib\\site-packages\\botocore\\vendored\\requests\\packages\\urllib3\\_collections.py:1: DeprecationWarning: Using or importing the ABCs from 'collections' instead of from 'collections.abc' is deprecated since Python 3.3,and in 3.9 it will stop working\n",
      "  from collections import Mapping, MutableMapping\n",
      "C:\\Users\\minio\\anaconda3\\envs\\tfm-py-37\\lib\\site-packages\\scipy\\sparse\\sparsetools.py:21: DeprecationWarning: `scipy.sparse.sparsetools` is deprecated!\n",
      "scipy.sparse.sparsetools is a private module for scipy.sparse, and should not be used.\n",
      "  _deprecated()\n",
      "C:\\Users\\minio\\anaconda3\\envs\\tfm-py-37\\lib\\site-packages\\gensim\\models\\doc2vec.py:73: DeprecationWarning: Using or importing the ABCs from 'collections' instead of from 'collections.abc' is deprecated since Python 3.3,and in 3.9 it will stop working\n",
      "  from collections import namedtuple, defaultdict, Iterable\n",
      "[nltk_data] Downloading package stopwords to\n",
      "[nltk_data]     C:\\Users\\minio\\AppData\\Roaming\\nltk_data...\n",
      "[nltk_data]   Package stopwords is already up-to-date!\n",
      "[nltk_data] Downloading package averaged_perceptron_tagger to\n",
      "[nltk_data]     C:\\Users\\minio\\AppData\\Roaming\\nltk_data...\n",
      "[nltk_data]   Package averaged_perceptron_tagger is already up-to-\n",
      "[nltk_data]       date!\n"
     ]
    },
    {
     "data": {
      "text/plain": [
       "True"
      ]
     },
     "execution_count": 2,
     "metadata": {},
     "output_type": "execute_result"
    }
   ],
   "source": [
    "import csv, os, re, time\n",
    "import numpy as np\n",
    "from numpy import savetxt\n",
    "import pandas as  pd\n",
    "import matplotlib.pyplot as plt  \n",
    "import pyLDAvis\n",
    "import pyLDAvis.gensim\n",
    "import gensim\n",
    "import gensim.corpora as corpora\n",
    "from gensim.corpora.dictionary import Dictionary\n",
    "from gensim.models import CoherenceModel\n",
    "from gensim.test.utils import datapath\n",
    "from gensim.utils import simple_preprocess\n",
    "from pprint import pprint\n",
    "import nltk\n",
    "nltk.download('stopwords')\n",
    "nltk.download('averaged_perceptron_tagger')"
   ]
  },
  {
   "cell_type": "markdown",
   "metadata": {},
   "source": [
    "### Constants"
   ]
  },
  {
   "cell_type": "code",
   "execution_count": 3,
   "metadata": {},
   "outputs": [
    {
     "name": "stdout",
     "output_type": "stream",
     "text": [
      "D:\\master\\data science\\semestre 4\\M2.979 - tfm\\data\\bins_test\\doc\\2019_May\\2019_May_28_results.csv\n",
      "D:\\master\\data science\\semestre 4\\M2.979 - tfm\\data\\bins_test\\model_hyperparameter\\2019_May\\model\n"
     ]
    },
    {
     "name": "stderr",
     "output_type": "stream",
     "text": [
      "C:\\Users\\minio\\anaconda3\\envs\\tfm-py-37\\lib\\site-packages\\ipykernel\\ipkernel.py:287: DeprecationWarning: `should_run_async` will not call `transform_cell` automatically in the future. Please pass the result to `transformed_cell` argument and any exception that happen during thetransform in `preprocessing_exc_tuple` in IPython 7.17 and above.\n",
      "  and should_run_async(code)\n"
     ]
    }
   ],
   "source": [
    "# for reproducible results\n",
    "random_state = 33\n",
    "# if the test is True, the process runs on a smaller subset of raw data (json files)\n",
    "test = True\n",
    "# if sample > 0, then we take a sample of the entire dataset (for debugging purpose)\n",
    "sample = 0\n",
    "# parameters to build the lda model\n",
    "num_topics = 10\n",
    "alpha = 'asymmetric'\n",
    "eta = 0.91\n",
    "\n",
    "if test:\n",
    "    # path with the documents preprocessed\n",
    "    path_doc = r'D:\\master\\data science\\semestre 4\\M2.979 - tfm\\data\\bins_test\\doc'\n",
    "    # path where store all data/results related to the model\n",
    "    path_model = r'D:\\master\\data science\\semestre 4\\M2.979 - tfm\\data\\bins_test\\model_hyperparameter'\n",
    "    # chunksize to build LDA model\n",
    "    chunksize = 250\n",
    "else:\n",
    "    # path with the documents preprocessed\n",
    "    path_doc = r'D:\\master\\data science\\semestre 4\\M2.979 - tfm\\data\\bins\\doc'\n",
    "    # path where store all data/results related to the model\n",
    "    path_model = r'D:\\master\\data science\\semestre 4\\M2.979 - tfm\\data\\bins\\model_hyperparameter'\n",
    "    # chunksize to build LDA model\n",
    "    chunksize = 5000\n",
    "\n",
    "# path + name of the file that contains the documents preprocessed\n",
    "file_doc = os.path.join(path_doc, yyyy_MMM, yyyy_MMM) + '_28_results.csv'\n",
    "# path + name of the file that contains the model gotten at the end\n",
    "file_model = os.path.join(path_model, yyyy_MMM, 'model')\n",
    "print(file_doc)\n",
    "print(file_model)"
   ]
  },
  {
   "cell_type": "markdown",
   "metadata": {},
   "source": [
    "### Load data preprocessed"
   ]
  },
  {
   "cell_type": "code",
   "execution_count": 4,
   "metadata": {},
   "outputs": [
    {
     "name": "stderr",
     "output_type": "stream",
     "text": [
      "C:\\Users\\minio\\anaconda3\\envs\\tfm-py-37\\lib\\site-packages\\ipykernel\\ipkernel.py:287: DeprecationWarning: `should_run_async` will not call `transform_cell` automatically in the future. Please pass the result to `transformed_cell` argument and any exception that happen during thetransform in `preprocessing_exc_tuple` in IPython 7.17 and above.\n",
      "  and should_run_async(code)\n"
     ]
    },
    {
     "data": {
      "text/plain": [
       "id_doc\n",
       "8036     ['cristian', 'knops', 'artist', 'draw', 'artwo...\n",
       "26973    ['fully', 'avert', 'controversy', 'finally', '...\n",
       "27095    ['sean', 'close', 'weekend', 'course', 'year',...\n",
       "47473    ['hailey', 'bieber', 'kendall', 'jenner', 'lea...\n",
       "36914                        ['feel', 'wedding', 'lovely']\n",
       "19849    ['black', 'plaid', 'chanel', 'chanel', 'chanel...\n",
       "5152     ['steph', 'kaaaa', 'japan', 'bikini', 'tokyo',...\n",
       "10377    ['laugh', 'watch', 'scene', 'video', 'song', '...\n",
       "33064    ['beaute', 'beatrice', 'blog', 'good', 'morning']\n",
       "39334                                    ['dude', 'sense']\n",
       "Name: content_preprocessed, dtype: object"
      ]
     },
     "execution_count": 4,
     "metadata": {},
     "output_type": "execute_result"
    }
   ],
   "source": [
    "df = pd.read_csv(file_doc, index_col='id_doc')\n",
    "documents = df.content_preprocessed\n",
    "documents.head(10)"
   ]
  },
  {
   "cell_type": "markdown",
   "metadata": {},
   "source": [
    "### Shuffle"
   ]
  },
  {
   "cell_type": "code",
   "execution_count": 5,
   "metadata": {},
   "outputs": [
    {
     "name": "stderr",
     "output_type": "stream",
     "text": [
      "C:\\Users\\minio\\anaconda3\\envs\\tfm-py-37\\lib\\site-packages\\ipykernel\\ipkernel.py:287: DeprecationWarning: `should_run_async` will not call `transform_cell` automatically in the future. Please pass the result to `transformed_cell` argument and any exception that happen during thetransform in `preprocessing_exc_tuple` in IPython 7.17 and above.\n",
      "  and should_run_async(code)\n"
     ]
    },
    {
     "data": {
      "text/plain": [
       "id_doc\n",
       "40793    ['shanti', 'knot', 'yrrah', 'beautiful', 'cere...\n",
       "53507    ['service', 'yummy', 'food', 'pic', 'food', 'g...\n",
       "37150    ['yean', 'hannah', 'drew', 'event', 'shade', '...\n",
       "36795    ['lady', 'esthero', 'juma', 'married', 'mode',...\n",
       "47368    ['feliz', 'ivers', 'bubble', 'shamar', 'mauric...\n",
       "21787                          ['nlechoppacrowdnlechoppa']\n",
       "15032    ['sandra', 'sandra', 'calloway', 'event', 'upw...\n",
       "53344    ['voyage', 'fest', 'maroc', 'morocco', 'travel...\n",
       "53620    ['pomme', 'press', 'tatin', 'tartare', 'feuill...\n",
       "10348    ['day', 'regret', 'enjoy', 'baby', 'weekend', ...\n",
       "Name: content_preprocessed, dtype: object"
      ]
     },
     "execution_count": 5,
     "metadata": {},
     "output_type": "execute_result"
    }
   ],
   "source": [
    "documents = documents.sample(frac=1, random_state=random_state)\n",
    "documents.head(10)"
   ]
  },
  {
   "cell_type": "markdown",
   "metadata": {},
   "source": [
    "### Sample"
   ]
  },
  {
   "cell_type": "code",
   "execution_count": 6,
   "metadata": {},
   "outputs": [
    {
     "name": "stderr",
     "output_type": "stream",
     "text": [
      "C:\\Users\\minio\\anaconda3\\envs\\tfm-py-37\\lib\\site-packages\\ipykernel\\ipkernel.py:287: DeprecationWarning: `should_run_async` will not call `transform_cell` automatically in the future. Please pass the result to `transformed_cell` argument and any exception that happen during thetransform in `preprocessing_exc_tuple` in IPython 7.17 and above.\n",
      "  and should_run_async(code)\n"
     ]
    }
   ],
   "source": [
    "if sample > 0:\n",
    "    documents = documents.sample(n=sample, random_state=random_state)\n",
    "    print(documents.head(10))"
   ]
  },
  {
   "cell_type": "markdown",
   "metadata": {},
   "source": [
    "### Plot the number of words appearing in each document  \n",
    "\n",
    "https://neptune.ai/blog/exploratory-data-analysis-natural-language-processing-tools"
   ]
  },
  {
   "cell_type": "code",
   "execution_count": 7,
   "metadata": {},
   "outputs": [
    {
     "name": "stdout",
     "output_type": "stream",
     "text": [
      "(3940,)\n"
     ]
    },
    {
     "name": "stderr",
     "output_type": "stream",
     "text": [
      "C:\\Users\\minio\\anaconda3\\envs\\tfm-py-37\\lib\\site-packages\\ipykernel\\ipkernel.py:287: DeprecationWarning: `should_run_async` will not call `transform_cell` automatically in the future. Please pass the result to `transformed_cell` argument and any exception that happen during thetransform in `preprocessing_exc_tuple` in IPython 7.17 and above.\n",
      "  and should_run_async(code)\n"
     ]
    },
    {
     "data": {
      "text/plain": [
       "<AxesSubplot:>"
      ]
     },
     "execution_count": 7,
     "metadata": {},
     "output_type": "execute_result"
    },
    {
     "data": {
      "image/png": "[encoded data removed]",
      "text/plain": [
       "<Figure size 432x288 with 1 Axes>"
      ]
     },
     "metadata": {
      "needs_background": "light"
     },
     "output_type": "display_data"
    }
   ],
   "source": [
    "print(documents.shape)\n",
    "\n",
    "documents.str.split().\\\n",
    "    map(lambda x: len(x)).\\\n",
    "    hist()"
   ]
  },
  {
   "cell_type": "markdown",
   "metadata": {},
   "source": [
    "### Remove words that appear only once"
   ]
  },
  {
   "cell_type": "code",
   "execution_count": 8,
   "metadata": {},
   "outputs": [
    {
     "name": "stderr",
     "output_type": "stream",
     "text": [
      "C:\\Users\\minio\\anaconda3\\envs\\tfm-py-37\\lib\\site-packages\\ipykernel\\ipkernel.py:287: DeprecationWarning: `should_run_async` will not call `transform_cell` automatically in the future. Please pass the result to `transformed_cell` argument and any exception that happen during thetransform in `preprocessing_exc_tuple` in IPython 7.17 and above.\n",
      "  and should_run_async(code)\n"
     ]
    }
   ],
   "source": [
    "####################### PENDING"
   ]
  },
  {
   "cell_type": "markdown",
   "metadata": {},
   "source": [
    "### Tokenize words and Clean-up text"
   ]
  },
  {
   "cell_type": "code",
   "execution_count": 9,
   "metadata": {},
   "outputs": [
    {
     "name": "stderr",
     "output_type": "stream",
     "text": [
      "C:\\Users\\minio\\anaconda3\\envs\\tfm-py-37\\lib\\site-packages\\ipykernel\\ipkernel.py:287: DeprecationWarning: `should_run_async` will not call `transform_cell` automatically in the future. Please pass the result to `transformed_cell` argument and any exception that happen during thetransform in `preprocessing_exc_tuple` in IPython 7.17 and above.\n",
      "  and should_run_async(code)\n"
     ]
    }
   ],
   "source": [
    "# https://www.machinelearningplus.com/nlp/topic-modeling-gensim-python/#3importpackages\n",
    "def sent_to_words(sentences):\n",
    "    for sentence in sentences:\n",
    "        yield(gensim.utils.simple_preprocess(str(sentence), deacc=True))  # deacc=True removes punctuations"
   ]
  },
  {
   "cell_type": "markdown",
   "metadata": {},
   "source": [
    "### Compute bigrams & trigrams  \n",
    "\n",
    "https://radimrehurek.com/gensim/auto_examples/tutorials/run_lda.html#pre-process-and-vectorize-the-documents"
   ]
  },
  {
   "cell_type": "code",
   "execution_count": 10,
   "metadata": {},
   "outputs": [
    {
     "name": "stderr",
     "output_type": "stream",
     "text": [
      "C:\\Users\\minio\\anaconda3\\envs\\tfm-py-37\\lib\\site-packages\\ipykernel\\ipkernel.py:287: DeprecationWarning: `should_run_async` will not call `transform_cell` automatically in the future. Please pass the result to `transformed_cell` argument and any exception that happen during thetransform in `preprocessing_exc_tuple` in IPython 7.17 and above.\n",
      "  and should_run_async(code)\n"
     ]
    }
   ],
   "source": [
    "from gensim.models import Phrases\n",
    "\n",
    "# Add bigrams and trigrams to docs (only ones that appear min_count times or more).\n",
    "def bi_tri_grams(documents, min_count):\n",
    "    bigram = Phrases(documents, min_count=min_count)\n",
    "    for idx in range(len(documents)):\n",
    "        for token in bigram[documents[idx]]:\n",
    "            if '_' in token:\n",
    "                # Token is a bigram, add to document.\n",
    "                documents[idx].append(token)"
   ]
  },
  {
   "cell_type": "markdown",
   "metadata": {},
   "source": [
    "### Categorizing and tagging words"
   ]
  },
  {
   "cell_type": "code",
   "execution_count": 11,
   "metadata": {},
   "outputs": [
    {
     "name": "stderr",
     "output_type": "stream",
     "text": [
      "C:\\Users\\minio\\anaconda3\\envs\\tfm-py-37\\lib\\site-packages\\ipykernel\\ipkernel.py:287: DeprecationWarning: `should_run_async` will not call `transform_cell` automatically in the future. Please pass the result to `transformed_cell` argument and any exception that happen during thetransform in `preprocessing_exc_tuple` in IPython 7.17 and above.\n",
      "  and should_run_async(code)\n"
     ]
    }
   ],
   "source": [
    "# function to remove accented characters\n",
    "def tag_words(text):\n",
    "    tags = nltk.pos_tag(text)\n",
    "    nouns = [word for word, pos in tags if (pos == 'NN' or pos == 'NNP' or pos == 'NNS' or pos == 'NNPS')]\n",
    "    return nouns"
   ]
  },
  {
   "cell_type": "markdown",
   "metadata": {},
   "source": [
    "### Dictionary with the entire dataset"
   ]
  },
  {
   "cell_type": "code",
   "execution_count": 12,
   "metadata": {},
   "outputs": [
    {
     "name": "stderr",
     "output_type": "stream",
     "text": [
      "C:\\Users\\minio\\anaconda3\\envs\\tfm-py-37\\lib\\site-packages\\ipykernel\\ipkernel.py:287: DeprecationWarning: `should_run_async` will not call `transform_cell` automatically in the future. Please pass the result to `transformed_cell` argument and any exception that happen during thetransform in `preprocessing_exc_tuple` in IPython 7.17 and above.\n",
      "  and should_run_async(code)\n"
     ]
    }
   ],
   "source": [
    "data_words = list(sent_to_words(documents))\n",
    "# Compute bigrams & trigrams\n",
    "bi_tri_grams(data_words, 250)\n",
    "# Categorizing and tagging words\n",
    "data_words = list(map(tag_words, data_words))\n",
    "# Create Dictionary\n",
    "id2word = Dictionary(data_words)\n",
    "# Create Corpus\n",
    "texts = data_words\n",
    "# Term Document Frequency\n",
    "corpus_total = [id2word.doc2bow(text) for text in texts]"
   ]
  },
  {
   "cell_type": "markdown",
   "metadata": {},
   "source": [
    "### Build LDA model"
   ]
  },
  {
   "cell_type": "code",
   "execution_count": 13,
   "metadata": {},
   "outputs": [
    {
     "name": "stderr",
     "output_type": "stream",
     "text": [
      "C:\\Users\\minio\\anaconda3\\envs\\tfm-py-37\\lib\\site-packages\\ipykernel\\ipkernel.py:287: DeprecationWarning: `should_run_async` will not call `transform_cell` automatically in the future. Please pass the result to `transformed_cell` argument and any exception that happen during thetransform in `preprocessing_exc_tuple` in IPython 7.17 and above.\n",
      "  and should_run_async(code)\n"
     ]
    },
    {
     "name": "stdout",
     "output_type": "stream",
     "text": [
      "time elapsed - 00:00:25.60\n"
     ]
    }
   ],
   "source": [
    "perplexity_score = []\n",
    "coherence_score = []\n",
    "indixes = []\n",
    "\n",
    "index = 0\n",
    "chunk_size = 250\n",
    "documents_sample = documents[index:chunk_size-1]\n",
    "\n",
    "time_start = time.time()\n",
    "\n",
    "data_words = list(sent_to_words(documents_sample))\n",
    "# Compute bigrams & trigrams\n",
    "bi_tri_grams(data_words, 250)\n",
    "# Categorizing and tagging words\n",
    "data_words = list(map(tag_words, data_words))\n",
    "# # Create Dictionary\n",
    "# id2word = Dictionary(data_words)\n",
    "# Create Corpus\n",
    "texts = data_words\n",
    "# Term Document Frequency\n",
    "corpus = [id2word.doc2bow(text) for text in texts]\n",
    "# Build LDA Model\n",
    "lda_model = gensim.models.LdaMulticore(corpus=corpus\n",
    "                                       ,id2word=id2word\n",
    "                                       ,num_topics=num_topics\n",
    "                                       ,random_state=random_state\n",
    "                                       ,chunksize=chunksize\n",
    "                                       ,passes=50\n",
    "                                       ,per_word_topics=True\n",
    "                                       ,alpha=alpha\n",
    "                                       ,eta=eta)\n",
    "\n",
    "indixes.append(index)\n",
    "\n",
    "# Evaluate LDA Model\n",
    "# Compute Perplexity Score\n",
    "perplexity = lda_model.log_perplexity(corpus)\n",
    "perplexity_score.append(perplexity)\n",
    "\n",
    "# Evaluate LDA Model\n",
    "# Compute Coherence Score\n",
    "coherence_lda_model = CoherenceModel(model=lda_model, texts=data_words, dictionary=id2word, coherence='c_v')\n",
    "coherence = coherence_lda_model.get_coherence()\n",
    "coherence_score.append(coherence)\n",
    "\n",
    "# Save LDA Model\n",
    "temp_file = datapath(file_model)\n",
    "lda_model.save(temp_file)\n",
    "temp_file = datapath(file_model + '_' + str(index).zfill(5))\n",
    "lda_model.save(temp_file)\n",
    "\n",
    "time_end = time.time()\n",
    "hour, rem = divmod(time_end - time_start, 3600)\n",
    "minute, second = divmod(rem, 60)\n",
    "print('time elapsed - {:0>2}:{:0>2}:{:05.2f}'.format(int(hour), int(minute), second))"
   ]
  },
  {
   "cell_type": "markdown",
   "metadata": {},
   "source": [
    "### Incremental learning"
   ]
  },
  {
   "cell_type": "code",
   "execution_count": 14,
   "metadata": {},
   "outputs": [
    {
     "name": "stdout",
     "output_type": "stream",
     "text": [
      "0  -----  250  -----  499\n"
     ]
    },
    {
     "name": "stderr",
     "output_type": "stream",
     "text": [
      "C:\\Users\\minio\\anaconda3\\envs\\tfm-py-37\\lib\\site-packages\\ipykernel\\ipkernel.py:287: DeprecationWarning: `should_run_async` will not call `transform_cell` automatically in the future. Please pass the result to `transformed_cell` argument and any exception that happen during thetransform in `preprocessing_exc_tuple` in IPython 7.17 and above.\n",
      "  and should_run_async(code)\n",
      "C:\\Users\\minio\\anaconda3\\envs\\tfm-py-37\\lib\\site-packages\\gensim\\topic_coherence\\direct_confirmation_measure.py:204: RuntimeWarning: divide by zero encountered in double_scalars\n",
      "  m_lr_i = np.log(numerator / denominator)\n",
      "C:\\Users\\minio\\anaconda3\\envs\\tfm-py-37\\lib\\site-packages\\gensim\\topic_coherence\\indirect_confirmation_measure.py:323: RuntimeWarning: invalid value encountered in double_scalars\n",
      "  return cv1.T.dot(cv2)[0, 0] / (_magnitude(cv1) * _magnitude(cv2))\n"
     ]
    },
    {
     "name": "stdout",
     "output_type": "stream",
     "text": [
      "time elapsed - 00:00:24.60\n",
      "1  -----  500  -----  749\n"
     ]
    },
    {
     "name": "stderr",
     "output_type": "stream",
     "text": [
      "C:\\Users\\minio\\anaconda3\\envs\\tfm-py-37\\lib\\site-packages\\gensim\\topic_coherence\\direct_confirmation_measure.py:204: RuntimeWarning: divide by zero encountered in double_scalars\n",
      "  m_lr_i = np.log(numerator / denominator)\n",
      "C:\\Users\\minio\\anaconda3\\envs\\tfm-py-37\\lib\\site-packages\\gensim\\topic_coherence\\indirect_confirmation_measure.py:323: RuntimeWarning: invalid value encountered in double_scalars\n",
      "  return cv1.T.dot(cv2)[0, 0] / (_magnitude(cv1) * _magnitude(cv2))\n"
     ]
    },
    {
     "name": "stdout",
     "output_type": "stream",
     "text": [
      "time elapsed - 00:00:24.72\n",
      "2  -----  750  -----  999\n"
     ]
    },
    {
     "name": "stderr",
     "output_type": "stream",
     "text": [
      "C:\\Users\\minio\\anaconda3\\envs\\tfm-py-37\\lib\\site-packages\\gensim\\topic_coherence\\direct_confirmation_measure.py:204: RuntimeWarning: divide by zero encountered in double_scalars\n",
      "  m_lr_i = np.log(numerator / denominator)\n",
      "C:\\Users\\minio\\anaconda3\\envs\\tfm-py-37\\lib\\site-packages\\gensim\\topic_coherence\\indirect_confirmation_measure.py:323: RuntimeWarning: invalid value encountered in double_scalars\n",
      "  return cv1.T.dot(cv2)[0, 0] / (_magnitude(cv1) * _magnitude(cv2))\n"
     ]
    },
    {
     "name": "stdout",
     "output_type": "stream",
     "text": [
      "time elapsed - 00:00:24.89\n",
      "3  -----  1000  -----  1249\n"
     ]
    },
    {
     "name": "stderr",
     "output_type": "stream",
     "text": [
      "C:\\Users\\minio\\anaconda3\\envs\\tfm-py-37\\lib\\site-packages\\gensim\\topic_coherence\\direct_confirmation_measure.py:204: RuntimeWarning: divide by zero encountered in double_scalars\n",
      "  m_lr_i = np.log(numerator / denominator)\n",
      "C:\\Users\\minio\\anaconda3\\envs\\tfm-py-37\\lib\\site-packages\\gensim\\topic_coherence\\indirect_confirmation_measure.py:323: RuntimeWarning: invalid value encountered in double_scalars\n",
      "  return cv1.T.dot(cv2)[0, 0] / (_magnitude(cv1) * _magnitude(cv2))\n"
     ]
    },
    {
     "name": "stdout",
     "output_type": "stream",
     "text": [
      "time elapsed - 00:00:25.92\n",
      "4  -----  1250  -----  1499\n"
     ]
    },
    {
     "name": "stderr",
     "output_type": "stream",
     "text": [
      "C:\\Users\\minio\\anaconda3\\envs\\tfm-py-37\\lib\\site-packages\\gensim\\topic_coherence\\direct_confirmation_measure.py:204: RuntimeWarning: divide by zero encountered in double_scalars\n",
      "  m_lr_i = np.log(numerator / denominator)\n",
      "C:\\Users\\minio\\anaconda3\\envs\\tfm-py-37\\lib\\site-packages\\gensim\\topic_coherence\\indirect_confirmation_measure.py:323: RuntimeWarning: invalid value encountered in double_scalars\n",
      "  return cv1.T.dot(cv2)[0, 0] / (_magnitude(cv1) * _magnitude(cv2))\n"
     ]
    },
    {
     "name": "stdout",
     "output_type": "stream",
     "text": [
      "time elapsed - 00:00:24.85\n",
      "5  -----  1500  -----  1749\n"
     ]
    },
    {
     "name": "stderr",
     "output_type": "stream",
     "text": [
      "C:\\Users\\minio\\anaconda3\\envs\\tfm-py-37\\lib\\site-packages\\gensim\\topic_coherence\\direct_confirmation_measure.py:204: RuntimeWarning: divide by zero encountered in double_scalars\n",
      "  m_lr_i = np.log(numerator / denominator)\n",
      "C:\\Users\\minio\\anaconda3\\envs\\tfm-py-37\\lib\\site-packages\\gensim\\topic_coherence\\indirect_confirmation_measure.py:323: RuntimeWarning: invalid value encountered in double_scalars\n",
      "  return cv1.T.dot(cv2)[0, 0] / (_magnitude(cv1) * _magnitude(cv2))\n"
     ]
    },
    {
     "name": "stdout",
     "output_type": "stream",
     "text": [
      "time elapsed - 00:00:24.73\n",
      "6  -----  1750  -----  1999\n",
      "time elapsed - 00:00:24.50\n",
      "7  -----  2000  -----  2249\n",
      "time elapsed - 00:00:23.88\n",
      "8  -----  2250  -----  2499\n",
      "time elapsed - 00:00:23.30\n",
      "9  -----  2500  -----  2749\n",
      "time elapsed - 00:00:23.67\n",
      "10  -----  2750  -----  2999\n",
      "time elapsed - 00:00:23.80\n",
      "11  -----  3000  -----  3249\n",
      "time elapsed - 00:00:24.21\n",
      "12  -----  3250  -----  3499\n",
      "time elapsed - 00:00:23.44\n",
      "13  -----  3500  -----  3749\n",
      "time elapsed - 00:00:25.33\n",
      "14  -----  3750  -----  3999\n",
      "time elapsed - 00:00:23.79\n"
     ]
    }
   ],
   "source": [
    "documents_len = len(documents)\n",
    "\n",
    "while index+(index+1)*chunk_size < documents_len:\n",
    "    \n",
    "    time_start = time.time()\n",
    "    \n",
    "    print(index, ' ----- ', (index+1)*chunk_size, ' ----- ', ((index+1)*chunk_size)+chunk_size-1)\n",
    "    documents_sample = documents[(index+1)*chunk_size:((index+1)*chunk_size)+chunk_size-1]\n",
    "    \n",
    "    data_words = list(sent_to_words(documents_sample))\n",
    "    # Compute bigrams & trigrams\n",
    "    bi_tri_grams(data_words, 250)\n",
    "    # Categorizing and tagging words\n",
    "    data_words = list(map(tag_words, data_words))\n",
    "    # Create Corpus\n",
    "    texts = data_words\n",
    "    # Term Document Frequency\n",
    "    corpus = [id2word.doc2bow(text) for text in texts]\n",
    "    # Load LDA Model\n",
    "    temp_file = datapath(file_model)\n",
    "    lda_model = gensim.models.ldamodel.LdaModel.load(temp_file)\n",
    "    # Update LDA Model\n",
    "    lda_model.update(corpus)\n",
    "    \n",
    "    index = index + 1\n",
    "    indixes.append(index)\n",
    "    \n",
    "    # Evaluate LDA Model\n",
    "    # Compute Perplexity Score\n",
    "    perplexity = lda_model.log_perplexity(corpus)\n",
    "    perplexity_score.append(perplexity)\n",
    "\n",
    "    # Evaluate LDA Model\n",
    "    # Compute Coherence Score\n",
    "    coherence_lda_model = CoherenceModel(model=lda_model, texts=data_words, dictionary=id2word, coherence='c_v')\n",
    "    coherence = coherence_lda_model.get_coherence()\n",
    "    coherence_score.append(coherence)\n",
    "    \n",
    "    # Save LDA Model\n",
    "    temp_file = datapath(file_model)\n",
    "    lda_model.save(temp_file)\n",
    "    temp_file = datapath(file_model + '_' + str(index).zfill(5))\n",
    "    lda_model.save(temp_file)\n",
    "    \n",
    "    time_end = time.time()\n",
    "    hour, rem = divmod(time_end - time_start, 3600)\n",
    "    minute, second = divmod(rem, 60)\n",
    "    print('time elapsed - {:0>2}:{:0>2}:{:05.2f}'.format(int(hour), int(minute), second))"
   ]
  },
  {
   "cell_type": "markdown",
   "metadata": {},
   "source": [
    "### Topics in LDA model"
   ]
  },
  {
   "cell_type": "code",
   "execution_count": 15,
   "metadata": {},
   "outputs": [
    {
     "name": "stdout",
     "output_type": "stream",
     "text": [
      "[(0,\n",
      "  '0.042*\"beauty\" + 0.032*\"bikini\" + 0.031*\"fitness\" + 0.021*\"ifbb\" + '\n",
      "  '0.011*\"competitor\" + 0.010*\"addict\" + 0.008*\"point\" + 0.008*\"brand\" + '\n",
      "  '0.007*\"talk\" + 0.007*\"makeup\"'),\n",
      " (1,\n",
      "  '0.028*\"event\" + 0.020*\"fashion\" + 0.016*\"video\" + 0.016*\"jones\" + '\n",
      "  '0.011*\"medium\" + 0.009*\"hour\" + 0.009*\"heart\" + 0.008*\"post\" + '\n",
      "  '0.008*\"music\" + 0.008*\"downtown\"'),\n",
      " (2,\n",
      "  '0.019*\"fashion\" + 0.018*\"dress\" + 0.018*\"love\" + 0.014*\"trend\" + '\n",
      "  '0.014*\"luxury\" + 0.012*\"chanel\" + 0.009*\"goal\" + 0.009*\"couture\" + '\n",
      "  '0.009*\"detail\" + 0.008*\"diamond\"'),\n",
      " (3,\n",
      "  '0.041*\"style\" + 0.041*\"model\" + 0.034*\"fashion\" + 0.015*\"book\" + '\n",
      "  '0.012*\"glan\" + 0.012*\"navman\" + 0.009*\"print\" + 0.009*\"agency\" + '\n",
      "  '0.009*\"event\" + 0.009*\"blog\"'),\n",
      " (4,\n",
      "  '0.017*\"gram\" + 0.012*\"artist\" + 0.008*\"design\" + 0.006*\"music\" + '\n",
      "  '0.006*\"artwork\" + 0.006*\"illustration\" + 0.006*\"nature\" + 0.006*\"fanart\" + '\n",
      "  '0.006*\"draw\" + 0.006*\"sketch\"'),\n",
      " (5,\n",
      "  '0.019*\"year\" + 0.009*\"hotel\" + 0.008*\"room\" + 0.008*\"baby\" + 0.008*\"love\" + '\n",
      "  '0.006*\"millionaire\" + 0.006*\"child\" + 0.006*\"remy\" + 0.006*\"assault\" + '\n",
      "  '0.006*\"life\"'),\n",
      " (6,\n",
      "  '0.011*\"soul\" + 0.009*\"dubai\" + 0.008*\"tweet\" + 0.006*\"award\" + '\n",
      "  '0.006*\"butter\" + 0.005*\"baby\" + 0.005*\"train\" + 0.005*\"year\" + '\n",
      "  '0.005*\"number\" + 0.005*\"chairman\"'),\n",
      " (7,\n",
      "  '0.041*\"hailey\" + 0.022*\"bieber\" + 0.010*\"baldwin\" + 0.008*\"story\" + '\n",
      "  '0.008*\"mood\" + 0.006*\"event\" + 0.004*\"mika\" + 0.004*\"mais\" + 0.004*\"ban\" + '\n",
      "  '0.004*\"rlim\"'),\n",
      " (8,\n",
      "  '0.098*\"food\" + 0.020*\"lunch\" + 0.018*\"tasty\" + 0.017*\"gourmand\" + '\n",
      "  '0.017*\"ephoto\" + 0.017*\"porn\" + 0.016*\"dinner\" + 0.016*\"sweet\" + '\n",
      "  '0.014*\"pic\" + 0.013*\"foodie\"'),\n",
      " (9,\n",
      "  '0.010*\"dupont\" + 0.008*\"luxury\" + 0.008*\"court\" + 0.007*\"hall\" + '\n",
      "  '0.007*\"swift\" + 0.007*\"claim\" + 0.005*\"taylor\" + 0.005*\"fuente\" + '\n",
      "  '0.005*\"hater\" + 0.005*\"play\"')]\n"
     ]
    },
    {
     "name": "stderr",
     "output_type": "stream",
     "text": [
      "C:\\Users\\minio\\anaconda3\\envs\\tfm-py-37\\lib\\site-packages\\ipykernel\\ipkernel.py:287: DeprecationWarning: `should_run_async` will not call `transform_cell` automatically in the future. Please pass the result to `transformed_cell` argument and any exception that happen during thetransform in `preprocessing_exc_tuple` in IPython 7.17 and above.\n",
      "  and should_run_async(code)\n"
     ]
    }
   ],
   "source": [
    "# Print the Keyword in the 10 topics\n",
    "pprint(lda_model.print_topics())\n",
    "doc_lda = lda_model[corpus]"
   ]
  },
  {
   "cell_type": "markdown",
   "metadata": {},
   "source": [
    "### Plot perplexity score progress along incremental learning iterations  \n",
    "\n",
    "Lower the perplexity score represents a better model.  "
   ]
  },
  {
   "cell_type": "code",
   "execution_count": 16,
   "metadata": {},
   "outputs": [
    {
     "name": "stderr",
     "output_type": "stream",
     "text": [
      "C:\\Users\\minio\\anaconda3\\envs\\tfm-py-37\\lib\\site-packages\\ipykernel\\ipkernel.py:287: DeprecationWarning: `should_run_async` will not call `transform_cell` automatically in the future. Please pass the result to `transformed_cell` argument and any exception that happen during thetransform in `preprocessing_exc_tuple` in IPython 7.17 and above.\n",
      "  and should_run_async(code)\n"
     ]
    },
    {
     "data": {
      "image/png": "[encoded data removed]",
      "text/plain": [
       "<Figure size 432x288 with 1 Axes>"
      ]
     },
     "metadata": {
      "needs_background": "light"
     },
     "output_type": "display_data"
    }
   ],
   "source": [
    "plt.title('Perplexity score progress')\n",
    "plt.xlabel('Index')\n",
    "plt.ylabel('Perplexity score')\n",
    "plt.plot(indixes, perplexity_score, 'go', perplexity_score, 'k')\n",
    "plt.show()"
   ]
  },
  {
   "cell_type": "markdown",
   "metadata": {},
   "source": [
    "### Plot coherence score progress along incremental learning iterations  \n",
    "\n",
    "Higher the coherence score represents a more human interpretable model.  "
   ]
  },
  {
   "cell_type": "code",
   "execution_count": 17,
   "metadata": {},
   "outputs": [
    {
     "name": "stderr",
     "output_type": "stream",
     "text": [
      "C:\\Users\\minio\\anaconda3\\envs\\tfm-py-37\\lib\\site-packages\\ipykernel\\ipkernel.py:287: DeprecationWarning: `should_run_async` will not call `transform_cell` automatically in the future. Please pass the result to `transformed_cell` argument and any exception that happen during thetransform in `preprocessing_exc_tuple` in IPython 7.17 and above.\n",
      "  and should_run_async(code)\n"
     ]
    },
    {
     "data": {
      "image/png": "[encoded data removed]",
      "text/plain": [
       "<Figure size 432x288 with 1 Axes>"
      ]
     },
     "metadata": {
      "needs_background": "light"
     },
     "output_type": "display_data"
    }
   ],
   "source": [
    "plt.title('Coherence score progress')\n",
    "plt.xlabel('Index')\n",
    "plt.ylabel('Coherence score')\n",
    "plt.plot(indixes, coherence_score, 'go', coherence_score, 'k') \n",
    "plt.show()"
   ]
  },
  {
   "cell_type": "markdown",
   "metadata": {},
   "source": [
    "### Visualize the topics-keywords"
   ]
  },
  {
   "cell_type": "code",
   "execution_count": 18,
   "metadata": {},
   "outputs": [
    {
     "name": "stderr",
     "output_type": "stream",
     "text": [
      "C:\\Users\\minio\\anaconda3\\envs\\tfm-py-37\\lib\\site-packages\\ipykernel\\ipkernel.py:287: DeprecationWarning: `should_run_async` will not call `transform_cell` automatically in the future. Please pass the result to `transformed_cell` argument and any exception that happen during thetransform in `preprocessing_exc_tuple` in IPython 7.17 and above.\n",
      "  and should_run_async(code)\n"
     ]
    },
    {
     "data": {
      "text/html": [
       "\n",
       "<link rel=\"stylesheet\" type=\"text/css\" href=\"https://cdn.rawgit.com/bmabey/pyLDAvis/files/ldavis.v1.0.0.css\">\n",
       "\n",
       "\n",
       "<div id=\"ldavis_el91443122835588296682626754\"></div>\n",
       "<script type=\"text/javascript\">\n",
       "\n",
       "var ldavis_el91443122835588296682626754_data = {\"mdsDat\": {\"x\": [0.16900416893434944, 0.09142800882265766, 0.052333566005464585, -0.06402511615889252, -0.12444701388001637, -0.035260535465665224, -0.03475780840364275, -0.026776185982561106, -0.004475089461196095, -0.023023994410497524], \"y\": [-0.055607497952221085, -0.023736968468215408, 0.040769355344390475, 0.11536563816589115, -0.1597604498914976, 0.03683064775868926, 0.03483219927845387, 0.02487854554369874, -0.010666568261833412, -0.0029049015173560322], \"topics\": [1, 2, 3, 4, 5, 6, 7, 8, 9, 10], \"cluster\": [1, 1, 1, 1, 1, 1, 1, 1, 1, 1], \"Freq\": [15.615678908001854, 13.195554727999722, 13.024832364669543, 12.425780824109674, 10.939664524277955, 9.122237428461274, 8.914055683119772, 7.504505505061193, 5.0846957270985484, 4.1729943072004625]}, \"tinfo\": {\"Term\": [\"food\", \"beauty\", \"style\", \"model\", \"fashion\", \"fitness\", \"bikini\", \"event\", \"hailey\", \"ifbb\", \"lunch\", \"dress\", \"tasty\", \"love\", \"jones\", \"gourmand\", \"ephoto\", \"porn\", \"luxury\", \"book\", \"year\", \"gram\", \"sweet\", \"dinner\", \"pic\", \"trend\", \"navman\", \"glan\", \"bieber\", \"foodie\", \"navman\", \"glan\", \"agency\", \"mumbai\", \"bella\", \"glamour\", \"beach\", \"shot\", \"miami\", \"alert\", \"fash\", \"headshot\", \"rite\", \"consideration\", \"masculina\", \"session\", \"book\", \"content\", \"vids\", \"cire\", \"connie\", \"movie\", \"playboy\", \"street\", \"blog\", \"estilo\", \"moda\", \"tipo\", \"deus\", \"efeitos\", \"print\", \"style\", \"model\", \"join\", \"designer\", \"contact\", \"fashion\", \"portrait\", \"follow\", \"catalog\", \"file\", \"today\", \"event\", \"picture\", \"woman\", \"work\", \"life\", \"shoot\", \"blogger\", \"chanel\", \"diamond\", \"shine\", \"party\", \"dress\", \"stylist\", \"season\", \"shopper\", \"malik\", \"inspiration\", \"haute\", \"valentino\", \"thought\", \"difference\", \"hunter\", \"neha\", \"masterpiece\", \"surreal\", \"punjabi\", \"eyeliner\", \"bracelet\", \"island\", \"area\", \"maybach\", \"idea\", \"beachwear\", \"quote\", \"friendship\", \"bossy\", \"apparel\", \"goal\", \"trend\", \"detail\", \"wedding\", \"hair\", \"luxury\", \"birthday\", \"love\", \"morning\", \"couture\", \"actor\", \"accessory\", \"collection\", \"kitchen\", \"fashion\", \"gift\", \"maison\", \"gram\", \"blogger\", \"picture\", \"style\", \"model\", \"life\", \"jones\", \"hour\", \"heart\", \"downtown\", \"image\", \"guest\", \"place\", \"copy\", \"resolution\", \"venue\", \"keywords\", \"cash\", \"card\", \"camera\", \"carpet\", \"carter\", \"email\", \"runway\", \"dtla\", \"text\", \"request\", \"daughter\", \"medium\", \"summer\", \"toscano\", \"sage\", \"lion\", \"michael\", \"venom\", \"temple\", \"video\", \"event\", \"influencer\", \"post\", \"fan\", \"credit\", \"music\", \"fashion\", \"location\", \"week\", \"people\", \"work\", \"woman\", \"song\", \"ifbb\", \"beauty\", \"fitness\", \"competitor\", \"bikini\", \"brand\", \"seed\", \"molecule\", \"motivation\", \"launch\", \"rosehip\", \"vacuum\", \"restocks\", \"motd\", \"addiction\", \"notification\", \"contest\", \"formula\", \"burberry\", \"league\", \"prep\", \"hardbody\", \"sneak\", \"junkie\", \"iron\", \"taupe\", \"rise\", \"pure\", \"acid\", \"vitamin\", \"fatty\", \"addict\", \"lifestyle\", \"makeup\", \"share\", \"news\", \"doll\", \"point\", \"talk\", \"press\", \"glam\", \"forget\", \"skin\", \"love\", \"time\", \"spot\", \"food\", \"lunch\", \"tasty\", \"ephoto\", \"gourmand\", \"porn\", \"dinner\", \"sweet\", \"pic\", \"foodie\", \"yummy\", \"emilion\", \"pastry\", \"delice\", \"cuisine\", \"wine\", \"palazzo\", \"quaranta\", \"chef\", \"saint\", \"aquitaine\", \"tourisme\", \"patisserie\", \"tarte\", \"franais\", \"prix\", \"roman\", \"pique\", \"ouvert\", \"portelli\", \"paris\", \"dimanche\", \"lover\", \"laura\", \"room\", \"millionaire\", \"child\", \"remy\", \"assault\", \"decade\", \"mufti\", \"trial\", \"cosby\", \"elan\", \"privacy\", \"father\", \"cleaning\", \"dickinson\", \"juror\", \"remorse\", \"innocence\", \"list\", \"mother\", \"wendy\", \"karachi\", \"winter\", \"stitch\", \"hotel\", \"melanin\", \"williams\", \"wait\", \"battle\", \"june\", \"davis\", \"year\", \"interview\", \"baby\", \"thing\", \"hotshot\", \"day\", \"life\", \"love\", \"album\", \"queen\", \"today\", \"drop\", \"nation\", \"jane\", \"tweet\", \"butter\", \"award\", \"number\", \"train\", \"hamza\", \"jordyn\", \"bos\", \"maktoum\", \"word\", \"hamdan\", \"katanga\", \"lilo\", \"achievement\", \"sector\", \"export\", \"council\", \"executive\", \"prince\", \"term\", \"scholar\", \"devote\", \"religion\", \"islam\", \"chris\", \"youtube\", \"performance\", \"mistake\", \"message\", \"journey\", \"dubai\", \"soul\", \"chairman\", \"izzo\", \"eye\", \"twitter\", \"baby\", \"album\", \"music\", \"year\", \"work\", \"people\", \"dupont\", \"swift\", \"hall\", \"fuente\", \"taylor\", \"track\", \"writer\", \"trisha\", \"teddy\", \"butler\", \"phrase\", \"case\", \"shake\", \"dismiss\", \"bail\", \"judge\", \"babe\", \"tomorrow\", \"mark\", \"level\", \"ciara\", \"wilson\", \"court\", \"claim\", \"concern\", \"cent\", \"starz\", \"view\", \"piece\", \"boob\", \"hater\", \"play\", \"success\", \"singer\", \"hate\", \"edition\", \"luxury\", \"work\", \"power\", \"facebook\", \"friend\", \"account\", \"song\", \"statement\", \"artwork\", \"illustration\", \"draw\", \"arte\", \"sketch\", \"fanart\", \"nature\", \"pentru\", \"khan\", \"kente\", \"gallery\", \"arabia\", \"opportunity\", \"celeb\", \"cusson\", \"marie\", \"sylvia\", \"toon\", \"hiei\", \"serg\", \"greg\", \"lara\", \"australia\", \"louise\", \"woodson\", \"investment\", \"discuss\", \"ambassador\", \"manali\", \"taji\", \"design\", \"saudi\", \"artist\", \"gram\", \"fabric\", \"music\", \"artistry\", \"style\", \"fashion\", \"november\", \"art\", \"sister\", \"kid\", \"note\", \"hailey\", \"bieber\", \"baldwin\", \"mika\", \"mais\", \"ban\", \"alemanha\", \"rlim\", \"calvin\", \"klein\", \"velvet\", \"thug\", \"jazz\", \"capsule\", \"mood\", \"prado\", \"mike\", \"escreveu\", \"grandmother\", \"entrevista\", \"oreo\", \"fry\", \"foody\", \"nutella\", \"cream\", \"bhushan\", \"jayde\", \"suburb\", \"kumar\", \"trailer\", \"para\", \"producer\", \"story\", \"edition\", \"twitter\", \"event\", \"niece\", \"vogue\", \"foto\", \"paris\"], \"Freq\": [32.0, 16.0, 23.0, 23.0, 32.0, 12.0, 12.0, 17.0, 5.0, 8.0, 6.0, 7.0, 6.0, 11.0, 6.0, 5.0, 5.0, 5.0, 7.0, 7.0, 7.0, 6.0, 5.0, 5.0, 4.0, 7.0, 5.0, 5.0, 3.0, 4.0, 5.599544777783586, 5.599642330890296, 4.487468627218563, 4.487191487710864, 3.929186830481716, 2.8138453113811734, 2.813957054030678, 2.813745984581614, 2.2560891928625306, 2.255989200928153, 2.2559439717604963, 2.2559439717604963, 2.2559439717604963, 2.2559439717604963, 2.255767711033599, 2.2559439717604963, 7.277297693997307, 1.6979406448009853, 1.6979425293496377, 1.6979255684117665, 1.697929115797465, 1.69768057708696, 1.6967257760550334, 3.3783756063144197, 4.487442465249036, 1.1401384102682615, 1.1401384102682615, 1.1401384102682615, 1.1401384102682615, 1.1401384102682615, 4.491546347079052, 19.583073147560548, 19.54549923824145, 2.0503182077625044, 2.256068573683158, 2.8135655113342, 16.200820026966, 2.2634686419619503, 3.3728361418345196, 2.2688908210021914, 2.2559446368953147, 3.940729580121602, 4.487443352095461, 2.814585606434141, 2.7404130971514453, 2.8148401313580123, 2.263930467237581, 2.2603063693232945, 2.2559543922059855, 4.7129105804351985, 3.1491966026292246, 3.1491062996147114, 3.1490287364445693, 7.3452187232112705, 2.6282302684733834, 2.6280869452242075, 2.10721915751159, 1.5861621456399304, 1.5861139965222335, 1.5860720299760698, 1.585927582622979, 1.585862009894598, 1.0650603569623192, 1.065060263286993, 1.065052300884261, 1.064969772921827, 1.064969772921827, 1.0649693982205222, 1.0649685551425858, 1.065040404117826, 1.0650432143776138, 1.0649243403885917, 1.064917970466406, 1.065059888585688, 1.0649531923890794, 1.0649064484012762, 1.0648997037777856, 1.064903076089531, 1.0648767533228523, 3.6701378317976285, 5.806473716268872, 3.663316019838173, 3.148154933001229, 2.108572016573417, 5.742439511446328, 2.628398322008691, 7.294460935028705, 2.270661993261057, 3.6681654041279277, 2.1280203257592682, 1.5862301539267942, 1.941707783207681, 2.105706300992514, 7.8375170352202375, 2.106893354726863, 1.2771362371441546, 2.625156593668186, 2.1077431772866806, 2.1058256433581675, 2.1094343916269533, 2.106629002956161, 1.5866380162973241, 6.314666564937539, 3.6931988089821823, 3.6929706093921193, 3.1687943017505615, 3.1685624036258138, 2.64455863262731, 2.644738011559531, 2.1202702593847973, 2.1202702593847973, 2.1202702593847973, 2.1202702593847973, 2.120297443614732, 2.1202057199545448, 2.1202702593847973, 2.1202702593847973, 1.5959754137065862, 1.5959216000269199, 1.5959216000269199, 1.5959216000269199, 1.5959216000269199, 1.5958907172623005, 1.583958319734909, 4.217903267376754, 1.0717097864523863, 1.0716304528833938, 1.0716103883327277, 1.0716103883327277, 1.0716077068950811, 1.0716077068950811, 1.071635168515117, 6.318120996333303, 10.95197885749505, 2.1203462642725737, 3.169792906115504, 2.6088270890357936, 1.7081360670026475, 3.1694985027545806, 7.840437132960921, 2.120949125426224, 2.1140582005279183, 2.1213763061823383, 2.1204814457153094, 1.5977220467115645, 1.59608526018673, 7.860026104610484, 15.922430128835604, 11.928448796515202, 4.203119014026066, 12.067453329051594, 3.1270395506682185, 2.6348462699453665, 2.6348462699453665, 2.1127673816836867, 2.1128621199716835, 2.1124706409007996, 2.1124288290306783, 1.5904342701948133, 1.5904342701948133, 1.5904342701948133, 1.5904342701948133, 1.590159229243255, 1.5901107133602026, 1.590097658177127, 1.0680061557858538, 1.0680061557858538, 1.0680061557858538, 1.0680060675751573, 1.067960639066481, 1.0677337611551891, 1.0677297916738484, 1.0677249400855433, 1.067719735654452, 1.067719735654452, 1.067719735654452, 1.067719735654452, 3.681198905018012, 1.0680391465863293, 2.635960900305819, 2.113175091522719, 2.113007314778055, 1.6057612315473047, 3.1589972274668616, 2.638273431924181, 1.5901853396094068, 1.5897545185679023, 1.5924087784243457, 2.112681993729515, 2.1259751692644535, 1.595832588396695, 1.5904697308947897, 32.62706931619969, 6.636597338321317, 6.16407020969087, 5.6915940265107645, 5.6915940265107645, 5.6915530216361, 5.218823975062229, 5.218823975062229, 4.7465459821096685, 4.273980955034457, 4.2663959851504565, 3.8012941559072093, 3.328851832813001, 2.3836799971804368, 1.4385507196374865, 1.4384272390490076, 1.438345850585658, 1.438345850585658, 1.438214293279442, 4.273866638414179, 0.9659457749380739, 0.9659457749380739, 0.9658208964561404, 0.9658203528309082, 0.9658199645271709, 0.9658199645271709, 0.9658199645271709, 0.965819653884181, 0.965819653884181, 0.965819653884181, 1.9109512612495554, 0.965819653884181, 1.4383632465930913, 0.9658607364195931, 2.1769760464297323, 1.7452911549406982, 1.7452845495409508, 1.7452591640830981, 1.7452546309656245, 1.313803389302948, 1.313723217882485, 1.3136855282486322, 1.3136855282486322, 1.3114863186856882, 0.8821379902190506, 0.8821354646250295, 0.8821354646250295, 0.8821166198081032, 0.8821166198081032, 0.8821166198081032, 0.8821166198081032, 0.882121282443219, 0.8820935009089874, 0.882056005551598, 0.881228776371473, 0.8802546094263797, 0.8800148075120222, 2.608332740213672, 0.45086473817603684, 0.4506351681554056, 0.450634391049553, 0.4506018821213846, 0.45059187688353197, 0.45061625857965826, 5.168656916992974, 0.8820876078562717, 2.176655619783164, 1.7447787831485304, 0.883027387867386, 0.8822096134751346, 1.7452389593309297, 2.1734285582124744, 0.8830477868960176, 0.8822374597681872, 0.882222370962882, 0.8821974388167768, 0.8821903801052821, 0.8821350760721032, 2.1458538072483058, 1.7203741722599633, 1.7204388453781179, 1.2950527396154432, 1.2950798238567056, 1.2949657916072783, 1.2946444510065058, 0.869910708428818, 0.8696549901602632, 0.8696544839127629, 0.869617654407121, 0.8696149333268073, 0.8696149333268073, 0.8696143005174319, 0.8695756358646017, 0.8695756358646017, 0.8695698772992866, 0.8695698772992866, 0.8695698772992866, 0.8695593726636568, 0.869546716476151, 0.869546716476151, 0.869546716476151, 0.869546716476151, 0.8695492477136522, 0.8695996193399252, 0.869599113092425, 0.869509633846759, 0.8695366548070839, 0.8695115322748849, 2.5711867570234563, 2.996900151795031, 1.2950003429991692, 1.2949649056741528, 1.294627618277123, 1.2949660447310285, 1.2952621995186644, 1.2947431692690512, 1.2948747936191116, 1.2950595739566964, 0.8696725189799587, 0.8696163887883704, 2.3114304273619477, 1.5464825201969568, 1.5464825201969568, 1.1641243854468617, 1.1641464411030777, 1.1639314250922372, 0.7817256022289094, 0.7816883100565635, 0.7816714753044759, 0.7816514440804728, 0.7816514440804728, 0.7816514440804728, 0.7816514440804728, 0.7816514440804728, 0.7816512842568771, 0.7816463297254083, 0.7811730387838061, 0.7810604696978531, 0.7809516831036668, 0.7809436386493465, 0.7810118833247395, 0.7794944648319821, 1.9287494489484, 1.5464702670546147, 0.3993191208410943, 0.39929011285846233, 0.39929011285846233, 0.3992789518440245, 0.39927780644158817, 0.3992759151957049, 1.1640542761628512, 1.1639855520166709, 0.7816805852494346, 0.7815888465054636, 0.7816192129886596, 0.7817384946656347, 1.9291074538029214, 0.7817679022072561, 0.7817323148199317, 0.7816871380168612, 0.7816828760543073, 0.7816718482261993, 0.7816591156130698, 0.7816353018973002, 0.9111525845153378, 0.9111265229960923, 0.9110745443427495, 0.9110745443427495, 0.9110745443427495, 0.9110745443427495, 0.9110745443427495, 0.6117538086389877, 0.611824412976445, 0.6117050786514788, 0.6116925893361618, 0.31248440185540194, 0.31248440185540194, 0.31248122538214207, 0.31245927883961955, 0.31245927883961955, 0.31245927883961955, 0.31245927883961955, 0.3124591344544714, 0.3124591344544714, 0.31245335904854443, 0.31245335904854443, 0.31245335904854443, 0.31245335904854443, 0.31245335904854443, 0.3124531063745351, 0.3124531063745351, 0.3124531063745351, 0.3124531063745351, 0.3124531063745351, 1.2101758146212862, 0.3124531063745351, 1.8094619657154087, 2.708199593264965, 0.31249172940167175, 0.9116425555156679, 0.31246158900199034, 0.8921172797354607, 0.9109711645766566, 0.31292282735783367, 0.31259204098336596, 0.3124854486477262, 0.3124854486477262, 0.31248263313733676, 5.166146206855271, 2.8464992471880257, 1.3001276629548266, 0.5269191195195104, 0.526786225748986, 0.5267609860047848, 0.5267594455509134, 0.5267594455509134, 0.5267594455509134, 0.5267594455509134, 0.5267568978772029, 0.5267561276502671, 0.5267561276502671, 0.5267288734663879, 1.0420624171634918, 0.26909231821300644, 0.26909231821300644, 0.26904909663226745, 0.2690483264053317, 0.2690477339230735, 0.26904521587347596, 0.26904521587347596, 0.26904521587347596, 0.26904521587347596, 0.26904521587347596, 0.2690456602351696, 0.2690456602351696, 0.2690456602351696, 0.2690456602351696, 0.2690456602351696, 0.2690953991207493, 0.5267548834375249, 1.0422709709183942, 0.5267529874942984, 0.5267369904733259, 0.7831963131036868, 0.26904909663226745, 0.26904909663226745, 0.26916436405560906, 0.26904909663226745], \"Total\": [32.0, 16.0, 23.0, 23.0, 32.0, 12.0, 12.0, 17.0, 5.0, 8.0, 6.0, 7.0, 6.0, 11.0, 6.0, 5.0, 5.0, 5.0, 7.0, 7.0, 7.0, 6.0, 5.0, 5.0, 4.0, 7.0, 5.0, 5.0, 3.0, 4.0, 5.771285180481653, 5.7714270982580205, 4.6565001148146115, 4.65629580662573, 4.098285969482124, 2.9828919182202727, 2.983066767176758, 2.9829917636920906, 2.4251206960410325, 2.425023098604745, 2.4249754552406046, 2.4249754552406046, 2.4249754552406046, 2.4249754552406046, 2.424819809245355, 2.425049350178511, 7.8776013262987385, 1.8669964668665409, 1.8670028100697706, 1.8669860278479575, 1.866994891702676, 1.8674519430451575, 1.8669694949810727, 3.8432142969077274, 5.128897384118289, 1.309182480030994, 1.309182480030994, 1.309182480030994, 1.309182480030994, 1.309182496392748, 5.177634818143583, 23.142913038580218, 23.279882676214402, 2.4124749492012447, 2.682901149591888, 3.5038788543185064, 32.948831488356404, 2.7278385010525086, 4.847629643557265, 2.811451978269678, 2.807390359773988, 8.183914226554911, 17.39368363912591, 5.066975175671074, 5.414444643275141, 6.995778334099967, 6.968052455805171, 4.53629833948395, 4.982106375550433, 4.883564774523653, 3.3198511379065616, 3.3197609127633996, 3.3199537643950325, 7.779191641116147, 2.7988847415921243, 2.7987845748968447, 2.2778734477205114, 1.7568167924762181, 1.7567706982522835, 1.7567262055167512, 1.7565894194824925, 1.75655397443788, 1.2357147407091347, 1.2357149054532859, 1.2357148131476217, 1.2356241533842165, 1.2356241533842165, 1.2356241358089786, 1.235624358516924, 1.2357111402077057, 1.2357147948034126, 1.235578732010214, 1.2355767786995058, 1.235747921215879, 1.2356241460517665, 1.2355740802708688, 1.2355748454092221, 1.2355796848143847, 1.235598718293725, 4.364945086033847, 7.003749993748931, 4.362648988430728, 3.8775625948587877, 2.577963793398237, 7.835756852359713, 3.323376027338482, 11.736332836042614, 3.1293151956574334, 6.072326703055295, 3.092203292815399, 2.139244707906186, 3.151265568317921, 3.653690482692008, 32.948831488356404, 3.8487486943018627, 1.7036389229492874, 6.437019635629032, 4.982106375550433, 5.066975175671074, 23.142913038580218, 23.279882676214402, 6.968052455805171, 6.485213639385075, 3.863773915920474, 3.8640171598420627, 3.3393228506544195, 3.3395170137281958, 2.815175344700786, 2.8154105847932476, 2.2907790185238994, 2.2907790185238994, 2.2907790185238994, 2.2907790185238994, 2.2908186635526766, 2.2907328560032836, 2.2908159449284766, 2.290849698694691, 1.766484999855437, 1.7664401085646755, 1.7664401328143824, 1.7664401328143824, 1.7664401328143824, 1.7664333880626102, 1.7663861381792347, 4.813733864355694, 1.2422320841443364, 1.242145965583578, 1.2421415698927345, 1.2421415698927345, 1.242139119141994, 1.2421391203833012, 1.2421898869575463, 9.27611492048333, 17.39368363912591, 2.8119235328432084, 4.976323740695177, 3.9331412617243755, 2.289173714229217, 5.986159261556448, 32.948831488356404, 3.369130977119035, 3.9103135804931317, 4.6522112656479955, 6.995778334099967, 5.414444643275141, 3.573497548715219, 8.030617329319542, 16.292630073970663, 12.215127541718081, 4.373710235826707, 12.732605003359625, 3.328133133070744, 2.8054707013664566, 2.8054707013664566, 2.2833599396383426, 2.283479495754866, 2.2830884520146295, 2.2830934558257505, 1.761025642474175, 1.761025642474175, 1.761025642474175, 1.7610256476705406, 1.7607515672790828, 1.7607080987180261, 1.7607054430189126, 1.238597374697014, 1.238597374697014, 1.238597374697014, 1.238597461778859, 1.2385520692485499, 1.2383249479189375, 1.2383251263673118, 1.2383245777127223, 1.2383243000052904, 1.2383243000052904, 1.2383243000052904, 1.2383243000052904, 4.323650822791636, 1.238721149257102, 3.326936892621413, 2.7091817222681693, 2.7152994946457762, 2.0668423778652087, 4.89155776150963, 4.095495570135279, 2.19232853146061, 2.1926796028584152, 2.2853534067267685, 3.855966866196308, 11.736332836042614, 4.320712163897668, 2.876402951218573, 32.80057383822672, 6.809437766256118, 6.336914388341658, 5.86438527194754, 5.86438527194754, 5.864344267072875, 5.391648675360608, 5.391652248850101, 4.919337032494768, 4.4467723353890936, 4.447255252075053, 3.9740843642610524, 3.5016421345704023, 2.556471233391206, 1.611341403952554, 1.6112180515665846, 1.6111361413149203, 1.6111361413149203, 1.6112639046741315, 4.9709601175822415, 1.1387359613566301, 1.1387359613566301, 1.1386123717897167, 1.1386121040939807, 1.1386118843568773, 1.1386118843568773, 1.1386118843568773, 1.138611824994579, 1.138611824994579, 1.138611824994579, 2.3414915576603885, 1.138611824994579, 2.1340033226842987, 1.1386903675100375, 2.3515703472201364, 1.9199120747465357, 1.9199128184352194, 1.9199146526950333, 1.9199122133782969, 1.4883999910574244, 1.4883240221909328, 1.488327187466195, 1.488327187466195, 1.4887802400501091, 1.056741423292516, 1.0567421608525487, 1.0567421608525487, 1.0567423468376351, 1.0567423468376351, 1.0567423468376351, 1.0567423468376351, 1.0567911785788666, 1.05677781474441, 1.0567588175210538, 1.056919837182906, 1.0571686276292314, 1.057172483216919, 3.2557294267511447, 0.6254570332403424, 0.6252319884204561, 0.625231996486574, 0.6251945185323395, 0.6251925055028427, 0.6252275138898119, 7.423366876090713, 1.314489025383701, 3.6278648541098346, 3.224616578299553, 1.4397951292712237, 1.5780645697315674, 6.968052455805171, 11.736332836042614, 3.7642717791119114, 2.102039471409599, 8.183914226554911, 3.4937259544461616, 1.6145320597210222, 1.6145058007695707, 2.3207582564765796, 1.8953791917467966, 1.8955682323117315, 1.4699197882985708, 1.4699540030534002, 1.4698796470182676, 1.4701788113106378, 1.044777674445169, 1.044519402676516, 1.0445195083104688, 1.0444824191780369, 1.0444819143869843, 1.0444819143869843, 1.0444816879571188, 1.0444464748057265, 1.0444464748057265, 1.0444468098655082, 1.0444468098655082, 1.0444468156444686, 1.0444480276022128, 1.0444440745015138, 1.0444440745015138, 1.0444440745015138, 1.0444440745015138, 1.0444499879938616, 1.0445469772102889, 1.0445744526932204, 1.0444723851003104, 1.0445082706988944, 1.044521592649863, 3.128792701876815, 3.6926951310753107, 1.769162690050636, 1.9014397920462478, 1.992511518998309, 2.5431368621461505, 3.6278648541098346, 3.7642717791119114, 5.986159261556448, 7.423366876090713, 6.995778334099967, 4.6522112656479955, 2.4882080976958036, 1.7233435121073712, 1.723343528582556, 1.3408929775762095, 1.340929912786336, 1.3409985387681809, 0.9584872324035055, 0.9584532591699283, 0.958456329572999, 0.9584609609278775, 0.9584609609278775, 0.9584609609278775, 0.9584609609278775, 0.9584609609278775, 0.9584608115994215, 0.9585112151182956, 0.9586810096157548, 0.958668637794333, 0.9589233105979145, 0.9589990909205478, 0.9591026657660329, 0.9590026446967836, 2.5374393188807205, 2.1548983428194357, 0.5760818261043835, 0.5760495453966172, 0.5760495598440183, 0.5760481860699703, 0.5760485077217571, 0.5760478152118859, 1.8651503510249139, 1.865275011035164, 1.3838564896229217, 1.3839830218735851, 1.3901653971976753, 1.4739969960878625, 7.835756852359713, 6.995778334099967, 3.382656158407195, 1.5162157274744263, 2.5583942881239157, 2.2408508313167466, 3.573497548715219, 1.9477735003145034, 1.0915754995802573, 1.091549439439304, 1.0914974621642533, 1.0914974621642533, 1.0914974621642533, 1.0914974621642533, 1.0914974635425454, 0.7921766510619177, 0.7923023832198187, 0.7922146334160359, 0.7923593562335559, 0.49290845485349055, 0.49290845485349055, 0.4929110550203434, 0.49288208231919317, 0.49288208231919317, 0.49288208231919317, 0.49288208231919317, 0.4928821636593239, 0.4928821636593239, 0.49288533690167025, 0.4928853507586456, 0.4928853507586456, 0.4928853507586456, 0.4928853507586456, 0.49288504180918863, 0.49288504180918863, 0.49288504180918863, 0.49288504180918863, 0.49288504180918863, 1.948976675070153, 0.49288504180918863, 3.9815103648448327, 6.437019635629032, 0.49298299058269945, 5.986159261556448, 0.4929268021238312, 23.142913038580218, 32.948831488356404, 1.5229377045865657, 1.0173179059551216, 1.0140078426797414, 1.050688517298789, 0.9245101674937733, 5.348401919721997, 3.028754858406134, 1.4823833940993962, 0.7091753900104688, 0.7090407229377113, 0.7090210629185838, 0.7090219325463802, 0.7090219325463802, 0.7090219325463802, 0.7090219325463802, 0.7090231349217401, 0.709024968063119, 0.709024968063119, 0.7090988737421366, 1.697342760949725, 0.45135063397178476, 0.45135063397178476, 0.45130611363562845, 0.4513053319093352, 0.45130675537297343, 0.4513063784226926, 0.4513063784226926, 0.4513063784226926, 0.4513063784226926, 0.45130638853587346, 0.45130835084470816, 0.45130835084470816, 0.45130835084470816, 0.45130835084470816, 0.45130835084470816, 0.4513977984710677, 1.2667867905290457, 4.068770962853988, 1.4739969960878625, 2.5431368621461505, 17.39368363912591, 0.45134307384168604, 0.4513513759212606, 1.0090751082421936, 2.3414915576603885], \"Category\": [\"Default\", \"Default\", \"Default\", \"Default\", \"Default\", \"Default\", \"Default\", \"Default\", \"Default\", \"Default\", \"Default\", \"Default\", \"Default\", \"Default\", \"Default\", \"Default\", \"Default\", \"Default\", \"Default\", \"Default\", \"Default\", \"Default\", \"Default\", \"Default\", \"Default\", \"Default\", \"Default\", \"Default\", \"Default\", \"Default\", \"Topic1\", \"Topic1\", \"Topic1\", \"Topic1\", \"Topic1\", \"Topic1\", \"Topic1\", \"Topic1\", \"Topic1\", \"Topic1\", \"Topic1\", \"Topic1\", \"Topic1\", \"Topic1\", \"Topic1\", \"Topic1\", \"Topic1\", \"Topic1\", \"Topic1\", \"Topic1\", \"Topic1\", \"Topic1\", \"Topic1\", \"Topic1\", \"Topic1\", \"Topic1\", \"Topic1\", \"Topic1\", \"Topic1\", \"Topic1\", \"Topic1\", \"Topic1\", \"Topic1\", \"Topic1\", \"Topic1\", \"Topic1\", \"Topic1\", \"Topic1\", \"Topic1\", \"Topic1\", \"Topic1\", \"Topic1\", \"Topic1\", \"Topic1\", \"Topic1\", \"Topic1\", \"Topic1\", \"Topic1\", \"Topic1\", \"Topic2\", \"Topic2\", \"Topic2\", \"Topic2\", \"Topic2\", \"Topic2\", \"Topic2\", \"Topic2\", \"Topic2\", \"Topic2\", \"Topic2\", \"Topic2\", \"Topic2\", \"Topic2\", \"Topic2\", \"Topic2\", \"Topic2\", \"Topic2\", \"Topic2\", \"Topic2\", \"Topic2\", \"Topic2\", \"Topic2\", \"Topic2\", \"Topic2\", \"Topic2\", \"Topic2\", \"Topic2\", \"Topic2\", \"Topic2\", \"Topic2\", \"Topic2\", \"Topic2\", \"Topic2\", \"Topic2\", \"Topic2\", \"Topic2\", \"Topic2\", \"Topic2\", \"Topic2\", \"Topic2\", \"Topic2\", \"Topic2\", \"Topic2\", \"Topic2\", \"Topic2\", \"Topic2\", \"Topic2\", \"Topic2\", \"Topic2\", \"Topic2\", \"Topic2\", \"Topic2\", \"Topic3\", \"Topic3\", \"Topic3\", \"Topic3\", \"Topic3\", \"Topic3\", \"Topic3\", \"Topic3\", \"Topic3\", \"Topic3\", \"Topic3\", \"Topic3\", \"Topic3\", \"Topic3\", \"Topic3\", \"Topic3\", \"Topic3\", \"Topic3\", \"Topic3\", \"Topic3\", \"Topic3\", \"Topic3\", \"Topic3\", \"Topic3\", \"Topic3\", \"Topic3\", \"Topic3\", \"Topic3\", \"Topic3\", \"Topic3\", \"Topic3\", \"Topic3\", \"Topic3\", \"Topic3\", \"Topic3\", \"Topic3\", \"Topic3\", \"Topic3\", \"Topic3\", \"Topic3\", \"Topic3\", \"Topic3\", \"Topic3\", \"Topic3\", \"Topic4\", \"Topic4\", \"Topic4\", \"Topic4\", \"Topic4\", \"Topic4\", \"Topic4\", \"Topic4\", \"Topic4\", \"Topic4\", \"Topic4\", \"Topic4\", \"Topic4\", \"Topic4\", \"Topic4\", \"Topic4\", \"Topic4\", \"Topic4\", \"Topic4\", \"Topic4\", \"Topic4\", \"Topic4\", \"Topic4\", \"Topic4\", \"Topic4\", \"Topic4\", \"Topic4\", \"Topic4\", \"Topic4\", \"Topic4\", \"Topic4\", \"Topic4\", \"Topic4\", \"Topic4\", \"Topic4\", \"Topic4\", \"Topic4\", \"Topic4\", \"Topic4\", \"Topic4\", \"Topic4\", \"Topic4\", \"Topic4\", \"Topic4\", \"Topic4\", \"Topic4\", \"Topic5\", \"Topic5\", \"Topic5\", \"Topic5\", \"Topic5\", \"Topic5\", \"Topic5\", \"Topic5\", \"Topic5\", \"Topic5\", \"Topic5\", \"Topic5\", \"Topic5\", \"Topic5\", \"Topic5\", \"Topic5\", \"Topic5\", \"Topic5\", \"Topic5\", \"Topic5\", \"Topic5\", \"Topic5\", \"Topic5\", \"Topic5\", \"Topic5\", \"Topic5\", \"Topic5\", \"Topic5\", \"Topic5\", \"Topic5\", \"Topic5\", \"Topic5\", \"Topic5\", \"Topic5\", \"Topic6\", \"Topic6\", \"Topic6\", \"Topic6\", \"Topic6\", \"Topic6\", \"Topic6\", \"Topic6\", \"Topic6\", \"Topic6\", \"Topic6\", \"Topic6\", \"Topic6\", \"Topic6\", \"Topic6\", \"Topic6\", \"Topic6\", \"Topic6\", \"Topic6\", \"Topic6\", \"Topic6\", \"Topic6\", \"Topic6\", \"Topic6\", \"Topic6\", \"Topic6\", \"Topic6\", \"Topic6\", \"Topic6\", \"Topic6\", \"Topic6\", \"Topic6\", \"Topic6\", \"Topic6\", \"Topic6\", \"Topic6\", \"Topic6\", \"Topic6\", \"Topic6\", \"Topic6\", \"Topic6\", \"Topic6\", \"Topic6\", \"Topic6\", \"Topic7\", \"Topic7\", \"Topic7\", \"Topic7\", \"Topic7\", \"Topic7\", \"Topic7\", \"Topic7\", \"Topic7\", \"Topic7\", \"Topic7\", \"Topic7\", \"Topic7\", \"Topic7\", \"Topic7\", \"Topic7\", \"Topic7\", \"Topic7\", \"Topic7\", \"Topic7\", \"Topic7\", \"Topic7\", \"Topic7\", \"Topic7\", \"Topic7\", \"Topic7\", \"Topic7\", \"Topic7\", \"Topic7\", \"Topic7\", \"Topic7\", \"Topic7\", \"Topic7\", \"Topic7\", \"Topic7\", \"Topic7\", \"Topic7\", \"Topic7\", \"Topic7\", \"Topic7\", \"Topic7\", \"Topic7\", \"Topic8\", \"Topic8\", \"Topic8\", \"Topic8\", \"Topic8\", \"Topic8\", \"Topic8\", \"Topic8\", \"Topic8\", \"Topic8\", \"Topic8\", \"Topic8\", \"Topic8\", \"Topic8\", \"Topic8\", \"Topic8\", \"Topic8\", \"Topic8\", \"Topic8\", \"Topic8\", \"Topic8\", \"Topic8\", \"Topic8\", \"Topic8\", \"Topic8\", \"Topic8\", \"Topic8\", \"Topic8\", \"Topic8\", \"Topic8\", \"Topic8\", \"Topic8\", \"Topic8\", \"Topic8\", \"Topic8\", \"Topic8\", \"Topic8\", \"Topic8\", \"Topic8\", \"Topic8\", \"Topic8\", \"Topic8\", \"Topic8\", \"Topic8\", \"Topic9\", \"Topic9\", \"Topic9\", \"Topic9\", \"Topic9\", \"Topic9\", \"Topic9\", \"Topic9\", \"Topic9\", \"Topic9\", \"Topic9\", \"Topic9\", \"Topic9\", \"Topic9\", \"Topic9\", \"Topic9\", \"Topic9\", \"Topic9\", \"Topic9\", \"Topic9\", \"Topic9\", \"Topic9\", \"Topic9\", \"Topic9\", \"Topic9\", \"Topic9\", \"Topic9\", \"Topic9\", \"Topic9\", \"Topic9\", \"Topic9\", \"Topic9\", \"Topic9\", \"Topic9\", \"Topic9\", \"Topic9\", \"Topic9\", \"Topic9\", \"Topic9\", \"Topic9\", \"Topic9\", \"Topic9\", \"Topic9\", \"Topic9\", \"Topic10\", \"Topic10\", \"Topic10\", \"Topic10\", \"Topic10\", \"Topic10\", \"Topic10\", \"Topic10\", \"Topic10\", \"Topic10\", \"Topic10\", \"Topic10\", \"Topic10\", \"Topic10\", \"Topic10\", \"Topic10\", \"Topic10\", \"Topic10\", \"Topic10\", \"Topic10\", \"Topic10\", \"Topic10\", \"Topic10\", \"Topic10\", \"Topic10\", \"Topic10\", \"Topic10\", \"Topic10\", \"Topic10\", \"Topic10\", \"Topic10\", \"Topic10\", \"Topic10\", \"Topic10\", \"Topic10\", \"Topic10\", \"Topic10\", \"Topic10\", \"Topic10\", \"Topic10\"], \"logprob\": [30.0, 29.0, 28.0, 27.0, 26.0, 25.0, 24.0, 23.0, 22.0, 21.0, 20.0, 19.0, 18.0, 17.0, 16.0, 15.0, 14.0, 13.0, 12.0, 11.0, 10.0, 9.0, 8.0, 7.0, 6.0, 5.0, 4.0, 3.0, 2.0, 1.0, -4.442999839782715, -4.442999839782715, -4.664400100708008, -4.664400100708008, -4.7972002029418945, -5.131100177764893, -5.131100177764893, -5.131199836730957, -5.3520002365112305, -5.352099895477295, -5.352099895477295, -5.352099895477295, -5.352099895477295, -5.352099895477295, -5.352200031280518, -5.352099895477295, -4.1809000968933105, -5.636300086975098, -5.636300086975098, -5.636300086975098, -5.636300086975098, -5.63640022277832, -5.63700008392334, -4.948299884796143, -4.664400100708008, -6.0345001220703125, -6.0345001220703125, -6.0345001220703125, -6.0345001220703125, -6.0345001220703125, -4.66349983215332, -3.190999984741211, -3.1928999423980713, -5.447700023651123, -5.352099895477295, -5.131199836730957, -3.3805999755859375, -5.348800182342529, -4.949900150299072, -5.346399784088135, -5.352099895477295, -4.794300079345703, -4.664400100708008, -5.130899906158447, -5.157599925994873, -5.130799770355225, -5.348599910736084, -5.350200176239014, -5.352099895477295, -4.447000026702881, -4.850100040435791, -4.850200176239014, -4.850200176239014, -4.003200054168701, -5.031000137329102, -5.031000137329102, -5.2519001960754395, -5.535999774932861, -5.535999774932861, -5.535999774932861, -5.536099910736084, -5.536200046539307, -5.934199810028076, -5.934199810028076, -5.934299945831299, -5.934299945831299, -5.934299945831299, -5.934299945831299, -5.934299945831299, -5.934299945831299, -5.934299945831299, -5.9344000816345215, -5.9344000816345215, -5.934199810028076, -5.934299945831299, -5.9344000816345215, -5.9344000816345215, -5.9344000816345215, -5.9344000816345215, -4.697000026702881, -4.23829984664917, -4.69890022277832, -4.850500106811523, -5.251299858093262, -4.2494001388549805, -5.030900001525879, -4.010200023651123, -5.177199840545654, -4.6975998878479, -5.242099761962891, -5.535900115966797, -5.333700180053711, -5.252600193023682, -3.9384000301361084, -5.252099990844727, -5.752699851989746, -5.032100200653076, -5.251699924468994, -5.252600193023682, -5.250899791717529, -5.252200126647949, -5.535699844360352, -4.14139986038208, -4.677800178527832, -4.677800178527832, -4.830900192260742, -4.830999851226807, -5.0117998123168945, -5.01170015335083, -5.232699871063232, -5.232699871063232, -5.232699871063232, -5.232699871063232, -5.232699871063232, -5.232699871063232, -5.232699871063232, -5.232699871063232, -5.5167999267578125, -5.5167999267578125, -5.5167999267578125, -5.5167999267578125, -5.5167999267578125, -5.5167999267578125, -5.5243000984191895, -4.544899940490723, -5.914999961853027, -5.91510009765625, -5.91510009765625, -5.91510009765625, -5.91510009765625, -5.91510009765625, -5.91510009765625, -4.1407999992370605, -3.5906999111175537, -5.232699871063232, -4.830599784851074, -5.025400161743164, -5.44890022277832, -4.830699920654297, -3.924999952316284, -5.232399940490723, -5.235599994659424, -5.2322001457214355, -5.232600212097168, -5.515699863433838, -5.51669979095459, -3.8754000663757324, -3.1693999767303467, -3.458199977874756, -4.501299858093262, -3.446700096130371, -4.797100067138672, -4.968299865722656, -4.968299865722656, -5.189199924468994, -5.1890997886657715, -5.189300060272217, -5.189300060272217, -5.473199844360352, -5.473199844360352, -5.473199844360352, -5.473199844360352, -5.473299980163574, -5.473400115966797, -5.473400115966797, -5.871399879455566, -5.871399879455566, -5.871399879455566, -5.871399879455566, -5.871399879455566, -5.871600151062012, -5.871600151062012, -5.871600151062012, -5.871600151062012, -5.871600151062012, -5.871600151062012, -5.871600151062012, -4.633900165557861, -5.871300220489502, -4.967899799346924, -5.189000129699707, -5.1890997886657715, -5.463600158691406, -4.786900043487549, -4.9670000076293945, -5.473299980163574, -5.473599910736084, -5.47189998626709, -5.189199924468994, -5.1828999519348145, -5.469799995422363, -5.473100185394287, -2.324700117111206, -3.9172000885009766, -3.9911000728607178, -4.070799827575684, -4.070799827575684, -4.070799827575684, -4.15749979019165, -4.15749979019165, -4.252399921417236, -4.3572001457214355, -4.359000205993652, -4.4745001792907715, -4.6072001457214355, -4.941100120544434, -5.446199893951416, -5.446199893951416, -5.446300029754639, -5.446300029754639, -5.446400165557861, -4.3572998046875, -5.844399929046631, -5.844399929046631, -5.844600200653076, -5.844600200653076, -5.844600200653076, -5.844600200653076, -5.844600200653076, -5.844600200653076, -5.844600200653076, -5.844600200653076, -5.162199974060059, -5.844600200653076, -5.446300029754639, -5.8445000648498535, -4.850200176239014, -5.071199893951416, -5.071199893951416, -5.071199893951416, -5.071199893951416, -5.355199813842773, -5.355199813842773, -5.355299949645996, -5.355299949645996, -5.35699987411499, -5.753499984741211, -5.753499984741211, -5.753499984741211, -5.753499984741211, -5.753499984741211, -5.753499984741211, -5.753499984741211, -5.753499984741211, -5.753600120544434, -5.753600120544434, -5.7546000480651855, -5.75570011138916, -5.755899906158447, -4.669400215148926, -6.424699783325195, -6.42519998550415, -6.42519998550415, -6.425300121307373, -6.425300121307373, -6.425300121307373, -3.9855000972747803, -5.753600120544434, -4.850299835205078, -5.071499824523926, -5.752500057220459, -5.753399848937988, -5.071199893951416, -4.851799964904785, -5.752500057220459, -5.753399848937988, -5.753399848937988, -5.753499984741211, -5.753499984741211, -5.753499984741211, -4.8414998054504395, -5.0625, -5.062399864196777, -5.346499919891357, -5.346499919891357, -5.346499919891357, -5.346799850463867, -5.7444000244140625, -5.744699954986572, -5.744699954986572, -5.744699954986572, -5.744699954986572, -5.744699954986572, -5.744699954986572, -5.744800090789795, -5.744800090789795, -5.744800090789795, -5.744800090789795, -5.744800090789795, -5.744800090789795, -5.744800090789795, -5.744800090789795, -5.744800090789795, -5.744800090789795, -5.744800090789795, -5.744800090789795, -5.744800090789795, -5.744900226593018, -5.744800090789795, -5.744900226593018, -4.660699844360352, -4.507400035858154, -5.346499919891357, -5.346499919891357, -5.346799850463867, -5.346499919891357, -5.34630012512207, -5.346700191497803, -5.34660005569458, -5.346499919891357, -5.744699954986572, -5.744699954986572, -4.59499979019165, -4.9969000816345215, -4.9969000816345215, -5.280900001525879, -5.280900001525879, -5.281099796295166, -5.679200172424316, -5.679200172424316, -5.679200172424316, -5.679200172424316, -5.679200172424316, -5.679200172424316, -5.679200172424316, -5.679200172424316, -5.679200172424316, -5.679299831390381, -5.679900169372559, -5.679999828338623, -5.680099964141846, -5.680200099945068, -5.680099964141846, -5.682000160217285, -4.776000022888184, -4.9969000816345215, -6.350900173187256, -6.35099983215332, -6.35099983215332, -6.35099983215332, -6.35099983215332, -6.35099983215332, -5.281000137329102, -5.281099796295166, -5.679200172424316, -5.679299831390381, -5.679299831390381, -5.679100036621094, -4.7758002281188965, -5.679100036621094, -5.679100036621094, -5.679200172424316, -5.679200172424316, -5.679200172424316, -5.679200172424316, -5.679299831390381, -5.13670015335083, -5.13670015335083, -5.1367998123168945, -5.1367998123168945, -5.1367998123168945, -5.1367998123168945, -5.1367998123168945, -5.535099983215332, -5.534900188446045, -5.535099983215332, -5.535200119018555, -6.2067999839782715, -6.2067999839782715, -6.2067999839782715, -6.206900119781494, -6.206900119781494, -6.206900119781494, -6.206900119781494, -6.206900119781494, -6.206900119781494, -6.206900119781494, -6.206900119781494, -6.206900119781494, -6.206900119781494, -6.206900119781494, -6.206900119781494, -6.206900119781494, -6.206900119781494, -6.206900119781494, -6.206900119781494, -4.85290002822876, -6.206900119781494, -4.4506001472473145, -4.047399997711182, -6.2067999839782715, -5.136099815368652, -6.206900119781494, -5.157800197601318, -5.136899948120117, -6.205399990081787, -6.206500053405762, -6.2067999839782715, -6.2067999839782715, -6.2067999839782715, -3.203900098800659, -3.7999000549316406, -4.583600044250488, -5.486700057983398, -5.486999988555908, -5.486999988555908, -5.486999988555908, -5.486999988555908, -5.486999988555908, -5.486999988555908, -5.486999988555908, -5.486999988555908, -5.486999988555908, -5.487100124359131, -4.804800033569336, -6.158699989318848, -6.158699989318848, -6.158899784088135, -6.158899784088135, -6.158899784088135, -6.158899784088135, -6.158899784088135, -6.158899784088135, -6.158899784088135, -6.158899784088135, -6.158899784088135, -6.158899784088135, -6.158899784088135, -6.158899784088135, -6.158899784088135, -6.158699989318848, -5.487100124359131, -4.804599761962891, -5.487100124359131, -5.487100124359131, -5.090400218963623, -6.158899784088135, -6.158899784088135, -6.1585001945495605, -6.158899784088135], \"loglift\": [30.0, 29.0, 28.0, 27.0, 26.0, 25.0, 24.0, 23.0, 22.0, 21.0, 20.0, 19.0, 18.0, 17.0, 16.0, 15.0, 14.0, 13.0, 12.0, 11.0, 10.0, 9.0, 8.0, 7.0, 6.0, 5.0, 4.0, 3.0, 2.0, 1.0, 1.8267, 1.8267, 1.8199, 1.8199, 1.8148, 1.7986, 1.7985, 1.7985, 1.7846, 1.7846, 1.7846, 1.7846, 1.7846, 1.7846, 1.7846, 1.7846, 1.7776, 1.762, 1.762, 1.762, 1.762, 1.7616, 1.7613, 1.728, 1.7233, 1.7186, 1.7186, 1.7186, 1.7186, 1.7186, 1.7147, 1.6899, 1.6821, 1.6942, 1.6836, 1.6375, 1.147, 1.6703, 1.4942, 1.6425, 1.6382, 1.1261, 0.5021, 1.269, 1.1759, 0.9465, 0.7327, 1.1603, 1.0646, 1.9897, 1.9725, 1.9725, 1.9724, 1.9679, 1.9624, 1.9624, 1.9474, 1.9231, 1.9231, 1.9231, 1.9231, 1.9231, 1.8767, 1.8767, 1.8767, 1.8767, 1.8767, 1.8767, 1.8767, 1.8767, 1.8767, 1.8767, 1.8767, 1.8766, 1.8766, 1.8766, 1.8766, 1.8766, 1.8766, 1.8519, 1.8378, 1.8506, 1.8169, 1.8243, 1.7145, 1.7907, 1.5497, 1.7045, 1.5212, 1.6516, 1.7262, 1.5411, 1.4742, 0.5893, 1.4228, 1.7371, 1.1284, 1.1651, 1.1473, -0.37, -0.3772, 0.5456, 2.0117, 1.9932, 1.993, 1.9859, 1.9858, 1.9758, 1.9758, 1.961, 1.961, 1.961, 1.961, 1.961, 1.961, 1.9609, 1.9609, 1.9368, 1.9368, 1.9368, 1.9368, 1.9368, 1.9368, 1.9293, 1.9062, 1.8907, 1.8907, 1.8906, 1.8906, 1.8906, 1.8906, 1.8906, 1.6543, 1.5757, 1.756, 1.5873, 1.6278, 1.7455, 1.4024, 0.6027, 1.5755, 1.4233, 1.253, 0.8446, 0.8178, 1.2323, 2.0639, 2.0624, 2.0616, 2.0456, 2.0317, 2.0231, 2.0227, 2.0227, 2.0077, 2.0077, 2.0077, 2.0077, 1.9835, 1.9835, 1.9835, 1.9835, 1.9835, 1.9835, 1.9835, 1.9372, 1.9372, 1.9372, 1.9372, 1.9372, 1.9372, 1.9372, 1.9372, 1.9372, 1.9372, 1.9372, 1.9372, 1.9245, 1.9371, 1.8526, 1.8369, 1.8346, 1.833, 1.6481, 1.6456, 1.7643, 1.7639, 1.7241, 1.4837, 0.3769, 1.0894, 1.4929, 2.2075, 2.1871, 2.1851, 2.1829, 2.1829, 2.1829, 2.1802, 2.1802, 2.177, 2.1731, 2.1713, 2.1683, 2.1622, 2.1428, 2.0993, 2.0993, 2.0993, 2.0993, 2.0992, 2.0617, 2.0482, 2.0482, 2.0482, 2.0482, 2.0482, 2.0482, 2.0482, 2.0482, 2.0482, 2.0482, 2.0096, 2.0482, 1.8183, 2.0482, 2.3173, 2.2991, 2.2991, 2.2991, 2.2991, 2.2697, 2.2697, 2.2696, 2.2696, 2.2677, 2.2139, 2.2139, 2.2139, 2.2138, 2.2138, 2.2138, 2.2138, 2.2138, 2.2138, 2.2137, 2.2127, 2.2113, 2.211, 2.1727, 2.0671, 2.067, 2.067, 2.067, 2.067, 2.067, 2.0324, 1.9955, 1.8836, 1.7803, 1.9056, 1.8129, 1.01, 0.7081, 0.9445, 1.5263, 0.167, 1.0181, 1.7901, 1.79, 2.3392, 2.3207, 2.3206, 2.2909, 2.2909, 2.2908, 2.2904, 2.2344, 2.2343, 2.2343, 2.2343, 2.2343, 2.2343, 2.2343, 2.2343, 2.2343, 2.2343, 2.2343, 2.2343, 2.2343, 2.2343, 2.2343, 2.2343, 2.2343, 2.2343, 2.2342, 2.2342, 2.2342, 2.2342, 2.2342, 2.2213, 2.2088, 2.1055, 2.0334, 1.9864, 1.7426, 1.3876, 1.3503, 0.8865, 0.6715, 0.3326, 0.7405, 2.516, 2.4814, 2.4814, 2.4483, 2.4483, 2.4481, 2.3858, 2.3858, 2.3858, 2.3857, 2.3857, 2.3857, 2.3857, 2.3857, 2.3857, 2.3857, 2.3849, 2.3848, 2.3844, 2.3843, 2.3843, 2.3824, 2.3154, 2.2579, 2.2232, 2.2232, 2.2232, 2.2231, 2.2231, 2.2231, 2.1182, 2.1181, 2.0185, 2.0183, 2.0139, 1.9555, 1.188, 0.3982, 1.1248, 1.9271, 1.404, 1.5365, 1.0698, 1.6766, 2.7983, 2.7983, 2.7983, 2.7983, 2.7983, 2.7983, 2.7983, 2.7205, 2.7204, 2.7204, 2.7201, 2.5232, 2.5232, 2.5232, 2.5231, 2.5231, 2.5231, 2.5231, 2.5231, 2.5231, 2.5231, 2.5231, 2.5231, 2.5231, 2.5231, 2.5231, 2.5231, 2.5231, 2.5231, 2.5231, 2.5024, 2.5231, 2.1903, 2.1132, 2.523, 1.097, 2.5231, -0.2769, -0.6093, 1.3965, 1.7989, 1.8018, 1.7663, 1.8942, 3.1419, 3.1145, 3.0453, 2.8795, 2.8794, 2.8794, 2.8794, 2.8794, 2.8794, 2.8794, 2.8794, 2.8794, 2.8794, 2.8792, 2.6887, 2.6593, 2.6593, 2.6593, 2.6593, 2.6593, 2.6593, 2.6593, 2.6593, 2.6593, 2.6593, 2.6593, 2.6593, 2.6593, 2.6593, 2.6593, 2.6593, 2.299, 1.8146, 2.1475, 1.6021, 0.0761, 2.6592, 2.6592, 1.8551, 1.0129]}, \"token.table\": {\"Topic\": [2, 7, 8, 7, 4, 1, 2, 4, 4, 1, 3, 6, 7, 10, 1, 2, 5, 2, 3, 9, 2, 3, 9, 9, 6, 7, 8, 6, 7, 8, 10, 10, 1, 2, 4, 1, 10, 2, 4, 2, 3, 1, 1, 2, 1, 7, 2, 2, 4, 4, 8, 7, 10, 3, 10, 3, 3, 3, 8, 3, 1, 7, 2, 5, 6, 7, 8, 1, 8, 6, 2, 3, 4, 1, 1, 1, 2, 1, 4, 3, 6, 7, 8, 1, 2, 3, 5, 3, 2, 6, 6, 5, 1, 9, 1, 2, 3, 1, 7, 2, 6, 2, 5, 5, 8, 4, 3, 9, 2, 3, 4, 6, 3, 7, 8, 8, 10, 1, 6, 3, 5, 5, 1, 1, 2, 3, 10, 7, 7, 4, 7, 2, 1, 8, 1, 3, 9, 1, 1, 2, 3, 9, 6, 4, 1, 4, 1, 3, 5, 5, 3, 4, 4, 1, 5, 1, 2, 8, 2, 8, 9, 2, 3, 4, 4, 1, 1, 2, 3, 5, 2, 5, 9, 3, 10, 2, 8, 7, 7, 4, 8, 3, 8, 2, 1, 3, 6, 6, 3, 2, 2, 4, 9, 3, 2, 3, 6, 2, 6, 4, 7, 2, 7, 1, 6, 10, 1, 3, 7, 7, 8, 4, 6, 6, 7, 9, 3, 9, 1, 2, 5, 10, 4, 5, 4, 8, 1, 2, 3, 6, 4, 7, 3, 6, 1, 2, 3, 2, 4, 6, 4, 5, 5, 2, 8, 10, 2, 2, 4, 7, 2, 8, 1, 2, 2, 3, 7, 1, 3, 10, 6, 7, 1, 1, 2, 4, 4, 10, 2, 4, 6, 4, 1, 6, 1, 3, 7, 9, 1, 6, 9, 1, 2, 4, 4, 1, 7, 5, 5, 5, 2, 5, 5, 9, 1, 2, 3, 7, 7, 8, 5, 1, 2, 5, 3, 3, 8, 1, 2, 4, 5, 5, 1, 1, 2, 3, 3, 7, 8, 4, 4, 7, 1, 2, 6, 5, 1, 10, 2, 4, 5, 2, 3, 6, 2, 7, 6, 6, 3, 3, 4, 4, 1, 10, 5, 6, 4, 3, 3, 3, 5, 7, 2, 7, 4, 1, 8, 4, 2, 1, 2, 3, 8, 2, 1, 8, 2, 9, 3, 4, 4, 2, 3, 8, 2, 7, 1, 4, 1, 8, 6, 1, 3, 4, 10, 1, 1, 2, 9, 2, 8, 3, 2, 5, 8, 3, 4, 8, 5, 5, 4, 8, 8, 3, 7, 3, 3, 4, 6, 2, 10, 1, 2, 3, 4, 1, 1, 2, 4, 6, 7, 8, 8, 3, 5, 8, 7, 1, 2, 3, 6, 8, 7, 1, 7, 10, 4, 2, 10, 3, 3, 1, 2, 3, 8, 1, 4, 1, 2, 3, 8, 6, 8, 5, 6, 1, 3, 6, 7, 1, 3, 7, 8, 8, 6, 7, 8, 7, 5], \"Freq\": [0.9349094063939635, 0.4462590664334359, 0.4462590664334359, 0.9574126684364188, 0.8075429029340115, 0.32339400269169133, 0.6467880053833827, 0.9251440886286313, 1.135701804540492, 0.8590142599318397, 0.2656556323985527, 0.2656556323985527, 0.2656556323985527, 1.4103936057501092, 0.8247344122828004, 0.8093242451569793, 0.8781666988093119, 0.8093373364990337, 0.9829768985154522, 0.9161725378794474, 0.25116096866897697, 0.25116096866897697, 0.5023219373379539, 0.9161070401310117, 1.0417142961348111, 1.055092592241277, 1.043099831925122, 0.5512884521412906, 0.2756442260706453, 1.0433394750185565, 0.6745893160841414, 1.410395335624647, 1.005676451164138, 0.8093075901724123, 0.982039113842143, 0.9760177864077788, 0.9905060462961119, 0.07853852371420773, 0.9424622845704929, 0.9026965276639319, 0.300898842554644, 0.7798947220870635, 0.4014366312640275, 0.4014366312640275, 0.8885953617163974, 0.9571414325359239, 0.8093367123871297, 0.8092506148580275, 0.9014062479021121, 1.1359083416989908, 1.0433393124660069, 1.0551978246404532, 1.4103936057501092, 0.8730513703764374, 1.4102405701516447, 0.8730830374910958, 0.8730385066901529, 1.1321918952969727, 1.0433393124660069, 0.8730503342845717, 0.7113761911846382, 0.5652391414445771, 1.0238422609000213, 0.62063079617131, 1.0417139678405052, 0.9574417267415175, 1.0426412475887579, 1.071245295984012, 0.92811802777816, 0.9463046304438438, 0.6346656467507934, 0.3173328233753967, 0.9145553281592581, 1.0712402100768605, 0.8247506157960519, 0.856193985217988, 0.28539799507266267, 1.0712393062835757, 1.1358785856943077, 0.8730654436012482, 0.6718952716992637, 0.9574446401236731, 0.7881961886214531, 0.32936304283392703, 0.6587260856678541, 0.8736776888395366, 0.6206009462346349, 1.1322552621826907, 0.6336876317868935, 0.6336876317868935, 0.6718624066166221, 0.7823283805728427, 0.5130897731056762, 0.5130897731056762, 0.7454616806527635, 0.916874130971244, 0.229218532742811, 0.7638354585804766, 0.9574471476390675, 0.9036549758950174, 0.9463044638956317, 0.8092482569449111, 0.8782624403226807, 0.9273601269403159, 1.0433393124660069, 0.9676596635616459, 0.8983857309310715, 0.9161725378794474, 0.8998364255486642, 0.2862273724495726, 0.2862273724495726, 0.2862273724495726, 1.1322206526260803, 0.9588362943318174, 0.8037912913522357, 0.6784274341495277, 0.6784274341495277, 0.7638354490342996, 0.6716908064056131, 1.1322206681692164, 1.0065211589295906, 1.0231251395949679, 0.7638354585804766, 0.22996853817682825, 0.05749213454420706, 0.6324134799862777, 0.05749213454420706, 0.9574446401236731, 0.9574449472731537, 0.5018791562634116, 0.5018791562634116, 0.8093074510122675, 0.6595367544865852, 0.6595367544865852, 0.25424970359736787, 0.7627491107921036, 0.9161725378794474, 0.8247506157960519, 0.48560143948212997, 0.24280071974106499, 0.24280071974106499, 0.030350089967633123, 0.9463046304438438, 0.8075429029340115, 0.7124053814023256, 0.9823884326231257, 0.618859158101557, 0.20628638603385235, 1.0060799595384171, 0.8995288488611143, 0.43756908540122247, 0.8751381708024449, 1.1359066283935437, 0.9910065086651454, 0.8782623945338762, 0.3908701659638653, 0.3908701659638653, 0.3908701659638653, 0.8093398823353354, 0.7457716735959005, 1.2620536277295373, 0.5196494130575565, 0.25982470652877826, 0.25982470652877826, 0.9121259655960521, 1.0057354011639599, 1.0396042257574334, 0.9163918265085323, 0.2290979566271331, 1.0231251395949679, 0.46605419430367123, 0.15535139810122375, 0.46605419430367123, 1.0656529816684859, 0.9348586877068307, 0.7758060858425119, 1.1605347203438847, 0.957411998171264, 0.6803278091703328, 0.8073648632144245, 0.7193388657319634, 0.5361498066096884, 0.5361498066096884, 1.138481337455593, 0.8247506157960519, 1.0351920901312703, 0.9214524939787966, 0.694543258044057, 1.0352572606586048, 0.8092481490568241, 0.809226528187139, 0.9961874251923624, 0.9161289116814259, 0.8983334978284291, 0.35562844733152266, 0.7112568946630453, 0.9463044638956317, 1.1384525037841833, 0.7607518820540162, 0.8075424804131955, 0.9574471476390675, 0.8092482215195036, 0.5259172571138017, 0.61938458166167, 0.61938458166167, 1.410387567495335, 0.8290241524216396, 0.9251815489256446, 0.6801893703722461, 0.957376091635487, 1.043284610787349, 0.8073943961086082, 0.9463044638956317, 0.9461455493780692, 0.9574124608820143, 1.2622841813562466, 0.8730654436012482, 1.2621443796951914, 0.9517568561336295, 0.5473917425338167, 0.27369587126690836, 1.4103936057501092, 0.8758563427953383, 0.8782018611316522, 0.8073648632144245, 1.0427538560439042, 0.28702424568198753, 0.28702424568198753, 0.14351212284099377, 0.28702424568198753, 0.8072841903117016, 0.9574124608820143, 0.8050612138247296, 0.9462607374758396, 0.29681244415588326, 0.29681244415588326, 0.5936248883117665, 0.5964384359058734, 0.1704109816873924, 0.1704109816873924, 0.4686028317622908, 0.4686028317622908, 1.0279850173076264, 0.7657205440458658, 0.2552401813486219, 1.4103562287040166, 0.5869788407210318, 0.3005767864782262, 0.9017303594346787, 0.9573780989013341, 1.1384226338029346, 1.0428362611984823, 0.8248035554536458, 0.8093075853698133, 0.8093386159721617, 0.8309557845768838, 0.9573883022782449, 0.8247012213721838, 0.8050628022171532, 1.4100884126636686, 1.041714371354239, 0.9574211958738964, 0.7638354585804766, 0.859110858854734, 0.0859110858854734, 0.0429555429427367, 1.0693392729208664, 0.5891561934375964, 0.6391174665867504, 1.135701804540492, 0.94627270372993, 0.875902202399494, 1.0709780283495292, 0.6718967006444735, 0.8590519516196016, 0.5011560616614762, 0.1670520205538254, 0.1670520205538254, 0.6193745079133279, 0.6193745079133279, 0.9161725367225474, 1.039629789962876, 0.8092482095061989, 0.7365669989420116, 1.1357018011893076, 0.65662567614443, 0.680309230449573, 0.8782624403226807, 0.6206800122948364, 0.8541564002043185, 0.9036270420912518, 0.8567408903331734, 0.8782620185552347, 1.262344703873175, 0.21495154516821205, 0.21495154516821205, 0.4299030903364241, 0.21495154516821205, 0.957327644211196, 1.0433393124660069, 1.0163971215983802, 0.5920692121020067, 0.39471280806800446, 0.8782624403226807, 1.0655639416161065, 0.5361139746599801, 0.5361139746599801, 1.0712547823499794, 0.4088677058538426, 0.6133015587807639, 1.0231322935266276, 0.8782624403226807, 0.7331812346032657, 0.2009515562306047, 0.2009515562306047, 0.6028546686918141, 0.5912513440153339, 0.29562567200766693, 0.29562567200766693, 0.8073648632144245, 0.9122720300809689, 0.9574446348260988, 0.7725535192213848, 0.1931383798053462, 0.946305290923748, 0.8782623945338762, 0.7893988218667578, 0.7893988218667578, 0.8093075968812211, 0.8075429029340115, 0.6206800122948364, 0.4757284597179394, 0.4757284597179394, 0.4757284597179394, 0.809340383525021, 0.9574471476390675, 0.9463044638956317, 1.0417129726014378, 1.1322249757708447, 0.8730654436012482, 1.135701804540492, 0.8075427218339432, 0.8247506157960519, 1.4103936057501092, 0.8782623945338762, 0.8504955007466656, 0.8760063580695578, 1.1322206526260803, 0.8050612138247296, 0.2011683812274029, 0.8046735249096116, 0.9574471476390675, 1.0718938595374286, 0.9574449472731537, 1.0693392729208664, 0.8247254843918032, 1.0433393124660069, 0.7382302868652048, 0.9036795356153442, 0.4408881097153589, 0.22044405485767946, 0.22044405485767946, 0.22044405485767946, 0.8780119027250693, 1.005701737602808, 0.722552216461613, 0.9861856663329915, 0.9161725378794474, 0.5186766560504412, 0.5186766560504412, 0.8073648064511708, 0.27983788609552296, 0.5596757721910459, 0.27983788609552296, 0.27080491741239426, 0.8124147522371828, 0.34765643651434697, 0.6953128730286939, 0.5134067178953466, 0.5134067178953466, 0.9459194368709388, 0.24577446337715764, 0.24577446337715764, 0.24577446337715764, 0.24577446337715764, 0.7805965965556012, 0.8641954436184914, 0.08641954436184913, 0.04320977218092457, 1.0718554985202688, 0.7226182826750219, 0.8050025536804674, 0.8093075853698133, 0.927359512302814, 1.1605347314386105, 0.24417069506608421, 0.7325120851982527, 0.24417069506608421, 0.8782622250408294, 0.9468330534871204, 0.8075423640425916, 0.7457511317068666, 1.0433443539837741, 0.8050298996148376, 0.9574435238254467, 1.1322206526260803, 0.3101143890190297, 0.3101143890190297, 0.6202287780380594, 1.138592966174026, 1.410387567495335, 0.23144332741154197, 0.23144332741154197, 0.23144332741154197, 0.46288665482308394, 0.7638354585804766, 0.48876367582408475, 0.12219091895602119, 0.12219091895602119, 0.12219091895602119, 0.12219091895602119, 0.12219091895602119, 1.0431132933489518, 0.805058364884022, 0.8781666988093119, 0.7457129676804745, 0.6802933955231197, 0.14278065334892476, 0.8566839200935484, 0.14278065334892476, 0.6718952716992637, 1.0433476963352948, 0.861787303532613, 0.39321517252362936, 0.39321517252362936, 0.39321517252362936, 0.8760044381436146, 1.1385699912670648, 1.4103912139769277, 0.8050628014126295, 0.8730654436012482, 0.107803752818092, 0.107803752818092, 0.646822516908552, 0.107803752818092, 1.0712356667129275, 0.8075429029340115, 0.257893967031219, 0.7736819010936569, 0.511467931875627, 0.2557339659378135, 0.9462897147580006, 1.0427499919107928, 0.6206484584924441, 0.9459228867229671, 0.5540734456905134, 0.36938229712700893, 0.18469114856350446, 0.9573780020801335, 0.42883005388791545, 0.2858867025919436, 0.1429433512959718, 0.1429433512959718, 1.0433107152532402, 0.673548820024519, 0.1347097640049038, 0.1347097640049038, 0.9573528255002354, 0.8994311712001763], \"Term\": [\"accessory\", \"account\", \"account\", \"achievement\", \"acid\", \"actor\", \"actor\", \"addict\", \"addiction\", \"agency\", \"album\", \"album\", \"album\", \"alemanha\", \"alert\", \"apparel\", \"aquitaine\", \"area\", \"art\", \"arte\", \"artist\", \"artist\", \"artist\", \"artwork\", \"assault\", \"award\", \"babe\", \"baby\", \"baby\", \"bail\", \"baldwin\", \"ban\", \"beach\", \"beachwear\", \"beauty\", \"bella\", \"bieber\", \"bikini\", \"bikini\", \"birthday\", \"birthday\", \"blog\", \"blogger\", \"blogger\", \"book\", \"bos\", \"bossy\", \"bracelet\", \"brand\", \"burberry\", \"butler\", \"butter\", \"calvin\", \"camera\", \"capsule\", \"card\", \"carpet\", \"carter\", \"case\", \"cash\", \"catalog\", \"chairman\", \"chanel\", \"chef\", \"child\", \"chris\", \"ciara\", \"cire\", \"claim\", \"cleaning\", \"collection\", \"collection\", \"competitor\", \"connie\", \"consideration\", \"contact\", \"contact\", \"content\", \"contest\", \"copy\", \"cosby\", \"council\", \"court\", \"couture\", \"couture\", \"credit\", \"cuisine\", \"daughter\", \"day\", \"day\", \"decade\", \"delice\", \"design\", \"design\", \"designer\", \"detail\", \"detail\", \"deus\", \"devote\", \"diamond\", \"dickinson\", \"difference\", \"dimanche\", \"dinner\", \"dismiss\", \"doll\", \"downtown\", \"draw\", \"dress\", \"drop\", \"drop\", \"drop\", \"dtla\", \"dubai\", \"dupont\", \"edition\", \"edition\", \"efeitos\", \"elan\", \"email\", \"emilion\", \"ephoto\", \"estilo\", \"event\", \"event\", \"event\", \"event\", \"executive\", \"export\", \"eye\", \"eye\", \"eyeliner\", \"facebook\", \"facebook\", \"fan\", \"fan\", \"fanart\", \"fash\", \"fashion\", \"fashion\", \"fashion\", \"fashion\", \"father\", \"fatty\", \"file\", \"fitness\", \"follow\", \"follow\", \"food\", \"foodie\", \"forget\", \"forget\", \"formula\", \"foto\", \"franais\", \"friend\", \"friend\", \"friend\", \"friendship\", \"fuente\", \"gallery\", \"gift\", \"gift\", \"gift\", \"glam\", \"glamour\", \"glan\", \"goal\", \"goal\", \"gourmand\", \"gram\", \"gram\", \"gram\", \"guest\", \"hailey\", \"hair\", \"hall\", \"hamdan\", \"hamza\", \"hardbody\", \"hate\", \"hater\", \"hater\", \"haute\", \"headshot\", \"heart\", \"hotel\", \"hotshot\", \"hour\", \"hunter\", \"idea\", \"ifbb\", \"illustration\", \"image\", \"influencer\", \"influencer\", \"innocence\", \"inspiration\", \"interview\", \"iron\", \"islam\", \"island\", \"izzo\", \"jane\", \"jane\", \"jazz\", \"join\", \"jones\", \"jordyn\", \"journey\", \"judge\", \"junkie\", \"juror\", \"karachi\", \"katanga\", \"kente\", \"keywords\", \"khan\", \"kid\", \"kitchen\", \"kitchen\", \"klein\", \"launch\", \"laura\", \"league\", \"level\", \"life\", \"life\", \"life\", \"life\", \"lifestyle\", \"lilo\", \"lion\", \"list\", \"location\", \"location\", \"location\", \"love\", \"love\", \"love\", \"lover\", \"lover\", \"lunch\", \"luxury\", \"luxury\", \"mais\", \"maison\", \"makeup\", \"makeup\", \"maktoum\", \"malik\", \"mark\", \"masculina\", \"masterpiece\", \"maybach\", \"medium\", \"message\", \"miami\", \"michael\", \"mika\", \"millionaire\", \"mistake\", \"moda\", \"model\", \"model\", \"model\", \"molecule\", \"mood\", \"morning\", \"motd\", \"mother\", \"motivation\", \"movie\", \"mufti\", \"mumbai\", \"music\", \"music\", \"music\", \"nation\", \"nation\", \"nature\", \"navman\", \"neha\", \"news\", \"notification\", \"november\", \"number\", \"ouvert\", \"palazzo\", \"paris\", \"party\", \"pastry\", \"patisserie\", \"pentru\", \"people\", \"people\", \"people\", \"people\", \"performance\", \"phrase\", \"pic\", \"picture\", \"picture\", \"pique\", \"place\", \"play\", \"play\", \"playboy\", \"point\", \"point\", \"porn\", \"portelli\", \"portrait\", \"post\", \"post\", \"post\", \"power\", \"power\", \"power\", \"prep\", \"press\", \"prince\", \"print\", \"print\", \"privacy\", \"prix\", \"producer\", \"producer\", \"punjabi\", \"pure\", \"quaranta\", \"queen\", \"queen\", \"queen\", \"quote\", \"religion\", \"remorse\", \"remy\", \"request\", \"resolution\", \"restocks\", \"rise\", \"rite\", \"rlim\", \"roman\", \"room\", \"rosehip\", \"runway\", \"sage\", \"saint\", \"saint\", \"scholar\", \"season\", \"sector\", \"seed\", \"session\", \"shake\", \"share\", \"shine\", \"shoot\", \"shoot\", \"shoot\", \"shoot\", \"shopper\", \"shot\", \"singer\", \"sister\", \"sketch\", \"skin\", \"skin\", \"sneak\", \"song\", \"song\", \"song\", \"soul\", \"soul\", \"spot\", \"spot\", \"statement\", \"statement\", \"stitch\", \"story\", \"story\", \"story\", \"story\", \"street\", \"style\", \"style\", \"style\", \"stylist\", \"success\", \"summer\", \"surreal\", \"sweet\", \"swift\", \"talk\", \"talk\", \"talk\", \"tarte\", \"tasty\", \"taupe\", \"taylor\", \"teddy\", \"temple\", \"term\", \"text\", \"thing\", \"thing\", \"thing\", \"thought\", \"thug\", \"time\", \"time\", \"time\", \"time\", \"tipo\", \"today\", \"today\", \"today\", \"today\", \"today\", \"today\", \"tomorrow\", \"toscano\", \"tourisme\", \"track\", \"train\", \"trend\", \"trend\", \"trend\", \"trial\", \"trisha\", \"tweet\", \"twitter\", \"twitter\", \"twitter\", \"vacuum\", \"valentino\", \"velvet\", \"venom\", \"venue\", \"video\", \"video\", \"video\", \"video\", \"vids\", \"vitamin\", \"wedding\", \"wedding\", \"week\", \"week\", \"wendy\", \"wilson\", \"wine\", \"winter\", \"woman\", \"woman\", \"woman\", \"word\", \"work\", \"work\", \"work\", \"work\", \"writer\", \"year\", \"year\", \"year\", \"youtube\", \"yummy\"]}, \"R\": 30, \"lambda.step\": 0.01, \"plot.opts\": {\"xlab\": \"PC1\", \"ylab\": \"PC2\"}, \"topic.order\": [4, 3, 2, 1, 9, 6, 7, 10, 5, 8]};\n",
       "\n",
       "function LDAvis_load_lib(url, callback){\n",
       "  var s = document.createElement('script');\n",
       "  s.src = url;\n",
       "  s.async = true;\n",
       "  s.onreadystatechange = s.onload = callback;\n",
       "  s.onerror = function(){console.warn(\"failed to load library \" + url);};\n",
       "  document.getElementsByTagName(\"head\")[0].appendChild(s);\n",
       "}\n",
       "\n",
       "if(typeof(LDAvis) !== \"undefined\"){\n",
       "   // already loaded: just create the visualization\n",
       "   !function(LDAvis){\n",
       "       new LDAvis(\"#\" + \"ldavis_el91443122835588296682626754\", ldavis_el91443122835588296682626754_data);\n",
       "   }(LDAvis);\n",
       "}else if(typeof define === \"function\" && define.amd){\n",
       "   // require.js is available: use it to load d3/LDAvis\n",
       "   require.config({paths: {d3: \"https://cdnjs.cloudflare.com/ajax/libs/d3/3.5.5/d3.min\"}});\n",
       "   require([\"d3\"], function(d3){\n",
       "      window.d3 = d3;\n",
       "      LDAvis_load_lib(\"https://cdn.rawgit.com/bmabey/pyLDAvis/files/ldavis.v1.0.0.js\", function(){\n",
       "        new LDAvis(\"#\" + \"ldavis_el91443122835588296682626754\", ldavis_el91443122835588296682626754_data);\n",
       "      });\n",
       "    });\n",
       "}else{\n",
       "    // require.js not available: dynamically load d3 & LDAvis\n",
       "    LDAvis_load_lib(\"https://cdnjs.cloudflare.com/ajax/libs/d3/3.5.5/d3.min.js\", function(){\n",
       "         LDAvis_load_lib(\"https://cdn.rawgit.com/bmabey/pyLDAvis/files/ldavis.v1.0.0.js\", function(){\n",
       "                 new LDAvis(\"#\" + \"ldavis_el91443122835588296682626754\", ldavis_el91443122835588296682626754_data);\n",
       "            })\n",
       "         });\n",
       "}\n",
       "</script>"
      ],
      "text/plain": [
       "PreparedData(topic_coordinates=              x         y  topics  cluster       Freq\n",
       "topic                                                \n",
       "3      0.169004 -0.055607       1        1  15.615679\n",
       "2      0.091428 -0.023737       2        1  13.195555\n",
       "1      0.052334  0.040769       3        1  13.024832\n",
       "0     -0.064025  0.115366       4        1  12.425781\n",
       "8     -0.124447 -0.159760       5        1  10.939665\n",
       "5     -0.035261  0.036831       6        1   9.122237\n",
       "6     -0.034758  0.034832       7        1   8.914056\n",
       "9     -0.026776  0.024879       8        1   7.504506\n",
       "4     -0.004475 -0.010667       9        1   5.084696\n",
       "7     -0.023024 -0.002905      10        1   4.172994, topic_info=         Term       Freq      Total Category  logprob  loglift\n",
       "14       food  32.000000  32.000000  Default  30.0000  30.0000\n",
       "29     beauty  16.000000  16.000000  Default  29.0000  29.0000\n",
       "467     style  23.000000  23.000000  Default  28.0000  28.0000\n",
       "103     model  23.000000  23.000000  Default  27.0000  27.0000\n",
       "50    fashion  32.000000  32.000000  Default  26.0000  26.0000\n",
       "...       ...        ...        ...      ...      ...      ...\n",
       "6       event   0.783196  17.393684  Topic10  -5.0904   0.0761\n",
       "5063    niece   0.269049   0.451343  Topic10  -6.1589   2.6592\n",
       "474     vogue   0.269049   0.451351  Topic10  -6.1589   2.6592\n",
       "1580     foto   0.269164   1.009075  Topic10  -6.1585   1.8551\n",
       "746     paris   0.269049   2.341492  Topic10  -6.1589   1.0129\n",
       "\n",
       "[470 rows x 6 columns], token_table=      Topic      Freq         Term\n",
       "term                              \n",
       "1037      2  0.934909    accessory\n",
       "220       7  0.446259      account\n",
       "220       8  0.446259      account\n",
       "7347      7  0.957413  achievement\n",
       "1146      4  0.807543         acid\n",
       "...     ...       ...          ...\n",
       "218       6  0.673549         year\n",
       "218       7  0.134710         year\n",
       "218       8  0.134710         year\n",
       "1131      7  0.957353      youtube\n",
       "92        5  0.899431        yummy\n",
       "\n",
       "[469 rows x 3 columns], R=30, lambda_step=0.01, plot_opts={'xlab': 'PC1', 'ylab': 'PC2'}, topic_order=[4, 3, 2, 1, 9, 6, 7, 10, 5, 8])"
      ]
     },
     "execution_count": 18,
     "metadata": {},
     "output_type": "execute_result"
    }
   ],
   "source": [
    "# Visualize the topics\n",
    "pyLDAvis.enable_notebook()\n",
    "vis = pyLDAvis.gensim.prepare(lda_model, corpus, id2word)\n",
    "vis"
   ]
  },
  {
   "cell_type": "markdown",
   "metadata": {},
   "source": [
    "### Save document-topic matrix (most significant topic per document)  \n",
    "https://github.com/Sim-Xuesi/content-based_movie_recommender/blob/master/Content%20Based%20Recommender%20System%20with%20LDA%20%26%20Cosine.ipynb  \n",
    "https://medium.com/@nicoleeesim97/building-a-simple-content-based-recommender-system-for-movies-and-tv-shows-73fec4f325ae  "
   ]
  },
  {
   "cell_type": "code",
   "execution_count": 19,
   "metadata": {},
   "outputs": [
    {
     "name": "stderr",
     "output_type": "stream",
     "text": [
      "C:\\Users\\minio\\anaconda3\\envs\\tfm-py-37\\lib\\site-packages\\ipykernel\\ipkernel.py:287: DeprecationWarning: `should_run_async` will not call `transform_cell` automatically in the future. Please pass the result to `transformed_cell` argument and any exception that happen during thetransform in `preprocessing_exc_tuple` in IPython 7.17 and above.\n",
      "  and should_run_async(code)\n"
     ]
    },
    {
     "name": "stdout",
     "output_type": "stream",
     "text": [
      "      Document  Topic  Probability\n",
      "0        40793      2     0.578717\n",
      "1        53507      8     0.944491\n",
      "2        37150      5     0.678190\n",
      "3        36795      0     0.840047\n",
      "4        47368      7     0.727736\n",
      "...        ...    ...          ...\n",
      "3935      8023      4     0.949409\n",
      "3936     21830      0     0.203498\n",
      "3937     53506      8     0.952849\n",
      "3938     23166      1     0.717491\n",
      "3939      9311      9     0.810473\n",
      "\n",
      "[3940 rows x 3 columns]\n"
     ]
    }
   ],
   "source": [
    "def Sort_Tuple(tup):  \n",
    "    return(sorted(tup, key = lambda x: x[1], reverse = True))\n",
    "\n",
    "doc_num, topic_num, prob = [], [], []\n",
    "\n",
    "document_topic_matrix = documents\n",
    "\n",
    "for n in range(len(documents)):\n",
    "    get_document_topics = lda_model.get_document_topics(corpus_total[n], minimum_probability=0)\n",
    "    doc_num.append(documents.index[n])\n",
    "    sorted_doc_topics = Sort_Tuple(get_document_topics)\n",
    "    topic_num.append(sorted_doc_topics[0][0])\n",
    "    prob.append(sorted_doc_topics[0][1])\n",
    "    \n",
    "data = {'Document': doc_num\n",
    "        ,'Topic': topic_num\n",
    "        ,'Probability': prob}\n",
    "df = pd.DataFrame(data) \n",
    "df.to_csv(file_model + '_document_topic_matrix.csv', index=False)\n",
    "print(df)"
   ]
  },
  {
   "cell_type": "markdown",
   "metadata": {},
   "source": [
    "### Save document-topic matrix (all topic's probability per document)  \n",
    "https://github.com/Sim-Xuesi/content-based_movie_recommender/blob/master/Content%20Based%20Recommender%20System%20with%20LDA%20%26%20Cosine.ipynb  \n",
    "https://medium.com/@nicoleeesim97/building-a-simple-content-based-recommender-system-for-movies-and-tv-shows-73fec4f325ae  "
   ]
  },
  {
   "cell_type": "code",
   "execution_count": 20,
   "metadata": {},
   "outputs": [
    {
     "name": "stderr",
     "output_type": "stream",
     "text": [
      "C:\\Users\\minio\\anaconda3\\envs\\tfm-py-37\\lib\\site-packages\\ipykernel\\ipkernel.py:287: DeprecationWarning: `should_run_async` will not call `transform_cell` automatically in the future. Please pass the result to `transformed_cell` argument and any exception that happen during thetransform in `preprocessing_exc_tuple` in IPython 7.17 and above.\n",
      "  and should_run_async(code)\n"
     ]
    },
    {
     "name": "stdout",
     "output_type": "stream",
     "text": [
      "      Document    Topic0    Topic1    Topic2    Topic3    Topic4    Topic5  \\\n",
      "0        40793  0.013687  0.213197  0.578719  0.006970  0.005996  0.005261   \n",
      "1        53507  0.012018  0.009107  0.007338  0.006146  0.005288  0.004640   \n",
      "2        37150  0.029578  0.211811  0.017867  0.014950  0.012860  0.677994   \n",
      "3        36795  0.840047  0.031182  0.025033  0.020949  0.018021  0.015811   \n",
      "4        47368  0.012870  0.009700  0.007809  0.006536  0.219186  0.004934   \n",
      "...        ...       ...       ...       ...       ...       ...       ...   \n",
      "3935      8023  0.011308  0.008608  0.006929  0.005803  0.949409  0.004380   \n",
      "3936     21830  0.203498  0.154607  0.124657  0.104428  0.089848  0.078840   \n",
      "3937     53506  0.010197  0.007735  0.006235  0.005223  0.004493  0.003943   \n",
      "3938     23166  0.068501  0.717526  0.041555  0.034811  0.029950  0.026281   \n",
      "3939      9311  0.040726  0.030976  0.024953  0.020887  0.017971  0.015769   \n",
      "\n",
      "        Topic6    Topic7    Topic8    Topic9  \n",
      "0     0.164565  0.004226  0.003847  0.003531  \n",
      "1     0.004133  0.003727  0.944491  0.003114  \n",
      "2     0.010052  0.009063  0.008251  0.007573  \n",
      "3     0.014085  0.012699  0.011561  0.010611  \n",
      "4     0.004395  0.727653  0.003608  0.003311  \n",
      "...        ...       ...       ...       ...  \n",
      "3935  0.003902  0.003518  0.003203  0.002940  \n",
      "3936  0.070235  0.063324  0.057651  0.052911  \n",
      "3937  0.003512  0.003167  0.952849  0.002646  \n",
      "3938  0.023413  0.021109  0.019218  0.017638  \n",
      "3939  0.014048  0.012666  0.011531  0.810473  \n",
      "\n",
      "[3940 rows x 11 columns]\n"
     ]
    }
   ],
   "source": [
    "doc_num = []\n",
    "prob0, prob1, prob2, prob3, prob4, prob5, prob6, prob7, prob8, prob9 = ([] for i in range(num_topics))\n",
    "\n",
    "document_topic_matrix = documents\n",
    "\n",
    "for n in range(len(documents)):\n",
    "    get_document_topics = lda_model.get_document_topics(corpus_total[n], minimum_probability=0)\n",
    "    doc_num.append(documents.index[n])\n",
    "    prob0.append(get_document_topics[0][1])\n",
    "    prob1.append(get_document_topics[1][1])\n",
    "    prob2.append(get_document_topics[2][1])\n",
    "    prob3.append(get_document_topics[3][1])\n",
    "    prob4.append(get_document_topics[4][1])\n",
    "    prob5.append(get_document_topics[5][1])\n",
    "    prob6.append(get_document_topics[6][1])\n",
    "    prob7.append(get_document_topics[7][1])\n",
    "    prob8.append(get_document_topics[8][1])\n",
    "    prob9.append(get_document_topics[9][1])\n",
    "    \n",
    "data = {'Document': doc_num\n",
    "        ,'Topic0': prob0\n",
    "        ,'Topic1': prob1\n",
    "        ,'Topic2': prob2\n",
    "        ,'Topic3': prob3\n",
    "        ,'Topic4': prob4\n",
    "        ,'Topic5': prob5\n",
    "        ,'Topic6': prob6\n",
    "        ,'Topic7': prob7\n",
    "        ,'Topic8': prob8\n",
    "        ,'Topic9': prob9}\n",
    "\n",
    "df = pd.DataFrame(data) \n",
    "df.to_csv(file_model + '_document_topic_matrix_full.csv', index=False)\n",
    "print(df)"
   ]
  },
  {
   "cell_type": "markdown",
   "metadata": {},
   "source": [
    "### Save topic-term matrix"
   ]
  },
  {
   "cell_type": "code",
   "execution_count": 21,
   "metadata": {},
   "outputs": [
    {
     "name": "stderr",
     "output_type": "stream",
     "text": [
      "C:\\Users\\minio\\anaconda3\\envs\\tfm-py-37\\lib\\site-packages\\ipykernel\\ipkernel.py:287: DeprecationWarning: `should_run_async` will not call `transform_cell` automatically in the future. Please pass the result to `transformed_cell` argument and any exception that happen during thetransform in `preprocessing_exc_tuple` in IPython 7.17 and above.\n",
      "  and should_run_async(code)\n"
     ]
    }
   ],
   "source": [
    "# get topic-term-matrix\n",
    "topic_term_matrix = lda_model.get_topics()\n",
    "# save topic-term matrix\n",
    "savetxt(file_model + '_topic_term_matrix.csv', topic_term_matrix, delimiter=',')"
   ]
  }
 ],
 "metadata": {
  "kernelspec": {
   "display_name": "Python 3",
   "language": "python",
   "name": "python3"
  },
  "language_info": {
   "codemirror_mode": {
    "name": "ipython",
    "version": 3
   },
   "file_extension": ".py",
   "mimetype": "text/x-python",
   "name": "python",
   "nbconvert_exporter": "python",
   "pygments_lexer": "ipython3",
   "version": "3.7.9"
  }
 },
 "nbformat": 4,
 "nbformat_minor": 4
}
